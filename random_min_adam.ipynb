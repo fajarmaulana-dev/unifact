{
  "nbformat": 4,
  "nbformat_minor": 0,
  "metadata": {
    "colab": {
      "provenance": [],
      "authorship_tag": "ABX9TyPyt0KW8eMYuT0hfqD2z7DV",
      "include_colab_link": true
    },
    "kernelspec": {
      "name": "python3",
      "display_name": "Python 3"
    },
    "language_info": {
      "name": "python"
    },
    "accelerator": "GPU",
    "gpuClass": "standard"
  },
  "cells": [
    {
      "cell_type": "markdown",
      "metadata": {
        "id": "view-in-github",
        "colab_type": "text"
      },
      "source": [
        "<a href=\"https://colab.research.google.com/github/felkira/unifact.github.io/blob/modeling/random_min_adam.ipynb\" target=\"_parent\"><img src=\"https://colab.research.google.com/assets/colab-badge.svg\" alt=\"Open In Colab\"/></a>"
      ]
    },
    {
      "cell_type": "code",
      "execution_count": null,
      "metadata": {
        "id": "Mq48DsyGZUVM"
      },
      "outputs": [],
      "source": [
        "# Record Each Cell's Execution Time\n",
        "!pip install keras-tcn\n",
        "!pip install ipython-autotime\n",
        "%load_ext autotime"
      ]
    },
    {
      "cell_type": "code",
      "execution_count": null,
      "metadata": {
        "colab": {
          "base_uri": "https://localhost:8080/"
        },
        "id": "dPtsepq3ZJXM",
        "outputId": "730a8115-f73d-4e33-c1bc-ec2f9ebedd71"
      },
      "outputs": [
        {
          "output_type": "stream",
          "name": "stdout",
          "text": [
            "time: 4.04 s (started: 2022-12-11 16:43:06 +00:00)\n"
          ]
        }
      ],
      "source": [
        "import numpy as np\n",
        "import pandas as pd \n",
        "import matplotlib.pyplot as plt\n",
        "import seaborn as sns\n",
        "import json, re, string, gdown, math, time\n",
        "from tcn import TCN\n",
        "from keras.layers import Input, Embedding, Dense, Dropout, SpatialDropout1D, concatenate, GlobalAveragePooling1D, GlobalMaxPooling1D, Bidirectional\n",
        "from keras.models import Model\n",
        "from tensorflow.keras.preprocessing import text, sequence\n",
        "from keras.utils import to_categorical\n",
        "from tensorflow.keras.callbacks import EarlyStopping\n",
        "from tensorflow.math import confusion_matrix as cm\n",
        "from sklearn.model_selection import train_test_split\n",
        "from sklearn.preprocessing import LabelEncoder\n",
        "from sklearn.model_selection import KFold\n",
        "from sklearn.metrics import classification_report as cr, precision_recall_fscore_support as prfs\n",
        "from collections import Counter\n",
        "from random import randint\n",
        "from google.colab import files"
      ]
    },
    {
      "cell_type": "code",
      "execution_count": null,
      "metadata": {
        "colab": {
          "base_uri": "https://localhost:8080/",
          "height": 128
        },
        "id": "I4ZEAL8CELcv",
        "outputId": "70a53723-ce5d-4101-a4ac-57fddff97e0f"
      },
      "outputs": [
        {
          "output_type": "stream",
          "name": "stderr",
          "text": [
            "Downloading...\n",
            "From: https://drive.google.com/u/0/uc?id=1p6hrwRZfgEOrHSQGPdMyZvdi3rQLHS2p&export=download\n",
            "To: /content/valid-7hoaks.csv\n",
            "100%|██████████| 2.07M/2.07M [00:00<00:00, 204MB/s]\n"
          ]
        },
        {
          "output_type": "execute_result",
          "data": {
            "text/plain": [
              "'valid-7hoaks.csv'"
            ],
            "application/vnd.google.colaboratory.intrinsic+json": {
              "type": "string"
            }
          },
          "metadata": {},
          "execution_count": 3
        },
        {
          "output_type": "stream",
          "name": "stdout",
          "text": [
            "time: 1.86 s (started: 2022-12-11 16:43:10 +00:00)\n"
          ]
        }
      ],
      "source": [
        "url = 'https://drive.google.com/u/0/uc?id=1p6hrwRZfgEOrHSQGPdMyZvdi3rQLHS2p&export=download'\n",
        "gdown.download(url, 'valid-7hoaks.csv', quiet=False)"
      ]
    },
    {
      "cell_type": "code",
      "execution_count": null,
      "metadata": {
        "colab": {
          "base_uri": "https://localhost:8080/",
          "height": 476
        },
        "id": "iCipNeVuZ8qb",
        "outputId": "799954fa-5721-4e64-a225-3a89885a40d9"
      },
      "outputs": [
        {
          "output_type": "execute_result",
          "data": {
            "text/plain": [
              "                  kategori  \\\n",
              "0  Konten Yang Menyesatkan   \n",
              "1        Konten Yang Salah   \n",
              "2  Konten Yang Menyesatkan   \n",
              "3  Konten Yang Menyesatkan   \n",
              "4  Konten Yang Menyesatkan   \n",
              "\n",
              "                                                                         judul  \\\n",
              "0  buaya meter terbesar di dunia ditemukan di danau kota maine amerika serikat   \n",
              "1       demo memprotes kecurangan hasil pemilihan umum di brazil pada november   \n",
              "2                                          warga bogor meninggal hidup kembali   \n",
              "3                                dari fauci akui vaksin tidak melindungi covid   \n",
              "4                             set top box dapat mendeteksi orang yang divaksin   \n",
              "\n",
              "      tanggal  \\\n",
              "0  26/11/2022   \n",
              "1  25/11/2022   \n",
              "2  25/11/2022   \n",
              "3  25/11/2022   \n",
              "4  25/11/2022   \n",
              "\n",
              "                                                                                                                                          narasi  \n",
              "0                                                                          buaya meter terbesar dunia ditemukan danau kota maine amerika serikat  \n",
              "1                                                                                 demo memprotes kecurangan hasil pemilihan umum brazil november  \n",
              "2                                                                                                                    warga bogor meninggal hidup  \n",
              "3                                                                                                             fauci akui vaksin melindungi covid  \n",
              "4  vaksin gratis set box punah gratis ternyata ternyata dalamnya rangkaian bluetooth low energy device membaca data orang orang yg divaksin aduh  "
            ],
            "text/html": [
              "\n",
              "  <div id=\"df-da6148d4-e0fc-4631-a45a-e0ca8b1cbb30\">\n",
              "    <div class=\"colab-df-container\">\n",
              "      <div>\n",
              "<style scoped>\n",
              "    .dataframe tbody tr th:only-of-type {\n",
              "        vertical-align: middle;\n",
              "    }\n",
              "\n",
              "    .dataframe tbody tr th {\n",
              "        vertical-align: top;\n",
              "    }\n",
              "\n",
              "    .dataframe thead th {\n",
              "        text-align: right;\n",
              "    }\n",
              "</style>\n",
              "<table border=\"1\" class=\"dataframe\">\n",
              "  <thead>\n",
              "    <tr style=\"text-align: right;\">\n",
              "      <th></th>\n",
              "      <th>kategori</th>\n",
              "      <th>judul</th>\n",
              "      <th>tanggal</th>\n",
              "      <th>narasi</th>\n",
              "    </tr>\n",
              "  </thead>\n",
              "  <tbody>\n",
              "    <tr>\n",
              "      <th>0</th>\n",
              "      <td>Konten Yang Menyesatkan</td>\n",
              "      <td>buaya meter terbesar di dunia ditemukan di danau kota maine amerika serikat</td>\n",
              "      <td>26/11/2022</td>\n",
              "      <td>buaya meter terbesar dunia ditemukan danau kota maine amerika serikat</td>\n",
              "    </tr>\n",
              "    <tr>\n",
              "      <th>1</th>\n",
              "      <td>Konten Yang Salah</td>\n",
              "      <td>demo memprotes kecurangan hasil pemilihan umum di brazil pada november</td>\n",
              "      <td>25/11/2022</td>\n",
              "      <td>demo memprotes kecurangan hasil pemilihan umum brazil november</td>\n",
              "    </tr>\n",
              "    <tr>\n",
              "      <th>2</th>\n",
              "      <td>Konten Yang Menyesatkan</td>\n",
              "      <td>warga bogor meninggal hidup kembali</td>\n",
              "      <td>25/11/2022</td>\n",
              "      <td>warga bogor meninggal hidup</td>\n",
              "    </tr>\n",
              "    <tr>\n",
              "      <th>3</th>\n",
              "      <td>Konten Yang Menyesatkan</td>\n",
              "      <td>dari fauci akui vaksin tidak melindungi covid</td>\n",
              "      <td>25/11/2022</td>\n",
              "      <td>fauci akui vaksin melindungi covid</td>\n",
              "    </tr>\n",
              "    <tr>\n",
              "      <th>4</th>\n",
              "      <td>Konten Yang Menyesatkan</td>\n",
              "      <td>set top box dapat mendeteksi orang yang divaksin</td>\n",
              "      <td>25/11/2022</td>\n",
              "      <td>vaksin gratis set box punah gratis ternyata ternyata dalamnya rangkaian bluetooth low energy device membaca data orang orang yg divaksin aduh</td>\n",
              "    </tr>\n",
              "  </tbody>\n",
              "</table>\n",
              "</div>\n",
              "      <button class=\"colab-df-convert\" onclick=\"convertToInteractive('df-da6148d4-e0fc-4631-a45a-e0ca8b1cbb30')\"\n",
              "              title=\"Convert this dataframe to an interactive table.\"\n",
              "              style=\"display:none;\">\n",
              "        \n",
              "  <svg xmlns=\"http://www.w3.org/2000/svg\" height=\"24px\"viewBox=\"0 0 24 24\"\n",
              "       width=\"24px\">\n",
              "    <path d=\"M0 0h24v24H0V0z\" fill=\"none\"/>\n",
              "    <path d=\"M18.56 5.44l.94 2.06.94-2.06 2.06-.94-2.06-.94-.94-2.06-.94 2.06-2.06.94zm-11 1L8.5 8.5l.94-2.06 2.06-.94-2.06-.94L8.5 2.5l-.94 2.06-2.06.94zm10 10l.94 2.06.94-2.06 2.06-.94-2.06-.94-.94-2.06-.94 2.06-2.06.94z\"/><path d=\"M17.41 7.96l-1.37-1.37c-.4-.4-.92-.59-1.43-.59-.52 0-1.04.2-1.43.59L10.3 9.45l-7.72 7.72c-.78.78-.78 2.05 0 2.83L4 21.41c.39.39.9.59 1.41.59.51 0 1.02-.2 1.41-.59l7.78-7.78 2.81-2.81c.8-.78.8-2.07 0-2.86zM5.41 20L4 18.59l7.72-7.72 1.47 1.35L5.41 20z\"/>\n",
              "  </svg>\n",
              "      </button>\n",
              "      \n",
              "  <style>\n",
              "    .colab-df-container {\n",
              "      display:flex;\n",
              "      flex-wrap:wrap;\n",
              "      gap: 12px;\n",
              "    }\n",
              "\n",
              "    .colab-df-convert {\n",
              "      background-color: #E8F0FE;\n",
              "      border: none;\n",
              "      border-radius: 50%;\n",
              "      cursor: pointer;\n",
              "      display: none;\n",
              "      fill: #1967D2;\n",
              "      height: 32px;\n",
              "      padding: 0 0 0 0;\n",
              "      width: 32px;\n",
              "    }\n",
              "\n",
              "    .colab-df-convert:hover {\n",
              "      background-color: #E2EBFA;\n",
              "      box-shadow: 0px 1px 2px rgba(60, 64, 67, 0.3), 0px 1px 3px 1px rgba(60, 64, 67, 0.15);\n",
              "      fill: #174EA6;\n",
              "    }\n",
              "\n",
              "    [theme=dark] .colab-df-convert {\n",
              "      background-color: #3B4455;\n",
              "      fill: #D2E3FC;\n",
              "    }\n",
              "\n",
              "    [theme=dark] .colab-df-convert:hover {\n",
              "      background-color: #434B5C;\n",
              "      box-shadow: 0px 1px 3px 1px rgba(0, 0, 0, 0.15);\n",
              "      filter: drop-shadow(0px 1px 2px rgba(0, 0, 0, 0.3));\n",
              "      fill: #FFFFFF;\n",
              "    }\n",
              "  </style>\n",
              "\n",
              "      <script>\n",
              "        const buttonEl =\n",
              "          document.querySelector('#df-da6148d4-e0fc-4631-a45a-e0ca8b1cbb30 button.colab-df-convert');\n",
              "        buttonEl.style.display =\n",
              "          google.colab.kernel.accessAllowed ? 'block' : 'none';\n",
              "\n",
              "        async function convertToInteractive(key) {\n",
              "          const element = document.querySelector('#df-da6148d4-e0fc-4631-a45a-e0ca8b1cbb30');\n",
              "          const dataTable =\n",
              "            await google.colab.kernel.invokeFunction('convertToInteractive',\n",
              "                                                     [key], {});\n",
              "          if (!dataTable) return;\n",
              "\n",
              "          const docLinkHtml = 'Like what you see? Visit the ' +\n",
              "            '<a target=\"_blank\" href=https://colab.research.google.com/notebooks/data_table.ipynb>data table notebook</a>'\n",
              "            + ' to learn more about interactive tables.';\n",
              "          element.innerHTML = '';\n",
              "          dataTable['output_type'] = 'display_data';\n",
              "          await google.colab.output.renderOutput(dataTable, element);\n",
              "          const docLink = document.createElement('div');\n",
              "          docLink.innerHTML = docLinkHtml;\n",
              "          element.appendChild(docLink);\n",
              "        }\n",
              "      </script>\n",
              "    </div>\n",
              "  </div>\n",
              "  "
            ]
          },
          "metadata": {},
          "execution_count": 4
        },
        {
          "output_type": "stream",
          "name": "stdout",
          "text": [
            "time: 53.8 ms (started: 2022-12-11 16:43:12 +00:00)\n"
          ]
        }
      ],
      "source": [
        "main_data = pd.read_csv('/content/valid-7hoaks.csv')\n",
        "pd.set_option('max_colwidth', 400)\n",
        "main_data.head()"
      ]
    },
    {
      "cell_type": "code",
      "execution_count": null,
      "metadata": {
        "colab": {
          "base_uri": "https://localhost:8080/"
        },
        "id": "sSOTr3p4aIfB",
        "outputId": "c96dc5ce-b9cf-4490-ec92-863aaad8915a"
      },
      "outputs": [
        {
          "output_type": "stream",
          "name": "stdout",
          "text": [
            "Shape of data (rows, cols)=> (7530, 4)\n",
            "time: 2.86 ms (started: 2022-12-11 16:43:12 +00:00)\n"
          ]
        }
      ],
      "source": [
        "print(\"Shape of data (rows, cols)=>\", main_data.shape)"
      ]
    },
    {
      "cell_type": "code",
      "execution_count": null,
      "metadata": {
        "colab": {
          "base_uri": "https://localhost:8080/"
        },
        "id": "_5XQg4wUkTqv",
        "outputId": "c5572341-5f8b-46d7-a6ee-c9bad8419250"
      },
      "outputs": [
        {
          "output_type": "execute_result",
          "data": {
            "text/plain": [
              "kategori    0\n",
              "judul       0\n",
              "tanggal     0\n",
              "narasi      0\n",
              "dtype: int64"
            ]
          },
          "metadata": {},
          "execution_count": 6
        },
        {
          "output_type": "stream",
          "name": "stdout",
          "text": [
            "time: 6.79 ms (started: 2022-12-11 16:43:12 +00:00)\n"
          ]
        }
      ],
      "source": [
        "main_data.isnull().sum()"
      ]
    },
    {
      "cell_type": "code",
      "execution_count": null,
      "metadata": {
        "colab": {
          "base_uri": "https://localhost:8080/",
          "height": 254
        },
        "id": "LaY1lfhOauVe",
        "outputId": "13826d46-cb2b-4893-8625-243093bd7cc0"
      },
      "outputs": [
        {
          "output_type": "execute_result",
          "data": {
            "text/plain": [
              "       kategori  \\\n",
              "count      7530   \n",
              "unique        8   \n",
              "top       Valid   \n",
              "freq       2350   \n",
              "\n",
              "                                                                              judul  \\\n",
              "count                                                                          7530   \n",
              "unique                                                                         7530   \n",
              "top     buaya meter terbesar di dunia ditemukan di danau kota maine amerika serikat   \n",
              "freq                                                                              1   \n",
              "\n",
              "           tanggal                                  narasi  \n",
              "count         7530                                    7530  \n",
              "unique        1317                                    7528  \n",
              "top     17/10/2022  foto badai petir terlihat luar angkasa  \n",
              "freq            87                                       2  "
            ],
            "text/html": [
              "\n",
              "  <div id=\"df-453bf0cb-6785-45a3-828d-b2d1770556f2\">\n",
              "    <div class=\"colab-df-container\">\n",
              "      <div>\n",
              "<style scoped>\n",
              "    .dataframe tbody tr th:only-of-type {\n",
              "        vertical-align: middle;\n",
              "    }\n",
              "\n",
              "    .dataframe tbody tr th {\n",
              "        vertical-align: top;\n",
              "    }\n",
              "\n",
              "    .dataframe thead th {\n",
              "        text-align: right;\n",
              "    }\n",
              "</style>\n",
              "<table border=\"1\" class=\"dataframe\">\n",
              "  <thead>\n",
              "    <tr style=\"text-align: right;\">\n",
              "      <th></th>\n",
              "      <th>kategori</th>\n",
              "      <th>judul</th>\n",
              "      <th>tanggal</th>\n",
              "      <th>narasi</th>\n",
              "    </tr>\n",
              "  </thead>\n",
              "  <tbody>\n",
              "    <tr>\n",
              "      <th>count</th>\n",
              "      <td>7530</td>\n",
              "      <td>7530</td>\n",
              "      <td>7530</td>\n",
              "      <td>7530</td>\n",
              "    </tr>\n",
              "    <tr>\n",
              "      <th>unique</th>\n",
              "      <td>8</td>\n",
              "      <td>7530</td>\n",
              "      <td>1317</td>\n",
              "      <td>7528</td>\n",
              "    </tr>\n",
              "    <tr>\n",
              "      <th>top</th>\n",
              "      <td>Valid</td>\n",
              "      <td>buaya meter terbesar di dunia ditemukan di danau kota maine amerika serikat</td>\n",
              "      <td>17/10/2022</td>\n",
              "      <td>foto badai petir terlihat luar angkasa</td>\n",
              "    </tr>\n",
              "    <tr>\n",
              "      <th>freq</th>\n",
              "      <td>2350</td>\n",
              "      <td>1</td>\n",
              "      <td>87</td>\n",
              "      <td>2</td>\n",
              "    </tr>\n",
              "  </tbody>\n",
              "</table>\n",
              "</div>\n",
              "      <button class=\"colab-df-convert\" onclick=\"convertToInteractive('df-453bf0cb-6785-45a3-828d-b2d1770556f2')\"\n",
              "              title=\"Convert this dataframe to an interactive table.\"\n",
              "              style=\"display:none;\">\n",
              "        \n",
              "  <svg xmlns=\"http://www.w3.org/2000/svg\" height=\"24px\"viewBox=\"0 0 24 24\"\n",
              "       width=\"24px\">\n",
              "    <path d=\"M0 0h24v24H0V0z\" fill=\"none\"/>\n",
              "    <path d=\"M18.56 5.44l.94 2.06.94-2.06 2.06-.94-2.06-.94-.94-2.06-.94 2.06-2.06.94zm-11 1L8.5 8.5l.94-2.06 2.06-.94-2.06-.94L8.5 2.5l-.94 2.06-2.06.94zm10 10l.94 2.06.94-2.06 2.06-.94-2.06-.94-.94-2.06-.94 2.06-2.06.94z\"/><path d=\"M17.41 7.96l-1.37-1.37c-.4-.4-.92-.59-1.43-.59-.52 0-1.04.2-1.43.59L10.3 9.45l-7.72 7.72c-.78.78-.78 2.05 0 2.83L4 21.41c.39.39.9.59 1.41.59.51 0 1.02-.2 1.41-.59l7.78-7.78 2.81-2.81c.8-.78.8-2.07 0-2.86zM5.41 20L4 18.59l7.72-7.72 1.47 1.35L5.41 20z\"/>\n",
              "  </svg>\n",
              "      </button>\n",
              "      \n",
              "  <style>\n",
              "    .colab-df-container {\n",
              "      display:flex;\n",
              "      flex-wrap:wrap;\n",
              "      gap: 12px;\n",
              "    }\n",
              "\n",
              "    .colab-df-convert {\n",
              "      background-color: #E8F0FE;\n",
              "      border: none;\n",
              "      border-radius: 50%;\n",
              "      cursor: pointer;\n",
              "      display: none;\n",
              "      fill: #1967D2;\n",
              "      height: 32px;\n",
              "      padding: 0 0 0 0;\n",
              "      width: 32px;\n",
              "    }\n",
              "\n",
              "    .colab-df-convert:hover {\n",
              "      background-color: #E2EBFA;\n",
              "      box-shadow: 0px 1px 2px rgba(60, 64, 67, 0.3), 0px 1px 3px 1px rgba(60, 64, 67, 0.15);\n",
              "      fill: #174EA6;\n",
              "    }\n",
              "\n",
              "    [theme=dark] .colab-df-convert {\n",
              "      background-color: #3B4455;\n",
              "      fill: #D2E3FC;\n",
              "    }\n",
              "\n",
              "    [theme=dark] .colab-df-convert:hover {\n",
              "      background-color: #434B5C;\n",
              "      box-shadow: 0px 1px 3px 1px rgba(0, 0, 0, 0.15);\n",
              "      filter: drop-shadow(0px 1px 2px rgba(0, 0, 0, 0.3));\n",
              "      fill: #FFFFFF;\n",
              "    }\n",
              "  </style>\n",
              "\n",
              "      <script>\n",
              "        const buttonEl =\n",
              "          document.querySelector('#df-453bf0cb-6785-45a3-828d-b2d1770556f2 button.colab-df-convert');\n",
              "        buttonEl.style.display =\n",
              "          google.colab.kernel.accessAllowed ? 'block' : 'none';\n",
              "\n",
              "        async function convertToInteractive(key) {\n",
              "          const element = document.querySelector('#df-453bf0cb-6785-45a3-828d-b2d1770556f2');\n",
              "          const dataTable =\n",
              "            await google.colab.kernel.invokeFunction('convertToInteractive',\n",
              "                                                     [key], {});\n",
              "          if (!dataTable) return;\n",
              "\n",
              "          const docLinkHtml = 'Like what you see? Visit the ' +\n",
              "            '<a target=\"_blank\" href=https://colab.research.google.com/notebooks/data_table.ipynb>data table notebook</a>'\n",
              "            + ' to learn more about interactive tables.';\n",
              "          element.innerHTML = '';\n",
              "          dataTable['output_type'] = 'display_data';\n",
              "          await google.colab.output.renderOutput(dataTable, element);\n",
              "          const docLink = document.createElement('div');\n",
              "          docLink.innerHTML = docLinkHtml;\n",
              "          element.appendChild(docLink);\n",
              "        }\n",
              "      </script>\n",
              "    </div>\n",
              "  </div>\n",
              "  "
            ]
          },
          "metadata": {},
          "execution_count": 7
        },
        {
          "output_type": "stream",
          "name": "stdout",
          "text": [
            "time: 25.6 ms (started: 2022-12-11 16:43:12 +00:00)\n"
          ]
        }
      ],
      "source": [
        "main_data.describe(include='all')"
      ]
    },
    {
      "cell_type": "code",
      "execution_count": null,
      "metadata": {
        "colab": {
          "base_uri": "https://localhost:8080/"
        },
        "id": "jamSe8DbazRI",
        "outputId": "c4ffb1c9-3627-4f85-8ca6-737492215945"
      },
      "outputs": [
        {
          "output_type": "execute_result",
          "data": {
            "text/plain": [
              "False    7528\n",
              "True        2\n",
              "Name: narasi, dtype: int64"
            ]
          },
          "metadata": {},
          "execution_count": 8
        },
        {
          "output_type": "stream",
          "name": "stdout",
          "text": [
            "time: 6.14 ms (started: 2022-12-11 16:43:12 +00:00)\n"
          ]
        }
      ],
      "source": [
        "main_data.narasi.duplicated(keep=\"first\").value_counts()"
      ]
    },
    {
      "cell_type": "code",
      "execution_count": null,
      "metadata": {
        "colab": {
          "base_uri": "https://localhost:8080/"
        },
        "id": "UFqYW38ha7rA",
        "outputId": "84c2d5a5-d54e-4515-cdf3-a4d5cc6c87f2"
      },
      "outputs": [
        {
          "output_type": "execute_result",
          "data": {
            "text/plain": [
              "False    7528\n",
              "Name: narasi, dtype: int64"
            ]
          },
          "metadata": {},
          "execution_count": 9
        },
        {
          "output_type": "stream",
          "name": "stdout",
          "text": [
            "time: 17.1 ms (started: 2022-12-11 16:43:12 +00:00)\n"
          ]
        }
      ],
      "source": [
        "main_data.drop_duplicates(subset=\"narasi\", keep=\"first\", inplace=True)\n",
        "main_data.reset_index(drop=True, inplace=True)\n",
        "main_data.narasi.duplicated(keep=\"first\").value_counts()"
      ]
    },
    {
      "cell_type": "code",
      "execution_count": null,
      "metadata": {
        "colab": {
          "base_uri": "https://localhost:8080/"
        },
        "id": "l8CaqT5bbGcO",
        "outputId": "7b2f6bdf-8f9a-4ab8-b731-33eb6909bc0e"
      },
      "outputs": [
        {
          "output_type": "stream",
          "name": "stdout",
          "text": [
            "Categories:\n",
            " ['Konten Yang Menyesatkan' 'Konten Yang Salah' 'Satire/Parodi'\n",
            " 'Konten Palsu' 'Konten Yang Dimanipulasi' 'Konten Tiruan'\n",
            " 'Koneksi Yang Salah' 'Valid']\n",
            "time: 1.48 ms (started: 2022-12-11 16:43:12 +00:00)\n"
          ]
        }
      ],
      "source": [
        "categories = main_data.kategori.unique()\n",
        "print(\"Categories:\\n\", categories)"
      ]
    },
    {
      "cell_type": "code",
      "execution_count": null,
      "metadata": {
        "colab": {
          "base_uri": "https://localhost:8080/"
        },
        "id": "bFeg5EXhY27p",
        "outputId": "e6fb0dd3-50ab-40e6-c965-ba4830c3b629"
      },
      "outputs": [
        {
          "output_type": "execute_result",
          "data": {
            "text/plain": [
              "Valid                       2349\n",
              "Konten Yang Menyesatkan     1882\n",
              "Konten Yang Salah           1313\n",
              "Konten Palsu                 768\n",
              "Konten Yang Dimanipulasi     643\n",
              "Konten Tiruan                360\n",
              "Satire/Parodi                125\n",
              "Koneksi Yang Salah            88\n",
              "Name: kategori, dtype: int64"
            ]
          },
          "metadata": {},
          "execution_count": 11
        },
        {
          "output_type": "stream",
          "name": "stdout",
          "text": [
            "time: 5.37 ms (started: 2022-12-11 16:43:12 +00:00)\n"
          ]
        }
      ],
      "source": [
        "main_data.kategori.value_counts()"
      ]
    },
    {
      "cell_type": "code",
      "execution_count": null,
      "metadata": {
        "colab": {
          "base_uri": "https://localhost:8080/"
        },
        "id": "ro4nIgg9H7Sg",
        "outputId": "95deb119-fbca-4736-ea22-a9060d4c49a6"
      },
      "outputs": [
        {
          "output_type": "execute_result",
          "data": {
            "text/plain": [
              "Misleading Content/False Context/Manipulated Content    3838\n",
              "Valid                                                   2349\n",
              "Fabricated Content/Imposter Content                     1128\n",
              "Name: kategori, dtype: int64"
            ]
          },
          "metadata": {},
          "execution_count": 12
        },
        {
          "output_type": "stream",
          "name": "stdout",
          "text": [
            "time: 17 ms (started: 2022-12-11 16:43:12 +00:00)\n"
          ]
        }
      ],
      "source": [
        "main_data.loc[main_data['kategori'] == 'Konten Yang Salah', 'kategori'] = 'Misleading Content/False Context/Manipulated Content'\n",
        "main_data.loc[main_data['kategori'] == 'Konten Yang Menyesatkan', 'kategori'] = 'Misleading Content/False Context/Manipulated Content'\n",
        "main_data.loc[main_data['kategori'] == 'Konten Yang Dimanipulasi', 'kategori'] = 'Misleading Content/False Context/Manipulated Content'\n",
        "\n",
        "main_data.loc[main_data['kategori'] == 'Konten Palsu', 'kategori'] = 'Fabricated Content/Imposter Content'\n",
        "main_data.loc[main_data['kategori'] == 'Konten Tiruan', 'kategori'] = 'Fabricated Content/Imposter Content'\n",
        "\n",
        "main_data = main_data[main_data['kategori'] != 'Koneksi Yang Salah']\n",
        "main_data = main_data[main_data['kategori'] != 'Satire/Parodi']\n",
        "\n",
        "main_data.reset_index(drop=True, inplace=True)\n",
        "main_data.kategori.value_counts()"
      ]
    },
    {
      "cell_type": "code",
      "source": [
        "XVal, YVal = list(main_data['narasi']), list(main_data['kategori'])"
      ],
      "metadata": {
        "id": "i7xGca_YyJAQ",
        "colab": {
          "base_uri": "https://localhost:8080/"
        },
        "outputId": "ad041d8f-1c93-4e28-a310-a9d774219bd5"
      },
      "execution_count": null,
      "outputs": [
        {
          "output_type": "stream",
          "name": "stdout",
          "text": [
            "time: 1.38 ms (started: 2022-12-11 16:43:12 +00:00)\n"
          ]
        }
      ]
    },
    {
      "cell_type": "code",
      "source": [
        "data = main_data"
      ],
      "metadata": {
        "id": "5h0preQLxHzu",
        "colab": {
          "base_uri": "https://localhost:8080/"
        },
        "outputId": "f2782073-6fe5-45c8-8fc2-bc5e90af9b96"
      },
      "execution_count": null,
      "outputs": [
        {
          "output_type": "stream",
          "name": "stdout",
          "text": [
            "time: 286 µs (started: 2022-12-11 16:43:12 +00:00)\n"
          ]
        }
      ]
    },
    {
      "cell_type": "code",
      "execution_count": null,
      "metadata": {
        "colab": {
          "base_uri": "https://localhost:8080/"
        },
        "id": "cXgYsVRmcfCG",
        "outputId": "122cad0f-defd-4285-ccc9-232497030052"
      },
      "outputs": [
        {
          "output_type": "stream",
          "name": "stdout",
          "text": [
            "time: 12.6 ms (started: 2022-12-11 16:43:12 +00:00)\n"
          ]
        }
      ],
      "source": [
        "data['words'] = [len(x.split()) for x in data['narasi'].tolist()]"
      ]
    },
    {
      "cell_type": "code",
      "execution_count": null,
      "metadata": {
        "colab": {
          "base_uri": "https://localhost:8080/",
          "height": 286
        },
        "id": "iDPyzOoYcolt",
        "outputId": "1807d5b2-cfaa-416d-a4e2-b22021fcb37e"
      },
      "outputs": [
        {
          "output_type": "execute_result",
          "data": {
            "text/plain": [
              "   words  \\\n",
              "0     10   \n",
              "1      8   \n",
              "2      4   \n",
              "3      5   \n",
              "4     21   \n",
              "\n",
              "                                                                                                                                          narasi  \n",
              "0                                                                          buaya meter terbesar dunia ditemukan danau kota maine amerika serikat  \n",
              "1                                                                                 demo memprotes kecurangan hasil pemilihan umum brazil november  \n",
              "2                                                                                                                    warga bogor meninggal hidup  \n",
              "3                                                                                                             fauci akui vaksin melindungi covid  \n",
              "4  vaksin gratis set box punah gratis ternyata ternyata dalamnya rangkaian bluetooth low energy device membaca data orang orang yg divaksin aduh  "
            ],
            "text/html": [
              "\n",
              "  <div id=\"df-8c1dbd3b-8e46-4b67-b9e5-ada7b0dade3a\">\n",
              "    <div class=\"colab-df-container\">\n",
              "      <div>\n",
              "<style scoped>\n",
              "    .dataframe tbody tr th:only-of-type {\n",
              "        vertical-align: middle;\n",
              "    }\n",
              "\n",
              "    .dataframe tbody tr th {\n",
              "        vertical-align: top;\n",
              "    }\n",
              "\n",
              "    .dataframe thead th {\n",
              "        text-align: right;\n",
              "    }\n",
              "</style>\n",
              "<table border=\"1\" class=\"dataframe\">\n",
              "  <thead>\n",
              "    <tr style=\"text-align: right;\">\n",
              "      <th></th>\n",
              "      <th>words</th>\n",
              "      <th>narasi</th>\n",
              "    </tr>\n",
              "  </thead>\n",
              "  <tbody>\n",
              "    <tr>\n",
              "      <th>0</th>\n",
              "      <td>10</td>\n",
              "      <td>buaya meter terbesar dunia ditemukan danau kota maine amerika serikat</td>\n",
              "    </tr>\n",
              "    <tr>\n",
              "      <th>1</th>\n",
              "      <td>8</td>\n",
              "      <td>demo memprotes kecurangan hasil pemilihan umum brazil november</td>\n",
              "    </tr>\n",
              "    <tr>\n",
              "      <th>2</th>\n",
              "      <td>4</td>\n",
              "      <td>warga bogor meninggal hidup</td>\n",
              "    </tr>\n",
              "    <tr>\n",
              "      <th>3</th>\n",
              "      <td>5</td>\n",
              "      <td>fauci akui vaksin melindungi covid</td>\n",
              "    </tr>\n",
              "    <tr>\n",
              "      <th>4</th>\n",
              "      <td>21</td>\n",
              "      <td>vaksin gratis set box punah gratis ternyata ternyata dalamnya rangkaian bluetooth low energy device membaca data orang orang yg divaksin aduh</td>\n",
              "    </tr>\n",
              "  </tbody>\n",
              "</table>\n",
              "</div>\n",
              "      <button class=\"colab-df-convert\" onclick=\"convertToInteractive('df-8c1dbd3b-8e46-4b67-b9e5-ada7b0dade3a')\"\n",
              "              title=\"Convert this dataframe to an interactive table.\"\n",
              "              style=\"display:none;\">\n",
              "        \n",
              "  <svg xmlns=\"http://www.w3.org/2000/svg\" height=\"24px\"viewBox=\"0 0 24 24\"\n",
              "       width=\"24px\">\n",
              "    <path d=\"M0 0h24v24H0V0z\" fill=\"none\"/>\n",
              "    <path d=\"M18.56 5.44l.94 2.06.94-2.06 2.06-.94-2.06-.94-.94-2.06-.94 2.06-2.06.94zm-11 1L8.5 8.5l.94-2.06 2.06-.94-2.06-.94L8.5 2.5l-.94 2.06-2.06.94zm10 10l.94 2.06.94-2.06 2.06-.94-2.06-.94-.94-2.06-.94 2.06-2.06.94z\"/><path d=\"M17.41 7.96l-1.37-1.37c-.4-.4-.92-.59-1.43-.59-.52 0-1.04.2-1.43.59L10.3 9.45l-7.72 7.72c-.78.78-.78 2.05 0 2.83L4 21.41c.39.39.9.59 1.41.59.51 0 1.02-.2 1.41-.59l7.78-7.78 2.81-2.81c.8-.78.8-2.07 0-2.86zM5.41 20L4 18.59l7.72-7.72 1.47 1.35L5.41 20z\"/>\n",
              "  </svg>\n",
              "      </button>\n",
              "      \n",
              "  <style>\n",
              "    .colab-df-container {\n",
              "      display:flex;\n",
              "      flex-wrap:wrap;\n",
              "      gap: 12px;\n",
              "    }\n",
              "\n",
              "    .colab-df-convert {\n",
              "      background-color: #E8F0FE;\n",
              "      border: none;\n",
              "      border-radius: 50%;\n",
              "      cursor: pointer;\n",
              "      display: none;\n",
              "      fill: #1967D2;\n",
              "      height: 32px;\n",
              "      padding: 0 0 0 0;\n",
              "      width: 32px;\n",
              "    }\n",
              "\n",
              "    .colab-df-convert:hover {\n",
              "      background-color: #E2EBFA;\n",
              "      box-shadow: 0px 1px 2px rgba(60, 64, 67, 0.3), 0px 1px 3px 1px rgba(60, 64, 67, 0.15);\n",
              "      fill: #174EA6;\n",
              "    }\n",
              "\n",
              "    [theme=dark] .colab-df-convert {\n",
              "      background-color: #3B4455;\n",
              "      fill: #D2E3FC;\n",
              "    }\n",
              "\n",
              "    [theme=dark] .colab-df-convert:hover {\n",
              "      background-color: #434B5C;\n",
              "      box-shadow: 0px 1px 3px 1px rgba(0, 0, 0, 0.15);\n",
              "      filter: drop-shadow(0px 1px 2px rgba(0, 0, 0, 0.3));\n",
              "      fill: #FFFFFF;\n",
              "    }\n",
              "  </style>\n",
              "\n",
              "      <script>\n",
              "        const buttonEl =\n",
              "          document.querySelector('#df-8c1dbd3b-8e46-4b67-b9e5-ada7b0dade3a button.colab-df-convert');\n",
              "        buttonEl.style.display =\n",
              "          google.colab.kernel.accessAllowed ? 'block' : 'none';\n",
              "\n",
              "        async function convertToInteractive(key) {\n",
              "          const element = document.querySelector('#df-8c1dbd3b-8e46-4b67-b9e5-ada7b0dade3a');\n",
              "          const dataTable =\n",
              "            await google.colab.kernel.invokeFunction('convertToInteractive',\n",
              "                                                     [key], {});\n",
              "          if (!dataTable) return;\n",
              "\n",
              "          const docLinkHtml = 'Like what you see? Visit the ' +\n",
              "            '<a target=\"_blank\" href=https://colab.research.google.com/notebooks/data_table.ipynb>data table notebook</a>'\n",
              "            + ' to learn more about interactive tables.';\n",
              "          element.innerHTML = '';\n",
              "          dataTable['output_type'] = 'display_data';\n",
              "          await google.colab.output.renderOutput(dataTable, element);\n",
              "          const docLink = document.createElement('div');\n",
              "          docLink.innerHTML = docLinkHtml;\n",
              "          element.appendChild(docLink);\n",
              "        }\n",
              "      </script>\n",
              "    </div>\n",
              "  </div>\n",
              "  "
            ]
          },
          "metadata": {},
          "execution_count": 16
        },
        {
          "output_type": "stream",
          "name": "stdout",
          "text": [
            "time: 6.39 ms (started: 2022-12-11 16:43:12 +00:00)\n"
          ]
        }
      ],
      "source": [
        "data[['words','narasi']].head()"
      ]
    },
    {
      "cell_type": "code",
      "execution_count": null,
      "metadata": {
        "colab": {
          "base_uri": "https://localhost:8080/"
        },
        "id": "ujBkLajucvRC",
        "outputId": "25f4d9d6-4755-43cc-c4fb-3ea8089d098f"
      },
      "outputs": [
        {
          "output_type": "execute_result",
          "data": {
            "text/plain": [
              "count    7315.000000\n",
              "mean       24.798770\n",
              "std        34.406444\n",
              "min         2.000000\n",
              "25%        10.000000\n",
              "50%        18.000000\n",
              "75%        27.000000\n",
              "max      1139.000000\n",
              "Name: words, dtype: float64"
            ]
          },
          "metadata": {},
          "execution_count": 17
        },
        {
          "output_type": "stream",
          "name": "stdout",
          "text": [
            "time: 7.77 ms (started: 2022-12-11 16:43:12 +00:00)\n"
          ]
        }
      ],
      "source": [
        "data['words'].describe()"
      ]
    },
    {
      "cell_type": "code",
      "execution_count": null,
      "metadata": {
        "colab": {
          "base_uri": "https://localhost:8080/",
          "height": 272
        },
        "id": "EXo02Sfucz2V",
        "outputId": "12f94eb9-76d5-4b7a-c283-6b24b8fbdc49"
      },
      "outputs": [
        {
          "output_type": "execute_result",
          "data": {
            "text/plain": [
              "                                                       count       mean  \\\n",
              "kategori                                                                  \n",
              "Fabricated Content/Imposter Content                   1128.0  34.176418   \n",
              "Misleading Content/False Context/Manipulated Content  3838.0  22.686816   \n",
              "Valid                                                 2349.0  23.746275   \n",
              "\n",
              "                                                            std  min   25%  \\\n",
              "kategori                                                                     \n",
              "Fabricated Content/Imposter Content                   49.519877  3.0   9.0   \n",
              "Misleading Content/False Context/Manipulated Content  38.396630  2.0   8.0   \n",
              "Valid                                                  7.115402  8.0  20.0   \n",
              "\n",
              "                                                       50%   75%     max  \n",
              "kategori                                                                  \n",
              "Fabricated Content/Imposter Content                   17.5  41.0   951.0  \n",
              "Misleading Content/False Context/Manipulated Content  11.0  22.0  1139.0  \n",
              "Valid                                                 23.0  27.0   121.0  "
            ],
            "text/html": [
              "\n",
              "  <div id=\"df-a0bd40cf-0008-4aea-bc44-8c24e3b58e48\">\n",
              "    <div class=\"colab-df-container\">\n",
              "      <div>\n",
              "<style scoped>\n",
              "    .dataframe tbody tr th:only-of-type {\n",
              "        vertical-align: middle;\n",
              "    }\n",
              "\n",
              "    .dataframe tbody tr th {\n",
              "        vertical-align: top;\n",
              "    }\n",
              "\n",
              "    .dataframe thead th {\n",
              "        text-align: right;\n",
              "    }\n",
              "</style>\n",
              "<table border=\"1\" class=\"dataframe\">\n",
              "  <thead>\n",
              "    <tr style=\"text-align: right;\">\n",
              "      <th></th>\n",
              "      <th>count</th>\n",
              "      <th>mean</th>\n",
              "      <th>std</th>\n",
              "      <th>min</th>\n",
              "      <th>25%</th>\n",
              "      <th>50%</th>\n",
              "      <th>75%</th>\n",
              "      <th>max</th>\n",
              "    </tr>\n",
              "    <tr>\n",
              "      <th>kategori</th>\n",
              "      <th></th>\n",
              "      <th></th>\n",
              "      <th></th>\n",
              "      <th></th>\n",
              "      <th></th>\n",
              "      <th></th>\n",
              "      <th></th>\n",
              "      <th></th>\n",
              "    </tr>\n",
              "  </thead>\n",
              "  <tbody>\n",
              "    <tr>\n",
              "      <th>Fabricated Content/Imposter Content</th>\n",
              "      <td>1128.0</td>\n",
              "      <td>34.176418</td>\n",
              "      <td>49.519877</td>\n",
              "      <td>3.0</td>\n",
              "      <td>9.0</td>\n",
              "      <td>17.5</td>\n",
              "      <td>41.0</td>\n",
              "      <td>951.0</td>\n",
              "    </tr>\n",
              "    <tr>\n",
              "      <th>Misleading Content/False Context/Manipulated Content</th>\n",
              "      <td>3838.0</td>\n",
              "      <td>22.686816</td>\n",
              "      <td>38.396630</td>\n",
              "      <td>2.0</td>\n",
              "      <td>8.0</td>\n",
              "      <td>11.0</td>\n",
              "      <td>22.0</td>\n",
              "      <td>1139.0</td>\n",
              "    </tr>\n",
              "    <tr>\n",
              "      <th>Valid</th>\n",
              "      <td>2349.0</td>\n",
              "      <td>23.746275</td>\n",
              "      <td>7.115402</td>\n",
              "      <td>8.0</td>\n",
              "      <td>20.0</td>\n",
              "      <td>23.0</td>\n",
              "      <td>27.0</td>\n",
              "      <td>121.0</td>\n",
              "    </tr>\n",
              "  </tbody>\n",
              "</table>\n",
              "</div>\n",
              "      <button class=\"colab-df-convert\" onclick=\"convertToInteractive('df-a0bd40cf-0008-4aea-bc44-8c24e3b58e48')\"\n",
              "              title=\"Convert this dataframe to an interactive table.\"\n",
              "              style=\"display:none;\">\n",
              "        \n",
              "  <svg xmlns=\"http://www.w3.org/2000/svg\" height=\"24px\"viewBox=\"0 0 24 24\"\n",
              "       width=\"24px\">\n",
              "    <path d=\"M0 0h24v24H0V0z\" fill=\"none\"/>\n",
              "    <path d=\"M18.56 5.44l.94 2.06.94-2.06 2.06-.94-2.06-.94-.94-2.06-.94 2.06-2.06.94zm-11 1L8.5 8.5l.94-2.06 2.06-.94-2.06-.94L8.5 2.5l-.94 2.06-2.06.94zm10 10l.94 2.06.94-2.06 2.06-.94-2.06-.94-.94-2.06-.94 2.06-2.06.94z\"/><path d=\"M17.41 7.96l-1.37-1.37c-.4-.4-.92-.59-1.43-.59-.52 0-1.04.2-1.43.59L10.3 9.45l-7.72 7.72c-.78.78-.78 2.05 0 2.83L4 21.41c.39.39.9.59 1.41.59.51 0 1.02-.2 1.41-.59l7.78-7.78 2.81-2.81c.8-.78.8-2.07 0-2.86zM5.41 20L4 18.59l7.72-7.72 1.47 1.35L5.41 20z\"/>\n",
              "  </svg>\n",
              "      </button>\n",
              "      \n",
              "  <style>\n",
              "    .colab-df-container {\n",
              "      display:flex;\n",
              "      flex-wrap:wrap;\n",
              "      gap: 12px;\n",
              "    }\n",
              "\n",
              "    .colab-df-convert {\n",
              "      background-color: #E8F0FE;\n",
              "      border: none;\n",
              "      border-radius: 50%;\n",
              "      cursor: pointer;\n",
              "      display: none;\n",
              "      fill: #1967D2;\n",
              "      height: 32px;\n",
              "      padding: 0 0 0 0;\n",
              "      width: 32px;\n",
              "    }\n",
              "\n",
              "    .colab-df-convert:hover {\n",
              "      background-color: #E2EBFA;\n",
              "      box-shadow: 0px 1px 2px rgba(60, 64, 67, 0.3), 0px 1px 3px 1px rgba(60, 64, 67, 0.15);\n",
              "      fill: #174EA6;\n",
              "    }\n",
              "\n",
              "    [theme=dark] .colab-df-convert {\n",
              "      background-color: #3B4455;\n",
              "      fill: #D2E3FC;\n",
              "    }\n",
              "\n",
              "    [theme=dark] .colab-df-convert:hover {\n",
              "      background-color: #434B5C;\n",
              "      box-shadow: 0px 1px 3px 1px rgba(0, 0, 0, 0.15);\n",
              "      filter: drop-shadow(0px 1px 2px rgba(0, 0, 0, 0.3));\n",
              "      fill: #FFFFFF;\n",
              "    }\n",
              "  </style>\n",
              "\n",
              "      <script>\n",
              "        const buttonEl =\n",
              "          document.querySelector('#df-a0bd40cf-0008-4aea-bc44-8c24e3b58e48 button.colab-df-convert');\n",
              "        buttonEl.style.display =\n",
              "          google.colab.kernel.accessAllowed ? 'block' : 'none';\n",
              "\n",
              "        async function convertToInteractive(key) {\n",
              "          const element = document.querySelector('#df-a0bd40cf-0008-4aea-bc44-8c24e3b58e48');\n",
              "          const dataTable =\n",
              "            await google.colab.kernel.invokeFunction('convertToInteractive',\n",
              "                                                     [key], {});\n",
              "          if (!dataTable) return;\n",
              "\n",
              "          const docLinkHtml = 'Like what you see? Visit the ' +\n",
              "            '<a target=\"_blank\" href=https://colab.research.google.com/notebooks/data_table.ipynb>data table notebook</a>'\n",
              "            + ' to learn more about interactive tables.';\n",
              "          element.innerHTML = '';\n",
              "          dataTable['output_type'] = 'display_data';\n",
              "          await google.colab.output.renderOutput(dataTable, element);\n",
              "          const docLink = document.createElement('div');\n",
              "          docLink.innerHTML = docLinkHtml;\n",
              "          element.appendChild(docLink);\n",
              "        }\n",
              "      </script>\n",
              "    </div>\n",
              "  </div>\n",
              "  "
            ]
          },
          "metadata": {},
          "execution_count": 18
        },
        {
          "output_type": "stream",
          "name": "stdout",
          "text": [
            "time: 32.9 ms (started: 2022-12-11 16:43:12 +00:00)\n"
          ]
        }
      ],
      "source": [
        "data.groupby(['kategori'])['words'].describe()"
      ]
    },
    {
      "cell_type": "code",
      "execution_count": null,
      "metadata": {
        "colab": {
          "base_uri": "https://localhost:8080/",
          "height": 272
        },
        "id": "bv32oHF8-3uN",
        "outputId": "d9900158-b668-4ce6-b759-38f7476bbee9"
      },
      "outputs": [
        {
          "output_type": "execute_result",
          "data": {
            "text/plain": [
              "                                                       count       mean  \\\n",
              "kategori                                                                  \n",
              "Fabricated Content/Imposter Content                   1118.0  31.190519   \n",
              "Misleading Content/False Context/Manipulated Content  3812.0  20.960913   \n",
              "Valid                                                 2349.0  23.746275   \n",
              "\n",
              "                                                            std  min   25%  \\\n",
              "kategori                                                                     \n",
              "Fabricated Content/Imposter Content                   32.714856  3.0   9.0   \n",
              "Misleading Content/False Context/Manipulated Content  26.427491  3.0   8.0   \n",
              "Valid                                                  7.115402  8.0  20.0   \n",
              "\n",
              "                                                       50%    75%    max  \n",
              "kategori                                                                  \n",
              "Fabricated Content/Imposter Content                   17.0  40.75  196.0  \n",
              "Misleading Content/False Context/Manipulated Content  11.0  22.00  196.0  \n",
              "Valid                                                 23.0  27.00  121.0  "
            ],
            "text/html": [
              "\n",
              "  <div id=\"df-80cde6e0-246a-40b4-9944-c88ebb59dafa\">\n",
              "    <div class=\"colab-df-container\">\n",
              "      <div>\n",
              "<style scoped>\n",
              "    .dataframe tbody tr th:only-of-type {\n",
              "        vertical-align: middle;\n",
              "    }\n",
              "\n",
              "    .dataframe tbody tr th {\n",
              "        vertical-align: top;\n",
              "    }\n",
              "\n",
              "    .dataframe thead th {\n",
              "        text-align: right;\n",
              "    }\n",
              "</style>\n",
              "<table border=\"1\" class=\"dataframe\">\n",
              "  <thead>\n",
              "    <tr style=\"text-align: right;\">\n",
              "      <th></th>\n",
              "      <th>count</th>\n",
              "      <th>mean</th>\n",
              "      <th>std</th>\n",
              "      <th>min</th>\n",
              "      <th>25%</th>\n",
              "      <th>50%</th>\n",
              "      <th>75%</th>\n",
              "      <th>max</th>\n",
              "    </tr>\n",
              "    <tr>\n",
              "      <th>kategori</th>\n",
              "      <th></th>\n",
              "      <th></th>\n",
              "      <th></th>\n",
              "      <th></th>\n",
              "      <th></th>\n",
              "      <th></th>\n",
              "      <th></th>\n",
              "      <th></th>\n",
              "    </tr>\n",
              "  </thead>\n",
              "  <tbody>\n",
              "    <tr>\n",
              "      <th>Fabricated Content/Imposter Content</th>\n",
              "      <td>1118.0</td>\n",
              "      <td>31.190519</td>\n",
              "      <td>32.714856</td>\n",
              "      <td>3.0</td>\n",
              "      <td>9.0</td>\n",
              "      <td>17.0</td>\n",
              "      <td>40.75</td>\n",
              "      <td>196.0</td>\n",
              "    </tr>\n",
              "    <tr>\n",
              "      <th>Misleading Content/False Context/Manipulated Content</th>\n",
              "      <td>3812.0</td>\n",
              "      <td>20.960913</td>\n",
              "      <td>26.427491</td>\n",
              "      <td>3.0</td>\n",
              "      <td>8.0</td>\n",
              "      <td>11.0</td>\n",
              "      <td>22.00</td>\n",
              "      <td>196.0</td>\n",
              "    </tr>\n",
              "    <tr>\n",
              "      <th>Valid</th>\n",
              "      <td>2349.0</td>\n",
              "      <td>23.746275</td>\n",
              "      <td>7.115402</td>\n",
              "      <td>8.0</td>\n",
              "      <td>20.0</td>\n",
              "      <td>23.0</td>\n",
              "      <td>27.00</td>\n",
              "      <td>121.0</td>\n",
              "    </tr>\n",
              "  </tbody>\n",
              "</table>\n",
              "</div>\n",
              "      <button class=\"colab-df-convert\" onclick=\"convertToInteractive('df-80cde6e0-246a-40b4-9944-c88ebb59dafa')\"\n",
              "              title=\"Convert this dataframe to an interactive table.\"\n",
              "              style=\"display:none;\">\n",
              "        \n",
              "  <svg xmlns=\"http://www.w3.org/2000/svg\" height=\"24px\"viewBox=\"0 0 24 24\"\n",
              "       width=\"24px\">\n",
              "    <path d=\"M0 0h24v24H0V0z\" fill=\"none\"/>\n",
              "    <path d=\"M18.56 5.44l.94 2.06.94-2.06 2.06-.94-2.06-.94-.94-2.06-.94 2.06-2.06.94zm-11 1L8.5 8.5l.94-2.06 2.06-.94-2.06-.94L8.5 2.5l-.94 2.06-2.06.94zm10 10l.94 2.06.94-2.06 2.06-.94-2.06-.94-.94-2.06-.94 2.06-2.06.94z\"/><path d=\"M17.41 7.96l-1.37-1.37c-.4-.4-.92-.59-1.43-.59-.52 0-1.04.2-1.43.59L10.3 9.45l-7.72 7.72c-.78.78-.78 2.05 0 2.83L4 21.41c.39.39.9.59 1.41.59.51 0 1.02-.2 1.41-.59l7.78-7.78 2.81-2.81c.8-.78.8-2.07 0-2.86zM5.41 20L4 18.59l7.72-7.72 1.47 1.35L5.41 20z\"/>\n",
              "  </svg>\n",
              "      </button>\n",
              "      \n",
              "  <style>\n",
              "    .colab-df-container {\n",
              "      display:flex;\n",
              "      flex-wrap:wrap;\n",
              "      gap: 12px;\n",
              "    }\n",
              "\n",
              "    .colab-df-convert {\n",
              "      background-color: #E8F0FE;\n",
              "      border: none;\n",
              "      border-radius: 50%;\n",
              "      cursor: pointer;\n",
              "      display: none;\n",
              "      fill: #1967D2;\n",
              "      height: 32px;\n",
              "      padding: 0 0 0 0;\n",
              "      width: 32px;\n",
              "    }\n",
              "\n",
              "    .colab-df-convert:hover {\n",
              "      background-color: #E2EBFA;\n",
              "      box-shadow: 0px 1px 2px rgba(60, 64, 67, 0.3), 0px 1px 3px 1px rgba(60, 64, 67, 0.15);\n",
              "      fill: #174EA6;\n",
              "    }\n",
              "\n",
              "    [theme=dark] .colab-df-convert {\n",
              "      background-color: #3B4455;\n",
              "      fill: #D2E3FC;\n",
              "    }\n",
              "\n",
              "    [theme=dark] .colab-df-convert:hover {\n",
              "      background-color: #434B5C;\n",
              "      box-shadow: 0px 1px 3px 1px rgba(0, 0, 0, 0.15);\n",
              "      filter: drop-shadow(0px 1px 2px rgba(0, 0, 0, 0.3));\n",
              "      fill: #FFFFFF;\n",
              "    }\n",
              "  </style>\n",
              "\n",
              "      <script>\n",
              "        const buttonEl =\n",
              "          document.querySelector('#df-80cde6e0-246a-40b4-9944-c88ebb59dafa button.colab-df-convert');\n",
              "        buttonEl.style.display =\n",
              "          google.colab.kernel.accessAllowed ? 'block' : 'none';\n",
              "\n",
              "        async function convertToInteractive(key) {\n",
              "          const element = document.querySelector('#df-80cde6e0-246a-40b4-9944-c88ebb59dafa');\n",
              "          const dataTable =\n",
              "            await google.colab.kernel.invokeFunction('convertToInteractive',\n",
              "                                                     [key], {});\n",
              "          if (!dataTable) return;\n",
              "\n",
              "          const docLinkHtml = 'Like what you see? Visit the ' +\n",
              "            '<a target=\"_blank\" href=https://colab.research.google.com/notebooks/data_table.ipynb>data table notebook</a>'\n",
              "            + ' to learn more about interactive tables.';\n",
              "          element.innerHTML = '';\n",
              "          dataTable['output_type'] = 'display_data';\n",
              "          await google.colab.output.renderOutput(dataTable, element);\n",
              "          const docLink = document.createElement('div');\n",
              "          docLink.innerHTML = docLinkHtml;\n",
              "          element.appendChild(docLink);\n",
              "        }\n",
              "      </script>\n",
              "    </div>\n",
              "  </div>\n",
              "  "
            ]
          },
          "metadata": {},
          "execution_count": 19
        },
        {
          "output_type": "stream",
          "name": "stdout",
          "text": [
            "time: 24.1 ms (started: 2022-12-11 16:43:12 +00:00)\n"
          ]
        }
      ],
      "source": [
        "data = data[data['words']<=200]\n",
        "data = data[data['words']>=3]\n",
        "data.groupby(['kategori'])['words'].describe()"
      ]
    },
    {
      "cell_type": "code",
      "execution_count": null,
      "metadata": {
        "colab": {
          "base_uri": "https://localhost:8080/",
          "height": 272
        },
        "id": "1ObiXX15T1At",
        "outputId": "0c168fae-d32c-4164-90a4-e8268b68e06d"
      },
      "outputs": [
        {
          "output_type": "execute_result",
          "data": {
            "text/plain": [
              "                                                       count       mean  \\\n",
              "kategori                                                                  \n",
              "Fabricated Content/Imposter Content                   1118.0  31.190519   \n",
              "Misleading Content/False Context/Manipulated Content  1118.0  24.962433   \n",
              "Valid                                                 1118.0  24.450805   \n",
              "\n",
              "                                                            std   min   25%  \\\n",
              "kategori                                                                      \n",
              "Fabricated Content/Imposter Content                   32.714856   3.0   9.0   \n",
              "Misleading Content/False Context/Manipulated Content  30.107245   3.0   8.0   \n",
              "Valid                                                  7.682183  11.0  20.0   \n",
              "\n",
              "                                                       50%    75%    max  \n",
              "kategori                                                                  \n",
              "Fabricated Content/Imposter Content                   17.0  40.75  196.0  \n",
              "Misleading Content/False Context/Manipulated Content  13.0  28.00  194.0  \n",
              "Valid                                                 23.0  27.00  121.0  "
            ],
            "text/html": [
              "\n",
              "  <div id=\"df-ad56e875-1ddc-4b33-9ddb-ad4df85c2ccf\">\n",
              "    <div class=\"colab-df-container\">\n",
              "      <div>\n",
              "<style scoped>\n",
              "    .dataframe tbody tr th:only-of-type {\n",
              "        vertical-align: middle;\n",
              "    }\n",
              "\n",
              "    .dataframe tbody tr th {\n",
              "        vertical-align: top;\n",
              "    }\n",
              "\n",
              "    .dataframe thead th {\n",
              "        text-align: right;\n",
              "    }\n",
              "</style>\n",
              "<table border=\"1\" class=\"dataframe\">\n",
              "  <thead>\n",
              "    <tr style=\"text-align: right;\">\n",
              "      <th></th>\n",
              "      <th>count</th>\n",
              "      <th>mean</th>\n",
              "      <th>std</th>\n",
              "      <th>min</th>\n",
              "      <th>25%</th>\n",
              "      <th>50%</th>\n",
              "      <th>75%</th>\n",
              "      <th>max</th>\n",
              "    </tr>\n",
              "    <tr>\n",
              "      <th>kategori</th>\n",
              "      <th></th>\n",
              "      <th></th>\n",
              "      <th></th>\n",
              "      <th></th>\n",
              "      <th></th>\n",
              "      <th></th>\n",
              "      <th></th>\n",
              "      <th></th>\n",
              "    </tr>\n",
              "  </thead>\n",
              "  <tbody>\n",
              "    <tr>\n",
              "      <th>Fabricated Content/Imposter Content</th>\n",
              "      <td>1118.0</td>\n",
              "      <td>31.190519</td>\n",
              "      <td>32.714856</td>\n",
              "      <td>3.0</td>\n",
              "      <td>9.0</td>\n",
              "      <td>17.0</td>\n",
              "      <td>40.75</td>\n",
              "      <td>196.0</td>\n",
              "    </tr>\n",
              "    <tr>\n",
              "      <th>Misleading Content/False Context/Manipulated Content</th>\n",
              "      <td>1118.0</td>\n",
              "      <td>24.962433</td>\n",
              "      <td>30.107245</td>\n",
              "      <td>3.0</td>\n",
              "      <td>8.0</td>\n",
              "      <td>13.0</td>\n",
              "      <td>28.00</td>\n",
              "      <td>194.0</td>\n",
              "    </tr>\n",
              "    <tr>\n",
              "      <th>Valid</th>\n",
              "      <td>1118.0</td>\n",
              "      <td>24.450805</td>\n",
              "      <td>7.682183</td>\n",
              "      <td>11.0</td>\n",
              "      <td>20.0</td>\n",
              "      <td>23.0</td>\n",
              "      <td>27.00</td>\n",
              "      <td>121.0</td>\n",
              "    </tr>\n",
              "  </tbody>\n",
              "</table>\n",
              "</div>\n",
              "      <button class=\"colab-df-convert\" onclick=\"convertToInteractive('df-ad56e875-1ddc-4b33-9ddb-ad4df85c2ccf')\"\n",
              "              title=\"Convert this dataframe to an interactive table.\"\n",
              "              style=\"display:none;\">\n",
              "        \n",
              "  <svg xmlns=\"http://www.w3.org/2000/svg\" height=\"24px\"viewBox=\"0 0 24 24\"\n",
              "       width=\"24px\">\n",
              "    <path d=\"M0 0h24v24H0V0z\" fill=\"none\"/>\n",
              "    <path d=\"M18.56 5.44l.94 2.06.94-2.06 2.06-.94-2.06-.94-.94-2.06-.94 2.06-2.06.94zm-11 1L8.5 8.5l.94-2.06 2.06-.94-2.06-.94L8.5 2.5l-.94 2.06-2.06.94zm10 10l.94 2.06.94-2.06 2.06-.94-2.06-.94-.94-2.06-.94 2.06-2.06.94z\"/><path d=\"M17.41 7.96l-1.37-1.37c-.4-.4-.92-.59-1.43-.59-.52 0-1.04.2-1.43.59L10.3 9.45l-7.72 7.72c-.78.78-.78 2.05 0 2.83L4 21.41c.39.39.9.59 1.41.59.51 0 1.02-.2 1.41-.59l7.78-7.78 2.81-2.81c.8-.78.8-2.07 0-2.86zM5.41 20L4 18.59l7.72-7.72 1.47 1.35L5.41 20z\"/>\n",
              "  </svg>\n",
              "      </button>\n",
              "      \n",
              "  <style>\n",
              "    .colab-df-container {\n",
              "      display:flex;\n",
              "      flex-wrap:wrap;\n",
              "      gap: 12px;\n",
              "    }\n",
              "\n",
              "    .colab-df-convert {\n",
              "      background-color: #E8F0FE;\n",
              "      border: none;\n",
              "      border-radius: 50%;\n",
              "      cursor: pointer;\n",
              "      display: none;\n",
              "      fill: #1967D2;\n",
              "      height: 32px;\n",
              "      padding: 0 0 0 0;\n",
              "      width: 32px;\n",
              "    }\n",
              "\n",
              "    .colab-df-convert:hover {\n",
              "      background-color: #E2EBFA;\n",
              "      box-shadow: 0px 1px 2px rgba(60, 64, 67, 0.3), 0px 1px 3px 1px rgba(60, 64, 67, 0.15);\n",
              "      fill: #174EA6;\n",
              "    }\n",
              "\n",
              "    [theme=dark] .colab-df-convert {\n",
              "      background-color: #3B4455;\n",
              "      fill: #D2E3FC;\n",
              "    }\n",
              "\n",
              "    [theme=dark] .colab-df-convert:hover {\n",
              "      background-color: #434B5C;\n",
              "      box-shadow: 0px 1px 3px 1px rgba(0, 0, 0, 0.15);\n",
              "      filter: drop-shadow(0px 1px 2px rgba(0, 0, 0, 0.3));\n",
              "      fill: #FFFFFF;\n",
              "    }\n",
              "  </style>\n",
              "\n",
              "      <script>\n",
              "        const buttonEl =\n",
              "          document.querySelector('#df-ad56e875-1ddc-4b33-9ddb-ad4df85c2ccf button.colab-df-convert');\n",
              "        buttonEl.style.display =\n",
              "          google.colab.kernel.accessAllowed ? 'block' : 'none';\n",
              "\n",
              "        async function convertToInteractive(key) {\n",
              "          const element = document.querySelector('#df-ad56e875-1ddc-4b33-9ddb-ad4df85c2ccf');\n",
              "          const dataTable =\n",
              "            await google.colab.kernel.invokeFunction('convertToInteractive',\n",
              "                                                     [key], {});\n",
              "          if (!dataTable) return;\n",
              "\n",
              "          const docLinkHtml = 'Like what you see? Visit the ' +\n",
              "            '<a target=\"_blank\" href=https://colab.research.google.com/notebooks/data_table.ipynb>data table notebook</a>'\n",
              "            + ' to learn more about interactive tables.';\n",
              "          element.innerHTML = '';\n",
              "          dataTable['output_type'] = 'display_data';\n",
              "          await google.colab.output.renderOutput(dataTable, element);\n",
              "          const docLink = document.createElement('div');\n",
              "          docLink.innerHTML = docLinkHtml;\n",
              "          element.appendChild(docLink);\n",
              "        }\n",
              "      </script>\n",
              "    </div>\n",
              "  </div>\n",
              "  "
            ]
          },
          "metadata": {},
          "execution_count": 20
        },
        {
          "output_type": "stream",
          "name": "stdout",
          "text": [
            "time: 30.1 ms (started: 2022-12-11 16:43:12 +00:00)\n"
          ]
        }
      ],
      "source": [
        "data[data['kategori']=='Valid'] = data[data['kategori']=='Valid'][1000:2118]\n",
        "data[data['kategori']=='Misleading Content/False Context/Manipulated Content'] = data[data['kategori']=='Misleading Content/False Context/Manipulated Content'][1000:2118]\n",
        "\n",
        "data = data.dropna()\n",
        "data.reset_index(drop=True, inplace=True)\n",
        "data.groupby(['kategori'])['words'].describe()"
      ]
    },
    {
      "cell_type": "code",
      "execution_count": null,
      "metadata": {
        "colab": {
          "base_uri": "https://localhost:8080/"
        },
        "id": "2SUUY3GDXJa6",
        "outputId": "af60da69-ed2d-4dba-a168-076b144db868"
      },
      "outputs": [
        {
          "output_type": "stream",
          "name": "stdout",
          "text": [
            "time: 88.9 ms (started: 2022-12-11 16:43:12 +00:00)\n"
          ]
        }
      ],
      "source": [
        "word_freq = data['narasi'].str.split(expand=True).stack().value_counts()\n",
        "word_freq = word_freq.reset_index(name='freq').rename(columns={'index': 'word'})"
      ]
    },
    {
      "cell_type": "code",
      "execution_count": null,
      "metadata": {
        "colab": {
          "base_uri": "https://localhost:8080/",
          "height": 381
        },
        "id": "3fMIhh63uAJE",
        "outputId": "4744fbdb-5dcd-4e9c-fa01-b516f6b55215"
      },
      "outputs": [
        {
          "output_type": "execute_result",
          "data": {
            "text/plain": [
              "        word  freq\n",
              "0  indonesia   686\n",
              "1      orang   486\n",
              "2      tahun   366\n",
              "3     negara   319\n",
              "4      covid   316\n",
              "5       hari   296\n",
              "6    jakarta   293\n",
              "7   tersebut   290\n",
              "8      yosua   290\n",
              "9      video   256"
            ],
            "text/html": [
              "\n",
              "  <div id=\"df-1c1e3ca8-1e29-4a96-a60c-a3738c53fea7\">\n",
              "    <div class=\"colab-df-container\">\n",
              "      <div>\n",
              "<style scoped>\n",
              "    .dataframe tbody tr th:only-of-type {\n",
              "        vertical-align: middle;\n",
              "    }\n",
              "\n",
              "    .dataframe tbody tr th {\n",
              "        vertical-align: top;\n",
              "    }\n",
              "\n",
              "    .dataframe thead th {\n",
              "        text-align: right;\n",
              "    }\n",
              "</style>\n",
              "<table border=\"1\" class=\"dataframe\">\n",
              "  <thead>\n",
              "    <tr style=\"text-align: right;\">\n",
              "      <th></th>\n",
              "      <th>word</th>\n",
              "      <th>freq</th>\n",
              "    </tr>\n",
              "  </thead>\n",
              "  <tbody>\n",
              "    <tr>\n",
              "      <th>0</th>\n",
              "      <td>indonesia</td>\n",
              "      <td>686</td>\n",
              "    </tr>\n",
              "    <tr>\n",
              "      <th>1</th>\n",
              "      <td>orang</td>\n",
              "      <td>486</td>\n",
              "    </tr>\n",
              "    <tr>\n",
              "      <th>2</th>\n",
              "      <td>tahun</td>\n",
              "      <td>366</td>\n",
              "    </tr>\n",
              "    <tr>\n",
              "      <th>3</th>\n",
              "      <td>negara</td>\n",
              "      <td>319</td>\n",
              "    </tr>\n",
              "    <tr>\n",
              "      <th>4</th>\n",
              "      <td>covid</td>\n",
              "      <td>316</td>\n",
              "    </tr>\n",
              "    <tr>\n",
              "      <th>5</th>\n",
              "      <td>hari</td>\n",
              "      <td>296</td>\n",
              "    </tr>\n",
              "    <tr>\n",
              "      <th>6</th>\n",
              "      <td>jakarta</td>\n",
              "      <td>293</td>\n",
              "    </tr>\n",
              "    <tr>\n",
              "      <th>7</th>\n",
              "      <td>tersebut</td>\n",
              "      <td>290</td>\n",
              "    </tr>\n",
              "    <tr>\n",
              "      <th>8</th>\n",
              "      <td>yosua</td>\n",
              "      <td>290</td>\n",
              "    </tr>\n",
              "    <tr>\n",
              "      <th>9</th>\n",
              "      <td>video</td>\n",
              "      <td>256</td>\n",
              "    </tr>\n",
              "  </tbody>\n",
              "</table>\n",
              "</div>\n",
              "      <button class=\"colab-df-convert\" onclick=\"convertToInteractive('df-1c1e3ca8-1e29-4a96-a60c-a3738c53fea7')\"\n",
              "              title=\"Convert this dataframe to an interactive table.\"\n",
              "              style=\"display:none;\">\n",
              "        \n",
              "  <svg xmlns=\"http://www.w3.org/2000/svg\" height=\"24px\"viewBox=\"0 0 24 24\"\n",
              "       width=\"24px\">\n",
              "    <path d=\"M0 0h24v24H0V0z\" fill=\"none\"/>\n",
              "    <path d=\"M18.56 5.44l.94 2.06.94-2.06 2.06-.94-2.06-.94-.94-2.06-.94 2.06-2.06.94zm-11 1L8.5 8.5l.94-2.06 2.06-.94-2.06-.94L8.5 2.5l-.94 2.06-2.06.94zm10 10l.94 2.06.94-2.06 2.06-.94-2.06-.94-.94-2.06-.94 2.06-2.06.94z\"/><path d=\"M17.41 7.96l-1.37-1.37c-.4-.4-.92-.59-1.43-.59-.52 0-1.04.2-1.43.59L10.3 9.45l-7.72 7.72c-.78.78-.78 2.05 0 2.83L4 21.41c.39.39.9.59 1.41.59.51 0 1.02-.2 1.41-.59l7.78-7.78 2.81-2.81c.8-.78.8-2.07 0-2.86zM5.41 20L4 18.59l7.72-7.72 1.47 1.35L5.41 20z\"/>\n",
              "  </svg>\n",
              "      </button>\n",
              "      \n",
              "  <style>\n",
              "    .colab-df-container {\n",
              "      display:flex;\n",
              "      flex-wrap:wrap;\n",
              "      gap: 12px;\n",
              "    }\n",
              "\n",
              "    .colab-df-convert {\n",
              "      background-color: #E8F0FE;\n",
              "      border: none;\n",
              "      border-radius: 50%;\n",
              "      cursor: pointer;\n",
              "      display: none;\n",
              "      fill: #1967D2;\n",
              "      height: 32px;\n",
              "      padding: 0 0 0 0;\n",
              "      width: 32px;\n",
              "    }\n",
              "\n",
              "    .colab-df-convert:hover {\n",
              "      background-color: #E2EBFA;\n",
              "      box-shadow: 0px 1px 2px rgba(60, 64, 67, 0.3), 0px 1px 3px 1px rgba(60, 64, 67, 0.15);\n",
              "      fill: #174EA6;\n",
              "    }\n",
              "\n",
              "    [theme=dark] .colab-df-convert {\n",
              "      background-color: #3B4455;\n",
              "      fill: #D2E3FC;\n",
              "    }\n",
              "\n",
              "    [theme=dark] .colab-df-convert:hover {\n",
              "      background-color: #434B5C;\n",
              "      box-shadow: 0px 1px 3px 1px rgba(0, 0, 0, 0.15);\n",
              "      filter: drop-shadow(0px 1px 2px rgba(0, 0, 0, 0.3));\n",
              "      fill: #FFFFFF;\n",
              "    }\n",
              "  </style>\n",
              "\n",
              "      <script>\n",
              "        const buttonEl =\n",
              "          document.querySelector('#df-1c1e3ca8-1e29-4a96-a60c-a3738c53fea7 button.colab-df-convert');\n",
              "        buttonEl.style.display =\n",
              "          google.colab.kernel.accessAllowed ? 'block' : 'none';\n",
              "\n",
              "        async function convertToInteractive(key) {\n",
              "          const element = document.querySelector('#df-1c1e3ca8-1e29-4a96-a60c-a3738c53fea7');\n",
              "          const dataTable =\n",
              "            await google.colab.kernel.invokeFunction('convertToInteractive',\n",
              "                                                     [key], {});\n",
              "          if (!dataTable) return;\n",
              "\n",
              "          const docLinkHtml = 'Like what you see? Visit the ' +\n",
              "            '<a target=\"_blank\" href=https://colab.research.google.com/notebooks/data_table.ipynb>data table notebook</a>'\n",
              "            + ' to learn more about interactive tables.';\n",
              "          element.innerHTML = '';\n",
              "          dataTable['output_type'] = 'display_data';\n",
              "          await google.colab.output.renderOutput(dataTable, element);\n",
              "          const docLink = document.createElement('div');\n",
              "          docLink.innerHTML = docLinkHtml;\n",
              "          element.appendChild(docLink);\n",
              "        }\n",
              "      </script>\n",
              "    </div>\n",
              "  </div>\n",
              "  "
            ]
          },
          "metadata": {},
          "execution_count": 22
        },
        {
          "output_type": "stream",
          "name": "stdout",
          "text": [
            "time: 9.32 ms (started: 2022-12-11 16:43:12 +00:00)\n"
          ]
        }
      ],
      "source": [
        "word_freq.head(10)"
      ]
    },
    {
      "cell_type": "code",
      "execution_count": null,
      "metadata": {
        "colab": {
          "base_uri": "https://localhost:8080/"
        },
        "id": "8JGMjafHWlvp",
        "outputId": "2441e661-3cca-421d-9dd1-d50bab3a76e0"
      },
      "outputs": [
        {
          "output_type": "stream",
          "name": "stdout",
          "text": [
            "Number of distinct words in raw data:  13513\n",
            "time: 1.74 ms (started: 2022-12-11 16:43:12 +00:00)\n"
          ]
        }
      ],
      "source": [
        "print(\"Number of distinct words in raw data: \", len(list(word_freq['word'])))"
      ]
    },
    {
      "cell_type": "code",
      "execution_count": null,
      "metadata": {
        "colab": {
          "base_uri": "https://localhost:8080/"
        },
        "id": "d9Qme0pMXpQL",
        "outputId": "f18be3f3-c4ba-442f-bf78-75869c94e2e3"
      },
      "outputs": [
        {
          "output_type": "stream",
          "name": "stdout",
          "text": [
            "7265\n",
            "196\n",
            "time: 4.12 ms (started: 2022-12-11 16:43:12 +00:00)\n"
          ]
        }
      ],
      "source": [
        "# max_words = len(list(word_freq['word']))\n",
        "max_words = len(list(word_freq[word_freq['freq']>=2]['word']))\n",
        "max_len = int(data['words'].max())\n",
        "\n",
        "print(max_words)\n",
        "print(max_len)"
      ]
    },
    {
      "cell_type": "code",
      "execution_count": null,
      "metadata": {
        "colab": {
          "base_uri": "https://localhost:8080/"
        },
        "id": "hwnhFQlSZXaQ",
        "outputId": "9482ab74-9b40-4113-a829-09391913af5e"
      },
      "outputs": [
        {
          "output_type": "stream",
          "name": "stdout",
          "text": [
            "time: 1.87 ms (started: 2022-12-11 16:43:12 +00:00)\n"
          ]
        }
      ],
      "source": [
        "data = data.sample(frac=1)"
      ]
    },
    {
      "cell_type": "code",
      "execution_count": null,
      "metadata": {
        "colab": {
          "base_uri": "https://localhost:8080/"
        },
        "id": "RR2IrBv7Zryi",
        "outputId": "fa5efde6-ca13-4221-c068-5bbd850fb886"
      },
      "outputs": [
        {
          "output_type": "stream",
          "name": "stdout",
          "text": [
            "(3354, 3)\n",
            "['Fabricated Content/Imposter Content'\n",
            " 'Misleading Content/False Context/Manipulated Content' 'Valid']\n",
            "time: 6.41 ms (started: 2022-12-11 16:43:12 +00:00)\n"
          ]
        }
      ],
      "source": [
        "X, Y = list(data['narasi']), list(data['kategori'])\n",
        "\n",
        "encoder = LabelEncoder()\n",
        "Y = to_categorical(encoder.fit_transform(Y), dtype='uint8')\n",
        "\n",
        "print(Y.shape)\n",
        "print(encoder.classes_)"
      ]
    },
    {
      "cell_type": "code",
      "execution_count": null,
      "metadata": {
        "colab": {
          "base_uri": "https://localhost:8080/"
        },
        "id": "dsI2pyMQRAjc",
        "outputId": "0018c880-b1bd-4c69-c80c-6564110d40aa"
      },
      "outputs": [
        {
          "output_type": "stream",
          "name": "stdout",
          "text": [
            "[2 2 0 ... 2 0 1]\n",
            "time: 1.44 ms (started: 2022-12-11 16:43:13 +00:00)\n"
          ]
        }
      ],
      "source": [
        "print(np.argmax(Y, axis=1))"
      ]
    },
    {
      "cell_type": "code",
      "execution_count": null,
      "metadata": {
        "colab": {
          "base_uri": "https://localhost:8080/"
        },
        "id": "rt3dCohqH5Zb",
        "outputId": "a0015043-289b-4529-e3be-d0f04116192d"
      },
      "outputs": [
        {
          "output_type": "stream",
          "name": "stdout",
          "text": [
            "time: 3.99 ms (started: 2022-12-11 16:43:13 +00:00)\n"
          ]
        }
      ],
      "source": [
        "def define_report(prediction, test):\n",
        "  y_pred_class = np.argmax(prediction, axis=1)\n",
        "  y_class = np.argmax(test, axis=1)\n",
        "  precision, recall, fscore, support = prfs(y_class, y_pred_class)\n",
        "  report = cr(y_class, y_pred_class, target_names = encoder.classes_)\n",
        "  return recall, report\n",
        "\n",
        "def define_confusion(prediction, test):\n",
        "  y_pred_class = np.argmax(prediction, axis=1)\n",
        "  y_class = np.argmax(test, axis=1)\n",
        "  con_mat = cm(labels=y_class, predictions=y_pred_class).numpy()\n",
        "  con_mat_norm = np.around(con_mat.astype('float') / con_mat.sum(axis=1)[:, np.newaxis], decimals=3)\n",
        "  con_mat_df = pd.DataFrame(con_mat_norm, index = encoder.classes_, columns = encoder.classes_)\n",
        "  figure = plt.figure(figsize=(13, 10))\n",
        "  sns.heatmap(con_mat_df, annot=True, fmt='.1%', cmap=plt.cm.Blues)\n",
        "  plt.tight_layout()\n",
        "  plt.ylabel('True label')\n",
        "  plt.xlabel('Predicted label')\n",
        "  plt.show()\n",
        "\n",
        "def define_plot(name, param):\n",
        "  plt.figure(figsize=(15, 7))\n",
        "  plt.title(name)\n",
        "  plt.plot(param.history[name], label='train')\n",
        "  plt.plot(param.history[f'val_{name}'], label='test')\n",
        "  plt.legend()\n",
        "  plt.show();"
      ]
    },
    {
      "cell_type": "markdown",
      "metadata": {
        "id": "SWvGpE2mGuOH"
      },
      "source": [
        "# **Embedding Random**"
      ]
    },
    {
      "cell_type": "code",
      "execution_count": null,
      "metadata": {
        "colab": {
          "base_uri": "https://localhost:8080/"
        },
        "id": "V-GCD9YWGtnK",
        "outputId": "40f08055-da35-4b1c-e7a2-f13ed7f9f8f8"
      },
      "outputs": [
        {
          "output_type": "stream",
          "name": "stdout",
          "text": [
            "time: 1.61 ms (started: 2022-12-11 16:43:13 +00:00)\n"
          ]
        }
      ],
      "source": [
        "def define_model(kernel_size, activation, optimizer, input_dim, max_length, output_dim = 300 ):\n",
        "    \n",
        "    inp = Input( shape=(max_length,))\n",
        "    x = Embedding(input_dim=input_dim, output_dim=output_dim, input_length=max_length)(inp)\n",
        "    x = SpatialDropout1D(0.1)(x)\n",
        "    \n",
        "    x = Bidirectional(TCN(64, kernel_size=kernel_size, dilations = [1, 2], return_sequences=True, activation = activation, name = 'tcn1'))(x)\n",
        "    \n",
        "    avg_pool = GlobalAveragePooling1D()(x)\n",
        "    max_pool = GlobalMaxPooling1D()(x)\n",
        "    \n",
        "    conc = concatenate([avg_pool, max_pool])\n",
        "    conc = Dropout(0.5)(conc)\n",
        "    outp = Dense(Y.shape[1], activation=\"softmax\")(conc)   \n",
        "\n",
        "    model = Model(inputs=inp, outputs=outp)\n",
        "    model.compile( loss = 'categorical_crossentropy', optimizer = optimizer, metrics = ['accuracy'])\n",
        "    \n",
        "    return model"
      ]
    },
    {
      "cell_type": "code",
      "execution_count": null,
      "metadata": {
        "colab": {
          "base_uri": "https://localhost:8080/"
        },
        "id": "LPhRLUCXHbnb",
        "outputId": "dffeef60-87fd-49c1-846b-218e2c80a8be"
      },
      "outputs": [
        {
          "output_type": "stream",
          "name": "stdout",
          "text": [
            "Model: \"model\"\n",
            "__________________________________________________________________________________________________\n",
            " Layer (type)                   Output Shape         Param #     Connected to                     \n",
            "==================================================================================================\n",
            " input_1 (InputLayer)           [(None, 121)]        0           []                               \n",
            "                                                                                                  \n",
            " embedding (Embedding)          (None, 121, 300)     90000       ['input_1[0][0]']                \n",
            "                                                                                                  \n",
            " spatial_dropout1d (SpatialDrop  (None, 121, 300)    0           ['embedding[0][0]']              \n",
            " out1D)                                                                                           \n",
            "                                                                                                  \n",
            " bidirectional (Bidirectional)  (None, 121, 128)     227968      ['spatial_dropout1d[0][0]']      \n",
            "                                                                                                  \n",
            " global_average_pooling1d (Glob  (None, 128)         0           ['bidirectional[0][0]']          \n",
            " alAveragePooling1D)                                                                              \n",
            "                                                                                                  \n",
            " global_max_pooling1d (GlobalMa  (None, 128)         0           ['bidirectional[0][0]']          \n",
            " xPooling1D)                                                                                      \n",
            "                                                                                                  \n",
            " concatenate (Concatenate)      (None, 256)          0           ['global_average_pooling1d[0][0]'\n",
            "                                                                 , 'global_max_pooling1d[0][0]']  \n",
            "                                                                                                  \n",
            " dropout (Dropout)              (None, 256)          0           ['concatenate[0][0]']            \n",
            "                                                                                                  \n",
            " dense (Dense)                  (None, 3)            771         ['dropout[0][0]']                \n",
            "                                                                                                  \n",
            "==================================================================================================\n",
            "Total params: 318,739\n",
            "Trainable params: 318,739\n",
            "Non-trainable params: 0\n",
            "__________________________________________________________________________________________________\n",
            "time: 3.39 s (started: 2022-12-11 16:43:13 +00:00)\n"
          ]
        }
      ],
      "source": [
        "model0_random = define_model(3, 'relu', 'adam', 300, 121)\n",
        "model0_random.summary()"
      ]
    },
    {
      "cell_type": "code",
      "execution_count": null,
      "metadata": {
        "colab": {
          "base_uri": "https://localhost:8080/"
        },
        "id": "7sa-ersrJIWh",
        "outputId": "52c9b884-7ed6-48be-b6f1-d4c7366404bc"
      },
      "outputs": [
        {
          "output_type": "stream",
          "name": "stdout",
          "text": [
            "time: 952 µs (started: 2022-12-11 16:43:16 +00:00)\n"
          ]
        }
      ],
      "source": [
        "callbacks = EarlyStopping(monitor='val_loss', min_delta=0, patience=4, verbose=2, mode='min', restore_best_weights=True)"
      ]
    },
    {
      "cell_type": "code",
      "execution_count": null,
      "metadata": {
        "id": "26yvgXgFIDme"
      },
      "outputs": [],
      "source": [
        "trunc_type='post'\n",
        "padding_type='post'\n",
        "oov_tok = \"<UNK>\"\n",
        "activations = ['tanh', 'relu', 'elu', 'selu', 'swish']\n",
        "optimizers = ['adam']\n",
        "kernel_sizes = [2, 3, 4, 5, 6, 7, 8]\n",
        "\n",
        "columns = ['Optimizer', 'Activation', 'Filters', 'acc1', 'acc2', 'acc3', 'acc4', 'acc5', 'accAVG', 'loss1', 'loss2', 'loss3', 'loss4', 'loss5', 'lossAVG']\n",
        "record = pd.DataFrame(columns = columns)\n",
        "kfold = KFold(n_splits=5, shuffle=True)\n",
        "\n",
        "sentences, labels = X, Y\n",
        "\n",
        "clouds = []\n",
        "valid_selected = []\n",
        "false_selected = []\n",
        "imposter_selected = []\n",
        "models = []\n",
        "recalls = []\n",
        "reports = []\n",
        "metas = []\n",
        "exp = 0\n",
        "\n",
        "for optimizer in optimizers:\n",
        "  for activation in activations:\n",
        "    for kernel_size in kernel_sizes:\n",
        "      exp+=1\n",
        "      print('--------------------------------------------------------------')\n",
        "      print('Training {}: {} optimizer, {} activation, {} kernel size.'.format(exp, optimizer, activation, kernel_size))\n",
        "      print('--------------------------------------------------------------')\n",
        "      acc_list = []\n",
        "      loss_list = []\n",
        "      for train, test in kfold.split(sentences):\n",
        "\n",
        "        train_x, test_x = [], []\n",
        "        train_y, test_y = [], []\n",
        "        \n",
        "        for i in train:\n",
        "          train_x.append(sentences[i])\n",
        "          train_y.append(labels[i])\n",
        "        for i in test:\n",
        "          test_x.append(sentences[i])\n",
        "          test_y.append(labels[i])\n",
        "\n",
        "        train_valid = []\n",
        "        train_false = []\n",
        "        train_imposter = []\n",
        "        for i in range(len(train_y)):\n",
        "          label = list(encoder.inverse_transform([np.argmax(train_y[i])]))[0]\n",
        "          if label == 'Valid':\n",
        "            for j in train_x[i].split(): train_valid.append(j)\n",
        "          if label == 'Misleading Content/False Context/Manipulated Content':\n",
        "            for j in train_x[i].split(): train_false.append(j)\n",
        "          if label == 'Fabricated Content/Imposter Content':\n",
        "            for j in train_x[i].split(): train_imposter.append(j)\n",
        "        \n",
        "        valid_res = dict(Counter(train_valid))\n",
        "        false_res = dict(Counter(train_false))\n",
        "        imposter_res = dict(Counter(train_imposter))\n",
        "        \n",
        "        valid_selected.append({k: v for k, v in sorted(valid_res.items(), key=lambda item: item[1], reverse=True)})\n",
        "        false_selected.append({k: v for k, v in sorted(false_res.items(), key=lambda item: item[1], reverse=True)})\n",
        "        imposter_selected.append({k: v for k, v in sorted(imposter_res.items(), key=lambda item: item[1], reverse=True)})\n",
        "        \n",
        "        train_y = np.array(train_y)\n",
        "        test_y = np.array(test_y)\n",
        "\n",
        "        tokenizer = text.Tokenizer(num_words = max_words, oov_token=oov_tok)\n",
        "        tokenizer.fit_on_texts(train_x)\n",
        "        training_sequences = tokenizer.texts_to_sequences(train_x)\n",
        "        test_sequences = tokenizer.texts_to_sequences(test_x)\n",
        "        Xtrain = sequence.pad_sequences(training_sequences, maxlen=max_len, padding=padding_type, truncating=trunc_type)\n",
        "        Xtest = sequence.pad_sequences(test_sequences, maxlen=max_len, padding=padding_type, truncating=trunc_type)\n",
        "\n",
        "        wordIdx = tokenizer.word_index\n",
        "        clouds.append(wordIdx)\n",
        "        vocabSize = len(wordIdx)+1\n",
        "\n",
        "        model = define_model(kernel_size, activation, optimizer, input_dim=vocabSize, max_length=max_len)\n",
        "        history = model.fit(Xtrain, train_y, batch_size=50, epochs=16, verbose=0, \n",
        "                  callbacks=[callbacks], validation_data=(Xtest, test_y))\n",
        "        \n",
        "        loss, acc = model.evaluate(Xtest, test_y, verbose=0)\n",
        "        print(f'Loss: {loss} - Accuracy: {acc}\\n')\n",
        "        result = model.predict(Xtest)\n",
        "        recall, report = define_report(result, test_y)\n",
        "        metas.append([Xtest, test_y, result, history])\n",
        "        reports.append(report)\n",
        "        recalls.append(recall)\n",
        "        acc_list.append(acc*100)\n",
        "        loss_list.append(loss)\n",
        "        models.append(model)\n",
        "          \n",
        "      mean_acc = np.array(acc_list).mean()\n",
        "      mean_loss = np.array(loss_list).mean()\n",
        "      parameters = [optimizer, activation, kernel_size]\n",
        "      entries = parameters + acc_list + [mean_acc] + loss_list + [mean_loss]\n",
        "      temp = pd.DataFrame([entries], columns=columns)\n",
        "      record = record.append(temp, ignore_index=True)\n",
        "      print('\\n')"
      ]
    },
    {
      "cell_type": "code",
      "execution_count": null,
      "metadata": {
        "id": "uupGVhSJbHU-",
        "colab": {
          "base_uri": "https://localhost:8080/",
          "height": 1000
        },
        "outputId": "691b3576-fe47-44d6-be1d-d3280ffa5dd5"
      },
      "outputs": [
        {
          "output_type": "execute_result",
          "data": {
            "text/plain": [
              "   Optimizer Activation Filters       acc1       acc2       acc3       acc4  \\\n",
              "0       adam       tanh       2  83.606559  84.202683  85.543966  83.755589   \n",
              "1       adam       tanh       3  82.712370  82.861400  83.904618  84.649777   \n",
              "2       adam       tanh       4  84.500748  85.394931  83.606559  85.991061   \n",
              "3       adam       tanh       5  84.798807  85.543966  83.904618  87.481374   \n",
              "4       adam       tanh       6  85.842025  82.265276  87.034279  83.904618   \n",
              "5       adam       tanh       7  86.587185  85.692996  84.351712  82.414305   \n",
              "6       adam       tanh       8  86.289120  88.077497  83.457524  84.053653   \n",
              "7       adam       relu       2  85.096872  81.818181  81.222057  82.712370   \n",
              "8       adam       relu       3  82.414305  84.202683  85.245901  82.265276   \n",
              "9       adam       relu       4  84.202683  84.500748  81.520116  81.967211   \n",
              "10      adam       relu       5  82.414305  83.904618  83.010435  81.967211   \n",
              "11      adam       relu       6  85.096872  83.457524  84.649777  80.774963   \n",
              "12      adam       relu       7  83.904618  82.414305  87.183309  83.606559   \n",
              "13      adam       relu       8  86.438149  85.096872  82.861400  82.265276   \n",
              "14      adam        elu       2  84.500748  82.414305  83.606559  85.842025   \n",
              "15      adam        elu       3  80.476898  82.265276  86.736214  84.351712   \n",
              "16      adam        elu       4  82.265276  82.712370  82.265276  85.245901   \n",
              "17      adam        elu       5  83.755589  83.904618  85.991061  83.606559   \n",
              "18      adam        elu       6  82.712370  82.265276  83.904618  85.245901   \n",
              "19      adam        elu       7  86.140090  84.202683  85.096872  84.202683   \n",
              "20      adam        elu       8  86.289120  84.202683  86.438149  85.543966   \n",
              "21      adam       selu       2  83.010435  84.947836  84.202683  81.669152   \n",
              "22      adam       selu       3  81.371087  82.712370  85.842025  83.010435   \n",
              "23      adam       selu       4  85.543966  83.159465  85.692996  84.202683   \n",
              "24      adam       selu       5  83.755589  85.543966  84.202683  84.053653   \n",
              "25      adam       selu       6  85.543966  83.904618  82.861400  82.861400   \n",
              "26      adam       selu       7  80.774963  81.967211  82.712370  85.991061   \n",
              "27      adam       selu       8  83.010435  82.712370  85.394931  83.010435   \n",
              "28      adam      swish       2  82.116246  83.755589  85.245901  85.245901   \n",
              "29      adam      swish       3  87.481374  84.202683  81.371087  80.774963   \n",
              "30      adam      swish       4  84.798807  83.308494  83.904618  77.496272   \n",
              "31      adam      swish       5  82.116246  87.779433  83.159465  80.327868   \n",
              "32      adam      swish       6  83.308494  81.818181  80.923992  87.630403   \n",
              "33      adam      swish       7  84.649777  83.755589  84.202683  85.245901   \n",
              "34      adam      swish       8  81.967211  84.649777  78.986585  84.947836   \n",
              "\n",
              "         acc5     accAVG     loss1     loss2     loss3     loss4     loss5  \\\n",
              "0   85.373133  84.496386  0.416513  0.400966  0.364084  0.396131  0.377854   \n",
              "1   82.835823  83.392798  0.416089  0.401230  0.357379  0.379468  0.423294   \n",
              "2   84.179103  84.734480  0.423591  0.391071  0.382486  0.333758  0.369106   \n",
              "3   83.880597  85.121872  0.372717  0.368615  0.411767  0.325854  0.386883   \n",
              "4   85.074627  84.824165  0.339775  0.422643  0.327624  0.388230  0.389671   \n",
              "5   85.522389  84.913718  0.359155  0.378476  0.381741  0.398374  0.353381   \n",
              "6   83.582091  85.091977  0.332520  0.335546  0.369418  0.396562  0.403906   \n",
              "7   82.686567  82.707210  0.380357  0.480668  0.447317  0.405370  0.445824   \n",
              "8   84.477609  83.721155  0.425810  0.411008  0.376765  0.418536  0.407108   \n",
              "9   80.597013  82.557554  0.389137  0.370700  0.452231  0.418642  0.443001   \n",
              "10  84.626865  83.184687  0.421714  0.408065  0.432894  0.420743  0.383075   \n",
              "11  84.925371  83.780901  0.334978  0.396178  0.429841  0.445970  0.408367   \n",
              "12  84.179103  84.257579  0.395784  0.433354  0.301997  0.447330  0.386700   \n",
              "13  85.223883  84.377116  0.326499  0.394553  0.426449  0.434044  0.362480   \n",
              "14  81.641793  83.601086  0.390026  0.408806  0.384455  0.380496  0.444626   \n",
              "15  83.731341  83.512288  0.439556  0.426173  0.353985  0.401777  0.427443   \n",
              "16  85.970151  83.691795  0.415235  0.393114  0.430664  0.358480  0.375499   \n",
              "17  83.432835  84.138132  0.395343  0.393383  0.346610  0.397173  0.411291   \n",
              "18  82.388061  83.303245  0.474644  0.410441  0.372867  0.359542  0.395644   \n",
              "19  84.179103  84.764286  0.360620  0.376906  0.345276  0.397976  0.386950   \n",
              "20  82.985073  85.091798  0.397149  0.356019  0.330766  0.356902  0.408163   \n",
              "21  83.880597  83.542141  0.445956  0.401204  0.425430  0.426298  0.443650   \n",
              "22  81.791043  82.945392  0.436487  0.410466  0.352329  0.416977  0.424343   \n",
              "23  81.492537  84.018329  0.347261  0.406631  0.372034  0.369495  0.443238   \n",
              "24  82.089549  83.929088  0.413186  0.377268  0.398897  0.417180  0.420151   \n",
              "25  83.134329  83.661143  0.372527  0.408801  0.417181  0.381051  0.395056   \n",
              "26  83.731341  83.035389  0.412166  0.409674  0.429746  0.352640  0.341057   \n",
              "27  83.283579  83.482350  0.439312  0.449114  0.404425  0.400725  0.390207   \n",
              "28  82.537311  83.780190  0.433044  0.371478  0.427616  0.423589  0.432738   \n",
              "29  84.179103  83.601842  0.347309  0.416030  0.481227  0.460741  0.378217   \n",
              "30  85.223883  82.946415  0.474595  0.415263  0.407255  0.475797  0.363826   \n",
              "31  85.223883  83.721379  0.455987  0.329127  0.409724  0.454407  0.378443   \n",
              "32  83.432835  83.422781  0.464421  0.439210  0.447578  0.335249  0.418532   \n",
              "33  83.283579  84.227506  0.390436  0.411272  0.416750  0.354470  0.387074   \n",
              "34  84.328359  82.975954  0.397115  0.402978  0.497739  0.410131  0.417196   \n",
              "\n",
              "     lossAVG  \n",
              "0   0.391109  \n",
              "1   0.395492  \n",
              "2   0.380002  \n",
              "3   0.373167  \n",
              "4   0.373588  \n",
              "5   0.374226  \n",
              "6   0.367591  \n",
              "7   0.431907  \n",
              "8   0.407845  \n",
              "9   0.414742  \n",
              "10  0.413298  \n",
              "11  0.403067  \n",
              "12  0.393033  \n",
              "13  0.388805  \n",
              "14  0.401682  \n",
              "15  0.409787  \n",
              "16  0.394598  \n",
              "17  0.388760  \n",
              "18  0.402628  \n",
              "19  0.373546  \n",
              "20  0.369800  \n",
              "21  0.428508  \n",
              "22  0.408120  \n",
              "23  0.387732  \n",
              "24  0.405336  \n",
              "25  0.394923  \n",
              "26  0.389057  \n",
              "27  0.416757  \n",
              "28  0.417693  \n",
              "29  0.416705  \n",
              "30  0.427347  \n",
              "31  0.405538  \n",
              "32  0.420998  \n",
              "33  0.392001  \n",
              "34  0.425032  "
            ],
            "text/html": [
              "\n",
              "  <div id=\"df-574f597f-ab77-47dc-a2f3-591bee37e178\">\n",
              "    <div class=\"colab-df-container\">\n",
              "      <div>\n",
              "<style scoped>\n",
              "    .dataframe tbody tr th:only-of-type {\n",
              "        vertical-align: middle;\n",
              "    }\n",
              "\n",
              "    .dataframe tbody tr th {\n",
              "        vertical-align: top;\n",
              "    }\n",
              "\n",
              "    .dataframe thead th {\n",
              "        text-align: right;\n",
              "    }\n",
              "</style>\n",
              "<table border=\"1\" class=\"dataframe\">\n",
              "  <thead>\n",
              "    <tr style=\"text-align: right;\">\n",
              "      <th></th>\n",
              "      <th>Optimizer</th>\n",
              "      <th>Activation</th>\n",
              "      <th>Filters</th>\n",
              "      <th>acc1</th>\n",
              "      <th>acc2</th>\n",
              "      <th>acc3</th>\n",
              "      <th>acc4</th>\n",
              "      <th>acc5</th>\n",
              "      <th>accAVG</th>\n",
              "      <th>loss1</th>\n",
              "      <th>loss2</th>\n",
              "      <th>loss3</th>\n",
              "      <th>loss4</th>\n",
              "      <th>loss5</th>\n",
              "      <th>lossAVG</th>\n",
              "    </tr>\n",
              "  </thead>\n",
              "  <tbody>\n",
              "    <tr>\n",
              "      <th>0</th>\n",
              "      <td>adam</td>\n",
              "      <td>tanh</td>\n",
              "      <td>2</td>\n",
              "      <td>83.606559</td>\n",
              "      <td>84.202683</td>\n",
              "      <td>85.543966</td>\n",
              "      <td>83.755589</td>\n",
              "      <td>85.373133</td>\n",
              "      <td>84.496386</td>\n",
              "      <td>0.416513</td>\n",
              "      <td>0.400966</td>\n",
              "      <td>0.364084</td>\n",
              "      <td>0.396131</td>\n",
              "      <td>0.377854</td>\n",
              "      <td>0.391109</td>\n",
              "    </tr>\n",
              "    <tr>\n",
              "      <th>1</th>\n",
              "      <td>adam</td>\n",
              "      <td>tanh</td>\n",
              "      <td>3</td>\n",
              "      <td>82.712370</td>\n",
              "      <td>82.861400</td>\n",
              "      <td>83.904618</td>\n",
              "      <td>84.649777</td>\n",
              "      <td>82.835823</td>\n",
              "      <td>83.392798</td>\n",
              "      <td>0.416089</td>\n",
              "      <td>0.401230</td>\n",
              "      <td>0.357379</td>\n",
              "      <td>0.379468</td>\n",
              "      <td>0.423294</td>\n",
              "      <td>0.395492</td>\n",
              "    </tr>\n",
              "    <tr>\n",
              "      <th>2</th>\n",
              "      <td>adam</td>\n",
              "      <td>tanh</td>\n",
              "      <td>4</td>\n",
              "      <td>84.500748</td>\n",
              "      <td>85.394931</td>\n",
              "      <td>83.606559</td>\n",
              "      <td>85.991061</td>\n",
              "      <td>84.179103</td>\n",
              "      <td>84.734480</td>\n",
              "      <td>0.423591</td>\n",
              "      <td>0.391071</td>\n",
              "      <td>0.382486</td>\n",
              "      <td>0.333758</td>\n",
              "      <td>0.369106</td>\n",
              "      <td>0.380002</td>\n",
              "    </tr>\n",
              "    <tr>\n",
              "      <th>3</th>\n",
              "      <td>adam</td>\n",
              "      <td>tanh</td>\n",
              "      <td>5</td>\n",
              "      <td>84.798807</td>\n",
              "      <td>85.543966</td>\n",
              "      <td>83.904618</td>\n",
              "      <td>87.481374</td>\n",
              "      <td>83.880597</td>\n",
              "      <td>85.121872</td>\n",
              "      <td>0.372717</td>\n",
              "      <td>0.368615</td>\n",
              "      <td>0.411767</td>\n",
              "      <td>0.325854</td>\n",
              "      <td>0.386883</td>\n",
              "      <td>0.373167</td>\n",
              "    </tr>\n",
              "    <tr>\n",
              "      <th>4</th>\n",
              "      <td>adam</td>\n",
              "      <td>tanh</td>\n",
              "      <td>6</td>\n",
              "      <td>85.842025</td>\n",
              "      <td>82.265276</td>\n",
              "      <td>87.034279</td>\n",
              "      <td>83.904618</td>\n",
              "      <td>85.074627</td>\n",
              "      <td>84.824165</td>\n",
              "      <td>0.339775</td>\n",
              "      <td>0.422643</td>\n",
              "      <td>0.327624</td>\n",
              "      <td>0.388230</td>\n",
              "      <td>0.389671</td>\n",
              "      <td>0.373588</td>\n",
              "    </tr>\n",
              "    <tr>\n",
              "      <th>5</th>\n",
              "      <td>adam</td>\n",
              "      <td>tanh</td>\n",
              "      <td>7</td>\n",
              "      <td>86.587185</td>\n",
              "      <td>85.692996</td>\n",
              "      <td>84.351712</td>\n",
              "      <td>82.414305</td>\n",
              "      <td>85.522389</td>\n",
              "      <td>84.913718</td>\n",
              "      <td>0.359155</td>\n",
              "      <td>0.378476</td>\n",
              "      <td>0.381741</td>\n",
              "      <td>0.398374</td>\n",
              "      <td>0.353381</td>\n",
              "      <td>0.374226</td>\n",
              "    </tr>\n",
              "    <tr>\n",
              "      <th>6</th>\n",
              "      <td>adam</td>\n",
              "      <td>tanh</td>\n",
              "      <td>8</td>\n",
              "      <td>86.289120</td>\n",
              "      <td>88.077497</td>\n",
              "      <td>83.457524</td>\n",
              "      <td>84.053653</td>\n",
              "      <td>83.582091</td>\n",
              "      <td>85.091977</td>\n",
              "      <td>0.332520</td>\n",
              "      <td>0.335546</td>\n",
              "      <td>0.369418</td>\n",
              "      <td>0.396562</td>\n",
              "      <td>0.403906</td>\n",
              "      <td>0.367591</td>\n",
              "    </tr>\n",
              "    <tr>\n",
              "      <th>7</th>\n",
              "      <td>adam</td>\n",
              "      <td>relu</td>\n",
              "      <td>2</td>\n",
              "      <td>85.096872</td>\n",
              "      <td>81.818181</td>\n",
              "      <td>81.222057</td>\n",
              "      <td>82.712370</td>\n",
              "      <td>82.686567</td>\n",
              "      <td>82.707210</td>\n",
              "      <td>0.380357</td>\n",
              "      <td>0.480668</td>\n",
              "      <td>0.447317</td>\n",
              "      <td>0.405370</td>\n",
              "      <td>0.445824</td>\n",
              "      <td>0.431907</td>\n",
              "    </tr>\n",
              "    <tr>\n",
              "      <th>8</th>\n",
              "      <td>adam</td>\n",
              "      <td>relu</td>\n",
              "      <td>3</td>\n",
              "      <td>82.414305</td>\n",
              "      <td>84.202683</td>\n",
              "      <td>85.245901</td>\n",
              "      <td>82.265276</td>\n",
              "      <td>84.477609</td>\n",
              "      <td>83.721155</td>\n",
              "      <td>0.425810</td>\n",
              "      <td>0.411008</td>\n",
              "      <td>0.376765</td>\n",
              "      <td>0.418536</td>\n",
              "      <td>0.407108</td>\n",
              "      <td>0.407845</td>\n",
              "    </tr>\n",
              "    <tr>\n",
              "      <th>9</th>\n",
              "      <td>adam</td>\n",
              "      <td>relu</td>\n",
              "      <td>4</td>\n",
              "      <td>84.202683</td>\n",
              "      <td>84.500748</td>\n",
              "      <td>81.520116</td>\n",
              "      <td>81.967211</td>\n",
              "      <td>80.597013</td>\n",
              "      <td>82.557554</td>\n",
              "      <td>0.389137</td>\n",
              "      <td>0.370700</td>\n",
              "      <td>0.452231</td>\n",
              "      <td>0.418642</td>\n",
              "      <td>0.443001</td>\n",
              "      <td>0.414742</td>\n",
              "    </tr>\n",
              "    <tr>\n",
              "      <th>10</th>\n",
              "      <td>adam</td>\n",
              "      <td>relu</td>\n",
              "      <td>5</td>\n",
              "      <td>82.414305</td>\n",
              "      <td>83.904618</td>\n",
              "      <td>83.010435</td>\n",
              "      <td>81.967211</td>\n",
              "      <td>84.626865</td>\n",
              "      <td>83.184687</td>\n",
              "      <td>0.421714</td>\n",
              "      <td>0.408065</td>\n",
              "      <td>0.432894</td>\n",
              "      <td>0.420743</td>\n",
              "      <td>0.383075</td>\n",
              "      <td>0.413298</td>\n",
              "    </tr>\n",
              "    <tr>\n",
              "      <th>11</th>\n",
              "      <td>adam</td>\n",
              "      <td>relu</td>\n",
              "      <td>6</td>\n",
              "      <td>85.096872</td>\n",
              "      <td>83.457524</td>\n",
              "      <td>84.649777</td>\n",
              "      <td>80.774963</td>\n",
              "      <td>84.925371</td>\n",
              "      <td>83.780901</td>\n",
              "      <td>0.334978</td>\n",
              "      <td>0.396178</td>\n",
              "      <td>0.429841</td>\n",
              "      <td>0.445970</td>\n",
              "      <td>0.408367</td>\n",
              "      <td>0.403067</td>\n",
              "    </tr>\n",
              "    <tr>\n",
              "      <th>12</th>\n",
              "      <td>adam</td>\n",
              "      <td>relu</td>\n",
              "      <td>7</td>\n",
              "      <td>83.904618</td>\n",
              "      <td>82.414305</td>\n",
              "      <td>87.183309</td>\n",
              "      <td>83.606559</td>\n",
              "      <td>84.179103</td>\n",
              "      <td>84.257579</td>\n",
              "      <td>0.395784</td>\n",
              "      <td>0.433354</td>\n",
              "      <td>0.301997</td>\n",
              "      <td>0.447330</td>\n",
              "      <td>0.386700</td>\n",
              "      <td>0.393033</td>\n",
              "    </tr>\n",
              "    <tr>\n",
              "      <th>13</th>\n",
              "      <td>adam</td>\n",
              "      <td>relu</td>\n",
              "      <td>8</td>\n",
              "      <td>86.438149</td>\n",
              "      <td>85.096872</td>\n",
              "      <td>82.861400</td>\n",
              "      <td>82.265276</td>\n",
              "      <td>85.223883</td>\n",
              "      <td>84.377116</td>\n",
              "      <td>0.326499</td>\n",
              "      <td>0.394553</td>\n",
              "      <td>0.426449</td>\n",
              "      <td>0.434044</td>\n",
              "      <td>0.362480</td>\n",
              "      <td>0.388805</td>\n",
              "    </tr>\n",
              "    <tr>\n",
              "      <th>14</th>\n",
              "      <td>adam</td>\n",
              "      <td>elu</td>\n",
              "      <td>2</td>\n",
              "      <td>84.500748</td>\n",
              "      <td>82.414305</td>\n",
              "      <td>83.606559</td>\n",
              "      <td>85.842025</td>\n",
              "      <td>81.641793</td>\n",
              "      <td>83.601086</td>\n",
              "      <td>0.390026</td>\n",
              "      <td>0.408806</td>\n",
              "      <td>0.384455</td>\n",
              "      <td>0.380496</td>\n",
              "      <td>0.444626</td>\n",
              "      <td>0.401682</td>\n",
              "    </tr>\n",
              "    <tr>\n",
              "      <th>15</th>\n",
              "      <td>adam</td>\n",
              "      <td>elu</td>\n",
              "      <td>3</td>\n",
              "      <td>80.476898</td>\n",
              "      <td>82.265276</td>\n",
              "      <td>86.736214</td>\n",
              "      <td>84.351712</td>\n",
              "      <td>83.731341</td>\n",
              "      <td>83.512288</td>\n",
              "      <td>0.439556</td>\n",
              "      <td>0.426173</td>\n",
              "      <td>0.353985</td>\n",
              "      <td>0.401777</td>\n",
              "      <td>0.427443</td>\n",
              "      <td>0.409787</td>\n",
              "    </tr>\n",
              "    <tr>\n",
              "      <th>16</th>\n",
              "      <td>adam</td>\n",
              "      <td>elu</td>\n",
              "      <td>4</td>\n",
              "      <td>82.265276</td>\n",
              "      <td>82.712370</td>\n",
              "      <td>82.265276</td>\n",
              "      <td>85.245901</td>\n",
              "      <td>85.970151</td>\n",
              "      <td>83.691795</td>\n",
              "      <td>0.415235</td>\n",
              "      <td>0.393114</td>\n",
              "      <td>0.430664</td>\n",
              "      <td>0.358480</td>\n",
              "      <td>0.375499</td>\n",
              "      <td>0.394598</td>\n",
              "    </tr>\n",
              "    <tr>\n",
              "      <th>17</th>\n",
              "      <td>adam</td>\n",
              "      <td>elu</td>\n",
              "      <td>5</td>\n",
              "      <td>83.755589</td>\n",
              "      <td>83.904618</td>\n",
              "      <td>85.991061</td>\n",
              "      <td>83.606559</td>\n",
              "      <td>83.432835</td>\n",
              "      <td>84.138132</td>\n",
              "      <td>0.395343</td>\n",
              "      <td>0.393383</td>\n",
              "      <td>0.346610</td>\n",
              "      <td>0.397173</td>\n",
              "      <td>0.411291</td>\n",
              "      <td>0.388760</td>\n",
              "    </tr>\n",
              "    <tr>\n",
              "      <th>18</th>\n",
              "      <td>adam</td>\n",
              "      <td>elu</td>\n",
              "      <td>6</td>\n",
              "      <td>82.712370</td>\n",
              "      <td>82.265276</td>\n",
              "      <td>83.904618</td>\n",
              "      <td>85.245901</td>\n",
              "      <td>82.388061</td>\n",
              "      <td>83.303245</td>\n",
              "      <td>0.474644</td>\n",
              "      <td>0.410441</td>\n",
              "      <td>0.372867</td>\n",
              "      <td>0.359542</td>\n",
              "      <td>0.395644</td>\n",
              "      <td>0.402628</td>\n",
              "    </tr>\n",
              "    <tr>\n",
              "      <th>19</th>\n",
              "      <td>adam</td>\n",
              "      <td>elu</td>\n",
              "      <td>7</td>\n",
              "      <td>86.140090</td>\n",
              "      <td>84.202683</td>\n",
              "      <td>85.096872</td>\n",
              "      <td>84.202683</td>\n",
              "      <td>84.179103</td>\n",
              "      <td>84.764286</td>\n",
              "      <td>0.360620</td>\n",
              "      <td>0.376906</td>\n",
              "      <td>0.345276</td>\n",
              "      <td>0.397976</td>\n",
              "      <td>0.386950</td>\n",
              "      <td>0.373546</td>\n",
              "    </tr>\n",
              "    <tr>\n",
              "      <th>20</th>\n",
              "      <td>adam</td>\n",
              "      <td>elu</td>\n",
              "      <td>8</td>\n",
              "      <td>86.289120</td>\n",
              "      <td>84.202683</td>\n",
              "      <td>86.438149</td>\n",
              "      <td>85.543966</td>\n",
              "      <td>82.985073</td>\n",
              "      <td>85.091798</td>\n",
              "      <td>0.397149</td>\n",
              "      <td>0.356019</td>\n",
              "      <td>0.330766</td>\n",
              "      <td>0.356902</td>\n",
              "      <td>0.408163</td>\n",
              "      <td>0.369800</td>\n",
              "    </tr>\n",
              "    <tr>\n",
              "      <th>21</th>\n",
              "      <td>adam</td>\n",
              "      <td>selu</td>\n",
              "      <td>2</td>\n",
              "      <td>83.010435</td>\n",
              "      <td>84.947836</td>\n",
              "      <td>84.202683</td>\n",
              "      <td>81.669152</td>\n",
              "      <td>83.880597</td>\n",
              "      <td>83.542141</td>\n",
              "      <td>0.445956</td>\n",
              "      <td>0.401204</td>\n",
              "      <td>0.425430</td>\n",
              "      <td>0.426298</td>\n",
              "      <td>0.443650</td>\n",
              "      <td>0.428508</td>\n",
              "    </tr>\n",
              "    <tr>\n",
              "      <th>22</th>\n",
              "      <td>adam</td>\n",
              "      <td>selu</td>\n",
              "      <td>3</td>\n",
              "      <td>81.371087</td>\n",
              "      <td>82.712370</td>\n",
              "      <td>85.842025</td>\n",
              "      <td>83.010435</td>\n",
              "      <td>81.791043</td>\n",
              "      <td>82.945392</td>\n",
              "      <td>0.436487</td>\n",
              "      <td>0.410466</td>\n",
              "      <td>0.352329</td>\n",
              "      <td>0.416977</td>\n",
              "      <td>0.424343</td>\n",
              "      <td>0.408120</td>\n",
              "    </tr>\n",
              "    <tr>\n",
              "      <th>23</th>\n",
              "      <td>adam</td>\n",
              "      <td>selu</td>\n",
              "      <td>4</td>\n",
              "      <td>85.543966</td>\n",
              "      <td>83.159465</td>\n",
              "      <td>85.692996</td>\n",
              "      <td>84.202683</td>\n",
              "      <td>81.492537</td>\n",
              "      <td>84.018329</td>\n",
              "      <td>0.347261</td>\n",
              "      <td>0.406631</td>\n",
              "      <td>0.372034</td>\n",
              "      <td>0.369495</td>\n",
              "      <td>0.443238</td>\n",
              "      <td>0.387732</td>\n",
              "    </tr>\n",
              "    <tr>\n",
              "      <th>24</th>\n",
              "      <td>adam</td>\n",
              "      <td>selu</td>\n",
              "      <td>5</td>\n",
              "      <td>83.755589</td>\n",
              "      <td>85.543966</td>\n",
              "      <td>84.202683</td>\n",
              "      <td>84.053653</td>\n",
              "      <td>82.089549</td>\n",
              "      <td>83.929088</td>\n",
              "      <td>0.413186</td>\n",
              "      <td>0.377268</td>\n",
              "      <td>0.398897</td>\n",
              "      <td>0.417180</td>\n",
              "      <td>0.420151</td>\n",
              "      <td>0.405336</td>\n",
              "    </tr>\n",
              "    <tr>\n",
              "      <th>25</th>\n",
              "      <td>adam</td>\n",
              "      <td>selu</td>\n",
              "      <td>6</td>\n",
              "      <td>85.543966</td>\n",
              "      <td>83.904618</td>\n",
              "      <td>82.861400</td>\n",
              "      <td>82.861400</td>\n",
              "      <td>83.134329</td>\n",
              "      <td>83.661143</td>\n",
              "      <td>0.372527</td>\n",
              "      <td>0.408801</td>\n",
              "      <td>0.417181</td>\n",
              "      <td>0.381051</td>\n",
              "      <td>0.395056</td>\n",
              "      <td>0.394923</td>\n",
              "    </tr>\n",
              "    <tr>\n",
              "      <th>26</th>\n",
              "      <td>adam</td>\n",
              "      <td>selu</td>\n",
              "      <td>7</td>\n",
              "      <td>80.774963</td>\n",
              "      <td>81.967211</td>\n",
              "      <td>82.712370</td>\n",
              "      <td>85.991061</td>\n",
              "      <td>83.731341</td>\n",
              "      <td>83.035389</td>\n",
              "      <td>0.412166</td>\n",
              "      <td>0.409674</td>\n",
              "      <td>0.429746</td>\n",
              "      <td>0.352640</td>\n",
              "      <td>0.341057</td>\n",
              "      <td>0.389057</td>\n",
              "    </tr>\n",
              "    <tr>\n",
              "      <th>27</th>\n",
              "      <td>adam</td>\n",
              "      <td>selu</td>\n",
              "      <td>8</td>\n",
              "      <td>83.010435</td>\n",
              "      <td>82.712370</td>\n",
              "      <td>85.394931</td>\n",
              "      <td>83.010435</td>\n",
              "      <td>83.283579</td>\n",
              "      <td>83.482350</td>\n",
              "      <td>0.439312</td>\n",
              "      <td>0.449114</td>\n",
              "      <td>0.404425</td>\n",
              "      <td>0.400725</td>\n",
              "      <td>0.390207</td>\n",
              "      <td>0.416757</td>\n",
              "    </tr>\n",
              "    <tr>\n",
              "      <th>28</th>\n",
              "      <td>adam</td>\n",
              "      <td>swish</td>\n",
              "      <td>2</td>\n",
              "      <td>82.116246</td>\n",
              "      <td>83.755589</td>\n",
              "      <td>85.245901</td>\n",
              "      <td>85.245901</td>\n",
              "      <td>82.537311</td>\n",
              "      <td>83.780190</td>\n",
              "      <td>0.433044</td>\n",
              "      <td>0.371478</td>\n",
              "      <td>0.427616</td>\n",
              "      <td>0.423589</td>\n",
              "      <td>0.432738</td>\n",
              "      <td>0.417693</td>\n",
              "    </tr>\n",
              "    <tr>\n",
              "      <th>29</th>\n",
              "      <td>adam</td>\n",
              "      <td>swish</td>\n",
              "      <td>3</td>\n",
              "      <td>87.481374</td>\n",
              "      <td>84.202683</td>\n",
              "      <td>81.371087</td>\n",
              "      <td>80.774963</td>\n",
              "      <td>84.179103</td>\n",
              "      <td>83.601842</td>\n",
              "      <td>0.347309</td>\n",
              "      <td>0.416030</td>\n",
              "      <td>0.481227</td>\n",
              "      <td>0.460741</td>\n",
              "      <td>0.378217</td>\n",
              "      <td>0.416705</td>\n",
              "    </tr>\n",
              "    <tr>\n",
              "      <th>30</th>\n",
              "      <td>adam</td>\n",
              "      <td>swish</td>\n",
              "      <td>4</td>\n",
              "      <td>84.798807</td>\n",
              "      <td>83.308494</td>\n",
              "      <td>83.904618</td>\n",
              "      <td>77.496272</td>\n",
              "      <td>85.223883</td>\n",
              "      <td>82.946415</td>\n",
              "      <td>0.474595</td>\n",
              "      <td>0.415263</td>\n",
              "      <td>0.407255</td>\n",
              "      <td>0.475797</td>\n",
              "      <td>0.363826</td>\n",
              "      <td>0.427347</td>\n",
              "    </tr>\n",
              "    <tr>\n",
              "      <th>31</th>\n",
              "      <td>adam</td>\n",
              "      <td>swish</td>\n",
              "      <td>5</td>\n",
              "      <td>82.116246</td>\n",
              "      <td>87.779433</td>\n",
              "      <td>83.159465</td>\n",
              "      <td>80.327868</td>\n",
              "      <td>85.223883</td>\n",
              "      <td>83.721379</td>\n",
              "      <td>0.455987</td>\n",
              "      <td>0.329127</td>\n",
              "      <td>0.409724</td>\n",
              "      <td>0.454407</td>\n",
              "      <td>0.378443</td>\n",
              "      <td>0.405538</td>\n",
              "    </tr>\n",
              "    <tr>\n",
              "      <th>32</th>\n",
              "      <td>adam</td>\n",
              "      <td>swish</td>\n",
              "      <td>6</td>\n",
              "      <td>83.308494</td>\n",
              "      <td>81.818181</td>\n",
              "      <td>80.923992</td>\n",
              "      <td>87.630403</td>\n",
              "      <td>83.432835</td>\n",
              "      <td>83.422781</td>\n",
              "      <td>0.464421</td>\n",
              "      <td>0.439210</td>\n",
              "      <td>0.447578</td>\n",
              "      <td>0.335249</td>\n",
              "      <td>0.418532</td>\n",
              "      <td>0.420998</td>\n",
              "    </tr>\n",
              "    <tr>\n",
              "      <th>33</th>\n",
              "      <td>adam</td>\n",
              "      <td>swish</td>\n",
              "      <td>7</td>\n",
              "      <td>84.649777</td>\n",
              "      <td>83.755589</td>\n",
              "      <td>84.202683</td>\n",
              "      <td>85.245901</td>\n",
              "      <td>83.283579</td>\n",
              "      <td>84.227506</td>\n",
              "      <td>0.390436</td>\n",
              "      <td>0.411272</td>\n",
              "      <td>0.416750</td>\n",
              "      <td>0.354470</td>\n",
              "      <td>0.387074</td>\n",
              "      <td>0.392001</td>\n",
              "    </tr>\n",
              "    <tr>\n",
              "      <th>34</th>\n",
              "      <td>adam</td>\n",
              "      <td>swish</td>\n",
              "      <td>8</td>\n",
              "      <td>81.967211</td>\n",
              "      <td>84.649777</td>\n",
              "      <td>78.986585</td>\n",
              "      <td>84.947836</td>\n",
              "      <td>84.328359</td>\n",
              "      <td>82.975954</td>\n",
              "      <td>0.397115</td>\n",
              "      <td>0.402978</td>\n",
              "      <td>0.497739</td>\n",
              "      <td>0.410131</td>\n",
              "      <td>0.417196</td>\n",
              "      <td>0.425032</td>\n",
              "    </tr>\n",
              "  </tbody>\n",
              "</table>\n",
              "</div>\n",
              "      <button class=\"colab-df-convert\" onclick=\"convertToInteractive('df-574f597f-ab77-47dc-a2f3-591bee37e178')\"\n",
              "              title=\"Convert this dataframe to an interactive table.\"\n",
              "              style=\"display:none;\">\n",
              "        \n",
              "  <svg xmlns=\"http://www.w3.org/2000/svg\" height=\"24px\"viewBox=\"0 0 24 24\"\n",
              "       width=\"24px\">\n",
              "    <path d=\"M0 0h24v24H0V0z\" fill=\"none\"/>\n",
              "    <path d=\"M18.56 5.44l.94 2.06.94-2.06 2.06-.94-2.06-.94-.94-2.06-.94 2.06-2.06.94zm-11 1L8.5 8.5l.94-2.06 2.06-.94-2.06-.94L8.5 2.5l-.94 2.06-2.06.94zm10 10l.94 2.06.94-2.06 2.06-.94-2.06-.94-.94-2.06-.94 2.06-2.06.94z\"/><path d=\"M17.41 7.96l-1.37-1.37c-.4-.4-.92-.59-1.43-.59-.52 0-1.04.2-1.43.59L10.3 9.45l-7.72 7.72c-.78.78-.78 2.05 0 2.83L4 21.41c.39.39.9.59 1.41.59.51 0 1.02-.2 1.41-.59l7.78-7.78 2.81-2.81c.8-.78.8-2.07 0-2.86zM5.41 20L4 18.59l7.72-7.72 1.47 1.35L5.41 20z\"/>\n",
              "  </svg>\n",
              "      </button>\n",
              "      \n",
              "  <style>\n",
              "    .colab-df-container {\n",
              "      display:flex;\n",
              "      flex-wrap:wrap;\n",
              "      gap: 12px;\n",
              "    }\n",
              "\n",
              "    .colab-df-convert {\n",
              "      background-color: #E8F0FE;\n",
              "      border: none;\n",
              "      border-radius: 50%;\n",
              "      cursor: pointer;\n",
              "      display: none;\n",
              "      fill: #1967D2;\n",
              "      height: 32px;\n",
              "      padding: 0 0 0 0;\n",
              "      width: 32px;\n",
              "    }\n",
              "\n",
              "    .colab-df-convert:hover {\n",
              "      background-color: #E2EBFA;\n",
              "      box-shadow: 0px 1px 2px rgba(60, 64, 67, 0.3), 0px 1px 3px 1px rgba(60, 64, 67, 0.15);\n",
              "      fill: #174EA6;\n",
              "    }\n",
              "\n",
              "    [theme=dark] .colab-df-convert {\n",
              "      background-color: #3B4455;\n",
              "      fill: #D2E3FC;\n",
              "    }\n",
              "\n",
              "    [theme=dark] .colab-df-convert:hover {\n",
              "      background-color: #434B5C;\n",
              "      box-shadow: 0px 1px 3px 1px rgba(0, 0, 0, 0.15);\n",
              "      filter: drop-shadow(0px 1px 2px rgba(0, 0, 0, 0.3));\n",
              "      fill: #FFFFFF;\n",
              "    }\n",
              "  </style>\n",
              "\n",
              "      <script>\n",
              "        const buttonEl =\n",
              "          document.querySelector('#df-574f597f-ab77-47dc-a2f3-591bee37e178 button.colab-df-convert');\n",
              "        buttonEl.style.display =\n",
              "          google.colab.kernel.accessAllowed ? 'block' : 'none';\n",
              "\n",
              "        async function convertToInteractive(key) {\n",
              "          const element = document.querySelector('#df-574f597f-ab77-47dc-a2f3-591bee37e178');\n",
              "          const dataTable =\n",
              "            await google.colab.kernel.invokeFunction('convertToInteractive',\n",
              "                                                     [key], {});\n",
              "          if (!dataTable) return;\n",
              "\n",
              "          const docLinkHtml = 'Like what you see? Visit the ' +\n",
              "            '<a target=\"_blank\" href=https://colab.research.google.com/notebooks/data_table.ipynb>data table notebook</a>'\n",
              "            + ' to learn more about interactive tables.';\n",
              "          element.innerHTML = '';\n",
              "          dataTable['output_type'] = 'display_data';\n",
              "          await google.colab.output.renderOutput(dataTable, element);\n",
              "          const docLink = document.createElement('div');\n",
              "          docLink.innerHTML = docLinkHtml;\n",
              "          element.appendChild(docLink);\n",
              "        }\n",
              "      </script>\n",
              "    </div>\n",
              "  </div>\n",
              "  "
            ]
          },
          "metadata": {},
          "execution_count": 33
        },
        {
          "output_type": "stream",
          "name": "stdout",
          "text": [
            "time: 23.7 ms (started: 2022-12-11 17:17:48 +00:00)\n"
          ]
        }
      ],
      "source": [
        "record"
      ]
    },
    {
      "cell_type": "code",
      "execution_count": null,
      "metadata": {
        "id": "Pzx9bOkhbtzj",
        "colab": {
          "base_uri": "https://localhost:8080/",
          "height": 256
        },
        "outputId": "8e5e3cb0-68d8-4eaa-e583-e647610791aa"
      },
      "outputs": [
        {
          "output_type": "execute_result",
          "data": {
            "text/plain": [
              "               accAVG\n",
              "Activation           \n",
              "tanh        85.121872\n",
              "elu         85.091798\n",
              "relu        84.377116\n",
              "swish       84.227506\n",
              "selu        84.018329"
            ],
            "text/html": [
              "\n",
              "  <div id=\"df-ac3e72ca-16ce-478d-b14b-de46601a2ff1\">\n",
              "    <div class=\"colab-df-container\">\n",
              "      <div>\n",
              "<style scoped>\n",
              "    .dataframe tbody tr th:only-of-type {\n",
              "        vertical-align: middle;\n",
              "    }\n",
              "\n",
              "    .dataframe tbody tr th {\n",
              "        vertical-align: top;\n",
              "    }\n",
              "\n",
              "    .dataframe thead th {\n",
              "        text-align: right;\n",
              "    }\n",
              "</style>\n",
              "<table border=\"1\" class=\"dataframe\">\n",
              "  <thead>\n",
              "    <tr style=\"text-align: right;\">\n",
              "      <th></th>\n",
              "      <th>accAVG</th>\n",
              "    </tr>\n",
              "    <tr>\n",
              "      <th>Activation</th>\n",
              "      <th></th>\n",
              "    </tr>\n",
              "  </thead>\n",
              "  <tbody>\n",
              "    <tr>\n",
              "      <th>tanh</th>\n",
              "      <td>85.121872</td>\n",
              "    </tr>\n",
              "    <tr>\n",
              "      <th>elu</th>\n",
              "      <td>85.091798</td>\n",
              "    </tr>\n",
              "    <tr>\n",
              "      <th>relu</th>\n",
              "      <td>84.377116</td>\n",
              "    </tr>\n",
              "    <tr>\n",
              "      <th>swish</th>\n",
              "      <td>84.227506</td>\n",
              "    </tr>\n",
              "    <tr>\n",
              "      <th>selu</th>\n",
              "      <td>84.018329</td>\n",
              "    </tr>\n",
              "  </tbody>\n",
              "</table>\n",
              "</div>\n",
              "      <button class=\"colab-df-convert\" onclick=\"convertToInteractive('df-ac3e72ca-16ce-478d-b14b-de46601a2ff1')\"\n",
              "              title=\"Convert this dataframe to an interactive table.\"\n",
              "              style=\"display:none;\">\n",
              "        \n",
              "  <svg xmlns=\"http://www.w3.org/2000/svg\" height=\"24px\"viewBox=\"0 0 24 24\"\n",
              "       width=\"24px\">\n",
              "    <path d=\"M0 0h24v24H0V0z\" fill=\"none\"/>\n",
              "    <path d=\"M18.56 5.44l.94 2.06.94-2.06 2.06-.94-2.06-.94-.94-2.06-.94 2.06-2.06.94zm-11 1L8.5 8.5l.94-2.06 2.06-.94-2.06-.94L8.5 2.5l-.94 2.06-2.06.94zm10 10l.94 2.06.94-2.06 2.06-.94-2.06-.94-.94-2.06-.94 2.06-2.06.94z\"/><path d=\"M17.41 7.96l-1.37-1.37c-.4-.4-.92-.59-1.43-.59-.52 0-1.04.2-1.43.59L10.3 9.45l-7.72 7.72c-.78.78-.78 2.05 0 2.83L4 21.41c.39.39.9.59 1.41.59.51 0 1.02-.2 1.41-.59l7.78-7.78 2.81-2.81c.8-.78.8-2.07 0-2.86zM5.41 20L4 18.59l7.72-7.72 1.47 1.35L5.41 20z\"/>\n",
              "  </svg>\n",
              "      </button>\n",
              "      \n",
              "  <style>\n",
              "    .colab-df-container {\n",
              "      display:flex;\n",
              "      flex-wrap:wrap;\n",
              "      gap: 12px;\n",
              "    }\n",
              "\n",
              "    .colab-df-convert {\n",
              "      background-color: #E8F0FE;\n",
              "      border: none;\n",
              "      border-radius: 50%;\n",
              "      cursor: pointer;\n",
              "      display: none;\n",
              "      fill: #1967D2;\n",
              "      height: 32px;\n",
              "      padding: 0 0 0 0;\n",
              "      width: 32px;\n",
              "    }\n",
              "\n",
              "    .colab-df-convert:hover {\n",
              "      background-color: #E2EBFA;\n",
              "      box-shadow: 0px 1px 2px rgba(60, 64, 67, 0.3), 0px 1px 3px 1px rgba(60, 64, 67, 0.15);\n",
              "      fill: #174EA6;\n",
              "    }\n",
              "\n",
              "    [theme=dark] .colab-df-convert {\n",
              "      background-color: #3B4455;\n",
              "      fill: #D2E3FC;\n",
              "    }\n",
              "\n",
              "    [theme=dark] .colab-df-convert:hover {\n",
              "      background-color: #434B5C;\n",
              "      box-shadow: 0px 1px 3px 1px rgba(0, 0, 0, 0.15);\n",
              "      filter: drop-shadow(0px 1px 2px rgba(0, 0, 0, 0.3));\n",
              "      fill: #FFFFFF;\n",
              "    }\n",
              "  </style>\n",
              "\n",
              "      <script>\n",
              "        const buttonEl =\n",
              "          document.querySelector('#df-ac3e72ca-16ce-478d-b14b-de46601a2ff1 button.colab-df-convert');\n",
              "        buttonEl.style.display =\n",
              "          google.colab.kernel.accessAllowed ? 'block' : 'none';\n",
              "\n",
              "        async function convertToInteractive(key) {\n",
              "          const element = document.querySelector('#df-ac3e72ca-16ce-478d-b14b-de46601a2ff1');\n",
              "          const dataTable =\n",
              "            await google.colab.kernel.invokeFunction('convertToInteractive',\n",
              "                                                     [key], {});\n",
              "          if (!dataTable) return;\n",
              "\n",
              "          const docLinkHtml = 'Like what you see? Visit the ' +\n",
              "            '<a target=\"_blank\" href=https://colab.research.google.com/notebooks/data_table.ipynb>data table notebook</a>'\n",
              "            + ' to learn more about interactive tables.';\n",
              "          element.innerHTML = '';\n",
              "          dataTable['output_type'] = 'display_data';\n",
              "          await google.colab.output.renderOutput(dataTable, element);\n",
              "          const docLink = document.createElement('div');\n",
              "          docLink.innerHTML = docLinkHtml;\n",
              "          element.appendChild(docLink);\n",
              "        }\n",
              "      </script>\n",
              "    </div>\n",
              "  </div>\n",
              "  "
            ]
          },
          "metadata": {},
          "execution_count": 34
        },
        {
          "output_type": "stream",
          "name": "stdout",
          "text": [
            "time: 21 ms (started: 2022-12-11 17:17:48 +00:00)\n"
          ]
        }
      ],
      "source": [
        "record[['Activation', 'accAVG']].groupby(by='Activation').max().sort_values(by='accAVG', ascending=False)"
      ]
    },
    {
      "cell_type": "code",
      "source": [
        "record[['Activation', 'lossAVG']].groupby(by='Activation').min().sort_values(by='lossAVG', ascending=True)"
      ],
      "metadata": {
        "id": "UwQlmJ_IYgbV",
        "colab": {
          "base_uri": "https://localhost:8080/",
          "height": 256
        },
        "outputId": "49e107c5-03dc-46a1-a4ef-9e71b0fc618c"
      },
      "execution_count": null,
      "outputs": [
        {
          "data": {
            "text/html": [
              "\n",
              "  <div id=\"df-93d566a7-01b0-4a6b-a723-fb85ab7b6810\">\n",
              "    <div class=\"colab-df-container\">\n",
              "      <div>\n",
              "<style scoped>\n",
              "    .dataframe tbody tr th:only-of-type {\n",
              "        vertical-align: middle;\n",
              "    }\n",
              "\n",
              "    .dataframe tbody tr th {\n",
              "        vertical-align: top;\n",
              "    }\n",
              "\n",
              "    .dataframe thead th {\n",
              "        text-align: right;\n",
              "    }\n",
              "</style>\n",
              "<table border=\"1\" class=\"dataframe\">\n",
              "  <thead>\n",
              "    <tr style=\"text-align: right;\">\n",
              "      <th></th>\n",
              "      <th>lossAVG</th>\n",
              "    </tr>\n",
              "    <tr>\n",
              "      <th>Activation</th>\n",
              "      <th></th>\n",
              "    </tr>\n",
              "  </thead>\n",
              "  <tbody>\n",
              "    <tr>\n",
              "      <th>tanh</th>\n",
              "      <td>0.367591</td>\n",
              "    </tr>\n",
              "    <tr>\n",
              "      <th>elu</th>\n",
              "      <td>0.369800</td>\n",
              "    </tr>\n",
              "    <tr>\n",
              "      <th>selu</th>\n",
              "      <td>0.387732</td>\n",
              "    </tr>\n",
              "    <tr>\n",
              "      <th>relu</th>\n",
              "      <td>0.388805</td>\n",
              "    </tr>\n",
              "    <tr>\n",
              "      <th>swish</th>\n",
              "      <td>0.392001</td>\n",
              "    </tr>\n",
              "  </tbody>\n",
              "</table>\n",
              "</div>\n",
              "      <button class=\"colab-df-convert\" onclick=\"convertToInteractive('df-93d566a7-01b0-4a6b-a723-fb85ab7b6810')\"\n",
              "              title=\"Convert this dataframe to an interactive table.\"\n",
              "              style=\"display:none;\">\n",
              "        \n",
              "  <svg xmlns=\"http://www.w3.org/2000/svg\" height=\"24px\"viewBox=\"0 0 24 24\"\n",
              "       width=\"24px\">\n",
              "    <path d=\"M0 0h24v24H0V0z\" fill=\"none\"/>\n",
              "    <path d=\"M18.56 5.44l.94 2.06.94-2.06 2.06-.94-2.06-.94-.94-2.06-.94 2.06-2.06.94zm-11 1L8.5 8.5l.94-2.06 2.06-.94-2.06-.94L8.5 2.5l-.94 2.06-2.06.94zm10 10l.94 2.06.94-2.06 2.06-.94-2.06-.94-.94-2.06-.94 2.06-2.06.94z\"/><path d=\"M17.41 7.96l-1.37-1.37c-.4-.4-.92-.59-1.43-.59-.52 0-1.04.2-1.43.59L10.3 9.45l-7.72 7.72c-.78.78-.78 2.05 0 2.83L4 21.41c.39.39.9.59 1.41.59.51 0 1.02-.2 1.41-.59l7.78-7.78 2.81-2.81c.8-.78.8-2.07 0-2.86zM5.41 20L4 18.59l7.72-7.72 1.47 1.35L5.41 20z\"/>\n",
              "  </svg>\n",
              "      </button>\n",
              "      \n",
              "  <style>\n",
              "    .colab-df-container {\n",
              "      display:flex;\n",
              "      flex-wrap:wrap;\n",
              "      gap: 12px;\n",
              "    }\n",
              "\n",
              "    .colab-df-convert {\n",
              "      background-color: #E8F0FE;\n",
              "      border: none;\n",
              "      border-radius: 50%;\n",
              "      cursor: pointer;\n",
              "      display: none;\n",
              "      fill: #1967D2;\n",
              "      height: 32px;\n",
              "      padding: 0 0 0 0;\n",
              "      width: 32px;\n",
              "    }\n",
              "\n",
              "    .colab-df-convert:hover {\n",
              "      background-color: #E2EBFA;\n",
              "      box-shadow: 0px 1px 2px rgba(60, 64, 67, 0.3), 0px 1px 3px 1px rgba(60, 64, 67, 0.15);\n",
              "      fill: #174EA6;\n",
              "    }\n",
              "\n",
              "    [theme=dark] .colab-df-convert {\n",
              "      background-color: #3B4455;\n",
              "      fill: #D2E3FC;\n",
              "    }\n",
              "\n",
              "    [theme=dark] .colab-df-convert:hover {\n",
              "      background-color: #434B5C;\n",
              "      box-shadow: 0px 1px 3px 1px rgba(0, 0, 0, 0.15);\n",
              "      filter: drop-shadow(0px 1px 2px rgba(0, 0, 0, 0.3));\n",
              "      fill: #FFFFFF;\n",
              "    }\n",
              "  </style>\n",
              "\n",
              "      <script>\n",
              "        const buttonEl =\n",
              "          document.querySelector('#df-93d566a7-01b0-4a6b-a723-fb85ab7b6810 button.colab-df-convert');\n",
              "        buttonEl.style.display =\n",
              "          google.colab.kernel.accessAllowed ? 'block' : 'none';\n",
              "\n",
              "        async function convertToInteractive(key) {\n",
              "          const element = document.querySelector('#df-93d566a7-01b0-4a6b-a723-fb85ab7b6810');\n",
              "          const dataTable =\n",
              "            await google.colab.kernel.invokeFunction('convertToInteractive',\n",
              "                                                     [key], {});\n",
              "          if (!dataTable) return;\n",
              "\n",
              "          const docLinkHtml = 'Like what you see? Visit the ' +\n",
              "            '<a target=\"_blank\" href=https://colab.research.google.com/notebooks/data_table.ipynb>data table notebook</a>'\n",
              "            + ' to learn more about interactive tables.';\n",
              "          element.innerHTML = '';\n",
              "          dataTable['output_type'] = 'display_data';\n",
              "          await google.colab.output.renderOutput(dataTable, element);\n",
              "          const docLink = document.createElement('div');\n",
              "          docLink.innerHTML = docLinkHtml;\n",
              "          element.appendChild(docLink);\n",
              "        }\n",
              "      </script>\n",
              "    </div>\n",
              "  </div>\n",
              "  "
            ],
            "text/plain": [
              "             lossAVG\n",
              "Activation          \n",
              "tanh        0.367591\n",
              "elu         0.369800\n",
              "selu        0.387732\n",
              "relu        0.388805\n",
              "swish       0.392001"
            ]
          },
          "execution_count": 35,
          "metadata": {},
          "output_type": "execute_result"
        },
        {
          "metadata": {
            "tags": null
          },
          "name": "stdout",
          "output_type": "stream",
          "text": [
            "time: 9.73 ms (started: 2022-12-11 17:17:48 +00:00)\n"
          ]
        }
      ]
    },
    {
      "cell_type": "code",
      "execution_count": null,
      "metadata": {
        "id": "wBE4fCoQdADY",
        "colab": {
          "base_uri": "https://localhost:8080/"
        },
        "outputId": "47dc3b30-bf0f-496b-a344-716b5fd7f2d3"
      },
      "outputs": [
        {
          "metadata": {
            "tags": null
          },
          "name": "stdout",
          "output_type": "stream",
          "text": [
            "4, 7, 8, 13, 20, 21, 30, 46, 59, 62, 75, 81, 91, 94, 95, 97, 99, 106, 110, 123, 126, 128, 131, 134, 136, 137, 145\n",
            "time: 8.01 ms (started: 2022-12-11 17:17:48 +00:00)\n"
          ]
        }
      ],
      "source": [
        "max_recall_0 = [i[0] for i in recalls]\n",
        "max_recall_0_idx = [i for i in range(len(max_recall_0)) if max_recall_0[i] >= .8]\n",
        "print(*max_recall_0_idx, sep=', ')"
      ]
    },
    {
      "cell_type": "code",
      "execution_count": null,
      "metadata": {
        "id": "xUcPMqKag5uf",
        "colab": {
          "base_uri": "https://localhost:8080/"
        },
        "outputId": "d7b8af52-c1eb-40eb-9280-c47a93f5e71a"
      },
      "outputs": [
        {
          "metadata": {
            "tags": null
          },
          "name": "stdout",
          "output_type": "stream",
          "text": [
            "[[4, 0.8019323671497585], [8, 0.8090909090909091], [20, 0.8201754385964912], [30, 0.8051948051948052], [46, 0.8018018018018018], [62, 0.8609865470852018], [95, 0.8198198198198198], [106, 0.8080357142857143], [145, 0.8577981651376146]]\n",
            "time: 3.29 ms (started: 2022-12-11 17:17:48 +00:00)\n"
          ]
        }
      ],
      "source": [
        "recall_filtered = [m for m in [[i, rec[1]] for i, rec in enumerate(recalls) if i in max_recall_0_idx] if m[1] >= .8]\n",
        "\n",
        "print(recall_filtered)"
      ]
    },
    {
      "cell_type": "code",
      "source": [
        "for i in range(len(recall_filtered)):\n",
        "  print(reports[recall_filtered[i][0]], '\\n\\n')"
      ],
      "metadata": {
        "id": "haKHcJ2P93de",
        "colab": {
          "base_uri": "https://localhost:8080/"
        },
        "outputId": "6c9b719b-d396-4515-afda-cc8389f15583"
      },
      "execution_count": null,
      "outputs": [
        {
          "output_type": "stream",
          "name": "stdout",
          "text": [
            "                                                      precision    recall  f1-score   support\n",
            "\n",
            "                 Fabricated Content/Imposter Content       0.81      0.80      0.81       220\n",
            "Misleading Content/False Context/Manipulated Content       0.78      0.80      0.79       207\n",
            "                                               Valid       0.96      0.94      0.95       243\n",
            "\n",
            "                                            accuracy                           0.85       670\n",
            "                                           macro avg       0.85      0.85      0.85       670\n",
            "                                        weighted avg       0.86      0.85      0.85       670\n",
            " \n",
            "\n",
            "\n",
            "                                                      precision    recall  f1-score   support\n",
            "\n",
            "                 Fabricated Content/Imposter Content       0.78      0.81      0.80       217\n",
            "Misleading Content/False Context/Manipulated Content       0.77      0.81      0.79       220\n",
            "                                               Valid       0.99      0.91      0.95       234\n",
            "\n",
            "                                            accuracy                           0.85       671\n",
            "                                           macro avg       0.85      0.84      0.85       671\n",
            "                                        weighted avg       0.85      0.85      0.85       671\n",
            " \n",
            "\n",
            "\n",
            "                                                      precision    recall  f1-score   support\n",
            "\n",
            "                 Fabricated Content/Imposter Content       0.81      0.82      0.81       224\n",
            "Misleading Content/False Context/Manipulated Content       0.80      0.82      0.81       228\n",
            "                                               Valid       0.98      0.94      0.96       219\n",
            "\n",
            "                                            accuracy                           0.86       671\n",
            "                                           macro avg       0.86      0.86      0.86       671\n",
            "                                        weighted avg       0.86      0.86      0.86       671\n",
            " \n",
            "\n",
            "\n",
            "                                                      precision    recall  f1-score   support\n",
            "\n",
            "                 Fabricated Content/Imposter Content       0.81      0.80      0.81       208\n",
            "Misleading Content/False Context/Manipulated Content       0.85      0.81      0.82       231\n",
            "                                               Valid       0.92      0.97      0.95       232\n",
            "\n",
            "                                            accuracy                           0.86       671\n",
            "                                           macro avg       0.86      0.86      0.86       671\n",
            "                                        weighted avg       0.86      0.86      0.86       671\n",
            " \n",
            "\n",
            "\n",
            "                                                      precision    recall  f1-score   support\n",
            "\n",
            "                 Fabricated Content/Imposter Content       0.80      0.81      0.81       217\n",
            "Misleading Content/False Context/Manipulated Content       0.77      0.80      0.79       222\n",
            "                                               Valid       0.96      0.92      0.94       232\n",
            "\n",
            "                                            accuracy                           0.85       671\n",
            "                                           macro avg       0.85      0.84      0.84       671\n",
            "                                        weighted avg       0.85      0.85      0.85       671\n",
            " \n",
            "\n",
            "\n",
            "                                                      precision    recall  f1-score   support\n",
            "\n",
            "                 Fabricated Content/Imposter Content       0.86      0.82      0.84       225\n",
            "Misleading Content/False Context/Manipulated Content       0.80      0.86      0.83       223\n",
            "                                               Valid       0.96      0.93      0.95       223\n",
            "\n",
            "                                            accuracy                           0.87       671\n",
            "                                           macro avg       0.87      0.87      0.87       671\n",
            "                                        weighted avg       0.87      0.87      0.87       671\n",
            " \n",
            "\n",
            "\n",
            "                                                      precision    recall  f1-score   support\n",
            "\n",
            "                 Fabricated Content/Imposter Content       0.80      0.81      0.81       201\n",
            "Misleading Content/False Context/Manipulated Content       0.81      0.82      0.82       222\n",
            "                                               Valid       0.95      0.94      0.95       248\n",
            "\n",
            "                                            accuracy                           0.86       671\n",
            "                                           macro avg       0.86      0.86      0.86       671\n",
            "                                        weighted avg       0.86      0.86      0.86       671\n",
            " \n",
            "\n",
            "\n",
            "                                                      precision    recall  f1-score   support\n",
            "\n",
            "                 Fabricated Content/Imposter Content       0.80      0.81      0.81       218\n",
            "Misleading Content/False Context/Manipulated Content       0.78      0.81      0.80       224\n",
            "                                               Valid       0.96      0.93      0.94       229\n",
            "\n",
            "                                            accuracy                           0.85       671\n",
            "                                           macro avg       0.85      0.85      0.85       671\n",
            "                                        weighted avg       0.85      0.85      0.85       671\n",
            " \n",
            "\n",
            "\n",
            "                                                      precision    recall  f1-score   support\n",
            "\n",
            "                 Fabricated Content/Imposter Content       0.86      0.84      0.85       223\n",
            "Misleading Content/False Context/Manipulated Content       0.79      0.86      0.82       218\n",
            "                                               Valid       0.99      0.93      0.96       230\n",
            "\n",
            "                                            accuracy                           0.87       671\n",
            "                                           macro avg       0.88      0.87      0.88       671\n",
            "                                        weighted avg       0.88      0.87      0.88       671\n",
            " \n",
            "\n",
            "\n",
            "time: 938 µs (started: 2022-12-11 17:17:48 +00:00)\n"
          ]
        }
      ]
    },
    {
      "cell_type": "code",
      "source": [
        "bests = [2, 5, 8]\n",
        "selecteds = [recall_filtered[i][0] for i in bests]"
      ],
      "metadata": {
        "colab": {
          "base_uri": "https://localhost:8080/"
        },
        "id": "wD-NXQ_aO1uu",
        "outputId": "591b5a3b-ec3b-4556-c673-029a288feb8c"
      },
      "execution_count": null,
      "outputs": [
        {
          "output_type": "stream",
          "name": "stdout",
          "text": [
            "time: 872 µs (started: 2022-12-11 17:20:10 +00:00)\n"
          ]
        }
      ]
    },
    {
      "cell_type": "code",
      "source": [
        "def tokenize(text, cloud):\n",
        "  s = text.split()\n",
        "  return [cloud[s[i]] if s[i] in cloud else 1 for i in range(len(s))]\n",
        "\n",
        "def pad_sequence(seq):\n",
        "  return [0 if i < (max_len - len(seq)) else seq[i - (max_len - len(seq))] for i in range(max_len)]"
      ],
      "metadata": {
        "id": "BwVwz7LDxyam",
        "colab": {
          "base_uri": "https://localhost:8080/"
        },
        "outputId": "e25ba605-1adb-47c8-d958-b5e0caa8da85"
      },
      "execution_count": null,
      "outputs": [
        {
          "output_type": "stream",
          "name": "stdout",
          "text": [
            "time: 1.45 ms (started: 2022-12-11 17:20:11 +00:00)\n"
          ]
        }
      ]
    },
    {
      "cell_type": "code",
      "source": [
        "results = []\n",
        "\n",
        "for j in selecteds:\n",
        "  predict_temp = []\n",
        "  false_temp = []\n",
        "  print(f'model-{j} predict')\n",
        "  for i in range(len(XVal)):\n",
        "    seq = tokenize(XVal[i], clouds[j])\n",
        "    padded = np.array([pad_sequence(seq)])\n",
        "    preds = models[j].predict(padded)\n",
        "    proba = preds[0].tolist()\n",
        "    classes = list(encoder.classes_)\n",
        "    prediction = classes[proba.index(max(preds[0]))]\n",
        "    if prediction == YVal[i]: predict_temp.append(True)\n",
        "    else: false_temp.append(classes.index(YVal[i]))\n",
        "\n",
        "  results.append(f'correct: {len(predict_temp)}/{len(XVal)}: {round(len(predict_temp)/len(XVal) * 100, 3)}%  -  false-i: {false_temp.count(0)}  -  false-m: {false_temp.count(1)}  -  false-v: {false_temp.count(2)}')"
      ],
      "metadata": {
        "id": "BhShuHzCxkIi"
      },
      "execution_count": null,
      "outputs": []
    },
    {
      "cell_type": "code",
      "source": [
        "for i in range(len(selecteds)):\n",
        "  print('model:', selecteds[i], f'\\n{results[i]}')"
      ],
      "metadata": {
        "colab": {
          "base_uri": "https://localhost:8080/"
        },
        "id": "3t1PU6NL09Gw",
        "outputId": "16c5f5fa-30ee-4f8a-ab8c-7ca5217b84f3"
      },
      "execution_count": null,
      "outputs": [
        {
          "output_type": "stream",
          "name": "stdout",
          "text": [
            "model: 20 \n",
            "correct: 4628/7315: 63.267%  -  false-i: 43  -  false-m: 2377  -  false-v: 267\n",
            "model: 62 \n",
            "correct: 5992/7315: 81.914%  -  false-i: 380  -  false-m: 198  -  false-v: 745\n",
            "model: 145 \n",
            "correct: 6371/7315: 87.095%  -  false-i: 131  -  false-m: 582  -  false-v: 231\n",
            "time: 1.15 ms (started: 2022-12-11 17:44:57 +00:00)\n"
          ]
        }
      ]
    },
    {
      "cell_type": "code",
      "source": [
        "best = [145, 6371]\n",
        "define_confusion(metas[best[0]][2], metas[best[0]][1])\n",
        "print('\\n')\n",
        "define_plot('accuracy', metas[best[0]][3])\n",
        "print('\\n')\n",
        "define_plot('loss', metas[best[0]][3])\n",
        "print('\\n\\n')"
      ],
      "metadata": {
        "colab": {
          "base_uri": "https://localhost:8080/",
          "height": 1000
        },
        "id": "zArSwVYxdsEu",
        "outputId": "3c304610-3ed1-438c-94f0-cd7f6b69441a"
      },
      "execution_count": null,
      "outputs": [
        {
          "output_type": "display_data",
          "data": {
            "text/plain": [
              "<Figure size 936x720 with 2 Axes>"
            ],
            "image/png": "[encoded data removed]"
          },
          "metadata": {
            "needs_background": "light"
          }
        },
        {
          "output_type": "stream",
          "name": "stdout",
          "text": [
            "\n",
            "\n"
          ]
        },
        {
          "output_type": "display_data",
          "data": {
            "text/plain": [
              "<Figure size 1080x504 with 1 Axes>"
            ],
            "image/png": "[encoded data removed]"
          },
          "metadata": {
            "needs_background": "light"
          }
        },
        {
          "output_type": "stream",
          "name": "stdout",
          "text": [
            "\n",
            "\n"
          ]
        },
        {
          "output_type": "display_data",
          "data": {
            "text/plain": [
              "<Figure size 1080x504 with 1 Axes>"
            ],
            "image/png": "[encoded data removed]"
          },
          "metadata": {
            "needs_background": "light"
          }
        },
        {
          "output_type": "stream",
          "name": "stdout",
          "text": [
            "\n",
            "\n",
            "\n",
            "time: 1.52 s (started: 2022-12-11 17:54:05 +00:00)\n"
          ]
        }
      ]
    },
    {
      "cell_type": "code",
      "source": [
        "record.to_excel('acc_loss_records.xlsx', index=False, encoding='utf-8')"
      ],
      "metadata": {
        "colab": {
          "base_uri": "https://localhost:8080/"
        },
        "id": "y9BfAXOlSCM9",
        "outputId": "556e616b-a584-4a87-ed98-c9cee94e3739"
      },
      "execution_count": null,
      "outputs": [
        {
          "output_type": "stream",
          "name": "stdout",
          "text": [
            "time: 529 ms (started: 2022-12-11 17:54:15 +00:00)\n"
          ]
        }
      ]
    },
    {
      "cell_type": "code",
      "source": [
        "def cr_to_excel(report, index, score):\n",
        "    report_data = []\n",
        "    lines = report.split('\\n')\n",
        "    for line in (lines[2:5]+lines[7:9]):\n",
        "        row = {}\n",
        "        row_data = line.split()\n",
        "        row['class'] = ' '.join(row_data[0:-4])\n",
        "        row['precision'] = row_data[-4]\n",
        "        row['recall'] = row_data[-3]\n",
        "        row['f1_score'] = row_data[-2]\n",
        "        row['support'] = row_data[-1]\n",
        "        row['accuracy'] = round(record.iloc[math.ceil((index+0.5)/5) - 1][f'acc{(index%5) + 1}'], 2)\n",
        "        row['loss'] = round(record.iloc[math.ceil((index+0.5)/5) - 1][f'loss{(index%5) + 1}'], 4)\n",
        "        row['activation'] = record.iloc[math.ceil((index+0.5)/5) - 1]['Activation']\n",
        "        row['optimizer'] = record.iloc[math.ceil((index+0.5)/5) - 1]['Optimizer']\n",
        "        row['kernel'] = record.iloc[math.ceil((index+0.5)/5) - 1]['Filters']\n",
        "        row['test_score'] = round(((score-3354)/(7315-3354)*100), 2)\n",
        "        report_data.append(row)\n",
        "    dataframe = pd.DataFrame.from_dict(report_data)\n",
        "    dataframe.to_excel(f'classification_report-{index}.xlsx', index = False)\n",
        "\n",
        "cr_to_excel(reports[best[0]], best[0], best[1])"
      ],
      "metadata": {
        "colab": {
          "base_uri": "https://localhost:8080/"
        },
        "id": "jz0MV6wZiUq8",
        "outputId": "12ebbd7e-0944-4514-dabd-6b9de20d9ee3"
      },
      "execution_count": null,
      "outputs": [
        {
          "output_type": "stream",
          "name": "stdout",
          "text": [
            "time: 25 ms (started: 2022-12-11 17:54:43 +00:00)\n"
          ]
        }
      ]
    },
    {
      "cell_type": "code",
      "source": [
        "def clouds_to_json(index):\n",
        "  with open(f'word_dict-{index}.json' , 'w') as file:    \n",
        "    json.dump(clouds[index], file)\n",
        "\n",
        "clouds_to_json(best[0])"
      ],
      "metadata": {
        "colab": {
          "base_uri": "https://localhost:8080/"
        },
        "id": "hrR13HO1SyAH",
        "outputId": "e3efe4d6-a952-4151-97f8-00d087d6a447"
      },
      "execution_count": null,
      "outputs": [
        {
          "output_type": "stream",
          "name": "stdout",
          "text": [
            "time: 28.8 ms (started: 2022-12-11 17:55:13 +00:00)\n"
          ]
        }
      ]
    },
    {
      "cell_type": "code",
      "source": [
        "def res_to_json(index):\n",
        "  with open(f'residu-{index}.json' , 'w') as file:    \n",
        "    json.dump({'valid': valid_selected[index], 'false': false_selected[index], 'imposter': imposter_selected[index]}, file)\n",
        "\n",
        "res_to_json(best[0])"
      ],
      "metadata": {
        "colab": {
          "base_uri": "https://localhost:8080/"
        },
        "id": "N5U-pd_aUv_u",
        "outputId": "cee80351-683e-491b-f750-5d1656ee645e"
      },
      "execution_count": null,
      "outputs": [
        {
          "output_type": "stream",
          "name": "stdout",
          "text": [
            "time: 33.2 ms (started: 2022-12-11 17:55:17 +00:00)\n"
          ]
        }
      ]
    },
    {
      "cell_type": "code",
      "source": [
        "models[best[0]].save(f\"model-{best[0]}.h5\")"
      ],
      "metadata": {
        "colab": {
          "base_uri": "https://localhost:8080/"
        },
        "id": "AE-7_qKDTfZI",
        "outputId": "45b0ce3c-54c1-4afb-c88a-68ad904045ad"
      },
      "execution_count": null,
      "outputs": [
        {
          "output_type": "stream",
          "name": "stdout",
          "text": [
            "time: 236 ms (started: 2022-12-11 17:55:22 +00:00)\n"
          ]
        }
      ]
    },
    {
      "cell_type": "code",
      "source": [
        "files.download('acc_loss_records.xlsx')\n",
        "\n",
        "files.download(f'classification_report-{best[0]}.xlsx')\n",
        "files.download(f'word_dict-{best[0]}.json')\n",
        "files.download(f'residu-{best[0]}.json')\n",
        "files.download(f'model-{best[0]}.h5')"
      ],
      "metadata": {
        "id": "mnxFtY4lWGFC",
        "colab": {
          "base_uri": "https://localhost:8080/",
          "height": 87
        },
        "outputId": "12de1e56-9d44-4a15-8ee8-656f6a18a3e2"
      },
      "execution_count": null,
      "outputs": [
        {
          "output_type": "display_data",
          "data": {
            "text/plain": [
              "<IPython.core.display.Javascript object>"
            ],
            "application/javascript": [
              "\n",
              "    async function download(id, filename, size) {\n",
              "      if (!google.colab.kernel.accessAllowed) {\n",
              "        return;\n",
              "      }\n",
              "      const div = document.createElement('div');\n",
              "      const label = document.createElement('label');\n",
              "      label.textContent = `Downloading \"${filename}\": `;\n",
              "      div.appendChild(label);\n",
              "      const progress = document.createElement('progress');\n",
              "      progress.max = size;\n",
              "      div.appendChild(progress);\n",
              "      document.body.appendChild(div);\n",
              "\n",
              "      const buffers = [];\n",
              "      let downloaded = 0;\n",
              "\n",
              "      const channel = await google.colab.kernel.comms.open(id);\n",
              "      // Send a message to notify the kernel that we're ready.\n",
              "      channel.send({})\n",
              "\n",
              "      for await (const message of channel.messages) {\n",
              "        // Send a message to notify the kernel that we're ready.\n",
              "        channel.send({})\n",
              "        if (message.buffers) {\n",
              "          for (const buffer of message.buffers) {\n",
              "            buffers.push(buffer);\n",
              "            downloaded += buffer.byteLength;\n",
              "            progress.value = downloaded;\n",
              "          }\n",
              "        }\n",
              "      }\n",
              "      const blob = new Blob(buffers, {type: 'application/binary'});\n",
              "      const a = document.createElement('a');\n",
              "      a.href = window.URL.createObjectURL(blob);\n",
              "      a.download = filename;\n",
              "      div.appendChild(a);\n",
              "      a.click();\n",
              "      div.remove();\n",
              "    }\n",
              "  "
            ]
          },
          "metadata": {}
        },
        {
          "output_type": "display_data",
          "data": {
            "text/plain": [
              "<IPython.core.display.Javascript object>"
            ],
            "application/javascript": [
              "download(\"download_02e7f54f-7a6c-41c9-b85c-08f62eb90ce1\", \"acc_loss_records.xlsx\", 10301)"
            ]
          },
          "metadata": {}
        },
        {
          "output_type": "display_data",
          "data": {
            "text/plain": [
              "<IPython.core.display.Javascript object>"
            ],
            "application/javascript": [
              "\n",
              "    async function download(id, filename, size) {\n",
              "      if (!google.colab.kernel.accessAllowed) {\n",
              "        return;\n",
              "      }\n",
              "      const div = document.createElement('div');\n",
              "      const label = document.createElement('label');\n",
              "      label.textContent = `Downloading \"${filename}\": `;\n",
              "      div.appendChild(label);\n",
              "      const progress = document.createElement('progress');\n",
              "      progress.max = size;\n",
              "      div.appendChild(progress);\n",
              "      document.body.appendChild(div);\n",
              "\n",
              "      const buffers = [];\n",
              "      let downloaded = 0;\n",
              "\n",
              "      const channel = await google.colab.kernel.comms.open(id);\n",
              "      // Send a message to notify the kernel that we're ready.\n",
              "      channel.send({})\n",
              "\n",
              "      for await (const message of channel.messages) {\n",
              "        // Send a message to notify the kernel that we're ready.\n",
              "        channel.send({})\n",
              "        if (message.buffers) {\n",
              "          for (const buffer of message.buffers) {\n",
              "            buffers.push(buffer);\n",
              "            downloaded += buffer.byteLength;\n",
              "            progress.value = downloaded;\n",
              "          }\n",
              "        }\n",
              "      }\n",
              "      const blob = new Blob(buffers, {type: 'application/binary'});\n",
              "      const a = document.createElement('a');\n",
              "      a.href = window.URL.createObjectURL(blob);\n",
              "      a.download = filename;\n",
              "      div.appendChild(a);\n",
              "      a.click();\n",
              "      div.remove();\n",
              "    }\n",
              "  "
            ]
          },
          "metadata": {}
        },
        {
          "output_type": "display_data",
          "data": {
            "text/plain": [
              "<IPython.core.display.Javascript object>"
            ],
            "application/javascript": [
              "download(\"download_9e3167e9-dbe5-4e40-8d29-ccf9a28d0eb1\", \"classification_report-145.xlsx\", 5355)"
            ]
          },
          "metadata": {}
        },
        {
          "output_type": "display_data",
          "data": {
            "text/plain": [
              "<IPython.core.display.Javascript object>"
            ],
            "application/javascript": [
              "\n",
              "    async function download(id, filename, size) {\n",
              "      if (!google.colab.kernel.accessAllowed) {\n",
              "        return;\n",
              "      }\n",
              "      const div = document.createElement('div');\n",
              "      const label = document.createElement('label');\n",
              "      label.textContent = `Downloading \"${filename}\": `;\n",
              "      div.appendChild(label);\n",
              "      const progress = document.createElement('progress');\n",
              "      progress.max = size;\n",
              "      div.appendChild(progress);\n",
              "      document.body.appendChild(div);\n",
              "\n",
              "      const buffers = [];\n",
              "      let downloaded = 0;\n",
              "\n",
              "      const channel = await google.colab.kernel.comms.open(id);\n",
              "      // Send a message to notify the kernel that we're ready.\n",
              "      channel.send({})\n",
              "\n",
              "      for await (const message of channel.messages) {\n",
              "        // Send a message to notify the kernel that we're ready.\n",
              "        channel.send({})\n",
              "        if (message.buffers) {\n",
              "          for (const buffer of message.buffers) {\n",
              "            buffers.push(buffer);\n",
              "            downloaded += buffer.byteLength;\n",
              "            progress.value = downloaded;\n",
              "          }\n",
              "        }\n",
              "      }\n",
              "      const blob = new Blob(buffers, {type: 'application/binary'});\n",
              "      const a = document.createElement('a');\n",
              "      a.href = window.URL.createObjectURL(blob);\n",
              "      a.download = filename;\n",
              "      div.appendChild(a);\n",
              "      a.click();\n",
              "      div.remove();\n",
              "    }\n",
              "  "
            ]
          },
          "metadata": {}
        },
        {
          "output_type": "display_data",
          "data": {
            "text/plain": [
              "<IPython.core.display.Javascript object>"
            ],
            "application/javascript": [
              "download(\"download_c85afe9d-8674-4967-879c-51276c7deba5\", \"word_dict-145.json\", 208959)"
            ]
          },
          "metadata": {}
        },
        {
          "output_type": "display_data",
          "data": {
            "text/plain": [
              "<IPython.core.display.Javascript object>"
            ],
            "application/javascript": [
              "\n",
              "    async function download(id, filename, size) {\n",
              "      if (!google.colab.kernel.accessAllowed) {\n",
              "        return;\n",
              "      }\n",
              "      const div = document.createElement('div');\n",
              "      const label = document.createElement('label');\n",
              "      label.textContent = `Downloading \"${filename}\": `;\n",
              "      div.appendChild(label);\n",
              "      const progress = document.createElement('progress');\n",
              "      progress.max = size;\n",
              "      div.appendChild(progress);\n",
              "      document.body.appendChild(div);\n",
              "\n",
              "      const buffers = [];\n",
              "      let downloaded = 0;\n",
              "\n",
              "      const channel = await google.colab.kernel.comms.open(id);\n",
              "      // Send a message to notify the kernel that we're ready.\n",
              "      channel.send({})\n",
              "\n",
              "      for await (const message of channel.messages) {\n",
              "        // Send a message to notify the kernel that we're ready.\n",
              "        channel.send({})\n",
              "        if (message.buffers) {\n",
              "          for (const buffer of message.buffers) {\n",
              "            buffers.push(buffer);\n",
              "            downloaded += buffer.byteLength;\n",
              "            progress.value = downloaded;\n",
              "          }\n",
              "        }\n",
              "      }\n",
              "      const blob = new Blob(buffers, {type: 'application/binary'});\n",
              "      const a = document.createElement('a');\n",
              "      a.href = window.URL.createObjectURL(blob);\n",
              "      a.download = filename;\n",
              "      div.appendChild(a);\n",
              "      a.click();\n",
              "      div.remove();\n",
              "    }\n",
              "  "
            ]
          },
          "metadata": {}
        },
        {
          "output_type": "display_data",
          "data": {
            "text/plain": [
              "<IPython.core.display.Javascript object>"
            ],
            "application/javascript": [
              "download(\"download_dbd30377-b8a0-4678-a979-29750cf68f08\", \"residu-145.json\", 247533)"
            ]
          },
          "metadata": {}
        },
        {
          "output_type": "display_data",
          "data": {
            "text/plain": [
              "<IPython.core.display.Javascript object>"
            ],
            "application/javascript": [
              "\n",
              "    async function download(id, filename, size) {\n",
              "      if (!google.colab.kernel.accessAllowed) {\n",
              "        return;\n",
              "      }\n",
              "      const div = document.createElement('div');\n",
              "      const label = document.createElement('label');\n",
              "      label.textContent = `Downloading \"${filename}\": `;\n",
              "      div.appendChild(label);\n",
              "      const progress = document.createElement('progress');\n",
              "      progress.max = size;\n",
              "      div.appendChild(progress);\n",
              "      document.body.appendChild(div);\n",
              "\n",
              "      const buffers = [];\n",
              "      let downloaded = 0;\n",
              "\n",
              "      const channel = await google.colab.kernel.comms.open(id);\n",
              "      // Send a message to notify the kernel that we're ready.\n",
              "      channel.send({})\n",
              "\n",
              "      for await (const message of channel.messages) {\n",
              "        // Send a message to notify the kernel that we're ready.\n",
              "        channel.send({})\n",
              "        if (message.buffers) {\n",
              "          for (const buffer of message.buffers) {\n",
              "            buffers.push(buffer);\n",
              "            downloaded += buffer.byteLength;\n",
              "            progress.value = downloaded;\n",
              "          }\n",
              "        }\n",
              "      }\n",
              "      const blob = new Blob(buffers, {type: 'application/binary'});\n",
              "      const a = document.createElement('a');\n",
              "      a.href = window.URL.createObjectURL(blob);\n",
              "      a.download = filename;\n",
              "      div.appendChild(a);\n",
              "      a.click();\n",
              "      div.remove();\n",
              "    }\n",
              "  "
            ]
          },
          "metadata": {}
        },
        {
          "output_type": "display_data",
          "data": {
            "text/plain": [
              "<IPython.core.display.Javascript object>"
            ],
            "application/javascript": [
              "download(\"download_781657d3-35d2-4102-b504-503e72679deb\", \"model-145.h5\", 46650344)"
            ]
          },
          "metadata": {}
        },
        {
          "output_type": "stream",
          "name": "stdout",
          "text": [
            "time: 26.3 ms (started: 2022-12-11 17:55:26 +00:00)\n"
          ]
        }
      ]
    }
  ]
}