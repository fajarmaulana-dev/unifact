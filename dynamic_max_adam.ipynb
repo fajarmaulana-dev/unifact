{
  "nbformat": 4,
  "nbformat_minor": 0,
  "metadata": {
    "colab": {
      "provenance": [],
      "authorship_tag": "ABX9TyMF1pZjOBweLTNefvVAzOf4",
      "include_colab_link": true
    },
    "kernelspec": {
      "name": "python3",
      "display_name": "Python 3"
    },
    "language_info": {
      "name": "python"
    },
    "accelerator": "GPU",
    "gpuClass": "standard"
  },
  "cells": [
    {
      "cell_type": "markdown",
      "metadata": {
        "id": "view-in-github",
        "colab_type": "text"
      },
      "source": [
        "<a href=\"https://colab.research.google.com/github/felkira/unifact.github.io/blob/modeling/dynamic_max_adam.ipynb\" target=\"_parent\"><img src=\"https://colab.research.google.com/assets/colab-badge.svg\" alt=\"Open In Colab\"/></a>"
      ]
    },
    {
      "cell_type": "code",
      "execution_count": null,
      "metadata": {
        "id": "Mq48DsyGZUVM"
      },
      "outputs": [],
      "source": [
        "# Record Each Cell's Execution Time\n",
        "!pip install keras-tcn\n",
        "!pip install ipython-autotime\n",
        "%load_ext autotime"
      ]
    },
    {
      "cell_type": "code",
      "execution_count": null,
      "metadata": {
        "colab": {
          "base_uri": "https://localhost:8080/"
        },
        "id": "dPtsepq3ZJXM",
        "outputId": "c5e010c6-a13e-49c8-8e4f-25a54313a726"
      },
      "outputs": [
        {
          "output_type": "stream",
          "name": "stdout",
          "text": [
            "time: 3.66 s (started: 2022-12-12 15:04:43 +00:00)\n"
          ]
        }
      ],
      "source": [
        "import numpy as np\n",
        "import pandas as pd \n",
        "import matplotlib.pyplot as plt\n",
        "import seaborn as sns\n",
        "import json, re, string, gdown, math, time\n",
        "from tcn import TCN\n",
        "from keras.layers import Input, Embedding, Dense, Dropout, SpatialDropout1D, concatenate, GlobalAveragePooling1D, GlobalMaxPooling1D, Bidirectional\n",
        "from keras.models import Model\n",
        "from tensorflow.keras.preprocessing import text, sequence\n",
        "from keras.utils import to_categorical\n",
        "from tensorflow.keras.callbacks import EarlyStopping\n",
        "from tensorflow.math import confusion_matrix as cm\n",
        "from sklearn.model_selection import train_test_split\n",
        "from sklearn.preprocessing import LabelEncoder\n",
        "from sklearn.model_selection import KFold\n",
        "from sklearn.metrics import classification_report as cr, precision_recall_fscore_support as prfs\n",
        "from collections import Counter\n",
        "from random import randint\n",
        "from google.colab import files"
      ]
    },
    {
      "cell_type": "code",
      "source": [
        "!wget https://dl.fbaipublicfiles.com/fasttext/vectors-crawl/cc.id.300.vec.gz"
      ],
      "metadata": {
        "colab": {
          "base_uri": "https://localhost:8080/"
        },
        "outputId": "68cd45a7-5183-4048-aac5-0fad55887cd7",
        "id": "n1XzpvrKFzIv"
      },
      "execution_count": null,
      "outputs": [
        {
          "output_type": "stream",
          "name": "stdout",
          "text": [
            "--2022-12-12 15:04:47--  https://dl.fbaipublicfiles.com/fasttext/vectors-crawl/cc.id.300.vec.gz\n",
            "Resolving dl.fbaipublicfiles.com (dl.fbaipublicfiles.com)... 172.67.9.4, 104.22.74.142, 104.22.75.142, ...\n",
            "Connecting to dl.fbaipublicfiles.com (dl.fbaipublicfiles.com)|172.67.9.4|:443... connected.\n",
            "HTTP request sent, awaiting response... 200 OK\n",
            "Length: 1227018698 (1.1G) [binary/octet-stream]\n",
            "Saving to: ‘cc.id.300.vec.gz’\n",
            "\n",
            "cc.id.300.vec.gz    100%[===================>]   1.14G  20.7MB/s    in 59s     \n",
            "\n",
            "2022-12-12 15:05:47 (19.8 MB/s) - ‘cc.id.300.vec.gz’ saved [1227018698/1227018698]\n",
            "\n",
            "time: 1min (started: 2022-12-12 15:04:47 +00:00)\n"
          ]
        }
      ]
    },
    {
      "cell_type": "code",
      "source": [
        "!gunzip cc.id.300.vec.gz"
      ],
      "metadata": {
        "id": "9HCNEgmgFzIx",
        "colab": {
          "base_uri": "https://localhost:8080/"
        },
        "outputId": "07fffa76-5a93-4d2e-903d-753c7a1a42bd"
      },
      "execution_count": null,
      "outputs": [
        {
          "output_type": "stream",
          "name": "stdout",
          "text": [
            "time: 29.9 s (started: 2022-12-12 15:05:47 +00:00)\n"
          ]
        }
      ]
    },
    {
      "cell_type": "code",
      "source": [
        "f = open('/content/cc.id.300.vec', encoding='utf-8')\n",
        "\n",
        "embedding_vectors = {}\n",
        "for row in f:\n",
        "    values = row.split(' ')\n",
        "    word = values[0]\n",
        "    weights = np.asarray([float(val) for val in values[1:]])\n",
        "    embedding_vectors[word] = weights\n",
        "\n",
        "print(f\"Size of vocabulary in FastText: {len(embedding_vectors)}\")"
      ],
      "metadata": {
        "id": "onr9vrk5rutu",
        "colab": {
          "base_uri": "https://localhost:8080/"
        },
        "outputId": "b9af0140-3fd3-49ff-f595-7266a6c337a9"
      },
      "execution_count": null,
      "outputs": [
        {
          "output_type": "stream",
          "name": "stdout",
          "text": [
            "Size of vocabulary in FastText: 2000000\n",
            "time: 2min 24s (started: 2022-12-12 15:06:17 +00:00)\n"
          ]
        }
      ]
    },
    {
      "cell_type": "code",
      "execution_count": null,
      "metadata": {
        "id": "I4ZEAL8CELcv",
        "colab": {
          "base_uri": "https://localhost:8080/",
          "height": 128
        },
        "outputId": "cc0b7363-c74e-4876-e57d-b60cece46a07"
      },
      "outputs": [
        {
          "output_type": "stream",
          "name": "stderr",
          "text": [
            "Downloading...\n",
            "From: https://drive.google.com/u/0/uc?id=1p6hrwRZfgEOrHSQGPdMyZvdi3rQLHS2p&export=download\n",
            "To: /content/valid-7hoaks.csv\n",
            "100%|██████████| 2.07M/2.07M [00:00<00:00, 191MB/s]\n"
          ]
        },
        {
          "output_type": "execute_result",
          "data": {
            "text/plain": [
              "'valid-7hoaks.csv'"
            ],
            "application/vnd.google.colaboratory.intrinsic+json": {
              "type": "string"
            }
          },
          "metadata": {},
          "execution_count": 6
        },
        {
          "output_type": "stream",
          "name": "stdout",
          "text": [
            "time: 2.55 s (started: 2022-12-12 15:08:42 +00:00)\n"
          ]
        }
      ],
      "source": [
        "url = 'https://drive.google.com/u/0/uc?id=1p6hrwRZfgEOrHSQGPdMyZvdi3rQLHS2p&export=download'\n",
        "gdown.download(url, 'valid-7hoaks.csv', quiet=False)"
      ]
    },
    {
      "cell_type": "code",
      "execution_count": null,
      "metadata": {
        "id": "iCipNeVuZ8qb",
        "colab": {
          "base_uri": "https://localhost:8080/",
          "height": 476
        },
        "outputId": "9a48eba6-16d1-4a96-82c3-9c1522195598"
      },
      "outputs": [
        {
          "output_type": "execute_result",
          "data": {
            "text/plain": [
              "                  kategori  \\\n",
              "0  Konten Yang Menyesatkan   \n",
              "1        Konten Yang Salah   \n",
              "2  Konten Yang Menyesatkan   \n",
              "3  Konten Yang Menyesatkan   \n",
              "4  Konten Yang Menyesatkan   \n",
              "\n",
              "                                                                         judul  \\\n",
              "0  buaya meter terbesar di dunia ditemukan di danau kota maine amerika serikat   \n",
              "1       demo memprotes kecurangan hasil pemilihan umum di brazil pada november   \n",
              "2                                          warga bogor meninggal hidup kembali   \n",
              "3                                dari fauci akui vaksin tidak melindungi covid   \n",
              "4                             set top box dapat mendeteksi orang yang divaksin   \n",
              "\n",
              "      tanggal  \\\n",
              "0  26/11/2022   \n",
              "1  25/11/2022   \n",
              "2  25/11/2022   \n",
              "3  25/11/2022   \n",
              "4  25/11/2022   \n",
              "\n",
              "                                                                                                                                          narasi  \n",
              "0                                                                          buaya meter terbesar dunia ditemukan danau kota maine amerika serikat  \n",
              "1                                                                                 demo memprotes kecurangan hasil pemilihan umum brazil november  \n",
              "2                                                                                                                    warga bogor meninggal hidup  \n",
              "3                                                                                                             fauci akui vaksin melindungi covid  \n",
              "4  vaksin gratis set box punah gratis ternyata ternyata dalamnya rangkaian bluetooth low energy device membaca data orang orang yg divaksin aduh  "
            ],
            "text/html": [
              "\n",
              "  <div id=\"df-7bc7bd19-db23-4e4c-a085-3060b5f5d4a1\">\n",
              "    <div class=\"colab-df-container\">\n",
              "      <div>\n",
              "<style scoped>\n",
              "    .dataframe tbody tr th:only-of-type {\n",
              "        vertical-align: middle;\n",
              "    }\n",
              "\n",
              "    .dataframe tbody tr th {\n",
              "        vertical-align: top;\n",
              "    }\n",
              "\n",
              "    .dataframe thead th {\n",
              "        text-align: right;\n",
              "    }\n",
              "</style>\n",
              "<table border=\"1\" class=\"dataframe\">\n",
              "  <thead>\n",
              "    <tr style=\"text-align: right;\">\n",
              "      <th></th>\n",
              "      <th>kategori</th>\n",
              "      <th>judul</th>\n",
              "      <th>tanggal</th>\n",
              "      <th>narasi</th>\n",
              "    </tr>\n",
              "  </thead>\n",
              "  <tbody>\n",
              "    <tr>\n",
              "      <th>0</th>\n",
              "      <td>Konten Yang Menyesatkan</td>\n",
              "      <td>buaya meter terbesar di dunia ditemukan di danau kota maine amerika serikat</td>\n",
              "      <td>26/11/2022</td>\n",
              "      <td>buaya meter terbesar dunia ditemukan danau kota maine amerika serikat</td>\n",
              "    </tr>\n",
              "    <tr>\n",
              "      <th>1</th>\n",
              "      <td>Konten Yang Salah</td>\n",
              "      <td>demo memprotes kecurangan hasil pemilihan umum di brazil pada november</td>\n",
              "      <td>25/11/2022</td>\n",
              "      <td>demo memprotes kecurangan hasil pemilihan umum brazil november</td>\n",
              "    </tr>\n",
              "    <tr>\n",
              "      <th>2</th>\n",
              "      <td>Konten Yang Menyesatkan</td>\n",
              "      <td>warga bogor meninggal hidup kembali</td>\n",
              "      <td>25/11/2022</td>\n",
              "      <td>warga bogor meninggal hidup</td>\n",
              "    </tr>\n",
              "    <tr>\n",
              "      <th>3</th>\n",
              "      <td>Konten Yang Menyesatkan</td>\n",
              "      <td>dari fauci akui vaksin tidak melindungi covid</td>\n",
              "      <td>25/11/2022</td>\n",
              "      <td>fauci akui vaksin melindungi covid</td>\n",
              "    </tr>\n",
              "    <tr>\n",
              "      <th>4</th>\n",
              "      <td>Konten Yang Menyesatkan</td>\n",
              "      <td>set top box dapat mendeteksi orang yang divaksin</td>\n",
              "      <td>25/11/2022</td>\n",
              "      <td>vaksin gratis set box punah gratis ternyata ternyata dalamnya rangkaian bluetooth low energy device membaca data orang orang yg divaksin aduh</td>\n",
              "    </tr>\n",
              "  </tbody>\n",
              "</table>\n",
              "</div>\n",
              "      <button class=\"colab-df-convert\" onclick=\"convertToInteractive('df-7bc7bd19-db23-4e4c-a085-3060b5f5d4a1')\"\n",
              "              title=\"Convert this dataframe to an interactive table.\"\n",
              "              style=\"display:none;\">\n",
              "        \n",
              "  <svg xmlns=\"http://www.w3.org/2000/svg\" height=\"24px\"viewBox=\"0 0 24 24\"\n",
              "       width=\"24px\">\n",
              "    <path d=\"M0 0h24v24H0V0z\" fill=\"none\"/>\n",
              "    <path d=\"M18.56 5.44l.94 2.06.94-2.06 2.06-.94-2.06-.94-.94-2.06-.94 2.06-2.06.94zm-11 1L8.5 8.5l.94-2.06 2.06-.94-2.06-.94L8.5 2.5l-.94 2.06-2.06.94zm10 10l.94 2.06.94-2.06 2.06-.94-2.06-.94-.94-2.06-.94 2.06-2.06.94z\"/><path d=\"M17.41 7.96l-1.37-1.37c-.4-.4-.92-.59-1.43-.59-.52 0-1.04.2-1.43.59L10.3 9.45l-7.72 7.72c-.78.78-.78 2.05 0 2.83L4 21.41c.39.39.9.59 1.41.59.51 0 1.02-.2 1.41-.59l7.78-7.78 2.81-2.81c.8-.78.8-2.07 0-2.86zM5.41 20L4 18.59l7.72-7.72 1.47 1.35L5.41 20z\"/>\n",
              "  </svg>\n",
              "      </button>\n",
              "      \n",
              "  <style>\n",
              "    .colab-df-container {\n",
              "      display:flex;\n",
              "      flex-wrap:wrap;\n",
              "      gap: 12px;\n",
              "    }\n",
              "\n",
              "    .colab-df-convert {\n",
              "      background-color: #E8F0FE;\n",
              "      border: none;\n",
              "      border-radius: 50%;\n",
              "      cursor: pointer;\n",
              "      display: none;\n",
              "      fill: #1967D2;\n",
              "      height: 32px;\n",
              "      padding: 0 0 0 0;\n",
              "      width: 32px;\n",
              "    }\n",
              "\n",
              "    .colab-df-convert:hover {\n",
              "      background-color: #E2EBFA;\n",
              "      box-shadow: 0px 1px 2px rgba(60, 64, 67, 0.3), 0px 1px 3px 1px rgba(60, 64, 67, 0.15);\n",
              "      fill: #174EA6;\n",
              "    }\n",
              "\n",
              "    [theme=dark] .colab-df-convert {\n",
              "      background-color: #3B4455;\n",
              "      fill: #D2E3FC;\n",
              "    }\n",
              "\n",
              "    [theme=dark] .colab-df-convert:hover {\n",
              "      background-color: #434B5C;\n",
              "      box-shadow: 0px 1px 3px 1px rgba(0, 0, 0, 0.15);\n",
              "      filter: drop-shadow(0px 1px 2px rgba(0, 0, 0, 0.3));\n",
              "      fill: #FFFFFF;\n",
              "    }\n",
              "  </style>\n",
              "\n",
              "      <script>\n",
              "        const buttonEl =\n",
              "          document.querySelector('#df-7bc7bd19-db23-4e4c-a085-3060b5f5d4a1 button.colab-df-convert');\n",
              "        buttonEl.style.display =\n",
              "          google.colab.kernel.accessAllowed ? 'block' : 'none';\n",
              "\n",
              "        async function convertToInteractive(key) {\n",
              "          const element = document.querySelector('#df-7bc7bd19-db23-4e4c-a085-3060b5f5d4a1');\n",
              "          const dataTable =\n",
              "            await google.colab.kernel.invokeFunction('convertToInteractive',\n",
              "                                                     [key], {});\n",
              "          if (!dataTable) return;\n",
              "\n",
              "          const docLinkHtml = 'Like what you see? Visit the ' +\n",
              "            '<a target=\"_blank\" href=https://colab.research.google.com/notebooks/data_table.ipynb>data table notebook</a>'\n",
              "            + ' to learn more about interactive tables.';\n",
              "          element.innerHTML = '';\n",
              "          dataTable['output_type'] = 'display_data';\n",
              "          await google.colab.output.renderOutput(dataTable, element);\n",
              "          const docLink = document.createElement('div');\n",
              "          docLink.innerHTML = docLinkHtml;\n",
              "          element.appendChild(docLink);\n",
              "        }\n",
              "      </script>\n",
              "    </div>\n",
              "  </div>\n",
              "  "
            ]
          },
          "metadata": {},
          "execution_count": 7
        },
        {
          "output_type": "stream",
          "name": "stdout",
          "text": [
            "time: 49.2 ms (started: 2022-12-12 15:08:44 +00:00)\n"
          ]
        }
      ],
      "source": [
        "main_data = pd.read_csv('/content/valid-7hoaks.csv')\n",
        "pd.set_option('max_colwidth', 400)\n",
        "main_data.head()"
      ]
    },
    {
      "cell_type": "code",
      "execution_count": null,
      "metadata": {
        "id": "sSOTr3p4aIfB",
        "colab": {
          "base_uri": "https://localhost:8080/"
        },
        "outputId": "298ee87c-9e3b-4250-ab0c-b96ae701a029"
      },
      "outputs": [
        {
          "output_type": "stream",
          "name": "stdout",
          "text": [
            "Shape of data (rows, cols)=> (7530, 4)\n",
            "time: 870 µs (started: 2022-12-12 15:08:44 +00:00)\n"
          ]
        }
      ],
      "source": [
        "print(\"Shape of data (rows, cols)=>\", main_data.shape)"
      ]
    },
    {
      "cell_type": "code",
      "execution_count": null,
      "metadata": {
        "id": "_5XQg4wUkTqv",
        "colab": {
          "base_uri": "https://localhost:8080/"
        },
        "outputId": "6f0a6598-1ab1-474c-8a1f-df83108edd29"
      },
      "outputs": [
        {
          "output_type": "execute_result",
          "data": {
            "text/plain": [
              "kategori    0\n",
              "judul       0\n",
              "tanggal     0\n",
              "narasi      0\n",
              "dtype: int64"
            ]
          },
          "metadata": {},
          "execution_count": 9
        },
        {
          "output_type": "stream",
          "name": "stdout",
          "text": [
            "time: 6.8 ms (started: 2022-12-12 15:08:44 +00:00)\n"
          ]
        }
      ],
      "source": [
        "main_data.isnull().sum()"
      ]
    },
    {
      "cell_type": "code",
      "execution_count": null,
      "metadata": {
        "id": "LaY1lfhOauVe",
        "colab": {
          "base_uri": "https://localhost:8080/",
          "height": 254
        },
        "outputId": "ed8dac2c-ad33-49d2-a097-97b3a723a277"
      },
      "outputs": [
        {
          "output_type": "execute_result",
          "data": {
            "text/plain": [
              "       kategori  \\\n",
              "count      7530   \n",
              "unique        8   \n",
              "top       Valid   \n",
              "freq       2350   \n",
              "\n",
              "                                                                              judul  \\\n",
              "count                                                                          7530   \n",
              "unique                                                                         7530   \n",
              "top     buaya meter terbesar di dunia ditemukan di danau kota maine amerika serikat   \n",
              "freq                                                                              1   \n",
              "\n",
              "           tanggal                                  narasi  \n",
              "count         7530                                    7530  \n",
              "unique        1317                                    7528  \n",
              "top     17/10/2022  foto badai petir terlihat luar angkasa  \n",
              "freq            87                                       2  "
            ],
            "text/html": [
              "\n",
              "  <div id=\"df-11c26859-436d-4791-add9-0e5272ba5b53\">\n",
              "    <div class=\"colab-df-container\">\n",
              "      <div>\n",
              "<style scoped>\n",
              "    .dataframe tbody tr th:only-of-type {\n",
              "        vertical-align: middle;\n",
              "    }\n",
              "\n",
              "    .dataframe tbody tr th {\n",
              "        vertical-align: top;\n",
              "    }\n",
              "\n",
              "    .dataframe thead th {\n",
              "        text-align: right;\n",
              "    }\n",
              "</style>\n",
              "<table border=\"1\" class=\"dataframe\">\n",
              "  <thead>\n",
              "    <tr style=\"text-align: right;\">\n",
              "      <th></th>\n",
              "      <th>kategori</th>\n",
              "      <th>judul</th>\n",
              "      <th>tanggal</th>\n",
              "      <th>narasi</th>\n",
              "    </tr>\n",
              "  </thead>\n",
              "  <tbody>\n",
              "    <tr>\n",
              "      <th>count</th>\n",
              "      <td>7530</td>\n",
              "      <td>7530</td>\n",
              "      <td>7530</td>\n",
              "      <td>7530</td>\n",
              "    </tr>\n",
              "    <tr>\n",
              "      <th>unique</th>\n",
              "      <td>8</td>\n",
              "      <td>7530</td>\n",
              "      <td>1317</td>\n",
              "      <td>7528</td>\n",
              "    </tr>\n",
              "    <tr>\n",
              "      <th>top</th>\n",
              "      <td>Valid</td>\n",
              "      <td>buaya meter terbesar di dunia ditemukan di danau kota maine amerika serikat</td>\n",
              "      <td>17/10/2022</td>\n",
              "      <td>foto badai petir terlihat luar angkasa</td>\n",
              "    </tr>\n",
              "    <tr>\n",
              "      <th>freq</th>\n",
              "      <td>2350</td>\n",
              "      <td>1</td>\n",
              "      <td>87</td>\n",
              "      <td>2</td>\n",
              "    </tr>\n",
              "  </tbody>\n",
              "</table>\n",
              "</div>\n",
              "      <button class=\"colab-df-convert\" onclick=\"convertToInteractive('df-11c26859-436d-4791-add9-0e5272ba5b53')\"\n",
              "              title=\"Convert this dataframe to an interactive table.\"\n",
              "              style=\"display:none;\">\n",
              "        \n",
              "  <svg xmlns=\"http://www.w3.org/2000/svg\" height=\"24px\"viewBox=\"0 0 24 24\"\n",
              "       width=\"24px\">\n",
              "    <path d=\"M0 0h24v24H0V0z\" fill=\"none\"/>\n",
              "    <path d=\"M18.56 5.44l.94 2.06.94-2.06 2.06-.94-2.06-.94-.94-2.06-.94 2.06-2.06.94zm-11 1L8.5 8.5l.94-2.06 2.06-.94-2.06-.94L8.5 2.5l-.94 2.06-2.06.94zm10 10l.94 2.06.94-2.06 2.06-.94-2.06-.94-.94-2.06-.94 2.06-2.06.94z\"/><path d=\"M17.41 7.96l-1.37-1.37c-.4-.4-.92-.59-1.43-.59-.52 0-1.04.2-1.43.59L10.3 9.45l-7.72 7.72c-.78.78-.78 2.05 0 2.83L4 21.41c.39.39.9.59 1.41.59.51 0 1.02-.2 1.41-.59l7.78-7.78 2.81-2.81c.8-.78.8-2.07 0-2.86zM5.41 20L4 18.59l7.72-7.72 1.47 1.35L5.41 20z\"/>\n",
              "  </svg>\n",
              "      </button>\n",
              "      \n",
              "  <style>\n",
              "    .colab-df-container {\n",
              "      display:flex;\n",
              "      flex-wrap:wrap;\n",
              "      gap: 12px;\n",
              "    }\n",
              "\n",
              "    .colab-df-convert {\n",
              "      background-color: #E8F0FE;\n",
              "      border: none;\n",
              "      border-radius: 50%;\n",
              "      cursor: pointer;\n",
              "      display: none;\n",
              "      fill: #1967D2;\n",
              "      height: 32px;\n",
              "      padding: 0 0 0 0;\n",
              "      width: 32px;\n",
              "    }\n",
              "\n",
              "    .colab-df-convert:hover {\n",
              "      background-color: #E2EBFA;\n",
              "      box-shadow: 0px 1px 2px rgba(60, 64, 67, 0.3), 0px 1px 3px 1px rgba(60, 64, 67, 0.15);\n",
              "      fill: #174EA6;\n",
              "    }\n",
              "\n",
              "    [theme=dark] .colab-df-convert {\n",
              "      background-color: #3B4455;\n",
              "      fill: #D2E3FC;\n",
              "    }\n",
              "\n",
              "    [theme=dark] .colab-df-convert:hover {\n",
              "      background-color: #434B5C;\n",
              "      box-shadow: 0px 1px 3px 1px rgba(0, 0, 0, 0.15);\n",
              "      filter: drop-shadow(0px 1px 2px rgba(0, 0, 0, 0.3));\n",
              "      fill: #FFFFFF;\n",
              "    }\n",
              "  </style>\n",
              "\n",
              "      <script>\n",
              "        const buttonEl =\n",
              "          document.querySelector('#df-11c26859-436d-4791-add9-0e5272ba5b53 button.colab-df-convert');\n",
              "        buttonEl.style.display =\n",
              "          google.colab.kernel.accessAllowed ? 'block' : 'none';\n",
              "\n",
              "        async function convertToInteractive(key) {\n",
              "          const element = document.querySelector('#df-11c26859-436d-4791-add9-0e5272ba5b53');\n",
              "          const dataTable =\n",
              "            await google.colab.kernel.invokeFunction('convertToInteractive',\n",
              "                                                     [key], {});\n",
              "          if (!dataTable) return;\n",
              "\n",
              "          const docLinkHtml = 'Like what you see? Visit the ' +\n",
              "            '<a target=\"_blank\" href=https://colab.research.google.com/notebooks/data_table.ipynb>data table notebook</a>'\n",
              "            + ' to learn more about interactive tables.';\n",
              "          element.innerHTML = '';\n",
              "          dataTable['output_type'] = 'display_data';\n",
              "          await google.colab.output.renderOutput(dataTable, element);\n",
              "          const docLink = document.createElement('div');\n",
              "          docLink.innerHTML = docLinkHtml;\n",
              "          element.appendChild(docLink);\n",
              "        }\n",
              "      </script>\n",
              "    </div>\n",
              "  </div>\n",
              "  "
            ]
          },
          "metadata": {},
          "execution_count": 10
        },
        {
          "output_type": "stream",
          "name": "stdout",
          "text": [
            "time: 25.4 ms (started: 2022-12-12 15:08:44 +00:00)\n"
          ]
        }
      ],
      "source": [
        "main_data.describe(include='all')"
      ]
    },
    {
      "cell_type": "code",
      "execution_count": null,
      "metadata": {
        "id": "jamSe8DbazRI",
        "colab": {
          "base_uri": "https://localhost:8080/"
        },
        "outputId": "58a2d8df-8341-4358-fd8f-01cfdff931d4"
      },
      "outputs": [
        {
          "output_type": "execute_result",
          "data": {
            "text/plain": [
              "False    7528\n",
              "True        2\n",
              "Name: narasi, dtype: int64"
            ]
          },
          "metadata": {},
          "execution_count": 11
        },
        {
          "output_type": "stream",
          "name": "stdout",
          "text": [
            "time: 6.25 ms (started: 2022-12-12 15:08:45 +00:00)\n"
          ]
        }
      ],
      "source": [
        "main_data.narasi.duplicated(keep=\"first\").value_counts()"
      ]
    },
    {
      "cell_type": "code",
      "execution_count": null,
      "metadata": {
        "id": "UFqYW38ha7rA",
        "colab": {
          "base_uri": "https://localhost:8080/"
        },
        "outputId": "c495557b-1937-428d-9cd0-2023044af126"
      },
      "outputs": [
        {
          "output_type": "execute_result",
          "data": {
            "text/plain": [
              "False    7528\n",
              "Name: narasi, dtype: int64"
            ]
          },
          "metadata": {},
          "execution_count": 12
        },
        {
          "output_type": "stream",
          "name": "stdout",
          "text": [
            "time: 43.2 ms (started: 2022-12-12 15:08:45 +00:00)\n"
          ]
        }
      ],
      "source": [
        "main_data.drop_duplicates(subset=\"narasi\", keep=\"first\", inplace=True)\n",
        "main_data.reset_index(drop=True, inplace=True)\n",
        "main_data.narasi.duplicated(keep=\"first\").value_counts()"
      ]
    },
    {
      "cell_type": "code",
      "execution_count": null,
      "metadata": {
        "id": "l8CaqT5bbGcO",
        "colab": {
          "base_uri": "https://localhost:8080/"
        },
        "outputId": "66afb9dc-7a8d-428a-aadf-c1037bf136ed"
      },
      "outputs": [
        {
          "output_type": "stream",
          "name": "stdout",
          "text": [
            "Categories:\n",
            " ['Konten Yang Menyesatkan' 'Konten Yang Salah' 'Satire/Parodi'\n",
            " 'Konten Palsu' 'Konten Yang Dimanipulasi' 'Konten Tiruan'\n",
            " 'Koneksi Yang Salah' 'Valid']\n",
            "time: 2.93 ms (started: 2022-12-12 15:08:45 +00:00)\n"
          ]
        }
      ],
      "source": [
        "categories = main_data.kategori.unique()\n",
        "print(\"Categories:\\n\", categories)"
      ]
    },
    {
      "cell_type": "code",
      "execution_count": null,
      "metadata": {
        "id": "bFeg5EXhY27p",
        "colab": {
          "base_uri": "https://localhost:8080/"
        },
        "outputId": "c9e1c27c-4da0-42dd-a4a5-57fa317e84ce"
      },
      "outputs": [
        {
          "output_type": "execute_result",
          "data": {
            "text/plain": [
              "Valid                       2349\n",
              "Konten Yang Menyesatkan     1882\n",
              "Konten Yang Salah           1313\n",
              "Konten Palsu                 768\n",
              "Konten Yang Dimanipulasi     643\n",
              "Konten Tiruan                360\n",
              "Satire/Parodi                125\n",
              "Koneksi Yang Salah            88\n",
              "Name: kategori, dtype: int64"
            ]
          },
          "metadata": {},
          "execution_count": 14
        },
        {
          "output_type": "stream",
          "name": "stdout",
          "text": [
            "time: 5.88 ms (started: 2022-12-12 15:08:45 +00:00)\n"
          ]
        }
      ],
      "source": [
        "main_data.kategori.value_counts()"
      ]
    },
    {
      "cell_type": "code",
      "execution_count": null,
      "metadata": {
        "id": "ro4nIgg9H7Sg",
        "colab": {
          "base_uri": "https://localhost:8080/"
        },
        "outputId": "210669f7-20f3-4853-8bf2-1eed16df3284"
      },
      "outputs": [
        {
          "output_type": "execute_result",
          "data": {
            "text/plain": [
              "Misleading Content/False Context/Manipulated Content    3838\n",
              "Valid                                                   2349\n",
              "Fabricated Content/Imposter Content                     1128\n",
              "Name: kategori, dtype: int64"
            ]
          },
          "metadata": {},
          "execution_count": 15
        },
        {
          "output_type": "stream",
          "name": "stdout",
          "text": [
            "time: 15 ms (started: 2022-12-12 15:08:45 +00:00)\n"
          ]
        }
      ],
      "source": [
        "main_data.loc[main_data['kategori'] == 'Konten Yang Salah', 'kategori'] = 'Misleading Content/False Context/Manipulated Content'\n",
        "main_data.loc[main_data['kategori'] == 'Konten Yang Menyesatkan', 'kategori'] = 'Misleading Content/False Context/Manipulated Content'\n",
        "main_data.loc[main_data['kategori'] == 'Konten Yang Dimanipulasi', 'kategori'] = 'Misleading Content/False Context/Manipulated Content'\n",
        "\n",
        "main_data.loc[main_data['kategori'] == 'Konten Palsu', 'kategori'] = 'Fabricated Content/Imposter Content'\n",
        "main_data.loc[main_data['kategori'] == 'Konten Tiruan', 'kategori'] = 'Fabricated Content/Imposter Content'\n",
        "\n",
        "main_data = main_data[main_data['kategori'] != 'Koneksi Yang Salah']\n",
        "main_data = main_data[main_data['kategori'] != 'Satire/Parodi']\n",
        "\n",
        "main_data.reset_index(drop=True, inplace=True)\n",
        "main_data.kategori.value_counts()"
      ]
    },
    {
      "cell_type": "code",
      "source": [
        "XVal, YVal = list(main_data['narasi']), list(main_data['kategori'])"
      ],
      "metadata": {
        "id": "i7xGca_YyJAQ",
        "colab": {
          "base_uri": "https://localhost:8080/"
        },
        "outputId": "7f53c566-d766-4deb-ad3e-2a6cb4b928df"
      },
      "execution_count": null,
      "outputs": [
        {
          "output_type": "stream",
          "name": "stdout",
          "text": [
            "time: 2.08 ms (started: 2022-12-12 15:08:45 +00:00)\n"
          ]
        }
      ]
    },
    {
      "cell_type": "code",
      "source": [
        "data = main_data"
      ],
      "metadata": {
        "id": "5h0preQLxHzu",
        "colab": {
          "base_uri": "https://localhost:8080/"
        },
        "outputId": "dd1d4a7b-6951-4cd8-f153-a0c572669bcc"
      },
      "execution_count": null,
      "outputs": [
        {
          "output_type": "stream",
          "name": "stdout",
          "text": [
            "time: 472 µs (started: 2022-12-12 15:08:45 +00:00)\n"
          ]
        }
      ]
    },
    {
      "cell_type": "code",
      "execution_count": null,
      "metadata": {
        "id": "cXgYsVRmcfCG",
        "colab": {
          "base_uri": "https://localhost:8080/"
        },
        "outputId": "8212409d-ac34-4afd-edbf-3ea499fa232d"
      },
      "outputs": [
        {
          "output_type": "stream",
          "name": "stdout",
          "text": [
            "time: 21.5 ms (started: 2022-12-12 15:08:45 +00:00)\n"
          ]
        }
      ],
      "source": [
        "data['words'] = [len(x.split()) for x in data['narasi'].tolist()]"
      ]
    },
    {
      "cell_type": "code",
      "execution_count": null,
      "metadata": {
        "id": "iDPyzOoYcolt",
        "colab": {
          "base_uri": "https://localhost:8080/",
          "height": 286
        },
        "outputId": "9210bcda-b25c-4026-ae20-45ade60a9f6f"
      },
      "outputs": [
        {
          "output_type": "execute_result",
          "data": {
            "text/plain": [
              "   words  \\\n",
              "0     10   \n",
              "1      8   \n",
              "2      4   \n",
              "3      5   \n",
              "4     21   \n",
              "\n",
              "                                                                                                                                          narasi  \n",
              "0                                                                          buaya meter terbesar dunia ditemukan danau kota maine amerika serikat  \n",
              "1                                                                                 demo memprotes kecurangan hasil pemilihan umum brazil november  \n",
              "2                                                                                                                    warga bogor meninggal hidup  \n",
              "3                                                                                                             fauci akui vaksin melindungi covid  \n",
              "4  vaksin gratis set box punah gratis ternyata ternyata dalamnya rangkaian bluetooth low energy device membaca data orang orang yg divaksin aduh  "
            ],
            "text/html": [
              "\n",
              "  <div id=\"df-5c21a84b-469f-4348-8ec0-6e27028ba3a1\">\n",
              "    <div class=\"colab-df-container\">\n",
              "      <div>\n",
              "<style scoped>\n",
              "    .dataframe tbody tr th:only-of-type {\n",
              "        vertical-align: middle;\n",
              "    }\n",
              "\n",
              "    .dataframe tbody tr th {\n",
              "        vertical-align: top;\n",
              "    }\n",
              "\n",
              "    .dataframe thead th {\n",
              "        text-align: right;\n",
              "    }\n",
              "</style>\n",
              "<table border=\"1\" class=\"dataframe\">\n",
              "  <thead>\n",
              "    <tr style=\"text-align: right;\">\n",
              "      <th></th>\n",
              "      <th>words</th>\n",
              "      <th>narasi</th>\n",
              "    </tr>\n",
              "  </thead>\n",
              "  <tbody>\n",
              "    <tr>\n",
              "      <th>0</th>\n",
              "      <td>10</td>\n",
              "      <td>buaya meter terbesar dunia ditemukan danau kota maine amerika serikat</td>\n",
              "    </tr>\n",
              "    <tr>\n",
              "      <th>1</th>\n",
              "      <td>8</td>\n",
              "      <td>demo memprotes kecurangan hasil pemilihan umum brazil november</td>\n",
              "    </tr>\n",
              "    <tr>\n",
              "      <th>2</th>\n",
              "      <td>4</td>\n",
              "      <td>warga bogor meninggal hidup</td>\n",
              "    </tr>\n",
              "    <tr>\n",
              "      <th>3</th>\n",
              "      <td>5</td>\n",
              "      <td>fauci akui vaksin melindungi covid</td>\n",
              "    </tr>\n",
              "    <tr>\n",
              "      <th>4</th>\n",
              "      <td>21</td>\n",
              "      <td>vaksin gratis set box punah gratis ternyata ternyata dalamnya rangkaian bluetooth low energy device membaca data orang orang yg divaksin aduh</td>\n",
              "    </tr>\n",
              "  </tbody>\n",
              "</table>\n",
              "</div>\n",
              "      <button class=\"colab-df-convert\" onclick=\"convertToInteractive('df-5c21a84b-469f-4348-8ec0-6e27028ba3a1')\"\n",
              "              title=\"Convert this dataframe to an interactive table.\"\n",
              "              style=\"display:none;\">\n",
              "        \n",
              "  <svg xmlns=\"http://www.w3.org/2000/svg\" height=\"24px\"viewBox=\"0 0 24 24\"\n",
              "       width=\"24px\">\n",
              "    <path d=\"M0 0h24v24H0V0z\" fill=\"none\"/>\n",
              "    <path d=\"M18.56 5.44l.94 2.06.94-2.06 2.06-.94-2.06-.94-.94-2.06-.94 2.06-2.06.94zm-11 1L8.5 8.5l.94-2.06 2.06-.94-2.06-.94L8.5 2.5l-.94 2.06-2.06.94zm10 10l.94 2.06.94-2.06 2.06-.94-2.06-.94-.94-2.06-.94 2.06-2.06.94z\"/><path d=\"M17.41 7.96l-1.37-1.37c-.4-.4-.92-.59-1.43-.59-.52 0-1.04.2-1.43.59L10.3 9.45l-7.72 7.72c-.78.78-.78 2.05 0 2.83L4 21.41c.39.39.9.59 1.41.59.51 0 1.02-.2 1.41-.59l7.78-7.78 2.81-2.81c.8-.78.8-2.07 0-2.86zM5.41 20L4 18.59l7.72-7.72 1.47 1.35L5.41 20z\"/>\n",
              "  </svg>\n",
              "      </button>\n",
              "      \n",
              "  <style>\n",
              "    .colab-df-container {\n",
              "      display:flex;\n",
              "      flex-wrap:wrap;\n",
              "      gap: 12px;\n",
              "    }\n",
              "\n",
              "    .colab-df-convert {\n",
              "      background-color: #E8F0FE;\n",
              "      border: none;\n",
              "      border-radius: 50%;\n",
              "      cursor: pointer;\n",
              "      display: none;\n",
              "      fill: #1967D2;\n",
              "      height: 32px;\n",
              "      padding: 0 0 0 0;\n",
              "      width: 32px;\n",
              "    }\n",
              "\n",
              "    .colab-df-convert:hover {\n",
              "      background-color: #E2EBFA;\n",
              "      box-shadow: 0px 1px 2px rgba(60, 64, 67, 0.3), 0px 1px 3px 1px rgba(60, 64, 67, 0.15);\n",
              "      fill: #174EA6;\n",
              "    }\n",
              "\n",
              "    [theme=dark] .colab-df-convert {\n",
              "      background-color: #3B4455;\n",
              "      fill: #D2E3FC;\n",
              "    }\n",
              "\n",
              "    [theme=dark] .colab-df-convert:hover {\n",
              "      background-color: #434B5C;\n",
              "      box-shadow: 0px 1px 3px 1px rgba(0, 0, 0, 0.15);\n",
              "      filter: drop-shadow(0px 1px 2px rgba(0, 0, 0, 0.3));\n",
              "      fill: #FFFFFF;\n",
              "    }\n",
              "  </style>\n",
              "\n",
              "      <script>\n",
              "        const buttonEl =\n",
              "          document.querySelector('#df-5c21a84b-469f-4348-8ec0-6e27028ba3a1 button.colab-df-convert');\n",
              "        buttonEl.style.display =\n",
              "          google.colab.kernel.accessAllowed ? 'block' : 'none';\n",
              "\n",
              "        async function convertToInteractive(key) {\n",
              "          const element = document.querySelector('#df-5c21a84b-469f-4348-8ec0-6e27028ba3a1');\n",
              "          const dataTable =\n",
              "            await google.colab.kernel.invokeFunction('convertToInteractive',\n",
              "                                                     [key], {});\n",
              "          if (!dataTable) return;\n",
              "\n",
              "          const docLinkHtml = 'Like what you see? Visit the ' +\n",
              "            '<a target=\"_blank\" href=https://colab.research.google.com/notebooks/data_table.ipynb>data table notebook</a>'\n",
              "            + ' to learn more about interactive tables.';\n",
              "          element.innerHTML = '';\n",
              "          dataTable['output_type'] = 'display_data';\n",
              "          await google.colab.output.renderOutput(dataTable, element);\n",
              "          const docLink = document.createElement('div');\n",
              "          docLink.innerHTML = docLinkHtml;\n",
              "          element.appendChild(docLink);\n",
              "        }\n",
              "      </script>\n",
              "    </div>\n",
              "  </div>\n",
              "  "
            ]
          },
          "metadata": {},
          "execution_count": 19
        },
        {
          "output_type": "stream",
          "name": "stdout",
          "text": [
            "time: 8.11 ms (started: 2022-12-12 15:08:45 +00:00)\n"
          ]
        }
      ],
      "source": [
        "data[['words','narasi']].head()"
      ]
    },
    {
      "cell_type": "code",
      "execution_count": null,
      "metadata": {
        "id": "ujBkLajucvRC",
        "colab": {
          "base_uri": "https://localhost:8080/"
        },
        "outputId": "c960fb68-ed7d-4c22-994b-aba5139b6fd4"
      },
      "outputs": [
        {
          "output_type": "execute_result",
          "data": {
            "text/plain": [
              "count    7315.000000\n",
              "mean       24.798770\n",
              "std        34.406444\n",
              "min         2.000000\n",
              "25%        10.000000\n",
              "50%        18.000000\n",
              "75%        27.000000\n",
              "max      1139.000000\n",
              "Name: words, dtype: float64"
            ]
          },
          "metadata": {},
          "execution_count": 20
        },
        {
          "output_type": "stream",
          "name": "stdout",
          "text": [
            "time: 10.9 ms (started: 2022-12-12 15:08:45 +00:00)\n"
          ]
        }
      ],
      "source": [
        "data['words'].describe()"
      ]
    },
    {
      "cell_type": "code",
      "execution_count": null,
      "metadata": {
        "id": "EXo02Sfucz2V",
        "colab": {
          "base_uri": "https://localhost:8080/",
          "height": 272
        },
        "outputId": "2d7fb254-a03f-49c1-d4c9-c7cb1bc285f0"
      },
      "outputs": [
        {
          "output_type": "execute_result",
          "data": {
            "text/plain": [
              "                                                       count       mean  \\\n",
              "kategori                                                                  \n",
              "Fabricated Content/Imposter Content                   1128.0  34.176418   \n",
              "Misleading Content/False Context/Manipulated Content  3838.0  22.686816   \n",
              "Valid                                                 2349.0  23.746275   \n",
              "\n",
              "                                                            std  min   25%  \\\n",
              "kategori                                                                     \n",
              "Fabricated Content/Imposter Content                   49.519877  3.0   9.0   \n",
              "Misleading Content/False Context/Manipulated Content  38.396630  2.0   8.0   \n",
              "Valid                                                  7.115402  8.0  20.0   \n",
              "\n",
              "                                                       50%   75%     max  \n",
              "kategori                                                                  \n",
              "Fabricated Content/Imposter Content                   17.5  41.0   951.0  \n",
              "Misleading Content/False Context/Manipulated Content  11.0  22.0  1139.0  \n",
              "Valid                                                 23.0  27.0   121.0  "
            ],
            "text/html": [
              "\n",
              "  <div id=\"df-8b2faffb-3a39-4089-bd71-00585ff28731\">\n",
              "    <div class=\"colab-df-container\">\n",
              "      <div>\n",
              "<style scoped>\n",
              "    .dataframe tbody tr th:only-of-type {\n",
              "        vertical-align: middle;\n",
              "    }\n",
              "\n",
              "    .dataframe tbody tr th {\n",
              "        vertical-align: top;\n",
              "    }\n",
              "\n",
              "    .dataframe thead th {\n",
              "        text-align: right;\n",
              "    }\n",
              "</style>\n",
              "<table border=\"1\" class=\"dataframe\">\n",
              "  <thead>\n",
              "    <tr style=\"text-align: right;\">\n",
              "      <th></th>\n",
              "      <th>count</th>\n",
              "      <th>mean</th>\n",
              "      <th>std</th>\n",
              "      <th>min</th>\n",
              "      <th>25%</th>\n",
              "      <th>50%</th>\n",
              "      <th>75%</th>\n",
              "      <th>max</th>\n",
              "    </tr>\n",
              "    <tr>\n",
              "      <th>kategori</th>\n",
              "      <th></th>\n",
              "      <th></th>\n",
              "      <th></th>\n",
              "      <th></th>\n",
              "      <th></th>\n",
              "      <th></th>\n",
              "      <th></th>\n",
              "      <th></th>\n",
              "    </tr>\n",
              "  </thead>\n",
              "  <tbody>\n",
              "    <tr>\n",
              "      <th>Fabricated Content/Imposter Content</th>\n",
              "      <td>1128.0</td>\n",
              "      <td>34.176418</td>\n",
              "      <td>49.519877</td>\n",
              "      <td>3.0</td>\n",
              "      <td>9.0</td>\n",
              "      <td>17.5</td>\n",
              "      <td>41.0</td>\n",
              "      <td>951.0</td>\n",
              "    </tr>\n",
              "    <tr>\n",
              "      <th>Misleading Content/False Context/Manipulated Content</th>\n",
              "      <td>3838.0</td>\n",
              "      <td>22.686816</td>\n",
              "      <td>38.396630</td>\n",
              "      <td>2.0</td>\n",
              "      <td>8.0</td>\n",
              "      <td>11.0</td>\n",
              "      <td>22.0</td>\n",
              "      <td>1139.0</td>\n",
              "    </tr>\n",
              "    <tr>\n",
              "      <th>Valid</th>\n",
              "      <td>2349.0</td>\n",
              "      <td>23.746275</td>\n",
              "      <td>7.115402</td>\n",
              "      <td>8.0</td>\n",
              "      <td>20.0</td>\n",
              "      <td>23.0</td>\n",
              "      <td>27.0</td>\n",
              "      <td>121.0</td>\n",
              "    </tr>\n",
              "  </tbody>\n",
              "</table>\n",
              "</div>\n",
              "      <button class=\"colab-df-convert\" onclick=\"convertToInteractive('df-8b2faffb-3a39-4089-bd71-00585ff28731')\"\n",
              "              title=\"Convert this dataframe to an interactive table.\"\n",
              "              style=\"display:none;\">\n",
              "        \n",
              "  <svg xmlns=\"http://www.w3.org/2000/svg\" height=\"24px\"viewBox=\"0 0 24 24\"\n",
              "       width=\"24px\">\n",
              "    <path d=\"M0 0h24v24H0V0z\" fill=\"none\"/>\n",
              "    <path d=\"M18.56 5.44l.94 2.06.94-2.06 2.06-.94-2.06-.94-.94-2.06-.94 2.06-2.06.94zm-11 1L8.5 8.5l.94-2.06 2.06-.94-2.06-.94L8.5 2.5l-.94 2.06-2.06.94zm10 10l.94 2.06.94-2.06 2.06-.94-2.06-.94-.94-2.06-.94 2.06-2.06.94z\"/><path d=\"M17.41 7.96l-1.37-1.37c-.4-.4-.92-.59-1.43-.59-.52 0-1.04.2-1.43.59L10.3 9.45l-7.72 7.72c-.78.78-.78 2.05 0 2.83L4 21.41c.39.39.9.59 1.41.59.51 0 1.02-.2 1.41-.59l7.78-7.78 2.81-2.81c.8-.78.8-2.07 0-2.86zM5.41 20L4 18.59l7.72-7.72 1.47 1.35L5.41 20z\"/>\n",
              "  </svg>\n",
              "      </button>\n",
              "      \n",
              "  <style>\n",
              "    .colab-df-container {\n",
              "      display:flex;\n",
              "      flex-wrap:wrap;\n",
              "      gap: 12px;\n",
              "    }\n",
              "\n",
              "    .colab-df-convert {\n",
              "      background-color: #E8F0FE;\n",
              "      border: none;\n",
              "      border-radius: 50%;\n",
              "      cursor: pointer;\n",
              "      display: none;\n",
              "      fill: #1967D2;\n",
              "      height: 32px;\n",
              "      padding: 0 0 0 0;\n",
              "      width: 32px;\n",
              "    }\n",
              "\n",
              "    .colab-df-convert:hover {\n",
              "      background-color: #E2EBFA;\n",
              "      box-shadow: 0px 1px 2px rgba(60, 64, 67, 0.3), 0px 1px 3px 1px rgba(60, 64, 67, 0.15);\n",
              "      fill: #174EA6;\n",
              "    }\n",
              "\n",
              "    [theme=dark] .colab-df-convert {\n",
              "      background-color: #3B4455;\n",
              "      fill: #D2E3FC;\n",
              "    }\n",
              "\n",
              "    [theme=dark] .colab-df-convert:hover {\n",
              "      background-color: #434B5C;\n",
              "      box-shadow: 0px 1px 3px 1px rgba(0, 0, 0, 0.15);\n",
              "      filter: drop-shadow(0px 1px 2px rgba(0, 0, 0, 0.3));\n",
              "      fill: #FFFFFF;\n",
              "    }\n",
              "  </style>\n",
              "\n",
              "      <script>\n",
              "        const buttonEl =\n",
              "          document.querySelector('#df-8b2faffb-3a39-4089-bd71-00585ff28731 button.colab-df-convert');\n",
              "        buttonEl.style.display =\n",
              "          google.colab.kernel.accessAllowed ? 'block' : 'none';\n",
              "\n",
              "        async function convertToInteractive(key) {\n",
              "          const element = document.querySelector('#df-8b2faffb-3a39-4089-bd71-00585ff28731');\n",
              "          const dataTable =\n",
              "            await google.colab.kernel.invokeFunction('convertToInteractive',\n",
              "                                                     [key], {});\n",
              "          if (!dataTable) return;\n",
              "\n",
              "          const docLinkHtml = 'Like what you see? Visit the ' +\n",
              "            '<a target=\"_blank\" href=https://colab.research.google.com/notebooks/data_table.ipynb>data table notebook</a>'\n",
              "            + ' to learn more about interactive tables.';\n",
              "          element.innerHTML = '';\n",
              "          dataTable['output_type'] = 'display_data';\n",
              "          await google.colab.output.renderOutput(dataTable, element);\n",
              "          const docLink = document.createElement('div');\n",
              "          docLink.innerHTML = docLinkHtml;\n",
              "          element.appendChild(docLink);\n",
              "        }\n",
              "      </script>\n",
              "    </div>\n",
              "  </div>\n",
              "  "
            ]
          },
          "metadata": {},
          "execution_count": 21
        },
        {
          "output_type": "stream",
          "name": "stdout",
          "text": [
            "time: 26.9 ms (started: 2022-12-12 15:08:45 +00:00)\n"
          ]
        }
      ],
      "source": [
        "data.groupby(['kategori'])['words'].describe()"
      ]
    },
    {
      "cell_type": "code",
      "execution_count": null,
      "metadata": {
        "id": "bv32oHF8-3uN",
        "colab": {
          "base_uri": "https://localhost:8080/",
          "height": 272
        },
        "outputId": "a0338179-bc7e-4e9b-9d00-5660bac2d176"
      },
      "outputs": [
        {
          "output_type": "execute_result",
          "data": {
            "text/plain": [
              "                                                       count       mean  \\\n",
              "kategori                                                                  \n",
              "Fabricated Content/Imposter Content                   1118.0  31.190519   \n",
              "Misleading Content/False Context/Manipulated Content  3812.0  20.960913   \n",
              "Valid                                                 2349.0  23.746275   \n",
              "\n",
              "                                                            std  min   25%  \\\n",
              "kategori                                                                     \n",
              "Fabricated Content/Imposter Content                   32.714856  3.0   9.0   \n",
              "Misleading Content/False Context/Manipulated Content  26.427491  3.0   8.0   \n",
              "Valid                                                  7.115402  8.0  20.0   \n",
              "\n",
              "                                                       50%    75%    max  \n",
              "kategori                                                                  \n",
              "Fabricated Content/Imposter Content                   17.0  40.75  196.0  \n",
              "Misleading Content/False Context/Manipulated Content  11.0  22.00  196.0  \n",
              "Valid                                                 23.0  27.00  121.0  "
            ],
            "text/html": [
              "\n",
              "  <div id=\"df-1e42aa95-5f40-4daa-b7ba-d20202689e81\">\n",
              "    <div class=\"colab-df-container\">\n",
              "      <div>\n",
              "<style scoped>\n",
              "    .dataframe tbody tr th:only-of-type {\n",
              "        vertical-align: middle;\n",
              "    }\n",
              "\n",
              "    .dataframe tbody tr th {\n",
              "        vertical-align: top;\n",
              "    }\n",
              "\n",
              "    .dataframe thead th {\n",
              "        text-align: right;\n",
              "    }\n",
              "</style>\n",
              "<table border=\"1\" class=\"dataframe\">\n",
              "  <thead>\n",
              "    <tr style=\"text-align: right;\">\n",
              "      <th></th>\n",
              "      <th>count</th>\n",
              "      <th>mean</th>\n",
              "      <th>std</th>\n",
              "      <th>min</th>\n",
              "      <th>25%</th>\n",
              "      <th>50%</th>\n",
              "      <th>75%</th>\n",
              "      <th>max</th>\n",
              "    </tr>\n",
              "    <tr>\n",
              "      <th>kategori</th>\n",
              "      <th></th>\n",
              "      <th></th>\n",
              "      <th></th>\n",
              "      <th></th>\n",
              "      <th></th>\n",
              "      <th></th>\n",
              "      <th></th>\n",
              "      <th></th>\n",
              "    </tr>\n",
              "  </thead>\n",
              "  <tbody>\n",
              "    <tr>\n",
              "      <th>Fabricated Content/Imposter Content</th>\n",
              "      <td>1118.0</td>\n",
              "      <td>31.190519</td>\n",
              "      <td>32.714856</td>\n",
              "      <td>3.0</td>\n",
              "      <td>9.0</td>\n",
              "      <td>17.0</td>\n",
              "      <td>40.75</td>\n",
              "      <td>196.0</td>\n",
              "    </tr>\n",
              "    <tr>\n",
              "      <th>Misleading Content/False Context/Manipulated Content</th>\n",
              "      <td>3812.0</td>\n",
              "      <td>20.960913</td>\n",
              "      <td>26.427491</td>\n",
              "      <td>3.0</td>\n",
              "      <td>8.0</td>\n",
              "      <td>11.0</td>\n",
              "      <td>22.00</td>\n",
              "      <td>196.0</td>\n",
              "    </tr>\n",
              "    <tr>\n",
              "      <th>Valid</th>\n",
              "      <td>2349.0</td>\n",
              "      <td>23.746275</td>\n",
              "      <td>7.115402</td>\n",
              "      <td>8.0</td>\n",
              "      <td>20.0</td>\n",
              "      <td>23.0</td>\n",
              "      <td>27.00</td>\n",
              "      <td>121.0</td>\n",
              "    </tr>\n",
              "  </tbody>\n",
              "</table>\n",
              "</div>\n",
              "      <button class=\"colab-df-convert\" onclick=\"convertToInteractive('df-1e42aa95-5f40-4daa-b7ba-d20202689e81')\"\n",
              "              title=\"Convert this dataframe to an interactive table.\"\n",
              "              style=\"display:none;\">\n",
              "        \n",
              "  <svg xmlns=\"http://www.w3.org/2000/svg\" height=\"24px\"viewBox=\"0 0 24 24\"\n",
              "       width=\"24px\">\n",
              "    <path d=\"M0 0h24v24H0V0z\" fill=\"none\"/>\n",
              "    <path d=\"M18.56 5.44l.94 2.06.94-2.06 2.06-.94-2.06-.94-.94-2.06-.94 2.06-2.06.94zm-11 1L8.5 8.5l.94-2.06 2.06-.94-2.06-.94L8.5 2.5l-.94 2.06-2.06.94zm10 10l.94 2.06.94-2.06 2.06-.94-2.06-.94-.94-2.06-.94 2.06-2.06.94z\"/><path d=\"M17.41 7.96l-1.37-1.37c-.4-.4-.92-.59-1.43-.59-.52 0-1.04.2-1.43.59L10.3 9.45l-7.72 7.72c-.78.78-.78 2.05 0 2.83L4 21.41c.39.39.9.59 1.41.59.51 0 1.02-.2 1.41-.59l7.78-7.78 2.81-2.81c.8-.78.8-2.07 0-2.86zM5.41 20L4 18.59l7.72-7.72 1.47 1.35L5.41 20z\"/>\n",
              "  </svg>\n",
              "      </button>\n",
              "      \n",
              "  <style>\n",
              "    .colab-df-container {\n",
              "      display:flex;\n",
              "      flex-wrap:wrap;\n",
              "      gap: 12px;\n",
              "    }\n",
              "\n",
              "    .colab-df-convert {\n",
              "      background-color: #E8F0FE;\n",
              "      border: none;\n",
              "      border-radius: 50%;\n",
              "      cursor: pointer;\n",
              "      display: none;\n",
              "      fill: #1967D2;\n",
              "      height: 32px;\n",
              "      padding: 0 0 0 0;\n",
              "      width: 32px;\n",
              "    }\n",
              "\n",
              "    .colab-df-convert:hover {\n",
              "      background-color: #E2EBFA;\n",
              "      box-shadow: 0px 1px 2px rgba(60, 64, 67, 0.3), 0px 1px 3px 1px rgba(60, 64, 67, 0.15);\n",
              "      fill: #174EA6;\n",
              "    }\n",
              "\n",
              "    [theme=dark] .colab-df-convert {\n",
              "      background-color: #3B4455;\n",
              "      fill: #D2E3FC;\n",
              "    }\n",
              "\n",
              "    [theme=dark] .colab-df-convert:hover {\n",
              "      background-color: #434B5C;\n",
              "      box-shadow: 0px 1px 3px 1px rgba(0, 0, 0, 0.15);\n",
              "      filter: drop-shadow(0px 1px 2px rgba(0, 0, 0, 0.3));\n",
              "      fill: #FFFFFF;\n",
              "    }\n",
              "  </style>\n",
              "\n",
              "      <script>\n",
              "        const buttonEl =\n",
              "          document.querySelector('#df-1e42aa95-5f40-4daa-b7ba-d20202689e81 button.colab-df-convert');\n",
              "        buttonEl.style.display =\n",
              "          google.colab.kernel.accessAllowed ? 'block' : 'none';\n",
              "\n",
              "        async function convertToInteractive(key) {\n",
              "          const element = document.querySelector('#df-1e42aa95-5f40-4daa-b7ba-d20202689e81');\n",
              "          const dataTable =\n",
              "            await google.colab.kernel.invokeFunction('convertToInteractive',\n",
              "                                                     [key], {});\n",
              "          if (!dataTable) return;\n",
              "\n",
              "          const docLinkHtml = 'Like what you see? Visit the ' +\n",
              "            '<a target=\"_blank\" href=https://colab.research.google.com/notebooks/data_table.ipynb>data table notebook</a>'\n",
              "            + ' to learn more about interactive tables.';\n",
              "          element.innerHTML = '';\n",
              "          dataTable['output_type'] = 'display_data';\n",
              "          await google.colab.output.renderOutput(dataTable, element);\n",
              "          const docLink = document.createElement('div');\n",
              "          docLink.innerHTML = docLinkHtml;\n",
              "          element.appendChild(docLink);\n",
              "        }\n",
              "      </script>\n",
              "    </div>\n",
              "  </div>\n",
              "  "
            ]
          },
          "metadata": {},
          "execution_count": 22
        },
        {
          "output_type": "stream",
          "name": "stdout",
          "text": [
            "time: 31.2 ms (started: 2022-12-12 15:08:45 +00:00)\n"
          ]
        }
      ],
      "source": [
        "data = data[data['words']<=200]\n",
        "data = data[data['words']>=3]\n",
        "data.groupby(['kategori'])['words'].describe()"
      ]
    },
    {
      "cell_type": "code",
      "execution_count": null,
      "metadata": {
        "id": "1ObiXX15T1At",
        "colab": {
          "base_uri": "https://localhost:8080/",
          "height": 272
        },
        "outputId": "84651bef-aec5-467e-a665-5c476580d990"
      },
      "outputs": [
        {
          "output_type": "execute_result",
          "data": {
            "text/plain": [
              "                                                       count       mean  \\\n",
              "kategori                                                                  \n",
              "Fabricated Content/Imposter Content                   1118.0  31.190519   \n",
              "Misleading Content/False Context/Manipulated Content  1118.0  24.962433   \n",
              "Valid                                                 1118.0  24.450805   \n",
              "\n",
              "                                                            std   min   25%  \\\n",
              "kategori                                                                      \n",
              "Fabricated Content/Imposter Content                   32.714856   3.0   9.0   \n",
              "Misleading Content/False Context/Manipulated Content  30.107245   3.0   8.0   \n",
              "Valid                                                  7.682183  11.0  20.0   \n",
              "\n",
              "                                                       50%    75%    max  \n",
              "kategori                                                                  \n",
              "Fabricated Content/Imposter Content                   17.0  40.75  196.0  \n",
              "Misleading Content/False Context/Manipulated Content  13.0  28.00  194.0  \n",
              "Valid                                                 23.0  27.00  121.0  "
            ],
            "text/html": [
              "\n",
              "  <div id=\"df-10dd0654-45d3-42a2-adc6-fd5e61840abd\">\n",
              "    <div class=\"colab-df-container\">\n",
              "      <div>\n",
              "<style scoped>\n",
              "    .dataframe tbody tr th:only-of-type {\n",
              "        vertical-align: middle;\n",
              "    }\n",
              "\n",
              "    .dataframe tbody tr th {\n",
              "        vertical-align: top;\n",
              "    }\n",
              "\n",
              "    .dataframe thead th {\n",
              "        text-align: right;\n",
              "    }\n",
              "</style>\n",
              "<table border=\"1\" class=\"dataframe\">\n",
              "  <thead>\n",
              "    <tr style=\"text-align: right;\">\n",
              "      <th></th>\n",
              "      <th>count</th>\n",
              "      <th>mean</th>\n",
              "      <th>std</th>\n",
              "      <th>min</th>\n",
              "      <th>25%</th>\n",
              "      <th>50%</th>\n",
              "      <th>75%</th>\n",
              "      <th>max</th>\n",
              "    </tr>\n",
              "    <tr>\n",
              "      <th>kategori</th>\n",
              "      <th></th>\n",
              "      <th></th>\n",
              "      <th></th>\n",
              "      <th></th>\n",
              "      <th></th>\n",
              "      <th></th>\n",
              "      <th></th>\n",
              "      <th></th>\n",
              "    </tr>\n",
              "  </thead>\n",
              "  <tbody>\n",
              "    <tr>\n",
              "      <th>Fabricated Content/Imposter Content</th>\n",
              "      <td>1118.0</td>\n",
              "      <td>31.190519</td>\n",
              "      <td>32.714856</td>\n",
              "      <td>3.0</td>\n",
              "      <td>9.0</td>\n",
              "      <td>17.0</td>\n",
              "      <td>40.75</td>\n",
              "      <td>196.0</td>\n",
              "    </tr>\n",
              "    <tr>\n",
              "      <th>Misleading Content/False Context/Manipulated Content</th>\n",
              "      <td>1118.0</td>\n",
              "      <td>24.962433</td>\n",
              "      <td>30.107245</td>\n",
              "      <td>3.0</td>\n",
              "      <td>8.0</td>\n",
              "      <td>13.0</td>\n",
              "      <td>28.00</td>\n",
              "      <td>194.0</td>\n",
              "    </tr>\n",
              "    <tr>\n",
              "      <th>Valid</th>\n",
              "      <td>1118.0</td>\n",
              "      <td>24.450805</td>\n",
              "      <td>7.682183</td>\n",
              "      <td>11.0</td>\n",
              "      <td>20.0</td>\n",
              "      <td>23.0</td>\n",
              "      <td>27.00</td>\n",
              "      <td>121.0</td>\n",
              "    </tr>\n",
              "  </tbody>\n",
              "</table>\n",
              "</div>\n",
              "      <button class=\"colab-df-convert\" onclick=\"convertToInteractive('df-10dd0654-45d3-42a2-adc6-fd5e61840abd')\"\n",
              "              title=\"Convert this dataframe to an interactive table.\"\n",
              "              style=\"display:none;\">\n",
              "        \n",
              "  <svg xmlns=\"http://www.w3.org/2000/svg\" height=\"24px\"viewBox=\"0 0 24 24\"\n",
              "       width=\"24px\">\n",
              "    <path d=\"M0 0h24v24H0V0z\" fill=\"none\"/>\n",
              "    <path d=\"M18.56 5.44l.94 2.06.94-2.06 2.06-.94-2.06-.94-.94-2.06-.94 2.06-2.06.94zm-11 1L8.5 8.5l.94-2.06 2.06-.94-2.06-.94L8.5 2.5l-.94 2.06-2.06.94zm10 10l.94 2.06.94-2.06 2.06-.94-2.06-.94-.94-2.06-.94 2.06-2.06.94z\"/><path d=\"M17.41 7.96l-1.37-1.37c-.4-.4-.92-.59-1.43-.59-.52 0-1.04.2-1.43.59L10.3 9.45l-7.72 7.72c-.78.78-.78 2.05 0 2.83L4 21.41c.39.39.9.59 1.41.59.51 0 1.02-.2 1.41-.59l7.78-7.78 2.81-2.81c.8-.78.8-2.07 0-2.86zM5.41 20L4 18.59l7.72-7.72 1.47 1.35L5.41 20z\"/>\n",
              "  </svg>\n",
              "      </button>\n",
              "      \n",
              "  <style>\n",
              "    .colab-df-container {\n",
              "      display:flex;\n",
              "      flex-wrap:wrap;\n",
              "      gap: 12px;\n",
              "    }\n",
              "\n",
              "    .colab-df-convert {\n",
              "      background-color: #E8F0FE;\n",
              "      border: none;\n",
              "      border-radius: 50%;\n",
              "      cursor: pointer;\n",
              "      display: none;\n",
              "      fill: #1967D2;\n",
              "      height: 32px;\n",
              "      padding: 0 0 0 0;\n",
              "      width: 32px;\n",
              "    }\n",
              "\n",
              "    .colab-df-convert:hover {\n",
              "      background-color: #E2EBFA;\n",
              "      box-shadow: 0px 1px 2px rgba(60, 64, 67, 0.3), 0px 1px 3px 1px rgba(60, 64, 67, 0.15);\n",
              "      fill: #174EA6;\n",
              "    }\n",
              "\n",
              "    [theme=dark] .colab-df-convert {\n",
              "      background-color: #3B4455;\n",
              "      fill: #D2E3FC;\n",
              "    }\n",
              "\n",
              "    [theme=dark] .colab-df-convert:hover {\n",
              "      background-color: #434B5C;\n",
              "      box-shadow: 0px 1px 3px 1px rgba(0, 0, 0, 0.15);\n",
              "      filter: drop-shadow(0px 1px 2px rgba(0, 0, 0, 0.3));\n",
              "      fill: #FFFFFF;\n",
              "    }\n",
              "  </style>\n",
              "\n",
              "      <script>\n",
              "        const buttonEl =\n",
              "          document.querySelector('#df-10dd0654-45d3-42a2-adc6-fd5e61840abd button.colab-df-convert');\n",
              "        buttonEl.style.display =\n",
              "          google.colab.kernel.accessAllowed ? 'block' : 'none';\n",
              "\n",
              "        async function convertToInteractive(key) {\n",
              "          const element = document.querySelector('#df-10dd0654-45d3-42a2-adc6-fd5e61840abd');\n",
              "          const dataTable =\n",
              "            await google.colab.kernel.invokeFunction('convertToInteractive',\n",
              "                                                     [key], {});\n",
              "          if (!dataTable) return;\n",
              "\n",
              "          const docLinkHtml = 'Like what you see? Visit the ' +\n",
              "            '<a target=\"_blank\" href=https://colab.research.google.com/notebooks/data_table.ipynb>data table notebook</a>'\n",
              "            + ' to learn more about interactive tables.';\n",
              "          element.innerHTML = '';\n",
              "          dataTable['output_type'] = 'display_data';\n",
              "          await google.colab.output.renderOutput(dataTable, element);\n",
              "          const docLink = document.createElement('div');\n",
              "          docLink.innerHTML = docLinkHtml;\n",
              "          element.appendChild(docLink);\n",
              "        }\n",
              "      </script>\n",
              "    </div>\n",
              "  </div>\n",
              "  "
            ]
          },
          "metadata": {},
          "execution_count": 23
        },
        {
          "output_type": "stream",
          "name": "stdout",
          "text": [
            "time: 49.2 ms (started: 2022-12-12 15:08:45 +00:00)\n"
          ]
        }
      ],
      "source": [
        "data[data['kategori']=='Valid'] = data[data['kategori']=='Valid'][1000:2118]\n",
        "data[data['kategori']=='Misleading Content/False Context/Manipulated Content'] = data[data['kategori']=='Misleading Content/False Context/Manipulated Content'][1000:2118]\n",
        "\n",
        "data = data.dropna()\n",
        "data.reset_index(drop=True, inplace=True)\n",
        "data.groupby(['kategori'])['words'].describe()"
      ]
    },
    {
      "cell_type": "code",
      "execution_count": null,
      "metadata": {
        "id": "2SUUY3GDXJa6",
        "colab": {
          "base_uri": "https://localhost:8080/"
        },
        "outputId": "855542c5-83f9-43dd-b189-1a43ad91acb3"
      },
      "outputs": [
        {
          "output_type": "stream",
          "name": "stdout",
          "text": [
            "time: 115 ms (started: 2022-12-12 15:08:45 +00:00)\n"
          ]
        }
      ],
      "source": [
        "word_freq = data['narasi'].str.split(expand=True).stack().value_counts()\n",
        "word_freq = word_freq.reset_index(name='freq').rename(columns={'index': 'word'})"
      ]
    },
    {
      "cell_type": "code",
      "execution_count": null,
      "metadata": {
        "id": "3fMIhh63uAJE",
        "colab": {
          "base_uri": "https://localhost:8080/",
          "height": 381
        },
        "outputId": "375b0734-96bc-4073-e654-8c12f1804c3e"
      },
      "outputs": [
        {
          "output_type": "execute_result",
          "data": {
            "text/plain": [
              "        word  freq\n",
              "0  indonesia   686\n",
              "1      orang   486\n",
              "2      tahun   366\n",
              "3     negara   319\n",
              "4      covid   316\n",
              "5       hari   296\n",
              "6    jakarta   293\n",
              "7   tersebut   290\n",
              "8      yosua   290\n",
              "9      video   256"
            ],
            "text/html": [
              "\n",
              "  <div id=\"df-8105463a-d6c0-42e1-af05-6bd1447df26e\">\n",
              "    <div class=\"colab-df-container\">\n",
              "      <div>\n",
              "<style scoped>\n",
              "    .dataframe tbody tr th:only-of-type {\n",
              "        vertical-align: middle;\n",
              "    }\n",
              "\n",
              "    .dataframe tbody tr th {\n",
              "        vertical-align: top;\n",
              "    }\n",
              "\n",
              "    .dataframe thead th {\n",
              "        text-align: right;\n",
              "    }\n",
              "</style>\n",
              "<table border=\"1\" class=\"dataframe\">\n",
              "  <thead>\n",
              "    <tr style=\"text-align: right;\">\n",
              "      <th></th>\n",
              "      <th>word</th>\n",
              "      <th>freq</th>\n",
              "    </tr>\n",
              "  </thead>\n",
              "  <tbody>\n",
              "    <tr>\n",
              "      <th>0</th>\n",
              "      <td>indonesia</td>\n",
              "      <td>686</td>\n",
              "    </tr>\n",
              "    <tr>\n",
              "      <th>1</th>\n",
              "      <td>orang</td>\n",
              "      <td>486</td>\n",
              "    </tr>\n",
              "    <tr>\n",
              "      <th>2</th>\n",
              "      <td>tahun</td>\n",
              "      <td>366</td>\n",
              "    </tr>\n",
              "    <tr>\n",
              "      <th>3</th>\n",
              "      <td>negara</td>\n",
              "      <td>319</td>\n",
              "    </tr>\n",
              "    <tr>\n",
              "      <th>4</th>\n",
              "      <td>covid</td>\n",
              "      <td>316</td>\n",
              "    </tr>\n",
              "    <tr>\n",
              "      <th>5</th>\n",
              "      <td>hari</td>\n",
              "      <td>296</td>\n",
              "    </tr>\n",
              "    <tr>\n",
              "      <th>6</th>\n",
              "      <td>jakarta</td>\n",
              "      <td>293</td>\n",
              "    </tr>\n",
              "    <tr>\n",
              "      <th>7</th>\n",
              "      <td>tersebut</td>\n",
              "      <td>290</td>\n",
              "    </tr>\n",
              "    <tr>\n",
              "      <th>8</th>\n",
              "      <td>yosua</td>\n",
              "      <td>290</td>\n",
              "    </tr>\n",
              "    <tr>\n",
              "      <th>9</th>\n",
              "      <td>video</td>\n",
              "      <td>256</td>\n",
              "    </tr>\n",
              "  </tbody>\n",
              "</table>\n",
              "</div>\n",
              "      <button class=\"colab-df-convert\" onclick=\"convertToInteractive('df-8105463a-d6c0-42e1-af05-6bd1447df26e')\"\n",
              "              title=\"Convert this dataframe to an interactive table.\"\n",
              "              style=\"display:none;\">\n",
              "        \n",
              "  <svg xmlns=\"http://www.w3.org/2000/svg\" height=\"24px\"viewBox=\"0 0 24 24\"\n",
              "       width=\"24px\">\n",
              "    <path d=\"M0 0h24v24H0V0z\" fill=\"none\"/>\n",
              "    <path d=\"M18.56 5.44l.94 2.06.94-2.06 2.06-.94-2.06-.94-.94-2.06-.94 2.06-2.06.94zm-11 1L8.5 8.5l.94-2.06 2.06-.94-2.06-.94L8.5 2.5l-.94 2.06-2.06.94zm10 10l.94 2.06.94-2.06 2.06-.94-2.06-.94-.94-2.06-.94 2.06-2.06.94z\"/><path d=\"M17.41 7.96l-1.37-1.37c-.4-.4-.92-.59-1.43-.59-.52 0-1.04.2-1.43.59L10.3 9.45l-7.72 7.72c-.78.78-.78 2.05 0 2.83L4 21.41c.39.39.9.59 1.41.59.51 0 1.02-.2 1.41-.59l7.78-7.78 2.81-2.81c.8-.78.8-2.07 0-2.86zM5.41 20L4 18.59l7.72-7.72 1.47 1.35L5.41 20z\"/>\n",
              "  </svg>\n",
              "      </button>\n",
              "      \n",
              "  <style>\n",
              "    .colab-df-container {\n",
              "      display:flex;\n",
              "      flex-wrap:wrap;\n",
              "      gap: 12px;\n",
              "    }\n",
              "\n",
              "    .colab-df-convert {\n",
              "      background-color: #E8F0FE;\n",
              "      border: none;\n",
              "      border-radius: 50%;\n",
              "      cursor: pointer;\n",
              "      display: none;\n",
              "      fill: #1967D2;\n",
              "      height: 32px;\n",
              "      padding: 0 0 0 0;\n",
              "      width: 32px;\n",
              "    }\n",
              "\n",
              "    .colab-df-convert:hover {\n",
              "      background-color: #E2EBFA;\n",
              "      box-shadow: 0px 1px 2px rgba(60, 64, 67, 0.3), 0px 1px 3px 1px rgba(60, 64, 67, 0.15);\n",
              "      fill: #174EA6;\n",
              "    }\n",
              "\n",
              "    [theme=dark] .colab-df-convert {\n",
              "      background-color: #3B4455;\n",
              "      fill: #D2E3FC;\n",
              "    }\n",
              "\n",
              "    [theme=dark] .colab-df-convert:hover {\n",
              "      background-color: #434B5C;\n",
              "      box-shadow: 0px 1px 3px 1px rgba(0, 0, 0, 0.15);\n",
              "      filter: drop-shadow(0px 1px 2px rgba(0, 0, 0, 0.3));\n",
              "      fill: #FFFFFF;\n",
              "    }\n",
              "  </style>\n",
              "\n",
              "      <script>\n",
              "        const buttonEl =\n",
              "          document.querySelector('#df-8105463a-d6c0-42e1-af05-6bd1447df26e button.colab-df-convert');\n",
              "        buttonEl.style.display =\n",
              "          google.colab.kernel.accessAllowed ? 'block' : 'none';\n",
              "\n",
              "        async function convertToInteractive(key) {\n",
              "          const element = document.querySelector('#df-8105463a-d6c0-42e1-af05-6bd1447df26e');\n",
              "          const dataTable =\n",
              "            await google.colab.kernel.invokeFunction('convertToInteractive',\n",
              "                                                     [key], {});\n",
              "          if (!dataTable) return;\n",
              "\n",
              "          const docLinkHtml = 'Like what you see? Visit the ' +\n",
              "            '<a target=\"_blank\" href=https://colab.research.google.com/notebooks/data_table.ipynb>data table notebook</a>'\n",
              "            + ' to learn more about interactive tables.';\n",
              "          element.innerHTML = '';\n",
              "          dataTable['output_type'] = 'display_data';\n",
              "          await google.colab.output.renderOutput(dataTable, element);\n",
              "          const docLink = document.createElement('div');\n",
              "          docLink.innerHTML = docLinkHtml;\n",
              "          element.appendChild(docLink);\n",
              "        }\n",
              "      </script>\n",
              "    </div>\n",
              "  </div>\n",
              "  "
            ]
          },
          "metadata": {},
          "execution_count": 25
        },
        {
          "output_type": "stream",
          "name": "stdout",
          "text": [
            "time: 7.52 ms (started: 2022-12-12 15:08:45 +00:00)\n"
          ]
        }
      ],
      "source": [
        "word_freq.head(10)"
      ]
    },
    {
      "cell_type": "code",
      "execution_count": null,
      "metadata": {
        "id": "8JGMjafHWlvp",
        "colab": {
          "base_uri": "https://localhost:8080/"
        },
        "outputId": "817d7767-b68b-4bf5-8509-0e43f53da0ed"
      },
      "outputs": [
        {
          "output_type": "stream",
          "name": "stdout",
          "text": [
            "Number of distinct words in raw data:  13513\n",
            "time: 4.51 ms (started: 2022-12-12 15:08:45 +00:00)\n"
          ]
        }
      ],
      "source": [
        "print(\"Number of distinct words in raw data: \", len(list(word_freq['word'])))"
      ]
    },
    {
      "cell_type": "code",
      "execution_count": null,
      "metadata": {
        "id": "d9Qme0pMXpQL",
        "colab": {
          "base_uri": "https://localhost:8080/"
        },
        "outputId": "afaccaa0-3bdf-4a36-94e8-dc84531c916d"
      },
      "outputs": [
        {
          "output_type": "stream",
          "name": "stdout",
          "text": [
            "13513\n",
            "196\n",
            "time: 5.62 ms (started: 2022-12-12 15:08:45 +00:00)\n"
          ]
        }
      ],
      "source": [
        "max_words = len(list(word_freq['word']))\n",
        "# max_words = len(list(word_freq[word_freq['freq']>=2]['word']))\n",
        "max_len = int(data['words'].max())\n",
        "\n",
        "print(max_words)\n",
        "print(max_len)"
      ]
    },
    {
      "cell_type": "code",
      "execution_count": null,
      "metadata": {
        "id": "hwnhFQlSZXaQ",
        "colab": {
          "base_uri": "https://localhost:8080/"
        },
        "outputId": "92107571-910e-40a1-ac1c-a9addc3c390b"
      },
      "outputs": [
        {
          "output_type": "stream",
          "name": "stdout",
          "text": [
            "time: 2.72 ms (started: 2022-12-12 15:08:45 +00:00)\n"
          ]
        }
      ],
      "source": [
        "data = data.sample(frac=1)"
      ]
    },
    {
      "cell_type": "code",
      "execution_count": null,
      "metadata": {
        "id": "RR2IrBv7Zryi",
        "colab": {
          "base_uri": "https://localhost:8080/"
        },
        "outputId": "c58ce455-27ab-4e20-fef7-ef670a4a44ab"
      },
      "outputs": [
        {
          "output_type": "stream",
          "name": "stdout",
          "text": [
            "(3354, 3)\n",
            "['Fabricated Content/Imposter Content'\n",
            " 'Misleading Content/False Context/Manipulated Content' 'Valid']\n",
            "time: 8.12 ms (started: 2022-12-12 15:08:45 +00:00)\n"
          ]
        }
      ],
      "source": [
        "X, Y = list(data['narasi']), list(data['kategori'])\n",
        "\n",
        "encoder = LabelEncoder()\n",
        "Y = to_categorical(encoder.fit_transform(Y), dtype='uint8')\n",
        "\n",
        "print(Y.shape)\n",
        "print(encoder.classes_)"
      ]
    },
    {
      "cell_type": "code",
      "execution_count": null,
      "metadata": {
        "id": "dsI2pyMQRAjc",
        "colab": {
          "base_uri": "https://localhost:8080/"
        },
        "outputId": "917b5d62-df6f-4cb5-9b5f-0cbae82b233a"
      },
      "outputs": [
        {
          "output_type": "stream",
          "name": "stdout",
          "text": [
            "[1 2 0 ... 1 1 1]\n",
            "time: 1.26 ms (started: 2022-12-12 15:08:45 +00:00)\n"
          ]
        }
      ],
      "source": [
        "print(np.argmax(Y, axis=1))"
      ]
    },
    {
      "cell_type": "code",
      "execution_count": null,
      "metadata": {
        "id": "rt3dCohqH5Zb",
        "colab": {
          "base_uri": "https://localhost:8080/"
        },
        "outputId": "16b8c221-dcd1-42f3-c7df-5669411958c3"
      },
      "outputs": [
        {
          "output_type": "stream",
          "name": "stdout",
          "text": [
            "time: 2.85 ms (started: 2022-12-12 15:08:45 +00:00)\n"
          ]
        }
      ],
      "source": [
        "def define_report(prediction, test):\n",
        "  y_pred_class = np.argmax(prediction, axis=1)\n",
        "  y_class = np.argmax(test, axis=1)\n",
        "  precision, recall, fscore, support = prfs(y_class, y_pred_class)\n",
        "  report = cr(y_class, y_pred_class, target_names = encoder.classes_)\n",
        "  return recall, report\n",
        "\n",
        "def define_confusion(prediction, test):\n",
        "  y_pred_class = np.argmax(prediction, axis=1)\n",
        "  y_class = np.argmax(test, axis=1)\n",
        "  con_mat = cm(labels=y_class, predictions=y_pred_class).numpy()\n",
        "  con_mat_norm = np.around(con_mat.astype('float') / con_mat.sum(axis=1)[:, np.newaxis], decimals=3)\n",
        "  con_mat_df = pd.DataFrame(con_mat_norm, index = encoder.classes_, columns = encoder.classes_)\n",
        "  figure = plt.figure(figsize=(13, 10))\n",
        "  sns.heatmap(con_mat_df, annot=True, fmt='.1%', cmap=plt.cm.Blues)\n",
        "  plt.tight_layout()\n",
        "  plt.ylabel('True label')\n",
        "  plt.xlabel('Predicted label')\n",
        "  plt.show()\n",
        "\n",
        "def define_plot(name, param):\n",
        "  plt.figure(figsize=(15, 7))\n",
        "  plt.title(name)\n",
        "  plt.plot(param.history[name], label='train')\n",
        "  plt.plot(param.history[f'val_{name}'], label='test')\n",
        "  plt.legend()\n",
        "  plt.show();"
      ]
    },
    {
      "cell_type": "markdown",
      "metadata": {
        "id": "SWvGpE2mGuOH"
      },
      "source": [
        "# **Embedding Static Fasttext**"
      ]
    },
    {
      "cell_type": "code",
      "source": [
        "emb_dim = 300\n",
        "def define_embed(vocabSize, wordId):\n",
        "  embedding_matrix = np.zeros((vocabSize, emb_dim))\n",
        "  oov_count = 0\n",
        "  oov_words = []\n",
        "  for word, idx in wordId.items():\n",
        "    if idx < vocabSize:\n",
        "      embedding_vector = embedding_vectors.get(word)\n",
        "      if embedding_vector is not None:\n",
        "        embedding_matrix[idx] = embedding_vector\n",
        "      else:\n",
        "        oov_count += 1 \n",
        "        oov_words.append(word)\n",
        "  return embedding_matrix"
      ],
      "metadata": {
        "id": "mOAK8GRxqNr-",
        "colab": {
          "base_uri": "https://localhost:8080/"
        },
        "outputId": "418900d7-f687-4585-cb5d-b19dbf706090"
      },
      "execution_count": null,
      "outputs": [
        {
          "output_type": "stream",
          "name": "stdout",
          "text": [
            "time: 984 µs (started: 2022-12-12 15:08:45 +00:00)\n"
          ]
        }
      ]
    },
    {
      "cell_type": "code",
      "execution_count": null,
      "metadata": {
        "id": "V-GCD9YWGtnK",
        "colab": {
          "base_uri": "https://localhost:8080/"
        },
        "outputId": "b832ab76-90d0-4f69-b2d6-b8d35517070d"
      },
      "outputs": [
        {
          "output_type": "stream",
          "name": "stdout",
          "text": [
            "time: 1.55 ms (started: 2022-12-12 15:08:45 +00:00)\n"
          ]
        }
      ],
      "source": [
        "def define_model(kernel_size, activation, optimizer, input_dim, max_length, output_dim = 300, emb_matrix = None ):\n",
        "    \n",
        "    inp = Input( shape=(max_length,))\n",
        "    x = Embedding(input_dim=input_dim, output_dim=output_dim, input_length=max_length,\n",
        "                  # Assign the embedding weight with fasttext embedding matrix\n",
        "                  weights = [emb_matrix],\n",
        "                  # Set the weight to be trainable (dynamic)\n",
        "                  trainable = True\n",
        "                  )(inp)\n",
        "    x = SpatialDropout1D(0.1)(x)\n",
        "    \n",
        "    x = Bidirectional(TCN(64, kernel_size=kernel_size, dilations = [1, 2], return_sequences=True, activation = activation, name = 'tcn1'))(x)\n",
        "    \n",
        "    avg_pool = GlobalAveragePooling1D()(x)\n",
        "    max_pool = GlobalMaxPooling1D()(x)\n",
        "    \n",
        "    conc = concatenate([avg_pool, max_pool])\n",
        "    conc = Dropout(0.5)(conc)\n",
        "    outp = Dense(Y.shape[1], activation=\"softmax\")(conc)   \n",
        "\n",
        "    model = Model(inputs=inp, outputs=outp)\n",
        "    model.compile( loss = 'categorical_crossentropy', optimizer = optimizer, metrics = ['accuracy'])\n",
        "    \n",
        "    return model"
      ]
    },
    {
      "cell_type": "code",
      "execution_count": null,
      "metadata": {
        "id": "LPhRLUCXHbnb",
        "colab": {
          "base_uri": "https://localhost:8080/"
        },
        "outputId": "44503650-45b5-4fbd-c834-84050fc7439d"
      },
      "outputs": [
        {
          "output_type": "stream",
          "name": "stdout",
          "text": [
            "Model: \"model\"\n",
            "__________________________________________________________________________________________________\n",
            " Layer (type)                   Output Shape         Param #     Connected to                     \n",
            "==================================================================================================\n",
            " input_1 (InputLayer)           [(None, 121)]        0           []                               \n",
            "                                                                                                  \n",
            " embedding (Embedding)          (None, 121, 300)     90000       ['input_1[0][0]']                \n",
            "                                                                                                  \n",
            " spatial_dropout1d (SpatialDrop  (None, 121, 300)    0           ['embedding[0][0]']              \n",
            " out1D)                                                                                           \n",
            "                                                                                                  \n",
            " bidirectional (Bidirectional)  (None, 121, 128)     227968      ['spatial_dropout1d[0][0]']      \n",
            "                                                                                                  \n",
            " global_average_pooling1d (Glob  (None, 128)         0           ['bidirectional[0][0]']          \n",
            " alAveragePooling1D)                                                                              \n",
            "                                                                                                  \n",
            " global_max_pooling1d (GlobalMa  (None, 128)         0           ['bidirectional[0][0]']          \n",
            " xPooling1D)                                                                                      \n",
            "                                                                                                  \n",
            " concatenate (Concatenate)      (None, 256)          0           ['global_average_pooling1d[0][0]'\n",
            "                                                                 , 'global_max_pooling1d[0][0]']  \n",
            "                                                                                                  \n",
            " dropout (Dropout)              (None, 256)          0           ['concatenate[0][0]']            \n",
            "                                                                                                  \n",
            " dense (Dense)                  (None, 3)            771         ['dropout[0][0]']                \n",
            "                                                                                                  \n",
            "==================================================================================================\n",
            "Total params: 318,739\n",
            "Trainable params: 318,739\n",
            "Non-trainable params: 0\n",
            "__________________________________________________________________________________________________\n",
            "time: 2.92 s (started: 2022-12-12 15:08:45 +00:00)\n"
          ]
        }
      ],
      "source": [
        "model0_random = define_model(3, 'relu', 'adam', 300, 121, emb_matrix = np.random.rand(300, 300))\n",
        "model0_random.summary()"
      ]
    },
    {
      "cell_type": "code",
      "execution_count": null,
      "metadata": {
        "id": "7sa-ersrJIWh",
        "colab": {
          "base_uri": "https://localhost:8080/"
        },
        "outputId": "caaa0e49-8172-4aa7-b4f9-336e89f0d2b7"
      },
      "outputs": [
        {
          "output_type": "stream",
          "name": "stdout",
          "text": [
            "time: 614 µs (started: 2022-12-12 15:08:48 +00:00)\n"
          ]
        }
      ],
      "source": [
        "callbacks = EarlyStopping(monitor='val_loss', min_delta=0, patience=4, verbose=2, mode='min', restore_best_weights=True)"
      ]
    },
    {
      "cell_type": "code",
      "execution_count": null,
      "metadata": {
        "id": "26yvgXgFIDme"
      },
      "outputs": [],
      "source": [
        "trunc_type='post'\n",
        "padding_type='post'\n",
        "oov_tok = \"<UNK>\"\n",
        "activations = ['tanh', 'relu', 'elu', 'selu', 'swish']\n",
        "optimizers = ['adam']\n",
        "kernel_sizes = [2, 3, 4, 5, 6, 7, 8]\n",
        "\n",
        "columns = ['Optimizer', 'Activation', 'Filters', 'acc1', 'acc2', 'acc3', 'acc4', 'acc5', 'accAVG', 'loss1', 'loss2', 'loss3', 'loss4', 'loss5', 'lossAVG']\n",
        "record = pd.DataFrame(columns = columns)\n",
        "kfold = KFold(n_splits=5, shuffle=True)\n",
        "\n",
        "sentences, labels = X, Y\n",
        "\n",
        "clouds = []\n",
        "valid_selected = []\n",
        "false_selected = []\n",
        "imposter_selected = []\n",
        "models = []\n",
        "recalls = []\n",
        "reports = []\n",
        "metas = []\n",
        "exp = 0\n",
        "\n",
        "for optimizer in optimizers:\n",
        "  for activation in activations:\n",
        "    for kernel_size in kernel_sizes:\n",
        "      exp+=1\n",
        "      print('--------------------------------------------------------------')\n",
        "      print('Training {}: {} optimizer, {} activation, {} kernel size.'.format(exp, optimizer, activation, kernel_size))\n",
        "      print('--------------------------------------------------------------')\n",
        "      acc_list = []\n",
        "      loss_list = []\n",
        "      for train, test in kfold.split(sentences):\n",
        "\n",
        "        train_x, test_x = [], []\n",
        "        train_y, test_y = [], []\n",
        "        \n",
        "        for i in train:\n",
        "          train_x.append(sentences[i])\n",
        "          train_y.append(labels[i])\n",
        "        for i in test:\n",
        "          test_x.append(sentences[i])\n",
        "          test_y.append(labels[i])\n",
        "\n",
        "        train_valid = []\n",
        "        train_false = []\n",
        "        train_imposter = []\n",
        "        for i in range(len(train_y)):\n",
        "          label = list(encoder.inverse_transform([np.argmax(train_y[i])]))[0]\n",
        "          if label == 'Valid':\n",
        "            for j in train_x[i].split(): train_valid.append(j)\n",
        "          if label == 'Misleading Content/False Context/Manipulated Content':\n",
        "            for j in train_x[i].split(): train_false.append(j)\n",
        "          if label == 'Fabricated Content/Imposter Content':\n",
        "            for j in train_x[i].split(): train_imposter.append(j)\n",
        "        \n",
        "        valid_res = dict(Counter(train_valid))\n",
        "        false_res = dict(Counter(train_false))\n",
        "        imposter_res = dict(Counter(train_imposter))\n",
        "        \n",
        "        valid_selected.append({k: v for k, v in sorted(valid_res.items(), key=lambda item: item[1], reverse=True)})\n",
        "        false_selected.append({k: v for k, v in sorted(false_res.items(), key=lambda item: item[1], reverse=True)})\n",
        "        imposter_selected.append({k: v for k, v in sorted(imposter_res.items(), key=lambda item: item[1], reverse=True)})\n",
        "        \n",
        "        train_y = np.array(train_y)\n",
        "        test_y = np.array(test_y)\n",
        "\n",
        "        tokenizer = text.Tokenizer(num_words = max_words, oov_token=oov_tok)\n",
        "        tokenizer.fit_on_texts(train_x)\n",
        "        training_sequences = tokenizer.texts_to_sequences(train_x)\n",
        "        test_sequences = tokenizer.texts_to_sequences(test_x)\n",
        "        Xtrain = sequence.pad_sequences(training_sequences, maxlen=max_len, padding=padding_type, truncating=trunc_type)\n",
        "        Xtest = sequence.pad_sequences(test_sequences, maxlen=max_len, padding=padding_type, truncating=trunc_type)\n",
        "\n",
        "        wordIdx = tokenizer.word_index\n",
        "        clouds.append(wordIdx)\n",
        "        vocabSize = len(wordIdx)+1\n",
        "        embedding_matrix = define_embed(vocabSize, wordIdx)\n",
        "\n",
        "        model = define_model(kernel_size, activation, optimizer, input_dim=vocabSize, max_length=max_len, emb_matrix=embedding_matrix)\n",
        "        history = model.fit(Xtrain, train_y, batch_size=50, epochs=100, verbose=0, \n",
        "                  callbacks=[callbacks], validation_data=(Xtest, test_y))\n",
        "        \n",
        "        loss, acc = model.evaluate(Xtest, test_y, verbose=0)\n",
        "        print(f'Loss: {loss} - Accuracy: {acc}\\n')\n",
        "        result = model.predict(Xtest)\n",
        "        recall, report = define_report(result, test_y)\n",
        "        metas.append([Xtest, test_y, result, history])\n",
        "        reports.append(report)\n",
        "        recalls.append(recall)\n",
        "        acc_list.append(acc*100)\n",
        "        loss_list.append(loss)\n",
        "        models.append(model)\n",
        "          \n",
        "      mean_acc = np.array(acc_list).mean()\n",
        "      mean_loss = np.array(loss_list).mean()\n",
        "      parameters = [optimizer, activation, kernel_size]\n",
        "      entries = parameters + acc_list + [mean_acc] + loss_list + [mean_loss]\n",
        "      temp = pd.DataFrame([entries], columns=columns)\n",
        "      record = record.append(temp, ignore_index=True)\n",
        "      print('\\n')"
      ]
    },
    {
      "cell_type": "code",
      "execution_count": null,
      "metadata": {
        "id": "uupGVhSJbHU-",
        "colab": {
          "base_uri": "https://localhost:8080/",
          "height": 1000
        },
        "outputId": "ec8eb28e-69c0-4fe9-848f-4616c6689b60"
      },
      "outputs": [
        {
          "output_type": "execute_result",
          "data": {
            "text/plain": [
              "   Optimizer Activation Filters       acc1       acc2       acc3       acc4  \\\n",
              "0       adam       tanh       2  85.842025  85.394931  83.308494  84.798807   \n",
              "1       adam       tanh       3  85.543966  86.438149  87.034279  84.947836   \n",
              "2       adam       tanh       4  85.692996  86.289120  87.183309  87.779433   \n",
              "3       adam       tanh       5  85.692996  85.842025  84.500748  86.140090   \n",
              "4       adam       tanh       6  85.692996  87.034279  84.798807  85.543966   \n",
              "5       adam       tanh       7  86.587185  89.120716  84.649777  82.712370   \n",
              "6       adam       tanh       8  86.289120  85.991061  85.842025  88.524592   \n",
              "7       adam       relu       2  83.457524  86.736214  86.289120  84.500748   \n",
              "8       adam       relu       3  85.543966  84.947836  85.543966  85.543966   \n",
              "9       adam       relu       4  84.649777  81.222057  87.034279  85.543966   \n",
              "10      adam       relu       5  85.991061  84.798807  85.245901  85.096872   \n",
              "11      adam       relu       6  82.861400  85.991061  84.798807  86.736214   \n",
              "12      adam       relu       7  87.183309  84.798807  85.991061  88.375556   \n",
              "13      adam       relu       8  86.289120  85.842025  87.183309  87.630403   \n",
              "14      adam        elu       2  84.947836  85.394931  85.096872  84.798807   \n",
              "15      adam        elu       3  84.798807  82.861400  81.818181  80.625933   \n",
              "16      adam        elu       4  84.649777  81.222057  84.947836  87.034279   \n",
              "17      adam        elu       5  88.077497  84.351712  82.712370  84.500748   \n",
              "18      adam        elu       6  84.947836  87.779433  88.226527  83.606559   \n",
              "19      adam        elu       7  86.885244  88.524592  85.543966  85.543966   \n",
              "20      adam        elu       8  85.394931  88.673621  85.692996  84.798807   \n",
              "21      adam       selu       2  82.861400  85.245901  85.842025  83.010435   \n",
              "22      adam       selu       3  85.394931  86.289120  84.649777  84.500748   \n",
              "23      adam       selu       4  85.692996  87.034279  84.947836  85.991061   \n",
              "24      adam       selu       5  85.692996  85.842025  88.375556  88.971686   \n",
              "25      adam       selu       6  88.226527  85.991061  85.692996  83.308494   \n",
              "26      adam       selu       7  82.265276  87.630403  84.947836  82.414305   \n",
              "27      adam       selu       8  86.438149  85.394931  83.010435  85.991061   \n",
              "28      adam      swish       2  84.351712  85.245901  81.520116  83.159465   \n",
              "29      adam      swish       3  83.159465  85.991061  86.438149  88.524592   \n",
              "30      adam      swish       4  87.034279  86.140090  82.861400  83.904618   \n",
              "31      adam      swish       5  85.096872  86.289120  84.798807  85.842025   \n",
              "32      adam      swish       6  87.481374  87.481374  85.096872  84.798807   \n",
              "33      adam      swish       7  86.736214  86.587185  82.563341  82.563341   \n",
              "34      adam      swish       8  85.991061  84.202683  85.692996  88.375556   \n",
              "\n",
              "         acc5     accAVG     loss1     loss2     loss3     loss4     loss5  \\\n",
              "0   84.328359  84.734523  0.362762  0.361037  0.402646  0.384693  0.391445   \n",
              "1   84.029853  85.598817  0.370637  0.363770  0.336970  0.379357  0.376122   \n",
              "2   84.626865  86.314344  0.370433  0.366365  0.329983  0.340834  0.387705   \n",
              "3   86.119401  85.659052  0.383675  0.355959  0.404006  0.352187  0.358360   \n",
              "4   86.716419  85.957294  0.350200  0.324006  0.355438  0.396137  0.340583   \n",
              "5   86.119401  85.837890  0.328699  0.291040  0.367524  0.410156  0.340730   \n",
              "6   84.477609  86.224881  0.372742  0.353300  0.335397  0.316142  0.380910   \n",
              "7   82.686567  84.734035  0.409421  0.361498  0.370687  0.387439  0.419881   \n",
              "8   87.313432  85.778633  0.355515  0.382011  0.360565  0.393388  0.350038   \n",
              "9   86.567163  85.003449  0.399327  0.414476  0.351238  0.342911  0.354898   \n",
              "10  88.358212  85.898170  0.378996  0.376931  0.391700  0.385551  0.314349   \n",
              "11  88.059700  85.689436  0.389929  0.358914  0.385963  0.346366  0.308969   \n",
              "12  86.268657  86.523478  0.338697  0.375303  0.355362  0.312208  0.351167   \n",
              "13  86.268657  86.642703  0.334109  0.398968  0.335580  0.314118  0.335915   \n",
              "14  85.223883  85.092466  0.406503  0.373685  0.369263  0.366113  0.376894   \n",
              "15  89.402986  83.901461  0.358527  0.451337  0.407723  0.445818  0.307027   \n",
              "16  85.223883  84.615567  0.386850  0.441667  0.378587  0.322257  0.341919   \n",
              "17  88.208956  85.570257  0.334442  0.375613  0.403688  0.390530  0.341154   \n",
              "18  86.716419  86.255355  0.417964  0.317897  0.316156  0.405491  0.325740   \n",
              "19  84.925371  86.284628  0.345875  0.324630  0.327027  0.372662  0.367837   \n",
              "20  83.134329  85.538937  0.339075  0.286201  0.370170  0.383113  0.423294   \n",
              "21  86.567163  84.705385  0.414451  0.414626  0.360255  0.415935  0.377360   \n",
              "22  84.029853  84.972886  0.379784  0.381311  0.401153  0.352709  0.414956   \n",
              "23  87.313432  86.195921  0.395033  0.374288  0.428149  0.344724  0.327442   \n",
              "24  83.880597  86.552572  0.398284  0.371251  0.335946  0.313969  0.430374   \n",
              "25  85.671639  85.778143  0.324714  0.358591  0.345698  0.415883  0.373568   \n",
              "26  86.716419  84.794848  0.401141  0.306833  0.388476  0.454063  0.359087   \n",
              "27  84.925371  85.151989  0.387213  0.371008  0.424515  0.330823  0.364499   \n",
              "28  84.626865  83.780812  0.401897  0.393624  0.441601  0.420479  0.428270   \n",
              "29  82.537311  85.330116  0.414943  0.384244  0.371853  0.357903  0.435369   \n",
              "30  85.522389  85.092555  0.336679  0.364638  0.429153  0.418408  0.395115   \n",
              "31  84.328359  85.271037  0.377919  0.372535  0.381761  0.342681  0.448092   \n",
              "32  85.373133  86.046312  0.332293  0.389370  0.371695  0.354393  0.418685   \n",
              "33  87.611938  85.212404  0.348998  0.365323  0.382178  0.434713  0.349358   \n",
              "34  84.925371  85.837533  0.383248  0.420930  0.399401  0.299580  0.398289   \n",
              "\n",
              "     lossAVG  \n",
              "0   0.380517  \n",
              "1   0.365371  \n",
              "2   0.359064  \n",
              "3   0.370837  \n",
              "4   0.353273  \n",
              "5   0.347630  \n",
              "6   0.351698  \n",
              "7   0.389785  \n",
              "8   0.368303  \n",
              "9   0.372570  \n",
              "10  0.369505  \n",
              "11  0.358028  \n",
              "12  0.346547  \n",
              "13  0.343738  \n",
              "14  0.378492  \n",
              "15  0.394086  \n",
              "16  0.374256  \n",
              "17  0.369085  \n",
              "18  0.356650  \n",
              "19  0.347606  \n",
              "20  0.360370  \n",
              "21  0.396525  \n",
              "22  0.385983  \n",
              "23  0.373927  \n",
              "24  0.369965  \n",
              "25  0.363691  \n",
              "26  0.381920  \n",
              "27  0.375612  \n",
              "28  0.417174  \n",
              "29  0.392862  \n",
              "30  0.388799  \n",
              "31  0.384598  \n",
              "32  0.373287  \n",
              "33  0.376114  \n",
              "34  0.380290  "
            ],
            "text/html": [
              "\n",
              "  <div id=\"df-b7ff2444-e463-4fef-ad1f-8d0c26d6920a\">\n",
              "    <div class=\"colab-df-container\">\n",
              "      <div>\n",
              "<style scoped>\n",
              "    .dataframe tbody tr th:only-of-type {\n",
              "        vertical-align: middle;\n",
              "    }\n",
              "\n",
              "    .dataframe tbody tr th {\n",
              "        vertical-align: top;\n",
              "    }\n",
              "\n",
              "    .dataframe thead th {\n",
              "        text-align: right;\n",
              "    }\n",
              "</style>\n",
              "<table border=\"1\" class=\"dataframe\">\n",
              "  <thead>\n",
              "    <tr style=\"text-align: right;\">\n",
              "      <th></th>\n",
              "      <th>Optimizer</th>\n",
              "      <th>Activation</th>\n",
              "      <th>Filters</th>\n",
              "      <th>acc1</th>\n",
              "      <th>acc2</th>\n",
              "      <th>acc3</th>\n",
              "      <th>acc4</th>\n",
              "      <th>acc5</th>\n",
              "      <th>accAVG</th>\n",
              "      <th>loss1</th>\n",
              "      <th>loss2</th>\n",
              "      <th>loss3</th>\n",
              "      <th>loss4</th>\n",
              "      <th>loss5</th>\n",
              "      <th>lossAVG</th>\n",
              "    </tr>\n",
              "  </thead>\n",
              "  <tbody>\n",
              "    <tr>\n",
              "      <th>0</th>\n",
              "      <td>adam</td>\n",
              "      <td>tanh</td>\n",
              "      <td>2</td>\n",
              "      <td>85.842025</td>\n",
              "      <td>85.394931</td>\n",
              "      <td>83.308494</td>\n",
              "      <td>84.798807</td>\n",
              "      <td>84.328359</td>\n",
              "      <td>84.734523</td>\n",
              "      <td>0.362762</td>\n",
              "      <td>0.361037</td>\n",
              "      <td>0.402646</td>\n",
              "      <td>0.384693</td>\n",
              "      <td>0.391445</td>\n",
              "      <td>0.380517</td>\n",
              "    </tr>\n",
              "    <tr>\n",
              "      <th>1</th>\n",
              "      <td>adam</td>\n",
              "      <td>tanh</td>\n",
              "      <td>3</td>\n",
              "      <td>85.543966</td>\n",
              "      <td>86.438149</td>\n",
              "      <td>87.034279</td>\n",
              "      <td>84.947836</td>\n",
              "      <td>84.029853</td>\n",
              "      <td>85.598817</td>\n",
              "      <td>0.370637</td>\n",
              "      <td>0.363770</td>\n",
              "      <td>0.336970</td>\n",
              "      <td>0.379357</td>\n",
              "      <td>0.376122</td>\n",
              "      <td>0.365371</td>\n",
              "    </tr>\n",
              "    <tr>\n",
              "      <th>2</th>\n",
              "      <td>adam</td>\n",
              "      <td>tanh</td>\n",
              "      <td>4</td>\n",
              "      <td>85.692996</td>\n",
              "      <td>86.289120</td>\n",
              "      <td>87.183309</td>\n",
              "      <td>87.779433</td>\n",
              "      <td>84.626865</td>\n",
              "      <td>86.314344</td>\n",
              "      <td>0.370433</td>\n",
              "      <td>0.366365</td>\n",
              "      <td>0.329983</td>\n",
              "      <td>0.340834</td>\n",
              "      <td>0.387705</td>\n",
              "      <td>0.359064</td>\n",
              "    </tr>\n",
              "    <tr>\n",
              "      <th>3</th>\n",
              "      <td>adam</td>\n",
              "      <td>tanh</td>\n",
              "      <td>5</td>\n",
              "      <td>85.692996</td>\n",
              "      <td>85.842025</td>\n",
              "      <td>84.500748</td>\n",
              "      <td>86.140090</td>\n",
              "      <td>86.119401</td>\n",
              "      <td>85.659052</td>\n",
              "      <td>0.383675</td>\n",
              "      <td>0.355959</td>\n",
              "      <td>0.404006</td>\n",
              "      <td>0.352187</td>\n",
              "      <td>0.358360</td>\n",
              "      <td>0.370837</td>\n",
              "    </tr>\n",
              "    <tr>\n",
              "      <th>4</th>\n",
              "      <td>adam</td>\n",
              "      <td>tanh</td>\n",
              "      <td>6</td>\n",
              "      <td>85.692996</td>\n",
              "      <td>87.034279</td>\n",
              "      <td>84.798807</td>\n",
              "      <td>85.543966</td>\n",
              "      <td>86.716419</td>\n",
              "      <td>85.957294</td>\n",
              "      <td>0.350200</td>\n",
              "      <td>0.324006</td>\n",
              "      <td>0.355438</td>\n",
              "      <td>0.396137</td>\n",
              "      <td>0.340583</td>\n",
              "      <td>0.353273</td>\n",
              "    </tr>\n",
              "    <tr>\n",
              "      <th>5</th>\n",
              "      <td>adam</td>\n",
              "      <td>tanh</td>\n",
              "      <td>7</td>\n",
              "      <td>86.587185</td>\n",
              "      <td>89.120716</td>\n",
              "      <td>84.649777</td>\n",
              "      <td>82.712370</td>\n",
              "      <td>86.119401</td>\n",
              "      <td>85.837890</td>\n",
              "      <td>0.328699</td>\n",
              "      <td>0.291040</td>\n",
              "      <td>0.367524</td>\n",
              "      <td>0.410156</td>\n",
              "      <td>0.340730</td>\n",
              "      <td>0.347630</td>\n",
              "    </tr>\n",
              "    <tr>\n",
              "      <th>6</th>\n",
              "      <td>adam</td>\n",
              "      <td>tanh</td>\n",
              "      <td>8</td>\n",
              "      <td>86.289120</td>\n",
              "      <td>85.991061</td>\n",
              "      <td>85.842025</td>\n",
              "      <td>88.524592</td>\n",
              "      <td>84.477609</td>\n",
              "      <td>86.224881</td>\n",
              "      <td>0.372742</td>\n",
              "      <td>0.353300</td>\n",
              "      <td>0.335397</td>\n",
              "      <td>0.316142</td>\n",
              "      <td>0.380910</td>\n",
              "      <td>0.351698</td>\n",
              "    </tr>\n",
              "    <tr>\n",
              "      <th>7</th>\n",
              "      <td>adam</td>\n",
              "      <td>relu</td>\n",
              "      <td>2</td>\n",
              "      <td>83.457524</td>\n",
              "      <td>86.736214</td>\n",
              "      <td>86.289120</td>\n",
              "      <td>84.500748</td>\n",
              "      <td>82.686567</td>\n",
              "      <td>84.734035</td>\n",
              "      <td>0.409421</td>\n",
              "      <td>0.361498</td>\n",
              "      <td>0.370687</td>\n",
              "      <td>0.387439</td>\n",
              "      <td>0.419881</td>\n",
              "      <td>0.389785</td>\n",
              "    </tr>\n",
              "    <tr>\n",
              "      <th>8</th>\n",
              "      <td>adam</td>\n",
              "      <td>relu</td>\n",
              "      <td>3</td>\n",
              "      <td>85.543966</td>\n",
              "      <td>84.947836</td>\n",
              "      <td>85.543966</td>\n",
              "      <td>85.543966</td>\n",
              "      <td>87.313432</td>\n",
              "      <td>85.778633</td>\n",
              "      <td>0.355515</td>\n",
              "      <td>0.382011</td>\n",
              "      <td>0.360565</td>\n",
              "      <td>0.393388</td>\n",
              "      <td>0.350038</td>\n",
              "      <td>0.368303</td>\n",
              "    </tr>\n",
              "    <tr>\n",
              "      <th>9</th>\n",
              "      <td>adam</td>\n",
              "      <td>relu</td>\n",
              "      <td>4</td>\n",
              "      <td>84.649777</td>\n",
              "      <td>81.222057</td>\n",
              "      <td>87.034279</td>\n",
              "      <td>85.543966</td>\n",
              "      <td>86.567163</td>\n",
              "      <td>85.003449</td>\n",
              "      <td>0.399327</td>\n",
              "      <td>0.414476</td>\n",
              "      <td>0.351238</td>\n",
              "      <td>0.342911</td>\n",
              "      <td>0.354898</td>\n",
              "      <td>0.372570</td>\n",
              "    </tr>\n",
              "    <tr>\n",
              "      <th>10</th>\n",
              "      <td>adam</td>\n",
              "      <td>relu</td>\n",
              "      <td>5</td>\n",
              "      <td>85.991061</td>\n",
              "      <td>84.798807</td>\n",
              "      <td>85.245901</td>\n",
              "      <td>85.096872</td>\n",
              "      <td>88.358212</td>\n",
              "      <td>85.898170</td>\n",
              "      <td>0.378996</td>\n",
              "      <td>0.376931</td>\n",
              "      <td>0.391700</td>\n",
              "      <td>0.385551</td>\n",
              "      <td>0.314349</td>\n",
              "      <td>0.369505</td>\n",
              "    </tr>\n",
              "    <tr>\n",
              "      <th>11</th>\n",
              "      <td>adam</td>\n",
              "      <td>relu</td>\n",
              "      <td>6</td>\n",
              "      <td>82.861400</td>\n",
              "      <td>85.991061</td>\n",
              "      <td>84.798807</td>\n",
              "      <td>86.736214</td>\n",
              "      <td>88.059700</td>\n",
              "      <td>85.689436</td>\n",
              "      <td>0.389929</td>\n",
              "      <td>0.358914</td>\n",
              "      <td>0.385963</td>\n",
              "      <td>0.346366</td>\n",
              "      <td>0.308969</td>\n",
              "      <td>0.358028</td>\n",
              "    </tr>\n",
              "    <tr>\n",
              "      <th>12</th>\n",
              "      <td>adam</td>\n",
              "      <td>relu</td>\n",
              "      <td>7</td>\n",
              "      <td>87.183309</td>\n",
              "      <td>84.798807</td>\n",
              "      <td>85.991061</td>\n",
              "      <td>88.375556</td>\n",
              "      <td>86.268657</td>\n",
              "      <td>86.523478</td>\n",
              "      <td>0.338697</td>\n",
              "      <td>0.375303</td>\n",
              "      <td>0.355362</td>\n",
              "      <td>0.312208</td>\n",
              "      <td>0.351167</td>\n",
              "      <td>0.346547</td>\n",
              "    </tr>\n",
              "    <tr>\n",
              "      <th>13</th>\n",
              "      <td>adam</td>\n",
              "      <td>relu</td>\n",
              "      <td>8</td>\n",
              "      <td>86.289120</td>\n",
              "      <td>85.842025</td>\n",
              "      <td>87.183309</td>\n",
              "      <td>87.630403</td>\n",
              "      <td>86.268657</td>\n",
              "      <td>86.642703</td>\n",
              "      <td>0.334109</td>\n",
              "      <td>0.398968</td>\n",
              "      <td>0.335580</td>\n",
              "      <td>0.314118</td>\n",
              "      <td>0.335915</td>\n",
              "      <td>0.343738</td>\n",
              "    </tr>\n",
              "    <tr>\n",
              "      <th>14</th>\n",
              "      <td>adam</td>\n",
              "      <td>elu</td>\n",
              "      <td>2</td>\n",
              "      <td>84.947836</td>\n",
              "      <td>85.394931</td>\n",
              "      <td>85.096872</td>\n",
              "      <td>84.798807</td>\n",
              "      <td>85.223883</td>\n",
              "      <td>85.092466</td>\n",
              "      <td>0.406503</td>\n",
              "      <td>0.373685</td>\n",
              "      <td>0.369263</td>\n",
              "      <td>0.366113</td>\n",
              "      <td>0.376894</td>\n",
              "      <td>0.378492</td>\n",
              "    </tr>\n",
              "    <tr>\n",
              "      <th>15</th>\n",
              "      <td>adam</td>\n",
              "      <td>elu</td>\n",
              "      <td>3</td>\n",
              "      <td>84.798807</td>\n",
              "      <td>82.861400</td>\n",
              "      <td>81.818181</td>\n",
              "      <td>80.625933</td>\n",
              "      <td>89.402986</td>\n",
              "      <td>83.901461</td>\n",
              "      <td>0.358527</td>\n",
              "      <td>0.451337</td>\n",
              "      <td>0.407723</td>\n",
              "      <td>0.445818</td>\n",
              "      <td>0.307027</td>\n",
              "      <td>0.394086</td>\n",
              "    </tr>\n",
              "    <tr>\n",
              "      <th>16</th>\n",
              "      <td>adam</td>\n",
              "      <td>elu</td>\n",
              "      <td>4</td>\n",
              "      <td>84.649777</td>\n",
              "      <td>81.222057</td>\n",
              "      <td>84.947836</td>\n",
              "      <td>87.034279</td>\n",
              "      <td>85.223883</td>\n",
              "      <td>84.615567</td>\n",
              "      <td>0.386850</td>\n",
              "      <td>0.441667</td>\n",
              "      <td>0.378587</td>\n",
              "      <td>0.322257</td>\n",
              "      <td>0.341919</td>\n",
              "      <td>0.374256</td>\n",
              "    </tr>\n",
              "    <tr>\n",
              "      <th>17</th>\n",
              "      <td>adam</td>\n",
              "      <td>elu</td>\n",
              "      <td>5</td>\n",
              "      <td>88.077497</td>\n",
              "      <td>84.351712</td>\n",
              "      <td>82.712370</td>\n",
              "      <td>84.500748</td>\n",
              "      <td>88.208956</td>\n",
              "      <td>85.570257</td>\n",
              "      <td>0.334442</td>\n",
              "      <td>0.375613</td>\n",
              "      <td>0.403688</td>\n",
              "      <td>0.390530</td>\n",
              "      <td>0.341154</td>\n",
              "      <td>0.369085</td>\n",
              "    </tr>\n",
              "    <tr>\n",
              "      <th>18</th>\n",
              "      <td>adam</td>\n",
              "      <td>elu</td>\n",
              "      <td>6</td>\n",
              "      <td>84.947836</td>\n",
              "      <td>87.779433</td>\n",
              "      <td>88.226527</td>\n",
              "      <td>83.606559</td>\n",
              "      <td>86.716419</td>\n",
              "      <td>86.255355</td>\n",
              "      <td>0.417964</td>\n",
              "      <td>0.317897</td>\n",
              "      <td>0.316156</td>\n",
              "      <td>0.405491</td>\n",
              "      <td>0.325740</td>\n",
              "      <td>0.356650</td>\n",
              "    </tr>\n",
              "    <tr>\n",
              "      <th>19</th>\n",
              "      <td>adam</td>\n",
              "      <td>elu</td>\n",
              "      <td>7</td>\n",
              "      <td>86.885244</td>\n",
              "      <td>88.524592</td>\n",
              "      <td>85.543966</td>\n",
              "      <td>85.543966</td>\n",
              "      <td>84.925371</td>\n",
              "      <td>86.284628</td>\n",
              "      <td>0.345875</td>\n",
              "      <td>0.324630</td>\n",
              "      <td>0.327027</td>\n",
              "      <td>0.372662</td>\n",
              "      <td>0.367837</td>\n",
              "      <td>0.347606</td>\n",
              "    </tr>\n",
              "    <tr>\n",
              "      <th>20</th>\n",
              "      <td>adam</td>\n",
              "      <td>elu</td>\n",
              "      <td>8</td>\n",
              "      <td>85.394931</td>\n",
              "      <td>88.673621</td>\n",
              "      <td>85.692996</td>\n",
              "      <td>84.798807</td>\n",
              "      <td>83.134329</td>\n",
              "      <td>85.538937</td>\n",
              "      <td>0.339075</td>\n",
              "      <td>0.286201</td>\n",
              "      <td>0.370170</td>\n",
              "      <td>0.383113</td>\n",
              "      <td>0.423294</td>\n",
              "      <td>0.360370</td>\n",
              "    </tr>\n",
              "    <tr>\n",
              "      <th>21</th>\n",
              "      <td>adam</td>\n",
              "      <td>selu</td>\n",
              "      <td>2</td>\n",
              "      <td>82.861400</td>\n",
              "      <td>85.245901</td>\n",
              "      <td>85.842025</td>\n",
              "      <td>83.010435</td>\n",
              "      <td>86.567163</td>\n",
              "      <td>84.705385</td>\n",
              "      <td>0.414451</td>\n",
              "      <td>0.414626</td>\n",
              "      <td>0.360255</td>\n",
              "      <td>0.415935</td>\n",
              "      <td>0.377360</td>\n",
              "      <td>0.396525</td>\n",
              "    </tr>\n",
              "    <tr>\n",
              "      <th>22</th>\n",
              "      <td>adam</td>\n",
              "      <td>selu</td>\n",
              "      <td>3</td>\n",
              "      <td>85.394931</td>\n",
              "      <td>86.289120</td>\n",
              "      <td>84.649777</td>\n",
              "      <td>84.500748</td>\n",
              "      <td>84.029853</td>\n",
              "      <td>84.972886</td>\n",
              "      <td>0.379784</td>\n",
              "      <td>0.381311</td>\n",
              "      <td>0.401153</td>\n",
              "      <td>0.352709</td>\n",
              "      <td>0.414956</td>\n",
              "      <td>0.385983</td>\n",
              "    </tr>\n",
              "    <tr>\n",
              "      <th>23</th>\n",
              "      <td>adam</td>\n",
              "      <td>selu</td>\n",
              "      <td>4</td>\n",
              "      <td>85.692996</td>\n",
              "      <td>87.034279</td>\n",
              "      <td>84.947836</td>\n",
              "      <td>85.991061</td>\n",
              "      <td>87.313432</td>\n",
              "      <td>86.195921</td>\n",
              "      <td>0.395033</td>\n",
              "      <td>0.374288</td>\n",
              "      <td>0.428149</td>\n",
              "      <td>0.344724</td>\n",
              "      <td>0.327442</td>\n",
              "      <td>0.373927</td>\n",
              "    </tr>\n",
              "    <tr>\n",
              "      <th>24</th>\n",
              "      <td>adam</td>\n",
              "      <td>selu</td>\n",
              "      <td>5</td>\n",
              "      <td>85.692996</td>\n",
              "      <td>85.842025</td>\n",
              "      <td>88.375556</td>\n",
              "      <td>88.971686</td>\n",
              "      <td>83.880597</td>\n",
              "      <td>86.552572</td>\n",
              "      <td>0.398284</td>\n",
              "      <td>0.371251</td>\n",
              "      <td>0.335946</td>\n",
              "      <td>0.313969</td>\n",
              "      <td>0.430374</td>\n",
              "      <td>0.369965</td>\n",
              "    </tr>\n",
              "    <tr>\n",
              "      <th>25</th>\n",
              "      <td>adam</td>\n",
              "      <td>selu</td>\n",
              "      <td>6</td>\n",
              "      <td>88.226527</td>\n",
              "      <td>85.991061</td>\n",
              "      <td>85.692996</td>\n",
              "      <td>83.308494</td>\n",
              "      <td>85.671639</td>\n",
              "      <td>85.778143</td>\n",
              "      <td>0.324714</td>\n",
              "      <td>0.358591</td>\n",
              "      <td>0.345698</td>\n",
              "      <td>0.415883</td>\n",
              "      <td>0.373568</td>\n",
              "      <td>0.363691</td>\n",
              "    </tr>\n",
              "    <tr>\n",
              "      <th>26</th>\n",
              "      <td>adam</td>\n",
              "      <td>selu</td>\n",
              "      <td>7</td>\n",
              "      <td>82.265276</td>\n",
              "      <td>87.630403</td>\n",
              "      <td>84.947836</td>\n",
              "      <td>82.414305</td>\n",
              "      <td>86.716419</td>\n",
              "      <td>84.794848</td>\n",
              "      <td>0.401141</td>\n",
              "      <td>0.306833</td>\n",
              "      <td>0.388476</td>\n",
              "      <td>0.454063</td>\n",
              "      <td>0.359087</td>\n",
              "      <td>0.381920</td>\n",
              "    </tr>\n",
              "    <tr>\n",
              "      <th>27</th>\n",
              "      <td>adam</td>\n",
              "      <td>selu</td>\n",
              "      <td>8</td>\n",
              "      <td>86.438149</td>\n",
              "      <td>85.394931</td>\n",
              "      <td>83.010435</td>\n",
              "      <td>85.991061</td>\n",
              "      <td>84.925371</td>\n",
              "      <td>85.151989</td>\n",
              "      <td>0.387213</td>\n",
              "      <td>0.371008</td>\n",
              "      <td>0.424515</td>\n",
              "      <td>0.330823</td>\n",
              "      <td>0.364499</td>\n",
              "      <td>0.375612</td>\n",
              "    </tr>\n",
              "    <tr>\n",
              "      <th>28</th>\n",
              "      <td>adam</td>\n",
              "      <td>swish</td>\n",
              "      <td>2</td>\n",
              "      <td>84.351712</td>\n",
              "      <td>85.245901</td>\n",
              "      <td>81.520116</td>\n",
              "      <td>83.159465</td>\n",
              "      <td>84.626865</td>\n",
              "      <td>83.780812</td>\n",
              "      <td>0.401897</td>\n",
              "      <td>0.393624</td>\n",
              "      <td>0.441601</td>\n",
              "      <td>0.420479</td>\n",
              "      <td>0.428270</td>\n",
              "      <td>0.417174</td>\n",
              "    </tr>\n",
              "    <tr>\n",
              "      <th>29</th>\n",
              "      <td>adam</td>\n",
              "      <td>swish</td>\n",
              "      <td>3</td>\n",
              "      <td>83.159465</td>\n",
              "      <td>85.991061</td>\n",
              "      <td>86.438149</td>\n",
              "      <td>88.524592</td>\n",
              "      <td>82.537311</td>\n",
              "      <td>85.330116</td>\n",
              "      <td>0.414943</td>\n",
              "      <td>0.384244</td>\n",
              "      <td>0.371853</td>\n",
              "      <td>0.357903</td>\n",
              "      <td>0.435369</td>\n",
              "      <td>0.392862</td>\n",
              "    </tr>\n",
              "    <tr>\n",
              "      <th>30</th>\n",
              "      <td>adam</td>\n",
              "      <td>swish</td>\n",
              "      <td>4</td>\n",
              "      <td>87.034279</td>\n",
              "      <td>86.140090</td>\n",
              "      <td>82.861400</td>\n",
              "      <td>83.904618</td>\n",
              "      <td>85.522389</td>\n",
              "      <td>85.092555</td>\n",
              "      <td>0.336679</td>\n",
              "      <td>0.364638</td>\n",
              "      <td>0.429153</td>\n",
              "      <td>0.418408</td>\n",
              "      <td>0.395115</td>\n",
              "      <td>0.388799</td>\n",
              "    </tr>\n",
              "    <tr>\n",
              "      <th>31</th>\n",
              "      <td>adam</td>\n",
              "      <td>swish</td>\n",
              "      <td>5</td>\n",
              "      <td>85.096872</td>\n",
              "      <td>86.289120</td>\n",
              "      <td>84.798807</td>\n",
              "      <td>85.842025</td>\n",
              "      <td>84.328359</td>\n",
              "      <td>85.271037</td>\n",
              "      <td>0.377919</td>\n",
              "      <td>0.372535</td>\n",
              "      <td>0.381761</td>\n",
              "      <td>0.342681</td>\n",
              "      <td>0.448092</td>\n",
              "      <td>0.384598</td>\n",
              "    </tr>\n",
              "    <tr>\n",
              "      <th>32</th>\n",
              "      <td>adam</td>\n",
              "      <td>swish</td>\n",
              "      <td>6</td>\n",
              "      <td>87.481374</td>\n",
              "      <td>87.481374</td>\n",
              "      <td>85.096872</td>\n",
              "      <td>84.798807</td>\n",
              "      <td>85.373133</td>\n",
              "      <td>86.046312</td>\n",
              "      <td>0.332293</td>\n",
              "      <td>0.389370</td>\n",
              "      <td>0.371695</td>\n",
              "      <td>0.354393</td>\n",
              "      <td>0.418685</td>\n",
              "      <td>0.373287</td>\n",
              "    </tr>\n",
              "    <tr>\n",
              "      <th>33</th>\n",
              "      <td>adam</td>\n",
              "      <td>swish</td>\n",
              "      <td>7</td>\n",
              "      <td>86.736214</td>\n",
              "      <td>86.587185</td>\n",
              "      <td>82.563341</td>\n",
              "      <td>82.563341</td>\n",
              "      <td>87.611938</td>\n",
              "      <td>85.212404</td>\n",
              "      <td>0.348998</td>\n",
              "      <td>0.365323</td>\n",
              "      <td>0.382178</td>\n",
              "      <td>0.434713</td>\n",
              "      <td>0.349358</td>\n",
              "      <td>0.376114</td>\n",
              "    </tr>\n",
              "    <tr>\n",
              "      <th>34</th>\n",
              "      <td>adam</td>\n",
              "      <td>swish</td>\n",
              "      <td>8</td>\n",
              "      <td>85.991061</td>\n",
              "      <td>84.202683</td>\n",
              "      <td>85.692996</td>\n",
              "      <td>88.375556</td>\n",
              "      <td>84.925371</td>\n",
              "      <td>85.837533</td>\n",
              "      <td>0.383248</td>\n",
              "      <td>0.420930</td>\n",
              "      <td>0.399401</td>\n",
              "      <td>0.299580</td>\n",
              "      <td>0.398289</td>\n",
              "      <td>0.380290</td>\n",
              "    </tr>\n",
              "  </tbody>\n",
              "</table>\n",
              "</div>\n",
              "      <button class=\"colab-df-convert\" onclick=\"convertToInteractive('df-b7ff2444-e463-4fef-ad1f-8d0c26d6920a')\"\n",
              "              title=\"Convert this dataframe to an interactive table.\"\n",
              "              style=\"display:none;\">\n",
              "        \n",
              "  <svg xmlns=\"http://www.w3.org/2000/svg\" height=\"24px\"viewBox=\"0 0 24 24\"\n",
              "       width=\"24px\">\n",
              "    <path d=\"M0 0h24v24H0V0z\" fill=\"none\"/>\n",
              "    <path d=\"M18.56 5.44l.94 2.06.94-2.06 2.06-.94-2.06-.94-.94-2.06-.94 2.06-2.06.94zm-11 1L8.5 8.5l.94-2.06 2.06-.94-2.06-.94L8.5 2.5l-.94 2.06-2.06.94zm10 10l.94 2.06.94-2.06 2.06-.94-2.06-.94-.94-2.06-.94 2.06-2.06.94z\"/><path d=\"M17.41 7.96l-1.37-1.37c-.4-.4-.92-.59-1.43-.59-.52 0-1.04.2-1.43.59L10.3 9.45l-7.72 7.72c-.78.78-.78 2.05 0 2.83L4 21.41c.39.39.9.59 1.41.59.51 0 1.02-.2 1.41-.59l7.78-7.78 2.81-2.81c.8-.78.8-2.07 0-2.86zM5.41 20L4 18.59l7.72-7.72 1.47 1.35L5.41 20z\"/>\n",
              "  </svg>\n",
              "      </button>\n",
              "      \n",
              "  <style>\n",
              "    .colab-df-container {\n",
              "      display:flex;\n",
              "      flex-wrap:wrap;\n",
              "      gap: 12px;\n",
              "    }\n",
              "\n",
              "    .colab-df-convert {\n",
              "      background-color: #E8F0FE;\n",
              "      border: none;\n",
              "      border-radius: 50%;\n",
              "      cursor: pointer;\n",
              "      display: none;\n",
              "      fill: #1967D2;\n",
              "      height: 32px;\n",
              "      padding: 0 0 0 0;\n",
              "      width: 32px;\n",
              "    }\n",
              "\n",
              "    .colab-df-convert:hover {\n",
              "      background-color: #E2EBFA;\n",
              "      box-shadow: 0px 1px 2px rgba(60, 64, 67, 0.3), 0px 1px 3px 1px rgba(60, 64, 67, 0.15);\n",
              "      fill: #174EA6;\n",
              "    }\n",
              "\n",
              "    [theme=dark] .colab-df-convert {\n",
              "      background-color: #3B4455;\n",
              "      fill: #D2E3FC;\n",
              "    }\n",
              "\n",
              "    [theme=dark] .colab-df-convert:hover {\n",
              "      background-color: #434B5C;\n",
              "      box-shadow: 0px 1px 3px 1px rgba(0, 0, 0, 0.15);\n",
              "      filter: drop-shadow(0px 1px 2px rgba(0, 0, 0, 0.3));\n",
              "      fill: #FFFFFF;\n",
              "    }\n",
              "  </style>\n",
              "\n",
              "      <script>\n",
              "        const buttonEl =\n",
              "          document.querySelector('#df-b7ff2444-e463-4fef-ad1f-8d0c26d6920a button.colab-df-convert');\n",
              "        buttonEl.style.display =\n",
              "          google.colab.kernel.accessAllowed ? 'block' : 'none';\n",
              "\n",
              "        async function convertToInteractive(key) {\n",
              "          const element = document.querySelector('#df-b7ff2444-e463-4fef-ad1f-8d0c26d6920a');\n",
              "          const dataTable =\n",
              "            await google.colab.kernel.invokeFunction('convertToInteractive',\n",
              "                                                     [key], {});\n",
              "          if (!dataTable) return;\n",
              "\n",
              "          const docLinkHtml = 'Like what you see? Visit the ' +\n",
              "            '<a target=\"_blank\" href=https://colab.research.google.com/notebooks/data_table.ipynb>data table notebook</a>'\n",
              "            + ' to learn more about interactive tables.';\n",
              "          element.innerHTML = '';\n",
              "          dataTable['output_type'] = 'display_data';\n",
              "          await google.colab.output.renderOutput(dataTable, element);\n",
              "          const docLink = document.createElement('div');\n",
              "          docLink.innerHTML = docLinkHtml;\n",
              "          element.appendChild(docLink);\n",
              "        }\n",
              "      </script>\n",
              "    </div>\n",
              "  </div>\n",
              "  "
            ]
          },
          "metadata": {},
          "execution_count": 37
        },
        {
          "output_type": "stream",
          "name": "stdout",
          "text": [
            "time: 22.4 ms (started: 2022-12-12 15:40:04 +00:00)\n"
          ]
        }
      ],
      "source": [
        "record"
      ]
    },
    {
      "cell_type": "code",
      "execution_count": null,
      "metadata": {
        "id": "Pzx9bOkhbtzj",
        "colab": {
          "base_uri": "https://localhost:8080/",
          "height": 256
        },
        "outputId": "3a0f2024-684d-4653-ff07-aba6197f65ff"
      },
      "outputs": [
        {
          "output_type": "execute_result",
          "data": {
            "text/plain": [
              "               accAVG\n",
              "Activation           \n",
              "relu        86.642703\n",
              "selu        86.552572\n",
              "tanh        86.314344\n",
              "elu         86.284628\n",
              "swish       86.046312"
            ],
            "text/html": [
              "\n",
              "  <div id=\"df-b4bfb328-c6e1-4a5d-be4c-71f9a6dbb4eb\">\n",
              "    <div class=\"colab-df-container\">\n",
              "      <div>\n",
              "<style scoped>\n",
              "    .dataframe tbody tr th:only-of-type {\n",
              "        vertical-align: middle;\n",
              "    }\n",
              "\n",
              "    .dataframe tbody tr th {\n",
              "        vertical-align: top;\n",
              "    }\n",
              "\n",
              "    .dataframe thead th {\n",
              "        text-align: right;\n",
              "    }\n",
              "</style>\n",
              "<table border=\"1\" class=\"dataframe\">\n",
              "  <thead>\n",
              "    <tr style=\"text-align: right;\">\n",
              "      <th></th>\n",
              "      <th>accAVG</th>\n",
              "    </tr>\n",
              "    <tr>\n",
              "      <th>Activation</th>\n",
              "      <th></th>\n",
              "    </tr>\n",
              "  </thead>\n",
              "  <tbody>\n",
              "    <tr>\n",
              "      <th>relu</th>\n",
              "      <td>86.642703</td>\n",
              "    </tr>\n",
              "    <tr>\n",
              "      <th>selu</th>\n",
              "      <td>86.552572</td>\n",
              "    </tr>\n",
              "    <tr>\n",
              "      <th>tanh</th>\n",
              "      <td>86.314344</td>\n",
              "    </tr>\n",
              "    <tr>\n",
              "      <th>elu</th>\n",
              "      <td>86.284628</td>\n",
              "    </tr>\n",
              "    <tr>\n",
              "      <th>swish</th>\n",
              "      <td>86.046312</td>\n",
              "    </tr>\n",
              "  </tbody>\n",
              "</table>\n",
              "</div>\n",
              "      <button class=\"colab-df-convert\" onclick=\"convertToInteractive('df-b4bfb328-c6e1-4a5d-be4c-71f9a6dbb4eb')\"\n",
              "              title=\"Convert this dataframe to an interactive table.\"\n",
              "              style=\"display:none;\">\n",
              "        \n",
              "  <svg xmlns=\"http://www.w3.org/2000/svg\" height=\"24px\"viewBox=\"0 0 24 24\"\n",
              "       width=\"24px\">\n",
              "    <path d=\"M0 0h24v24H0V0z\" fill=\"none\"/>\n",
              "    <path d=\"M18.56 5.44l.94 2.06.94-2.06 2.06-.94-2.06-.94-.94-2.06-.94 2.06-2.06.94zm-11 1L8.5 8.5l.94-2.06 2.06-.94-2.06-.94L8.5 2.5l-.94 2.06-2.06.94zm10 10l.94 2.06.94-2.06 2.06-.94-2.06-.94-.94-2.06-.94 2.06-2.06.94z\"/><path d=\"M17.41 7.96l-1.37-1.37c-.4-.4-.92-.59-1.43-.59-.52 0-1.04.2-1.43.59L10.3 9.45l-7.72 7.72c-.78.78-.78 2.05 0 2.83L4 21.41c.39.39.9.59 1.41.59.51 0 1.02-.2 1.41-.59l7.78-7.78 2.81-2.81c.8-.78.8-2.07 0-2.86zM5.41 20L4 18.59l7.72-7.72 1.47 1.35L5.41 20z\"/>\n",
              "  </svg>\n",
              "      </button>\n",
              "      \n",
              "  <style>\n",
              "    .colab-df-container {\n",
              "      display:flex;\n",
              "      flex-wrap:wrap;\n",
              "      gap: 12px;\n",
              "    }\n",
              "\n",
              "    .colab-df-convert {\n",
              "      background-color: #E8F0FE;\n",
              "      border: none;\n",
              "      border-radius: 50%;\n",
              "      cursor: pointer;\n",
              "      display: none;\n",
              "      fill: #1967D2;\n",
              "      height: 32px;\n",
              "      padding: 0 0 0 0;\n",
              "      width: 32px;\n",
              "    }\n",
              "\n",
              "    .colab-df-convert:hover {\n",
              "      background-color: #E2EBFA;\n",
              "      box-shadow: 0px 1px 2px rgba(60, 64, 67, 0.3), 0px 1px 3px 1px rgba(60, 64, 67, 0.15);\n",
              "      fill: #174EA6;\n",
              "    }\n",
              "\n",
              "    [theme=dark] .colab-df-convert {\n",
              "      background-color: #3B4455;\n",
              "      fill: #D2E3FC;\n",
              "    }\n",
              "\n",
              "    [theme=dark] .colab-df-convert:hover {\n",
              "      background-color: #434B5C;\n",
              "      box-shadow: 0px 1px 3px 1px rgba(0, 0, 0, 0.15);\n",
              "      filter: drop-shadow(0px 1px 2px rgba(0, 0, 0, 0.3));\n",
              "      fill: #FFFFFF;\n",
              "    }\n",
              "  </style>\n",
              "\n",
              "      <script>\n",
              "        const buttonEl =\n",
              "          document.querySelector('#df-b4bfb328-c6e1-4a5d-be4c-71f9a6dbb4eb button.colab-df-convert');\n",
              "        buttonEl.style.display =\n",
              "          google.colab.kernel.accessAllowed ? 'block' : 'none';\n",
              "\n",
              "        async function convertToInteractive(key) {\n",
              "          const element = document.querySelector('#df-b4bfb328-c6e1-4a5d-be4c-71f9a6dbb4eb');\n",
              "          const dataTable =\n",
              "            await google.colab.kernel.invokeFunction('convertToInteractive',\n",
              "                                                     [key], {});\n",
              "          if (!dataTable) return;\n",
              "\n",
              "          const docLinkHtml = 'Like what you see? Visit the ' +\n",
              "            '<a target=\"_blank\" href=https://colab.research.google.com/notebooks/data_table.ipynb>data table notebook</a>'\n",
              "            + ' to learn more about interactive tables.';\n",
              "          element.innerHTML = '';\n",
              "          dataTable['output_type'] = 'display_data';\n",
              "          await google.colab.output.renderOutput(dataTable, element);\n",
              "          const docLink = document.createElement('div');\n",
              "          docLink.innerHTML = docLinkHtml;\n",
              "          element.appendChild(docLink);\n",
              "        }\n",
              "      </script>\n",
              "    </div>\n",
              "  </div>\n",
              "  "
            ]
          },
          "metadata": {},
          "execution_count": 38
        },
        {
          "output_type": "stream",
          "name": "stdout",
          "text": [
            "time: 19.1 ms (started: 2022-12-12 15:40:04 +00:00)\n"
          ]
        }
      ],
      "source": [
        "record[['Activation', 'accAVG']].groupby(by='Activation').max().sort_values(by='accAVG', ascending=False)"
      ]
    },
    {
      "cell_type": "code",
      "source": [
        "record[['Activation', 'lossAVG']].groupby(by='Activation').min().sort_values(by='lossAVG', ascending=True)"
      ],
      "metadata": {
        "id": "UwQlmJ_IYgbV",
        "colab": {
          "base_uri": "https://localhost:8080/",
          "height": 256
        },
        "outputId": "9a9ee45c-f511-4eb1-facf-80d974b7aba0"
      },
      "execution_count": null,
      "outputs": [
        {
          "output_type": "execute_result",
          "data": {
            "text/plain": [
              "             lossAVG\n",
              "Activation          \n",
              "relu        0.343738\n",
              "elu         0.347606\n",
              "tanh        0.347630\n",
              "selu        0.363691\n",
              "swish       0.373287"
            ],
            "text/html": [
              "\n",
              "  <div id=\"df-6c540fbf-5ec5-43ed-a3bd-724f0d326639\">\n",
              "    <div class=\"colab-df-container\">\n",
              "      <div>\n",
              "<style scoped>\n",
              "    .dataframe tbody tr th:only-of-type {\n",
              "        vertical-align: middle;\n",
              "    }\n",
              "\n",
              "    .dataframe tbody tr th {\n",
              "        vertical-align: top;\n",
              "    }\n",
              "\n",
              "    .dataframe thead th {\n",
              "        text-align: right;\n",
              "    }\n",
              "</style>\n",
              "<table border=\"1\" class=\"dataframe\">\n",
              "  <thead>\n",
              "    <tr style=\"text-align: right;\">\n",
              "      <th></th>\n",
              "      <th>lossAVG</th>\n",
              "    </tr>\n",
              "    <tr>\n",
              "      <th>Activation</th>\n",
              "      <th></th>\n",
              "    </tr>\n",
              "  </thead>\n",
              "  <tbody>\n",
              "    <tr>\n",
              "      <th>relu</th>\n",
              "      <td>0.343738</td>\n",
              "    </tr>\n",
              "    <tr>\n",
              "      <th>elu</th>\n",
              "      <td>0.347606</td>\n",
              "    </tr>\n",
              "    <tr>\n",
              "      <th>tanh</th>\n",
              "      <td>0.347630</td>\n",
              "    </tr>\n",
              "    <tr>\n",
              "      <th>selu</th>\n",
              "      <td>0.363691</td>\n",
              "    </tr>\n",
              "    <tr>\n",
              "      <th>swish</th>\n",
              "      <td>0.373287</td>\n",
              "    </tr>\n",
              "  </tbody>\n",
              "</table>\n",
              "</div>\n",
              "      <button class=\"colab-df-convert\" onclick=\"convertToInteractive('df-6c540fbf-5ec5-43ed-a3bd-724f0d326639')\"\n",
              "              title=\"Convert this dataframe to an interactive table.\"\n",
              "              style=\"display:none;\">\n",
              "        \n",
              "  <svg xmlns=\"http://www.w3.org/2000/svg\" height=\"24px\"viewBox=\"0 0 24 24\"\n",
              "       width=\"24px\">\n",
              "    <path d=\"M0 0h24v24H0V0z\" fill=\"none\"/>\n",
              "    <path d=\"M18.56 5.44l.94 2.06.94-2.06 2.06-.94-2.06-.94-.94-2.06-.94 2.06-2.06.94zm-11 1L8.5 8.5l.94-2.06 2.06-.94-2.06-.94L8.5 2.5l-.94 2.06-2.06.94zm10 10l.94 2.06.94-2.06 2.06-.94-2.06-.94-.94-2.06-.94 2.06-2.06.94z\"/><path d=\"M17.41 7.96l-1.37-1.37c-.4-.4-.92-.59-1.43-.59-.52 0-1.04.2-1.43.59L10.3 9.45l-7.72 7.72c-.78.78-.78 2.05 0 2.83L4 21.41c.39.39.9.59 1.41.59.51 0 1.02-.2 1.41-.59l7.78-7.78 2.81-2.81c.8-.78.8-2.07 0-2.86zM5.41 20L4 18.59l7.72-7.72 1.47 1.35L5.41 20z\"/>\n",
              "  </svg>\n",
              "      </button>\n",
              "      \n",
              "  <style>\n",
              "    .colab-df-container {\n",
              "      display:flex;\n",
              "      flex-wrap:wrap;\n",
              "      gap: 12px;\n",
              "    }\n",
              "\n",
              "    .colab-df-convert {\n",
              "      background-color: #E8F0FE;\n",
              "      border: none;\n",
              "      border-radius: 50%;\n",
              "      cursor: pointer;\n",
              "      display: none;\n",
              "      fill: #1967D2;\n",
              "      height: 32px;\n",
              "      padding: 0 0 0 0;\n",
              "      width: 32px;\n",
              "    }\n",
              "\n",
              "    .colab-df-convert:hover {\n",
              "      background-color: #E2EBFA;\n",
              "      box-shadow: 0px 1px 2px rgba(60, 64, 67, 0.3), 0px 1px 3px 1px rgba(60, 64, 67, 0.15);\n",
              "      fill: #174EA6;\n",
              "    }\n",
              "\n",
              "    [theme=dark] .colab-df-convert {\n",
              "      background-color: #3B4455;\n",
              "      fill: #D2E3FC;\n",
              "    }\n",
              "\n",
              "    [theme=dark] .colab-df-convert:hover {\n",
              "      background-color: #434B5C;\n",
              "      box-shadow: 0px 1px 3px 1px rgba(0, 0, 0, 0.15);\n",
              "      filter: drop-shadow(0px 1px 2px rgba(0, 0, 0, 0.3));\n",
              "      fill: #FFFFFF;\n",
              "    }\n",
              "  </style>\n",
              "\n",
              "      <script>\n",
              "        const buttonEl =\n",
              "          document.querySelector('#df-6c540fbf-5ec5-43ed-a3bd-724f0d326639 button.colab-df-convert');\n",
              "        buttonEl.style.display =\n",
              "          google.colab.kernel.accessAllowed ? 'block' : 'none';\n",
              "\n",
              "        async function convertToInteractive(key) {\n",
              "          const element = document.querySelector('#df-6c540fbf-5ec5-43ed-a3bd-724f0d326639');\n",
              "          const dataTable =\n",
              "            await google.colab.kernel.invokeFunction('convertToInteractive',\n",
              "                                                     [key], {});\n",
              "          if (!dataTable) return;\n",
              "\n",
              "          const docLinkHtml = 'Like what you see? Visit the ' +\n",
              "            '<a target=\"_blank\" href=https://colab.research.google.com/notebooks/data_table.ipynb>data table notebook</a>'\n",
              "            + ' to learn more about interactive tables.';\n",
              "          element.innerHTML = '';\n",
              "          dataTable['output_type'] = 'display_data';\n",
              "          await google.colab.output.renderOutput(dataTable, element);\n",
              "          const docLink = document.createElement('div');\n",
              "          docLink.innerHTML = docLinkHtml;\n",
              "          element.appendChild(docLink);\n",
              "        }\n",
              "      </script>\n",
              "    </div>\n",
              "  </div>\n",
              "  "
            ]
          },
          "metadata": {},
          "execution_count": 39
        },
        {
          "output_type": "stream",
          "name": "stdout",
          "text": [
            "time: 8.68 ms (started: 2022-12-12 15:40:04 +00:00)\n"
          ]
        }
      ]
    },
    {
      "cell_type": "code",
      "execution_count": null,
      "metadata": {
        "id": "wBE4fCoQdADY",
        "colab": {
          "base_uri": "https://localhost:8080/"
        },
        "outputId": "5452f7e7-2afd-4e6f-8bc5-af7202e4b53d"
      },
      "outputs": [
        {
          "output_type": "stream",
          "name": "stdout",
          "text": [
            "0, 1, 5, 6, 8, 17, 19, 20, 25, 26, 27, 29, 31, 32, 33, 34, 40, 41, 46, 49, 50, 53, 55, 58, 59, 60, 67, 69, 75, 78, 79, 83, 84, 86, 87, 92, 95, 96, 100, 101, 109, 110, 115, 122, 123, 127, 135, 141, 158, 162, 164, 165, 168, 169, 170, 172\n",
            "time: 15.8 ms (started: 2022-12-12 15:40:04 +00:00)\n"
          ]
        }
      ],
      "source": [
        "max_recall_0 = [i[0] for i in recalls]\n",
        "max_recall_0_idx = [i for i in range(len(max_recall_0)) if max_recall_0[i] >= .8]\n",
        "print(*max_recall_0_idx, sep=', ')"
      ]
    },
    {
      "cell_type": "code",
      "execution_count": null,
      "metadata": {
        "id": "xUcPMqKag5uf",
        "colab": {
          "base_uri": "https://localhost:8080/"
        },
        "outputId": "6a7c2e46-c355-496a-e8e3-a06ddcb01535"
      },
      "outputs": [
        {
          "output_type": "stream",
          "name": "stdout",
          "text": [
            "[[0, 0.8173913043478261], [5, 0.8008130081300813], [19, 0.8201754385964912], [20, 0.8071748878923767], [26, 0.8774509803921569], [31, 0.8104838709677419], [32, 0.8046511627906977], [33, 0.8497652582159625], [49, 0.8099547511312217], [50, 0.8025751072961373], [59, 0.8302752293577982], [67, 0.8649789029535865], [79, 0.8771929824561403], [83, 0.8854625550660793], [92, 0.8387096774193549], [95, 0.8041666666666667], [96, 0.8644859813084113], [101, 0.8450704225352113], [109, 0.8472222222222222], [110, 0.8097345132743363], [115, 0.8189655172413793], [122, 0.8433179723502304], [123, 0.8651162790697674], [127, 0.8162393162393162], [141, 0.8194444444444444], [164, 0.8200836820083682], [165, 0.822429906542056], [169, 0.8136363636363636]]\n",
            "time: 1.71 ms (started: 2022-12-12 15:40:04 +00:00)\n"
          ]
        }
      ],
      "source": [
        "recall_filtered = [m for m in [[i, rec[1]] for i, rec in enumerate(recalls) if i in max_recall_0_idx] if m[1] >= .8]\n",
        "\n",
        "print(recall_filtered)"
      ]
    },
    {
      "cell_type": "code",
      "source": [
        "for i in range(len(recall_filtered)):\n",
        "  print(reports[recall_filtered[i][0]], '\\n\\n')"
      ],
      "metadata": {
        "id": "haKHcJ2P93de",
        "colab": {
          "base_uri": "https://localhost:8080/"
        },
        "outputId": "d3bf53d0-0812-4544-eea8-320b59527c5b"
      },
      "execution_count": null,
      "outputs": [
        {
          "output_type": "stream",
          "name": "stdout",
          "text": [
            "                                                      precision    recall  f1-score   support\n",
            "\n",
            "                 Fabricated Content/Imposter Content       0.81      0.80      0.81       212\n",
            "Misleading Content/False Context/Manipulated Content       0.81      0.82      0.82       230\n",
            "                                               Valid       0.94      0.95      0.95       229\n",
            "\n",
            "                                            accuracy                           0.86       671\n",
            "                                           macro avg       0.86      0.86      0.86       671\n",
            "                                        weighted avg       0.86      0.86      0.86       671\n",
            " \n",
            "\n",
            "\n",
            "                                                      precision    recall  f1-score   support\n",
            "\n",
            "                 Fabricated Content/Imposter Content       0.78      0.82      0.80       206\n",
            "Misleading Content/False Context/Manipulated Content       0.84      0.80      0.82       246\n",
            "                                               Valid       0.95      0.95      0.95       219\n",
            "\n",
            "                                            accuracy                           0.86       671\n",
            "                                           macro avg       0.86      0.86      0.86       671\n",
            "                                        weighted avg       0.86      0.86      0.86       671\n",
            " \n",
            "\n",
            "\n",
            "                                                      precision    recall  f1-score   support\n",
            "\n",
            "                 Fabricated Content/Imposter Content       0.80      0.84      0.82       231\n",
            "Misleading Content/False Context/Manipulated Content       0.83      0.82      0.82       228\n",
            "                                               Valid       0.98      0.93      0.95       211\n",
            "\n",
            "                                            accuracy                           0.86       670\n",
            "                                           macro avg       0.87      0.86      0.86       670\n",
            "                                        weighted avg       0.86      0.86      0.86       670\n",
            " \n",
            "\n",
            "\n",
            "                                                      precision    recall  f1-score   support\n",
            "\n",
            "                 Fabricated Content/Imposter Content       0.79      0.84      0.81       219\n",
            "Misleading Content/False Context/Manipulated Content       0.81      0.81      0.81       223\n",
            "                                               Valid       0.98      0.92      0.95       229\n",
            "\n",
            "                                            accuracy                           0.86       671\n",
            "                                           macro avg       0.86      0.86      0.86       671\n",
            "                                        weighted avg       0.86      0.86      0.86       671\n",
            " \n",
            "\n",
            "\n",
            "                                                      precision    recall  f1-score   support\n",
            "\n",
            "                 Fabricated Content/Imposter Content       0.89      0.84      0.87       245\n",
            "Misleading Content/False Context/Manipulated Content       0.82      0.88      0.85       204\n",
            "                                               Valid       0.96      0.95      0.96       222\n",
            "\n",
            "                                            accuracy                           0.89       671\n",
            "                                           macro avg       0.89      0.89      0.89       671\n",
            "                                        weighted avg       0.89      0.89      0.89       671\n",
            " \n",
            "\n",
            "\n",
            "                                                      precision    recall  f1-score   support\n",
            "\n",
            "                 Fabricated Content/Imposter Content       0.82      0.80      0.81       222\n",
            "Misleading Content/False Context/Manipulated Content       0.84      0.81      0.82       248\n",
            "                                               Valid       0.93      0.99      0.95       201\n",
            "\n",
            "                                            accuracy                           0.86       671\n",
            "                                           macro avg       0.86      0.87      0.86       671\n",
            "                                        weighted avg       0.86      0.86      0.86       671\n",
            " \n",
            "\n",
            "\n",
            "                                                      precision    recall  f1-score   support\n",
            "\n",
            "                 Fabricated Content/Imposter Content       0.81      0.80      0.81       228\n",
            "Misleading Content/False Context/Manipulated Content       0.78      0.80      0.79       215\n",
            "                                               Valid       0.98      0.96      0.97       228\n",
            "\n",
            "                                            accuracy                           0.86       671\n",
            "                                           macro avg       0.86      0.86      0.86       671\n",
            "                                        weighted avg       0.86      0.86      0.86       671\n",
            " \n",
            "\n",
            "\n",
            "                                                      precision    recall  f1-score   support\n",
            "\n",
            "                 Fabricated Content/Imposter Content       0.82      0.84      0.83       211\n",
            "Misleading Content/False Context/Manipulated Content       0.84      0.85      0.85       213\n",
            "                                               Valid       0.98      0.95      0.97       247\n",
            "\n",
            "                                            accuracy                           0.89       671\n",
            "                                           macro avg       0.88      0.88      0.88       671\n",
            "                                        weighted avg       0.89      0.89      0.89       671\n",
            " \n",
            "\n",
            "\n",
            "                                                      precision    recall  f1-score   support\n",
            "\n",
            "                 Fabricated Content/Imposter Content       0.83      0.80      0.82       225\n",
            "Misleading Content/False Context/Manipulated Content       0.82      0.81      0.82       221\n",
            "                                               Valid       0.94      0.98      0.96       224\n",
            "\n",
            "                                            accuracy                           0.87       670\n",
            "                                           macro avg       0.86      0.87      0.86       670\n",
            "                                        weighted avg       0.86      0.87      0.86       670\n",
            " \n",
            "\n",
            "\n",
            "                                                      precision    recall  f1-score   support\n",
            "\n",
            "                 Fabricated Content/Imposter Content       0.78      0.81      0.79       196\n",
            "Misleading Content/False Context/Manipulated Content       0.81      0.80      0.80       233\n",
            "                                               Valid       0.98      0.96      0.97       242\n",
            "\n",
            "                                            accuracy                           0.86       671\n",
            "                                           macro avg       0.86      0.86      0.86       671\n",
            "                                        weighted avg       0.86      0.86      0.86       671\n",
            " \n",
            "\n",
            "\n",
            "                                                      precision    recall  f1-score   support\n",
            "\n",
            "                 Fabricated Content/Imposter Content       0.86      0.82      0.84       234\n",
            "Misleading Content/False Context/Manipulated Content       0.83      0.83      0.83       218\n",
            "                                               Valid       0.96      0.99      0.97       218\n",
            "\n",
            "                                            accuracy                           0.88       670\n",
            "                                           macro avg       0.88      0.88      0.88       670\n",
            "                                        weighted avg       0.88      0.88      0.88       670\n",
            " \n",
            "\n",
            "\n",
            "                                                      precision    recall  f1-score   support\n",
            "\n",
            "                 Fabricated Content/Imposter Content       0.85      0.81      0.83       222\n",
            "Misleading Content/False Context/Manipulated Content       0.81      0.86      0.84       237\n",
            "                                               Valid       0.98      0.94      0.96       212\n",
            "\n",
            "                                            accuracy                           0.87       671\n",
            "                                           macro avg       0.88      0.87      0.87       671\n",
            "                                        weighted avg       0.87      0.87      0.87       671\n",
            " \n",
            "\n",
            "\n",
            "                                                      precision    recall  f1-score   support\n",
            "\n",
            "                 Fabricated Content/Imposter Content       0.90      0.80      0.85       207\n",
            "Misleading Content/False Context/Manipulated Content       0.85      0.88      0.87       228\n",
            "                                               Valid       0.92      0.99      0.96       235\n",
            "\n",
            "                                            accuracy                           0.89       670\n",
            "                                           macro avg       0.89      0.89      0.89       670\n",
            "                                        weighted avg       0.89      0.89      0.89       670\n",
            " \n",
            "\n",
            "\n",
            "                                                      precision    recall  f1-score   support\n",
            "\n",
            "                 Fabricated Content/Imposter Content       0.84      0.80      0.82       213\n",
            "Misleading Content/False Context/Manipulated Content       0.79      0.89      0.84       227\n",
            "                                               Valid       0.99      0.92      0.95       231\n",
            "\n",
            "                                            accuracy                           0.87       671\n",
            "                                           macro avg       0.87      0.87      0.87       671\n",
            "                                        weighted avg       0.88      0.87      0.87       671\n",
            " \n",
            "\n",
            "\n",
            "                                                      precision    recall  f1-score   support\n",
            "\n",
            "                 Fabricated Content/Imposter Content       0.88      0.83      0.85       227\n",
            "Misleading Content/False Context/Manipulated Content       0.83      0.84      0.83       217\n",
            "                                               Valid       0.94      0.97      0.95       227\n",
            "\n",
            "                                            accuracy                           0.88       671\n",
            "                                           macro avg       0.88      0.88      0.88       671\n",
            "                                        weighted avg       0.88      0.88      0.88       671\n",
            " \n",
            "\n",
            "\n",
            "                                                      precision    recall  f1-score   support\n",
            "\n",
            "                 Fabricated Content/Imposter Content       0.80      0.84      0.82       225\n",
            "Misleading Content/False Context/Manipulated Content       0.86      0.80      0.83       240\n",
            "                                               Valid       0.96      0.97      0.97       206\n",
            "\n",
            "                                            accuracy                           0.87       671\n",
            "                                           macro avg       0.87      0.87      0.87       671\n",
            "                                        weighted avg       0.87      0.87      0.87       671\n",
            " \n",
            "\n",
            "\n",
            "                                                      precision    recall  f1-score   support\n",
            "\n",
            "                 Fabricated Content/Imposter Content       0.86      0.84      0.85       226\n",
            "Misleading Content/False Context/Manipulated Content       0.82      0.86      0.84       214\n",
            "                                               Valid       0.98      0.95      0.96       231\n",
            "\n",
            "                                            accuracy                           0.89       671\n",
            "                                           macro avg       0.89      0.88      0.88       671\n",
            "                                        weighted avg       0.89      0.89      0.89       671\n",
            " \n",
            "\n",
            "\n",
            "                                                      precision    recall  f1-score   support\n",
            "\n",
            "                 Fabricated Content/Imposter Content       0.86      0.84      0.85       223\n",
            "Misleading Content/False Context/Manipulated Content       0.83      0.85      0.84       213\n",
            "                                               Valid       0.96      0.97      0.97       235\n",
            "\n",
            "                                            accuracy                           0.89       671\n",
            "                                           macro avg       0.88      0.88      0.88       671\n",
            "                                        weighted avg       0.89      0.89      0.89       671\n",
            " \n",
            "\n",
            "\n",
            "                                                      precision    recall  f1-score   support\n",
            "\n",
            "                 Fabricated Content/Imposter Content       0.86      0.82      0.84       228\n",
            "Misleading Content/False Context/Manipulated Content       0.79      0.85      0.82       216\n",
            "                                               Valid       0.95      0.93      0.94       226\n",
            "\n",
            "                                            accuracy                           0.87       670\n",
            "                                           macro avg       0.87      0.87      0.87       670\n",
            "                                        weighted avg       0.87      0.87      0.87       670\n",
            " \n",
            "\n",
            "\n",
            "                                                      precision    recall  f1-score   support\n",
            "\n",
            "                 Fabricated Content/Imposter Content       0.83      0.80      0.82       234\n",
            "Misleading Content/False Context/Manipulated Content       0.80      0.81      0.80       226\n",
            "                                               Valid       0.94      0.96      0.95       211\n",
            "\n",
            "                                            accuracy                           0.85       671\n",
            "                                           macro avg       0.86      0.86      0.86       671\n",
            "                                        weighted avg       0.85      0.85      0.85       671\n",
            " \n",
            "\n",
            "\n",
            "                                                      precision    recall  f1-score   support\n",
            "\n",
            "                 Fabricated Content/Imposter Content       0.79      0.81      0.80       211\n",
            "Misleading Content/False Context/Manipulated Content       0.80      0.82      0.81       232\n",
            "                                               Valid       0.99      0.94      0.96       228\n",
            "\n",
            "                                            accuracy                           0.86       671\n",
            "                                           macro avg       0.86      0.86      0.86       671\n",
            "                                        weighted avg       0.86      0.86      0.86       671\n",
            " \n",
            "\n",
            "\n",
            "                                                      precision    recall  f1-score   support\n",
            "\n",
            "                 Fabricated Content/Imposter Content       0.85      0.81      0.83       213\n",
            "Misleading Content/False Context/Manipulated Content       0.83      0.84      0.84       217\n",
            "                                               Valid       0.96      0.98      0.97       241\n",
            "\n",
            "                                            accuracy                           0.88       671\n",
            "                                           macro avg       0.88      0.88      0.88       671\n",
            "                                        weighted avg       0.88      0.88      0.88       671\n",
            " \n",
            "\n",
            "\n",
            "                                                      precision    recall  f1-score   support\n",
            "\n",
            "                 Fabricated Content/Imposter Content       0.89      0.83      0.86       241\n",
            "Misleading Content/False Context/Manipulated Content       0.82      0.87      0.84       215\n",
            "                                               Valid       0.96      0.98      0.97       215\n",
            "\n",
            "                                            accuracy                           0.89       671\n",
            "                                           macro avg       0.89      0.89      0.89       671\n",
            "                                        weighted avg       0.89      0.89      0.89       671\n",
            " \n",
            "\n",
            "\n",
            "                                                      precision    recall  f1-score   support\n",
            "\n",
            "                 Fabricated Content/Imposter Content       0.77      0.80      0.79       196\n",
            "Misleading Content/False Context/Manipulated Content       0.80      0.82      0.81       234\n",
            "                                               Valid       0.99      0.94      0.97       241\n",
            "\n",
            "                                            accuracy                           0.86       671\n",
            "                                           macro avg       0.85      0.85      0.85       671\n",
            "                                        weighted avg       0.86      0.86      0.86       671\n",
            " \n",
            "\n",
            "\n",
            "                                                      precision    recall  f1-score   support\n",
            "\n",
            "                 Fabricated Content/Imposter Content       0.83      0.80      0.82       213\n",
            "Misleading Content/False Context/Manipulated Content       0.80      0.82      0.81       216\n",
            "                                               Valid       0.92      0.93      0.92       242\n",
            "\n",
            "                                            accuracy                           0.85       671\n",
            "                                           macro avg       0.85      0.85      0.85       671\n",
            "                                        weighted avg       0.85      0.85      0.85       671\n",
            " \n",
            "\n",
            "\n",
            "                                                      precision    recall  f1-score   support\n",
            "\n",
            "                 Fabricated Content/Imposter Content       0.82      0.81      0.82       237\n",
            "Misleading Content/False Context/Manipulated Content       0.80      0.82      0.81       239\n",
            "                                               Valid       0.96      0.95      0.95       194\n",
            "\n",
            "                                            accuracy                           0.85       670\n",
            "                                           macro avg       0.86      0.86      0.86       670\n",
            "                                        weighted avg       0.85      0.85      0.85       670\n",
            " \n",
            "\n",
            "\n",
            "                                                      precision    recall  f1-score   support\n",
            "\n",
            "                 Fabricated Content/Imposter Content       0.82      0.81      0.81       212\n",
            "Misleading Content/False Context/Manipulated Content       0.80      0.82      0.81       214\n",
            "                                               Valid       0.97      0.96      0.96       245\n",
            "\n",
            "                                            accuracy                           0.87       671\n",
            "                                           macro avg       0.86      0.86      0.86       671\n",
            "                                        weighted avg       0.87      0.87      0.87       671\n",
            " \n",
            "\n",
            "\n",
            "                                                      precision    recall  f1-score   support\n",
            "\n",
            "                 Fabricated Content/Imposter Content       0.85      0.84      0.85       235\n",
            "Misleading Content/False Context/Manipulated Content       0.83      0.81      0.82       220\n",
            "                                               Valid       0.95      0.98      0.96       215\n",
            "\n",
            "                                            accuracy                           0.88       670\n",
            "                                           macro avg       0.88      0.88      0.88       670\n",
            "                                        weighted avg       0.87      0.88      0.88       670\n",
            " \n",
            "\n",
            "\n",
            "time: 2.29 ms (started: 2022-12-12 15:40:04 +00:00)\n"
          ]
        }
      ]
    },
    {
      "cell_type": "code",
      "source": [
        "bests = [2, 4, 7, 10, 11, 12, 14, 15, 16, 17, 18, 21, 22, 27]\n",
        "selecteds = [recall_filtered[i][0] for i in bests]"
      ],
      "metadata": {
        "colab": {
          "base_uri": "https://localhost:8080/"
        },
        "id": "wD-NXQ_aO1uu",
        "outputId": "bf1535fe-c06d-4ec3-b556-a7c587c6f260"
      },
      "execution_count": null,
      "outputs": [
        {
          "output_type": "stream",
          "name": "stdout",
          "text": [
            "time: 706 µs (started: 2022-12-12 15:45:34 +00:00)\n"
          ]
        }
      ]
    },
    {
      "cell_type": "code",
      "source": [
        "def tokenize(text, cloud):\n",
        "  s = text.split()\n",
        "  return [cloud[s[i]] if s[i] in cloud else 1 for i in range(len(s))]\n",
        "\n",
        "def pad_sequence(seq):\n",
        "  return [0 if i < (max_len - len(seq)) else seq[i - (max_len - len(seq))] for i in range(max_len)]"
      ],
      "metadata": {
        "colab": {
          "base_uri": "https://localhost:8080/"
        },
        "id": "BwVwz7LDxyam",
        "outputId": "010248bb-f644-4127-ede7-833ffd247dea"
      },
      "execution_count": null,
      "outputs": [
        {
          "output_type": "stream",
          "name": "stdout",
          "text": [
            "time: 1.16 ms (started: 2022-12-12 15:45:34 +00:00)\n"
          ]
        }
      ]
    },
    {
      "cell_type": "code",
      "source": [
        "results = []\n",
        "\n",
        "for j in selecteds:\n",
        "  predict_temp = []\n",
        "  false_temp = []\n",
        "  print(f'model-{j} predict')\n",
        "  for i in range(len(XVal)):\n",
        "    seq = tokenize(XVal[i], clouds[j])\n",
        "    padded = np.array([pad_sequence(seq)])\n",
        "    preds = models[j].predict(padded)\n",
        "    proba = preds[0].tolist()\n",
        "    classes = list(encoder.classes_)\n",
        "    prediction = classes[proba.index(max(preds[0]))]\n",
        "    if prediction == YVal[i]: predict_temp.append(True)\n",
        "    else: false_temp.append(classes.index(YVal[i]))\n",
        "\n",
        "  results.append(f'correct: {len(predict_temp)}/{len(XVal)}: {round(len(predict_temp)/len(XVal) * 100, 3)}%  -  false-i: {false_temp.count(0)}  -  false-m: {false_temp.count(1)}  -  false-v: {false_temp.count(2)}')"
      ],
      "metadata": {
        "id": "BhShuHzCxkIi"
      },
      "execution_count": null,
      "outputs": []
    },
    {
      "cell_type": "code",
      "source": [
        "for i in range(len(selecteds)):\n",
        "  print('model:', selecteds[i], f'\\n{results[i]}')"
      ],
      "metadata": {
        "colab": {
          "base_uri": "https://localhost:8080/"
        },
        "id": "hP2IqRgOv6zp",
        "outputId": "91a346d0-6654-41e1-c02f-1c466457c660"
      },
      "execution_count": null,
      "outputs": [
        {
          "output_type": "stream",
          "name": "stdout",
          "text": [
            "model: 19 \n",
            "correct: 5718/7315: 78.168%  -  false-i: 53  -  false-m: 1401  -  false-v: 143\n",
            "model: 26 \n",
            "correct: 5932/7315: 81.094%  -  false-i: 83  -  false-m: 1197  -  false-v: 103\n",
            "model: 33 \n",
            "correct: 6523/7315: 89.173%  -  false-i: 357  -  false-m: 287  -  false-v: 148\n",
            "model: 59 \n",
            "correct: 5392/7315: 73.712%  -  false-i: 147  -  false-m: 1756  -  false-v: 20\n",
            "model: 67 \n",
            "correct: 6491/7315: 88.735%  -  false-i: 182  -  false-m: 485  -  false-v: 157\n",
            "model: 79 \n",
            "correct: 6134/7315: 83.855%  -  false-i: 115  -  false-m: 1036  -  false-v: 30\n",
            "model: 92 \n",
            "correct: 4806/7315: 65.701%  -  false-i: 80  -  false-m: 2401  -  false-v: 28\n",
            "model: 95 \n",
            "correct: 4834/7315: 66.083%  -  false-i: 40  -  false-m: 2294  -  false-v: 147\n",
            "model: 96 \n",
            "correct: 6384/7315: 87.273%  -  false-i: 197  -  false-m: 628  -  false-v: 106\n",
            "model: 101 \n",
            "correct: 6619/7315: 90.485%  -  false-i: 233  -  false-m: 269  -  false-v: 194\n",
            "model: 109 \n",
            "correct: 6412/7315: 87.656%  -  false-i: 71  -  false-m: 713  -  false-v: 119\n",
            "model: 122 \n",
            "correct: 5997/7315: 81.982%  -  false-i: 111  -  false-m: 1162  -  false-v: 45\n",
            "model: 123 \n",
            "correct: 5352/7315: 73.165%  -  false-i: 196  -  false-m: 1738  -  false-v: 29\n",
            "model: 169 \n",
            "correct: 6283/7315: 85.892%  -  false-i: 152  -  false-m: 822  -  false-v: 58\n",
            "time: 1.45 ms (started: 2022-12-12 17:27:35 +00:00)\n"
          ]
        }
      ]
    },
    {
      "cell_type": "code",
      "source": [
        "best = [101, 6619]\n",
        "define_confusion(metas[best[0]][2], metas[best[0]][1])\n",
        "print('\\n')\n",
        "define_plot('accuracy', metas[best[0]][3])\n",
        "print('\\n')\n",
        "define_plot('loss', metas[best[0]][3])\n",
        "print('\\n\\n')"
      ],
      "metadata": {
        "colab": {
          "base_uri": "https://localhost:8080/",
          "height": 1000
        },
        "id": "zArSwVYxdsEu",
        "outputId": "1a2fc99a-8ab3-4f62-c962-5d5a9a2f563e"
      },
      "execution_count": null,
      "outputs": [
        {
          "output_type": "display_data",
          "data": {
            "text/plain": [
              "<Figure size 936x720 with 2 Axes>"
            ],
            "image/png": "[encoded data removed]"
          },
          "metadata": {
            "needs_background": "light"
          }
        },
        {
          "output_type": "stream",
          "name": "stdout",
          "text": [
            "\n",
            "\n"
          ]
        },
        {
          "output_type": "display_data",
          "data": {
            "text/plain": [
              "<Figure size 1080x504 with 1 Axes>"
            ],
            "image/png": "[encoded data removed]"
          },
          "metadata": {
            "needs_background": "light"
          }
        },
        {
          "output_type": "stream",
          "name": "stdout",
          "text": [
            "\n",
            "\n"
          ]
        },
        {
          "output_type": "display_data",
          "data": {
            "text/plain": [
              "<Figure size 1080x504 with 1 Axes>"
            ],
            "image/png": "[encoded data removed]"
          },
          "metadata": {
            "needs_background": "light"
          }
        },
        {
          "output_type": "stream",
          "name": "stdout",
          "text": [
            "\n",
            "\n",
            "\n",
            "time: 706 ms (started: 2022-12-12 17:29:39 +00:00)\n"
          ]
        }
      ]
    },
    {
      "cell_type": "code",
      "source": [
        "record.to_excel('acc_loss_records.xlsx', index=False, encoding='utf-8')"
      ],
      "metadata": {
        "colab": {
          "base_uri": "https://localhost:8080/"
        },
        "id": "y9BfAXOlSCM9",
        "outputId": "123af7a8-386a-46e4-e026-a65a78bfd5f7"
      },
      "execution_count": null,
      "outputs": [
        {
          "output_type": "stream",
          "name": "stdout",
          "text": [
            "time: 242 ms (started: 2022-12-12 17:29:40 +00:00)\n"
          ]
        }
      ]
    },
    {
      "cell_type": "code",
      "source": [
        "def cr_to_excel(report, index, score):\n",
        "    report_data = []\n",
        "    lines = report.split('\\n')\n",
        "    for line in (lines[2:5]+lines[7:9]):\n",
        "        row = {}\n",
        "        row_data = line.split()\n",
        "        row['class'] = ' '.join(row_data[0:-4])\n",
        "        row['precision'] = row_data[-4]\n",
        "        row['recall'] = row_data[-3]\n",
        "        row['f1_score'] = row_data[-2]\n",
        "        row['support'] = row_data[-1]\n",
        "        row['accuracy'] = round(record.iloc[math.ceil((index+0.5)/5) - 1][f'acc{(index%5) + 1}'], 2)\n",
        "        row['loss'] = round(record.iloc[math.ceil((index+0.5)/5) - 1][f'loss{(index%5) + 1}'], 4)\n",
        "        row['activation'] = record.iloc[math.ceil((index+0.5)/5) - 1]['Activation']\n",
        "        row['optimizer'] = record.iloc[math.ceil((index+0.5)/5) - 1]['Optimizer']\n",
        "        row['kernel'] = record.iloc[math.ceil((index+0.5)/5) - 1]['Filters']\n",
        "        row['test_score'] = round(((score-3354)/(7315-3354)*100), 2)\n",
        "        report_data.append(row)\n",
        "    dataframe = pd.DataFrame.from_dict(report_data)\n",
        "    dataframe.to_excel(f'classification_report-{index}.xlsx', index = False)\n",
        "\n",
        "cr_to_excel(reports[best[0]], best[0], best[1])"
      ],
      "metadata": {
        "colab": {
          "base_uri": "https://localhost:8080/"
        },
        "id": "jz0MV6wZiUq8",
        "outputId": "53da9f52-ea5b-46bf-fcf0-a4856a32da25"
      },
      "execution_count": null,
      "outputs": [
        {
          "output_type": "stream",
          "name": "stdout",
          "text": [
            "time: 16.6 ms (started: 2022-12-12 17:29:40 +00:00)\n"
          ]
        }
      ]
    },
    {
      "cell_type": "code",
      "source": [
        "def clouds_to_json(index):\n",
        "  with open(f'word_dict-{index}.json' , 'w') as file:    \n",
        "    json.dump(clouds[index], file)\n",
        "\n",
        "clouds_to_json(best[0])"
      ],
      "metadata": {
        "colab": {
          "base_uri": "https://localhost:8080/"
        },
        "id": "hrR13HO1SyAH",
        "outputId": "023101a2-2014-45a3-ab37-fb5773e9ca89"
      },
      "execution_count": null,
      "outputs": [
        {
          "output_type": "stream",
          "name": "stdout",
          "text": [
            "time: 16.9 ms (started: 2022-12-12 17:29:40 +00:00)\n"
          ]
        }
      ]
    },
    {
      "cell_type": "code",
      "source": [
        "def res_to_json(index):\n",
        "  with open(f'residu-{index}.json' , 'w') as file:    \n",
        "    json.dump({'valid': valid_selected[index], 'false': false_selected[index], 'imposter': imposter_selected[index]}, file)\n",
        "\n",
        "res_to_json(best[0])"
      ],
      "metadata": {
        "colab": {
          "base_uri": "https://localhost:8080/"
        },
        "id": "N5U-pd_aUv_u",
        "outputId": "3000e330-fb23-4c5a-d431-4ec0e843df96"
      },
      "execution_count": null,
      "outputs": [
        {
          "output_type": "stream",
          "name": "stdout",
          "text": [
            "time: 21 ms (started: 2022-12-12 17:29:40 +00:00)\n"
          ]
        }
      ]
    },
    {
      "cell_type": "code",
      "source": [
        "models[best[0]].save(f\"model-{best[0]}.h5\")"
      ],
      "metadata": {
        "colab": {
          "base_uri": "https://localhost:8080/"
        },
        "id": "AE-7_qKDTfZI",
        "outputId": "d2097e2f-30c8-4dac-dcba-23a5f9a1aa4b"
      },
      "execution_count": null,
      "outputs": [
        {
          "output_type": "stream",
          "name": "stdout",
          "text": [
            "time: 157 ms (started: 2022-12-12 17:29:40 +00:00)\n"
          ]
        }
      ]
    },
    {
      "cell_type": "code",
      "source": [
        "files.download('acc_loss_records.xlsx')\n",
        "\n",
        "files.download(f'classification_report-{best[0]}.xlsx')\n",
        "files.download(f'word_dict-{best[0]}.json')\n",
        "files.download(f'residu-{best[0]}.json')\n",
        "files.download(f'model-{best[0]}.h5')"
      ],
      "metadata": {
        "id": "mnxFtY4lWGFC",
        "colab": {
          "base_uri": "https://localhost:8080/",
          "height": 53
        },
        "outputId": "c05ac9e8-8896-4ffb-cf91-45fbe6e0d1c2"
      },
      "execution_count": null,
      "outputs": [
        {
          "output_type": "display_data",
          "data": {
            "text/plain": [
              "<IPython.core.display.Javascript object>"
            ],
            "application/javascript": [
              "\n",
              "    async function download(id, filename, size) {\n",
              "      if (!google.colab.kernel.accessAllowed) {\n",
              "        return;\n",
              "      }\n",
              "      const div = document.createElement('div');\n",
              "      const label = document.createElement('label');\n",
              "      label.textContent = `Downloading \"${filename}\": `;\n",
              "      div.appendChild(label);\n",
              "      const progress = document.createElement('progress');\n",
              "      progress.max = size;\n",
              "      div.appendChild(progress);\n",
              "      document.body.appendChild(div);\n",
              "\n",
              "      const buffers = [];\n",
              "      let downloaded = 0;\n",
              "\n",
              "      const channel = await google.colab.kernel.comms.open(id);\n",
              "      // Send a message to notify the kernel that we're ready.\n",
              "      channel.send({})\n",
              "\n",
              "      for await (const message of channel.messages) {\n",
              "        // Send a message to notify the kernel that we're ready.\n",
              "        channel.send({})\n",
              "        if (message.buffers) {\n",
              "          for (const buffer of message.buffers) {\n",
              "            buffers.push(buffer);\n",
              "            downloaded += buffer.byteLength;\n",
              "            progress.value = downloaded;\n",
              "          }\n",
              "        }\n",
              "      }\n",
              "      const blob = new Blob(buffers, {type: 'application/binary'});\n",
              "      const a = document.createElement('a');\n",
              "      a.href = window.URL.createObjectURL(blob);\n",
              "      a.download = filename;\n",
              "      div.appendChild(a);\n",
              "      a.click();\n",
              "      div.remove();\n",
              "    }\n",
              "  "
            ]
          },
          "metadata": {}
        },
        {
          "output_type": "display_data",
          "data": {
            "text/plain": [
              "<IPython.core.display.Javascript object>"
            ],
            "application/javascript": [
              "download(\"download_941f49b8-4c80-41a3-8ac6-40dc460ec4f5\", \"acc_loss_records.xlsx\", 10276)"
            ]
          },
          "metadata": {}
        },
        {
          "output_type": "display_data",
          "data": {
            "text/plain": [
              "<IPython.core.display.Javascript object>"
            ],
            "application/javascript": [
              "\n",
              "    async function download(id, filename, size) {\n",
              "      if (!google.colab.kernel.accessAllowed) {\n",
              "        return;\n",
              "      }\n",
              "      const div = document.createElement('div');\n",
              "      const label = document.createElement('label');\n",
              "      label.textContent = `Downloading \"${filename}\": `;\n",
              "      div.appendChild(label);\n",
              "      const progress = document.createElement('progress');\n",
              "      progress.max = size;\n",
              "      div.appendChild(progress);\n",
              "      document.body.appendChild(div);\n",
              "\n",
              "      const buffers = [];\n",
              "      let downloaded = 0;\n",
              "\n",
              "      const channel = await google.colab.kernel.comms.open(id);\n",
              "      // Send a message to notify the kernel that we're ready.\n",
              "      channel.send({})\n",
              "\n",
              "      for await (const message of channel.messages) {\n",
              "        // Send a message to notify the kernel that we're ready.\n",
              "        channel.send({})\n",
              "        if (message.buffers) {\n",
              "          for (const buffer of message.buffers) {\n",
              "            buffers.push(buffer);\n",
              "            downloaded += buffer.byteLength;\n",
              "            progress.value = downloaded;\n",
              "          }\n",
              "        }\n",
              "      }\n",
              "      const blob = new Blob(buffers, {type: 'application/binary'});\n",
              "      const a = document.createElement('a');\n",
              "      a.href = window.URL.createObjectURL(blob);\n",
              "      a.download = filename;\n",
              "      div.appendChild(a);\n",
              "      a.click();\n",
              "      div.remove();\n",
              "    }\n",
              "  "
            ]
          },
          "metadata": {}
        },
        {
          "output_type": "display_data",
          "data": {
            "text/plain": [
              "<IPython.core.display.Javascript object>"
            ],
            "application/javascript": [
              "download(\"download_ee08a7f3-c624-4b3a-9072-121eaf43a397\", \"classification_report-101.xlsx\", 5354)"
            ]
          },
          "metadata": {}
        },
        {
          "output_type": "display_data",
          "data": {
            "text/plain": [
              "<IPython.core.display.Javascript object>"
            ],
            "application/javascript": [
              "\n",
              "    async function download(id, filename, size) {\n",
              "      if (!google.colab.kernel.accessAllowed) {\n",
              "        return;\n",
              "      }\n",
              "      const div = document.createElement('div');\n",
              "      const label = document.createElement('label');\n",
              "      label.textContent = `Downloading \"${filename}\": `;\n",
              "      div.appendChild(label);\n",
              "      const progress = document.createElement('progress');\n",
              "      progress.max = size;\n",
              "      div.appendChild(progress);\n",
              "      document.body.appendChild(div);\n",
              "\n",
              "      const buffers = [];\n",
              "      let downloaded = 0;\n",
              "\n",
              "      const channel = await google.colab.kernel.comms.open(id);\n",
              "      // Send a message to notify the kernel that we're ready.\n",
              "      channel.send({})\n",
              "\n",
              "      for await (const message of channel.messages) {\n",
              "        // Send a message to notify the kernel that we're ready.\n",
              "        channel.send({})\n",
              "        if (message.buffers) {\n",
              "          for (const buffer of message.buffers) {\n",
              "            buffers.push(buffer);\n",
              "            downloaded += buffer.byteLength;\n",
              "            progress.value = downloaded;\n",
              "          }\n",
              "        }\n",
              "      }\n",
              "      const blob = new Blob(buffers, {type: 'application/binary'});\n",
              "      const a = document.createElement('a');\n",
              "      a.href = window.URL.createObjectURL(blob);\n",
              "      a.download = filename;\n",
              "      div.appendChild(a);\n",
              "      a.click();\n",
              "      div.remove();\n",
              "    }\n",
              "  "
            ]
          },
          "metadata": {}
        },
        {
          "output_type": "display_data",
          "data": {
            "text/plain": [
              "<IPython.core.display.Javascript object>"
            ],
            "application/javascript": [
              "download(\"download_7a294053-9906-4df5-8bf4-e8fc7ef729f4\", \"word_dict-101.json\", 208430)"
            ]
          },
          "metadata": {}
        },
        {
          "output_type": "display_data",
          "data": {
            "text/plain": [
              "<IPython.core.display.Javascript object>"
            ],
            "application/javascript": [
              "\n",
              "    async function download(id, filename, size) {\n",
              "      if (!google.colab.kernel.accessAllowed) {\n",
              "        return;\n",
              "      }\n",
              "      const div = document.createElement('div');\n",
              "      const label = document.createElement('label');\n",
              "      label.textContent = `Downloading \"${filename}\": `;\n",
              "      div.appendChild(label);\n",
              "      const progress = document.createElement('progress');\n",
              "      progress.max = size;\n",
              "      div.appendChild(progress);\n",
              "      document.body.appendChild(div);\n",
              "\n",
              "      const buffers = [];\n",
              "      let downloaded = 0;\n",
              "\n",
              "      const channel = await google.colab.kernel.comms.open(id);\n",
              "      // Send a message to notify the kernel that we're ready.\n",
              "      channel.send({})\n",
              "\n",
              "      for await (const message of channel.messages) {\n",
              "        // Send a message to notify the kernel that we're ready.\n",
              "        channel.send({})\n",
              "        if (message.buffers) {\n",
              "          for (const buffer of message.buffers) {\n",
              "            buffers.push(buffer);\n",
              "            downloaded += buffer.byteLength;\n",
              "            progress.value = downloaded;\n",
              "          }\n",
              "        }\n",
              "      }\n",
              "      const blob = new Blob(buffers, {type: 'application/binary'});\n",
              "      const a = document.createElement('a');\n",
              "      a.href = window.URL.createObjectURL(blob);\n",
              "      a.download = filename;\n",
              "      div.appendChild(a);\n",
              "      a.click();\n",
              "      div.remove();\n",
              "    }\n",
              "  "
            ]
          },
          "metadata": {}
        },
        {
          "output_type": "display_data",
          "data": {
            "text/plain": [
              "<IPython.core.display.Javascript object>"
            ],
            "application/javascript": [
              "download(\"download_8f3fcabd-0134-4ac1-b189-49b25ea296b7\", \"residu-101.json\", 246978)"
            ]
          },
          "metadata": {}
        },
        {
          "output_type": "display_data",
          "data": {
            "text/plain": [
              "<IPython.core.display.Javascript object>"
            ],
            "application/javascript": [
              "\n",
              "    async function download(id, filename, size) {\n",
              "      if (!google.colab.kernel.accessAllowed) {\n",
              "        return;\n",
              "      }\n",
              "      const div = document.createElement('div');\n",
              "      const label = document.createElement('label');\n",
              "      label.textContent = `Downloading \"${filename}\": `;\n",
              "      div.appendChild(label);\n",
              "      const progress = document.createElement('progress');\n",
              "      progress.max = size;\n",
              "      div.appendChild(progress);\n",
              "      document.body.appendChild(div);\n",
              "\n",
              "      const buffers = [];\n",
              "      let downloaded = 0;\n",
              "\n",
              "      const channel = await google.colab.kernel.comms.open(id);\n",
              "      // Send a message to notify the kernel that we're ready.\n",
              "      channel.send({})\n",
              "\n",
              "      for await (const message of channel.messages) {\n",
              "        // Send a message to notify the kernel that we're ready.\n",
              "        channel.send({})\n",
              "        if (message.buffers) {\n",
              "          for (const buffer of message.buffers) {\n",
              "            buffers.push(buffer);\n",
              "            downloaded += buffer.byteLength;\n",
              "            progress.value = downloaded;\n",
              "          }\n",
              "        }\n",
              "      }\n",
              "      const blob = new Blob(buffers, {type: 'application/binary'});\n",
              "      const a = document.createElement('a');\n",
              "      a.href = window.URL.createObjectURL(blob);\n",
              "      a.download = filename;\n",
              "      div.appendChild(a);\n",
              "      a.click();\n",
              "      div.remove();\n",
              "    }\n",
              "  "
            ]
          },
          "metadata": {}
        },
        {
          "output_type": "display_data",
          "data": {
            "text/plain": [
              "<IPython.core.display.Javascript object>"
            ],
            "application/javascript": [
              "download(\"download_24a91cc2-a40e-4575-aca0-0d01e4a284bb\", \"model-101.h5\", 50324504)"
            ]
          },
          "metadata": {}
        },
        {
          "output_type": "stream",
          "name": "stdout",
          "text": [
            "time: 20.9 ms (started: 2022-12-12 17:29:41 +00:00)\n"
          ]
        }
      ]
    }
  ]
}