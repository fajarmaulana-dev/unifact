{
  "nbformat": 4,
  "nbformat_minor": 0,
  "metadata": {
    "colab": {
      "provenance": [],
      "authorship_tag": "ABX9TyMvWScezK47ULn7QzqfjFw7",
      "include_colab_link": true
    },
    "kernelspec": {
      "name": "python3",
      "display_name": "Python 3"
    },
    "language_info": {
      "name": "python"
    },
    "accelerator": "GPU",
    "gpuClass": "standard"
  },
  "cells": [
    {
      "cell_type": "markdown",
      "metadata": {
        "id": "view-in-github",
        "colab_type": "text"
      },
      "source": [
        "<a href=\"https://colab.research.google.com/github/felkira/unifact.github.io/blob/modeling/dynamic_max_nadam.ipynb\" target=\"_parent\"><img src=\"https://colab.research.google.com/assets/colab-badge.svg\" alt=\"Open In Colab\"/></a>"
      ]
    },
    {
      "cell_type": "code",
      "execution_count": null,
      "metadata": {
        "id": "Mq48DsyGZUVM"
      },
      "outputs": [],
      "source": [
        "# Record Each Cell's Execution Time\n",
        "!pip install keras-tcn\n",
        "!pip install ipython-autotime\n",
        "%load_ext autotime"
      ]
    },
    {
      "cell_type": "code",
      "execution_count": null,
      "metadata": {
        "colab": {
          "base_uri": "https://localhost:8080/"
        },
        "id": "dPtsepq3ZJXM",
        "outputId": "f9bde9a4-3940-4a1f-efbe-67e22a5239dd"
      },
      "outputs": [
        {
          "output_type": "stream",
          "name": "stdout",
          "text": [
            "time: 3.53 s (started: 2022-12-12 19:38:49 +00:00)\n"
          ]
        }
      ],
      "source": [
        "import numpy as np\n",
        "import pandas as pd \n",
        "import matplotlib.pyplot as plt\n",
        "import seaborn as sns\n",
        "import json, re, string, gdown, math, time\n",
        "from tcn import TCN\n",
        "from keras.layers import Input, Embedding, Dense, Dropout, SpatialDropout1D, concatenate, GlobalAveragePooling1D, GlobalMaxPooling1D, Bidirectional\n",
        "from keras.models import Model\n",
        "from tensorflow.keras.preprocessing import text, sequence\n",
        "from keras.utils import to_categorical\n",
        "from tensorflow.keras.callbacks import EarlyStopping\n",
        "from tensorflow.math import confusion_matrix as cm\n",
        "from sklearn.model_selection import train_test_split\n",
        "from sklearn.preprocessing import LabelEncoder\n",
        "from sklearn.model_selection import KFold\n",
        "from sklearn.metrics import classification_report as cr, precision_recall_fscore_support as prfs\n",
        "from collections import Counter\n",
        "from random import randint\n",
        "from google.colab import files"
      ]
    },
    {
      "cell_type": "code",
      "source": [
        "!wget https://dl.fbaipublicfiles.com/fasttext/vectors-crawl/cc.id.300.vec.gz"
      ],
      "metadata": {
        "colab": {
          "base_uri": "https://localhost:8080/"
        },
        "outputId": "41b483ae-9196-4248-f5f7-225dee50d260",
        "id": "n1XzpvrKFzIv"
      },
      "execution_count": null,
      "outputs": [
        {
          "output_type": "stream",
          "name": "stdout",
          "text": [
            "--2022-12-12 19:38:52--  https://dl.fbaipublicfiles.com/fasttext/vectors-crawl/cc.id.300.vec.gz\n",
            "Resolving dl.fbaipublicfiles.com (dl.fbaipublicfiles.com)... 104.22.74.142, 172.67.9.4, 104.22.75.142, ...\n",
            "Connecting to dl.fbaipublicfiles.com (dl.fbaipublicfiles.com)|104.22.74.142|:443... connected.\n",
            "HTTP request sent, awaiting response... 200 OK\n",
            "Length: 1227018698 (1.1G) [binary/octet-stream]\n",
            "Saving to: ‘cc.id.300.vec.gz’\n",
            "\n",
            "cc.id.300.vec.gz    100%[===================>]   1.14G  16.4MB/s    in 76s     \n",
            "\n",
            "2022-12-12 19:40:09 (15.4 MB/s) - ‘cc.id.300.vec.gz’ saved [1227018698/1227018698]\n",
            "\n",
            "time: 1min 17s (started: 2022-12-12 19:38:52 +00:00)\n"
          ]
        }
      ]
    },
    {
      "cell_type": "code",
      "source": [
        "!gunzip cc.id.300.vec.gz"
      ],
      "metadata": {
        "id": "9HCNEgmgFzIx",
        "colab": {
          "base_uri": "https://localhost:8080/"
        },
        "outputId": "f4b09e03-4143-46e2-fa84-d18c4e68a402"
      },
      "execution_count": null,
      "outputs": [
        {
          "output_type": "stream",
          "name": "stdout",
          "text": [
            "time: 29.5 s (started: 2022-12-12 19:40:10 +00:00)\n"
          ]
        }
      ]
    },
    {
      "cell_type": "code",
      "source": [
        "f = open('/content/cc.id.300.vec', encoding='utf-8')\n",
        "\n",
        "embedding_vectors = {}\n",
        "for row in f:\n",
        "    values = row.split(' ')\n",
        "    word = values[0]\n",
        "    weights = np.asarray([float(val) for val in values[1:]])\n",
        "    embedding_vectors[word] = weights\n",
        "\n",
        "print(f\"Size of vocabulary in FastText: {len(embedding_vectors)}\")"
      ],
      "metadata": {
        "id": "onr9vrk5rutu",
        "colab": {
          "base_uri": "https://localhost:8080/"
        },
        "outputId": "97d00618-11c0-4f9c-d130-3e32b4e7fd15"
      },
      "execution_count": null,
      "outputs": [
        {
          "output_type": "stream",
          "name": "stdout",
          "text": [
            "Size of vocabulary in FastText: 2000000\n",
            "time: 2min 22s (started: 2022-12-12 19:40:39 +00:00)\n"
          ]
        }
      ]
    },
    {
      "cell_type": "code",
      "execution_count": null,
      "metadata": {
        "id": "I4ZEAL8CELcv",
        "colab": {
          "base_uri": "https://localhost:8080/",
          "height": 128
        },
        "outputId": "cce4f3d9-7ba0-48e8-9553-e4ffe1caea75"
      },
      "outputs": [
        {
          "output_type": "stream",
          "name": "stderr",
          "text": [
            "Downloading...\n",
            "From: https://drive.google.com/u/0/uc?id=1p6hrwRZfgEOrHSQGPdMyZvdi3rQLHS2p&export=download\n",
            "To: /content/valid-7hoaks.csv\n",
            "100%|██████████| 2.07M/2.07M [00:00<00:00, 223MB/s]\n"
          ]
        },
        {
          "output_type": "execute_result",
          "data": {
            "text/plain": [
              "'valid-7hoaks.csv'"
            ],
            "application/vnd.google.colaboratory.intrinsic+json": {
              "type": "string"
            }
          },
          "metadata": {},
          "execution_count": 6
        },
        {
          "output_type": "stream",
          "name": "stdout",
          "text": [
            "time: 2.34 s (started: 2022-12-12 19:43:02 +00:00)\n"
          ]
        }
      ],
      "source": [
        "url = 'https://drive.google.com/u/0/uc?id=1p6hrwRZfgEOrHSQGPdMyZvdi3rQLHS2p&export=download'\n",
        "gdown.download(url, 'valid-7hoaks.csv', quiet=False)"
      ]
    },
    {
      "cell_type": "code",
      "execution_count": null,
      "metadata": {
        "id": "iCipNeVuZ8qb",
        "colab": {
          "base_uri": "https://localhost:8080/",
          "height": 476
        },
        "outputId": "68eb8624-8d82-4f99-bfe7-731605a05b77"
      },
      "outputs": [
        {
          "output_type": "execute_result",
          "data": {
            "text/plain": [
              "                  kategori  \\\n",
              "0  Konten Yang Menyesatkan   \n",
              "1        Konten Yang Salah   \n",
              "2  Konten Yang Menyesatkan   \n",
              "3  Konten Yang Menyesatkan   \n",
              "4  Konten Yang Menyesatkan   \n",
              "\n",
              "                                                                         judul  \\\n",
              "0  buaya meter terbesar di dunia ditemukan di danau kota maine amerika serikat   \n",
              "1       demo memprotes kecurangan hasil pemilihan umum di brazil pada november   \n",
              "2                                          warga bogor meninggal hidup kembali   \n",
              "3                                dari fauci akui vaksin tidak melindungi covid   \n",
              "4                             set top box dapat mendeteksi orang yang divaksin   \n",
              "\n",
              "      tanggal  \\\n",
              "0  26/11/2022   \n",
              "1  25/11/2022   \n",
              "2  25/11/2022   \n",
              "3  25/11/2022   \n",
              "4  25/11/2022   \n",
              "\n",
              "                                                                                                                                          narasi  \n",
              "0                                                                          buaya meter terbesar dunia ditemukan danau kota maine amerika serikat  \n",
              "1                                                                                 demo memprotes kecurangan hasil pemilihan umum brazil november  \n",
              "2                                                                                                                    warga bogor meninggal hidup  \n",
              "3                                                                                                             fauci akui vaksin melindungi covid  \n",
              "4  vaksin gratis set box punah gratis ternyata ternyata dalamnya rangkaian bluetooth low energy device membaca data orang orang yg divaksin aduh  "
            ],
            "text/html": [
              "\n",
              "  <div id=\"df-3fee8d29-8d7c-4635-8bce-178679d5dbc0\">\n",
              "    <div class=\"colab-df-container\">\n",
              "      <div>\n",
              "<style scoped>\n",
              "    .dataframe tbody tr th:only-of-type {\n",
              "        vertical-align: middle;\n",
              "    }\n",
              "\n",
              "    .dataframe tbody tr th {\n",
              "        vertical-align: top;\n",
              "    }\n",
              "\n",
              "    .dataframe thead th {\n",
              "        text-align: right;\n",
              "    }\n",
              "</style>\n",
              "<table border=\"1\" class=\"dataframe\">\n",
              "  <thead>\n",
              "    <tr style=\"text-align: right;\">\n",
              "      <th></th>\n",
              "      <th>kategori</th>\n",
              "      <th>judul</th>\n",
              "      <th>tanggal</th>\n",
              "      <th>narasi</th>\n",
              "    </tr>\n",
              "  </thead>\n",
              "  <tbody>\n",
              "    <tr>\n",
              "      <th>0</th>\n",
              "      <td>Konten Yang Menyesatkan</td>\n",
              "      <td>buaya meter terbesar di dunia ditemukan di danau kota maine amerika serikat</td>\n",
              "      <td>26/11/2022</td>\n",
              "      <td>buaya meter terbesar dunia ditemukan danau kota maine amerika serikat</td>\n",
              "    </tr>\n",
              "    <tr>\n",
              "      <th>1</th>\n",
              "      <td>Konten Yang Salah</td>\n",
              "      <td>demo memprotes kecurangan hasil pemilihan umum di brazil pada november</td>\n",
              "      <td>25/11/2022</td>\n",
              "      <td>demo memprotes kecurangan hasil pemilihan umum brazil november</td>\n",
              "    </tr>\n",
              "    <tr>\n",
              "      <th>2</th>\n",
              "      <td>Konten Yang Menyesatkan</td>\n",
              "      <td>warga bogor meninggal hidup kembali</td>\n",
              "      <td>25/11/2022</td>\n",
              "      <td>warga bogor meninggal hidup</td>\n",
              "    </tr>\n",
              "    <tr>\n",
              "      <th>3</th>\n",
              "      <td>Konten Yang Menyesatkan</td>\n",
              "      <td>dari fauci akui vaksin tidak melindungi covid</td>\n",
              "      <td>25/11/2022</td>\n",
              "      <td>fauci akui vaksin melindungi covid</td>\n",
              "    </tr>\n",
              "    <tr>\n",
              "      <th>4</th>\n",
              "      <td>Konten Yang Menyesatkan</td>\n",
              "      <td>set top box dapat mendeteksi orang yang divaksin</td>\n",
              "      <td>25/11/2022</td>\n",
              "      <td>vaksin gratis set box punah gratis ternyata ternyata dalamnya rangkaian bluetooth low energy device membaca data orang orang yg divaksin aduh</td>\n",
              "    </tr>\n",
              "  </tbody>\n",
              "</table>\n",
              "</div>\n",
              "      <button class=\"colab-df-convert\" onclick=\"convertToInteractive('df-3fee8d29-8d7c-4635-8bce-178679d5dbc0')\"\n",
              "              title=\"Convert this dataframe to an interactive table.\"\n",
              "              style=\"display:none;\">\n",
              "        \n",
              "  <svg xmlns=\"http://www.w3.org/2000/svg\" height=\"24px\"viewBox=\"0 0 24 24\"\n",
              "       width=\"24px\">\n",
              "    <path d=\"M0 0h24v24H0V0z\" fill=\"none\"/>\n",
              "    <path d=\"M18.56 5.44l.94 2.06.94-2.06 2.06-.94-2.06-.94-.94-2.06-.94 2.06-2.06.94zm-11 1L8.5 8.5l.94-2.06 2.06-.94-2.06-.94L8.5 2.5l-.94 2.06-2.06.94zm10 10l.94 2.06.94-2.06 2.06-.94-2.06-.94-.94-2.06-.94 2.06-2.06.94z\"/><path d=\"M17.41 7.96l-1.37-1.37c-.4-.4-.92-.59-1.43-.59-.52 0-1.04.2-1.43.59L10.3 9.45l-7.72 7.72c-.78.78-.78 2.05 0 2.83L4 21.41c.39.39.9.59 1.41.59.51 0 1.02-.2 1.41-.59l7.78-7.78 2.81-2.81c.8-.78.8-2.07 0-2.86zM5.41 20L4 18.59l7.72-7.72 1.47 1.35L5.41 20z\"/>\n",
              "  </svg>\n",
              "      </button>\n",
              "      \n",
              "  <style>\n",
              "    .colab-df-container {\n",
              "      display:flex;\n",
              "      flex-wrap:wrap;\n",
              "      gap: 12px;\n",
              "    }\n",
              "\n",
              "    .colab-df-convert {\n",
              "      background-color: #E8F0FE;\n",
              "      border: none;\n",
              "      border-radius: 50%;\n",
              "      cursor: pointer;\n",
              "      display: none;\n",
              "      fill: #1967D2;\n",
              "      height: 32px;\n",
              "      padding: 0 0 0 0;\n",
              "      width: 32px;\n",
              "    }\n",
              "\n",
              "    .colab-df-convert:hover {\n",
              "      background-color: #E2EBFA;\n",
              "      box-shadow: 0px 1px 2px rgba(60, 64, 67, 0.3), 0px 1px 3px 1px rgba(60, 64, 67, 0.15);\n",
              "      fill: #174EA6;\n",
              "    }\n",
              "\n",
              "    [theme=dark] .colab-df-convert {\n",
              "      background-color: #3B4455;\n",
              "      fill: #D2E3FC;\n",
              "    }\n",
              "\n",
              "    [theme=dark] .colab-df-convert:hover {\n",
              "      background-color: #434B5C;\n",
              "      box-shadow: 0px 1px 3px 1px rgba(0, 0, 0, 0.15);\n",
              "      filter: drop-shadow(0px 1px 2px rgba(0, 0, 0, 0.3));\n",
              "      fill: #FFFFFF;\n",
              "    }\n",
              "  </style>\n",
              "\n",
              "      <script>\n",
              "        const buttonEl =\n",
              "          document.querySelector('#df-3fee8d29-8d7c-4635-8bce-178679d5dbc0 button.colab-df-convert');\n",
              "        buttonEl.style.display =\n",
              "          google.colab.kernel.accessAllowed ? 'block' : 'none';\n",
              "\n",
              "        async function convertToInteractive(key) {\n",
              "          const element = document.querySelector('#df-3fee8d29-8d7c-4635-8bce-178679d5dbc0');\n",
              "          const dataTable =\n",
              "            await google.colab.kernel.invokeFunction('convertToInteractive',\n",
              "                                                     [key], {});\n",
              "          if (!dataTable) return;\n",
              "\n",
              "          const docLinkHtml = 'Like what you see? Visit the ' +\n",
              "            '<a target=\"_blank\" href=https://colab.research.google.com/notebooks/data_table.ipynb>data table notebook</a>'\n",
              "            + ' to learn more about interactive tables.';\n",
              "          element.innerHTML = '';\n",
              "          dataTable['output_type'] = 'display_data';\n",
              "          await google.colab.output.renderOutput(dataTable, element);\n",
              "          const docLink = document.createElement('div');\n",
              "          docLink.innerHTML = docLinkHtml;\n",
              "          element.appendChild(docLink);\n",
              "        }\n",
              "      </script>\n",
              "    </div>\n",
              "  </div>\n",
              "  "
            ]
          },
          "metadata": {},
          "execution_count": 7
        },
        {
          "output_type": "stream",
          "name": "stdout",
          "text": [
            "time: 42.8 ms (started: 2022-12-12 19:43:04 +00:00)\n"
          ]
        }
      ],
      "source": [
        "main_data = pd.read_csv('/content/valid-7hoaks.csv')\n",
        "pd.set_option('max_colwidth', 400)\n",
        "main_data.head()"
      ]
    },
    {
      "cell_type": "code",
      "execution_count": null,
      "metadata": {
        "id": "sSOTr3p4aIfB",
        "colab": {
          "base_uri": "https://localhost:8080/"
        },
        "outputId": "74de242e-0dce-4008-e806-e081a6651663"
      },
      "outputs": [
        {
          "output_type": "stream",
          "name": "stdout",
          "text": [
            "Shape of data (rows, cols)=> (7530, 4)\n",
            "time: 468 µs (started: 2022-12-12 19:43:04 +00:00)\n"
          ]
        }
      ],
      "source": [
        "print(\"Shape of data (rows, cols)=>\", main_data.shape)"
      ]
    },
    {
      "cell_type": "code",
      "execution_count": null,
      "metadata": {
        "id": "_5XQg4wUkTqv",
        "colab": {
          "base_uri": "https://localhost:8080/"
        },
        "outputId": "eb2b8776-21f0-4c15-8097-5dbf1978a282"
      },
      "outputs": [
        {
          "output_type": "execute_result",
          "data": {
            "text/plain": [
              "kategori    0\n",
              "judul       0\n",
              "tanggal     0\n",
              "narasi      0\n",
              "dtype: int64"
            ]
          },
          "metadata": {},
          "execution_count": 9
        },
        {
          "output_type": "stream",
          "name": "stdout",
          "text": [
            "time: 5.41 ms (started: 2022-12-12 19:43:04 +00:00)\n"
          ]
        }
      ],
      "source": [
        "main_data.isnull().sum()"
      ]
    },
    {
      "cell_type": "code",
      "execution_count": null,
      "metadata": {
        "id": "LaY1lfhOauVe",
        "colab": {
          "base_uri": "https://localhost:8080/",
          "height": 254
        },
        "outputId": "d1b8e5b7-b944-49e5-c2a8-f9ea19f62f93"
      },
      "outputs": [
        {
          "output_type": "execute_result",
          "data": {
            "text/plain": [
              "       kategori  \\\n",
              "count      7530   \n",
              "unique        8   \n",
              "top       Valid   \n",
              "freq       2350   \n",
              "\n",
              "                                                                              judul  \\\n",
              "count                                                                          7530   \n",
              "unique                                                                         7530   \n",
              "top     buaya meter terbesar di dunia ditemukan di danau kota maine amerika serikat   \n",
              "freq                                                                              1   \n",
              "\n",
              "           tanggal                                  narasi  \n",
              "count         7530                                    7530  \n",
              "unique        1317                                    7528  \n",
              "top     17/10/2022  foto badai petir terlihat luar angkasa  \n",
              "freq            87                                       2  "
            ],
            "text/html": [
              "\n",
              "  <div id=\"df-0395506f-6777-454f-9503-01dbdd053336\">\n",
              "    <div class=\"colab-df-container\">\n",
              "      <div>\n",
              "<style scoped>\n",
              "    .dataframe tbody tr th:only-of-type {\n",
              "        vertical-align: middle;\n",
              "    }\n",
              "\n",
              "    .dataframe tbody tr th {\n",
              "        vertical-align: top;\n",
              "    }\n",
              "\n",
              "    .dataframe thead th {\n",
              "        text-align: right;\n",
              "    }\n",
              "</style>\n",
              "<table border=\"1\" class=\"dataframe\">\n",
              "  <thead>\n",
              "    <tr style=\"text-align: right;\">\n",
              "      <th></th>\n",
              "      <th>kategori</th>\n",
              "      <th>judul</th>\n",
              "      <th>tanggal</th>\n",
              "      <th>narasi</th>\n",
              "    </tr>\n",
              "  </thead>\n",
              "  <tbody>\n",
              "    <tr>\n",
              "      <th>count</th>\n",
              "      <td>7530</td>\n",
              "      <td>7530</td>\n",
              "      <td>7530</td>\n",
              "      <td>7530</td>\n",
              "    </tr>\n",
              "    <tr>\n",
              "      <th>unique</th>\n",
              "      <td>8</td>\n",
              "      <td>7530</td>\n",
              "      <td>1317</td>\n",
              "      <td>7528</td>\n",
              "    </tr>\n",
              "    <tr>\n",
              "      <th>top</th>\n",
              "      <td>Valid</td>\n",
              "      <td>buaya meter terbesar di dunia ditemukan di danau kota maine amerika serikat</td>\n",
              "      <td>17/10/2022</td>\n",
              "      <td>foto badai petir terlihat luar angkasa</td>\n",
              "    </tr>\n",
              "    <tr>\n",
              "      <th>freq</th>\n",
              "      <td>2350</td>\n",
              "      <td>1</td>\n",
              "      <td>87</td>\n",
              "      <td>2</td>\n",
              "    </tr>\n",
              "  </tbody>\n",
              "</table>\n",
              "</div>\n",
              "      <button class=\"colab-df-convert\" onclick=\"convertToInteractive('df-0395506f-6777-454f-9503-01dbdd053336')\"\n",
              "              title=\"Convert this dataframe to an interactive table.\"\n",
              "              style=\"display:none;\">\n",
              "        \n",
              "  <svg xmlns=\"http://www.w3.org/2000/svg\" height=\"24px\"viewBox=\"0 0 24 24\"\n",
              "       width=\"24px\">\n",
              "    <path d=\"M0 0h24v24H0V0z\" fill=\"none\"/>\n",
              "    <path d=\"M18.56 5.44l.94 2.06.94-2.06 2.06-.94-2.06-.94-.94-2.06-.94 2.06-2.06.94zm-11 1L8.5 8.5l.94-2.06 2.06-.94-2.06-.94L8.5 2.5l-.94 2.06-2.06.94zm10 10l.94 2.06.94-2.06 2.06-.94-2.06-.94-.94-2.06-.94 2.06-2.06.94z\"/><path d=\"M17.41 7.96l-1.37-1.37c-.4-.4-.92-.59-1.43-.59-.52 0-1.04.2-1.43.59L10.3 9.45l-7.72 7.72c-.78.78-.78 2.05 0 2.83L4 21.41c.39.39.9.59 1.41.59.51 0 1.02-.2 1.41-.59l7.78-7.78 2.81-2.81c.8-.78.8-2.07 0-2.86zM5.41 20L4 18.59l7.72-7.72 1.47 1.35L5.41 20z\"/>\n",
              "  </svg>\n",
              "      </button>\n",
              "      \n",
              "  <style>\n",
              "    .colab-df-container {\n",
              "      display:flex;\n",
              "      flex-wrap:wrap;\n",
              "      gap: 12px;\n",
              "    }\n",
              "\n",
              "    .colab-df-convert {\n",
              "      background-color: #E8F0FE;\n",
              "      border: none;\n",
              "      border-radius: 50%;\n",
              "      cursor: pointer;\n",
              "      display: none;\n",
              "      fill: #1967D2;\n",
              "      height: 32px;\n",
              "      padding: 0 0 0 0;\n",
              "      width: 32px;\n",
              "    }\n",
              "\n",
              "    .colab-df-convert:hover {\n",
              "      background-color: #E2EBFA;\n",
              "      box-shadow: 0px 1px 2px rgba(60, 64, 67, 0.3), 0px 1px 3px 1px rgba(60, 64, 67, 0.15);\n",
              "      fill: #174EA6;\n",
              "    }\n",
              "\n",
              "    [theme=dark] .colab-df-convert {\n",
              "      background-color: #3B4455;\n",
              "      fill: #D2E3FC;\n",
              "    }\n",
              "\n",
              "    [theme=dark] .colab-df-convert:hover {\n",
              "      background-color: #434B5C;\n",
              "      box-shadow: 0px 1px 3px 1px rgba(0, 0, 0, 0.15);\n",
              "      filter: drop-shadow(0px 1px 2px rgba(0, 0, 0, 0.3));\n",
              "      fill: #FFFFFF;\n",
              "    }\n",
              "  </style>\n",
              "\n",
              "      <script>\n",
              "        const buttonEl =\n",
              "          document.querySelector('#df-0395506f-6777-454f-9503-01dbdd053336 button.colab-df-convert');\n",
              "        buttonEl.style.display =\n",
              "          google.colab.kernel.accessAllowed ? 'block' : 'none';\n",
              "\n",
              "        async function convertToInteractive(key) {\n",
              "          const element = document.querySelector('#df-0395506f-6777-454f-9503-01dbdd053336');\n",
              "          const dataTable =\n",
              "            await google.colab.kernel.invokeFunction('convertToInteractive',\n",
              "                                                     [key], {});\n",
              "          if (!dataTable) return;\n",
              "\n",
              "          const docLinkHtml = 'Like what you see? Visit the ' +\n",
              "            '<a target=\"_blank\" href=https://colab.research.google.com/notebooks/data_table.ipynb>data table notebook</a>'\n",
              "            + ' to learn more about interactive tables.';\n",
              "          element.innerHTML = '';\n",
              "          dataTable['output_type'] = 'display_data';\n",
              "          await google.colab.output.renderOutput(dataTable, element);\n",
              "          const docLink = document.createElement('div');\n",
              "          docLink.innerHTML = docLinkHtml;\n",
              "          element.appendChild(docLink);\n",
              "        }\n",
              "      </script>\n",
              "    </div>\n",
              "  </div>\n",
              "  "
            ]
          },
          "metadata": {},
          "execution_count": 10
        },
        {
          "output_type": "stream",
          "name": "stdout",
          "text": [
            "time: 23.7 ms (started: 2022-12-12 19:43:04 +00:00)\n"
          ]
        }
      ],
      "source": [
        "main_data.describe(include='all')"
      ]
    },
    {
      "cell_type": "code",
      "execution_count": null,
      "metadata": {
        "id": "jamSe8DbazRI",
        "colab": {
          "base_uri": "https://localhost:8080/"
        },
        "outputId": "fbff46d2-e5b4-4ec2-e9f6-8b9302802d17"
      },
      "outputs": [
        {
          "output_type": "execute_result",
          "data": {
            "text/plain": [
              "False    7528\n",
              "True        2\n",
              "Name: narasi, dtype: int64"
            ]
          },
          "metadata": {},
          "execution_count": 11
        },
        {
          "output_type": "stream",
          "name": "stdout",
          "text": [
            "time: 5.79 ms (started: 2022-12-12 19:43:04 +00:00)\n"
          ]
        }
      ],
      "source": [
        "main_data.narasi.duplicated(keep=\"first\").value_counts()"
      ]
    },
    {
      "cell_type": "code",
      "execution_count": null,
      "metadata": {
        "id": "UFqYW38ha7rA",
        "colab": {
          "base_uri": "https://localhost:8080/"
        },
        "outputId": "7131846f-0f38-42ce-ee89-74a03ecbbe81"
      },
      "outputs": [
        {
          "output_type": "execute_result",
          "data": {
            "text/plain": [
              "False    7528\n",
              "Name: narasi, dtype: int64"
            ]
          },
          "metadata": {},
          "execution_count": 12
        },
        {
          "output_type": "stream",
          "name": "stdout",
          "text": [
            "time: 11.8 ms (started: 2022-12-12 19:43:04 +00:00)\n"
          ]
        }
      ],
      "source": [
        "main_data.drop_duplicates(subset=\"narasi\", keep=\"first\", inplace=True)\n",
        "main_data.reset_index(drop=True, inplace=True)\n",
        "main_data.narasi.duplicated(keep=\"first\").value_counts()"
      ]
    },
    {
      "cell_type": "code",
      "execution_count": null,
      "metadata": {
        "id": "l8CaqT5bbGcO",
        "colab": {
          "base_uri": "https://localhost:8080/"
        },
        "outputId": "6bbde7d7-c822-47c5-b0e7-ec7e5a839b83"
      },
      "outputs": [
        {
          "output_type": "stream",
          "name": "stdout",
          "text": [
            "Categories:\n",
            " ['Konten Yang Menyesatkan' 'Konten Yang Salah' 'Satire/Parodi'\n",
            " 'Konten Palsu' 'Konten Yang Dimanipulasi' 'Konten Tiruan'\n",
            " 'Koneksi Yang Salah' 'Valid']\n",
            "time: 1.61 ms (started: 2022-12-12 19:43:04 +00:00)\n"
          ]
        }
      ],
      "source": [
        "categories = main_data.kategori.unique()\n",
        "print(\"Categories:\\n\", categories)"
      ]
    },
    {
      "cell_type": "code",
      "execution_count": null,
      "metadata": {
        "id": "bFeg5EXhY27p",
        "colab": {
          "base_uri": "https://localhost:8080/"
        },
        "outputId": "4a65d386-816a-478b-b3b5-0a9a658f3539"
      },
      "outputs": [
        {
          "output_type": "execute_result",
          "data": {
            "text/plain": [
              "Valid                       2349\n",
              "Konten Yang Menyesatkan     1882\n",
              "Konten Yang Salah           1313\n",
              "Konten Palsu                 768\n",
              "Konten Yang Dimanipulasi     643\n",
              "Konten Tiruan                360\n",
              "Satire/Parodi                125\n",
              "Koneksi Yang Salah            88\n",
              "Name: kategori, dtype: int64"
            ]
          },
          "metadata": {},
          "execution_count": 14
        },
        {
          "output_type": "stream",
          "name": "stdout",
          "text": [
            "time: 4.26 ms (started: 2022-12-12 19:43:04 +00:00)\n"
          ]
        }
      ],
      "source": [
        "main_data.kategori.value_counts()"
      ]
    },
    {
      "cell_type": "code",
      "execution_count": null,
      "metadata": {
        "id": "ro4nIgg9H7Sg",
        "colab": {
          "base_uri": "https://localhost:8080/"
        },
        "outputId": "9e05aaee-27f1-4a81-9d30-2ee864cb7e06"
      },
      "outputs": [
        {
          "output_type": "execute_result",
          "data": {
            "text/plain": [
              "Misleading Content/False Context/Manipulated Content    3838\n",
              "Valid                                                   2349\n",
              "Fabricated Content/Imposter Content                     1128\n",
              "Name: kategori, dtype: int64"
            ]
          },
          "metadata": {},
          "execution_count": 15
        },
        {
          "output_type": "stream",
          "name": "stdout",
          "text": [
            "time: 12.5 ms (started: 2022-12-12 19:43:04 +00:00)\n"
          ]
        }
      ],
      "source": [
        "main_data.loc[main_data['kategori'] == 'Konten Yang Salah', 'kategori'] = 'Misleading Content/False Context/Manipulated Content'\n",
        "main_data.loc[main_data['kategori'] == 'Konten Yang Menyesatkan', 'kategori'] = 'Misleading Content/False Context/Manipulated Content'\n",
        "main_data.loc[main_data['kategori'] == 'Konten Yang Dimanipulasi', 'kategori'] = 'Misleading Content/False Context/Manipulated Content'\n",
        "\n",
        "main_data.loc[main_data['kategori'] == 'Konten Palsu', 'kategori'] = 'Fabricated Content/Imposter Content'\n",
        "main_data.loc[main_data['kategori'] == 'Konten Tiruan', 'kategori'] = 'Fabricated Content/Imposter Content'\n",
        "\n",
        "main_data = main_data[main_data['kategori'] != 'Koneksi Yang Salah']\n",
        "main_data = main_data[main_data['kategori'] != 'Satire/Parodi']\n",
        "\n",
        "main_data.reset_index(drop=True, inplace=True)\n",
        "main_data.kategori.value_counts()"
      ]
    },
    {
      "cell_type": "code",
      "source": [
        "XVal, YVal = list(main_data['narasi']), list(main_data['kategori'])"
      ],
      "metadata": {
        "id": "i7xGca_YyJAQ",
        "colab": {
          "base_uri": "https://localhost:8080/"
        },
        "outputId": "7cb486a9-13c6-4191-817f-47e1147b757d"
      },
      "execution_count": null,
      "outputs": [
        {
          "output_type": "stream",
          "name": "stdout",
          "text": [
            "time: 1.4 ms (started: 2022-12-12 19:43:04 +00:00)\n"
          ]
        }
      ]
    },
    {
      "cell_type": "code",
      "source": [
        "data = main_data"
      ],
      "metadata": {
        "id": "5h0preQLxHzu",
        "colab": {
          "base_uri": "https://localhost:8080/"
        },
        "outputId": "376818f6-fd27-494f-8e97-a2095217a3e8"
      },
      "execution_count": null,
      "outputs": [
        {
          "output_type": "stream",
          "name": "stdout",
          "text": [
            "time: 252 µs (started: 2022-12-12 19:43:04 +00:00)\n"
          ]
        }
      ]
    },
    {
      "cell_type": "code",
      "execution_count": null,
      "metadata": {
        "id": "cXgYsVRmcfCG",
        "colab": {
          "base_uri": "https://localhost:8080/"
        },
        "outputId": "ce3b7ee9-a038-4567-9cef-96a23e37b017"
      },
      "outputs": [
        {
          "output_type": "stream",
          "name": "stdout",
          "text": [
            "time: 13.8 ms (started: 2022-12-12 19:43:04 +00:00)\n"
          ]
        }
      ],
      "source": [
        "data['words'] = [len(x.split()) for x in data['narasi'].tolist()]"
      ]
    },
    {
      "cell_type": "code",
      "execution_count": null,
      "metadata": {
        "id": "iDPyzOoYcolt",
        "colab": {
          "base_uri": "https://localhost:8080/",
          "height": 286
        },
        "outputId": "bbfc2178-0f13-4981-f49f-226301230bc0"
      },
      "outputs": [
        {
          "output_type": "execute_result",
          "data": {
            "text/plain": [
              "   words  \\\n",
              "0     10   \n",
              "1      8   \n",
              "2      4   \n",
              "3      5   \n",
              "4     21   \n",
              "\n",
              "                                                                                                                                          narasi  \n",
              "0                                                                          buaya meter terbesar dunia ditemukan danau kota maine amerika serikat  \n",
              "1                                                                                 demo memprotes kecurangan hasil pemilihan umum brazil november  \n",
              "2                                                                                                                    warga bogor meninggal hidup  \n",
              "3                                                                                                             fauci akui vaksin melindungi covid  \n",
              "4  vaksin gratis set box punah gratis ternyata ternyata dalamnya rangkaian bluetooth low energy device membaca data orang orang yg divaksin aduh  "
            ],
            "text/html": [
              "\n",
              "  <div id=\"df-501dffe3-018b-45a8-810b-bc587b9615af\">\n",
              "    <div class=\"colab-df-container\">\n",
              "      <div>\n",
              "<style scoped>\n",
              "    .dataframe tbody tr th:only-of-type {\n",
              "        vertical-align: middle;\n",
              "    }\n",
              "\n",
              "    .dataframe tbody tr th {\n",
              "        vertical-align: top;\n",
              "    }\n",
              "\n",
              "    .dataframe thead th {\n",
              "        text-align: right;\n",
              "    }\n",
              "</style>\n",
              "<table border=\"1\" class=\"dataframe\">\n",
              "  <thead>\n",
              "    <tr style=\"text-align: right;\">\n",
              "      <th></th>\n",
              "      <th>words</th>\n",
              "      <th>narasi</th>\n",
              "    </tr>\n",
              "  </thead>\n",
              "  <tbody>\n",
              "    <tr>\n",
              "      <th>0</th>\n",
              "      <td>10</td>\n",
              "      <td>buaya meter terbesar dunia ditemukan danau kota maine amerika serikat</td>\n",
              "    </tr>\n",
              "    <tr>\n",
              "      <th>1</th>\n",
              "      <td>8</td>\n",
              "      <td>demo memprotes kecurangan hasil pemilihan umum brazil november</td>\n",
              "    </tr>\n",
              "    <tr>\n",
              "      <th>2</th>\n",
              "      <td>4</td>\n",
              "      <td>warga bogor meninggal hidup</td>\n",
              "    </tr>\n",
              "    <tr>\n",
              "      <th>3</th>\n",
              "      <td>5</td>\n",
              "      <td>fauci akui vaksin melindungi covid</td>\n",
              "    </tr>\n",
              "    <tr>\n",
              "      <th>4</th>\n",
              "      <td>21</td>\n",
              "      <td>vaksin gratis set box punah gratis ternyata ternyata dalamnya rangkaian bluetooth low energy device membaca data orang orang yg divaksin aduh</td>\n",
              "    </tr>\n",
              "  </tbody>\n",
              "</table>\n",
              "</div>\n",
              "      <button class=\"colab-df-convert\" onclick=\"convertToInteractive('df-501dffe3-018b-45a8-810b-bc587b9615af')\"\n",
              "              title=\"Convert this dataframe to an interactive table.\"\n",
              "              style=\"display:none;\">\n",
              "        \n",
              "  <svg xmlns=\"http://www.w3.org/2000/svg\" height=\"24px\"viewBox=\"0 0 24 24\"\n",
              "       width=\"24px\">\n",
              "    <path d=\"M0 0h24v24H0V0z\" fill=\"none\"/>\n",
              "    <path d=\"M18.56 5.44l.94 2.06.94-2.06 2.06-.94-2.06-.94-.94-2.06-.94 2.06-2.06.94zm-11 1L8.5 8.5l.94-2.06 2.06-.94-2.06-.94L8.5 2.5l-.94 2.06-2.06.94zm10 10l.94 2.06.94-2.06 2.06-.94-2.06-.94-.94-2.06-.94 2.06-2.06.94z\"/><path d=\"M17.41 7.96l-1.37-1.37c-.4-.4-.92-.59-1.43-.59-.52 0-1.04.2-1.43.59L10.3 9.45l-7.72 7.72c-.78.78-.78 2.05 0 2.83L4 21.41c.39.39.9.59 1.41.59.51 0 1.02-.2 1.41-.59l7.78-7.78 2.81-2.81c.8-.78.8-2.07 0-2.86zM5.41 20L4 18.59l7.72-7.72 1.47 1.35L5.41 20z\"/>\n",
              "  </svg>\n",
              "      </button>\n",
              "      \n",
              "  <style>\n",
              "    .colab-df-container {\n",
              "      display:flex;\n",
              "      flex-wrap:wrap;\n",
              "      gap: 12px;\n",
              "    }\n",
              "\n",
              "    .colab-df-convert {\n",
              "      background-color: #E8F0FE;\n",
              "      border: none;\n",
              "      border-radius: 50%;\n",
              "      cursor: pointer;\n",
              "      display: none;\n",
              "      fill: #1967D2;\n",
              "      height: 32px;\n",
              "      padding: 0 0 0 0;\n",
              "      width: 32px;\n",
              "    }\n",
              "\n",
              "    .colab-df-convert:hover {\n",
              "      background-color: #E2EBFA;\n",
              "      box-shadow: 0px 1px 2px rgba(60, 64, 67, 0.3), 0px 1px 3px 1px rgba(60, 64, 67, 0.15);\n",
              "      fill: #174EA6;\n",
              "    }\n",
              "\n",
              "    [theme=dark] .colab-df-convert {\n",
              "      background-color: #3B4455;\n",
              "      fill: #D2E3FC;\n",
              "    }\n",
              "\n",
              "    [theme=dark] .colab-df-convert:hover {\n",
              "      background-color: #434B5C;\n",
              "      box-shadow: 0px 1px 3px 1px rgba(0, 0, 0, 0.15);\n",
              "      filter: drop-shadow(0px 1px 2px rgba(0, 0, 0, 0.3));\n",
              "      fill: #FFFFFF;\n",
              "    }\n",
              "  </style>\n",
              "\n",
              "      <script>\n",
              "        const buttonEl =\n",
              "          document.querySelector('#df-501dffe3-018b-45a8-810b-bc587b9615af button.colab-df-convert');\n",
              "        buttonEl.style.display =\n",
              "          google.colab.kernel.accessAllowed ? 'block' : 'none';\n",
              "\n",
              "        async function convertToInteractive(key) {\n",
              "          const element = document.querySelector('#df-501dffe3-018b-45a8-810b-bc587b9615af');\n",
              "          const dataTable =\n",
              "            await google.colab.kernel.invokeFunction('convertToInteractive',\n",
              "                                                     [key], {});\n",
              "          if (!dataTable) return;\n",
              "\n",
              "          const docLinkHtml = 'Like what you see? Visit the ' +\n",
              "            '<a target=\"_blank\" href=https://colab.research.google.com/notebooks/data_table.ipynb>data table notebook</a>'\n",
              "            + ' to learn more about interactive tables.';\n",
              "          element.innerHTML = '';\n",
              "          dataTable['output_type'] = 'display_data';\n",
              "          await google.colab.output.renderOutput(dataTable, element);\n",
              "          const docLink = document.createElement('div');\n",
              "          docLink.innerHTML = docLinkHtml;\n",
              "          element.appendChild(docLink);\n",
              "        }\n",
              "      </script>\n",
              "    </div>\n",
              "  </div>\n",
              "  "
            ]
          },
          "metadata": {},
          "execution_count": 19
        },
        {
          "output_type": "stream",
          "name": "stdout",
          "text": [
            "time: 6.14 ms (started: 2022-12-12 19:43:04 +00:00)\n"
          ]
        }
      ],
      "source": [
        "data[['words','narasi']].head()"
      ]
    },
    {
      "cell_type": "code",
      "execution_count": null,
      "metadata": {
        "id": "ujBkLajucvRC",
        "colab": {
          "base_uri": "https://localhost:8080/"
        },
        "outputId": "a547838d-62ad-49bd-bb1c-e5f075a68d6d"
      },
      "outputs": [
        {
          "output_type": "execute_result",
          "data": {
            "text/plain": [
              "count    7315.000000\n",
              "mean       24.798770\n",
              "std        34.406444\n",
              "min         2.000000\n",
              "25%        10.000000\n",
              "50%        18.000000\n",
              "75%        27.000000\n",
              "max      1139.000000\n",
              "Name: words, dtype: float64"
            ]
          },
          "metadata": {},
          "execution_count": 20
        },
        {
          "output_type": "stream",
          "name": "stdout",
          "text": [
            "time: 8.17 ms (started: 2022-12-12 19:43:04 +00:00)\n"
          ]
        }
      ],
      "source": [
        "data['words'].describe()"
      ]
    },
    {
      "cell_type": "code",
      "execution_count": null,
      "metadata": {
        "id": "EXo02Sfucz2V",
        "colab": {
          "base_uri": "https://localhost:8080/",
          "height": 272
        },
        "outputId": "55739320-5708-4c34-9eb3-3c7d9f18057b"
      },
      "outputs": [
        {
          "output_type": "execute_result",
          "data": {
            "text/plain": [
              "                                                       count       mean  \\\n",
              "kategori                                                                  \n",
              "Fabricated Content/Imposter Content                   1128.0  34.176418   \n",
              "Misleading Content/False Context/Manipulated Content  3838.0  22.686816   \n",
              "Valid                                                 2349.0  23.746275   \n",
              "\n",
              "                                                            std  min   25%  \\\n",
              "kategori                                                                     \n",
              "Fabricated Content/Imposter Content                   49.519877  3.0   9.0   \n",
              "Misleading Content/False Context/Manipulated Content  38.396630  2.0   8.0   \n",
              "Valid                                                  7.115402  8.0  20.0   \n",
              "\n",
              "                                                       50%   75%     max  \n",
              "kategori                                                                  \n",
              "Fabricated Content/Imposter Content                   17.5  41.0   951.0  \n",
              "Misleading Content/False Context/Manipulated Content  11.0  22.0  1139.0  \n",
              "Valid                                                 23.0  27.0   121.0  "
            ],
            "text/html": [
              "\n",
              "  <div id=\"df-bbce7a52-dc59-4934-acb3-d7155f0caa71\">\n",
              "    <div class=\"colab-df-container\">\n",
              "      <div>\n",
              "<style scoped>\n",
              "    .dataframe tbody tr th:only-of-type {\n",
              "        vertical-align: middle;\n",
              "    }\n",
              "\n",
              "    .dataframe tbody tr th {\n",
              "        vertical-align: top;\n",
              "    }\n",
              "\n",
              "    .dataframe thead th {\n",
              "        text-align: right;\n",
              "    }\n",
              "</style>\n",
              "<table border=\"1\" class=\"dataframe\">\n",
              "  <thead>\n",
              "    <tr style=\"text-align: right;\">\n",
              "      <th></th>\n",
              "      <th>count</th>\n",
              "      <th>mean</th>\n",
              "      <th>std</th>\n",
              "      <th>min</th>\n",
              "      <th>25%</th>\n",
              "      <th>50%</th>\n",
              "      <th>75%</th>\n",
              "      <th>max</th>\n",
              "    </tr>\n",
              "    <tr>\n",
              "      <th>kategori</th>\n",
              "      <th></th>\n",
              "      <th></th>\n",
              "      <th></th>\n",
              "      <th></th>\n",
              "      <th></th>\n",
              "      <th></th>\n",
              "      <th></th>\n",
              "      <th></th>\n",
              "    </tr>\n",
              "  </thead>\n",
              "  <tbody>\n",
              "    <tr>\n",
              "      <th>Fabricated Content/Imposter Content</th>\n",
              "      <td>1128.0</td>\n",
              "      <td>34.176418</td>\n",
              "      <td>49.519877</td>\n",
              "      <td>3.0</td>\n",
              "      <td>9.0</td>\n",
              "      <td>17.5</td>\n",
              "      <td>41.0</td>\n",
              "      <td>951.0</td>\n",
              "    </tr>\n",
              "    <tr>\n",
              "      <th>Misleading Content/False Context/Manipulated Content</th>\n",
              "      <td>3838.0</td>\n",
              "      <td>22.686816</td>\n",
              "      <td>38.396630</td>\n",
              "      <td>2.0</td>\n",
              "      <td>8.0</td>\n",
              "      <td>11.0</td>\n",
              "      <td>22.0</td>\n",
              "      <td>1139.0</td>\n",
              "    </tr>\n",
              "    <tr>\n",
              "      <th>Valid</th>\n",
              "      <td>2349.0</td>\n",
              "      <td>23.746275</td>\n",
              "      <td>7.115402</td>\n",
              "      <td>8.0</td>\n",
              "      <td>20.0</td>\n",
              "      <td>23.0</td>\n",
              "      <td>27.0</td>\n",
              "      <td>121.0</td>\n",
              "    </tr>\n",
              "  </tbody>\n",
              "</table>\n",
              "</div>\n",
              "      <button class=\"colab-df-convert\" onclick=\"convertToInteractive('df-bbce7a52-dc59-4934-acb3-d7155f0caa71')\"\n",
              "              title=\"Convert this dataframe to an interactive table.\"\n",
              "              style=\"display:none;\">\n",
              "        \n",
              "  <svg xmlns=\"http://www.w3.org/2000/svg\" height=\"24px\"viewBox=\"0 0 24 24\"\n",
              "       width=\"24px\">\n",
              "    <path d=\"M0 0h24v24H0V0z\" fill=\"none\"/>\n",
              "    <path d=\"M18.56 5.44l.94 2.06.94-2.06 2.06-.94-2.06-.94-.94-2.06-.94 2.06-2.06.94zm-11 1L8.5 8.5l.94-2.06 2.06-.94-2.06-.94L8.5 2.5l-.94 2.06-2.06.94zm10 10l.94 2.06.94-2.06 2.06-.94-2.06-.94-.94-2.06-.94 2.06-2.06.94z\"/><path d=\"M17.41 7.96l-1.37-1.37c-.4-.4-.92-.59-1.43-.59-.52 0-1.04.2-1.43.59L10.3 9.45l-7.72 7.72c-.78.78-.78 2.05 0 2.83L4 21.41c.39.39.9.59 1.41.59.51 0 1.02-.2 1.41-.59l7.78-7.78 2.81-2.81c.8-.78.8-2.07 0-2.86zM5.41 20L4 18.59l7.72-7.72 1.47 1.35L5.41 20z\"/>\n",
              "  </svg>\n",
              "      </button>\n",
              "      \n",
              "  <style>\n",
              "    .colab-df-container {\n",
              "      display:flex;\n",
              "      flex-wrap:wrap;\n",
              "      gap: 12px;\n",
              "    }\n",
              "\n",
              "    .colab-df-convert {\n",
              "      background-color: #E8F0FE;\n",
              "      border: none;\n",
              "      border-radius: 50%;\n",
              "      cursor: pointer;\n",
              "      display: none;\n",
              "      fill: #1967D2;\n",
              "      height: 32px;\n",
              "      padding: 0 0 0 0;\n",
              "      width: 32px;\n",
              "    }\n",
              "\n",
              "    .colab-df-convert:hover {\n",
              "      background-color: #E2EBFA;\n",
              "      box-shadow: 0px 1px 2px rgba(60, 64, 67, 0.3), 0px 1px 3px 1px rgba(60, 64, 67, 0.15);\n",
              "      fill: #174EA6;\n",
              "    }\n",
              "\n",
              "    [theme=dark] .colab-df-convert {\n",
              "      background-color: #3B4455;\n",
              "      fill: #D2E3FC;\n",
              "    }\n",
              "\n",
              "    [theme=dark] .colab-df-convert:hover {\n",
              "      background-color: #434B5C;\n",
              "      box-shadow: 0px 1px 3px 1px rgba(0, 0, 0, 0.15);\n",
              "      filter: drop-shadow(0px 1px 2px rgba(0, 0, 0, 0.3));\n",
              "      fill: #FFFFFF;\n",
              "    }\n",
              "  </style>\n",
              "\n",
              "      <script>\n",
              "        const buttonEl =\n",
              "          document.querySelector('#df-bbce7a52-dc59-4934-acb3-d7155f0caa71 button.colab-df-convert');\n",
              "        buttonEl.style.display =\n",
              "          google.colab.kernel.accessAllowed ? 'block' : 'none';\n",
              "\n",
              "        async function convertToInteractive(key) {\n",
              "          const element = document.querySelector('#df-bbce7a52-dc59-4934-acb3-d7155f0caa71');\n",
              "          const dataTable =\n",
              "            await google.colab.kernel.invokeFunction('convertToInteractive',\n",
              "                                                     [key], {});\n",
              "          if (!dataTable) return;\n",
              "\n",
              "          const docLinkHtml = 'Like what you see? Visit the ' +\n",
              "            '<a target=\"_blank\" href=https://colab.research.google.com/notebooks/data_table.ipynb>data table notebook</a>'\n",
              "            + ' to learn more about interactive tables.';\n",
              "          element.innerHTML = '';\n",
              "          dataTable['output_type'] = 'display_data';\n",
              "          await google.colab.output.renderOutput(dataTable, element);\n",
              "          const docLink = document.createElement('div');\n",
              "          docLink.innerHTML = docLinkHtml;\n",
              "          element.appendChild(docLink);\n",
              "        }\n",
              "      </script>\n",
              "    </div>\n",
              "  </div>\n",
              "  "
            ]
          },
          "metadata": {},
          "execution_count": 21
        },
        {
          "output_type": "stream",
          "name": "stdout",
          "text": [
            "time: 23.7 ms (started: 2022-12-12 19:43:04 +00:00)\n"
          ]
        }
      ],
      "source": [
        "data.groupby(['kategori'])['words'].describe()"
      ]
    },
    {
      "cell_type": "code",
      "execution_count": null,
      "metadata": {
        "id": "bv32oHF8-3uN",
        "colab": {
          "base_uri": "https://localhost:8080/",
          "height": 272
        },
        "outputId": "881cb501-710c-440e-8954-68f8204f174d"
      },
      "outputs": [
        {
          "output_type": "execute_result",
          "data": {
            "text/plain": [
              "                                                       count       mean  \\\n",
              "kategori                                                                  \n",
              "Fabricated Content/Imposter Content                   1118.0  31.190519   \n",
              "Misleading Content/False Context/Manipulated Content  3812.0  20.960913   \n",
              "Valid                                                 2349.0  23.746275   \n",
              "\n",
              "                                                            std  min   25%  \\\n",
              "kategori                                                                     \n",
              "Fabricated Content/Imposter Content                   32.714856  3.0   9.0   \n",
              "Misleading Content/False Context/Manipulated Content  26.427491  3.0   8.0   \n",
              "Valid                                                  7.115402  8.0  20.0   \n",
              "\n",
              "                                                       50%    75%    max  \n",
              "kategori                                                                  \n",
              "Fabricated Content/Imposter Content                   17.0  40.75  196.0  \n",
              "Misleading Content/False Context/Manipulated Content  11.0  22.00  196.0  \n",
              "Valid                                                 23.0  27.00  121.0  "
            ],
            "text/html": [
              "\n",
              "  <div id=\"df-d0a6393f-8523-4d0a-ba38-9e7089173d69\">\n",
              "    <div class=\"colab-df-container\">\n",
              "      <div>\n",
              "<style scoped>\n",
              "    .dataframe tbody tr th:only-of-type {\n",
              "        vertical-align: middle;\n",
              "    }\n",
              "\n",
              "    .dataframe tbody tr th {\n",
              "        vertical-align: top;\n",
              "    }\n",
              "\n",
              "    .dataframe thead th {\n",
              "        text-align: right;\n",
              "    }\n",
              "</style>\n",
              "<table border=\"1\" class=\"dataframe\">\n",
              "  <thead>\n",
              "    <tr style=\"text-align: right;\">\n",
              "      <th></th>\n",
              "      <th>count</th>\n",
              "      <th>mean</th>\n",
              "      <th>std</th>\n",
              "      <th>min</th>\n",
              "      <th>25%</th>\n",
              "      <th>50%</th>\n",
              "      <th>75%</th>\n",
              "      <th>max</th>\n",
              "    </tr>\n",
              "    <tr>\n",
              "      <th>kategori</th>\n",
              "      <th></th>\n",
              "      <th></th>\n",
              "      <th></th>\n",
              "      <th></th>\n",
              "      <th></th>\n",
              "      <th></th>\n",
              "      <th></th>\n",
              "      <th></th>\n",
              "    </tr>\n",
              "  </thead>\n",
              "  <tbody>\n",
              "    <tr>\n",
              "      <th>Fabricated Content/Imposter Content</th>\n",
              "      <td>1118.0</td>\n",
              "      <td>31.190519</td>\n",
              "      <td>32.714856</td>\n",
              "      <td>3.0</td>\n",
              "      <td>9.0</td>\n",
              "      <td>17.0</td>\n",
              "      <td>40.75</td>\n",
              "      <td>196.0</td>\n",
              "    </tr>\n",
              "    <tr>\n",
              "      <th>Misleading Content/False Context/Manipulated Content</th>\n",
              "      <td>3812.0</td>\n",
              "      <td>20.960913</td>\n",
              "      <td>26.427491</td>\n",
              "      <td>3.0</td>\n",
              "      <td>8.0</td>\n",
              "      <td>11.0</td>\n",
              "      <td>22.00</td>\n",
              "      <td>196.0</td>\n",
              "    </tr>\n",
              "    <tr>\n",
              "      <th>Valid</th>\n",
              "      <td>2349.0</td>\n",
              "      <td>23.746275</td>\n",
              "      <td>7.115402</td>\n",
              "      <td>8.0</td>\n",
              "      <td>20.0</td>\n",
              "      <td>23.0</td>\n",
              "      <td>27.00</td>\n",
              "      <td>121.0</td>\n",
              "    </tr>\n",
              "  </tbody>\n",
              "</table>\n",
              "</div>\n",
              "      <button class=\"colab-df-convert\" onclick=\"convertToInteractive('df-d0a6393f-8523-4d0a-ba38-9e7089173d69')\"\n",
              "              title=\"Convert this dataframe to an interactive table.\"\n",
              "              style=\"display:none;\">\n",
              "        \n",
              "  <svg xmlns=\"http://www.w3.org/2000/svg\" height=\"24px\"viewBox=\"0 0 24 24\"\n",
              "       width=\"24px\">\n",
              "    <path d=\"M0 0h24v24H0V0z\" fill=\"none\"/>\n",
              "    <path d=\"M18.56 5.44l.94 2.06.94-2.06 2.06-.94-2.06-.94-.94-2.06-.94 2.06-2.06.94zm-11 1L8.5 8.5l.94-2.06 2.06-.94-2.06-.94L8.5 2.5l-.94 2.06-2.06.94zm10 10l.94 2.06.94-2.06 2.06-.94-2.06-.94-.94-2.06-.94 2.06-2.06.94z\"/><path d=\"M17.41 7.96l-1.37-1.37c-.4-.4-.92-.59-1.43-.59-.52 0-1.04.2-1.43.59L10.3 9.45l-7.72 7.72c-.78.78-.78 2.05 0 2.83L4 21.41c.39.39.9.59 1.41.59.51 0 1.02-.2 1.41-.59l7.78-7.78 2.81-2.81c.8-.78.8-2.07 0-2.86zM5.41 20L4 18.59l7.72-7.72 1.47 1.35L5.41 20z\"/>\n",
              "  </svg>\n",
              "      </button>\n",
              "      \n",
              "  <style>\n",
              "    .colab-df-container {\n",
              "      display:flex;\n",
              "      flex-wrap:wrap;\n",
              "      gap: 12px;\n",
              "    }\n",
              "\n",
              "    .colab-df-convert {\n",
              "      background-color: #E8F0FE;\n",
              "      border: none;\n",
              "      border-radius: 50%;\n",
              "      cursor: pointer;\n",
              "      display: none;\n",
              "      fill: #1967D2;\n",
              "      height: 32px;\n",
              "      padding: 0 0 0 0;\n",
              "      width: 32px;\n",
              "    }\n",
              "\n",
              "    .colab-df-convert:hover {\n",
              "      background-color: #E2EBFA;\n",
              "      box-shadow: 0px 1px 2px rgba(60, 64, 67, 0.3), 0px 1px 3px 1px rgba(60, 64, 67, 0.15);\n",
              "      fill: #174EA6;\n",
              "    }\n",
              "\n",
              "    [theme=dark] .colab-df-convert {\n",
              "      background-color: #3B4455;\n",
              "      fill: #D2E3FC;\n",
              "    }\n",
              "\n",
              "    [theme=dark] .colab-df-convert:hover {\n",
              "      background-color: #434B5C;\n",
              "      box-shadow: 0px 1px 3px 1px rgba(0, 0, 0, 0.15);\n",
              "      filter: drop-shadow(0px 1px 2px rgba(0, 0, 0, 0.3));\n",
              "      fill: #FFFFFF;\n",
              "    }\n",
              "  </style>\n",
              "\n",
              "      <script>\n",
              "        const buttonEl =\n",
              "          document.querySelector('#df-d0a6393f-8523-4d0a-ba38-9e7089173d69 button.colab-df-convert');\n",
              "        buttonEl.style.display =\n",
              "          google.colab.kernel.accessAllowed ? 'block' : 'none';\n",
              "\n",
              "        async function convertToInteractive(key) {\n",
              "          const element = document.querySelector('#df-d0a6393f-8523-4d0a-ba38-9e7089173d69');\n",
              "          const dataTable =\n",
              "            await google.colab.kernel.invokeFunction('convertToInteractive',\n",
              "                                                     [key], {});\n",
              "          if (!dataTable) return;\n",
              "\n",
              "          const docLinkHtml = 'Like what you see? Visit the ' +\n",
              "            '<a target=\"_blank\" href=https://colab.research.google.com/notebooks/data_table.ipynb>data table notebook</a>'\n",
              "            + ' to learn more about interactive tables.';\n",
              "          element.innerHTML = '';\n",
              "          dataTable['output_type'] = 'display_data';\n",
              "          await google.colab.output.renderOutput(dataTable, element);\n",
              "          const docLink = document.createElement('div');\n",
              "          docLink.innerHTML = docLinkHtml;\n",
              "          element.appendChild(docLink);\n",
              "        }\n",
              "      </script>\n",
              "    </div>\n",
              "  </div>\n",
              "  "
            ]
          },
          "metadata": {},
          "execution_count": 22
        },
        {
          "output_type": "stream",
          "name": "stdout",
          "text": [
            "time: 21.3 ms (started: 2022-12-12 19:43:04 +00:00)\n"
          ]
        }
      ],
      "source": [
        "data = data[data['words']<=200]\n",
        "data = data[data['words']>=3]\n",
        "data.groupby(['kategori'])['words'].describe()"
      ]
    },
    {
      "cell_type": "code",
      "execution_count": null,
      "metadata": {
        "id": "1ObiXX15T1At",
        "colab": {
          "base_uri": "https://localhost:8080/",
          "height": 272
        },
        "outputId": "cb8b33d2-e6fd-46cd-d44b-9c8dea80d413"
      },
      "outputs": [
        {
          "output_type": "execute_result",
          "data": {
            "text/plain": [
              "                                                       count       mean  \\\n",
              "kategori                                                                  \n",
              "Fabricated Content/Imposter Content                   1118.0  31.190519   \n",
              "Misleading Content/False Context/Manipulated Content  1118.0  24.962433   \n",
              "Valid                                                 1118.0  24.450805   \n",
              "\n",
              "                                                            std   min   25%  \\\n",
              "kategori                                                                      \n",
              "Fabricated Content/Imposter Content                   32.714856   3.0   9.0   \n",
              "Misleading Content/False Context/Manipulated Content  30.107245   3.0   8.0   \n",
              "Valid                                                  7.682183  11.0  20.0   \n",
              "\n",
              "                                                       50%    75%    max  \n",
              "kategori                                                                  \n",
              "Fabricated Content/Imposter Content                   17.0  40.75  196.0  \n",
              "Misleading Content/False Context/Manipulated Content  13.0  28.00  194.0  \n",
              "Valid                                                 23.0  27.00  121.0  "
            ],
            "text/html": [
              "\n",
              "  <div id=\"df-a4dbddeb-f109-4d29-a920-304ed046d6ca\">\n",
              "    <div class=\"colab-df-container\">\n",
              "      <div>\n",
              "<style scoped>\n",
              "    .dataframe tbody tr th:only-of-type {\n",
              "        vertical-align: middle;\n",
              "    }\n",
              "\n",
              "    .dataframe tbody tr th {\n",
              "        vertical-align: top;\n",
              "    }\n",
              "\n",
              "    .dataframe thead th {\n",
              "        text-align: right;\n",
              "    }\n",
              "</style>\n",
              "<table border=\"1\" class=\"dataframe\">\n",
              "  <thead>\n",
              "    <tr style=\"text-align: right;\">\n",
              "      <th></th>\n",
              "      <th>count</th>\n",
              "      <th>mean</th>\n",
              "      <th>std</th>\n",
              "      <th>min</th>\n",
              "      <th>25%</th>\n",
              "      <th>50%</th>\n",
              "      <th>75%</th>\n",
              "      <th>max</th>\n",
              "    </tr>\n",
              "    <tr>\n",
              "      <th>kategori</th>\n",
              "      <th></th>\n",
              "      <th></th>\n",
              "      <th></th>\n",
              "      <th></th>\n",
              "      <th></th>\n",
              "      <th></th>\n",
              "      <th></th>\n",
              "      <th></th>\n",
              "    </tr>\n",
              "  </thead>\n",
              "  <tbody>\n",
              "    <tr>\n",
              "      <th>Fabricated Content/Imposter Content</th>\n",
              "      <td>1118.0</td>\n",
              "      <td>31.190519</td>\n",
              "      <td>32.714856</td>\n",
              "      <td>3.0</td>\n",
              "      <td>9.0</td>\n",
              "      <td>17.0</td>\n",
              "      <td>40.75</td>\n",
              "      <td>196.0</td>\n",
              "    </tr>\n",
              "    <tr>\n",
              "      <th>Misleading Content/False Context/Manipulated Content</th>\n",
              "      <td>1118.0</td>\n",
              "      <td>24.962433</td>\n",
              "      <td>30.107245</td>\n",
              "      <td>3.0</td>\n",
              "      <td>8.0</td>\n",
              "      <td>13.0</td>\n",
              "      <td>28.00</td>\n",
              "      <td>194.0</td>\n",
              "    </tr>\n",
              "    <tr>\n",
              "      <th>Valid</th>\n",
              "      <td>1118.0</td>\n",
              "      <td>24.450805</td>\n",
              "      <td>7.682183</td>\n",
              "      <td>11.0</td>\n",
              "      <td>20.0</td>\n",
              "      <td>23.0</td>\n",
              "      <td>27.00</td>\n",
              "      <td>121.0</td>\n",
              "    </tr>\n",
              "  </tbody>\n",
              "</table>\n",
              "</div>\n",
              "      <button class=\"colab-df-convert\" onclick=\"convertToInteractive('df-a4dbddeb-f109-4d29-a920-304ed046d6ca')\"\n",
              "              title=\"Convert this dataframe to an interactive table.\"\n",
              "              style=\"display:none;\">\n",
              "        \n",
              "  <svg xmlns=\"http://www.w3.org/2000/svg\" height=\"24px\"viewBox=\"0 0 24 24\"\n",
              "       width=\"24px\">\n",
              "    <path d=\"M0 0h24v24H0V0z\" fill=\"none\"/>\n",
              "    <path d=\"M18.56 5.44l.94 2.06.94-2.06 2.06-.94-2.06-.94-.94-2.06-.94 2.06-2.06.94zm-11 1L8.5 8.5l.94-2.06 2.06-.94-2.06-.94L8.5 2.5l-.94 2.06-2.06.94zm10 10l.94 2.06.94-2.06 2.06-.94-2.06-.94-.94-2.06-.94 2.06-2.06.94z\"/><path d=\"M17.41 7.96l-1.37-1.37c-.4-.4-.92-.59-1.43-.59-.52 0-1.04.2-1.43.59L10.3 9.45l-7.72 7.72c-.78.78-.78 2.05 0 2.83L4 21.41c.39.39.9.59 1.41.59.51 0 1.02-.2 1.41-.59l7.78-7.78 2.81-2.81c.8-.78.8-2.07 0-2.86zM5.41 20L4 18.59l7.72-7.72 1.47 1.35L5.41 20z\"/>\n",
              "  </svg>\n",
              "      </button>\n",
              "      \n",
              "  <style>\n",
              "    .colab-df-container {\n",
              "      display:flex;\n",
              "      flex-wrap:wrap;\n",
              "      gap: 12px;\n",
              "    }\n",
              "\n",
              "    .colab-df-convert {\n",
              "      background-color: #E8F0FE;\n",
              "      border: none;\n",
              "      border-radius: 50%;\n",
              "      cursor: pointer;\n",
              "      display: none;\n",
              "      fill: #1967D2;\n",
              "      height: 32px;\n",
              "      padding: 0 0 0 0;\n",
              "      width: 32px;\n",
              "    }\n",
              "\n",
              "    .colab-df-convert:hover {\n",
              "      background-color: #E2EBFA;\n",
              "      box-shadow: 0px 1px 2px rgba(60, 64, 67, 0.3), 0px 1px 3px 1px rgba(60, 64, 67, 0.15);\n",
              "      fill: #174EA6;\n",
              "    }\n",
              "\n",
              "    [theme=dark] .colab-df-convert {\n",
              "      background-color: #3B4455;\n",
              "      fill: #D2E3FC;\n",
              "    }\n",
              "\n",
              "    [theme=dark] .colab-df-convert:hover {\n",
              "      background-color: #434B5C;\n",
              "      box-shadow: 0px 1px 3px 1px rgba(0, 0, 0, 0.15);\n",
              "      filter: drop-shadow(0px 1px 2px rgba(0, 0, 0, 0.3));\n",
              "      fill: #FFFFFF;\n",
              "    }\n",
              "  </style>\n",
              "\n",
              "      <script>\n",
              "        const buttonEl =\n",
              "          document.querySelector('#df-a4dbddeb-f109-4d29-a920-304ed046d6ca button.colab-df-convert');\n",
              "        buttonEl.style.display =\n",
              "          google.colab.kernel.accessAllowed ? 'block' : 'none';\n",
              "\n",
              "        async function convertToInteractive(key) {\n",
              "          const element = document.querySelector('#df-a4dbddeb-f109-4d29-a920-304ed046d6ca');\n",
              "          const dataTable =\n",
              "            await google.colab.kernel.invokeFunction('convertToInteractive',\n",
              "                                                     [key], {});\n",
              "          if (!dataTable) return;\n",
              "\n",
              "          const docLinkHtml = 'Like what you see? Visit the ' +\n",
              "            '<a target=\"_blank\" href=https://colab.research.google.com/notebooks/data_table.ipynb>data table notebook</a>'\n",
              "            + ' to learn more about interactive tables.';\n",
              "          element.innerHTML = '';\n",
              "          dataTable['output_type'] = 'display_data';\n",
              "          await google.colab.output.renderOutput(dataTable, element);\n",
              "          const docLink = document.createElement('div');\n",
              "          docLink.innerHTML = docLinkHtml;\n",
              "          element.appendChild(docLink);\n",
              "        }\n",
              "      </script>\n",
              "    </div>\n",
              "  </div>\n",
              "  "
            ]
          },
          "metadata": {},
          "execution_count": 23
        },
        {
          "output_type": "stream",
          "name": "stdout",
          "text": [
            "time: 28.8 ms (started: 2022-12-12 19:43:05 +00:00)\n"
          ]
        }
      ],
      "source": [
        "data[data['kategori']=='Valid'] = data[data['kategori']=='Valid'][1000:2118]\n",
        "data[data['kategori']=='Misleading Content/False Context/Manipulated Content'] = data[data['kategori']=='Misleading Content/False Context/Manipulated Content'][1000:2118]\n",
        "\n",
        "data = data.dropna()\n",
        "data.reset_index(drop=True, inplace=True)\n",
        "data.groupby(['kategori'])['words'].describe()"
      ]
    },
    {
      "cell_type": "code",
      "execution_count": null,
      "metadata": {
        "id": "2SUUY3GDXJa6",
        "colab": {
          "base_uri": "https://localhost:8080/"
        },
        "outputId": "e6196f15-7d88-4823-8c15-f4b416262f51"
      },
      "outputs": [
        {
          "output_type": "stream",
          "name": "stdout",
          "text": [
            "time: 85.9 ms (started: 2022-12-12 19:43:05 +00:00)\n"
          ]
        }
      ],
      "source": [
        "word_freq = data['narasi'].str.split(expand=True).stack().value_counts()\n",
        "word_freq = word_freq.reset_index(name='freq').rename(columns={'index': 'word'})"
      ]
    },
    {
      "cell_type": "code",
      "execution_count": null,
      "metadata": {
        "id": "3fMIhh63uAJE",
        "colab": {
          "base_uri": "https://localhost:8080/",
          "height": 381
        },
        "outputId": "56ad14db-e55b-4281-dde0-c48a59b2ea8d"
      },
      "outputs": [
        {
          "output_type": "execute_result",
          "data": {
            "text/plain": [
              "        word  freq\n",
              "0  indonesia   686\n",
              "1      orang   486\n",
              "2      tahun   366\n",
              "3     negara   319\n",
              "4      covid   316\n",
              "5       hari   296\n",
              "6    jakarta   293\n",
              "7   tersebut   290\n",
              "8      yosua   290\n",
              "9      video   256"
            ],
            "text/html": [
              "\n",
              "  <div id=\"df-2997be50-59e0-4f13-aff8-607c1706bc94\">\n",
              "    <div class=\"colab-df-container\">\n",
              "      <div>\n",
              "<style scoped>\n",
              "    .dataframe tbody tr th:only-of-type {\n",
              "        vertical-align: middle;\n",
              "    }\n",
              "\n",
              "    .dataframe tbody tr th {\n",
              "        vertical-align: top;\n",
              "    }\n",
              "\n",
              "    .dataframe thead th {\n",
              "        text-align: right;\n",
              "    }\n",
              "</style>\n",
              "<table border=\"1\" class=\"dataframe\">\n",
              "  <thead>\n",
              "    <tr style=\"text-align: right;\">\n",
              "      <th></th>\n",
              "      <th>word</th>\n",
              "      <th>freq</th>\n",
              "    </tr>\n",
              "  </thead>\n",
              "  <tbody>\n",
              "    <tr>\n",
              "      <th>0</th>\n",
              "      <td>indonesia</td>\n",
              "      <td>686</td>\n",
              "    </tr>\n",
              "    <tr>\n",
              "      <th>1</th>\n",
              "      <td>orang</td>\n",
              "      <td>486</td>\n",
              "    </tr>\n",
              "    <tr>\n",
              "      <th>2</th>\n",
              "      <td>tahun</td>\n",
              "      <td>366</td>\n",
              "    </tr>\n",
              "    <tr>\n",
              "      <th>3</th>\n",
              "      <td>negara</td>\n",
              "      <td>319</td>\n",
              "    </tr>\n",
              "    <tr>\n",
              "      <th>4</th>\n",
              "      <td>covid</td>\n",
              "      <td>316</td>\n",
              "    </tr>\n",
              "    <tr>\n",
              "      <th>5</th>\n",
              "      <td>hari</td>\n",
              "      <td>296</td>\n",
              "    </tr>\n",
              "    <tr>\n",
              "      <th>6</th>\n",
              "      <td>jakarta</td>\n",
              "      <td>293</td>\n",
              "    </tr>\n",
              "    <tr>\n",
              "      <th>7</th>\n",
              "      <td>tersebut</td>\n",
              "      <td>290</td>\n",
              "    </tr>\n",
              "    <tr>\n",
              "      <th>8</th>\n",
              "      <td>yosua</td>\n",
              "      <td>290</td>\n",
              "    </tr>\n",
              "    <tr>\n",
              "      <th>9</th>\n",
              "      <td>video</td>\n",
              "      <td>256</td>\n",
              "    </tr>\n",
              "  </tbody>\n",
              "</table>\n",
              "</div>\n",
              "      <button class=\"colab-df-convert\" onclick=\"convertToInteractive('df-2997be50-59e0-4f13-aff8-607c1706bc94')\"\n",
              "              title=\"Convert this dataframe to an interactive table.\"\n",
              "              style=\"display:none;\">\n",
              "        \n",
              "  <svg xmlns=\"http://www.w3.org/2000/svg\" height=\"24px\"viewBox=\"0 0 24 24\"\n",
              "       width=\"24px\">\n",
              "    <path d=\"M0 0h24v24H0V0z\" fill=\"none\"/>\n",
              "    <path d=\"M18.56 5.44l.94 2.06.94-2.06 2.06-.94-2.06-.94-.94-2.06-.94 2.06-2.06.94zm-11 1L8.5 8.5l.94-2.06 2.06-.94-2.06-.94L8.5 2.5l-.94 2.06-2.06.94zm10 10l.94 2.06.94-2.06 2.06-.94-2.06-.94-.94-2.06-.94 2.06-2.06.94z\"/><path d=\"M17.41 7.96l-1.37-1.37c-.4-.4-.92-.59-1.43-.59-.52 0-1.04.2-1.43.59L10.3 9.45l-7.72 7.72c-.78.78-.78 2.05 0 2.83L4 21.41c.39.39.9.59 1.41.59.51 0 1.02-.2 1.41-.59l7.78-7.78 2.81-2.81c.8-.78.8-2.07 0-2.86zM5.41 20L4 18.59l7.72-7.72 1.47 1.35L5.41 20z\"/>\n",
              "  </svg>\n",
              "      </button>\n",
              "      \n",
              "  <style>\n",
              "    .colab-df-container {\n",
              "      display:flex;\n",
              "      flex-wrap:wrap;\n",
              "      gap: 12px;\n",
              "    }\n",
              "\n",
              "    .colab-df-convert {\n",
              "      background-color: #E8F0FE;\n",
              "      border: none;\n",
              "      border-radius: 50%;\n",
              "      cursor: pointer;\n",
              "      display: none;\n",
              "      fill: #1967D2;\n",
              "      height: 32px;\n",
              "      padding: 0 0 0 0;\n",
              "      width: 32px;\n",
              "    }\n",
              "\n",
              "    .colab-df-convert:hover {\n",
              "      background-color: #E2EBFA;\n",
              "      box-shadow: 0px 1px 2px rgba(60, 64, 67, 0.3), 0px 1px 3px 1px rgba(60, 64, 67, 0.15);\n",
              "      fill: #174EA6;\n",
              "    }\n",
              "\n",
              "    [theme=dark] .colab-df-convert {\n",
              "      background-color: #3B4455;\n",
              "      fill: #D2E3FC;\n",
              "    }\n",
              "\n",
              "    [theme=dark] .colab-df-convert:hover {\n",
              "      background-color: #434B5C;\n",
              "      box-shadow: 0px 1px 3px 1px rgba(0, 0, 0, 0.15);\n",
              "      filter: drop-shadow(0px 1px 2px rgba(0, 0, 0, 0.3));\n",
              "      fill: #FFFFFF;\n",
              "    }\n",
              "  </style>\n",
              "\n",
              "      <script>\n",
              "        const buttonEl =\n",
              "          document.querySelector('#df-2997be50-59e0-4f13-aff8-607c1706bc94 button.colab-df-convert');\n",
              "        buttonEl.style.display =\n",
              "          google.colab.kernel.accessAllowed ? 'block' : 'none';\n",
              "\n",
              "        async function convertToInteractive(key) {\n",
              "          const element = document.querySelector('#df-2997be50-59e0-4f13-aff8-607c1706bc94');\n",
              "          const dataTable =\n",
              "            await google.colab.kernel.invokeFunction('convertToInteractive',\n",
              "                                                     [key], {});\n",
              "          if (!dataTable) return;\n",
              "\n",
              "          const docLinkHtml = 'Like what you see? Visit the ' +\n",
              "            '<a target=\"_blank\" href=https://colab.research.google.com/notebooks/data_table.ipynb>data table notebook</a>'\n",
              "            + ' to learn more about interactive tables.';\n",
              "          element.innerHTML = '';\n",
              "          dataTable['output_type'] = 'display_data';\n",
              "          await google.colab.output.renderOutput(dataTable, element);\n",
              "          const docLink = document.createElement('div');\n",
              "          docLink.innerHTML = docLinkHtml;\n",
              "          element.appendChild(docLink);\n",
              "        }\n",
              "      </script>\n",
              "    </div>\n",
              "  </div>\n",
              "  "
            ]
          },
          "metadata": {},
          "execution_count": 25
        },
        {
          "output_type": "stream",
          "name": "stdout",
          "text": [
            "time: 6.06 ms (started: 2022-12-12 19:43:05 +00:00)\n"
          ]
        }
      ],
      "source": [
        "word_freq.head(10)"
      ]
    },
    {
      "cell_type": "code",
      "execution_count": null,
      "metadata": {
        "id": "8JGMjafHWlvp",
        "colab": {
          "base_uri": "https://localhost:8080/"
        },
        "outputId": "be67de09-5587-4b19-cf5c-d85bf3393d93"
      },
      "outputs": [
        {
          "output_type": "stream",
          "name": "stdout",
          "text": [
            "Number of distinct words in raw data:  13513\n",
            "time: 3.38 ms (started: 2022-12-12 19:43:05 +00:00)\n"
          ]
        }
      ],
      "source": [
        "print(\"Number of distinct words in raw data: \", len(list(word_freq['word'])))"
      ]
    },
    {
      "cell_type": "code",
      "execution_count": null,
      "metadata": {
        "id": "d9Qme0pMXpQL",
        "colab": {
          "base_uri": "https://localhost:8080/"
        },
        "outputId": "0921b150-7b09-4a45-fa24-3e040acb2918"
      },
      "outputs": [
        {
          "output_type": "stream",
          "name": "stdout",
          "text": [
            "13513\n",
            "196\n",
            "time: 2.8 ms (started: 2022-12-12 19:43:05 +00:00)\n"
          ]
        }
      ],
      "source": [
        "max_words = len(list(word_freq['word']))\n",
        "# max_words = len(list(word_freq[word_freq['freq']>=2]['word']))\n",
        "max_len = int(data['words'].max())\n",
        "\n",
        "print(max_words)\n",
        "print(max_len)"
      ]
    },
    {
      "cell_type": "code",
      "execution_count": null,
      "metadata": {
        "id": "hwnhFQlSZXaQ",
        "colab": {
          "base_uri": "https://localhost:8080/"
        },
        "outputId": "5e7071e6-87c9-4803-9e5a-fc29c450da8b"
      },
      "outputs": [
        {
          "output_type": "stream",
          "name": "stdout",
          "text": [
            "time: 1.75 ms (started: 2022-12-12 19:43:05 +00:00)\n"
          ]
        }
      ],
      "source": [
        "data = data.sample(frac=1)"
      ]
    },
    {
      "cell_type": "code",
      "execution_count": null,
      "metadata": {
        "id": "RR2IrBv7Zryi",
        "colab": {
          "base_uri": "https://localhost:8080/"
        },
        "outputId": "9ffa9db3-d14e-42f5-f153-97da6d604d66"
      },
      "outputs": [
        {
          "output_type": "stream",
          "name": "stdout",
          "text": [
            "(3354, 3)\n",
            "['Fabricated Content/Imposter Content'\n",
            " 'Misleading Content/False Context/Manipulated Content' 'Valid']\n",
            "time: 5.89 ms (started: 2022-12-12 19:43:05 +00:00)\n"
          ]
        }
      ],
      "source": [
        "X, Y = list(data['narasi']), list(data['kategori'])\n",
        "\n",
        "encoder = LabelEncoder()\n",
        "Y = to_categorical(encoder.fit_transform(Y), dtype='uint8')\n",
        "\n",
        "print(Y.shape)\n",
        "print(encoder.classes_)"
      ]
    },
    {
      "cell_type": "code",
      "execution_count": null,
      "metadata": {
        "id": "dsI2pyMQRAjc",
        "colab": {
          "base_uri": "https://localhost:8080/"
        },
        "outputId": "051de3f7-6737-4083-cc70-bb9fe0cc2100"
      },
      "outputs": [
        {
          "output_type": "stream",
          "name": "stdout",
          "text": [
            "[2 2 2 ... 1 0 2]\n",
            "time: 1.11 ms (started: 2022-12-12 19:43:05 +00:00)\n"
          ]
        }
      ],
      "source": [
        "print(np.argmax(Y, axis=1))"
      ]
    },
    {
      "cell_type": "code",
      "execution_count": null,
      "metadata": {
        "id": "rt3dCohqH5Zb",
        "colab": {
          "base_uri": "https://localhost:8080/"
        },
        "outputId": "2819c887-0a66-41ba-8dab-e2eb9fd90ccf"
      },
      "outputs": [
        {
          "output_type": "stream",
          "name": "stdout",
          "text": [
            "time: 2.53 ms (started: 2022-12-12 19:43:05 +00:00)\n"
          ]
        }
      ],
      "source": [
        "def define_report(prediction, test):\n",
        "  y_pred_class = np.argmax(prediction, axis=1)\n",
        "  y_class = np.argmax(test, axis=1)\n",
        "  precision, recall, fscore, support = prfs(y_class, y_pred_class)\n",
        "  report = cr(y_class, y_pred_class, target_names = encoder.classes_)\n",
        "  return recall, report\n",
        "\n",
        "def define_confusion(prediction, test):\n",
        "  y_pred_class = np.argmax(prediction, axis=1)\n",
        "  y_class = np.argmax(test, axis=1)\n",
        "  con_mat = cm(labels=y_class, predictions=y_pred_class).numpy()\n",
        "  con_mat_norm = np.around(con_mat.astype('float') / con_mat.sum(axis=1)[:, np.newaxis], decimals=3)\n",
        "  con_mat_df = pd.DataFrame(con_mat_norm, index = encoder.classes_, columns = encoder.classes_)\n",
        "  figure = plt.figure(figsize=(13, 10))\n",
        "  sns.heatmap(con_mat_df, annot=True, fmt='.1%', cmap=plt.cm.Blues)\n",
        "  plt.tight_layout()\n",
        "  plt.ylabel('True label')\n",
        "  plt.xlabel('Predicted label')\n",
        "  plt.show()\n",
        "\n",
        "def define_plot(name, param):\n",
        "  plt.figure(figsize=(15, 7))\n",
        "  plt.title(name)\n",
        "  plt.plot(param.history[name], label='train')\n",
        "  plt.plot(param.history[f'val_{name}'], label='test')\n",
        "  plt.legend()\n",
        "  plt.show();"
      ]
    },
    {
      "cell_type": "markdown",
      "metadata": {
        "id": "SWvGpE2mGuOH"
      },
      "source": [
        "# **Embedding Static Fasttext**"
      ]
    },
    {
      "cell_type": "code",
      "source": [
        "emb_dim = 300\n",
        "def define_embed(vocabSize, wordId):\n",
        "  embedding_matrix = np.zeros((vocabSize, emb_dim))\n",
        "  oov_count = 0\n",
        "  oov_words = []\n",
        "  for word, idx in wordId.items():\n",
        "    if idx < vocabSize:\n",
        "      embedding_vector = embedding_vectors.get(word)\n",
        "      if embedding_vector is not None:\n",
        "        embedding_matrix[idx] = embedding_vector\n",
        "      else:\n",
        "        oov_count += 1 \n",
        "        oov_words.append(word)\n",
        "  return embedding_matrix"
      ],
      "metadata": {
        "id": "mOAK8GRxqNr-",
        "colab": {
          "base_uri": "https://localhost:8080/"
        },
        "outputId": "68ec27b7-a944-4500-f33b-bbd8b2135213"
      },
      "execution_count": null,
      "outputs": [
        {
          "output_type": "stream",
          "name": "stdout",
          "text": [
            "time: 872 µs (started: 2022-12-12 19:43:05 +00:00)\n"
          ]
        }
      ]
    },
    {
      "cell_type": "code",
      "execution_count": null,
      "metadata": {
        "id": "V-GCD9YWGtnK",
        "colab": {
          "base_uri": "https://localhost:8080/"
        },
        "outputId": "88e3a9a1-fce2-420f-dcfa-d918da83ed27"
      },
      "outputs": [
        {
          "output_type": "stream",
          "name": "stdout",
          "text": [
            "time: 1.44 ms (started: 2022-12-12 19:43:05 +00:00)\n"
          ]
        }
      ],
      "source": [
        "def define_model(kernel_size, activation, optimizer, input_dim, max_length, output_dim = 300, emb_matrix = None ):\n",
        "    \n",
        "    inp = Input( shape=(max_length,))\n",
        "    x = Embedding(input_dim=input_dim, output_dim=output_dim, input_length=max_length,\n",
        "                  # Assign the embedding weight with fasttext embedding matrix\n",
        "                  weights = [emb_matrix],\n",
        "                  # Set the weight to be trainable (dynamic)\n",
        "                  trainable = True\n",
        "                  )(inp)\n",
        "    x = SpatialDropout1D(0.1)(x)\n",
        "    \n",
        "    x = Bidirectional(TCN(64, kernel_size=kernel_size, dilations = [1, 2], return_sequences=True, activation = activation, name = 'tcn1'))(x)\n",
        "    \n",
        "    avg_pool = GlobalAveragePooling1D()(x)\n",
        "    max_pool = GlobalMaxPooling1D()(x)\n",
        "    \n",
        "    conc = concatenate([avg_pool, max_pool])\n",
        "    conc = Dropout(0.5)(conc)\n",
        "    outp = Dense(Y.shape[1], activation=\"softmax\")(conc)   \n",
        "\n",
        "    model = Model(inputs=inp, outputs=outp)\n",
        "    model.compile( loss = 'categorical_crossentropy', optimizer = optimizer, metrics = ['accuracy'])\n",
        "    \n",
        "    return model"
      ]
    },
    {
      "cell_type": "code",
      "execution_count": null,
      "metadata": {
        "id": "LPhRLUCXHbnb",
        "colab": {
          "base_uri": "https://localhost:8080/"
        },
        "outputId": "d250275f-3511-49e1-d353-35b9d9089ab9"
      },
      "outputs": [
        {
          "output_type": "stream",
          "name": "stdout",
          "text": [
            "Model: \"model\"\n",
            "__________________________________________________________________________________________________\n",
            " Layer (type)                   Output Shape         Param #     Connected to                     \n",
            "==================================================================================================\n",
            " input_1 (InputLayer)           [(None, 121)]        0           []                               \n",
            "                                                                                                  \n",
            " embedding (Embedding)          (None, 121, 300)     90000       ['input_1[0][0]']                \n",
            "                                                                                                  \n",
            " spatial_dropout1d (SpatialDrop  (None, 121, 300)    0           ['embedding[0][0]']              \n",
            " out1D)                                                                                           \n",
            "                                                                                                  \n",
            " bidirectional (Bidirectional)  (None, 121, 128)     227968      ['spatial_dropout1d[0][0]']      \n",
            "                                                                                                  \n",
            " global_average_pooling1d (Glob  (None, 128)         0           ['bidirectional[0][0]']          \n",
            " alAveragePooling1D)                                                                              \n",
            "                                                                                                  \n",
            " global_max_pooling1d (GlobalMa  (None, 128)         0           ['bidirectional[0][0]']          \n",
            " xPooling1D)                                                                                      \n",
            "                                                                                                  \n",
            " concatenate (Concatenate)      (None, 256)          0           ['global_average_pooling1d[0][0]'\n",
            "                                                                 , 'global_max_pooling1d[0][0]']  \n",
            "                                                                                                  \n",
            " dropout (Dropout)              (None, 256)          0           ['concatenate[0][0]']            \n",
            "                                                                                                  \n",
            " dense (Dense)                  (None, 3)            771         ['dropout[0][0]']                \n",
            "                                                                                                  \n",
            "==================================================================================================\n",
            "Total params: 318,739\n",
            "Trainable params: 318,739\n",
            "Non-trainable params: 0\n",
            "__________________________________________________________________________________________________\n",
            "time: 3 s (started: 2022-12-12 19:43:05 +00:00)\n"
          ]
        }
      ],
      "source": [
        "model0_random = define_model(3, 'relu', 'adam', 300, 121, emb_matrix = np.random.rand(300, 300))\n",
        "model0_random.summary()"
      ]
    },
    {
      "cell_type": "code",
      "execution_count": null,
      "metadata": {
        "id": "7sa-ersrJIWh",
        "colab": {
          "base_uri": "https://localhost:8080/"
        },
        "outputId": "0cda15b2-ddc4-408f-e8a8-b859b25b1613"
      },
      "outputs": [
        {
          "output_type": "stream",
          "name": "stdout",
          "text": [
            "time: 622 µs (started: 2022-12-12 19:43:08 +00:00)\n"
          ]
        }
      ],
      "source": [
        "callbacks = EarlyStopping(monitor='val_loss', min_delta=0, patience=4, verbose=2, mode='min', restore_best_weights=True)"
      ]
    },
    {
      "cell_type": "code",
      "execution_count": null,
      "metadata": {
        "id": "26yvgXgFIDme"
      },
      "outputs": [],
      "source": [
        "trunc_type='post'\n",
        "padding_type='post'\n",
        "oov_tok = \"<UNK>\"\n",
        "activations = ['tanh', 'relu', 'elu', 'selu', 'swish']\n",
        "optimizers = ['nadam']\n",
        "kernel_sizes = [2, 3, 4, 5, 6, 7, 8]\n",
        "\n",
        "columns = ['Optimizer', 'Activation', 'Filters', 'acc1', 'acc2', 'acc3', 'acc4', 'acc5', 'accAVG', 'loss1', 'loss2', 'loss3', 'loss4', 'loss5', 'lossAVG']\n",
        "record = pd.DataFrame(columns = columns)\n",
        "kfold = KFold(n_splits=5, shuffle=True)\n",
        "\n",
        "sentences, labels = X, Y\n",
        "\n",
        "clouds = []\n",
        "valid_selected = []\n",
        "false_selected = []\n",
        "imposter_selected = []\n",
        "models = []\n",
        "recalls = []\n",
        "reports = []\n",
        "metas = []\n",
        "exp = 0\n",
        "\n",
        "for optimizer in optimizers:\n",
        "  for activation in activations:\n",
        "    for kernel_size in kernel_sizes:\n",
        "      exp+=1\n",
        "      print('--------------------------------------------------------------')\n",
        "      print('Training {}: {} optimizer, {} activation, {} kernel size.'.format(exp, optimizer, activation, kernel_size))\n",
        "      print('--------------------------------------------------------------')\n",
        "      acc_list = []\n",
        "      loss_list = []\n",
        "      for train, test in kfold.split(sentences):\n",
        "\n",
        "        train_x, test_x = [], []\n",
        "        train_y, test_y = [], []\n",
        "        \n",
        "        for i in train:\n",
        "          train_x.append(sentences[i])\n",
        "          train_y.append(labels[i])\n",
        "        for i in test:\n",
        "          test_x.append(sentences[i])\n",
        "          test_y.append(labels[i])\n",
        "\n",
        "        train_valid = []\n",
        "        train_false = []\n",
        "        train_imposter = []\n",
        "        for i in range(len(train_y)):\n",
        "          label = list(encoder.inverse_transform([np.argmax(train_y[i])]))[0]\n",
        "          if label == 'Valid':\n",
        "            for j in train_x[i].split(): train_valid.append(j)\n",
        "          if label == 'Misleading Content/False Context/Manipulated Content':\n",
        "            for j in train_x[i].split(): train_false.append(j)\n",
        "          if label == 'Fabricated Content/Imposter Content':\n",
        "            for j in train_x[i].split(): train_imposter.append(j)\n",
        "        \n",
        "        valid_res = dict(Counter(train_valid))\n",
        "        false_res = dict(Counter(train_false))\n",
        "        imposter_res = dict(Counter(train_imposter))\n",
        "        \n",
        "        valid_selected.append({k: v for k, v in sorted(valid_res.items(), key=lambda item: item[1], reverse=True)})\n",
        "        false_selected.append({k: v for k, v in sorted(false_res.items(), key=lambda item: item[1], reverse=True)})\n",
        "        imposter_selected.append({k: v for k, v in sorted(imposter_res.items(), key=lambda item: item[1], reverse=True)})\n",
        "        \n",
        "        train_y = np.array(train_y)\n",
        "        test_y = np.array(test_y)\n",
        "\n",
        "        tokenizer = text.Tokenizer(num_words = max_words, oov_token=oov_tok)\n",
        "        tokenizer.fit_on_texts(train_x)\n",
        "        training_sequences = tokenizer.texts_to_sequences(train_x)\n",
        "        test_sequences = tokenizer.texts_to_sequences(test_x)\n",
        "        Xtrain = sequence.pad_sequences(training_sequences, maxlen=max_len, padding=padding_type, truncating=trunc_type)\n",
        "        Xtest = sequence.pad_sequences(test_sequences, maxlen=max_len, padding=padding_type, truncating=trunc_type)\n",
        "\n",
        "        wordIdx = tokenizer.word_index\n",
        "        clouds.append(wordIdx)\n",
        "        vocabSize = len(wordIdx)+1\n",
        "        embedding_matrix = define_embed(vocabSize, wordIdx)\n",
        "\n",
        "        model = define_model(kernel_size, activation, optimizer, input_dim=vocabSize, max_length=max_len, emb_matrix=embedding_matrix)\n",
        "        history = model.fit(Xtrain, train_y, batch_size=50, epochs=100, verbose=0, \n",
        "                  callbacks=[callbacks], validation_data=(Xtest, test_y))\n",
        "        \n",
        "        loss, acc = model.evaluate(Xtest, test_y, verbose=0)\n",
        "        print(f'Loss: {loss} - Accuracy: {acc}\\n')\n",
        "        result = model.predict(Xtest)\n",
        "        recall, report = define_report(result, test_y)\n",
        "        metas.append([Xtest, test_y, result, history])\n",
        "        reports.append(report)\n",
        "        recalls.append(recall)\n",
        "        acc_list.append(acc*100)\n",
        "        loss_list.append(loss)\n",
        "        models.append(model)\n",
        "          \n",
        "      mean_acc = np.array(acc_list).mean()\n",
        "      mean_loss = np.array(loss_list).mean()\n",
        "      parameters = [optimizer, activation, kernel_size]\n",
        "      entries = parameters + acc_list + [mean_acc] + loss_list + [mean_loss]\n",
        "      temp = pd.DataFrame([entries], columns=columns)\n",
        "      record = record.append(temp, ignore_index=True)\n",
        "      print('\\n')"
      ]
    },
    {
      "cell_type": "code",
      "execution_count": null,
      "metadata": {
        "id": "uupGVhSJbHU-",
        "colab": {
          "base_uri": "https://localhost:8080/",
          "height": 1000
        },
        "outputId": "a4ad9356-4890-4dd1-85b1-d7748684c636"
      },
      "outputs": [
        {
          "output_type": "execute_result",
          "data": {
            "text/plain": [
              "   Optimizer Activation Filters       acc1       acc2       acc3       acc4  \\\n",
              "0      nadam       tanh       2  84.798807  86.140090  85.692996  85.842025   \n",
              "1      nadam       tanh       3  87.481374  84.500748  86.587185  85.394931   \n",
              "2      nadam       tanh       4  83.457524  85.991061  85.543966  87.183309   \n",
              "3      nadam       tanh       5  85.245901  85.692996  84.500748  87.034279   \n",
              "4      nadam       tanh       6  86.140090  84.500748  87.183309  87.630403   \n",
              "5      nadam       tanh       7  85.991061  85.543966  86.587185  87.481374   \n",
              "6      nadam       tanh       8  85.245901  86.140090  85.692996  86.885244   \n",
              "7      nadam       relu       2  85.543966  85.245901  85.692996  81.967211   \n",
              "8      nadam       relu       3  82.116246  85.245901  86.885244  86.587185   \n",
              "9      nadam       relu       4  84.500748  87.630403  87.183309  85.991061   \n",
              "10     nadam       relu       5  84.202683  86.587185  87.779433  83.755589   \n",
              "11     nadam       relu       6  85.245901  87.332338  85.842025  85.543966   \n",
              "12     nadam       relu       7  85.692996  87.034279  85.991061  84.202683   \n",
              "13     nadam       relu       8  84.649777  87.034279  86.885244  88.226527   \n",
              "14     nadam        elu       2  86.885244  80.923992  85.245901  86.885244   \n",
              "15     nadam        elu       3  86.438149  83.457524  83.755589  82.861400   \n",
              "16     nadam        elu       4  80.178839  85.096872  84.351712  85.245901   \n",
              "17     nadam        elu       5  83.159465  85.096872  86.438149  85.245901   \n",
              "18     nadam        elu       6  86.140090  82.712370  84.649777  87.183309   \n",
              "19     nadam        elu       7  86.736214  83.904618  86.438149  84.947836   \n",
              "20     nadam        elu       8  86.885244  84.351712  86.289120  85.991061   \n",
              "21     nadam       selu       2  81.967211  84.649777  83.755589  87.183309   \n",
              "22     nadam       selu       3  85.245901  84.947836  85.096872  85.991061   \n",
              "23     nadam       selu       4  86.736214  84.947836  88.226527  81.967211   \n",
              "24     nadam       selu       5  85.394931  84.202683  82.563341  83.457524   \n",
              "25     nadam       selu       6  86.885244  85.692996  86.140090  85.692996   \n",
              "26     nadam       selu       7  87.034279  85.692996  85.692996  85.543966   \n",
              "27     nadam       selu       8  85.543966  83.457524  87.779433  81.520116   \n",
              "28     nadam      swish       2  87.034279  82.563341  83.308494  85.543966   \n",
              "29     nadam      swish       3  82.414305  85.245901  84.500748  85.543966   \n",
              "30     nadam      swish       4  86.140090  84.053653  84.798807  83.457524   \n",
              "31     nadam      swish       5  85.096872  84.351712  85.692996  82.116246   \n",
              "32     nadam      swish       6  84.798807  84.649777  87.779433  86.289120   \n",
              "33     nadam      swish       7  85.692996  85.245901  86.885244  87.332338   \n",
              "34     nadam      swish       8  84.649777  87.183309  86.289120  87.332338   \n",
              "\n",
              "         acc5     accAVG     loss1     loss2     loss3     loss4     loss5  \\\n",
              "0   85.671639  85.629112  0.388003  0.357124  0.392121  0.344320  0.385451   \n",
              "1   85.373133  85.867474  0.340510  0.359273  0.387517  0.365935  0.366817   \n",
              "2   82.686567  84.972485  0.383450  0.355372  0.376920  0.311792  0.416711   \n",
              "3   86.567163  85.808218  0.370279  0.355342  0.398820  0.313589  0.348160   \n",
              "4   84.626865  86.016283  0.326383  0.389696  0.337712  0.346499  0.370514   \n",
              "5   85.223883  86.165494  0.383520  0.357986  0.361917  0.323390  0.381173   \n",
              "6   85.820895  85.957025  0.350499  0.381042  0.393742  0.339132  0.358014   \n",
              "7   85.522389  84.794493  0.373904  0.388456  0.413536  0.409548  0.383076   \n",
              "8   81.641793  84.495274  0.432320  0.397595  0.333131  0.332023  0.441328   \n",
              "9   81.791043  85.419313  0.422490  0.325845  0.333950  0.344905  0.442493   \n",
              "10  86.268657  85.718709  0.371861  0.347880  0.309308  0.373731  0.358065   \n",
              "11  82.686567  85.330160  0.354445  0.342057  0.361938  0.404924  0.440151   \n",
              "12  84.776121  85.539428  0.348359  0.329098  0.339614  0.381724  0.383772   \n",
              "13  86.119401  86.583046  0.363549  0.337750  0.334320  0.356689  0.352610   \n",
              "14  83.432835  84.674643  0.361162  0.409959  0.382068  0.334689  0.407665   \n",
              "15  86.567163  84.615965  0.385612  0.402575  0.406117  0.466796  0.334746   \n",
              "16  85.671639  84.108993  0.430734  0.373745  0.393283  0.381830  0.344048   \n",
              "17  85.074627  85.003003  0.403926  0.350848  0.359339  0.407822  0.358205   \n",
              "18  84.925371  85.122184  0.363370  0.423640  0.403156  0.346516  0.416500   \n",
              "19  87.910450  85.987453  0.345862  0.387219  0.347690  0.350479  0.330095   \n",
              "20  85.820895  85.867606  0.312046  0.414221  0.365480  0.353751  0.360481   \n",
              "21  85.074627  84.526103  0.384588  0.394175  0.369039  0.339734  0.389545   \n",
              "22  87.611938  85.778722  0.378390  0.369122  0.399579  0.357917  0.311441   \n",
              "23  86.567163  85.688990  0.358427  0.394170  0.313167  0.466165  0.380713   \n",
              "24  87.611938  84.646083  0.383820  0.408012  0.379347  0.426104  0.328501   \n",
              "25  82.835823  85.449430  0.364511  0.395376  0.348245  0.356582  0.416413   \n",
              "26  86.865669  86.165981  0.348106  0.391624  0.344602  0.362299  0.311409   \n",
              "27  86.268657  84.913939  0.394373  0.365606  0.344262  0.418271  0.330695   \n",
              "28  84.626865  84.615389  0.392956  0.422584  0.419920  0.381355  0.404066   \n",
              "29  83.582091  84.257402  0.493964  0.374439  0.373404  0.391970  0.396182   \n",
              "30  84.925371  84.675089  0.344782  0.387598  0.390546  0.435526  0.360617   \n",
              "31  85.671639  84.585893  0.415942  0.395645  0.327932  0.390424  0.384543   \n",
              "32  84.477609  85.598949  0.390813  0.379396  0.338292  0.350459  0.381147   \n",
              "33  85.671639  86.165624  0.354858  0.375977  0.378439  0.346434  0.379991   \n",
              "34  88.358212  86.762551  0.375542  0.351594  0.398901  0.332097  0.311548   \n",
              "\n",
              "     lossAVG  \n",
              "0   0.373404  \n",
              "1   0.364011  \n",
              "2   0.368849  \n",
              "3   0.357238  \n",
              "4   0.354161  \n",
              "5   0.361597  \n",
              "6   0.364486  \n",
              "7   0.393704  \n",
              "8   0.387280  \n",
              "9   0.373936  \n",
              "10  0.352169  \n",
              "11  0.380703  \n",
              "12  0.356513  \n",
              "13  0.348983  \n",
              "14  0.379109  \n",
              "15  0.399169  \n",
              "16  0.384728  \n",
              "17  0.376028  \n",
              "18  0.390636  \n",
              "19  0.352269  \n",
              "20  0.361196  \n",
              "21  0.375416  \n",
              "22  0.363290  \n",
              "23  0.382528  \n",
              "24  0.385157  \n",
              "25  0.376225  \n",
              "26  0.351608  \n",
              "27  0.370641  \n",
              "28  0.404176  \n",
              "29  0.405992  \n",
              "30  0.383814  \n",
              "31  0.382897  \n",
              "32  0.368021  \n",
              "33  0.367140  \n",
              "34  0.353936  "
            ],
            "text/html": [
              "\n",
              "  <div id=\"df-e3855690-a330-4733-98f1-e1563cfcfd57\">\n",
              "    <div class=\"colab-df-container\">\n",
              "      <div>\n",
              "<style scoped>\n",
              "    .dataframe tbody tr th:only-of-type {\n",
              "        vertical-align: middle;\n",
              "    }\n",
              "\n",
              "    .dataframe tbody tr th {\n",
              "        vertical-align: top;\n",
              "    }\n",
              "\n",
              "    .dataframe thead th {\n",
              "        text-align: right;\n",
              "    }\n",
              "</style>\n",
              "<table border=\"1\" class=\"dataframe\">\n",
              "  <thead>\n",
              "    <tr style=\"text-align: right;\">\n",
              "      <th></th>\n",
              "      <th>Optimizer</th>\n",
              "      <th>Activation</th>\n",
              "      <th>Filters</th>\n",
              "      <th>acc1</th>\n",
              "      <th>acc2</th>\n",
              "      <th>acc3</th>\n",
              "      <th>acc4</th>\n",
              "      <th>acc5</th>\n",
              "      <th>accAVG</th>\n",
              "      <th>loss1</th>\n",
              "      <th>loss2</th>\n",
              "      <th>loss3</th>\n",
              "      <th>loss4</th>\n",
              "      <th>loss5</th>\n",
              "      <th>lossAVG</th>\n",
              "    </tr>\n",
              "  </thead>\n",
              "  <tbody>\n",
              "    <tr>\n",
              "      <th>0</th>\n",
              "      <td>nadam</td>\n",
              "      <td>tanh</td>\n",
              "      <td>2</td>\n",
              "      <td>84.798807</td>\n",
              "      <td>86.140090</td>\n",
              "      <td>85.692996</td>\n",
              "      <td>85.842025</td>\n",
              "      <td>85.671639</td>\n",
              "      <td>85.629112</td>\n",
              "      <td>0.388003</td>\n",
              "      <td>0.357124</td>\n",
              "      <td>0.392121</td>\n",
              "      <td>0.344320</td>\n",
              "      <td>0.385451</td>\n",
              "      <td>0.373404</td>\n",
              "    </tr>\n",
              "    <tr>\n",
              "      <th>1</th>\n",
              "      <td>nadam</td>\n",
              "      <td>tanh</td>\n",
              "      <td>3</td>\n",
              "      <td>87.481374</td>\n",
              "      <td>84.500748</td>\n",
              "      <td>86.587185</td>\n",
              "      <td>85.394931</td>\n",
              "      <td>85.373133</td>\n",
              "      <td>85.867474</td>\n",
              "      <td>0.340510</td>\n",
              "      <td>0.359273</td>\n",
              "      <td>0.387517</td>\n",
              "      <td>0.365935</td>\n",
              "      <td>0.366817</td>\n",
              "      <td>0.364011</td>\n",
              "    </tr>\n",
              "    <tr>\n",
              "      <th>2</th>\n",
              "      <td>nadam</td>\n",
              "      <td>tanh</td>\n",
              "      <td>4</td>\n",
              "      <td>83.457524</td>\n",
              "      <td>85.991061</td>\n",
              "      <td>85.543966</td>\n",
              "      <td>87.183309</td>\n",
              "      <td>82.686567</td>\n",
              "      <td>84.972485</td>\n",
              "      <td>0.383450</td>\n",
              "      <td>0.355372</td>\n",
              "      <td>0.376920</td>\n",
              "      <td>0.311792</td>\n",
              "      <td>0.416711</td>\n",
              "      <td>0.368849</td>\n",
              "    </tr>\n",
              "    <tr>\n",
              "      <th>3</th>\n",
              "      <td>nadam</td>\n",
              "      <td>tanh</td>\n",
              "      <td>5</td>\n",
              "      <td>85.245901</td>\n",
              "      <td>85.692996</td>\n",
              "      <td>84.500748</td>\n",
              "      <td>87.034279</td>\n",
              "      <td>86.567163</td>\n",
              "      <td>85.808218</td>\n",
              "      <td>0.370279</td>\n",
              "      <td>0.355342</td>\n",
              "      <td>0.398820</td>\n",
              "      <td>0.313589</td>\n",
              "      <td>0.348160</td>\n",
              "      <td>0.357238</td>\n",
              "    </tr>\n",
              "    <tr>\n",
              "      <th>4</th>\n",
              "      <td>nadam</td>\n",
              "      <td>tanh</td>\n",
              "      <td>6</td>\n",
              "      <td>86.140090</td>\n",
              "      <td>84.500748</td>\n",
              "      <td>87.183309</td>\n",
              "      <td>87.630403</td>\n",
              "      <td>84.626865</td>\n",
              "      <td>86.016283</td>\n",
              "      <td>0.326383</td>\n",
              "      <td>0.389696</td>\n",
              "      <td>0.337712</td>\n",
              "      <td>0.346499</td>\n",
              "      <td>0.370514</td>\n",
              "      <td>0.354161</td>\n",
              "    </tr>\n",
              "    <tr>\n",
              "      <th>5</th>\n",
              "      <td>nadam</td>\n",
              "      <td>tanh</td>\n",
              "      <td>7</td>\n",
              "      <td>85.991061</td>\n",
              "      <td>85.543966</td>\n",
              "      <td>86.587185</td>\n",
              "      <td>87.481374</td>\n",
              "      <td>85.223883</td>\n",
              "      <td>86.165494</td>\n",
              "      <td>0.383520</td>\n",
              "      <td>0.357986</td>\n",
              "      <td>0.361917</td>\n",
              "      <td>0.323390</td>\n",
              "      <td>0.381173</td>\n",
              "      <td>0.361597</td>\n",
              "    </tr>\n",
              "    <tr>\n",
              "      <th>6</th>\n",
              "      <td>nadam</td>\n",
              "      <td>tanh</td>\n",
              "      <td>8</td>\n",
              "      <td>85.245901</td>\n",
              "      <td>86.140090</td>\n",
              "      <td>85.692996</td>\n",
              "      <td>86.885244</td>\n",
              "      <td>85.820895</td>\n",
              "      <td>85.957025</td>\n",
              "      <td>0.350499</td>\n",
              "      <td>0.381042</td>\n",
              "      <td>0.393742</td>\n",
              "      <td>0.339132</td>\n",
              "      <td>0.358014</td>\n",
              "      <td>0.364486</td>\n",
              "    </tr>\n",
              "    <tr>\n",
              "      <th>7</th>\n",
              "      <td>nadam</td>\n",
              "      <td>relu</td>\n",
              "      <td>2</td>\n",
              "      <td>85.543966</td>\n",
              "      <td>85.245901</td>\n",
              "      <td>85.692996</td>\n",
              "      <td>81.967211</td>\n",
              "      <td>85.522389</td>\n",
              "      <td>84.794493</td>\n",
              "      <td>0.373904</td>\n",
              "      <td>0.388456</td>\n",
              "      <td>0.413536</td>\n",
              "      <td>0.409548</td>\n",
              "      <td>0.383076</td>\n",
              "      <td>0.393704</td>\n",
              "    </tr>\n",
              "    <tr>\n",
              "      <th>8</th>\n",
              "      <td>nadam</td>\n",
              "      <td>relu</td>\n",
              "      <td>3</td>\n",
              "      <td>82.116246</td>\n",
              "      <td>85.245901</td>\n",
              "      <td>86.885244</td>\n",
              "      <td>86.587185</td>\n",
              "      <td>81.641793</td>\n",
              "      <td>84.495274</td>\n",
              "      <td>0.432320</td>\n",
              "      <td>0.397595</td>\n",
              "      <td>0.333131</td>\n",
              "      <td>0.332023</td>\n",
              "      <td>0.441328</td>\n",
              "      <td>0.387280</td>\n",
              "    </tr>\n",
              "    <tr>\n",
              "      <th>9</th>\n",
              "      <td>nadam</td>\n",
              "      <td>relu</td>\n",
              "      <td>4</td>\n",
              "      <td>84.500748</td>\n",
              "      <td>87.630403</td>\n",
              "      <td>87.183309</td>\n",
              "      <td>85.991061</td>\n",
              "      <td>81.791043</td>\n",
              "      <td>85.419313</td>\n",
              "      <td>0.422490</td>\n",
              "      <td>0.325845</td>\n",
              "      <td>0.333950</td>\n",
              "      <td>0.344905</td>\n",
              "      <td>0.442493</td>\n",
              "      <td>0.373936</td>\n",
              "    </tr>\n",
              "    <tr>\n",
              "      <th>10</th>\n",
              "      <td>nadam</td>\n",
              "      <td>relu</td>\n",
              "      <td>5</td>\n",
              "      <td>84.202683</td>\n",
              "      <td>86.587185</td>\n",
              "      <td>87.779433</td>\n",
              "      <td>83.755589</td>\n",
              "      <td>86.268657</td>\n",
              "      <td>85.718709</td>\n",
              "      <td>0.371861</td>\n",
              "      <td>0.347880</td>\n",
              "      <td>0.309308</td>\n",
              "      <td>0.373731</td>\n",
              "      <td>0.358065</td>\n",
              "      <td>0.352169</td>\n",
              "    </tr>\n",
              "    <tr>\n",
              "      <th>11</th>\n",
              "      <td>nadam</td>\n",
              "      <td>relu</td>\n",
              "      <td>6</td>\n",
              "      <td>85.245901</td>\n",
              "      <td>87.332338</td>\n",
              "      <td>85.842025</td>\n",
              "      <td>85.543966</td>\n",
              "      <td>82.686567</td>\n",
              "      <td>85.330160</td>\n",
              "      <td>0.354445</td>\n",
              "      <td>0.342057</td>\n",
              "      <td>0.361938</td>\n",
              "      <td>0.404924</td>\n",
              "      <td>0.440151</td>\n",
              "      <td>0.380703</td>\n",
              "    </tr>\n",
              "    <tr>\n",
              "      <th>12</th>\n",
              "      <td>nadam</td>\n",
              "      <td>relu</td>\n",
              "      <td>7</td>\n",
              "      <td>85.692996</td>\n",
              "      <td>87.034279</td>\n",
              "      <td>85.991061</td>\n",
              "      <td>84.202683</td>\n",
              "      <td>84.776121</td>\n",
              "      <td>85.539428</td>\n",
              "      <td>0.348359</td>\n",
              "      <td>0.329098</td>\n",
              "      <td>0.339614</td>\n",
              "      <td>0.381724</td>\n",
              "      <td>0.383772</td>\n",
              "      <td>0.356513</td>\n",
              "    </tr>\n",
              "    <tr>\n",
              "      <th>13</th>\n",
              "      <td>nadam</td>\n",
              "      <td>relu</td>\n",
              "      <td>8</td>\n",
              "      <td>84.649777</td>\n",
              "      <td>87.034279</td>\n",
              "      <td>86.885244</td>\n",
              "      <td>88.226527</td>\n",
              "      <td>86.119401</td>\n",
              "      <td>86.583046</td>\n",
              "      <td>0.363549</td>\n",
              "      <td>0.337750</td>\n",
              "      <td>0.334320</td>\n",
              "      <td>0.356689</td>\n",
              "      <td>0.352610</td>\n",
              "      <td>0.348983</td>\n",
              "    </tr>\n",
              "    <tr>\n",
              "      <th>14</th>\n",
              "      <td>nadam</td>\n",
              "      <td>elu</td>\n",
              "      <td>2</td>\n",
              "      <td>86.885244</td>\n",
              "      <td>80.923992</td>\n",
              "      <td>85.245901</td>\n",
              "      <td>86.885244</td>\n",
              "      <td>83.432835</td>\n",
              "      <td>84.674643</td>\n",
              "      <td>0.361162</td>\n",
              "      <td>0.409959</td>\n",
              "      <td>0.382068</td>\n",
              "      <td>0.334689</td>\n",
              "      <td>0.407665</td>\n",
              "      <td>0.379109</td>\n",
              "    </tr>\n",
              "    <tr>\n",
              "      <th>15</th>\n",
              "      <td>nadam</td>\n",
              "      <td>elu</td>\n",
              "      <td>3</td>\n",
              "      <td>86.438149</td>\n",
              "      <td>83.457524</td>\n",
              "      <td>83.755589</td>\n",
              "      <td>82.861400</td>\n",
              "      <td>86.567163</td>\n",
              "      <td>84.615965</td>\n",
              "      <td>0.385612</td>\n",
              "      <td>0.402575</td>\n",
              "      <td>0.406117</td>\n",
              "      <td>0.466796</td>\n",
              "      <td>0.334746</td>\n",
              "      <td>0.399169</td>\n",
              "    </tr>\n",
              "    <tr>\n",
              "      <th>16</th>\n",
              "      <td>nadam</td>\n",
              "      <td>elu</td>\n",
              "      <td>4</td>\n",
              "      <td>80.178839</td>\n",
              "      <td>85.096872</td>\n",
              "      <td>84.351712</td>\n",
              "      <td>85.245901</td>\n",
              "      <td>85.671639</td>\n",
              "      <td>84.108993</td>\n",
              "      <td>0.430734</td>\n",
              "      <td>0.373745</td>\n",
              "      <td>0.393283</td>\n",
              "      <td>0.381830</td>\n",
              "      <td>0.344048</td>\n",
              "      <td>0.384728</td>\n",
              "    </tr>\n",
              "    <tr>\n",
              "      <th>17</th>\n",
              "      <td>nadam</td>\n",
              "      <td>elu</td>\n",
              "      <td>5</td>\n",
              "      <td>83.159465</td>\n",
              "      <td>85.096872</td>\n",
              "      <td>86.438149</td>\n",
              "      <td>85.245901</td>\n",
              "      <td>85.074627</td>\n",
              "      <td>85.003003</td>\n",
              "      <td>0.403926</td>\n",
              "      <td>0.350848</td>\n",
              "      <td>0.359339</td>\n",
              "      <td>0.407822</td>\n",
              "      <td>0.358205</td>\n",
              "      <td>0.376028</td>\n",
              "    </tr>\n",
              "    <tr>\n",
              "      <th>18</th>\n",
              "      <td>nadam</td>\n",
              "      <td>elu</td>\n",
              "      <td>6</td>\n",
              "      <td>86.140090</td>\n",
              "      <td>82.712370</td>\n",
              "      <td>84.649777</td>\n",
              "      <td>87.183309</td>\n",
              "      <td>84.925371</td>\n",
              "      <td>85.122184</td>\n",
              "      <td>0.363370</td>\n",
              "      <td>0.423640</td>\n",
              "      <td>0.403156</td>\n",
              "      <td>0.346516</td>\n",
              "      <td>0.416500</td>\n",
              "      <td>0.390636</td>\n",
              "    </tr>\n",
              "    <tr>\n",
              "      <th>19</th>\n",
              "      <td>nadam</td>\n",
              "      <td>elu</td>\n",
              "      <td>7</td>\n",
              "      <td>86.736214</td>\n",
              "      <td>83.904618</td>\n",
              "      <td>86.438149</td>\n",
              "      <td>84.947836</td>\n",
              "      <td>87.910450</td>\n",
              "      <td>85.987453</td>\n",
              "      <td>0.345862</td>\n",
              "      <td>0.387219</td>\n",
              "      <td>0.347690</td>\n",
              "      <td>0.350479</td>\n",
              "      <td>0.330095</td>\n",
              "      <td>0.352269</td>\n",
              "    </tr>\n",
              "    <tr>\n",
              "      <th>20</th>\n",
              "      <td>nadam</td>\n",
              "      <td>elu</td>\n",
              "      <td>8</td>\n",
              "      <td>86.885244</td>\n",
              "      <td>84.351712</td>\n",
              "      <td>86.289120</td>\n",
              "      <td>85.991061</td>\n",
              "      <td>85.820895</td>\n",
              "      <td>85.867606</td>\n",
              "      <td>0.312046</td>\n",
              "      <td>0.414221</td>\n",
              "      <td>0.365480</td>\n",
              "      <td>0.353751</td>\n",
              "      <td>0.360481</td>\n",
              "      <td>0.361196</td>\n",
              "    </tr>\n",
              "    <tr>\n",
              "      <th>21</th>\n",
              "      <td>nadam</td>\n",
              "      <td>selu</td>\n",
              "      <td>2</td>\n",
              "      <td>81.967211</td>\n",
              "      <td>84.649777</td>\n",
              "      <td>83.755589</td>\n",
              "      <td>87.183309</td>\n",
              "      <td>85.074627</td>\n",
              "      <td>84.526103</td>\n",
              "      <td>0.384588</td>\n",
              "      <td>0.394175</td>\n",
              "      <td>0.369039</td>\n",
              "      <td>0.339734</td>\n",
              "      <td>0.389545</td>\n",
              "      <td>0.375416</td>\n",
              "    </tr>\n",
              "    <tr>\n",
              "      <th>22</th>\n",
              "      <td>nadam</td>\n",
              "      <td>selu</td>\n",
              "      <td>3</td>\n",
              "      <td>85.245901</td>\n",
              "      <td>84.947836</td>\n",
              "      <td>85.096872</td>\n",
              "      <td>85.991061</td>\n",
              "      <td>87.611938</td>\n",
              "      <td>85.778722</td>\n",
              "      <td>0.378390</td>\n",
              "      <td>0.369122</td>\n",
              "      <td>0.399579</td>\n",
              "      <td>0.357917</td>\n",
              "      <td>0.311441</td>\n",
              "      <td>0.363290</td>\n",
              "    </tr>\n",
              "    <tr>\n",
              "      <th>23</th>\n",
              "      <td>nadam</td>\n",
              "      <td>selu</td>\n",
              "      <td>4</td>\n",
              "      <td>86.736214</td>\n",
              "      <td>84.947836</td>\n",
              "      <td>88.226527</td>\n",
              "      <td>81.967211</td>\n",
              "      <td>86.567163</td>\n",
              "      <td>85.688990</td>\n",
              "      <td>0.358427</td>\n",
              "      <td>0.394170</td>\n",
              "      <td>0.313167</td>\n",
              "      <td>0.466165</td>\n",
              "      <td>0.380713</td>\n",
              "      <td>0.382528</td>\n",
              "    </tr>\n",
              "    <tr>\n",
              "      <th>24</th>\n",
              "      <td>nadam</td>\n",
              "      <td>selu</td>\n",
              "      <td>5</td>\n",
              "      <td>85.394931</td>\n",
              "      <td>84.202683</td>\n",
              "      <td>82.563341</td>\n",
              "      <td>83.457524</td>\n",
              "      <td>87.611938</td>\n",
              "      <td>84.646083</td>\n",
              "      <td>0.383820</td>\n",
              "      <td>0.408012</td>\n",
              "      <td>0.379347</td>\n",
              "      <td>0.426104</td>\n",
              "      <td>0.328501</td>\n",
              "      <td>0.385157</td>\n",
              "    </tr>\n",
              "    <tr>\n",
              "      <th>25</th>\n",
              "      <td>nadam</td>\n",
              "      <td>selu</td>\n",
              "      <td>6</td>\n",
              "      <td>86.885244</td>\n",
              "      <td>85.692996</td>\n",
              "      <td>86.140090</td>\n",
              "      <td>85.692996</td>\n",
              "      <td>82.835823</td>\n",
              "      <td>85.449430</td>\n",
              "      <td>0.364511</td>\n",
              "      <td>0.395376</td>\n",
              "      <td>0.348245</td>\n",
              "      <td>0.356582</td>\n",
              "      <td>0.416413</td>\n",
              "      <td>0.376225</td>\n",
              "    </tr>\n",
              "    <tr>\n",
              "      <th>26</th>\n",
              "      <td>nadam</td>\n",
              "      <td>selu</td>\n",
              "      <td>7</td>\n",
              "      <td>87.034279</td>\n",
              "      <td>85.692996</td>\n",
              "      <td>85.692996</td>\n",
              "      <td>85.543966</td>\n",
              "      <td>86.865669</td>\n",
              "      <td>86.165981</td>\n",
              "      <td>0.348106</td>\n",
              "      <td>0.391624</td>\n",
              "      <td>0.344602</td>\n",
              "      <td>0.362299</td>\n",
              "      <td>0.311409</td>\n",
              "      <td>0.351608</td>\n",
              "    </tr>\n",
              "    <tr>\n",
              "      <th>27</th>\n",
              "      <td>nadam</td>\n",
              "      <td>selu</td>\n",
              "      <td>8</td>\n",
              "      <td>85.543966</td>\n",
              "      <td>83.457524</td>\n",
              "      <td>87.779433</td>\n",
              "      <td>81.520116</td>\n",
              "      <td>86.268657</td>\n",
              "      <td>84.913939</td>\n",
              "      <td>0.394373</td>\n",
              "      <td>0.365606</td>\n",
              "      <td>0.344262</td>\n",
              "      <td>0.418271</td>\n",
              "      <td>0.330695</td>\n",
              "      <td>0.370641</td>\n",
              "    </tr>\n",
              "    <tr>\n",
              "      <th>28</th>\n",
              "      <td>nadam</td>\n",
              "      <td>swish</td>\n",
              "      <td>2</td>\n",
              "      <td>87.034279</td>\n",
              "      <td>82.563341</td>\n",
              "      <td>83.308494</td>\n",
              "      <td>85.543966</td>\n",
              "      <td>84.626865</td>\n",
              "      <td>84.615389</td>\n",
              "      <td>0.392956</td>\n",
              "      <td>0.422584</td>\n",
              "      <td>0.419920</td>\n",
              "      <td>0.381355</td>\n",
              "      <td>0.404066</td>\n",
              "      <td>0.404176</td>\n",
              "    </tr>\n",
              "    <tr>\n",
              "      <th>29</th>\n",
              "      <td>nadam</td>\n",
              "      <td>swish</td>\n",
              "      <td>3</td>\n",
              "      <td>82.414305</td>\n",
              "      <td>85.245901</td>\n",
              "      <td>84.500748</td>\n",
              "      <td>85.543966</td>\n",
              "      <td>83.582091</td>\n",
              "      <td>84.257402</td>\n",
              "      <td>0.493964</td>\n",
              "      <td>0.374439</td>\n",
              "      <td>0.373404</td>\n",
              "      <td>0.391970</td>\n",
              "      <td>0.396182</td>\n",
              "      <td>0.405992</td>\n",
              "    </tr>\n",
              "    <tr>\n",
              "      <th>30</th>\n",
              "      <td>nadam</td>\n",
              "      <td>swish</td>\n",
              "      <td>4</td>\n",
              "      <td>86.140090</td>\n",
              "      <td>84.053653</td>\n",
              "      <td>84.798807</td>\n",
              "      <td>83.457524</td>\n",
              "      <td>84.925371</td>\n",
              "      <td>84.675089</td>\n",
              "      <td>0.344782</td>\n",
              "      <td>0.387598</td>\n",
              "      <td>0.390546</td>\n",
              "      <td>0.435526</td>\n",
              "      <td>0.360617</td>\n",
              "      <td>0.383814</td>\n",
              "    </tr>\n",
              "    <tr>\n",
              "      <th>31</th>\n",
              "      <td>nadam</td>\n",
              "      <td>swish</td>\n",
              "      <td>5</td>\n",
              "      <td>85.096872</td>\n",
              "      <td>84.351712</td>\n",
              "      <td>85.692996</td>\n",
              "      <td>82.116246</td>\n",
              "      <td>85.671639</td>\n",
              "      <td>84.585893</td>\n",
              "      <td>0.415942</td>\n",
              "      <td>0.395645</td>\n",
              "      <td>0.327932</td>\n",
              "      <td>0.390424</td>\n",
              "      <td>0.384543</td>\n",
              "      <td>0.382897</td>\n",
              "    </tr>\n",
              "    <tr>\n",
              "      <th>32</th>\n",
              "      <td>nadam</td>\n",
              "      <td>swish</td>\n",
              "      <td>6</td>\n",
              "      <td>84.798807</td>\n",
              "      <td>84.649777</td>\n",
              "      <td>87.779433</td>\n",
              "      <td>86.289120</td>\n",
              "      <td>84.477609</td>\n",
              "      <td>85.598949</td>\n",
              "      <td>0.390813</td>\n",
              "      <td>0.379396</td>\n",
              "      <td>0.338292</td>\n",
              "      <td>0.350459</td>\n",
              "      <td>0.381147</td>\n",
              "      <td>0.368021</td>\n",
              "    </tr>\n",
              "    <tr>\n",
              "      <th>33</th>\n",
              "      <td>nadam</td>\n",
              "      <td>swish</td>\n",
              "      <td>7</td>\n",
              "      <td>85.692996</td>\n",
              "      <td>85.245901</td>\n",
              "      <td>86.885244</td>\n",
              "      <td>87.332338</td>\n",
              "      <td>85.671639</td>\n",
              "      <td>86.165624</td>\n",
              "      <td>0.354858</td>\n",
              "      <td>0.375977</td>\n",
              "      <td>0.378439</td>\n",
              "      <td>0.346434</td>\n",
              "      <td>0.379991</td>\n",
              "      <td>0.367140</td>\n",
              "    </tr>\n",
              "    <tr>\n",
              "      <th>34</th>\n",
              "      <td>nadam</td>\n",
              "      <td>swish</td>\n",
              "      <td>8</td>\n",
              "      <td>84.649777</td>\n",
              "      <td>87.183309</td>\n",
              "      <td>86.289120</td>\n",
              "      <td>87.332338</td>\n",
              "      <td>88.358212</td>\n",
              "      <td>86.762551</td>\n",
              "      <td>0.375542</td>\n",
              "      <td>0.351594</td>\n",
              "      <td>0.398901</td>\n",
              "      <td>0.332097</td>\n",
              "      <td>0.311548</td>\n",
              "      <td>0.353936</td>\n",
              "    </tr>\n",
              "  </tbody>\n",
              "</table>\n",
              "</div>\n",
              "      <button class=\"colab-df-convert\" onclick=\"convertToInteractive('df-e3855690-a330-4733-98f1-e1563cfcfd57')\"\n",
              "              title=\"Convert this dataframe to an interactive table.\"\n",
              "              style=\"display:none;\">\n",
              "        \n",
              "  <svg xmlns=\"http://www.w3.org/2000/svg\" height=\"24px\"viewBox=\"0 0 24 24\"\n",
              "       width=\"24px\">\n",
              "    <path d=\"M0 0h24v24H0V0z\" fill=\"none\"/>\n",
              "    <path d=\"M18.56 5.44l.94 2.06.94-2.06 2.06-.94-2.06-.94-.94-2.06-.94 2.06-2.06.94zm-11 1L8.5 8.5l.94-2.06 2.06-.94-2.06-.94L8.5 2.5l-.94 2.06-2.06.94zm10 10l.94 2.06.94-2.06 2.06-.94-2.06-.94-.94-2.06-.94 2.06-2.06.94z\"/><path d=\"M17.41 7.96l-1.37-1.37c-.4-.4-.92-.59-1.43-.59-.52 0-1.04.2-1.43.59L10.3 9.45l-7.72 7.72c-.78.78-.78 2.05 0 2.83L4 21.41c.39.39.9.59 1.41.59.51 0 1.02-.2 1.41-.59l7.78-7.78 2.81-2.81c.8-.78.8-2.07 0-2.86zM5.41 20L4 18.59l7.72-7.72 1.47 1.35L5.41 20z\"/>\n",
              "  </svg>\n",
              "      </button>\n",
              "      \n",
              "  <style>\n",
              "    .colab-df-container {\n",
              "      display:flex;\n",
              "      flex-wrap:wrap;\n",
              "      gap: 12px;\n",
              "    }\n",
              "\n",
              "    .colab-df-convert {\n",
              "      background-color: #E8F0FE;\n",
              "      border: none;\n",
              "      border-radius: 50%;\n",
              "      cursor: pointer;\n",
              "      display: none;\n",
              "      fill: #1967D2;\n",
              "      height: 32px;\n",
              "      padding: 0 0 0 0;\n",
              "      width: 32px;\n",
              "    }\n",
              "\n",
              "    .colab-df-convert:hover {\n",
              "      background-color: #E2EBFA;\n",
              "      box-shadow: 0px 1px 2px rgba(60, 64, 67, 0.3), 0px 1px 3px 1px rgba(60, 64, 67, 0.15);\n",
              "      fill: #174EA6;\n",
              "    }\n",
              "\n",
              "    [theme=dark] .colab-df-convert {\n",
              "      background-color: #3B4455;\n",
              "      fill: #D2E3FC;\n",
              "    }\n",
              "\n",
              "    [theme=dark] .colab-df-convert:hover {\n",
              "      background-color: #434B5C;\n",
              "      box-shadow: 0px 1px 3px 1px rgba(0, 0, 0, 0.15);\n",
              "      filter: drop-shadow(0px 1px 2px rgba(0, 0, 0, 0.3));\n",
              "      fill: #FFFFFF;\n",
              "    }\n",
              "  </style>\n",
              "\n",
              "      <script>\n",
              "        const buttonEl =\n",
              "          document.querySelector('#df-e3855690-a330-4733-98f1-e1563cfcfd57 button.colab-df-convert');\n",
              "        buttonEl.style.display =\n",
              "          google.colab.kernel.accessAllowed ? 'block' : 'none';\n",
              "\n",
              "        async function convertToInteractive(key) {\n",
              "          const element = document.querySelector('#df-e3855690-a330-4733-98f1-e1563cfcfd57');\n",
              "          const dataTable =\n",
              "            await google.colab.kernel.invokeFunction('convertToInteractive',\n",
              "                                                     [key], {});\n",
              "          if (!dataTable) return;\n",
              "\n",
              "          const docLinkHtml = 'Like what you see? Visit the ' +\n",
              "            '<a target=\"_blank\" href=https://colab.research.google.com/notebooks/data_table.ipynb>data table notebook</a>'\n",
              "            + ' to learn more about interactive tables.';\n",
              "          element.innerHTML = '';\n",
              "          dataTable['output_type'] = 'display_data';\n",
              "          await google.colab.output.renderOutput(dataTable, element);\n",
              "          const docLink = document.createElement('div');\n",
              "          docLink.innerHTML = docLinkHtml;\n",
              "          element.appendChild(docLink);\n",
              "        }\n",
              "      </script>\n",
              "    </div>\n",
              "  </div>\n",
              "  "
            ]
          },
          "metadata": {},
          "execution_count": 37
        },
        {
          "output_type": "stream",
          "name": "stdout",
          "text": [
            "time: 24.5 ms (started: 2022-12-12 20:18:00 +00:00)\n"
          ]
        }
      ],
      "source": [
        "record"
      ]
    },
    {
      "cell_type": "code",
      "execution_count": null,
      "metadata": {
        "id": "Pzx9bOkhbtzj",
        "colab": {
          "base_uri": "https://localhost:8080/",
          "height": 256
        },
        "outputId": "02c11a54-5b2e-4d41-b119-b836519337b4"
      },
      "outputs": [
        {
          "output_type": "execute_result",
          "data": {
            "text/plain": [
              "               accAVG\n",
              "Activation           \n",
              "swish       86.762551\n",
              "relu        86.583046\n",
              "selu        86.165981\n",
              "tanh        86.165494\n",
              "elu         85.987453"
            ],
            "text/html": [
              "\n",
              "  <div id=\"df-a8c9b9bb-020d-43e8-af98-ccd6b8fb73d5\">\n",
              "    <div class=\"colab-df-container\">\n",
              "      <div>\n",
              "<style scoped>\n",
              "    .dataframe tbody tr th:only-of-type {\n",
              "        vertical-align: middle;\n",
              "    }\n",
              "\n",
              "    .dataframe tbody tr th {\n",
              "        vertical-align: top;\n",
              "    }\n",
              "\n",
              "    .dataframe thead th {\n",
              "        text-align: right;\n",
              "    }\n",
              "</style>\n",
              "<table border=\"1\" class=\"dataframe\">\n",
              "  <thead>\n",
              "    <tr style=\"text-align: right;\">\n",
              "      <th></th>\n",
              "      <th>accAVG</th>\n",
              "    </tr>\n",
              "    <tr>\n",
              "      <th>Activation</th>\n",
              "      <th></th>\n",
              "    </tr>\n",
              "  </thead>\n",
              "  <tbody>\n",
              "    <tr>\n",
              "      <th>swish</th>\n",
              "      <td>86.762551</td>\n",
              "    </tr>\n",
              "    <tr>\n",
              "      <th>relu</th>\n",
              "      <td>86.583046</td>\n",
              "    </tr>\n",
              "    <tr>\n",
              "      <th>selu</th>\n",
              "      <td>86.165981</td>\n",
              "    </tr>\n",
              "    <tr>\n",
              "      <th>tanh</th>\n",
              "      <td>86.165494</td>\n",
              "    </tr>\n",
              "    <tr>\n",
              "      <th>elu</th>\n",
              "      <td>85.987453</td>\n",
              "    </tr>\n",
              "  </tbody>\n",
              "</table>\n",
              "</div>\n",
              "      <button class=\"colab-df-convert\" onclick=\"convertToInteractive('df-a8c9b9bb-020d-43e8-af98-ccd6b8fb73d5')\"\n",
              "              title=\"Convert this dataframe to an interactive table.\"\n",
              "              style=\"display:none;\">\n",
              "        \n",
              "  <svg xmlns=\"http://www.w3.org/2000/svg\" height=\"24px\"viewBox=\"0 0 24 24\"\n",
              "       width=\"24px\">\n",
              "    <path d=\"M0 0h24v24H0V0z\" fill=\"none\"/>\n",
              "    <path d=\"M18.56 5.44l.94 2.06.94-2.06 2.06-.94-2.06-.94-.94-2.06-.94 2.06-2.06.94zm-11 1L8.5 8.5l.94-2.06 2.06-.94-2.06-.94L8.5 2.5l-.94 2.06-2.06.94zm10 10l.94 2.06.94-2.06 2.06-.94-2.06-.94-.94-2.06-.94 2.06-2.06.94z\"/><path d=\"M17.41 7.96l-1.37-1.37c-.4-.4-.92-.59-1.43-.59-.52 0-1.04.2-1.43.59L10.3 9.45l-7.72 7.72c-.78.78-.78 2.05 0 2.83L4 21.41c.39.39.9.59 1.41.59.51 0 1.02-.2 1.41-.59l7.78-7.78 2.81-2.81c.8-.78.8-2.07 0-2.86zM5.41 20L4 18.59l7.72-7.72 1.47 1.35L5.41 20z\"/>\n",
              "  </svg>\n",
              "      </button>\n",
              "      \n",
              "  <style>\n",
              "    .colab-df-container {\n",
              "      display:flex;\n",
              "      flex-wrap:wrap;\n",
              "      gap: 12px;\n",
              "    }\n",
              "\n",
              "    .colab-df-convert {\n",
              "      background-color: #E8F0FE;\n",
              "      border: none;\n",
              "      border-radius: 50%;\n",
              "      cursor: pointer;\n",
              "      display: none;\n",
              "      fill: #1967D2;\n",
              "      height: 32px;\n",
              "      padding: 0 0 0 0;\n",
              "      width: 32px;\n",
              "    }\n",
              "\n",
              "    .colab-df-convert:hover {\n",
              "      background-color: #E2EBFA;\n",
              "      box-shadow: 0px 1px 2px rgba(60, 64, 67, 0.3), 0px 1px 3px 1px rgba(60, 64, 67, 0.15);\n",
              "      fill: #174EA6;\n",
              "    }\n",
              "\n",
              "    [theme=dark] .colab-df-convert {\n",
              "      background-color: #3B4455;\n",
              "      fill: #D2E3FC;\n",
              "    }\n",
              "\n",
              "    [theme=dark] .colab-df-convert:hover {\n",
              "      background-color: #434B5C;\n",
              "      box-shadow: 0px 1px 3px 1px rgba(0, 0, 0, 0.15);\n",
              "      filter: drop-shadow(0px 1px 2px rgba(0, 0, 0, 0.3));\n",
              "      fill: #FFFFFF;\n",
              "    }\n",
              "  </style>\n",
              "\n",
              "      <script>\n",
              "        const buttonEl =\n",
              "          document.querySelector('#df-a8c9b9bb-020d-43e8-af98-ccd6b8fb73d5 button.colab-df-convert');\n",
              "        buttonEl.style.display =\n",
              "          google.colab.kernel.accessAllowed ? 'block' : 'none';\n",
              "\n",
              "        async function convertToInteractive(key) {\n",
              "          const element = document.querySelector('#df-a8c9b9bb-020d-43e8-af98-ccd6b8fb73d5');\n",
              "          const dataTable =\n",
              "            await google.colab.kernel.invokeFunction('convertToInteractive',\n",
              "                                                     [key], {});\n",
              "          if (!dataTable) return;\n",
              "\n",
              "          const docLinkHtml = 'Like what you see? Visit the ' +\n",
              "            '<a target=\"_blank\" href=https://colab.research.google.com/notebooks/data_table.ipynb>data table notebook</a>'\n",
              "            + ' to learn more about interactive tables.';\n",
              "          element.innerHTML = '';\n",
              "          dataTable['output_type'] = 'display_data';\n",
              "          await google.colab.output.renderOutput(dataTable, element);\n",
              "          const docLink = document.createElement('div');\n",
              "          docLink.innerHTML = docLinkHtml;\n",
              "          element.appendChild(docLink);\n",
              "        }\n",
              "      </script>\n",
              "    </div>\n",
              "  </div>\n",
              "  "
            ]
          },
          "metadata": {},
          "execution_count": 38
        },
        {
          "output_type": "stream",
          "name": "stdout",
          "text": [
            "time: 16.2 ms (started: 2022-12-12 20:18:00 +00:00)\n"
          ]
        }
      ],
      "source": [
        "record[['Activation', 'accAVG']].groupby(by='Activation').max().sort_values(by='accAVG', ascending=False)"
      ]
    },
    {
      "cell_type": "code",
      "source": [
        "record[['Activation', 'lossAVG']].groupby(by='Activation').min().sort_values(by='lossAVG', ascending=True)"
      ],
      "metadata": {
        "id": "UwQlmJ_IYgbV",
        "colab": {
          "base_uri": "https://localhost:8080/",
          "height": 256
        },
        "outputId": "b225a9e0-97ef-44cd-a0ee-6b9823e1a2dc"
      },
      "execution_count": null,
      "outputs": [
        {
          "output_type": "execute_result",
          "data": {
            "text/plain": [
              "             lossAVG\n",
              "Activation          \n",
              "relu        0.348983\n",
              "selu        0.351608\n",
              "elu         0.352269\n",
              "swish       0.353936\n",
              "tanh        0.354161"
            ],
            "text/html": [
              "\n",
              "  <div id=\"df-92fed9e1-4de2-4771-a9ad-7f2242bd4e3f\">\n",
              "    <div class=\"colab-df-container\">\n",
              "      <div>\n",
              "<style scoped>\n",
              "    .dataframe tbody tr th:only-of-type {\n",
              "        vertical-align: middle;\n",
              "    }\n",
              "\n",
              "    .dataframe tbody tr th {\n",
              "        vertical-align: top;\n",
              "    }\n",
              "\n",
              "    .dataframe thead th {\n",
              "        text-align: right;\n",
              "    }\n",
              "</style>\n",
              "<table border=\"1\" class=\"dataframe\">\n",
              "  <thead>\n",
              "    <tr style=\"text-align: right;\">\n",
              "      <th></th>\n",
              "      <th>lossAVG</th>\n",
              "    </tr>\n",
              "    <tr>\n",
              "      <th>Activation</th>\n",
              "      <th></th>\n",
              "    </tr>\n",
              "  </thead>\n",
              "  <tbody>\n",
              "    <tr>\n",
              "      <th>relu</th>\n",
              "      <td>0.348983</td>\n",
              "    </tr>\n",
              "    <tr>\n",
              "      <th>selu</th>\n",
              "      <td>0.351608</td>\n",
              "    </tr>\n",
              "    <tr>\n",
              "      <th>elu</th>\n",
              "      <td>0.352269</td>\n",
              "    </tr>\n",
              "    <tr>\n",
              "      <th>swish</th>\n",
              "      <td>0.353936</td>\n",
              "    </tr>\n",
              "    <tr>\n",
              "      <th>tanh</th>\n",
              "      <td>0.354161</td>\n",
              "    </tr>\n",
              "  </tbody>\n",
              "</table>\n",
              "</div>\n",
              "      <button class=\"colab-df-convert\" onclick=\"convertToInteractive('df-92fed9e1-4de2-4771-a9ad-7f2242bd4e3f')\"\n",
              "              title=\"Convert this dataframe to an interactive table.\"\n",
              "              style=\"display:none;\">\n",
              "        \n",
              "  <svg xmlns=\"http://www.w3.org/2000/svg\" height=\"24px\"viewBox=\"0 0 24 24\"\n",
              "       width=\"24px\">\n",
              "    <path d=\"M0 0h24v24H0V0z\" fill=\"none\"/>\n",
              "    <path d=\"M18.56 5.44l.94 2.06.94-2.06 2.06-.94-2.06-.94-.94-2.06-.94 2.06-2.06.94zm-11 1L8.5 8.5l.94-2.06 2.06-.94-2.06-.94L8.5 2.5l-.94 2.06-2.06.94zm10 10l.94 2.06.94-2.06 2.06-.94-2.06-.94-.94-2.06-.94 2.06-2.06.94z\"/><path d=\"M17.41 7.96l-1.37-1.37c-.4-.4-.92-.59-1.43-.59-.52 0-1.04.2-1.43.59L10.3 9.45l-7.72 7.72c-.78.78-.78 2.05 0 2.83L4 21.41c.39.39.9.59 1.41.59.51 0 1.02-.2 1.41-.59l7.78-7.78 2.81-2.81c.8-.78.8-2.07 0-2.86zM5.41 20L4 18.59l7.72-7.72 1.47 1.35L5.41 20z\"/>\n",
              "  </svg>\n",
              "      </button>\n",
              "      \n",
              "  <style>\n",
              "    .colab-df-container {\n",
              "      display:flex;\n",
              "      flex-wrap:wrap;\n",
              "      gap: 12px;\n",
              "    }\n",
              "\n",
              "    .colab-df-convert {\n",
              "      background-color: #E8F0FE;\n",
              "      border: none;\n",
              "      border-radius: 50%;\n",
              "      cursor: pointer;\n",
              "      display: none;\n",
              "      fill: #1967D2;\n",
              "      height: 32px;\n",
              "      padding: 0 0 0 0;\n",
              "      width: 32px;\n",
              "    }\n",
              "\n",
              "    .colab-df-convert:hover {\n",
              "      background-color: #E2EBFA;\n",
              "      box-shadow: 0px 1px 2px rgba(60, 64, 67, 0.3), 0px 1px 3px 1px rgba(60, 64, 67, 0.15);\n",
              "      fill: #174EA6;\n",
              "    }\n",
              "\n",
              "    [theme=dark] .colab-df-convert {\n",
              "      background-color: #3B4455;\n",
              "      fill: #D2E3FC;\n",
              "    }\n",
              "\n",
              "    [theme=dark] .colab-df-convert:hover {\n",
              "      background-color: #434B5C;\n",
              "      box-shadow: 0px 1px 3px 1px rgba(0, 0, 0, 0.15);\n",
              "      filter: drop-shadow(0px 1px 2px rgba(0, 0, 0, 0.3));\n",
              "      fill: #FFFFFF;\n",
              "    }\n",
              "  </style>\n",
              "\n",
              "      <script>\n",
              "        const buttonEl =\n",
              "          document.querySelector('#df-92fed9e1-4de2-4771-a9ad-7f2242bd4e3f button.colab-df-convert');\n",
              "        buttonEl.style.display =\n",
              "          google.colab.kernel.accessAllowed ? 'block' : 'none';\n",
              "\n",
              "        async function convertToInteractive(key) {\n",
              "          const element = document.querySelector('#df-92fed9e1-4de2-4771-a9ad-7f2242bd4e3f');\n",
              "          const dataTable =\n",
              "            await google.colab.kernel.invokeFunction('convertToInteractive',\n",
              "                                                     [key], {});\n",
              "          if (!dataTable) return;\n",
              "\n",
              "          const docLinkHtml = 'Like what you see? Visit the ' +\n",
              "            '<a target=\"_blank\" href=https://colab.research.google.com/notebooks/data_table.ipynb>data table notebook</a>'\n",
              "            + ' to learn more about interactive tables.';\n",
              "          element.innerHTML = '';\n",
              "          dataTable['output_type'] = 'display_data';\n",
              "          await google.colab.output.renderOutput(dataTable, element);\n",
              "          const docLink = document.createElement('div');\n",
              "          docLink.innerHTML = docLinkHtml;\n",
              "          element.appendChild(docLink);\n",
              "        }\n",
              "      </script>\n",
              "    </div>\n",
              "  </div>\n",
              "  "
            ]
          },
          "metadata": {},
          "execution_count": 39
        },
        {
          "output_type": "stream",
          "name": "stdout",
          "text": [
            "time: 8.29 ms (started: 2022-12-12 20:18:00 +00:00)\n"
          ]
        }
      ]
    },
    {
      "cell_type": "code",
      "execution_count": null,
      "metadata": {
        "id": "wBE4fCoQdADY",
        "colab": {
          "base_uri": "https://localhost:8080/"
        },
        "outputId": "d90bee07-feee-4464-d139-b81075ca10f3"
      },
      "outputs": [
        {
          "output_type": "stream",
          "name": "stdout",
          "text": [
            "8, 9, 10, 15, 16, 34, 35, 41, 60, 62, 67, 70, 71, 72, 73, 84, 85, 86, 99, 100, 103, 104, 107, 113, 117, 120, 121, 122, 123, 124, 126, 127, 128, 130, 138, 139, 140, 147, 150, 156, 157, 161, 163, 167\n",
            "time: 14.9 ms (started: 2022-12-12 20:18:00 +00:00)\n"
          ]
        }
      ],
      "source": [
        "max_recall_0 = [i[0] for i in recalls]\n",
        "max_recall_0_idx = [i for i in range(len(max_recall_0)) if max_recall_0[i] >= .8]\n",
        "print(*max_recall_0_idx, sep=', ')"
      ]
    },
    {
      "cell_type": "code",
      "execution_count": null,
      "metadata": {
        "id": "xUcPMqKag5uf",
        "colab": {
          "base_uri": "https://localhost:8080/"
        },
        "outputId": "826634b5-44b1-4cfd-b92b-52f590c8573c"
      },
      "outputs": [
        {
          "output_type": "stream",
          "name": "stdout",
          "text": [
            "[[8, 0.8097165991902834], [9, 0.8264840182648402], [62, 0.8133333333333334], [67, 0.810126582278481], [70, 0.8583690987124464], [84, 0.81], [99, 0.8053097345132744], [100, 0.8340248962655602], [113, 0.8333333333333334], [117, 0.8043478260869565], [124, 0.8666666666666667], [127, 0.8008658008658008], [128, 0.8441558441558441], [130, 0.8264840182648402], [140, 0.8401826484018264], [157, 0.82], [163, 0.8181818181818182], [167, 0.8044444444444444]]\n",
            "time: 838 µs (started: 2022-12-12 20:18:00 +00:00)\n"
          ]
        }
      ],
      "source": [
        "recall_filtered = [m for m in [[i, rec[1]] for i, rec in enumerate(recalls) if i in max_recall_0_idx] if m[1] >= .8]\n",
        "\n",
        "print(recall_filtered)"
      ]
    },
    {
      "cell_type": "code",
      "source": [
        "for i in range(len(recall_filtered)):\n",
        "  print(reports[recall_filtered[i][0]], '\\n\\n')"
      ],
      "metadata": {
        "id": "haKHcJ2P93de",
        "colab": {
          "base_uri": "https://localhost:8080/"
        },
        "outputId": "8431c9c3-bc4b-48d3-bbd6-d45bafe9f469"
      },
      "execution_count": null,
      "outputs": [
        {
          "output_type": "stream",
          "name": "stdout",
          "text": [
            "                                                      precision    recall  f1-score   support\n",
            "\n",
            "                 Fabricated Content/Imposter Content       0.81      0.82      0.81       208\n",
            "Misleading Content/False Context/Manipulated Content       0.82      0.81      0.82       247\n",
            "                                               Valid       0.94      0.94      0.94       216\n",
            "\n",
            "                                            accuracy                           0.85       671\n",
            "                                           macro avg       0.85      0.86      0.86       671\n",
            "                                        weighted avg       0.85      0.85      0.85       671\n",
            " \n",
            "\n",
            "\n",
            "                                                      precision    recall  f1-score   support\n",
            "\n",
            "                 Fabricated Content/Imposter Content       0.84      0.80      0.82       239\n",
            "Misleading Content/False Context/Manipulated Content       0.77      0.83      0.80       219\n",
            "                                               Valid       0.97      0.94      0.95       212\n",
            "\n",
            "                                            accuracy                           0.85       670\n",
            "                                           macro avg       0.86      0.86      0.86       670\n",
            "                                        weighted avg       0.86      0.85      0.85       670\n",
            " \n",
            "\n",
            "\n",
            "                                                      precision    recall  f1-score   support\n",
            "\n",
            "                 Fabricated Content/Imposter Content       0.82      0.83      0.83       227\n",
            "Misleading Content/False Context/Manipulated Content       0.82      0.81      0.82       225\n",
            "                                               Valid       0.95      0.94      0.94       219\n",
            "\n",
            "                                            accuracy                           0.86       671\n",
            "                                           macro avg       0.86      0.86      0.86       671\n",
            "                                        weighted avg       0.86      0.86      0.86       671\n",
            " \n",
            "\n",
            "\n",
            "                                                      precision    recall  f1-score   support\n",
            "\n",
            "                 Fabricated Content/Imposter Content       0.80      0.85      0.82       209\n",
            "Misleading Content/False Context/Manipulated Content       0.82      0.81      0.82       237\n",
            "                                               Valid       0.99      0.95      0.97       225\n",
            "\n",
            "                                            accuracy                           0.87       671\n",
            "                                           macro avg       0.87      0.87      0.87       671\n",
            "                                        weighted avg       0.87      0.87      0.87       671\n",
            " \n",
            "\n",
            "\n",
            "                                                      precision    recall  f1-score   support\n",
            "\n",
            "                 Fabricated Content/Imposter Content       0.83      0.81      0.82       222\n",
            "Misleading Content/False Context/Manipulated Content       0.81      0.86      0.83       233\n",
            "                                               Valid       0.98      0.94      0.96       216\n",
            "\n",
            "                                            accuracy                           0.87       671\n",
            "                                           macro avg       0.87      0.87      0.87       671\n",
            "                                        weighted avg       0.87      0.87      0.87       671\n",
            " \n",
            "\n",
            "\n",
            "                                                      precision    recall  f1-score   support\n",
            "\n",
            "                 Fabricated Content/Imposter Content       0.81      0.84      0.83       250\n",
            "Misleading Content/False Context/Manipulated Content       0.78      0.81      0.80       200\n",
            "                                               Valid       0.99      0.91      0.95       220\n",
            "\n",
            "                                            accuracy                           0.86       670\n",
            "                                           macro avg       0.86      0.86      0.86       670\n",
            "                                        weighted avg       0.86      0.86      0.86       670\n",
            " \n",
            "\n",
            "\n",
            "                                                      precision    recall  f1-score   support\n",
            "\n",
            "                 Fabricated Content/Imposter Content       0.81      0.86      0.83       211\n",
            "Misleading Content/False Context/Manipulated Content       0.85      0.81      0.83       226\n",
            "                                               Valid       0.97      0.97      0.97       233\n",
            "\n",
            "                                            accuracy                           0.88       670\n",
            "                                           macro avg       0.88      0.88      0.88       670\n",
            "                                        weighted avg       0.88      0.88      0.88       670\n",
            " \n",
            "\n",
            "\n",
            "                                                      precision    recall  f1-score   support\n",
            "\n",
            "                 Fabricated Content/Imposter Content       0.83      0.82      0.83       233\n",
            "Misleading Content/False Context/Manipulated Content       0.83      0.83      0.83       241\n",
            "                                               Valid       0.95      0.97      0.96       197\n",
            "\n",
            "                                            accuracy                           0.87       671\n",
            "                                           macro avg       0.87      0.87      0.87       671\n",
            "                                        weighted avg       0.87      0.87      0.87       671\n",
            " \n",
            "\n",
            "\n",
            "                                                      precision    recall  f1-score   support\n",
            "\n",
            "                 Fabricated Content/Imposter Content       0.83      0.80      0.82       226\n",
            "Misleading Content/False Context/Manipulated Content       0.80      0.83      0.81       222\n",
            "                                               Valid       0.95      0.95      0.95       223\n",
            "\n",
            "                                            accuracy                           0.86       671\n",
            "                                           macro avg       0.86      0.86      0.86       671\n",
            "                                        weighted avg       0.86      0.86      0.86       671\n",
            " \n",
            "\n",
            "\n",
            "                                                      precision    recall  f1-score   support\n",
            "\n",
            "                 Fabricated Content/Imposter Content       0.84      0.86      0.85       216\n",
            "Misleading Content/False Context/Manipulated Content       0.87      0.80      0.84       230\n",
            "                                               Valid       0.93      0.98      0.96       225\n",
            "\n",
            "                                            accuracy                           0.88       671\n",
            "                                           macro avg       0.88      0.88      0.88       671\n",
            "                                        weighted avg       0.88      0.88      0.88       671\n",
            " \n",
            "\n",
            "\n",
            "                                                      precision    recall  f1-score   support\n",
            "\n",
            "                 Fabricated Content/Imposter Content       0.88      0.81      0.85       209\n",
            "Misleading Content/False Context/Manipulated Content       0.81      0.87      0.84       225\n",
            "                                               Valid       0.94      0.94      0.94       236\n",
            "\n",
            "                                            accuracy                           0.88       670\n",
            "                                           macro avg       0.88      0.87      0.87       670\n",
            "                                        weighted avg       0.88      0.88      0.88       670\n",
            " \n",
            "\n",
            "\n",
            "                                                      precision    recall  f1-score   support\n",
            "\n",
            "                 Fabricated Content/Imposter Content       0.84      0.81      0.83       219\n",
            "Misleading Content/False Context/Manipulated Content       0.83      0.80      0.82       231\n",
            "                                               Valid       0.90      0.98      0.94       221\n",
            "\n",
            "                                            accuracy                           0.86       671\n",
            "                                           macro avg       0.86      0.86      0.86       671\n",
            "                                        weighted avg       0.86      0.86      0.86       671\n",
            " \n",
            "\n",
            "\n",
            "                                                      precision    recall  f1-score   support\n",
            "\n",
            "                 Fabricated Content/Imposter Content       0.80      0.82      0.81       220\n",
            "Misleading Content/False Context/Manipulated Content       0.80      0.84      0.82       231\n",
            "                                               Valid       1.00      0.91      0.95       220\n",
            "\n",
            "                                            accuracy                           0.86       671\n",
            "                                           macro avg       0.86      0.86      0.86       671\n",
            "                                        weighted avg       0.86      0.86      0.86       671\n",
            " \n",
            "\n",
            "\n",
            "                                                      precision    recall  f1-score   support\n",
            "\n",
            "                 Fabricated Content/Imposter Content       0.84      0.81      0.83       215\n",
            "Misleading Content/False Context/Manipulated Content       0.80      0.83      0.82       219\n",
            "                                               Valid       0.95      0.97      0.96       237\n",
            "\n",
            "                                            accuracy                           0.87       671\n",
            "                                           macro avg       0.87      0.87      0.87       671\n",
            "                                        weighted avg       0.87      0.87      0.87       671\n",
            " \n",
            "\n",
            "\n",
            "                                                      precision    recall  f1-score   support\n",
            "\n",
            "                 Fabricated Content/Imposter Content       0.86      0.83      0.84       248\n",
            "Misleading Content/False Context/Manipulated Content       0.84      0.84      0.84       219\n",
            "                                               Valid       0.92      0.95      0.93       204\n",
            "\n",
            "                                            accuracy                           0.87       671\n",
            "                                           macro avg       0.87      0.87      0.87       671\n",
            "                                        weighted avg       0.87      0.87      0.87       671\n",
            " \n",
            "\n",
            "\n",
            "                                                      precision    recall  f1-score   support\n",
            "\n",
            "                 Fabricated Content/Imposter Content       0.81      0.80      0.80       218\n",
            "Misleading Content/False Context/Manipulated Content       0.83      0.82      0.82       250\n",
            "                                               Valid       0.95      0.96      0.95       203\n",
            "\n",
            "                                            accuracy                           0.86       671\n",
            "                                           macro avg       0.86      0.86      0.86       671\n",
            "                                        weighted avg       0.86      0.86      0.86       671\n",
            " \n",
            "\n",
            "\n",
            "                                                      precision    recall  f1-score   support\n",
            "\n",
            "                 Fabricated Content/Imposter Content       0.81      0.84      0.82       225\n",
            "Misleading Content/False Context/Manipulated Content       0.83      0.82      0.82       231\n",
            "                                               Valid       0.97      0.94      0.95       215\n",
            "\n",
            "                                            accuracy                           0.86       671\n",
            "                                           macro avg       0.87      0.86      0.87       671\n",
            "                                        weighted avg       0.86      0.86      0.86       671\n",
            " \n",
            "\n",
            "\n",
            "                                                      precision    recall  f1-score   support\n",
            "\n",
            "                 Fabricated Content/Imposter Content       0.82      0.84      0.83       227\n",
            "Misleading Content/False Context/Manipulated Content       0.84      0.80      0.82       225\n",
            "                                               Valid       0.95      0.97      0.96       219\n",
            "\n",
            "                                            accuracy                           0.87       671\n",
            "                                           macro avg       0.87      0.87      0.87       671\n",
            "                                        weighted avg       0.87      0.87      0.87       671\n",
            " \n",
            "\n",
            "\n",
            "time: 1.14 ms (started: 2022-12-12 20:18:00 +00:00)\n"
          ]
        }
      ]
    },
    {
      "cell_type": "code",
      "source": [
        "bests = [4, 6, 7, 9, 10, 12, 14, 16]\n",
        "selecteds = [recall_filtered[i][0] for i in bests]"
      ],
      "metadata": {
        "colab": {
          "base_uri": "https://localhost:8080/"
        },
        "id": "wD-NXQ_aO1uu",
        "outputId": "d8cfe24e-2584-4b98-ccd0-0425b0b25b01"
      },
      "execution_count": null,
      "outputs": [
        {
          "output_type": "stream",
          "name": "stdout",
          "text": [
            "time: 862 µs (started: 2022-12-12 20:22:06 +00:00)\n"
          ]
        }
      ]
    },
    {
      "cell_type": "code",
      "source": [
        "def tokenize(text, cloud):\n",
        "  s = text.split()\n",
        "  return [cloud[s[i]] if s[i] in cloud else 1 for i in range(len(s))]\n",
        "\n",
        "def pad_sequence(seq):\n",
        "  return [0 if i < (max_len - len(seq)) else seq[i - (max_len - len(seq))] for i in range(max_len)]"
      ],
      "metadata": {
        "colab": {
          "base_uri": "https://localhost:8080/"
        },
        "id": "BwVwz7LDxyam",
        "outputId": "183a7083-a91f-4107-d005-caf6b30464bd"
      },
      "execution_count": null,
      "outputs": [
        {
          "output_type": "stream",
          "name": "stdout",
          "text": [
            "time: 1.54 ms (started: 2022-12-12 20:22:06 +00:00)\n"
          ]
        }
      ]
    },
    {
      "cell_type": "code",
      "source": [
        "results = []\n",
        "\n",
        "for j in selecteds:\n",
        "  predict_temp = []\n",
        "  false_temp = []\n",
        "  print(f'model-{j} predict')\n",
        "  for i in range(len(XVal)):\n",
        "    seq = tokenize(XVal[i], clouds[j])\n",
        "    padded = np.array([pad_sequence(seq)])\n",
        "    preds = models[j].predict(padded)\n",
        "    proba = preds[0].tolist()\n",
        "    classes = list(encoder.classes_)\n",
        "    prediction = classes[proba.index(max(preds[0]))]\n",
        "    if prediction == YVal[i]: predict_temp.append(True)\n",
        "    else: false_temp.append(classes.index(YVal[i]))\n",
        "\n",
        "  results.append(f'correct: {len(predict_temp)}/{len(XVal)}: {round(len(predict_temp)/len(XVal) * 100, 3)}%  -  false-i: {false_temp.count(0)}  -  false-m: {false_temp.count(1)}  -  false-v: {false_temp.count(2)}')"
      ],
      "metadata": {
        "id": "BhShuHzCxkIi"
      },
      "execution_count": null,
      "outputs": []
    },
    {
      "cell_type": "code",
      "source": [
        "for i in range(len(selecteds)):\n",
        "  print('model:', selecteds[i], f'\\n{results[i]}')"
      ],
      "metadata": {
        "colab": {
          "base_uri": "https://localhost:8080/"
        },
        "id": "hP2IqRgOv6zp",
        "outputId": "7893da5f-f1fe-49e4-f072-cfbe3ae026a5"
      },
      "execution_count": null,
      "outputs": [
        {
          "output_type": "stream",
          "name": "stdout",
          "text": [
            "model: 70 \n",
            "correct: 6314/7315: 86.316%  -  false-i: 86  -  false-m: 758  -  false-v: 157\n",
            "model: 99 \n",
            "correct: 5783/7315: 79.057%  -  false-i: 81  -  false-m: 1264  -  false-v: 187\n",
            "model: 100 \n",
            "correct: 6007/7315: 82.119%  -  false-i: 118  -  false-m: 1019  -  false-v: 171\n",
            "model: 117 \n",
            "correct: 6105/7315: 83.459%  -  false-i: 180  -  false-m: 1001  -  false-v: 29\n",
            "model: 124 \n",
            "correct: 5663/7315: 77.416%  -  false-i: 68  -  false-m: 1490  -  false-v: 94\n",
            "model: 128 \n",
            "correct: 5889/7315: 80.506%  -  false-i: 148  -  false-m: 968  -  false-v: 310\n",
            "model: 140 \n",
            "correct: 6118/7315: 83.636%  -  false-i: 115  -  false-m: 998  -  false-v: 84\n",
            "model: 163 \n",
            "correct: 5973/7315: 81.654%  -  false-i: 97  -  false-m: 1121  -  false-v: 124\n",
            "time: 1.64 ms (started: 2022-12-12 21:12:40 +00:00)\n"
          ]
        }
      ]
    },
    {
      "cell_type": "code",
      "source": [
        "best = [70, 6314]\n",
        "define_confusion(metas[best[0]][2], metas[best[0]][1])\n",
        "print('\\n')\n",
        "define_plot('accuracy', metas[best[0]][3])\n",
        "print('\\n')\n",
        "define_plot('loss', metas[best[0]][3])\n",
        "print('\\n\\n')"
      ],
      "metadata": {
        "colab": {
          "base_uri": "https://localhost:8080/",
          "height": 1000
        },
        "id": "zArSwVYxdsEu",
        "outputId": "3d8692b9-8d0a-4f6e-8e33-dc43d69564e5"
      },
      "execution_count": null,
      "outputs": [
        {
          "output_type": "display_data",
          "data": {
            "text/plain": [
              "<Figure size 936x720 with 2 Axes>"
            ],
            "image/png": "[encoded data removed]"
          },
          "metadata": {
            "needs_background": "light"
          }
        },
        {
          "output_type": "stream",
          "name": "stdout",
          "text": [
            "\n",
            "\n"
          ]
        },
        {
          "output_type": "display_data",
          "data": {
            "text/plain": [
              "<Figure size 1080x504 with 1 Axes>"
            ],
            "image/png": "[encoded data removed]"
          },
          "metadata": {
            "needs_background": "light"
          }
        },
        {
          "output_type": "stream",
          "name": "stdout",
          "text": [
            "\n",
            "\n"
          ]
        },
        {
          "output_type": "display_data",
          "data": {
            "text/plain": [
              "<Figure size 1080x504 with 1 Axes>"
            ],
            "image/png": "[encoded data removed]"
          },
          "metadata": {
            "needs_background": "light"
          }
        },
        {
          "output_type": "stream",
          "name": "stdout",
          "text": [
            "\n",
            "\n",
            "\n",
            "time: 654 ms (started: 2022-12-12 21:13:53 +00:00)\n"
          ]
        }
      ]
    },
    {
      "cell_type": "code",
      "source": [
        "record.to_excel('acc_loss_records.xlsx', index=False, encoding='utf-8')"
      ],
      "metadata": {
        "colab": {
          "base_uri": "https://localhost:8080/"
        },
        "id": "y9BfAXOlSCM9",
        "outputId": "f4a66ac5-059f-45f1-f5d8-dae1516c8253"
      },
      "execution_count": null,
      "outputs": [
        {
          "output_type": "stream",
          "name": "stdout",
          "text": [
            "time: 226 ms (started: 2022-12-12 21:13:54 +00:00)\n"
          ]
        }
      ]
    },
    {
      "cell_type": "code",
      "source": [
        "def cr_to_excel(report, index, score):\n",
        "    report_data = []\n",
        "    lines = report.split('\\n')\n",
        "    for line in (lines[2:5]+lines[7:9]):\n",
        "        row = {}\n",
        "        row_data = line.split()\n",
        "        row['class'] = ' '.join(row_data[0:-4])\n",
        "        row['precision'] = row_data[-4]\n",
        "        row['recall'] = row_data[-3]\n",
        "        row['f1_score'] = row_data[-2]\n",
        "        row['support'] = row_data[-1]\n",
        "        row['accuracy'] = round(record.iloc[math.ceil((index+0.5)/5) - 1][f'acc{(index%5) + 1}'], 2)\n",
        "        row['loss'] = round(record.iloc[math.ceil((index+0.5)/5) - 1][f'loss{(index%5) + 1}'], 4)\n",
        "        row['activation'] = record.iloc[math.ceil((index+0.5)/5) - 1]['Activation']\n",
        "        row['optimizer'] = record.iloc[math.ceil((index+0.5)/5) - 1]['Optimizer']\n",
        "        row['kernel'] = record.iloc[math.ceil((index+0.5)/5) - 1]['Filters']\n",
        "        row['test_score'] = round(((score-3354)/(7315-3354)*100), 2)\n",
        "        report_data.append(row)\n",
        "    dataframe = pd.DataFrame.from_dict(report_data)\n",
        "    dataframe.to_excel(f'classification_report-{index}.xlsx', index = False)\n",
        "\n",
        "cr_to_excel(reports[best[0]], best[0], best[1])"
      ],
      "metadata": {
        "colab": {
          "base_uri": "https://localhost:8080/"
        },
        "id": "jz0MV6wZiUq8",
        "outputId": "d0edc9e9-3a59-4540-d7c4-bdd0e842e1cd"
      },
      "execution_count": null,
      "outputs": [
        {
          "output_type": "stream",
          "name": "stdout",
          "text": [
            "time: 17.8 ms (started: 2022-12-12 21:13:54 +00:00)\n"
          ]
        }
      ]
    },
    {
      "cell_type": "code",
      "source": [
        "def clouds_to_json(index):\n",
        "  with open(f'word_dict-{index}.json' , 'w') as file:    \n",
        "    json.dump(clouds[index], file)\n",
        "\n",
        "clouds_to_json(best[0])"
      ],
      "metadata": {
        "colab": {
          "base_uri": "https://localhost:8080/"
        },
        "id": "hrR13HO1SyAH",
        "outputId": "49094a95-4478-4112-fc5f-279f13357f13"
      },
      "execution_count": null,
      "outputs": [
        {
          "output_type": "stream",
          "name": "stdout",
          "text": [
            "time: 15.2 ms (started: 2022-12-12 21:13:54 +00:00)\n"
          ]
        }
      ]
    },
    {
      "cell_type": "code",
      "source": [
        "def res_to_json(index):\n",
        "  with open(f'residu-{index}.json' , 'w') as file:    \n",
        "    json.dump({'valid': valid_selected[index], 'false': false_selected[index], 'imposter': imposter_selected[index]}, file)\n",
        "\n",
        "res_to_json(best[0])"
      ],
      "metadata": {
        "colab": {
          "base_uri": "https://localhost:8080/"
        },
        "id": "N5U-pd_aUv_u",
        "outputId": "0cbdb140-b28f-4c26-84f0-18e5e2f687c1"
      },
      "execution_count": null,
      "outputs": [
        {
          "output_type": "stream",
          "name": "stdout",
          "text": [
            "time: 21.2 ms (started: 2022-12-12 21:13:54 +00:00)\n"
          ]
        }
      ]
    },
    {
      "cell_type": "code",
      "source": [
        "models[best[0]].save(f\"model-{best[0]}.h5\")"
      ],
      "metadata": {
        "colab": {
          "base_uri": "https://localhost:8080/"
        },
        "id": "AE-7_qKDTfZI",
        "outputId": "d0610f1e-5d26-4e46-d354-45db611a735d"
      },
      "execution_count": null,
      "outputs": [
        {
          "output_type": "stream",
          "name": "stdout",
          "text": [
            "time: 155 ms (started: 2022-12-12 21:13:54 +00:00)\n"
          ]
        }
      ]
    },
    {
      "cell_type": "code",
      "source": [
        "files.download('acc_loss_records.xlsx')\n",
        "\n",
        "files.download(f'classification_report-{best[0]}.xlsx')\n",
        "files.download(f'word_dict-{best[0]}.json')\n",
        "files.download(f'residu-{best[0]}.json')\n",
        "files.download(f'model-{best[0]}.h5')"
      ],
      "metadata": {
        "id": "mnxFtY4lWGFC",
        "colab": {
          "base_uri": "https://localhost:8080/",
          "height": 105
        },
        "outputId": "d3485652-64fa-4b9f-9a7b-12f9b68c2792"
      },
      "execution_count": null,
      "outputs": [
        {
          "output_type": "display_data",
          "data": {
            "text/plain": [
              "<IPython.core.display.Javascript object>"
            ],
            "application/javascript": [
              "\n",
              "    async function download(id, filename, size) {\n",
              "      if (!google.colab.kernel.accessAllowed) {\n",
              "        return;\n",
              "      }\n",
              "      const div = document.createElement('div');\n",
              "      const label = document.createElement('label');\n",
              "      label.textContent = `Downloading \"${filename}\": `;\n",
              "      div.appendChild(label);\n",
              "      const progress = document.createElement('progress');\n",
              "      progress.max = size;\n",
              "      div.appendChild(progress);\n",
              "      document.body.appendChild(div);\n",
              "\n",
              "      const buffers = [];\n",
              "      let downloaded = 0;\n",
              "\n",
              "      const channel = await google.colab.kernel.comms.open(id);\n",
              "      // Send a message to notify the kernel that we're ready.\n",
              "      channel.send({})\n",
              "\n",
              "      for await (const message of channel.messages) {\n",
              "        // Send a message to notify the kernel that we're ready.\n",
              "        channel.send({})\n",
              "        if (message.buffers) {\n",
              "          for (const buffer of message.buffers) {\n",
              "            buffers.push(buffer);\n",
              "            downloaded += buffer.byteLength;\n",
              "            progress.value = downloaded;\n",
              "          }\n",
              "        }\n",
              "      }\n",
              "      const blob = new Blob(buffers, {type: 'application/binary'});\n",
              "      const a = document.createElement('a');\n",
              "      a.href = window.URL.createObjectURL(blob);\n",
              "      a.download = filename;\n",
              "      div.appendChild(a);\n",
              "      a.click();\n",
              "      div.remove();\n",
              "    }\n",
              "  "
            ]
          },
          "metadata": {}
        },
        {
          "output_type": "display_data",
          "data": {
            "text/plain": [
              "<IPython.core.display.Javascript object>"
            ],
            "application/javascript": [
              "download(\"download_be6f406f-d810-49ca-99d5-9b0df076eed7\", \"acc_loss_records.xlsx\", 10226)"
            ]
          },
          "metadata": {}
        },
        {
          "output_type": "display_data",
          "data": {
            "text/plain": [
              "<IPython.core.display.Javascript object>"
            ],
            "application/javascript": [
              "\n",
              "    async function download(id, filename, size) {\n",
              "      if (!google.colab.kernel.accessAllowed) {\n",
              "        return;\n",
              "      }\n",
              "      const div = document.createElement('div');\n",
              "      const label = document.createElement('label');\n",
              "      label.textContent = `Downloading \"${filename}\": `;\n",
              "      div.appendChild(label);\n",
              "      const progress = document.createElement('progress');\n",
              "      progress.max = size;\n",
              "      div.appendChild(progress);\n",
              "      document.body.appendChild(div);\n",
              "\n",
              "      const buffers = [];\n",
              "      let downloaded = 0;\n",
              "\n",
              "      const channel = await google.colab.kernel.comms.open(id);\n",
              "      // Send a message to notify the kernel that we're ready.\n",
              "      channel.send({})\n",
              "\n",
              "      for await (const message of channel.messages) {\n",
              "        // Send a message to notify the kernel that we're ready.\n",
              "        channel.send({})\n",
              "        if (message.buffers) {\n",
              "          for (const buffer of message.buffers) {\n",
              "            buffers.push(buffer);\n",
              "            downloaded += buffer.byteLength;\n",
              "            progress.value = downloaded;\n",
              "          }\n",
              "        }\n",
              "      }\n",
              "      const blob = new Blob(buffers, {type: 'application/binary'});\n",
              "      const a = document.createElement('a');\n",
              "      a.href = window.URL.createObjectURL(blob);\n",
              "      a.download = filename;\n",
              "      div.appendChild(a);\n",
              "      a.click();\n",
              "      div.remove();\n",
              "    }\n",
              "  "
            ]
          },
          "metadata": {}
        },
        {
          "output_type": "display_data",
          "data": {
            "text/plain": [
              "<IPython.core.display.Javascript object>"
            ],
            "application/javascript": [
              "download(\"download_a8a5be98-7ebd-4135-b8a0-7be2d9c56852\", \"classification_report-70.xlsx\", 5346)"
            ]
          },
          "metadata": {}
        },
        {
          "output_type": "display_data",
          "data": {
            "text/plain": [
              "<IPython.core.display.Javascript object>"
            ],
            "application/javascript": [
              "\n",
              "    async function download(id, filename, size) {\n",
              "      if (!google.colab.kernel.accessAllowed) {\n",
              "        return;\n",
              "      }\n",
              "      const div = document.createElement('div');\n",
              "      const label = document.createElement('label');\n",
              "      label.textContent = `Downloading \"${filename}\": `;\n",
              "      div.appendChild(label);\n",
              "      const progress = document.createElement('progress');\n",
              "      progress.max = size;\n",
              "      div.appendChild(progress);\n",
              "      document.body.appendChild(div);\n",
              "\n",
              "      const buffers = [];\n",
              "      let downloaded = 0;\n",
              "\n",
              "      const channel = await google.colab.kernel.comms.open(id);\n",
              "      // Send a message to notify the kernel that we're ready.\n",
              "      channel.send({})\n",
              "\n",
              "      for await (const message of channel.messages) {\n",
              "        // Send a message to notify the kernel that we're ready.\n",
              "        channel.send({})\n",
              "        if (message.buffers) {\n",
              "          for (const buffer of message.buffers) {\n",
              "            buffers.push(buffer);\n",
              "            downloaded += buffer.byteLength;\n",
              "            progress.value = downloaded;\n",
              "          }\n",
              "        }\n",
              "      }\n",
              "      const blob = new Blob(buffers, {type: 'application/binary'});\n",
              "      const a = document.createElement('a');\n",
              "      a.href = window.URL.createObjectURL(blob);\n",
              "      a.download = filename;\n",
              "      div.appendChild(a);\n",
              "      a.click();\n",
              "      div.remove();\n",
              "    }\n",
              "  "
            ]
          },
          "metadata": {}
        },
        {
          "output_type": "display_data",
          "data": {
            "text/plain": [
              "<IPython.core.display.Javascript object>"
            ],
            "application/javascript": [
              "download(\"download_faca00c9-10b6-419f-aa6b-f802880c5a34\", \"word_dict-70.json\", 205293)"
            ]
          },
          "metadata": {}
        },
        {
          "output_type": "display_data",
          "data": {
            "text/plain": [
              "<IPython.core.display.Javascript object>"
            ],
            "application/javascript": [
              "\n",
              "    async function download(id, filename, size) {\n",
              "      if (!google.colab.kernel.accessAllowed) {\n",
              "        return;\n",
              "      }\n",
              "      const div = document.createElement('div');\n",
              "      const label = document.createElement('label');\n",
              "      label.textContent = `Downloading \"${filename}\": `;\n",
              "      div.appendChild(label);\n",
              "      const progress = document.createElement('progress');\n",
              "      progress.max = size;\n",
              "      div.appendChild(progress);\n",
              "      document.body.appendChild(div);\n",
              "\n",
              "      const buffers = [];\n",
              "      let downloaded = 0;\n",
              "\n",
              "      const channel = await google.colab.kernel.comms.open(id);\n",
              "      // Send a message to notify the kernel that we're ready.\n",
              "      channel.send({})\n",
              "\n",
              "      for await (const message of channel.messages) {\n",
              "        // Send a message to notify the kernel that we're ready.\n",
              "        channel.send({})\n",
              "        if (message.buffers) {\n",
              "          for (const buffer of message.buffers) {\n",
              "            buffers.push(buffer);\n",
              "            downloaded += buffer.byteLength;\n",
              "            progress.value = downloaded;\n",
              "          }\n",
              "        }\n",
              "      }\n",
              "      const blob = new Blob(buffers, {type: 'application/binary'});\n",
              "      const a = document.createElement('a');\n",
              "      a.href = window.URL.createObjectURL(blob);\n",
              "      a.download = filename;\n",
              "      div.appendChild(a);\n",
              "      a.click();\n",
              "      div.remove();\n",
              "    }\n",
              "  "
            ]
          },
          "metadata": {}
        },
        {
          "output_type": "display_data",
          "data": {
            "text/plain": [
              "<IPython.core.display.Javascript object>"
            ],
            "application/javascript": [
              "download(\"download_575106c8-66f3-4bbd-8040-5d7f042de51a\", \"residu-70.json\", 243122)"
            ]
          },
          "metadata": {}
        },
        {
          "output_type": "display_data",
          "data": {
            "text/plain": [
              "<IPython.core.display.Javascript object>"
            ],
            "application/javascript": [
              "\n",
              "    async function download(id, filename, size) {\n",
              "      if (!google.colab.kernel.accessAllowed) {\n",
              "        return;\n",
              "      }\n",
              "      const div = document.createElement('div');\n",
              "      const label = document.createElement('label');\n",
              "      label.textContent = `Downloading \"${filename}\": `;\n",
              "      div.appendChild(label);\n",
              "      const progress = document.createElement('progress');\n",
              "      progress.max = size;\n",
              "      div.appendChild(progress);\n",
              "      document.body.appendChild(div);\n",
              "\n",
              "      const buffers = [];\n",
              "      let downloaded = 0;\n",
              "\n",
              "      const channel = await google.colab.kernel.comms.open(id);\n",
              "      // Send a message to notify the kernel that we're ready.\n",
              "      channel.send({})\n",
              "\n",
              "      for await (const message of channel.messages) {\n",
              "        // Send a message to notify the kernel that we're ready.\n",
              "        channel.send({})\n",
              "        if (message.buffers) {\n",
              "          for (const buffer of message.buffers) {\n",
              "            buffers.push(buffer);\n",
              "            downloaded += buffer.byteLength;\n",
              "            progress.value = downloaded;\n",
              "          }\n",
              "        }\n",
              "      }\n",
              "      const blob = new Blob(buffers, {type: 'application/binary'});\n",
              "      const a = document.createElement('a');\n",
              "      a.href = window.URL.createObjectURL(blob);\n",
              "      a.download = filename;\n",
              "      div.appendChild(a);\n",
              "      a.click();\n",
              "      div.remove();\n",
              "    }\n",
              "  "
            ]
          },
          "metadata": {}
        },
        {
          "output_type": "display_data",
          "data": {
            "text/plain": [
              "<IPython.core.display.Javascript object>"
            ],
            "application/javascript": [
              "download(\"download_ec68a14e-50a0-4ef2-9a3b-62fb282226c7\", \"model-70.h5\", 45160616)"
            ]
          },
          "metadata": {}
        },
        {
          "output_type": "stream",
          "name": "stdout",
          "text": [
            "time: 23.9 ms (started: 2022-12-12 21:13:54 +00:00)\n"
          ]
        }
      ]
    }
  ]
}