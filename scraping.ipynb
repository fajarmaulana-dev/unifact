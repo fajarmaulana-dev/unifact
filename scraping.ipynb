{
  "nbformat": 4,
  "nbformat_minor": 0,
  "metadata": {
    "colab": {
      "provenance": [],
      "authorship_tag": "ABX9TyNsZyeO+zhaSrZYPTxTIJar",
      "include_colab_link": true
    },
    "kernelspec": {
      "name": "python3",
      "display_name": "Python 3"
    },
    "language_info": {
      "name": "python"
    },
    "accelerator": "GPU",
    "gpuClass": "standard"
  },
  "cells": [
    {
      "cell_type": "markdown",
      "metadata": {
        "id": "view-in-github",
        "colab_type": "text"
      },
      "source": [
        "<a href=\"https://colab.research.google.com/github/felkira/unifact.github.io/blob/modeling/scraping.ipynb\" target=\"_parent\"><img src=\"https://colab.research.google.com/assets/colab-badge.svg\" alt=\"Open In Colab\"/></a>"
      ]
    },
    {
      "cell_type": "code",
      "execution_count": null,
      "metadata": {
        "colab": {
          "base_uri": "https://localhost:8080/"
        },
        "id": "60-OdYKe3I5l",
        "outputId": "30373cb3-9077-4375-c54b-d96cdf483323"
      },
      "outputs": [
        {
          "output_type": "stream",
          "name": "stdout",
          "text": [
            "Looking in indexes: https://pypi.org/simple, https://us-python.pkg.dev/colab-wheels/public/simple/\n",
            "Requirement already satisfied: grequests in /usr/local/lib/python3.8/dist-packages (0.6.0)\n",
            "Requirement already satisfied: requests in /usr/local/lib/python3.8/dist-packages (from grequests) (2.23.0)\n",
            "Requirement already satisfied: gevent in /usr/local/lib/python3.8/dist-packages (from grequests) (22.10.2)\n",
            "Requirement already satisfied: greenlet>=2.0.0 in /usr/local/lib/python3.8/dist-packages (from gevent->grequests) (2.0.1)\n",
            "Requirement already satisfied: setuptools in /usr/local/lib/python3.8/dist-packages (from gevent->grequests) (57.4.0)\n",
            "Requirement already satisfied: zope.interface in /usr/local/lib/python3.8/dist-packages (from gevent->grequests) (5.5.2)\n",
            "Requirement already satisfied: zope.event in /usr/local/lib/python3.8/dist-packages (from gevent->grequests) (4.6)\n",
            "Requirement already satisfied: certifi>=2017.4.17 in /usr/local/lib/python3.8/dist-packages (from requests->grequests) (2022.12.7)\n",
            "Requirement already satisfied: chardet<4,>=3.0.2 in /usr/local/lib/python3.8/dist-packages (from requests->grequests) (3.0.4)\n",
            "Requirement already satisfied: idna<3,>=2.5 in /usr/local/lib/python3.8/dist-packages (from requests->grequests) (2.10)\n",
            "Requirement already satisfied: urllib3!=1.25.0,!=1.25.1,<1.26,>=1.21.1 in /usr/local/lib/python3.8/dist-packages (from requests->grequests) (1.24.3)\n",
            "Looking in indexes: https://pypi.org/simple, https://us-python.pkg.dev/colab-wheels/public/simple/\n",
            "Requirement already satisfied: ipython-autotime in /usr/local/lib/python3.8/dist-packages (0.3.1)\n",
            "Requirement already satisfied: ipython in /usr/local/lib/python3.8/dist-packages (from ipython-autotime) (7.9.0)\n",
            "Requirement already satisfied: traitlets>=4.2 in /usr/local/lib/python3.8/dist-packages (from ipython->ipython-autotime) (5.7.1)\n",
            "Requirement already satisfied: setuptools>=18.5 in /usr/local/lib/python3.8/dist-packages (from ipython->ipython-autotime) (57.4.0)\n",
            "Requirement already satisfied: jedi>=0.10 in /usr/local/lib/python3.8/dist-packages (from ipython->ipython-autotime) (0.18.2)\n",
            "Requirement already satisfied: decorator in /usr/local/lib/python3.8/dist-packages (from ipython->ipython-autotime) (4.4.2)\n",
            "Requirement already satisfied: pickleshare in /usr/local/lib/python3.8/dist-packages (from ipython->ipython-autotime) (0.7.5)\n",
            "Requirement already satisfied: backcall in /usr/local/lib/python3.8/dist-packages (from ipython->ipython-autotime) (0.2.0)\n",
            "Requirement already satisfied: prompt-toolkit<2.1.0,>=2.0.0 in /usr/local/lib/python3.8/dist-packages (from ipython->ipython-autotime) (2.0.10)\n",
            "Requirement already satisfied: pygments in /usr/local/lib/python3.8/dist-packages (from ipython->ipython-autotime) (2.6.1)\n",
            "Requirement already satisfied: pexpect in /usr/local/lib/python3.8/dist-packages (from ipython->ipython-autotime) (4.8.0)\n",
            "Requirement already satisfied: parso<0.9.0,>=0.8.0 in /usr/local/lib/python3.8/dist-packages (from jedi>=0.10->ipython->ipython-autotime) (0.8.3)\n",
            "Requirement already satisfied: wcwidth in /usr/local/lib/python3.8/dist-packages (from prompt-toolkit<2.1.0,>=2.0.0->ipython->ipython-autotime) (0.2.5)\n",
            "Requirement already satisfied: six>=1.9.0 in /usr/local/lib/python3.8/dist-packages (from prompt-toolkit<2.1.0,>=2.0.0->ipython->ipython-autotime) (1.15.0)\n",
            "Requirement already satisfied: ptyprocess>=0.5 in /usr/local/lib/python3.8/dist-packages (from pexpect->ipython->ipython-autotime) (0.7.0)\n",
            "Looking in indexes: https://pypi.org/simple, https://us-python.pkg.dev/colab-wheels/public/simple/\n",
            "Requirement already satisfied: langdetect in /usr/local/lib/python3.8/dist-packages (1.0.9)\n",
            "Requirement already satisfied: six in /usr/local/lib/python3.8/dist-packages (from langdetect) (1.15.0)\n"
          ]
        }
      ],
      "source": [
        "# install uninstalled module\n",
        "!pip install grequests\n",
        "!pip install ipython-autotime\n",
        "!pip install langdetect\n",
        "\n",
        "# import all modules that will be used\n",
        "from bs4 import BeautifulSoup as bs\n",
        "from math import ceil\n",
        "from time import sleep\n",
        "from collections import Counter\n",
        "from langdetect import detect_langs\n",
        "import pandas as pd\n",
        "import numpy as np\n",
        "import re, string, grequests, gdown\n",
        "\n",
        "'''\n",
        "module import and configuration bellow is used to\n",
        "stop show warning message on importing grequests module\n",
        "'''\n",
        "import sys\n",
        "del sys.modules[\"grequests\"]\n",
        "del grequests\n",
        "del sys.modules[\"gevent.monkey\"]"
      ]
    },
    {
      "cell_type": "code",
      "execution_count": null,
      "metadata": {
        "id": "8u3up9US3Low",
        "colab": {
          "base_uri": "https://localhost:8080/"
        },
        "outputId": "70f04791-1137-486b-c1cc-44e0aa5dbe83"
      },
      "outputs": [
        {
          "output_type": "stream",
          "name": "stderr",
          "text": [
            "\n",
            "PYDEV DEBUGGER WARNING:\n",
            "sys.settrace() should not be used when the debugger is being used.\n",
            "This may cause the debugger to stop working correctly.\n",
            "If this is needed, please check: \n",
            "http://pydev.blogspot.com/2007/06/why-cant-pydev-debugger-work-with.html\n",
            "to see how to restore the debug tracing back correctly.\n",
            "Call Location:\n",
            "  File \"/usr/local/lib/python3.8/dist-packages/gevent/threadpool.py\", line 163, in _before_run_task\n",
            "    _sys.settrace(_get_thread_trace())\n",
            "\n",
            "\n",
            "PYDEV DEBUGGER WARNING:\n",
            "sys.settrace() should not be used when the debugger is being used.\n",
            "This may cause the debugger to stop working correctly.\n",
            "If this is needed, please check: \n",
            "http://pydev.blogspot.com/2007/06/why-cant-pydev-debugger-work-with.html\n",
            "to see how to restore the debug tracing back correctly.\n",
            "Call Location:\n",
            "  File \"/usr/local/lib/python3.8/dist-packages/gevent/threadpool.py\", line 168, in _after_run_task\n",
            "    _sys.settrace(None)\n",
            "\n"
          ]
        },
        {
          "output_type": "execute_result",
          "data": {
            "text/plain": [
              "[<Response [200]>]"
            ]
          },
          "metadata": {},
          "execution_count": 2
        },
        {
          "output_type": "stream",
          "name": "stdout",
          "text": [
            "time: 181 ms (started: 2022-12-21 10:31:49 +00:00)\n"
          ]
        }
      ],
      "source": [
        "# load autotime generator and import grequests module again\n",
        "# then use grequests once to ensure that the next output is clean\n",
        "%load_ext autotime\n",
        "import grequests\n",
        "grequests.map([grequests.get('https://www.google.com')])"
      ]
    },
    {
      "cell_type": "markdown",
      "source": [
        "# **This is some core function to scraping**\n",
        "\n",
        "The get_urls function is used to collect the url of each page. While the get_data function is used to collect the data of each collected article before. I use grequest module to send http request, because this module support parallel request and so fast like Lightning McQueen. By the way, I separate the parallel request to some part. Each part consist of 50 request with time sleep 2.5s. Because I'm a scraper, not defacer. Big request in the same time can make the server of the target to be down. That is evil right."
      ],
      "metadata": {
        "id": "Ilho-xC0Cq9n"
      }
    },
    {
      "cell_type": "code",
      "execution_count": null,
      "metadata": {
        "id": "5CeHO5C33N_P",
        "colab": {
          "base_uri": "https://localhost:8080/"
        },
        "outputId": "5dc45cda-7457-42a2-9db5-13cfb25bd634"
      },
      "outputs": [
        {
          "output_type": "stream",
          "name": "stdout",
          "text": [
            "time: 2.56 ms (started: 2022-12-21 10:31:49 +00:00)\n"
          ]
        }
      ],
      "source": [
        "def get_urls(url, pages):return [f'{url}{i}/' for i in range(1, pages+1)]\n",
        "\n",
        "def get_data(urls):\n",
        "  part = ceil(len(urls)/50)\n",
        "  req = [[]] * part\n",
        "  res = []\n",
        "  for i in range(part):\n",
        "    req[i] = grequests.map([grequests.get(url) for url in urls[ceil(i*(len(urls)/part)):ceil((i+1)*(len(urls)/part))]])\n",
        "    sleep(2.5)\n",
        "    # print alert and unidentified variable z to throw error and stop fetch process when there is any bad request\n",
        "    for r in req[i]:\n",
        "      if r.status_code != 200:\n",
        "        print(\"Found any bad request.\\nForcibly stop the process!\")\n",
        "        print(z)\n",
        "    print(f\"Processed Part: {ceil(i*(len(urls)/part)) + 1} - {ceil((i+1)*(len(urls)/part))}\")\n",
        "    res += req[i]\n",
        "  return res"
      ]
    },
    {
      "cell_type": "markdown",
      "source": [
        "# **Hoax Scraping Part**\n",
        "\n",
        "I use [turnbackhoax](https://turnbackhoax.id) to get hoax data. This website accomodate it."
      ],
      "metadata": {
        "id": "D9bV1CLfWss6"
      }
    },
    {
      "cell_type": "code",
      "source": [
        "hoax_urls = get_urls('https://turnbackhoax.id/page/', 492)"
      ],
      "metadata": {
        "colab": {
          "base_uri": "https://localhost:8080/"
        },
        "id": "urvCAbhyRTRb",
        "outputId": "c98e4313-f609-4cfa-d059-a2742643059c"
      },
      "execution_count": null,
      "outputs": [
        {
          "output_type": "stream",
          "name": "stdout",
          "text": [
            "time: 707 µs (started: 2022-12-21 10:40:33 +00:00)\n"
          ]
        }
      ]
    },
    {
      "cell_type": "code",
      "execution_count": null,
      "metadata": {
        "colab": {
          "base_uri": "https://localhost:8080/"
        },
        "id": "5tht6cnmEVF_",
        "outputId": "3df8f44a-509d-4e14-f3fb-532192d9ab28"
      },
      "outputs": [
        {
          "output_type": "stream",
          "name": "stdout",
          "text": [
            "Processed Part: 1 - 50\n",
            "Processed Part: 51 - 99\n",
            "Processed Part: 100 - 148\n",
            "Processed Part: 149 - 197\n",
            "Processed Part: 198 - 246\n",
            "Processed Part: 247 - 296\n",
            "Processed Part: 297 - 345\n",
            "Processed Part: 346 - 394\n",
            "Processed Part: 395 - 443\n",
            "Processed Part: 444 - 492\n",
            "time: 1min 45s (started: 2022-12-21 10:40:37 +00:00)\n"
          ]
        }
      ],
      "source": [
        "hoax_res = get_data(hoax_urls)"
      ]
    },
    {
      "cell_type": "markdown",
      "source": [
        "# **Let's Scrape the Datas !**\n",
        "\n",
        "We can use BeautifulSoup not to cook a soup, but to extract the desired content from articles. For now, I use this module to extract the url from each article on each page. With the collected url, of course I can extract more details of each article."
      ],
      "metadata": {
        "id": "KXy5r9c-ECOl"
      }
    },
    {
      "cell_type": "code",
      "execution_count": null,
      "metadata": {
        "colab": {
          "base_uri": "https://localhost:8080/"
        },
        "id": "vltWecPOLwOU",
        "outputId": "225ba197-6bef-4556-84fe-38e882ad2af9"
      },
      "outputs": [
        {
          "output_type": "stream",
          "name": "stdout",
          "text": [
            "Number of fetched data: 8050\n",
            "time: 21.1 s (started: 2022-12-21 10:42:42 +00:00)\n"
          ]
        }
      ],
      "source": [
        "hoax_links = []\n",
        "for r in hoax_res:\n",
        "  sp = bs(r.content, 'html.parser') # start to scrape\n",
        "  data = sp.find_all('header', {'class': 'mh-loop-header'})\n",
        "  for i in data:\n",
        "    title = i.find('a').text\n",
        "    link = i.find('a')['href']\n",
        "    if ('[SALAH]' in title or '[HOAX]' in title or 'ISINFORMASI]' in title) and '[FALSE]' not in title:\n",
        "      hoax_links.append(link) # I don't want the article in english, so I skip the article with '[FALSE]' on its title\n",
        "\n",
        "# calculate the number of article that has fetched successfully\n",
        "print(f'Number of fetched data: {len(hoax_links)}')"
      ]
    },
    {
      "cell_type": "code",
      "execution_count": null,
      "metadata": {
        "id": "BtbUPbIbGR2V"
      },
      "outputs": [],
      "source": [
        "hoax_content = get_data(hoax_links)"
      ]
    },
    {
      "cell_type": "markdown",
      "source": [
        "Well, we have the urls now. Lets extract more details of each article, like title, narrative, date, and category. Because hoax has seven categories. You can refer to [FirstDraft (2017)](https://firstdraftnews.org/articles/fake-news-complicated/) to get more insight about hoax or fake news. By the way, the article in turnbackhoax.id is difficult enough to be scraped, so that, I must use some filters 😥 .\n",
        "\n",
        "![image.png](https://firstdraftnews.org/wp-content/uploads/2017/02/FDN_7Types_Misinfo-01-1024x576.jpg)"
      ],
      "metadata": {
        "id": "NgiORpbHHCn2"
      }
    },
    {
      "cell_type": "code",
      "execution_count": null,
      "metadata": {
        "id": "y7GDHxLas6GY",
        "colab": {
          "base_uri": "https://localhost:8080/"
        },
        "outputId": "b928da20-3686-4073-bf77-52060c476c5b"
      },
      "outputs": [
        {
          "output_type": "stream",
          "name": "stdout",
          "text": [
            "time: 3min 4s (started: 2022-12-21 11:27:54 +00:00)\n"
          ]
        }
      ],
      "source": [
        "hoax_titles = []\n",
        "hoax_narratives = []\n",
        "hoax_dates = []\n",
        "hoax_categories = []\n",
        "\n",
        "def filter(i, j, k, nar, exp, narrative):\n",
        "  if k != None and '@' not in k and '#' not in k and 'dua klaim itu sudah masuk' not in k:\n",
        "    nar_idx = narrative.index(nar)\n",
        "    exp_idx = narrative.index(exp)\n",
        "    hoax_narratives.append(' '.join(narrative[nar_idx+1:exp_idx]))\n",
        "    hoax_titles.append(i)\n",
        "    hoax_dates.append(j)\n",
        "    hoax_categories.append(k)\n",
        "\n",
        "for i in hoax_content:\n",
        "  sp = bs(i.content, 'html.parser')\n",
        "  data = sp.find_all('article')\n",
        "  for i in data:\n",
        "    title = i.find('h1').text.lower()\n",
        "    narrative = i.find('div', {'class': 'entry-content'}).getText(separator=\" \").lower().split()\n",
        "    date = i.find('span', {'class': 'entry-meta-date updated'}).text\n",
        "    category = i.find(text=re.compile(\n",
        "    '''(\n",
        "      : satir|: parodi|: misleading|: konten yang menyesatkan|: fabricated|: konten palsu|: konten|: impostor|\n",
        "      : false context|: konteks yang salah|: konten yang salah|: manipulated|: konten yang dimanipulasi|: imposter|\n",
        "      : konten tiruan|: false connection|: koneksi yang salah|\n",
        "      satir|satire.|parodi.|misleading content.|konten yang menyesatkan.|fabricated content.|konten palsu.|impostor content.|\n",
        "      false context.|konteks yang salah.|konten yang salah.|manipulated content.|konten yang dimanipulasi.|imposter content.|\n",
        "      konten tiruan.|false connection.|koneksi yang salah.\n",
        "    )'''\n",
        "    , re.IGNORECASE))\n",
        "\n",
        "    try:\n",
        "      filter(title, date, category, 'narasi:', 'penjelasan:', narrative)\n",
        "    except:\n",
        "      try:\n",
        "        filter(title, date, category, '(narasi):', '(penjelasan):', narrative)\n",
        "      except:\n",
        "        try:\n",
        "          filter(title, date, category, '[narasi]:', '[penjelasan]:', narrative)\n",
        "        except:\n",
        "          try:\n",
        "            filter(title, date, category, 'narasi :', 'penjelasan :', narrative)\n",
        "          except:\n",
        "            try:\n",
        "              filter(title, date, category, 'narasi:', 'penjelasan', narrative)\n",
        "            except:\n",
        "              if category != None and '@' not in category and '#' not in category and 'dua klaim itu sudah masuk' not in category:\n",
        "                hoax_narratives.append(title)\n",
        "                hoax_titles.append(title)\n",
        "                hoax_dates.append(date)\n",
        "                hoax_categories.append(category)"
      ]
    },
    {
      "cell_type": "code",
      "execution_count": null,
      "metadata": {
        "id": "GjMO-fxLybRE",
        "colab": {
          "base_uri": "https://localhost:8080/"
        },
        "outputId": "542f0467-b041-479a-b0f5-f299a87140af"
      },
      "outputs": [
        {
          "output_type": "stream",
          "name": "stdout",
          "text": [
            "['[salah] video juru kamera terlihat lebih cepat dari peserta lomba lari', '[salah] pernyataan ceo pfizer: “saya mengundurkan diri dan vaksin mrna belum terbukti aman”', '[salah] “video perkumpulan lgbt di sicc sentul”', '[salah] dijerat perkara terselubung bawaslu resmi tetapkan anies pasal berat', '“120 penonton non-muslim yang datang untuk menyaksikan pertandingan sepak bola piala dunia fifa 2022 di qatar telah memeluk islam.” = = =']\n",
            "time: 731 µs (started: 2022-12-21 11:30:59 +00:00)\n"
          ]
        }
      ],
      "source": [
        "print(hoax_narratives[:5])"
      ]
    },
    {
      "cell_type": "code",
      "source": [
        "for i in range(len(hoax_narratives)):\n",
        "  if hoax_narratives[i] == \"\":\n",
        "    hoax_narratives[i] = hoax_titles[i]"
      ],
      "metadata": {
        "id": "AQFDdqcVXBvb",
        "colab": {
          "base_uri": "https://localhost:8080/"
        },
        "outputId": "f317cabb-e00a-4602-951b-cbe5211215f9"
      },
      "execution_count": null,
      "outputs": [
        {
          "output_type": "stream",
          "name": "stdout",
          "text": [
            "time: 2.51 ms (started: 2022-12-21 11:30:59 +00:00)\n"
          ]
        }
      ]
    },
    {
      "cell_type": "markdown",
      "source": [
        "# **Boring Time !**\n",
        "\n",
        "It's time to make the data clean. The hardest part in NLP. ( I mean Indonesian NLP )"
      ],
      "metadata": {
        "id": "DvfjX4A9OjvY"
      }
    },
    {
      "cell_type": "code",
      "execution_count": null,
      "metadata": {
        "id": "GZOgcbwAgQIj",
        "colab": {
          "base_uri": "https://localhost:8080/"
        },
        "outputId": "391e52d2-e378-410e-d5ac-e87407bca212"
      },
      "outputs": [
        {
          "output_type": "stream",
          "name": "stdout",
          "text": [
            "time: 2.24 s (started: 2022-12-21 11:31:27 +00:00)\n"
          ]
        }
      ],
      "source": [
        "def clean_text(text):\n",
        "    text = text.lower() # make text in lowercase\n",
        "    text = re.sub(r'(\\S+|)(http|blogspot|@|mail|dot)(\\S+|)', '', text) # remove mail and weird urls like http://blabla[dot]com\n",
        "    text = \" \".join([w.replace(w, '') if ('.' and '/') in w else w for w in text.split()]) # remove all word that contain dot and slash (urls)\n",
        "    text = re.sub('[.,-]', ' ', text) # remove weird symbol, just Indotizen can do it\n",
        "    text = \"\".join([i for i in text if ord(i) < 128]) # remove non-ascii character (this is remove all emoticon)\n",
        "    text = re.sub('\\[.*?\\]', '', text) # remove text in square brackets\n",
        "    text = re.sub('<.*?>+', '', text) # remove html tags\n",
        "    text = \" \".join([re.sub('[%s]' % re.escape(string.punctuation), ' ', w) if '#' not in w else w for w in text.split()]) # remove punctuation\n",
        "    text = \" \".join([w.replace(w, '') if w.isdigit() else w.replace(w, '') if (len(re.findall(r'\\d+', w)) > 0 and len(re.findall(r'\\d+', w)[0]) >= 7) else w for w in text.split()]) # remove all number and word with a lot number aka WA urls\n",
        "    return text.strip() # remove tab\n",
        "\n",
        "for i in range(len(hoax_narratives)):\n",
        "  hoax_narratives[i] = clean_text(hoax_narratives[i])\n",
        "  hoax_titles[i] = clean_text(hoax_titles[i])"
      ]
    },
    {
      "cell_type": "code",
      "execution_count": null,
      "metadata": {
        "id": "q9Hrnq3SiPPI",
        "colab": {
          "base_uri": "https://localhost:8080/"
        },
        "outputId": "2b8f87cd-7ea9-499b-874f-95bae9a7bc9c"
      },
      "outputs": [
        {
          "output_type": "stream",
          "name": "stdout",
          "text": [
            "['video juru kamera terlihat lebih cepat dari peserta lomba lari', 'pernyataan ceo pfizer saya mengundurkan diri dan vaksin mrna belum terbukti aman', 'video perkumpulan lgbt di sicc sentul', 'dijerat perkara terselubung bawaslu resmi tetapkan anies pasal berat', 'penonton non muslim yang datang untuk menyaksikan pertandingan sepak bola piala dunia fifa  di qatar telah memeluk islam']\n",
            "time: 1.84 ms (started: 2022-12-21 11:31:29 +00:00)\n"
          ]
        }
      ],
      "source": [
        "print(hoax_narratives[:5])"
      ]
    },
    {
      "cell_type": "code",
      "execution_count": null,
      "metadata": {
        "id": "EDMzicfrimvn",
        "colab": {
          "base_uri": "https://localhost:8080/"
        },
        "outputId": "845ef208-0ec5-4f34-a2bc-055b8362fea2"
      },
      "outputs": [
        {
          "output_type": "stream",
          "name": "stdout",
          "text": [
            "time: 2.35 ms (started: 2022-12-21 11:31:29 +00:00)\n"
          ]
        }
      ],
      "source": [
        "for i in range(len(hoax_narratives)):\n",
        "  if hoax_narratives[i] == \"\": # just to verify if anything failed while scraping\n",
        "    hoax_narratives[i] = hoax_titles[i]"
      ]
    },
    {
      "cell_type": "code",
      "execution_count": null,
      "metadata": {
        "id": "RgyIKQAYhit5",
        "colab": {
          "base_uri": "https://localhost:8080/"
        },
        "outputId": "7f80ebfa-ba74-4ef1-dc00-f25702628348"
      },
      "outputs": [
        {
          "output_type": "stream",
          "name": "stdout",
          "text": [
            "time: 1.23 ms (started: 2022-12-21 11:31:29 +00:00)\n"
          ]
        }
      ],
      "source": [
        "'''\n",
        "define function for better life again.\n",
        "first function is used to download file from google drive\n",
        "while the second function is used to convert txt file to sets.\n",
        "I will use both functions a lot later.\n",
        "'''\n",
        "\n",
        "def drive(id, name):\n",
        "  gdown.download(f'https://drive.google.com/u/0/uc?id={id}&export=download', name, quiet=False)\n",
        "\n",
        "def txt_to_sets(txt, sets, sep):\n",
        "  filename = open(f'/content/{txt}', \"r\")\n",
        "  file_read = filename.read()\n",
        "  for i in file_read.split(sep=sep): sets.add(i)\n",
        "  filename.close()"
      ]
    },
    {
      "cell_type": "code",
      "execution_count": null,
      "metadata": {
        "id": "buQ73AR-hsPU",
        "colab": {
          "base_uri": "https://localhost:8080/"
        },
        "outputId": "f70890db-3456-43f1-b98e-1d31113e4dd9"
      },
      "outputs": [
        {
          "output_type": "stream",
          "name": "stderr",
          "text": [
            "Downloading...\n",
            "From: https://drive.google.com/u/0/uc?id=1a4wLhTZc3zKfsfm3JPtjWXjmMYT5b9cE&export=download\n",
            "To: /content/tags.txt\n",
            "100%|██████████| 11.4k/11.4k [00:00<00:00, 10.1MB/s]"
          ]
        },
        {
          "output_type": "stream",
          "name": "stdout",
          "text": [
            "time: 1.42 s (started: 2022-12-21 11:31:29 +00:00)\n"
          ]
        },
        {
          "output_type": "stream",
          "name": "stderr",
          "text": [
            "\n"
          ]
        }
      ],
      "source": [
        "drive('1a4wLhTZc3zKfsfm3JPtjWXjmMYT5b9cE', 'tags.txt')\n",
        "\n",
        "hashtag = set()\n",
        "txt_to_sets('tags.txt', hashtag, ',') # this txt file contains some data of indonesian tags, incomplete but enough\n",
        "\n",
        "wordList = list(dict.fromkeys(hashtag)) # dict.fromkeys() is used to remove duplicate datas in set. thanks to python\n",
        "wordList.remove('')"
      ]
    },
    {
      "cell_type": "code",
      "execution_count": null,
      "metadata": {
        "id": "XbQ5jAx03Oln",
        "colab": {
          "base_uri": "https://localhost:8080/"
        },
        "outputId": "545a6e4a-c9a3-46fe-d6f5-e9f4d622c5e0"
      },
      "outputs": [
        {
          "output_type": "stream",
          "name": "stdout",
          "text": [
            "time: 941 µs (started: 2022-12-21 11:31:31 +00:00)\n"
          ]
        }
      ],
      "source": [
        "'''\n",
        "hastag in Indonesian is so weird\n",
        "like #TurunkanHargaBBM or #jokowi_mundur\n",
        "content in hashtag is important but difficult enough to be extracted\n",
        "'''\n",
        "\n",
        "wordOr = '|'.join(wordList)\n",
        "\n",
        "def splitHashTag(hashTag):\n",
        "  new_words = []\n",
        "  for wordSequence in re.findall('(?:' + wordOr + ')+', hashTag):\n",
        "    for word in re.findall(wordOr, wordSequence):\n",
        "      new_words.append(word)\n",
        "  return ' '.join(new_words)"
      ]
    },
    {
      "cell_type": "code",
      "execution_count": null,
      "metadata": {
        "id": "V1yneqEcoNDH",
        "colab": {
          "base_uri": "https://localhost:8080/"
        },
        "outputId": "1a12d646-0b45-4fb5-bbef-da3f6e1b4959"
      },
      "outputs": [
        {
          "output_type": "stream",
          "name": "stdout",
          "text": [
            "time: 121 ms (started: 2022-12-21 11:31:31 +00:00)\n"
          ]
        }
      ],
      "source": [
        "for i in range(len(hoax_narratives)):\n",
        "  hoax_narratives[i] = ' '.join([splitHashTag(w) if '#' in w else w for w in hoax_narratives[i].split()])\n",
        "  hoax_titles[i] = ' '.join([splitHashTag(w) if '#' in w else w for w in hoax_titles[i].split()])"
      ]
    },
    {
      "cell_type": "code",
      "execution_count": null,
      "metadata": {
        "id": "9DQfh6O_oXwJ",
        "colab": {
          "base_uri": "https://localhost:8080/"
        },
        "outputId": "9026ac8f-2be5-4f43-d796-22717adf2aaf"
      },
      "outputs": [
        {
          "output_type": "stream",
          "name": "stdout",
          "text": [
            "['video juru kamera terlihat lebih cepat dari peserta lomba lari', 'pernyataan ceo pfizer saya mengundurkan diri dan vaksin mrna belum terbukti aman', 'video perkumpulan lgbt di sicc sentul', 'dijerat perkara terselubung bawaslu resmi tetapkan anies pasal berat', 'penonton non muslim yang datang untuk menyaksikan pertandingan sepak bola piala dunia fifa di qatar telah memeluk islam']\n",
            "time: 2.48 ms (started: 2022-12-21 11:31:31 +00:00)\n"
          ]
        }
      ],
      "source": [
        "print(hoax_narratives[:5])"
      ]
    },
    {
      "cell_type": "code",
      "execution_count": null,
      "metadata": {
        "id": "TQ0f1n4X3GBb",
        "colab": {
          "base_uri": "https://localhost:8080/"
        },
        "outputId": "57624704-1424-45a3-d772-f1e752485e5d"
      },
      "outputs": [
        {
          "output_type": "stream",
          "name": "stdout",
          "text": [
            "['video juru kamera terlihat lebih cepat dari peserta lomba lari', 'pernyataan ceo pfizer saya mengundurkan diri dan vaksin mrna belum terbukti aman', 'video perkumpulan lgbt di sicc sentul', 'dijerat perkara terselubung bawaslu resmi tetapkan anies pasal berat', 'video para supporter bola masuk islam di piala dunia qatar']\n",
            "time: 500 µs (started: 2022-12-21 11:31:31 +00:00)\n"
          ]
        }
      ],
      "source": [
        "print(hoax_titles[:5])"
      ]
    },
    {
      "cell_type": "code",
      "source": [
        "for i in range(len(hoax_narratives)):\n",
        "  if len(hoax_narratives[i].split()) <= 8:\n",
        "    hoax_narratives[i] = hoax_titles[i]"
      ],
      "metadata": {
        "id": "Xsopuj1QD5YK",
        "colab": {
          "base_uri": "https://localhost:8080/"
        },
        "outputId": "abde14d5-203c-4cca-cc15-bdc17c47d0ca"
      },
      "execution_count": null,
      "outputs": [
        {
          "output_type": "stream",
          "name": "stdout",
          "text": [
            "time: 18.1 ms (started: 2022-12-21 11:31:31 +00:00)\n"
          ]
        }
      ]
    },
    {
      "cell_type": "code",
      "source": [
        "print(hoax_narratives[:5])"
      ],
      "metadata": {
        "id": "G7CdY11XEQDU",
        "colab": {
          "base_uri": "https://localhost:8080/"
        },
        "outputId": "8a5e7a8c-cd94-4ab4-ecfb-74b2ece46d88"
      },
      "execution_count": null,
      "outputs": [
        {
          "output_type": "stream",
          "name": "stdout",
          "text": [
            "['video juru kamera terlihat lebih cepat dari peserta lomba lari', 'pernyataan ceo pfizer saya mengundurkan diri dan vaksin mrna belum terbukti aman', 'video perkumpulan lgbt di sicc sentul', 'dijerat perkara terselubung bawaslu resmi tetapkan anies pasal berat', 'penonton non muslim yang datang untuk menyaksikan pertandingan sepak bola piala dunia fifa di qatar telah memeluk islam']\n",
            "time: 1.52 ms (started: 2022-12-21 11:31:31 +00:00)\n"
          ]
        }
      ]
    },
    {
      "cell_type": "code",
      "execution_count": null,
      "metadata": {
        "id": "VbI30lz5y3PK",
        "colab": {
          "base_uri": "https://localhost:8080/"
        },
        "outputId": "e3611b19-ce7e-430a-8ed6-6ecef99139ea"
      },
      "outputs": [
        {
          "output_type": "stream",
          "name": "stdout",
          "text": [
            "time: 253 ms (started: 2022-12-21 11:31:31 +00:00)\n"
          ]
        }
      ],
      "source": [
        "# let see how much remaining word with number\n",
        "\n",
        "word_with_number = []\n",
        "for i in range(len(hoax_titles)):\n",
        "  a = re.compile(r'([A-Za-z]+[\\d@]+[\\w@]*|[\\d@]+[A-Za-z]+[\\w@]*)').findall(hoax_titles[i])\n",
        "  b = re.compile(r'([A-Za-z]+[\\d@]+[\\w@]*|[\\d@]+[A-Za-z]+[\\w@]*)').findall(hoax_narratives[i])\n",
        "  word_with_number += a\n",
        "  word_with_number += b\n",
        "\n",
        "word_with_number = list(dict.fromkeys(word_with_number))"
      ]
    },
    {
      "cell_type": "code",
      "execution_count": null,
      "metadata": {
        "id": "CgxVwUkd1E8S",
        "colab": {
          "base_uri": "https://localhost:8080/"
        },
        "outputId": "02370963-7ca9-4f45-c09b-667ec7a6acfb"
      },
      "outputs": [
        {
          "output_type": "stream",
          "name": "stdout",
          "text": [
            "900\n",
            "time: 1.59 ms (started: 2022-12-21 11:31:31 +00:00)\n"
          ]
        }
      ],
      "source": [
        "print(len(word_with_number))"
      ]
    },
    {
      "cell_type": "code",
      "execution_count": null,
      "metadata": {
        "id": "jeRBYvm3xiur",
        "colab": {
          "base_uri": "https://localhost:8080/",
          "height": 514
        },
        "outputId": "128d4332-1163-496c-d217-33c5c6aa45b4"
      },
      "outputs": [
        {
          "output_type": "stream",
          "name": "stderr",
          "text": [
            "Downloading...\n",
            "From: https://drive.google.com/u/0/uc?id=1XcHBG8XpbkTDSwOtcjK1tJqqD6qWHCli&export=download\n",
            "To: /content/alay.csv\n",
            "100%|██████████| 384k/384k [00:00<00:00, 90.0MB/s]\n"
          ]
        },
        {
          "output_type": "execute_result",
          "data": {
            "text/plain": [
              "            alay    normal\n",
              "0       ramayana  ramayana\n",
              "1        000lima      lima\n",
              "2      000tolong    tolong\n",
              "3       000untuk     untuk\n",
              "4          01dan       dan\n",
              "...          ...       ...\n",
              "20104        zul       zul\n",
              "20105     zupeer     super\n",
              "20106      zuyle      zumi\n",
              "20107       zuzu      susu\n",
              "20108         zz       hem\n",
              "\n",
              "[20109 rows x 2 columns]"
            ],
            "text/html": [
              "\n",
              "  <div id=\"df-40b5771e-9ad0-4fc1-98e2-183a29fb83a2\">\n",
              "    <div class=\"colab-df-container\">\n",
              "      <div>\n",
              "<style scoped>\n",
              "    .dataframe tbody tr th:only-of-type {\n",
              "        vertical-align: middle;\n",
              "    }\n",
              "\n",
              "    .dataframe tbody tr th {\n",
              "        vertical-align: top;\n",
              "    }\n",
              "\n",
              "    .dataframe thead th {\n",
              "        text-align: right;\n",
              "    }\n",
              "</style>\n",
              "<table border=\"1\" class=\"dataframe\">\n",
              "  <thead>\n",
              "    <tr style=\"text-align: right;\">\n",
              "      <th></th>\n",
              "      <th>alay</th>\n",
              "      <th>normal</th>\n",
              "    </tr>\n",
              "  </thead>\n",
              "  <tbody>\n",
              "    <tr>\n",
              "      <th>0</th>\n",
              "      <td>ramayana</td>\n",
              "      <td>ramayana</td>\n",
              "    </tr>\n",
              "    <tr>\n",
              "      <th>1</th>\n",
              "      <td>000lima</td>\n",
              "      <td>lima</td>\n",
              "    </tr>\n",
              "    <tr>\n",
              "      <th>2</th>\n",
              "      <td>000tolong</td>\n",
              "      <td>tolong</td>\n",
              "    </tr>\n",
              "    <tr>\n",
              "      <th>3</th>\n",
              "      <td>000untuk</td>\n",
              "      <td>untuk</td>\n",
              "    </tr>\n",
              "    <tr>\n",
              "      <th>4</th>\n",
              "      <td>01dan</td>\n",
              "      <td>dan</td>\n",
              "    </tr>\n",
              "    <tr>\n",
              "      <th>...</th>\n",
              "      <td>...</td>\n",
              "      <td>...</td>\n",
              "    </tr>\n",
              "    <tr>\n",
              "      <th>20104</th>\n",
              "      <td>zul</td>\n",
              "      <td>zul</td>\n",
              "    </tr>\n",
              "    <tr>\n",
              "      <th>20105</th>\n",
              "      <td>zupeer</td>\n",
              "      <td>super</td>\n",
              "    </tr>\n",
              "    <tr>\n",
              "      <th>20106</th>\n",
              "      <td>zuyle</td>\n",
              "      <td>zumi</td>\n",
              "    </tr>\n",
              "    <tr>\n",
              "      <th>20107</th>\n",
              "      <td>zuzu</td>\n",
              "      <td>susu</td>\n",
              "    </tr>\n",
              "    <tr>\n",
              "      <th>20108</th>\n",
              "      <td>zz</td>\n",
              "      <td>hem</td>\n",
              "    </tr>\n",
              "  </tbody>\n",
              "</table>\n",
              "<p>20109 rows × 2 columns</p>\n",
              "</div>\n",
              "      <button class=\"colab-df-convert\" onclick=\"convertToInteractive('df-40b5771e-9ad0-4fc1-98e2-183a29fb83a2')\"\n",
              "              title=\"Convert this dataframe to an interactive table.\"\n",
              "              style=\"display:none;\">\n",
              "        \n",
              "  <svg xmlns=\"http://www.w3.org/2000/svg\" height=\"24px\"viewBox=\"0 0 24 24\"\n",
              "       width=\"24px\">\n",
              "    <path d=\"M0 0h24v24H0V0z\" fill=\"none\"/>\n",
              "    <path d=\"M18.56 5.44l.94 2.06.94-2.06 2.06-.94-2.06-.94-.94-2.06-.94 2.06-2.06.94zm-11 1L8.5 8.5l.94-2.06 2.06-.94-2.06-.94L8.5 2.5l-.94 2.06-2.06.94zm10 10l.94 2.06.94-2.06 2.06-.94-2.06-.94-.94-2.06-.94 2.06-2.06.94z\"/><path d=\"M17.41 7.96l-1.37-1.37c-.4-.4-.92-.59-1.43-.59-.52 0-1.04.2-1.43.59L10.3 9.45l-7.72 7.72c-.78.78-.78 2.05 0 2.83L4 21.41c.39.39.9.59 1.41.59.51 0 1.02-.2 1.41-.59l7.78-7.78 2.81-2.81c.8-.78.8-2.07 0-2.86zM5.41 20L4 18.59l7.72-7.72 1.47 1.35L5.41 20z\"/>\n",
              "  </svg>\n",
              "      </button>\n",
              "      \n",
              "  <style>\n",
              "    .colab-df-container {\n",
              "      display:flex;\n",
              "      flex-wrap:wrap;\n",
              "      gap: 12px;\n",
              "    }\n",
              "\n",
              "    .colab-df-convert {\n",
              "      background-color: #E8F0FE;\n",
              "      border: none;\n",
              "      border-radius: 50%;\n",
              "      cursor: pointer;\n",
              "      display: none;\n",
              "      fill: #1967D2;\n",
              "      height: 32px;\n",
              "      padding: 0 0 0 0;\n",
              "      width: 32px;\n",
              "    }\n",
              "\n",
              "    .colab-df-convert:hover {\n",
              "      background-color: #E2EBFA;\n",
              "      box-shadow: 0px 1px 2px rgba(60, 64, 67, 0.3), 0px 1px 3px 1px rgba(60, 64, 67, 0.15);\n",
              "      fill: #174EA6;\n",
              "    }\n",
              "\n",
              "    [theme=dark] .colab-df-convert {\n",
              "      background-color: #3B4455;\n",
              "      fill: #D2E3FC;\n",
              "    }\n",
              "\n",
              "    [theme=dark] .colab-df-convert:hover {\n",
              "      background-color: #434B5C;\n",
              "      box-shadow: 0px 1px 3px 1px rgba(0, 0, 0, 0.15);\n",
              "      filter: drop-shadow(0px 1px 2px rgba(0, 0, 0, 0.3));\n",
              "      fill: #FFFFFF;\n",
              "    }\n",
              "  </style>\n",
              "\n",
              "      <script>\n",
              "        const buttonEl =\n",
              "          document.querySelector('#df-40b5771e-9ad0-4fc1-98e2-183a29fb83a2 button.colab-df-convert');\n",
              "        buttonEl.style.display =\n",
              "          google.colab.kernel.accessAllowed ? 'block' : 'none';\n",
              "\n",
              "        async function convertToInteractive(key) {\n",
              "          const element = document.querySelector('#df-40b5771e-9ad0-4fc1-98e2-183a29fb83a2');\n",
              "          const dataTable =\n",
              "            await google.colab.kernel.invokeFunction('convertToInteractive',\n",
              "                                                     [key], {});\n",
              "          if (!dataTable) return;\n",
              "\n",
              "          const docLinkHtml = 'Like what you see? Visit the ' +\n",
              "            '<a target=\"_blank\" href=https://colab.research.google.com/notebooks/data_table.ipynb>data table notebook</a>'\n",
              "            + ' to learn more about interactive tables.';\n",
              "          element.innerHTML = '';\n",
              "          dataTable['output_type'] = 'display_data';\n",
              "          await google.colab.output.renderOutput(dataTable, element);\n",
              "          const docLink = document.createElement('div');\n",
              "          docLink.innerHTML = docLinkHtml;\n",
              "          element.appendChild(docLink);\n",
              "        }\n",
              "      </script>\n",
              "    </div>\n",
              "  </div>\n",
              "  "
            ]
          },
          "metadata": {},
          "execution_count": 29
        },
        {
          "output_type": "stream",
          "name": "stdout",
          "text": [
            "time: 1.7 s (started: 2022-12-21 11:31:31 +00:00)\n"
          ]
        }
      ],
      "source": [
        "# this dataset help us to normalize the weird words of Indotizen\n",
        "drive('1XcHBG8XpbkTDSwOtcjK1tJqqD6qWHCli', 'alay.csv')\n",
        "alay = pd.read_csv('/content/alay.csv')\n",
        "alay"
      ]
    },
    {
      "cell_type": "code",
      "source": [
        "drive('1hosi8uadYMeqfarBWlm7NZormxTjr-Vu', 'abnormal.txt')\n",
        "abnormal = set()\n",
        "txt_to_sets('abnormal.txt', abnormal, '\\n') # these are some words that pass the filtering process. I don't know why."
      ],
      "metadata": {
        "id": "LrbXURCToAyA",
        "colab": {
          "base_uri": "https://localhost:8080/"
        },
        "outputId": "b982c8f3-1780-4663-9288-db6e315b810c"
      },
      "execution_count": null,
      "outputs": [
        {
          "output_type": "stream",
          "name": "stderr",
          "text": [
            "Downloading...\n",
            "From: https://drive.google.com/u/0/uc?id=1hosi8uadYMeqfarBWlm7NZormxTjr-Vu&export=download\n",
            "To: /content/abnormal.txt\n",
            "100%|██████████| 1.38k/1.38k [00:00<00:00, 1.41MB/s]"
          ]
        },
        {
          "output_type": "stream",
          "name": "stdout",
          "text": [
            "time: 1.54 s (started: 2022-12-21 11:31:33 +00:00)\n"
          ]
        },
        {
          "output_type": "stream",
          "name": "stderr",
          "text": [
            "\n"
          ]
        }
      ]
    },
    {
      "cell_type": "code",
      "source": [
        "def normalize(text):\n",
        "  # normalize text\n",
        "  n = text.split()\n",
        "  for a in range(len(alay['alay'])):\n",
        "    if alay['alay'][a] in n:\n",
        "      n[n.index(alay['alay'][a])] = alay['normal'][a]\n",
        "  \n",
        "  text = \" \".join(n)\n",
        "  text = \" \".join(w for w in text.split() if not any(c.isdigit() for c in w)) # remove word containing number (just to verify)\n",
        "  text = \" \".join(w for w in text.split() if w not in abnormal)\n",
        "  text = clean_text(text)\n",
        "  return text"
      ],
      "metadata": {
        "id": "s1AlXJN8nPDP",
        "colab": {
          "base_uri": "https://localhost:8080/"
        },
        "outputId": "9f1f578b-6efd-4867-bc0e-958bd8c704f0"
      },
      "execution_count": null,
      "outputs": [
        {
          "output_type": "stream",
          "name": "stdout",
          "text": [
            "time: 1.68 ms (started: 2022-12-21 11:31:34 +00:00)\n"
          ]
        }
      ]
    },
    {
      "cell_type": "code",
      "source": [
        "normal_narrative = []\n",
        "normal_title = []\n",
        "for i in range(len(hoax_narratives)):\n",
        "  if i != 0 and i % 100 == 0:\n",
        "    print(f'{i} datas has been normalized')\n",
        "\n",
        "  normal_narrative.append(normalize(hoax_narratives[i]))\n",
        "\n",
        "  temp = normalize(hoax_titles[i])\n",
        "  if str(detect_langs(temp)[0])[:2] != 'id': temp = 'a' # convert non Indonesian title to string 'a', because I will remove datas with non Indonesian later\n",
        "  \n",
        "  normal_title.append(temp)"
      ],
      "metadata": {
        "id": "EdpoUCc5o0xi"
      },
      "execution_count": null,
      "outputs": []
    },
    {
      "cell_type": "code",
      "source": [
        "temp_nar = normal_narrative\n",
        "\n",
        "for i in range(len(temp_nar)):\n",
        "  det = detect_langs(temp_nar[i][0:int(1/2*len(temp_nar[i]))])[0]\n",
        "  if str(det)[:2] != 'id':\n",
        "    temp_nar[i] = normal_title[i] # this is too. I use title for narrative if the narratve not use Indonesian\n",
        "  \n",
        "  temp_nar[i] = \" \".join(w for w in temp_nar[i].split() if len(w) > 1) # remove word that contain less than 2 character"
      ],
      "metadata": {
        "id": "wdvTg8f4rbmL",
        "colab": {
          "base_uri": "https://localhost:8080/"
        },
        "outputId": "3ebefc74-51c4-4a61-917a-da7de6a75d5f"
      },
      "execution_count": null,
      "outputs": [
        {
          "output_type": "stream",
          "name": "stdout",
          "text": [
            "time: 40.9 s (started: 2022-12-21 11:52:02 +00:00)\n"
          ]
        }
      ]
    },
    {
      "cell_type": "code",
      "source": [
        "print(hoax_narratives[:5])"
      ],
      "metadata": {
        "id": "65y8mJ6HeYrr",
        "colab": {
          "base_uri": "https://localhost:8080/"
        },
        "outputId": "0bfd267c-848f-41d5-b8b5-d49925483428"
      },
      "execution_count": null,
      "outputs": [
        {
          "output_type": "stream",
          "name": "stdout",
          "text": [
            "['video juru kamera terlihat lebih cepat dari peserta lomba lari', 'pernyataan ceo pfizer saya mengundurkan diri dan vaksin mrna belum terbukti aman', 'video perkumpulan lgbt di sicc sentul', 'dijerat perkara terselubung bawaslu resmi tetapkan anies pasal berat', 'penonton non muslim yang datang untuk menyaksikan pertandingan sepak bola piala dunia fifa di qatar telah memeluk islam']\n",
            "time: 1.98 ms (started: 2022-12-21 11:52:42 +00:00)\n"
          ]
        }
      ]
    },
    {
      "cell_type": "code",
      "source": [
        "# verify how much narrative and title that just contain short sentence\n",
        "\n",
        "nonenar = [i for i in temp_nar if len(i.split()) < 4]\n",
        "nonetit = [i for i in normal_title if len(i.split()) < 1]\n",
        "\n",
        "print(len(nonenar))\n",
        "print(len(nonetit))"
      ],
      "metadata": {
        "id": "CbRUwcHD5erZ",
        "colab": {
          "base_uri": "https://localhost:8080/"
        },
        "outputId": "ba1a7f6e-7676-4a6a-a55b-460e2d027d95"
      },
      "execution_count": null,
      "outputs": [
        {
          "output_type": "stream",
          "name": "stdout",
          "text": [
            "280\n",
            "0\n",
            "time: 26.8 ms (started: 2022-12-21 11:53:56 +00:00)\n"
          ]
        }
      ]
    },
    {
      "cell_type": "code",
      "source": [
        "nars = []\n",
        "for i in temp_nar:\n",
        "  try:\n",
        "    for j in i.split():\n",
        "      nars.append(j)\n",
        "  except: pass\n",
        "\n",
        "tits = []\n",
        "for i in normal_title:\n",
        "  try:\n",
        "    for j in i.split():\n",
        "      tits.append(j)\n",
        "  except: pass"
      ],
      "metadata": {
        "id": "7t54IOAcptvI",
        "colab": {
          "base_uri": "https://localhost:8080/"
        },
        "outputId": "a7e8f4c9-3c6a-4de7-fdee-e61e5f40ef26"
      },
      "execution_count": null,
      "outputs": [
        {
          "output_type": "stream",
          "name": "stdout",
          "text": [
            "time: 49.6 ms (started: 2022-12-21 11:53:56 +00:00)\n"
          ]
        }
      ]
    },
    {
      "cell_type": "code",
      "source": [
        "print(len(set(nars)))\n",
        "print(len(set(tits)))"
      ],
      "metadata": {
        "id": "9irIxcC4u3LS",
        "colab": {
          "base_uri": "https://localhost:8080/"
        },
        "outputId": "0123ec30-d31b-41bc-d855-d0a5d5b7eb51"
      },
      "execution_count": null,
      "outputs": [
        {
          "output_type": "stream",
          "name": "stdout",
          "text": [
            "19184\n",
            "9617\n",
            "time: 21.5 ms (started: 2022-12-21 11:53:56 +00:00)\n"
          ]
        }
      ]
    },
    {
      "cell_type": "code",
      "source": [
        "# I just see the frequence of each word in all sentences\n",
        "\n",
        "nar_res = dict(Counter(nars))\n",
        "tit_res = dict(Counter(tits))\n",
        "nar_res_sorted = {k: v for k, v in sorted(nar_res.items(), key=lambda item: item[1], reverse=True)}\n",
        "tit_res_sorted = {k: v for k, v in sorted(tit_res.items(), key=lambda item: item[1], reverse=True)}"
      ],
      "metadata": {
        "id": "FRPdUR_LrNP7",
        "colab": {
          "base_uri": "https://localhost:8080/"
        },
        "outputId": "f0b33912-f430-469a-ffba-dbf3b6226b76"
      },
      "execution_count": null,
      "outputs": [
        {
          "output_type": "stream",
          "name": "stdout",
          "text": [
            "time: 51 ms (started: 2022-12-21 11:53:56 +00:00)\n"
          ]
        }
      ]
    },
    {
      "cell_type": "code",
      "source": [
        "print(nar_res_sorted)\n",
        "print(tit_res_sorted)"
      ],
      "metadata": {
        "id": "OREIKn3mvauH",
        "colab": {
          "base_uri": "https://localhost:8080/"
        },
        "outputId": "6a270b33-2437-4ff9-d811-c241c26024a5"
      },
      "execution_count": null,
      "outputs": [
        {
          "output_type": "stream",
          "name": "stdout",
          "text": [
            "{'di': 4889, 'yang': 3813, 'dan': 3732, 'ini': 2378, 'untuk': 1798, 'dari': 1660, 'tidak': 1620, 'indonesia': 1501, 'dengan': 1486, 'ke': 1298, 'dalam': 1184, 'ada': 1169, 'akan': 1050, 'orang': 938, 'sudah': 892, 'saya': 819, 'itu': 804, 'anda': 783, 'karena': 742, 'pada': 729, 'covid': 720, 'bisa': 684, 'kita': 679, 'video': 675, 'yg': 629, 'negara': 620, 'atau': 598, 'tahun': 585, 'hari': 570, 'foto': 570, 'oleh': 515, 'adalah': 509, 'virus': 508, 'mereka': 499, 'semua': 495, 'jokowi': 477, 'setelah': 458, 'akun': 456, 'saat': 455, 'kami': 453, 'vaksin': 446, 'presiden': 438, 'baru': 435, 'narasi': 435, 'telah': 429, 'jangan': 423, 'anak': 420, 'facebook': 414, 'dapat': 411, 'jadi': 410, 'lebih': 406, 'saja': 389, 'kepada': 385, 'corona': 376, 'air': 369, 'juga': 368, 'jika': 362, 'lagi': 360, 'tersebut': 360, 'ya': 356, 'rumah': 356, 'dunia': 353, 'apa': 349, 'rakyat': 348, 'lain': 348, 'banyak': 339, 'pemerintah': 339, 'bahwa': 336, 'kalau': 335, 'sebagai': 333, 'nya': 329, 'menjadi': 328, 'sampai': 328, 'hanya': 323, 'sama': 320, 'jakarta': 303, 'daerah': 301, 'mau': 300, 'satu': 298, 'republik': 293, 'bagi': 291, 'teman': 289, 'china': 285, 'sangat': 282, 'islam': 280, 'pak': 278, 'hati': 277, 'tak': 272, 'sakit': 272, 'kota': 271, 'meninggal': 269, 'menteri': 266, 'gambar': 264, 'dia': 264, 'bantuan': 263, 'atas': 262, 'para': 261, 'warga': 259, 'sekarang': 255, 'semoga': 255, 'tapi': 249, 'berita': 249, 'info': 248, 'seluruh': 241, 'harus': 241, 'seperti': 239, 'partai': 238, 'jalan': 238, 'dana': 235, 'masuk': 233, 'bagian': 230, 'kerja': 227, 'agar': 227, 'makan': 227, 'selama': 226, 'rupiah': 224, 'masih': 224, 'surat': 223, 'waktu': 223, 'besar': 222, 'tempat': 222, 'secara': 221, 'bukan': 219, 'mulai': 219, 'kesehatan': 219, 'keluarga': 218, 'seorang': 215, 'baik': 214, 'allah': 213, 'benar': 213, 'langsung': 210, 'juta': 209, 'terjadi': 207, 'nomor': 206, 'uang': 205, 'kepala': 204, 'kamu': 201, 'tanpa': 199, 'selamat': 199, 'badan': 196, 'mohon': 196, 'bahasa': 195, 'hal': 194, 'negeri': 193, 'whatsapp': 193, 'darah': 190, 'dua': 186, 'terima': 186, 'maka': 186, 'polisi': 186, 'sumber': 182, 'ibu': 179, 'mati': 179, 'lalu': 179, 'nama': 178, 'sedang': 177, 'saudara': 176, 'anies': 173, 'salah': 173, 'jam': 173, 'tanggal': 172, 'ternyata': 172, 'no': 172, 'buat': 171, 'segera': 171, 'masyarakat': 171, 'bank': 170, 'pesan': 170, 'melalui': 169, 'komunis': 168, 'kasih': 168, 'mobil': 167, 'wa': 165, 'masker': 164, 'pt': 162, 'membuat': 161, 'cara': 161, 'bapak': 161, 'meminta': 160, 'dokter': 159, 'cina': 158, 'umum': 157, 'bulan': 155, 'kepolisian': 155, 'pakai': 153, 'manusia': 152, 'silakan': 151, 'bagikan': 150, 'luar': 149, 'kali': 149, 'setiap': 148, 'sosial': 148, 'tahu': 147, 'jawa': 147, 'tubuh': 147, 'punya': 146, 'korban': 146, 'paru': 146, 'agama': 146, 'khusus': 145, 'memiliki': 145, 'sendiri': 145, 'undang': 144, 'amin': 144, 'diterjemahkan': 144, 'diri': 143, 'tentang': 143, 'beberapa': 143, 'belum': 142, 'hidup': 142, 'siapa': 142, 'obat': 141, 'kartu': 141, 'hingga': 140, 'gubernur': 138, 'sebelum': 138, 'melakukan': 138, 'hasil': 138, 'panas': 137, 'tolong': 137, 'positif': 136, 'muslim': 135, 'akhirnya': 135, 'tengah': 134, 'sih': 134, 'pertama': 134, 'tes': 134, 'mungkin': 134, 'terhadap': 133, 'bersama': 130, 'gratis': 130, 'rp': 129, 'nasional': 129, 'wakil': 128, 'berikut': 128, 'tni': 128, 'pemilihan': 127, 'informasi': 127, 'pasien': 127, 'menggunakan': 127, 'merah': 127, 'minum': 127, 'detik': 126, 'tetap': 126, 'umat': 125, 'dulu': 125, 'ingin': 123, 'barat': 123, 'mendapatkan': 122, 'al': 122, 'pernah': 122, 'bawah': 122, 'prabowo': 121, 'tanda': 119, 'kabar': 119, 'calon': 118, 'mana': 118, 'program': 118, 'innalillahi': 117, 'tangan': 117, 'grup': 117, 'artikel': 116, 'kantor': 116, 'sekolah': 116, 'masing': 115, 'referensi': 115, 'assalamualaikum': 114, 'penyakit': 114, 'bupati': 114, 'tenaga': 114, 'masjid': 113, 'kembali': 113, 'malam': 113, 'ketua': 113, 'biaya': 112, 'serta': 112, 'kan': 112, 'komisi': 112, 'resmi': 111, 'kanker': 111, 'perusahaan': 110, 'anggota': 110, 'putih': 109, 'masa': 108, 'wanita': 108, 'sehat': 108, 'kabupaten': 108, 'hadiah': 107, 'akibat': 107, 'ketika': 106, 'boleh': 106, 'bagaimana': 106, 'amerika': 105, 'ulama': 105, 'menerima': 104, 'tetapi': 104, 'punah': 103, 'wilayah': 103, 'pusat': 102, 'tim': 102, 'kalian': 101, 'sekali': 101, 'media': 101, 'unggah': 101, 'viral': 100, 'apakah': 99, 'pesawat': 99, 'kemudian': 99, 'kena': 99, 'membantu': 98, 'memberikan': 98, 'lima': 98, 'penting': 98, 'coba': 97, 'selalu': 97, 'pihak': 97, 'keluar': 97, 'perlu': 97, 'mengatakan': 96, 'tau': 96, 'sebuah': 96, 'bahkan': 95, 'bermanfaat': 95, 'cepat': 94, 'data': 94, 'siap': 94, 'pria': 94, 'sehingga': 93, 'in': 93, 'tiba': 93, 'aku': 93, 'provinsi': 93, 'korupsi': 92, 'rusia': 92, 'maaf': 92, 'akhir': 92, 'ribu': 90, 'timur': 90, 'paling': 90, 'haji': 90, 'kecil': 89, 'jelas': 89, 'memang': 89, 'puluh': 89, 'sesuai': 89, 'rezim': 88, 'bantu': 88, 'rekening': 88, 'penduduk': 88, 'minggu': 88, 'jumat': 88, 'datang': 87, 'donasi': 87, 'bahan': 86, 'dilakukan': 86, 'nanti': 86, 'pegawai': 86, 'tdk': 86, 'minyak': 85, 'tiga': 85, 'makanan': 84, 'salam': 84, 'depan': 83, 'kenapa': 83, 'baswedan': 83, 'asing': 83, 'terus': 82, 'tinggi': 82, 'news': 82, 'namun': 82, 'menit': 81, 'sipil': 81, 'ibukota': 81, 'suara': 81, 'pagi': 81, 'dewan': 81, 'usaha': 80, 'daftar': 80, 'bila': 80, 'bangsa': 80, 'peserta': 79, 'bekerja': 79, 'nih': 79, 'arab': 79, 'terbaru': 79, 'alhamdulillah': 79, 'kementerian': 78, 'sini': 78, 'membunuh': 78, 'ulang': 78, 'sekitar': 78, 'postingan': 78, 'garam': 78, 'usia': 77, 'kirim': 77, 'pendidikan': 77, 'fpi': 77, 'dasar': 77, 'babi': 77, 'mahasiswa': 76, 'papua': 76, 'lama': 75, 'wabarakatuh': 75, 'wali': 75, 'karyawan': 74, 'mengalami': 74, 'lainnya': 74, 'kadrun': 74, 'judul': 74, 'mengikuti': 74, 'politik': 74, 'aksi': 74, 'senin': 74, 'rojiun': 74, 'warahmatullahi': 74, 'iya': 74, 'tadi': 74, 'jantung': 73, 'ukraina': 73, 'kata': 73, 'kondisi': 73, 'perwakilan': 73, 'tulisan': 73, 'buah': 72, 'kakak': 72, 'sedikit': 72, 'mengandung': 72, 'of': 71, 'buka': 71, 'menyebabkan': 71, 'milik': 71, 'layar': 71, 'online': 71, 'cukup': 71, 'twitter': 71, 'menolak': 71, 'lihat': 71, 'surabaya': 71, 'biasa': 71, 'kok': 71, 'proses': 71, 'vaksinasi': 71, 'maret': 71, 'handphone': 70, 'ia': 70, 'cek': 69, 'menuju': 69, 'merupakan': 69, 'ikut': 69, 'kasus': 69, 'kode': 69, 'otak': 69, 'malah': 69, 'mata': 69, 'wajib': 69, 'salat': 69, 'lembaga': 68, 'baca': 68, 'demo': 68, 'the': 68, 'sebelumnya': 68, 'berada': 68, 'pulang': 68, 'demi': 68, 'berbagai': 68, 'gara': 68, 'terhormat': 67, 'klik': 67, 'antara': 67, 'waspada': 67, 'ditemukan': 67, 'lowongan': 67, 'dr': 67, 'alamat': 67, 'tentara': 67, 'mudah': 66, 'tinggal': 66, 'motor': 66, 'terkini': 66, 'melihat': 66, 'posisi': 66, 'link': 66, 'cuma': 66, 'aman': 65, 'mendapat': 65, 'semakin': 65, 'ayo': 65, 'sebarkan': 65, 'harap': 65, 'terkena': 65, 'sistem': 65, 'sejak': 64, 'organisasi': 64, 'terkait': 64, 'melawan': 64, 'izin': 64, 'rizieq': 64, 'habib': 64, 'pesantren': 63, 'barang': 63, 'laut': 63, 'beliau': 63, 'tanah': 63, 'sel': 63, 'berarti': 63, 'hukum': 63, 'pukul': 63, 'tangkapan': 62, 'jepang': 62, 'anti': 62, 'bilang': 62, 'guru': 62, 'pengurus': 62, 'menunjukkan': 62, 'pandemi': 62, 'ekonomi': 62, 'gereja': 62, 'pemimpin': 61, 'prancis': 61, 'banjir': 61, 'jenderal': 61, 'membawa': 61, 'perang': 61, 'sering': 61, 'ambil': 61, 'rabu': 61, 'begini': 60, 'pemberitahuan': 60, 'apapun': 60, 'periode': 60, 'india': 60, 'kamis': 60, 'menurut': 59, 'seleksi': 59, 'apabila': 59, 'yayasan': 59, 'dilanjutkan': 59, 'jaminan': 59, 'gedung': 59, 'sementara': 59, 'memberi': 59, 'pekerjaan': 58, 'palsu': 58, 'kesatuan': 58, 'lamaran': 58, 'berhasil': 58, 'masalah': 58, 'kejadian': 58, 'bukti': 58, 'sebesar': 58, 'lah': 58, 'bandung': 57, 'kedua': 57, 'penerima': 57, 'demokrasi': 57, 'majelis': 57, 'percaya': 57, 'tol': 57, 'kecelakaan': 56, 'triliun': 56, 'sembuh': 56, 'asli': 56, 'demikian': 56, 'besok': 56, 'pasti': 56, 'batu': 56, 'terinfeksi': 56, 'beli': 55, 'memakai': 55, 'divaksin': 55, 'per': 55, 'tulis': 55, 'efek': 55, 'lupa': 55, 'bawa': 55, 'bumi': 55, 'kuota': 55, 'berjudul': 55, 'lakukan': 54, 'tuhan': 54, 'kalimantan': 54, 'begitu': 54, 'lanjutan': 54, 'raja': 54, 'jauh': 54, 'oktober': 54, 'acara': 54, 'bawang': 54, 'jatuh': 54, 'medis': 54, 'ingat': 54, 'pancasila': 54, 'selasa': 54, 'israel': 54, 'nasi': 54, 'listrik': 53, 'kurang': 53, 'perut': 53, 'pemberantasan': 53, 'alquran': 53, 'lewat': 53, 'hilang': 53, 'segala': 52, 'dinas': 52, 'siang': 52, 'sampaikan': 52, 'tingkat': 52, 'up': 52, 'perjuangan': 52, 'ibadah': 52, 'januari': 52, 'dingin': 52, 'bayi': 52, 'televisi': 52, 'operasi': 52, 'kawan': 52, 'harga': 51, 'mampu': 51, 'kebijakan': 51, 'biar': 51, 'isi': 51, 'lanjut': 51, 'for': 51, 'pemuda': 51, 'duka': 51, 'kemarin': 51, 'wabah': 51, 'laki': 50, 'nabi': 50, 'gempa': 50, 'widodo': 50, 'muncul': 50, 'perempuan': 50, 'penyelenggara': 50, 'muhammad': 50, 'pemenang': 50, 'lemon': 50, 'dimana': 50, 'april': 50, 'keputusan': 49, 'mencari': 49, 'joko': 49, 'desa': 49, 'bebas': 49, 'bentuk': 49, 'diberikan': 49, 'raya': 49, 'gula': 49, 'jaga': 49, 'kelas': 49, 'berdasarkan': 48, 'serangan': 48, 'bakar': 48, 'pertamina': 48, 'anggaran': 48, 'kulit': 48, 'rasa': 48, 'berupa': 48, 'digunakan': 48, 'termasuk': 48, 'tua': 48, 'desember': 48, 'terbaik': 48, 'sehari': 48, 'daya': 47, 'inilah': 47, 'pulau': 47, 'pergi': 47, 'berhati': 47, 'semuanya': 47, 'batas': 47, 'selesai': 47, 'katanya': 47, 'persero': 47, 'padahal': 47, 'merasa': 47, 'hrs': 47, 'lockdown': 47, 'bayar': 46, 'bikin': 46, 'asal': 46, 'saudi': 46, 'istirahat': 46, 'adanya': 46, 'berbahaya': 46, 'alat': 46, 'pondok': 46, 'kesempatan': 46, 'tidur': 46, 'mari': 46, 'diberi': 46, 'terutama': 46, 'se': 46, 'yaitu': 46, 'terakhir': 46, 'tepat': 46, 'tabung': 46, 'commerce': 45, 'menyatakan': 45, 'bandara': 45, 'sang': 45, 'kapal': 45, 'persyaratan': 45, 'singapura': 45, 'selatan': 45, 'seratus': 45, 'sebanyak': 45, 'maupun': 45, 'pasar': 45, 'tunai': 45, 'prof': 45, 'imam': 45, 'mengeluarkan': 45, 'lengkap': 45, 'id': 45, 'alasan': 45, 'asam': 45, 'udara': 45, 'all': 45, 'jerman': 44, 'ditangkap': 44, 'militer': 44, 'kematian': 44, 'dekat': 44, 'istri': 44, 'batuk': 44, 'pendaftaran': 44, 'italia': 44, 'telepon': 44, 'murah': 44, 'habis': 44, 'september': 44, 'berlaku': 44, 'sebab': 44, 'warna': 44, 'lampu': 44, 'terlihat': 43, 'muda': 43, 'ponsel': 43, 'pajak': 43, 'pejabat': 43, 'suka': 43, 'bahaya': 43, 'sana': 43, 'utama': 43, 'gas': 43, 'kegiatan': 43, 'kecamatan': 43, 'kini': 43, 'hotel': 43, 'membutuhkan': 43, 'istana': 43, 'jumlah': 43, 'agustus': 43, 'pelaku': 43, 'takut': 43, 'pengobatan': 43, 'terdapat': 43, 'bidang': 42, 'malang': 42, 'kayak': 42, 'cebong': 42, 'turun': 42, 'mengambil': 42, 'kopi': 42, 'pembangunan': 42, 'kendaraan': 42, 'catatan': 42, 'butuh': 42, 'sri': 42, 'ratusan': 42, 'malaysia': 42, 'rekan': 42, 'pimpinan': 42, 'ahli': 42, 'wah': 42, 'berbicara': 41, 'as': 41, 'dgn': 41, 'dilaksanakan': 41, 'pelaksanaan': 41, 'keadaan': 41, 'one': 41, 'gejala': 41, 'utara': 41, 'kuat': 41, 'syarat': 41, 'mei': 41, 'diterima': 41, 'pilih': 41, 'api': 41, 'hangat': 41, 'belajar': 41, 'palestina': 40, 'naik': 40, 'maruf': 40, 'banget': 40, 'aplikasi': 40, 'menyerang': 40, 'angka': 40, 'bali': 40, 'terpilih': 40, 'panggilan': 40, 'hitam': 40, 'panik': 40, 'produksi': 40, 'rangka': 40, 'dibuka': 40, 'pki': 40, 'rencana': 40, 'disebut': 40, 'sadar': 40, 'penuh': 40, 'petugas': 40, 'sejahtera': 40, 'menjaga': 40, 'sabtu': 40, 'utk': 40, 'keamanan': 40, 'ktp': 40, 'pilkada': 40, 'shopee': 39, 'terjemahan': 39, 'mematikan': 39, 'ahok': 39, 'mendukung': 39, 'kira': 39, 'diketahui': 39, 'membuka': 39, 'arsip': 39, 'pengguna': 39, 'administrasi': 39, 'hampir': 39, 'fakta': 39, 'bagus': 39, 'februari': 39, 'pendukung': 39, 'awal': 39, 'selaku': 39, 'oknum': 39, 'puan': 39, 'yudhoyono': 39, 'betul': 39, 'keras': 39, 'buku': 39, 'indah': 39, 'jarak': 39, 'solo': 39, 'internasional': 39, 'internet': 38, 'total': 38, 'keuangan': 38, 'diam': 38, 'australia': 38, 'hancur': 38, 'bendera': 38, 'mengakui': 38, 'menemukan': 38, 'sms': 38, 'to': 38, 'racun': 38, 'cari': 38, 'mengapa': 38, 'senjata': 38, 'ijazah': 38, 'menang': 38, 'putra': 38, 'ribuan': 38, 'bambang': 38, 'dilarang': 38, 'tujuh': 38, 'keadilan': 38, 'infeksi': 38, 'dapatkan': 38, 'pemerintahan': 38, 'suntik': 38, 'rata': 38, 'emas': 37, 'apalagi': 37, 'guna': 37, 'gunung': 37, 'senilai': 37, 'sebut': 37, 'ku': 37, 'daripada': 37, 'staf': 37, 'ratus': 37, 'jenazah': 37, 'sy': 37, 'jabatan': 37, 'unit': 37, 'pelayanan': 37, 'kaki': 37, 'nyawa': 37, 'namanya': 37, 'pembuluh': 37, 'daun': 37, 'era': 37, 'baju': 36, 'subsidi': 36, 'sendok': 36, 'perayaan': 36, 'usai': 36, 'demam': 36, 'merdeka': 36, 'rekrutmen': 36, 'perhatian': 36, 'serikat': 36, 'gila': 36, 'tiongkok': 36, 'minuman': 36, 'jenis': 36, 'lokasi': 36, 'sejumlah': 36, 'tahan': 36, 'tugas': 36, 'selain': 36, 'disampaikan': 36, 'tolak': 36, 'anjing': 36, 'mandiri': 36, 'terapi': 36, 'guys': 36, 'dirinya': 36, 'pintu': 36, 'beri': 36, 'tewas': 36, 'juni': 36, 'pulsa': 36, 'luhut': 35, 'menyelamatkan': 35, 'normal': 35, 'burung': 35, 'hutang': 35, 'aceh': 35, 'gagal': 35, 'lagu': 35, 'kekuatan': 35, 'pantas': 35, 'lawan': 35, 'tutup': 35, 'jawab': 35, 'jasa': 35, 'pemilik': 35, 'tujuan': 35, 'supaya': 35, 'berasal': 35, 'megawati': 35, 'pos': 35, 'produk': 35, 'tenggorokan': 35, 'youtube': 35, 'anaknya': 35, 'pernyataan': 34, 'terbukti': 34, 'non': 34, 'dibuat': 34, 'juli': 34, 'publik': 34, 'tahap': 34, 'oh': 34, 'artinya': 34, 'gunakan': 34, 'berbagi': 34, 'enggak': 34, 'sungguh': 34, 'inna': 34, 'mencegah': 34, 'belakang': 34, 'kiai': 34, 'mundur': 34, 'sejarah': 34, 'sdh': 34, 'tokoh': 34, 'tempo': 34, 'korea': 34, 'investasi': 34, 'sebenarnya': 34, 'flu': 34, 'gaji': 33, 'mencapai': 33, 'tulang': 33, 'empat': 33, 'universitas': 33, 'via': 33, 'membaca': 33, 'wajahnya': 33, 'hujan': 33, 'ayat': 33, 'ilaihi': 33, 'doa': 33, 'thailand': 33, 'min': 33, 'menengah': 33, 'kecuali': 33, 'mencoba': 33, 'panjang': 33, 'pin': 33, 'melanggar': 33, 'sinovac': 33, 'sehubungan': 32, 'memilih': 32, 'teh': 32, 'telegram': 32, 'bro': 32, 'kaum': 32, 'memenuhi': 32, 'dikirim': 32, 'mantan': 32, 'putri': 32, 'who': 32, 'pas': 32, 'masukan': 32, 'instagram': 32, 'makin': 32, 'nyata': 32, 'ujian': 32, 'bernama': 32, 'perintah': 32, 'main': 32, 'mengetahui': 32, 'aparatur': 32, 'satuan': 32, 'mayat': 32, 'dibawa': 32, 'langkah': 32, 'viralkan': 32, 'teknik': 32, 'sempat': 32, 'perihal': 32, 'gigabit': 32, 'pura': 32, 'tindakan': 32, 'cuci': 32, 'setidaknya': 32, 'gadis': 31, 'tautan': 31, 'bencana': 31, 'alami': 31, 'kecurangan': 31, 'dki': 31, 'trump': 31, 'darurat': 31, 'khususnya': 31, 'new': 31, 'menghubungi': 31, 'umur': 31, 'biarkan': 31, 'perkenalkan': 31, 'damai': 31, 'soal': 31, 'parah': 31, 'kosong': 31, 'lampung': 31, 'ilmu': 31, 'bu': 31, 'matahari': 31, 'terbakar': 31, 'lingkungan': 31, 'wuhan': 31, 'sederhana': 31, 'terlalu': 30, 'lampiran': 30, 'sengaja': 30, 'pasangan': 30, 'gue': 30, 'dibutuhkan': 30, 'transfer': 30, 'paham': 30, 'hubungi': 30, 'sim': 30, 'alam': 30, 'varian': 30, 'uji': 30, 'bisnis': 30, 'subhanahu': 30, 'taala': 30, 'halo': 30, 'pengumuman': 30, 'menderita': 30, 'yogyakarta': 30, 'menarik': 30, 'dinyatakan': 30, 'tetangga': 30, 'susilo': 30, 'eksekutif': 30, 'pintar': 30, 'angkatan': 30, 'tangkap': 30, 'tanya': 30, 'pengalaman': 30, 'siswa': 30, 'rapat': 30, 'vitamin': 30, 'arah': 30, 'mulut': 30, 'sekretaris': 30, 'aset': 30, 'terasa': 30, 'suhu': 30, 'mengenai': 30, 'rs': 30, 'bau': 30, 'pfizer': 29, 'november': 29, 'kepegawaian': 29, 'direktur': 29, 'ri': 29, 'peneliti': 29, 'khilafah': 29, 'pohon': 29, 'hadir': 29, 'goreng': 29, 'kereta': 29, 'diabetes': 29, 'gerakan': 29, 'make': 29, 'pasukan': 29, 'minimal': 29, 'keterangan': 29, 'cita': 29, 'buruk': 29, 'pribadi': 29, 'berakhir': 29, 'dpr': 29, 'agung': 29, 'balik': 29, 'selamanya': 29, 'dipakai': 29, 'kebakaran': 29, 'karya': 29, 'bin': 29, 'modus': 29, 'polri': 29, 'pertahanan': 29, 'area': 29, 'sumatra': 29, 'pencegahan': 29, 'terpapar': 29, 'diunggah': 29, 'laporan': 29, 'toko': 29, 'turki': 29, 'lingkaran': 29, 'berat': 28, 'jual': 28, 'kelapa': 28, 'berkas': 28, 'ikan': 28, 'layanan': 28, 'konfirmasi': 28, 'penyebab': 28, 'mengaku': 28, 'berhak': 28, 'putin': 28, 'terbesar': 28, 'gates': 28, 'tunggu': 28, 'aparat': 28, 'artist': 28, 'soeharto': 28, 'walau': 28, 'peduli': 28, 'menyampaikan': 28, 'mempunyai': 28, 'tukang': 28, 'ahmad': 28, 'selanjutnya': 28, 'situasi': 28, 'pekerja': 28, 'pengamanan': 28, 'shihab': 28, 'peraturan': 28, 'akbar': 28, 'ih': 28, 'ditutup': 28, 'kemerdekaan': 28, 'ali': 28, 'razia': 28, 'membuktikan': 28, 'penipuan': 28, 'mudik': 28, 'penelitian': 28, 'kemungkinan': 28, 'lintas': 28, 'menunggu': 28, 'teroris': 27, 'jaringan': 27, 'ura': 27, 'kapan': 27, 'seseorang': 27, 'berwarna': 27, 'ginjal': 27, 'bunga': 27, 'meledak': 27, 'undangan': 27, 'nilai': 27, 'belanja': 27, 'inggris': 27, 'yakni': 27, 'pribumi': 27, 'beredar': 27, 'kadang': 27, 'diminta': 27, 'bersih': 27, 'honorer': 27, 'puskesmas': 27, 'semangat': 27, 'hebat': 27, 'haram': 27, 'negatif': 27, 'sore': 27, 'daging': 27, 'itulah': 27, 'mas': 27, 'copy': 27, 'menangis': 27, 'menghilangkan': 27, 'penerimaan': 27, 'ham': 27, 'berusia': 27, 'si': 27, 'tepung': 27, 'resep': 27, 'berdoa': 27, 'zona': 27, 'game': 27, 'bom': 26, 'seterusnya': 26, 'ruang': 26, 'barisan': 26, 'meningkatkan': 26, 'semarang': 26, 'melindungi': 26, 'luka': 26, 'hewan': 26, 'kehidupan': 26, 'jari': 26, 'pray': 26, 'at': 26, 'mesjid': 26, 'syariat': 26, 'berani': 26, 'terbatas': 26, 'admin': 26, 'aturan': 26, 'halal': 26, 'stop': 26, 'diambil': 26, 'justru': 26, 'sahabat': 26, 'menyembuhkan': 26, 'biasanya': 26, 'waspadalah': 26, 'cairan': 26, 'bicara': 26, 'angkasa': 26, 'medan': 26, 'gus': 26, 'gangguan': 26, 'kangkung': 26, 'mirip': 26, 'posting': 26, 'isolasi': 26, 'jiwa': 25, 'and': 25, 'mengirim': 25, 'harapan': 25, 'nusantara': 25, 'hidung': 25, 'survei': 25, 'fasilitas': 25, 'konsumsi': 25, 'jalur': 25, 'menawarkan': 25, 'cinta': 25, 'satunya': 25, 'jutaan': 25, 'terhubung': 25, 'nah': 25, 'membagikan': 25, 'kontak': 25, 'ustaz': 25, 'mantap': 25, 'mengurangi': 25, 'markas': 25, 'berubah': 25, 'vietnam': 25, 'status': 25, 'tindak': 25, 'sandi': 25, 'dosen': 25, 'sedangkan': 25, 'natal': 25, 'kiri': 25, 'bpjs': 25, 'jeruk': 25, 'ramadan': 24, 'bunuh': 24, 'soekarno': 24, 'perhatikan': 24, 'puluhan': 24, 'sambil': 24, 'aneh': 24, 'suami': 24, 'proyek': 24, 'sultan': 24, 'surga': 24, 'omicron': 24, 'contoh': 24, 'mengubah': 24, 'tilang': 24, 'enam': 24, 'memperlihatkan': 24, 'teknologi': 24, 'sekaligus': 24, 'berantai': 24, 'suatu': 24, 'sepuluh': 24, 'es': 24, 'riau': 24, 'film': 24, 'mendaftar': 24, 'dosa': 24, 'sifat': 24, 'menghindari': 24, 'nyaman': 24, 'keturunan': 24, 'pro': 24, 'gelombang': 24, 'by': 24, 'kritis': 24, 'kemana': 24, 'situs': 24, 'kanada': 24, 'mahkamah': 24, 'pun': 24, 'janji': 24, 'instruksi': 24, 'puasa': 23, 'ganti': 23, 'kampung': 23, 'bermain': 23, 'diharapkan': 23, 'bogor': 23, 'pbb': 23, 'stroke': 23, 'sukses': 23, 'tiap': 23, 'diduga': 23, 'is': 23, 'tentu': 23, 'pabrik': 23, 'sesama': 23, 'adik': 23, 'beserta': 23, 'operator': 23, 'sertifikat': 23, 'kepentingan': 23, 'sebagian': 23, 'demokrat': 23, 'mengejutkan': 23, 'sederajat': 23, 'mengisi': 23, 'eropa': 23, 'ledakan': 23, 'dokumen': 23, 'pencairan': 23, 'kebutuhan': 23, 'mulyani': 23, 'sungai': 23, 'taman': 23, 'dahulu': 23, 'pengiriman': 23, 'usus': 23, 'garuda': 23, 'duduk': 23, 'kak': 23, 'dimulai': 23, 'panitia': 23, 'disuntik': 23, 'buatan': 23, 'aktivitas': 23, 'jadwal': 23, 'zaman': 23, 'gigi': 23, 'penjara': 23, 'memenangkan': 23, 'wainnailaihi': 23, 'bertemu': 23, 'dampak': 23, 'atm': 23, 'pacar': 23, 'mengunggah': 23, 'nu': 23, 'antibodi': 23, 'swab': 23, 'banten': 23, 'fungsi': 23, 'yahudi': 23, 'oksigen': 23, 'bola': 22, 'usah': 22, 'hak': 22, 'macam': 22, 'serius': 22, 'kemenangan': 22, 'ayah': 22, 'dukung': 22, 'human': 22, 'tiket': 22, 'berikan': 22, 'dalamnya': 22, 'kandungan': 22, 'gibran': 22, 'kasihan': 22, 'zat': 22, 'merusak': 22, 'binatang': 22, 'ganjar': 22, 'almarhum': 22, 'hoaks': 22, 'seragam': 22, 'tahunan': 22, 'saham': 22, 'gresik': 22, 'denda': 22, 'perawat': 22, 'kader': 22, 'jembatan': 22, 'alias': 22, 'abdul': 22, 'bertujuan': 22, 'sah': 22, 'sebagaimana': 22, 'kupon': 22, 'berisi': 22, 'pakistan': 22, 'gelas': 22, 'mal': 22, 'santri': 22, 'sekadar': 22, 'pdip': 22, 'rokok': 22, 'penggunaan': 22, 'kabur': 22, 'keren': 22, 'seharusnya': 22, 'kelompok': 22, 'peringatan': 22, 'menentukan': 22, 'isis': 22, 'kehilangan': 22, 'uap': 22, 'sulit': 22, 'napas': 22, 'penyebaran': 22, 'unggahan': 22, 'solusi': 22, 'dikabarkan': 21, 'ditetapkan': 21, 'instansi': 21, 'kalah': 21, 'malu': 21, 'berduka': 21, 'patung': 21, 'radiasi': 21, 'kemenkes': 21, 'direktorat': 21, 'kehadiran': 21, 'paksa': 21, 'gak': 21, 'ayam': 21, 'pilihan': 21, 'bekasi': 21, 'telur': 21, 'upaya': 21, 'azan': 21, 'azab': 21, 'bus': 21, 'mengenakan': 21, 'anis': 21, 'pidato': 21, 'turut': 21, 'pp': 21, 'rapid': 21, 'hormat': 21, 'temukan': 21, 'hukuman': 21, 'maju': 21, 'lambat': 21, 'rakyatnya': 21, 'rekaman': 21, 'berjalan': 21, 'penularan': 21, 'afrika': 21, 'resor': 21, 'lapangan': 21, 'ancaman': 21, 'gembira': 21, 'urusan': 21, 'husnul': 21, 'tbk': 21, 'yakin': 21, 'laboratorium': 21, 'lelang': 21, 'interview': 21, 'muka': 21, 'bpk': 21, 'terkenal': 21, 'tsb': 21, 'warung': 21, 'palembang': 21, 'idul': 21, 'berdurasi': 21, 'ormas': 21, 'pasang': 21, 'region': 21, 'radikal': 20, 'mendadak': 20, 'hijau': 20, 'subhanallah': 20, 'pantai': 20, 'kering': 20, 'miliar': 20, 'ular': 20, 'bocah': 20, 'iran': 20, 'evaluasi': 20, 'dianggap': 20, 'rt': 20, 'aktif': 20, 'bon': 20, 'terbang': 20, 'donald': 20, 'hamil': 20, 'efektif': 20, 'fenomena': 20, 'dosis': 20, 'mudahan': 20, 'pembayaran': 20, 'berkunjung': 20, 'susu': 20, 'siapapun': 20, 'group': 20, 'super': 20, 'lulus': 20, 'pengangkatan': 20, 'sepeda': 20, 'kediri': 20, 'buang': 20, 'saling': 20, 'dini': 20, 'perjalanan': 20, 'amanah': 20, 'penampakan': 20, 'tambah': 20, 'kejahatan': 20, 'paris': 20, 'pembunuhan': 20, 'paste': 20, 'perjanjian': 20, 'muhammadiyah': 20, 'penderita': 20, 'kerabat': 20, 'kirimkan': 20, 'menghadapi': 20, 'selengkapnya': 20, 'berapa': 20, 'penumpang': 20, 'strategi': 20, 'makanya': 20, 'tertangkap': 20, 'lantai': 20, 'sepi': 20, 'jamaah': 20, 'atlet': 20, 'setempat': 20, 'ibunya': 20, 'mikro': 20, 'komunikasi': 20, 'hasilnya': 20, 'menjelaskan': 20, 'massal': 20, 'kebudayaan': 20, 'khotimah': 20, 'down': 20, 'dukungan': 20, 'nanas': 20, 'terang': 20, 'abu': 20, 'berpartisipasi': 20, 'siaga': 20, 'makassar': 20, 'koroner': 20, 'pasal': 19, 'berdiri': 19, 'caranya': 19, 'serba': 19, 'langit': 19, 'sambo': 19, 'satupun': 19, 'resources': 19, 'meter': 19, 'cv': 19, 'sesuatu': 19, 'herbal': 19, 'your': 19, 'tiktok': 19, 'berhenti': 19, 'penyaluran': 19, 'angkat': 19, 'strata': 19, 'himbauan': 19, 'infokan': 19, 'dibantu': 19, 'menghentikan': 19, 'tawarkan': 19, 'perangkat': 19, 'penjelasan': 19, 'titik': 19, 'klaim': 19, 'panglima': 19, 'utang': 19, 'rahasia': 19, 'luas': 19, 'kimia': 19, 'allahu': 19, 'menutupi': 19, 'terbuka': 19, 'olah': 19, 'dibakar': 19, 'massa': 19, 'oke': 19, 'disebarkan': 19, 'jihad': 19, 'telinga': 19, 'manfaat': 19, 'kanal': 19, 'stres': 19, 'beruntung': 19, 'cerita': 19, 'tubuhnya': 19, 'maksimal': 19, 'kertas': 19, 'mengatasi': 19, 'tanggung': 19, 'ber': 19, 'insinyur': 19, 'kabinet': 19, 'penipu': 19, 'batam': 19, 'melaksanakan': 19, 'menangkap': 19, 'dirawat': 19, 'sayang': 19, 'hi': 19, 'koordinator': 19, 'tsunami': 19, 'depok': 19, 'mesir': 19, 'berkuasa': 19, 'point': 19, 'rancangan': 19, 'pks': 19, 'psbb': 19, 'pengawas': 18, 'caption': 18, 'kain': 18, 'pelanggaran': 18, 'sulawesi': 18, 'bakal': 18, 'duit': 18, 'rusak': 18, 'membangun': 18, 'perubahan': 18, 'tahapan': 18, 'setuju': 18, 'dibunuh': 18, 'rsud': 18, 'pinjaman': 18, 'biden': 18, 'serang': 18, 'samping': 18, 'pertolongan': 18, 'lembar': 18, 'pendapatan': 18, 'senang': 18, 'menghancurkan': 18, 'kayu': 18, 'protes': 18, 'menutup': 18, 'cnn': 18, 'hakim': 18, 'terbongkar': 18, 'vladimir': 18, 'kualifikasi': 18, 'pns': 18, 'pembina': 18, 'berkembang': 18, 'sektor': 18, 'prosedur': 18, 'marah': 18, 'meningkat': 18, 'perencanaan': 18, 'mengumumkan': 18, 'narkoba': 18, 'terlebih': 18, 'mengonsumsi': 18, 'bangun': 18, 'intelijen': 18, 'memakan': 18, 'melihatnya': 18, 'sapi': 18, 'sebentar': 18, 'bergabung': 18, 'reformasi': 18, 'diangkat': 18, 'dapur': 18, 'terlibat': 18, 'pisang': 18, 'lahir': 18, 'menginformasikan': 18, 'cucu': 18, 'pemeriksaan': 18, 'logo': 18, 'akses': 18, 'bungkus': 18, 'minta': 18, 'akal': 18, 'ga': 18, 'bodoh': 18, 'infus': 18, 'mengundurkan': 17, 'sepatu': 17, 'urus': 17, 'budi': 17, 'hai': 17, 'md': 17, 'dijual': 17, 'enak': 17, 'paket': 17, 'heboh': 17, 'biru': 17, 'transaksi': 17, 'formulir': 17, 'poster': 17, 'ilmuwan': 17, 'format': 17, 'buaya': 17, 'menyebarkan': 17, 'tangerang': 17, 'badai': 17, 'sibuk': 17, 'bonus': 17, 'keselamatan': 17, 'hindari': 17, 'pecah': 17, 'daftarkan': 17, 'waalaikumsalam': 17, 'jangka': 17, 'menciptakan': 17, 'dikeluarkan': 17, 'adapun': 17, 'pembagian': 17, 'mbah': 17, 'tok': 17, 'ringan': 17, 'staff': 17, 'tembak': 17, 'ketemu': 17, 'sepanjang': 17, 'siapkan': 17, 'liter': 17, 'merokok': 17, 'booster': 17, 'diminum': 17, 'perdagangan': 17, 'diteruskan': 17, 'kebetulan': 17, 'bergerak': 17, 'aja': 17, 'menambah': 17, 'menempel': 17, 'kandung': 17, 'amal': 17, 'yaqut': 17, 'sembako': 17, 'kuning': 17, 'rudal': 17, 'terancam': 17, 'penghargaan': 17, 'gatal': 17, 'quran': 17, 'pedagang': 17, 'sukabumi': 17, 'otoritas': 17, 'karantina': 17, 'restoran': 17, 'ojk': 17, 'sebelah': 17, 'kadar': 17, 'tegal': 17, 'sesak': 17, 'org': 17, 'thumbnails': 17, 'kerumunan': 17, 'kuasa': 17, 'yahya': 17, 'ramadhan': 17, 'mrna': 16, 'menambahkan': 16, 'buzzer': 16, 'pemain': 16, 'sosok': 16, 'memastikan': 16, 'mengundang': 16, 'aliran': 16, 'selamatkan': 16, 'lihatlah': 16, 'kotak': 16, 'pasir': 16, 'nasabah': 16, 'dikirimkan': 16, 'modal': 16, 'identitas': 16, 'gede': 16, 'kenyataan': 16, 'suruh': 16, 'makhluk': 16, 'jadikan': 16, 'terkejut': 16, 'katolik': 16, 'berjuang': 16, 'melarang': 16, 'saudaraku': 16, 'hubungan': 16, 'merasakan': 16, 'hapus': 16, 'kuesioner': 16, 'valid': 16, 'melaporkan': 16, 'mengerikan': 16, 'relawan': 16, 'metro': 16, 'tegas': 16, 'deh': 16, 'petir': 16, 'lulusan': 16, 'berusaha': 16, 'ucapkan': 16, 'nasib': 16, 'sanggup': 16, 'menimbulkan': 16, 'alamin': 16, 'kursi': 16, 'bertanggung': 16, 'yusuf': 16, 'bos': 16, 'risiko': 16, 'rebusan': 16, 'monas': 16, 'ketiga': 16, 'bahagia': 16, 'pelanggan': 16, 'kunjungan': 16, 'bela': 16, 'berkurang': 16, 'maharani': 16, 'global': 16, 'cuaca': 16, 'maha': 16, 'formula': 16, 'mengakibatkan': 16, 'menonton': 16, 'entah': 16, 'antar': 16, 'pasuruan': 16, 'hp': 16, 'transportasi': 16, 'benda': 16, 'perekonomian': 16, 'cirebon': 16, 'tips': 16, 'moderna': 16, 'diganti': 16, 'menipu': 16, 'temannya': 16, 'minumlah': 16, 'informasikan': 16, 'halaman': 16, 'voucher': 16, 'protokol': 16, 'manajemen': 16, 'kisah': 16, 'berdarah': 16, 'mesin': 16, 'virusnya': 16, 'insya': 16, 'menjual': 16, 'diare': 16, 'rendah': 16, 'kemendikbud': 16, 'komunitas': 16, 'nipis': 16, 'suntikan': 16, 'divaksinasi': 16, 'pidana': 16, 'saksi': 16, 'meninggalkan': 16, 'helm': 16, 'development': 16, 'menghirup': 16, 'korona': 16, 'premium': 16, 'hti': 16, 'cctv': 16, 'hip': 16, 'piala': 15, 'international': 15, 'ronaldo': 15, 'sebaiknya': 15, 'mahfud': 15, 'maut': 15, 'menghimbau': 15, 'membeli': 15, 'beragama': 15, 'cianjur': 15, 'tarif': 15, 'sok': 15, 'diwajibkan': 15, 'kebenaran': 15, 'istrinya': 15, 'asia': 15, 'meskipun': 15, 'musibah': 15, 'gelar': 15, 'pahlawan': 15, 'meneruskan': 15, 'aids': 15, 'kalengan': 15, 'kaos': 15, 'teriak': 15, 'pakaian': 15, 'om': 15, 'dijadikan': 15, 'bohong': 15, 'pengakuan': 15, 'diy': 15, 'ugm': 15, 'jurusan': 15, 'perdana': 15, 'edaran': 15, 'bersedia': 15, 'pensiun': 15, 'suci': 15, 'penetapan': 15, 'dengar': 15, 'tuntutan': 15, 'na': 15, 'membayar': 15, 'mengirimkan': 15, 'penculikan': 15, 'kredit': 15, 'artis': 15, 'ngeri': 15, 'beras': 15, 'dihentikan': 15, 'sekitarnya': 15, 'scan': 15, 'tersedia': 15, 'kekurangan': 15, 'niat': 15, 'fitnah': 15, 'penemuan': 15, 'layak': 15, 'bocor': 15, 'saw': 15, 'live': 15, 'esemka': 15, 'menjawab': 15, 'biji': 15, 'dahsyat': 15, 'warning': 15, 'walaupun': 15, 'ppkm': 15, 'berguna': 15, 'hidupnya': 15, 'rezeki': 15, 'mengingatkan': 15, 'obatnya': 15, 'bubarkan': 15, 'individu': 15, 'pemberian': 15, 'kekuasaan': 15, 'kebaikan': 15, 'jabar': 15, 'bojonegoro': 15, 'nb': 15, 'campur': 15, 'jujur': 15, 'banyaknya': 15, 'masak': 15, 'kanan': 15, 'nafas': 15, 'profesor': 15, 'disertai': 15, 'sriwijaya': 15, 'eco': 15, 'sebagainya': 15, 'bumbu': 15, 'konstitusi': 15, 'menguasai': 15, 'kenal': 15, 'macron': 15, 'lomba': 14, 'infrastruktur': 14, 'miskin': 14, 'asuransi': 14, 'pembukaan': 14, 'kafir': 14, 'ataupun': 14, 'angin': 14, 'bangga': 14, 'istilah': 14, 'versi': 14, 'terdaftar': 14, 'kunjungi': 14, 'wawancara': 14, 'bang': 14, 'hutan': 14, 'mengumpulkan': 14, 'pm': 14, 'ketakutan': 14, 'musim': 14, 'ampuh': 14, 'ide': 14, 'kaget': 14, 'page': 14, 'berkah': 14, 'pejuang': 14, 'puncak': 14, 'tata': 14, 'berkualitas': 14, 'jne': 14, 'sisi': 14, 'chicken': 14, 'konsep': 14, 'membakar': 14, 'kuburan': 14, 'ketentuan': 14, 'max': 14, 'ditujukan': 14, 'lepas': 14, 'rasulullah': 14, 'waalaikum': 14, 'menggalang': 14, 'check': 14, 'misi': 14, 'koperasi': 14, 'terpaksa': 14, 'mendengar': 14, 'kesulitan': 14, 'merayakan': 14, 'truk': 14, 'bi': 14, 'sby': 14, 'mbak': 14, 'hotman': 14, 'seolah': 14, 'energi': 14, 'harta': 14, 'setan': 14, 'salman': 14, 'menyebar': 14, 'mengobati': 14, 'semalaman': 14, 'jahe': 14, 'kebiasaan': 14, 'kuno': 14, 'bismillah': 14, 'menurunkan': 14, 'batang': 14, 'peningkatan': 14, 'mencuci': 14, 'obama': 14, 'berlangsung': 14, 'penanganan': 14, 'kekebalan': 14, 'setia': 14, 'rekomendasi': 14, 'penyempitan': 14, 'berpikir': 14, 'my': 14, 'menyebut': 14, 'diadakan': 14, 'pendayagunaan': 14, 'pertanian': 14, 'lambung': 14, 'tertentu': 14, 'wisma': 14, 'promo': 14, 'sedih': 14, 'koruptor': 14, 'astagfirullah': 14, 'hem': 14, 'recruitment': 14, 'lahan': 14, 'bertuliskan': 14, 'tanjung': 14, 'laporkan': 14, 'permusyawaratan': 14, 'pembeli': 14, 'innailaihi': 14, 'wisata': 14, 'gatot': 14, 'pengadilan': 14, 'dilaporkan': 14, 'rscm': 14, 'memasak': 14, 'lintah': 14, 'ikuti': 14, 'fitri': 14, 'ketat': 14, 'bebaskan': 14, 'bersatu': 14, 'kristen': 14, 'pembelajaran': 14, 'berkumur': 14, 'oi': 14, 'kubur': 14, 'ditinggalkan': 14, 'pepaya': 14, 'manis': 14, 'stnk': 14, 'sp': 14, 'digital': 14, 'tantangan': 14, 'berkata': 14, 'barusan': 14, 'manjur': 14, 'wafat': 14, 'rupanya': 14, 'ruu': 14, 'plak': 14, 'sepak': 13, 'penyanyi': 13, 'kompas': 13, 'urut': 13, 'ketahuan': 13, 'tempur': 13, 'biadab': 13, 'baim': 13, 'percobaan': 13, 'pastikan': 13, 'web': 13, 'pasca': 13, 'memegang': 13, 'majalah': 13, 'joe': 13, 'tenang': 13, 'pindah': 13, 'generation': 13, 'memerlukan': 13, 'amat': 13, 'beracun': 13, 'menular': 13, 'pilot': 13, 'isu': 13, 'berbeda': 13, 'ac': 13, 'beritahu': 13, 'owner': 13, 'monyet': 13, 'nasa': 13, 'dilihat': 13, 'upah': 13, 'potong': 13, 'sidang': 13, 'mengerti': 13, 'larangan': 13, 'denpasar': 13, 'lolos': 13, 'begal': 13, 'melanda': 13, 'deklarasi': 13, 'elite': 13, 'donor': 13, 'kampanye': 13, 'alumni': 13, 'brigade': 13, 'iman': 13, 'ketik': 13, 'doktorandes': 13, 'permintaan': 13, 'jawaban': 13, 'center': 13, 'kitab': 13, 'paus': 13, 'memperhatikan': 13, 'said': 13, 'tik': 13, 'kerusakan': 13, 'berfungsi': 13, 'persatuan': 13, 'tenggelam': 13, 'indomaret': 13, 'perlahan': 13, 'bakteri': 13, 'nikotin': 13, 'penyembuhan': 13, 'induk': 13, 'alfamart': 13, 'terdekat': 13, 'menyalurkan': 13, 'teknis': 13, 'trans': 13, 'bekas': 13, 'seumur': 13, 'united': 13, 'peristiwa': 13, 'simak': 13, 'jaya': 13, 'menahan': 13, 'ujung': 13, 'tangis': 13, 'rasanya': 13, 'pengambilan': 13, 'legislatif': 13, 'kebohongan': 13, 'susah': 13, 'spbu': 13, 'keberhasilan': 13, 'terminal': 13, 'agenda': 13, 'kalangan': 13, 'aktivis': 13, 'kemasan': 13, 'pesta': 13, 'birokrasi': 13, 'spanyol': 13, 'melampirkan': 13, 'plastik': 13, 'klinik': 13, 'kebencian': 13, 'asap': 13, 'pemilu': 13, 'kawasan': 13, 'forum': 13, 'nur': 13, 'fraksi': 13, 'planet': 13, 'melainkan': 13, 'syekh': 13, 'membuang': 13, 'tks': 13, 'kista': 13, 'sepenuhnya': 13, 'dipecat': 13, 'dipantau': 13, 'dewasa': 13, 'stay': 13, 'dlm': 13, 'biologi': 13, 'neraka': 13, 'alah': 13, 'permohonan': 13, 'fadli': 13, 'tertinggi': 13, 'menyebutkan': 13, 'menjalani': 13, 'seminggu': 13, 'dicantumkan': 13, 'munarman': 13, 'mg': 13, 'tab': 13, 'dada': 13, 'setengah': 13, 'pengetahuan': 13, 'periksa': 13, 'putus': 13, 'kedaulatan': 13, 'dajjal': 13, 'kuasai': 13, 'agus': 13, 'saatnya': 13, 'bintang': 13, 'dungu': 13, 'nik': 13, 'palu': 13, 'kesalahan': 13, 'potensi': 13, 'mui': 13, 'ilmiah': 13, 'ideologi': 13, 'meliputi': 13, 'dikuasai': 13, 'tertular': 13, 'kerjanya': 13, 'risma': 13, 'rambu': 13, 'line': 13, 'perhari': 13, 'prestasi': 13, 'palestine': 13, 'tai': 13, 'tel': 13, 'mewah': 13, 'prakerja': 13, 'murid': 13, 'jebakan': 13, 'samsung': 13, 'filsafat': 13, 'kamera': 12, 'lgbt': 12, 'qatar': 12, 'menjelang': 12, 'cabang': 12, 'pelukan': 12, 'rspad': 12, 'giveaway': 12, 'ferdy': 12, 'menikah': 12, 'screenshot': 12, 'brazil': 12, 'milyar': 12, 'akui': 12, 'katakan': 12, 'we': 12, 'bareng': 12, 'ntt': 12, 'dimakan': 12, 'singkat': 12, 'naga': 12, 'menyusul': 12, 'kiamat': 12, 'menetapkan': 12, 'kaleng': 12, 'buahan': 12, 'mangga': 12, 'arahan': 12, 'arabia': 12, 'jalanan': 12, 'tahanan': 12, 'riwayat': 12, 'betapa': 12, 'putrinya': 12, 'laskar': 12, 'pln': 12, 'rawat': 12, 'driver': 12, 'kentaki': 12, 'fried': 12, 'serentak': 12, 'operasional': 12, 'membentuk': 12, 'garis': 12, 'jejak': 12, 'thumbnail': 12, 'bersifat': 12, 'pratama': 12, 'mulia': 12, 'uangnya': 12, 'susi': 12, 'buruh': 12, 'kejaksaan': 12, 'pangeran': 12, 'penyelenggaraan': 12, 'dijemput': 12, 'padang': 12, 'npwp': 12, 'bandang': 12, 'menghasilkan': 12, 'madura': 12, 'madu': 12, 'dianjurkan': 12, 'rutin': 12, 'dipimpin': 12, 'perlindungan': 12, 'studi': 12, 'dna': 12, 'doanya': 12, 'darat': 12, 'rabi': 12, 'goblok': 12, 'klarifikasi': 12, 'eksekusi': 12, 'disebabkan': 12, 'sinar': 12, 'babak': 12, 'servis': 12, 'pelaksana': 12, 'krisis': 12, 'lindungi': 12, 'membatalkan': 12, 'lemah': 12, 'kang': 12, 'membersihkan': 12, 'pelabuhan': 12, 'mengucapkan': 12, 'sampah': 12, 'simbol': 12, 'alternatif': 12, 'kabarnya': 12, 'waktunya': 12, 'minat': 12, 'berbasis': 12, 'jaman': 12, 'mayoritas': 12, 'just': 12, 'kemampuan': 12, 'disiplin': 12, 'hatilah': 12, 'ter': 12, 'meja': 12, 'pontianak': 12, 'berbentuk': 12, 'besaran': 12, 'metode': 12, 'tikus': 12, 'menyamar': 12, 'mewaspadai': 12, 'kedokteran': 12, 'tragis': 12, 'ditembak': 12, 'berjemaah': 12, 'sepertinya': 12, 'memeriksa': 12, 'sebar': 12, 'paragis': 12, 'warganet': 12, 'situ': 12, 'menyediakan': 12, 'mentah': 12, 'terbanyak': 12, 'sekilas': 12, 'diperiksa': 12, 'laman': 12, 'agnes': 12, 'edy': 12, 'pembuatan': 12, 'awalnya': 12, 'fisik': 12, 'follow': 12, 'gojek': 12, 'order': 12, 'memasukkan': 12, 'impor': 12, 'ntb': 12, 'persen': 12, 'delapan': 12, 'bertahan': 12, 'misalnya': 12, 'warganya': 12, 'ring': 12, 'moeldoko': 12, 'keluhan': 12, 'dikatakan': 12, 'menangkal': 12, 'peti': 12, 'jarum': 12, 'google': 12, 'direct': 12, 'jajaran': 12, 'pelantikan': 12, 'ujar': 12, 'direksi': 12, 'menyuap': 12, 'lari': 11, 'pokok': 11, 'ustad': 11, 'hanyalah': 11, 'mengganggu': 11, 'manajer': 11, 'nato': 11, 'seram': 11, 'raksasa': 11, 'perbatasan': 11, 'musk': 11, 'atribut': 11, 'benci': 11, 'tabungan': 11, 'juara': 11, 'nkri': 11, 'misterius': 11, 'menebak': 11, 'ramai': 11, 'seharga': 11, 'tersangka': 11, 'robot': 11, 'fifth': 11, 'tamu': 11, 'bunda': 11, 'tenggara': 11, 'disimpan': 11, 'dibubarkan': 11, 'musuh': 11, 'semeru': 11, 'pneumonia': 11, 'survey': 11, 'sujud': 11, 'mengalir': 11, 'pergerakan': 11, 'karawang': 11, 'akta': 11, 'kelahiran': 11, 'minimum': 11, 'menyambut': 11, 'ucapan': 11, 'mengadakan': 11, 'rek': 11, 'izinkan': 11, 'power': 11, 'beda': 11, 'cocok': 11, 'berminat': 11, 'bandar': 11, 'konser': 11, 'dikasih': 11, 'nekat': 11, 'masal': 11, 'genetik': 11, 'ancam': 11, 'mega': 11, 'rombongan': 11, 'golongan': 11, 'tito': 11, 'anggap': 11, 'belas': 11, 'jemput': 11, 'menyelesaikan': 11, 'protein': 11, 'penjual': 11, 'grand': 11, 'peluang': 11, 'kesejahteraan': 11, 'kenaikan': 11, 'penerbangan': 11, 'kelakuan': 11, 'sebabnya': 11, 'memberitakan': 11, 'istimewa': 11, 'kuningan': 11, 'dipungut': 11, 'persiapan': 11, 'subianto': 11, 'keluarganya': 11, 'roda': 11, 'khawatir': 11, 'somad': 11, 'eh': 11, 'on': 11, 'dimiliki': 11, 'sampul': 11, 'memasuki': 11, 'erupsi': 11, 'telkomsel': 11, 'belanda': 11, 'humas': 11, 'membahayakan': 11, 'awan': 11, 'permukaan': 11, 'seruan': 11, 'larang': 11, 'soalnya': 11, 'kejang': 11, 'dipastikan': 11, 'ct': 11, 'save': 11, 'memaksa': 11, 'this': 11, 'mengatasnamakan': 11, 'salin': 11, 'industri': 11, 'bertempat': 11, 'harganya': 11, 'muntah': 11, 'unsur': 11, 'swasta': 11, 'terigu': 11, 'memohon': 11, 'tentukan': 11, 'bapaknya': 11, 'tujuannya': 11, 'kamar': 11, 'sebabkan': 11, 'perlawanan': 11, 'muslimin': 11, 'merampok': 11, 'plan': 11, 'melewati': 11, 'otomatis': 11, 'ditambah': 11, 'menangani': 11, 'hibah': 11, 'perumahan': 11, 'sebaliknya': 11, 'hadi': 11, 'it': 11, 'saldo': 11, 'stok': 11, 'mendarat': 11, 'memimpin': 11, 'james': 11, 'ampun': 11, 'dimasak': 11, 'dibagikan': 11, 'penasihat': 11, 'post': 11, 'beban': 11, 'zon': 11, 'indeks': 11, 'sanitizer': 11, 'melanjutkan': 11, 'bima': 11, 'maling': 11, 'tertawa': 11, 'menyerah': 11, 'raffi': 11, 'berangkat': 11, 'pengajuan': 11, 'registrasi': 11, 'bnpb': 11, 'lokal': 11, 'mengembangkan': 11, 'ketabahan': 11, 'petinggi': 11, 'meski': 11, 'longsor': 11, 'sarana': 11, 'wkwk': 11, 'berpotensi': 11, 'sesungguhnya': 11, 'harusnya': 11, 'menerapkan': 11, 'sasaran': 11, 'ansor': 11, 'drone': 11, 'aqil': 11, 'park': 11, 'poin': 11, 'jaksa': 11, 'sekalian': 11, 'erdogan': 11, 'badak': 11, 'pemblokiran': 11, 'barcode': 11, 'berbuat': 11, 'tgl': 11, 'sekretariat': 11, 'yakult': 11, 'poligami': 11, 'wijaya': 11, 'tren': 11, 'cendana': 11, 'wahai': 11, 'semester': 11, 'free': 11, 'tersebar': 11, 'kapolri': 11, 'firaun': 11, 'arief': 11, 'com': 11, 'law': 11, 'cuit': 11, 'habibie': 11, 'kisyanto': 11, 'ceo': 10, 'memeluk': 10, 'tekan': 10, 'heru': 10, 'departemen': 10, 'mahal': 10, 'kotor': 10, 'fatwa': 10, 'sumbar': 10, 'hepatitis': 10, 'revolusi': 10, 'ganas': 10, 'sinyal': 10, 'adat': 10, 'lesti': 10, 'lambang': 10, 'diobati': 10, 'yaman': 10, 'seribu': 10, 'tragedi': 10, 'leher': 10, 'bongkar': 10, 'abaikan': 10, 'menakutkan': 10, 'duta': 10, 'adek': 10, 'ubah': 10, 'cacar': 10, 'diantaranya': 10, 'pengerasan': 10, 'sumsum': 10, 'adakan': 10, 'zelensky': 10, 'sekeluarga': 10, 'berharap': 10, 'jl': 10, 'sertifikasi': 10, 'menghadiri': 10, 'silahkan': 10, 'gudang': 10, 'kutipan': 10, 'domba': 10, 'chat': 10, 'sumur': 10, 'resapan': 10, 'yoyakarta': 10, 'world': 10, 'medical': 10, 'beritahukan': 10, 'panti': 10, 'menyiapkan': 10, 'panggil': 10, 'ajak': 10, 'menulis': 10, 'ungkap': 10, 'menghapus': 10, 'mie': 10, 'gaza': 10, 'pranowo': 10, 'ditahan': 10, 'karang': 10, 'pembinaan': 10, 'pakar': 10, 'ruangan': 10, 'petani': 10, 'cacing': 10, 'sekian': 10, 'dipilih': 10, 'bri': 10, 'city': 10, 'barangkali': 10, 'disuruh': 10, 'lubang': 10, 'gabung': 10, 'bumn': 10, 'ruben': 10, 'simpan': 10, 'merugikan': 10, 'pimpin': 10, 'jahat': 10, 'toilet': 10, 'nigeria': 10, 'ditanya': 10, 'aff': 10, 'menghina': 10, 'negaranya': 10, 'urat': 10, 'head': 10, 'belur': 10, 'penembakan': 10, 'pernapasan': 10, 'sabar': 10, 'pendeta': 10, 'cerdas': 10, 'afghanistan': 10, 'pecahan': 10, 'terlambat': 10, 'pikir': 10, 'pangan': 10, 'tambahan': 10, 'bebek': 10, 'perawatan': 10, 'pengadaan': 10, 'fatihah': 10, 'level': 10, 'keuntungan': 10, 'dikenakan': 10, 'dicampur': 10, 'perasaan': 10, 'tambahkan': 10, 'partisipasi': 10, 'berharga': 10, 'mandi': 10, 'aktor': 10, 'wainnailaihirojiun': 10, 'emak': 10, 'dihindari': 10, 'maksudnya': 10, 'terawan': 10, 'profesi': 10, 'antek': 10, 'tekanan': 10, 'memberitahukan': 10, 'penjajah': 10, 'dilantik': 10, 'label': 10, 'people': 10, 'rekayasa': 10, 'satgas': 10, 'diserang': 10, 'mengungkapkan': 10, 'tuduhan': 10, 'dalih': 10, 'iphone': 10, 'sembilan': 10, 'kodok': 10, 'dibaca': 10, 'cair': 10, 'sabun': 10, 'cancer': 10, 'dikenal': 10, 'buton': 10, 'cell': 10, 'bius': 10, 'tumis': 10, 'biak': 10, 'seakan': 10, 'sholat': 10, 'elektronik': 10, 'macet': 10, 'mengurus': 10, 'konflik': 10, 'ting': 10, 'full': 10, 'memutuskan': 10, 'kaca': 10, 'wib': 10, 'imunitas': 10, 'kebebasan': 10, 'pengemudi': 10, 'pelan': 10, 'ditulis': 10, 'beribadah': 10, 'diperas': 10, 'koran': 10, 'jln': 10, 'ph': 10, 'chip': 10, 'ipb': 10, 'juice': 10, 'apd': 10, 'rantai': 10, 'dihimbau': 10, 'morowali': 10, 'spesialis': 10, 'us': 10, 'monggo': 10, 'target': 10, 'pekanbaru': 10, 'iklan': 10, 'bollywood': 10, 'lancar': 10, 'didapat': 10, 'mitra': 10, 'menempatkan': 10, 'jati': 10, 'terdiri': 10, 'perpanjang': 10, 'arti': 10, 'terjadinya': 10, 'best': 10, 'yatim': 10, 'co': 10, 'kelaparan': 10, 'lengan': 10, 'abdullah': 10, 'strategis': 10, 'menstruasi': 10, 'nanggala': 10, 'haid': 10, 'square': 10, 'oksida': 10, 'benarkah': 10, 'cipta': 10, 'janda': 10, 'perhiasan': 10, 'ditandatangani': 10, 'gopay': 10, 'omnibus': 10, 'spam': 10, 'hongkong': 10, 'magic': 10, 'suspect': 10, 'uno': 10, 'juru': 9, 'dolar': 9, 'rentan': 9, 'persetujuan': 9, 'secangkir': 9, 'kaesang': 9, 'tumbuh': 9, 'melintas': 9, 'uni': 9, 'pandang': 9, 'mengendarai': 9, 'telan': 9, 'membela': 9, 'nelayan': 9, 'kualitas': 9, 'dikarenakan': 9, 'paracetamol': 9, 'dibayar': 9, 'ditentukan': 9, 'departement': 9, 'verifikasi': 9, 'top': 9, 'nikah': 9, 'menyimpan': 9, 'hendak': 9, 'ditolak': 9, 'ikutan': 9, 'mempengaruhi': 9, 'kembalikan': 9, 'seekor': 9, 'pingsan': 9, 'menolong': 9, 'komentar': 9, 'kejuruan': 9, 'olahraga': 9, 'idi': 9, 'oposisi': 9, 'swiss': 9, 'anjir': 9, 'organ': 9, 'cilacap': 9, 'sikap': 9, 'kah': 9, 'pandemic': 9, 'hubung': 9, 'kalimat': 9, 'bensin': 9, 'aslinya': 9, 'formasi': 9, 'imigran': 9, 'validasi': 9, 'asn': 9, 'kelengkapan': 9, 'tank': 9, 'ketenagakerjaan': 9, 'pengisian': 9, 'gram': 9, 'ketahui': 9, 'menyerahkan': 9, 'lpg': 9, 'account': 9, 'royal': 9, 'kunyit': 9, 'fan': 9, 'faktanya': 9, 'ramuan': 9, 'potongan': 9, 'mendidih': 9, 'penyumbatan': 9, 'ikhlas': 9, 'airnya': 9, 'mewakili': 9, 'segar': 9, 'kuda': 9, 'betasemen': 9, 'latihan': 9, 'pembantu': 9, 'saran': 9, 'pola': 9, 'ragu': 9, 'pemasangan': 9, 'perhubungan': 9, 'dishub': 9, 'mabuk': 9, 'insyaallah': 9, 'menjalankan': 9, 'diperhatikan': 9, 'mak': 9, 'dipenuhi': 9, 'peta': 9, 'dipublikasikan': 9, 'ajaran': 9, 'ummat': 9, 'maksud': 9, 'terlarang': 9, 'office': 9, 'tunjangan': 9, 'purwakarta': 9, 'penyuluh': 9, 'sepakat': 9, 'prix': 9, 'usahakan': 9, 'dijamin': 9, 'pertimbangan': 9, 'sisa': 9, 'tercinta': 9, 'teratur': 9, 'kebanyakan': 9, 'derajat': 9, 'profil': 9, 'penjahat': 9, 'manapun': 9, 'gugur': 9, 'lebaran': 9, 'alih': 9, 'nominal': 9, 'disebutkan': 9, 'tanaman': 9, 'radang': 9, 'campuran': 9, 'menekan': 9, 'antaranya': 9, 'armando': 9, 'telat': 9, 'terdampak': 9, 'lillahi': 9, 'roket': 9, 'copot': 9, 'mental': 9, 'mengganti': 9, 'tangani': 9, 'pasaran': 9, 'kriminal': 9, 'kucing': 9, 'hand': 9, 'hikmah': 9, 'manfaatnya': 9, 'ayu': 9, 'kudus': 9, 'jikalau': 9, 'dihapus': 9, 'batangnya': 9, 'diteliti': 9, 'tampak': 9, 'hehe': 9, 'dilansir': 9, 'gerindra': 9, 'kesabaran': 9, 'denny': 9, 'menyarankan': 9, 'black': 9, 'vit': 9, 'seandainya': 9, 'tiang': 9, 'berutang': 9, 'keluarkan': 9, 'matang': 9, 'cuka': 9, 'kenalan': 9, 'melibatkan': 9, 'dikira': 9, 'kinerja': 9, 'kencing': 9, 'kacau': 9, 'icu': 9, 'keliling': 9, 'standar': 9, 'vaccine': 9, 'juz': 9, 'rela': 9, 'melecehkan': 9, 'mogok': 9, 'cocokkan': 9, 'waduh': 9, 'suasana': 9, 'miliki': 9, 'kecepatan': 9, 'kontrak': 9, 'zionis': 9, 'department': 9, 'mustafa': 9, 'kemal': 9, 'ditempuh': 9, 'corrona': 9, 'darahnya': 9, 'dinding': 9, 'yusril': 9, 'bertentangan': 9, 'penurunan': 9, 'domisili': 9, 'sabuk': 9, 'racing': 9, 'back': 9, 'doakan': 9, 'kab': 9, 'gawat': 9, 'pulih': 9, 'kiriman': 9, 'tv': 9, 'th': 9, 'mengancam': 9, 'wahid': 9, 'syiah': 9, 'mengotot': 9, 'body': 9, 'ciri': 9, 'like': 9, 'pemakaian': 9, 'dilindungi': 9, 'test': 9, 'bertindak': 9, 'keramaian': 9, 'cabe': 9, 'menilai': 9, 'dikarantina': 9, 'lilin': 9, 'pilpres': 9, 'trombus': 9, 'penonton': 8, 'doang': 8, 'paruh': 8, 'kas': 8, 'kakek': 8, 'kumpulan': 8, 'elon': 8, 'bergambar': 8, 'kerajaan': 8, 'diperbolehkan': 8, 'pasrah': 8, 'populer': 8, 'dikonsumsi': 8, 'bersamaan': 8, 'regional': 8, 'melayani': 8, 'konferensi': 8, 'time': 8, 'harris': 8, 'box': 8, 'aduh': 8, 'berumur': 8, 'melepuh': 8, 'renang': 8, 'pengunjung': 8, 'kehormatan': 8, 'barakat': 8, 'astaga': 8, 'cahaya': 8, 'dong': 8, 'giliran': 8, 'mengamuk': 8, 'jayapura': 8, 'kbri': 8, 'ganggu': 8, 'stasiun': 8, 'york': 8, 'rambut': 8, 'diutamakan': 8, 'tertutup': 8, 'memposting': 8, 'ilegal': 8, 'dibersihkan': 8, 'propaganda': 8, 'pemakaman': 8, 'tipu': 8, 'achmad': 8, 'remaja': 8, 'kerap': 8, 'penanggung': 8, 'kh': 8, 'abang': 8, 'saluran': 8, 'melepaskan': 8, 'dipanggil': 8, 'busuk': 8, 'meninggalnya': 8, 'umumkan': 8, 'camat': 8, 'mike': 8, 'menyangka': 8, 'samarinda': 8, 'bantuannya': 8, 'im': 8, 'profit': 8, 'terlampir': 8, 'dilengkapi': 8, 'ratu': 8, 'bsu': 8, 'eks': 8, 'menuntut': 8, 'menyetujui': 8, 'dibandingkan': 8, 'mengklaim': 8, 'penemu': 8, 'bara': 8, 'tasikmalaya': 8, 'pikiran': 8, 'sepeserpun': 8, 'ganda': 8, 'mewujudkan': 8, 'pom': 8, 'bepergian': 8, 'amirul': 8, 'halnya': 8, 'preman': 8, 'onsu': 8, 'dimasukkan': 8, 'nol': 8, 'terluka': 8, 'komando': 8, 'ra': 8, 'basah': 8, 'tuanya': 8, 'kemunculan': 8, 'kelenjar': 8, 'dibuang': 8, 'berlebihan': 8, 'miris': 8, 'truck': 8, 'mekanik': 8, 'insiden': 8, 'hindu': 8, 'portal': 8, 'celana': 8, 'sempurna': 8, 'petunjuk': 8, 'heran': 8, 'memperkuat': 8, 'menjemput': 8, 'taat': 8, 'lelah': 8, 'kunci': 8, 'stadium': 8, 'pasalnya': 8, 'konvensional': 8, 'ukuran': 8, 'festival': 8, 'nenek': 8, 'kemoterapi': 8, 'yani': 8, 'probolinggo': 8, 'asisten': 8, 'chemtrail': 8, 'jualan': 8, 'baiknya': 8, 'tauhid': 8, 'terpercaya': 8, 'kong': 8, 'telapak': 8, 'diaduk': 8, 'masyaallah': 8, 'mansur': 8, 'dihubungi': 8, 'getah': 8, 'bayangkan': 8, 'utuh': 8, 'santunan': 8, 'nantinya': 8, 'pertanyaan': 8, 'merapi': 8, 'menanti': 8, 'agen': 8, 'menyelimuti': 8, 'lantas': 8, 'tradisional': 8, 'goyang': 8, 'akibatnya': 8, 'abal': 8, 'kampus': 8, 'disalin': 8, 'mes': 8, 'edi': 8, 'sarjana': 8, 'kemanusiaan': 8, 'cuitan': 8, 'disepakati': 8, 'swafoto': 8, 'ikn': 8, 'potret': 8, 'menegaskan': 8, 'basa': 8, 'rumput': 8, 'pertumbuhan': 8, 'ovarium': 8, 'berbau': 8, 'kedepannya': 8, 'dll': 8, 'gaya': 8, 'go': 8, 'sc': 8, 'melebihi': 8, 'atom': 8, 'security': 8, 'dibilang': 8, 'ikatan': 8, 'tuan': 8, 'menyuruh': 8, 'museum': 8, 'berkeliaran': 8, 'menginginkan': 8, 'institut': 8, 'ubi': 8, 'jalar': 8, 'kembang': 8, 'wakaf': 8, 'diisi': 8, 'karier': 8, 'pemkab': 8, 'tujukan': 8, 'mengatur': 8, 'invasi': 8, 'dimaksud': 8, 'mencetak': 8, 'tumor': 8, 'ortu': 8, 'terbuat': 8, 'berpakaian': 8, 'tarik': 8, 'berjanji': 8, 'setahun': 8, 'pers': 8, 'alaikum': 8, 'plat': 8, 'pertemuan': 8, 'fokus': 8, 'berkerumun': 8, 'perbolehkan': 8, 'undian': 8, 'mualaf': 8, 'penghianat': 8, 'doktor': 8, 'imun': 8, 'lumba': 8, 'code': 8, 'kelinci': 8, 'kantung': 8, 'klinis': 8, 'duk': 8, 'dicoba': 8, 'website': 8, 'isinya': 8, 'menuliskan': 8, 'hb': 8, 'satelit': 8, 'tokyo': 8, 'taliban': 8, 'terbunuh': 8, 'sayangi': 8, 'jember': 8, 'arya': 8, 'gorong': 8, 'melahirkan': 8, 'berdampak': 8, 'kompetensi': 8, 'zealand': 8, 'cewek': 8, 'klakson': 8, 'institusi': 8, 'kompensasi': 8, 'kebal': 8, 'cholil': 8, 'kecewa': 8, 'pembunuh': 8, 'bill': 8, 'komputer': 8, 'dikendalikan': 8, 'pengganti': 8, 'kenangan': 8, 'dewi': 8, 'meletakkan': 8, 'memikirkan': 8, 'aliansi': 8, 'diculik': 8, 'gugatan': 8, 'ditangani': 8, 'mi': 8, 'pelatih': 8, 'nge': 8, 'arit': 8, 'mark': 8, 'harimurti': 8, 'rapatkan': 8, 'dibalik': 8, 'meminum': 8, 'murni': 8, 'menjabat': 8, 'perlengkapan': 8, 'orderan': 8, 'hmi': 8, 'pembatasan': 8, 'grab': 8, 'uighur': 8, 'terdepan': 8, 'kehendak': 8, 'otopsi': 8, 'selam': 8, 'pahala': 8, 'berkendara': 8, 'sanksi': 8, 'thamrin': 8, 'micin': 8, 'siregar': 8, 'dipasang': 8, 'drama': 8, 'argo': 8, 'mall': 8, 'lock': 8, 'perampok': 8, 'menyedihkan': 8, 'amir': 8, 'riyadi': 8, 'kepulauan': 8, 'lebak': 8, 'blokir': 8, 'penguasa': 8, 'haha': 8, 'mendesak': 8, 'otg': 8, 'dinkes': 8, 'pelajar': 8, 'bangkit': 8, 'jat': 8, 'quick': 8, 'jusuf': 8, 'kalla': 8, 'petronin': 8, 'shopie': 8, 'ka': 8, 'pemadaman': 8, 'tergantung': 8, 'sandiaga': 8, 'ank': 8, 'ket': 8, 'melego': 8, 'perkara': 7, 'menyaksikan': 7, 'association': 7, 'tembusan': 7, 'sadis': 7, 'sirkulasi': 7, 'harimau': 7, 'plonga': 7, 'dibebaskan': 7, 'makam': 7, 'jin': 7, 'kenyamanan': 7, 'diubah': 7, 'jarang': 7, 'mengidap': 7, 'restu': 7, 'perum': 7, 'travel': 7, 'rukun': 7, 'danau': 7, 'penghina': 7, 'pembelian': 7, 'now': 7, 'do': 7, 'timbul': 7, 'dibuatkan': 7, 'kolam': 7, 'bertahun': 7, 'menyala': 7, 'liga': 7, 'disarankan': 7, 'novel': 7, 'umumnya': 7, 'penolakan': 7, 'syukur': 7, 'suap': 7, 'astra': 7, 'penempatan': 7, 'cikarang': 7, 'melamar': 7, 'bahas': 7, 'kedatangan': 7, 'memahami': 7, 'penyebar': 7, 'menakjubkan': 7, 'berenang': 7, 'tajam': 7, 'nyatanya': 7, 'arif': 7, 'adi': 7, 'kompleks': 7, 'dibangun': 7, 'tinggalkan': 7, 'permata': 7, 'maulid': 7, 'buru': 7, 'dicopot': 7, 'kudeta': 7, 'lumajang': 7, 'coklat': 7, 'beijing': 7, 'simpanan': 7, 'bersumber': 7, 'jancuk': 7, 'memanas': 7, 'licik': 7, 'ditunda': 7, 'pinjam': 7, 'buktikan': 7, 'komisaris': 7, 'neo': 7, 'taiwan': 7, 'saking': 7, 'aamiin': 7, 'viva': 7, 'harun': 7, 'rekam': 7, 'diploma': 7, 'workshop': 7, 'pengembangan': 7, 'serial': 7, 'websitenya': 7, 'bertanya': 7, 'sendirian': 7, 'senayan': 7, 'sumpah': 7, 'khasiat': 7, 'letakkan': 7, 'berpulang': 7, 'rebus': 7, 'botol': 7, 'dimohon': 7, 'club': 7, 'kejutan': 7, 'secepatnya': 7, 'purwokerto': 7, 'banteng': 7, 'prajurit': 7, 'terpidana': 7, 'penyebabnya': 7, 'customer': 7, 'arifin': 7, 'mengesahkan': 7, 'udah': 7, 'tunjuk': 7, 'debat': 7, 'limbah': 7, 'mengizinkan': 7, 'boikot': 7, 'ranah': 7, 'sakitnya': 7, 'tumbang': 7, 'bimbingan': 7, 'pembekuan': 7, 'menewaskan': 7, 'did': 7, 'hentikan': 7, 'kalo': 7, 'peran': 7, 'pentingnya': 7, 'musik': 7, 'penghinaan': 7, 'simpang': 7, 'mayatnya': 7, 'kuburkan': 7, 'tiada': 7, 'mnc': 7, 'jatah': 7, 'lebanon': 7, 'meluncurkan': 7, 'memasang': 7, 'sayuran': 7, 'pungut': 7, 'dikembalikan': 7, 'pasta': 7, 'pembakaran': 7, 'videonya': 7, 'menindaklanjuti': 7, 'arus': 7, 'gabungan': 7, 'seni': 7, 'persis': 7, 'harinya': 7, 'memperbaiki': 7, 'fakultas': 7, 'awas': 7, 'suam': 7, 'memerkosa': 7, 'wifi': 7, 'menyesuaikan': 7, 'pop': 7, 'person': 7, 'menggantikan': 7, 'isyarat': 7, 'momen': 7, 'rencananya': 7, 'katedral': 7, 'sinetron': 7, 'munafik': 7, 'div': 7, 'universal': 7, 'fda': 7, 'pendiri': 7, 'sudirman': 7, 'peluncuran': 7, 'rais': 7, 'klaten': 7, 'sekelompok': 7, 'traffic': 7, 'suaminya': 7, 'andi': 7, 'fransiskus': 7, 'diinformasikan': 7, 'investor': 7, 'safe': 7, 'cantik': 7, 'kol': 7, 'golden': 7, 'terungkap': 7, 'airlines': 7, 'tugasnya': 7, 'give': 7, 'away': 7, 'pecat': 7, 'gejalanya': 7, 'cilegon': 7, 'andri': 7, 'sawit': 7, 'dek': 7, 'merujuk': 7, 'jelasnya': 7, 'sos': 7, 'pemegang': 7, 'perbankan': 7, 'huruf': 7, 'perikanan': 7, 'senantiasa': 7, 'antigen': 7, 'syaratnya': 7, 'kebingungan': 7, 'suntingan': 7, 'indro': 7, 'anna': 7, 'mengharapkan': 7, 'koordinasi': 7, 'adha': 7, 'lucu': 7, 'bersalah': 7, 'larutan': 7, 'agak': 7, 'pcr': 7, 'irwan': 7, 'segenap': 7, 'sesudah': 7, 'komen': 7, 'daring': 7, 'mestinya': 7, 'file': 7, 'balai': 7, 'mali': 7, 'elang': 7, 'perbedaan': 7, 'disebar': 7, 'biologis': 7, 'pilek': 7, 'segelas': 7, 'keracunan': 7, 'narasinya': 7, 'kolesterol': 7, 'tuntas': 7, 'perpanjangan': 7, 'bingung': 7, 'mahathir': 7, 'terpadu': 7, 'menghabiskan': 7, 'tranfusi': 7, 'kenakan': 7, 'bendungan': 7, 'thomas': 7, 'ti': 7, 'oliver': 7, 'burger': 7, 'rawan': 7, 'orangnya': 7, 'tercantum': 7, 'disembuhkan': 7, 'nahdlatul': 7, 'kabel': 7, 'cyber': 7, 'ibadahnya': 7, 'merilis': 7, 'komunisme': 7, 'sadarlah': 7, 'america': 7, 'heart': 7, 'dipercaya': 7, 'tumbuhan': 7, 'serangga': 7, 'rahim': 7, 'sayangnya': 7, 'inka': 7, 'bosowa': 7, 'ilahi': 7, 'hiburan': 7, 'angkutan': 7, 'sejenis': 7, 'olimpiade': 7, 'tengkorak': 7, 'diselenggarakan': 7, 'perwira': 7, 'light': 7, 'konten': 7, 'dirilis': 7, 'terjangkit': 7, 'dahak': 7, 'perasan': 7, 'maklumat': 7, 'disahkan': 7, 'budaya': 7, 'generasi': 7, 'kembar': 7, 'pasokan': 7, 'mafia': 7, 'terpusat': 7, 'bukanlah': 7, 'sing': 7, 'mineral': 7, 'man': 7, 'kebocoran': 7, 'karenakan': 7, 'usir': 7, 'skm': 7, 'jkw': 7, 'ketahanan': 7, 'ustadz': 7, 'cacat': 7, 'alkohol': 7, 'demonstrasi': 7, 'kepresidenan': 7, 'droplet': 7, 'mengering': 7, 'benaran': 7, 'gumpalan': 7, 'antre': 7, 'mendirikan': 7, 'menurun': 7, 'rajin': 7, 'dosanya': 7, 'kebersihan': 7, 'sakti': 7, 'sasa': 7, 'mendatangi': 7, 'mengelola': 7, 'cium': 7, 'dihancurkan': 7, 'wassalamualaikum': 7, 'syahid': 7, 'kpd': 7, 'made': 7, 'takbir': 7, 'pengendara': 7, 'perguruan': 7, 'jal': 7, 'netflix': 7, 'nakes': 7, 'west': 7, 'kk': 7, 'telekomunikasi': 7, 'loker': 7, 'memperoleh': 7, 'model': 7, 'kim': 7, 'mengingat': 7, 'anjuran': 7, 'medium': 7, 'jt': 7, 'bar': 7, 'bercampur': 7, 'menhan': 7, 'temanggung': 7, 'menunda': 7, 'dikonfirmasi': 7, 'siaran': 7, 'wamena': 7, 'pelosok': 7, 'tps': 7, 'terbiasa': 7, 'pencoblosan': 7, 'mengalokasikan': 7, 'nphd': 7, 'pembantuan': 7, 'lippo': 7, 'plongo': 7, 'imunisasi': 7, 'orasi': 7, 'curang': 7, 'cipto': 7, 'pemirsa': 7, 'odp': 7, 'disematkan': 7, 'tampilan': 7, 'stars': 7, 'rapp': 7, 'ganja': 7, 'kubu': 7, 'sumbatan': 7, 'wiranto': 7, 'kpu': 7, 'tetapkan': 6, 'pertandingan': 6, 'federation': 6, 'football': 6, 'bangkrut': 6, 'ceramah': 6, 'hormati': 6, 'usul': 6, 'harian': 6, 'tertarik': 6, 'balas': 6, 'menipis': 6, 'pergantian': 6, 'plus': 6, 'jet': 6, 'sedekah': 6, 'dicek': 6, 'parasit': 6, 'vax': 6, 'pendaratan': 6, 'hadapan': 6, 'belah': 6, 'sob': 6, 'membalas': 6, 'yesus': 6, 'bertransaksi': 6, 'susanto': 6, 'nazi': 6, 'mendengarkan': 6, 'akut': 6, 'rektor': 6, 'berobat': 6, 'reservasi': 6, 'pemesanan': 6, 'digit': 6, 'umrah': 6, 'blok': 6, 'joget': 6, 'kamala': 6, 'not': 6, 'fauci': 6, 'low': 6, 'hantam': 6, 'kilogram': 6, 'ritual': 6, 'sepasang': 6, 'memberkati': 6, 'mr': 6, 'surut': 6, 'persia': 6, 'kecantikan': 6, 'patah': 6, 'berdaya': 6, 'meletus': 6, 'from': 6, 'nafsu': 6, 'delta': 6, 'mumi': 6, 'mini': 6, 'injil': 6, 'broadcast': 6, 'perkembangan': 6, 'mengabaikan': 6, 'puji': 6, 'mengenaskan': 6, 'sita': 6, 'diekspor': 6, 'hidayah': 6, 'sekiranya': 6, 'menabrak': 6, 'memotong': 6, 'fc': 6, 'gampang': 6, 'pssi': 6, 'gerak': 6, 'diproduksi': 6, 'maki': 6, 'ingatkan': 6, 'terhindar': 6, 'bong': 6, 'dengarkan': 6, 'bkd': 6, 'hasyim': 6, 'dubai': 6, 'blitar': 6, 'tri': 6, 'hadapi': 6, 'kulkas': 6, 'mengantarkan': 6, 'ang': 6, 'ming': 6, 'purworejo': 6, 'struktur': 6, 'jinping': 6, 'memperingati': 6, 'hiv': 6, 'pertanggung': 6, 'ambon': 6, 'wirausaha': 6, 'pensiunan': 6, 'transparan': 6, 'asuhan': 6, 'got': 6, 'dayak': 6, 'lembut': 6, 'pembaruan': 6, 'tersimpan': 6, 'hafal': 6, 'ajun': 6, 'kg': 6, 'virtual': 6, 'wallahu': 6, 'politisi': 6, 'lanka': 6, 'bersenjata': 6, 'dieksekusi': 6, 'bidan': 6, 'prediksi': 6, 'uya': 6, 'kuya': 6, 'skala': 6, 'kuliah': 6, 'putuskan': 6, 'gantung': 6, 'syuting': 6, 'perintahkan': 6, 'intel': 6, 'pernikahan': 6, 'pengantin': 6, 'kuman': 6, 'antiseptik': 6, 'telkom': 6, 'bengkulu': 6, 'disiarkan': 6, 'turunkan': 6, 'merek': 6, 'disuntikkan': 6, 'kartini': 6, 'sawah': 6, 'direbus': 6, 'tokopedia': 6, 'perhatiannya': 6, 'sobat': 6, 'disembunyikan': 6, 'konon': 6, 'senyawa': 6, 'langka': 6, 'menganggap': 6, 'kategori': 6, 'sewaktu': 6, 'apresiasi': 6, 'bung': 6, 'hatta': 6, 'zam': 6, 'menekankan': 6, 'kerugian': 6, 'sun': 6, 'lombok': 6, 'bangladesh': 6, 'lee': 6, 'membiarkan': 6, 'kapsul': 6, 'sales': 6, 'gajah': 6, 'eksperimen': 6, 'mengendalikan': 6, 'astrazeneca': 6, 'mengembalikan': 6, 'wajibkan': 6, 'pusing': 6, 'pucat': 6, 'skenario': 6, 'carbon': 6, 'merawat': 6, 'jasmani': 6, 'rohani': 6, 'harapkan': 6, 'farmasi': 6, 'gurun': 6, 'enteng': 6, 'ajaib': 6, 'pemberitaan': 6, 'ridwan': 6, 'sandiwara': 6, 'pengusaha': 6, 'sirih': 6, 'sep': 6, 'biang': 6, 'pembela': 6, 'life': 6, 'ajang': 6, 'dicuci': 6, 'krim': 6, 'jus': 6, 'astronot': 6, 'bukannya': 6, 'makkah': 6, 'hatinya': 6, 'adu': 6, 'tempel': 6, 'surya': 6, 'praktik': 6, 'pokoknya': 6, 'rekor': 6, 'eric': 6, 'kamil': 6, 'berkesempatan': 6, 'bangkai': 6, 'fatal': 6, 'dipindahkan': 6, 'dipaksakan': 6, 'turunan': 6, 'berwajah': 6, 'spanduk': 6, 'perserikatan': 6, 'aziz': 6, 'disediakan': 6, 'firdaus': 6, 'sofyan': 6, 'mcdonald': 6, 'mempelajari': 6, 'menyerupai': 6, 'dinosaurus': 6, 'kelola': 6, 'faktor': 6, 'contact': 6, 'sedap': 6, 'wisatawan': 6, 'bersyukur': 6, 'pare': 6, 'kemih': 6, 'menghilang': 6, 'kekayaan': 6, 'california': 6, 'siber': 6, 'note': 6, 'melayang': 6, 'penjelasannya': 6, 'dicatat': 6, 'teruskan': 6, 'penangkapan': 6, 'menu': 6, 'dibatalkan': 6, 'lapor': 6, 'memberitahu': 6, 'mengibarkan': 6, 'cegah': 6, 'ucap': 6, 'ade': 6, 'membubarkan': 6, 'paman': 6, 'menembak': 6, 'mahkota': 6, 'officer': 6, 'jemaat': 6, 'wartawan': 6, 'mu': 6, 'indahnya': 6, 'ton': 6, 'stiker': 6, 'dipaksa': 6, 'jengkol': 6, 'bertugas': 6, 'wr': 6, 'wb': 6, 'tohir': 6, 'toh': 6, 'michael': 6, 'dilatih': 6, 'pemicu': 6, 'akang': 6, 'kesultanan': 6, 'kerusuhan': 6, 'kalinya': 6, 'jumlahnya': 6, 'rifai': 6, 'menceritakan': 6, 'diawasi': 6, 'bappebti': 6, 'titip': 6, 'cicilan': 6, 'puing': 6, 'penanggulangan': 6, 'pengawasan': 6, 'untung': 6, 'berteriak': 6, 'diatur': 6, 'kpk': 6, 'pengaruh': 6, 'berdosa': 6, 'bucket': 6, 'layaknya': 6, 'sars': 6, 'antisipasi': 6, 'lamongan': 6, 'kelihatan': 6, 'kasir': 6, 'pengecekan': 6, 'sekuritas': 6, 'mengawal': 6, 'berencana': 6, 'biayanya': 6, 'asi': 6, 'disalurkan': 6, 'praktis': 6, 'mengenal': 6, 'bunyi': 6, 'nggak': 6, 'berhijab': 6, 'kodenya': 6, 'informatika': 6, 'berhubung': 6, 'populasi': 6, 'perbuatan': 6, 'apel': 6, 'episode': 6, 'pahit': 6, 'mencium': 6, 'hoax': 6, 'blood': 6, 'menerimanya': 6, 'dihukum': 6, 'pembatalan': 6, 'prokes': 6, 'demonstran': 6, 'sukoharjo': 6, 'musa': 6, 'temuan': 6, 'tjahjo': 6, 'kumolo': 6, 'santai': 6, 'bersin': 6, 'memungkinkan': 6, 'berupaya': 6, 'dikelola': 6, 'rasakan': 6, 'helai': 6, 'pelindung': 6, 'menakut': 6, 'nakuti': 6, 'lamp': 6, 'dahlan': 6, 'alien': 6, 'detail': 6, 'waras': 6, 'dibiarkan': 6, 'sambutan': 6, 'tubuhmu': 6, 'myanmar': 6, 'hiu': 6, 'terbit': 6, 'kelurahan': 6, 'helikopter': 6, 'bio': 6, 'penculik': 6, 'penerus': 6, 'tayangan': 6, 'state': 6, 'lapar': 6, 'asin': 6, 'pertanyaannya': 6, 'otaknya': 6, 'dibeli': 6, 'beristirahat': 6, 'sumedang': 6, 'bundaran': 6, 'meraih': 6, 'buktinya': 6, 'pencernaan': 6, 'mulutnya': 6, 'ekor': 6, 'meriah': 6, 'barcelona': 6, 'binsar': 6, 'ulah': 6, 'prihatin': 6, 'tertinggal': 6, 'kawal': 6, 'studio': 6, 'terpilihnya': 6, 'lengkapi': 6, 'aktifkan': 6, 'diizinkan': 6, 'marga': 6, 'hospital': 6, 'fatmawati': 6, 'support': 6, 'suriah': 6, 'beraktivitas': 6, 'hendy': 6, 'kondisinya': 6, 'ditangan': 6, 'police': 6, 'karbon': 6, 'dioksida': 6, 'salinan': 6, 'singapore': 6, 'serukan': 6, 'perbaikan': 6, 'kelamin': 6, 'desain': 6, 'ditanggung': 6, 'berjemur': 6, 'indikasi': 6, 'tnbk': 6, 'spion': 6, 'lalin': 6, 'dri': 6, 'lab': 6, 'drh': 6, 'dipahami': 6, 'seluler': 6, 'kajian': 6, 'silam': 6, 'kabah': 6, 'profesional': 6, 'atraksi': 6, 'end': 6, 'mujahid': 6, 'penyelidikan': 6, 'patuhi': 6, 'tipuan': 6, 'padat': 6, 'diampuni': 6, 'sari': 6, 'bfl': 6, 'kapanpun': 6, 'indomie': 6, 'panggang': 6, 'infonya': 6, 'berisikan': 6, 'parlemen': 6, 'ekstrak': 6, 'menara': 6, 'mengungkap': 6, 'laku': 6, 'siklus': 6, 'tht': 6, 'kerongkong': 6, 'khan': 6, 'buruan': 6, 'taipan': 6, 'dipersiapkan': 6, 'melegalkan': 6, 'dibohongi': 6, 'merapat': 6, 'rayakan': 6, 'mengajak': 6, 'penyerangan': 6, 'pelakunya': 6, 'kumpul': 6, 'kontainer': 6, 'hacker': 6, 'yel': 6, 'beroperasi': 6, 'pencari': 6, 'agamanya': 6, 'sd': 6, 'subscribe': 6, 'message': 6, 'gym': 6, 'penangkal': 6, 'maheer': 6, 'lianhua': 6, 'qingwen': 6, 'minim': 6, 'thohir': 6, 'makar': 6, 'argumen': 6, 'spray': 6, 'angket': 6, 'berhubungan': 6, 'annas': 6, 'mmi': 6, 'sweeping': 6, 'bansos': 6, 'pembacaan': 6, 'materi': 6, 'diarahkan': 6, 'patut': 6, 'lendir': 6, 'erick': 6, 'wadah': 6, 'ibarat': 6, 'berkumpul': 6, 'utbk': 6, 'serupa': 6, 'penjajahan': 6, 'stm': 6, 'mengangkat': 6, 'menguntungkan': 6, 'opini': 6, 'sampoerna': 6, 'cie': 6, 'jilid': 6, 'besarkan': 6, 'transmigrasi': 6, 'skrg': 6, 'smk': 6, 'semenjak': 6, 'mangunkusumo': 6, 'nadiem': 6, 'takdir': 6, 'pendek': 6, 'penilangan': 6, 'jokowidodo': 6, 'dibanding': 6, 'nasionalis': 6, 'koalisi': 6, 'idr': 6, 'organisme': 6, 'amino': 6, 'autisme': 6, 'bili': 6, 'bypass': 6, 'arteri': 6, 'khelasi': 6, 'kpps': 6, 'memperingatkan': 5, 'boneka': 5, 'propinsi': 5, 'dicabut': 5, 'bibit': 5, 'himbau': 5, 'pangandaran': 5, 'penghuni': 5, 'emirat': 5, 'kebangkitan': 5, 'gagap': 5, 'emmanuel': 5, 'pc': 5, 'brigadir': 5, 'russia': 5, 'diusir': 5, 'bulanan': 5, 'tulen': 5, 'mengaji': 5, 'upacara': 5, 'menggemparkan': 5, 'citra': 5, 'ariel': 5, 'noah': 5, 'jilbab': 5, 'hijab': 5, 'sinta': 5, 'indramayu': 5, 'bulog': 5, 'situbondo': 5, 'cover': 5, 'terkaya': 5, 'army': 5, 'are': 5, 'bluetooth': 5, 'membantah': 5, 'miss': 5, 'you': 5, 'penjaga': 5, 'microchip': 5, 'pendukungnya': 5, 'jambu': 5, 'terjun': 5, 'unjuk': 5, 'kandang': 5, 'kebun': 5, 'samudra': 5, 'nyeri': 5, 'sindrom': 5, 'kerahkan': 5, 'sangatlah': 5, 'pengidap': 5, 'terlanjur': 5, 'auto': 5, 'kematiannya': 5, 'front': 5, 'otomotif': 5, 'fresh': 5, 'graduate': 5, 'sentimeter': 5, 'ajukan': 5, 'menerbitkan': 5, 'canggih': 5, 'memprediksi': 5, 'menghalangi': 5, 'selesaikan': 5, 'jago': 5, 'nusa': 5, 'kec': 5, 'tulisannya': 5, 'zalim': 5, 'marak': 5, 'tuduh': 5, 'tertolong': 5, 'dihadiri': 5, 'lukas': 5, 'tjoeng': 5, 'pembuat': 5, 'diamankan': 5, 'inul': 5, 'daratista': 5, 'karnavian': 5, 'list': 5, 'tertulis': 5, 'tyson': 5, 'tangisan': 5, 'difoto': 5, 'magelang': 5, 'salurkan': 5, 'pembantaian': 5, 'besi': 5, 'inisiatif': 5, 'keperluan': 5, 'semasa': 5, 'kepemilikan': 5, 'dicairkan': 5, 'maklum': 5, 'jawabkan': 5, 'uu': 5, 'musala': 5, 'elizabeth': 5, 'santo': 5, 'perlakuan': 5, 'jelaskan': 5, 'dampaknya': 5, 'andika': 5, 'perkasa': 5, 'love': 5, 'kfc': 5, 'tugu': 5, 'tersembunyi': 5, 'siksa': 5, 'kejadiannya': 5, 'seluruhnya': 5, 'mencurigakan': 5, 'bulat': 5, 'keperawatan': 5, 'fungsional': 5, 'penilaian': 5, 'disubsidikan': 5, 'disiksa': 5, 'sejenisnya': 5, 'gantikan': 5, 'he': 5, 'hubungannya': 5, 'edarkan': 5, 'mencintai': 5, 'jurus': 5, 'sule': 5, 'denmark': 5, 'iwan': 5, 'histeris': 5, 'perokok': 5, 'pppk': 5, 'melarikan': 5, 'merinding': 5, 'kebangsaan': 5, 'keluaran': 5, 'bosku': 5, 'bodi': 5, 'kreatif': 5, 'locked': 5, 'lindungan': 5, 'hancurkan': 5, 'statistik': 5, 'berisiko': 5, 'utamanya': 5, 'terkandung': 5, 'hidrogen': 5, 'kandidat': 5, 'berikutnya': 5, 'perdamaian': 5, 'tas': 5, 'mengenalnya': 5, 'dugaan': 5, 'timnas': 5, 'investigasi': 5, 'madrasah': 5, 'genetika': 5, 'saraf': 5, 'keduanya': 5, 'fungsinya': 5, 'lumpur': 5, 'esa': 5, 'akhlak': 5, 'alokasi': 5, 'bercerai': 5, 'alhasil': 5, 'kebanggaan': 5, 'lumpuh': 5, 'pamer': 5, 'pikirkan': 5, 'call': 5, 'angkut': 5, 'jamu': 5, 'kadal': 5, 'sebutan': 5, 'pemandangan': 5, 'mengonfirmasi': 5, 'sopir': 5, 'sar': 5, 'gaib': 5, 'sbg': 5, 'mendalam': 5, 'chechnya': 5, 'buddha': 5, 'amazing': 5, 'blora': 5, 'tahfidz': 5, 'mendatang': 5, 'diucapkan': 5, 'menyentuh': 5, 'menemui': 5, 'menyiarkan': 5, 'depopulasi': 5, 'gosip': 5, 'kambuh': 5, 'odol': 5, 'persediaan': 5, 'berterima': 5, 'tipe': 5, 'mobilnya': 5, 'eva': 5, 'mikroskop': 5, 'roboh': 5, 'adem': 5, 'menghitung': 5, 'sejauh': 5, 'sulaiman': 5, 'honda': 5, 'edan': 5, 'dihina': 5, 'sirkuit': 5, 'seberapa': 5, 'peluru': 5, 'eko': 5, 'meyakinkan': 5, 'laksanakan': 5, 'sadarkan': 5, 'bangkalan': 5, 'keesokan': 5, 'menangkan': 5, 'menculik': 5, 'libur': 5, 'hina': 5, 'pelajaran': 5, 'tonton': 5, 'qaradhawi': 5, 'berhadiah': 5, 'jejaring': 5, 'bakso': 5, 'mencuri': 5, 'rest': 5, 'peace': 5, 'tipis': 5, 'tukul': 5, 'tanggapan': 5, 'hitler': 5, 'kejatuhan': 5, 'bssn': 5, 'cikampek': 5, 'vaksinnya': 5, 'diajukan': 5, 'walikota': 5, 'abidin': 5, 'zoom': 5, 'promosi': 5, 'dibatasi': 5, 'pelarangan': 5, 'toll': 5, 'radikalisme': 5, 'subuh': 5, 'iyalah': 5, 'bersangkutan': 5, 'kendari': 5, 'syahadat': 5, 'pramugari': 5, 'operation': 5, 'sidoarjo': 5, 'hulu': 5, 'bangunan': 5, 'gugat': 5, 'seluas': 5, 'pemutih': 5, 'mempersiapkan': 5, 'pengecut': 5, 'pra': 5, 'berlari': 5, 'perkosa': 5, 'berkali': 5, 'tomat': 5, 'ms': 5, 'edisi': 5, 'teliti': 5, 'panduan': 5, 'keliru': 5, 'join': 5, 'irak': 5, 'lumayan': 5, 'rangkap': 5, 'melakukannya': 5, 'kelemahan': 5, 'penciuman': 5, 'belakangan': 5, 'ongkos': 5, 'internal': 5, 'siti': 5, 'kenang': 5, 'satya': 5, 'syahrial': 5, 'rujukan': 5, 'mandalika': 5, 'pala': 5, 'share': 5, 'asma': 5, 'mengajukan': 5, 'jelang': 5, 'pegadaian': 5, 'islami': 5, 'terjamin': 5, 'komandan': 5, 'toyota': 5, 'amazon': 5, 'bertahap': 5, 'pramuka': 5, 'durhaka': 5, 'nyaris': 5, 'datangnya': 5, 'membaik': 5, 'kedelai': 5, 'spesial': 5, 'tertua': 5, 'menargetkan': 5, 'militernya': 5, 'kalender': 5, 'rian': 5, 'bermutasi': 5, 'lion': 5, 'tk': 5, 'terorisme': 5, 'didukung': 5, 'gunawan': 5, 'tahukah': 5, 'kelautan': 5, 'umar': 5, 'prasetyo': 5, 'serahkan': 5, 'pembayarannya': 5, 'pelamar': 5, 'menyertakan': 5, 'happy': 5, 'beritanya': 5, 'toleransi': 5, 'tpu': 5, 'karet': 5, 'influenza': 5, 'menjadikannya': 5, 'unik': 5, 'namakan': 5, 'membatasi': 5, 'siliwangi': 5, 'anto': 5, 'himalaya': 5, 'bmkg': 5, 'zombie': 5, 'liur': 5, 'lapisan': 5, 'ungu': 5, 'ah': 5, 'vaccination': 5, 'solusinya': 5, 'geger': 5, 'terekam': 5, 'supir': 5, 'angel': 5, 'bengkel': 5, 'kerjakan': 5, 'triliunan': 5, 'letak': 5, 'bacaan': 5, 'mars': 5, 'yankes': 5, 'berlalu': 5, 'pipis': 5, 'kehabisan': 5, 'berai': 5, 'peredaran': 5, 'privasi': 5, 'semula': 5, 'engkau': 5, 'melepas': 5, 'gotong': 5, 'open': 5, 'bernapas': 5, 'teori': 5, 'jend': 5, 'kenya': 5, 'hotline': 5, 'dijawab': 5, 'reaksi': 5, 'mendorong': 5, 'koin': 5, 'menelepon': 5, 'kambing': 5, 'pamong': 5, 'praja': 5, 'terjual': 5, 'kalianlah': 5, 'rsu': 5, 'maskapai': 5, 'jemaah': 5, 'ialah': 5, 'diperlukan': 5, 'pencurian': 5, 'daily': 5, 'be': 5, 'berdomisili': 5, 'karno': 5, 'kendali': 5, 'berkhianat': 5, 'bocorkan': 5, 'tangannya': 5, 'kesadaran': 5, 'sahkan': 5, 'mnimut': 5, 'real': 5, 'ajakan': 5, 'palapa': 5, 'tentunya': 5, 'menjamin': 5, 'terbalik': 5, 'patuh': 5, 'akhirat': 5, 'kennedy': 5, 'menyalin': 5, 'tagihan': 5, 'aksa': 5, 'kurun': 5, 'mahasiswi': 5, 'riset': 5, 'tenggat': 5, 'kelangkaan': 5, 'keji': 5, 'menghantam': 5, 'budak': 5, 'tongkat': 5, 'huawei': 5, 'menggambarkan': 5, 'menginap': 5, 'raga': 5, 'mengira': 5, 'print': 5, 'ditempatkan': 5, 'transit': 5, 'utusan': 5, 'kasar': 5, 'handuk': 5, 'bernafas': 5, 'diet': 5, 'larut': 5, 'good': 5, 'pertemanan': 5, 'msuk': 5, 'awasi': 5, 'densus': 5, 'bubar': 5, 'meresmikan': 5, 'penerapan': 5, 'ahy': 5, 'cikeas': 5, 'alipay': 5, 'karakter': 5, 'gadget': 5, 'serpihan': 5, 'alkali': 5, 'urang': 5, 'tebet': 5, 'poltabes': 5, 'bungkam': 5, 'kebodohan': 5, 'suku': 5, 'sharing': 5, 'labu': 5, 'dakwah': 5, 'gizi': 5, 'diblokir': 5, 'dekan': 5, 'perantauan': 5, 'fax': 5, 'berperan': 5, 'nhcl': 5, 'kelebihan': 5, 'walafiat': 5, 'mangkrak': 5, 'finansial': 5, 'gebyar': 5, 'dur': 5, 'bukit': 5, 'sunter': 5, 'beginilah': 5, 'ngabalin': 5, 'pacific': 5, 'berkelanjutan': 5, 'event': 5, 'job': 5, 'sop': 5, 'penutupan': 5, 'tenggelamkan': 5, 'rahmat': 5, 'kapolresta': 5, 'rocky': 5, 'gerung': 5, 'corbin': 5, 'antibiotik': 5, 'kemayoran': 5, 'awak': 5, 'pendonor': 5, 'eka': 5, 'ketimbang': 5, 'me': 5, 'vena': 5, 'berbondong': 5, 'bondong': 5, 'kepanikan': 5, 'posko': 5, 'instruksikan': 5, 'memutus': 5, 'zinc': 5, 'gading': 5, 'emergency': 5, 'menunaikan': 5, 'dialami': 5, 'terapkan': 5, 'bbc': 5, 'duga': 5, 'disappointed': 5, 'diperkirakan': 5, 'wira': 5, 'ksin': 5, 'hamas': 5, 'kelelawar': 5, 'rindu': 5, 'pemudik': 5, 'purnama': 5, 'madiun': 5, 'majalengka': 5, 'evakuasi': 5, 'meretas': 5, 'fluoride': 5, 'mengecek': 5, 'tertera': 5, 'pemberontakan': 5, 'mpr': 5, 'siloam': 5, 'le': 5, 'ketidaknyamanannya': 5, 'fix': 5, 'tingkatkan': 5, 'protestan': 5, 'kapten': 5, 'medika': 5, 'memfoto': 5, 'pengasuh': 5, 'dikhawatirkan': 5, 'bbrp': 5, 'motornya': 5, 'menyesal': 5, 'asyik': 5, 'pariwisata': 5, 'pengantar': 5, 'basis': 5, 'nafkah': 5, 'adidas': 5, 'urine': 5, 'jumaat': 5, 'karna': 5, 'sebaik': 5, 'berkeringat': 5, 'hipertensi': 5, 'kedok': 5, 'syamsuddin': 5, 'lukisan': 5, 'budiman': 5, 'misionaris': 5, 'pemutusan': 5, 'terkuak': 5, 'jababeka': 5, 'sobek': 5, 'kurus': 5, 'berdasar': 5, 'bersihkan': 5, 'car': 5, 'mamuju': 5, 'kewaspadaan': 5, 'diangkut': 5, 'phu': 5, 'pain': 5, 'narapidana': 5, 'lauk': 5, 'beritakan': 5, 'keberadaan': 5, 'keenam': 5, 'aspek': 5, 'kesembuhan': 5, 'berdamai': 5, 'terangan': 5, 'penyidikan': 5, 'right': 5, 'airport': 5, 'manado': 5, 'menampak': 5, 'mt': 5, 'david': 5, 'dagangan': 5, 'twit': 5, 'pangkalan': 5, 'membebaskan': 5, 'karachi': 5, 'charge': 5, 'matikan': 5, 'spt': 5, 'kurma': 5, 'coblos': 5, 'meng': 5, 'terealisasi': 5, 'randi': 5, 'polresta': 5, 'dilamar': 5, 'provices': 5, 'perancis': 5, 'rusuh': 5, 'pogba': 5, 'karcis': 5, 'lorong': 5, 'way': 5, 'epidemi': 5, 'rasul': 5, 'galang': 5, 'bersepeda': 5, 'telak': 5, 'pemprov': 5, 'berlogo': 5, 'lazada': 5, 'jaber': 5, 'korlap': 5, 'dibesar': 5, 'menyematkan': 5, 'perutnya': 5, 'mengukur': 5, 'dahi': 5, 'ditiadakan': 5, 'bangganya': 5, 'inkubasi': 5, 'malaikat': 5, 'muara': 5, 'layang': 5, 'beirut': 5, 'makarim': 5, 'lini': 5, 'tobat': 5, 'barack': 5, 'ingkar': 5, 'jajan': 5, 'retno': 5, 'kakeknya': 5, 'masuknya': 5, 'madame': 5, 'otot': 5, 'fundamental': 5, 'psi': 5, 'deddy': 5, 'wibowo': 5, 'kontrakan': 5, 'sekat': 5, 'margonda': 5, 'gdc': 5, 'butir': 5, 'lukman': 5, 'golongn': 5, 'struk': 5, 'thimerosal': 5, 'small': 5, 'abdi': 5, 'pengunduran': 5, 'yasonna': 5, 'melantik': 5, 'policing': 5, 'porsi': 5, 'lirboyo': 5, 'difteri': 5, 'kehamilan': 4, 'nip': 4, 'tap': 4, 'terhitung': 4, 'pendatang': 4, 'sampel': 4, 'soedirman': 4, 'ai': 4, 'norwegia': 4, 'berganti': 4, 'mengkritik': 4, 'tembus': 4, 'steve': 4, 'pemasyarakatan': 4, 'berkutik': 4, 'nasrani': 4, 'ditakuti': 4, 'kebaktian': 4, 'kompor': 4, 'lepaskan': 4, 'sosialisasi': 4, 'penyerahan': 4, 'du': 4, 'menampilkan': 4, 'bts': 4, 'want': 4, 'keberatan': 4, 'mengakhiri': 4, 'memancing': 4, 'dilarikan': 4, 'menaiki': 4, 'frekuensi': 4, 'gempar': 4, 'mengetahuinya': 4, 'perhimpunan': 4, 'kejora': 4, 'rizky': 4, 'billar': 4, 'merekam': 4, 'abad': 4, 'kejam': 4, 'fyp': 4, 'innalillah': 4, 'kafe': 4, 'palangkaraya': 4, 'soimah': 4, 'durian': 4, 'terdeteksi': 4, 'sendi': 4, 'mongolia': 4, 'plaza': 4, 'manokwari': 4, 'berjilbab': 4, 'leci': 4, 'rambutan': 4, 'lengkeng': 4, 'puding': 4, 'dikenang': 4, 'pengkhianatan': 4, 'amanat': 4, 'dinsos': 4, 'memperkirakan': 4, 'jurang': 4, 'play': 4, 'station': 4, 'berkaca': 4, 'dilampirkan': 4, 'lembur': 4, 'penjilat': 4, 'menari': 4, 'perekrutan': 4, 'buta': 4, 'freeport': 4, 'kelulusan': 4, 'mencantumkan': 4, 'konsulat': 4, 'jabodetabek': 4, 'kalung': 4, 'penggunaannya': 4, 'kian': 4, 'kadernya': 4, 'jabatannya': 4, 'will': 4, 'bersembunyi': 4, 'masyumi': 4, 'ateis': 4, 'gubernurnya': 4, 'safari': 4, 'buatkan': 4, 'ogah': 4, 'mencalonkan': 4, 'pertalite': 4, 'boros': 4, 'genangan': 4, 'konstruksi': 4, 'li': 4, 'jack': 4, 'mendoakan': 4, 'diundi': 4, 'wujudkan': 4, 'muh': 4, 'spike': 4, 'lurus': 4, 'memprovokasi': 4, 'ganyang': 4, 'lenyap': 4, 'nikita': 4, 'mirzani': 4, 'pati': 4, 'dibenarkan': 4, 'merangkap': 4, 'kotim': 4, 'penjaminan': 4, 'penjamin': 4, 'pengesahan': 4, 'ditunjukkan': 4, 'tersalurkan': 4, 'gay': 4, 'menentang': 4, 'berbisa': 4, 'dikupas': 4, 'yunus': 4, 'update': 4, 'aspirasi': 4, 'mimpi': 4, 'rita': 4, 'dihantam': 4, 'informasinya': 4, 'penarikan': 4, 'teguran': 4, 'robbal': 4, 'menyumbangkan': 4, 'jfp': 4, 'perencana': 4, 'pelatihan': 4, 'sul': 4, 'acak': 4, 'inspeksi': 4, 'misteri': 4, 'crhistiano': 4, 'tolol': 4, 'janin': 4, 'aborsi': 4, 'balita': 4, 'pinggir': 4, 'memeriahkan': 4, 'duren': 4, 'bertobat': 4, 'iritasi': 4, 'pembengkakan': 4, 'lekas': 4, 'campurkan': 4, 'ppk': 4, 'memproses': 4, 'dusun': 4, 'serdang': 4, 'djoko': 4, 'migran': 4, 'lagunya': 4, 'modifikasi': 4, 'graphene': 4, 'saleh': 4, 'sekuler': 4, 'drastis': 4, 'gemuk': 4, 'nomer': 4, 'handphonenya': 4, 'adenovirus': 4, 'liver': 4, 'ditonton': 4, 'gagah': 4, 'menampakkan': 4, 'lebar': 4, 'material': 4, 'tusuk': 4, 'fotonya': 4, 'sabotase': 4, 'augmented': 4, 'reality': 4, 'kepalanya': 4, 'kehebatan': 4, 'indrawati': 4, 'habiskan': 4, 'sayur': 4, 'taruh': 4, 'terselamatkan': 4, 'deskripsi': 4, 'pltu': 4, 'ufo': 4, 'terdengar': 4, 'asalnya': 4, 'dibesarkan': 4, 'berpengalaman': 4, 'bengkak': 4, 'jamin': 4, 'ane': 4, 'seru': 4, 'gol': 4, 'dinilai': 4, 'kepemimpinan': 4, 'children': 4, 'gen': 4, 'permanen': 4, 'pegal': 4, 'menunjuk': 4, 'biro': 4, 'ampunilah': 4, 'bp': 4, 'moral': 4, 'berlebih': 4, 'inovasi': 4, 'ghana': 4, 'syahwat': 4, 'syaraf': 4, 'kilang': 4, 'berkat': 4, 'pasiennya': 4, 'thn': 4, 'pemiliknya': 4, 'rahman': 4, 'sido': 4, 'greta': 4, 'pelecehan': 4, 'gerhana': 4, 'ambulans': 4, 'ambisi': 4, 'kwitansi': 4, 'diundang': 4, 'tpnpb': 4, 'partisipasinya': 4, 'mah': 4, 'krakatau': 4, 'mendeklarasikan': 4, 'memantau': 4, 'minang': 4, 'diikuti': 4, 'mainan': 4, 'hot': 4, 'saus': 4, 'hidangan': 4, 'akhmad': 4, 'ikhlaskan': 4, 'vatikan': 4, 'amblas': 4, 'stadion': 4, 'tribun': 4, 'kulitnya': 4, 'paud': 4, 'diberlakukan': 4, 'teks': 4, 'tunda': 4, 'kehadirannya': 4, 'magetan': 4, 'dipulangkan': 4, 'sumbangan': 4, 'trending': 4, 'praktikkan': 4, 'kumur': 4, 'bisakah': 4, 'wajah': 4, 'tersiram': 4, 'dikulit': 4, 'berkenan': 4, 'pizza': 4, 'singkil': 4, 'melengkapi': 4, 'andai': 4, 'terkendali': 4, 'belasan': 4, 'turis': 4, 'pijat': 4, 'singa': 4, 'ustazah': 4, 'mama': 4, 'kopassus': 4, 'sampingnya': 4, 'terjatuh': 4, 'cia': 4, 'ciptaan': 4, 'antrean': 4, 'menikmati': 4, 'sedemikian': 4, 'terbendung': 4, 'pete': 4, 'pulsanya': 4, 'tower': 4, 'anehnya': 4, 'seisi': 4, 'sekalipun': 4, 'ayahnya': 4, 'membedakan': 4, 'pangdam': 4, 'udayana': 4, 'terik': 4, 'celcius': 4, 'jarwoko': 4, 'berkomunikasi': 4, 'klip': 4, 'karanganyar': 4, 'yes': 4, 'prioritas': 4, 'wisnu': 4, 'tertabrak': 4, 'perahu': 4, 'gold': 4, 'runtuh': 4, 'cilok': 4, 'diturunkan': 4, 'ari': 4, 'pendarahan': 4, 'malaria': 4, 'arwana': 4, 'moskow': 4, 'berdatangan': 4, 'didemo': 4, 'menterinya': 4, 'huh': 4, 'kotoran': 4, 'berpidato': 4, 'permasalahan': 4, 'tergeletak': 4, 'pojok': 4, 'terpantau': 4, 'dimonitor': 4, 'cargo': 4, 'kantin': 4, 'penghapusan': 4, 'montreal': 4, 'alasannya': 4, 'zainal': 4, 'kriteria': 4, 'kemensos': 4, 'meeting': 4, 'ujaran': 4, 'london': 4, 'pemaksaan': 4, 'hilangkan': 4, 'diusulkan': 4, 'know': 4, 'terbangun': 4, 'merak': 4, 'membenci': 4, 'sahur': 4, 'dikeroyok': 4, 'perusak': 4, 'topi': 4, 'bayangan': 4, 'musnah': 4, 'masinis': 4, 'pengatur': 4, 'negative': 4, 'dihilangkan': 4, 'controller': 4, 'pemadam': 4, 'reskrim': 4, 'supermarket': 4, 'dicurigai': 4, 'temuannya': 4, 'diyakini': 4, 'dicari': 4, 'paspor': 4, 'melapor': 4, 'ambruk': 4, 'sindikat': 4, 'liputan': 4, 'dijarah': 4, 'seledri': 4, 'kemeja': 4, 'mengalahkan': 4, 'dikalahkan': 4, 'roh': 4, 'cristiano': 4, 'boeing': 4, 'pameran': 4, 'membahas': 4, 'lipat': 4, 'semesta': 4, 'dihasilkan': 4, 'penggalangan': 4, 'more': 4, 'memaafkan': 4, 'ajal': 4, 'nurul': 4, 'eri': 4, 'cahyadi': 4, 'ternak': 4, 'berinvestasi': 4, 'sanak': 4, 'merenggut': 4, 'deteksi': 4, 'hong': 4, 'terkadang': 4, 'seringkali': 4, 'meroket': 4, 'diluncurkan': 4, 'marquez': 4, 'setiawan': 4, 'kepangkatan': 4, 'berkantor': 4, 'berdua': 4, 'welcome': 4, 'berwenang': 4, 'mengawasi': 4, 'tadinya': 4, 'peternakan': 4, 'linu': 4, 'subroto': 4, 'cure': 4, 'penutup': 4, 'reporter': 4, 'logis': 4, 'sarung': 4, 'bermacam': 4, 'kunjung': 4, 'penggemar': 4, 'asri': 4, 'leong': 4, 'hup': 4, 'rina': 4, 'official': 4, 'pantauan': 4, 'ukraine': 4, 'pembahasan': 4, 'penambahan': 4, 'say': 4, 'original': 4, 'disini': 4, 'rampok': 4, 'terbaring': 4, 'jawabannya': 4, 'kav': 4, 'fit': 4, 'penunjang': 4, 'amatir': 4, 'panen': 4, 'simpedes': 4, 'britama': 4, 'dibentuk': 4, 'seberang': 4, 'sopan': 4, 'tanzania': 4, 'brawijaya': 4, 'meluluskan': 4, 'gunanya': 4, 'messenger': 4, 'allahuma': 4, 'day': 4, 'purba': 4, 'kekhawatiran': 4, 'diserahkan': 4, 'brebes': 4, 'jebol': 4, 'formalitas': 4, 'buleleng': 4, 'yah': 4, 'terpanjang': 4, 'proposal': 4, 'keasaman': 4, 'hindarilah': 4, 'jackson': 4, 'kebesaran': 4, 'pahami': 4, 'teknisi': 4, 'penjuru': 4, 'makmur': 4, 'wawan': 4, 'diskominfo': 4, 'sepele': 4, 'mendatangkan': 4, 'konsultan': 4, 'kilometer': 4, 'secukupnya': 4, 'mengeyel': 4, 'paper': 4, 'through': 4, 'asa': 4, 'netanyahu': 4, 'amunisi': 4, 'ditlantas': 4, 'kisaran': 4, 'kakinya': 4, 'passport': 4, 'sabu': 4, 'sindir': 4, 'pake': 4, 'bondowoso': 4, 'juwita': 4, 'atasi': 4, 'memicu': 4, 'penambah': 4, 'mulyadi': 4, 'tercerai': 4, 'penjualan': 4, 'diinginkan': 4, 'berkala': 4, 'dwi': 4, 'nugraha': 4, 'pesisir': 4, 'pengendalian': 4, 'kewajiban': 4, 'dbd': 4, 'trombositnya': 4, 'penyedia': 4, 'headline': 4, 'guncang': 4, 'konspirasi': 4, 'tumpah': 4, 'kecerdasan': 4, 'smith': 4, 'junior': 4, 'qajar': 4, 'dipasar': 4, 'market': 4, 'amonium': 4, 'lemak': 4, 'visual': 4, 'konsumen': 4, 'sedalam': 4, 'salib': 4, 'nuklir': 4, 'bercadar': 4, 'satpol': 4, 'frustrasi': 4, 'royong': 4, 'mengajarkan': 4, 'membimbing': 4, 'qoumas': 4, 'menindak': 4, 'kristiani': 4, 'kru': 4, 'agnostik': 4, 'pharma': 4, 'slogan': 4, 'god': 4, 'jauhkan': 4, 'rabbal': 4, 'mampang': 4, 'mendekat': 4, 'bun': 4, 'industrial': 4, 'sensor': 4, 'penyimpanan': 4, 'spot': 4, 'merekomendasikan': 4, 'muak': 4, 'peradangan': 4, 'borong': 4, 'pagar': 4, 'lahar': 4, 'jambi': 4, 'musi': 4, 'reuni': 4, 'mo': 4, 'rilis': 4, 'memaksakan': 4, 'didirikan': 4, 'menganggur': 4, 'gwk': 4, 'repost': 4, 'austria': 4, 'memerintahkan': 4, 'pd': 4, 'kekuasaannya': 4, 'menyempatkan': 4, 'makanlah': 4, 'pakde': 4, 'adlh': 4, 'penasaran': 4, 'jenius': 4, 'sale': 4, 'terbenam': 4, 'smartphone': 4, 'susunan': 4, 'mulyorejo': 4, 'kemajuan': 4, 'pool': 4, 'dijelaskan': 4, 'mahmud': 4, 'penggugat': 4, 'tepatnya': 4, 'menyeluruh': 4, 'kelainan': 4, 'disambut': 4, 'aqua': 4, 'tunduk': 4, 'koeman': 4, 'klub': 4, 'keempat': 4, 'terkesima': 4, 'panjaitan': 4, 'kardus': 4, 'pemeliharaan': 4, 'pon': 4, 'direncanakan': 4, 'senapan': 4, 'kurangi': 4, 'dilepas': 4, 'terletak': 4, 'landasan': 4, 'akomodasi': 4, 'penggantian': 4, 'patra': 4, 'arun': 4, 'keberlanjutan': 4, 'section': 4, 'wabup': 4, 'matinya': 4, 'berulang': 4, 'tiketnya': 4, 'mutlak': 4, 'genosida': 4, 'membuatnya': 4, 'ditekan': 4, 'entertainment': 4, 'bipang': 4, 'buncit': 4, 'penggumpalan': 4, 'sengsara': 4, 'kafan': 4, 'cuplikan': 4, 'entahlah': 4, 'tatanan': 4, 'zein': 4, 'diselamatkan': 4, 'fardhu': 4, 'menghormati': 4, 'wajar': 4, 'palangka': 4, 'natuna': 4, 'wewenang': 4, 'tegakkan': 4, 'asrama': 4, 'tiram': 4, 'menandakan': 4, 'apinya': 4, 'xl': 4, 'indosat': 4, 'menggigil': 4, 'bentar': 4, 'nurdiati': 4, 'fmipa': 4, 'stoknya': 4, 'contohnya': 4, 'lengser': 4, 'pemahaman': 4, 'tega': 4, 'skandal': 4, 'kakaknya': 4, 'lautan': 4, 'graha': 4, 'smp': 4, 'john': 4, 'padanya': 4, 'kedutaan': 4, 'rsal': 4, 'nuriyah': 4, 'sintang': 4, 'piramida': 4, 'fisika': 4, 'menghargai': 4, 'sejenak': 4, 'perhitungan': 4, 'berkedok': 4, 'sekarat': 4, 'begitupun': 4, 'kasusnya': 4, 'halalnya': 4, 'input': 4, 'pandemik': 4, 'dukun': 4, 'kolom': 4, 'syafii': 4, 'napi': 4, 'intensif': 4, 'paguyuban': 4, 'ban': 4, 'tayang': 4, 'aqsa': 4, 'kapital': 4, 'keran': 4, 'pengurusan': 4, 'burma': 4, 'mengkhawatirkan': 4, 'dendritic': 4, 'mutasi': 4, 'purna': 4, 'terkecuali': 4, 'menggerogoti': 4, 'mortem': 4, 'cermat': 4, 'memulangkan': 4, 'positip': 4, 'kompak': 4, 'juanda': 4, 'semata': 4, 'akting': 4, 'testimoni': 4, 'kurangnya': 4, 'allahumagfirlahu': 4, 'sendirinya': 4, 'diperbaiki': 4, 'memecahkan': 4, 'menyengsarakan': 4, 'bea': 4, 'ventilator': 4, 'menteng': 4, 'survivor': 4, 'standby': 4, 'database': 4, 'masako': 4, 'bumbunya': 4, 'penghasilan': 4, 'gymnastiar': 4, 'putar': 4, 'wudhu': 4, 'ex': 4, 'diklaim': 4, 'kado': 4, 'coca': 4, 'cola': 4, 'radio': 4, 'hidayat': 4, 'relieved': 4, 'khofifah': 4, 'indar': 4, 'mudal': 4, 'bantulah': 4, 'zuckerberg': 4, 'penyiksaan': 4, 'cheng': 4, 'pengaturan': 4, 'insan': 4, 'atur': 4, 'jurnalis': 4, 'mula': 4, 'bedah': 4, 'terbebas': 4, 'orde': 4, 'sipit': 4, 'imigrasi': 4, 'pistol': 4, 'karangan': 4, 'menyusup': 4, 'hendra': 4, 'banser': 4, 'times': 4, 'was': 4, 'menilang': 4, 'mencatat': 4, 'form': 4, 'pengikut': 4, 'catat': 4, 'ben': 4, 'kri': 4, 'menyerukan': 4, 'umi': 4, 'ago': 4, 'ara': 4, 'ki': 4, 'khianati': 4, 'kendala': 4, 'mengumpet': 4, 'etilene': 4, 'diperoleh': 4, 'ethylene': 4, 'proklamasi': 4, 'peksin': 4, 'tanggap': 4, 'busana': 4, 'garut': 4, 'pandeglang': 4, 'batak': 4, 'gelora': 4, 'aroma': 4, 'terciduk': 4, 'pengacara': 4, 'kelelahan': 4, 'diumumkan': 4, 'instan': 4, 'pengalihan': 4, 'benderang': 4, 'islamiyah': 4, 'there': 4, 'jgn': 4, 'kumulatif': 4, 'ajinomoto': 4, 'penyedap': 4, 'wani': 4, 'menghalalkan': 4, 'jong': 4, 'hirup': 4, 'kontroversi': 4, 'yng': 4, 'filipina': 4, 'pekalongan': 4, 'mulus': 4, 'hanyut': 4, 'penguasaan': 4, 'memusuhi': 4, 'vtube': 4, 'arek': 4, 'mengabdi': 4, 'iskan': 4, 'kecanduan': 4, 'kristal': 4, 'peninggalan': 4, 'dewa': 4, 'kiranya': 4, 'provokasi': 4, 'kecurigaan': 4, 'berontak': 4, 'sumba': 4, 'mengobrol': 4, 'noor': 4, 'gerombolan': 4, 'signifikan': 4, 'menghambat': 4, 'watch': 4, 'bergejala': 4, 'isoman': 4, 'pengawal': 4, 'surakarta': 4, 'bpum': 4, 'mayor': 4, 'bolgana': 4, 'mengamankan': 4, 'his': 4, 'torang': 4, 'paragon': 4, 'santun': 4, 'makna': 4, 'akurat': 4, 'ib': 4, 'hydro': 4, 'hydrooxy': 4, 'mrk': 4, 'mending': 4, 'simpatisan': 4, 'sudan': 4, 'cm': 4, 'sambal': 4, 'leluhur': 4, 'limit': 4, 'kesimpulan': 4, 'joy': 4, 'baasyir': 4, 'fui': 4, 'kekerasan': 4, 'terganggu': 4, 'syamsuar': 4, 'ciamis': 4, 'gugus': 4, 'pudjiastuti': 4, 'menuduh': 4, 'din': 4, 'rasyid': 4, 'bermotor': 4, 'qount': 4, 'milikmu': 4, 'menepuk': 4, 'cukai': 4, 'manual': 4, 'dipotong': 4, 'maradona': 4, 'kuantitas': 4, 'memanfaatkan': 4, 'led': 4, 'batalkan': 4, 'cleaning': 4, 'perbelanjaan': 4, 'kulon': 4, 'selular': 4, 'perampokan': 4, 'kaka': 4, 'kapas': 4, 'ultimatum': 4, 'terulang': 4, 'ditib': 4, 'drake': 4, 'sabyan': 4, 'tuntut': 4, 'pol': 4, 'saksikan': 4, 'ltmpt': 4, 'sambung': 4, 'berkaitan': 4, 'diganggu': 4, 'cisadane': 4, 'melompat': 4, 'pancingan': 4, 'penyuap': 4, 'menjebak': 4, 'kelengahan': 4, 'terpancing': 4, 'kasihi': 4, 'dipindah': 4, 'lempar': 4, 'tertipu': 4, 'perusuh': 4, 'mendekati': 4, 'medicine': 4, 'pedemo': 4, 'lucky': 4, 'terbaca': 4, 'sunah': 4, 'klau': 4, 'maria': 4, 'meniadakan': 4, 'scuba': 4, 'lpj': 4, 'jagung': 4, 'onta': 4, 'itupun': 4, 'batal': 4, 'menuturkan': 4, 'seng': 4, 'berbunyi': 4, 'ketiak': 4, 'penusukan': 4, 'sat': 4, 'termometer': 4, 'pergelangan': 4, 'kedungkandang': 4, 'klaster': 4, 'sembuhkan': 4, 'camp': 4, 'unggahannya': 4, 'dizalimi': 4, 'mencoblos': 4, 'mahendra': 4, 'menyembelih': 4, 'pk': 4, 'birthday': 4, 'ipar': 4, 'andhika': 4, 'alangkah': 4, 'pedesaan': 4, 'tka': 4, 'marsudi': 4, 'rsui': 4, 'dika': 4, 'pelintiran': 4, 'vivo': 4, 'kubis': 4, 'tussauds': 4, 'jumping': 4, 'legislasi': 4, 'mempertahankan': 4, 'corbuzier': 4, 'semaun': 4, 'permukiman': 4, 'zubair': 4, 'banyuwangi': 4, 'bule': 4, 'terserang': 4, 'diposting': 4, 'aamir': 4, 'urutan': 4, 'berebut': 4, 'ny': 4, 'memperkaya': 4, 'jafar': 4, 'hamid': 4, 'pintas': 4, 'chloroquine': 4, 'beranak': 4, 'nomost': 4, 'alun': 4, 'nibiru': 4, 'democratic': 4, 'joey': 4, 'sejagad': 4, 'nyai': 4, 'kardiovaskular': 4, 'mesti': 4, 'gundik': 4, 'rsupn': 4, 'lease': 4, 'politikus': 4, 'defisit': 4, 'pengelolaan': 4, 'bpn': 4, 'teratas': 4, 'hendropriyono': 4, 'hnp': 4, 'count': 4, 'nopol': 4, 'perkumpulan': 3, 'sumbang': 3, 'pantang': 3, 'dinaikkan': 3, 'omong': 3, 'kutuk': 3, 'batik': 3, 'bkn': 3, 'diana': 3, 'duitnya': 3, 'dikembangkan': 3, 'tunjukan': 3, 'terbengkalai': 3, 'baterai': 3, 'berantakan': 3, 'bubuk': 3, 'cabai': 3, 'infak': 3, 'setor': 3, 'memangkas': 3, 'nun': 3, 'kw': 3, 'gw': 3, 'sontoloyo': 3, 'paketnya': 3, 'argentina': 3, 'fantastis': 3, 'mahar': 3, 'bella': 3, 'menyumbat': 3, 'wonogiri': 3, 'pemerintahnya': 3, 'disuntikan': 3, 'berkemampuan': 3, 'rusaknya': 3, 'terseret': 3, 'bharada': 3, 'richard': 3, 'junjungan': 3, 'bca': 3, 'unlimited': 3, 'skema': 3, 'acungkan': 3, 'menarget': 3, 'rentang': 3, 'tribunnews': 3, 'tour': 3, 'disiapkan': 3, 'falah': 3, 'prayoga': 3, 'iriana': 3, 'usd': 3, 'they': 3, 'tidakkah': 3, 'baku': 3, 'ditunggu': 3, 'berukuran': 3, 'mumpung': 3, 'hujanan': 3, 'gigitan': 3, 'pohonnya': 3, 'mengunyah': 3, 'perairan': 3, 'jenguk': 3, 'liar': 3, 'esmat': 3, 'menghujat': 3, 'pekan': 3, 'aremania': 3, 'pengaman': 3, 'xbb': 3, 'punggung': 3, 'ekstrem': 3, 'relatif': 3, 'komplotan': 3, 'uganda': 3, 'menjijikkan': 3, 'amankan': 3, 'justin': 3, 'bieber': 3, 'hunt': 3, 'emosi': 3, 'dibalas': 3, 'pedih': 3, 'wasiat': 3, 'meningkatnya': 3, 'selebriti': 3, 'kebumen': 3, 'asteroid': 3, 'face': 3, 'rapi': 3, 'religi': 3, 'bertato': 3, 'peminat': 3, 'arema': 3, 'benarkan': 3, 'terendam': 3, 'florida': 3, 'kemaluan': 3, 'mudahkan': 3, 'segara': 3, 'kristus': 3, 'memerangi': 3, 'menimpa': 3, 'konfirmasikan': 3, 'bacok': 3, 'maraknya': 3, 'merekalah': 3, 'menganut': 3, 'bonusan': 3, 'cicil': 3, 'wachid': 3, 'dedek': 3, 'direkomendasikan': 3, 'menduga': 3, 'konsekuensi': 3, 'sombong': 3, 'kesaksiannya': 3, 'cape': 3, 'come': 3, 'enembe': 3, 'thahir': 3, 'persib': 3, 'huda': 3, 'menunjang': 3, 'kebanjiran': 3, 'parkir': 3, 'keributan': 3, 'mengelak': 3, 'ayahku': 3, 'naples': 3, 'pertengahan': 3, 'bangsawan': 3, 'unair': 3, 'tabiat': 3, 'berseberangan': 3, 'kurniawan': 3, 'wahab': 3, 'identitasnya': 3, 'sekda': 3, 'kesaksian': 3, 'najwa': 3, 'dijeruji': 3, 'pemantauan': 3, 'lps': 3, 'yoga': 3, 'visi': 3, 'akuntabel': 3, 'penyalurannya': 3, 'karim': 3, 'charles': 3, 'bone': 3, 'cap': 3, 'terharu': 3, 'optimis': 3, 'salahkan': 3, 'memuluskan': 3, 'menggelar': 3, 'netizen': 3, 'logam': 3, 'ge': 3, 'henti': 3, 'omongan': 3, 'pasukannya': 3, 'penindasan': 3, 'berlibur': 3, 'misil': 3, 'terpasang': 3, 'dimasuki': 3, 'obatan': 3, 'ojek': 3, 'hadiahnya': 3, 'kokain': 3, 'tuang': 3, 'juliari': 3, 'masiku': 3, 'perilaku': 3, 'dihajar': 3, 'kebidanan': 3, 'menyelenggarakan': 3, 'favorit': 3, 'nana': 3, 'sembunyi': 3, 'pkh': 3, 'dihipnotis': 3, 'sanjaya': 3, 'tuban': 3, 'mengakses': 3, 'menanjak': 3, 'lantaran': 3, 'suramadu': 3, 'mengetik': 3, 'narkotika': 3, 'bodohnya': 3, 'diberitakan': 3, 'sukarelawan': 3, 'yong': 3, 'men': 3, 'homo': 3, 'after': 3, 'resepsi': 3, 'tagih': 3, 'becus': 3, 'sensasi': 3, 'diletakkan': 3, 'parutan': 3, 'dinginkan': 3, 'disaring': 3, 'sertakan': 3, 'palang': 3, 'tebak': 3, 'legal': 3, 'penawaran': 3, 'tebar': 3, 'gempur': 3, 'buntut': 3, 'drop': 3, 'ketergantungan': 3, 'alamiah': 3, 'awet': 3, 'edukasi': 3, 'jurnal': 3, 'kingdom': 3, 'berkebaya': 3, 'wonosobo': 3, 'kominfo': 3, 'kronologis': 3, 'hipotesis': 3, 'tifa': 3, 'mitos': 3, 'pertanda': 3, 'shopeepay': 3, 'penyelundupan': 3, 'jawabnya': 3, 'diperkosa': 3, 'jombang': 3, 'busa': 3, 'ungkapkan': 3, 'karsinogenik': 3, 'dipukul': 3, 'paparan': 3, 'dihitung': 3, 'kedamaian': 3, 'dikandung': 3, 'menggema': 3, 'terusan': 3, 'banding': 3, 'slot': 3, 'anang': 3, 'selisih': 3, 'abe': 3, 'narasumber': 3, 'khatimah': 3, 'ditilang': 3, 'gamblang': 3, 'our': 3, 'tersumbat': 3, 'memulai': 3, 'herd': 3, 'mengontrol': 3, 'meniru': 3, 'waskita': 3, 'sedikitnya': 3, 'kepercayaan': 3, 'menyanyikan': 3, 'terbitkan': 3, 'depresi': 3, 'keterlambatan': 3, 'menenangkan': 3, 'bersyukurlah': 3, 'beraksi': 3, 'merendahkan': 3, 'tenggelamnya': 3, 'polandia': 3, 'stephen': 3, 'welder': 3, 'las': 3, 'bukankah': 3, 'kerjasamanya': 3, 'arnold': 3, 'kaus': 3, 'cdc': 3, 'eril': 3, 'sulung': 3, 'penguburan': 3, 'duniawi': 3, 'launching': 3, 'abas': 3, 'loyal': 3, 'doktrin': 3, 'modern': 3, 'brutal': 3, 'stand': 3, 'suryo': 3, 'kayaknya': 3, 'another': 3, 'terkemuka': 3, 'beku': 3, 'sup': 3, 'memberantas': 3, 'hampa': 3, 'kebijakannya': 3, 'intruksi': 3, 'terobos': 3, 'einstein': 3, 'ratna': 3, 'lanjuti': 3, 'tandanya': 3, 'kanji': 3, 'khotbah': 3, 'team': 3, 'injih': 3, 'kandungnya': 3, 'indra': 3, 'memburuk': 3, 'jitu': 3, 'berawal': 3, 'lemas': 3, 'kupas': 3, 'retak': 3, 'serat': 3, 'disiram': 3, 'terbuang': 3, 'kepedulian': 3, 'cross': 3, 'pendataan': 3, 'pasifik': 3, 'letusan': 3, 'menggali': 3, 'widjiatno': 3, 'pelepasan': 3, 'perpecahan': 3, 'salju': 3, 'bir': 3, 'bangkok': 3, 'wujud': 3, 'lut': 3, 'brewok': 3, 'berdemo': 3, 'penari': 3, 'rumit': 3, 'rizal': 3, 'ramli': 3, 'selagi': 3, 'hayat': 3, 'pestisida': 3, 'petai': 3, 'pinggang': 3, 'menggendong': 3, 'wisuda': 3, 'buntu': 3, 'meteor': 3, 'jatuhnya': 3, 'labuhan': 3, 'nekad': 3, 'kutukan': 3, 'menyusui': 3, 'keping': 3, 'bully': 3, 'tergiur': 3, 'degan': 3, 'sample': 3, 'memintamu': 3, 'mengantarnya': 3, 'bawalah': 3, 'rayon': 3, 'coal': 3, 'merantau': 3, 'tpq': 3, 'harum': 3, 'marinir': 3, 'kkb': 3, 'isya': 3, 'liberal': 3, 'send': 3, 'sehabis': 3, 'kegagalan': 3, 'anwar': 3, 'rekber': 3, 'diulang': 3, 'master': 3, 'berinisial': 3, 'kekasih': 3, 'bak': 3, 'pembuangan': 3, 'bervariasi': 3, 'berbelanja': 3, 'disaat': 3, 'dikuburkan': 3, 'berfoto': 3, 'luaskan': 3, 'tunggal': 3, 'antioksidan': 3, 'urin': 3, 'berkhasiat': 3, 'kemandulan': 3, 'sulfur': 3, 'kepadatan': 3, 'kutub': 3, 'idulfitri': 3, 'istiqlal': 3, 'kronologi': 3, 'william': 3, 'tradisi': 3, 'sikat': 3, 'pupuk': 3, 'sn': 3, 'duyung': 3, 'berlarian': 3, 'belgia': 3, 'nunung': 3, 'memproduksi': 3, 'yasin': 3, 'pinggiran': 3, 'quebec': 3, 'jahanam': 3, 'rini': 3, 'putusan': 3, 'asasi': 3, 'otakmu': 3, 'cnbc': 3, 'soviet': 3, 'sebegitu': 3, 'tarawih': 3, 'kagum': 3, 'ireng': 3, 'resto': 3, 'pendana': 3, 'fitur': 3, 'nikmati': 3, 'lho': 3, 'terjawab': 3, 'hiroshima': 3, 'dijatuhkan': 3, 'tembok': 3, 'gebuk': 3, 'menyakiti': 3, 'pnc': 3, 'imran': 3, 'food': 3, 'mohammed': 3, 'identik': 3, 'penampilan': 3, 'engineer': 3, 'counter': 3, 'nokia': 3, 'permen': 3, 'kasat': 3, 'nagita': 3, 'ds': 3, 'dinasti': 3, 'hideyoshi': 3, 'menghalau': 3, 'menyebutnya': 3, 'memulihkan': 3, 'asalkan': 3, 'melacak': 3, 'temanku': 3, 'menaruh': 3, 'kemangi': 3, 'gosok': 3, 'daunnya': 3, 'kediaman': 3, 'kegaduhan': 3, 'ditarik': 3, 'almaidah': 3, 'terjemahannya': 3, 'tony': 3, 'blue': 3, 'pawang': 3, 'batin': 3, 'bani': 3, 'reserse': 3, 'inginkan': 3, 'balapan': 3, 'moto': 3, 'gp': 3, 'biontech': 3, 'melupakan': 3, 'hebatnya': 3, 'diterbitkan': 3, 'bulannya': 3, 'mentri': 3, 'member': 3, 'merk': 3, 'memberlakukan': 3, 'perkiraan': 3, 'hipoksia': 3, 'erik': 3, 'bulukumba': 3, 'formalin': 3, 'baby': 3, 'perkebunan': 3, 'komedian': 3, 'sulle': 3, 'pertempuran': 3, 'penyelesaian': 3, 'senior': 3, 'kiblat': 3, 'kekosongan': 3, 'pengungsi': 3, 'therapy': 3, 'pemasaran': 3, 'natural': 3, 'malik': 3, 'rizki': 3, 'distancing': 3, 'ukr': 3, 'organnya': 3, 'diharuskan': 3, 'ortunya': 3, 'rongent': 3, 'pilar': 3, 'kepergian': 3, 'penelusuran': 3, 'pengalamannya': 3, 'membiasakan': 3, 'how': 3, 'berpenghasilan': 3, 'penuhi': 3, 'hartopo': 3, 'request': 3, 'peringkat': 3, 'skb': 3, 'mempertimbangkan': 3, 'menpan': 3, 'pelajari': 3, 'kabari': 3, 'muawanah': 3, 'berperang': 3, 'opsi': 3, 'penjaringan': 3, 'amburadul': 3, 'negaramu': 3, 'keranda': 3, 'tato': 3, 'jackie': 3, 'chan': 3, 'mempercayakan': 3, 'corporate': 3, 'ditunjuk': 3, 'dikaitkan': 3, 'pidatonya': 3, 'sunda': 3, 'efisiensi': 3, 'inikah': 3, 'diadili': 3, 'seniman': 3, 'gusti': 3, 'ngurah': 3, 'rai': 3, 'pulo': 3, 'serangkaian': 3, 'diragukan': 3, 'kertajati': 3, 'kapasitas': 3, 'muat': 3, 'johns': 3, 'hopkins': 3, 'sejati': 3, 'sperma': 3, 'vital': 3, 'umurnya': 3, 'sragen': 3, 'andre': 3, 'cagur': 3, 'robby': 3, 'dulunya': 3, 'reksadana': 3, 'danareksa': 3, 'membeku': 3, 'masya': 3, 'gupta': 3, 'memberkatimu': 3, 'token': 3, 'audio': 3, 'darussalam': 3, 'tf': 3, 'ketinggalan': 3, 'kebagian': 3, 'ovo': 3, 'menyakitkan': 3, 'bulu': 3, 'tebal': 3, 'pembiayaan': 3, 'financial': 3, 'kaku': 3, 'fibrosis': 3, 'lembap': 3, 'anarkis': 3, 'wadas': 3, 'unduh': 3, 'memuji': 3, 'cairkan': 3, 'lapis': 3, 'diadopsi': 3, 'hore': 3, 'benua': 3, 'siluman': 3, 'war': 3, 'sigi': 3, 'sholawat': 3, 'mengendap': 3, 'rice': 3, 'cooker': 3, 'shock': 3, 'istilahnya': 3, 'anosmia': 3, 'dites': 3, 'langkahnya': 3, 'kantong': 3, 'noda': 3, 'oranye': 3, 'dikepung': 3, 'lady': 3, 'today': 3, 'depopulation': 3, 'zero': 3, 'merampas': 3, 'salahnya': 3, 'sayap': 3, 'accounting': 3, 'veteran': 3, 'health': 3, 'pengerjaan': 3, 'akte': 3, 'meksiko': 3, 'tantang': 3, 'texas': 3, 'vulkanik': 3, 'tonga': 3, 'taured': 3, 'gragas': 3, 'ron': 3, 'wyatt': 3, 'mengejar': 3, 'pengikutnya': 3, 'kerangka': 3, 'bala': 3, 'injak': 3, 'penanaman': 3, 'kesini': 3, 'ditjen': 3, 'bahayanya': 3, 'cangkir': 3, 'memetik': 3, 'dikawal': 3, 'menyiksa': 3, 'bagaimanapun': 3, 'papan': 3, 'pembersihan': 3, 'panci': 3, 'didihkan': 3, 'kau': 3, 'sepengetahuan': 3, 'darwin': 3, 'sentral': 3, 'ditumbuk': 3, 'didapatkan': 3, 'penunjukan': 3, 'dipajang': 3, 'kejar': 3, 'lu': 3, 'takuti': 3, 'kekalahan': 3, 'bernard': 3, 'maag': 3, 'adam': 3, 'yunani': 3, 'edison': 3, 'aluminium': 3, 'pb': 3, 'menghafal': 3, 'bungsu': 3, 'pesanggrahan': 3, 'taufik': 3, 'asahan': 3, 'ludes': 3, 'cowok': 3, 'kecebong': 3, 'kedapatan': 3, 'indomart': 3, 'ajar': 3, 'split': 3, 'burgernya': 3, 'komponen': 3, 'cenderung': 3, 'umkm': 3, 'beralasan': 3, 'dominan': 3, 'jangkauan': 3, 'banjar': 3, 'deposit': 3, 'sanga': 3, 'voli': 3, 'nobel': 3, 'melampaui': 3, 'berhari': 3, 'afwan': 3, 'sapu': 3, 'lagian': 3, 'popcorn': 3, 'sukseskan': 3, 'perlombaan': 3, 'siraj': 3, 'herry': 3, 'jaket': 3, 'santa': 3, 'melukis': 3, 'sepatunya': 3, 'hidupmu': 3, 'beralih': 3, 'pemerkosa': 3, 'sex': 3, 'menyeberang': 3, 'optik': 3, 'bercerita': 3, 'deputi': 3, 'rahmatan': 3, 'lil': 3, 'lord': 3, 'logistik': 3, 'ingatlah': 3, 'memandang': 3, 'nasution': 3, 'iraq': 3, 'rumahnya': 3, 'terikat': 3, 'cedera': 3, 'memori': 3, 'penukaran': 3, 'gorontalo': 3, 'srimul': 3, 'kebusukan': 3, 'atheisme': 3, 'jadinya': 3, 'mencairkan': 3, 'personil': 3, 'bernomor': 3, 'electric': 3, 'cod': 3, 're': 3, 'kill': 3, 'ditayangkan': 3, 'tepi': 3, 'khalifa': 3, 'dicetak': 3, 'gianyar': 3, 'wina': 3, 'wilayahnya': 3, 'ramalan': 3, 'sesaat': 3, 'bermasker': 3, 'mengambilnya': 3, 'persik': 3, 'akalan': 3, 'sattel': 3, 'orbit': 3, 'terjangkitnya': 3, 'tag': 3, 'bromo': 3, 'lelangan': 3, 'percuma': 3, 'mual': 3, 'terjangkau': 3, 'kewalahan': 3, 'drive': 3, 'menyesalinya': 3, 'mengacu': 3, 'menggugat': 3, 'subhan': 3, 'menghukum': 3, 'pengajar': 3, 'riska': 3, 'menuai': 3, 'diskon': 3, 'endah': 3, 'berdirinya': 3, 'den': 3, 'palopo': 3, 'menjauh': 3, 'kenyang': 3, 'kembung': 3, 'dilahirkan': 3, 'permainan': 3, 'kemaritiman': 3, 'pandjaitan': 3, 'ronald': 3, 'kompetisi': 3, 'mampir': 3, 'italy': 3, 'menjanjikan': 3, 'seharian': 3, 'iklim': 3, 'pembebasan': 3, 'menyeramkan': 3, 'menyajikan': 3, 'dibungkus': 3, 'october': 3, 'liput': 3, 'lantunan': 3, 'baginda': 3, 'ngasih': 3, 'warteg': 3, 'takuri': 3, 'space': 3, 'ajb': 3, 'pengarahan': 3, 'pelaksanaannya': 3, 'menggerakkan': 3, 'tebarkan': 3, 'ulum': 3, 'mendonasikan': 3, 'ngoni': 3, 'terserah': 3, 'nikahi': 3, 'dengkul': 3, 'bissawab': 3, 'mencabut': 3, 'bening': 3, 'attaturk': 3, 'jasad': 3, 'lengket': 3, 'tesnya': 3, 'kepengurusan': 3, 'container': 3, 'ekstra': 3, 'diseduh': 3, 'though': 3, 'bibir': 3, 'efeknya': 3, 'lahirnya': 3, 'dekade': 3, 'keterlaluan': 3, 'taksi': 3, 'cisumdawu': 3, 'tuhannya': 3, 'kemauan': 3, 'parahnya': 3, 'buatannya': 3, 'wallahualam': 3, 'copyright': 3, 'keajaiban': 3, 'mendistribusikan': 3, 'optimal': 3, 'dorce': 3, 'planning': 3, 'menggandeng': 3, 'rockefeller': 3, 'semacam': 3, 'monetary': 3, 'fund': 3, 'ananda': 3, 'pancaran': 3, 'dirasa': 3, 'gadgetnya': 3, 'shaf': 3, 'akademis': 3, 'dalang': 3, 'kekhalifahan': 3, 'merebak': 3, 'kuwait': 3, 'persiapkan': 3, 'haramkan': 3, 'keponakan': 3, 'bina': 3, 'naungan': 3, 'pal': 3, 'anyar': 3, 'liang': 3, 'irfan': 3, 'piagam': 3, 'diperpanjang': 3, 'kusumastuti': 3, 'berakibat': 3, 'variasi': 3, 'selang': 3, 'regulatornya': 3, 'hack': 3, 'afganistan': 3, 'nafasnya': 3, 'tabrakan': 3, 'kezaliman': 3, 'kental': 3, 'asupan': 3, 'geledah': 3, 'ditransfer': 3, 'perindustrian': 3, 'resource': 3, 'diresmikan': 3, 'biokimia': 3, 'diskusi': 3, 'tatonya': 3, 'bit': 3, 'doha': 3, 'kabul': 3, 'madrid': 3, 'sedekahkan': 3, 'rekeningnya': 3, 'deli': 3, 'menyikapi': 3, 'cengkeh': 3, 'red': 3, 'disertakan': 3, 'probiotik': 3, 'disorder': 3, 'gerilya': 3, 'rumus': 3, 'diesel': 3, 'mengorder': 3, 'febrian': 3, 'totalkan': 3, 'nilainya': 3, 'pemindahan': 3, 'aji': 3, 'hukumnya': 3, 'oki': 3, 'jalani': 3, 'hajatan': 3, 'melek': 3, 'berkibar': 3, 'pik': 3, 'raharja': 3, 'sinus': 3, 'paranasal': 3, 'sedunia': 3, 'kolega': 3, 'gombloh': 3, 'imbas': 3, 'diisolasi': 3, 'oseltamivir': 3, 'giza': 3, 'dimakamkan': 3, 'piatu': 3, 'satpam': 3, 'keterbatasan': 3, 'rasisme': 3, 'terompet': 3, 'kemenaker': 3, 'padam': 3, 'please': 3, 'selection': 3, 'akulaku': 3, 'jg': 3, 'disinyalir': 3, 'memboikot': 3, 'mendiamkan': 3, 'objek': 3, 'mobilitas': 3, 'johan': 3, 'fotocopy': 3, 'psikopat': 3, 'lega': 3, 'karpet': 3, 'editan': 3, 'berkisar': 3, 'elemen': 3, 'keseluruhan': 3, 'shift': 3, 'oblong': 3, 'shirt': 3, 'plasma': 3, 'tagar': 3, 'hatimu': 3, 'dirasakan': 3, 'fa': 3, 'dipancing': 3, 'pancing': 3, 'emosinya': 3, 'gono': 3, 'pertaruhannya': 3, 'menjenguk': 3, 'ck': 3, 'kaya': 3, 'immunotherapy': 3, 'selangkangan': 3, 'pilu': 3, 'cobaan': 3, 'memprihatinkan': 3, 'menggumpal': 3, 'aspirin': 3, 'mass': 3, 'virologi': 3, 'bergantung': 3, 'jepara': 3, 'home': 3, 'halim': 3, 'kusuma': 3, 'kedaruratan': 3, 'konyol': 3, 'tetes': 3, 'menyadari': 3, 'part': 3, 'ponpes': 3, 'sekurang': 3, 'yodium': 3, 'musnahkan': 3, 'jongos': 3, 'warhamhu': 3, 'waafihi': 3, 'wafuanhu': 3, 'keikhlasan': 3, 'bimbing': 3, 'selapang': 3, 'lapangnya': 3, 'berpengaruh': 3, 'tercapai': 3, 'resepnya': 3, 'detensif': 3, 'menyebarnya': 3, 'memburu': 3, 'ambulance': 3, 'undi': 3, 'batasi': 3, 'mengganas': 3, 'antivirus': 3, 'ditemui': 3, 'kebayoran': 3, 'petamburan': 3, 'cilandak': 3, 'gambir': 3, 'pancoran': 3, 'matanya': 3, 'sukarela': 3, 'burengan': 3, 'intern': 3, 'royko': 3, 'saori': 3, 'sajiku': 3, 'berniat': 3, 'diperintahkan': 3, 'produktif': 3, 'pencitraan': 3, 'pemberi': 3, 'hakikat': 3, 'termakan': 3, 'gelap': 3, 'konsesi': 3, 'syariah': 3, 'miligram': 3, 'meredakan': 3, 'boxies': 3, 'yaa': 3, 'tp': 3, 'election': 3, 'pembodohan': 3, 'tajikistan': 3, 'angsuran': 3, 'nyamuk': 3, 'ppdb': 3, 'bajaj': 3, 'bajuri': 3, 'nyawanya': 3, 'boyolali': 3, 'diawali': 3, 'gramedia': 3, 'bpkh': 3, 'dicuri': 3, 'capres': 3, 'sas': 3, 'iskandar': 3, 'usahanya': 3, 'salary': 3, 'farm': 3, 'kontrol': 3, 'kehutanan': 3, 'papa': 3, 'mengampuni': 3, 'wassalam': 3, 'menghipnotis': 3, 'uas': 3, 'diajak': 3, 'mujahidin': 3, 'terjerat': 3, 'digaji': 3, 'over': 3, 'aviv': 3, 'gajinya': 3, 'haus': 3, 'bersalaman': 3, 'brunei': 3, 'ibnu': 3, 'menyudutkan': 3, 'hasan': 3, 'journal': 3, 'alamsyah': 3, 'baptis': 3, 'kerongkongan': 3, 'menangkis': 3, 'wang': 3, 'memusnahkan': 3, 'kerana': 3, 'disangka': 3, 'sangka': 3, 'benih': 3, 'soeta': 3, 'priyono': 3, 'gembong': 3, 'kremasi': 3, 'serigala': 3, 'mermaid': 3, 'serda': 3, 'board': 3, 'donatur': 3, 'pemberontak': 3, 'masif': 3, 'sandal': 3, 'pemakzulan': 3, 'bye': 3, 'ninu': 3, 'san': 3, 'dicroti': 3, 'berhadapan': 3, 'bareksa': 3, 'dilakukannya': 3, 'bermoral': 3, 'melemah': 3, 'menduduki': 3, 'gerebek': 3, 'dipergunakan': 3, 'genggam': 3, 'habisi': 3, 'mengenali': 3, 'berbahan': 3, 'skripsi': 3, 'peminjaman': 3, 'disduk': 3, 'suplai': 3, 'terburuk': 3, 'dilanda': 3, 'teror': 3, 'hobi': 3, 'mempublikasikannya': 3, 'terimakasih': 3, 'bmn': 3, 'dilampiri': 3, 'lebam': 3, 'janganlah': 3, 'abadi': 3, 'tali': 3, 'didenda': 3, 'racuni': 3, 'banggakan': 3, 'properti': 3, 'menembus': 3, 'migrasi': 3, 'lansia': 3, 'pegang': 3, 'serempak': 3, 'diklat': 3, 'prajabatan': 3, 'komulatif': 3, 'komprehensif': 3, 'terkirim': 3, 'fishinggo': 3, 'sedikitpun': 3, 'diperingatkan': 3, 'memilihnya': 3, 'lc': 3, 'only': 3, 'merkuri': 3, 'merebut': 3, 'klb': 3, 'rawa': 3, 'dear': 3, 'livechat': 3, 'kokoh': 3, 'leste': 3, 'timor': 3, 'sekitaran': 3, 'khas': 3, 'water': 3, 'transkrip': 3, 'diliput': 3, 'berhentilah': 3, 'kukm': 3, 'basi': 3, 'empedu': 3, 'bidadari': 3, 'dalil': 3, 'mengabadikan': 3, 'tionghoa': 3, 'mengantongi': 3, 'kesalahannya': 3, 'bapa': 3, 'maher': 3, 'hebohkan': 3, 'sekumpulan': 3, 'ucapannya': 3, 'jiwasraya': 3, 'perampasan': 3, 'gk': 3, 'berkeadilan': 3, 'konvoi': 3, 'farmers': 3, 'hut': 3, 'thuwailibi': 3, 'hasanudin': 3, 'purbalingga': 3, 'tetangganya': 3, 'ketapang': 3, 'kondom': 3, 'blank': 3, 'penyerta': 3, 'out': 3, 'porno': 3, 'pencet': 3, 'etnis': 3, 'peruri': 3, 'percetakan': 3, 'tirai': 3, 'bambu': 3, 'mencarikan': 3, 'menanggung': 3, 'sahabatku': 3, 'bersikap': 3, 'bijak': 3, 'diancam': 3, 'kedzaliman': 3, 'sambaran': 3, 'mining': 3, 'bayaran': 3, 'bptp': 3, 'sr': 3, 'ismuhadi': 3, 'mph': 3, 'kalsel': 3, 'penindakan': 3, 'penugasan': 3, 'beruntunglah': 3, 'terhalang': 3, 'praktiknya': 3, 'bosque': 3, 'terjaring': 3, 'gurunya': 3, 'menyemprot': 3, 'radius': 3, 'cash': 3, 'sarat': 3, 'sejuta': 3, 'banda': 3, 'bobroknya': 3, 'entitas': 3, 'coming': 3, 'btc': 3, 'syihab': 3, 'akankah': 3, 'nampaknya': 3, 'berpose': 3, 'bokep': 3, 'armuji': 3, 'pembesaran': 3, 'oxy': 3, 'bpom': 3, 'reaktif': 3, 'puput': 3, 'pereda': 3, 'kazzab': 3, 'cileungsi': 3, 'sambel': 3, 'teratasi': 3, 'visa': 3, 'oriental': 3, 'publikasikan': 3, 'berlokasi': 3, 'bolehkan': 3, 'jo': 3, 'memalukan': 3, 'haikal': 3, 'tibet': 3, 'kekacauan': 3, 'hadis': 3, 'bishowab': 3, 'grin': 3, 'konteks': 3, 'afif': 3, 'prinsip': 3, 'melantunkan': 3, 'disease': 3, 'giat': 3, 'dirujuk': 3, 'bpr': 3, 'pengajian': 3, 'lanjutkan': 3, 'pacu': 3, 'datangi': 3, 'ilma': 3, 'dijaga': 3, 'pilwali': 3, 'mekar': 3, 'wercok': 3, 'north': 3, 'carolina': 3, 'terkumpul': 3, 'machfud': 3, 'semeton': 3, 'starbucks': 3, 'membongkar': 3, 'paranormal': 3, 'siku': 3, 'bilih': 3, 'tularkan': 3, 'tertidur': 3, 'perintahnya': 3, 'memenggal': 3, 'ferdinan': 3, 'sda': 3, 'menyasar': 3, 'negosiasi': 3, 'muslimah': 3, 'scream': 3, 'dani': 3, 'payudara': 3, 'nyala': 3, 'tkd': 3, 'menghadap': 3, 'tommy': 3, 'ramaikan': 3, 'jidat': 3, 'hidungnya': 3, 'editor': 3, 'tempurung': 3, 'wood': 3, 'keyakinan': 3, 'daratan': 3, 'segan': 3, 'membasmi': 3, 'segi': 3, 'samudera': 3, 'kepulangan': 3, 'bergema': 3, 'nissa': 3, 'letda': 3, 'ilham': 3, 'msh': 3, 'karikatur': 3, 'menayangkan': 3, 'harvard': 3, 'pandika': 3, 'pengamat': 3, 'gardu': 3, 'tersiksa': 3, 'satlantas': 3, 'serpong': 3, 'pergilah': 3, 'malls': 3, 'mukidi': 3, 'ticket': 3, 'miring': 3, 'lurah': 3, 'kalap': 3, 'doctors': 3, 'alliance': 3, 'sesi': 3, 'perdarahan': 3, 'melimpah': 3, 'dipukuli': 3, 'mataram': 3, 'rambo': 3, 'cukong': 3, 'nurmantyo': 3, 'dimatikan': 3, 'besarnya': 3, 'sitat': 3, 'diakumulasikan': 3, 'rahmayadi': 3, 'penjarahan': 3, 'krna': 3, 'kritik': 3, 'dehidrasi': 3, 'mosi': 3, 'intan': 3, 'pemalang': 3, 'operan': 3, 'subur': 3, 'simpson': 3, 'tjiptaning': 3, 'hydroxychloroquine': 3, 'aidit': 3, 'gerbang': 3, 'menusuk': 3, 'ashraf': 3, 'berbenah': 3, 'nek': 3, 'cak': 3, 'gawe': 3, 'need': 3, 'semboyan': 3, 'tersentuh': 3, 'muridnya': 3, 'halus': 3, 'tutorial': 3, 'apartement': 3, 'kapok': 3, 'belikan': 3, 'dahsyatnya': 3, 'membusuk': 3, 'andalusia': 3, 'dos': 3, 'pengukuran': 3, 'disensor': 3, 'mask': 3, 'wahyu': 3, 'sial': 3, 'logika': 3, 'rugi': 3, 'peci': 3, 'fira': 3, 'konsentrasi': 3, 'laughing': 3, 'bangsat': 3, 'cemara': 3, 'renungan': 3, 'lazim': 3, 'cry': 3, 'margadana': 3, 'parawansa': 3, 'analisa': 3, 'menyelisihi': 3, 'filosof': 3, 'dijuluki': 3, 'motto': 3, 'bentrok': 3, 'pranoto': 3, 'husen': 3, 'galaxy': 3, 'berkoordinasi': 3, 'menerus': 3, 'metrotv': 3, 'dikafani': 3, 'percakapan': 3, 'mengunjungi': 3, 'poli': 3, 'kebijakkan': 3, 'berideologi': 3, 'hik': 3, 'hutapea': 3, 'menumpuk': 3, 'dn': 3, 'seri': 3, 'foya': 3, 'jkt': 3, 'golkar': 3, 'bener': 3, 'suhara': 3, 'kriminalitas': 3, 'pelanggar': 3, 'pikun': 3, 'fredrik': 3, 'adhar': 3, 'asas': 3, 'tersenyum': 3, 'tersulit': 3, 'riil': 3, 'bawahnya': 3, 'idiologi': 3, 'berjihad': 3, 'reno': 3, 'menata': 3, 'keluyuran': 3, 'bilal': 3, 'bertambah': 3, 'nadi': 3, 'memutar': 3, 'vita': 3, 'komersial': 3, 'jeritan': 3, 'mayday': 3, 'bersabar': 3, 'tisu': 3, 'dg': 3, 'ekuador': 3, 'wni': 3, 'fbi': 3, 'dihangatkan': 3, 'tova': 3, 'berpuasa': 3, 'airlangga': 3, 'menandatangani': 3, 'kades': 3, 'deng': 3, 'insentif': 3, 'puisi': 3, 'pengeluaran': 3, 'diselesaikan': 3, 'ungkapnya': 3, 'bratang': 3, 'mutiara': 3, 'berpeluang': 3, 'antibodinya': 3, 'cinere': 3, 'kuta': 3, 'encim': 3, 'bersujud': 3, 'bagaikan': 3, 'evarina': 3, 'diabaikan': 3, 'pemberdayaan': 3, 'tertib': 3, 'korsel': 3, 'diterbangkan': 3, 'hadio': 3, 'pengembang': 3, 'pinak': 3, 'berdiam': 3, 'diliburkan': 3, 'wameo': 3, 'cbd': 3, 'gagak': 3, 'longsoran': 3, 'tasik': 3, 'emigran': 3, 'king': 3, 'elevasi': 3, 'bandingkan': 3, 'pemasukan': 3, 'rockers': 3, 'terenyuh': 3, 'ala': 3, 'mangkuk': 3, 'cuti': 3, 'syarwan': 3, 'alergi': 3, 'ci': 3, 'uym': 3, 'plate': 3, 'konco': 3, 'grace': 3, 'menghentikannya': 3, 'setelahnya': 3, 'rekap': 3, 'transisi': 3, 'plaque': 3, 'pjt': 3, 'pemberitaannya': 3, 'edta': 3, 'palung': 3, 'elpaputi': 3, 'basuki': 3, 'petroksi': 3, 'faisal': 3, 'diinvestasikan': 3, 'instrumen': 3, 'bj': 3, 'insaf': 3, 'uud': 3, 'kemendagri': 3, 'mengemudi': 3, 'solid': 3, 'spdp': 3, 'tawuran': 3, 'am': 3, 'spore': 3, 'amhp': 3, 'tsamara': 3, 'teresa': 3, 'fidalgo': 3, 'biri': 3, 'mantra': 3, 'berteman': 3, 'kolong': 3, 'ekspress': 3, 'menggenjot': 3, 'roti': 3, 'terselubung': 2, 'celine': 2, 'grinning': 2, 'senggang': 2, 'mengental': 2, 'bobot': 2, 'sunat': 2, 'menelan': 2, 'koleksi': 2, 'asalan': 2, 'resi': 2, 'phantom': 2, 'taklukan': 2, 'laudya': 2, 'fosil': 2, 'hydra': 2, 'penghubung': 2, 'pacitan': 2, 'oman': 2, 'konservatif': 2, 'tamparan': 2, 'terpecah': 2, 'porak': 2, 'poranda': 2, 'piton': 2, 'kibarkan': 2, 'rebut': 2, 'pembaharuan': 2, 'autodebit': 2, 'persetujuannya': 2, 'konfirmasinya': 2, 'puting': 2, 'beliung': 2, 'terjang': 2, 'sal': 2, 'airpods': 2, 'memancarkan': 2, 'kr': 2, 'lestari': 2, 'iringan': 2, 'aksinya': 2, 'rame': 2, 'kegunaan': 2, 'penjemputan': 2, 'farel': 2, 'nyanyi': 2, 'duo': 2, 'histori': 2, 'buy': 2, 'mind': 2, 'set': 2, 'rangkaian': 2, 'energy': 2, 'device': 2, 'ricuh': 2, 'murka': 2, 'buruknya': 2, 'pembuktian': 2, 'disusupi': 2, 'plt': 2, 'semuenye': 2, 'zidan': 2, 'melayat': 2, 'rakabuming': 2, 'kabarkan': 2, 'melempar': 2, 'merespons': 2, 'rf': 2, 'ngaku': 2, 'irjen': 2, 'mente': 2, 'gunting': 2, 'kunyah': 2, 'menetralisir': 2, 'kisruh': 2, 'dilepaskan': 2, 'dowleh': 2, 'hamengkubuwono': 2, 'usung': 2, 'ligue': 2, 'teatrikal': 2, 'jersey': 2, 'regulasi': 2, 'tinjau': 2, 'nasofaring': 2, 'jendela': 2, 'ramsay': 2, 'mengantre': 2, 'tunjungan': 2, 'kesediaannya': 2, 'sebanyaknya': 2, 'jazakumullahu': 2, 'khairan': 2, 'katsira': 2, 'kebaikannya': 2, 'menolongnya': 2, 'divonis': 2, 'syok': 2, 'banjarmasin': 2, 'tapanuli': 2, 'wabarakatuhuh': 2, 'prasarana': 2, 'ditularkan': 2, 'seksual': 2, 'tired': 2, 'senam': 2, 'benderanya': 2, 'dijalankan': 2, 'komponennya': 2, 'op': 2, 'bertindik': 2, 'gepok': 2, 'normatif': 2, 'lptks': 2, 'outsorching': 2, 'sesegera': 2, 'supporter': 2, 'toa': 2, 'waduk': 2, 'pluit': 2, 'edit': 2, 'lafadz': 2, 'grafis': 2, 'dhani': 2, 'urusannya': 2, 'herbertus': 2, 'camkan': 2, 'lampirkan': 2, 'antusias': 2, 'korbanya': 2, 'gangster': 2, 'resesi': 2, 'beradab': 2, 'belaka': 2, 'simpati': 2, 'ppg': 2, 'ketepatan': 2, 'nasir': 2, 'salatiga': 2, 'delivery': 2, 'lor': 2, 'mojoroto': 2, 'semampir': 2, 'urip': 2, 'uskup': 2, 'bersemi': 2, 'memanggil': 2, 'manggil': 2, 'tema': 2, 'indosiar': 2, 'menjajah': 2, 'penghuninya': 2, 'germany': 2, 'paksakan': 2, 'henry': 2, 'kawanan': 2, 'kostum': 2, 'ditinggal': 2, 'tawaran': 2, 'perpisahan': 2, 'nyungsep': 2, 'terjerumus': 2, 'fadil': 2, 'miliknya': 2, 'menyambar': 2, 'borobudur': 2, 'wonten': 2, 'dikoneksikan': 2, 'borok': 2, 'ningsih': 2, 'perbandingan': 2, 'sebaran': 2, 'penyidik': 2, 'friend': 2, 'makmum': 2, 'present': 2, 'boxing': 2, 'champion': 2, 'suporter': 2, 'habibi': 2, 'hengki': 2, 'waryanto': 2, 'bakri': 2, 'luc': 2, 'montagnier': 2, 'tahukan': 2, 'design': 2, 'pratinjau': 2, 'kad': 2, 'majikan': 2, 'sahaja': 2, 'menyurati': 2, 'july': 2, 'pengarah': 2, 'santoso': 2, 'plps': 2, 'penerbitan': 2, 'pencairannya': 2, 'mematuhi': 2, 'kewirausahaan': 2, 'dipertanggung': 2, 'berkenalan': 2, 'gemparkan': 2, 'sedihnya': 2, 'anggarkan': 2, 'dikunyah': 2, 'himbara': 2, 'btn': 2, 'ksp': 2, 'galak': 2, 'geng': 2, 'komoditi': 2, 'anu': 2, 'pentagon': 2, 'banggar': 2, 'gerobak': 2, 'ikhtiar': 2, 'detox': 2, 'dinyanyikan': 2, 'marketing': 2, 'kolonel': 2, 'baskom': 2, 'tanganmu': 2, 'bersentuhan': 2, 'betulkah': 2, 'kharkiv': 2, 'membeberkan': 2, 'lusinan': 2, 'goresan': 2, 'wonosari': 2, 'kidul': 2, 'serui': 2, 'simpsons': 2, 'mengirimkannya': 2, 'temui': 2, 'dimangsa': 2, 'mojokerto': 2, 'bebatuan': 2, 'hipnotis': 2, 'rayap': 2, 'double': 2, 'nugget': 2, 'memesan': 2, 'tengkoraknya': 2, 'disita': 2, 'melonjaknya': 2, 'monkey': 2, 'pox': 2, 'next': 2, 'christian': 2, 'kadzab': 2, 'mengalah': 2, 'mengulang': 2, 'gilanya': 2, 'mereda': 2, 'koma': 2, 'pembersih': 2, 'tar': 2, 'inci': 2, 'diamkan': 2, 'dihaluskan': 2, 'memisahkan': 2, 'ampasnya': 2, 'lemari': 2, 'mengonsumsinya': 2, 'minumnya': 2, 'skrining': 2, 'flyer': 2, 'syifa': 2, 'penyampaian': 2, 'kaur': 2, 'sip': 2, 'bedagai': 2, 'rentenir': 2, 'ditertibkan': 2, 'patent': 2, 'bermunculan': 2, 'gejolak': 2, 'laun': 2, 'membesar': 2, 'menguat': 2, 'mercedes': 2, 'dirusak': 2, 'trik': 2, 'lobak': 2, 'konde': 2, 'bunganya': 2, 'diberhentikan': 2, 'ponorogo': 2, 'platform': 2, 'lehernya': 2, 'euthanasia': 2, 'melebarkan': 2, 'sayapnya': 2, 'dongeng': 2, 'gagang': 2, 'mil': 2, 'ryan': 2, 'mandul': 2, 'penyuntikan': 2, 'memvonis': 2, 'masaknya': 2, 'renovasi': 2, 'disingkirkan': 2, 'clinton': 2, 'tampil': 2, 'mengagumi': 2, 'terinspirasi': 2, 'cabuli': 2, 'mendeteksi': 2, 'dump': 2, 'pertambangan': 2, 'narail': 2, 'distrik': 2, 'kloning': 2, 'rusli': 2, 'disingkat': 2, 'pandai': 2, 'lutut': 2, 'dibengkokkan': 2, 'mod': 2, 'cheat': 2, 'iming': 2, 'afc': 2, 'menegur': 2, 'menyelidiki': 2, 'gantinya': 2, 'dadakan': 2, 'petinju': 2, 'mengecilkan': 2, 'robert': 2, 'lonjakan': 2, 'reproduksi': 2, 'alphelion': 2, 'immunity': 2, 'disekolah': 2, 'tingkah': 2, 'terowongan': 2, 'berserakan': 2, 'sampit': 2, 'berkekuatan': 2, 'melukai': 2, 'retakan': 2, 'tegak': 2, 'jembrana': 2, 'rincian': 2, 'persyaratannya': 2, 'bermeterai': 2, 'diketik': 2, 'pdf': 2, 'act': 2, 'pendekatan': 2, 'benefit': 2, 'menyukainya': 2, 'diterapkan': 2, 'sendal': 2, 'jepit': 2, 'johnson': 2, 'berjaya': 2, 'ame': 2, 'menguap': 2, 'epilepsi': 2, 'melancarkan': 2, 'tegang': 2, 'gayo': 2, 'lues': 2, 'amru': 2, 'wahana': 2, 'destinasi': 2, 'terpanggang': 2, 'artikelnya': 2, 'memotongnya': 2, 'memasukkannya': 2, 'memainkan': 2, 'detoksifikasi': 2, 'asosiasi': 2, 'maks': 2, 'lokasinya': 2, 'barangnya': 2, 'presidennya': 2, 'zina': 2, 'beny': 2, 'fenomenal': 2, 'rongsokan': 2, 'thunberg': 2, 'idaho': 2, 'schwarzenegger': 2, 'ariyel': 2, 'siur': 2, 'komel': 2, 'mendaftarkan': 2, 'cicurug': 2, 'alihkan': 2, 'pangkodap': 2, 'knpb': 2, 'ulmwp': 2, 'otsus': 2, 'otonomi': 2, 'setara': 2, 'merata': 2, 'otentik': 2, 'wahabi': 2, 'replika': 2, 'beriman': 2, 'sejarahnya': 2, 'menaklukkan': 2, 'kelumpuhan': 2, 'hindun': 2, 'tempatkan': 2, 'mensholatkan': 2, 'menelpon': 2, 'relevan': 2, 'pancasilais': 2, 'trisila': 2, 'je': 2, 'have': 2, 'berlaga': 2, 'eprix': 2, 'bekukan': 2, 'parut': 2, 'spaghetti': 2, 'terduga': 2, 'perkantoran': 2, 'lettu': 2, 'bangil': 2, 'berkode': 2, 'bergaji': 2, 'becakayu': 2, 'kalimalang': 2, 'umuh': 2, 'erikprayogi': 2, 'mussalam': 2, 'anne': 2, 'mustika': 2, 'tabanan': 2, 'agustina': 2, 'sekolahan': 2, 'sejalan': 2, 'djkn': 2, 'sebulan': 2, 'latar': 2, 'denganmu': 2, 'acha': 2, 'septriasa': 2, 'narayanganj': 2, 'hrd': 2, 'suprawoto': 2, 'bantul': 2, 'paloh': 2, 'malin': 2, 'kundang': 2, 'imron': 2, 'rubah': 2, 'chemical': 2, 'ubun': 2, 'kerok': 2, 'seratnya': 2, 'sembarang': 2, 'berlubang': 2, 'terciprat': 2, 'diwajah': 2, 'kotos': 2, 'penanganannya': 2, 'dioles': 2, 'ginanjar': 2, 'redaksi': 2, 'kejari': 2, 'ijin': 2, 'kelayakan': 2, 'biodata': 2, 'sesekali': 2, 'kolektor': 2, 'semut': 2, 'atap': 2, 'yogya': 2, 'maritim': 2, 'ancol': 2, 'koh': 2, 'miliaran': 2, 'dealer': 2, 'kondang': 2, 'dedeh': 2, 'pendakwah': 2, 'danjen': 2, 'pemakan': 2, 'kuncinya': 2, 'diperkenalkan': 2, 'pecahnya': 2, 'detiknews': 2, 'terkecoh': 2, 'tarian': 2, 'mendapatkannya': 2, 'balap': 2, 'kawatir': 2, 'jamil': 2, 'unk': 2, 'berlutut': 2, 'tengkurap': 2, 'isikan': 2, 'kesusahan': 2, 'kampret': 2, 'menyangkut': 2, 'hendri': 2, 'cemburu': 2, 'mendapati': 2, 'hengkang': 2, 'digoyang': 2, 'mampat': 2, 'waspadai': 2, 'pandangan': 2, 'sengatan': 2, 'berau': 2, 'muhajirin': 2, 'pundi': 2, 'bendahara': 2, 'sdr': 2, 'hiring': 2, 'mart': 2, 'pinsan': 2, 'idol': 2, 'wakanda': 2, 'pluto': 2, 'dipegang': 2, 'penerjemah': 2, 'dabbah': 2, 'deras': 2, 'rhenald': 2, 'kasali': 2, 'anggraeni': 2, 'menyuarakan': 2, 'lawu': 2, 'sentuh': 2, 'ombak': 2, 'kios': 2, 'ajarkan': 2, 'jadul': 2, 'soebroto': 2, 'irisan': 2, 'alkalin': 2, 'antikanker': 2, 'dicegah': 2, 'piano': 2, 'gerd': 2, 'ulung': 2, 'menguras': 2, 'dikorbankan': 2, 'berbaris': 2, 'dihadapi': 2, 'memperpanjang': 2, 'ditembaki': 2, 'berhamburan': 2, 'bohir': 2, 'windows': 2, 'naskah': 2, 'perdebatan': 2, 'canada': 2, 'dorval': 2, 'situlah': 2, 'racist': 2, 'tempatnya': 2, 'dedy': 2, 'kpl': 2, 'webinar': 2, 'layarnya': 2, 'tana': 2, 'ibrahim': 2, 'disimpulkan': 2, 'kemiskinan': 2, 'kepiting': 2, 'pemulihan': 2, 'titanic': 2, 'marbut': 2, 'bigfoot': 2, 'bulunya': 2, 'reza': 2, 'mang': 2, 'amien': 2, 'mukjizat': 2, 'ruf': 2, 'bangunkan': 2, 'mustahil': 2, 'meredam': 2, 'menghajar': 2, 'merangkul': 2, 'dead': 2, 'ngepet': 2, 'menengok': 2, 'kondektur': 2, 'ppka': 2, 'langsir': 2, 'prs': 2, 'first': 2, 'restaurant': 2, 'dipisahkan': 2, 'mengutuk': 2, 'jubah': 2, 'aviation': 2, 'fly': 2, 'fire': 2, 'fighting': 2, 'apron': 2, 'movement': 2, 'craft': 2, 'maintenence': 2, 'flight': 2, 'marshaller': 2, 'costumer': 2, 'ekslempar': 2, 'taqwa': 2, 'bahari': 2, 'stasi': 2, 'kuncit': 2, 'kapuas': 2, 'brimob': 2, 'seperjuangan': 2, 'slavina': 2, 'khilaf': 2, 'anniversary': 2, 'pemeran': 2, 'produsen': 2, 'jerigen': 2, 'pengolahan': 2, 'majapahit': 2, 'toyotomi': 2, 'nyali': 2, 'spesies': 2, 'laknat': 2, 'bakauheni': 2, 'dokumentasi': 2, 'serbia': 2, 'memercayai': 2, 'baiklah': 2, 'terdata': 2, 'gatalnya': 2, 'menggaruknya': 2, 'dapatnya': 2, 'gosokkan': 2, 'kemanginya': 2, 'momongan': 2, 'khasiatnya': 2, 'siswanya': 2, 'ibas': 2, 'ajid': 2, 'tanker': 2, 'famili': 2, 'krn': 2, 'ranking': 2, 'asparagus': 2, 'broccoli': 2, 'terong': 2, 'paprica': 2, 'wortel': 2, 'purse': 2, 'mustard': 2, 'brassica': 2, 'juncea': 2, 'realisasikan': 2, 'bercanda': 2, 'badut': 2, 'prank': 2, 'melilit': 2, 'disney': 2, 'dipelajari': 2, 'monumen': 2, 'glow': 2, 'diciduk': 2, 'winda': 2, 'nessa': 2, 'sekejap': 2, 'dinonaktifkan': 2, 'dibayarkan': 2, 'disaksikan': 2, 'pemecatan': 2, 'daimil': 2, 'portofolio': 2, 'trofi': 2, 'minimarket': 2, 'monrovia': 2, 'liberia': 2, 'mutan': 2, 'mengandalkan': 2, 'taktik': 2, 'kamuflase': 2, 'strain': 2, 'mempersingkat': 2, 'moyang': 2, 'tersesat': 2, 'marc': 2, 'kebenarannya': 2, 'diantar': 2, 'nggih': 2, 'tissue': 2, 'pcs': 2, 'pieces': 2, 'refil': 2, 'samosir': 2, 'march': 2, 'disisih': 2, 'ilaihirojiun': 2, 'luncurkan': 2, 'pengusulan': 2, 'kekosongannya': 2, 'brata': 2, 'rajawali': 2, 'tertanda': 2, 'sh': 2, 'faskes': 2, 'euro': 2, 'kartal': 2, 'menghadang': 2, 'cpns': 2, 'membiayai': 2, 'mengangkut': 2, 'leader': 2, 'muhaimin': 2, 'mengorbankan': 2, 'hapuskan': 2, 'arch': 2, 'dinyalakan': 2, 'solidaritas': 2, 'nose': 2, 'berbaring': 2, 'uah': 2, 'resminya': 2, 'husnol': 2, 'muazin': 2, 'baitussalam': 2, 'swatiastu': 2, 'revisi': 2, 'skd': 2, 'panselnas': 2, 'pengajuannya': 2, 'avanza': 2, 'tenor': 2, 'mewajibkan': 2, 'tingting': 2, 'dikejar': 2, 'bugar': 2, 'kenegaraan': 2, 'laga': 2, 'fase': 2, 'seketika': 2, 'imlek': 2, 'kids': 2, 'rcti': 2, 'berpura': 2, 'efektivitas': 2, 'balistik': 2, 'molotov': 2, 'kiev': 2, 'berbahagia': 2, 'menjerit': 2, 'kehancuran': 2, 'berkomentar': 2, 'gambaran': 2, 'penis': 2, 'psikotes': 2, 'gebang': 2, 'perkembangbiakan': 2, 'perlunya': 2, 'bertelur': 2, 'mempercepat': 2, 'sutiman': 2, 'sumitro': 2, 'handal': 2, 'mikrobiologi': 2, 'reputasinya': 2, 'rektorat': 2, 'kuch': 2, 'subang': 2, 'dibagi': 2, 'kanak': 2, 'aisya': 2, 'cicendo': 2, 'atk': 2, 'pendeteksi': 2, 'ditelan': 2, 'gate': 2, 'bridge': 2, 'dievakuasi': 2, 'rri': 2, 'selebritis': 2, 'presenter': 2, 'figur': 2, 'ivan': 2, 'beranda': 2, 'balkon': 2, 'perkawinan': 2, 'japri': 2, 'seks': 2, 'bergoyang': 2, 'dibius': 2, 'temen': 2, 'hendaknya': 2, 'maryland': 2, 'organik': 2, 'ketidaktahuan': 2, 'guruprasad': 2, 'reddy': 2, 'osh': 2, 'tegaskan': 2, 'ubin': 2, 'pengembalian': 2, 'suyasa': 2, 'bengkok': 2, 'dipompa': 2, 'kedalam': 2, 'dubes': 2, 'toisuta': 2, 'arifson': 2, 'ratakan': 2, 'baja': 2, 'melaju': 2, 'kencang': 2, 'liat': 2, 'symptom': 2, 'perih': 2, 'honor': 2, 'berjarak': 2, 'care': 2, 'whatsappnya': 2, 'smsnya': 2, 'kalukubula': 2, 'azzahra': 2, 'pengendali': 2, 'zara': 2, 'sedia': 2, 'salt': 2, 'badung': 2, 'piece': 2, 'kerak': 2, 'membandel': 2, 'dilawan': 2, 'onar': 2, 'usapkan': 2, 'lidah': 2, 'sendoknya': 2, 'amonia': 2, 'disfungsi': 2, 'tiroid': 2, 'bronkitis': 2, 'shed': 2, 'kept': 2, 'forced': 2, 'solution': 2, 'pengurangan': 2, 'abk': 2, 'boy': 2, 'deadline': 2, 'balikpapan': 2, 'berlakunya': 2, 'mengintai': 2, 'klien': 2, 'ahmed': 2, 'swedia': 2, 'el': 2, 'kuku': 2, 'menggagalkan': 2, 'masihkah': 2, 'yohanes': 2, 'berlumuran': 2, 'dijauhkan': 2, 'paspornya': 2, 'kucurkan': 2, 'arkeolog': 2, 'pharaoh': 2, 'belulang': 2, 'white': 2, 'sempit': 2, 'transportasinya': 2, 'kes': 2, 'undangannya': 2, 'meleleh': 2, 'terkuras': 2, 'bermakna': 2, 'persembunyiannya': 2, 'bahrain': 2, 'implan': 2, 'microsoft': 2, 'singkawang': 2, 'tusukan': 2, 'pisau': 2, 'untuknya': 2, 'manipulasi': 2, 'anthony': 2, 'pedofilia': 2, 'jadwalnya': 2, 'dikandangi': 2, 'rem': 2, 'blong': 2, 'cucilah': 2, 'tuangkan': 2, 'saring': 2, 'endapan': 2, 'diserbu': 2, 'berapi': 2, 'viagra': 2, 'pertunjukan': 2, 'trias': 2, 'mission': 2, 'mattjik': 2, 'menggejala': 2, 'trombosit': 2, 'saringan': 2, 'takarannya': 2, 'brosur': 2, 'kurnia': 2, 'cimahi': 2, 'zimbabwe': 2, 'melintasi': 2, 'fiktif': 2, 'terjebak': 2, 'jeda': 2, 'kesamaan': 2, 'alkitab': 2, 'penduduknya': 2, 'meta': 2, 'citata': 2, 'perintis': 2, 'ulu': 2, 'sumberjati': 2, 'kademangan': 2, 'ngembul': 2, 'binangun': 2, 'slorok': 2, 'garum': 2, 'margomulyo': 2, 'panggungrejo': 2, 'plumbangan': 2, 'doko': 2, 'gandusari': 2, 'serut': 2, 'kanigoro': 2, 'selopuro': 2, 'sepucuk': 2, 'peresmian': 2, 'silicon': 2, 'oxide': 2, 'dirangkul': 2, 'mengadu': 2, 'kade': 2, 'annisa': 2, 'sma': 2, 'bahar': 2, 'berkelakuan': 2, 'growth': 2, 'berkenaan': 2, 'spesifik': 2, 'pesanan': 2, 'berhentikan': 2, 'caci': 2, 'braille': 2, 'tunanetra': 2, 'receh': 2, 'disumbangkan': 2, 'recehan': 2, 'iseng': 2, 'aphelion': 2, 'pertarungan': 2, 'chef': 2, 'jamie': 2, 'saji': 2, 'berlemak': 2, 'kue': 2, 'sisanya': 2, 'mcdonalds': 2, 'disisinya': 2, 'portugal': 2, 'korbannya': 2, 'menampung': 2, 'panah': 2, 'tangguh': 2, 'masjidil': 2, 'rojack': 2, 'garong': 2, 'sorban': 2, 'menakuti': 2, 'kua': 2, 'persilangan': 2, 'seismik': 2, 'dibodohi': 2, 'keluargaku': 2, 'teras': 2, 'memelihara': 2, 'ketertiban': 2, 'sinopharm': 2, 'dirimu': 2, 'tangki': 2, 'mus': 2, 'akademisi': 2, 'moerhadi': 2, 'tertimbun': 2, 'victor': 2, 'lindelof': 2, 'berjatuhan': 2, 'sarah': 2, 'kelulusannya': 2, 'nadhiyin': 2, 'wirawan': 2, 'farma': 2, 'tegur': 2, 'gunardi': 2, 'pigi': 2, 'takutnya': 2, 'selembar': 2, 'mengharukan': 2, 'mengeluh': 2, 'hargai': 2, 'sayangilah': 2, 'yai': 2, 'santriwati': 2, 'munchen': 2, 'megah': 2, 'varun': 2, 'singh': 2, 'mingguan': 2, 'kungkang': 2, 'lunak': 2, 'senen': 2, 'chai': 2, 'diterimanya': 2, 'diusut': 2, 'sin': 2, 'christmas': 2, 'bertanda': 2, 'jaksel': 2, 'terkepung': 2, 'perkirakan': 2, 'barak': 2, 'kelanjutan': 2, 'berlapis': 2, 'efendi': 2, 'innalillahiwainnailaihirojiun': 2, 'mengguncang': 2, 'tesla': 2, 'dihubungkan': 2, 'starlink': 2, 'antarmuka': 2, 'sidik': 2, 'dikendarai': 2, 'konfigurasi': 2, 'cakupan': 2, 'blind': 2, 'janggal': 2, 'ketok': 2, 'perppu': 2, 'pengecualian': 2, 'pembatas': 2, 'geologi': 2, 'kumpulkan': 2, 'soda': 2, 'boraks': 2, 'ups': 2, 'banyuasin': 2, 'monica': 2, 'montague': 2, 'trus': 2, 'reda': 2, 'friends': 2, 'members': 2, 'drug': 2, 'administration': 2, 'severe': 2, 'infections': 2, 'failure': 2, 'deaths': 2, 'bursa': 2, 'pemula': 2, 'jeruji': 2, 'direkam': 2, 'burj': 2, 'komik': 2, 'pemudi': 2, 'aa': 2, 'berafiliasi': 2, 'pres': 2, 'berkehendak': 2, 'shalat': 2, 'petik': 2, 'fayakun': 2, 'bersebelahan': 2, 'keberhasilannya': 2, 'pungkasnya': 2, 'sila': 2, 'menyengat': 2, 'pakis': 2, 'paku': 2, 'pakuan': 2, 'spora': 2, 'berpembuluh': 2, 'jantan': 2, 'kawin': 2, 'ivermectin': 2, 'korupsinya': 2, 'curiga': 2, 'diusung': 2, 'calonkan': 2, 'dale': 2, 'gardner': 2, 'nada': 2, 'pendorong': 2, 'disepelekan': 2, 'insomnia': 2, 'nyenyak': 2, 'organization': 2, 'memengaruhi': 2, 'tirta': 2, 'terdakwa': 2, 'wibawa': 2, 'opick': 2, 'wainna': 2, 'chemtrails': 2, 'gultom': 2, 'somalia': 2, 'qr': 2, 'hail': 2, 'jelata': 2, 'nganjuk': 2, 'pengemis': 2, 'lintasan': 2, 'kaumnya': 2, 'titiek': 2, 'bercahaya': 2, 'belerang': 2, 'ditagih': 2, 'menikahi': 2, 'bukakan': 2, 'erwin': 2, 'sembarangan': 2, 'perdata': 2, 'klasifikasi': 2, 'wanprestasi': 2, 'cidera': 2, 'kesuksesan': 2, 'ditemukannya': 2, 'memutihkan': 2, 'tepuk': 2, 'syabila': 2, 'realisasinya': 2, 'mengepoi': 2, 'valentino': 2, 'rossi': 2, 'syahrini': 2, 'masamba': 2, 'ji': 2, 'menyerap': 2, 'sydney': 2, 'bocoran': 2, 'bersiap': 2, 'bergelimpangan': 2, 'bachtiar': 2, 'vanessa': 2, 'junta': 2, 'majikannya': 2, 'laknatullah': 2, 'buahnya': 2, 'penyelamatan': 2, 'komite': 2, 'dipenggal': 2, 'presidensi': 2, 'ekonom': 2, 'vatican': 2, 'great': 2, 'lets': 2, 'ilustrasi': 2, 'prostat': 2, 'berswafoto': 2, 'mofit': 2, 'kirana': 2, 'menyemprotkan': 2, 'vlog': 2, 'roma': 2, 'dibacok': 2, 'kirinya': 2, 'salep': 2, 'perkeretaapian': 2, 'mengutamakan': 2, 'kompeten': 2, 'berkarir': 2, 'pemenuhan': 2, 'pengawalan': 2, 'berwajib': 2, 'boba': 2, 'bubble': 2, 'tea': 2, 'bo': 2, 'mengharumkan': 2, 'tekor': 2, 'dikunjungi': 2, 'matraman': 2, 'ramainya': 2, 'akad': 2, 'diurus': 2, 'sertifikatnya': 2, 'kurikulum': 2, 'semestinya': 2, 'rahang': 2, 'membawaku': 2, 'kontraksi': 2, 'meneguk': 2, 'ruh': 2, 'ni': 2, 'imani': 2, 'tpa': 2, 'pe': 2, 'rail': 2, 'kebangetan': 2, 'dibongkar': 2, 'menetes': 2, 'nikmatul': 2, 'menuangkan': 2, 'seberat': 2, 'barulah': 2, 'diperkenankan': 2, 'strategy': 2, 'kelak': 2, 'joss': 2, 'granita': 2, 'kiranti': 2, 'ditambahkan': 2, 'menyindir': 2, 'sejajar': 2, 'cileunyi': 2, 'dawuan': 2, 'membelah': 2, 'keinginan': 2, 'mendampingi': 2, 'melonjak': 2, 'dipertanyakan': 2, 'pemusnahan': 2, 'seprei': 2, 'soto': 2, 'tumpukan': 2, 'better': 2, 'use': 2, 'under': 2, 'every': 2, 'etc': 2, 'content': 2, 'fair': 2, 'dominos': 2, 'relativitas': 2, 'menua': 2, 'scott': 2, 'suster': 2, 'siswanto': 2, 'sdah': 2, 'kenyataanya': 2, 'wasilah': 2, 'serampangan': 2, 'pengunggah': 2, 'card': 2, 'perpajakan': 2, 'berujung': 2, 'desakan': 2, 'desak': 2, 'diseret': 2, 'mengentalkan': 2, 'berminyak': 2, 'pencucian': 2, 'terakhirnya': 2, 'gamalama': 2, 'firasat': 2, 'polio': 2, 'bkpm': 2, 'jemaatnya': 2, 'amarahnya': 2, 'kendor': 2, 'senja': 2, 'gandeng': 2, 'emoney': 2, 'disetujui': 2, 'tapcash': 2, 'cashless': 2, 'money': 2, 'adakah': 2, 'tersentak': 2, 'raffael': 2, 'intens': 2, 'tube': 2, 'membiarkannya': 2, 'hsien': 2, 'loong': 2, 'grobogan': 2, 'cerminan': 2, 'khairul': 2, 'huseinn': 2, 'buletin': 2, 'checnya': 2, 'menantang': 2, 'bernilai': 2, 'lantik': 2, 'diajarkan': 2, 'tolonglah': 2, 'question': 2, 'seblak': 2, 'yuan': 2, 'vs': 2, 'membahayakanmu': 2, 'ginjalmu': 2, 'dimata': 2, 'persatu': 2, 'liriknya': 2, 'kho': 2, 'nahi': 2, 'taruna': 2, 'salon': 2, 'psbr': 2, 'detergen': 2, 'tanam': 2, 'lti': 2, 'sept': 2, 'kesediaan': 2, 'esok': 2, 'samsat': 2, 'teluk': 2, 'banua': 2, 'menghembuskan': 2, 'lucunya': 2, 'bahlil': 2, 'obesitas': 2, 'nidom': 2, 'diikat': 2, 'witoyo': 2, 'kukus': 2, 'camilan': 2, 'belang': 2, 'keagamaan': 2, 'membagi': 2, 'dialog': 2, 'baba': 2, 'shell': 2, 'uns': 2, 'kura': 2, 'ceritakan': 2, 'mara': 2, 'wibisana': 2, 'uniform': 2, 'cham': 2, 'trail': 2, 'dilengserkan': 2, 'takalar': 2, 'sentra': 2, 'gancet': 2, 'oksigennya': 2, 'dibuktikan': 2, 'bkpsdm': 2, 'ogan': 2, 'ungkapan': 2, 'tugaskan': 2, 'lpd': 2, 'terkendala': 2, 'biotik': 2, 'memudahkan': 2, 'mnurunkan': 2, 'bsar': 2, 'inflamasi': 2, 'mningkatkan': 2, 'gsp': 2, 'ditanda': 2, 'ida': 2, 'istikamah': 2, 'pacarnya': 2, 'memilukan': 2, 'afgan': 2, 'ww': 2, 'budianto': 2, 'hadiri': 2, 'prabumulih': 2, 'bersekolah': 2, 'ott': 2, 'psikologi': 2, 'ayahandanya': 2, 'digantung': 2, 'date': 2, 'bakti': 2, 'akrab': 2, 'geram': 2, 'ceremony': 2, 'dikumandangkan': 2, 'vokal': 2, 'olympiade': 2, 'royalti': 2, 'alm': 2, 'pemancar': 2, 'hazrat': 2, 'memuter': 2, 'muter': 2, 'sembunyikan': 2, 'tenda': 2, 'waloni': 2, 'kasad': 2, 'tersisa': 2, 'saturnus': 2, 'membawakan': 2, 'badui': 2, 'diterjang': 2, 'dibaptis': 2, 'menghidupi': 2, 'menyiksanya': 2, 'raih': 2, 'musabaqah': 2, 'tilawatil': 2, 'nyi': 2, 'hambalang': 2, 'foundation': 2, 'technology': 2, 'turkey': 2, 'accepted': 2, 'sekap': 2, 'ditawari': 2, 'bentrokan': 2, 'menyembunyikan': 2, 'kesehariannya': 2, 'bawahan': 2, 'pemberangkatan': 2, 'tarikan': 2, 'magnet': 2, 'interaksi': 2, 'penyemprotan': 2, 'disinfektan': 2, 'mengumbar': 2, 'jonathan': 2, 'timbulkan': 2, 'dahlia': 2, 'south': 2, 'rusdi': 2, 'babul': 2, 'dian': 2, 'ikon': 2, 'astungkara': 2, 'literasi': 2, 'budayakan': 2, 'cahyono': 2, 'catatannya': 2, 'hembusan': 2, 'mk': 2, 'lompat': 2, 'dipygus': 2, 'kendalikan': 2, 'guard': 2, 'merakyat': 2, 'glodok': 2, 'melarat': 2, 'sungkai': 2, 'kesuburan': 2, 'keringat': 2, 'igd': 2, 'rsd': 2, 'cantumkan': 2, 'menertibkan': 2, 'lihatnya': 2, 'kontan': 2, 'disegel': 2, 'das': 2, 'tetaplah': 2, 'mengarah': 2, 'menyuntikan': 2, 'mainstream': 2, 'beruang': 2, 'beginning': 2, 'sesuaikan': 2, 'joni': 2, 'godfather': 2, 'bijaksana': 2, 'menuntaskan': 2, 'reposting': 2, 'jamur': 2, 'melebar': 2, 'imromac': 2, 'regu': 2, 'capek': 2, 'penyekatan': 2, 'disiagakan': 2, 'palsukan': 2, 'cashback': 2, 'berpamitan': 2, 'tuh': 2, 'setingan': 2, 'kelilingi': 2, 'menguburkan': 2, 'nacl': 2, 'bengis': 2, 'nano': 2, 'anugerah': 2, 'invermectin': 2, 'sungkem': 2, 'komitmen': 2, 'saratoga': 2, 'trading': 2, 'semangkuk': 2, 'keefektifannya': 2, 'siung': 2, 'cincang': 2, 'zikir': 2, 'mengurung': 2, 'lenon': 2, 'jayakarta': 2, 'messi': 2, 'perbanyak': 2, 'cetak': 2, 'memadai': 2, 'percayalah': 2, 'semanggi': 2, 'berhala': 2, 'safety': 2, 'dexamethasone': 2, 'munculnya': 2, 'cengkareng': 2, 'prapatan': 2, 'pademangan': 2, 'koja': 2, 'kembangan': 2, 'keramat': 2, 'pesing': 2, 'condet': 2, 'depannya': 2, 'terlepas': 2, 'sediakan': 2, 'silver': 2, 'hni': 2, 'achievers': 2, 'berdekatan': 2, 'qodari': 2, 'dikhianati': 2, 'borgol': 2, 'hindi': 2, 'atasnya': 2, 'menggila': 2, 'asbak': 2, 'akar': 2, 'bhineka': 2, 'ika': 2, 'membludak': 2, 'kondusif': 2, 'pim': 2, 'berkolaborasi': 2, 'jajahan': 2, 'akademik': 2, 'anjlok': 2, 'keampuhan': 2, 'membenarkan': 2, 'dhuafa': 2, 'jomlo': 2, 'mengalang': 2, 'mengeluarkannya': 2, 'trinitas': 2, 'bisanya': 2, 'diledakkan': 2, 'megabit': 2, 'disneyland': 2, 'tunnel': 2, 'asad': 2, 'memajukan': 2, 'dhabi': 2, 'age': 2, 'miliarder': 2, 'memainkannya': 2, 'menginfokan': 2, 'metalurgi': 2, 'swipe': 2, 'suez': 2, 'muatan': 2, 'idx': 2, 'rolex': 2, 'ditampilkan': 2, 'menguji': 2, 'pendonoran': 2, 'timbulnya': 2, 'mencemari': 2, 'kerala': 2, 'margono': 2, 'chen': 2, 'bais': 2, 'fi': 2, 'dananya': 2, 'hilal': 2, 'chi': 2, 'ad': 2, 'rezekinya': 2, 'pemburu': 2, 'donasikan': 2, 'setting': 2, 'scammer': 2, 'meminjam': 2, 'membutuhkannya': 2, 'engineering': 2, 'ilaga': 2, 'moshe': 2, 'terpenuhi': 2, 'teteskan': 2, 'background': 2, 'realita': 2, 'menumpang': 2, 'persekongkolan': 2, 'matilah': 2, 'erat': 2, 'patungan': 2, 'mengelabui': 2, 'christiano': 2, 'bersaudara': 2, 'fake': 2, 'surah': 2, 'baqarah': 2, 'sembelih': 2, 'labbaika': 2, 'menyantap': 2, 'kagetkan': 2, 'keberangkatan': 2, 'quds': 2, 'everyday': 2, 'sumpit': 2, 'dikurung': 2, 'ckm': 2, 'alfian': 2, 'darma': 2, 'fk': 2, 'yu': 2, 'lobster': 2, 'serbu': 2, 'mexico': 2, 'selayar': 2, 'berlindung': 2, 'koloni': 2, 'riady': 2, 'ahmadiyah': 2, 'tapal': 2, 'kesepakatan': 2, 'tablet': 2, 'denjaka': 2, 'information': 2, 'pembubaran': 2, 'diretas': 2, 'arsenal': 2, 'yarobbal': 2, 'ranjau': 2, 'simpulkan': 2, 'marine': 2, 'feeling': 2, 'jumaidi': 2, 'dispenda': 2, 'ucapnya': 2, 'komplain': 2, 'selambat': 2, 'lambatnya': 2, 'terisi': 2, 'kom': 2, 'circuit': 2, 'masyarakatnya': 2, 'mengutip': 2, 'oil': 2, 'diprediksi': 2, 'pump': 2, 'elektrik': 2, 'mubarok': 2, 'advokat': 2, 'ooo': 2, 'sya': 2, 'hypoxia': 2, 'lem': 2, 'makzulkan': 2, 'lahat': 2, 'guntur': 2, 'penganiayaan': 2, 'booking': 2, 'patungnya': 2, 'rahmatullah': 2, 'ahad': 2, 'disuapi': 2, 'diujung': 2, 'tanduk': 2, 'mom': 2, 'haris': 2, 'kuro': 2, 'ohun': 2, 'ju': 2, 'ile': 2, 'gbogbo': 2, 'ona': 2, 'afi': 2, 'yi': 2, 'alubosa': 2, 'lutfi': 2, 'judi': 2, 'kaparot': 2, 'prosesi': 2, 'empunya': 2, 'dokternya': 2, 'tangga': 2, 'volt': 2, 'ampere': 2, 'maghrib': 2, 'maluku': 2, 'bhayangkara': 2, 'sebegitunya': 2, 'fanatik': 2, 'jangankan': 2, 'baunya': 2, 'ente': 2, 'sterile': 2, 'inhalasi': 2, 'etil': 2, 'disemprotkan': 2, 'kimiawi': 2, 'terindikasi': 2, 'research': 2, 'leukimia': 2, 'sunatullah': 2, 'tentaranya': 2, 'taufan': 2, 'damanik': 2, 'komnas': 2, 'radioterapi': 2, 'himpunan': 2, 'seret': 2, 'menghisap': 2, 'malaka': 2, 'ipdn': 2, 'glaxosmithkline': 2, 'sbi': 2, 'menyejahterakan': 2, 'kelancaran': 2, 'palem': 2, 'tabrak': 2, 'spmk': 2, 'imbalan': 2, 'kontes': 2, 'merauke': 2, 'berimbas': 2, 'diimpor': 2, 'bilamana': 2, 'menganiaya': 2, 'jk': 2, 'pu': 2, 'mbr': 2, 'konsultasi': 2, 'blak': 2, 'deg': 2, 'galian': 2, 'interest': 2, 'gowa': 2, 'product': 2, 'distributor': 2, 'alim': 2, 'kuala': 2, 'arogansi': 2, 'pemalsuan': 2, 'usut': 2, 'jarumnya': 2, 'diperlihatkan': 2, 'kadaluwarsa': 2, 'kedaluwarsa': 2, 'menyusahkan': 2, 'istora': 2, 'many': 2, 'died': 2, 'them': 2, 'jannatul': 2, 'finally': 2, 'spd': 2, 'yosi': 2, 'mokalu': 2, 'diperkuat': 2, 'beginian': 2, 'mengadung': 2, 'muchyidin': 2, 'junaidi': 2, 'biofarma': 2, 'fahmi': 2, 'trial': 2, 'kera': 2, 'penolong': 2, 'etika': 2, 'suaranya': 2, 'bobi': 2, 'dikritik': 2, 'sungkawa': 2, 'miras': 2, 'memindahkan': 2, 'show': 2, 'fasih': 2, 'translate': 2, 'sepihak': 2, 'mewakilkan': 2, 'iri': 2, 'drun': 2, 'gembok': 2, 'squad': 2, 'slide': 2, 'ditegakkan': 2, 'tambang': 2, 'production': 2, 'intendent': 2, 'elektro': 2, 'niaga': 2, 'buldozer': 2, 'crane': 2, 'tituler': 2, 'hafiz': 2, 'pangkat': 2, 'ciduk': 2, 'instalasi': 2, 'jomblo': 2, 'blog': 2, 'kritikan': 2, 'ilc': 2, 'bip': 2, 'walaikumsalam': 2, 'terbawa': 2, 'dicermati': 2, 'sains': 2, 'bersaing': 2, 'melania': 2, 'sara': 2, 'membatalkannya': 2, 'berbekal': 2, 'usianya': 2, 'antariksa': 2, 'perbulannya': 2, 'bukunya': 2, 'kepadamu': 2, 'jannah': 2, 'ujang': 2, 'kepung': 2, 'djarot': 2, 'pernyataannya': 2, 'tutankhamun': 2, 'american': 2, 'bui': 2, 'asabri': 2, 'adil': 2, 'lengserkan': 2, 'berpolitik': 2, 'pembesarnya': 2, 'gusar': 2, 'un': 2, 'kesan': 2, 'protest': 2, 'think': 2, 'healthy': 2, 'publikasi': 2, 'bersikeras': 2, 'february': 2, 'solar': 2, 'landing': 2, 'jreng': 2, 'tersingkir': 2, 'undip': 2, 'nurwindu': 2, 'diberitahu': 2, 'izzati': 2, 'apes': 2, 'speaker': 2, 'nonggo': 2, 'jum': 2, 'junjungannya': 2, 'isran': 2, 'genap': 2, 'deep': 2, 'room': 2, 'soup': 2, 'aurat': 2, 'pindahkan': 2, 'lunasi': 2, 'rasua': 2, 'pembatu': 2, 'perlakukan': 2, 'rekrut': 2, 'pasport': 2, 'beragam': 2, 'penanda': 2, 'awali': 2, 'xiaomi': 2, 'poco': 2, 'segeralah': 2, 'inap': 2, 'bedakan': 2, 'bawaan': 2, 'lebur': 2, 'supervisor': 2, 'foreman': 2, 'surveyor': 2, 'maintenance': 2, 'importir': 2, 'smpp': 2, 'disuap': 2, 'demak': 2, 'menginstruksikan': 2, 'kosongkan': 2, 'daeng': 2, 'hemaviton': 2, 'drink': 2, 'pembasmi': 2, 'pembentukan': 2, 'begitulah': 2, 'terbentuknya': 2, 'dpt': 2, 'resiko': 2, 'sugeng': 2, 'membunuhmu': 2, 'tanggulangi': 2, 'mengikat': 2, 'ternama': 2, 'linknya': 2, 'herman': 2, 'jang': 2, 'pakek': 2, 'hill': 2, 'emirates': 2, 'tabaa': 2, 'menerbangkan': 2, 'premier': 2, 'nian': 2, 'terhapus': 2, 'pastor': 2, 'rakernas': 2, 'suprapto': 2, 'tis': 2, 'pamit': 2, 'terlupakan': 2, 'pornografi': 2, 'menggunakannya': 2, 'litigasi': 2, 'deklarasikan': 2, 'antri': 2, 'prevention': 2, 'nilesh': 2, 'jogal': 2, 'jogi': 2, 'ayurved': 2, 'kecut': 2, 'dimaksudkan': 2, 'bego': 2, 'menolaknya': 2, 'mendaulat': 2, 'terkonfirmasi': 2, 'swabnya': 2, 'volunteer': 2, 'irna': 2, 'kebutuhannya': 2, 'tumbuhkan': 2, 'sesering': 2, 'tendang': 2, 'luthfi': 2, 'grafik': 2, 'mendatar': 2, 'doing': 2, 'if': 2, 'pence': 2, 'pengelola': 2, 'trainee': 2, 'bersertifikasi': 2, 'semprotan': 2, 'hydrooxyspray': 2, 'menyukai': 2, 'bermasalah': 2, 'naikan': 2, 'afiliasi': 2, 'fattah': 2, 'pinang': 2, 'sebangsa': 2, 'suntikkan': 2, 'katakanlah': 2, 'enakkan': 2, 'zaitun': 2, 'mujarab': 2, 'bentuknya': 2, 'simbah': 2, 'kala': 2, 'komposisi': 2, 'rawit': 2, 'diuleg': 2, 'phbs': 2, 'vertikal': 2, 'djpi': 2, 'diseleksi': 2, 'yth': 2, 'lada': 2, 'dikeringkan': 2, 'rumahan': 2, 'merebus': 2, 'cup': 2, 'didistribusikan': 2, 'sesuatunya': 2, 'muktamar': 2, 'pendirian': 2, 'penggagas': 2, 'lubuk': 2, 'keuangannya': 2, 'kewenangan': 2, 'wicaksono': 2, 'berwibawa': 2, 'pelak': 2, 'berdiskusi': 2, 'nashville': 2, 'sasarannya': 2, 'hizbut': 2, 'tahrir': 2, 'parade': 2, 'menghendaki': 2, 'tegaknya': 2, 'kaffah': 2, 'minhaj': 2, 'nubuwwah': 2, 'eksplisit': 2, 'ansarut': 2, 'bahrun': 2, 'naim': 2, 'radikalnya': 2, 'perorangan': 2, 'qaeda': 2, 'marzuki': 2, 'dedi': 2, 'sampurasun': 2, 'menjunjung': 2, 'lantunkan': 2, 'lapang': 2, 'mewabah': 2, 'belahan': 2, 'hinggap': 2, 'berpesan': 2, 'hj': 2, 'yovi': 2, 'ipw': 2, 'beberkan': 2, 'gencatan': 2, 'ruce': 2, 'utamakan': 2, 'wonokarto': 2, 'golok': 2, 'negaraku': 2, 'keberlangsungan': 2, 'mengontrak': 2, 'bermata': 2, 'keindahan': 2, 'dilempari': 2, 'humanis': 2, 'phd': 2, 'these': 2, 'diktator': 2, 'rekreasi': 2, 'menginfeksi': 2, 'selmu': 2, 'digantikan': 2, 'atik': 2, 'uea': 2, 'sgp': 2, 'changi': 2, 'menyapu': 2, 'kulawi': 2, 'dituduh': 2, 'diborgol': 2, 'sendys': 2, 'tante': 2, 'morosi': 2, 'kuatkan': 2, 'dilantiknya': 2, 'meterai': 2, 'bpkb': 2, 'bok': 2, 'kairo': 2, 'vario': 2, 'daihatsu': 2, 'dididik': 2, 'buronan': 2, 'ciracas': 2, 'husein': 2, 'sampang': 2, 'syncytin': 2, 'pedoman': 2, 'erji': 2, 'setoran': 2, 'kkn': 2, 'meracuni': 2, 'network': 2, 'mujiaman': 2, 'bpbd': 2, 'laris': 2, 'didatangi': 2, 'rumpak': 2, 'syarifudin': 2, 'hitungan': 2, 'mengetuk': 2, 'mustofa': 2, 'bisri': 2, 'amplop': 2, 'period': 2, 'bond': 2, 'ironisnya': 2, 'obral': 2, 'cilik': 2, 'berpihak': 2, 'patronin': 2, 'berkorban': 2, 'lewonu': 2, 'lembantongoa': 2, 'dumba': 2, 'nike': 2, 'genset': 2, 'produksinya': 2, 'dodongkulo': 2, 'slotnya': 2, 'usb': 2, 'pele': 2, 'najis': 2, 'segerakan': 2, 'menendang': 2, 'liburan': 2, 'diskriminasi': 2, 'transjakarta': 2, 'slta': 2, 'swalayan': 2, 'ledok': 2, 'memperbarui': 2, 'presentase': 2, 'sebutkan': 2, 'lidi': 2, 'vinager': 2, 'mengeras': 2, 'diadu': 2, 'staph': 2, 'tele': 2, 'start': 2, 'dirampok': 2, 'diseluruh': 2, 'alinah': 2, 'diarsipkan': 2, 'hufingen': 2, 'tademir': 2, 'diyanet': 2, 'roxy': 2, 'dagang': 2, 'pemusik': 2, 'asmaul': 2, 'husna': 2, 'basahkan': 2, 'ulyssesph': 2, 'bulak': 2, 'underpass': 2, 'pemerasan': 2, 'gie': 2, 'pastinya': 2, 'osteosarcoma': 2, 'penyakitnya': 2, 'briptu': 2, 'robi': 2, 'memasaknya': 2, 'rendaman': 2, 'tembakau': 2, 'kretek': 2, 'dibelah': 2, 'cintai': 2, 'ekonominya': 2, 'kementrian': 2, 'menyiakan': 2, 'subjek': 2, 'korespondensi': 2, 'ditimbulkan': 2, 'penghitungan': 2, 'manurung': 2, 'bantaran': 2, 'peruntukan': 2, 'sudahkah': 2, 'kecam': 2, 'keluarlah': 2, 'aljazair': 2, 'source': 2, 'darul': 2, 'hamzah': 2, 'bh': 2, 'bra': 2, 'dak': 2, 'budidaya': 2, 'immanuel': 2, 'tabel': 2, 'mada': 2, 'karawaci': 2, 'dibekukan': 2, 'pukuli': 2, 'entry': 2, 'embong': 2, 'swadaya': 2, 'tarung': 2, 'dipidana': 2, 'kurungan': 2, 'jera': 2, 'provokator': 2, 'adzab': 2, 'alloh': 2, 'terkasih': 2, 'reka': 2, 'ramses': 2, 'disekap': 2, 'sumatera': 2, 'sihombing': 2, 'censored': 2, 'announce': 2, 'lawsuit': 2, 'against': 2, 'heiko': 2, 'khatab': 2, 'syah': 2, 'jtspam': 2, 'sekedar': 2, 'sisik': 2, 'bisul': 2, 'pertolongannya': 2, 'tbc': 2, 'tb': 2, 'nanah': 2, 'jenama': 2, 'rupa': 2, 'government': 2, 'gagalkan': 2, 'mengelilingi': 2, 'armenia': 2, 'azerbaijan': 2, 'bioskop': 2, 'daster': 2, 'kifayah': 2, 'haz': 2, 'bini': 2, 'gobloknya': 2, 'bonjol': 2, 'aula': 2, 'beach': 2, 'carrie': 2, 'madej': 2, 'college': 2, 'nak': 2, 'mengakuinya': 2, 'hilangnya': 2, 'persenjataan': 2, 'mementingkan': 2, 'len': 2, 'fourth': 2, 'phone': 2, 'intinya': 2, 'meliput': 2, 'eksemplar': 2, 'wahidin': 2, 'dikerjai': 2, 'chaos': 2, 'imei': 2, 'kangen': 2, 'bersabda': 2, 'mengkonsumsi': 2, 'masakan': 2, 'kemkominfo': 2, 'raden': 2, 'wangi': 2, 'stabilitas': 2, 'peri': 2, 'kegelapan': 2, 'sastra': 2, 'adakannya': 2, 'menghabisi': 2, 'terkuat': 2, 'korup': 2, 'vanuatu': 2, 'emil': 2, 'oleskan': 2, 'kukumu': 2, 'analis': 2, 'pedang': 2, 'dipadamkan': 2, 'gala': 2, 'ceroboh': 2, 'tvone': 2, 'kek': 2, 'bcl': 2, 'mengawur': 2, 'atasnama': 2, 'penyimpangan': 2, 'benarnya': 2, 'maulana': 2, 'menyembah': 2, 'pedangdut': 2, 'sniper': 2, 'nasehat': 2, 'dewe': 2, 'ora': 2, 'tong': 2, 'didampingi': 2, 'pungutan': 2, 'sepupu': 2, 'dinobatkan': 2, 'unta': 2, 'menerobos': 2, 'ditelusuri': 2, 'maeng': 2, 'kenek': 2, 'buff': 2, 'ngomong': 2, 'mengusulkan': 2, 'methylxanthine': 2, 'theobromine': 2, 'theophylline': 2, 'diatasi': 2, 'membebani': 2, 'keringkan': 2, 'tuyul': 2, 'bersumpah': 2, 'keok': 2, 'dibiayai': 2, 'distribusi': 2, 'pembangkitan': 2, 'mengusir': 2, 'ribut': 2, 'postingannya': 2, 'madinah': 2, 'pemda': 2, 'rotan': 2, 'polres': 2, 'rb': 2, 'ibunda': 2, 'spasi': 2, 'norma': 2, 'tepok': 2, 'memimpikan': 2, 'problem': 2, 'kebahagiaan': 2, 'ideal': 2, 'sudut': 2, 'tersambar': 2, 'tanue': 2, 'capela': 2, 'observer': 2, 'penebar': 2, 'inframerah': 2, 'pineal': 2, 'mengamati': 2, 'il': 2, 'uptd': 2, 'berkamuflase': 2, 'saidi': 2, 'anut': 2, 'advisor': 2, 'pandainya': 2, 'unsoed': 2, 'gemblung': 2, 'disindir': 2, 'sesumbar': 2, 'tekuk': 2, 'build': 2, 'secret': 2, 'terrius': 2, 'memanipulasi': 2, 'pembicaraannya': 2, 'effendi': 2, 'sebelas': 2, 'salaman': 2, 'ejek': 2, 'pembenci': 2, 'azzam': 2, 'kronis': 2, 'ancang': 2, 'siradj': 2, 'membicarakan': 2, 'iblis': 2, 'adib': 2, 'disandingkan': 2, 'pemutihan': 2, 'mempan': 2, 'babinsa': 2, 'usulkan': 2, 'bergelombang': 2, 'menginjak': 2, 'joong': 2, 'murtad': 2, 'celaka': 2, 'infrared': 2, 'terlantar': 2, 'kyai': 2, 'dampingi': 2, 'sitaan': 2, 'meruya': 2, 'firza': 2, 'ihza': 2, 'sajikan': 2, 'diviralkan': 2, 'dimanfaatkan': 2, 'kenikmatan': 2, 'laptop': 2, 'liburkan': 2, 'dirampas': 2, 'farabi': 2, 'dzahabi': 2, 'rahimahullah': 2, 'pendapat': 2, 'karenanya': 2, 'aristoteles': 2, 'mengingkari': 2, 'awasin': 2, 'inur': 2, 'zithromax': 2, 'talk': 2, 'dont': 2, 'mencebur': 2, 'kurban': 2, 'pdp': 2, 'nasaba': 2, 'jumpa': 2, 'pangarep': 2, 'cingkrang': 2, 'ayahanda': 2, 'kuncorok': 2, 'fanspage': 2, 'kejujuran': 2, 'inbox': 2, 'luhur': 2, 'press': 2, 'transmart': 2, 'street': 2, 'cakra': 2, 'leluasa': 2, 'membantai': 2, 'laser': 2, 'tampan': 2, 'bersorban': 2, 'jelek': 2, 'bacot': 2, 'dibully': 2, 'hagia': 2, 'anggrek': 2, 'cuman': 2, 'bicaranya': 2, 'bermodalkan': 2, 'fpa': 2, 'purnomo': 2, 'bosan': 2, 'membelanya': 2, 'nababan': 2, 'osmania': 2, 'mat': 2, 'lim': 2, 'ruah': 2, 'syahmenan': 2, 'kuliner': 2, 'sesat': 2, 'mengalihkan': 2, 'olga': 2, 'perkuat': 2, 'apps': 2, 'pikobar': 2, 'reklamasi': 2, 'bergerombol': 2, 'bekerdja': 2, 'negerinya': 2, 'memperbolehkan': 2, 'selundupkan': 2, 'dermaga': 2, 'pagoda': 2, 'terhina': 2, 'rintik': 2, 'jim': 2, 'zack': 2, 'anjurkan': 2, 'kb': 2, 'kodrat': 2, 'jajanan': 2, 'diagnosa': 2, 'seimbang': 2, 'ahlinya': 2, 'diajarinya': 2, 'soetomo': 2, 'bobrok': 2, 'pengangguran': 2, 'panutan': 2, 'bayes': 2, 'kemarau': 2, 'shadan': 2, 'wiro': 2, 'mania': 2, 'mon': 2, 'mateh': 2, 'manisnya': 2, 'hasto': 2, 'barokallahu': 2, 'ditargetkan': 2, 'menjulukinya': 2, 'diperdengarkan': 2, 'mengejek': 2, 'sebatas': 2, 'pulen': 2, 'bintitan': 2, 'dioperasi': 2, 'kodam': 2, 'piaraan': 2, 'rieke': 2, 'armand': 2, 'pdi': 2, 'luput': 2, 'fkppi': 2, 'ruslan': 2, 'oppo': 2, 'jok': 2, 'woro': 2, 'sangsi': 2, 'ibnusabil': 2, 'telanjang': 2, 'biarpun': 2, 'berguru': 2, 'dalilnya': 2, 'wax': 2, 'dikerjakan': 2, 'cetakan': 2, 'finishing': 2, 'dijumpai': 2, 'ogoh': 2, 'letnan': 2, 'putranto': 2, 'galau': 2, 'jadilah': 2, 'vox': 2, 'allopathy': 2, 'kecilnya': 2, 'menyelesaikannya': 2, 'mengharuskan': 2, 'kateter': 2, 'suzuki': 2, 'sarang': 2, 'pelihara': 2, 'bab': 2, 'menghadirkan': 2, 'keberanian': 2, 'mengendus': 2, 'razi': 2, 'humaira': 2, 'alexander': 2, 'melemparkan': 2, 'penulis': 2, 'berkomitmen': 2, 'semu': 2, 'hajinya': 2, 'menyambung': 2, 'prematur': 2, 'buntal': 2, 'malesiya': 2, 'ceria': 2, 'samelya': 2, 'melly': 2, 'nesvita': 2, 'puja': 2, 'pengusung': 2, 'airbus': 2, 'jinnah': 2, 'colony': 2, 'hangus': 2, 'ujarnya': 2, 'pia': 2, 'penyelidik': 2, 'sudjiatmi': 2, 'tuntunan': 2, 'misal': 2, 'coronavirus': 2, 'trombosis': 2, 'tangguhkan': 2, 'kedubes': 2, 'pemakai': 2, 'bonbin': 2, 'lingkar': 2, 'party': 2, 'cuk': 2, 'equinox': 2, 'khotib': 2, 'berskala': 2, 'sekolahnya': 2, 'karombasan': 2, 'macau': 2, 'meringankan': 2, 'lintang': 2, 'diciptakan': 2, 'semena': 2, 'mena': 2, 'xinjiang': 2, 'cucunya': 2, 'dibolehkan': 2, 'kredivo': 2, 'mainkan': 2, 'dirumah': 2, 'didi': 2, 'kempot': 2, 'pergaulan': 2, 'menjalar': 2, 'tercatat': 2, 'adapula': 2, 'gantian': 2, 'bagai': 2, 'menunggangi': 2, 'tiger': 2, 'rupee': 2, 'movie': 2, 'zone': 2, 'cawas': 2, 'menebar': 2, 'konglomerat': 2, 'onok': 2, 'moduse': 2, 'perawakan': 2, 'coretan': 2, 'mengincar': 2, 'strong': 2, 'pemulung': 2, 'motivator': 2, 'fin': 2, 'kelonggaran': 2, 'stabil': 2, 'magrib': 2, 'berputar': 2, 'italian': 2, 'carpi': 2, 'alberto': 2, 'bellelli': 2, 'lapas': 2, 'pencuri': 2, 'sumenep': 2, 'selandia': 2, 'linggau': 2, 'aneka': 2, 'meresahkan': 2, 'plot': 2, 'sirait': 2, 'mimbar': 2, 'kamto': 2, 'palagan': 2, 'monjali': 2, 'citayem': 2, 'tanjakan': 2, 'robin': 2, 'pelni': 2, 'sekupang': 2, 'pembelaan': 2, 'kalao': 2, 'berjabat': 2, 'treatment': 2, 'berproduksi': 2, 'pula': 2, 'akasia': 2, 'tracking': 2, 'menyayangkan': 2, 'ketidak': 2, 'jujuran': 2, 'protokoler': 2, 'maksimum': 2, 'bayang': 2, 'bersekongkol': 2, 'meruntuhkan': 2, 'jutawan': 2, 'diperbesar': 2, 'bhang': 2, 'rhamlee': 2, 'fbr': 2, 'bintaro': 2, 'jumbo': 2, 'gembel': 2, 'dep': 2, 'rawisabang': 2, 'tandon': 2, 'kaff': 2, 'tawassul': 2, 'penganut': 2, 'dettol': 2, 'indispliner': 2, 'daerahnya': 2, 'lembak': 2, 'uruguay': 2, 'kagetnya': 2, 'dus': 2, 'ekspor': 2, 'tenggak': 2, 'sia': 2, 'kesibukan': 2, 'menatap': 2, 'wibisono': 2, 'spectra': 2, 'berkecimpung': 2, 'mediumnya': 2, 'jd': 2, 'belilah': 2, 'tria': 2, 'oighur': 2, 'banglades': 2, 'hajat': 2, 'musri': 2, 'masman': 2, 'dievaluasi': 2, 'musafir': 2, 'berkarya': 2, 'andrean': 2, 'mareyh': 2, 'dijahit': 2, 'ningrat': 2, 'morella': 2, 'picung': 2, 'landa': 2, 'bergolongan': 2, 'terbilang': 2, 'orng': 2, 'bright': 2, 'side': 2, 'selimut': 2, 'merica': 2, 'japan': 2, 'modi': 2, 'jempol': 2, 'bendung': 2, 'walahar': 2, 'meluap': 2, 'memangnya': 2, 'kesulitannya': 2, 'siswi': 2, 'sepelekan': 2, 'bernegosiasi': 2, 'client': 2, 'berjumlah': 2, 'arahnya': 2, 'dony': 2, 'enim': 2, 'didik': 2, 'iwip': 2, 'keinginannya': 2, 'spectrum': 2, 'bln': 2, 'hib': 2, 'diracun': 2, 'aba': 2, 'okupasi': 2, 'dikampanyekan': 2, 'selebaran': 2, 'dy': 2, 'volume': 2, 'mdpl': 2, 'turkistan': 2, 'pemenangan': 2, 'partainya': 2, 'seadanya': 2, 'islamnya': 2, 'diandalkan': 2, 'ngamuk': 2, 'selidik': 2, 'cancel': 2, 'sholli': 2, 'ridho': 2, 'mesut': 2, 'ozil': 2, 'cekik': 2, 'uzbekistan': 2, 'legenda': 2, 'letjen': 2, 'purn': 2, 'kerupuk': 2, 'crispy': 2, 'persekusi': 2, 'polifenol': 2, 'askhara': 2, 'dpo': 2, 'alexis': 2, 'tiong': 2, 'kelamaan': 2, 'anting': 2, 'raharjo': 2, 'liem': 2, 'ondel': 2, 'nahdliyin': 2, 'cadar': 2, 'hermes': 2, 'joker': 2, 'gebrakan': 2, 'johny': 2, 'prestasimu': 2, 'natalie': 2, 'konconya': 2, 'sambutannya': 2, 'simposium': 2, 'ketertinggalan': 2, 'riak': 2, 'tatkala': 2, 'george': 2, 'soros': 2, 'berpuluh': 2, 'digali': 2, 'selebihnya': 2, 'dikorup': 2, 'menopangnya': 2, 'diambilnya': 2, 'menanda': 2, 'cheque': 2, 'dikurskan': 2, 'obligasi': 2, 'insolvent': 2, 'stuck': 2, 'arhan': 2, 'plug': 2, 'mengikis': 2, 'cikini': 2, 'primary': 2, 'pci': 2, 'alatnya': 2, 'mekanisme': 2, 'balon': 2, 'chelation': 2, 'melarutkan': 2, 'perki': 2, 'revaskularisasi': 2, 'menahun': 2, 'nutrisi': 2, 'mons': 2, 'cleo': 2, 'patahan': 2, 'hc': 2, 'soemarno': 2, 'kadir': 2, 'carding': 2, 'prananda': 2, 'hendro': 2, 'hartarto': 2, 'trikasih': 2, 'lembong': 2, 'hanif': 2, 'dhakiri': 2, 'muljono': 2, 'agraria': 2, 'amran': 2, 'pdt': 2, 'saiful': 2, 'sumadi': 2, 'setingkat': 2, 'tjahjanto': 2, 'pramono': 2, 'anung': 2, 'roeslani': 2, 'yumi': 2, 'penderitaan': 2, 'bendara': 2, 'muqri': 2, 'masalahnya': 2, 'menyalahi': 2, 'mensejahterakan': 2, 'kapabilitas': 2, 'saifuddin': 2, 'unj': 2, 'menkeu': 2, 'sbsn': 2, 'yandri': 2, 'mengesankan': 2, 'beruntun': 2, 'merry': 2, 'riana': 2, 'berteduh': 2, 'bruder': 2, 'petrus': 2, 'dihadang': 2, 'syock': 2, 'culik': 2, 'bojong': 2, 'daripadanya': 2, 'berkurban': 2, 'sabilillah': 2, 'bahartamal': 2, 'direkrut': 2, 'risalah': 2, 'koerniawan': 2, 'mbl': 2, 'singkong': 2, 'situng': 2, 'thoriq': 2, 'nila': 2, 'dsa': 2, 'universe': 2, 'nasionalisasi': 2, 'wayae': 2, 'kartasura': 2, 'demokratik': 2, 'solok': 2, 'sistematis': 2, 'mengesampingkan': 2, 'peranan': 2, 'kesenjangan': 2, 'aparatnya': 2, 'bersenjatanya': 2, 'berlomba': 2, 'eksistensi': 2, 'intervensi': 2, 'tergadai': 2, 'benturan': 2, 'referendum': 2, 'pembantai': 2, 'siak': 2, 'tkn': 2, 'pleno': 2, 'militan': 2, 'kpud': 2, 'sandiago': 2, 'mencengkeram': 2, 'amany': 2, 'curangi': 2, 'batui': 2, 'balantak': 2, 'mencatut': 2, 'buntung': 2, 'didiamkan': 2, 'kemandirian': 2, 'rente': 2, 'rukiah': 2, 'sentuhan': 2, 'menggiring': 2, 'moralitas': 2, 'intimidasi': 2, 'romi': 2, 'masyayikh': 2, 'diuji': 2, 'tl': 2, 'belakangnya': 2, 'pertuni': 2, 'sugih': 2, 'penyambutan': 2, 'pleton': 2, 'hasbullah': 2, 'panggung': 2, 'kertapati': 2, 'hansjerr': 2, 'hektare': 2, 'knc': 2, 'tabur': 2, 'kalkulator': 2, 'kedunguan': 2, 'hura': 2, 'kepepet': 2, 'seabrek': 2, 'mengerek': 2, 'seretnya': 2, 'korporasi': 2, 'kecerobohan': 2, 'sicc': 1, 'sentul': 1, 'dijerat': 1, 'encerkan': 1, 'penisnya': 1, 'jimi': 1, 'hormon': 1, 'dion': 1, 'perbaiki': 1, 'bonekanya': 1, 'nota': 1, 'nominatif': 1, 'reg': 1, 'listing': 1, 'tehnologi': 1, 'kanreg': 1, 'pusbindiklatren': 1, 'wignyo': 1, 'adiyoso': 1, 'titipan': 1, 'memberatkan': 1, 'ditingkatkan': 1, 'kemampuannya': 1, 'bebet': 1, 'pangsar': 1, 'moyangmu': 1, 'skuter': 1, 'kosta': 1, 'rika': 1, 'mencampurnya': 1, 'shadaqoh': 1, 'pangkas': 1, 'berinfak': 1, 'rakyatyang': 1, 'negarabuahahahaaaa': 1, 'menikahkan': 1, 'wapreskh': 1, 'yunuh': 1, 'sneakers': 1, 'bgt': 1, 'sedetil': 1, 'detilnya': 1, 'gentayangan': 1, 'terpencil': 1, 'maroko': 1, 'infaq': 1, 'nurhayani': 1, 'rolls': 1, 'royce': 1, 'danang': 1, 'hantu': 1, 'cynthia': 1, 'dinikahi': 1, 'dimas': 1, 'beck': 1, 'khao': 1, 'khanap': 1, 'tembakkan': 1, 'facseenc': 1, 'penerimanya': 1, 'freedom': 1, 'pegat': 1, 'ngadirojo': 1, 'republican': 1, 'tsbmaa': 1, 'baarokalloh': 1, 'fiikum': 1, 'pbbm': 1, 'barongapakah': 1, 'ibumu': 1, 'diasuransikan': 1, 'culunnya': 1, 'cungkringnya': 1, 'klemer': 1, 'klemernya': 1, 'gugupnya': 1, 'kedunguannya': 1, 'plongonya': 1, 'terkotak': 1, 'trjebak': 1, 'permainannya': 1, 'sepenuh': 1, 'gencarnya': 1, 'kristenisasi': 1, 'palalangon': 1, 'trisha': 1, 'eungelica': 1, 'eliezer': 1, 'ziarah': 1, 'unruk': 1, 'bedera': 1, 'daniel': 1, 'mananta': 1, 'menyebrang': 1, 'kesambet': 1, 'hira': 1, 'droneers': 1, 'asem': 1, 'ombudsman': 1, 'hery': 1, 'menggambar': 1, 'swastika': 1, 'menebang': 1, 'opening': 1, 'zakir': 1, 'emf': 1, 'sandinya': 1, 'mengkambinghitamkan': 1, 'aar': 1, 'akibatkan': 1, 'misteriusnya': 1, 'berasosiasi': 1, 'vade': 1, 'martono': 1, 'penghadang': 1, 'iring': 1, 'ayotolah': 1, 'khomeni': 1, 'diktiristek': 1, 'kemendikbudristek': 1, 'deden': 1, 'bonni': 1, 'koswara': 1, 'diakrenakan': 1, 'nainya': 1, 'sekesi': 1, 'diprint': 1, 'pensil': 1, 'ballpoint': 1, 'penghapus': 1, 'diharap': 1, 'buana': 1, 'meobilisasi': 1, 'melapaor': 1, 'gratisnya': 1, 'angkanya': 1, 'difotokan': 1, 'kalirejo': 1, 'maine': 1, 'lula': 1, 'silva': 1, 'satanis': 1, 'memprotes': 1, 'unpopular': 1, 'popular': 1, 'infertil': 1, 'sayamaka': 1, 'ingkari': 1, 'lois': 1, 'istirahatlah': 1, 'jomblowan': 1, 'jomblomu': 1, 'nyembuhin': 1, 'kelewatan': 1, 'betok': 1, 'dikali': 1, 'radikulis': 1, 'digelapkan': 1, 'rumahnye': 1, 'dibikinin': 1, 'semue': 1, 'belantara': 1, 'pergeseran': 1, 'benzema': 1, 'terpeleset': 1, 'sanglah': 1, 'perosotan': 1, 'nanoteknologi': 1, 'seukuran': 1, 'magnetik': 1, 'memelas': 1, 'dielu': 1, 'elukan': 1, 'kerisna': 1, 'murti': 1, 'menafsirkan': 1, 'apalah': 1, 'jusnya': 1, 'sekamnya': 1, 'mamba': 1, 'rendam': 1, 'najran': 1, 'shedding': 1, 'pmk': 1, 'satgasus': 1, 'mencuat': 1, 'hujani': 1, 'atlantik': 1, 'banjirnya': 1, 'cintanya': 1, 'manusiawi': 1, 'getarkan': 1, 'teriaki': 1, 'buzzrp': 1, 'radikul': 1, 'buzzerp': 1, 'keturunannya': 1, 'mempertontonkan': 1, 'bermesraan': 1, 'terelakkan': 1, 'penganugerahan': 1, 'abw': 1, 'berkarbonasi': 1, 'toulouse': 1, 'montpellier': 1, 'disuguhi': 1, 'france': 1, 'penghormatan': 1, 'rompi': 1, 'ujicoba': 1, 'pengebom': 1, 'keparahan': 1, 'panda': 1, 'ketar': 1, 'ketir': 1, 'tutankhamen': 1, 'katy': 1, 'perry': 1, 'penggantinya': 1, 'menyulap': 1, 'semoderen': 1, 'innaalillaahi': 1, 'wainnaa': 1, 'wati': 1, 'penangkaran': 1, 'tololnya': 1, 'kbngeten': 1, 'hoaxnya': 1, 'bkin': 1, 'mules': 1, 'mlebihi': 1, 'arhansyah': 1, 'inggh': 1, 'kadis': 1, 'sipaholon': 1, 'debit': 1, 'dihargai': 1, 'ristawati': 1, 'purwaningsih': 1, 'dukuh': 1, 'somawangsa': 1, 'saptu': 1, 'tertembak': 1, 'holywings': 1, 'mengibarkannya': 1, 'mullah': 1, 'burka': 1, 'membakarnya': 1, 'mahasa': 1, 'amini': 1, 'krukut': 1, 'menuji': 1, 'sejahtra': 1, 'bersuka': 1, 'guangzhou': 1, 'seksama': 1, 'penyusupan': 1, 'mbokne': 1, 'janchok': 1, 'melampiaskan': 1, 'ketidakpuasan': 1, 'blusuk': 1, 'ciliwung': 1, 'kepanasan': 1, 'str': 1, 'diterlantarkan': 1, 'dikeruk': 1, 'menakjubkannya': 1, 'green': 1, 'screens': 1, 'tekonologi': 1, 'hollywood': 1, 'andil': 1, 'mesum': 1, 'indomilk': 1, 'walaikumsalamw': 1, 'sht': 1, 'seomoga': 1, 'periodekami': 1, 'myanmarsuria': 1, 'aini': 1, 'reservasinya': 1, 'bentang': 1, 'suastiyastu': 1, 'kavin': 1, 'bacokan': 1, 'sidomoyo': 1, 'meraka': 1, 'klitih': 1, 'gangters': 1, 'pengingatan': 1, 'nongkrong': 1, 'membabi': 1, 'adapaun': 1, 'dilintasi': 1, 'monang': 1, 'bhabinmas': 1, 'menggoreng': 1, 'fatsun': 1, 'berkeadaban': 1, 'mengakuisisi': 1, 'jata': 1, 'purwani': 1, 'ec': 1, 'dev': 1, 'trimaksih': 1, 'limapuluh': 1, 'safaruddin': 1, 'dt': 1, 'bandaro': 1, 'walikum': 1, 'pripon': 1, 'kabare': 1, 'kpknl': 1, 'acaro': 1, 'hargane': 1, 'pengankatan': 1, 'kouta': 1, 'sinoeng': 1, 'rachmadi': 1, 'pelamaran': 1, 'sucipto': 1, 'banjaran': 1, 'pertokoan': 1, 'sumoharjo': 1, 'ngronggo': 1, 'pattimura': 1, 'setono': 1, 'pande': 1, 'bertanding': 1, 'leslar': 1, 'swmi': 1, 'istr': 1, 'klwarga': 1, 'kdrt': 1, 'dikawasan': 1, 'satpaamnya': 1, 'diuruk': 1, 'berkalung': 1, 'swrta': 1, 'berakir': 1, 'mrbh': 1, 'mensterilkanya': 1, 'kisinger': 1, 'pulas': 1, 'nasdem': 1, 'segudang': 1, 'adipala': 1, 'hanjut': 1, 'danai': 1, 'rampas': 1, 'amarah': 1, 'memuncak': 1, 'pemalsu': 1, 'diringkus': 1, 'plandemit': 1, 'kemenkesri': 1, 'haaa': 1, 'fight': 1, 'togethernext': 1, 'mobilisasi': 1, 'candi': 1, 'makom': 1, 'petrosida': 1, 'gersik': 1, 'assalamuallaikumwaromatullohi': 1, 'ngadirejo': 1, 'kaligesing': 1, 'waalaikukumussalam': 1, 'wabarokatuh': 1, 'takmirnya': 1, 'nyoto': 1, 'automatis': 1, 'persaingan': 1, 'cecar': 1, 'seangkatan': 1, 'direlokasi': 1, 'alexandria': 1, 'ocasio': 1, 'cortez': 1, 'mengirimkanku': 1, 'hurricaneian': 1, 'kastel': 1, 'berbenteng': 1, 'qiaoming': 1, 'nidhom': 1, 'cafe': 1, 'los': 1, 'angeles': 1, 'sweden': 1, 'bado': 1, 'kick': 1, 'aamar': 1, 'abddallah': 1, 'bermartabat': 1, 'harjalu': 1, 'ptn': 1, 'sha': 1, 'ondok': 1, 'sjahranie': 1, 'timo': 1, 'pambudi': 1, 'kadi': 1, 'njih': 1, 'fleming': 1, 'dilekatkan': 1, 'jahiliyah': 1, 'maksiat': 1, 'tusbol': 1, 'pemicunya': 1, 'dawet': 1, 'tr': 1, 'kanjuruhan': 1, 'polisikan': 1, 'ekad': 1, 'dilancarkan': 1, 'sector': 1, 'formal': 1, 'dirangka': 1, 'membolehkan': 1, 'kepe': 1, 'nario': 1, 'bilakah': 1, 'tempoh': 1, 'selaras': 1, 'timbalan': 1, 'jkkpa': 1, 'bil': 1, 'bertarikh': 1, 'dimulakan': 1, 'ogos': 1, 'terlaporkan': 1, 'diakumulasi': 1, 'dihanguskan': 1, 'trade': 1, 'pgs': 1, 'rsp': 1, 'terbentuk': 1, 'dipandang': 1, 'ukm': 1, 'arroyhan': 1, 'hendriawan': 1, 'boalemo': 1, 'dama': 1, 'cox': 1, 'proklamasikan': 1, 'penceramah': 1, 'bungker': 1, 'kabinetnya': 1, 'pride': 1, 'pork': 1, 'xin': 1, 'dikudeta': 1, 'petersburg': 1, 'bnyk': 1, 'trap': 1, 'mandatory': 1, 'kobra': 1, 'dibalurkan': 1, 'kemnaker': 1, 'bbm': 1, 'disuarakan': 1, 'mendel': 1, 'mawon': 1, 'kuring': 1, 'ngasaan': 1, 'ketempuhan': 1, 'pinjamnya': 1, 'art': 1, 'ember': 1, 'bercucuran': 1, 'dihapuskannya': 1, 'penzaliman': 1, 'bergeming': 1, 'thd': 1, 'sayat': 1, 'tani': 1, 'yuliana': 1, 'ketakutannya': 1, 'kejahatannya': 1, 'muhidin': 1, 'tersungkur': 1, 'showab': 1, 'meteran': 1, 'watt': 1, 'suspend': 1, 'masukkan': 1, 'membantumu': 1, 'darahmu': 1, 'dijebloskan': 1, 'jebloskan': 1, 'memperburuk': 1, 'cinthya': 1, 'ekspansi': 1, 'todong': 1, 'ikea': 1, 'sofa': 1, 'borang': 1, 'duwet': 1, 'karangrejek': 1, 'frans': 1, 'sanadi': 1, 'suropati': 1, 'faksimile': 1, 'pappenas': 1, 'bappenas': 1, 'apak': 1, 'simpong': 1, 'mesuji': 1, 'entri': 1, 'berantas': 1, 'yakjuj': 1, 'makjuj': 1, 'tandus': 1, 'chandrawati': 1, 'richter': 1, 'nugini': 1, 'berdikari': 1, 'sadoka': 1, 'sosis': 1, 'awetkan': 1, 'court': 1, 'ferdian': 1, 'segel': 1, 'memanusiakan': 1, 'dipuji': 1, 'elisabeth': 1, 'queen': 1, 'candrawati': 1, 'kevin': 1, 'wisudanya': 1, 'adonan': 1, 'acquired': 1, 'immunodeficiency': 1, 'sisihkan': 1, 'iluminati': 1, 'meritualkannya': 1, 'copet': 1, 'kartawijaya': 1, 'indocement': 1, 'observatorium': 1, 'bosscha': 1, 'pengabdi': 1, 'kabareskrim': 1, 'mengusut': 1, 'bersenggolan': 1, 'gondrong': 1, 'modo': 1, 'hell': 1, 'straight': 1, 'turning': 1, 'hipnosis': 1, 'riesca': 1, 'rose': 1, 'wong': 1, 'youtubers': 1, 'anthoni': 1, 'salim': 1, 'pertengkaran': 1, 'pengeksekusian': 1, 'menyebalkan': 1, 'inflamasinya': 1, 'denyutan': 1, 'menyertai': 1, 'telingamu': 1, 'paskibraka': 1, 'waropen': 1, 'epy': 1, 'kusnandar': 1, 'santet': 1, 'lazisnu': 1, 'rumpi': 1, 'yapen': 1, 'herzoni': 1, 'saragih': 1, 'proseskan': 1, 'pengibaran': 1, 'logamnya': 1, 'tombol': 1, 'merancang': 1, 'door': 1, 'dimainkan': 1, 'rocker': 1, 'samanya': 1, 'kawah': 1, 'lava': 1, 'benz': 1, 'battrey': 1, 'irregular': 1, 'heavy': 1, 'menstruation': 1, 'memecah': 1, 'peroksidase': 1, 'berkonde': 1, 'genjer': 1, 'akarnya': 1, 'gulanya': 1, 'muntang': 1, 'jaraksari': 1, 'rohidin': 1, 'tapaan': 1, 'berwadah': 1, 'vector': 1, 'vektornya': 1, 'memunculkan': 1, 'berplatform': 1, 'pancong': 1, 'potasium': 1, 'klorida': 1, 'dokomentasi': 1, 'rajanya': 1, 'ramayana': 1, 'jatayu': 1, 'menampakan': 1, 'penanggungan': 1, 'colek': 1, 'adrenal': 1, 'limpa': 1, 'karsinogen': 1, 'langsing': 1, 'dikubur': 1, 'ingatanku': 1, 'bulgur': 1, 'heroik': 1, 'kamper': 1, 'zaenal': 1, 'peroksida': 1, 'menggosokkan': 1, 'belatung': 1, 'lagos': 1, 'tuna': 1, 'susila': 1, 'brin': 1, 'tergolong': 1, 'mengidentifikasi': 1, 'hilary': 1, 'responden': 1, 'menginspirasi': 1, 'kagumi': 1, 'belajarnya': 1, 'srikandi': 1, 'bekuk': 1, 'termudah': 1, 'menumis': 1, 'sensitif': 1, 'aflatoksin': 1, 'ditumis': 1, 'warnanya': 1, 'exavator': 1, 'walder': 1, 'shahbaz': 1, 'gundu': 1, 'screen': 1, 'federasinya': 1, 'berkatilah': 1, 'dighlia': 1, 'lohagara': 1, 'upazila': 1, 'bertiup': 1, 'pelapor': 1, 'badruddin': 1, 'bruce': 1, 'menangislah': 1, 'memumifikasi': 1, 'janinnya': 1, 'zambia': 1, 'berpacaran': 1, 'player': 1, 'rungkad': 1, 'apk': 1, 'semifinal': 1, 'pencinta': 1, 'sepakbola': 1, 'difokuskan': 1, 'penentuan': 1, 'dibabak': 1, 'shinzo': 1, 'pecandu': 1, 'puyer': 1, 'kasubdit': 1, 'maukah': 1, 'didaulat': 1, 'mra': 1, 'dikoar': 1, 'koarkan': 1, 'malone': 1, 'eaff': 1, 'albelian': 1, 'km': 1, 'peer': 1, 'review': 1, 'fertilitas': 1, 'terpajan': 1, 'sutrisno': 1, 'bian': 1, 'simpanse': 1, 'mina': 1, 'merobohkan': 1, 'sylhet': 1, 'sunamganj': 1, 'jhuan': 1, 'mnggu': 1, 'rolling': 1, 'promosikan': 1, 'berprestasi': 1, 'fotokan': 1, 'seera': 1, 'lkukan': 1, 'express': 1, 'bertakwa': 1, 'pagu': 1, 'berpunya': 1, 'always': 1, 'boris': 1, 'menghibur': 1, 'kucincang': 1, 'base': 1, 'migrain': 1, 'vertigo': 1, 'hypertensi': 1, 'ayan': 1, 'step': 1, 'sakitam': 1, 'catt': 1, 'penurun': 1, 'ulangi': 1, 'hyperaktif': 1, 'kusam': 1, 'kemerahan': 1, 'kehitaman': 1, 'mypertamina': 1, 'wero': 1, 'gombong': 1, 'tavrida': 1, 'anaconda': 1, 'terpental': 1, 'seluncuran': 1, 'semangatnya': 1, 'bantah': 1, 'rendahkan': 1, 'berbuntut': 1, 'kecaman': 1, 'menitip': 1, 'ababil': 1, 'termiskin': 1, 'negeripun': 1, 'terbentang': 1, 'scorpion': 1, 'matamu': 1, 'ortodoks': 1, 'semudah': 1, 'apdesi': 1, 'bireuen': 1, 'pelindo': 1, 'ticketing': 1, 'helper': 1, 'curriculum': 1, 'vitae': 1, 'subject': 1, 'tersangkanya': 1, 'penasihatnya': 1, 'dilegalkan': 1, 'attn': 1, 'subki': 1, 'emprit': 1, 'monalisa': 1, 'suharti': 1, 'glastonbury': 1, 'musuhnya': 1, 'santi': 1, 'disebutnya': 1, 'maknanya': 1, 'krimea': 1, 'asep': 1, 'wangsit': 1, 'kejanggalan': 1, 'redwon': 1, 'berhutang': 1, 'leube': 1, 'rempela': 1, 'rakit': 1, 'bpupki': 1, 'takengon': 1, 'ahliwaris': 1, 'rpa': 1, 'hall': 1, 'harry': 1, 'tanoe': 1, 'soedibyo': 1, 'peseta': 1, 'polsek': 1, 'indolakto': 1, 'pian': 1, 'mrp': 1, 'gollath': 1, 'tabuni': 1, 'prp': 1, 'tpm': 1, 'opm': 1, 'pemekaran': 1, 'dob': 1, 'salipkan': 1, 'kacaukan': 1, 'diselidiki': 1, 'kwartir': 1, 'jajah': 1, 'bersyariah': 1, 'memangku': 1, 'berbikini': 1, 'hindutva': 1, 'risau': 1, 'br': 1, 'billion': 1, 'dose': 1, 'monkeyfox': 1, 'coronanya': 1, 'penista': 1, 'roy': 1, 'gempita': 1, 'bombay': 1, 'tamat': 1, 'mmng': 1, 'romantis': 1, 'een': 1, 'ander': 1, 'had': 1, 'heel': 1, 'graag': 1, 'gewoon': 1, 'niets': 1, 'willen': 1, 'done': 1, 'would': 1, 'loved': 1, 'nothing': 1, 'together': 1, 'wheels': 1, 'mobilan': 1, 'frozen': 1, 'grated': 1, 'freezer': 1, 'taburi': 1, 'salad': 1, 'sereal': 1, 'sushi': 1, 'habisnya': 1, 'siakan': 1, 'meremajakan': 1, 'ajaibnya': 1, 'sintetis': 1, 'menyenangkan': 1, 'fandi': 1, 'ninik': 1, 'ira': 1, 'wibawati': 1, 'bkkbn': 1, 'penunjuk': 1, 'cas': 1, 'pemanggil': 1, 'belekan': 1, 'cincau': 1, 'pora': 1, 'ruas': 1, 'koreinasi': 1, 'bergengsi': 1, 'bunglon': 1, 'disentuhnya': 1, 'albert': 1, 'komang': 1, 'nina': 1, 'diprioritaskan': 1, 'rekomen': 1, 'modernisasi': 1, 'rampasan': 1, 'dpe': 1, 'motamba': 1, 'ditekuk': 1, 'tempung': 1, 'gaes': 1, 'mengucap': 1, 'penyuka': 1, 'ambyar': 1, 'linkedin': 1, 'petrogas': 1, 'pelengkap': 1, 'recruitmen': 1, 'ha': 1, 'leres': 1, 'kulo': 1, 'wau': 1, 'ajeng': 1, 'berbiji': 1, 'kenz': 1, 'rubenonsu': 1, 'bertrand': 1, 'gosipartis': 1, 'syahdu': 1, 'kerokan': 1, 'aduk': 1, 'kumurkan': 1, 'dhimas': 1, 'sekadarnya': 1, 'meluangkan': 1, 'kemudahan': 1, 'miko': 1, 'rolib': 1, 'camar': 1, 'febriandi': 1, 'kajari': 1, 'husaini': 1, 'pemersatu': 1, 'ppks': 1, 'mensosialisasikan': 1, 'aswin': 1, 'djafar': 1, 'notifikasi': 1, 'sanggahan': 1, 'penagihan': 1, 'dikartu': 1, 'bush': 1, 'muhasabah': 1, 'kalam': 1, 'mutih': 1, 'mammatus': 1, 'mumbai': 1, 'bersetubuh': 1, 'plang': 1, 'bedono': 1, 'elektron': 1, 'janjian': 1, 'membumbung': 1, 'slogannya': 1, 'laksamana': 1, 'olson': 1, 'azovstal': 1, 'aare': 1, 'joseph': 1, 'stalin': 1, 'vote': 1, 'gelaran': 1, 'delay': 1, 'speech': 1, 'manda': 1, 'mughal': 1, 'kot': 1, 'sherani': 1, 'scoopy': 1, 'ustadzah': 1, 'curi': 1, 'memperparah': 1, 'dideritanya': 1, 'terburu': 1, 'memepercepat': 1, 'topanglah': 1, 'ganteng': 1, 'dibawakan': 1, 'dibaliknya': 1, 'bamukmin': 1, 'sponsornya': 1, 'bapau': 1, 'dnanya': 1, 'pemancing': 1, 'svalbard': 1, 'xavier': 1, 'bettel': 1, 'luxembourg': 1, 'lelakinya': 1, 'gauthier': 1, 'destenay': 1, 'longdress': 1, 'mendoktrin': 1, 'siarkan': 1, 'shanghai': 1, 'pentas': 1, 'rmb': 1, 'melampau': 1, 'mengekspresikan': 1, 'dibedakan': 1, 'birhanya': 1, 'linilah': 1, 'tampar': 1, 'nyengkuyung': 1, 'dpw': 1, 'lebeting': 1, 'pencalonan': 1, 'terjadwal': 1, 'saipul': 1, 'romo': 1, 'kuntadi': 1, 'gagahnya': 1, 'diisikan': 1, 'diusahakan': 1, 'memfitnah': 1, 'meremehkan': 1, 'cerna': 1, 'sebongkah': 1, 'yanto': 1, 'sitorus': 1, 'olesi': 1, 'putting': 1, 'lumpuhkan': 1, 'harfiah': 1, 'jab': 1, 'bando': 1, 'enrekang': 1, 'muchamad': 1, 'berkeping': 1, 'semprul': 1, 'seonggok': 1, 'tebas': 1, 'dihamili': 1, 'wibi': 1, 'andrino': 1, 'karyawati': 1, 'sutiaji': 1, 'pemberhentian': 1, 'dominggus': 1, 'mandacan': 1, 'lakotani': 1, 'crypto': 1, 'bros': 1, 'sponsor': 1, 'ikbal': 1, 'dimutasi': 1, 'twitternya': 1, 'spacex': 1, 'number': 1, 'land': 1, 'discuss': 1, 'mendiskusikan': 1, 'dinosaurs': 1, 'born': 1, 'again': 1, 'insulin': 1, 'dialah': 1, 'nampak': 1, 'kemarahan': 1, 'kamus': 1, 'ragil': 1, 'enny': 1, 'ramdhan': 1, 'tegalgede': 1, 'marshel': 1, 'widianto': 1, 'evangelista': 1, 'perlihatkan': 1, 'santos': 1, 'klitoris': 1, 'terampuni': 1, 'boncengan': 1, 'bertepatan': 1, 'ammar': 1, 'zoni': 1, 'bedak': 1, 'parseling': 1, 'menjalin': 1, 'berprofesi': 1, 'carut': 1, 'marut': 1, 'didapatnya': 1, 'kejiwaan': 1, 'lasso': 1, 'klegen': 1, 'kartoharjo': 1, 'ruku': 1, 'kemeriahan': 1, 'eid': 1, 'mubarak': 1, 'wonderful': 1, 'legendaris': 1, 'bob': 1, 'tutupoly': 1, 'mengenangnya': 1, 'melankolis': 1, 'zamannya': 1, 'widuri': 1, 'penggeledahan': 1, 'gelapkan': 1, 'mioma': 1, 'diuretik': 1, 'dioleskan': 1, 'cairnya': 1, 'balut': 1, 'pencahar': 1, 'ketombe': 1, 'hemoptisis': 1, 'hexaflouride': 1, 'penjelajah': 1, 'ditangguhkan': 1, 'meluber': 1, 'melelang': 1, 'antiknya': 1, 'berpulangnya': 1, 'stefan': 1, 'ulil': 1, 'amri': 1, 'aisah': 1, 'tertimpa': 1, 'mempergunakan': 1, 'sellu': 1, 'seindonesia': 1, 'diomeli': 1, 'hutangnya': 1, 'egois': 1, 'oligarky': 1, 'screenshoot': 1, 'dilaksanakannya': 1, 'khofifa': 1, 'memproklamasikan': 1, 'kuil': 1, 'mengaktifkan': 1, 'terjalin': 1, 'enjoy': 1, 'kesombongan': 1, 'ngawi': 1, 'darpa': 1, 'niaid': 1, 'tahidz': 1, 'heri': 1, 'amanahkan': 1, 'beradaptasi': 1, 'istiadatnya': 1, 'tradisinya': 1, 'berimigrasi': 1, 'berintegrasi': 1, 'xenofobik': 1, 'kengerian': 1, 'xylitol': 1, 'yuliandra': 1, 'syarifah': 1, 'pusdatin': 1, 'rivia': 1, 'intoleransi': 1, 'penyeleksian': 1, 'tidung': 1, 'thoyyib': 1, 'sediakala': 1, 'declaration': 1, 'rights': 1, 'berharta': 1, 'memusingkan': 1, 'merombak': 1, 'hypenic': 1, 'jerk': 1, 'nafasmu': 1, 'rkzdyk': 1, 'mariupol': 1, 'rms': 1, 'stphane': 1, 'bancel': 1, 'moubar': 1, 'afeyan': 1, 'helli': 1, 'hu': 1, 'istajibbb': 1, 'robb': 1, 'berebutan': 1, 'mikrofon': 1, 'kepintaran': 1, 'nyong': 1, 'gedi': 1, 'duwur': 1, 'kiro': 1, 'nba': 1, 'apollo': 1, 'dibangunkan': 1, 'pengeras': 1, 'engking': 1, 'helo': 1, 'mengigau': 1, 'pendudukan': 1, 'maruah': 1, 'gorok': 1, 'oak': 1, 'teka': 1, 'teki': 1, 'hajar': 1, 'adian': 1, 'napitupulu': 1, 'binaan': 1, 'intensitas': 1, 'burned': 1, 'shadows': 1, 'piara': 1, 'vanya': 1, 'opens': 1, 'moscow': 1, 'pencicilan': 1, 'digulirkan': 1, 'ksa': 1, 'menonjolkan': 1, 'bridg': 1, 'krisdayanti': 1, 'dibekap': 1, 'takwa': 1, 'kendiri': 1, 'pamenang': 1, 'bagawanta': 1, 'katang': 1, 'sukorejo': 1, 'ngasem': 1, 'shalom': 1, 'rafael': 1, 'sabinus': 1, 'allteam': 1, 'berjualan': 1, 'salahku': 1, 'cerai': 1, 'permasalahannya': 1, 'zuhur': 1, 'ayla': 1, 'kristine': 1, 'beralamat': 1, 'pringu': 1, 'bululawang': 1, 'digerebek': 1, 'penggerebekan': 1, 'tawas': 1, 'insektisida': 1, 'pengerebekan': 1, 'whatsaap': 1, 'monex': 1, 'investindo': 1, 'menyerbu': 1, 'satsuma': 1, 'feodal': 1, 'daimyo': 1, 'kyushu': 1, 'jenderalnya': 1, 'spesimen': 1, 'citico': 1, 'creek': 1, 'cherokee': 1, 'teropodfosilisasi': 1, 'tampaknya': 1, 'etsu': 1, 'gray': 1, 'tennessee': 1, 'terpelihara': 1, 'pelestariannya': 1, 'imajinasi': 1, 'merekonstruksinya': 1, 'menjulingkan': 1, 'teropong': 1, 'tersapu': 1, 'diidentifikasi': 1, 'appalachiosaurus': 1, 'konservasi': 1, 'pengkodean': 1, 'harvin': 1, 'memperkenalkannya': 1, 'pijakan': 1, 'diputar': 1, 'pembangunannya': 1, 'luciferase': 1, 'scanner': 1, 'ike': 1, 'nurjanah': 1, 'godokan': 1, 'lurr': 1, 'polos': 1, 'dicegat': 1, 'byk': 1, 'sctv': 1, 'petisi': 1, 'rumpun': 1, 'paisan': 1, 'puek': 1, 'mongkol': 1, 'prawit': 1, 'paisal': 1, 'puechmongkol': 1, 'berdebat': 1, 'dasarnya': 1, 'bersukacita': 1, 'normandia': 1, 'dibangkitkan': 1, 'bersenang': 1, 'eastern': 1, 'sabila': 1, 'sierra': 1, 'hadiahmu': 1, 'menghadapinya': 1, 'melata': 1, 'ketenangan': 1, 'hemat': 1, 'juragan': 1, 'penggandaan': 1, 'samakan': 1, 'dilelang': 1, 'motogp': 1, 'soyuz': 1, 'cna': 1, 'mengingatku': 1, 'dirontokkan': 1, 'diratakan': 1, 'dekatnya': 1, 'mengungsi': 1, 'pelaporan': 1, 'ketintang': 1, 'hardaya': 1, 'ngatur': 1, 'baghdad': 1, 'miguel': 1, 'oliveira': 1, 'mambali': 1, 'talua': 1, 'salihah': 1, 'nepal': 1, 'setibanya': 1, 'chongqing': 1, 'lesi': 1, 'kelima': 1, 'omset': 1, 'toraks': 1, 'mukosa': 1, 'menyiratkan': 1, 'meremehkannya': 1, 'er': 1, 'panther': 1, 'treveler': 1, 'perbukitan': 1, 'trip': 1, 'adventure': 1, 'libya': 1, 'batukaropa': 1, 'jahatnya': 1, 'itb': 1, 'ttg': 1, 'aren': 1, 'sanuji': 1, 'pentamerta': 1, 'selamar': 1, 'syahputra': 1, 'pku': 1, 'pakk': 1, 'paseo': 1, 'mitu': 1, 'superpell': 1, 'wippol': 1, 'ultramilk': 1, 'ltr': 1, 'hamami': 1, 'interval': 1, 'nurhaliza': 1, 'kandis': 1, 'viktor': 1, 'siapudan': 1, 'bean': 1, 'kalimah': 1, 'boing': 1, 'meddy': 1, 'mar': 1, 'pelunasan': 1, 'mengedarkan': 1, 'mengevaluasi': 1, 'giral': 1, 'gisella': 1, 'anastasia': 1, 'nia': 1, 'daniati': 1, 'bencinya': 1, 'wayang': 1, 'penyuluhan': 1, 'dangdut': 1, 'meriang': 1, 'canggung': 1, 'chemo': 1, 'equipment': 1, 'miracle': 1, 'hope': 1, 'membajak': 1, 'siup': 1, 'jba': 1, 'trisnawati': 1, 'mengaum': 1, 'dajal': 1, 'mengumandangkan': 1, 'dipermainkan': 1, 'lillahitaala': 1, 'amanahmu': 1, 'rohkman': 1, 'rohim': 1, 'mumin': 1, 'mukabbir': 1, 'menghiraukan': 1, 'tara': 1, 'remehkan': 1, 'mengover': 1, 'rumahmu': 1, 'katapel': 1, 'pendamping': 1, 'ansar': 1, 'bpak': 1, 'dlu': 1, 'gmana': 1, 'nubuat': 1, 'ebay': 1, 'louis': 1, 'ranjang': 1, 'sekelilingnya': 1, 'turnbackhoax': 1, 'melawak': 1, 'resolusi': 1, 'bb': 1, 'membutakan': 1, 'hasina': 1, 'institute': 1, 'burn': 1, 'plastic': 1, 'surgery': 1, 'dhaka': 1, 'anadolu': 1, 'ershad': 1, 'hossain': 1, 'magazine': 1, 'berkumis': 1, 'return': 1, 'shattered': 1, 'europes': 1, 'dreams': 1, 'patrick': 1, 'mulder': 1, 'pahlawanku': 1, 'janjinya': 1, 'peluk': 1, 'bedong': 1, 'menghangatkan': 1, 'icdx': 1, 'febru': 1, 'taing': 1, 'punapi': 1, 'gatra': 1, 'kemenkum': 1, 'telf': 1, 'possi': 1, 'sesempatnya': 1, 'dikau': 1, 'kemenkeu': 1, 'pricelist': 1, 'acaranya': 1, 'bersertifikat': 1, 'brg': 1, 'sovitata': 1, 'berul': 1, 'veloz': 1, 'standart': 1, 'payment': 1, 'finalis': 1, 'teregistrasi': 1, 'unregistrasi': 1, 'arahkan': 1, 'returan': 1, 'terblock': 1, 'urusi': 1, 'rakyatmu': 1, 'bereskan': 1, 'sokan': 1, 'plomasi': 1, 'lans': 1, 'menggotong': 1, 'suaka': 1, 'zigzag': 1, 'fimela': 1, 'chaeyoung': 1, 'timer': 1, 'jobdesc': 1, 'ameena': 1, 'crisis': 1, 'kecelakaaan': 1, 'ledaknya': 1, 'jinakkan': 1, 'selamatt': 1, 'perbankannya': 1, 'pengundian': 1, 'saldonya': 1, 'kesempatannya': 1, 'secretary': 1, 'nyawanyapun': 1, 'ruhnya': 1, 'pasaman': 1, 'waisak': 1, 'nyepi': 1, 'oskadon': 1, 'oskadril': 1, 'paramex': 1, 'andrew': 1, 'shavcenco': 1, 'redoxon': 1, 'alli': 1, 'bimoli': 1, 'masuki': 1, 'menandai': 1, 'didandani': 1, 'bikhu': 1, 'vespa': 1, 'penerjun': 1, 'parasut': 1, 'sutradara': 1, 'sinematik': 1, 'keroknya': 1, 'pkl': 1, 'rising': 1, 'mount': 1, 'kilimanjaro': 1, 'unibraw': 1, 'hota': 1, 'samaran': 1, 'anjeli': 1, 'fans': 1, 'kajol': 1, 'checkin': 1, 'boarding': 1, 'seat': 1, 'pramugarinya': 1, 'penumpangnya': 1, 'esnya': 1, 'hikmahnya': 1, 'shayyiban': 1, 'nafian': 1, 'curahkanlah': 1, 'bukhari': 1, 'pasteur': 1, 'kaliki': 1, 'geno': 1, 'truth': 1, 'singer': 1, 'singkatnya': 1, 'crot': 1, 'terentot': 1, 'maksa': 1, 'luluh': 1, 'lantak': 1, 'obyek': 1, 'pamungkas': 1, 'berdoalah': 1, 'hukumannya': 1, 'darinya': 1, 'sebiji': 1, 'dikisar': 1, 'kemiri': 1, 'pedestrian': 1, 'jenazahnya': 1, 'kutip': 1, 'galeri': 1, 'tuturnya': 1, 'aktris': 1, 'host': 1, 'nathalie': 1, 'holscher': 1, 'taulannya': 1, 'parto': 1, 'azis': 1, 'rafathar': 1, 'wendy': 1, 'steven': 1, 'dude': 1, 'herlino': 1, 'permatacare': 1, 'veron': 1, 'silang': 1, 'hidran': 1, 'mendengarmu': 1, 'melihatmu': 1, 'bersamamu': 1, 'month': 1, 'eunice': 1, 'malamnya': 1, 'local': 1, 'pengabaian': 1, 'mencampurkan': 1, 'sekitarmu': 1, 'keberuntungannya': 1, 'kalundang': 1, 'pangkatan': 1, 'andapun': 1, 'kamp': 1, 'ottawa': 1, 'pipa': 1, 'metafora': 1, 'tanggul': 1, 'pemali': 1, 'transfernya': 1, 'mbk': 1, 'jeremia': 1, 'uus': 1, 'windra': 1, 'otp': 1, 'skotlandia': 1, 'tihar': 1, 'sophian': 1, 'canda': 1, 'mengencinginya': 1, 'quot': 1, 'spesiesnya': 1, 'cakarnya': 1, 'fleksibel': 1, 'menyulitkan': 1, 'mangsa': 1, 'paruhnya': 1, 'menyulitkannya': 1, 'lebangbarang': 1, 'untk': 1, 'sponsorship': 1, 'soraya': 1, 'multigriya': 1, 'misnawi': 1, 'corsec': 1, 'memompa': 1, 'pengingat': 1, 'valentine': 1, 'virza': 1, 'berlian': 1, 'siagian': 1, 'radikalis': 1, 'nguling': 1, 'tersetrum': 1, 'penertiban': 1, 'bivak': 1, 'ashanty': 1, 'kuping': 1, 'korean': 1, 'language': 1, 'adopsition': 1, 'keriting': 1, 'penutur': 1, 'sambas': 1, 'suadara': 1, 'chemtralis': 1, 'rencanakan': 1, 'rancang': 1, 'dinanti': 1, 'coped': 1, 'wab': 1, 'almakmur': 1, 'angaran': 1, 'pemanggilan': 1, 'dibutuhkannya': 1, 'tamansari': 1, 'latifah': 1, 'kissinger': 1, 'basmallah': 1, 'karungan': 1, 'bekam': 1, 'bersarang': 1, 'gabungkan': 1, 'bedanya': 1, 'myom': 1, 'norit': 1, 'vco': 1, 'bayah': 1, 'susulan': 1, 'barbershop': 1, 'cukur': 1, 'pratu': 1, 'madra': 1, 'otaku': 1, 'dikejutkan': 1, 'eiichiro': 1, 'oda': 1, 'ambilkan': 1, 'diblender': 1, 'buatnya': 1, 'bauan': 1, 'mandinya': 1, 'berkerak': 1, 'merontokkan': 1, 'sitrun': 1, 'wabahnya': 1, 'sekongkol': 1, 'bertingkah': 1, 'kebijaksanaan': 1, 'bergabunglah': 1, 'android': 1, 'diremote': 1, 'keep': 1, 'pure': 1, 'arto': 1, 'pamekasan': 1, 'alkaf': 1, 'pencabulan': 1, 'emisi': 1, 'karbor': 1, 'betadine': 1, 'diemban': 1, 'moyangnya': 1, 'ketawanggede': 1, 'lowokwaru': 1, 'sohimah': 1, 'benjamin': 1, 'menjelaskannya': 1, 'fitness': 1, 'ultra': 1, 'violet': 1, 'ultraviolet': 1, 'tameng': 1, 'tetapjagaimanimunaman': 1, 'bordir': 1, 'asimetris': 1, 'pembiaran': 1, 'diperketat': 1, 'legalitasnya': 1, 'terverifikasi': 1, 'musiman': 1, 'bebass': 1, 'euy': 1, 'ceko': 1, 'salvador': 1, 'sleeping': 1, 'tunas': 1, 'dicontohkan': 1, 'kesetrum': 1, 'demodex': 1, 'bertabrakan': 1, 'haneda': 1, 'andora': 1, 'stampel': 1, 'sekuriti': 1, 'kontennya': 1, 'cokelat': 1, 'gagasan': 1, 'klaustrofobia': 1, 'pengusutan': 1, 'kabid': 1, 'widi': 1, 'salwa': 1, 'ariffin': 1, 'grub': 1, 'umroh': 1, 'lies': 1, 'dina': 1, 'liastuti': 1, 'jp': 1, 'fiha': 1, 'yaknes': 1, 'erni': 1, 'nelwan': 1, 'kpti': 1, 'aston': 1, 'driwan': 1, 'panigoro': 1, 'dengungkan': 1, 'ingus': 1, 'seduhlah': 1, 'additive': 1, 'aware': 1, 'kantuk': 1, 'penentang': 1, 'bg': 1, 'abg': 1, 'tolongkan': 1, 'malas': 1, 'seusia': 1, 'peniti': 1, 'mandarin': 1, 'mursal': 1, 'memaparkan': 1, 'ditubuhnya': 1, 'kontribusi': 1, 'forwarding': 1, 'balochistan': 1, 'killing': 1, 'balochs': 1, 'blio': 1, 'kgak': 1, 'hidden': 1, 'tendensi': 1, 'dikalkulasi': 1, 'dikalkulasikan': 1, 'avicii': 1, 'chester': 1, 'bennington': 1, 'bourdain': 1, 'chris': 1, 'cornel': 1, 'dokumenter': 1, 'silent': 1, 'macan': 1, 'tutul': 1, 'mengasuh': 1, 'impala': 1, 'menyaring': 1, 'seiring': 1, 'berjalannya': 1, 'akumulasi': 1, 'seikat': 1, 'indarto': 1, 'ubedilah': 1, 'sistematik': 1, 'terarah': 1, 'upt': 1, 'sidokumpul': 1, 'kramatandap': 1, 'gapurosukolilo': 1, 'terjaga': 1, 'farida': 1, 'oktavianto': 1, 'kipas': 1, 'tirani': 1, 'hakam': 1, 'katarina': 1, 'hilton': 1, 'nations': 1, 'goals': 1, 'dibonuskan': 1, 'sppbj': 1, 'astasurya': 1, 'cibaigo': 1, 'kadisdik': 1, 'dumai': 1, 'yusmanidar': 1, 'nuryakin': 1, 'upin': 1, 'ipin': 1, 'biawak': 1, 'budha': 1, 'florona': 1, 'enteg': 1, 'crona': 1, 'ngerti': 1, 'dayanya': 1, 'maudi': 1, 'dalila': 1, 'jakupovic': 1, 'liam': 1, 'broady': 1, 'tomic': 1, 'meluas': 1, 'foru': 1, 'biblia': 1, 'bii': 1, 'merekamnya': 1, 'faiz': 1, 'bazri': 1, 'kuali': 1, 'divire': 1, 'sumberagung': 1, 'sandler': 1, 'alva': 1, 'membacakan': 1, 'putramu': 1, 'mendidiknya': 1, 'delete': 1, 'ingredients': 1, 'bismuth': 1, 'cadmium': 1, 'cd': 1, 'chromium': 1, 'copper': 1, 'tembaga': 1, 'iron': 1, 'fe': 1, 'lead': 1, 'magnesium': 1, 'manganese': 1, 'nickel': 1, 'selenium': 1, 'tin': 1, 'titanium': 1, 'vanadium': 1, 'kemasukan': 1, 'yupi': 1, 'hamili': 1, 'buram': 1, 'libas': 1, 'rasuah': 1, 'ompong': 1, 'gaduh': 1, 'murangkalih': 1, 'alit': 1, 'hawatos': 1, 'trihapsari': 1, 'hafizah': 1, 'penghafal': 1, 'vaksinator': 1, 'samadi': 1, 'ubedillah': 1, 'corolla': 1, 'pramubakti': 1, 'dijatuhi': 1, 'kearifan': 1, 'liannya': 1, 'diselenggarakannya': 1, 'tamrin': 1, 'adhianto': 1, 'hazmat': 1, 'magneto': 1, 'oma': 1, 'apbdnya': 1, 'cebok': 1, 'setir': 1, 'yakut': 1, 'mejelis': 1, 'ria': 1, 'final': 1, 'doping': 1, 'suprais': 1, 'kasirnya': 1, 'standarnya': 1, 'kembalian': 1, 'bosnya': 1, 'kadesbeauty': 1, 'amoniak': 1, 'penyaji': 1, 'koki': 1, 'mengobarkan': 1, 'disajikan': 1, 'sepotong': 1, 'direndam': 1, 'mec': 1, 'smoothie': 1, 'canica': 1, 'eufemisme': 1, 'deodoran': 1, 'dikelantang': 1, 'disegarkan': 1, 'dicat': 1, 'dicelupkan': 1, 'melcocha': 1, 'terhidrogenasi': 1, 'mikroba': 1, 'menemu': 1, 'sumurnya': 1, 'mempekerjakan': 1, 'teolog': 1, 'busur': 1, 'tiran': 1, 'katakanya': 1, 'tubuhku': 1, 'tunggul': 1, 'kecenderungannya': 1, 'pemungutan': 1, 'menghitungnya': 1, 'bungkuslah': 1, 'buk': 1, 'namamu': 1, 'blt': 1, 'ledak': 1, 'ketangkap': 1, 'eppata': 1, 'masin': 1, 'ditaruhnya': 1, 'dipot': 1, 'bamiyan': 1, 'kebiadaban': 1, 'dimaafkan': 1, 'papaloker': 1, 'ketenteraman': 1, 'menegakkan': 1, 'berkedudukan': 1, 'kejuaraan': 1, 'rembang': 1, 'expo': 1, 'vgr': 1, 'bensinnya': 1, 'des': 1, 'bst': 1, 'fisikawan': 1, 'kemenangannya': 1, 'endokrinologi': 1, 'dipasangi': 1, 'jorgen': 1, 'nillson': 1, 'unfortunate': 1, 'coincidence': 1, 'understanding': 1, 'variant': 1, 'theresa': 1, 'bishop': 1, 'haryoto': 1, 'underpad': 1, 'tompokersan': 1, 'pendopo': 1, 'dam': 1, 'sgm': 1, 'rakat': 1, 'relamawan': 1, 'musiknya': 1, 'ikutilah': 1, 'gerejawi': 1, 'yaqul': 1, 'bions': 1, 'bni': 1, 'terperosok': 1, 'mengecam': 1, 'wagub': 1, 'dibayari': 1, 'kurung': 1, 'brmain': 1, 'dirmah': 1, 'diingatkan': 1, 'claus': 1, 'didada': 1, 'tataplah': 1, 'hargailah': 1, 'diakuisi': 1, 'guling': 1, 'bengong': 1, 'doku': 1, 'membawanya': 1, 'diedarkan': 1, 'pemerkosaan': 1, 'ribery': 1, 'bayern': 1, 'buyer': 1, 'membuatkan': 1, 'tamil': 1, 'nadu': 1, 'jendral': 1, 'biipin': 1, 'dscc': 1, 'runtuhkan': 1, 'sepinya': 1, 'dihancurkannya': 1, 'gerejanya': 1, 'kaji': 1, 'pastur': 1, 'sexual': 1, 'pasturnya': 1, 'wuling': 1, 'welirang': 1, 'menghilangkannya': 1, 'bermitra': 1, 'patogen': 1, 'terrorist': 1, 'pamlap': 1, 'fiksi': 1, 'omikron': 1, 'meow': 1, 'terdahulu': 1, 'colds': 1, 'soreness': 1, 'kaitan': 1, 'belumlah': 1, 'chew': 1, 'praise': 1, 'tree': 1, 'mosque': 1, 'should': 1, 'started': 1, 'ramil': 1, 'keutuhan': 1, 'tyas': 1, 'lentikular': 1, 'fuji': 1, 'remi': 1, 'indofood': 1, 'sidempuan': 1, 'irsan': 1, 'artefak': 1, 'varrel': 1, 'bramasta': 1, 'mulawarman': 1, 'irish': 1, 'renta': 1, 'rumini': 1, 'berpelukan': 1, 'penambangan': 1, 'marscoin': 1, 'fotografi': 1, 'ultrasonik': 1, 'uplink': 1, 'downlink': 1, 'megapiksel': 1, 'prosesor': 1, 'snapdragon': 1, 'terabit': 1, 'dieliminasi': 1, 'terpengaruh': 1, 'bjb': 1, 'mpus': 1, 'bahtera': 1, 'nuh': 1, 'ararat': 1, 'island': 1, 'kedahsyatannya': 1, 'aritmia': 1, 'perifer': 1, 'komplikasi': 1, 'kecualikan': 1, 'doski': 1, 'walah': 1, 'utan': 1, 'mengulurkan': 1, 'epsom': 1, 'baking': 1, 'indian': 1, 'healing': 1, 'clay': 1, 'pailin': 1, 'berlanjut': 1, 'dariku': 1, 'heang': 1, 'ugur': 1, 'tech': 1, 'band': 1, 'partisipan': 1, 'muaro': 1, 'berjangka': 1, 'wef': 1, 'daarul': 1, 'randegan': 1, 'fairid': 1, 'naparin': 1, 'diludahi': 1, 'challenge': 1, 'moore': 1, 'cosplay': 1, 'matahariku': 1, 'schneider': 1, 'tertahankan': 1, 'mandated': 1, 'vaccines': 1, 'efisien': 1, 'lorenzo': 1, 'dihapuskan': 1, 'shaheen': 1, 'ngegym': 1, 'nyalon': 1, 'forensik': 1, 'hnw': 1, 'berlabel': 1, 'dimuat': 1, 'pemanjat': 1, 'junot': 1, 'balinews': 1, 'singaraja': 1, 'bangli': 1, 'karangasem': 1, 'klungkung': 1, 'kencana': 1, 'kekeringan': 1, 'liberalis': 1, 'mentertawakan': 1, 'turunlah': 1, 'menyandarkan': 1, 'berfirmanku': 1, 'menghalanginya': 1, 'cuba': 1, 'lebah': 1, 'labah': 1, 'ady': 1, 'miding': 1, 'sarawak': 1, 'metabolisme': 1, 'terpenol': 1, 'glucoside': 1, 'spermanya': 1, 'berejakulasi': 1, 'galon': 1, 'betina': 1, 'pospay': 1, 'jabat': 1, 'kedepanya': 1, 'sarkasme': 1, 'technologies': 1, 'geostationer': 1, 'tecnologies': 1, 'sts': 1, 'rusmadi': 1, 'lorraine': 1, 'menyepelekan': 1, 'keseharian': 1, 'menghindar': 1, 'tidurmu': 1, 'rangkuman': 1, 'nicky': 1, 'umbara': 1, 'sutisna': 1, 'tombo': 1, 'surganya': 1, 'ilaihirajiun': 1, 'banned': 1, 'cekatan': 1, 'perangi': 1, 'samosi': 1, 'vandiko': 1, 'helicobacter': 1, 'penganti': 1, 'bendaharawan': 1, 'btpn': 1, 'mengungguli': 1, 'berizin': 1, 'jackpot': 1, 'ditsiber': 1, 'sewa': 1, 'mengenang': 1, 'mengademkan': 1, 'billie': 1, 'eilish': 1, 'kawanku': 1, 'senator': 1, 'gottbener': 1, 'iboro': 1, 'boro': 1, 'finish': 1, 'jajal': 1, 'gass': 1, 'tepar': 1, 'sentil': 1, 'sengketa': 1, 'sepeser': 1, 'mengunggahnya': 1, 'ucc': 1, 'puspa': 1, 'astral': 1, 'atmosfer': 1, 'kacang': 1, 'diameter': 1, 'kilatan': 1, 'sepersekian': 1, 'corporindo': 1, 'bukopin': 1, 'qnb': 1, 'qpsc': 1, 'sadikin': 1, 'kurs': 1, 'dilunasinya': 1, 'tatik': 1, 'ariyaini': 1, 'febuari': 1, 'menariknya': 1, 'sepekan': 1, 'riuh': 1, 'penulisan': 1, 'tesisnya': 1, 'pujian': 1, 'formulanya': 1, 'didasarkan': 1, 'produknya': 1, 'recommended': 1, 'facestore': 1, 'liswati': 1, 'imergency': 1, 'vang': 1, 'menanggapi': 1, 'unboxing': 1, 'dukati': 1, 'dicolong': 1, 'innalillahl': 1, 'expose': 1, 'dessi': 1, 'ratnasari': 1, 'tetua': 1, 'dio': 1, 'sua': 1, 'jolo': 1, 'male': 1, 'torroan': 1, 'bisshowab': 1, 'rasuki': 1, 'nabilang': 1, 'spinx': 1, 'menyemburkan': 1, 'scientists': 1, 'fabiayyi': 1, 'irobbikuma': 1, 'tukadzibaan': 1, 'terbakarnya': 1, 'beyaz': 1, 'vanesa': 1, 'mempawah': 1, 'kemsos': 1, 'aminatun': 1, 'habibah': 1, 'rachmat': 1, 'kluarga': 1, 'gres': 1, 'bias': 1, 'cicilnya': 1, 'hanyutkan': 1, 'ketularan': 1, 'deposito': 1, 'shot': 1, 'tersegel': 1, 'menggores': 1, 'amigdala': 1, 'fuckshit': 1, 'fuck': 1, 'firmankan': 1, 'sabdakan': 1, 'catalunya': 1, 'barca': 1, 'rayo': 1, 'vallecano': 1, 'catalan': 1, 'apik': 1, 'performa': 1, 'mahjabin': 1, 'hakimi': 1, 'rano': 1, 'rome': 1, 'diaspora': 1, 'him': 1, 'ditekuni': 1, 'manfaatkan': 1, 'berwisata': 1, 'mentang': 1, 'biayai': 1, 'didakwa': 1, 'maspion': 1, 'waria': 1, 'interaksinya': 1, 'copas': 1, 'tergelitik': 1, 'sayapun': 1, 'pempek': 1, 'kiya': 1, 'literan': 1, 'wajan': 1, 'muncrat': 1, 'penangannya': 1, 'kedokter': 1, 'harmonis': 1, 'adaptif': 1, 'kolaboratif': 1, 'sintesis': 1, 'sintelis': 1, 'kpjr': 1, 'depo': 1, 'satker': 1, 'rel': 1, 'gauth': 1, 'math': 1, 'whitby': 1, 'durham': 1, 'menormalisasi': 1, 'gel': 1, 'ba': 1, 'khairurazzak': 1, 'alhafizi': 1, 'keronglong': 1, 'suralaga': 1, 'mukkaromah': 1, 'tahfis': 1, 'khalayak': 1, 'dadamu': 1, 'sekampung': 1, 'rombongannya': 1, 'invented': 1, 'ejekan': 1, 'teken': 1, 'khathath': 1, 'saptono': 1, 'wan': 1, 'identitasmu': 1, 'suratnya': 1, 'halmahera': 1, 'berideologikan': 1, 'bernegara': 1, 'nanggroe': 1, 'purussaurus': 1, 'alan': 1, 'penginapan': 1, 'komsumsi': 1, 'ditalangi': 1, 'pemimpinnya': 1, 'dah': 1, 'jantungmu': 1, 'hsb': 1, 'ummu': 1, 'nauroh': 1, 'perkenal': 1, 'pandu': 1, 'kesuma': 1, 'lampsell': 1, 'nanang': 1, 'lampsel': 1, 'kabin': 1, 'jabodebek': 1, 'kalie': 1, 'nista': 1, 'berhalusinasi': 1, 'perdengarkan': 1, 'dikunci': 1, 'lirik': 1, 'didengar': 1, 'mikaeel': 1, 'barzah': 1, 'gujarat': 1, 'mulutku': 1, 'copypaste': 1, 'sakaratul': 1, 'timbun': 1, 'keramik': 1, 'tanggungan': 1, 'melangkai': 1, 'bastian': 1, 'seeliam': 1, 'hyundai': 1, 'palisade': 1, 'bablas': 1, 'habibuna': 1, 'sungguhan': 1, 'jihyo': 1, 'nescafe': 1, 'orginal': 1, 'pakem': 1, 'jontor': 1, 'nyonyoren': 1, 'gemetar': 1, 'ngemil': 1, 'vicky': 1, 'prastyo': 1, 'mri': 1, 'pengedaran': 1, 'rawatan': 1, 'ditebus': 1, 'merencanakan': 1, 'jisu': 1, 'peretas': 1, 'terkeren': 1, 'joka': 1, 'patriarki': 1, 'kolot': 1, 'tebalnya': 1, 'prianya': 1, 'sambi': 1, 'pembuatnya': 1, 'memborongnya': 1, 'ragukan': 1, 'tempeli': 1, 'kibar': 1, 'kustaryo': 1, 'manggara': 1, 'quality': 1, 'experience': 1, 'disclaimer': 1, 'footage': 1, 'terms': 1, 'permitted': 1, 'statute': 1, 'purpose': 1, 'such': 1, 'education': 1, 'interpretation': 1, 'category': 1, 'politics': 1, 'yuni': 1, 'kentang': 1, 'kolagen': 1, 'menginjakkan': 1, 'mengkhotbahkan': 1, 'teorinya': 1, 'iss': 1, 'ditumpangi': 1, 'mengorbit': 1, 'paradoks': 1, 'kembarnya': 1, 'identiknya': 1, 'rkz': 1, 'kluster': 1, 'indrapura': 1, 'toraja': 1, 'theofilus': 1, 'allorerung': 1, 'aka': 1, 'sketsa': 1, 'yama': 1, 'gunadi': 1, 'tetesan': 1, 'mengumpalkannya': 1, 'merahnya': 1, 'mendonorkannya': 1, 'berinteraksi': 1, 'manrob': 1, 'kegunaannya': 1, 'asah': 1, 'akalmu': 1, 'nardji': 1, 'brands': 1, 'belanjakan': 1, 'petaka': 1, 'provokatif': 1, 'fadlizon': 1, 'tamatlah': 1, 'nikmat': 1, 'melapisi': 1, 'dermawan': 1, 'bhakti': 1, 'tabloid': 1, 'singgah': 1, 'jompo': 1, 'bermaksud': 1, 'perkenankanlah': 1, 'sesibuk': 1, 'semenit': 1, 'gama': 1, 'makhamah': 1, 'allahuakbar': 1, 'inokulasi': 1, 'melbourne': 1, 'reshuffle': 1, 'kaimana': 1, 'convid': 1, 'masril': 1, 'alibaba': 1, 'buyarkan': 1, 'flazz': 1, 'paytrends': 1, 'mansyur': 1, 'utamakanlah': 1, 'mendepositkan': 1, 'trumon': 1, 'wwf': 1, 'julian': 1, 'huxley': 1, 'peter': 1, 'markham': 1, 'yolanda': 1, 'far': 1, 'bernhard': 1, 'zur': 1, 'lippe': 1, 'biesterfeld': 1, 'philip': 1, 'mountbatten': 1, 'duke': 1, 'edinburgh': 1, 'edward': 1, 'nicholson': 1, 'guy': 1, 'mountfort': 1, 'godfrey': 1, 'sosialis': 1, 'unicef': 1, 'kediktatoran': 1, 'kemotraphy': 1, 'sekecil': 1, 'kedung': 1, 'karma': 1, 'revi': 1, 'mariska': 1, 'pemilihnya': 1, 'duel': 1, 'srimulyani': 1, 'nafis': 1, 'mempersilakan': 1, 'merapatkan': 1, 'syamsia': 1, 'hassani': 1, 'bermurah': 1, 'bersimpati': 1, 'terpenting': 1, 'klasik': 1, 'mempromosikan': 1, 'teknisnya': 1, 'crispr': 1, 'dimodifikasi': 1, 'berkonsultasi': 1, 'dilibatkan': 1, 'pengeditan': 1, 'etis': 1, 'tuhanku': 1, 'menimpakan': 1, 'ankabut': 1, 'utsmaniyyah': 1, 'utsmaniy': 1, 'pelopor': 1, 'pratowo': 1, 'dibayangi': 1, 'ngawitan': 1, 'kamari': 1, 'kapayunna': 1, 'meuli': 1, 'lotek': 1, 'cendol': 1, 'cireng': 1, 'jeung': 1, 'sajabana': 1, 'can': 1, 'eta': 1, 'belaan': 1, 'mun': 1, 'cik': 1, 'mikil': 1, 'incu': 1, 'kahareup': 1, 'dzohir': 1, 'weweg': 1, 'keimanan': 1, 'sauyunan': 1, 'melaan': 1, 'cai': 1, 'sorangan': 1, 'egawati': 1, 'rspp': 1, 'dituntun': 1, 'rumania': 1, 'questionnaire': 1, 'change': 1, 'get': 1, 'madunya': 1, 'mengaitkan': 1, 'pemuja': 1, 'gigit': 1, 'wtc': 1, 'danabansosper': 1, 'tamina': 1, 'patrio': 1, 'tontonan': 1, 'mendengarnya': 1, 'bichusnil': 1, 'timah': 1, 'allo': 1, 'kezol': 1, 'ntahkan': 1, 'amar': 1, 'mungkar': 1, 'hutama': 1, 'sampingan': 1, 'prop': 1, 'keterampilannya': 1, 'furniture': 1, 'menjahit': 1, 'boga': 1, 'menaati': 1, 'peroleh': 1, 'futsal': 1, 'basket': 1, 'bercocok': 1, 'berkebun': 1, 'pembudidayaan': 1, 'hias': 1, 'apotik': 1, 'pelatihannya': 1, 'ondong': 1, 'mengedukasi': 1, 'mensosialisasi': 1, 'komunikasikan': 1, 'tangi': 1, 'parman': 1, 'kamboja': 1, 'gambut': 1, 'anggang': 1, 'basirih': 1, 'oppa': 1, 'cocokologi': 1, 'tergoblok': 1, 'seantero': 1, 'lahadia': 1, 'tampakkan': 1, 'pung': 1, 'hgu': 1, 'ketawa': 1, 'rismaharini': 1, 'genius': 1, 'dinamakan': 1, 'ca': 1, 'pemetaan': 1, 'indihome': 1, 'mengudara': 1, 'jenewa': 1, 'baya': 1, 'geserkan': 1, 'menggolongkan': 1, 'direlakan': 1, 'apaan': 1, 'googling': 1, 'lslam': 1, 'lenyapkan': 1, 'olahan': 1, 'endang': 1, 'mencukupi': 1, 'uht': 1, 'topping': 1, 'menyeduh': 1, 'tertuang': 1, 'ucok': 1, 'menanyakan': 1, 'payme': 1, 'digunakannya': 1, 'rez': 1, 'otoriter': 1, 'perin': 1, 'bertanduk': 1, 'locator': 1, 'usu': 1, 'awards': 1, 'jabung': 1, 'hairan': 1, 'journey': 1, 'pipit': 1, 'dedaunan': 1, 'layu': 1, 'serah': 1, 'ketum': 1, 'saloka': 1, 'pencerahan': 1, 'terma': 1, 'tinta': 1, 'meresap': 1, 'mempercayainya': 1, 'direstui': 1, 'frogmouth': 1, 'sere': 1, 'cat': 1, 'ghb': 1, 'inklusi': 1, 'salsabila': 1, 'sakral': 1, 'goa': 1, 'tao': 1, 'dolan': 1, 'astagfirullahalazim': 1, 'grasi': 1, 'alert': 1, 'alpukat': 1, 'sosoknya': 1, 'pencarian': 1, 'tjhai': 1, 'chui': 1, 'mahyeldi': 1, 'ansharullah': 1, 'komering': 1, 'sutikman': 1, 'tjandra': 1, 'pinangki': 1, 'belasungkawa': 1, 'stayhome': 1, 'dngan': 1, 'inangnya': 1, 'jnis': 1, 'casi': 1, 'shirota': 1, 'diar': 1, 'konstipasi': 1, 'klainan': 1, 'stiap': 1, 'sl': 1, 'brpran': 1, 'yuk': 1, 'prayfor': 1, 'melekat': 1, 'melepaskannya': 1, 'menghancurkannya': 1, 'berurusan': 1, 'kadarnya': 1, 'bolehkah': 1, 'apotek': 1, 'prodok': 1, 'mitraku': 1, 'bdf': 1, 'separuh': 1, 'usulannya': 1, 'digubris': 1, 'agendakan': 1, 'sateuacana': 1, 'tabarokallah': 1, 'penangkalnya': 1, 'berlagak': 1, 'muammar': 1, 'gaddafi': 1, 'molnupiravir': 1, 'safiya': 1, 'firozi': 1, 'dirajam': 1, 'mengapung': 1, 'madagaskar': 1, 'pengendalinya': 1, 'pendananya': 1, 'jami': 1, 'rayuan': 1, 'eti': 1, 'sigit': 1, 'alhamdulillahiya': 1, 'poliandri': 1, 'menggratiskan': 1, 'tutur': 1, 'setiana': 1, 'rampung': 1, 'wardiana': 1, 'persada': 1, 'meluapnya': 1, 'ngarai': 1, 'kompeni': 1, 'penggundulan': 1, 'kresna': 1, 'investama': 1, 'discovery': 1, 'exit': 1, 'fiction': 1, 'umami': 1, 'gradika': 1, 'sejawa': 1, 'ofisial': 1, 'pemulutan': 1, 'ilir': 1, 'dwiyono': 1, 'cena': 1, 'timpuk': 1, 'dirantai': 1, 'inti': 1, 'clossing': 1, 'kenamaan': 1, 'backing': 1, 'berkumandang': 1, 'direspon': 1, 'dikagumi': 1, 'bereaksi': 1, 'kuhles': 1, 'aisha': 1, 'memberinya': 1, 'jahit': 1, 'nyawaku': 1, 'bolak': 1, 'seksi': 1, 'ancana': 1, 'hang': 1, 'tuah': 1, 'frontage': 1, 'mengemban': 1, 'melawi': 1, 'powerpoint': 1, 'merkurius': 1, 'venus': 1, 'pianonya': 1, 'pernak': 1, 'panorama': 1, 'berguling': 1, 'menuruni': 1, 'suprana': 1, 'sulianti': 1, 'saroso': 1, 'sahabatnya': 1, 'pertambahan': 1, 'membendung': 1, 'sekeliling': 1, 'dirumahkan': 1, 'java': 1, 'banana': 1, 'vanilla': 1, 'hawaii': 1, 'sata': 1, 'harjo': 1, 'suwito': 1, 'dimainkannya': 1, 'vision': 1, 'mengapresiasi': 1, 'nuzulul': 1, 'tape': 1, 'fermentasinya': 1, 'spr': 1, 'fant': 1, 'nyir': 1, 'niho': 1, 'bejejer': 1, 'peradilan': 1, 'prim': 1, 'haryadi': 1, 'scenario': 1, 'future': 1, 'prayers': 1, 'melenceng': 1, 'kompilasi': 1, 'diteror': 1, 'muis': 1, 'individual': 1, 'picture': 1, 'paint': 1, 'thousand': 1, 'hihi': 1, 'nwo': 1, 'force': 1, 'ruwetnesia': 1, 'melempari': 1, 'hy': 1, 'kecap': 1, 'mayonesnya': 1, 'berorganisasi': 1, 'urgently': 1, 'needed': 1, 'crew': 1, 'runner': 1, 'sederejat': 1, 'desc': 1, 'terlaksananya': 1, 'kontingen': 1, 'penalti': 1, 'arie': 1, 'bengawan': 1, 'menjauhi': 1, 'satanic': 1, 'factcheker': 1, 'momota': 1, 'abdulllah': 1, 'christie': 1, 'hermanto': 1, 'iis': 1, 'denis': 1, 'selesma': 1, 'direka': 1, 'wales': 1, 'checkup': 1, 'simpel': 1, 'mengimami': 1, 'bolango': 1, 'namba': 1, 'dialih': 1, 'terkabulkan': 1, 'jta': 1, 'login': 1, 'were': 1, 'wika': 1, 'wikaikon': 1, 'khazar': 1, 'yuli': 1, 'setyowati': 1, 'ampura': 1, 'wenten': 1, 'mewali': 1, 'shooting': 1, 'teaser': 1, 'jayaprana': 1, 'layinsari': 1, 'mengedit': 1, 'matur': 1, 'suksama': 1, 'mogi': 1, 'svaha': 1, 'jen': 1, 'mardjo': 1, 'subiandono': 1, 'paranoid': 1, 'josephine': 1, 'myrtle': 1, 'penderitanya': 1, 'kembaran': 1, 'kembarannya': 1, 'keunikan': 1, 'sirkus': 1, 'penampilannya': 1, 'bicknell': 1, 'pullman': 1, 'oligarki': 1, 'jajarannya': 1, 'longmarch': 1, 'shopeefood': 1, 'satria': 1, 'roziq': 1, 'semisal': 1, 'atasan': 1, 'abimanyu': 1, 'poncoatmojo': 1, 'iswinarno': 1, 'madya': 1, 'hancuran': 1, 'belawan': 1, 'kulitmu': 1, 'terhidrasi': 1, 'lajang': 1, 'kuyup': 1, 'jemur': 1, 'let': 1, 'kogasgabpad': 1, 'guide': 1, 'kemas': 1, 'pusdalop': 1, 'telp': 1, 'sejoli': 1, 'senonoh': 1, 'ditertawai': 1, 'kovalense': 1, 'nurhidayah': 1, 'bubay': 1, 'charela': 1, 'selmei': 1, 'meltan': 1, 'savana': 1, 'fitriani': 1, 'desiana': 1, 'almer': 1, 'rakadika': 1, 'risyad': 1, 'imaniar': 1, 'sapaat': 1, 'alidin': 1, 'wanda': 1, 'fatricia': 1, 'destya': 1, 'utami': 1, 'anisa': 1, 'amalia': 1, 'faras': 1, 'saskia': 1, 'samara': 1, 'nurwansyah': 1, 'sf': 1, 'anggi': 1, 'sumanda': 1, 'baskoro': 1, 'dibodohkan': 1, 'dimiskin': 1, 'penyaringan': 1, 'hemoglobin': 1, 'karl': 1, 'marx': 1, 'menularkan': 1, 'wasyukurillah': 1, 'kedzolimannya': 1, 'senjatanya': 1, 'maksudku': 1, 'hausnya': 1, 'pemangku': 1, 'digratiskan': 1, 'loss': 1, 'tawarin': 1, 'dihisap': 1, 'arafah': 1, 'hogwarts': 1, 'ciplukan': 1, 'soobin': 1, 'blik': 1, 'ikat': 1, 'uamtbislam': 1, 'kerangkeng': 1, 'malulah': 1, 'terasering': 1, 'wojtek': 1, 'jagasatru': 1, 'gerup': 1, 'teknologinya': 1, 'mengembangkannya': 1, 'menghipotesiskan': 1, 'membicarakannya': 1, 'elsevier': 1, 'pubmed': 1, 'dipaparkan': 1, 'intervensional': 1, 'hijriah': 1, 'sesederhana': 1, 'incar': 1, 'pembencinya': 1, 'menantunya': 1, 'menyerangnya': 1, 'chaplin': 1, 'keranjingan': 1, 'mengimpitnya': 1, 'terketuk': 1, 'terhadapnya': 1, 'capaian': 1, 'lindungilah': 1, 'nawacitanya': 1, 'hearthstone': 1, 'games': 1, 'sirnakanlah': 1, 'ujikan': 1, 'keperkasaan': 1, 'drecpecs': 1, 'positifnya': 1, 'kesehatannya': 1, 'mengevakuasi': 1, 'prize': 1, 'winner': 1, 'unacceptable': 1, 'lifesitenews': 1, 'konstituen': 1, 'langkapnya': 1, 'pulitzer': 1, 'kuba': 1, 'castro': 1, 'che': 1, 'guevara': 1, 'kericuhan': 1, 'mengabul': 1, 'kesimpulannya': 1, 'invalid': 1, 'ngos': 1, 'berduaan': 1, 'kemaren': 1, 'pantura': 1, 'persendian': 1, 'sreg': 1, 'taktis': 1, 'penyelaman': 1, 'koi': 1, 'serumah': 1, 'susut': 1, 'peppy': 1, 'sirene': 1, 'paip': 1, 'perniagaan': 1, 'pinus': 1, 'hermansyah': 1, 'heveanita': 1, 'gunaryanti': 1, 'nelson': 1, 'pomalingo': 1, 'indragiri': 1, 'rezita': 1, 'meylani': 1, 'yopi': 1, 'lebong': 1, 'kopli': 1, 'ansori': 1, 'minahasa': 1, 'christiany': 1, 'eugenia': 1, 'tetty': 1, 'paruntu': 1, 'ketatnya': 1, 'plandemi': 1, 'berkeliling': 1, 'gontor': 1, 'mantingan': 1, 'cc': 1, 'membilas': 1, 'spluit': 1, 'azabnya': 1, 'srimulat': 1, 'karyamu': 1, 'tambal': 1, 'bot': 1, 'fakfak': 1, 'metal': 1, 'detector': 1, 'beballama': 1, 'balasan': 1, 'ridai': 1, 'bahannya': 1, 'imvermectin': 1, 'sujatmiko': 1, 'menurutku': 1, 'pemujaan': 1, 'sambari': 1, 'sedaya': 1, 'broker': 1, 'forex': 1, 'investing': 1, 'dzikir': 1, 'adzan': 1, 'kandangan': 1, 'yoko': 1, 'putranya': 1, 'sean': 1, 'cibodas': 1, 'ditipu': 1, 'ngemplak': 1, 'ugal': 1, 'ugalan': 1, 'pulogadung': 1, 'lionel': 1, 'muslimku': 1, 'ems': 1, 'mengkonfirmasi': 1, 'laminating': 1, 'ketersediaan': 1, 'persentasenya': 1, 'pendapatannya': 1, 'pasan': 1, 'tinju': 1, 'giro': 1, 'aerator': 1, 'akuarium': 1, 'langkat': 1, 'perangin': 1, 'ketidakmampuan': 1, 'sanusi': 1, 'must': 1, 'ahrus': 1, 'quantity': 1, 'azytromycin': 1, 'favipiravir': 1, 'avugan': 1, 'indofarma': 1, 'oxidant': 1, 'fluimucili': 1, 'hanay': 1, 'doker': 1, 'teruji': 1, 'biofarmasi': 1, 'incorporate': 1, 'arogan': 1, 'palmerah': 1, 'jatinegara': 1, 'cipinang': 1, 'tambora': 1, 'johar': 1, 'cempaka': 1, 'cakung': 1, 'gadung': 1, 'kemang': 1, 'hidupkan': 1, 'binasa': 1, 'ajinamoto': 1, 'menganduk': 1, 'daesh': 1, 'kritikus': 1, 'paternalistik': 1, 'seksis': 1, 'penyiaran': 1, 'kliring': 1, 'basic': 1, 'laznas': 1, 'yuwono': 1, 'biomed': 1, 'pencegahannya': 1, 'terangkan': 1, 'prinsipnya': 1, 'bertiga': 1, 'mencolok': 1, 'copetnya': 1, 'berdagang': 1, 'luruskan': 1, 'berkaki': 1, 'telecom': 1, 'zulfukar': 1, 'teri': 1, 'deni': 1, 'pepih': 1, 'kalma': 1, 'lailahaillallah': 1, 'diperlakukan': 1, 'berminggu': 1, 'kustodian': 1, 'gelorakan': 1, 'kesinambungan': 1, 'harha': 1, 'tabok': 1, 'akhiri': 1, 'rhs': 1, 'tn': 1, 'penayangan': 1, 'sadari': 1, 'dinamai': 1, 'terhinggap': 1, 'dijauhi': 1, 'kucilkan': 1, 'wendi': 1, 'dihidangkan': 1, 'yudeo': 1, 'keagamaannya': 1, 'kotamadya': 1, 'sekularisme': 1, 'berpenduduk': 1, 'luasnya': 1, 'tanyakan': 1, 'anggoro': 1, 'ruwanto': 1, 'azitromycin': 1, 'zitrothromax': 1, 'fluvir': 1, 'fluimucil': 1, 'sanmol': 1, 'multi': 1, 'iu': 1, 'lianghua': 1, 'didapuk': 1, 'boxiss': 1, 'reschedule': 1, 'berdesakan': 1, 'uto': 1, 'py': 1, 'piclenny': 1, 'bejubel': 1, 'lela': 1, 'when': 1, 'presidential': 1, 'yusrita': 1, 'berpikirlah': 1, 'hakikatnya': 1, 'beterbangan': 1, 'pengelabuan': 1, 'bergemuruh': 1, 'pencopotan': 1, 'diinokulasi': 1, 'pasific': 1, 'command': 1, 'estafet': 1, 'cupang': 1, 'meletakan': 1, 'mempertaruhkan': 1, 'bergelantungan': 1, 'gerah': 1, 'mengusai': 1, 'buset': 1, 'ulur': 1, 'eriksen': 1, 'syukurlah': 1, 'inter': 1, 'milan': 1, 'sportiva': 1, 'masyakarat': 1, 'rushmore': 1, 'yaumil': 1, 'ambo': 1, 'djiwa': 1, 'roketnya': 1, 'teritorial': 1, 'sekantor': 1, 'maidah': 1, 'tafsirnya': 1, 'pengubahan': 1, 'segitiga': 1, 'sitti': 1, 'rohmi': 1, 'djalilah': 1, 'mem': 1, 'vonis': 1, 'berintensitas': 1, 'storm': 1, 'rider': 1, 'dikloning': 1, 'keterkaitannya': 1, 'produser': 1, 'dinamit': 1, 'santiago': 1, 'biolabs': 1, 'mb': 1, 'koneksi': 1, 'studios': 1, 'magnitude': 1, 'konvensi': 1, 'parawangsa': 1, 'kip': 1, 'ami': 1, 'yeni': 1, 'fauziyah': 1, 'wahidudin': 1, 'nazarudin': 1, 'jamaro': 1, 'masykur': 1, 'amm': 1, 'nusron': 1, 'yaqur': 1, 'dikontrol': 1, 'kikuyu': 1, 'mandor': 1, 'elephant': 1, 'thoriqul': 1, 'manufacture': 1, 'assembler': 1, 'mechanic': 1, 'electrician': 1, 'overtime': 1, 'blki': 1, 'menabung': 1, 'berhaji': 1, 'alyssa': 1, 'carson': 1, 'cino': 1, 'kapankah': 1, 'jongkok': 1, 'adili': 1, 'mengerahkan': 1, 'shihua': 1, 'fungus': 1, 'nuclear': 1, 'plant': 1, 'spider': 1, 'penembak': 1, 'runduk': 1, 'fgp': 1, 'kelistrikan': 1, 'geofisika': 1, 'otomasi': 1, 'automation': 1, 'akuntan': 1, 'disnakerja': 1, 'terdampar': 1, 'mate': 1, 'cincinnya': 1, 'kucuran': 1, 'dimanakah': 1, 'bertalang': 1, 'ucup': 1, 'nimbun': 1, 'awang': 1, 'faroek': 1, 'ishak': 1, 'twk': 1, 'patar': 1, 'vaxxed': 1, 'spreading': 1, 'waynad': 1, 'qassam': 1, 'plakat': 1, 'berisik': 1, 'bodong': 1, 'bacteriophage': 1, 'inteligen': 1, 'marsekal': 1, 'chin': 1, 'syin': 1, 'sabillah': 1, 'pesek': 1, 'aqsha': 1, 'arktik': 1, 'klara': 1, 'tzu': 1, 'minal': 1, 'aidin': 1, 'faizin': 1, 'pengutang': 1, 'zhurong': 1, 'baiturrohman': 1, 'fauzi': 1, 'pringsewu': 1, 'magnetis': 1, 'ubahlah': 1, 'diperbarui': 1, 'setelan': 1, 'grupnya': 1, 'everyone': 1, 'default': 1, 'memudahkannya': 1, 'pembom': 1, 'buarakakak': 1, 'banyumas': 1, 'pengayoman': 1, 'dandelion': 1, 'acting': 1, 'balurkan': 1, 'ekstrim': 1, 'kepang': 1, 'gemar': 1, 'ambawang': 1, 'dibom': 1, 'kelahirannya': 1, 'buatlah': 1, 'berhadap': 1, 'mahir': 1, 'bersekutu': 1, 'menyerahkannya': 1, 'houth': 1, 'bantai': 1, 'aditia': 1, 'halindra': 1, 'faridzky': 1, 'sunyi': 1, 'senyap': 1, 'zuhair': 1, 'shurn': 1, 'sumbangkan': 1, 'asmara': 1, 'acep': 1, 'gorila': 1, 'pemecah': 1, 'record': 1, 'besuki': 1, 'menerkam': 1, 'kerendahan': 1, 'wakilnya': 1, 'makruh': 1, 'mencekik': 1, 'diselimuti': 1, 'rusyd': 1, 'palestinians': 1, 'hizbullah': 1, 'syed': 1, 'nasrullah': 1, 'forward': 1, 'seagama': 1, 'sate': 1, 'kemenhan': 1, 'utsmaniyah': 1, 'ketibaan': 1, 'sirine': 1, 'aditi': 1, 'raghuvanshi': 1, 'ginekologi': 1, 'aiims': 1, 'bhopal': 1, 'madhya': 1, 'pradesh': 1, 'radar': 1, 'regent': 1, 'announcer': 1, 'happiness': 1, 'beruga': 1, 'berugo': 1, 'lailatur': 1, 'qadar': 1, 'berwakaf': 1, 'irwanto': 1, 'kardinal': 1, 'thurnberg': 1, 'munar': 1, 'wakafkan': 1, 'felicia': 1, 'tanzil': 1, 'spkfr': 1, 'ananto': 1, 'prasetya': 1, 'fuad': 1, 'mahfuzd': 1, 'sjahruddin': 1, 'widya': 1, 'soeryo': 1, 'koesumo': 1, 'pfk': 1, 'aulia': 1, 'jagakarsa': 1, 'wahyuning': 1, 'saraswati': 1, 'redy': 1, 'wadir': 1, 'dadang': 1, 'hawari': 1, 'priyadi': 1, 'alumnus': 1, 'kedas': 1, 'ly': 1, 'kda': 1, 'penjagaan': 1, 'kada': 1, 'kawa': 1, 'tabu': 1, 'hatam': 1, 'cerdik': 1, 'ditiru': 1, 'inspiratif': 1, 'bersedekah': 1, 'kangguru': 1, 'kemacetan': 1, 'jazz': 1, 'nabeng': 1, 'ekoh': 1, 'fn': 1, 'mengoperasikan': 1, 'dipersilakan': 1, 'speaking': 1, 'dikarangi': 1, 'anehkan': 1, 'sehatmu': 1, 'becak': 1, 'basli': 1, 'pion': 1, 'disetel': 1, 'yunior': 1, 'lgbi': 1, 'lesbian': 1, 'moqsith': 1, 'ghozali': 1, 'punyaku': 1, 'sajadah': 1, 'pegunungan': 1, 'memeriksanya': 1, 'mulailah': 1, 'bekuan': 1, 'antikoagulan': 1, 'asprin': 1, 'apronik': 1, 'parasetamol': 1, 'mempunya': 1, 'gemetaran': 1, 'menggabungkan': 1, 'macepace': 1, 'kiat': 1, 'dihack': 1, 'everton': 1, 'pejagan': 1, 'chusnunia': 1, 'chalim': 1, 'digegerkan': 1, 'intai': 1, 'poseidon': 1, 'ditanam': 1, 'berwujud': 1, 'older': 1, 'woke': 1, 'realizes': 1, 'she': 1, 'being': 1, 'recorded': 1, 'gon': 1, 'seal': 1, 'djogja': 1, 'mahdi': 1, 'tertuju': 1, 'sholikhon': 1, 'assholikhin': 1, 'takmir': 1, 'musholla': 1, 'asholikhin': 1, 'pembayar': 1, 'peraturannya': 1, 'tersendiri': 1, 'sharenya': 1, 'hehamahua': 1, 'schedule': 1, 'candra': 1, 'purwanto': 1, 'ccp': 1, 'panel': 1, 'syech': 1, 'pengasingannya': 1, 'terusir': 1, 'ihwanul': 1, 'khilafahisme': 1, 'ikhwanul': 1, 'berkiblat': 1, 'pendirinya': 1, 'nenteng': 1, 'hus': 1, 'horor': 1, 'kapalnya': 1, 'mnkn': 1, 'setahu': 1, 'terbunuhnya': 1, 'wamenhan': 1, 'aslog': 1, 'patwal': 1, 'eksklusif': 1, 'permendikbud': 1, 'ketepatannya': 1, 'direktoral': 1, 'memonitor': 1, 'menggigit': 1, 'asyari': 1, 'janmat': 1, 'kemurahan': 1, 'nggeh': 1, 'sonar': 1, 'tumpahan': 1, 'spill': 1, 'wita': 1, 'panjat': 1, 'acc': 1, 'timika': 1, 'amati': 1, 'dprd': 1, 'kepuasan': 1, 'tinggalkannya': 1, 'sedaap': 1, 'marlin': 1, 'indodax': 1, 'dicicil': 1, 'jco': 1, 'aibon': 1, 'modalku': 1, 'kapur': 1, 'barus': 1, 'karom': 1, 'waliyullah': 1, 'persidangan': 1, 'didesak': 1, 'martandi': 1, 'asean': 1, 'babihok': 1, 'smartphones': 1, 'immortal': 1, 'cosmedika': 1, 'diem': 1, 'builder': 1, 'berhiaskan': 1, 'meregang': 1, 'mawar': 1, 'jempolan': 1, 'wir': 1, 'zacky': 1, 'mirza': 1, 'limfositosis': 1, 'limfosit': 1, 'laha': 1, 'sempurnakan': 1, 'ditendang': 1, 'karir': 1, 'rrahmi': 1, 'siregarinjekk': 1, 'habitatmu': 1, 'seanjing': 1, 'papau': 1, 'lakuna': 1, 'pengenaan': 1, 'knpi': 1, 'syukuri': 1, 'alefiyo': 1, 'gbogi': 1, 'ayisan': 1, 'okan': 1, 'edo': 1, 'omo': 1, 'lapapo': 1, 'leyi': 1, 'lai': 1, 'iwo': 1, 'rara': 1, 'nje': 1, 'pelebe': 1, 'merin': 1, 'awa': 1, 'atelese': 1, 'awo': 1, 'sitokin': 1, 'lati': 1, 'duro': 1, 'ese': 1, 'sibe': 1, 'aro': 1, 'yio': 1, 'jade': 1, 'kile': 1, 'oye': 1, 'amose': 1, 'emoji': 1, 'losu': 1, 'aye': 1, 'fun': 1, 'ibere': 1, 'slip': 1, 'filter': 1, 'mayora': 1, 'pelangi': 1, 'yuhronur': 1, 'gigabytes': 1, 'penyerang': 1, 'bondon': 1, 'dobol': 1, 'dicap': 1, 'berceramah': 1, 'pulus': 1, 'casino': 1, 'penyerapan': 1, 'archive': 1, 'yom': 1, 'kippur': 1, 'tarakan': 1, 'lipstik': 1, 'apppln': 1, 'doraemon': 1, 'dahului': 1, 'ayurveda': 1, 'mss': 1, 'siksaan': 1, 'kenistaanlah': 1, 'baginya': 1, 'eksekutor': 1, 'menggantungkan': 1, 'meranti': 1, 'asmar': 1, 'mantrijeron': 1, 'astrazaneca': 1, 'ugd': 1, 'zayed': 1, 'ciek': 1, 'ampai': 1, 'tawa': 1, 'flix': 1, 'madam': 1, 'xanana': 1, 'gusmao': 1, 'organizer': 1, 'genotoxik': 1, 'ethylum': 1, 'biocidal': 1, 'availabilitas': 1, 'diserap': 1, 'toksikologi': 1, 'atsdr': 1, 'eo': 1, 'disterilkan': 1, 'mensterilkan': 1, 'dengannya': 1, 'ethyl': 1, 'limfatik': 1, 'penguji': 1, 'alor': 1, 'ulat': 1, 'nyinyir': 1, 'komnasham': 1, 'bersebrangan': 1, 'rohingya': 1, 'fruits': 1, 'ted': 1, 'pembedahan': 1, 'angiogenesis': 1, 'subtitle': 1, 'dietnya': 1, 'berturut': 1, 'empok': 1, 'narahubung': 1, 'mpo': 1, 'patriot': 1, 'lentera': 1, 'berdukacita': 1, 'berbohong': 1, 'bertumpuk': 1, 'digusur': 1, 'tentatif': 1, 'kedinasan': 1, 'peragaan': 1, 'kesatu': 1, 'remot': 1, 'meledaknya': 1, 'misa': 1, 'pengiring': 1, 'yerusalem': 1, 'song': 1, 'janur': 1, 'pierre': 1, 'tendean': 1, 'wanisar': 1, 'true': 1, 'sayangkan': 1, 'gsk': 1, 'nebeng': 1, 'rgy': 1, 'menado': 1, 'memphoto': 1, 'wp': 1, 'berdaulat': 1, 'sorong': 1, 'president': 1, 'shin': 1, 'disiplinkan': 1, 'wko': 1, 'pertanahan': 1, 'ptsi': 1, 'damar': 1, 'damarjati': 1, 'terburuknya': 1, 'zazkia': 1, 'sungkar': 1, 'irwansyah': 1, 'kedelete': 1, 'haruslah': 1, 'berlainan': 1, 'sendirilah': 1, 'diingat': 1, 'lembu': 1, 'parker': 1, 'ditaruh': 1, 'dimotor': 1, 'memperdaya': 1, 'mengambi': 1, 'sepulangnya': 1, 'menyeret': 1, 'diwarnai': 1, 'persija': 1, 'fairmont': 1, 'ballroom': 1, 'marriott': 1, 'terjadilah': 1, 'investasilikuid': 1, 'perpustakaan': 1, 'dispora': 1, 'pemkot': 1, 'partner': 1, 'parfum': 1, 'jasmin': 1, 'rady': 1, 'batasan': 1, 'membohongi': 1, 'didzolimi': 1, 'dipelintir': 1, 'kejutkan': 1, 'ketidakpastian': 1, 'kedinginan': 1, 'lahatnya': 1, 'semaunya': 1, 'dwiana': 1, 'rio': 1, 'janeiro': 1, 'ketidaknyamanan': 1, 'progress': 1, 'progam': 1, 'oregon': 1, 'pengintai': 1, 'berlayar': 1, 'tagah': 1, 'benjolan': 1, 'sa': 1, 'kambingnya': 1, 'inex': 1, 'ray': 1, 'regla': 1, 'lalabas': 1, 'sau': 1, 'rauf': 1, 'malaganni': 1, 'gubernuran': 1, 'siagalah': 1, 'chung': 1, 'kuo': 1, 'miskinkan': 1, 'adukkan': 1, 'saset': 1, 'sesatkan': 1, 'kriminalisasi': 1, 'mindset': 1, 'unggulkan': 1, 'executif': 1, 'yudikatif': 1, 'amarma': 1, 'munkar': 1, 'kilas': 1, 'lazimnya': 1, 'damping': 1, 'bap': 1, 'dinikahinya': 1, 'perawan': 1, 'pembohongan': 1, 'menempuh': 1, 'tercolong': 1, 'poyuono': 1, 'mengisahkan': 1, 'bhutan': 1, 'vegetarian': 1, 'kadaluarsa': 1, 'dihabiskan': 1, 'kredibel': 1, 'pandeminya': 1, 'issue': 1, 'memikat': 1, 'alzheimer': 1, 'tempuh': 1, 'siangnya': 1, 'sampaikanlah': 1, 'siantar': 1, 'found': 1, 'difficult': 1, 'yesterday': 1, 'both': 1, 'burnt': 1, 'muslims': 1, 'forgive': 1, 'whom': 1, 'grant': 1, 'islamiyyah': 1, 'madarasa': 1, 'mengabulkan': 1, 'marka': 1, 'liting': 1, 'belok': 1, 'diremehkan': 1, 'peruntukkan': 1, 'corpse': 1, 'elektromagnetik': 1, 'innaddina': 1, 'bumbun': 1, 'wanadi': 1, 'aladzim': 1, 'clinical': 1, 'composition': 1, 'description': 1, 'dng': 1, 'vero': 1, 'didalamnya': 1, 'dilemahkan': 1, 'formaline': 1, 'hasbunallah': 1, 'nikmal': 1, 'maula': 1, 'cukuplah': 1, 'adelia': 1, 'pasha': 1, 'hanura': 1, 'mengobok': 1, 'obok': 1, 'maintanance': 1, 'regards': 1, 'permatabank': 1, 'ardiansyahv': 1, 'kontras': 1, 'ironis': 1, 'tungondeng': 1, 'komplotannya': 1, 'embat': 1, 'dirancang': 1, 'antartika': 1, 'jazil': 1, 'innaa': 1, 'soekarwodinoto': 1, 'karwo': 1, 'tobatmu': 1, 'bosankah': 1, 'kelakuanmu': 1, 'emma': 1, 'watson': 1, 'kariernya': 1, 'menembaki': 1, 'berkumandangkan': 1, 'ppsdmk': 1, 'jebat': 1, 'jatahnya': 1, 'tensi': 1, 'community': 1, 'mengantar': 1, 'rote': 1, 'baburrahman': 1, 'memproseskan': 1, 'wito': 1, 'trafik': 1, 'komplang': 1, 'fackthe': 1, 'takbier': 1, 'kelotoki': 1, 'death': 1, 'ekstrakurikuler': 1, 'fighter': 1, 'warriors': 1, 'terkutuk': 1, 'gambarnya': 1, 'dihujat': 1, 'enggan': 1, 'disengaja': 1, 'iyai': 1, 'nikel': 1, 'energik': 1, 'supervisior': 1, 'elektronika': 1, 'elins': 1, 'akuntasi': 1, 'trailer': 1, 'excavator': 1, 'well': 1, 'loader': 1, 'mixer': 1, 'concrete': 1, 'mobile': 1, 'pedestal': 1, 'forklift': 1, 'skills': 1, 'required': 1, 'digiring': 1, 'letkol': 1, 'sus': 1, 'sakdun': 1, 'ag': 1, 'ditanyakan': 1, 'mbank': 1, 'trobke': 1, 'siangan': 1, 'urgent': 1, 'benedicto': 1, 'surigao': 1, 'bejat': 1, 'anissa': 1, 'romania': 1, 'detektor': 1, 'monoton': 1, 'babel': 1, 'konteksnya': 1, 'lawyers': 1, 'tayangkan': 1, 'menyayanginya': 1, 'urusanku': 1, 'penggunanya': 1, 'abdy': 1, 'adby': 1, 'kristiandi': 1, 'peribadatan': 1, 'nyoman': 1, 'sticker': 1, 'diwapri': 1, 'ajudan': 1, 'miftahul': 1, 'gar': 1, 'finalisasi': 1, 'pengecekannya': 1, 'brimo': 1, 'confresor': 1, 'ujub': 1, 'takabur': 1, 'audrey': 1, 'kepintarannya': 1, 'diputuskan': 1, 'virginia': 1, 'jenjang': 1, 'seller': 1, 'airku': 1, 'indonesiaku': 1, 'bppt': 1, 'pengkajian': 1, 'wafatnya': 1, 'thrall': 1, 'yoshiro': 1, 'mori': 1, 'muhun': 1, 'kabat': 1, 'gentos': 1, 'sanes': 1, 'aceng': 1, 'cenah': 1, 'winarno': 1, 'ready': 1, 'bervitamin': 1, 'merekonstruksi': 1, 'menyanyi': 1, 'penangkalan': 1, 'tergigit': 1, 'pujon': 1, 'klemuk': 1, 'aspalnya': 1, 'berfaedahpun': 1, 'kiki': 1, 'nurohman': 1, 'rihanna': 1, 'arman': 1, 'anonim': 1, 'penyalahgunaan': 1, 'makruf': 1, 'tikum': 1, 'dilanjut': 1, 'kemenkopolhukam': 1, 'dwifungsi': 1, 'dprmprs': 1, 'mengabarkan': 1, 'positioning': 1, 'system': 1, 'pengasingan': 1, 'madyan': 1, 'menggoyahkan': 1, 'singgasananya': 1, 'andolan': 1, 'cannot': 1, 'even': 1, 'crops': 1, 'grown': 1, 'respect': 1, 'farmer': 1, 'pernikahannya': 1, 'sentosa': 1, 'guz': 1, 'dirgahayu': 1, 'novac': 1, 'pengacaranya': 1, 'autopsi': 1, 'visum': 1, 'petramax': 1, 'sepada': 1, 'crash': 1, 'redenominasi': 1, 'karror': 1, 'ronde': 1, 'rangers': 1, 'siuman': 1, 'adiningsih': 1, 'pebriansyah': 1, 'janah': 1, 'alkhamdulillah': 1, 'cameron': 1, 'highland': 1, 'sanggau': 1, 'paolus': 1, 'swap': 1, 'lelet': 1, 'cs': 1, 'sugiarta': 1, 'pery': 1, 'bertamu': 1, 'pengetatan': 1, 'ptkm': 1, 'ditekankan': 1, 'penyebrangan': 1, 'gilimanuk': 1, 'febri': 1, 'gubernurku': 1, 'ceramahnya': 1, 'kabulkan': 1, 'kun': 1, 'khlorin': 1, 'claproth': 1, 'chatting': 1, 'sederet': 1, 'uny': 1, 'belimbing': 1, 'wuluh': 1, 'genose': 1, 'aung': 1, 'aerobik': 1, 'tapalang': 1, 'sulbar': 1, 'soul': 1, 'mkd': 1, 'sialan': 1, 'natalia': 1, 'pigai': 1, 'saksama': 1, 'pulyani': 1, 'zuckeberg': 1, 'mengaktivasi': 1, 'sever': 1, 'petugasnya': 1, 'pemotor': 1, 'terlapor': 1, 'cuitannya': 1, 'tergerus': 1, 'endapkan': 1, 'paradox': 1, 'akurasi': 1, 'lancarkan': 1, 'mendakan': 1, 'ado': 1, 'ajo': 1, 'lopas': 1, 'berimpit': 1, 'berimpitan': 1, 'giselle': 1, 'halalkan': 1, 'aspal': 1, 'teranyar': 1, 'mengordernya': 1, 'moneter': 1, 'terlambatnya': 1, 'mengkaji': 1, 'perburukan': 1, 'replikasi': 1, 'flash': 1, 'unggulan': 1, 'manidharshana': 1, 'tretan': 1, 'sedejeh': 1, 'ijob': 1, 'penawar': 1, 'effect': 1, 'michelle': 1, 'transgender': 1, 'kumham': 1, 'samas': 1, 'massonic': 1, 'illuminaty': 1, 'sumpahnya': 1, 'comorbid': 1, 'penanggungjawab': 1, 'efficacy': 1, 'digariskan': 1, 'keilmuannya': 1, 'jemu': 1, 'menyayangimu': 1, 'rodrigo': 1, 'duterte': 1, 'keling': 1, 'bangking': 1, 'kartel': 1, 'mendanai': 1, 'disadap': 1, 'julio': 1, 'iglesias': 1, 'milos': 1, 'sesakit': 1, 'dikemudian': 1, 'penggembala': 1, 'steak': 1, 'berkemungkinan': 1, 'exchange': 1, 'bidangnya': 1, 'geologist': 1, 'repair': 1, 'tyreman': 1, 'paramedis': 1, 'meneliti': 1, 'gelang': 1, 'balance': 1, 'melegalisir': 1, 'berapakah': 1, 'menciduk': 1, 'wilalung': 1, 'puas': 1, 'invisible': 1, 'berekspansi': 1, 'likuefaksi': 1, 'kabalai': 1, 'bhwa': 1, 'cemas': 1, 'diena': 1, 'aqila': 1, 'missionaris': 1, 'krating': 1, 'marimas': 1, 'shachet': 1, 'frutillo': 1, 'ice': 1, 'okky': 1, 'jelly': 1, 'inaco': 1, 'gatorade': 1, 'nabati': 1, 'naturade': 1, 'splash': 1, 'fruit': 1, 'aspartame': 1, 'nara': 1, 'menenggelamkan': 1, 'atapnya': 1, 'eror': 1, 'berucap': 1, 'berketik': 1, 'sosmed': 1, 'important': 1, 'reaksinya': 1, 'process': 1, 'listerin': 1, 'finlandia': 1, 'celsius': 1, 'menyesatkan': 1, 'sprint': 1, 'supervisi': 1, 'sprin': 1, 'polytron': 1, 'kasdim': 1, 'cimb': 1, 'ardiansyah': 1, 'darussalamah': 1, 'suhendra': 1, 'bohongi': 1, 'terhanyut': 1, 'kase': 1, 'stawww': 1, 'au': 1, 'polagui': 1, 'berjauhan': 1, 'valuta': 1, 'te': 1, 'coro': 1, 'zim': 1, 'stikeran': 1, 'vill': 1, 'jowa': 1, 'merumahkan': 1, 'pilotnya': 1, 'tunisia': 1, 'moneem': 1, 'saheb': 1, 'memeliharaku': 1, 'facebooknya': 1, 'kesalah': 1, 'ust': 1, 'kujawab': 1, 'offline': 1, 'majene': 1, 'mii': 1, 'sendana': 1, 'diacara': 1, 'hargo': 1, 'photo': 1, 'hanguskan': 1, 'paula': 1, 'harianto': 1, 'sarannya': 1, 'prosesnya': 1, 'mengadopsi': 1, 'eucalyptus': 1, 'vicks': 1, 'membagikannya': 1, 'diedit': 1, 'virendra': 1, 'aurora': 1, 'bidden': 1, 'widyastuti': 1, 'mkm': 1, 'vanny': 1, 'budiningtyas': 1, 'aryaduta': 1, 'akomodasinya': 1, 'lkn': 1, 'dibawakannya': 1, 'mengkover': 1, 'bungkusnya': 1, 'kardusnya': 1, 'wit': 1, 'paryoll': 1, 'membayarkan': 1, 'layani': 1, 'batok': 1, 'berpisah': 1, 'ampulan': 1, 'terpublikasi': 1, 'dituntut': 1, 'alur': 1, 'dikuburpun': 1, 'role': 1, 'steam': 1, 'inhalation': 1, 'founder': 1, 'explains': 1, 'could': 1, 'protect': 1, 'entire': 1, 'infection': 1, 'despite': 1, 'patients': 1, 'stafnya': 1, 'grease': 1, 'luruh': 1, 'pekat': 1, 'dansa': 1, 'mencaci': 1, 'tergesa': 1, 'gesa': 1, 'kitakah': 1, 'barometer': 1, 'seperadik': 1, 'naam': 1, 'umm': 1, 'empati': 1, 'pliisss': 1, 'pliiiss': 1, 'jeff': 1, 'bezos': 1, 'sehidup': 1, 'semati': 1, 'arilines': 1, 'berlahan': 1, 'deterjen': 1, 'syaikhona': 1, 'bernasib': 1, 'ishaq': 1, 'kris': 1, 'surveyheart': 1, 'mrc': 1, 'barunya': 1, 'washington': 1, 'too': 1, 'nadyto': 1, 'batman': 1, 'britania': 1, 'nussa': 1, 'rarra': 1, 'kesampaian': 1, 'sukai': 1, 'mengkhianati': 1, 'sambut': 1, 'fabiana': 1, 'souza': 1, 'sao': 1, 'lucas': 1, 'porto': 1, 'alegre': 1, 'kebandarudaraan': 1, 'integritas': 1, 'ulet': 1, 'services': 1, 'tos': 1, 'finance': 1, 'technical': 1, 'programmer': 1, 'analyst': 1, 'menyegarkan': 1, 'netto': 1, 'mililiter': 1, 'digunakkan': 1, 'semprotkan': 1, 'tenggorokkan': 1, 'dikencingi': 1, 'bersukaria': 1, 'apapas': 1, 'sakitkan': 1, 'trs': 1, 'iyadzubillaah': 1, 'intelkam': 1, 'kontra': 1, 'wilkum': 1, 'ihya': 1, 'ulumuddin': 1, 'masbagik': 1, 'moerad': 1, 'tanfidzi': 1, 'mulacela': 1, 'amrillah': 1, 'hilmi': 1, 'wardah': 1, 'habsyi': 1, 'digambar': 1, 'setanah': 1, 'terkhususnya': 1, 'tongkol': 1, 'tembang': 1, 'pesakit': 1, 'fasilitasnya': 1, 'lemburan': 1, 'chasanah': 1, 'melayu': 1, 'sunni': 1, 'dibangga': 1, 'tantriana': 1, 'fadillah': 1, 'pengencer': 1, 'istirahatnya': 1, 'farmaton': 1, 'ester': 1, 'habits': 1, 'pinda': 1, 'seduh': 1, 'kombinasi': 1, 'gaul': 1, 'pembohong': 1, 'hassanal': 1, 'bolkiah': 1, 'halimah': 1, 'halte': 1, 'brilian': 1, 'ledi': 1, 'jie': 1, 'lali': 1, 'meramu': 1, 'sedari': 1, 'warisannya': 1, 'antibody': 1, 'siram': 1, 'colekpun': 1, 'warisi': 1, 'kpla': 1, 'kopensasi': 1, 'ditugaskan': 1, 'khadziq': 1, 'menghasut': 1, 'pemeribtahan': 1, 'bogie': 1, 'jujube': 1, 'kecilkan': 1, 'pemanasan': 1, 'sejong': 1, 'seungwon': 1, 'gangseongcheon': 1, 'sukacita': 1, 'qt': 1, 'terwujud': 1, 'smg': 1, 'bsm': 1, 'penguatan': 1, 'musyariah': 1, 'mensurvey': 1, 'ranting': 1, 'didalami': 1, 'asumsikan': 1, 'miftahuddin': 1, 'rfp': 1, 'ainnayya': 1, 'transferkan': 1, 'dituju': 1, 'lebihkan': 1, 'rama': 1, 'mrs': 1, 'kelemah': 1, 'lembutannya': 1, 'menggebu': 1, 'gebu': 1, 'dicintai': 1, 'biarlah': 1, 'berkobar': 1, 'ditiup': 1, 'aeab': 1, 'rob': 1, 'oswald': 1, 'khayalan': 1, 'trg': 1, 'penampungan': 1, 'besuk': 1, 'pelat': 1, 'razianya': 1, 'zebra': 1, 'pengintaian': 1, 'nsa': 1, 'mnya': 1, 'ronnie': 1, 'perseroan': 1, 'prayitno': 1, 'merindukan': 1, 'syuhada': 1, 'makamkan': 1, 'mendung': 1, 'dudung': 1, 'baliho': 1, 'avatar': 1, 'av': 1, 'vatar': 1, 'naudzubillahiminzalik': 1, 'audzubillahiminasyaithonirrojim': 1, 'allahualam': 1, 'roby': 1, 'demensia': 1, 'merdu': 1, 'walesi': 1, 'keterangannya': 1, 'riauaktual': 1, 'yovie': 1, 'kerahasiaan': 1, 'mimi': 1, 'yuliani': 1, 'nazir': 1, 'app': 1, 'selulernya': 1, 'misnarni': 1, 'ldii': 1, 'baitul': 1, 'toili': 1, 'mustar': 1, 'labolo': 1, 'banggai': 1, 'longki': 1, 'djanggola': 1, 'christmast': 1, 'herdiat': 1, 'sunarya': 1, 'celakanya': 1, 'haula': 1, 'laa': 1, 'quwwata': 1, 'illa': 1, 'computer': 1, 'word': 1, 'excel': 1, 'komisioner': 1, 'beka': 1, 'hapsara': 1, 'tatap': 1, 'berulah': 1, 'tipikal': 1, 'menggadaikan': 1, 'adipura': 1, 'santosa': 1, 'kratonan': 1, 'gadainya': 1, 'riba': 1, 'berlakukan': 1, 'algojonya': 1, 'sipoli': 1, 'vape': 1, 'kapung': 1, 'tanggungharjo': 1, 'grobog': 1, 'kedungjati': 1, 'ardito': 1, 'dihiasi': 1, 'memperjuangkan': 1, 'setop': 1, 'disoroti': 1, 'turkipun': 1, 'termurkanya': 1, 'ferzia': 1, 'handayani': 1, 'kekecewaan': 1, 'net': 1, 'meluapkan': 1, 'kekesalan': 1, 'luaran': 1, 'nantikan': 1, 'donomulyo': 1, 'resty': 1, 'pecundang': 1, 'disegerakan': 1, 'syal': 1, 'jakmania': 1, 'nonaktifkan': 1, 'teriring': 1, 'melimpahkan': 1, 'karunianya': 1, 'phi': 1, 'seasons': 1, 'talang': 1, 'betutu': 1, 'kkp': 1, 'memorial': 1, 'tiffany': 1, 'dover': 1, 'nurse': 1, 'receiving': 1, 'become': 1, 'genocide': 1, 'continue': 1, 'rabid': 1, 'dictators': 1, 'kaitannya': 1, 'bermasyarakat': 1, 'emoticon': 1, 'emotikon': 1, 'biti': 1, 'ditanamkan': 1, 'penyelesaiannya': 1, 'malaki': 1, 'berkendaraan': 1, 'licin': 1, 'transfeksi': 1, 'genetiknya': 1, 'sebentuk': 1, 'memodifikasi': 1, 'melemahkan': 1, 'sadarilah': 1, 'tercanggih': 1, 'dikenali': 1, 'pengoperasiannya': 1, 'mengutak': 1, 'mencintaimu': 1, 'pencakar': 1, 'tourism': 1, 'phase': 1, 'longgar': 1, 'december': 1, 'berbayarnya': 1, 'ongkosnya': 1, 'repot': 1, 'vaksinasinya': 1, 'sg': 1, 'murahan': 1, 'reposted': 1, 'fradjab': 1, 'chinas': 1, 'own': 1, 'year': 1, 'changing': 1, 'americas': 1, 'rahma': 1, 'cluster': 1, 'betang': 1, 'pambelum': 1, 'kasa': 1, 'rpt': 1, 'proporsi': 1, 'sulut': 1, 'taati': 1, 'amangbu': 1, 'ella': 1, 'tonggari': 1, 'formaldehida': 1, 'ajuan': 1, 'penyalur': 1, 'pengenal': 1, 'gbpns': 1, 'sipapapun': 1, 'limpahkanlah': 1, 'diburu': 1, 'jodoh': 1, 'abud': 1, 'bontang': 1, 'pux': 1, 'bangsal': 1, 'type': 1, 'rumkit': 1, 'sidrap': 1, 'purbakala': 1, 'lereng': 1, 'lawuh': 1, 'uraian': 1, 'jebolan': 1, 'permalukan': 1, 'pami': 1, 'tangsel': 1, 'ditembaknya': 1, 'responsif': 1, 'dibantai': 1, 'protokolan': 1, 'dikongsi': 1, 'administrator': 1, 'gam': 1, 'dikerangkeng': 1, 'melon': 1, 'cold': 1, 'sweat': 1, 'ssi': 1, 'perbaungan': 1, 'alot': 1, 'pendaftarannya': 1, 'series': 1, 'elegan': 1, 'termuda': 1, 'godaan': 1, 'jabatanmu': 1, 'rakyatlah': 1, 'mengajimu': 1, 'bersikaplah': 1, 'kesatria': 1, 'drainase': 1, 'plasenta': 1, 'servita': 1, 'ifanka': 1, 'mengucurkan': 1, 'mensos': 1, 'gayungan': 1, 'kadinsos': 1, 'wardoyo': 1, 'manuver': 1, 'terbongkarlah': 1, 'roubini': 1, 'greg': 1, 'bsl': 1, 'ralph': 1, 'barrick': 1, 'weleh': 1, 'melong': 1, 'perasanya': 1, 'patepa': 1, 'tepa': 1, 'karapitan': 1, 'intelegent': 1, 'karbit': 1, 'ditabu': 1, 'aseng': 1, 'diharamkan': 1, 'membesarkan': 1, 'reinaldy': 1, 'andreasmito': 1, 'alkes': 1, 'penyokong': 1, 'buikk': 1, 'limited': 1, 'thermo': 1, 'flask': 1, 'beranikah': 1, 'danny': 1, 'pomanto': 1, 'keterlibatan': 1, 'menjatuhkan': 1, 'connection': 1, 'cih': 1, 'diperindah': 1, 'dirapid': 1, 'fahira': 1, 'idris': 1, 'religious': 1, 'perhitungkan': 1, 'berasa': 1, 'teater': 1, 'nasihat': 1, 'dipercepat': 1, 'terhambat': 1, 'menaikkan': 1, 'memperlancar': 1, 'lingkup': 1, 'bermuamalah': 1, 'karbitan': 1, 'kepentingannya': 1, 'geun': 1, 'langganan': 1, 'isolation': 1, 'acan': 1, 'uninga': 1, 'hablumminallah': 1, 'habluminannas': 1, 'gia': 1, 'protesenya': 1, 'kolaborasi': 1, 'proteasenya': 1, 'biomolekuler': 1, 'bind': 1, 'caffe': 1, 'magang': 1, 'jamesbond': 1, 'relevansi': 1, 'kekinian': 1, 'nurani': 1, 'menggugah': 1, 'nalar': 1, 'tinggalnya': 1, 'menguraikan': 1, 'hancurnya': 1, 'dipicu': 1, 'menggorok': 1, 'meneriakkan': 1, 'matita': 1, 'assegaf': 1, 'cilellang': 1, 'beni': 1, 'wenda': 1, 'noneksekusi': 1, 'meributkan': 1, 'termal': 1, 'newcastle': 1, 'diobral': 1, 'kapitalisme': 1, 'kecewakan': 1, 'adilan': 1, 'pangkal': 1, 'modusnya': 1, 'kongkow': 1, 'ngisi': 1, 'mengembalikannya': 1, 'nyasar': 1, 'didepak': 1, 'tengku': 1, 'zulkarnain': 1, 'sambahe': 1, 'ditempelkan': 1, 'dakocan': 1, 'meriam': 1, 'subway': 1, 'ubahnya': 1, 'menebus': 1, 'ditukar': 1, 'ptronin': 1, 'berkerudung': 1, 'bercelana': 1, 'maryam': 1, 'hormatnya': 1, 'terlindas': 1, 'kewaspadaannya': 1, 'parakanmuncang': 1, 'nevada': 1, 'sivitas': 1, 'mengusung': 1, 'istanbul': 1, 'alumunium': 1, 'edhy': 1, 'madonna': 1, 'tancap': 1, 'berbanding': 1, 'gletser': 1, 'adama': 1, 'inza': 1, 'fatma': 1, 'jawara': 1, 'mencakup': 1, 'berlambang': 1, 'tertunda': 1, 'dilindas': 1, 'klu': 1, 'amuk': 1, 'nomo': 1, 'caldwell': 1, 'khalistan': 1, 'misalkan': 1, 'oga': 1, 'kembangkan': 1, 'juragannya': 1, 'pesen': 1, 'soufis': 1, 'subri': 1, 'khalik': 1, 'diego': 1, 'membungkukkan': 1, 'merkel': 1, 'bersamanya': 1, 'utomo': 1, 'mulyow': 1, 'prayogo': 1, 'kempesi': 1, 'merayunya': 1, 'blush': 1, 'tenis': 1, 'pok': 1, 'occupied': 1, 'kashmir': 1, 'lelaki': 1, 'membangkitkan': 1, 'cisarua': 1, 'ticketmaster': 1, 'uapnya': 1, 'berbayar': 1, 'reklame': 1, 'permana': 1, 'hyderabad': 1, 'mengecewakan': 1, 'sltp': 1, 'certification': 1, 'identification': 1, 'diimplankan': 1, 'barcodenya': 1, 'astonished': 1, 'dikhususkan': 1, 'indayanti': 1, 'patimura': 1, 'kampungku': 1, 'sidikalang': 1, 'padamu': 1, 'martinelli': 1, 'pesannya': 1, 'dance': 1, 'pope': 1, 'mengumumkannya': 1, 'sebarkanlah': 1, 'panser': 1, 'odilia': 1, 'winneke': 1, 'tomohon': 1, 'melampauinya': 1, 'gad': 1, 'elbaz': 1, 'hashem': 1, 'meleceh': 1, 'pradi': 1, 'afifah': 1, 'biksu': 1, 'makannya': 1, 'durasi': 1, 'tanktop': 1, 'relax': 1, 'pundak': 1, 'lilitkan': 1, 'arang': 1, 'penjepit': 1, 'asapnya': 1, 'penutupnya': 1, 'vinegar': 1, 'melengket': 1, 'sumbat': 1, 'diolesi': 1, 'pltn': 1, 'dugem': 1, 'adis': 1, 'vasiota': 1, 'feri': 1, 'bajak': 1, 'lie': 1, 'khek': 1, 'jiang': 1, 'hartanya': 1, 'kembalinya': 1, 'lampau': 1, 'jing': 1, 'ping': 1, 'beranggapan': 1, 'chiao': 1, 'powerfull': 1, 'memperkosa': 1, 'likeshare': 1, 'firing': 1, 'mengebom': 1, 'kelab': 1, 'obsession': 1, 'wurttemberg': 1, 'islamisme': 1, 'sabah': 1, 'hakan': 1, 'cologne': 1, 'beristirahatlah': 1, 'shahrukh': 1, 'loncat': 1, 'berhentinya': 1, 'memper': 1, 'baiki': 1, 'gosong': 1, 'juri': 1, 'macros': 1, 'ditawan': 1, 'hercules': 1, 'rizqul': 1, 'khoiri': 1, 'husain': 1, 'hisab': 1, 'hrg': 1, 'tukarkan': 1, 'pink': 1, 'jawaharlal': 1, 'nehru': 1, 'ulyses': 1, 'sph': 1, 'kegeraman': 1, 'populi': 1, 'kardun': 1, 'dipersepsikan': 1, 'disisipkan': 1, 'cadangan': 1, 'dicampuri': 1, 'gembor': 1, 'gemborkan': 1, 'toxicology': 1, 'flotim': 1, 'rupert': 1, 'murdoch': 1, 'rully': 1, 'robinson': 1, 'kbr': 1, 'kcp': 1, 'pmb': 1, 'snmptn': 1, 'tumada': 1, 'marobo': 1, 'didokumentasikan': 1, 'cass': 1, 'trafo': 1, 'dramaga': 1, 'ciampea': 1, 'encep': 1, 'nawai': 1, 'cifor': 1, 'bubulak': 1, 'ciomas': 1, 'sndg': 1, 'penyulang': 1, 'haleyora': 1, 'heryanto': 1, 'psw': 1, 'tip': 1, 'dukungannya': 1, 'rangkah': 1, 'purwaka': 1, 'nazwa': 1, 'gift': 1, 'gerai': 1, 'meilumi': 1, 'opung': 1, 'perikehidupan': 1, 'perputaran': 1, 'menurunnya': 1, 'produktivitas': 1, 'ekosistem': 1, 'kemenkopukm': 1, 'dst': 1, 'berbangsa': 1, 'samuel': 1, 'paty': 1, 'kebumikan': 1, 'sangkar': 1, 'kongo': 1, 'skhu': 1, 'mizone': 1, 'kepanjen': 1, 'resort': 1, 'sekira': 1, 'menistakan': 1, 'angkuh': 1, 'qunaibi': 1, 'hafizhahullah': 1, 'les': 1, 'salafiyah': 1, 'islah': 1, 'menegangkan': 1, 'pemboikotan': 1, 'sesumbarnya': 1, 'raisa': 1, 'sherina': 1, 'caresse': 1, 'crosby': 1, 'viyana': 1, 'seno': 1, 'nugroho': 1, 'merealisasikan': 1, 'pengalokasian': 1, 'pelemparan': 1, 'holland': 1, 'menyeberangi': 1, 'ofhuman': 1, 'boulevard': 1, 'bpjamsostek': 1, 'tebusnya': 1, 'menebusnya': 1, 'diskopindag': 1, 'kemenkumham': 1, 'octavia': 1, 'jayabaya': 1, 'mencemplung': 1, 'bakalan': 1, 'zehan': 1, 'jatiluhur': 1, 'pelit': 1, 'melunasi': 1, 'merai': 1, 'sign': 1, 'pedestrians': 1, 'crossing': 1, 'vertical': 1, 'moneybag': 1, 'dimilikinya': 1, 'harley': 1, 'davidson': 1, 'percepat': 1, 'ditusukkan': 1, 'diurut': 1, 'tariklah': 1, 'telinganya': 1, 'steril': 1, 'guncangan': 1, 'terhinggalah': 1, 'lungi': 1, 'jeans': 1, 'riza': 1, 'patria': 1, 'kaliasin': 1, 'hec': 1, 'genteng': 1, 'nuraninya': 1, 'bergejolak': 1, 'menandingi': 1, 'penapakan': 1, 'tapak': 1, 'padri': 1, 'halangi': 1, 'airin': 1, 'rachmi': 1, 'fotografer': 1, 'darren': 1, 'pearson': 1, 'kelapangan': 1, 'cepu': 1, 'godok': 1, 'memfasilitasi': 1, 'gelandang': 1, 'manchester': 1, 'paul': 1, 'dianut': 1, 'polpo': 1, 'julukan': 1, 'penghasut': 1, 'tity': 1, 'ponakan': 1, 'install': 1, 'refly': 1, 'winstar': 1, 'katagori': 1, 'balekos': 1, 'oscar': 1, 'primadi': 1, 'dorong': 1, 'nissan': 1, 'dicky': 1, 'novalino': 1, 'pencuci': 1, 'piring': 1, 'aniaya': 1, 'malakaoleh': 1, 'tangkapi': 1, 'pengkritiknya': 1, 'thaikland': 1, 'prediksikan': 1, 'tawur': 1, 'kemiripan': 1, 'johor': 1, 'lesu': 1, 'parosli': 1, 'mabsus': 1, 'kesbangpol': 1, 'zulmi': 1, 'fahlevi': 1, 'tornagogo': 1, 'kedaan': 1, 'statement': 1, 'hosted': 1, 'scaning': 1, 'introduce': 1, 'wda': 1, 'berlin': 1, 'speakers': 1, 'appearance': 1, 'schning': 1, 'doctor': 1, 'jaran': 1, 'rungkut': 1, 'soponyono': 1, 'jumhur': 1, 'ugnud': 1, 'pengkritik': 1, 'umbar': 1, 'magnitut': 1, 'sand': 1, 'alaska': 1, 'bangka': 1, 'belitung': 1, 'erzaldi': 1, 'rosman': 1, 'gelarnya': 1, 'voting': 1, 'ktx': 1, 'kanakea': 1, 'wangkanapi': 1, 'wknp': 1, 'mengantisipasi': 1, 'tempelkan': 1, 'abat': 1, 'gusi': 1, 'gondongan': 1, 'disentri': 1, 'abses': 1, 'rematik': 1, 'mimisan': 1, 'berak': 1, 'reumatik': 1, 'peternak': 1, 'melaka': 1, 'tengok': 1, 'dipasarkan': 1, 'pengaruhi': 1, 'dap': 1, 'joke': 1, 'gathered': 1, 'their': 1, 'vaginas': 1, 'control': 1, 'teach': 1, 'mengaksesnya': 1, 'terprovokasi': 1, 'circle': 1, 'dicecar': 1, 'taubat': 1, 'munajat': 1, 'tawaaf': 1, 'minkulli': 1, 'zambi': 1, 'waatubu': 1, 'illaihi': 1, 'temanmu': 1, 'masalahmu': 1, 'yudha': 1, 'cawabup': 1, 'fortuner': 1, 'kendaraannya': 1, 'dank': 1, 'sinegal': 1, 'meditasi': 1, 'almamater': 1, 'berseragam': 1, 'kamirambo': 1, 'disambar': 1, 'petro': 1, 'kafenya': 1, 'banpres': 1, 'pekuburan': 1, 'sukamaju': 1, 'parkinson': 1, 'diabadikan': 1, 'hadirat': 1, 'datangkan': 1, 'kerdil': 1, 'tahta': 1, 'gorengan': 1, 'jemputan': 1, 'premi': 1, 'kanye': 1, 'marullah': 1, 'matai': 1, 'nagari': 1, 'bpumn': 1, 'uin': 1, 'cucuk': 1, 'jer': 1, 'pintarnya': 1, 'mcdonough': 1, 'kansas': 1, 'bioscience': 1, 'osteopathic': 1, 'kemanjuran': 1, 'terlatih': 1, 'osteopati': 1, 'pendakian': 1, 'sibayak': 1, 'diusik': 1, 'bjp': 1, 'yuva': 1, 'karyakarta': 1, 'paviliun': 1, 'sijoj': 1, 'angon': 1, 'angsa': 1, 'ciptaker': 1, 'maunya': 1, 'serobot': 1, 'darahku': 1, 'kukut': 1, 'keadilannya': 1, 'penghabisan': 1, 'kamulah': 1, 'sepertiku': 1, 'sablon': 1, 'anggotanya': 1, 'berambut': 1, 'seramai': 1, 'jarah': 1, 'kegiatannya': 1, 'haki': 1, 'pengirimnya': 1, 'nonton': 1, 'interogasi': 1, 'paketan': 1, 'datamu': 1, 'arinal': 1, 'djunaidi': 1, 'didatangkan': 1, 'pam': 1, 'swakarsa': 1, 'mbanking': 1, 'maratua': 1, 'simanjuntak': 1, 'terpisah': 1, 'kemaluannya': 1, 'kuitansi': 1, 'kwitang': 1, 'pelita': 1, 'tabib': 1, 'citarum': 1, 'nakut': 1, 'penyergapan': 1, 'persembahan': 1, 'akak': 1, 'procedure': 1, 'dibidangnya': 1, 'penandatanganan': 1, 'training': 1, 'mangkok': 1, 'sapujagat': 1, 'bilangnya': 1, 'kebelet': 1, 'pur': 1, 'wismoyo': 1, 'arismunandar': 1, 'pdam': 1, 'hadian': 1, 'ppatk': 1, 'sholallohi': 1, 'alaihi': 1, 'baihaqi': 1, 'keropos': 1, 'toksik': 1, 'menyebabkannya': 1, 'asid': 1, 'pick': 1, 'ser': 1, 'trisakti': 1, 'berjoget': 1, 'soc': 1, 'ais': 1, 'omnisbus': 1, 'berbaju': 1, 'pedemonya': 1, 'sargen': 1, 'umun': 1, 'bersorak': 1, 'wanggi': 1, 'kerampokan': 1, 'marhaen': 1, 'djumadi': 1, 'andrias': 1, 'beasiswa': 1, 'stmik': 1, 'jepun': 1, 'rugikan': 1, 'shouf': 1, 'peringatkan': 1, 'kaltara': 1, 'dimoncong': 1, 'melambangkan': 1, 'realisasi': 1, 'kesadisan': 1, 'kebrutalan': 1, 'dihuni': 1, 'matta': 1, 'dirias': 1, 'kalimatnya': 1, 'bor': 1, 'perspektif': 1, 'berhasilnya': 1, 'gerwani': 1, 'perak': 1, 'peradaban': 1, 'whitewashing': 1, 'sejadah': 1, 'bergelar': 1, 'xaverius': 1, 'kuningnya': 1, 'pencernaanmu': 1, 'penipuannya': 1, 'melalukan': 1, 'simp': 1, 'simalungun': 1, 'perizinan': 1, 'maskernya': 1, 'memerasnya': 1, 'sution': 1, 'telolet': 1, 'jamaika': 1, 'mengeksploitasi': 1, 'tanganan': 1, 'besanan': 1, 'yaaana': 1, 'trayek': 1, 'senter': 1, 'linggis': 1, 'belati': 1, 'dag': 1, 'berkipas': 1, 'duet': 1, 'january': 1, 'mempertegas': 1, 'direvisi': 1, 'jayawijaya': 1, 'garpu': 1, 'sekantung': 1, 'memadamkan': 1, 'eyes': 1, 'sugiono': 1, 'gpn': 1, 'elektabilitas': 1, 'andalan': 1, 'gabener': 1, 'lente': 1, 'ribok': 1, 'jemimah': 1, 'sigiro': 1, 'puyouno': 1, 'dibenturkan': 1, 'dhawuh': 1, 'partaimu': 1, 'sembah': 1, 'penguasanya': 1, 'disertifikasi': 1, 'elvy': 1, 'sukaesih': 1, 'berlepotan': 1, 'menasihati': 1, 'petikan': 1, 'membenahi': 1, 'pinokio': 1, 'ngerso': 1, 'dipermasalahkan': 1, 'popo': 1, 'neng': 1, 'omah': 1, 'adaptasi': 1, 'lara': 1, 'opo': 1, 'dudu': 1, 'upo': 1, 'santainya': 1, 'ulahmu': 1, 'benahi': 1, 'influencer': 1, 'serban': 1, 'kampanyekan': 1, 'podium': 1, 'triatmojo': 1, 'soehato': 1, 'laura': 1, 'semarak': 1, 'bertransmigrasi': 1, 'prasejahtera': 1, 'berkeluarga': 1, 'berbadan': 1, 'yos': 1, 'sudarso': 1, 'jekan': 1, 'apanya': 1, 'kenanya': 1, 'rehat': 1, 'mengunyahnya': 1, 'sirihnya': 1, 'spk': 1, 'marsella': 1, 'mimba': 1, 'kuas': 1, 'dipesan': 1, 'qishos': 1, 'figure': 1, 'masalahh': 1, 'debt': 1, 'sobo': 1, 'lavalette': 1, 'sebelahku': 1, 'iki': 1, 'kate': 1, 'dai': 1, 'saliva': 1, 'break': 1, 'class': 1, 'beware': 1, 'paha': 1, 'azim': 1, 'bahagialah': 1, 'wenliang': 1, 'mendokumentasikan': 1, 'merangsang': 1, 'reguler': 1, 'coffee': 1, 'kafein': 1, 'stimulan': 1, 'methylxanthines': 1, 'menyadarkan': 1, 'advokasi': 1, 'muratara': 1, 'asusila': 1, 'momok': 1, 'kesukaan': 1, 'roberto': 1, 'nevilis': 1, 'pr': 1, 'venicie': 1, 'mengaplikasikan': 1, 'basahi': 1, 'bilas': 1, 'pamsuska': 1, 'skck': 1, 'konter': 1, 'ltbk': 1, 'po': 1, 'selangit': 1, 'mahalbantu': 1, 'melulu': 1, 'syeh': 1, 'sekutunya': 1, 'akuntansi': 1, 'transmisi': 1, 'rapor': 1, 'teddy': 1, 'sub': 1, 'direnteng': 1, 'dunkin': 1, 'donuts': 1, 'lusin': 1, 'donat': 1, 'boroknya': 1, 'gelisa': 1, 'ditusuk': 1, 'menggelikan': 1, 'ayolah': 1, 'semedi': 1, 'memojok': 1, 'istighfar': 1, 'penjelasnya': 1, 'tingginya': 1, 'wedan': 1, 'empaty': 1, 'amelia': 1, 'perkataannya': 1, 'kohar': 1, 'kodong': 1, 'jabber': 1, 'karate': 1, 'lnkanas': 1, 'kakap': 1, 'qisos': 1, 'bersyarat': 1, 'akuratnya': 1, 'rbga': 1, 'dikabulkan': 1, 'austin': 1, 'sumo': 1, 'bito': 1, 'wainnailahirojiun': 1, 'ampuni': 1, 'wamenlu': 1, 'yorkshire': 1, 'tertusuk': 1, 'penipunya': 1, 'kuis': 1, 'menanggulanginya': 1, 'keluhkan': 1, 'pengirim': 1, 'memblokir': 1, 'keberadaannya': 1, 'bc': 1, 'prasejarah': 1, 'lives': 1, 'matter': 1, 'kenosha': 1, 'wisconsin': 1, 'sangar': 1, 'perbuatannya': 1, 'menyingkirkan': 1, 'kelakuannya': 1, 'togel': 1, 'seberangkan': 1, 'petanda': 1, 'bachtaroeddin': 1, 'arteria': 1, 'species': 1, 'sahat': 1, 'situmorang': 1, 'menyimpanglah': 1, 'tiru': 1, 'bebasin': 1, 'berfermentasi': 1, 'semangka': 1, 'sendawa': 1, 'pembusukan': 1, 'uban': 1, 'rontok': 1, 'botak': 1, 'gugup': 1, 'ulas': 1, 'herbert': 1, 'shelton': 1, 'vitalitas': 1, 'sumbaremang': 1, 'copoti': 1, 'tari': 1, 'sentana': 1, 'pemerhati': 1, 'digabung': 1, 'dipajaki': 1, 'dilingkari': 1, 'simpul': 1, 'angell': 1, 'menggeser': 1, 'biadabnya': 1, 'dikristenkan': 1, 'ossos': 1, 'evora': 1, 'portugis': 1, 'biarawan': 1, 'fransiskan': 1, 'dicekik': 1, 'capella': 1, 'mengoleksi': 1, 'moor': 1, 'berfirman': 1, 'bagimu': 1, 'ossis': 1, 'bejo': 1, 'tanoa': 1, 'dipekerjakan': 1, 'membidik': 1, 'pelatuknya': 1, 'selusin': 1, 'peka': 1, 'potensial': 1, 'mengarahkan': 1, 'infra': 1, 'mengarahkannya': 1, 'lipatan': 1, 'ganjil': 1, 'gali': 1, 'italiani': 1, 'chiamano': 1, 'troppo': 1, 'stupid': 1, 'governatore': 1, 'ageng': 1, 'gribig': 1, 'progesterex': 1, 'pil': 1, 'mensterilisasi': 1, 'pub': 1, 'discotique': 1, 'mempraktikkan': 1, 'balaslah': 1, 'keburukan': 1, 'sinulingga': 1, 'diintruksikan': 1, 'mendunia': 1, 'kekonyolan': 1, 'utuhnya': 1, 'mondok': 1, 'ristekdikti': 1, 'bsw': 1, 'pdm': 1, 'usulan': 1, 'kemenristekdikti': 1, 'hrp': 1, 'mengajinya': 1, 'amma': 1, 'dideklarasikan': 1, 'gds': 1, 'pemandian': 1, 'sift': 1, 'umk': 1, 'outsorsing': 1, 'terapinya': 1, 'tengahnya': 1, 'luarnya': 1, 'delegasikan': 1, 'table': 1, 'triaja': 1, 'puri': 1, 'ngeklaim': 1, 'jarjit': 1, 'turban': 1, 'distopia': 1, 'independent': 1, 'khawatirkan': 1, 'paralel': 1, 'asyraf': 1, 'percayakan': 1, 'aed': 1, 'dirham': 1, 'kedisiplinan': 1, 'umu': 1, 'netty': 1, 'heryawan': 1, 'pembawa': 1, 'sadap': 1, 'rudy': 1, 'waligereja': 1, 'matlaah': 1, 'akronim': 1, 'orange': 1, 'resmikan': 1, 'jijik': 1, 'wasalam': 1, 'wainnailahi': 1, 'menganjurkan': 1, 'hayatnya': 1, 'jasadnya': 1, 'utsmani': 1, 'sirosis': 1, 'manaratul': 1, 'mafqudah': 1, 'ingatannya': 1, 'dokterpun': 1, 'membusung': 1, 'pasi': 1, 'dilingkupi': 1, 'yoshitha': 1, 'rajapaksa': 1, 'deniyaya': 1, 'kartun': 1, 'nabawi': 1, 'cermati': 1, 'ramah': 1, 'tumpeng': 1, 'kanoman': 1, 'materai': 1, 'berkhayal': 1, 'berhalu': 1, 'hany': 1, 'seremonial': 1, 'dipoles': 1, 'kebobrokan': 1, 'hrus': 1, 'eksodus': 1, 'berkecamuk': 1, 'muminin': 1, 'berbincang': 1, 'moncong': 1, 'menyalak': 1, 'kesaktian': 1, 'publish': 1, 'mengerucut': 1, 'amoh': 1, 'falsafah': 1, 'dadare': 1, 'keris': 1, 'ajine': 1, 'japit': 1, 'devils': 1, 'wyoming': 1, 'elpiji': 1, 'kadaluwarsanya': 1, 'lgi': 1, 'vietcong': 1, 'kronjo': 1, 'maruarar': 1, 'dirikan': 1, 'beraninya': 1, 'sentiment': 1, 'bineka': 1, 'kocak': 1, 'cinanisasi': 1, 'pakaiannya': 1, 'balong': 1, 'lekok': 1, 'banyumanik': 1, 'robotnya': 1, 'kreator': 1, 'diembat': 1, 'dikacaukan': 1, 'diakhir': 1, 'ipul': 1, 'gerinda': 1, 'sahih': 1, 'penukar': 1, 'merchandise': 1, 'religius': 1, 'korma': 1, 'balonku': 1, 'merosot': 1, 'tinggo': 1, 'ab': 1, 'barutama': 1, 'diperbincangkan': 1, 'jacobus': 1, 'busono': 1, 'hologramnya': 1, 'pencetak': 1, 'syahri': 1, 'chiba': 1, 'berkhotbah': 1, 'bah': 1, 'legionnaires': 1, 'nyak': 1, 'memuja': 1, 'presidenku': 1, 'kaisar': 1, 'silat': 1, 'jas': 1, 'kopiah': 1, 'karnaval': 1, 'zulfikar': 1, 'peperangan': 1, 'tinggali': 1, 'kesendirian': 1, 'adikku': 1, 'central': 1, 'dagu': 1, 'fachrori': 1, 'safrial': 1, 'didanai': 1, 'hebartus': 1, 'padi': 1, 'keteladanan': 1, 'vaksinkan': 1, 'pengendaranya': 1, 'republika': 1, 'keblinger': 1, 'mengumpulnya': 1, 'mengkafirkan': 1, 'teuku': 1, 'christ': 1, 'redeemer': 1, 'tertunduk': 1, 'shanti': 1, 'penghijauan': 1, 'khang': 1, 'thi': 1, 'nabinya': 1, 'kitabnya': 1, 'stensil': 1, 'kroco': 1, 'kroconya': 1, 'selaput': 1, 'muslihat': 1, 'wassalamu': 1, 'warahmatulahi': 1, 'curhat': 1, 'kedengaran': 1, 'ngmong': 1, 'animasi': 1, 'kulonprogo': 1, 'gadai': 1, 'second': 1, 'sjafri': 1, 'juventus': 1, 'plecident': 1, 'negeli': 1, 'warehouse': 1, 'ace': 1, 'hardware': 1, 'kelihatannya': 1, 'bismillahirrahmanirrahim': 1, 'menyangkal': 1, 'berpangkat': 1, 'ikutkan': 1, 'pilgub': 1, 'aum': 1, 'cengeng': 1, 'miskinkah': 1, 'hantaman': 1, 'mensupport': 1, 'dimanapun': 1, 'earth': 1, 'terkesan': 1, 'diberangus': 1, 'cekungan': 1, 'diperebutkan': 1, 'terparkir': 1, 'laksana': 1, 'sirna': 1, 'rida': 1, 'syam': 1, 'stan': 1, 'embrio': 1, 'angry': 1, 'euforia': 1, 'ventilasi': 1, 'pikirnya': 1, 'dine': 1, 'kemerdekaannya': 1, 'akademi': 1, 'sabang': 1, 'laju': 1, 'sofia': 1, 'imu': 1, 'responnya': 1, 'menyimpang': 1, 'syukron': 1, 'kekafiran': 1, 'pemutaran': 1, 'bertele': 1, 'memperdalam': 1, 'ijtihadnya': 1, 'mengantarkannya': 1, 'kemurnian': 1, 'salaf': 1, 'mencela': 1, 'berpemikiran': 1, 'dahriyah': 1, 'kecerdasannya': 1, 'berkeinginan': 1, 'mengkompromikan': 1, 'mizaanul': 1, 'itidaal': 1, 'asy': 1, 'tarikh': 1, 'phitagoras': 1, 'semisalnya': 1, 'kekufuran': 1, 'seburuk': 1, 'qayyim': 1, 'hafalan': 1, 'kekufurannya': 1, 'mengunggulinya': 1, 'kufur': 1, 'meluasnya': 1, 'mahfoudz': 1, 'pembalap': 1, 'merugi': 1, 'memenangkannya': 1, 'bianbe': 1, 'kentutnya': 1, 'diincar': 1, 'lpi': 1, 'pengecilan': 1, 'aminkan': 1, 'switiy': 1, 'takedown': 1, 'nontonnya': 1, 'stela': 1, 'has': 1, 'called': 1, 'about': 1, 'schools': 1, 'tergabung': 1, 'pembalasan': 1, 'nauzubillah': 1, 'dimaknai': 1, 'pelawak': 1, 'abdurrahman': 1, 'soerdirman': 1, 'pengadai': 1, 'pitur': 1, 'dem': 1, 'fidio': 1, 'alis': 1, 'mengemis': 1, 'erly': 1, 'cakap': 1, 'firmansyah': 1, 'klepon': 1, 'peringati': 1, 'menginformasikannya': 1, 'gemah': 1, 'ripah': 1, 'jinawi': 1, 'dicapai': 1, 'arrow': 1, 'heading': 1, 'nyanyian': 1, 'sementra': 1, 'gratula': 1, 'jagoan': 1, 'wall': 1, 'birawa': 1, 'diraja': 1, 'berlawanan': 1, 'disetir': 1, 'difitnah': 1, 'membantainya': 1, 'dihembuskan': 1, 'corong': 1, 'kening': 1, 'diponorogo': 1, 'koyok': 1, 'reog': 1, 'gampar': 1, 'merangkai': 1, 'gelandangan': 1, 'antena': 1, 'kargo': 1, 'pengangkut': 1, 'togu': 1, 'simatupang': 1, 'apartemennya': 1, 'negeriku': 1, 'toni': 1, 'inventaris': 1, 'otaq': 1, 'mufida': 1, 'sbj': 1, 'mainnya': 1, 'kpopers': 1, 'banting': 1, 'bacotan': 1, 'haters': 1, 'ambisius': 1, 'gebernur': 1, 'sophiainilah': 1, 'sfts': 1, 'map': 1, 'menjerumuskan': 1, 'menjauhkan': 1, 'mempostingnya': 1, 'merelakan': 1, 'gudeg': 1, 'pesinden': 1, 'bersejarah': 1, 'pikirannya': 1, 'zodiak': 1, 'ophiuchus': 1, 'dimandikan': 1, 'penasehat': 1, 'berbalik': 1, 'qiant': 1, 'santang': 1, 'santiang': 1, 'rachmawati': 1, 'musyrik': 1, 'simalakama': 1, 'sidiq': 1, 'membodohi': 1, 'dibuatnya': 1, 'ambroncius': 1, 'terindikasikan': 1, 'beristri': 1, 'tuk': 1, 'durjana': 1, 'mutu': 1, 'inisial': 1, 'kepanjangan': 1, 'ceraikan': 1, 'naba': 1, 'haal': 1, 'bodys': 1, 'lekar': 1, 'ko': 1, 'mazak': 1, 'samjo': 1, 'lelucon': 1, 'kumohon': 1, 'shopia': 1, 'kesederhaan': 1, 'bersaksi': 1, 'berdusta': 1, 'mesranya': 1, 'ideolog': 1, 'kediamannya': 1, 'pao': 1, 'thui': 1, 'ryadi': 1, 'demit': 1, 'reinkarnasi': 1, 'mengepung': 1, 'feizal': 1, 'samin': 1, 'kebab': 1, 'minumannya': 1, 'kromo': 1, 'inggil': 1, 'mengagumkan': 1, 'gun': 1, 'pakta': 1, 'tersampaikan': 1, 'terprogram': 1, 'cabak': 1, 'mukanya': 1, 'mengesalkan': 1, 'sira': 1, 'setaman': 1, 'bernarasikan': 1, 'kara': 1, 'mung': 1, 'kin': 1, 'tmt': 1, 'kardio': 1, 'joging': 1, 'berdenda': 1, 'dipatuhi': 1, 'taulan': 1, 'notes': 1, 'jessica': 1, 'jane': 1, 'mufc': 1, 'gea': 1, 'korpri': 1, 'stoian': 1, 'alexov': 1, 'pathologi': 1, 'diverifikasi': 1, 'obyektif': 1, 'cepatlah': 1, 'melinda': 1, 'hana': 1, 'hanifah': 1, 'kalideres': 1, 'cuek': 1, 'pesindo': 1, 'seterus': 1, 'presnya': 1, 'terbitlah': 1, 'streskan': 1, 'bead': 1, 'monokwari': 1, 'dermarga': 1, 'nurmanto': 1, 'merevisi': 1, 'sebagiannya': 1, 'menguatkan': 1, 'bersistematik': 1, 'pembacokan': 1, 'ranca': 1, 'caring': 1, 'diberkati': 1, 'menikmatinya': 1, 'karnivan': 1, 'sekolahlah': 1, 'kebohongannya': 1, 'bayangi': 1, 'lag': 1, 'mkn': 1, 'corola': 1, 'basmi': 1, 'perbuat': 1, 'zik': 1, 'penimbunan': 1, 'jadwalkan': 1, 'kemanakah': 1, 'serem': 1, 'mengidam': 1, 'ngidam': 1, 'intim': 1, 'bertumbuh': 1, 'ukthi': 1, 'troploblus': 1, 'anggur': 1, 'seremnya': 1, 'derita': 1, 'kecapekan': 1, 'hormonal': 1, 'buni': 1, 'memenjarakan': 1, 'mengulanginya': 1, 'assyeikh': 1, 'sudais': 1, 'emaknya': 1, 'pai': 1, 'mts': 1, 'secretman': 1, 'ngenas': 1, 'facebookku': 1, 'jancok': 1, 'mirisnya': 1, 'akalannya': 1, 'pemerintahannya': 1, 'ribka': 1, 'endriartono': 1, 'sutarto': 1, 'labeli': 1, 'ngebul': 1, 'pemukulan': 1, 'penjahatlah': 1, 'mengisinya': 1, 'tayib': 1, 'bersholawat': 1, 'kinclong': 1, 'berhaluan': 1, 'mengomongkan': 1, 'tek': 1, 'sableng': 1, 'jak': 1, 'konversi': 1, 'javed': 1, 'haider': 1, 'barrack': 1, 'kharisma': 1, 'ken': 1, 'epositif': 1, 'aghi': 1, 'beratnya': 1, 'ontel': 1, 'antonius': 1, 'reiner': 1, 'haryanto': 1, 'transformasi': 1, 'holding': 1, 'pertamedika': 1, 'bertaring': 1, 'bahagianya': 1, 'pirus': 1, 'lunar': 1, 'hunter': 1, 'pitam': 1, 'nfl': 1, 'terlilit': 1, 'cabul': 1, 'citayam': 1, 'gurih': 1, 'bungkul': 1, 'nangis': 1, 'mataku': 1, 'bentolan': 1, 'kempes': 1, 'kelopak': 1, 'laras': 1, 'sekelumit': 1, 'mayapada': 1, 'boss': 1, 'nyonya': 1, 'klan': 1, 'mendownload': 1, 'memakzulkan': 1, 'terbalikkan': 1, 'pembakar': 1, 'cal': 1, 'loreng': 1, 'hilmar': 1, 'farid': 1, 'jembut': 1, 'julinar': 1, 'sinaga': 1, 'mia': 1, 'tayamum': 1, 'kakung': 1, 'tirka': 1, 'nandadan': 1, 'ugr': 1, 'ramelan': 1, 'pakualaman': 1, 'bersandiwara': 1, 'kendal': 1, 'fasum': 1, 'mentaati': 1, 'ripka': 1, 'gampangkan': 1, 'boku': 1, 'streaming': 1, 'rajasthan': 1, 'baagil': 1, 'kuhp': 1, 'luwu': 1, 'keluarnya': 1, 'geli': 1, 'duri': 1, 'bertolak': 1, 'mengkritisi': 1, 'dibumbui': 1, 'minkhan': 1, 'lilinnya': 1, 'berkarakter': 1, 'fitting': 1, 'menduplikat': 1, 'alginat': 1, 'presisi': 1, 'gypsum': 1, 'moulding': 1, 'dituang': 1, 'bersuhu': 1, 'karakternya': 1, 'manyun': 1, 'cemberut': 1, 'giginya': 1, 'mouldingnya': 1, 'menanam': 1, 'berbiaya': 1, 'tusaud': 1, 'rad': 1, 'hemostasis': 1, 'mentalitas': 1, 'berolahraga': 1, 'kesedihan': 1, 'inersial': 1, 'berpenyakit': 1, 'ototmu': 1, 'aktiflah': 1, 'tambahnya': 1, 'ferawati': 1, 'mahligai': 1, 'jingga': 1, 'mengherankan': 1, 'dorongan': 1, 'mengerang': 1, 'kesakitan': 1, 'menerusnya': 1, 'kotanya': 1, 'payah': 1, 'situasinya': 1, 'skeptis': 1, 'mencobanya': 1, 'seninya': 1, 'antibiotics': 1, 'opname': 1, 'sosialisasikan': 1, 'sulfat': 1, 'hajjah': 1, 'azizah': 1, 'fb': 1, 'adminnya': 1, 'prosedurnya': 1, 'wuchan': 1, 'kualitasnya': 1, 'digeruduk': 1, 'menumbangkan': 1, 'fakir': 1, 'kuncen': 1, 'memecat': 1, 'noviyanti': 1, 'teriakan': 1, 'muti': 1, 'med': 1, 'sekum': 1, 'pustakanya': 1, 'draft': 1, 'naskahnya': 1, 'filosofis': 1, 'urgensi': 1, 'yuridis': 1, 'sosiologisnya': 1, 'ketergesaan': 1, 'membahasnya': 1, 'turbo': 1, 'minibus': 1, 'pelambatan': 1, 'kejanggalannya': 1, 'inisiator': 1, 'mereduksi': 1, 'ekasila': 1, 'ketuhanan': 1, 'konsolidasi': 1, 'anasir': 1, 'merongrong': 1, 'redaksinya': 1, 'ideologisnya': 1, 'ideologis': 1, 'kedodoran': 1, 'kesiagaan': 1, 'membentengi': 1, 'infiltrasi': 1, 'merusaknya': 1, 'konstitusional': 1, 'ortom': 1, 'otonomnya': 1, 'integrasi': 1, 'idiologis': 1, 'lupakan': 1, 'piawai': 1, 'struktural': 1, 'membius': 1, 'kebinasaan': 1, 'ditimbulkannya': 1, 'merajalela': 1, 'membinasakan': 1, 'ruzhanul': 1, 'bernamakan': 1, 'seto': 1, 'mengomentari': 1, 'kd': 1, 'raul': 1, 'gonzales': 1, 'terselesaikan': 1, 'pantau': 1, 'deserted': 1, 'japani': 1, 'rohini': 1, 'due': 1, 'fear': 1, 'nobody': 1, 'visits': 1, 'ghost': 1, 'exercising': 1, 'witnessed': 1, 'germo': 1, 'menerbitkannya': 1, 'sumringah': 1, 'kontradiksi': 1, 'muso': 1, 'sundari': 1, 'diskotik': 1, 'memublikasikan': 1, 'fachrul': 1, 'berkepanjangan': 1, 'pengarep': 1, 'ikannya': 1, 'bukankan': 1, 'menjari': 1, 'berwarga': 1, 'consky': 1, 'widia': 1, 'mentari': 1, 'koridor': 1, 'panja': 1, 'tunaikan': 1, 'jumawanya': 1, 'citranya': 1, 'senyata': 1, 'jateng': 1, 'setda': 1, 'haryati': 1, 'nyekar': 1, 'notomihardjo': 1, 'frananda': 1, 'direalisasikan': 1, 'coved': 1, 'bukak': 1, 'dibelakangnya': 1, 'chipnya': 1, 'tasit': 1, 'algoritma': 1, 'mengotori': 1, 'kurir': 1, 'garansi': 1, 'webnya': 1, 'jnt': 1, 'disamarkan': 1, 'menepati': 1, 'andrian': 1, 'irianti': 1, 'djuremi': 1, 'reinke': 1, 'kartosowirjo': 1, 'agresi': 1, 'membungkam': 1, 'kartosoewirjo': 1, 'pemikirannya': 1, 'mesra': 1, 'hadirnya': 1, 'nasakom': 1, 'dibanyak': 1, 'menyesali': 1, 'lengsernya': 1, 'terlaknatlah': 1, 'ungaran': 1, 'helmi': 1, 'curigai': 1, 'supri': 1, 'kassanova': 1, 'henri': 1, 'exercise': 1, 'rebreathing': 1, 'terisap': 1, 'udaranya': 1, 'dipakainya': 1, 'vvip': 1, 'gode': 1, 'sumule': 1, 'termaksud': 1, 'kalin': 1, 'tampi': 1, 'helmy': 1, 'tvri': 1, 'mikha': 1, 'akhbariyyah': 1, 'diservice': 1, 'penyamaran': 1, 'dimanja': 1, 'simdikonline': 1, 'dirahasiakan': 1, 'menyapa': 1, 'dwayne': 1, 'rock': 1, 'tersibuk': 1, 'judha': 1, 'reuters': 1, 'lahore': 1, 'secercah': 1, 'meloncat': 1, 'menyisir': 1, 'dilalap': 1, 'uzair': 1, 'arshad': 1, 'pesawatnya': 1, 'menyahut': 1, 'kelaikan': 1, 'menyayat': 1, 'begitukan': 1, 'elus': 1, 'eluskan': 1, 'warasummat': 1, 'ulamanya': 1, 'penjarakan': 1, 'romadhon': 1, 'sekeji': 1, 'terbungkus': 1, 'kepanasannya': 1, 'menggetarkan': 1, 'sitompul': 1, 'percontohan': 1, 'kepatuhan': 1, 'pasif': 1, 'indogrosir': 1, 'kariim': 1, 'disyukuri': 1, 'berdahak': 1, 'seujung': 1, 'dikit': 1, 'batuknyapun': 1, 'bables': 1, 'mengawetkan': 1, 'eksperiment': 1, 'tenggorokanku': 1, 'mamah': 1, 'lifenews': 1, 'martha': 1, 'villafuerte': 1, 'guayaquil': 1, 'aci': 1, 'prensa': 1, 'koagulasi': 1, 'intravaskular': 1, 'diseminata': 1, 'bandel': 1, 'dilockdown': 1, 'application': 1, 'melockdown': 1, 'kadus': 1, 'dihakimi': 1, 'ellen': 1, 'degeneres': 1, 'jow': 1, 'tumpas': 1, 'vios': 1, 'berpenis': 1, 'paksaan': 1, 'jurug': 1, 'menabur': 1, 'dilingkar': 1, 'tahunya': 1, 'carrier': 1, 'nintau': 1, 'terkontaminasi': 1, 'dinyinyiri': 1, 'kiraan': 1, 'disanggah': 1, 'sinih': 1, 'langseng': 1, 'besoknya': 1, 'terjamah': 1, 'penataran': 1, 'seusai': 1, 'karbohidrat': 1, 'trigliserida': 1, 'melitus': 1, 'tds': 1, 'ppm': 1, 'bird': 1, 'giant': 1, 'karyawannya': 1, 'equator': 1, 'membasahi': 1, 'berdonasi': 1, 'pahalanya': 1, 'pall': 1, 'lg': 1, 'bbtklpp': 1, 'saf': 1, 'membasuh': 1, 'tertanggal': 1, 'sekdaprov': 1, 'relaksasi': 1, 'kaifiat': 1, 'ptk': 1, 'diberitahukan': 1, 'mengajar': 1, 'kondisional': 1, 'syawal': 1, 'fitrah': 1, 'tempatan': 1, 'loyalitas': 1, 'lamaranmu': 1, 'moestopo': 1, 'pengamal': 1, 'vegetarians': 1, 'viruses': 1, 'nation': 1, 'roro': 1, 'karowatpers': 1, 'cileungsiklo': 1, 'iuran': 1, 'dijamu': 1, 'seputaran': 1, 'barzakh': 1, 'uma': 1, 'mahendradata': 1, 'kebo': 1, 'iwa': 1, 'biaung': 1, 'penatih': 1, 'mekedekan': 1, 'tertahan': 1, 'pendistribusian': 1, 'rusyandi': 1, 'kakesih': 1, 'diwindusari': 1, 'gondangrejo': 1, 'windusari': 1, 'interior': 1, 'labkesda': 1, 'mencomot': 1, 'menontonnya': 1, 'weve': 1, 'been': 1, 'warned': 1, 'years': 1, 'diterangi': 1, 'dielaki': 1, 'cordoba': 1, 'amrullah': 1, 'zainuddin': 1, 'imberan': 1, 'ottoman': 1, 'kemukus': 1, 'coco': 1, 'ling': 1, 'mempertanggungjawabkan': 1, 'berfarak': 1, 'diupayakan': 1, 'memalsukan': 1, 'kelompoknya': 1, 'pembuang': 1, 'pelepah': 1, 'wol': 1, 'tamam': 1, 'botania': 1, 'masuukk': 1, 'konawe': 1, 'gbi': 1, 'gpib': 1, 'fasik': 1, 'ichwan': 1, 'slangor': 1, 'binti': 1, 'ediba': 1, 'tan': 1, 'wiliam': 1, 'suryajaya': 1, 'onel': 1, 'haim': 1, 'bayangkara': 1, 'rusun': 1, 'bago': 1, 'kemenhub': 1, 'aturannya': 1, 'segarkan': 1, 'tepati': 1, 'pepatah': 1, 'sumbu': 1, 'janjikan': 1, 'ganesha': 1, 'pa': 1, 'tu': 1, 'so': 1, 'padu': 1, 'haknya': 1, 'seenaknya': 1, 'bersambung': 1, 'cibinong': 1, 'pledang': 1, 'pdk': 1, 'rajeg': 1, 'mengisolasi': 1, 'bt': 1, 'katak': 1, 'tatacara': 1, 'semayam': 1, 'dionisius': 1, 'doro': 1, 'kathleen': 1, 'omara': 1, 'mewabahnya': 1, 'seperlima': 1, 'spanish': 1, 'aktivitasnya': 1, 'bermeditasi': 1, 'merenungi': 1, 'bumipun': 1, 'pmrintahan': 1, 'tlr': 1, 'ekspedisi': 1, 'dimusnahkan': 1, 'djisamsoe': 1, 'mild': 1, 'keretek': 1, 'magnum': 1, 'suction': 1, 'delhi': 1, 'kiran': 1, 'rao': 1, 'chaddha': 1, 'idntimes': 1, 'zee': 1, 'mvp': 1, 'films': 1, 'berjaga': 1, 'konglomerasi': 1, 'forbes': 1, 'gendam': 1, 'merikso': 1, 'ujungnya': 1, 'karo': 1, 'nebus': 1, 'wedok': 1, 'jilbaban': 1, 'jogoroto': 1, 'dulur': 1, 'koyo': 1, 'kefoto': 1, 'mergo': 1, 'wes': 1, 'keburu': 1, 'minggat': 1, 'pelakune': 1, 'memblok': 1, 'terkelam': 1, 'batanti': 1, 'beradik': 1, 'diluar': 1, 'apbl': 1, 'kelar': 1, 'rmh': 1, 'ok': 1, 'waee': 1, 'berakhirnya': 1, 'see': 1, 'less': 1, 'nadiah': 1, 'jar': 1, 'elisa': 1, 'granato': 1, 'dompet': 1, 'tasuku': 1, 'honjo': 1, 'ditubuh': 1, 'jasi': 1, 'protocol': 1, 'century': 1, 'stefany': 1, 'marima': 1, 'pengaduan': 1, 'agent': 1, 'sheikha': 1, 'hamdanal': 1, 'maktoum': 1, 'waktumu': 1, 'membara': 1, 'suat': 1, 'ehri': 1, 'belediye': 1, 'kerim': 1, 'okuttu': 1, 'cangkuk': 1, 'denai': 1, 'dibelikan': 1, 'menyisihkan': 1, 'persoalan': 1, 'kepling': 1, 'beramal': 1, 'dibulan': 1, 'paseh': 1, 'maafkan': 1, 'menghilangnya': 1, 'tundanya': 1, 'dendam': 1, 'raka': 1, 'tersebarnya': 1, 'ego': 1, 'imbauan': 1, 'selvi': 1, 'esensi': 1, 'memupuk': 1, 'mengunci': 1, 'perseorangan': 1, 'penyeberangan': 1, 'didalem': 1, 'merekapun': 1, 'penjaranya': 1, 'mngeluarkan': 1, 'modelnya': 1, 'semaksimal': 1, 'selenggarakan': 1, 'wid': 1, 'grahadi': 1, 'digelar': 1, 'bergetar': 1, 'mgmp': 1, 'diinstruksikan': 1, 'kronologisnya': 1, 'servicenya': 1, 'berstatus': 1, 'gamping': 1, 'ditest': 1, 'ybs': 1, 'desanya': 1, 'mbok': 1, 'menawi': 1, 'sman': 1, 'yk': 1, 'suhat': 1, 'panjangnya': 1, 'kesepian': 1, 'olehnya': 1, 'asking': 1, 'alesandria': 1, 'erma': 1, 'yunita': 1, 'simamora': 1, 'lbk': 1, 'polda': 1, 'priok': 1, 'uci': 1, 'gilang': 1, 'temperature': 1, 'diary': 1, 'doni': 1, 'kemenkop': 1, 'meminimalisir': 1, 'didengarkan': 1, 'pedasnya': 1, 'waluyo': 1, 'kokohnya': 1, 'blunder': 1, 'ketidakseriusan': 1, 'nap': 1, 'merebaknya': 1, 'rasional': 1, 'ketidakkompakan': 1, 'downfall': 1, 'twist': 1, 'gendut': 1, 'topeng': 1, 'disembunyikannya': 1, 'memuliakannya': 1, 'polemik': 1, 'dyna': 1, 'ranch': 1, 'dipepet': 1, 'aisle': 1, 'baka': 1, 'badannya': 1, 'megatron': 1, 'yeet': 1, 'perjuanganku': 1, 'perjuanganmu': 1, 'menggerebek': 1, 'sinagoge': 1, 'dukacita': 1, 'sabam': 1, 'antam': 1, 'disemayamkan': 1, 'sandiego': 1, 'hills': 1, 'yulivia': 1, 'penghujung': 1, 'defensif': 1, 'marhaban': 1, 'unusual': 1, 'napak': 1, 'tilas': 1, 'cemerlang': 1, 'ditawarkan': 1, 'disimak': 1, 'bingkisan': 1, 'memberkahimu': 1, 'semulia': 1, 'langkahmu': 1, 'guyup': 1, 'bersyukurnya': 1, 'agamaku': 1, 'dicekoki': 1, 'empek': 1, 'terbarunya': 1, 'kjp': 1, 'setya': 1, 'novanto': 1, 'vonisnya': 1, 'komarudin': 1, 'boyband': 1, 'exo': 1, 'album': 1, 'lightsticknya': 1, 'dmin': 1, 'lenteng': 1, 'komjen': 1, 'mulya': 1, 'beji': 1, 'disekat': 1, 'daftarnya': 1, 'don': 1, 'apraid': 1, 'contri': 1, 'sinergi': 1, 'kit': 1, 'kepastian': 1, 'eddy': 1, 'senat': 1, 'jambret': 1, 'terbegal': 1, 'promotion': 1, 'girl': 1, 'dijambret': 1, 'gratiskan': 1, 'perundang': 1, 'apt': 1, 'syafitri': 1, 'purchase': 1, 'diatas': 1, 'responsibility': 1, 'csr': 1, 'demikianlah': 1, 'dermikianlah': 1, 'feibina': 1, 'dropletnya': 1, 'membasuhnya': 1, 'brokoli': 1, 'kelor': 1, 'manula': 1, 'diperuntukkan': 1, 'psikosomatik': 1, 'tersugesti': 1, 'asumsinya': 1, 'inkubasinya': 1, 'memorinya': 1, 'optimisme': 1, 'asumsi': 1, 'bimbo': 1, 'cekal': 1, 'kreditnya': 1, 'sopirnya': 1, 'australian': 1, 'kurantin': 1, 'cukupi': 1, 'simpatik': 1, 'berboncengan': 1, 'komplit': 1, 'persiden': 1, 'berguguran': 1, 'lpsm': 1, 'fahrur': 1, 'rozi': 1, 'suites': 1, 'berry': 1, 'sunset': 1, 'road': 1, 'seminyak': 1, 'sintesa': 1, 'jimbaran': 1, 'kalijaga': 1, 'ciperna': 1, 'tangkil': 1, 'kedawung': 1, 'meludahi': 1, 'superindo': 1, 'bakmi': 1, 'fathur': 1, 'ringgit': 1, 'alhabsyi': 1, 'togog': 1, 'bedebah': 1, 'menangisi': 1, 'ruqyah': 1, 'rap': 1, 'brt': 1, 'pendetanya': 1, 'gpdi': 1, 'umatnya': 1, 'rujuk': 1, 'efarina': 1, 'terlacak': 1, 'merepotkan': 1, 'weekend': 1, 'azankan': 1, 'tabikpun': 1, 'bpbn': 1, 'kebiadapan': 1, 'lalai': 1, 'mengimpor': 1, 'dikomandoi': 1, 'memfonis': 1, 'dikuasainya': 1, 'pemikir': 1, 'embargo': 1, 'penjernihan': 1, 'pemurnian': 1, 'uyung': 1, 'dipertontonkan': 1, 'pundinya': 1, 'ditengah': 1, 'thanah': 1, 'nineteen': 1, 'safie': 1, 'sektornya': 1, 'berendam': 1, 'eksis': 1, 'mengarab': 1, 'hababina': 1, 'sekecamatan': 1, 'colector': 1, 'apartemen': 1, 'bundle': 1, 'persahabatan': 1, 'amoxicillin': 1, 'dilogika': 1, 'amoxilin': 1, 'sulami': 1, 'kristianyahudi': 1, 'mengalunkan': 1, 'ilaaha': 1, 'ilalloh': 1, 'kejut': 1, 'penggali': 1, 'aki': 1, 'ball': 1, 'cleveland': 1, 'layangkan': 1, 'teleponnya': 1, 'tertata': 1, 'negaraan': 1, 'muatnya': 1, 'buntutnya': 1, 'mamak': 1, 'ndro': 1, 'physical': 1, 'mengoperasi': 1, 'pertobatan': 1, 'tercepat': 1, 'panjatkan': 1, 'tuntunlah': 1, 'pabriknya': 1, 'salesnya': 1, 'pembelinya': 1, 'mumet': 1, 'endasku': 1, 'berbahasa': 1, 'upc': 1, 'sejagat': 1, 'kanika': 1, 'kapoor': 1, 'skor': 1, 'gergasi': 1, 'bergamo': 1, 'nsbh': 1, 'penangguhan': 1, 'alfa': 1, 'saddam': 1, 'hussein': 1, 'dok': 1, 'khazatsin': 1, 'pengorbanan': 1, 'dikuatkan': 1, 'rusmawan': 1, 'irawan': 1, 'irawanalakbar': 1, 'ethiopia': 1, 'soetrisno': 1, 'loveathlete': 1, 'lovemirae': 1, 'karton': 1, 'tulus': 1, 'massive': 1, 'stp': 1, 'pengarangan': 1, 'dating': 1, 'kalebun': 1, 'pangarangan': 1, 'antisipasinya': 1, 'scientist': 1, 'biochemistry': 1, 'biotechnology': 1, 'dikembangbiakkan': 1, 'peralatan': 1, 'cawan': 1, 'awam': 1, 'mould': 1, 'sebutannya': 1, 'beranaknya': 1, 'pengembangbiakannya': 1, 'pembentuk': 1, 'beregenerasi': 1, 'infografisnya': 1, 'dibalut': 1, 'bag': 1, 'mengubur': 1, 'sis': 1, 'avoid': 1, 'expedisi': 1, 'tjk': 1, 'betung': 1, 'menetap': 1, 'maura': 1, 'mashaa': 1, 'asbab': 1, 'alkisah': 1, 'dizholimin': 1, 'swt': 1, 'incarannya': 1, 'buas': 1, 'mendera': 1, 'pageblug': 1, 'lodeh': 1, 'microphone': 1, 'dasi': 1, 'kentut': 1, 'beraknya': 1, 'kodya': 1, 'jumatan': 1, 'bubarnya': 1, 'hafid': 1, 'unsyiah': 1, 'cannabidiol': 1, 'kanabis': 1, 'bermuara': 1, 'menggembirakan': 1, 'tercintanya': 1, 'digadaikannya': 1, 'dengarnya': 1, 'penularannya': 1, 'roche': 1, 'company': 1, 'terbitan': 1, 'telaga': 1, 'bestari': 1, 'humanoid': 1, 'susiana': 1, 'semprot': 1, 'dhuhur': 1, 'bezuk': 1, 'rsi': 1, 'cemputih': 1, 'parsial': 1, 'buron': 1, 'nadien': 1, 'klorokuin': 1, 'meliburkan': 1, 'outing': 1, 'yandu': 1, 'bindu': 1, 'hotelnya': 1, 'karangturi': 1, 'balak': 1, 'terapis': 1, 'spa': 1, 'goldenhands': 1, 'berkaos': 1, 'horin': 1, 'queensland': 1, 'tom': 1, 'hanks': 1, 'badau': 1, 'kokas': 1, 'alvaro': 1, 'recoba': 1, 'beralkohol': 1, 'epicentral': 1, 'hbkb': 1, 'perketat': 1, 'disesuaikan': 1, 'ricky': 1, 'typus': 1, 'cubical': 1, 'kekal': 1, 'season': 1, 'lembaran': 1, 'hvs': 1, 'menerjang': 1, 'mohamed': 1, 'suryana': 1, 'hilda': 1, 'tergagap': 1, 'menyimak': 1, 'tenjolaya': 1, 'jict': 1, 'cgm': 1, 'virgina': 1, 'thawaf': 1, 'tornado': 1, 'lebh': 1, 'memlk': 1, 'seln': 1, 'berbcr': 1, 'hl': 1, 'dientot': 1, 'karakteristik': 1, 'berikatan': 1, 'dengn': 1, 'dkethu': 1, 'memperjelas': 1, 'tpe': 1, 'meloloskan': 1, 'tompi': 1, 'sekelas': 1, 'shenzen': 1, 'mengidentifikasinya': 1, 'menyiasati': 1, 'menularnya': 1, 'secepat': 1, 'soaial': 1, 'responsility': 1, 'suryanto': 1, 'narendra': 1, 'makanannya': 1, 'pantaslah': 1, 'sehina': 1, 'hinanya': 1, 'isapan': 1, 'bulus': 1, 'parung': 1, 'pembantunya': 1, 'menyortir': 1, 'ply': 1, 'solida': 1, 'diotak': 1, 'seenak': 1, 'rezaa': 1, 'curug': 1, 'skiratan': 1, 'didoakan': 1, 'baloot': 1, 'arena': 1, 'perjudian': 1, 'dyah': 1, 'shariah': 1, 'sinclair': 1, 'merobek': 1, 'kencingi': 1, 'meikarta': 1, 'sebekasi': 1, 'dirundung': 1, 'yudi': 1, 'terbukanya': 1, 'janee': 1, 'selelah': 1, 'menghitam': 1, 'gutian': 1, 'memperhitungkan': 1, 'menyebarluaskan': 1, 'dirobohkan': 1, 'cipularang': 1, 'ginjalnya': 1, 'trim': 1, 'dibeginikan': 1, 'tegalsari': 1, 'jagat': 1, 'mengkilap': 1, 'machupo': 1, 'derek': 1, 'mwr': 1, 'memojokkan': 1, 'dipromosikan': 1, 'soebianto': 1, 'cawagub': 1, 'chinaisasi': 1, 'dimulailah': 1, 'sutera': 1, 'kapuk': 1, 'juling': 1, 'menghamburkan': 1, 'tutupi': 1, 'jauhi': 1, 'pax': 1, 'carona': 1, 'changsa': 1, 'mdc': 1, 'biohazard': 1, 'pedro': 1, 'bertobatlah': 1, 'sejahterakan': 1, 'jeruknya': 1, 'disinfeksi': 1, 'kariadi': 1, 'karuan': 1, 'impian': 1, 'passing': 1, 'grade': 1, 'sbmptn': 1, 'pasfes': 1, 'captive': 1, 'dibackup': 1, 'startup': 1, 'jek': 1, 'selangor': 1, 'aljazeera': 1, 'karung': 1, 'sedepok': 1, 'suspek': 1, 'toraknya': 1, 'kyna': 1, 'kobe': 1, 'bryant': 1, 'paten': 1, 'iqbal': 1, 'weda': 1, 'doris': 1, 'sylvanus': 1, 'report': 1, 'announces': 1, 'intention': 1, 'run': 1, 'ndp': 1, 'mengatai': 1, 'priuk': 1, 'korelasi': 1, 'berudu': 1, 'dikutuk': 1, 'berkepala': 1, 'puteri': 1, 'ameera': 1, 'mematahkan': 1, 'nem': 1, 'rangking': 1, 'amancu': 1, 'mantu': 1, 'autis': 1, 'menyita': 1, 'luang': 1, 'starving': 1, 'brains': 1, 'jaquelyn': 1, 'mccandless': 1, 'grasindo': 1, 'stlh': 1, 'didiagnosa': 1, 'aug': 1, 'pengawet': 1, 'selubung': 1, 'gluten': 1, 'casein': 1, 'dibarengi': 1, 'suplemen': 1, 'keseluruhannya': 1, 'marilah': 1, 'proaktif': 1, 'assertif': 1, 'cobalah': 1, 'supplemen': 1, 'tunggunya': 1, 'senasibnya': 1, 'belenggu': 1, 'with': 1, 'others': 1, 'that': 1, 'almukor': 1, 'dikelilingi': 1, 'sebanjaran': 1, 'cirinya': 1, 'gayanya': 1, 'kanibal': 1, 'bombana': 1, 'dibone': 1, 'iris': 1, 'diisap': 1, 'lalang': 1, 'bertelepon': 1, 'fay': 1, 'sebayanya': 1, 'elf': 1, 'eksepsinya': 1, 'ndak': 1, 'omongkan': 1, 'sich': 1, 'taww': 1, 'pma': 1, 'kenaikannya': 1, 'bbws': 1, 'jeneberang': 1, 'suparji': 1, 'curah': 1, 'modar': 1, 'turkestan': 1, 'kekagetan': 1, 'jokkw': 1, 'jiplak': 1, 'getahnya': 1, 'keadaannya': 1, 'parunya': 1, 'untungnya': 1, 'mertua': 1, 'demamnya': 1, 'membal': 1, 'dioplos': 1, 'yanti': 1, 'ain': 1, 'anbar': 1, 'dinginnya': 1, 'geser': 1, 'patok': 1, 'koala': 1, 'senyum': 1, 'menyeringai': 1, 'vika': 1, 'berondong': 1, 'qaseem': 1, 'soleimani': 1, 'membanjiri': 1, 'kawula': 1, 'hpmu': 1, 'menginstal': 1, 'lo': 1, 'pemasukannya': 1, 'pencetus': 1, 'raupan': 1, 'dipisah': 1, 'sengat': 1, 'bergilir': 1, 'seimanmu': 1, 'pencatat': 1, 'keseriusan': 1, 'action': 1, 'kumis': 1, 'fatemeh': 1, 'khanum': 1, 'bertahta': 1, 'coast': 1, 'perasaanmu': 1, 'menyalahkan': 1, 'mercon': 1, 'toot': 1, 'dor': 1, 'imbuhnya': 1, 'wiryawan': 1, 'gerombolannya': 1, 'cornelius': 1, 'nuril': 1, 'vihara': 1, 'lopang': 1, 'driyorejo': 1, 'bmw': 1, 'dipanggang': 1, 'pinjamkan': 1, 'sayyidina': 1, 'berdetak': 1, 'momentum': 1, 'dihadiahkan': 1, 'kompatibel': 1, 'allahumma': 1, 'syayyidina': 1, 'dewo': 1, 'sindiran': 1, 'pedas': 1, 'darusalam': 1, 'pelanggannya': 1, 'dormeng': 1, 'melansir': 1, 'farah': 1, 'membaginya': 1, 'merendam': 1, 'membiru': 1, 'indikator': 1, 'permulaan': 1, 'sandara': 1, 'ibrahimovic': 1, 'perban': 1, 'tebus': 1, 'sumbernya': 1, 'kitty': 1, 'hello': 1, 'kiity': 1, 'fatimah': 1, 'aynur': 1, 'terperangkap': 1, 'akuisisi': 1, 'seriawan': 1, 'kasau': 1, 'auri': 1, 'pelurunya': 1, 'mempertanyakan': 1, 'pswt': 1, 'diplomatik': 1, 'crackers': 1, 'dagelan': 1, 'koplax': 1, 'pancung': 1, 'penggawa': 1, 'melontarkan': 1, 'sorotan': 1, 'mengucek': 1, 'rahyussalim': 1, 'danadiputra': 1, 'doradong': 1, 'setrum': 1, 'telefon': 1, 'berdering': 1, 'menyalinnya': 1, 'belarus': 1, 'lativa': 1, 'valparaiso': 1, 'vilnius': 1, 'autoreject': 1, 'penelepon': 1, 'menjebol': 1, 'banking': 1, 'merekayasa': 1, 'interpol': 1, 'natalan': 1, 'selawat': 1, 'podomoro': 1, 'mistadi': 1, 'diterkam': 1, 'labrak': 1, 'mengorupsi': 1, 'membahagia': 1, 'mempercantik': 1, 'bermerek': 1, 'negri': 1, 'sami': 1, 'dyak': 1, 'dirut': 1, 'daughter': 1, 'polim': 1, 'oarfish': 1, 'bas': 1, 'menceraikan': 1, 'alak': 1, 'sketsanews': 1, 'kooh': 1, 'wargamu': 1, 'jaden': 1, 'ikrar': 1, 'diobservasi': 1, 'merasuk': 1, 'terserapnya': 1, 'molekul': 1, 'terserap': 1, 'didalam': 1, 'meminimalkan': 1, 'bayinya': 1, 'sewajarnya': 1, 'pijak': 1, 'kecoak': 1, 'kecoa': 1, 'terdamparnya': 1, 'nepa': 1, 'banyuates': 1, 'wamenag': 1, 'riya': 1, 'zumhari': 1, 'khanel': 1, 'terkaman': 1, 'ekstasi': 1, 'grebeg': 1, 'milad': 1, 'disewa': 1, 'mba': 1, 'ario': 1, 'majang': 1, 'koro': 1, 'van': 1, 'berkulit': 1, 'sawo': 1, 'rencong': 1, 'temurun': 1, 'debora': 1, 'dicipta': 1, 'afrizal': 1, 'assyifa': 1, 'bettery': 1, 'subjudul': 1, 'saing': 1, 'infoan': 1, 'menyentuhnya': 1, 'kreasi': 1, 'amarneh': 1, 'cucian': 1, 'larikan': 1, 'dipeluk': 1, 'dicium': 1, 'dipertahankan': 1, 'leo': 1, 'bangkitnya': 1, 'muazam': 1, 'pahang': 1, 'sudutkan': 1, 'handset': 1, 'dicharge': 1, 'ketiduran': 1, 'hermanes': 1, 'jentelmen': 1, 'buduk': 1, 'sesuka': 1, 'kusir': 1, 'purut': 1, 'perlintasan': 1, 'gomes': 1, 'menagihkan': 1, 'kemkes': 1, 'terberat': 1, 'pencabutan': 1, 'softlens': 1, 'dipijak': 1, 'terapung': 1, 'mflud': 1, 'cholera': 1, 'cayman': 1, 'airways': 1, 'menkominfo': 1, 'smartfren': 1, 'telpon': 1, 'nisa': 1, 'pendaki': 1, 'diwajib': 1, 'jokowiryanto': 1, 'rakaman': 1, 'powerbank': 1, 'emporium': 1, 'diguyur': 1, 'islamophobia': 1, 'digigit': 1, 'dejure': 1, 'perempatan': 1, 'mapping': 1, 'auman': 1, 'jae': 1, 'tersaingi': 1, 'abeng': 1, 'regar': 1, 'radj': 1, 'salak': 1, 'kualat': 1, 'hamza': 1, 'dalj': 1, 'tabir': 1, 'bacalah': 1, 'kissing': 1, 'wow': 1, 'wury': 1, 'merasuki': 1, 'dipraktikkan': 1, 'dideteksi': 1, 'terengah': 1, 'engah': 1, 'stent': 1, 'menyempit': 1, 'calsium': 1, 'cardiologist': 1, 'internist': 1, 'dilayani': 1, 'dibebankan': 1, 'cardiologi': 1, 'kiswanto': 1, 'diberlakukannya': 1, 'pengampu': 1, 'klarifikasinya': 1, 'mekanismenya': 1, 'pjk': 1, 'trombusnya': 1, 'diagnostik': 1, 'penyumbatannya': 1, 'terevakuasi': 1, 'menyisakan': 1, 'capture': 1, 'megavac': 1, 'mechanical': 1, 'thrombectomy': 1, 'iklannya': 1, 'superior': 1, 'dimengerti': 1, 'membingungkan': 1, 'heartcenter': 1, 'terintegrasi': 1, 'terakreditasi': 1, 'jci': 1, 'kars': 1, 'sppd': 1, 'kkv': 1, 'finasim': 1, 'facp': 1, 'fica': 1, 'pembelahan': 1, 'memperkenalkan': 1, 'peraih': 1, 'perpaduan': 1, 'generik': 1, 'phosphatidylcholine': 1, 'lesitin': 1, 'baxamed': 1, 'intravenus': 1, 'sintetik': 1, 'diamini': 1, 'tetra': 1, 'acetik': 1, 'acid': 1, 'kalsium': 1, 'tertulisnya': 1, 'artifisial': 1, 'melunturkan': 1, 'ateriosklerosis': 1, 'penebalan': 1, 'penumpukan': 1, 'arteriosklerosis': 1, 'dialirkan': 1, 'menapik': 1, 'berpatokan': 1, 'complementary': 1, 'alternative': 1, 'access': 1, 'tact': 1, 'bypassing': 1, 'berpraktik': 1, 'release': 1, 'detikhealth': 1, 'farmakologis': 1, 'iskemia': 1, 'standard': 1, 'preventif': 1, 'angioplasti': 1, 'sent': 1, 'punca': 1, 'stem': 1, 'atherosclerosis': 1, 'ldl': 1, 'substansi': 1, 'pulangkan': 1, 'tersinggung': 1, 'lebay': 1, 'peledak': 1, 'fist': 1, 'sianipar': 1, 'parkiran': 1, 'edelwies': 1, 'azwar': 1, 'anas': 1, 'showroom': 1, 'idaman': 1, 'kacungnya': 1, 'dimensi': 1, 'tubir': 1, 'berkilo': 1, 'kilo': 1, 'ii': 1, 'hariyadi': 1, 'sukamdani': 1, 'olly': 1, 'dodokambey': 1, 'marsudirini': 1, 'kristiyanto': 1, 'hikmanto': 1, 'djuwana': 1, 'lawrence': 1, 'siburian': 1, 'trenggono': 1, 'anggela': 1, 'herliani': 1, 'tanoesoedibjo': 1, 'achmadi': 1, 'supit': 1, 'aria': 1, 'chatib': 1, 'basri': 1, 'erani': 1, 'yustika': 1, 'broto': 1, 'setyo': 1, 'diaz': 1, 'baiquni': 1, 'tantowi': 1, 'lahadalia': 1, 'dardak': 1, 'pasek': 1, 'suardhika': 1, 'agun': 1, 'gunandjar': 1, 'sudarsa': 1, 'lenis': 1, 'kogoya': 1, 'arwani': 1, 'thomafi': 1, 'benny': 1, 'octavianus': 1, 'gumiwang': 1, 'kartasasmita': 1, 'erico': 1, 'sutarduga': 1, 'yenni': 1, 'zannuba': 1, 'nataliey': 1, 'haedar': 1, 'nashir': 1, 'maman': 1, 'imanulhaq': 1, 'triawan': 1, 'riyad': 1, 'jalil': 1, 'billy': 1, 'jonny': 1, 'nicke': 1, 'widyawati': 1, 'rachmad': 1, 'supriyanto': 1, 'izha': 1, 'suryaman': 1, 'talenta': 1, 'roslan': 1, 'brodjonegoro': 1, 'misbakhun': 1, 'bpdpn': 1, 'ghazali': 1, 'ui': 1, 'maarif': 1, 'menkopolhukam': 1, 'dandim': 1, 'penebangan': 1, 'pribadinya': 1, 'jabbar': 1, 'ninoy': 1, 'pengenalan': 1, 'segarang': 1, 'tersuci': 1, 'baruna': 1, 'fery': 1, 'booming': 1, 'sayembara': 1, 'esteem': 1, 'ammok': 1, 'faath': 1, 'shoveloprt': 1, 'muzakki': 1, 'moroseneng': 1, 'sememi': 1, 'didekatkan': 1, 'partikel': 1, 'rosululloh': 1, 'rahasianya': 1, 'dobel': 1, 'laoly': 1, 'menkum': 1, 'nahrawi': 1, 'idrus': 1, 'marham': 1, 'tersandung': 1, 'asman': 1, 'abnur': 1, 'dapil': 1, 'disamakan': 1, 'pekerjaannya': 1, 'kalaupun': 1, 'elok': 1, 'politica': 1, 'alfiandi': 1, 'asmoro': 1, 'wasekjen': 1, 'sadarestuwati': 1, 'mempermasalahkan': 1, 'ditempati': 1, 'mengisyaratkan': 1, 'bermula': 1, 'soekarnoputri': 1, 'beres': 1, 'delegasi': 1, 'majah': 1, 'jabir': 1, 'bertakwalah': 1, 'mengendalikannya': 1, 'mengekangnya': 1, 'bertaqwalah': 1, 'hadist': 1, 'ketekunan': 1, 'menag': 1, 'holistik': 1, 'keparat': 1, 'raider': 1, 'kualanamu': 1, 'uhud': 1, 'badar': 1, 'azhar': 1, 'uinsu': 1, 'unsri': 1, 'kenyataannya': 1, 'menunggunya': 1, 'padamkan': 1, 'ukiran': 1, 'melaut': 1, 'meninjau': 1, 'cilukba': 1, 'pejabatnya': 1, 'qurrotul': 1, 'uyun': 1, 'meneteskan': 1, 'pengumpulan': 1, 'diakui': 1, 'tekankan': 1, 'berkontribusi': 1, 'menyubsidi': 1, 'mensubsidi': 1, 'menpaling': 1, 'piknik': 1, 'syaallah': 1, 'tabarakallah': 1, 'memuat': 1, 'dibanggakan': 1, 'nonstopnews': 1, 'kalaulah': 1, 'untunglah': 1, 'menemani': 1, 'berpendidikan': 1, 'memandangi': 1, 'lalunya': 1, 'enerjik': 1, 'ditelantarkan': 1, 'pesilat': 1, 'pemecahan': 1, 'bata': 1, 'baharuddin': 1, 'lahirkan': 1, 'tertipis': 1, 'paprika': 1, 'planga': 1, 'sepinggan': 1, 'purbaleunyi': 1, 'dering': 1, 'lensa': 1, 'barbeque': 1, 'atmabrata': 1, 'cilincing': 1, 'partono': 1, 'kewarganegaraan': 1, 'marsma': 1, 'mismansaya': 1, 'adzani': 1, 'fajar': 1, 'syaifudin': 1, 'brngkat': 1, 'batalion': 1, 'situank': 1, 'bekap': 1, 'perlakuanku': 1, 'memberontak': 1, 'ditampar': 1, 'misman': 1, 'pengertiannya': 1, 'kepuharjo': 1, 'premis': 1, 'pamulang': 1, 'ciputat': 1, 'dandenpom': 1, 'gabion': 1, 'terumbu': 1, 'merambat': 1, 'rewan': 1, 'gerbong': 1, 'cibeber': 1, 'campaka': 1, 'cilaku': 1, 'hayam': 1, 'pengalian': 1, 'bango': 1, 'jangari': 1, 'jamali': 1, 'raped': 1, 'ciranjang': 1, 'cikalong': 1, 'jongol': 1, 'ciaklong': 1, 'cikundul': 1, 'meleber': 1, 'panembong': 1, 'cipanas': 1, 'mencurigai': 1, 'bunyikan': 1, 'beckham': 1, 'leonardo': 1, 'dicaprio': 1, 'kecetit': 1, 'tweet': 1, 'buanyak': 1, 'ied': 1, 'terjemah': 1, 'bebasnya': 1, 'koreksi': 1, 'kicauan': 1, 'perharinya': 1, 'mcdonals': 1, 'jegud': 1, 'qurban': 1, 'royalty': 1, 'poros': 1, 'lewati': 1, 'ktl': 1, 'furqon': 1, 'draf': 1, 'pembalut': 1, 'sebayak': 1, 'tingkatan': 1, 'dijebol': 1, 'mahameru': 1, 'diadukan': 1, 'didorong': 1, 'pisah': 1, 'hatiku': 1, 'maimoen': 1, 'dikatai': 1, 'katai': 1, 'dimusuhi': 1, 'bintara': 1, 'yoedha': 1, 'berayun': 1, 'bergizi': 1, 'kazan': 1, 'reporternya': 1, 'sambiroto': 1, 'kalamullah': 1, 'ijoen': 1, 'silalahi': 1, 'digilir': 1, 'fintech': 1, 'swasembada': 1, 'eceng': 1, 'gondok': 1, 'pembekalan': 1, 'cosmas': 1, 'tangkuban': 1, 'unesco': 1, 'rhoma': 1, 'irama': 1, 'setetes': 1, 'jure': 1, 'perolehan': 1, 'bersidang': 1, 'melawannya': 1, 'amandemen': 1, 'ibho': 1, 'adji': 1, 'papah': 1, 'slank': 1, 'meragukan': 1, 'algeria': 1, 'khoirul': 1, 'lte': 1, 'lgbtiq': 1, 'terung': 1, 'menyumbang': 1, 'kop': 1, 'perbiji': 1, 'digadai': 1, 'steel': 1, 'membintangi': 1, 'zakat': 1, 'panitera': 1, 'melelehkan': 1, 'khanzarof': 1, 'cloning': 1, 'wacanakan': 1, 'peniadaan': 1, 'diberangkatkan': 1, 'kursuskan': 1, 'off': 1, 'tercela': 1, 'sek': 1, 'gulai': 1, 'kepolisianpun': 1, 'agust': 1, 'cheetah': 1, 'resign': 1, 'isra': 1, 'miraj': 1, 'hit': 1, 'tertawaan': 1, 'haag': 1, 'mma': 1, 'ufc': 1, 'wimbo': 1, 'sebisanya': 1, 'dieng': 1, 'yarobbalamin': 1, 'alwadiyah': 1, 'erul': 1, 'muluk': 1, 'diterapi': 1, 'defacto': 1, 'dirspad': 1, 'ditentang': 1, 'believe': 1, 'perkuburan': 1, 'suppon': 1, 'tegan': 1, 'martin': 1, 'former': 1, 'stranded': 1, 'damp': 1, 'gabe': 1, 'abdulah': 1, 'latin': 1, 'nuel': 1, 'kungfu': 1, 'tokuda': 1, 'selundupan': 1, 'arinni': 1, 'arinnisweets': 1, 'jangko': 1, 'blitz': 1, 'gyro': 1, 'ketinggian': 1, 'gengsi': 1, 'lalui': 1, 'raib': 1, 'gratismu': 1, 'diklik': 1, 'remaining': 1, 'tell': 1, 'diproses': 1, 'salahuddin': 1, 'longmart': 1, 'aktraksi': 1, 'muri': 1, 'bkni': 1, 'totalnya': 1, 'oktaviana': 1, 'istinawati': 1, 'polwan': 1, 'penjaminnya': 1, 'kabagintel': 1, 'asop': 1, 'lap': 1, 'memukul': 1, 'mendemoralisasi': 1, 'rangkul': 1, 'menonjol': 1, 'penyebarnya': 1, 'babinkhatibmas': 1, 'hata': 1, 'kilat': 1, 'paradigma': 1, 'demokratis': 1, 'discussion': 1, 'fgd': 1, 'ris': 1, 'hermawan': 1, 'sulistyo': 1, 'ma': 1, 'apu': 1, 'mapolres': 1, 'penghancuran': 1, 'melumpuhkan': 1, 'mengkebiri': 1, 'separatisme': 1, 'disk': 1, 'eksistensinya': 1, 'keamanannya': 1, 'francis': 1, 'personel': 1, 'menginvasi': 1, 'ketegangan': 1, 'mengedepankan': 1, 'memelopori': 1, 'payung': 1, 'berpendapat': 1, 'amatiran': 1, 'disegani': 1, 'hisbullah': 1, 'fisabilillah': 1, 'tkr': 1, 'imperialisme': 1, 'tercampakkan': 1, 'diimbangi': 1, 'kekawatiran': 1, 'mengerdilkan': 1, 'kerdilkan': 1, 'dilupakan': 1, 'psikologis': 1, 'kesannya': 1, 'politis': 1, 'bersinergi': 1, 'menyoroti': 1, 'kekejaman': 1, 'mendikte': 1, 'membelit': 1, 'terkejutnya': 1, 'disejajarkan': 1, 'terbelakang': 1, 'terjajah': 1, 'belit': 1, 'gesekan': 1, 'meruncing': 1, 'gemuruh': 1, 'azirah': 1, 'maulida': 1, 'penyadapan': 1, 'searah': 1, 'kivlan': 1, 'soenarko': 1, 'rohman': 1, 'susuri': 1, 'madeira': 1, 'senusantara': 1, 'dahnil': 1, 'farhan': 1, 'tumpengan': 1, 'pasaribu': 1, 'otto': 1, 'hasibuan': 1, 'dianiaya': 1, 'margaretha': 1, 'nainggolan': 1, 'kartanegara': 1, 'shoot': 1, 'totol': 1, 'kaulo': 1, 'hendroprayono': 1, 'ucapi': 1, 'baduy': 1, 'kertanegara': 1, 'dimulainya': 1, 'supran': 1, 'hindarkan': 1, 'bergaul': 1, 'yayah': 1, 'pose': 1, 'cawang': 1, 'bukalapak': 1, 'tolerir': 1, 'remeh': 1, 'penampil': 1, 'syukuran': 1, 'sabetan': 1, 'samurai': 1, 'jelaslah': 1, 'mubahalah': 1, 'herniated': 1, 'nucleus': 1, 'pulposus': 1, 'makhmud': 1, 'mggu': 1, 'rsap': 1, 'kartika': 1, 'saudaramu': 1, 'keceplosan': 1, 'panakukang': 1, 'handari': 1, 'pakujajar': 1, 'perekam': 1, 'pemenggalan': 1, 'diguncang': 1, 'pramadya': 1, 'namaku': 1, 'sebelahmu': 1, 'carilah': 1, 'mahari': 1, 'democracy': 1, 'teteh': 1, 'vapor': 1, 'tewasnya': 1, 'diumbar': 1, 'spionase': 1, 'pertiwi': 1, 'melumatkan': 1, 'underdog': 1, 'imperialis': 1, 'zakaria': 1, 'mengomongnya': 1, 'tersayang': 1, 'memakannya': 1, 'harla': 1, 'gua': 1, 'bajingan': 1, 'naudzubillahimindzalik': 1, 'trust': 1, 'dijanjikan': 1, 'gaga': 1, 'duhaa': 1, 'megamendung': 1, 'citamiang': 1, 'cipayung': 1, 'anton': 1, 'darojat': 1, 'milenial': 1, 'agum': 1, 'gumelar': 1, 'priansari': 1, 'ryamizard': 1, 'ryacudu': 1, 'rudiantara': 1, 'tjahaja': 1, 'sutjipto': 1, 'rosan': 1, 'nurbaya': 1, 'djalil': 1, 'djuwita': 1, 'anfasa': 1, 'moeloek': 1, 'yenny': 1, 'purwono': 1, 'rikardo': 1, 'simbolon': 1, 'ristek': 1, 'radja': 1, 'antoni': 1, 'putro': 1, 'sandjojo': 1, 'ignasius': 1, 'jonan': 1, 'nonstruktural': 1, 'skk': 1, 'migas': 1, 'numan': 1, 'latif': 1, 'manggalitsa': 1, 'kacukan': 1, 'mengelirukan': 1, 'selepas': 1, 'niko': 1, 'njotorahardjo': 1, 'goyah': 1, 'tahlilan': 1, 'penyeludupan': 1, 'bengkong': 1, 'kesetiaannya': 1, 'betawi': 1, 'rembuk': 1, 'husni': 1, 'bercak': 1, 'ruko': 1, 'printing': 1, 'fraud': 1, 'simarmata': 1, 'aremanita': 1, 'bahwasanya': 1, 'memanjakan': 1, 'direformasi': 1, 'berorientasi': 1, 'current': 1, 'restruktur': 1, 'menghimpun': 1, 'quo': 1, 'didobraknya': 1, 'manja': 1, 'berfoya': 1, 'rating': 1, 'membayangkan': 1, 'tidaklah': 1, 'melanggengkan': 1, 'ladang': 1, 'mempermalukan': 1, 'gor': 1, 'diteriaki': 1, 'juluki': 1, 'bahry': 1, 'nixon': 1, 'parapat': 1, 'wakili': 1, 'kesurupan': 1, 'mengobatinya': 1, 'berambisi': 1, 'tumbal': 1, 'kekallah': 1, 'oada': 1, 'kekuatannya': 1, 'jinnya': 1, 'jagad': 1, 'fahrul': 1, 'mencontoh': 1, 'ruqiyah': 1, 'pengerahan': 1, 'meramaikan': 1, 'dicoblos': 1, 'keberpihakan': 1, 'melacurkan': 1, 'pelacur': 1, 'perkampungan': 1, 'secuil': 1, 'petahana': 1, 'dimintakan': 1, 'haqqul': 1, 'sprit': 1, 'penggiringan': 1, 'tercium': 1, 'sholatu': 1, 'yaza': 1, 'suryadi': 1, 'soloraya': 1, 'qusnul': 1, 'qotimah': 1, 'pengarang': 1, 'undercover': 1, 'mudanya': 1, 'mengupayakan': 1, 'digerakkan': 1, 'matra': 1, 'djon': 1, 'puteran': 1, 'ilandak': 1, 'town': 1, 'tertukar': 1, 'sooik': 1, 'annie': 1, 'dekap': 1, 'paf': 1, 'selnya': 1, 'ama': 1, 'dien': 1, 'cahyani': 1, 'hayati': 1, 'ningrum': 1, 'netral': 1, 'indekos': 1, 'ngojek': 1, 'christchurch': 1, 'hendrayani': 1, 'sodonghilir': 1, 'taraju': 1, 'salawu': 1, 'puspahiang': 1, 'shiva': 1, 'zeisca': 1, 'bertebaran': 1, 'kafirun': 1, 'pembiusan': 1, 'ppp': 1, 'sekarung': 1, 'azamroni': 1, 'saudari': 1, 'andalannya': 1, 'lesbi': 1, 'bismillahirrohmanirrohim': 1, 'pilihnya': 1, 'ijtima': 1, 'mansher': 1, 'himasal': 1, 'abdulloh': 1, 'kafabihi': 1, 'mahrus': 1, 'slipi': 1, 'tomang': 1, 'grogol': 1, 'mogot': 1, 'srengseng': 1, 'hurufnya': 1, 'teraba': 1, 'penyandang': 1, 'tertangani': 1, 'ethiopian': 1, 'caleg': 1, 'hendrawan': 1, 'elen': 1, 'ramson': 1, 'johnatan': 1, 'prayungan': 1, 'sumberrejo': 1, 'nabok': 1, 'jeli': 1, 'suksesnya': 1, 'menemuinya': 1, 'pancang': 1, 'muchtar': 1, 'didiknya': 1, 'peleton': 1, 'peletonnya': 1, 'terbagi': 1, 'kebudayaaan': 1, 'kartubi': 1, 'tercurahkan': 1, 'rohmatan': 1, 'mempererat': 1, 'silaturahmi': 1, 'ukhuwah': 1, 'bada': 1, 'tajul': 1, 'glaghasari': 1, 'sukerejo': 1, 'hizib': 1, 'nashor': 1, 'bahr': 1, 'muslimat': 1, 'haturkan': 1, 'jazakumulloh': 1, 'ahsanal': 1, 'jaza': 1, 'sholahuddin': 1, 'hasib': 1, 'aam': 1, 'suyuti': 1, 'toha': 1, 'miftakhul': 1, 'bksn': 1, 'hinaan': 1, 'dipidanakan': 1, 'kemaksiatan': 1, 'kecintaannya': 1, 'cepak': 1, 'diejek': 1, 'pilihlah': 1, 'imamnya': 1, 'sbb': 1, 'sembrani': 1, 'bangunkarta': 1, 'gajayana': 1, 'wilis': 1, 'turangga': 1, 'sancaka': 1, 'singasari': 1, 'taksaka': 1, 'jaka': 1, 'tingkir': 1, 'bogowonto': 1, 'gajahwong': 1, 'dwipangga': 1, 'lodaya': 1, 'malioboro': 1, 'purwojaya': 1, 'kutoarjo': 1, 'sawunggalih': 1, 'kutojaya': 1, 'sindoro': 1, 'muria': 1, 'menoreh': 1, 'tawang': 1, 'ciremai': 1, 'ranggajati': 1, 'malabar': 1, 'gumarang': 1, 'rantau': 1, 'sribilah': 1, 'created': 1, 'railway': 1, 'tiek': 1, 'menuding': 1, 'saingannya': 1, 'detikfinance': 1, 'perusahaannya': 1, 'perebutan': 1, 'kutai': 1, 'churchill': 1, 'plc': 1, 'pihaknya': 1, 'peninjauan': 1, 'ditingkat': 1, 'ptun': 1, 'kasasi': 1, 'dimenangkan': 1, 'kaltim': 1, 'kantornya': 1, 'summitmas': 1, 'ditimbun': 1, 'tercecer': 1, 'amandel': 1, 'serak': 1, 'limfa': 1, 'ludah': 1, 'biq': 1, 'laporannya': 1, 'kesah': 1, 'alinka': 1, 'nurhanzah': 1, 'cisalak': 1, 'sukatani': 1, 'dishare': 1, 'arsyadz': 1, 'abrar': 1, 'ramanda': 1, 'cimanggis': 1, 'temboro': 1, 'mochtar': 1, 'pawai': 1, 'lokon': 1, 'corn': 1, 'phones': 1, 'terbantahkan': 1, 'beramai': 1, 'indo': 1, 'nyomot': 1, 'kosa': 1, 'tersirat': 1, 'intelligence': 1, 'quotient': 1, 'sekolam': 1, 'habisan': 1, 'setinggi': 1, 'tembaki': 1, 'marten': 1, 'udang': 1, 'mengintimidasi': 1, 'bawahannya': 1, 'zain': 1, 'mengambang': 1, 'karsono': 1, 'ketidaksetaraan': 1, 'western': 1, 'dipagut': 1, 'disongsong': 1, 'mencaplok': 1, 'andaikan': 1, 'irigasi': 1, 'mrt': 1, 'menjarah': 1, 'menggulingkan': 1, 'berjilid': 1, 'menjatuhkannya': 1, 'berkaliber': 1, 'budayawan': 1, 'kerempeng': 1, 'rintangan': 1, 'kuasanya': 1, 'lanjutannya': 1, 'topiknya': 1, 'menyinggung': 1, 'politiknya': 1, 'pebisnis': 1, 'vancouver': 1, 'mengawali': 1, 'perjalanannya': 1, 'pembicara': 1, 'school': 1, 'bermukim': 1, 'massachusetts': 1, 'doktoralnya': 1, 'wine': 1, 'ketawanya': 1, 'toba': 1, 'putihkan': 1, 'diralat': 1, 'lambe': 1, 'membalaskan': 1, 'laksatif': 1, 'sekolahannya': 1, 'sarumpaet': 1, 'marlboro': 1, 'bolong': 1, 'mengagetkan': 1, 'dilego': 1, 'dikoreksi': 1, 'menanamkan': 1, 'mematok': 1, 'membanjir': 1, 'kejelasan': 1, 'kelanjutannya': 1, 'jaring': 1, 'menggait': 1, 'dilembarkan': 1, 'tax': 1, 'amnesty': 1, 'ppn': 1, 'tebu': 1, 'keleluasaan': 1, 'mengintip': 1, 'mampukah': 1, 'impossible': 1, 'fiskal': 1, 'stimulator': 1, 'ditambatkan': 1, 'kerontang': 1, 'meleset': 1, 'mengobral': 1, 'dilontarkan': 1, 'sepintas': 1, 'ditindaklanjuti': 1, 'mewacanakan': 1, 'ditutupi': 1, 'selintas': 1, 'logikanya': 1, 'asetnya': 1, 'berlimpah': 1, 'memborong': 1, 'mengelabuhi': 1, 'apbn': 1, 'berakal': 1, 'memeras': 1, 'disusun': 1, 'kekeluargaan': 1, 'kemakmuran': 1, 'kebersamaan': 1, 'berwawasan': 1, 'keseimbangan': 1, 'penjadwalan': 1, 'muhrimnya': 1, 'kelucuan': 1, 'memadukan': 1, 'meminumnya': 1, 'meneruskannya': 1, 'oven': 1, 'pemanggang': 1, 'mencerna': 1, 'bayam': 1, 'menopang': 1, 'kepahitan': 1, 'sitrat': 1, 'sibuknya': 1, 'sehatkan': 1, 'meade': 1, 'sudutnya': 1}\n",
            "{'di': 1597, 'dan': 760, 'video': 754, 'yang': 664, 'indonesia': 599, 'foto': 566, 'dari': 476, 'a': 442, 'covid': 440, 'untuk': 394, 'jokowi': 354, 'tidak': 328, 'dengan': 323, 'akun': 292, 'ke': 282, 'presiden': 265, 'karena': 261, 'ini': 259, 'tahun': 227, 'vaksin': 224, 'oleh': 221, 'meninggal': 218, 'whatsapp': 216, 'corona': 213, 'orang': 211, 'sudah': 203, 'virus': 186, 'dunia': 183, 'akan': 181, 'dapat': 179, 'anak': 165, 'pada': 164, 'negara': 162, 'dalam': 155, 'saat': 154, 'rakyat': 153, 'ada': 153, 'anies': 152, 'china': 151, 'kota': 148, 'surat': 146, 'partai': 144, 'bantuan': 138, 'artikel': 135, 'bupati': 133, 'facebook': 131, 'hari': 131, 'pesan': 130, 'baru': 129, 'gambar': 125, 'kerja': 124, 'air': 123, 'setelah': 123, 'daerah': 122, 'warga': 122, 'juta': 118, 'jadi': 118, 'meminta': 116, 'republik': 115, 'jakarta': 113, 'rumah': 113, 'dana': 111, 'pemerintah': 111, 'wakil': 107, 'adalah': 105, 'bisa': 102, 'bagi': 102, 'tak': 101, 'islam': 94, 'polisi': 94, 'uang': 93, 'seorang': 93, 'cina': 93, 'masuk': 92, 'menjadi': 91, 'menteri': 91, 'pt': 91, 'komunis': 90, 'pemilihan': 89, 'berita': 87, 'hadiah': 85, 'jalan': 84, 'umum': 82, 'mobil': 81, 'baswedan': 80, 'sakit': 79, 'akibat': 79, 'gubernur': 79, 'badan': 77, 'layar': 77, 'prabowo': 77, 'tangkapan': 76, 'sosial': 76, 'komisi': 75, 'detik': 74, 'rusia': 73, 'negeri': 73, 'khusus': 73, 'mati': 72, 'saya': 71, 'sebagai': 71, 'agama': 70, 'lowongan': 68, 'bank': 68, 'ukraina': 68, 'pesawat': 67, 'kepolisian': 66, 'masjid': 65, 'amerika': 65, 'masker': 65, 'itu': 64, 'wanita': 64, 'calon': 64, 'semua': 64, 'kepala': 63, 'kepada': 63, 'satu': 62, 'ternyata': 62, 'manusia': 61, 'mau': 61, 'telah': 61, 'gratis': 61, 'korban': 61, 'arab': 60, 'wali': 60, 'undang': 59, 'lagi': 59, 'tenaga': 59, 'tengah': 57, 'melalui': 57, 'ulang': 57, 'atas': 55, 'dewan': 55, 'ribu': 55, 'saja': 55, 'diri': 54, 'besar': 54, 'perwakilan': 54, 'menggunakan': 53, 'pria': 53, 'salat': 53, 'jawa': 53, 'kesehatan': 53, 'asing': 53, 'tni': 52, 'ibukota': 52, 'papua': 52, 'kita': 51, 'hanya': 51, 'jika': 51, 'dua': 51, 'ketua': 51, 'bulan': 51, 'anggota': 50, 'muslim': 50, 'demo': 50, 'tanpa': 50, 'tentara': 50, 'masyarakat': 49, 'nya': 49, 'banjir': 49, 'bukan': 49, 'sampai': 49, 'korupsi': 49, 'fpi': 49, 'mereka': 49, 'sama': 49, 'tes': 48, 'sebut': 47, 'al': 47, 'sebelum': 47, 'haji': 47, 'berantai': 47, 'berjudul': 47, 'india': 47, 'nasional': 46, 'kanker': 46, 'kartu': 46, 'lebih': 45, 'pakai': 45, 'hati': 45, 'pertama': 45, 'minyak': 45, 'salah': 45, 'tentang': 45, 'seluruh': 45, 'mulai': 45, 'israel': 45, 'kalau': 44, 'tapi': 44, 'makan': 44, 'ulama': 44, 'tanggal': 44, 'hingga': 43, 'maruf': 43, 'rupiah': 43, 'luar': 43, 'akhirnya': 43, 'jangan': 42, 'amin': 42, 'aksi': 42, 'listrik': 41, 'kecelakaan': 41, 'pegawai': 41, 'ibu': 41, 'terhadap': 41, 'merah': 41, 'barat': 41, 'vaksinasi': 41, 'rizieq': 41, 'para': 41, 'pasien': 41, 'commerce': 40, 'menyebabkan': 40, 'sipil': 40, 'hasil': 40, 'kabupaten': 40, 'putih': 40, 'harus': 40, 'obat': 40, 'resmi': 39, 'divaksin': 39, 'umat': 39, 'positif': 39, 'banyak': 38, 'sedang': 38, 'nomor': 38, 'membunuh': 38, 'kementerian': 37, 'siap': 37, 'mahasiswa': 37, 'selamat': 37, 'majelis': 37, 'palestina': 36, 'darah': 36, 'selama': 36, 'atau': 36, 'mata': 36, 'suara': 36, 'timur': 36, 'mengandung': 36, 'saudi': 35, 'prancis': 35, 'serikat': 35, 'panas': 35, 'tangan': 35, 'tautan': 35, 'sekolah': 35, 'alquran': 35, 'judul': 34, 'gempa': 34, 'surabaya': 34, 'terkait': 34, 'pak': 34, 'demokrasi': 34, 'pandemi': 34, 'habib': 34, 'laut': 33, 'ditemukan': 33, 'nama': 33, 'pertamina': 33, 'pemberantasan': 33, 'kalimantan': 33, 'makanan': 33, 'gedung': 33, 'selatan': 33, 'perjuangan': 33, 'jaminan': 33, 'batu': 33, 'tanda': 33, 'bagikan': 33, 'seperti': 33, 'gereja': 33, 'senilai': 32, 'hidup': 32, 'bendera': 32, 'tiga': 32, 'bersama': 32, 'tol': 32, 'babi': 32, 'jepang': 31, 'cara': 31, 'telegram': 31, 'menolak': 31, 'innalillahi': 31, 'e': 31, 'sebesar': 31, 'viral': 31, 'media': 31, 'link': 31, 'istri': 31, 'kami': 31, 'informasi': 30, 'data': 30, 'gunung': 30, 'tim': 30, 'ditangkap': 30, 'memakai': 30, 'utara': 30, 'trump': 30, 'kasus': 30, 'membuat': 30, 'memberikan': 30, 'wilayah': 30, 'ingin': 30, 'jenazah': 30, 'tiba': 30, 'masih': 30, 'kapal': 29, 'jenderal': 29, 'langsung': 29, 'raja': 29, 'penyelenggara': 29, 'bayi': 29, 'televisi': 29, 'kuota': 29, 'sekarang': 29, 'bandung': 28, 'online': 28, 'serangan': 28, 'terjadi': 28, 'menawarkan': 28, 'sih': 28, 'kali': 28, 'perang': 28, 'menyembuhkan': 28, 'terbakar': 28, 'bakar': 27, 'punya': 27, 'minuman': 27, 'depan': 27, 'program': 27, 'megawati': 27, 'periode': 27, 'keluarga': 27, 'penduduk': 27, 'buat': 27, 'dokter': 27, 'bahan': 26, 'pesantren': 26, 'australia': 26, 'kabar': 26, 'terkini': 26, 'daftar': 26, 'ribuan': 26, 'sri': 26, 'malam': 26, 'malaysia': 26, 'penampakan': 26, 'sendiri': 26, 'dia': 26, 'asal': 26, 'solo': 26, 'juga': 26, 'lockdown': 26, 'pilkada': 26, 'melakukan': 25, 'kamu': 25, 'masa': 25, 'tempat': 25, 'keluar': 25, 'ahok': 25, 'sejumlah': 25, 'pendidikan': 25, 'yudhoyono': 25, 'kematian': 25, 'milik': 25, 'jam': 25, 'tewas': 25, 'pekerjaan': 25, 'minum': 25, 'kecil': 25, 'kena': 25, 'nabi': 24, 'perayaan': 24, 'biaya': 24, 'militer': 24, 'perempuan': 24, 'perusahaan': 24, 'guru': 24, 'istana': 24, 'tunai': 24, 'terbaru': 24, 'shihab': 24, 'donasi': 24, 'gigabit': 24, 'pelaku': 24, 'ketika': 24, 'sejahtera': 24, 'tulisan': 24, 'gara': 24, 'desember': 24, 'luhut': 23, 'apa': 23, 'kadrun': 23, 'panggilan': 23, 'putin': 23, 'dinas': 23, 'instagram': 23, 'italia': 23, 'tolak': 23, 'september': 23, 'pulsa': 23, 'keadilan': 23, 'sebabkan': 23, 'duka': 23, 'agar': 23, 'hrs': 23, 'ikan': 22, 'bandara': 22, 'triliun': 22, 'berbahaya': 22, 'merupakan': 22, 'bali': 22, 'tanah': 22, 'bumi': 22, 'oktober': 22, 'melawan': 22, 'palsu': 22, 'bertuliskan': 22, 'bambang': 22, 'bernama': 22, 'agustus': 22, 'garam': 22, 'alat': 22, 'bunuh': 21, 'secara': 21, 'meledak': 21, 'malang': 21, 'efek': 21, 'varian': 21, 'pasangan': 21, 'cnn': 21, 'bahwa': 21, 'tawarkan': 21, 'who': 21, 'edaran': 21, 'jatuh': 21, 'angkasa': 21, 'tempo': 21, 'mayat': 21, 'imam': 21, 'dasar': 21, 'rezim': 21, 'wuhan': 21, 'pernyataan': 20, 'pfizer': 20, 'baju': 20, 'usai': 20, 'aceh': 20, 'karyawan': 20, 'majalah': 20, 'muncul': 20, 'pemimpin': 20, 'boleh': 20, 'pengangkatan': 20, 'poster': 20, 'pidato': 20, 'massal': 20, 'pernah': 20, 'ya': 20, 'penerima': 20, 'soal': 20, 'usaha': 20, 'kebakaran': 20, 'mengatakan': 20, 'datang': 20, 'gus': 20, 'beri': 20, 'maret': 20, 'narasi': 20, 'belum': 19, 'bantu': 19, 'thailand': 19, 'jerman': 19, 'sambo': 19, 'kantor': 19, 'bogor': 19, 'kembali': 19, 'goreng': 19, 'donald': 19, 'allah': 19, 'tiongkok': 19, 'senjata': 19, 'lampung': 19, 'jabatan': 19, 'susilo': 19, 'halal': 19, 'sembuhkan': 19, 'berisi': 19, 'lagu': 19, 'rangka': 19, 'bahasa': 19, 'juli': 19, 'daun': 19, 'sumatra': 19, 'singapura': 19, 'disuntik': 19, 'anda': 19, 'omicron': 19, 'akhir': 19, 'shopee': 18, 'pulau': 18, 'organisasi': 18, 'as': 18, 'mantan': 18, 'gibran': 18, 'menyatakan': 18, 'ganjar': 18, 'paru': 18, 'grup': 18, 'beberapa': 18, 'hukum': 18, 'otak': 18, 'info': 18, 'provinsi': 18, 'berhasil': 18, 'demi': 18, 'bawang': 18, 'ustaz': 18, 'api': 18, 'razia': 18, 'ditutup': 18, 'ibunya': 18, 'menuju': 18, 'pusat': 18, 'turki': 18, 'tutup': 18, 'medis': 18, 'burung': 17, 'memiliki': 17, 'siapa': 17, 'universitas': 17, 'widodo': 17, 'handphone': 17, 'undangan': 17, 'pondok': 17, 'tingkat': 17, 'tinggi': 17, 'kecurangan': 17, 'biden': 17, 'bon': 17, 'gates': 17, 'ayam': 17, 'kondisi': 17, 'sel': 17, 'usia': 17, 'ikut': 17, 'begini': 17, 'pasukan': 17, 'terkena': 17, 'bebas': 17, 'bawah': 17, 'lelang': 17, 'pendukung': 17, 'anjing': 17, 'twitter': 17, 'penjara': 17, 'lewat': 17, 'mei': 17, 'wajib': 17, 'buku': 17, 'garuda': 17, 'membawa': 17, 'campuran': 17, 'formula': 17, 'sebuah': 17, 'beli': 17, 'pulang': 17, 'kaki': 17, 'modus': 17, 'mudik': 17, 'jumat': 17, 'januari': 17, 'ponsel': 17, 'terlihat': 16, 'internet': 16, 'jantung': 16, 'giveaway': 16, 'bola': 16, 'bocah': 16, 'ferdy': 16, 'lain': 16, 'semarang': 16, 'the': 16, 'politik': 16, 'laki': 16, 'proyek': 16, 'putri': 16, 'hancur': 16, 'tilang': 16, 'new': 16, 'kendaraan': 16, 'ujian': 16, 'benar': 16, 'mundur': 16, 'asli': 16, 'warna': 16, 'news': 16, 'i': 16, 'mal': 16, 'raya': 16, 'matahari': 16, 'rekrutmen': 16, 'motor': 16, 'berhadiah': 16, 'mampu': 16, 'sms': 16, 'pura': 16, 'pasar': 16, 'mirip': 16, 'internasional': 16, 'buka': 15, 'teroris': 15, 'bom': 15, 'daya': 15, 'soekarno': 15, 'segera': 15, 'paris': 15, 'bahaya': 15, 'kemenangan': 15, 'ular': 15, 'sang': 15, 'joko': 15, 'mengaku': 15, 'buaya': 15, 'memegang': 15, 'inggris': 15, 'kereta': 15, 'kulit': 15, 'kebijakan': 15, 'jari': 15, 'lawan': 15, 'mendukung': 15, 'pembangunan': 15, 'mesjid': 15, 'monyet': 15, 'dibuka': 15, 'bentuk': 15, 'cita': 15, 'honorer': 15, 'februari': 15, 'berakhir': 15, 'pemilik': 15, 'pendaftaran': 15, 'kini': 15, 'berasal': 15, 'bayar': 15, 'utang': 15, 'sungai': 15, 'merdeka': 15, 'riau': 15, 'muhammad': 15, 'bangsa': 15, 'subsidi': 15, 'sampul': 15, 'pakistan': 15, 'puluh': 15, 'kabur': 15, 'karya': 15, 'wajahnya': 15, 'udara': 15, 'malah': 15, 'jiwa': 15, 'cuma': 15, 'rojiun': 15, 'situs': 15, 'ibadah': 15, 'pancasila': 15, 'kan': 15, 'terinfeksi': 15, 'game': 15, 'nasi': 15, 'sriwijaya': 15, 'kelapa': 14, 'naik': 14, 'sengaja': 14, 'antara': 14, 'guna': 14, 'dijual': 14, 'terbang': 14, 'langit': 14, 'inilah': 14, 'dilarang': 14, 'kesatuan': 14, 'lalu': 14, 'kata': 14, 'coba': 14, 'protes': 14, 'lupa': 14, 'kopi': 14, 'diberi': 14, 'melarang': 14, 'azan': 14, 'demokrat': 14, 'pengamanan': 14, 'kenapa': 14, 'pribadi': 14, 'tiktok': 14, 'ih': 14, 'mulyani': 14, 'tadi': 14, 'truk': 14, 'pembunuhan': 14, 'sepeda': 14, 'membagikan': 14, 'ditembak': 14, 'rebusan': 14, 'mahkamah': 14, 'yaqut': 14, 'dulu': 14, 'kakak': 14, 'imbauan': 14, 'rudal': 14, 'hotel': 14, 'punah': 14, 'kemendikbud': 14, 'suntik': 14, 'penculikan': 14, 'bin': 14, 'bukti': 14, 'kupon': 14, 'sinovac': 14, 'psbb': 14, 'jual': 13, 'sumber': 13, 'barisan': 13, 'mahfud': 13, 'barang': 13, 'bencana': 13, 'baim': 13, 'mendapat': 13, 'ayah': 13, 'cianjur': 13, 'dibakar': 13, 'direktur': 13, 'pengumuman': 13, 'pinjaman': 13, 'hutan': 13, 'hewan': 13, 'gas': 13, 'diam': 13, 'sultan': 13, 'gelar': 13, 'survei': 13, 'vladimir': 13, 'sejak': 13, 'dukung': 13, 'jembatan': 13, 'relawan': 13, 'ratusan': 13, 'diambil': 13, 'pos': 13, 'rekaman': 13, 'tubuh': 13, 'yusuf': 13, 'abdul': 13, 'per': 13, 'kirim': 13, 'santri': 13, 'bagian': 13, 'menyerang': 13, 'buatan': 13, 'es': 13, 'haram': 13, 'muda': 13, 'tukang': 13, 'april': 13, 'ali': 13, 'fadli': 13, 'terpapar': 13, 'menangis': 13, 'mengalami': 13, 'waktu': 13, 'denda': 13, 'penuh': 13, 'membantu': 13, 'rapid': 13, 'wabah': 13, 'tahu': 13, 'rancangan': 13, 'cepat': 12, 'peserta': 12, 'mengundurkan': 12, 'pengawas': 12, 'kompas': 12, 'dibuat': 12, 'total': 12, 'ruang': 12, 'serba': 12, 'md': 12, 'biar': 12, 'pantai': 12, 'lakukan': 12, 'patung': 12, 'sandi': 12, 'gadis': 12, 'joe': 12, 'paksa': 12, 'pbb': 12, 'kertas': 12, 'biasa': 12, 'gila': 12, 'fenomena': 12, 'pemuda': 12, 'semeru': 12, 'beredar': 12, 'surga': 12, 'mematikan': 12, 'anti': 12, 'turun': 12, 'belakang': 12, 'kaos': 12, 'pengguna': 12, 'chicken': 12, 'temukan': 12, 'ledakan': 12, 'tembak': 12, 'film': 12, 'massa': 12, 'salman': 12, 'monas': 12, 'mengubah': 12, 'kejadian': 12, 'gelombang': 12, 'menengah': 12, 'pajak': 12, 'juni': 12, 'ekonomi': 12, 'tertangkap': 12, 'jamaah': 12, 'tiket': 12, 'utama': 12, 'sumbangan': 12, 'moderna': 12, 'anaknya': 12, 'wa': 12, 'terdapat': 12, 'cukup': 12, 'zon': 12, 'kecuali': 12, 'lima': 12, 'sangat': 12, 'investasi': 12, 'pemberitahuan': 12, 'belajar': 12, 'mengeluarkan': 12, 'munarman': 12, 'pihak': 12, 'hitam': 12, 'petugas': 12, 'tsunami': 12, 'taman': 12, 'terbaik': 12, 'yahudi': 12, 'mrna': 11, 'lgbt': 11, 'ronaldo': 11, 'harga': 11, 'dokumen': 11, 'alami': 11, 'miliar': 11, 'sepak': 11, 'bergambar': 11, 'pembukaan': 11, 'puluhan': 11, 'pohon': 11, 'radiasi': 11, 'disebabkan': 11, 'dekat': 11, 'gede': 11, 'akui': 11, 'hujan': 11, 'bekasi': 11, 'nusantara': 11, 'produksi': 11, 'cacar': 11, 'minggu': 11, 'tugas': 11, 'aparat': 11, 'adakan': 11, 'menang': 11, 'adanya': 11, 'jasa': 11, 'kentaki': 11, 'fried': 11, 'gresik': 11, 'pecah': 11, 'dilakukan': 11, 'izin': 11, 'pekerja': 11, 'aparatur': 11, 'pintar': 11, 'panglima': 11, 'semakin': 11, 'acara': 11, 'paus': 11, 'rahasia': 11, 'cek': 11, 'pangeran': 11, 'dijemput': 11, 'kosong': 11, 'daging': 11, 'somad': 11, 'jihad': 11, 'bangun': 11, 'suami': 11, 'ham': 11, 'awan': 11, 'kiai': 11, 'berada': 11, 'lemon': 11, 'perut': 11, 'sistem': 11, 'perdana': 11, 'medan': 11, 'buah': 11, 'produk': 11, 'pesta': 11, 'bau': 11, 'lanjut': 11, 'adik': 11, 'isis': 11, 'mengonsumsi': 11, 'cuitan': 11, 'kanada': 11, 'menghilangkan': 11, 'palembang': 11, 'cebong': 11, 'selamanya': 11, 'idul': 11, 'undian': 11, 'mendapatkan': 11, 'berikan': 11, 'korea': 11, 'sertifikat': 11, 'abu': 11, 'tinggal': 11, 'penghargaan': 11, 'teh': 11, 'kiri': 11, 'law': 11, 'penyanyi': 10, 'budi': 10, 'november': 10, 'ganti': 10, 'maut': 10, 'saudara': 10, 'tulang': 10, 'raksasa': 10, 'hutang': 10, 'khilafah': 10, 'baca': 10, 'empat': 10, 'gangguan': 10, 'bermain': 10, 'membakar': 10, 'rsud': 10, 'brazil': 10, 'paling': 10, 'samping': 10, 'istrinya': 10, 'racun': 10, 'bikin': 10, 'penyakit': 10, 'lesti': 10, 'desa': 10, 'stroke': 10, 'penggunaan': 10, 'aids': 10, 'ijazah': 10, 'badai': 10, 'ahmad': 10, 'sekali': 10, 'bilang': 10, 'yogyakarta': 10, 'kampanye': 10, 'brigade': 10, 'perintah': 10, 'hukuman': 10, 'puan': 10, 'hapus': 10, 'kok': 10, 'terima': 10, 'kayu': 10, 'rencana': 10, 'puskesmas': 10, 'hotman': 10, 'afrika': 10, 'tangkap': 10, 'tenggelam': 10, 'menit': 10, 'markas': 10, 'fifth': 10, 'generation': 10, 'alasan': 10, 'syariat': 10, 'kemunculan': 10, 'bela': 10, 'batam': 10, 'babak': 10, 'p': 10, 'satuan': 10, 'pecahan': 10, 'aplikasi': 10, 'berusia': 10, 'peringatan': 10, 'penemuan': 10, 'sosok': 10, 'mengenakan': 10, 'alam': 10, 'infeksi': 10, 'peduli': 10, 'agus': 10, 'sekretaris': 10, 'pasuruan': 10, 'telepon': 10, 'sepi': 10, 'terakhir': 10, 'isi': 10, 'koruptor': 10, 'tikus': 10, 'keadaan': 10, 'tabung': 10, 'syekh': 10, 'siswa': 10, 'habis': 10, 'pasti': 10, 'artis': 10, 'logo': 10, 'kebudayaan': 10, 'pacar': 10, 'digunakan': 10, 'pilih': 10, 'menyamar': 10, 'indah': 10, 'janji': 10, 'wawancara': 10, 'duduk': 10, 'setiap': 10, 'jeruk': 10, 'kemarin': 10, 'insinyur': 10, 'katanya': 10, 'terancam': 10, 'makassar': 10, 'keras': 10, 'hangat': 10, 'erdogan': 10, 'wafat': 10, 'mana': 10, 'omnibus': 10, 'sepatu': 9, 'emas': 9, 'dikabarkan': 9, 'seseorang': 9, 'perbatasan': 9, 'elon': 9, 'musk': 9, 'kalian': 9, 'piala': 9, 'pasir': 9, 'lambang': 9, 'dibunuh': 9, 'dibayar': 9, 'cover': 9, 'in': 9, 'serang': 9, 'tepung': 9, 'uji': 9, 'non': 9, 'panik': 9, 'buzzer': 9, 'rekening': 9, 'angkat': 9, 'iran': 9, 'larangan': 9, 'melanda': 9, 'se': 9, 'deklarasi': 9, 'kader': 9, 'metro': 9, 'jutaan': 9, 'petir': 9, 'lama': 9, 'berubah': 9, 'up': 9, 'pemberian': 9, 'mengikuti': 9, 'tetap': 9, 'disebut': 9, 'padang': 9, 'bos': 9, 'resor': 9, 'kemerdekaan': 9, 'mengamuk': 9, 'rayakan': 9, 'dirinya': 9, 'kabinet': 9, 'perlu': 9, 'terus': 9, 'belur': 9, 'memakan': 9, 'spbu': 9, 'mengakui': 9, 'atlet': 9, 'esemka': 9, 'tepat': 9, 'detiknews': 9, 'kuburan': 9, 'aktor': 9, 'terlibat': 9, 'kedua': 9, 'remaja': 9, 'k': 9, 'wah': 9, 'gagal': 9, 'binatang': 9, 'membuang': 9, 'dipakai': 9, 'kode': 9, 'pergi': 9, 'dukungan': 9, 'bapak': 9, 'terpilih': 9, 'ratus': 9, 'membaca': 9, 'menangkap': 9, 'sukabumi': 9, 'gatot': 9, 'seleksi': 9, 'dingin': 9, 'banten': 9, 'x': 9, 'keturunan': 9, 'drone': 9, 'bungkus': 9, 'swab': 9, 'jalur': 9, 'sehari': 9, 'pelajar': 9, 'palu': 9, 'risma': 9, 'tanjung': 9, 'uap': 9, 'siaga': 9, 'poligami': 9, 'pemadaman': 9, 'hip': 9, 'ceo': 8, 'dolar': 8, 'jenis': 8, 'ustad': 8, 'sulawesi': 8, 'sehat': 8, 'kakek': 8, 'dinyatakan': 8, 'biru': 8, 'memilih': 8, 'atribut': 8, 'peneliti': 8, 'dibebaskan': 8, 'j': 8, 'angin': 8, 'tarif': 8, 'of': 8, 'terbesar': 8, 'pertolongan': 8, 'luka': 8, 'hadir': 8, 'tersangka': 8, 'pemerintahan': 8, 'makhluk': 8, 'pribumi': 8, 'ntt': 8, 'angkatan': 8, 'katolik': 8, 'ditolak': 8, 'telur': 8, 'diabetes': 8, 'menahan': 8, 'lihat': 8, 'diduga': 8, 'pahlawan': 8, 'tragedi': 8, 'lokasi': 8, 'puncak': 8, 'penyebab': 8, 'rombongan': 8, 'penyebar': 8, 'bekerja': 8, 'ntb': 8, 'konser': 8, 'ancam': 8, 'mengerikan': 8, 'kalimat': 8, 'apabila': 8, 'kegiatan': 8, 'maju': 8, 'ratu': 8, 'merayakan': 8, 'pukul': 8, 'sejarah': 8, 'kejahatan': 8, 'balik': 8, 'terbongkar': 8, 'petani': 8, 'pengakuan': 8, 'narkoba': 8, 'usus': 8, 'alfamart': 8, 'dna': 8, 'erupsi': 8, 'bengkulu': 8, 'betasemen': 8, 'tangis': 8, 'rokok': 8, 'dihentikan': 8, 'afghanistan': 8, 'hilang': 8, 'berani': 8, 'konstitusi': 8, 'perihal': 8, 'probolinggo': 8, 'menonton': 8, 'normal': 8, 'gula': 8, 'sebanyak': 8, 'interview': 8, 'wisma': 8, 'awal': 8, 'pisang': 8, 'hoaks': 8, 'mengatasnamakan': 8, 'berjemaah': 8, 'lampu': 8, 'mansur': 8, 'dipecat': 8, 'berbentuk': 8, 'operasi': 8, 'neraka': 8, 'ajak': 8, 'darurat': 8, 'cegah': 8, 'roket': 8, 'infrastruktur': 8, 'diganti': 8, 'kucing': 8, 'pertahanan': 8, 'laboratorium': 8, 'pagi': 8, 'bius': 8, 'bebaskan': 8, 'h': 8, 'janda': 8, 'nu': 8, 'vietnam': 8, 'kaca': 8, 'jabar': 8, 'pembagian': 8, 'berarti': 8, 'kisah': 8, 'gunakan': 8, 'pembuatan': 8, 'bintang': 8, 'larang': 8, 'obama': 8, 'penerimaan': 8, 'tbk': 8, 'gigi': 8, 'kristen': 8, 'selalu': 8, 'natal': 8, 'morowali': 8, 'ppkm': 8, 'semoga': 8, 'membuka': 8, 'gaji': 8, 'penutupan': 8, 'umur': 8, 'solusi': 8, 'menghirup': 8, 'nipis': 8, 'syarat': 8, 'azab': 8, 'singkat': 8, 'sembako': 8, 'menangkal': 8, 'perpanjang': 8, 'cendana': 8, 'ajakan': 8, 'peti': 8, 'permusyawaratan': 8, 'nanggala': 8, 'aqil': 8, 'keluarkan': 8, 'berlogo': 8, 'memang': 8, 'diserang': 8, 'menhan': 8, 'terbukti': 7, 'berat': 7, 'puasa': 7, 'ramadan': 7, 'heru': 7, 'hak': 7, 'penetapan': 7, 'formasi': 7, 'nato': 7, 'berwarna': 7, 'harimau': 7, 'uni': 7, 'selamatkan': 7, 'lembaga': 7, 'kampung': 7, 'tuhan': 7, 'direktorat': 7, 'keputusan': 7, 'tahap': 7, 'konferensi': 7, 'meter': 7, 'kandungan': 7, 'kilogram': 7, 'belanja': 7, 'pm': 7, 'adat': 7, 'parah': 7, 'pilot': 7, 'mengecek': 7, 'baik': 7, 'seekor': 7, 'era': 7, 'ditetapkan': 7, 'hakim': 7, 'kaleng': 7, 'sidang': 7, 'menyambut': 7, 'anis': 7, 'menyebarkan': 7, 'idi': 7, 'pemakaman': 7, 'fraksi': 7, 'for': 7, 'pimpinan': 7, 'doa': 7, 'malu': 7, 'serentak': 7, 'umumkan': 7, 'bongkar': 7, 'eropa': 7, 'lepas': 7, 'jemput': 7, 'sekaligus': 7, 'jadwal': 7, 'grand': 7, 'maaf': 7, 'sementara': 7, 'tank': 7, 'sah': 7, 'pindah': 7, 'mie': 7, 'gaza': 7, 'pranowo': 7, 'ditahan': 7, 'ringan': 7, 'mendadak': 7, 'subianto': 7, 'kandung': 7, 'transfer': 7, 'peningkatan': 7, 'menerima': 7, 'penangkapan': 7, 'bandar': 7, 'pejabat': 7, 'indomaret': 7, 'telinga': 7, 'edisi': 7, 'pimpin': 7, 'prajurit': 7, 'mempunyai': 7, 'jarak': 7, 'domba': 7, 'nanas': 7, 'asam': 7, 'penembakan': 7, 'bima': 7, 'aku': 7, 'madura': 7, 'masalah': 7, 'musik': 7, 'peta': 7, 'zaman': 7, 'nikah': 7, 'meminum': 7, 'waspada': 7, 'berbicara': 7, 'pelaksanaan': 7, 'kutipan': 7, 'spanduk': 7, 'kritis': 7, 'kenyataan': 7, 'lebaran': 7, 'yayasan': 7, 'layanan': 7, 'konsumsi': 7, 'ikn': 7, 'pakaian': 7, 'dampak': 7, 'nyawa': 7, 'aktivitas': 7, 'takut': 7, 'menyebut': 7, 'jember': 7, 'warung': 7, 'klaten': 7, 'cantik': 7, 'bubarkan': 7, 'airlines': 7, 'pro': 7, 'permohonan': 7, 'mikro': 7, 'padahal': 7, 'bojonegoro': 7, 'no': 7, 'sapi': 7, 'pintu': 7, 'cuaca': 7, 'sembuh': 7, 'karantina': 7, 'menipu': 7, 'tangerang': 7, 'longsor': 7, 'mandiri': 7, 'jambi': 7, 'rakyatnya': 7, 'suntikan': 7, 'keamanan': 7, 'cucu': 7, 'hidung': 7, 'mulut': 7, 'taliban': 7, 'rapat': 7, 'sim': 7, 'nasa': 7, 'mencegah': 7, 'pasang': 7, 'depok': 7, 'psi': 7, 'suka': 7, 'arit': 7, 'lingkaran': 7, 'oksigen': 7, 'grab': 7, 'memberitakan': 7, 'semester': 7, 'denny': 7, 'jumlah': 7, 'kayak': 7, 'nih': 7, 'said': 7, 'firaun': 7, 'bila': 7, 'bawa': 7, 'laskar': 7, 'pemakaian': 7, 'zona': 7, 'macron': 7, 'perampokan': 7, 'pabrik': 7, 'main': 7, 'besok': 7, 'gerakan': 7, 'uighur': 7, 'wiranto': 7, 'janin': 6, 'menurut': 6, 'pelanggaran': 6, 'berdiri': 6, 'pemain': 6, 'pengecekan': 6, 'ancaman': 6, 'apakah': 6, 'biadab': 6, 'qatar': 6, 'perubahan': 6, 'juara': 6, 'ginjal': 6, 'misterius': 6, 'demonstran': 6, 'danau': 6, 'kamala': 6, 'harris': 6, 'melindungi': 6, 'berumur': 6, 'sukses': 6, 'kecantikan': 6, 'melihat': 6, 'pantas': 6, 'sindir': 6, 'kiamat': 6, 'serta': 6, 'penderita': 6, 'berhenti': 6, 'operator': 6, 'astra': 6, 'upaya': 6, 'denpasar': 6, 'situasi': 6, 'power': 6, 'bohong': 6, 'perawat': 6, 'jne': 6, 'dubai': 6, 'satunya': 6, 'blitar': 6, 'ugm': 6, 'menghentikan': 6, 'ramai': 6, 'cilacap': 6, 'bus': 6, 'mengejutkan': 6, 'deh': 6, 'tito': 6, 'bensin': 6, 'jinping': 6, 'mike': 6, 'lumajang': 6, 't': 6, 'marah': 6, 'masak': 6, 'tahanan': 6, 'dibawa': 6, 'sekitar': 6, 'berjalan': 6, 'fakta': 6, 'percobaan': 6, 'kursi': 6, 'tasikmalaya': 6, 'prediksi': 6, 'uya': 6, 'kuya': 6, 'cacing': 6, 'royal': 6, 'kuat': 6, 'madu': 6, 'dosa': 6, 'nilai': 6, 'siaran': 6, 'membersihkan': 6, 'kecamatan': 6, 'disiarkan': 6, 'stres': 6, 'telkomsel': 6, 'seumur': 6, 'tiap': 6, 'pratama': 6, 'ketiga': 6, 'muhammadiyah': 6, 'eksekusi': 6, 'nigeria': 6, 'mencapai': 6, 'bekas': 6, 'hamil': 6, 'tua': 6, 'butuh': 6, 'krisis': 6, 'penanganan': 6, 'astrazeneca': 6, 'memberi': 6, 'pengantin': 6, 'nenek': 6, 'chemtrail': 6, 'telapak': 6, 'cirebon': 6, 'arus': 6, 'bicara': 6, 'novel': 6, 'besaran': 6, 'penggalangan': 6, 'tidur': 6, 'hiv': 6, 'twit': 6, 'membayar': 6, 'duta': 6, 'murah': 6, 'kuesioner': 6, 'seharga': 6, 'armando': 6, 'panti': 6, 'jelang': 6, 'arah': 6, 'nyata': 6, 'dibatalkan': 6, 'susu': 6, 'jaga': 6, 'revolusi': 6, 'driver': 6, 'fransiskus': 6, 'gatal': 6, 'cerita': 6, 'ayat': 6, 'mandalika': 6, 'nur': 6, 'menunjukkan': 6, 'enam': 6, 'menjual': 6, 'persero': 6, 'tarik': 6, 'suntingan': 6, 'lolos': 6, 'ting': 6, 'fitri': 6, 'pemblokiran': 6, 'mengirim': 6, 'beragama': 6, 'lumba': 6, 'menarik': 6, 'gejala': 6, 'flu': 6, 'berhijab': 6, 'one': 6, 'pepaya': 6, 'chip': 6, 'edy': 6, 'keliling': 6, 'alien': 6, 'penolakan': 6, 'seratus': 6, 'bunga': 6, 'myanmar': 6, 'hiu': 6, 'mesir': 6, 'impor': 6, 'menjaga': 6, 'rela': 6, 'pekanbaru': 6, 'toko': 6, 'tegal': 6, 'tetapi': 6, 'diperiksa': 6, 'mengobati': 6, 'bubar': 6, 'akbar': 6, 'dirawat': 6, 'menutup': 6, 'diperbolehkan': 6, 'moeldoko': 6, 'olimpiade': 6, 'jaya': 6, 'seragam': 6, 'ngabalin': 6, 'bumbu': 6, 'kelaparan': 6, 'bodoh': 6, 'jarum': 6, 'siregar': 6, 'ayo': 6, 'sebenarnya': 6, 'yg': 6, 'ketahuan': 6, 'fatwa': 6, 'proses': 6, 'merusak': 6, 'yel': 6, 'kim': 6, 'prakerja': 6, 'hacker': 6, 'tuduhan': 6, 'makin': 6, 'jaber': 6, 'aturan': 6, 'din': 6, 'nurmantyo': 6, 'wamena': 6, 'walau': 6, 'lebanon': 6, 'suhu': 6, 'suspect': 6, 'kamera': 5, 'lomba': 5, 'lari': 5, 'tetapkan': 5, 'radikal': 5, 'jaringan': 5, 'kalah': 5, 'menyelamatkan': 5, 'kaesang': 5, 'tempur': 5, 'himbau': 5, 'miskin': 5, 'heboh': 5, 'gue': 5, 'membeli': 5, 'rusak': 5, 'pasrah': 5, 'membangun': 5, 'makam': 5, 'brigadir': 5, 'transaksi': 5, 'rektor': 5, 'ilmuwan': 5, 'menemukan': 5, 'indramayu': 5, 'aktif': 5, 'pasca': 5, 'time': 5, 'mendeteksi': 5, 'menikah': 5, 'aneh': 5, 'renang': 5, 'menaiki': 5, 'robot': 5, 'siang': 5, 'ketakutan': 5, 'ide': 5, 'terjun': 5, 'kejora': 5, 'kehadiran': 5, 'musibah': 5, 'bagaimana': 5, 'mudah': 5, 'dosis': 5, 'mumi': 5, 'injil': 5, 'persen': 5, 'york': 5, 'bersih': 5, 'kedatangan': 5, 'memprediksi': 5, 'ucapan': 5, 'arema': 5, 'kemenkes': 5, 'saham': 5, 'jawab': 5, 'tri': 5, 'b': 5, 'banget': 5, 'yoyakarta': 5, 'inul': 5, 'daratista': 5, 'dibangun': 5, 'musuh': 5, 'dewi': 5, 'memperingati': 5, 'samarinda': 5, 'sekda': 5, 'penjual': 5, 'oknum': 5, 'beijing': 5, 'permintaan': 5, 'elizabeth': 5, 'sanggup': 5, 'pengisian': 5, 'diculik': 5, 'sore': 5, 'komisaris': 5, 'buruh': 5, 'pemenang': 5, 'politisi': 5, 'harun': 5, 'meningkat': 5, 'bersenjata': 5, 'harapan': 5, 'disiksa': 5, 'crhistiano': 5, 'aktivis': 5, 'energi': 5, 'bandang': 5, 'harta': 5, 'syuting': 5, 'setan': 5, 'denmark': 5, 'city': 5, 'studi': 5, 'memeluk': 5, 'berbagai': 5, 'terluka': 5, 'tokopedia': 5, 'tuanya': 5, 'izinkan': 5, 'hatta': 5, 'penumpang': 5, 'debat': 5, 'sinar': 5, 'hindu': 5, 'teknologi': 5, 'intelijen': 5, 'celana': 5, 'dilanda': 5, 'jalanan': 5, 'perhubungan': 5, 'pastikan': 5, 'buton': 5, 'fitnah': 5, 'keren': 5, 'tunjuk': 5, 'gerhana': 5, 'daripada': 5, 'sopir': 5, 'meluncurkan': 5, 'buddha': 5, 'perusak': 5, 'penyebaran': 5, 'kelompok': 5, 'vatikan': 5, 'united': 5, 'penonton': 5, 'sesuai': 5, 'spanyol': 5, 'roboh': 5, 'kamil': 5, 'kenaikan': 5, 'terapi': 5, 'pki': 5, 'mulia': 5, 'trans': 5, 'tujuh': 5, 'dikira': 5, 'diy': 5, 'berwajah': 5, 'id': 5, 'cairan': 5, 'sebagian': 5, 'berupa': 5, 'dini': 5, 'lahir': 5, 'yaman': 5, 'wainnailaihi': 5, 'tragis': 5, 'sujud': 5, 'terawan': 5, 'pengganti': 5, 'mengucapkan': 5, 'ambil': 5, 'swafoto': 5, 'penerbangan': 5, 'mencuri': 5, 'pernikahan': 5, 'termasuk': 5, 'kotoran': 5, 'karang': 5, 'hibah': 5, 'kemensos': 5, 'agung': 5, 'pendeta': 5, 'menghapus': 5, 'peluncuran': 5, 'booster': 5, 'begal': 5, 'mengamankan': 5, 'kendari': 5, 'namanya': 5, 'batal': 5, 'kimia': 5, 'ilaihi': 5, 'meningkatkan': 5, 'ton': 5, 'atm': 5, 'live': 5, 'angka': 5, 'sembilan': 5, 'kodok': 5, 'kriminal': 5, 'moto': 5, 'gp': 5, 'kurang': 5, 'invasi': 5, 'irak': 5, 'kuning': 5, 'urut': 5, 'merokok': 5, 'liputan': 5, 'menyediakan': 5, 'prix': 5, 'lebak': 5, 'terbuat': 5, 'puing': 5, 'macet': 5, 'paket': 5, 'durhaka': 5, 'berdoa': 5, 'tertua': 5, 'mengumumkan': 5, 'berkumur': 5, 'kubur': 5, 'imigran': 5, 'kebebasan': 5, 'akses': 5, 'c': 5, 'penanaman': 5, 'modal': 5, 'menghancurkan': 5, 'kitab': 5, 'kelinci': 5, 'tiang': 5, 'akting': 5, 'koran': 5, 'dajjal': 5, 'sukoharjo': 5, 'pencairan': 5, 'gojek': 5, 'cuci': 5, 'kembang': 5, 'simbol': 5, 'dahlan': 5, 'juz': 5, 'terungkap': 5, 'ura': 5, 'tambah': 5, 'resapan': 5, 'diproduksi': 5, 'planet': 5, 'bro': 5, 'polresta': 5, 'helikopter': 5, 'kuno': 5, 'elektronik': 5, 'park': 5, 'viralkan': 5, 'ahli': 5, 'gym': 5, 'aliran': 5, 'austria': 5, 'wisata': 5, 'dijadikan': 5, 'mahasiswi': 5, 'iklan': 5, 'harimurti': 5, 'penipuan': 5, 'bareng': 5, 'sampaikan': 5, 'restoran': 5, 'divaksinasi': 5, 'urusan': 5, 'diberikan': 5, 'bukit': 5, 'suriah': 5, 'donor': 5, 'kerumunan': 5, 'kelas': 5, 'meresmikan': 5, 'bertemu': 5, 'kawasan': 5, 'bakal': 5, 'tokyo': 5, 'yahya': 5, 'sederhana': 5, 'adha': 5, 'kapital': 5, 'penularan': 5, 'suasana': 5, 'bakteri': 5, 'sanksi': 5, 'cium': 5, 'mencari': 5, 'menyerah': 5, 'syahid': 5, 'teman': 5, 'nanti': 5, 'dipasang': 5, 'datangi': 5, 'ubah': 5, 'menunggu': 5, 'status': 5, 'apapun': 5, 'antar': 5, 'himbauan': 5, 'formulir': 5, 'kawan': 5, 'arief': 5, 'arahan': 5, 'bucket': 5, 'jong': 5, 'diblokir': 5, 'dilindungi': 5, 'sering': 5, 'sini': 5, 'prof': 5, 'penangkal': 5, 'pelantikan': 5, 'beliau': 5, 'kasih': 5, 'muka': 5, 'susi': 5, 'syamsuddin': 5, 'rata': 5, 'cipta': 5, 'korlap': 5, 'putra': 5, 'pedemo': 5, 'legislatif': 5, 'beirut': 5, 'sibuk': 5, 'hongkong': 5, 'pedagang': 5, 'sandiaga': 5, 'aman': 4, 'rentan': 4, 'kain': 4, 'menipis': 4, 'soedirman': 4, 'kumpulan': 4, 'baterai': 4, 'kotor': 4, 'pengiriman': 4, 'norwegia': 4, 'pangandaran': 4, 'melintas': 4, 'pendaratan': 4, 'emirat': 4, 'filipina': 4, 'kunjungan': 4, 'jin': 4, 'kafir': 4, 'upacara': 4, 'tribunnews': 4, 'kompor': 4, 'sosialisasi': 4, 'versi': 4, 'situbondo': 4, 'joget': 4, 'penghina': 4, 'mewajibkan': 4, 'anggaran': 4, 'dilarikan': 4, 'pengunjung': 4, 'kolam': 4, 'supaya': 4, 'menular': 4, 'billar': 4, 'dibubarkan': 4, 'merekam': 4, 'berjuang': 4, 'risiko': 4, 'innalillah': 4, 'kafe': 4, 'palangkaraya': 4, 'soeharto': 4, 'naga': 4, 'mongolia': 4, 'tersebut': 4, 'bundaran': 4, 'hi': 4, 'pingsan': 4, 'mini': 4, 'plaza': 4, 'sesama': 4, 'menabrak': 4, 'stasiun': 4, 'supporter': 4, 'teriak': 4, 'menari': 4, 'berenang': 4, 'grafis': 4, 'gunawan': 4, 'cabang': 4, 'sayang': 4, 'kediri': 4, 'swiss': 4, 'cinta': 4, 'mohon': 4, 'nekat': 4, 'permata': 4, 'hanyut': 4, 'busuk': 4, 'alumni': 4, 'mega': 4, 'tertolong': 4, 'maulid': 4, 'alias': 4, 'persib': 4, 'purworejo': 4, 'camat': 4, 'pertalite': 4, 'buru': 4, 'kudeta': 4, 'jack': 4, 'ayu': 4, 'liga': 4, 'rasulullah': 4, 'plt': 4, 'medical': 4, 'magelang': 4, 'beracun': 4, 'pertandingan': 4, 'maharani': 4, 'zelensky': 4, 'nikita': 4, 'mirzani': 4, 'simpanan': 4, 'tahan': 4, 'perlakuan': 4, 'kesulitan': 4, 'dalamnya': 4, 'ajun': 4, 'kelakuan': 4, 'menyetujui': 4, 'ojek': 4, 'penemu': 4, 'kokain': 4, 'lengkap': 4, 'temui': 4, 'persiapan': 4, 'begitu': 4, 'roda': 4, 'balita': 4, 'ditinggal': 4, 'kunyit': 4, 'amirul': 4, 'mencintai': 4, 'telkom': 4, 'mualaf': 4, 'jahe': 4, 'perlindungan': 4, 'purwokerto': 4, 'banteng': 4, 'nol': 4, 'vulkanik': 4, 'menimbulkan': 4, 'ra': 4, 'kominfo': 4, 'gantung': 4, 'dibuang': 4, 'perdagangan': 4, 'pltu': 4, 'aff': 4, 'lombok': 4, 'bangladesh': 4, 'suruh': 4, 'ufo': 4, 'dipukuli': 4, 'jus': 4, 'mengakibatkan': 4, 'gabung': 4, 'insentif': 4, 'tambahan': 4, 'berkembang': 4, 'pelabuhan': 4, 'sido': 4, 'festival': 4, 'sampah': 4, 'greta': 4, 'eril': 4, 'bocor': 4, 'kontrak': 4, 'alhamdulillah': 4, 'biang': 4, 'dalang': 4, 'belanda': 4, 'ampuh': 4, 'ikhlaskan': 4, 'makkah': 4, 'benda': 4, 'purwakarta': 4, 'perekonomian': 4, 'depopulasi': 4, 'mengambil': 4, 'utuh': 4, 'meja': 4, 'kejaksaan': 4, 'pontianak': 4, 'menghina': 4, 'mas': 4, 'mengajak': 4, 'kebencian': 4, 'mikroskop': 4, 'lainnya': 4, 'eks': 4, 'adu': 4, 'metode': 4, 'bebek': 4, 'ridwan': 4, 'william': 4, 'merek': 4, 'melarikan': 4, 'lahan': 4, 'meteor': 4, 'menangkan': 4, 'edi': 4, 'administrasi': 4, 'terlalu': 4, 'amanah': 4, 'perahu': 4, 'tukul': 4, 'arwana': 4, 'katedral': 4, 'dayak': 4, 'berfungsi': 4, 'california': 4, 'bssn': 4, 'terdampak': 4, 'cikampek': 4, 'duyung': 4, 'perumahan': 4, 'menu': 4, 'mcdonald': 4, 'zainal': 4, 'sebar': 4, 'hilangkan': 4, 'fda': 4, 'mendarat': 4, 'rais': 4, 'keuangan': 4, 'perwira': 4, 'label': 4, 'beras': 4, 'inna': 4, 'angkut': 4, 'berminat': 4, 'dijarah': 4, 'dieksekusi': 4, 'pembalap': 4, 'balikpapan': 4, 'michael': 4, 'terbanyak': 4, 'marquez': 4, 'berkeliaran': 4, 'lindungi': 4, 'maling': 4, 'tenggorokan': 4, 'masjidil': 4, 'asuransi': 4, 'sertifikasi': 4, 'pegadaian': 4, 'kangkung': 4, 'berangkat': 4, 'harian': 4, 'kudus': 4, 'buleleng': 4, 'berhak': 4, 'bangunan': 4, 'amazon': 4, 'rampok': 4, 'rekan': 4, 'kelangkaan': 4, 'melepuh': 4, 'subhanallah': 4, 'r': 4, 'dicabut': 4, 'terpidana': 4, 'ariel': 4, 'noah': 4, 'mentah': 4, 'kasir': 4, 'sekuritas': 4, 'petinggi': 4, 'black': 4, 'vitamin': 4, 'brebes': 4, 'arya': 4, 'antibodi': 4, 'deteksi': 4, 'napas': 4, 'asap': 4, 'biologis': 4, 'berutang': 4, 'diangkat': 4, 'bukanlah': 4, 'scan': 4, 'setahun': 4, 'mengganggu': 4, 'dosen': 4, 'triliunan': 4, 'sabu': 4, 'pelayanan': 4, 'mengatasi': 4, 'stnk': 4, 'masing': 4, 'menyebar': 4, 'kinerja': 4, 'agenda': 4, 'melahirkan': 4, 'smith': 4, 'lengan': 4, 'zealand': 4, 'vagina': 4, 'pasta': 4, 'sumur': 4, 'koin': 4, 'kambing': 4, 'ansor': 4, 'jaket': 4, 'arif': 4, 'maskapai': 4, 'berganti': 4, 'mengadakan': 4, 'mungkin': 4, 'hampir': 4, 'area': 4, 'senin': 4, 'surut': 4, 'memasang': 4, 'sirkuit': 4, 'nasabah': 4, 'lahar': 4, 'musi': 4, 'negatif': 4, 'bermasker': 4, 'sumedang': 4, 'terbalik': 4, 'nusa': 4, 'pas': 4, 'memimpin': 4, 'kapolresta': 4, 'patuh': 4, 'pelatih': 4, 'ulah': 4, 'huawei': 4, 'kurikulum': 4, 'badak': 4, 'cuka': 4, 'tertular': 4, 'kemeja': 4, 'pelanggan': 4, 'manis': 4, 'by': 4, 'natuna': 4, 'hafal': 4, 'usir': 4, 'tabrakan': 4, 'sektor': 4, 'nurdiati': 4, 'enggak': 4, 'serpihan': 4, 'kuningan': 4, 'strategi': 4, 'napi': 4, 'piramida': 4, 'dibaptis': 4, 'cahyadi': 4, 'kabah': 4, 'gerung': 4, 'wijaya': 4, 'pembakaran': 4, 'terminal': 4, 'sempat': 4, 'batas': 4, 'jepara': 4, 'kadang': 4, 'sekeluarga': 4, 'membutuhkan': 4, 'sebarkan': 4, 'setuju': 4, 'berkaitan': 4, 'apel': 4, 'terjemahan': 4, 'hidupnya': 4, 'mars': 4, 'to': 4, 'postingan': 4, 'berisikan': 4, 'hamas': 4, 'penyiksaan': 4, 'make': 4, 'beserta': 4, 'kelelawar': 4, 'zionis': 4, 'istirahat': 4, 'pemudik': 4, 'meliput': 4, 'wakaf': 4, 'evakuasi': 4, 'amir': 4, 'berbondong': 4, 'bondong': 4, 'square': 4, 'temuan': 4, 'tokoh': 4, 'jusuf': 4, 'disahkan': 4, 'koperasi': 4, 'kemungkinan': 4, 'instruksi': 4, 'kepulauan': 4, 'penyerangan': 4, 'potongan': 4, 'kekuatan': 4, 'berbahasa': 4, 'kapten': 4, 'berbahan': 4, 'potensi': 4, 'diterima': 4, 'adidas': 4, 'ber': 4, 'wabup': 4, 'sebab': 4, 'tanya': 4, 'madrasah': 4, 'ciri': 4, 'kecewa': 4, 'pekalongan': 4, 'maka': 4, 'website': 4, 'kecanduan': 4, 'panjang': 4, 'betul': 4, 'dioksida': 4, 'mantap': 4, 'pengawal': 4, 'terasa': 4, 'isolasi': 4, 'tersambar': 4, 'kejang': 4, 'dinkes': 4, 'dong': 4, 'kembar': 4, 'satupun': 4, 'sampang': 4, 'pangkalan': 4, 'maradona': 4, 'dahsyat': 4, 'tau': 4, 'kepulangan': 4, 'bangga': 4, 'lempar': 4, 'teknik': 4, 'menghadapi': 4, 'preman': 4, 'galang': 4, 'sweeping': 4, 'cewek': 4, 'ditunda': 4, 'doang': 4, 'penusukan': 4, 'tauhid': 4, 'nadiem': 4, 'makarim': 4, 'ilmu': 4, 'biarkan': 4, 'bayang': 4, 'dapur': 4, 'rsui': 4, 'pelintiran': 4, 'berdosa': 4, 'profesor': 4, 'kanan': 4, 'toilet': 4, 'salam': 4, 'curang': 4, 'bakso': 4, 'uno': 4, 'habibie': 4, 'juru': 3, 'perkumpulan': 3, 'kelamin': 3, 'dinaikkan': 3, 'bangkrut': 3, 'ceramah': 3, 'hormati': 3, 'kutuk': 3, 'batik': 3, 'kas': 3, 'jet': 3, 'mengundang': 3, 'duit': 3, 'ai': 3, 'bella': 3, 'berpakaian': 3, 'mayoritas': 3, 'mengendarai': 3, 'hadapan': 3, 'publik': 3, 'berkemampuan': 3, 'steve': 3, 'telan': 3, 'sumbar': 3, 'hal': 3, 'bharada': 3, 'yesus': 3, 'sadis': 3, 'acungkan': 3, 'international': 3, 'menggemparkan': 3, 'jilbab': 3, 'citra': 3, 'memprotes': 3, 'menampilkan': 3, 'diusir': 3, 'fauci': 3, 'box': 3, 'terigu': 3, 'memancing': 3, 'pendapatan': 3, 'lihatlah': 3, 'melayat': 3, 'melempar': 3, 'ritual': 3, 'irjen': 3, 'mandi': 3, 'asia': 3, 'tenggara': 3, 'jambu': 3, 'bisnis': 3, 'rizky': 3, 'menyala': 3, 'samudra': 3, 'persia': 3, 'abad': 3, 'meletus': 3, 'almarhum': 3, 'soimah': 3, 'berbagi': 3, 'berkah': 3, 'pejuang': 3, 'kaget': 3, 'balai': 3, 'uganda': 3, 'amankan': 3, 'sindrom': 3, 'kerahkan': 3, 'berjilbab': 3, 'mengalahkan': 3, 'mengenaskan': 3, 'wasiat': 3, 'banjarmasin': 3, 'menyembunyikan': 3, 'suap': 3, 'pembayaran': 3, 'hubungan': 3, 'asteroid': 3, 'arabia': 3, 'chat': 3, 'tertutup': 3, 'bahas': 3, 'pengerasan': 3, 'sumsum': 3, 'sambil': 3, 'putrinya': 3, 'pendatang': 3, 'potong': 3, 'kemaluan': 3, 'super': 3, 'freeport': 3, 'belaka': 3, 'karung': 3, 'tinggalkan': 3, 'mengenai': 3, 'genetik': 3, 'bahkan': 3, 'sebelumnya': 3, 'jabatannya': 3, 'tegas': 3, 'bersembunyi': 3, 'dihadiri': 3, 'menyambar': 3, 'tetangga': 3, 'pembina': 3, 'thahir': 3, 'ang': 3, 'istilah': 3, 'bluetooth': 3, 'mencalonkan': 3, 'diamankan': 3, 'adi': 3, 'perbandingan': 3, 'titik': 3, 'karnavian': 3, 'mengisi': 3, 'dicopot': 3, 'saling': 3, 'tyson': 3, 'menyangka': 3, 'membentuk': 3, 'check': 3, 'coklat': 3, 'pensiunan': 3, 'terpaksa': 3, 'nasib': 3, 'charles': 3, 'gay': 3, 'jelas': 3, 'gemparkan': 3, 'santo': 3, 'anggarkan': 3, 'bsu': 3, 'dengar': 3, 'ruangan': 3, 'luas': 3, 'ungkap': 3, 'lpg': 3, 'virtual': 3, 'dinyanyikan': 3, 'beritakan': 3, 'bara': 3, 'menutupi': 3, 'kebenaran': 3, 'isu': 3, 'dihajar': 3, 'kerusakan': 3, 'workshop': 3, 'pakar': 3, 'inspeksi': 3, 'mojokerto': 3, 'dihipnotis': 3, 'melemparkan': 3, 'putuskan': 3, 'sanjaya': 3, 'bapaknya': 3, 'suramadu': 3, 'narkotika': 3, 'perintahkan': 3, 'senayan': 3, 'ruben': 3, 'onsu': 3, 'ramuan': 3, 'nikotin': 3, 'flyer': 3, 'penyumbatan': 3, 'umar': 3, 'dipimpin': 3, 'migran': 3, 'lapangan': 3, 'serbu': 3, 'buntut': 3, 'dimasukkan': 3, 'menstruasi': 3, 'kartini': 3, 'tusuk': 3, 'fotonya': 3, 'penawaran': 3, 'bung': 3, 'arifin': 3, 'penyelundupan': 3, 'renovasi': 3, 'jombang': 3, 'berbayar': 3, 'penyebabnya': 3, 'latihan': 3, 'menerus': 3, 'urat': 3, 'judi': 3, 'semenjak': 3, 'petinju': 3, 'bersihkan': 3, 'dicampur': 3, 'global': 3, 'disuntikkan': 3, 'protein': 3, 'meniru': 3, 'ngeri': 3, 'kesultanan': 3, 'ghana': 3, 'kilang': 3, 'wahana': 3, 'kang': 3, 'viva': 3, 'berkat': 3, 'perangkat': 3, 'pengadaan': 3, 'dipenuhi': 3, 'idaho': 3, 'kaus': 3, 'pemandangan': 3, 'cdc': 3, 'launching': 3, 'mnc': 3, 'menurunkan': 3, 'krakatau': 3, 'penghinaan': 3, 'terlarang': 3, 'ajang': 3, 'akhmad': 3, 'manajer': 3, 'urus': 3, 'stadion': 3, 'transportasi': 3, 'ratna': 3, 'tahunan': 3, 'kolom': 3, 'lambung': 3, 'homo': 3, 'hanyalah': 3, 'kandungnya': 3, 'pizza': 3, 'singkil': 3, 'ditanya': 3, 'merapi': 3, 'tribun': 3, 'eric': 3, 'mari': 3, 'turis': 3, 'pijat': 3, 'aset': 3, 'kopassus': 3, 'bangkai': 3, 'bir': 3, 'thohir': 3, 'berfoto': 3, 'his': 3, 'agen': 3, 'cia': 3, 'baliho': 3, 'eko': 3, 'meyakinkan': 3, 'petai': 3, 'gudang': 3, 'kehamilan': 3, 'goyang': 3, 'menularkan': 3, 'sofyan': 3, 'jarwoko': 3, 'sekretariat': 3, 'gugur': 3, 'kkb': 3, 'pop': 3, 'menjemput': 3, 'berkali': 3, 'alih': 3, 'konvoi': 3, 'menulis': 3, 'hantam': 3, 'ari': 3, 'komunikasi': 3, 'pare': 3, 'geledah': 3, 'adem': 3, 'milyar': 3, 'warganet': 3, 'piano': 3, 'andika': 3, 'berbau': 3, 'berpidato': 3, 'asuhan': 3, 'siber': 3, 'melayang': 3, 'berlarian': 3, 'belgia': 3, 'nunung': 3, 'memerkosa': 3, 'peniadaan': 3, 'jahanam': 3, 'abidin': 3, 'putusan': 3, 'diusulkan': 3, 'yakin': 3, 'cnbc': 3, 'pelarangan': 3, 'tunggu': 3, 'toll': 3, 'merak': 3, 'tarawih': 3, 'radikalisme': 3, 'melebihi': 3, 'sudirman': 3, 'subuh': 3, 'dikeroyok': 3, 'sekelompok': 3, 'menjenguk': 3, 'cicilan': 3, 'permen': 3, 'suaminya': 3, 'suci': 3, 'hulu': 3, 'pengurus': 3, 'ikatan': 3, 'bibit': 3, 'semuanya': 3, 'getah': 3, 'kemangi': 3, 'perlawanan': 3, 'siswanya': 3, 'ambruk': 3, 'dipaksa': 3, 'tangani': 3, 'sayuran': 3, 'institut': 3, 'pencegahan': 3, 'almaidah': 3, 'jatuhnya': 3, 'boeing': 3, 'fahira': 3, 'idris': 3, 'iphone': 3, 'reserse': 3, 'jualan': 3, 'karier': 3, 'keliru': 3, 'menggendong': 3, 'tumpah': 3, 'tagihan': 3, 'my': 3, 'bulukumba': 3, 'andri': 3, 'setiawan': 3, 'plastik': 3, 'perkebunan': 3, 'sule': 3, 'luncurkan': 3, 'jejak': 3, 'menghadang': 3, 'huruf': 3, 'kebutuhan': 3, 'dangdut': 3, 'mendaftar': 3, 'menyemprotkan': 3, 'zat': 3, 'lintah': 3, 'asri': 3, 'leong': 3, 'hup': 3, 'indro': 3, 'kemenkumham': 3, 'anna': 3, 'miss': 3, 'kredit': 3, 'campur': 3, 'selasa': 3, 'dibantu': 3, 'terkenal': 3, 'jackie': 3, 'chan': 3, 'dilantik': 3, 'entertainment': 3, 'kemudian': 3, 'bergabung': 3, 'berlaku': 3, 'kemasan': 3, 'sepasang': 3, 'tanzania': 3, 'bermutasi': 3, 'imunitas': 3, 'staf': 3, 'antigen': 3, 'sperma': 3, 'antisipasi': 3, 'menempel': 3, 'ilegal': 3, 'persilangan': 3, 'reksadana': 3, 'paracetamol': 3, 'memperlihatkan': 3, 'lingkungan': 3, 'ovo': 3, 'mali': 3, 'happy': 3, 'diadakan': 3, 'melayani': 3, 'jackson': 3, 'ingatkan': 3, 'benua': 3, 'langka': 3, 'sarjana': 3, 'tergeletak': 3, 'tindak': 3, 'melainkan': 3, 'keracunan': 3, 'pemutih': 3, 'zombie': 3, 'supir': 3, 'dihukum': 3, 'netanyahu': 3, 'sandiwara': 3, 'terbatas': 3, 'percaya': 3, 'texas': 3, 'tonga': 3, 'kuasai': 3, 'satelit': 3, 'mahathir': 3, 'gragas': 3, 'mengembangkan': 3, 'implan': 3, 'mengumpulkan': 3, 'skandal': 3, 'dilempari': 3, 'terlambat': 3, 'jauh': 3, 'via': 3, 'gorong': 3, 'mengganti': 3, 'citata': 3, 'yunani': 3, 'artinya': 3, 'kalinya': 3, 'toyota': 3, 'induk': 3, 'asahan': 3, 'tumbang': 3, 'mengetahui': 3, 'kedas': 3, 'reaksi': 3, 'kalung': 3, 'salib': 3, 'posisi': 3, 'bercadar': 3, 'menaruh': 3, 'bonus': 3, 'mus': 3, 'atasi': 3, 'terbit': 3, 'farma': 3, 'sidoarjo': 3, 'pembunuh': 3, 'rawat': 3, 'jemaatnya': 3, 'memperingatkan': 3, 'kabel': 3, 'cyber': 3, 'eva': 3, 'otp': 3, 'efendi': 3, 'karno': 3, 'poin': 3, 'pagar': 3, 'lumpur': 3, 'soda': 3, 'wainnailaihirojiun': 3, 'duk': 3, 'mnimut': 3, 'reuni': 3, 'berkepala': 3, 'jaksa': 3, 'khalifa': 3, 'sepuluh': 3, 'melanggar': 3, 'menghadiri': 3, 'sepakat': 3, 'aliansi': 3, 'delta': 3, 'putus': 3, 'membatalkan': 3, 'masal': 3, 'rabu': 3, 'disambut': 3, 'budak': 3, 'pertemuan': 3, 'studio': 3, 'hidayat': 3, 'menganut': 3, 'mencoba': 3, 'helm': 3, 'bergerak': 3, 'usul': 3, 'tengkorak': 3, 'memasukkan': 3, 'marak': 3, 'transit': 3, 'terserah': 3, 'nikahi': 3, 'mustafa': 3, 'kemal': 3, 'instan': 3, 'bermanfaat': 3, 'bersedia': 3, 'cisumdawu': 3, 'memangkas': 3, 'pemusnahan': 3, 'kenakan': 3, 'ipb': 3, 'histeris': 3, 'mbah': 3, 'yusril': 3, 'seribu': 3, 'nelayan': 3, 'kuwait': 3, 'pendarahan': 3, 'lintas': 3, 'karbon': 3, 'penanda': 3, 'kebocoran': 3, 'suku': 3, 'sulit': 3, 'penanggulangan': 3, 'pentingnya': 3, 'lamongan': 3, 'restu': 3, 'khotimah': 3, 'ayahanda': 3, 'ketenagakerjaan': 3, 'john': 3, 'dur': 3, 'kamis': 3, 'waloni': 3, 'giza': 3, 'paspor': 3, 'prestasi': 3, 'firdaus': 3, 'alkohol': 3, 'hambalang': 3, 'eri': 3, 'akulaku': 3, 'input': 3, 'rocky': 3, 'dukun': 3, 'dibeli': 3, 'end': 3, 'aqsa': 3, 'dibagikan': 3, 'disegel': 3, 'rendah': 3, 'sekarat': 3, 'kekurangan': 3, 'menyuruh': 3, 'hutapea': 3, 'pengemudi': 3, 'tubuhnya': 3, 'gawat': 3, 'kesembuhan': 3, 'stop': 3, 'selam': 3, 'hentikan': 3, 'zalim': 3, 'instruksikan': 3, 'memecahkan': 3, 'ambulance': 3, 'matanya': 3, 'blood': 3, 'barakat': 3, 'wudhu': 3, 'nyamuk': 3, 'ppdb': 3, 'tai': 3, 'panggang': 3, 'buktinya': 3, 'dimulai': 3, 'bpkh': 3, 'terbuka': 3, 'kasihan': 3, 'kanal': 3, 'menyedihkan': 3, 'mark': 3, 'artist': 3, 'menghipnotis': 3, 'menara': 3, 'selain': 3, 'warganya': 3, 'kedaulatan': 3, 'antre': 3, 'gajinya': 3, 'purnama': 3, 'bersatu': 3, 'mayatnya': 3, 'ujung': 3, 'kebangkitan': 3, 'sipit': 3, 'imigrasi': 3, 'justru': 3, 'made': 3, 'it': 3, 'retas': 3, 'seto': 3, 'serigala': 3, 'awas': 3, 'jadikan': 3, 'kontak': 3, 'free': 3, 'malaria': 3, 'finansial': 3, 'cari': 3, 'barusan': 3, 'pendek': 3, 'bersumpah': 3, 'cctv': 3, 'netflix': 3, 'benarkah': 3, 'busana': 3, 'mewah': 3, 'ingat': 3, 'kontainer': 3, 'vaccine': 3, 'kekuasaan': 3, 'rt': 3, 'pengikut': 3, 'lukisan': 3, 'berkas': 3, 'demonstrasi': 3, 'misionaris': 3, 'sawah': 3, 'rupanya': 3, 'berseragam': 3, 'amat': 3, 'mengirimkan': 3, 'hirup': 3, 'oi': 3, 'iskan': 3, 'kiriman': 3, 'maaher': 3, 'sintang': 3, 'jemaah': 3, 'penting': 3, 'co': 3, 'gaib': 3, 'gerindra': 3, 'purbalingga': 3, 'hb': 3, 'web': 3, 'copot': 3, 'sinyal': 3, 'lah': 3, 'gak': 3, 'berhubungan': 3, 'bermasalah': 3, 'mengibarkan': 3, 'sadarkan': 3, 'dikarantina': 3, 'pornografi': 3, 'pinang': 3, 'is': 3, 'asyik': 3, 'hijau': 3, 'puput': 3, 'menghilang': 3, 'umrah': 3, 'pudjiastuti': 3, 'uea': 3, 'klaster': 3, 'tengku': 3, 'terorisme': 3, 'plat': 3, 'patuhi': 3, 'mekar': 3, 'cukai': 3, 'model': 3, 'barcode': 3, 'tuan': 3, 'pecat': 3, 'payudara': 3, 'beda': 3, 'google': 3, 'editor': 3, 'kebun': 3, 'kurma': 3, 'selandia': 3, 'memohon': 3, 'lokal': 3, 'mendengar': 3, 'elpiji': 3, 'buang': 3, 'wkwk': 3, 'kuasa': 3, 'pilihan': 3, 'boikot': 3, 'penghitungan': 3, 'budiman': 3, 'ditulis': 3, 'menayangkan': 3, 'mi': 3, 'berencana': 3, 'perusuh': 3, 'didatangkan': 3, 'way': 3, 'rahmayadi': 3, 'serukan': 3, 'epidemi': 3, 'menyiarkan': 3, 'beroperasi': 3, 'cie': 3, 'bangkit': 3, 'opini': 3, 'simpson': 3, 'tjiptaning': 3, 'dilaksanakan': 3, 'jilid': 3, 'ashraf': 3, 'dibesar': 3, 'besarkan': 3, 'mengaji': 3, 'rotan': 3, 'siswi': 3, 'samsung': 3, 'rawan': 3, 'malaikat': 3, 'layang': 3, 'plonga': 3, 'plongo': 3, 'serangga': 3, 'kedokteran': 3, 'klaim': 3, 'serahkan': 3, 'kapan': 3, 'barack': 3, 'roh': 3, 'musim': 3, 'kakeknya': 3, 'jati': 3, 'seni': 3, 'katakan': 3, 'promo': 3, 'fbi': 3, 'apd': 3, 'antek': 3, 'libur': 3, 'melewati': 3, 'koalisi': 3, 'narapidana': 3, 'diisolasi': 3, 'rusuh': 3, 'mengancam': 3, 'ganja': 3, 'lion': 3, 'tisu': 3, 'paham': 3, 'sebelah': 3, 'gagak': 3, 'kotak': 3, 'cuti': 3, 'uym': 3, 'kebangsaan': 3, 'kalla': 3, 'dikatakan': 3, 'guncang': 3, 'forum': 3, 'sumbang': 2, 'mempengaruhi': 2, 'celine': 2, 'departemen': 2, 'pusbindiklatren': 2, 'sampel': 2, 'terbengkalai': 2, 'mahal': 2, 'berantakan': 2, 'bubuk': 2, 'cabai': 2, 'infak': 2, 'pangkas': 2, 'setor': 2, 'nun': 2, 'yunus': 2, 'kw': 2, 'sedekah': 2, 'format': 2, 'phantom': 2, 'argentina': 2, 'hantu': 2, 'laudya': 2, 'mahar': 2, 'parasit': 2, 'penghuni': 2, 'pacitan': 2, 'menghimbau': 2, 'emmanuel': 2, 'pemasyarakatan': 2, 'piton': 2, 'pc': 2, 'richard': 2, 'dikibarkan': 2, 'nasrani': 2, 'rebut': 2, 'puting': 2, 'beliung': 2, 'terjang': 2, 'syal': 2, 'mendengarkan': 2, 'airpods': 2, 'ditakuti': 2, 'kebaktian': 2, 'tembus': 2, 'sinta': 2, 'perum': 2, 'bulog': 2, 'farel': 2, 'prayoga': 2, 'nyanyi': 2, 'duo': 2, 'iriana': 2, 'minimal': 2, 'zidan': 2, 'berukuran': 2, 'gempar': 2, 'mengunyah': 2, 'gigitan': 2, 'kisruh': 2, 'terkejut': 2, 'jenguk': 2, 'mengapa': 2, 'cintanya': 2, 'gunadi': 2, 'diobati': 2, 'hazmat': 2, 'nafas': 2, 'usung': 2, 'durian': 2, 'dimakan': 2, 'kanjuruhan': 2, 'tinjau': 2, 'berbeda': 2, 'terdeteksi': 2, 'mengembalikan': 2, 'menjijikkan': 2, 'dikirim': 2, 'ramsay': 2, 'hunt': 2, 'perbedaan': 2, 'manokwari': 2, 'elektabilitas': 2, 'divonis': 2, 'syok': 2, 'terkontaminasi': 2, 'tapanuli': 2, 'selebriti': 2, 'kebumen': 2, 'seksual': 2, 'jurang': 2, 'rambut': 2, 'merasakan': 2, 'pssi': 2, 'heri': 2, 'geleng': 2, 'benarkan': 2, 'waduk': 2, 'pluit': 2, 'dibersihkan': 2, 'lafadz': 2, 'terendam': 2, 'florida': 2, 'dhani': 2, 'aslinya': 2, 'herbertus': 2, 'pembacokan': 2, 'menderita': 2, 'resesi': 2, 'nugraha': 2, 'penanggung': 2, 'salatiga': 2, 'konsulat': 2, 'uskup': 2, 'kompleks': 2, 'elite': 2, 'saluran': 2, 'henry': 2, 'kissinger': 2, 'modifikasi': 2, 'melepaskan': 2, 'dipanggil': 2, 'tawaran': 2, 'perpisahan': 2, 'hadapi': 2, 'fadil': 2, 'rampas': 2, 'tuduh': 2, 'tunjukan': 2, 'miliknya': 2, 'kesaksiannya': 2, 'hindari': 2, 'candi': 2, 'borobudur': 2, 'tjoeng': 2, 'ming': 2, 'dikoneksikan': 2, 'borok': 2, 'ogah': 2, 'pembuat': 2, 'boros': 2, 'sebaran': 2, 'genangan': 2, 'mengelak': 2, 'penyidik': 2, 'pertengahan': 2, 'berseberangan': 2, 'tangisan': 2, 'kurniawan': 2, 'design': 2, 'pembantaian': 2, 'pratinjau': 2, 'thumbnail': 2, 'bulanan': 2, 'najwa': 2, 'besi': 2, 'pati': 2, 'penjamin': 2, 'wirausaha': 2, 'boalemo': 2, 'bone': 2, 'cap': 2, 'dikudeta': 2, 'terharu': 2, 'optimis': 2, 'memuluskan': 2, 'panggil': 2, 'organ': 2, 'tugu': 2, 'neo': 2, 'dihantam': 2, 'misil': 2, 'penganiayaan': 2, 'kg': 2, 'account': 2, 'terpasang': 2, 'dinonaktifkan': 2, 'juliari': 2, 'masiku': 2, 'selesai': 2, 'lanka': 2, 'kharkiv': 2, 'menyumbangkan': 2, 'sedikit': 2, 'kidul': 2, 'yapen': 2, 'apak': 2, 'fungsional': 2, 'simpsons': 2, 'mbak': 2, 'dimangsa': 2, 'sahabat': 2, 'bertujuan': 2, 'diundi': 2, 'rayap': 2, 'npwp': 2, 'ganda': 2, 'sadoka': 2, 'memesan': 2, 'gantikan': 2, 'giliran': 2, 'sulami': 2, 'gerwani': 2, 'iman': 2, 'melonjaknya': 2, 'persatuan': 2, 'wisuda': 2, 'pom': 2, 'tuban': 2, 'aborsi': 2, 'pinggir': 2, 'yaitu': 2, 'kadzab': 2, 'itulah': 2, 'sukarelawan': 2, 'tagih': 2, 'iwan': 2, 'sumpah': 2, 'berulang': 2, 'meletakkan': 2, 'tar': 2, 'identitas': 2, 'perjanjian': 2, 'serdang': 2, 'adili': 2, 'pengibaran': 2, 'logam': 2, 'bermunculan': 2, 'tangki': 2, 'band': 2, 'rock': 2, 'memainkan': 2, 'graphene': 2, 'oxide': 2, 'bereaksi': 2, 'kacamata': 2, 'wonosobo': 2, 'ponorogo': 2, 'handphonenya': 2, 'disembunyikan': 2, 'peristiwa': 2, 'klarifikasi': 2, 'membahayakan': 2, 'berisiko': 2, 'melaporkan': 2, 'augmented': 2, 'reality': 2, 'kepentingan': 2, 'kepalanya': 2, 'terinspirasi': 2, 'diperkosa': 2, 'pencabulan': 2, 'dipukul': 2, 'sun': 2, 'abang': 2, 'pembantu': 2, 'lobak': 2, 'kemiri': 2, 'anang': 2, 'abe': 2, 'servis': 2, 'mengecilkan': 2, 'menyerukan': 2, 'dipilih': 2, 'ditilang': 2, 'spike': 2, 'dipastikan': 2, 'mengontrol': 2, 'disekolah': 2, 'eksperimen': 2, 'etnis': 2, 'panitia': 2, 'waskita': 2, 'kuil': 2, 'penyaluran': 2, 'jelaskan': 2, 'surya': 2, 'paloh': 2, 'melaksanakan': 2, 'berdasarkan': 2, 'menyanyikan': 2, 'misi': 2, 'sendal': 2, 'bercerai': 2, 'johnson': 2, 'berjaya': 2, 'hancurkan': 2, 'beraksi': 2, 'kebanggaan': 2, 'terpanggang': 2, 'tenggelamnya': 2, 'menewaskan': 2, 'polandia': 2, 'asosiasi': 2, 'peledak': 2, 'legalkan': 2, 'zina': 2, 'thunberg': 2, 'sebutan': 2, 'arnold': 2, 'schwarzenegger': 2, 'ambulans': 2, 'tpnpb': 2, 'menandatangani': 2, 'replika': 2, 'wujudkan': 2, 'menyiapkan': 2, 'kelumpuhan': 2, 'bhineka': 2, 'mainan': 2, 'yani': 2, 'menggalang': 2, 'menyalin': 2, 'blora': 2, 'berjualan': 2, 'bukannya': 2, 'ruas': 2, 'balapan': 2, 'tunjangan': 2, 'anne': 2, 'mustika': 2, 'tabanan': 2, 'djkn': 2, 'menyentuh': 2, 'rutin': 2, 'khotbah': 2, 'acha': 2, 'septriasa': 2, 'narayanganj': 2, 'siapkan': 2, 'malin': 2, 'kundang': 2, 'indra': 2, 'praktik': 2, 'nah': 2, 'seksi': 2, 'tipe': 2, 'gajah': 2, 'sekitarnya': 2, 'rekor': 2, 'pasifik': 2, 'semut': 2, 'truck': 2, 'atap': 2, 'tanggung': 2, 'letusan': 2, 'belasan': 2, 'menanti': 2, 'terseret': 2, 'singa': 2, 'sedih': 2, 'ustazah': 2, 'mama': 2, 'dedeh': 2, 'curi': 2, 'widjiatno': 2, 'tulen': 2, 'danjen': 2, 'pemakan': 2, 'salju': 2, 'bamukmin': 2, 'paula': 2, 'wujud': 2, 'gabungan': 2, 'ediba': 2, 'tan': 2, 'soerjadjaja': 2, 'terkecoh': 2, 'berdemo': 2, 'penari': 2, 'disneyland': 2, 'sponsor': 2, 'lumpuh': 2, 'rizal': 2, 'ramli': 2, 'jamil': 2, 'peluru': 2, 'pestisida': 2, 'halmahera': 2, 'haris': 2, 'boba': 2, 'menyangkut': 2, 'buntu': 2, 'bangkalan': 2, 'manado': 2, 'nekad': 2, 'anehnya': 2, 'harinya': 2, 'mendapati': 2, 'bantul': 2, 'kemampuan': 2, 'membedakan': 2, 'bidang': 2, 'isya': 2, 'hina': 2, 'sehabis': 2, 'kegagalan': 2, 'faktor': 2, 'botol': 2, 'canggih': 2, 'dabbah': 2, 'ragil': 2, 'karanganyar': 2, 'basah': 2, 'sentuh': 2, 'qaradhawi': 2, 'sitompul': 2, 'tolong': 2, 'prioritas': 2, 'innailaihi': 2, 'wisnu': 2, 'tertabrak': 2, 'ombak': 2, 'kekasihnya': 2, 'dikuburkan': 2, 'rumput': 2, 'paragis': 2, 'sulfur': 2, 'kepadatan': 2, 'kutub': 2, 'ditangguhkan': 2, 'istiqlal': 2, 'halaman': 2, 'tanggapan': 2, 'kronologi': 2, 'sinetron': 2, 'berdatangan': 2, 'gerd': 2, 'menekan': 2, 'antaranya': 2, 'dihilangkan': 2, 'rajin': 2, 'hitler': 2, 'kejatuhan': 2, 'khofifah': 2, 'indar': 2, 'parawansa': 2, 'penjajah': 2, 'ditembaki': 2, 'windows': 2, 'penjelasannya': 2, 'kantin': 2, 'zakat': 2, 'hadi': 2, 'kriteria': 2, 'ujaran': 2, 'tana': 2, 'london': 2, 'kepiting': 2, 'titanic': 2, 'twitternya': 2, 'saleh': 2, 'sahur': 2, 'sulaiman': 2, 'dimiliki': 2, 'bangunkan': 2, 'hiroshima': 2, 'gerai': 2, 'mental': 2, 'syahadat': 2, 'nokia': 2, 'santunan': 2, 'kapuas': 2, 'gugat': 2, 'pengadilan': 2, 'dibesarkan': 2, 'pemeran': 2, 'dinosaurus': 2, 'bakauheni': 2, 'dewasa': 2, 'pra': 2, 'dibom': 2, 'obati': 2, 'peluang': 2, 'gempur': 2, 'kediaman': 2, 'ibas': 2, 'ajid': 2, 'terobos': 2, 'tanker': 2, 'peringkat': 2, 'nazi': 2, 'max': 2, 'sebentar': 2, 'sana': 2, 'menciptakan': 2, 'monumen': 2, 'pandeglang': 2, 'ms': 2, 'glow': 2, 'diciduk': 2, 'panduan': 2, 'biontech': 2, 'radang': 2, 'target': 2, 'ternak': 2, 'silicon': 2, 'limbah': 2, 'monrovia': 2, 'liberia': 2, 'dilatih': 2, 'diluncurkan': 2, 'marc': 2, 'formalin': 2, 'cilegon': 2, 'chechnya': 2, 'siti': 2, 'propaganda': 2, 'pertempuran': 2, 'kerusuhan': 2, 'saking': 2, 'kiblat': 2, 'demam': 2, 'mengangkut': 2, 'pertanyaan': 2, 'pengungsi': 2, 'pengobatan': 2, 'tumor': 2, 'cell': 2, 'rekayasa': 2, 'biologi': 2, 'auman': 2, 'nabawi': 2, 'reporter': 2, 'suatu': 2, 'syaratnya': 2, 'ukr': 2, 'menembak': 2, 'atlas': 2, 'diekspor': 2, 'organnya': 2, 'rina': 2, 'nose': 2, 'kumis': 2, 'russia': 2, 'revisi': 2, 'penambahan': 2, 'skb': 2, 'muawanah': 2, 'berperang': 2, 'berkerumun': 2, 'apalagi': 2, 'dikejar': 2, 'pamer': 2, 'tato': 2, 'full': 2, 'bnpb': 2, 'kunjungi': 2, 'kelahiran': 2, 'semalaman': 2, 'laga': 2, 'amatir': 2, 'pengangkut': 2, 'konflik': 2, 'menuntut': 2, 'cholil': 2, 'kembalikan': 2, 'mengurangi': 2, 'kedelai': 2, 'damai': 2, 'balistik': 2, 'berkumpul': 2, 'diadili': 2, 'menargetkan': 2, 'kargo': 2, 'penis': 2, 'psikotes': 2, 'bertelur': 2, 'berguna': 2, 'kertajati': 2, 'golden': 2, 'pembubaran': 2, 'balkon': 2, 'dulunya': 2, 'danareksa': 2, 'membeku': 2, 'berkurang': 2, 'portal': 2, 'seks': 2, 'bergoyang': 2, 'mg': 2, 'ivan': 2, 'gupta': 2, 'koordinasi': 2, 'kamp': 2, 'komunitas': 2, 'wibawa': 2, 'suyasa': 2, 'elang': 2, 'promosi': 2, 'anarkis': 2, 'wadas': 2, 'ganggu': 2, 'microsoft': 2, 'mengkritik': 2, 'memuji': 2, 'siluman': 2, 'rencanakan': 2, 'sigi': 2, 'diskominfo': 2, 'dikelola': 2, 'populasi': 2, 'dimasak': 2, 'piece': 2, 'sendok': 2, 'sayap': 2, 'imlek': 2, 'prokes': 2, 'tantang': 2, 'hasilnya': 2, 'yohanes': 2, 'bulu': 2, 'berlumuran': 2, 'resep': 2, 'kucurkan': 2, 'harusnya': 2, 'musa': 2, 'bondowoso': 2, 'irwansyah': 2, 'sangka': 2, 'rscm': 2, 'pahit': 2, 'persembunyiannya': 2, 'bahrain': 2, 'sidempuan': 2, 'singkawang': 2, 'mulyadi': 2, 'pembeli': 2, 'berapi': 2, 'viagra': 2, 'darwin': 2, 'world': 2, 'order': 2, 'dbd': 2, 'zimbabwe': 2, 'fiktif': 2, 'dahulu': 2, 'dipajang': 2, 'headline': 2, 'tenis': 2, 'alkitab': 2, 'pemanggilan': 2, 'adam': 2, 'mengharukan': 2, 'thomas': 2, 'peresmian': 2, 'kenya': 2, 'bercampur': 2, 'menghafal': 2, 'annisa': 2, 'bahar': 2, 'taufik': 2, 'diwajibkan': 2, 'mengizinkan': 2, 'umpatan': 2, 'ludes': 2, 'qajar': 2, 'saksi': 2, 'influenza': 2, 'braille': 2, 'minimarket': 2, 'aphelion': 2, 'burger': 2, 'rio': 2, 'panah': 2, 'rojack': 2, 'garong': 2, 'beralasan': 2, 'menentukan': 2, 'diangkut': 2, 'sr': 2, 'teras': 2, 'tas': 2, 'lulusan': 2, 'pp': 2, 'mogok': 2, 'waduh': 2, 'variant': 2, 'bingung': 2, 'kencang': 2, 'riza': 2, 'patria': 2, 'gunardi': 2, 'pemerkosa': 2, 'santriwati': 2, 'megah': 2, 'arena': 2, 'mingguan': 2, 'diperlukan': 2, 'pencurian': 2, 'rspad': 2, 'ialah': 2, 'rilis': 2, 'jaksel': 2, 'dwiana': 2, 'nasution': 2, 'iraq': 2, 'industrial': 2, 'berpelukan': 2, 'penculik': 2, 'smartphone': 2, 'incorporate': 2, 'penukaran': 2, 'merekomendasikan': 2, 'penerus': 2, 'srimul': 2, 'berideologi': 2, 'memasak': 2, 'popcorn': 2, 'supermarket': 2, 'borong': 2, 'banyuasin': 2, 'agnes': 2, 'ricuh': 2, 'dikasih': 2, 'tepi': 2, 'direkam': 2, 'burj': 2, 'komik': 2, 'munculnya': 2, 'pemudi': 2, 'device': 2, 'berlabel': 2, 'berpotensi': 2, 'wina': 2, 'bersebelahan': 2, 'sayur': 2, 'ivermectin': 2, 'level': 2, 'berdua': 2, 'terbenam': 2, 'menyimpan': 2, 'tirta': 2, 'tersumbat': 2, 'chemtrails': 2, 'amblas': 2, 'gultom': 2, 'somalia': 2, 'qr': 2, 'nganjuk': 2, 'drive': 2, 'titiek': 2, 'wahyu': 2, 'jengkol': 2, 'irwan': 2, 'rahmat': 2, 'nuklir': 2, 'junta': 2, 'batang': 2, 'setempat': 2, 'dirancang': 2, 'aqua': 2, 'menggantikan': 2, 'ilustrasi': 2, 'kardus': 2, 'momen': 2, 'nge': 2, 'roma': 2, 'dibacok': 2, 'pon': 2, 'v': 2, 'menyajikan': 2, 'menyarankan': 2, 'microchip': 2, 'dikunjungi': 2, 'mengurus': 2, 'wahid': 2, 'asas': 2, 'akomodasi': 2, 'ruh': 2, 'memaafkan': 2, 'subhanahu': 2, 'taala': 2, 'ataturk': 2, 'matikan': 2, 'pembuluh': 2, 'terbitan': 2, 'anthony': 2, 'itv': 2, 'temannya': 2, 'menerobos': 2, 'tumpukan': 2, 'modern': 2, 'dominos': 2, 'astronot': 2, 'berujung': 2, 'delapan': 2, 'buruk': 2, 'strata': 2, 'penjualan': 2, 'terakhirnya': 2, 'allahu': 2, 'layak': 2, 'dicurigai': 2, 'mafia': 2, 'wifi': 2, 'kadar': 2, 'menantang': 2, 'shaf': 2, 'merencanakan': 2, 'sebagainya': 2, 'diizinkan': 2, 'sahkan': 2, 'pelatihan': 2, 'intan': 2, 'politikus': 2, 'afganistan': 2, 'labu': 2, 'diserahkan': 2, 'drastis': 2, 'baba': 2, 'shell': 2, 'ditanggung': 2, 'kura': 2, 'wibisana': 2, 'hairan': 2, 'gianyar': 2, 'diresmikan': 2, 'menghindari': 2, 'sadar': 2, 'kabul': 2, 'madrid': 2, 'penggerebekan': 2, 'cengkeh': 2, 'kondisinya': 2, 'bkpsdm': 2, 'ogan': 2, 'ungkapan': 2, 'meninggalnya': 2, 'dian': 2, 'yakult': 2, 'gerilya': 2, 'lengser': 2, 'gsp': 2, 'pemeriksaan': 2, 'pemindahan': 2, 'mendatang': 2, 'baja': 2, 'nasibnya': 2, 'memilukan': 2, 'hukumnya': 2, 'irsyad': 2, 'oki': 2, 'ott': 2, 'bendungan': 2, 'hajatan': 2, 'investama': 2, 'berkibar': 2, 'pik': 2, 'andi': 2, 'mangkrak': 2, 'raharja': 2, 'kemkominfo': 2, 'gebyar': 2, 'bergelimpangan': 2, 'rsal': 2, 'berpulang': 2, 'nuriyah': 2, 'ksad': 2, 'saturnus': 2, 'mainkan': 2, 'badui': 2, 'jasad': 2, 'yatim': 2, 'piatu': 2, 'rasisme': 2, 'honda': 2, 'anjir': 2, 'perhitungan': 2, 'satpam': 2, 'hmi': 2, 'ganas': 2, 'objek': 2, 'timbulkan': 2, 'south': 2, 'dikenal': 2, 'fatmawati': 2, 'nik': 2, 'industri': 2, 'cahyono': 2, 'lompat': 2, 'cedera': 2, 'oblong': 2, 'kericuhan': 2, 'pendonor': 2, 'das': 2, 'cikeas': 2, 'sepengetahuan': 2, 'pengurusan': 2, 'bersholawat': 2, 'f': 2, 'beruang': 2, 'ditusuk': 2, 'banyaknya': 2, 'ct': 2, 'perjalanan': 2, 'keran': 2, 'cashback': 2, 'kantong': 2, 'dikelilingi': 2, 'menguburkan': 2, 'lubang': 2, 'bengis': 2, 'kenangan': 2, 'ban': 2, 'kontan': 2, 'terbaring': 2, 'sungkem': 2, 'kandang': 2, 'lenon': 2, 'kezaliman': 2, 'keterangan': 2, 'dibilang': 2, 'seruan': 2, 'bfl': 2, 'life': 2, 'thamrin': 2, 'keluarganya': 2, 'machupo': 2, 'dikhianati': 2, 'abdullah': 2, 'gymnastiar': 2, 'mengurusi': 2, 'asbak': 2, 'gelap': 2, 'benaran': 2, 'membludak': 2, 'mutasi': 2, 'hand': 2, 'sanitizer': 2, 'pemecatan': 2, 'us': 2, 'coca': 2, 'cola': 2, 'pers': 2, 'bajaj': 2, 'bajuri': 2, 'pendayagunaan': 2, 'jomlo': 2, 'berhaji': 2, 'tohir': 2, 'berlebihan': 2, 'dhabi': 2, 'bersiap': 2, 'memaksa': 2, 'we': 2, 'ascend': 2, 'suez': 2, 'idx': 2, 'lulus': 2, 'kerala': 2, 'menghantam': 2, 'pancaran': 2, 'zuckerberg': 2, 'stand': 2, 'strategis': 2, 'diajak': 2, 'biotik': 2, 'hidayah': 2, 'pemburu': 2, 'donasikan': 2, 'yuhronur': 2, 'ekstrak': 2, 'membubarkan': 2, 'meneteskan': 2, 'palestine': 2, 'awak': 2, 'bantai': 2, 'menginap': 2, 'herbal': 2, 'mengelabui': 2, 'christiano': 2, 'bersalaman': 2, 'brunei': 2, 'jurnalis': 2, 'pantauan': 2, 'sumpit': 2, 'terbebas': 2, 'permukaan': 2, 'sesuatu': 2, 'disangka': 2, 'kesejahteraan': 2, 'soeta': 2, 'pistol': 2, 'amunisi': 2, 'mexico': 2, 'sinjai': 2, 'selayar': 2, 'selapang': 2, 'lapangnya': 2, 'himalaya': 2, 'kremasi': 2, 'fluoride': 2, 'boneka': 2, 'diretas': 2, 'baiknya': 2, 'uangnya': 2, 'times': 2, 'ditayangkan': 2, 'takbir': 2, 'magetan': 2, 'menilang': 2, 'berkuasa': 2, 'berlayar': 2, 'telekomunikasi': 2, 'donatur': 2, 'dipersiapkan': 2, 'pendataan': 2, 'perguruan': 2, 'mencetak': 2, 'dipercaya': 2, 'anas': 2, 'seluler': 2, 'lem': 2, 'pemakzulan': 2, 'lahat': 2, 'siloam': 2, 'dihapus': 2, 'kamar': 2, 'lantai': 2, 'dada': 2, 'ditendang': 2, 'pergerakan': 2, 'kebersihan': 2, 'indomie': 2, 'diborgol': 2, 'mineral': 2, 'mabuk': 2, 'batuk': 2, 'mengumpet': 2, 'maghrib': 2, 'maluku': 2, 'melemahkan': 2, 'pelakunya': 2, 'seret': 2, 'dibohongi': 2, 'menghisap': 2, 'hadiri': 2, 'glaxosmithkline': 2, 'kendali': 2, 'protestan': 2, 'wawan': 2, 'terjatuh': 2, 'kontes': 2, 'kompensasi': 2, 'memutuskan': 2, 'saraf': 2, 'sale': 2, 'disimpan': 2, 'pengendara': 2, 'menganiaya': 2, 'berbasis': 2, 'berakibat': 2, 'passport': 2, 'berlangsung': 2, 'lebam': 2, 'kelelahan': 2, 'madiun': 2, 'kehidupan': 2, 'gowa': 2, 'kerjanya': 2, 'oke': 2, 'penduduknya': 2, 'vegetarian': 2, 'papan': 2, 'card': 2, 'istora': 2, 'yosi': 2, 'mokalu': 2, 'ideologi': 2, 'kejadiannya': 2, 'paku': 2, 'kapsul': 2, 'kebanjiran': 2, 'timor': 2, 'leste': 2, 'khas': 2, 'pray': 2, 'ketemu': 2, 'terjual': 2, 'kalangan': 2, 'club': 2, 'bahagia': 2, 'shinta': 2, 'melania': 2, 'registrasi': 2, 'meretas': 2, 'vtube': 2, 'menjamin': 2, 'mengeyel': 2, 'kepanikan': 2, 'landing': 2, 'sumba': 2, 'kurus': 2, 'koma': 2, 'nakes': 2, 'hasanudin': 2, 'isran': 2, 'noor': 2, 'ucapannya': 2, 'kampus': 2, 'berhadapan': 2, 'bang': 2, 'deep': 2, 'hijab': 2, 'sos': 2, 'contoh': 2, 'taktik': 2, 'laporan': 2, 'america': 2, 'kebohongan': 2, 'pramugari': 2, 'lantunan': 2, 'bacaan': 2, 'cetak': 2, 'disadap': 2, 'sayangnya': 2, 'ditekan': 2, 'diancam': 2, 'beruntung': 2, 'produktif': 2, 'bpum': 2, 'mamuju': 2, 'body': 2, 'protokol': 2, 'hill': 2, 'na': 2, 'emirates': 2, 'muratara': 2, 'bermotor': 2, 'antri': 2, 'pandjaitan': 2, 'terkaya': 2, 'diracun': 2, 'cimahi': 2, 'bokep': 2, 'operan': 2, 'armuji': 2, 'doing': 2, 'pence': 2, 'sambut': 2, 'dianggap': 2, 'merapat': 2, 'menunda': 2, 'pendirian': 2, 'cawabup': 2, 'petamburan': 2, 'bolehkan': 2, 'terompet': 2, 'nashville': 2, 'tibet': 2, 'pangdam': 2, 'purba': 2, 'lantunkan': 2, 'menyumbang': 2, 'ipw': 2, 'ciamis': 2, 'komisioner': 2, 'grobogan': 2, 'kerap': 2, 'sudan': 2, 'tertawa': 2, 'diminta': 2, 'penyidikan': 2, 'bacok': 2, 'derajat': 2, 'menembus': 2, 'tapak': 2, 'pose': 2, 'zulkarnain': 2, 'lantas': 2, 'kondom': 2, 'zam': 2, 'pedoman': 2, 'kategori': 2, 'intel': 2, 'starbucks': 2, 'thermo': 2, 'mustofa': 2, 'bisri': 2, 'hai': 2, 'khianati': 2, 'memperhatikan': 2, 'kehilangan': 2, 'dicuri': 2, 'mengawal': 2, 'bea': 2, 'obral': 2, 'saw': 2, 'karachi': 2, 'kewalahan': 2, 'setia': 2, 'shirt': 2, 'pele': 2, 'tertinggal': 2, 'menendang': 2, 'lelaki': 2, 'si': 2, 'jongos': 2, 'penasihat': 2, 'transjakarta': 2, 'akronim': 2, 'lapisan': 2, 'kedok': 2, 'liter': 2, 'membelah': 2, 'coblos': 2, 'berlubang': 2, 'staph': 2, 'and': 2, 'samudera': 2, 'roxy': 2, 'asmaul': 2, 'husna': 2, 'basahkan': 2, 'asrama': 2, 'bulak': 2, 'underpass': 2, 'center': 2, 'dungu': 2, 'kian': 2, 'gie': 2, 'post': 2, 'youtube': 2, 'ltmpt': 2, 'meninggalkan': 2, 'gugatan': 2, 'banpres': 2, 'perancis': 2, 'ekor': 2, 'museum': 2, 'hamzah': 2, 'alokasi': 2, 'dibekukan': 2, 'penguburan': 2, 'didemo': 2, 'diturunkan': 2, 'dihina': 2, 'jera': 2, 'provokator': 2, 'ramses': 2, 'menjabat': 2, 'merasa': 2, 'vital': 2, 'kuda': 2, 'gurun': 2, 'karcis': 2, 'imunisasi': 2, 'berteriak': 2, 'gagalkan': 2, 'armenia': 2, 'azerbaijan': 2, 'wercok': 2, 'berendam': 2, 'segar': 2, 'daster': 2, 'fardhu': 2, 'kifayah': 2, 'orasi': 2, 'udayana': 2, 'rambo': 2, 'persenjataan': 2, 'len': 2, 'perencanaan': 2, 'dimatikan': 2, 'kah': 2, 'pesisir': 2, 'on': 2, 'munafik': 2, 'azhar': 2, 'penjarahan': 2, 'disebarkan': 2, 'hem': 2, 'murni': 2, 'jend': 2, 'raden': 2, 'goblok': 2, 'valid': 2, 'low': 2, 'back': 2, 'pain': 2, 'tiek': 2, 'im': 2, 'peringatkan': 2, 'stabilitas': 2, 'gerombolan': 2, 'telak': 2, 'sunter': 2, 'terkuat': 2, 'fakultas': 2, 'gebuk': 2, 'peninggalan': 2, 'sobek': 2, 'kukumu': 2, 'scuba': 2, 'aidit': 2, 'alkali': 2, 'melegalkan': 2, 'tvone': 2, 'bcl': 2, 'maklumat': 2, 'pedangdut': 2, 'sniper': 2, 'membongkar': 2, 'transmigrasi': 2, 'dinobatkan': 2, 'unta': 2, 'jarang': 2, 'pelajaran': 2, 'merangkap': 2, 'tuyul': 2, 'tutorial': 2, 'waktunya': 2, 'dibiayai': 2, 'persebaran': 2, 'madinah': 2, 'husnul': 2, 'ibunda': 2, 'urin': 2, 'taruna': 2, 'dapatkan': 2, 'rekomendasi': 2, 'gun': 2, 'kelenjar': 2, 'ditiadakan': 2, 'saidi': 2, 'ferdinan': 2, 'kebijakannya': 2, 'pandainya': 2, 'sial': 2, 'eh': 2, 'nahdliyin': 2, 'rindu': 2, 'o': 2, 'ancang': 2, 'tumpeng': 2, 'bertobat': 2, 'konsentrasi': 2, 'tabungan': 2, 'unit': 2, 'menginjak': 2, 'seharusnya': 2, 'cemara': 2, 'infrared': 2, 'dampingi': 2, 'brompton': 2, 'direksi': 2, 'gading': 2, 'diliburkan': 2, 'bernard': 2, 'bentrok': 2, 'perpanjangan': 2, 'memanas': 2, 'dikaitkan': 2, 'husen': 2, 'syihab': 2, 'mochtar': 2, 'ketik': 2, 'laser': 2, 'agamanya': 2, 'berjanji': 2, 'struk': 2, 'senapan': 2, 'hagia': 2, 'anggrek': 2, 'generasi': 2, 'pemerintahnya': 2, 'tamu': 2, 'sedangkan': 2, 'bosan': 2, 'jahat': 2, 'dahsyatnya': 2, 'ruah': 2, 'penilangan': 2, 'pikobar': 2, 'memenuhi': 2, 'kilometer': 2, 'pesepeda': 2, 'stok': 2, 'semboyan': 2, 'bekerdja': 2, 'gembira': 2, 'jim': 2, 'pembuangan': 2, 'all': 2, 'water': 2, 'foya': 2, 'soetomo': 2, 'terpilihnya': 2, 'pengangguran': 2, 'ribka': 2, 'ph': 2, 'dilengserkan': 2, 'golkar': 2, 'lahirnya': 2, 'kemarau': 2, 'desain': 2, 'akta': 2, 'utbk': 2, 'konteks': 2, 'mewabah': 2, 'rieke': 2, 'fkppi': 2, 'ruslan': 2, 'tersenyum': 2, 'ekstrem': 2, 'saran': 2, 'tujuan': 2, 'pelihara': 2, 'pengantar': 2, 'tipu': 2, 'faktanya': 2, 'menangani': 2, 'mempersiapkan': 2, 'dekan': 2, 'diketahui': 2, 'terciduk': 2, 'bully': 2, 'keluyuran': 2, 'tuntut': 2, 'kehabisan': 2, 'sapu': 2, 'tap': 2, 'pembatasan': 2, 'diterapkan': 2, 'sudjiatmi': 2, 'diumumkan': 2, 'menyusup': 2, 'banyuwangi': 2, 'memotong': 2, 'berpuasa': 2, 'turunan': 2, 'membusuk': 2, 'penyimpanan': 2, 'garut': 2, 'lintang': 2, 'menata': 2, 'disuap': 2, 'erick': 2, 'dibolehkan': 2, 'dijanjikan': 2, 'didi': 2, 'kempot': 2, 'menguasai': 2, 'menikmati': 2, 'indikasi': 2, 'mengincar': 2, 'terjangkit': 2, 'korona': 2, 'trending': 2, 'salahkan': 2, 'pencuri': 2, 'diganggu': 2, 'hebat': 2, 'market': 2, 'penghianat': 2, 'dirampok': 2, 'teratasi': 2, 'pelni': 2, 'muara': 2, 'bule': 2, 'fasilitas': 2, 'diperbesar': 2, 'harvard': 2, 'apartemen': 2, 'persahabatan': 2, 'jemaat': 2, 'dettol': 2, 'lock': 2, 'down': 2, 'tularkan': 2, 'jamur': 2, 'doanya': 2, 'lautan': 2, 'pengawasan': 2, 'jalani': 2, 'ajukan': 2, 'dijahit': 2, 'dipulangkan': 2, 'asalnya': 2, 'landa': 2, 'bu': 2, 'modi': 2, 'sabotase': 2, 'kubu': 2, 'kaum': 2, 'muslimah': 2, 'cikarang': 2, 'membenci': 2, 'daratan': 2, 'arahnya': 2, 'kemana': 2, 'laku': 2, 'enim': 2, 'sepanjang': 2, 'bili': 2, 'segala': 2, 'turkistan': 2, 'kemayoran': 2, 'diliput': 2, 'masukan': 2, 'kacau': 2, 'mesut': 2, 'ozil': 2, 'cekik': 2, 'uzbekistan': 2, 'xinjiang': 2, 'legenda': 2, 'halo': 2, 'kerupuk': 2, 'persekusi': 2, 'dpo': 2, 'alexis': 2, 'fokus': 2, 'berdarah': 2, 'ondel': 2, 'cadar': 2, 'syukur': 2, 'gebrakan': 2, 'tersentuh': 2, 'grace': 2, 'natalie': 2, 'utusan': 2, 'penderitaan': 2, 'posko': 2, 'melecehkan': 2, 'mewakili': 2, 'delegasi': 2, 'unj': 2, 'faisal': 2, 'insaf': 2, 'beruntun': 2, 'merry': 2, 'riana': 2, 'bimbingan': 2, 'teknis': 2, 'pendukungnya': 2, 'percetakan': 2, 'situng': 2, 'wadiyah': 2, 'cukong': 2, 'bpn': 2, 'referendum': 2, 'people': 2, 'tkn': 2, 'tsamara': 2, 'amany': 2, 'ucapkan': 2, 'buntung': 2, 'didiamkan': 2, 'sholatu': 2, 'pencoblosan': 2, 'kennedy': 2, 'hura': 2, 'sicc': 1, 'sentul': 1, 'dijerat': 1, 'perkara': 1, 'terselubung': 1, 'pasal': 1, 'dion': 1, 'menjelang': 1, 'pokok': 1, 'usulan': 1, 'nip': 1, 'wignyo': 1, 'adiyoso': 1, 'minta': 1, 'dikembangkan': 1, 'ditingkatkan': 1, 'kemampuannya': 1, 'mengental': 1, 'pangsar': 1, 'skuter': 1, 'pergantian': 1, 'kosta': 1, 'rika': 1, 'sunat': 1, 'shadaqoh': 1, 'menikahkan': 1, 'menelan': 1, 'terpencil': 1, 'maroko': 1, 'infaq': 1, 'resi': 1, 'rolls': 1, 'royce': 1, 'taklukan': 1, 'danang': 1, 'mengering': 1, 'cynthia': 1, 'dinikahi': 1, 'dimas': 1, 'beck': 1, 'fosil': 1, 'khao': 1, 'khanap': 1, 'hydra': 1, 'pegat': 1, 'ngadirojo': 1, 'penghubung': 1, 'wonogiri': 1, 'republican': 1, 'transparan': 1, 'tamparan': 1, 'benci': 1, 'membalas': 1, 'dgn': 1, 'sepenuh': 1, 'gencarnya': 1, 'kristenisasi': 1, 'palalangon': 1, 'berkutik': 1, 'trisha': 1, 'eungelica': 1, 'eliezer': 1, 'ziarah': 1, 'daniel': 1, 'mananta': 1, 'ombudsman': 1, 'hery': 1, 'susanto': 1, 'jazeera': 1, 'menggambar': 1, 'swastika': 1, 'sok': 1, 'menebang': 1, 'zakir': 1, 'federation': 1, 'football': 1, 'association': 1, 'memancarkan': 1, 'emf': 1, 'dibutuhkan': 1, 'menarget': 1, 'akut': 1, 'martono': 1, 'penghadang': 1, 'iring': 1, 'iringan': 1, 'aksinya': 1, 'pandang': 1, 'ayatollah': 1, 'khomeini': 1, 'diktiristek': 1, 'kemendikbudristek': 1, 'penyerahan': 1, 'regional': 1, 'deden': 1, 'bonni': 1, 'koswara': 1, 'kayong': 1, 'doktorandes': 1, 'duani': 1, 'falah': 1, 'maine': 1, 'lula': 1, 'silva': 1, 'satanis': 1, 'unpopular': 1, 'histori': 1, 'set': 1, 'top': 1, 'tunisia': 1, 'bernominal': 1, 'disusupi': 1, 'radikulis': 1, 'hartono': 1, 'belantara': 1, 'pergeseran': 1, 'benzema': 1, 'terpeleset': 1, 'rakabuming': 1, 'kabarkan': 1, 'sanglah': 1, 'penjaga': 1, 'perosotan': 1, 'kerisna': 1, 'murti': 1, 'mete': 1, 'menetralisir': 1, 'najran': 1, 'parade': 1, 'perhimpunan': 1, 'shedding': 1, 'pmk': 1, 'satgasus': 1, 'mencuat': 1, 'cidera': 1, 'hujani': 1, 'cahaya': 1, 'atlantik': 1, 'esmat': 1, 'dowleh': 1, 'sadikin': 1, 'getarkan': 1, 'teriaki': 1, 'menggerakkan': 1, 'gundul': 1, 'hamengkubuwono': 1, 'keturunannya': 1, 'mempertontonkan': 1, 'bermesraan': 1, 'terelakkan': 1, 'penganugerahan': 1, 'abw': 1, 'berkarbonasi': 1, 'ligue': 1, 'teatrikal': 1, 'rompi': 1, 'pengaman': 1, 'ujicoba': 1, 'pengebom': 1, 'subvarian': 1, 'xbb': 1, 'panda': 1, 'tutankhamen': 1, 'cilik': 1, 'katy': 1, 'perry': 1, 'mengantre': 1, 'ac': 1, 'tunjungan': 1, 'kadrunwati': 1, 'penangkaran': 1, 'sipaholon': 1, 'mengalir': 1, 'keanu': 1, 'ristawati': 1, 'purwaningsih': 1, 'ditularkan': 1, 'senam': 1, 'tertembak': 1, 'holywings': 1, 'krukut': 1, 'rapi': 1, 'broadcast': 1, 'bersuka': 1, 'guangzhou': 1, 'gampang': 1, 'melampiaskan': 1, 'ketidakpuasan': 1, 'blusuk': 1, 'ciliwung': 1, 'str': 1, 'diterlantarkan': 1, 'gerak': 1, 'dikeruk': 1, 'antusias': 1, 'maraknya': 1, 'gangster': 1, 'mengakuisisi': 1, 'limapuluh': 1, 'safaruddin': 1, 'dt': 1, 'bandaro': 1, 'sinoeng': 1, 'rachmadi': 1, 'jabodetabek': 1, 'bertanding': 1, 'indosiar': 1, 'leslar': 1, 'bersemi': 1, 'menjajah': 1, 'penimbunan': 1, 'keselamatan': 1, 'rame': 1, 'segudang': 1, 'menakjubkan': 1, 'agunan': 1, 'adipala': 1, 'konsekuensi': 1, 'danai': 1, 'nyungsep': 1, 'terjerumus': 1, 'sikap': 1, 'sombong': 1, 'amarah': 1, 'memuncak': 1, 'pemalsu': 1, 'diringkus': 1, 'mobilisasi': 1, 'kulkas': 1, 'lukas': 1, 'enembe': 1, 'petrosida': 1, 'golongan': 1, 'nyoto': 1, 'keributan': 1, 'cecar': 1, 'ningsih': 1, 'seangkatan': 1, 'direlokasi': 1, 'alexandria': 1, 'ocasio': 1, 'cortez': 1, 'li': 1, 'qiaoming': 1, 'bado': 1, 'amer': 1, 'abdallah': 1, 'tabiat': 1, 'anggap': 1, 'suporter': 1, 'habibi': 1, 'hengky': 1, 'abdoel': 1, 'wahab': 1, 'sjahranie': 1, 'waryanto': 1, 'kesaksian': 1, 'dawet': 1, 'tr': 1, 'idntoday': 1, 'memprovokasi': 1, 'ditunggu': 1, 'polisikan': 1, 'dijeruji': 1, 'lps': 1, 'hendriawan': 1, 'jancuk': 1, 'cox': 1, 'bangsawan': 1, 'proklamasikan': 1, 'penceramah': 1, 'menyampaikan': 1, 'bungker': 1, 'pride': 1, 'tertulis': 1, 'pork': 1, 'xin': 1, 'petersburg': 1, 'licik': 1, 'ksp': 1, 'aspirasi': 1, 'irit': 1, 'tersimpan': 1, 'art': 1, 'membuktikan': 1, 'ember': 1, 'kfc': 1, 'inhulets': 1, 'tani': 1, 'rita': 1, 'yuliana': 1, 'taiwan': 1, 'tersembunyi': 1, 'pentagon': 1, 'banggar': 1, 'penarikan': 1, 'penghapusan': 1, 'gerobak': 1, 'meteran': 1, 'watt': 1, 'dibandingkan': 1, 'kolonel': 1, 'menjebloskan': 1, 'memperburuk': 1, 'cinthya': 1, 'perilaku': 1, 'membeberkan': 1, 'ekspansi': 1, 'maarif': 1, 'ikea': 1, 'lusinan': 1, 'sofa': 1, 'goresan': 1, 'wonosari': 1, 'frans': 1, 'sanadi': 1, 'perencana': 1, 'simpong': 1, 'mesuji': 1, 'sul': 1, 'serial': 1, 'nana': 1, 'berantas': 1, 'pikiran': 1, 'yakjuj': 1, 'makjuj': 1, 'sembunyi': 1, 'bebatuan': 1, 'tandus': 1, 'hipnotis': 1, 'chandrawati': 1, 'misteri': 1, 'nugini': 1, 'ri': 1, 'sosis': 1, 'nugget': 1, 'sejenisnya': 1, 'awetkan': 1, 'court': 1, 'ferdian': 1, 'tengkoraknya': 1, 'disita': 1, 'segel': 1, 'candrawati': 1, 'kevin': 1, 'pencampuran': 1, 'monkeypox': 1, 'sisihkan': 1, 'iluminati': 1, 'indocement': 1, 'kaitan': 1, 'observatorium': 1, 'bosscha': 1, 'pengabdi': 1, 'kabareskrim': 1, 'mengusut': 1, 'bodohnya': 1, 'diberitakan': 1, 'bersenggolan': 1, 'fox': 1, 'hipnosis': 1, 'pertengkaran': 1, 'fals': 1, 'mengulang': 1, 'paskibraka': 1, 'waropen': 1, 'eppy': 1, 'kusnandar': 1, 'skrining': 1, 'penyembuhan': 1, 'syifa': 1, 'lazisnu': 1, 'rumpi': 1, 'herzoni': 1, 'saragih': 1, 'yusri': 1, 'turunkan': 1, 'merancang': 1, 'komando': 1, 'door': 1, 'samanya': 1, 'dilemparkan': 1, 'permasalahan': 1, 'mercedes': 1, 'benz': 1, 'trik': 1, 'awet': 1, 'magic': 1, 'siklus': 1, 'genjer': 1, 'klinik': 1, 'at': 1, 'tin': 1, 'rohidin': 1, 'mersyah': 1, 'kronologis': 1, 'tapaan': 1, 'potasium': 1, 'klorida': 1, 'penanggungan': 1, 'journal': 1, 'mil': 1, 'langsing': 1, 'kamper': 1, 'zaenal': 1, 'hidrogen': 1, 'peroksida': 1, 'digosokkan': 1, 'lagos': 1, 'mengesahkan': 1, 'tuna': 1, 'susila': 1, 'wartakota': 1, 'brin': 1, 'zamzam': 1, 'mengidentifikasi': 1, 'berbisa': 1, 'hillary': 1, 'clinton': 1, 'bekuk': 1, 'imecon': 1, 'teknindo': 1, 'gundu': 1, 'paparan': 1, 'screen': 1, 'kloning': 1, 'bruce': 1, 'lee': 1, 'badruddin': 1, 'rusli': 1, 'pandai': 1, 'memumifikasi': 1, 'janinnya': 1, 'zambia': 1, 'berpacaran': 1, 'cheat': 1, 'slot': 1, 'shinzo': 1, 'customer': 1, 'operasional': 1, 'robert': 1, 'malone': 1, 'eaff': 1, 'albelian': 1, 'herd': 1, 'imunity': 1, 'fungsinya': 1, 'bias': 1, 'simpanse': 1, 'tingkah': 1, 'terowongan': 1, 'mina': 1, 'berserakan': 1, 'tegak': 1, 'nias': 1, 'khenoki': 1, 'waruwu': 1, 'jembrana': 1, 'inovatif': 1, 'profit': 1, 'act': 1, 'berkekurangan': 1, 'berlebih': 1, 'perdamaian': 1, 'jepit': 1, 'boris': 1, 'terbitkan': 1, 'vertigo': 1, 'pangan': 1, 'tavrida': 1, 'anaconda': 1, 'gayo': 1, 'lues': 1, 'terpental': 1, 'seluncuran': 1, 'sdh': 1, 'destinasi': 1, 'stadium': 1, 'bantah': 1, 'rendahkan': 1, 'ababil': 1, 'termiskin': 1, 'terbentang': 1, 'scorpion': 1, 'apdesi': 1, 'bireuen': 1, 'mypertamina': 1, 'baku': 1, 'fenomenal': 1, 'rongsokan': 1, 'glastonbury': 1, 'musuhnya': 1, 'krimea': 1, 'mengonfirmasi': 1, 'kekebalan': 1, 'wangsit': 1, 'kwitansi': 1, 'diterbitkan': 1, 'cicurug': 1, 'kadisminfosantik': 1, 'siswadi': 1, 'pangkodap': 1, 'tpm': 1, 'bersyariah': 1, 'memangku': 1, 'berbikini': 1, 'hindutva': 1, 'brutal': 1, 'miliaran': 1, 'justin': 1, 'bieber': 1, 'coronanya': 1, 'hindun': 1, 'disalatkan': 1, 'memantau': 1, 'gempita': 1, 'bombay': 1, 'romantis': 1, 'hot': 1, 'wheels': 1, 'kemoterapi': 1, 'fandi': 1, 'ninik': 1, 'ira': 1, 'wibawati': 1, 'hampa': 1, 'cincau': 1, 'pora': 1, 'becakayu': 1, 'kalimalang': 1, 'ambles': 1, 'gbla': 1, 'perhelatan': 1, 'bunglon': 1, 'kulitnya': 1, 'disentuhnya': 1, 'albert': 1, 'einstein': 1, 'hatinya': 1, 'komang': 1, 'sebulan': 1, 'menekuk': 1, 'kanji': 1, 'penyuka': 1, 'utangnya': 1, 'petrogas': 1, 'suprawoto': 1, 'berbiji': 1, 'kandidat': 1, 'kenz': 1, 'asetnya': 1, 'dikembalikan': 1, 'imron': 1, 'videonya': 1, 'redaksi': 1, 'camar': 1, 'kelayakan': 1, 'george': 1, 'bush': 1, 'kolektor': 1, 'koleksi': 1, 'mobilnya': 1, 'menjawab': 1, 'mutih': 1, 'mammatus': 1, 'mumbai': 1, 'bersetubuh': 1, 'plang': 1, 'bedono': 1, 'elektron': 1, 'andai': 1, 'laksamana': 1, 'olson': 1, 'azovstal': 1, 'maritim': 1, 'aare': 1, 'stalin': 1, 'ancol': 1, 'gelaran': 1, 'sejauh': 1, 'delay': 1, 'speech': 1, 'lambat': 1, 'menggali': 1, 'kondang': 1, 'menyerahkan': 1, 'pelepasan': 1, 'ganteng': 1, 'dibawakan': 1, 'sisa': 1, 'dibaliknya': 1, 'sponsornya': 1, 'bangkok': 1, 'dipandu': 1, 'verhoeven': 1, 'dnanya': 1, 'pemancing': 1, 'svalbard': 1, 'xavier': 1, 'bettel': 1, 'luxembourg': 1, 'lelakinya': 1, 'gauthier': 1, 'destenay': 1, 'brewok': 1, 'longdress': 1, 'mendoktrin': 1, 'shanghai': 1, 'duck': 1, 'tampar': 1, 'dpw': 1, 'saipul': 1, 'seberapa': 1, 'romo': 1, 'kuntadi': 1, 'terbendung': 1, 'aspek': 1, 'laksanakan': 1, 'pinggang': 1, 'usman': 1, 'sidik': 1, 'pengasuh': 1, 'genggong': 1, 'pesugihan': 1, 'pertanian': 1, 'dicerna': 1, 'mensholatkan': 1, 'tanjur': 1, 'labuhan': 1, 'cemburu': 1, 'olesi': 1, 'putting': 1, 'keesokan': 1, 'seisi': 1, 'kutukan': 1, 'lumpuhkan': 1, 'direkomendasikan': 1, 'hepatitis': 1, 'enrekang': 1, 'digoyang': 1, 'heerdjan': 1, 'tebas': 1, 'leher': 1, 'ayahnya': 1, 'dihamili': 1, 'disiram': 1, 'siswandi': 1, 'wibi': 1, 'andrino': 1, 'ilham': 1, 'azikin': 1, 'berau': 1, 'coal': 1, 'sutiaji': 1, 'penjabat': 1, 'deputi': 1, 'mart': 1, 'lettu': 1, 'marinir': 1, 'ikbal': 1, 'dimutasi': 1, 'idol': 1, 'memblokade': 1, 'insulin': 1, 'isyarat': 1, 'nampak': 1, 'kemarahan': 1, 'kelola': 1, 'dipegang': 1, 'penerjemah': 1, 'pijatan': 1, 'rhenald': 1, 'kasali': 1, 'marshel': 1, 'widianto': 1, 'evangelista': 1, 'iya': 1, 'perlihatkan': 1, 'pendakwah': 1, 'santos': 1, 'klitoris': 1, 'terampuni': 1, 'bca': 1, 'bertepatan': 1, 'ammar': 1, 'zoni': 1, 'wisatawan': 1, 'tabungannya': 1, 'depresi': 1, 'lasso': 1, 'klegen': 1, 'kartoharjo': 1, 'ruku': 1, 'ajarkan': 1, 'bob': 1, 'tutupoly': 1, 'zinidin': 1, 'gelapkan': 1, 'hexaflouride': 1, 'moskva': 1, 'idulfitri': 1, 'meluber': 1, 'melelang': 1, 'antiknya': 1, 'berpulangnya': 1, 'stefan': 1, 'ulil': 1, 'amri': 1, 'wahabi': 1, 'aisah': 1, 'tertimpa': 1, 'mempergunakan': 1, 'tradisi': 1, 'sikat': 1, 'berbaris': 1, 'screenshoot': 1, 'kelengkapan': 1, 'tpq': 1, 'mengaktifkan': 1, 'voucer': 1, 'mengadopsi': 1, 'ngawi': 1, 'memproduksi': 1, 'tahfidz': 1, 'gunungkidul': 1, 'menyalurkan': 1, 'pantau': 1, 'dorval': 1, 'dialihkan': 1, 'kengerian': 1, 'krim': 1, 'xylitol': 1, 'yuliandra': 1, 'dedy': 1, 'rini': 1, 'syarifah': 1, 'webinar': 1, 'pusdatin': 1, 'pelaporan': 1, 'intoleransi': 1, 'tidung': 1, 'ibrahim': 1, 'berharta': 1, 'kemiskinan': 1, 'memusingkan': 1, 'merombak': 1, 'hypnic': 1, 'jerk': 1, 'soviet': 1, 'mariupol': 1, 'ketegangan': 1, 'stphane': 1, 'bancel': 1, 'helli': 1, 'darat': 1, 'konde': 1, 'berkebaya': 1, 'bigfoot': 1, 'menyaksikan': 1, 'apollo': 1, 'senang': 1, 'dibangunkan': 1, 'pengeras': 1, 'marbut': 1, 'resto': 1, 'mang': 1, 'engking': 1, 'pendana': 1, 'mukjizat': 1, 'pendudukan': 1, 'pemerkosanya': 1, 'gorok': 1, 'teka': 1, 'teki': 1, 'hajar': 1, 'terjawab': 1, 'bayangan': 1, 'saji': 1, 'paman': 1, 'vanya': 1, 'moskow': 1, 'ditjenkn': 1, 'imran': 1, 'dipisahkan': 1, 'food': 1, 'inspektur': 1, 'husain': 1, 'amandemen': 1, 'krisdayanti': 1, 'dibekap': 1, 'hanindhito': 1, 'himawan': 1, 'pramana': 1, 'nagita': 1, 'cerai': 1, 'dprk': 1, 'langsa': 1, 'ayla': 1, 'kristine': 1, 'majapahit': 1, 'menginvasi': 1, 'appalachiosaurus': 1, 'tennessee': 1, 'diputar': 1, 'dokumentasi': 1, 'pemadam': 1, 'mengabarkan': 1, 'luciferase': 1, 'pelacak': 1, 'ike': 1, 'nurjanah': 1, 'stay': 1, 'safe': 1, 'zuriat': 1, 'perkosa': 1, 'polos': 1, 'melapor': 1, 'dicegat': 1, 'penguras': 1, 'saldo': 1, 'petisi': 1, 'seterusnya': 1, 'terjemahannya': 1, 'kongres': 1, 'eastern': 1, 'menebak': 1, 'melilit': 1, 'van': 1, 'bertugas': 1, 'farmasi': 1, 'disney': 1, 'pawang': 1, 'bani': 1, 'menghemat': 1, 'juragan': 1, 'dilelang': 1, 'kariangau': 1, 'diratakan': 1, 'ajal': 1, 'baghdad': 1, 'miguel': 1, 'oliveira': 1, 'pembungkusnya': 1, 'telurnya': 1, 'merenggut': 1, 'dideteksi': 1, 'panther': 1, 'meroket': 1, 'tersesat': 1, 'perbukitan': 1, 'sar': 1, 'trip': 1, 'adventure': 1, 'instagift': 1, 'mengklaim': 1, 'libya': 1, 'sanuji': 1, 'pentamerta': 1, 'pku': 1, 'hamami': 1, 'interval': 1, 'nurhaliza': 1, 'sawit': 1, 'mr': 1, 'bean': 1, 'boing': 1, 'march': 1, 'pelunasan': 1, 'sendirian': 1, 'senior': 1, 'nia': 1, 'daniati': 1, 'bencinya': 1, 'tadinya': 1, 'wayang': 1, 'sindonews': 1, 'bertempat': 1, 'kependidikan': 1, 'membiayai': 1, 'cabuli': 1, 'menertawakan': 1, 'cure': 1, 'subroto': 1, 'membajak': 1, 'natural': 1, 'penutup': 1, 'relevan': 1, 'pendamping': 1, 'ansar': 1, 'pamong': 1, 'praja': 1, 'gamblang': 1, 'logis': 1, 'nubuat': 1, 'sarung': 1, 'idaman': 1, 'harmoni': 1, 'bermotif': 1, 'ebay': 1, 'louis': 1, 'arch': 1, 'menyalakan': 1, 'seakan': 1, 'islami': 1, 'rafi': 1, 'resolusi': 1, 'bb': 1, 'membiasakan': 1, 'hp': 1, 'membutakan': 1, 'mengacungkan': 1, 'peluk': 1, 'membedong': 1, 'sempurna': 1, 'fbs': 1, 'hartopo': 1, 'dishub': 1, 'skd': 1, 'bappeda': 1, 'lambar': 1, 'penjaringan': 1, 'unregistrasi': 1, 'peringati': 1, 'ngepet': 1, 'suaka': 1, 'berlari': 1, 'zigzag': 1, 'fimela': 1, 'chaeyoung': 1, 'timer': 1, 'baby': 1, 'ameena': 1, 'rans': 1, 'kristiani': 1, 'bersalju': 1, 'qoumas': 1, 'minang': 1, 'pasaman': 1, 'berpoligami': 1, 'berpura': 1, 'alli': 1, 'junjungan': 1, 'peran': 1, 'satgas': 1, 'bimoli': 1, 'molotov': 1, 'kiev': 1, 'didandani': 1, 'layaknya': 1, 'bikhu': 1, 'ilaihirojiun': 1, 'vespa': 1, 'penerjun': 1, 'parasut': 1, 'sutradara': 1, 'soetta': 1, 'gambaran': 1, 'mempercepat': 1, 'rising': 1, 'mount': 1, 'kilimanjaro': 1, 'kajol': 1, 'subang': 1, 'butiran': 1, 'kits': 1, 'diandalkan': 1, 'okezone': 1, 'ditelan': 1, 'detikcom': 1, 'pamungkas': 1, 'pedestrian': 1, 'day': 1, 'gate': 1, 'bridge': 1, 'aji': 1, 'hidran': 1, 'daily': 1, 'mirror': 1, 'menyebarluaskan': 1, 'tagar': 1, 'month': 1, 'eunice': 1, 'diploma': 1, 'pengabaian': 1, 'harap': 1, 'perhatikan': 1, 'token': 1, 'kalundang': 1, 'pendekatan': 1, 'pasukannya': 1, 'ottawa': 1, 'pipa': 1, 'tanggul': 1, 'pemali': 1, 'jebol': 1, 'kadek': 1, 'skotlandia': 1, 'tihar': 1, 'sophian': 1, 'mengencinginya': 1, 'lebakbarang': 1, 'koordinator': 1, 'sponsorship': 1, 'penerbitan': 1, 'asi': 1, 'valentine': 1, 'virza': 1, 'nguling': 1, 'tersetrum': 1, 'penertiban': 1, 'tpu': 1, 'karet': 1, 'bivak': 1, 'ashanty': 1, 'dijatuhkan': 1, 'kebesaran': 1, 'diadopsi': 1, 'perserikatan': 1, 'astagfirullah': 1, 'sambas': 1, 'hsatono': 1, 'chemtralis': 1, 'rancang': 1, 'care': 1, 'dedi': 1, 'amrullah': 1, 'samuel': 1, 'yansen': 1, 'pongi': 1, 'jpt': 1, 'kpe': 1, 'satya': 1, 'pengendali': 1, 'gabungkan': 1, 'magiccom': 1, 'disebar': 1, 'berhamburan': 1, 'barbershop': 1, 'cukur': 1, 'pratu': 1, 'rai': 1, 'madra': 1, 'badung': 1, 'episode': 1, 'sitrun': 1, 'kerak': 1, 'membandel': 1, 'narasinya': 1, 'bertingkah': 1, 'android': 1, 'terhubung': 1, 'pamekasan': 1, 'dikepung': 1, 'alkaf': 1, 'terduga': 1, 'pemaksaan': 1, 'kolesterol': 1, 'diemban': 1, 'moyangnya': 1, 'lampion': 1, 'sohimah': 1, 'benjamin': 1, 'ultra': 1, 'violet': 1, 'tameng': 1, 'hamengku': 1, 'buwono': 1, 'menganggap': 1, 'penyuntikan': 1, 'dicontohkan': 1, 'memukul': 1, 'tersengat': 1, 'buktikan': 1, 'demodex': 1, 'bertabrakan': 1, 'dimensi': 1, 'cokelat': 1, 'bosku': 1, 'gagasan': 1, 'pharaoh': 1, 'pengejaran': 1, 'white': 1, 'genggam': 1, 'kabid': 1, 'terpadu': 1, 'widi': 1, 'salwa': 1, 'kep': 1, 'santai': 1, 'dikawal': 1, 'moch': 1, 'halid': 1, 'rahman': 1, 'malas': 1, 'kencing': 1, 'mursal': 1, 'mengungkap': 1, 'balochistan': 1, 'blio': 1, 'sesudah': 1, 'dikandangkan': 1, 'rem': 1, 'blong': 1, 'macan': 1, 'tutul': 1, 'mengasuh': 1, 'impala': 1, 'seledri': 1, 'ubedilah': 1, 'sistematik': 1, 'terarah': 1, 'peredaran': 1, 'kipas': 1, 'diletakkan': 1, 'dahi': 1, 'tirani': 1, 'futuristik': 1, 'kedinkes': 1, 'rappocini': 1, 'syahruddin': 1, 'penunjukan': 1, 'penyedia': 1, 'kadisdik': 1, 'dumai': 1, 'yusmanidar': 1, 'nuryakin': 1, 'melintasi': 1, 'upin': 1, 'ipin': 1, 'kejar': 1, 'biawak': 1, 'terjebak': 1, 'florona': 1, 'dalila': 1, 'jakupovic': 1, 'bernapas': 1, 'kualifikasi': 1, 'open': 1, 'maag': 1, 'totok': 1, 'biblia': 1, 'sandler': 1, 'alva': 1, 'edison': 1, 'diisi': 1, 'yupi': 1, 'hamili': 1, 'bungsu': 1, 'trihapsari': 1, 'vaksinator': 1, 'ubedillah': 1, 'kepegawaian': 1, 'adhianto': 1, 'euthanasia': 1, 'spesifik': 1, 'apbdnya': 1, 'tipis': 1, 'caci': 1, 'puji': 1, 'keputihan': 1, 'kesat': 1, 'sars': 1, 'setir': 1, 'letak': 1, 'klakson': 1, 'doping': 1, 'didiskualifikasi': 1, 'suprais': 1, 'kembalian': 1, 'konsumen': 1, 'disumbangkan': 1, 'amonia': 1, 'hydroxide': 1, 'mempekerjakan': 1, 'teolog': 1, 'memeriksa': 1, 'aborigin': 1, 'busur': 1, 'tunggul': 1, 'sisi': 1, 'dominan': 1, 'dikeluarkan': 1, 'bi': 1, 'berkekuatan': 1, 'dibodohi': 1, 'pot': 1, 'bamiyan': 1, 'kebiadaban': 1, 'dimaafkan': 1, 'kejuaraan': 1, 'rembang': 1, 'expo': 1, 'beribadah': 1, 'fisikawan': 1, 'voli': 1, 'akademisi': 1, 'moerhadi': 1, 'kemenangannya': 1, 'berhari': 1, 'tertimbun': 1, 'victor': 1, 'lindelof': 1, 'jantungnya': 1, 'dipasangi': 1, 'understanding': 1, 'theresa': 1, 'bishop': 1, 'haryoto': 1, 'diharuskan': 1, 'underpad': 1, 'sarah': 1, 'herry': 1, 'wirawan': 1, 'mendaftarkan': 1, 'bionis': 1, 'terperosok': 1, 'dibayari': 1, 'santa': 1, 'claus': 1, 'kostum': 1, 'sinterklas': 1, 'diedarkan': 1, 'pemerkosaan': 1, 'give': 1, 'away': 1, 'bayern': 1, 'munchen': 1, 'allianz': 1, 'bipin': 1, 'diruntuhkan': 1, 'berpindah': 1, 'ateis': 1, 'wuling': 1, 'welirang': 1, 'kungkang': 1, 'ditumis': 1, 'optik': 1, 'diantaranya': 1, 'mampang': 1, 'keutuhan': 1, 'influencer': 1, 'lentikular': 1, 'berlapis': 1, 'lapis': 1, 'fuji': 1, 'indofood': 1, 'irsan': 1, 'artefak': 1, 'arkeolog': 1, 'varrel': 1, 'bramasta': 1, 'mulawarman': 1, 'irish': 1, 'mengguncang': 1, 'renta': 1, 'rumini': 1, 'rumahnya': 1, 'testla': 1, 'keluaran': 1, 'tesla': 1, 'bjb': 1, 'gorontalo': 1, 'berkhianat': 1, 'bahtera': 1, 'nuh': 1, 'ararat': 1, 'komplikasi': 1, 'pembatas': 1, 'memisahkan': 1, 'utan': 1, 'mengulurkan': 1, 'tangannya': 1, 'geologi': 1, 'kumpulkan': 1, 'receh': 1, 'detox': 1, 'epsom': 1, 'baking': 1, 'boraks': 1, 'indian': 1, 'healing': 1, 'clay': 1, 'cairkan': 1, 'keluwing': 1, 'personil': 1, 'muaro': 1, 'bernomor': 1, 'fairid': 1, 'naparin': 1, 'diludahi': 1, 'schneider': 1, 'electric': 1, 'pembiayaan': 1, 'menempelkan': 1, 'berbadan': 1, 'dirilis': 1, 'paksakan': 1, 'bursa': 1, 'jorge': 1, 'lorenzo': 1, 'selebrasi': 1, 'jeruji': 1, 'kesempatan': 1, 'menganggur': 1, 'dihapuskan': 1, 'digantikan': 1, 'kecerdasan': 1, 'shaheen': 1, 'oman': 1, 'dimuat': 1, 'kencana': 1, 'gwk': 1, 'deras': 1, 'persik': 1, 'pakis': 1, 'asin': 1, 'pospay': 1, 'memberantas': 1, 'diusung': 1, 'palapa': 1, 'rusmadi': 1, 'nicky': 1, 'pilar': 1, 'bergeser': 1, 'terdakwa': 1, 'umbara': 1, 'sutisna': 1, 'opick': 1, 'tombo': 1, 'surganya': 1, 'bromo': 1, 'mulyorejo': 1, 'samosi': 1, 'vandiko': 1, 'helicobacter': 1, 'unggul': 1, 'tertandingi': 1, 'ditsiber': 1, 'nisan': 1, 'billie': 1, 'eilish': 1, 'pengemis': 1, 'meta': 1, 'puspa': 1, 'bineka': 1, 'riska': 1, 'syabila': 1, 'ajaib': 1, 'kombes': 1, 'bintoro': 1, 'innalillahl': 1, 'ilahi': 1, 'syahrini': 1, 'dessi': 1, 'ratnasari': 1, 'palopo': 1, 'spinx': 1, 'dilahirkan': 1, 'kelainan': 1, 'mempawah': 1, 'aminatun': 1, 'habibah': 1, 'bachtiar': 1, 'informatika': 1, 'persandian': 1, 'diskominfosan': 1, 'agusrianto': 1, 'getaran': 1, 'vanessa': 1, 'angel': 1, 'hanyutkan': 1, 'utas': 1, 'deposito': 1, 'merampok': 1, 'meriah': 1, 'tersegel': 1, 'menggores': 1, 'amigdala': 1, 'selembar': 1, 'barcelona': 1, 'panjaitan': 1, 'ronald': 1, 'koeman': 1, 'lapor': 1, 'rano': 1, 'kendalikan': 1, 'specialist': 1, 'berwisata': 1, 'berobat': 1, 'prostat': 1, 'kejutan': 1, 'didakwa': 1, 'kirana': 1, 'paketnya': 1, 'vlog': 1, 'maspion': 1, 'kirinya': 1, 'waria': 1, 'keberhasilan': 1, 'pembebasan': 1, 'menggelar': 1, 'pengawalan': 1, 'kawal': 1, 'tahfiz': 1, 'diperhatikan': 1, 'pramuka': 1, 'kerugian': 1, 'ditabrak': 1, 'teken': 1, 'khathath': 1, 'ajb': 1, 'purussaurus': 1, 'pinjol': 1, 'peminat': 1, 'setara': 1, 'patra': 1, 'arun': 1, 'pandu': 1, 'kesuma': 1, 'dewangsa': 1, 'light': 1, 'rail': 1, 'jabodebek': 1, 'dikunci': 1, 'mencabut': 1, 'gujarat': 1, 'sekejap': 1, 'antam': 1, 'travel': 1, 'bastian': 1, 'see': 1, 'liam': 1, 'marga': 1, 'jihyo': 1, 'diet': 1, 'vicky': 1, 'prastyo': 1, 'mri': 1, 'dihindari': 1, 'penghilang': 1, 'ditebus': 1, 'akang': 1, 'sulle': 1, 'jisu': 1, 'peretas': 1, 'manjur': 1, 'kibar': 1, 'seprei': 1, 'soto': 1, 'yuni': 1, 'shara': 1, 'ranking': 1, 'menginjakkan': 1, 'mengkhotbahkan': 1, 'buncit': 1, 'kembarnya': 1, 'toraja': 1, 'theofilus': 1, 'allorerung': 1, 'hendy': 1, 'siswanto': 1, 'sketsa': 1, 'yama': 1, 'tetesan': 1, 'nardji': 1, 'petaka': 1, 'desakan': 1, 'densus': 1, 'sindikat': 1, 'pencucian': 1, 'kalender': 1, 'police': 1, 'dorce': 1, 'gama': 1, 'polio': 1, 'bkpm': 1, 'admin': 1, 'lembong': 1, 'ditinggalkan': 1, 'melbourne': 1, 'amarahnya': 1, 'reshuffle': 1, 'berjoget': 1, 'gandeng': 1, 'alipay': 1, 'alibaba': 1, 'trumon': 1, 'wwf': 1, 'wadah': 1, 'gadget': 1, 'kedungjati': 1, 'karma': 1, 'revi': 1, 'mariska': 1, 'cerminan': 1, 'pemilihnya': 1, 'komandan': 1, 'menghujat': 1, 'checnya': 1, 'duel': 1, 'bocorkan': 1, 'zara': 1, 'memperbolehkan': 1, 'merapatkan': 1, 'bernilai': 1, 'syamsia': 1, 'hassani': 1, 'utsmaniy': 1, 'pelopor': 1, 'pratowo': 1, 'dibayangi': 1, 'lotek': 1, 'cendol': 1, 'seblak': 1, 'cireng': 1, 'cilok': 1, 'yuan': 1, 'egawati': 1, 'rspp': 1, 'rumania': 1, 'otoritas': 1, 'gigit': 1, 'insiden': 1, 'wtc': 1, 'patrio': 1, 'ntahkan': 1, 'tegakkan': 1, 'amar': 1, 'nahi': 1, 'mungkar': 1, 'hutama': 1, 'bina': 1, 'irfan': 1, 'bahlil': 1, 'lahadia': 1, 'diperpanjang': 1, 'apresiasi': 1, 'kusumastuti': 1, 'penurunan': 1, 'seminggu': 1, 'hack': 1, 'diikat': 1, 'mengudara': 1, 'suparlan': 1, 'perbaharui': 1, 'tvonenews': 1, 'kental': 1, 'diseduh': 1, 'ucok': 1, 'seputar': 1, 'perin': 1, 'uns': 1, 'bertanduk': 1, 'jabung': 1, 'journey': 1, 'pipit': 1, 'saloka': 1, 'sc': 1, 'stoknya': 1, 'perantau': 1, 'masuknya': 1, 'kbri': 1, 'doha': 1, 'frogmouth': 1, 'takalar': 1, 'achmad': 1, 'sere': 1, 'cat': 1, 'kuku': 1, 'pendeteksi': 1, 'ghb': 1, 'tao': 1, 'deli': 1, 'mesum': 1, 'gancet': 1, 'tjhai': 1, 'chui': 1, 'mahyeldi': 1, 'ansharullah': 1, 'komering': 1, 'ulu': 1, 'sutikman': 1, 'vonis': 1, 'djoko': 1, 'tjandra': 1, 'banding': 1, 'palang': 1, 'rachmat': 1, 'yanuar': 1, 'belasungkawa': 1, 'mencuci': 1, 'separuh': 1, 'molnulpiravir': 1, 'site': 1, 'husnol': 1, 'safiya': 1, 'firozi': 1, 'dirajam': 1, 'pacarnya': 1, 'asisten': 1, 'madagaskar': 1, 'putu': 1, 'weda': 1, 'lelangan': 1, 'bungkam': 1, 'setiana': 1, 'penyuluh': 1, 'meluapnya': 1, 'ngarai': 1, 'kua': 1, 'penyelenggaraan': 1, 'hiburan': 1, 'penggundulan': 1, 'kresna': 1, 'graha': 1, 'skema': 1, 'umami': 1, 'perlengkapan': 1, 'digantung': 1, 'gradika': 1, 'bakti': 1, 'ditujukan': 1, 'pemulutan': 1, 'ilir': 1, 'akrab': 1, 'dwiyono': 1, 'murka': 1, 'cena': 1, 'timpuk': 1, 'geram': 1, 'padanya': 1, 'kakinya': 1, 'dirantai': 1, 'inti': 1, 'mesin': 1, 'jahit': 1, 'aisya': 1, 'binti': 1, 'oseltamivir': 1, 'kejari': 1, 'ancana': 1, 'ramelan': 1, 'perkasa': 1, 'otot': 1, 'dilanjutkan': 1, 'melawi': 1, 'powerpoint': 1, 'merkurius': 1, 'venus': 1, 'sejajar': 1, 'panorama': 1, 'berguling': 1, 'menuruni': 1, 'real': 1, 'dimakamkan': 1, 'suprana': 1, 'fisika': 1, 'menculik': 1, 'latar': 1, 'harjo': 1, 'suwito': 1, 'permainan': 1, 'syamsuri': 1, 'musabaqah': 1, 'tilawatil': 1, 'quran': 1, 'nyi': 1, 'peradilan': 1, 'prim': 1, 'haryadi': 1, 'upah': 1, 'kemnaker': 1, 'rockefeller': 1, 'foundation': 1, 'skenario': 1, 'sekap': 1, 'pacific': 1, 'kepresidenan': 1, 'bumbunya': 1, 'crew': 1, 'runner': 1, 'bengawan': 1, 'tarikan': 1, 'magnet': 1, 'berafiliasi': 1, 'hermanto': 1, 'iis': 1, 'dahlia': 1, 'efektif': 1, 'wales': 1, 'mengimami': 1, 'wawali': 1, 'rusdi': 1, 'bolango': 1, 'konstruksi': 1, 'kominfosanti': 1, 'beban': 1, 'berkisar': 1, 'belawan': 1, 'sungkai': 1, 'sejoli': 1, 'senonoh': 1, 'telat': 1, 'plasma': 1, 'konvalesen': 1, 'baskoro': 1, 'dibodohkan': 1, 'dimiskin': 1, 'hemoglobin': 1, 'tranfusi': 1, 'karl': 1, 'marx': 1, 'ketimbang': 1, 'pasokan': 1, 'rapatkan': 1, 'investment': 1, 'manajemen': 1, 'kutai': 1, 'kasmidi': 1, 'bulang': 1, 'digit': 1, 'ck': 1, 'terasering': 1, 'wojtek': 1, 'ketentuan': 1, 'buta': 1, 'kue': 1, 'hijriah': 1, 'penambah': 1, 'imun': 1, 'menggerogoti': 1, 'otopsi': 1, 'luc': 1, 'montagnier': 1, 'kuba': 1, 'fidel': 1, 'castro': 1, 'mengabul': 1, 'kukus': 1, 'pantura': 1, 'unggah': 1, 'serumah': 1, 'susut': 1, 'komedian': 1, 'peppy': 1, 'ditest': 1, 'pinus': 1, 'hermansyah': 1, 'berpamitan': 1, 'tegang': 1, 'heveanita': 1, 'gunaryanti': 1, 'indragiri': 1, 'rezita': 1, 'meylani': 1, 'yopi': 1, 'lebong': 1, 'kopli': 1, 'ansori': 1, 'minahasa': 1, 'christiany': 1, 'eugenia': 1, 'tetty': 1, 'paruntu': 1, 'menakut': 1, 'nakuti': 1, 'nacl': 1, 'azabnya': 1, 'srimulat': 1, 'karyamu': 1, 'dikenang': 1, 'tambal': 1, 'konvensional': 1, 'detektor': 1, 'elektromagnetik': 1, 'ajar': 1, 'racikan': 1, 'invermectin': 1, 'sujatmiko': 1, 'berlutut': 1, 'saratoga': 1, 'sedaya': 1, 'yoko': 1, 'putranya': 1, 'sean': 1, 'cibodas': 1, 'ditipu': 1, 'memuter': 1, 'muter': 1, 'ngemplak': 1, 'ugal': 1, 'ugalan': 1, 'jayakarta': 1, 'pulogadung': 1, 'lionel': 1, 'messi': 1, 'muslimku': 1, 'menakutkan': 1, 'perbanyak': 1, 'catatan': 1, 'ketersediaan': 1, 'ventilator': 1, 'memadai': 1, 'praktis': 1, 'dicoba': 1, 'giro': 1, 'batasi': 1, 'semanggi': 1, 'aerator': 1, 'akuarium': 1, 'langkat': 1, 'perangin': 1, 'berhala': 1, 'ketidakmampuan': 1, 'sanusi': 1, 'biofarmasi': 1, 'arogan': 1, 'berkendara': 1, 'dibongkar': 1, 'penyedap': 1, 'daesh': 1, 'kerangka': 1, 'penyiaran': 1, 'platform': 1, 'parasetamol': 1, 'pencitraan': 1, 'bernarasi': 1, 'mempraktikkan': 1, 'kustodian': 1, 'sentral': 1, 'wendi': 1, 'cagur': 1, 'nangis': 1, 'konsesi': 1, 'liput': 1, 'argo': 1, 'didapuk': 1, 'nigella': 1, 'oil': 1, 'farah': 1, 'diinokulasi': 1, 'pengaruh': 1, 'pasific': 1, 'command': 1, 'miliuner': 1, 'estafet': 1, 'cupang': 1, 'akademik': 1, 'pindahkan': 1, 'euro': 1, 'thn': 1, 'kejanggalan': 1, 'kepergian': 1, 'mempertaruhkan': 1, 'menyeberang': 1, 'bergelantungan': 1, 'mencantumkan': 1, 'gerah': 1, 'mengusai': 1, 'buset': 1, 'keampuhan': 1, 'ulur': 1, 'christian': 1, 'eriksen': 1, 'rushmore': 1, 'yaumil': 1, 'ambo': 1, 'djiwa': 1, 'diawali': 1, 'space': 1, 'editan': 1, 'pinggiran': 1, 'roketnya': 1, 'teritorial': 1, 'sitti': 1, 'rohmi': 1, 'djalilah': 1, 'kloningan': 1, 'menjelaskan': 1, 'memproses': 1, 'kikuyu': 1, 'mandor': 1, 'tebing': 1, 'periksa': 1, 'container': 1, 'indrata': 1, 'bayuaji': 1, 'thoriqul': 1, 'manufacture': 1, 'menabung': 1, 'alyssa': 1, 'carson': 1, 'cino': 1, 'kapankah': 1, 'perampok': 1, 'mengerahkan': 1, 'miliarder': 1, 'he': 1, 'shihua': 1, 'memainkannya': 1, 'fungus': 1, 'peternakan': 1, 'nuclear': 1, 'plant': 1, 'spider': 1, 'farm': 1, 'penembak': 1, 'runduk': 1, 'cargo': 1, 'terdampar': 1, 'terusan': 1, 'muatan': 1, 'mate': 1, 'cincinnya': 1, 'rolex': 1, 'faroek': 1, 'ishak': 1, 'twk': 1, 'patar': 1, 'waynad': 1, 'qassam': 1, 'diperkirakan': 1, 'plakat': 1, 'permanen': 1, 'berisik': 1, 'bodong': 1, 'bacteriophage': 1, 'inteligen': 1, 'arktik': 1, 'hilal': 1, 'mujahidin': 1, 'tzu': 1, 'chi': 1, 'pengutang': 1, 'zhurong': 1, 'pringsewu': 1, 'magnetis': 1, 'pengaturan': 1, 'privasi': 1, 'banyumas': 1, 'pasaran': 1, 'ilaga': 1, 'pendaftarannya': 1, 'akar': 1, 'dandelion': 1, 'tembakan': 1, 'moshe': 1, 'dibalik': 1, 'tembok': 1, 'kebayoran': 1, 'perasan': 1, 'ekstrim': 1, 'kepang': 1, 'gemar': 1, 'bipang': 1, 'ambawang': 1, 'background': 1, 'berjatuhan': 1, 'sewaktu': 1, 'perbolehkan': 1, 'perairan': 1, 'knesset': 1, 'persekutuan': 1, 'aditia': 1, 'halindra': 1, 'faridzky': 1, 'sumbangkan': 1, 'asmara': 1, 'haus': 1, 'sex': 1, 'acep': 1, 'gorila': 1, 'menerkam': 1, 'membahas': 1, 'mencekik': 1, 'bersaudara': 1, 'mengira': 1, 'disudutkan': 1, 'menyantap': 1, 'sate': 1, 'penggeledahan': 1, 'kemenhan': 1, 'keberangkatan': 1, 'utsmaniyah': 1, 'ketibaan': 1, 'sirine': 1, 'radar': 1, 'diserbu': 1, 'reda': 1, 'lailatul': 1, 'qadar': 1, 'kardinal': 1, 'thurnberg': 1, 'wakafkan': 1, 'berduka': 1, 'tabu': 1, 'orde': 1, 'hatam': 1, 'kangguru': 1, 'kemacetan': 1, 'jazz': 1, 'negaramu': 1, 'benih': 1, 'lobster': 1, 'rahim': 1, 'fn': 1, 'did': 1, 'karangan': 1, 'becak': 1, 'muh': 1, 'basli': 1, 'sajadah': 1, 'pegunungan': 1, 'denjaka': 1, 'dilibatkan': 1, 'tumpas': 1, 'kiat': 1, 'dihack': 1, 'mempercayakan': 1, 'klub': 1, 'arsenal': 1, 'everton': 1, 'pejagan': 1, 'chusnunia': 1, 'chalim': 1, 'ranjau': 1, 'berwujud': 1, 'tongkat': 1, 'feeling': 1, 'mahdi': 1, 'kerudung': 1, 'benteng': 1, 'hehamahua': 1, 'dikti': 1, 'bayinya': 1, 'peralatan': 1, 'pemancar': 1, 'horor': 1, 'terbunuhnya': 1, 'masif': 1, 'wamenhan': 1, 'eksklusif': 1, 'pengajar': 1, 'menggigit': 1, 'sandal': 1, 'pendiri': 1, 'hasyim': 1, 'asyari': 1, 'matinya': 1, 'menjalankan': 1, 'bst': 1, 'dicairkan': 1, 'pernapasan': 1, 'dikonsumsi': 1, 'bersamaan': 1, 'enak': 1, 'fire': 1, 'mimika': 1, 'sedaap': 1, 'marlin': 1, 'agustina': 1, 'indodax': 1, 'hypoxia': 1, 'jco': 1, 'aibon': 1, 'modalku': 1, 'kapur': 1, 'barus': 1, 'biji': 1, 'karom': 1, 'meredakan': 1, 'sesak': 1, 'bercahaya': 1, 'waliyullah': 1, 'persidangan': 1, 'istimewa': 1, 'guntur': 1, 'martandi': 1, 'slogan': 1, 'smartphones': 1, 'owner': 1, 'immortal': 1, 'cosmedika': 1, 'meregang': 1, 'vax': 1, 'limfosit': 1, 'melukis': 1, 'ditenggelamkan': 1, 'pb': 1, 'pengenaan': 1, 'knpi': 1, 'sulutgo': 1, 'slip': 1, 'filter': 1, 'mayora': 1, 'pelangi': 1, 'penyerang': 1, 'bondon': 1, 'dobol': 1, 'dicap': 1, 'bengkel': 1, 'ilmiah': 1, 'gelas': 1, 'berceramah': 1, 'gen': 1, 'ungkapkan': 1, 'cacat': 1, 'casino': 1, 'kaparot': 1, 'menyemburkan': 1, 'tahi': 1, 'tarakan': 1, 'doraemon': 1, 'dahului': 1, 'meranti': 1, 'asmar': 1, 'bareksa': 1, 'mantrijeron': 1, 'capek': 1, 'mohammed': 1, 'zayed': 1, 'flix': 1, 'madam': 1, 'reqnews': 1, 'xanana': 1, 'gusmao': 1, 'pembersih': 1, 'alor': 1, 'ulat': 1, 'menegakkan': 1, 'kolorado': 1, 'bermoral': 1, 'komnasham': 1, 'airnya': 1, 'bergizi': 1, 'berbohong': 1, 'bertumpuk': 1, 'digusur': 1, 'malaka': 1, 'ipdn': 1, 'peragaan': 1, 'kedaruratan': 1, 'diledakkan': 1, 'remot': 1, 'meledaknya': 1, 'misa': 1, 'palma': 1, 'janur': 1, 'pierre': 1, 'tendean': 1, 'wanisar': 1, 'true': 1, 'sayangkan': 1, 'habisi': 1, 'gsk': 1, 'virologi': 1, 'tabrak': 1, 'nebeng': 1, 'mitra': 1, 'medika': 1, 'disduk': 1, 'pembengkakan': 1, 'lepaskan': 1, 'shin': 1, 'yong': 1, 'meraih': 1, 'wko': 1, 'pertanahan': 1, 'ptsi': 1, 'suplai': 1, 'zazkia': 1, 'sungkar': 1, 'khawatir': 1, 'batak': 1, 'hobi': 1, 'spesies': 1, 'kawin': 1, 'lembu': 1, 'menyemprot': 1, 'arti': 1, 'menyeret': 1, 'diwarnai': 1, 'persija': 1, 'sesuaikan': 1, 'parfum': 1, 'batasan': 1, 'membohongi': 1, 'olah': 1, 'didzolimi': 1, 'dipelintir': 1, 'kedinginan': 1, 'tali': 1, 'janeiro': 1, 'dawami': 1, 'saputro': 1, 'oregon': 1, 'didenda': 1, 'pengintai': 1, 'solopos': 1, 'kuala': 1, 'arogansi': 1, 'dinikahinya': 1, 'perawan': 1, 'pemalsuan': 1, 'alfian': 1, 'tercolong': 1, 'poyuono': 1, 'jawaban': 1, 'bhutan': 1, 'kadaluwarsa': 1, 'alzheimer': 1, 'terpanjang': 1, 'menyusahkan': 1, 'kecebong': 1, 'gift': 1, 'd': 1, 'mengarahkan': 1, 'peruntukkan': 1, 'nurwahid': 1, 'masakan': 1, 'bio': 1, 'dilemahkan': 1, 'vero': 1, 'pasha': 1, 'ungu': 1, 'hanura': 1, 'rawa': 1, 'mencairkan': 1, 'kontras': 1, 'ironis': 1, 'dikritik': 1, 'tungondeng': 1, 'antartika': 1, 'jazil': 1, 'macam': 1, 'bisanya': 1, 'soekarwo': 1, 'litbangkes': 1, 'membatasi': 1, 'jangkauan': 1, 'unggahan': 1, 'emma': 1, 'watson': 1, 'pensiun': 1, 'kariernya': 1, 'ppsdmk': 1, 'rote': 1, 'simpang': 1, 'trafik': 1, 'komplang': 1, 'takbier': 1, 'kontroversi': 1, 'whiskey': 1, 'terkutuk': 1, 'anosmia': 1, 'diare': 1, 'bollywood': 1, 'lamaran': 1, 'tituler': 1, 'samosir': 1, 'anissa': 1, 'pohan': 1, 'gerebek': 1, 'romania': 1, 'hujanan': 1, 'kukm': 1, 'babel': 1, 'pameran': 1, 'otomotif': 1, 'burma': 1, 'dialami': 1, 'lawyers': 1, 'tayang': 1, 'menyayanginya': 1, 'bip': 1, 'balon': 1, 'abdy': 1, 'yuhana': 1, 'terbawa': 1, 'kristiandi': 1, 'stiker': 1, 'dikenakan': 1, 'tips': 1, 'empedu': 1, 'hudiarto': 1, 'mukena': 1, 'brimo': 1, 'pneumonia': 1, 'confresor': 1, 'komentari': 1, 'berswafoto': 1, 'audrey': 1, 'yu': 1, 'thrall': 1, 'yoshiro': 1, 'mori': 1, 'ucap': 1, 'halimatu': 1, 'sadiyah': 1, 'djarot': 1, 'winarno': 1, 'terkuak': 1, 'kristal': 1, 'tunnel': 1, 'tutankhamun': 1, 'penangkalan': 1, 'tergigit': 1, 'mengepoi': 1, 'songgoriti': 1, 'habiskan': 1, 'berfaedahpun': 1, 'kemenkominfo': 1, 'rihanna': 1, 'armand': 1, 'maulana': 1, 'tajikistan': 1, 'jababeka': 1, 'eksekutif': 1, 'positioning': 1, 'system': 1, 'klik': 1, 'aja': 1, 'jaman': 1, 'now': 1, 'dipublikasikan': 1, 'undertaker': 1, 'pernikahannya': 1, 'tesnya': 1, 'publikasi': 1, 'dirgahayu': 1, 'emergency': 1, 'crash': 1, 'redenominasi': 1, 'karror': 1, 'menikahi': 1, 'tersingkir': 1, 'ronde': 1, 'rangers': 1, 'siuman': 1, 'tercinta': 1, 'pertanyakan': 1, 'keaslian': 1, 'diberitahu': 1, 'cameron': 1, 'highland': 1, 'sanggau': 1, 'paolus': 1, 'dihasilkan': 1, 'speaker': 1, 'lelet': 1, 'sugiarto': 1, 'pery': 1, 'mah': 1, 'selat': 1, 'menuai': 1, 'balasan': 1, 'enggan': 1, 'klorin': 1, 'claproth': 1, 'belimbing': 1, 'wuluh': 1, 'genose': 1, 'aung': 1, 'san': 1, 'aerobik': 1, 'jago': 1, 'psikopat': 1, 'sup': 1, 'retakan': 1, 'sulbar': 1, 'presenter': 1, 'sensor': 1, 'aurat': 1, 'save': 1, 'our': 1, 'soul': 1, 'kuliah': 1, 'mkd': 1, 'scammer': 1, 'natalia': 1, 'pigai': 1, 'dikenai': 1, 'diakuisisi': 1, 'paradox': 1, 'ge': 1, 'akurasi': 1, 'state': 1, 'sin': 1, 'sadarlah': 1, 'lancarkan': 1, 'laknat': 1, 'pembatu': 1, 'firasat': 1, 'kekasih': 1, 'intim': 1, 'lianhua': 1, 'qingwen': 1, 'xiaomi': 1, 'manidharshana': 1, 'michelle': 1, 'transgender': 1, 'kumham': 1, 'pidana': 1, 'massonic': 1, 'illuminaty': 1, 'sumpahnya': 1, 'dibimbing': 1, 'kartel': 1, 'julio': 1, 'iglesias': 1, 'milos': 1, 'dihubungi': 1, 'kesan': 1, 'sesakit': 1, 'menggugat': 1, 'steak': 1, 'biayanya': 1, 'badanmu': 1, 'diulang': 1, 'gelang': 1, 'balance': 1, 'dexamethasone': 1, 'wilalung': 1, 'demak': 1, 'berekspansi': 1, 'antariksa': 1, 'bmkg': 1, 'aspartame': 1, 'siarkan': 1, 'dipantau': 1, 'regu': 1, 'pembasmi': 1, 'republika': 1, 'negaranya': 1, 'dibungkus': 1, 'kasdim': 1, 'mayor': 1, 'sugeng': 1, 'riyadi': 1, 'cimb': 1, 'niaga': 1, 'herman': 1, 'suherman': 1, 'garda': 1, 'bohongi': 1, 'terhanyut': 1, 'sby': 1, 'mematuhi': 1, 'te': 1, 'was': 1, 'coro': 1, 're': 1, 'zim': 1, 'lekas': 1, 'paragon': 1, 'moneem': 1, 'saheb': 1, 'tabaa': 1, 'terbangkan': 1, 'premier': 1, 'menyikapi': 1, 'terputus': 1, 'sendana': 1, 'majene': 1, 'bidden': 1, 'rakernas': 1, 'agnez': 1, 'bernyanyi': 1, 'batok': 1, 'banda': 1, 'ampulan': 1, 'split': 1, 'alur': 1, 'dikuburpun': 1, 'surati': 1, 'kasusnya': 1, 'setengah': 1, 'btc': 1, 'pangkal': 1, 'merawat': 1, 'irna': 1, 'tendang': 1, 'jeff': 1, 'bezos': 1, 'sehidup': 1, 'semati': 1, 'syaikhona': 1, 'mrc': 1, 'tipuan': 1, 'washington': 1, 'batman': 1, 'britania': 1, 'nussa': 1, 'rarra': 1, 'prabumulih': 1, 'citakan': 1, 'memasuki': 1, 'disebutkan': 1, 'pembesaran': 1, 'fabiana': 1, 'souza': 1, 'sao': 1, 'lucas': 1, 'porto': 1, 'alegre': 1, 'menyukai': 1, 'melupakan': 1, 'mrk': 1, 'bersukaria': 1, 'intelkam': 1, 'terkhususnya': 1, 'tongkol': 1, 'tembang': 1, 'pesakit': 1, 'dikuasai': 1, 'chasanah': 1, 'verifikasi': 1, 'suntikkan': 1, 'melayu': 1, 'sunni': 1, 'bala': 1, 'kera': 1, 'tantriana': 1, 'sari': 1, 'fadillah': 1, 'pinda': 1, 'hassanal': 1, 'bolkiah': 1, 'halimah': 1, 'hendra': 1, 'jie': 1, 'sambal': 1, 'temanggung': 1, 'lada': 1, 'tanjabbar': 1, 'tercerai': 1, 'berai': 1, 'kewenangan': 1, 'surveyor': 1, 'games': 1, 'berdiskusi': 1, 'asalkan': 1, 'ditiup': 1, 'kesimpulan': 1, 'rob': 1, 'oswald': 1, 'khayalan': 1, 'lemah': 1, 'penampungan': 1, 'menghasilkan': 1, 'kedepannya': 1, 'haikal': 1, 'hasan': 1, 'perseroan': 1, 'prayitno': 1, 'wahai': 1, 'merindukan': 1, 'syuhada': 1, 'makamkan': 1, 'mendung': 1, 'dudung': 1, 'avatar': 1, 'jamu': 1, 'robby': 1, 'landak': 1, 'demensia': 1, 'merdu': 1, 'icu': 1, 'banggai': 1, 'berniat': 1, 'beberkan': 1, 'gencatan': 1, 'herdiat': 1, 'sunarya': 1, 'beka': 1, 'ulung': 1, 'hapsara': 1, 'tatap': 1, 'adipura': 1, 'santosa': 1, 'vape': 1, 'kapung': 1, 'ardito': 1, 'landasan': 1, 'pacu': 1, 'dihiasi': 1, 'ilma': 1, 'bermata': 1, 'keindahan': 1, 'pecundang': 1, 'memulai': 1, 'oranye': 1, 'jakmania': 1, 'nonaktifkan': 1, 'humanis': 1, 'genosida': 1, 'malaki': 1, 'pickup': 1, 'transfeksi': 1, 'memanipulasi': 1, 'genetika': 1, 'pencakar': 1, 'tourism': 1, 'changi': 1, 'kulawi': 1, 'sendys': 1, 'morosi': 1, 'formaldehida': 1, 'leukimia': 1, 'pemantauan': 1, 'bpkb': 1, 'pengecut': 1, 'diburu': 1, 'namun': 1, 'pacaran': 1, 'bontang': 1, 'parepare': 1, 'purbakala': 1, 'menampak': 1, 'lereng': 1, 'lawuh': 1, 'tangsel': 1, 'rasyid': 1, 'siapapun': 1, 'responsif': 1, 'daihatsu': 1, 'buronan': 1, 'dikerangkeng': 1, 'berawal': 1, 'perbaungan': 1, 'husein': 1, 'series': 1, 'elegan': 1, 'termuda': 1, 'dijamin': 1, 'godaan': 1, 'pembersihan': 1, 'drainase': 1, 'sekot': 1, 'bidadari': 1, 'dibagi': 1, 'keenam': 1, 'kemandulan': 1, 'carolina': 1, 'maatje': 1, 'benassi': 1, 'membocorkan': 1, 'percakapan': 1, 'melong': 1, 'cikawao': 1, 'taufan': 1, 'damanik': 1, 'dicoret': 1, 'coret': 1, 'limited': 1, 'flask': 1, 'paranormal': 1, 'yasin': 1, 'rumpak': 1, 'syarifudin': 1, 'menepuk': 1, 'bertanggung': 1, 'fan': 1, 'page': 1, 'amplop': 1, 'geun': 1, 'langganan': 1, 'serempak': 1, 'undi': 1, 'tertidur': 1, 'menterinya': 1, 'beni': 1, 'wenda': 1, 'internal': 1, 'pengalihan': 1, 'didepak': 1, 'sambahe': 1, 'pemasangan': 1, 'dakocan': 1, 'subway': 1, 'ubahnya': 1, 'surakarta': 1, 'menetapkan': 1, 'terlindas': 1, 'dap': 1, 'nevada': 1, 'mengatur': 1, 'sivitas': 1, 'mengusung': 1, 'keranda': 1, 'muazin': 1, 'istanbul': 1, 'lembantongoa': 1, 'alumunium': 1, 'edhy': 1, 'madonna': 1, 'presidium': 1, 'topi': 1, 'meledakkan': 1, 'amuk': 1, 'caldwell': 1, 'nike': 1, 'khalistan': 1, 'diego': 1, 'membungkukkan': 1, 'penguasaan': 1, 'sains': 1, 'mempelajari': 1, 'kelebihan': 1, 'pok': 1, 'occupied': 1, 'kashmir': 1, 'tommy': 1, 'safari': 1, 'cisarua': 1, 'batalkan': 1, 'ticketmaster': 1, 'wajibkan': 1, 'uapnya': 1, 'mengangkat': 1, 'certification': 1, 'vaccination': 1, 'identification': 1, 'sidikalang': 1, 'pemberontakan': 1, 'gold': 1, 'martinelli': 1, 'dance': 1, 'pope': 1, 'torang': 1, 'panser': 1, 'odilia': 1, 'winneke': 1, 'gramedia': 1, 'tomohon': 1, 'selular': 1, 'gad': 1, 'elbaz': 1, 'hashem': 1, 'meleceh': 1, 'presentase': 1, 'pradi': 1, 'afifah': 1, 'biksu': 1, 'pelamar': 1, 'tempurung': 1, 'ratakan': 1, 'dugem': 1, 'perkawinan': 1, 'gopay': 1, 'feri': 1, 'bajak': 1, 'mengultimatum': 1, 'like': 1, 'rajawali': 1, 'melebarkan': 1, 'komentar': 1, 'diteror': 1, 'drake': 1, 'syamsuar': 1, 'shahrukh': 1, 'menyakiti': 1, 'partainya': 1, 'pemusik': 1, 'berhentinya': 1, 'rizeq': 1, 'gosong': 1, 'sholawat': 1, 'nissa': 1, 'sabyan': 1, 'american': 1, 'juri': 1, 'macros': 1, 'ditawan': 1, 'hercules': 1, 'bright': 1, 'dibatasi': 1, 'jawaharlal': 1, 'nehru': 1, 'topan': 1, 'ulysses': 1, 'tayangkan': 1, 'perseteruan': 1, 'populi': 1, 'kardun': 1, 'dideportasi': 1, 'imingrasi': 1, 'overstay': 1, 'osteosarcoma': 1, 'youre': 1, 'fired': 1, 'kasat': 1, 'reskrim': 1, 'pmb': 1, 'official': 1, 'tumada': 1, 'marobo': 1, 'reformasi': 1, 'birokrasi': 1, 'berpengalaman': 1, 'pemenggal': 1, 'patah': 1, 'sangkar': 1, 'penjajahan': 1, 'kongo': 1, 'walikota': 1, 'kepanjen': 1, 'cisadane': 1, 'pjlp': 1, 'ditemui': 1, 'provices': 1, 'les': 1, 'berpengaruh': 1, 'pancoran': 1, 'pemboikotan': 1, 'sesumbarnya': 1, 'ki': 1, 'seno': 1, 'nugroho': 1, 'perikanan': 1, 'budidaya': 1, 'kkp': 1, 'holland': 1, 'menyeberangi': 1, 'lippo': 1, 'malls': 1, 'reservasi': 1, 'bpjamsostek': 1, 'penipu': 1, 'diskopindag': 1, 'lunak': 1, 'halangi': 1, 'octavia': 1, 'jayabaya': 1, 'selokan': 1, 'jatiluhur': 1, 'syahwat': 1, 'pukuli': 1, 'pelit': 1, 'melunasi': 1, 'zebra': 1, 'dimilikinya': 1, 'harley': 1, 'davidson': 1, 'sekalian': 1, 'kedutaan': 1, 'lungi': 1, 'jeans': 1, 'menuduh': 1, 'menandingi': 1, 'swadaya': 1, 'padri': 1, 'airin': 1, 'rachmi': 1, 'menyusul': 1, 'fotografer': 1, 'darren': 1, 'pearson': 1, 'lurah': 1, 'godok': 1, 'paul': 1, 'pogba': 1, 'penghasut': 1, 'keji': 1, 'chatbot': 1, 'me': 1, 'refly': 1, 'winstar': 1, 'balekos': 1, 'nissan': 1, 'usahanya': 1, 'dicky': 1, 'novalino': 1, 'pencuci': 1, 'piring': 1, 'potret': 1, 'reka': 1, 'aniaya': 1, 'disekap': 1, 'tangkapi': 1, 'pengkritiknya': 1, 'dihidupkan': 1, 'johor': 1, 'parosli': 1, 'mabsus': 1, 'kesbangpol': 1, 'tornagogo': 1, 'sihombing': 1, 'terkadang': 1, 'khatab': 1, 'sop': 1, 'l': 1, 'jaran': 1, 'rungkut': 1, 'soponyono': 1, 'menjerat': 1, 'pengkritik': 1, 'sand': 1, 'point': 1, 'alaska': 1, 'bangka': 1, 'belitung': 1, 'erzaldi': 1, 'rosman': 1, 'tercantum': 1, 'kecepatan': 1, 'gelarnya': 1, 'voting': 1, 'babinkamtibmas': 1, 'kanakea': 1, 'sisik': 1, 'frankfurter': 1, 'jenama': 1, 'pengusaha': 1, 'dicecar': 1, 'bacalah': 1, 'lanjutkan': 1, 'blue': 1, 'penuhi': 1, 'almamater': 1, 'petro': 1, 'berkorban': 1, 'bioskop': 1, 'jeda': 1, 'pemiliknya': 1, 'kafenya': 1, 'dikubur': 1, 'parkinson': 1, 'best': 1, 'diabadikan': 1, 'haz': 1, 'mereda': 1, 'kanye': 1, 'west': 1, 'kentucky': 1, 'marullah': 1, 'matai': 1, 'terkepung': 1, 'bonjol': 1, 'pendakian': 1, 'sibayak': 1, 'mataram': 1, 'blokir': 1, 'bjp': 1, 'yuva': 1, 'karyakarta': 1, 'paviliun': 1, 'sijoj': 1, 'mengakuinya': 1, 'majalengka': 1, 'ciptaker': 1, 'tarung': 1, 'maunya': 1, 'serobot': 1, 'stm': 1, 'tingkatkan': 1, 'kebiasaan': 1, 'terpantau': 1, 'darahku': 1, 'vaksinnya': 1, 'perusakan': 1, 'ketipung': 1, 'pertunjukan': 1, 'alamsyah': 1, 'sepertiku': 1, 'production': 1, 'sablon': 1, 'kspi': 1, 'berambut': 1, 'tertentu': 1, 'heran': 1, 'seramai': 1, 'jarah': 1, 'welcome': 1, 'lucky': 1, 'pembekuan': 1, 'dicuci': 1, 'nonton': 1, 'interogasi': 1, 'arinal': 1, 'djunaidi': 1, 'penjuru': 1, 'memerangi': 1, 'pam': 1, 'swakarsa': 1, 'menyekap': 1, 'asy': 1, 'syarif': 1, 'wakapolri': 1, 'pelita': 1, 'citarum': 1, 'imei': 1, 'dikorbankan': 1, 'persembahan': 1, 'menghalau': 1, 'tk': 1, 'sampoerna': 1, 'bayaran': 1, 'pur': 1, 'wismoyo': 1, 'arismunandar': 1, 'pdam': 1, 'ppatk': 1, 'pikap': 1, 'semata': 1, 'langkah': 1, 'trisakti': 1, 'seandainya': 1, 'omnisbus': 1, 'berbaju': 1, 'pedemonya': 1, 'sargen': 1, 'panci': 1, 'presto': 1, 'umun': 1, 'bersorak': 1, 'selembaran': 1, 'meminjam': 1, 'beasiswa': 1, 'stmik': 1, 'kisaran': 1, 'berdekatan': 1, 'jepun': 1, 'kaltara': 1, 'dihuni': 1, 'dirias': 1, 'bersepeda': 1, 'marcus': 1, 'aurelius': 1, 'perspektif': 1, 'betulkah': 1, 'capres': 1, 'lucu': 1, 'muntah': 1, 'berhasilnya': 1, 'korup': 1, 'perak': 1, 'vanuatu': 1, 'penjelajah': 1, 'hydroxychloroquine': 1, 'sejadah': 1, 'gunting': 1, 'emil': 1, 'jarumnya': 1, 'bergelar': 1, 'oleskan': 1, 'kuningnya': 1, 'pencernaanmu': 1, 'analis': 1, 'simalungun': 1, 'meniadakan': 1, 'perizinan': 1, 'raharto': 1, 'teno': 1, 'jamaika': 1, 'mengeksploitasi': 1, 'besanan': 1, 'keasaman': 1, 'pedofilia': 1, 'gono': 1, 'kalianlah': 1, 'pertaruhannya': 1, 'ekspres': 1, 'raih': 1, 'jayawijaya': 1, 'otsus': 1, 'pengkhianatan': 1, 'gpn': 1, 'otomatis': 1, 'ketat': 1, 'anjlok': 1, 'andalan': 1, 'mengawur': 1, 'kekerasan': 1, 'puyouno': 1, 'penyimpangan': 1, 'benarnya': 1, 'zul': 1, 'tunda': 1, 'elvy': 1, 'sukaesih': 1, 'putar': 1, 'perlakukan': 1, 'serban': 1, 'mulutnya': 1, 'kampanyekan': 1, 'tepatnya': 1, 'podium': 1, 'didampingi': 1, 'triatmojo': 1, 'soehato': 1, 'gembong': 1, 'laura': 1, 'semarak': 1, 'lazada': 1, 'kunyah': 1, 'sirih': 1, 'spk': 1, 'tender': 1, 'bppbj': 1, 'mimba': 1, 'kuas': 1, 'dikurung': 1, 'qishos': 1, 'agak': 1, 'dilaporkan': 1, 'kolase': 1, 'isinya': 1, 'kebagian': 1, 'dai': 1, 'liur': 1, 'gunanya': 1, 'ngomong': 1, 'paha': 1, 'inayatullah': 1, 'berduaan': 1, 'pencipta': 1, 'roberto': 1, 'nevilis': 1, 'memutihkan': 1, 'ketiak': 1, 'pamsuska': 1, 'konter': 1, 'najis': 1, 'keok': 1, 'syeh': 1, 'sekutunya': 1, 'blog': 1, 'teddy': 1, 'gusnaidi': 1, 'mengusir': 1, 'dunkin': 1, 'donuts': 1, 'lusin': 1, 'donat': 1, 'ds': 1, 'ribut': 1, 'menggelikan': 1, 'kohar': 1, 'kodong': 1, 'jabber': 1, 'tertibkan': 1, 'bersyarat': 1, 'dikabulkan': 1, 'cak': 1, 'wamenlu': 1, 'tertusuk': 1, 'beku': 1, 'prasejarah': 1, 'lives': 1, 'matter': 1, 'kenosha': 1, 'wisconsin': 1, 'tulis': 1, 'seberangkan': 1, 'pinjam': 1, 'petanda': 1, 'bachtaroeddin': 1, 'arteria': 1, 'koloni': 1, 'tiru': 1, 'memimpikan': 1, 'bebasin': 1, 'piagam': 1, 'tertinggi': 1, 'poltekip': 1, 'poltekim': 1, 'pencopotan': 1, 'tari': 1, 'kampret': 1, 'digabung': 1, 'dipajaki': 1, 'menggeser': 1, 'komprehensif': 1, 'pineal': 1, 'ganjil': 1, 'genap': 1, 'kedungkandang': 1, 'berkamuflase': 1, 'beredarnya': 1, 'progesterex': 1, 'mensterilkan': 1, 'taruh': 1, 'kemenbumn': 1, 'advisor': 1, 'mendunia': 1, 'kekonyolan': 1, 'konyol': 1, 'opsi': 1, 'utuhnya': 1, 'menangkis': 1, 'unsoed': 1, 'cilandak': 1, 'dideklarasikan': 1, 'bpjs': 1, 'pemandian': 1, 'ciracas': 1, 'omong': 1, 'bening': 1, 'sesumbar': 1, 'untung': 1, 'tekor': 1, 'keterlambatan': 1, 'premium': 1, 'pungutan': 1, 'profil': 1, 'berpeci': 1, 'netty': 1, 'prasetiyani': 1, 'menyadap': 1, 'pembicaraan': 1, 'rugi': 1, 'n': 1, 'sanga': 1, 'angker': 1, 'resmikan': 1, 'berharap': 1, 'nafkah': 1, 'muak': 1, 'jijik': 1, 'salaman': 1, 'wainnailahi': 1, 'briva': 1, 'ejek': 1, 'pengajian': 1, 'tetangganya': 1, 'mandul': 1, 'menganjurkan': 1, 'erik': 1, 'dipahami': 1, 'yoshitha': 1, 'rajapaksa': 1, 'deniyaya': 1, 'ramalan': 1, 'kartun': 1, 'materai': 1, 'rp': 1, 'kebobrokan': 1, 'ditutupi': 1, 'eksodus': 1, 'berkecamuk': 1, 'siradj': 1, 'membicarakan': 1, 'mainstream': 1, 'publish': 1, 'rehabilitasi': 1, 'pertarungan': 1, 'mengerucut': 1, 'devils': 1, 'tower': 1, 'wyoming': 1, 'kadaluwarsanya': 1, 'fira': 1, 'aziz': 1, 'keuntungan': 1, 'disalurkan': 1, 'camp': 1, 'vietcong': 1, 'kronjo': 1, 'maruarar': 1, 'babinsa': 1, 'dirikan': 1, 'beraninya': 1, 'pemutihan': 1, 'usulkan': 1, 'niat': 1, 'cinanisasi': 1, 'rebus': 1, 'banyumanik': 1, 'bergelombang': 1, 'robotnya': 1, 'kisru': 1, 'ipul': 1, 'gerinda': 1, 'pilwali': 1, 'tukar': 1, 'merosot': 1, 'tegur': 1, 'barutama': 1, 'orderan': 1, 'budaya': 1, 'syahri': 1, 'berkhotbah': 1, 'membawakan': 1, 'renungan': 1, 'bah': 1, 'legionnaires': 1, 'kaisar': 1, 'ditampilkan': 1, 'adikku': 1, 'central': 1, 'dagu': 1, 'fachrori': 1, 'safrial': 1, 'didanai': 1, 'hebartus': 1, 'panen': 1, 'padi': 1, 'tik': 1, 'tok': 1, 'empunya': 1, 'pengendaranya': 1, 'mengumpulnya': 1, 'tertunduk': 1, 'penghijauan': 1, 'pohonnya': 1, 'marganada': 1, 'berdasar': 1, 'translate': 1, 'khang': 1, 'thi': 1, 'phu': 1, 'berlatar': 1, 'sepinya': 1, 'job': 1, 'selaput': 1, 'populer': 1, 'curhat': 1, 'kedengaran': 1, 'dinyalakan': 1, 'kebal': 1, 'kulonprogo': 1, 'sjafri': 1, 'juventus': 1, 'berhutang': 1, 'burhanuddin': 1, 'muhtadi': 1, 'firza': 1, 'kunci': 1, 'haedar': 1, 'nashir': 1, 'usah': 1, 'hantaman': 1, 'tugasnya': 1, 'cekungan': 1, 'fix': 1, 'hangus': 1, 'laptop': 1, 'stan': 1, 'rujuk': 1, 'kemerdekaannya': 1, 'dirampas': 1, 'dalih': 1, 'sepele': 1, 'pertumbuhan': 1, 'merugikan': 1, 'diprediksi': 1, 'penelitian': 1, 'psikologi': 1, 'brawijaya': 1, 'mahfoudz': 1, 'kentutnya': 1, 'diincar': 1, 'dimata': 1, 'lpi': 1, 'pengecilan': 1, 'yakni': 1, 'menjadikannya': 1, 'dimaknai': 1, 'menyembelih': 1, 'kurban': 1, 'pelawak': 1, 'abdurrahman': 1, 'soerdirman': 1, 'ayahandanya': 1, 'alis': 1, 'dicari': 1, 'kebanyakan': 1, 'memikirkan': 1, 'mengemis': 1, 'saksikan': 1, 'amal': 1, 'klepon': 1, 'fanpage': 1, 'bong': 1, 'nyanyian': 1, 'transmart': 1, 'gratula': 1, 'memastikan': 1, 'tjoen': 1, 'min': 1, 'teror': 1, 'kening': 1, 'disandingkan': 1, 'diponorogo': 1, 'merangkai': 1, 'bacot': 1, 'gelandangan': 1, 'antena': 1, 'kasad': 1, 'membantah': 1, 'barak': 1, 'mes': 1, 'apartemennya': 1, 'disemprotkan': 1, 'ditambah': 1, 'inventaris': 1, 'memanahkan': 1, 'dibully': 1, 'ambisius': 1, 'sophia': 1, 'sfts': 1, 'menjerumuskan': 1, 'menjauhkan': 1, 'penginjil': 1, 'joyce': 1, 'merelakan': 1, 'bersejarah': 1, 'bar': 1, 'bok': 1, 'zodiak': 1, 'ophiuchus': 1, 'hendak': 1, 'penasehat': 1, 'bermodalkan': 1, 'makzulkan': 1, 'fpa': 1, 'pungut': 1, 'maklumi': 1, 'imbalan': 1, 'terindikasikan': 1, 'beristri': 1, 'pupuk': 1, 'mutu': 1, 'inisial': 1, 'kepanjangan': 1, 'ceraikan': 1, 'daeng': 1, 'naba': 1, 'osmania': 1, 'pembacaan': 1, 'shopia': 1, 'kesederhaan': 1, 'bersaksi': 1, 'persekongkolan': 1, 'mengepung': 1, 'sekumpulan': 1, 'termometer': 1, 'struktur': 1, 'mulan': 1, 'jameela': 1, 'undur': 1, 'cabak': 1, 'mukanya': 1, 'mengesalkan': 1, 'korpri': 1, 'dinding': 1, 'apps': 1, 'pedesaan': 1, 'fanatik': 1, 'melinda': 1, 'mengunjungi': 1, 'hana': 1, 'hanifah': 1, 'kapuk': 1, 'membodohi': 1, 'lumayan': 1, 'liberal': 1, 'go': 1, 'pesindo': 1, 'ranca': 1, 'pagoda': 1, 'disekolahkan': 1, 'diubah': 1, 'kebohongannya': 1, 'basmi': 1, 'kadal': 1, 'meksiko': 1, 'kista': 1, 'ovarium': 1, 'buni': 1, 'menyesal': 1, 'memenjarakan': 1, 'assyeikh': 1, 'sudais': 1, 'emaknya': 1, 'pai': 1, 'mts': 1, 'diajari': 1, 'berterima': 1, 'kurangi': 1, 'retno': 1, 'marsudi': 1, 'pemerintahannya': 1, 'kepemimpinan': 1, 'ulmwp': 1, 'purna': 1, 'endriartono': 1, 'sutarto': 1, 'dimusuhi': 1, 'memulangkan': 1, 'labeli': 1, 'mui': 1, 'ganyang': 1, 'ngebul': 1, 'pemukulan': 1, 'penjahatlah': 1, 'mengisinya': 1, 'kinclong': 1, 'mulus': 1, 'marahnya': 1, 'teks': 1, 'javed': 1, 'haider': 1, 'barrack': 1, 'seberat': 1, 'beratnya': 1, 'kerjakan': 1, 'antivirus': 1, 'bertaring': 1, 'manisnya': 1, 'bahagianya': 1, 'pirus': 1, 'pemutusan': 1, 'lunar': 1, 'hunter': 1, 'pitam': 1, 'hasto': 1, 'kompetisi': 1, 'nfl': 1, 'terlilit': 1, 'menanak': 1, 'bungkul': 1, 'bintitan': 1, 'laras': 1, 'kodam': 1, 'unjuk': 1, 'rasa': 1, 'pdip': 1, 'nyonya': 1, 'klan': 1, 'pandemik': 1, 'pembakar': 1, 'simpatisan': 1, 'pdi': 1, 'costumer': 1, 'luput': 1, 'loreng': 1, 'kumpul': 1, 'kerok': 1, 'mencium': 1, 'mia': 1, 'tayamum': 1, 'kakung': 1, 'bersandiwara': 1, 'bertahan': 1, 'kubis': 1, 'telanjang': 1, 'pikun': 1, 'luwu': 1, 'motornya': 1, 'benderanya': 1, 'sakitnya': 1, 'diagnosa': 1, 'lilinnya': 1, 'berkarakter': 1, 'letnan': 1, 'putranto': 1, 'sp': 1, 'rad': 1, 'jumping': 1, 'urine': 1, 'sulfat': 1, 'hajjah': 1, 'umi': 1, 'azizah': 1, 'runtuh': 1, 'digeruduk': 1, 'terdengar': 1, 'pemberitaan': 1, 'today': 1, 'menumbangkan': 1, 'terlantar': 1, 'fakir': 1, 'kuncen': 1, 'teriakan': 1, 'muti': 1, 'med': 1, 'ruzhanul': 1, 'ulum': 1, 'kak': 1, 'olahraga': 1, 'jhansi': 1, 'mendaulat': 1, 'germo': 1, 'mainnya': 1, 'pacman': 1, 'kawanan': 1, 'muso': 1, 'sita': 1, 'sundari': 1, 'kebahagiaan': 1, 'diskotik': 1, 'fachrul': 1, 'razi': 1, 'berkepanjangan': 1, 'hipoksia': 1, 'pengarep': 1, 'mandarin': 1, 'koridor': 1, 'kesalahan': 1, 'brotoseno': 1, 'panja': 1, 'tunaikan': 1, 'dki': 1, 'nyekar': 1, 'notomihardjo': 1, 'membantai': 1, 'direalisasikan': 1, 'nasionalis': 1, 'semu': 1, 'chipnya': 1, 'mengotori': 1, 'terlaknatlah': 1, 'engkau': 1, 'ungaran': 1, 'buntal': 1, 'helmi': 1, 'dibiarkan': 1, 'vvip': 1, 'gode': 1, 'menambahkan': 1, 'helmy': 1, 'memutarkan': 1, 'ajaran': 1, 'komunisme': 1, 'didukung': 1, 'smk': 1, 'simdikonline': 1, 'dwayne': 1, 'metrotv': 1, 'pengusung': 1, 'kalap': 1, 'komersial': 1, 'pemukiman': 1, 'fase': 1, 'fmipa': 1, 'tersiksa': 1, 'pembinaan': 1, 'perbelanjaan': 1, 'percontohan': 1, 'pilu': 1, 'mamah': 1, 'koagulasi': 1, 'intravaskular': 1, 'diseminata': 1, 'trombosis': 1, 'bandel': 1, 'dilockdown': 1, 'kadus': 1, 'dihakimi': 1, 'sasaran': 1, 'ellen': 1, 'degeneres': 1, 'penjelasan': 1, 'vios': 1, 'silver': 1, 'berpenis': 1, 'jurug': 1, 'pengelola': 1, 'rice': 1, 'cooker': 1, 'matang': 1, 'pemicu': 1, 'menggambarkan': 1, 'bird': 1, 'giant': 1, 'pal': 1, 'musala': 1, 'cuk': 1, 'equinox': 1, 'berdonasi': 1, 'pahalanya': 1, 'manaf': 1, 'bbtklpp': 1, 'rantai': 1, 'ubin': 1, 'pembelajaran': 1, 'menyebutkan': 1, 'jenius': 1, 'ajinomoto': 1, 'cileungsi': 1, 'iuran': 1, 'dosanya': 1, 'diampuni': 1, 'dijamu': 1, 'gubernurnya': 1, 'karombasan': 1, 'reaktif': 1, 'barzakh': 1, 'macau': 1, 'windusari': 1, 'interior': 1, 'lab': 1, 'labkesda': 1, 'mencomot': 1, 'sitkom': 1, 'kontrakan': 1, 'megabit': 1, 'ketapang': 1, 'kotawaringin': 1, 'kekhalifahan': 1, 'ottoman': 1, 'merauke': 1, 'kemukus': 1, 'menempatkan': 1, 'menguntungkan': 1, 'coco': 1, 'pembuang': 1, 'abk': 1, 'serat': 1, 'wol': 1, 'silakan': 1, 'masuukk': 1, 'konawe': 1, 'gbi': 1, 'gpib': 1, 'berdamai': 1, 'dimaksud': 1, 'injak': 1, 'slangor': 1, 'ia': 1, 'tulungagung': 1, 'kemenhub': 1, 'aturannya': 1, 'terealisasi': 1, 'murtad': 1, 'ditagih': 1, 'ganesha': 1, 'persetujuan': 1, 'pledang': 1, 'rajeg': 1, 'kuntilanak': 1, 'porno': 1, 'tatacara': 1, 'semayam': 1, 'dionisius': 1, 'prasetyo': 1, 'dikafani': 1, 'pergaulan': 1, 'doro': 1, 'puisi': 1, 'kathleen': 1, 'omara': 1, 'gantian': 1, 'tlr': 1, 'plan': 1, 'pengeluaran': 1, 'ekspedisi': 1, 'ditarik': 1, 'dimusnahkan': 1, 'aamir': 1, 'mendonasikan': 1, 'rupee': 1, 'gendam': 1, 'coretan': 1, 'motivator': 1, 'terkelam': 1, 'diundang': 1, 'beradik': 1, 'berakhirnya': 1, 'penulis': 1, 'nadiah': 1, 'jar': 1, 'rahimahullah': 1, 'elisa': 1, 'granato': 1, 'tempatnya': 1, 'kelonggaran': 1, 'angsuran': 1, 'ojk': 1, 'tasuku': 1, 'honjo': 1, 'membuatnya': 1, 'droplet': 1, 'century': 1, 'menghubungi': 1, 'pengaduan': 1, 'hamdan': 1, 'maktoum': 1, 'dibacakan': 1, 'merebak': 1, 'makanya': 1, 'sumenep': 1, 'digelar': 1, 'nasehat': 1, 'erma': 1, 'yunita': 1, 'simamora': 1, 'bunda': 1, 'lbk': 1, 'linggau': 1, 'bedakan': 1, 'bratang': 1, 'mangga': 1, 'menolong': 1, 'temperature': 1, 'diary': 1, 'mengukur': 1, 'kemenkop': 1, 'pemula': 1, 'visa': 1, 'bertahap': 1, 'waluyo': 1, 'ranch': 1, 'badannya': 1, 'perjuanganmu': 1, 'sepenuhnya': 1, 'menggerebek': 1, 'sinagoge': 1, 'sabam': 1, 'sirait': 1, 'setting': 1, 'murid': 1, 'dicekoki': 1, 'mimbar': 1, 'cheng': 1, 'tebet': 1, 'pempek': 1, 'kamto': 1, 'palagan': 1, 'monjali': 1, 'betapa': 1, 'kjp': 1, 'kurungan': 1, 'ujar': 1, 'mengendalikan': 1, 'setya': 1, 'novanto': 1, 'bts': 1, 'exo': 1, 'penerapan': 1, 'mosi': 1, 'kit': 1, 'senat': 1, 'dibegal': 1, 'gratiskan': 1, 'literasi': 1, 'magrib': 1, 'bimbo': 1, 'pool': 1, 'cinere': 1, 'australian': 1, 'kurantin': 1, 'simpatik': 1, 'ex': 1, 'sungkawa': 1, 'berguguran': 1, 'diskon': 1, 'list': 1, 'meludahi': 1, 'disertai': 1, 'bakmi': 1, 'kenal': 1, 'togog': 1, 'bedebah': 1, 'bersujud': 1, 'ruqyah': 1, 'rap': 1, 'azankan': 1, 'dengarkan': 1, 'gerbang': 1, 'kebiadapan': 1, 'berkedok': 1, 'italian': 1, 'jutawan': 1, 'difoto': 1, 'bintaro': 1, 'hababina': 1, 'baginda': 1, 'dep': 1, 'colector': 1, 'semangat': 1, 'bundle': 1, 'tujuannya': 1, 'membasmi': 1, 'amoxilin': 1, 'tandon': 1, 'penganut': 1, 'mengalunkan': 1, 'kejut': 1, 'mengakhiri': 1, 'cleveland': 1, 'buntutnya': 1, 'mamak': 1, 'merakyat': 1, 'uruguay': 1, 'secangkir': 1, 'tersedia': 1, 'kanika': 1, 'kapoor': 1, 'domisili': 1, 'red': 1, 'zone': 1, 'skor': 1, 'gergasi': 1, 'dites': 1, 'bergamo': 1, 'saddam': 1, 'hussein': 1, 'hadio': 1, 'ethiopia': 1, 'dipesan': 1, 'dihimbau': 1, 'spectra': 1, 'dikarenakan': 1, 'odp': 1, 'sejenis': 1, 'mould': 1, 'berdiam': 1, 'dibalut': 1, 'bag': 1, 'mengubur': 1, 'dikupas': 1, 'kuman': 1, 'tradisional': 1, 'teluk': 1, 'betung': 1, 'menetap': 1, 'front': 1, 'pembela': 1, 'dizalimi': 1, 'memicu': 1, 'buas': 1, 'penyemprotan': 1, 'wameo': 1, 'tobat': 1, 'mendera': 1, 'pageblug': 1, 'anjurkan': 1, 'lodeh': 1, 'digaji': 1, 'kodya': 1, 'jumatan': 1, 'bubarnya': 1, 'diatasi': 1, 'camkan': 1, 'dengarnya': 1, 'penularannya': 1, 'roche': 1, 'company': 1, 'telaga': 1, 'bestari': 1, 'humanoid': 1, 'memberlakukan': 1, 'parsial': 1, 'wahidin': 1, 'nadien': 1, 'chloroquine': 1, 'klorokuin': 1, 'hotelnya': 1, 'drama': 1, 'liburan': 1, 'karangturi': 1, 'balak': 1, 'cawas': 1, 'ditemukannya': 1, 'liburkan': 1, 'terapis': 1, 'spa': 1, 'goldenhands': 1, 'selanjutnya': 1, 'chen': 1, 'horin': 1, 'queensland': 1, 'tom': 1, 'hanks': 1, 'badau': 1, 'dirujuk': 1, 'rujukan': 1, 'kokas': 1, 'beralkohol': 1, 'terta': 1, 'mengganas': 1, 'berebut': 1, 'humas': 1, 'kekal': 1, 'season': 1, 'dicetak': 1, 'hvs': 1, 'menerjang': 1, 'mahkota': 1, 'mohamed': 1, 'tergagap': 1, 'menyimak': 1, 'keluhan': 1, 'picung': 1, 'tenjolaya': 1, 'mujahid': 1, 'menginformasikan': 1, 'jict': 1, 'cgm': 1, 'virgina': 1, 'thawaf': 1, 'tornado': 1, 'bergolongan': 1, 'tega': 1, 'meloloskan': 1, 'bapa': 1, 'tompi': 1, 'alternatif': 1, 'menyiasati': 1, 'menularnya': 1, 'mengenal': 1, 'narendra': 1, 'makanannya': 1, 'isapan': 1, 'jempol': 1, 'tertahan': 1, 'angkutan': 1, 'bulus': 1, 'parung': 1, 'pembantunya': 1, 'mengidap': 1, 'menyortir': 1, 'ply': 1, 'solida': 1, 'galaxy': 1, 'bendung': 1, 'walahar': 1, 'meluap': 1, 'luhur': 1, 'didoakan': 1, 'baloot': 1, 'perjudian': 1, 'dyah': 1, 'memangnya': 1, 'kingdom': 1, 'shariah': 1, 'perutnya': 1, 'ranah': 1, 'sinclair': 1, 'merobek': 1, 'kencingi': 1, 'meikarta': 1, 'memenggal': 1, 'jendela': 1, 'dirundung': 1, 'jumbo': 1, 'ahlinya': 1, 'diajarinya': 1, 'terbukanya': 1, 'selelah': 1, 'menghitam': 1, 'gutian': 1, 'street': 1, 'penilaian': 1, 'dirobohkan': 1, 'cipularang': 1, 'longsoran': 1, 'dibeginikan': 1, 'tegalsari': 1, 'jagat': 1, 'menandakan': 1, 'derek': 1, 'juling': 1, 'guys': 1, 'menghamburkan': 1, 'berjumlah': 1, 'takutnya': 1, 'emigran': 1, 'biohazard': 1, 'king': 1, 'dony': 1, 'pedro': 1, 'tatapan': 1, 'kalengan': 1, 'menyebutnya': 1, 'disinfeksi': 1, 'antiseptik': 1, 'rsu': 1, 'kariadi': 1, 'karuan': 1, 'selangor': 1, 'mendoakan': 1, 'bhayangkara': 1, 'keramat': 1, 'dimasuki': 1, 'kobe': 1, 'bryant': 1, 'kematiannya': 1, 'paten': 1, 'iwip': 1, 'doris': 1, 'sylvanus': 1, 'memaki': 1, 'priok': 1, 'korelasi': 1, 'disuapi': 1, 'berudu': 1, 'dikutuk': 1, 'puteri': 1, 'ameera': 1, 'pengalaman': 1, 'mematahkan': 1, 'mitos': 1, 'nem': 1, 'indeks': 1, 'kumulatif': 1, 'rangking': 1, 'autis': 1, 'keajaiban': 1, 'selebaran': 1, 'sebanjaran': 1, 'kanibal': 1, 'bertelepon': 1, 'bangil': 1, 'elf': 1, 'pembelaan': 1, 'sejagad': 1, 'modar': 1, 'quan': 1, 'karpet': 1, 'buruan': 1, 'basis': 1, 'jiwasraya': 1, 'ain': 1, 'asad': 1, 'anbar': 1, 'dikonfirmasi': 1, 'mengejar': 1, 'pademangan': 1, 'geser': 1, 'patok': 1, 'koala': 1, 'kokoh': 1, 'senyum': 1, 'menyeringai': 1, 'berondong': 1, 'quds': 1, 'qaseem': 1, 'soleimani': 1, 'pemasukan': 1, 'mendirikan': 1, 'princess': 1, 'beristirahat': 1, 'daring': 1, 'kualitas': 1, 'mercon': 1, 'toot': 1, 'dor': 1, 'wiryawan': 1, 'dusun': 1, 'lopang': 1, 'driyorejo': 1, 'tenggelamkan': 1, 'bmw': 1, 'sunatullah': 1, 'tekan': 1, 'cancel': 1, 'dipanggang': 1, 'diskriminasi': 1, 'kekacauan': 1, 'deddy': 1, 'corbuzier': 1, 'sindiran': 1, 'pedas': 1, 'darusalam': 1, 'pucat': 1, 'pelanggannya': 1, 'lehernya': 1, 'membebaskan': 1, 'sandara': 1, 'cham': 1, 'ibrahimovic': 1, 'perban': 1, 'tebus': 1, 'sumbernya': 1, 'menemui': 1, 'kitty': 1, 'hello': 1, 'kiity': 1, 'iblis': 1, 'fatimah': 1, 'aynur': 1, 'crispy': 1, 'crackers': 1, 'dagelan': 1, 'koplax': 1, 'laporkan': 1, 'pancung': 1, 'presidennya': 1, 'mengucek': 1, 'askhara': 1, 'setrum': 1, 'missed': 1, 'call': 1, 'mengakses': 1, 'menjebol': 1, 'natalan': 1, 'selawat': 1, 'mistadi': 1, 'diterkam': 1, 'labrak': 1, 'sami': 1, 'dyak': 1, 'merilis': 1, 'tulisannya': 1, 'daughter': 1, 'polim': 1, 'oarfish': 1, 'pertanda': 1, 'bas': 1, 'edan': 1, 'menceraikan': 1, 'halnya': 1, 'kedzaliman': 1, 'kupang': 1, 'dagingnya': 1, 'terulang': 1, 'menunggangi': 1, 'will': 1, 'jaden': 1, 'wajar': 1, 'ikrar': 1, 'diobservasi': 1, 'otaknya': 1, 'kerajaan': 1, 'perhiasan': 1, 'partikel': 1, 'pijak': 1, 'kecoak': 1, 'kecoa': 1, 'terdamparnya': 1, 'nepa': 1, 'banyuates': 1, 'wamenag': 1, 'riya': 1, 'terkaman': 1, 'sakti': 1, 'pekan': 1, 'digerebek': 1, 'milad': 1, 'canada': 1, 'disewa': 1, 'sensasi': 1, 'mewaspadai': 1, 'menghabiskan': 1, 'mba': 1, 'ario': 1, 'majang': 1, 'koro': 1, 'seri': 1, 'menghargai': 1, 'emoticon': 1, 'pengisi': 1, 'ciptaan': 1, 'catut': 1, 'disdukcapil': 1, 'poli': 1, 'subjudul': 1, 'blok': 1, 'bagus': 1, 'kehormatan': 1, 'tiong': 1, 'liem': 1, 'saing': 1, 'dipindah': 1, 'disentuh': 1, 'kreasi': 1, 'wartawan': 1, 'muat': 1, 'amarneh': 1, 'cucian': 1, 'larikan': 1, 'dipeluk': 1, 'dicium': 1, 'dipertahankan': 1, 'leo': 1, 'lim': 1, 'bangkitnya': 1, 'muazam': 1, 'pahang': 1, 'sudutkan': 1, 'parlemen': 1, 'kritik': 1, 'handset': 1, 'dicharge': 1, 'ketiduran': 1, 'pemakai': 1, 'perlintasan': 1, 'masinis': 1, 'jajan': 1, 'ditonton': 1, 'andre': 1, 'gomes': 1, 'menertibkan': 1, 'uniform': 1, 'spaghetti': 1, 'disingkirkan': 1, 'softlens': 1, 'dipijak': 1, 'terapung': 1, 'mflud': 1, 'cholera': 1, 'bertindak': 1, 'uu': 1, 'cayman': 1, 'airways': 1, 'johnny': 1, 'plate': 1, 'diwajib': 1, 'charge': 1, 'powerbank': 1, 'emporium': 1, 'diguyur': 1, 'islamophobia': 1, 'alergi': 1, 'digigit': 1, 'cocok': 1, 'dejure': 1, 'perempatan': 1, 'mapping': 1, 'jae': 1, 'tersaingi': 1, 'kupas': 1, 'salak': 1, 'nahdlatul': 1, 'doakan': 1, 'kualat': 1, 'hamza': 1, 'dalj': 1, 'aljazair': 1, 'tabir': 1, 'wow': 1, 'hermes': 1, 'nyai': 1, 'wury': 1, 'harganya': 1, 'belikan': 1, 'umatnya': 1, 'tanyakan': 1, 'praktikkan': 1, 'plug': 1, 'sumbatan': 1, 'pulangkan': 1, 'tersinggung': 1, 'halalnya': 1, 'tampak': 1, 'parkiran': 1, 'azwar': 1, 'kacungnya': 1, 'inikah': 1, 'palung': 1, 'dicatat': 1, 'susunan': 1, 'menusuk': 1, 'menkopolhukam': 1, 'dandim': 1, 'penebangan': 1, 'direncanakan': 1, 'innalillahiwainnailaihirojiun': 1, 'bpk': 1, 'serpong': 1, 'pribadinya': 1, 'jabbar': 1, 'ninoy': 1, 'bermuatan': 1, 'pengenalan': 1, 'hong': 1, 'kong': 1, 'sitaan': 1, 'maha': 1, 'tersuci': 1, 'fery': 1, 'moroseneng': 1, 'sememi': 1, 'menjauhi': 1, 'mendekati': 1, 'rangkap': 1, 'dobel': 1, 'lutfi': 1, 'alfiandi': 1, 'jagung': 1, 'dwi': 1, 'asmoro': 1, 'menyejahterakan': 1, 'sd': 1, 'beres': 1, 'rezeki': 1, 'bertentangan': 1, 'keparat': 1, 'raider': 1, 'kualanamu': 1, 'airport': 1, 'istilahnya': 1, 'amanat': 1, 'materi': 1, 'uhud': 1, 'badar': 1, 'sepatunya': 1, 'uinsu': 1, 'unsri': 1, 'tusukan': 1, 'padamkan': 1, 'ukiran': 1, 'melaut': 1, 'penguasa': 1, 'menghukum': 1, 'pejabatnya': 1, 'qurrotul': 1, 'uyun': 1, 'direvisi': 1, 'inginkan': 1, 'defisit': 1, 'memandang': 1, 'piknik': 1, 'dhuafa': 1, 'akhirat': 1, 'ditelantarkan': 1, 'pesilat': 1, 'atraksi': 1, 'pemecahan': 1, 'bata': 1, 'melanjutkan': 1, 'baharuddin': 1, 'lahirkan': 1, 'konfigurasi': 1, 'menghormati': 1, 'tertipis': 1, 'paprika': 1, 'kesalahannya': 1, 'insyaallah': 1, 'hubungannya': 1, 'sepinggan': 1, 'purbaleunyi': 1, 'jayapura': 1, 'dering': 1, 'menyembah': 1, 'mengabaikan': 1, 'kemanusiaan': 1, 'kibarkan': 1, 'lensa': 1, 'meleleh': 1, 'barbeque': 1, 'terurus': 1, 'lansia': 1, 'atmabrata': 1, 'kewarganegaraan': 1, 'marsma': 1, 'suryo': 1, 'margono': 1, 'premis': 1, 'garis': 1, 'lurus': 1, 'pamulang': 1, 'ciputat': 1, 'dandenpom': 1, 'gabion': 1, 'terumbu': 1, 'sabtu': 1, 'syaraf': 1, 'david': 1, 'beckham': 1, 'leonardo': 1, 'dicaprio': 1, 'mencuitkan': 1, 'royalty': 1, 'terapkan': 1, 'lc': 1, 'draf': 1, 'haid': 1, 'pemulung': 1, 'menebar': 1, 'pembalut': 1, 'kuliner': 1, 'dijebol': 1, 'setingkat': 1, 'diputuskan': 1, 'diadukan': 1, 'maimun': 1, 'zubair': 1, 'bintara': 1, 'berayun': 1, 'kazan': 1, 'reporternya': 1, 'sambiroto': 1, 'menggema': 1, 'kalamullah': 1, 'digilir': 1, 'lunasi': 1, 'fintech': 1, 'swasembada': 1, 'eceng': 1, 'gondok': 1, 'pembekalan': 1, 'podomoro': 1, 'land': 1, 'cosmas': 1, 'tangkuban': 1, 'unesco': 1, 'sedunia': 1, 'tajam': 1, 'sengsara': 1, 'rhoma': 1, 'irama': 1, 'setetes': 1, 'menunaikan': 1, 'tanaman': 1, 'slank': 1, 'm': 1, 'sastra': 1, 'kecam': 1, 'meragukan': 1, 'algeria': 1, 'gemuk': 1, 'lgbtiq': 1, 'terung': 1, 'cerdas': 1, 'risalah': 1, 'kop': 1, 'setingan': 1, 'digadai': 1, 'steel': 1, 'membintangi': 1, 'berperan': 1, 'jangka': 1, 'maupun': 1, 'otentik': 1, 'panitera': 1, 'kemendagri': 1, 'melelehkan': 1, 'khanzarof': 1, 'cloning': 1, 'wacanakan': 1, 'terang': 1, 'terangan': 1, 'singkong': 1, 'bervirus': 1, 'awalnya': 1, 'cheetah': 1, 'kompak': 1, 'resign': 1, 'isra': 1, 'miraj': 1, 'janggal': 1, 'menyelesaikan': 1, 'thoriq': 1, 'karikatur': 1, 'mangkuk': 1, 'dibuatkan': 1, 'tertawaan': 1, 'den': 1, 'haag': 1, 'mma': 1, 'ufc': 1, 'sebisanya': 1, 'aid': 1, 'ein': 1, 'haffaz': 1, 'dsa': 1, 'soebroto': 1, 'jeritan': 1, 'validasi': 1, 'mendenda': 1, 'universe': 1, 'gabe': 1, 'abdulah': 1, 'latin': 1, 'kagum': 1, 'liang': 1, 'kungfu': 1, 'tokuda': 1, 'selundupan': 1, 'mengeluh': 1, 'terjerat': 1, 'asusila': 1, 'menghalangi': 1, 'geger': 1, 'gyro': 1, 'drop': 1, 'memutar': 1, 'ketinggian': 1, 'gengsi': 1, 'lalui': 1, 'mencebur': 1, 'raib': 1, 'bertajuk': 1, 'musafir': 1, 'polwan': 1, 'airbus': 1, 'tunduk': 1, 'hata': 1, 'kilat': 1, 'line': 1, 'pengembang': 1, 'solok': 1, 'porsi': 1, 'terdepan': 1, 'teratas': 1, 'glodok': 1, 'memenangkan': 1, 'penyadapan': 1, 'pemalang': 1, 'searah': 1, 'kivlan': 1, 'zein': 1, 'soenarko': 1, 'kartasura': 1, 'rohman': 1, 'susuri': 1, 'dijumpai': 1, 'madeira': 1, 'senusantara': 1, 'manfaat': 1, 'dahnil': 1, 'farhan': 1, 'tumpengan': 1, 'mengajukan': 1, 'pembatalan': 1, 'otto': 1, 'hasibuan': 1, 'dijuluki': 1, 'dianiaya': 1, 'huda': 1, 'margaretha': 1, 'nainggolan': 1, 'kartanegara': 1, 'bais': 1, 'provokasi': 1, 'menyudutkan': 1, 'shoot': 1, 'baduy': 1, 'kertanegara': 1, 'serda': 1, 'supran': 1, 'sida': 1, 'tasik': 1, 'cawang': 1, 'perkosaan': 1, 'bermewah': 1, 'mewahan': 1, 'tawuran': 1, 'siak': 1, 'jelaslah': 1, 'saudaramu': 1, 'war': 1, 'room': 1, 'panakukang': 1, 'diimpor': 1, 'rekap': 1, 'pleno': 1, 'kusuma': 1, 'handari': 1, 'pakujajar': 1, 'perekam': 1, 'pemenggalan': 1, 'diguncang': 1, 'tel': 1, 'aviv': 1, 'porak': 1, 'poranda': 1, 'berapa': 1, 'emak': 1, 'berbuat': 1, 'kpps': 1, 'teresia': 1, 'fidalgo': 1, 'melek': 1, 'diviralkan': 1, 'takdir': 1, 'membela': 1, 'gambir': 1, 'sesar': 1, 'batui': 1, 'balantak': 1, 'picu': 1, 'sekalipun': 1, 'mesti': 1, 'dirangkul': 1, 'lady': 1, 'gaga': 1, 'melantunkan': 1, 'duhaa': 1, 'mencatut': 1, 'milenial': 1, 'berbulu': 1, 'diciptakan': 1, 'mengecoh': 1, 'pdt': 1, 'niko': 1, 'njotorahardjo': 1, 'mencoblos': 1, 'penyeludupan': 1, 'bengkong': 1, 'neno': 1, 'warisman': 1, 'rasul': 1, 'betawi': 1, 'rembuk': 1, 'fbr': 1, 'husni': 1, 'bercak': 1, 'next': 1, 'kepung': 1, 'ruko': 1, 'digital': 1, 'printing': 1, 'condet': 1, 'berusaha': 1, 'gor': 1, 'jafar': 1, 'sekupang': 1, 'diteriaki': 1, 'quick': 1, 'count': 1, 'meme': 1, 'juluki': 1, 'kekalahan': 1, 'diselenggarakan': 1, 'wakili': 1, 'diruqiyah': 1, 'menangi': 1, 'dituduh': 1, 'penggiringan': 1, 'frustrasi': 1, 'dihadang': 1, 'gelora': 1, 'saf': 1, 'pemilu': 1, 'yaza': 1, 'azzahra': 1, 'berpose': 1, 'ambisi': 1, 'soloraya': 1, 'mat': 1, 'solar': 1, 'memberkati': 1, 'pengarang': 1, 'undercover': 1, 'semasa': 1, 'mudanya': 1, 'berteman': 1, 'islamiyah': 1, 'tertukar': 1, 'dekap': 1, 'paf': 1, 'merendahkan': 1, 'etika': 1, 'cileunyi': 1, 'dawuan': 1, 'romi': 1, 'netral': 1, 'nyatanya': 1, 'election': 1, 'observer': 1, 'indekos': 1, 'ngojek': 1, 'berkunjung': 1, 'christchurch': 1, 'banner': 1, 'hendrayani': 1, 'santun': 1, 'bertebaran': 1, 'kafirun': 1, 'taksi': 1, 'mengajarkan': 1, 'pembiusan': 1, 'ppp': 1, 'saudari': 1, 'lesbi': 1, 'tunanetra': 1, 'ethiopian': 1, 'got': 1, 'mendalam': 1, 'nabok': 1, 'jeli': 1, 'suksesnya': 1, 'tenang': 1, 'pancang': 1, 'bangganya': 1, 'militernya': 1, 'hizib': 1, 'hinaan': 1, 'dipidanakan': 1, 'kemaksiatan': 1, 'menuliskan': 1, 'kecintaannya': 1, 'ditegakkan': 1, 'kosongkan': 1, 'screenshot': 1, 'cepak': 1, 'diejek': 1, 'pilihlah': 1, 'meruntuhkan': 1, 'imamnya': 1, 'panggung': 1, 'kolong': 1, 'mengantongi': 1, 'mendatangi': 1, 'disindir': 1, 'difteri': 1, 'kering': 1, 'alinka': 1, 'humaira': 1, 'nurhanzah': 1, 'cucunya': 1, 'kesah': 1, 'culik': 1, 'fattah': 1, 'temboro': 1, 'pawai': 1, 'penyambutan': 1, 'lokon': 1, 'knpb': 1, 'nak': 1, 'corn': 1, 'phones': 1, 'bocoran': 1, 'pola': 1, 'ingkar': 1, 'berontak': 1, 'tembaki': 1, 'material': 1, 'kambuh': 1, 'maria': 1, 'marten': 1, 'udang': 1, 'mengintimidasi': 1, 'bawahannya': 1, 'intimidasi': 1, 'akurat': 1, 'maher': 1, 'zain': 1, 'hargai': 1, 'mengambang': 1, 'bersalah': 1, 'karsono': 1, 'imbas': 1, 'ketidaksetaraan': 1, 'lilin': 1, 'madame': 1, 'tussauds': 1, 'berharga': 1, 'jujur': 1, 'moral': 1, 'school': 1, 'government': 1, 'kira': 1, 'wine': 1, 'kronis': 1, 'ame': 1, 'ketawanya': 1, 'toba': 1, 'putihkan': 1, 'diralat': 1, 'lambe': 1, 'kejuruan': 1, 'balas': 1, 'dendam': 1, 'sarumpaet': 1, 'bicaranya': 1, 'bijak': 1, 'marlboro': 1, 'akal': 1, 'merangkul': 1, 'muhrimnya': 1, 'perlahan': 1, 'kelucuan': 1, 'kecerobohan': 1, 'nibiru': 1}\n",
            "time: 8.96 ms (started: 2022-12-21 11:53:56 +00:00)\n"
          ]
        }
      ]
    },
    {
      "cell_type": "code",
      "source": [
        "print(len(nar_res_sorted))"
      ],
      "metadata": {
        "id": "MJPZCSWKy087",
        "colab": {
          "base_uri": "https://localhost:8080/"
        },
        "outputId": "bfbcab7d-3574-4b12-d4ef-72f882f16a22"
      },
      "execution_count": null,
      "outputs": [
        {
          "output_type": "stream",
          "name": "stdout",
          "text": [
            "19184\n",
            "time: 421 µs (started: 2022-12-21 11:53:56 +00:00)\n"
          ]
        }
      ]
    },
    {
      "cell_type": "code",
      "source": [
        "drive('1cxksiiSI1k8qWKtyAnnCF5-dvpVfbMaU', 'sisa.txt')\n",
        "sisa = set() # this file contain some non indonesian word that pass the filters, so let's remove it from datas\n",
        "txt_to_sets('sisa.txt', sisa, '\\n')"
      ],
      "metadata": {
        "id": "IoL2LIvVVktL",
        "colab": {
          "base_uri": "https://localhost:8080/"
        },
        "outputId": "94ea6ae2-eebf-49d9-87e7-7d28234ecff9"
      },
      "execution_count": null,
      "outputs": [
        {
          "output_type": "stream",
          "name": "stderr",
          "text": [
            "Downloading...\n",
            "From: https://drive.google.com/u/0/uc?id=1cxksiiSI1k8qWKtyAnnCF5-dvpVfbMaU&export=download\n",
            "To: /content/sisa.txt\n",
            "100%|██████████| 1.65k/1.65k [00:00<00:00, 3.66MB/s]"
          ]
        },
        {
          "output_type": "stream",
          "name": "stdout",
          "text": [
            "time: 1.71 s (started: 2022-12-21 11:56:31 +00:00)\n"
          ]
        },
        {
          "output_type": "stream",
          "name": "stderr",
          "text": [
            "\n"
          ]
        }
      ]
    },
    {
      "cell_type": "code",
      "source": [
        "for i in range(len(temp_nar)):\n",
        "  temp_nar[i] = \" \".join([w for w in temp_nar[i].split() if w not in sisa])"
      ],
      "metadata": {
        "id": "skp9S3v1WA5s",
        "colab": {
          "base_uri": "https://localhost:8080/"
        },
        "outputId": "7bd04837-c374-4d67-822d-5329358712bc"
      },
      "execution_count": null,
      "outputs": [
        {
          "output_type": "stream",
          "name": "stdout",
          "text": [
            "time: 50.2 ms (started: 2022-12-21 11:56:40 +00:00)\n"
          ]
        }
      ]
    },
    {
      "cell_type": "code",
      "source": [
        "# make sure that the length of each list still same\n",
        "\n",
        "print(len(temp_nar), len(normal_title), len(hoax_dates), len(hoax_categories))"
      ],
      "metadata": {
        "id": "YjUuplYf8h8S",
        "colab": {
          "base_uri": "https://localhost:8080/"
        },
        "outputId": "894bb4ad-a104-4cf4-bdb9-806641039d3a"
      },
      "execution_count": null,
      "outputs": [
        {
          "output_type": "stream",
          "name": "stdout",
          "text": [
            "6320 6320 6320 6320\n",
            "time: 773 µs (started: 2022-12-21 11:56:40 +00:00)\n"
          ]
        }
      ]
    },
    {
      "cell_type": "code",
      "source": [
        "# convert date to hh/mm/yyyy format\n",
        "\n",
        "def convert_date(date):\n",
        "  hh = date[-8:-6].replace(\" \", \"0\")\n",
        "  yy = date[-4:]\n",
        "  mm = ''\n",
        "  if 'Januari' in date: mm = '01'\n",
        "  if 'Februari' in date: mm = '02'\n",
        "  if 'Maret' in date: mm = '03'\n",
        "  if 'April' in date: mm = '04'\n",
        "  if 'Mei' in date: mm = '05'\n",
        "  if 'Juni' in date: mm = '06'\n",
        "  if 'Juli' in date: mm = '07'\n",
        "  if 'Agustus' in date: mm = '08'\n",
        "  if 'September' in date: mm = '09'\n",
        "  if 'Oktober' in date: mm = '10'\n",
        "  if 'November' in date: mm = '11'\n",
        "  if 'Desember' in date: mm = '12'\n",
        "  return hh + '/' + mm + '/' + yy\n",
        "\n",
        "normal_date = [convert_date(hoax_dates[i]) for i in range(len(hoax_dates))]\n",
        "\n",
        "# display preview of the action above\n",
        "print(*normal_date[:5], sep='\\n')\n",
        "print('...')\n",
        "print(*normal_date[-5:], sep='\\n')"
      ],
      "metadata": {
        "id": "TF7IMBh89gdD",
        "colab": {
          "base_uri": "https://localhost:8080/"
        },
        "outputId": "e6113d3e-4f5a-429d-dd61-c030f184daf6"
      },
      "execution_count": null,
      "outputs": [
        {
          "output_type": "stream",
          "name": "stdout",
          "text": [
            "21/12/2022\n",
            "20/12/2022\n",
            "20/12/2022\n",
            "20/12/2022\n",
            "20/12/2022\n",
            "...\n",
            "04/07/2018\n",
            "26/06/2018\n",
            "11/06/2018\n",
            "11/06/2018\n",
            "03/01/2017\n",
            "time: 15.4 ms (started: 2022-12-21 11:56:40 +00:00)\n"
          ]
        }
      ]
    },
    {
      "cell_type": "code",
      "source": [
        "# convert category to be clean, because it must be so dirty before\n",
        "\n",
        "normal_category = []\n",
        "for i in range(len(hoax_categories)):\n",
        "  hoax_categories[i] = hoax_categories[i].lower()\n",
        "  hoax_categories[i] = hoax_categories[i].replace('\\n', ' ')\n",
        "  if 'imposter' in hoax_categories[i] or 'tiruan' in hoax_categories[i]:\n",
        "    normal_category.append('Konten Tiruan')\n",
        "  elif 'manipulated' in hoax_categories[i] or 'manipulasi' in hoax_categories[i] or 'dimanpulasi' in hoax_categories[i]:\n",
        "    normal_category.append('Konten Yang Dimanipulasi')\n",
        "  elif 'fabricated' in hoax_categories[i] or 'palsu' in hoax_categories[i]:\n",
        "    normal_category.append('Konten Palsu')\n",
        "  elif 'false context' in hoax_categories[i] or 'konteks yang salah' in hoax_categories[i] or 'konten yang salah' in hoax_categories[i] or 'konten salah' in hoax_categories[i]:\n",
        "    normal_category.append('Konten Yang Salah')\n",
        "  elif 'misleading' in hoax_categories[i] or 'menyesatkan' in hoax_categories[i] or 'menyesakan' in hoax_categories[i]:\n",
        "    normal_category.append('Konten Yang Menyesatkan')\n",
        "  elif 'satir' in hoax_categories[i] or 'parodi' in hoax_categories[i]:\n",
        "    normal_category.append('Satire/Parodi')\n",
        "  else:\n",
        "    normal_category.append('Koneksi Yang Salah')\n",
        "  \n",
        "\n",
        "# display preview of the action above\n",
        "print(*normal_category[:5], sep='\\n')\n",
        "print('...')\n",
        "print(*normal_category[-5:], sep='\\n')"
      ],
      "metadata": {
        "id": "yTtWPIT099eJ",
        "colab": {
          "base_uri": "https://localhost:8080/"
        },
        "outputId": "54c2cae3-2dc2-47d6-c639-7f3a2ceb02a2"
      },
      "execution_count": null,
      "outputs": [
        {
          "output_type": "stream",
          "name": "stdout",
          "text": [
            "Konten Yang Salah\n",
            "Konten Yang Menyesatkan\n",
            "Konten Yang Salah\n",
            "Konten Yang Menyesatkan\n",
            "Konten Yang Salah\n",
            "...\n",
            "Konten Yang Menyesatkan\n",
            "Konten Yang Menyesatkan\n",
            "Satire/Parodi\n",
            "Konten Yang Menyesatkan\n",
            "Satire/Parodi\n",
            "time: 25.4 ms (started: 2022-12-21 11:56:40 +00:00)\n"
          ]
        }
      ]
    },
    {
      "cell_type": "code",
      "source": [
        "# finally remove data that the narrative length less than 4 and the title length less than 2\n",
        "\n",
        "fix_title = []\n",
        "fix_narrative = []\n",
        "fix_date = []\n",
        "fix_category = []\n",
        "\n",
        "for i in range(len(temp_nar)):\n",
        "  if len(temp_nar[i].split()) >= 4 and len(normal_title[i].split()) > 1:\n",
        "    fix_title.append(normal_title[i])\n",
        "    fix_narrative.append(temp_nar[i])\n",
        "    fix_date.append(normal_date[i])\n",
        "    fix_category.append(normal_category[i])"
      ],
      "metadata": {
        "id": "dCUZQhb--pQU",
        "colab": {
          "base_uri": "https://localhost:8080/"
        },
        "outputId": "6a60ba4c-df79-4661-bea8-94444a2095db"
      },
      "execution_count": null,
      "outputs": [
        {
          "output_type": "stream",
          "name": "stdout",
          "text": [
            "time: 26.4 ms (started: 2022-12-21 11:56:40 +00:00)\n"
          ]
        }
      ]
    },
    {
      "cell_type": "code",
      "source": [
        "print(len(fix_title), len(fix_narrative), len(fix_date), len(fix_category))"
      ],
      "metadata": {
        "id": "4fSmKgMeC0W5",
        "colab": {
          "base_uri": "https://localhost:8080/"
        },
        "outputId": "aa2a5f41-d1e7-4e80-e066-e1f7a9c714c2"
      },
      "execution_count": null,
      "outputs": [
        {
          "output_type": "stream",
          "name": "stdout",
          "text": [
            "5850 5850 5850 5850\n",
            "time: 2.34 ms (started: 2022-12-21 11:56:40 +00:00)\n"
          ]
        }
      ]
    },
    {
      "cell_type": "code",
      "source": [
        "# verify if there is any data with None type\n",
        "\n",
        "nonar = [i for i in fix_narrative if i == None]\n",
        "print(len(nonar))"
      ],
      "metadata": {
        "id": "v_-ddW7XhwzL",
        "colab": {
          "base_uri": "https://localhost:8080/"
        },
        "outputId": "0c5440b4-e6e6-402c-dd8d-8bb4e06d8951"
      },
      "execution_count": null,
      "outputs": [
        {
          "output_type": "stream",
          "name": "stdout",
          "text": [
            "0\n",
            "time: 3.34 ms (started: 2022-12-21 11:56:40 +00:00)\n"
          ]
        }
      ]
    },
    {
      "cell_type": "markdown",
      "source": [
        "# **Valid News Scraping Part**\n",
        "\n",
        "I use each news category in [detik](https://detik.com) to get valid data. That is :\n",
        "\n",
        "\n",
        "1.   detik edu: [detik edu](https://www.detik.com/edu/indeks) 2.8%\n",
        "2.   detik finance: [detik finance](https://finance.detik.com/indeks) 2.8%\n",
        "3.   detik inet: [detik inet](https://inet.detik.com/indeks) 2.8%\n",
        "4.   detik hot: [detik hot](https://hot.detik.com/indeks) 2.8%\n",
        "5.   detik sport: [detik sport](https://sport.detik.com/indeks) 2.8%\n",
        "6.   detik oto: [detik oto](https://oto.detik.com/indeks) 2.8%\n",
        "7.   detik travel: [detik travel](https://travel.detik.com/indeks) 2.8%\n",
        "8.   detik food: [detik food](https://food.detik.com/indeks) 2.8%\n",
        "9.   detik health: [detik health](https://health.detik.com/indeks) 35.8%\n",
        "10.  detik tag politik: [detik politik](https://www.detik.com/tag/politik) 20%\n",
        "11.  detik tag bencana: [detik bencana](https://www.detik.com/tag/bencana-alam) 15.1% (recently there have been many disasters in Indonesia, so I increased the quota of 1.1% for this category)\n",
        "12.  detik tag agama: [detik agama](https://www.detik.com/tag/agama) 6.7%\n",
        "\n",
        "For each category, I scraped 60 pages. The percentage indicate the number of data that will be scraped. Because, based on the research of Judita and Darmawan (2020), the map of fake news by theme is like this :\n",
        "\n",
        "![image.png](https://drive.google.com/u/0/uc?id=1gclSk574y6GcfZrK1IgzEfUn7YEbMbPB&export=download)"
      ],
      "metadata": {
        "id": "xudtT23QYpqE"
      }
    },
    {
      "cell_type": "code",
      "source": [
        "true_urls = get_urls('https://detik.com/edu/indeks/', ceil((2.8/100)*400))\n",
        "tag_urls = get_urls('https://www.detik.com/tag/politik/?sortby=time&page=', ceil((20/100)*400*2))\n",
        "\n",
        "kesehatan = get_urls('https://health.detik.com/indeks/', ceil((35.8/100)*400))\n",
        "bencana = get_urls('https://www.detik.com/tag/bencana-alam/?sortby=time&page=', ceil((15.1/100)*400*2))\n",
        "agama = get_urls('https://www.detik.com/tag/agama/?sortby=time&page=', ceil((6.7/100)*400*2))\n",
        "\n",
        "urls_cat = ['finance', 'inet', 'hot', 'sport', 'oto', 'travel', 'food']\n",
        "for i in range(len(urls_cat)):\n",
        "  tmp_urls = get_urls(f'https://{urls_cat[i]}.detik.com/indeks/', ceil((2.8/100)*400))\n",
        "  for i in tmp_urls: true_urls.append(i)\n",
        "\n",
        "for i in kesehatan: true_urls.append(i)\n",
        "for i in bencana: tag_urls.append(i)\n",
        "for i in agama: tag_urls.append(i)\n",
        "\n",
        "true_res = get_data(true_urls)\n",
        "print('-------------------------')\n",
        "tag_res = get_data(tag_urls)"
      ],
      "metadata": {
        "id": "VMCqL-3rlBTO",
        "colab": {
          "base_uri": "https://localhost:8080/"
        },
        "outputId": "d4545a72-9fad-4563-c642-ddb87b2fc02c"
      },
      "execution_count": null,
      "outputs": [
        {
          "output_type": "stream",
          "name": "stdout",
          "text": [
            "Processed Part: 1 - 48\n",
            "Processed Part: 49 - 96\n",
            "Processed Part: 97 - 144\n",
            "Processed Part: 145 - 192\n",
            "Processed Part: 193 - 240\n",
            "-------------------------\n",
            "Processed Part: 1 - 48\n",
            "Processed Part: 49 - 96\n",
            "Processed Part: 97 - 144\n",
            "Processed Part: 145 - 192\n",
            "Processed Part: 193 - 240\n",
            "Processed Part: 241 - 288\n",
            "Processed Part: 289 - 335\n",
            "time: 1min 27s (started: 2022-12-21 12:59:59 +00:00)\n"
          ]
        }
      ]
    },
    {
      "cell_type": "markdown",
      "source": [
        "The flow same as hoax data scraping, but less in data cleaning and the scraping process is per category"
      ],
      "metadata": {
        "id": "vLZlj1hTYpwo"
      }
    },
    {
      "cell_type": "code",
      "execution_count": null,
      "metadata": {
        "id": "eOJL0l0PIzr6",
        "colab": {
          "base_uri": "https://localhost:8080/"
        },
        "outputId": "8c7359e5-e8f1-4b6c-f554-9842a6aee1a1"
      },
      "outputs": [
        {
          "output_type": "stream",
          "name": "stdout",
          "text": [
            "Number of fetched data: 6645\n",
            "time: 26.9 s (started: 2022-12-21 13:01:27 +00:00)\n"
          ]
        }
      ],
      "source": [
        "true_links = []\n",
        "true_titles = []\n",
        "true_categories = []\n",
        "\n",
        "for r in true_res:\n",
        "  sp = bs(r.content, 'html.parser')\n",
        "  data = sp.find_all('div', {'class': 'media__text'}) # this is the tag and the class that contain link and title of index link\n",
        "  for i in data:\n",
        "    if not i.find('h2'):\n",
        "      link = i.find('a')['href']\n",
        "      title = i.find('a').text\n",
        "      true_links.append(link)\n",
        "      true_titles.append(title)\n",
        "      true_categories.append('Valid')\n",
        "\n",
        "for r in tag_res:\n",
        "  sp = bs(r.content, 'html.parser')\n",
        "  data = sp.find_all('article') # this is the tag that contain link and title of tag link\n",
        "  for i in data:\n",
        "    link = i.find('a')['href']\n",
        "    title = i.find('h2').text\n",
        "    true_links.append(link)\n",
        "    true_titles.append(title)\n",
        "    true_categories.append('Valid')\n",
        "      \n",
        "\n",
        "# calculate the number of article that has fetched successfully\n",
        "print(f'Number of fetched data: {len(true_links)}')"
      ]
    },
    {
      "cell_type": "code",
      "execution_count": null,
      "metadata": {
        "id": "n4OGOc0vIzr7"
      },
      "outputs": [],
      "source": [
        "true_content = get_data(true_links)"
      ]
    },
    {
      "cell_type": "code",
      "execution_count": null,
      "metadata": {
        "id": "4ca_qhFgIzr7",
        "colab": {
          "base_uri": "https://localhost:8080/"
        },
        "outputId": "00e377ac-50d0-4ddd-ce45-b67dbfb77f51"
      },
      "outputs": [
        {
          "output_type": "stream",
          "name": "stdout",
          "text": [
            "time: 7min 36s (started: 2022-12-21 13:20:15 +00:00)\n"
          ]
        }
      ],
      "source": [
        "true_narratives = []\n",
        "true_dates = []\n",
        "\n",
        "for i in true_content:\n",
        "  sp = bs(i.content, 'html.parser')\n",
        "  data = sp.find_all('article', {'class': 'detail'})\n",
        "  try:\n",
        "    narrative = ' '.join([k.text for k in [j.find_all('p')[:4] for j in data][0]]) # here, I use first four paragraph of each article as narrative data\n",
        "    date = [j.find('div', {'class': 'detail__date'}) for j in data][0].text\n",
        "  except:\n",
        "    try:\n",
        "      narrative = ' '.join([k.text for k in [j.find_all('p')[:3] for j in data][0]]) # but if the article is too short, I just use first three paragraph\n",
        "      date = [j.find('div', {'class': 'detail__date'}) for j in data][0].text\n",
        "    except: pass # and if the narrative is less than 3 paragraph, then I pass the article\n",
        "  true_narratives.append(narrative)\n",
        "  true_dates.append(date)"
      ]
    },
    {
      "cell_type": "code",
      "execution_count": null,
      "metadata": {
        "id": "RhSTHU6CIzr8",
        "colab": {
          "base_uri": "https://localhost:8080/"
        },
        "outputId": "4788813b-3852-4164-a3bd-e3cbe8f91709"
      },
      "outputs": [
        {
          "output_type": "stream",
          "name": "stdout",
          "text": [
            "['Rabu, 21 Des 2022 16:33 WIB', 'Rabu, 21 Des 2022 16:13 WIB', 'Rabu, 21 Des 2022 16:00 WIB', 'Rabu, 21 Des 2022 15:54 WIB', 'Rabu, 21 Des 2022 15:38 WIB']\n",
            "time: 735 µs (started: 2022-12-21 13:27:51 +00:00)\n"
          ]
        }
      ],
      "source": [
        "print(true_dates[-5:])"
      ]
    },
    {
      "cell_type": "code",
      "source": [
        "for i in range(len(true_narratives)):\n",
        "  true_narratives[i] = clean_text(true_narratives[i])\n",
        "  true_narratives[i] = \" \".join(w for w in true_narratives[i].split() if not any(c.isdigit() for c in w))\n",
        "  true_titles[i] = clean_text(true_titles[i])\n",
        "  true_titles[i] = \" \".join(w for w in true_titles[i].split() if not any(c.isdigit() for c in w))\n",
        "\n",
        "print(true_narratives[:5])"
      ],
      "metadata": {
        "id": "x2WjaV0uIzr8",
        "colab": {
          "base_uri": "https://localhost:8080/"
        },
        "outputId": "f6a5aa58-06da-4143-ec89-0ad0bf0759c0"
      },
      "execution_count": null,
      "outputs": [
        {
          "output_type": "stream",
          "name": "stdout",
          "text": [
            "['kondisi ekonomi bukan menjadi penghalang berarti bagi lutfian untuk meraih pendidikan setinggi tinggi lulusan fakultas keperawatan universitas jember unej tersebut membuktikan dengan berhasil lolos beasiswa lembaga pengelola dana pendidikan lpdp ke luar negeri semangat juang dari diri lutfian tumbuh dari cerminan perjuangan kedua orang tuanya yang bekerja sebagai tki di malaysia fian sapaan akrabnya mengungkapkan bahwa seseorang yang sangat berperan penting dalam hidup adalah ibunya ibu sangat mendukung apapun yang saya lakukan dan beliau adalah motivator terhebat saat saya merasa tidak percaya diri ucapnya dikutip dari laman resmi unej rabu', 'setiap makhluk hidup memiliki keunikannya masing masing termasuk tawon ini yang pakai alat genitalnya untuk kabur dari serangan predator tawon adalah salah satu jenis serangga yang memiliki warna mencolok dengan keahlian menyengat namun satu fakta menyebutkan hanya tawon betina yang bisa menyengat dan menyengat predator dengan racunnya racun tawon bisa melindunginya dari para pemangsa sedangkan bagi manusia yang memiliki alergi racun tawon bisa berakibat fatal karena hanya tawon betina yang dapat menyengat kebanyakan tawon jantan tidak memiliki keahlian khusus dan tak berdaya bila mendapat serangan predator', 'ada banyak tempat dan bangunan bekas uni soviet yang ditelantarkan sejak negara ini pertama kali berdiri pada tahun lalu tepatnya pada desember salah satunya yakni bangunan bangunan di chernobyl yang mengalami bencana nuklir besar bencana chernobyl menimbulkan korban jiwa dan korban hidup karena radiasi dan kontaminasi jutaan are hutan permukiman kota dan area ladang terkontaminasi termasuk hewan ternak akibatnya penduduk harus meninggalkan chernobyl agar tidak mengalami dampak radiasi nuklir lebih lanjut seperti dikutip dari encyclopaedia britannica di samping chernobyl ada sejumlah bangunan yang juga ditinggalkan di uni soviet terutama saat runtuh pada desember berikut di antaranya desa gamsutl dagestan adalah kota hantu di distrik gunibsky dagestan rusia yang berdiri di gunung gamsutlmeer mdpl gamsutl berasal dari bahasa orang avar yang berarti di kaki benteng kahn', 'hari ibu di indonesia diperingati setiap tanggal desember berbeda di tiap negara peringatan hari ibu di indonesia juga dilatarbelakangi oleh sebuah peristiwa penting apa itu hari ibu di indonesia bermula dari kongres perempuan indonesia pertama kali pada tanggal desember hal ini bertujuan untuk menyatukan perkumpulan perempuan perempuan indonesia dalam satu wadah jadi landasan hari ibu di indonesia adalah kongres perempuan indonesia sebagai bentuk bangkitnya perjuangan perempuan indonesia karena seperti diketahui tokoh tokoh perempuan tak lepas dari kemerdekaan bangsa kita seperti tjuk njak dien di aceh nyi ageng serang di jawa barat r a kartini di jawa tengah dan masih banyak lagi bagaimana sejarah lengkap kongres perempuan indonesia hingga ditetapkannya hari ibu ini sejarahnya', 'bagi mahasiswa semester akhir dan fresh graduate yang tertarik melaksanakan magang unilever tengah membuka pendaftaran ulip unilever leadership internship programme merupakan program magang yang dirancang untuk mempersiapkan para talenta unilever masa depan melalui proyek proyek yang menantang kegiatan magang akan berjalan selama bulan pendaftaran ulip telah dibuka sejak desember dan akan ditutup pada januari mendatang sebagai informasi unilever indonesia merupakan salah satu perusahaan fast moving consumer goods fmcg terkemuka di indonesia saat ini unilever berkantor pusat di tangerang dan memiliki lebih dari brand dan juga pabrik']\n",
            "time: 5.94 s (started: 2022-12-21 13:27:51 +00:00)\n"
          ]
        }
      ]
    },
    {
      "cell_type": "code",
      "source": [
        "# convert date to hh/mm/yyyy format\n",
        "\n",
        "for i in range(len(true_dates)):\n",
        "  date = true_dates[i].split(', ')[1][:11].replace(' ', '/')\n",
        "\n",
        "  def replace_month(month, idx):\n",
        "    if month in date: true_dates[i] = date.replace(month, idx)\n",
        "  \n",
        "  replace_month('Jan', '01')\n",
        "  replace_month('Feb', '02')\n",
        "  replace_month('Mar', '03')\n",
        "  replace_month('Apr', '04')\n",
        "  replace_month('Mei', '05')\n",
        "  replace_month('Jun', '06')\n",
        "  replace_month('Jul', '07')\n",
        "  replace_month('Agu', '08')\n",
        "  replace_month('Sep', '09')\n",
        "  replace_month('Okt', '10')\n",
        "  replace_month('Nov', '11')\n",
        "  replace_month('Des', '12')"
      ],
      "metadata": {
        "id": "5ReutLInbZ52",
        "colab": {
          "base_uri": "https://localhost:8080/"
        },
        "outputId": "7c100136-95d8-4d2a-d2aa-ea2c3f1d7a58"
      },
      "execution_count": null,
      "outputs": [
        {
          "output_type": "stream",
          "name": "stdout",
          "text": [
            "time: 17.6 ms (started: 2022-12-21 13:27:57 +00:00)\n"
          ]
        }
      ]
    },
    {
      "cell_type": "code",
      "source": [
        "print(true_dates[:1000])"
      ],
      "metadata": {
        "id": "zl3RJ-ZJf8zP",
        "colab": {
          "base_uri": "https://localhost:8080/"
        },
        "outputId": "4adddffb-54ee-47ae-ae8a-dd98be427b35"
      },
      "execution_count": null,
      "outputs": [
        {
          "output_type": "stream",
          "name": "stdout",
          "text": [
            "['21/12/2022', '21/12/2022', '21/12/2022', '21/12/2022', '21/12/2022', '21/12/2022', '21/12/2022', '21/12/2022', '21/12/2022', '21/12/2022', '21/12/2022', '21/12/2022', '21/12/2022', '21/12/2022', '21/12/2022', '21/12/2022', '21/12/2022', '21/12/2022', '21/12/2022', '21/12/2022', '21/12/2022', '21/12/2022', '21/12/2022', '21/12/2022', '21/12/2022', '21/12/2022', '21/12/2022', '21/12/2022', '21/12/2022', '20/12/2022', '20/12/2022', '20/12/2022', '20/12/2022', '20/12/2022', '20/12/2022', '20/12/2022', '20/12/2022', '20/12/2022', '20/12/2022', '20/12/2022', '20/12/2022', '20/12/2022', '20/12/2022', '20/12/2022', '20/12/2022', '20/12/2022', '20/12/2022', '20/12/2022', '20/12/2022', '20/12/2022', '20/12/2022', '20/12/2022', '20/12/2022', '20/12/2022', '20/12/2022', '20/12/2022', '20/12/2022', '20/12/2022', '20/12/2022', '19/12/2022', '19/12/2022', '19/12/2022', '19/12/2022', '19/12/2022', '19/12/2022', '19/12/2022', '19/12/2022', '19/12/2022', '19/12/2022', '19/12/2022', '19/12/2022', '19/12/2022', '19/12/2022', '19/12/2022', '19/12/2022', '19/12/2022', '19/12/2022', '19/12/2022', '19/12/2022', '19/12/2022', '19/12/2022', '19/12/2022', '19/12/2022', '19/12/2022', '19/12/2022', '19/12/2022', '19/12/2022', '19/12/2022', '18/12/2022', '18/12/2022', '18/12/2022', '18/12/2022', '18/12/2022', '18/12/2022', '18/12/2022', '18/12/2022', '18/12/2022', '18/12/2022', '18/12/2022', '18/12/2022', '18/12/2022', '18/12/2022', '17/12/2022', '17/12/2022', '17/12/2022', '17/12/2022', '17/12/2022', '17/12/2022', '17/12/2022', '17/12/2022', '17/12/2022', '17/12/2022', '17/12/2022', '17/12/2022', '17/12/2022', '17/12/2022', '17/12/2022', '16/12/2022', '16/12/2022', '16/12/2022', '16/12/2022', '16/12/2022', '16/12/2022', '16/12/2022', '16/12/2022', '16/12/2022', '16/12/2022', '16/12/2022', '16/12/2022', '16/12/2022', '16/12/2022', '16/12/2022', '16/12/2022', '16/12/2022', '16/12/2022', '16/12/2022', '16/12/2022', '16/12/2022', '16/12/2022', '16/12/2022', '16/12/2022', '16/12/2022', '16/12/2022', '16/12/2022', '16/12/2022', '16/12/2022', '16/12/2022', '16/12/2022', '16/12/2022', '15/12/2022', '15/12/2022', '15/12/2022', '15/12/2022', '15/12/2022', '15/12/2022', '15/12/2022', '15/12/2022', '15/12/2022', '15/12/2022', '15/12/2022', '15/12/2022', '15/12/2022', '15/12/2022', '15/12/2022', '15/12/2022', '15/12/2022', '15/12/2022', '15/12/2022', '15/12/2022', '15/12/2022', '15/12/2022', '15/12/2022', '15/12/2022', '15/12/2022', '15/12/2022', '15/12/2022', '15/12/2022', '14/12/2022', '14/12/2022', '14/12/2022', '14/12/2022', '14/12/2022', '14/12/2022', '14/12/2022', '14/12/2022', '14/12/2022', '14/12/2022', '14/12/2022', '14/12/2022', '14/12/2022', '14/12/2022', '14/12/2022', '14/12/2022', '14/12/2022', '14/12/2022', '14/12/2022', '14/12/2022', '14/12/2022', '14/12/2022', '14/12/2022', '14/12/2022', '14/12/2022', '14/12/2022', '14/12/2022', '14/12/2022', '14/12/2022', '14/12/2022', '14/12/2022', '14/12/2022', '14/12/2022', '13/12/2022', '13/12/2022', '13/12/2022', '13/12/2022', '13/12/2022', '13/12/2022', '13/12/2022', '13/12/2022', '21/12/2022', '21/12/2022', '21/12/2022', '21/12/2022', '21/12/2022', '21/12/2022', '21/12/2022', '21/12/2022', '21/12/2022', '21/12/2022', '21/12/2022', '21/12/2022', '21/12/2022', '21/12/2022', '21/12/2022', '21/12/2022', '21/12/2022', '21/12/2022', '21/12/2022', '21/12/2022', '21/12/2022', '21/12/2022', '21/12/2022', '21/12/2022', '21/12/2022', '21/12/2022', '21/12/2022', '21/12/2022', '21/12/2022', '21/12/2022', '21/12/2022', '21/12/2022', '21/12/2022', '21/12/2022', '21/12/2022', '21/12/2022', '21/12/2022', '21/12/2022', '21/12/2022', '21/12/2022', '21/12/2022', '21/12/2022', '21/12/2022', '21/12/2022', '21/12/2022', '21/12/2022', '21/12/2022', '21/12/2022', '21/12/2022', '21/12/2022', '21/12/2022', '21/12/2022', '21/12/2022', '21/12/2022', '21/12/2022', '21/12/2022', '21/12/2022', '21/12/2022', '21/12/2022', '21/12/2022', '21/12/2022', '21/12/2022', '21/12/2022', '21/12/2022', '21/12/2022', '21/12/2022', '21/12/2022', '21/12/2022', '21/12/2022', '21/12/2022', '21/12/2022', '21/12/2022', '21/12/2022', '21/12/2022', '21/12/2022', '21/12/2022', '21/12/2022', '21/12/2022', '21/12/2022', '21/12/2022', '21/12/2022', '21/12/2022', '21/12/2022', '21/12/2022', '21/12/2022', '21/12/2022', '21/12/2022', '21/12/2022', '21/12/2022', '21/12/2022', '21/12/2022', '21/12/2022', '21/12/2022', '21/12/2022', '21/12/2022', '21/12/2022', '20/12/2022', '20/12/2022', '20/12/2022', '20/12/2022', '20/12/2022', '20/12/2022', '20/12/2022', '20/12/2022', '20/12/2022', '20/12/2022', '20/12/2022', '20/12/2022', '20/12/2022', '20/12/2022', '20/12/2022', '20/12/2022', '20/12/2022', '20/12/2022', '20/12/2022', '20/12/2022', '20/12/2022', '20/12/2022', '20/12/2022', '20/12/2022', '20/12/2022', '20/12/2022', '20/12/2022', '20/12/2022', '20/12/2022', '20/12/2022', '20/12/2022', '20/12/2022', '20/12/2022', '20/12/2022', '20/12/2022', '20/12/2022', '20/12/2022', '20/12/2022', '20/12/2022', '20/12/2022', '20/12/2022', '20/12/2022', '20/12/2022', '20/12/2022', '20/12/2022', '20/12/2022', '20/12/2022', '20/12/2022', '20/12/2022', '20/12/2022', '20/12/2022', '20/12/2022', '20/12/2022', '20/12/2022', '20/12/2022', '20/12/2022', '20/12/2022', '20/12/2022', '20/12/2022', '20/12/2022', '20/12/2022', '20/12/2022', '20/12/2022', '20/12/2022', '20/12/2022', '20/12/2022', '20/12/2022', '20/12/2022', '20/12/2022', '20/12/2022', '20/12/2022', '20/12/2022', '20/12/2022', '20/12/2022', '20/12/2022', '20/12/2022', '20/12/2022', '20/12/2022', '20/12/2022', '20/12/2022', '20/12/2022', '20/12/2022', '20/12/2022', '20/12/2022', '20/12/2022', '20/12/2022', '20/12/2022', '20/12/2022', '20/12/2022', '20/12/2022', '20/12/2022', '20/12/2022', '20/12/2022', '20/12/2022', '20/12/2022', '20/12/2022', '20/12/2022', '20/12/2022', '20/12/2022', '19/12/2022', '21/12/2022', '21/12/2022', '21/12/2022', '21/12/2022', '21/12/2022', '21/12/2022', '21/12/2022', '21/12/2022', '21/12/2022', '21/12/2022', '21/12/2022', '21/12/2022', '21/12/2022', '21/12/2022', '21/12/2022', '21/12/2022', '21/12/2022', '21/12/2022', '21/12/2022', '21/12/2022', '21/12/2022', '21/12/2022', '21/12/2022', '21/12/2022', '21/12/2022', '21/12/2022', '20/12/2022', '20/12/2022', '20/12/2022', '20/12/2022', '20/12/2022', '20/12/2022', '20/12/2022', '20/12/2022', '20/12/2022', '20/12/2022', '20/12/2022', '20/12/2022', '20/12/2022', '20/12/2022', '20/12/2022', '20/12/2022', '20/12/2022', '20/12/2022', '20/12/2022', '20/12/2022', '20/12/2022', '20/12/2022', '20/12/2022', '20/12/2022', '20/12/2022', '20/12/2022', '20/12/2022', '20/12/2022', '20/12/2022', '19/12/2022', '19/12/2022', '19/12/2022', '19/12/2022', '19/12/2022', '19/12/2022', '19/12/2022', '19/12/2022', '19/12/2022', '19/12/2022', '19/12/2022', '19/12/2022', '19/12/2022', '19/12/2022', '19/12/2022', '19/12/2022', '19/12/2022', '19/12/2022', '19/12/2022', '19/12/2022', '19/12/2022', '19/12/2022', '19/12/2022', '19/12/2022', '19/12/2022', '19/12/2022', '19/12/2022', '19/12/2022', '19/12/2022', '19/12/2022', '19/12/2022', '19/12/2022', '19/12/2022', '18/12/2022', '18/12/2022', '18/12/2022', '18/12/2022', '18/12/2022', '18/12/2022', '18/12/2022', '18/12/2022', '18/12/2022', '18/12/2022', '18/12/2022', '18/12/2022', '18/12/2022', '18/12/2022', '18/12/2022', '18/12/2022', '18/12/2022', '18/12/2022', '18/12/2022', '18/12/2022', '18/12/2022', '18/12/2022', '17/12/2022', '17/12/2022', '17/12/2022', '17/12/2022', '17/12/2022', '17/12/2022', '17/12/2022', '17/12/2022', '17/12/2022', '17/12/2022', '17/12/2022', '17/12/2022', '17/12/2022', '17/12/2022', '17/12/2022', '17/12/2022', '17/12/2022', '17/12/2022', '17/12/2022', '17/12/2022', '17/12/2022', '17/12/2022', '17/12/2022', '17/12/2022', '16/12/2022', '16/12/2022', '16/12/2022', '16/12/2022', '16/12/2022', '16/12/2022', '16/12/2022', '16/12/2022', '16/12/2022', '16/12/2022', '16/12/2022', '16/12/2022', '16/12/2022', '16/12/2022', '16/12/2022', '16/12/2022', '16/12/2022', '16/12/2022', '16/12/2022', '16/12/2022', '16/12/2022', '16/12/2022', '16/12/2022', '16/12/2022', '16/12/2022', '16/12/2022', '16/12/2022', '16/12/2022', '16/12/2022', '16/12/2022', '16/12/2022', '16/12/2022', '16/12/2022', '16/12/2022', '15/12/2022', '15/12/2022', '21/12/2022', '21/12/2022', '21/12/2022', '21/12/2022', '21/12/2022', '21/12/2022', '21/12/2022', '21/12/2022', '21/12/2022', '21/12/2022', '21/12/2022', '21/12/2022', '21/12/2022', '21/12/2022', '21/12/2022', '21/12/2022', '21/12/2022', '21/12/2022', '21/12/2022', '21/12/2022', '21/12/2022', '21/12/2022', '21/12/2022', '21/12/2022', '21/12/2022', '21/12/2022', '21/12/2022', '21/12/2022', '21/12/2022', '21/12/2022', '21/12/2022', '21/12/2022', '21/12/2022', '21/12/2022', '21/12/2022', '21/12/2022', '21/12/2022', '21/12/2022', '21/12/2022', '21/12/2022', '21/12/2022', '21/12/2022', '21/12/2022', '21/12/2022', '20/12/2022', '20/12/2022', '20/12/2022', '20/12/2022', '20/12/2022', '20/12/2022', '20/12/2022', '20/12/2022', '20/12/2022', '20/12/2022', '20/12/2022', '20/12/2022', '20/12/2022', '20/12/2022', '20/12/2022', '20/12/2022', '20/12/2022', '20/12/2022', '20/12/2022', '20/12/2022', '20/12/2022', '20/12/2022', '20/12/2022', '20/12/2022', '20/12/2022', '20/12/2022', '20/12/2022', '20/12/2022', '20/12/2022', '20/12/2022', '20/12/2022', '20/12/2022', '20/12/2022', '20/12/2022', '20/12/2022', '20/12/2022', '20/12/2022', '20/12/2022', '20/12/2022', '20/12/2022', '20/12/2022', '20/12/2022', '20/12/2022', '20/12/2022', '20/12/2022', '20/12/2022', '19/12/2022', '19/12/2022', '19/12/2022', '19/12/2022', '19/12/2022', '19/12/2022', '19/12/2022', '19/12/2022', '19/12/2022', '19/12/2022', '19/12/2022', '19/12/2022', '19/12/2022', '19/12/2022', '19/12/2022', '19/12/2022', '19/12/2022', '19/12/2022', '19/12/2022', '19/12/2022', '19/12/2022', '19/12/2022', '19/12/2022', '19/12/2022', '19/12/2022', '19/12/2022', '19/12/2022', '19/12/2022', '19/12/2022', '19/12/2022', '19/12/2022', '19/12/2022', '19/12/2022', '19/12/2022', '19/12/2022', '19/12/2022', '19/12/2022', '19/12/2022', '19/12/2022', '19/12/2022', '19/12/2022', '19/12/2022', '19/12/2022', '19/12/2022', '19/12/2022', '19/12/2022', '19/12/2022', '19/12/2022', '19/12/2022', '19/12/2022', '19/12/2022', '19/12/2022', '19/12/2022', '19/12/2022', '18/12/2022', '18/12/2022', '18/12/2022', '18/12/2022', '18/12/2022', '18/12/2022', '18/12/2022', '18/12/2022', '18/12/2022', '18/12/2022', '18/12/2022', '18/12/2022', '18/12/2022', '18/12/2022', '18/12/2022', '18/12/2022', '18/12/2022', '18/12/2022', '21/12/2022', '21/12/2022', '21/12/2022', '21/12/2022', '21/12/2022', '21/12/2022', '21/12/2022', '20/12/2022', '20/12/2022', '20/12/2022', '20/12/2022', '20/12/2022', '19/12/2022', '19/12/2022', '19/12/2022', '19/12/2022', '19/12/2022', '18/12/2022', '18/12/2022', '18/12/2022', '18/12/2022', '18/12/2022', '18/12/2022', '18/12/2022', '18/12/2022', '17/12/2022', '17/12/2022', '17/12/2022', '17/12/2022', '17/12/2022', '17/12/2022', '17/12/2022', '17/12/2022', '17/12/2022', '17/12/2022', '17/12/2022', '17/12/2022', '16/12/2022', '16/12/2022', '16/12/2022', '16/12/2022', '16/12/2022', '15/12/2022', '15/12/2022', '15/12/2022', '15/12/2022', '15/12/2022', '15/12/2022', '15/12/2022', '15/12/2022', '15/12/2022', '15/12/2022', '15/12/2022', '14/12/2022', '14/12/2022', '14/12/2022', '14/12/2022', '14/12/2022', '14/12/2022', '14/12/2022', '14/12/2022', '14/12/2022', '14/12/2022', '13/12/2022', '13/12/2022', '13/12/2022', '13/12/2022', '13/12/2022', '13/12/2022', '13/12/2022', '13/12/2022', '12/12/2022', '12/12/2022', '12/12/2022', '12/12/2022', '12/12/2022', '12/12/2022', '12/12/2022', '12/12/2022', '11/12/2022', '11/12/2022', '11/12/2022', '11/12/2022', '11/12/2022', '11/12/2022', '11/12/2022', '11/12/2022', '11/12/2022', '11/12/2022', '11/12/2022', '11/12/2022', '11/12/2022', '11/12/2022', '11/12/2022', '11/12/2022', '11/12/2022', '10/12/2022', '10/12/2022', '10/12/2022', '10/12/2022', '10/12/2022', '10/12/2022', '10/12/2022', '10/12/2022', '10/12/2022', '10/12/2022', '10/12/2022', '10/12/2022', '10/12/2022', '10/12/2022', '09/12/2022', '09/12/2022', '09/12/2022', '09/12/2022', '09/12/2022', '09/12/2022', '09/12/2022', '09/12/2022', '09/12/2022', '09/12/2022', '09/12/2022', '09/12/2022', '09/12/2022', '09/12/2022', '09/12/2022', '09/12/2022', '09/12/2022', '08/12/2022', '08/12/2022', '08/12/2022', '08/12/2022', '08/12/2022', '08/12/2022', '08/12/2022', '08/12/2022', '08/12/2022', '08/12/2022', '08/12/2022', '08/12/2022', '08/12/2022', '08/12/2022', '08/12/2022', '08/12/2022', '08/12/2022', '07/12/2022', '07/12/2022', '07/12/2022', '07/12/2022', '07/12/2022', '07/12/2022', '07/12/2022', '07/12/2022', '07/12/2022', '07/12/2022', '07/12/2022', '07/12/2022', '07/12/2022', '07/12/2022', '07/12/2022', '07/12/2022', '07/12/2022', '07/12/2022', '07/12/2022', '07/12/2022', '07/12/2022', '07/12/2022', '07/12/2022', '07/12/2022', '07/12/2022', '07/12/2022', '06/12/2022', '06/12/2022', '06/12/2022', '06/12/2022', '06/12/2022', '06/12/2022', '06/12/2022', '06/12/2022', '06/12/2022', '06/12/2022', '05/12/2022', '05/12/2022', '05/12/2022', '05/12/2022', '05/12/2022', '05/12/2022', '05/12/2022', '05/12/2022', '05/12/2022', '05/12/2022', '05/12/2022', '04/12/2022', '04/12/2022', '04/12/2022', '04/12/2022', '04/12/2022', '04/12/2022', '04/12/2022', '04/12/2022', '04/12/2022', '04/12/2022', '04/12/2022', '04/12/2022', '04/12/2022', '03/12/2022', '03/12/2022', '03/12/2022', '03/12/2022', '03/12/2022', '03/12/2022', '03/12/2022', '03/12/2022', '03/12/2022', '02/12/2022', '02/12/2022', '02/12/2022', '02/12/2022', '02/12/2022', '02/12/2022', '02/12/2022', '02/12/2022', '21/12/2022', '21/12/2022', '21/12/2022', '21/12/2022', '21/12/2022', '21/12/2022', '21/12/2022', '21/12/2022', '21/12/2022', '21/12/2022', '21/12/2022', '21/12/2022', '21/12/2022', '21/12/2022', '21/12/2022', '21/12/2022', '21/12/2022', '21/12/2022', '21/12/2022', '21/12/2022', '21/12/2022', '21/12/2022', '21/12/2022', '21/12/2022', '21/12/2022', '21/12/2022', '21/12/2022', '20/12/2022', '20/12/2022', '20/12/2022', '20/12/2022', '20/12/2022', '20/12/2022']\n",
            "time: 749 µs (started: 2022-12-21 13:27:57 +00:00)\n"
          ]
        }
      ]
    },
    {
      "cell_type": "code",
      "source": [
        "print(len(true_categories))\n",
        "print(len(true_titles))\n",
        "print(len(true_dates))\n",
        "print(len(true_narratives))"
      ],
      "metadata": {
        "id": "9GxwwzG6yxX-",
        "colab": {
          "base_uri": "https://localhost:8080/"
        },
        "outputId": "36c39d1b-b2e3-4ebe-ed13-ffea93a2ff73"
      },
      "execution_count": null,
      "outputs": [
        {
          "output_type": "stream",
          "name": "stdout",
          "text": [
            "6645\n",
            "6645\n",
            "6645\n",
            "6645\n",
            "time: 952 µs (started: 2022-12-21 13:27:57 +00:00)\n"
          ]
        }
      ]
    },
    {
      "cell_type": "markdown",
      "source": [
        "# **Merge All Together**\n",
        "\n",
        "Merge each class of hoax datas with each class of valid datas"
      ],
      "metadata": {
        "id": "3XwS5KJaZm14"
      }
    },
    {
      "cell_type": "code",
      "source": [
        "categories = fix_category + true_categories\n",
        "titles = fix_title + true_titles\n",
        "dates = fix_date + true_dates\n",
        "narratives = fix_narrative + true_narratives"
      ],
      "metadata": {
        "id": "knMZk-f4bIyF",
        "colab": {
          "base_uri": "https://localhost:8080/"
        },
        "outputId": "758b9b28-ba48-4277-a454-48bb7130baad"
      },
      "execution_count": null,
      "outputs": [
        {
          "output_type": "stream",
          "name": "stdout",
          "text": [
            "time: 2.75 ms (started: 2022-12-21 13:27:57 +00:00)\n"
          ]
        }
      ]
    },
    {
      "cell_type": "code",
      "source": [
        "print(len(categories))"
      ],
      "metadata": {
        "colab": {
          "base_uri": "https://localhost:8080/"
        },
        "id": "BhdGiOJWmBHn",
        "outputId": "ebe698fe-831e-469f-875b-d026e407a178"
      },
      "execution_count": null,
      "outputs": [
        {
          "output_type": "stream",
          "name": "stdout",
          "text": [
            "12495\n",
            "time: 818 µs (started: 2022-12-21 13:27:57 +00:00)\n"
          ]
        }
      ]
    },
    {
      "cell_type": "code",
      "source": [
        "data = {\"kategori\": categories, \"judul\": titles, \"tanggal\": dates, \"narasi\": narratives}"
      ],
      "metadata": {
        "colab": {
          "base_uri": "https://localhost:8080/"
        },
        "id": "K7k_i3T3DC73",
        "outputId": "9e066e1d-3d12-45be-febe-bb032085da0c"
      },
      "execution_count": null,
      "outputs": [
        {
          "output_type": "stream",
          "name": "stdout",
          "text": [
            "time: 712 µs (started: 2022-12-21 13:27:57 +00:00)\n"
          ]
        }
      ]
    },
    {
      "cell_type": "markdown",
      "source": [
        "# **Convert to Dataframe**\n",
        "\n",
        "Let's convert the dict to dataframe, so we can do deep cleaning easier, such as remove duplication and other."
      ],
      "metadata": {
        "id": "5TlZVc4baKNp"
      }
    },
    {
      "cell_type": "code",
      "source": [
        "df = pd.DataFrame.from_dict(data)"
      ],
      "metadata": {
        "colab": {
          "base_uri": "https://localhost:8080/"
        },
        "id": "nQuoKzZtDUbT",
        "outputId": "015f4080-4958-4ad5-f047-4187c8ce1c78"
      },
      "execution_count": null,
      "outputs": [
        {
          "output_type": "stream",
          "name": "stdout",
          "text": [
            "time: 5.08 ms (started: 2022-12-21 13:27:57 +00:00)\n"
          ]
        }
      ]
    },
    {
      "cell_type": "code",
      "source": [
        "df.narasi.duplicated(keep=\"first\").value_counts() # count duplicate row in dataset"
      ],
      "metadata": {
        "colab": {
          "base_uri": "https://localhost:8080/"
        },
        "id": "R5elye9cDaC_",
        "outputId": "26f988da-6126-4b4e-8730-f9b68b570743"
      },
      "execution_count": null,
      "outputs": [
        {
          "output_type": "execute_result",
          "data": {
            "text/plain": [
              "False    9949\n",
              "True     2546\n",
              "Name: narasi, dtype: int64"
            ]
          },
          "metadata": {},
          "execution_count": 106
        },
        {
          "output_type": "stream",
          "name": "stdout",
          "text": [
            "time: 14 ms (started: 2022-12-21 13:27:57 +00:00)\n"
          ]
        }
      ]
    },
    {
      "cell_type": "code",
      "source": [
        "df[df.judul.duplicated(keep=\"first\")] # show rows that has duplicate"
      ],
      "metadata": {
        "colab": {
          "base_uri": "https://localhost:8080/",
          "height": 442
        },
        "id": "GhqSloM9Dib6",
        "outputId": "afdec2ff-400d-4ece-f040-7e1312d4d423"
      },
      "execution_count": null,
      "outputs": [
        {
          "output_type": "execute_result",
          "data": {
            "text/plain": [
              "                      kategori  \\\n",
              "623               Konten Palsu   \n",
              "720               Konten Palsu   \n",
              "1015              Konten Palsu   \n",
              "1169   Konten Yang Menyesatkan   \n",
              "1299         Konten Yang Salah   \n",
              "...                        ...   \n",
              "12490                    Valid   \n",
              "12491                    Valid   \n",
              "12492                    Valid   \n",
              "12493                    Valid   \n",
              "12494                    Valid   \n",
              "\n",
              "                                                   judul     tanggal  \\\n",
              "623          link bantuan program keluarga harapan tahap  22/06/2022   \n",
              "720    innalillahi detik detik ular piton telan seora...  30/05/2022   \n",
              "1015                      gadis ular menggemparkan dunia  23/03/2022   \n",
              "1169   jus campuran nanas lobak dan kemiri dapat meny...  26/02/2022   \n",
              "1299   foto artikel pesantren alquran terbakar santri...  04/02/2022   \n",
              "...                                                  ...         ...   \n",
              "12490                      nadia mulya gugat cerai suami  21/12/2022   \n",
              "12491  kunjungi kampus muhammadiyah sorong zulhas puj...  21/12/2022   \n",
              "12492  khiyanah artinya berkhianat termasuk sifat yan...  21/12/2022   \n",
              "12493  jadwal misa natal gereja katedral jakarta cek ...  21/12/2022   \n",
              "12494  ada christmas carol ini rangkaian perayaan nat...  21/12/2022   \n",
              "\n",
              "                                                  narasi  \n",
              "623    telah dibuka pencairan bantuan program keluarg...  \n",
              "720    innalillahi detik detik ular piton telan seora...  \n",
              "1015                      gadis ular menggemparkan dunia  \n",
              "1169   untuk siapa saja yang kena asam urat boleh cob...  \n",
              "1299   foto artikel pesantren alquran terbakar santri...  \n",
              "...                                                  ...  \n",
              "12490  nadia mulya mengajukan gugatan cerai kepada su...  \n",
              "12491  menteri perdagangan zulkifli hasan melanjutkan...  \n",
              "12492  khiyanah termasuk salah satu akhlak tercela da...  \n",
              "12493  jadwal misa natal gereja katedral jakarta suda...  \n",
              "12494  pemprov dki jakarta menggelar rangkaian acara ...  \n",
              "\n",
              "[2478 rows x 4 columns]"
            ],
            "text/html": [
              "\n",
              "  <div id=\"df-e17b8db9-60cb-4277-8c7c-d4c1f5e95c5f\">\n",
              "    <div class=\"colab-df-container\">\n",
              "      <div>\n",
              "<style scoped>\n",
              "    .dataframe tbody tr th:only-of-type {\n",
              "        vertical-align: middle;\n",
              "    }\n",
              "\n",
              "    .dataframe tbody tr th {\n",
              "        vertical-align: top;\n",
              "    }\n",
              "\n",
              "    .dataframe thead th {\n",
              "        text-align: right;\n",
              "    }\n",
              "</style>\n",
              "<table border=\"1\" class=\"dataframe\">\n",
              "  <thead>\n",
              "    <tr style=\"text-align: right;\">\n",
              "      <th></th>\n",
              "      <th>kategori</th>\n",
              "      <th>judul</th>\n",
              "      <th>tanggal</th>\n",
              "      <th>narasi</th>\n",
              "    </tr>\n",
              "  </thead>\n",
              "  <tbody>\n",
              "    <tr>\n",
              "      <th>623</th>\n",
              "      <td>Konten Palsu</td>\n",
              "      <td>link bantuan program keluarga harapan tahap</td>\n",
              "      <td>22/06/2022</td>\n",
              "      <td>telah dibuka pencairan bantuan program keluarg...</td>\n",
              "    </tr>\n",
              "    <tr>\n",
              "      <th>720</th>\n",
              "      <td>Konten Palsu</td>\n",
              "      <td>innalillahi detik detik ular piton telan seora...</td>\n",
              "      <td>30/05/2022</td>\n",
              "      <td>innalillahi detik detik ular piton telan seora...</td>\n",
              "    </tr>\n",
              "    <tr>\n",
              "      <th>1015</th>\n",
              "      <td>Konten Palsu</td>\n",
              "      <td>gadis ular menggemparkan dunia</td>\n",
              "      <td>23/03/2022</td>\n",
              "      <td>gadis ular menggemparkan dunia</td>\n",
              "    </tr>\n",
              "    <tr>\n",
              "      <th>1169</th>\n",
              "      <td>Konten Yang Menyesatkan</td>\n",
              "      <td>jus campuran nanas lobak dan kemiri dapat meny...</td>\n",
              "      <td>26/02/2022</td>\n",
              "      <td>untuk siapa saja yang kena asam urat boleh cob...</td>\n",
              "    </tr>\n",
              "    <tr>\n",
              "      <th>1299</th>\n",
              "      <td>Konten Yang Salah</td>\n",
              "      <td>foto artikel pesantren alquran terbakar santri...</td>\n",
              "      <td>04/02/2022</td>\n",
              "      <td>foto artikel pesantren alquran terbakar santri...</td>\n",
              "    </tr>\n",
              "    <tr>\n",
              "      <th>...</th>\n",
              "      <td>...</td>\n",
              "      <td>...</td>\n",
              "      <td>...</td>\n",
              "      <td>...</td>\n",
              "    </tr>\n",
              "    <tr>\n",
              "      <th>12490</th>\n",
              "      <td>Valid</td>\n",
              "      <td>nadia mulya gugat cerai suami</td>\n",
              "      <td>21/12/2022</td>\n",
              "      <td>nadia mulya mengajukan gugatan cerai kepada su...</td>\n",
              "    </tr>\n",
              "    <tr>\n",
              "      <th>12491</th>\n",
              "      <td>Valid</td>\n",
              "      <td>kunjungi kampus muhammadiyah sorong zulhas puj...</td>\n",
              "      <td>21/12/2022</td>\n",
              "      <td>menteri perdagangan zulkifli hasan melanjutkan...</td>\n",
              "    </tr>\n",
              "    <tr>\n",
              "      <th>12492</th>\n",
              "      <td>Valid</td>\n",
              "      <td>khiyanah artinya berkhianat termasuk sifat yan...</td>\n",
              "      <td>21/12/2022</td>\n",
              "      <td>khiyanah termasuk salah satu akhlak tercela da...</td>\n",
              "    </tr>\n",
              "    <tr>\n",
              "      <th>12493</th>\n",
              "      <td>Valid</td>\n",
              "      <td>jadwal misa natal gereja katedral jakarta cek ...</td>\n",
              "      <td>21/12/2022</td>\n",
              "      <td>jadwal misa natal gereja katedral jakarta suda...</td>\n",
              "    </tr>\n",
              "    <tr>\n",
              "      <th>12494</th>\n",
              "      <td>Valid</td>\n",
              "      <td>ada christmas carol ini rangkaian perayaan nat...</td>\n",
              "      <td>21/12/2022</td>\n",
              "      <td>pemprov dki jakarta menggelar rangkaian acara ...</td>\n",
              "    </tr>\n",
              "  </tbody>\n",
              "</table>\n",
              "<p>2478 rows × 4 columns</p>\n",
              "</div>\n",
              "      <button class=\"colab-df-convert\" onclick=\"convertToInteractive('df-e17b8db9-60cb-4277-8c7c-d4c1f5e95c5f')\"\n",
              "              title=\"Convert this dataframe to an interactive table.\"\n",
              "              style=\"display:none;\">\n",
              "        \n",
              "  <svg xmlns=\"http://www.w3.org/2000/svg\" height=\"24px\"viewBox=\"0 0 24 24\"\n",
              "       width=\"24px\">\n",
              "    <path d=\"M0 0h24v24H0V0z\" fill=\"none\"/>\n",
              "    <path d=\"M18.56 5.44l.94 2.06.94-2.06 2.06-.94-2.06-.94-.94-2.06-.94 2.06-2.06.94zm-11 1L8.5 8.5l.94-2.06 2.06-.94-2.06-.94L8.5 2.5l-.94 2.06-2.06.94zm10 10l.94 2.06.94-2.06 2.06-.94-2.06-.94-.94-2.06-.94 2.06-2.06.94z\"/><path d=\"M17.41 7.96l-1.37-1.37c-.4-.4-.92-.59-1.43-.59-.52 0-1.04.2-1.43.59L10.3 9.45l-7.72 7.72c-.78.78-.78 2.05 0 2.83L4 21.41c.39.39.9.59 1.41.59.51 0 1.02-.2 1.41-.59l7.78-7.78 2.81-2.81c.8-.78.8-2.07 0-2.86zM5.41 20L4 18.59l7.72-7.72 1.47 1.35L5.41 20z\"/>\n",
              "  </svg>\n",
              "      </button>\n",
              "      \n",
              "  <style>\n",
              "    .colab-df-container {\n",
              "      display:flex;\n",
              "      flex-wrap:wrap;\n",
              "      gap: 12px;\n",
              "    }\n",
              "\n",
              "    .colab-df-convert {\n",
              "      background-color: #E8F0FE;\n",
              "      border: none;\n",
              "      border-radius: 50%;\n",
              "      cursor: pointer;\n",
              "      display: none;\n",
              "      fill: #1967D2;\n",
              "      height: 32px;\n",
              "      padding: 0 0 0 0;\n",
              "      width: 32px;\n",
              "    }\n",
              "\n",
              "    .colab-df-convert:hover {\n",
              "      background-color: #E2EBFA;\n",
              "      box-shadow: 0px 1px 2px rgba(60, 64, 67, 0.3), 0px 1px 3px 1px rgba(60, 64, 67, 0.15);\n",
              "      fill: #174EA6;\n",
              "    }\n",
              "\n",
              "    [theme=dark] .colab-df-convert {\n",
              "      background-color: #3B4455;\n",
              "      fill: #D2E3FC;\n",
              "    }\n",
              "\n",
              "    [theme=dark] .colab-df-convert:hover {\n",
              "      background-color: #434B5C;\n",
              "      box-shadow: 0px 1px 3px 1px rgba(0, 0, 0, 0.15);\n",
              "      filter: drop-shadow(0px 1px 2px rgba(0, 0, 0, 0.3));\n",
              "      fill: #FFFFFF;\n",
              "    }\n",
              "  </style>\n",
              "\n",
              "      <script>\n",
              "        const buttonEl =\n",
              "          document.querySelector('#df-e17b8db9-60cb-4277-8c7c-d4c1f5e95c5f button.colab-df-convert');\n",
              "        buttonEl.style.display =\n",
              "          google.colab.kernel.accessAllowed ? 'block' : 'none';\n",
              "\n",
              "        async function convertToInteractive(key) {\n",
              "          const element = document.querySelector('#df-e17b8db9-60cb-4277-8c7c-d4c1f5e95c5f');\n",
              "          const dataTable =\n",
              "            await google.colab.kernel.invokeFunction('convertToInteractive',\n",
              "                                                     [key], {});\n",
              "          if (!dataTable) return;\n",
              "\n",
              "          const docLinkHtml = 'Like what you see? Visit the ' +\n",
              "            '<a target=\"_blank\" href=https://colab.research.google.com/notebooks/data_table.ipynb>data table notebook</a>'\n",
              "            + ' to learn more about interactive tables.';\n",
              "          element.innerHTML = '';\n",
              "          dataTable['output_type'] = 'display_data';\n",
              "          await google.colab.output.renderOutput(dataTable, element);\n",
              "          const docLink = document.createElement('div');\n",
              "          docLink.innerHTML = docLinkHtml;\n",
              "          element.appendChild(docLink);\n",
              "        }\n",
              "      </script>\n",
              "    </div>\n",
              "  </div>\n",
              "  "
            ]
          },
          "metadata": {},
          "execution_count": 107
        },
        {
          "output_type": "stream",
          "name": "stdout",
          "text": [
            "time: 15.8 ms (started: 2022-12-21 13:27:57 +00:00)\n"
          ]
        }
      ]
    },
    {
      "cell_type": "code",
      "source": [
        "# remove duplicate rows but keep the first row\n",
        "\n",
        "df.drop_duplicates(subset=\"narasi\", keep=\"first\", inplace=True)\n",
        "df.drop_duplicates(subset=\"judul\", keep=\"first\", inplace=True)\n",
        "df.reset_index(drop=True, inplace=True)\n",
        "print(df.narasi.duplicated(keep=\"first\").value_counts())\n",
        "print('---------------------------')\n",
        "print(df.judul.duplicated(keep=\"first\").value_counts())"
      ],
      "metadata": {
        "colab": {
          "base_uri": "https://localhost:8080/"
        },
        "id": "nRzLrQ5YE5XP",
        "outputId": "4dd95339-96bb-4479-cfbd-91c43cb4c6d8"
      },
      "execution_count": null,
      "outputs": [
        {
          "output_type": "stream",
          "name": "stdout",
          "text": [
            "False    9885\n",
            "Name: narasi, dtype: int64\n",
            "---------------------------\n",
            "False    9885\n",
            "Name: judul, dtype: int64\n",
            "time: 33.7 ms (started: 2022-12-21 13:27:57 +00:00)\n"
          ]
        }
      ]
    },
    {
      "cell_type": "code",
      "source": [
        "df.kategori.value_counts() # let's count the data of each category"
      ],
      "metadata": {
        "colab": {
          "base_uri": "https://localhost:8080/"
        },
        "id": "24c5Nr9lGBFj",
        "outputId": "813bf56c-690c-4567-cafb-d10e11d9e11a"
      },
      "execution_count": null,
      "outputs": [
        {
          "output_type": "execute_result",
          "data": {
            "text/plain": [
              "Valid                       4082\n",
              "Konten Yang Menyesatkan     2094\n",
              "Konten Yang Salah           1449\n",
              "Konten Palsu                 897\n",
              "Konten Yang Dimanipulasi     694\n",
              "Konten Tiruan                438\n",
              "Satire/Parodi                140\n",
              "Koneksi Yang Salah            91\n",
              "Name: kategori, dtype: int64"
            ]
          },
          "metadata": {},
          "execution_count": 109
        },
        {
          "output_type": "stream",
          "name": "stdout",
          "text": [
            "time: 6.42 ms (started: 2022-12-21 13:27:57 +00:00)\n"
          ]
        }
      ]
    },
    {
      "cell_type": "code",
      "source": [
        "# make sure that title and narrative is in lowercase\n",
        "\n",
        "def lower(text): return text.lower()\n",
        "\n",
        "df['narasi'] = df['narasi'].apply(lower)\n",
        "df['judul'] = df['judul'].apply(lower)"
      ],
      "metadata": {
        "colab": {
          "base_uri": "https://localhost:8080/"
        },
        "id": "YK5PgmmEeJMe",
        "outputId": "bd98af12-59b2-4974-b934-da81958703dd"
      },
      "execution_count": null,
      "outputs": [
        {
          "output_type": "stream",
          "name": "stdout",
          "text": [
            "time: 19.6 ms (started: 2022-12-21 13:28:55 +00:00)\n"
          ]
        }
      ]
    },
    {
      "cell_type": "code",
      "source": [
        "# let's remove the stopword from narrative data\n",
        "drive('1dNRiXb9fy3fzeypcYukzeexk7M8RNNLB', 'stopwordsID.txt')\n",
        "stopword = set()\n",
        "txt_to_sets('stopwordsID.txt', stopword, '\\n') # this txt file contain list of Indonesian stopword. that is complete enough\n",
        "\n",
        "stopword = set(dict.fromkeys(stopword))\n",
        "\n",
        "def clean_stop(text): return \" \".join([w for w in text.split() if w not in stopword])\n",
        "\n",
        "pd.set_option('max_colwidth', 400)\n",
        "\n",
        "print(f'Before Stopword Remove:\\n\\n{df.narasi.head(10)}\\n\\n{df.narasi.tail(10)}')\n",
        "\n",
        "df.narasi = df.narasi.apply(clean_stop)\n",
        "\n",
        "print(f'\\n\\nAfter Stopword Remove:\\n\\n{df.narasi.head(10)}\\n\\n{df.narasi.tail(10)}')"
      ],
      "metadata": {
        "colab": {
          "base_uri": "https://localhost:8080/"
        },
        "id": "55LeSkuFR2x7",
        "outputId": "a2781d1e-5040-4954-bab7-068578d24f9f"
      },
      "execution_count": null,
      "outputs": [
        {
          "output_type": "stream",
          "name": "stderr",
          "text": [
            "Downloading...\n",
            "From: https://drive.google.com/u/0/uc?id=1dNRiXb9fy3fzeypcYukzeexk7M8RNNLB&export=download\n",
            "To: /content/stopwordsID.txt\n",
            "100%|██████████| 7.32k/7.32k [00:00<00:00, 2.63MB/s]"
          ]
        },
        {
          "output_type": "stream",
          "name": "stdout",
          "text": [
            "Before Stopword Remove:\n",
            "\n",
            "0                                                                                                                                                                                            video juru kamera terlihat lebih cepat dari peserta lomba lari\n",
            "1                                                                                                                                                                          pernyataan ceo pfizer saya mengundurkan diri dan vaksin mrna belum terbukti aman\n",
            "2                                                                                                                                                                                                                     video perkumpulan lgbt di sicc sentul\n",
            "3                                                                                                                                                                dijerat perkara terselubung badan pengawas pemilihan umum resmi tetapkan anies pasal berat\n",
            "4                                                                                                                                                              ronaldo sumbang juta dolar untuk rakyat palestina buka puasa ramadan hingga jual sepatu emas\n",
            "5                 dokter memperingatkan calon ibu sebaiknya pantang atau encerkan air kelapa selama masa kehamilan anak laki laki itu membuat penisnya kecil gadis gadis muda membuat jimi besar karena air kelapa menyebabkan terlalu banyak hormon wanita\n",
            "6                                                                                                                                                                                                           penyanyi celine dion dikabarkan meninggal dunia\n",
            "7    luhut menjelang tahun baru harga bahan pokok naik kalau tak dinaikkan bangkrut negara caption begini kalau rezim tidak mampu urus negara yang di tekan rakyat nya bukan perbaiki segala bidang usah milik negara buat apa ada badan usaha milik negara\n",
            "8                                                                                                   heru budi meminta masjid jangan undang ustad yang ceramah radikal rentan teroris caption bonekanya boneka kalau berbicara omong doang grinning grinning\n",
            "9                                                                                                                                                                 gambar tangkapan layar artikel kompas commerce maruf amin meminta negara hormati hak lgbt\n",
            "Name: narasi, dtype: object\n",
            "\n",
            "9875                                                                                                                                                                                                                                                                                                                                                                             advertisement scroll to resume content\n",
            "9876    benarkan anak muda saat ini sedang bergerak ke kanan pertanyaan ini menjadi kegelisahan bersama setidaknya diwakili oleh sakdiyah ma ruf seorang komika yang menjadi speaker di salah sesi diskusi annual international conference on islamic studies aicis diselenggarakan di jakarta oktober lalu aicis mengambil tema digital islam education and youth changing landscape of indonesian islam era teknol...\n",
            "9877    pelarangan terhadap segala hal yang berhubungan dengan keagamaan kian meningkat di banyak negara di dunia demikian laporan sebuah lembaga riset pew research center di amerika serikat pelarangan ini tidak hanya ditemukan di bawah rezim otoriter tetapi juga di negara negara demokrasi eropa demikian ungkap laporan lembaga riset yang menyoroti masalah keagamaan dan kehidupan sosial ini berdasarkan...\n",
            "9878    pada beberapa tahun terakhir ini masyarakat indonesia yang mayoritas muslim sering digambarkan sebagai sedang religius religiusnya fenomena ini tidak dapat dipisahkan dari konteks sosio kultural dan politik bangsa ini ada masanya dulu ekspresi keberagamaan dibatasi tetapi dengan dimulainya era reformasi dan otoritarianisme orde baru berakhir semua orang dapat bersuara dan mengekspresikan kesal...\n",
            "9879    puisi sukmawati soekarnoputri memantik kontroversi tak sampai hitungan jam puisi itu viral dan dikomentari banyak kalangan karena puisi itu ranah sastra yang terkait masalah agama karena menyebut soal syariat islam cadar dan azan maka bermunculan komentar dari yang berusaha mendudukkan masalah seperti komentar dari sastrawan dan agamawan dari mui sampai komentar beberapa politisi yang sepertin...\n",
            "9880    wali kota medan bobby nasution mengeluarkan surat edaran tentang penutupan sementara diskotek hingga spa pelarangan itu berkenaan dengan perayaan hari natal dalam surat edaran yang dilihat detiksumut rabu tempat hiburan malam diskotik club malam hidup karaoke karaoke umum dan keluarga panti pijat dan panti mandi spa dan minum dilarang beroperasi selain itu rumah billiar bowling dan usaha arena...\n",
            "9881    menteri perdagangan zulkifli hasan melanjutkan agenda kunjungan kerjanya ke kota sorong salah satunya dengan berkunjung ke universitas muhammadiyah sorong setibanya di kampus mendag yang akrab disapa zulhas ini disambut langsung rektor universitas muhammadiyah sorong serta mahasiswa zulhas pun mengaku kagum dengan muhammadiyah yang konsisten berjuang dengan nilai nilai jalan tengah yang tercer...\n",
            "9882    khiyanah termasuk salah satu akhlak tercela dalam islam sebab ia merupakan ciri ciri orang munafik adapun allah swt beserta nabi nya juga melarang kaum muslim untuk memiliki sifat ini lantas apa arti dari khiyanah khiyanah atau khianat dalam ensiklopedia fikih indonesia oleh ahmad sarwat berasal dari kata bahasa arab yakni khaana yakhuunu artinya seseorang diberikan amanat tetapi tidak dilaksa...\n",
            "9883    jadwal misa natal gereja katedral jakarta sudah diumumkan umat katolik dapat mengikuti misa natal di waktu waktu yang telah disiapkan katedral jakarta adalah salah satu gereja katolik terbesar di jakarta yang berlokasi jl katedral no pasar baru kecamatan sawah besar jakarta pusat simak serba serbi misa natal berikut ini misa natal di gereja katedral jakarta diadakan pada tanggal desember dan d...\n",
            "9884    pemprov dki jakarta menggelar rangkaian acara perayaan natal di sejumlah titik di ibu kota kepala biro pendidikan mental dan spiritual dki jakarta gunas mahdianto menjelaskan rangkaian acara natal kali ini mengusung semangat toleransi keharmonisan keamanan kedamaian dan sukacita di jakarta penyelenggaraan rangkaian acara perayaan sukacita natal ini adalah upaya kami selaku pemerintah daerah da...\n",
            "Name: narasi, dtype: object\n",
            "\n",
            "\n",
            "After Stopword Remove:\n",
            "\n",
            "0                                                                                                                  video juru kamera cepat peserta lomba lari\n",
            "1                                                                                                pernyataan ceo pfizer mengundurkan vaksin mrna terbukti aman\n",
            "2                                                                                                                          video perkumpulan lgbt sicc sentul\n",
            "3                                                                       dijerat perkara terselubung badan pengawas pemilihan resmi tetapkan anies pasal berat\n",
            "4                                                                             ronaldo sumbang juta dolar rakyat palestina buka puasa ramadan jual sepatu emas\n",
            "5        dokter memperingatkan calon pantang encerkan air kelapa kehamilan anak laki laki penisnya gadis gadis muda jimi air kelapa menyebabkan hormon wanita\n",
            "6                                                                                                             penyanyi celine dion dikabarkan meninggal dunia\n",
            "7    luhut menjelang harga bahan pokok dinaikkan bangkrut negara caption rezim urus negara tekan rakyat perbaiki bidang milik negara badan usaha milik negara\n",
            "8                               heru budi masjid undang ustad ceramah radikal rentan teroris caption bonekanya boneka berbicara omong doang grinning grinning\n",
            "9                                                                           gambar tangkapan layar artikel kompas commerce maruf amin negara hormati hak lgbt\n",
            "Name: narasi, dtype: object\n",
            "\n",
            "9875                                                                                                                                                                                                                                                                                                                                                                             advertisement scroll to resume content\n",
            "9876    benarkan anak muda bergerak kanan kegelisahan diwakili sakdiyah ma ruf komika speaker salah sesi diskusi annual international conference on islamic studies aicis diselenggarakan jakarta oktober aicis mengambil tema digital islam education and youth changing landscape of indonesian islam era teknologi komunikasi digital era disrupsi dianggap mengubah lanskap keberagamaan islam indonesia anak mu...\n",
            "9877    pelarangan berhubungan keagamaan kian meningkat negara dunia laporan lembaga riset pew research center amerika serikat pelarangan ditemukan rezim otoriter negara negara demokrasi eropa laporan lembaga riset menyoroti keagamaan kehidupan sosial berdasarkan laporan orang orang beragama kristen dilecehkan negara orang orang muslim negara dekade pembatasan diberlakukan pemerintah mencakup undang u...\n",
            "9878    masyarakat indonesia mayoritas muslim digambarkan religius religiusnya fenomena dipisahkan konteks sosio kultural politik bangsa masanya ekspresi keberagamaan dibatasi era reformasi otoritarianisme orde orang bersuara mengekspresikan kesalehan orang islam mayoritas kesempatan momentumnya indonesia beragama mudah difasilitasi pemerintah swasta produk produk halal gencar gaya hidup islami popule...\n",
            "9879    puisi sukmawati soekarnoputri memantik kontroversi hitungan jam puisi viral dikomentari kalangan puisi ranah sastra terkait agama menyebut syariat islam cadar azan bermunculan komentar berusaha mendudukkan komentar sastrawan agamawan mui komentar politisi menunggangi momen sastrawan penyair kritikus sastra menilai puisi sukawati mengutip pendapat penyair goenawan mohamad gm mencuit akun twitte...\n",
            "9880    wali kota medan bobby nasution mengeluarkan surat edaran penutupan diskotek spa pelarangan perayaan natal surat edaran detiksumut rabu hiburan malam diskotik club malam hidup karaoke karaoke keluarga panti pijat panti mandi spa minum dilarang beroperasi rumah billiar bowling usaha arena permainan ketangkasan lokasi tersendiri pusat perbelanjaan dilarang beroperasi pelarangan beroperasi tanggal...\n",
            "9881    menteri perdagangan zulkifli hasan melanjutkan agenda kunjungan kerjanya kota sorong salah satunya berkunjung universitas muhammadiyah sorong kampus mendag akrab disapa zulhas disambut langsung rektor universitas muhammadiyah sorong mahasiswa zulhas mengaku kagum muhammadiyah konsisten berjuang nilai nilai jalan tercermin amal usahanya lembaga pendidikan kesehatan zulhas sekolah universitas mu...\n",
            "9882       khiyanah salah akhlak tercela islam ciri ciri orang munafik allah swt beserta nabi melarang kaum muslim memiliki sifat lantas arti khiyanah khiyanah khianat ensiklopedia fikih indonesia ahmad sarwat berasal bahasa arab khaana yakhuunu amanat dilaksanakan buku teks pendidikan agama islam khianat kondisi setia dipercayakan orang mempercayakannya pengharaman khiyanat allah swt surah al anfal ayat\n",
            "9883          jadwal misa natal gereja katedral jakarta diumumkan umat katolik mengikuti misa natal disiapkan katedral jakarta salah gereja katolik terbesar jakarta berlokasi jl katedral no pasar kecamatan sawah jakarta pusat simak serba serbi misa natal misa natal gereja katedral jakarta diadakan tanggal desember desember dikutip unggahan instagram gereja katedral jakarta jadwal misa natal advertisement\n",
            "9884    pemprov dki jakarta menggelar rangkaian acara perayaan natal titik kota kepala biro pendidikan mental spiritual dki jakarta gunas mahdianto rangkaian acara natal kali mengusung semangat toleransi keharmonisan keamanan kedamaian sukacita jakarta penyelenggaraan rangkaian acara perayaan sukacita natal upaya pemerintah daerah memelihara kerukunan antarumat beragama perayaan natal wilayah dki jaka...\n",
            "Name: narasi, dtype: object\n",
            "time: 1.79 s (started: 2022-12-21 13:28:55 +00:00)\n"
          ]
        },
        {
          "output_type": "stream",
          "name": "stderr",
          "text": [
            "\n"
          ]
        }
      ]
    },
    {
      "cell_type": "code",
      "source": [
        "df.isnull().sum() # verify if there is null data in dataset"
      ],
      "metadata": {
        "colab": {
          "base_uri": "https://localhost:8080/"
        },
        "id": "DRKpNsLSin1C",
        "outputId": "fa027e09-b608-40f5-efac-0c74514360fe"
      },
      "execution_count": null,
      "outputs": [
        {
          "output_type": "execute_result",
          "data": {
            "text/plain": [
              "kategori    0\n",
              "judul       0\n",
              "tanggal     0\n",
              "narasi      0\n",
              "dtype: int64"
            ]
          },
          "metadata": {},
          "execution_count": 112
        },
        {
          "output_type": "stream",
          "name": "stdout",
          "text": [
            "time: 8.61 ms (started: 2022-12-21 13:28:57 +00:00)\n"
          ]
        }
      ]
    },
    {
      "cell_type": "code",
      "source": [
        "df = df.dropna() # remove rows that contain null data\n",
        "df.isnull().sum()"
      ],
      "metadata": {
        "id": "_f24870selNg",
        "colab": {
          "base_uri": "https://localhost:8080/"
        },
        "outputId": "8c8bb47d-307c-4f70-f2a4-a70b315f3fc7"
      },
      "execution_count": null,
      "outputs": [
        {
          "output_type": "execute_result",
          "data": {
            "text/plain": [
              "kategori    0\n",
              "judul       0\n",
              "tanggal     0\n",
              "narasi      0\n",
              "dtype: int64"
            ]
          },
          "metadata": {},
          "execution_count": 113
        },
        {
          "output_type": "stream",
          "name": "stdout",
          "text": [
            "time: 16.7 ms (started: 2022-12-21 13:28:57 +00:00)\n"
          ]
        }
      ]
    },
    {
      "cell_type": "markdown",
      "source": [
        "# **Final Stage**\n",
        "\n",
        "Let's convert our dataset to csv"
      ],
      "metadata": {
        "id": "5aVWmVKtdMJF"
      }
    },
    {
      "cell_type": "code",
      "source": [
        "# convert dataframe to csv\n",
        "df.to_csv('valid_hoaks_rep_stop_new.csv', index=False, encoding='utf-8')"
      ],
      "metadata": {
        "colab": {
          "base_uri": "https://localhost:8080/"
        },
        "id": "gJYaZZdVFbcm",
        "outputId": "638762e8-644e-4c30-e537-45a66d6427fc"
      },
      "execution_count": null,
      "outputs": [
        {
          "output_type": "stream",
          "name": "stdout",
          "text": [
            "time: 193 ms (started: 2022-12-21 13:29:18 +00:00)\n"
          ]
        }
      ]
    }
  ]
}