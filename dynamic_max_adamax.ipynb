{
  "nbformat": 4,
  "nbformat_minor": 0,
  "metadata": {
    "colab": {
      "provenance": [],
      "authorship_tag": "ABX9TyOoFbY+GbmviPCCztLALFE6",
      "include_colab_link": true
    },
    "kernelspec": {
      "name": "python3",
      "display_name": "Python 3"
    },
    "language_info": {
      "name": "python"
    },
    "accelerator": "GPU",
    "gpuClass": "standard"
  },
  "cells": [
    {
      "cell_type": "markdown",
      "metadata": {
        "id": "view-in-github",
        "colab_type": "text"
      },
      "source": [
        "<a href=\"https://colab.research.google.com/github/felkira/unifact.github.io/blob/modeling/dynamic_max_adamax.ipynb\" target=\"_parent\"><img src=\"https://colab.research.google.com/assets/colab-badge.svg\" alt=\"Open In Colab\"/></a>"
      ]
    },
    {
      "cell_type": "code",
      "execution_count": null,
      "metadata": {
        "id": "Mq48DsyGZUVM"
      },
      "outputs": [],
      "source": [
        "# Record Each Cell's Execution Time\n",
        "!pip install keras-tcn\n",
        "!pip install ipython-autotime\n",
        "%load_ext autotime"
      ]
    },
    {
      "cell_type": "code",
      "execution_count": null,
      "metadata": {
        "colab": {
          "base_uri": "https://localhost:8080/"
        },
        "id": "dPtsepq3ZJXM",
        "outputId": "ce5663ce-7fc1-4d0a-c727-ed4a292f3349"
      },
      "outputs": [
        {
          "output_type": "stream",
          "name": "stdout",
          "text": [
            "time: 3.43 s (started: 2022-12-12 08:59:06 +00:00)\n"
          ]
        }
      ],
      "source": [
        "import numpy as np\n",
        "import pandas as pd \n",
        "import matplotlib.pyplot as plt\n",
        "import seaborn as sns\n",
        "import json, re, string, gdown, math, time\n",
        "from tcn import TCN\n",
        "from keras.layers import Input, Embedding, Dense, Dropout, SpatialDropout1D, concatenate, GlobalAveragePooling1D, GlobalMaxPooling1D, Bidirectional\n",
        "from keras.models import Model\n",
        "from tensorflow.keras.preprocessing import text, sequence\n",
        "from keras.utils import to_categorical\n",
        "from tensorflow.keras.callbacks import EarlyStopping\n",
        "from tensorflow.math import confusion_matrix as cm\n",
        "from sklearn.model_selection import train_test_split\n",
        "from sklearn.preprocessing import LabelEncoder\n",
        "from sklearn.model_selection import KFold\n",
        "from sklearn.metrics import classification_report as cr, precision_recall_fscore_support as prfs\n",
        "from collections import Counter\n",
        "from random import randint\n",
        "from google.colab import files"
      ]
    },
    {
      "cell_type": "code",
      "source": [
        "!wget https://dl.fbaipublicfiles.com/fasttext/vectors-crawl/cc.id.300.vec.gz"
      ],
      "metadata": {
        "colab": {
          "base_uri": "https://localhost:8080/"
        },
        "outputId": "2ec44c80-12a3-471d-d455-4454c5dfa6a3",
        "id": "n1XzpvrKFzIv"
      },
      "execution_count": null,
      "outputs": [
        {
          "output_type": "stream",
          "name": "stdout",
          "text": [
            "--2022-12-12 08:59:09--  https://dl.fbaipublicfiles.com/fasttext/vectors-crawl/cc.id.300.vec.gz\n",
            "Resolving dl.fbaipublicfiles.com (dl.fbaipublicfiles.com)... 104.22.74.142, 172.67.9.4, 104.22.75.142, ...\n",
            "Connecting to dl.fbaipublicfiles.com (dl.fbaipublicfiles.com)|104.22.74.142|:443... connected.\n",
            "HTTP request sent, awaiting response... 200 OK\n",
            "Length: 1227018698 (1.1G) [binary/octet-stream]\n",
            "Saving to: ‘cc.id.300.vec.gz’\n",
            "\n",
            "cc.id.300.vec.gz    100%[===================>]   1.14G  1.91MB/s    in 10m 3s  \n",
            "\n",
            "2022-12-12 09:09:14 (1.94 MB/s) - ‘cc.id.300.vec.gz’ saved [1227018698/1227018698]\n",
            "\n",
            "time: 10min 4s (started: 2022-12-12 08:59:09 +00:00)\n"
          ]
        }
      ]
    },
    {
      "cell_type": "code",
      "source": [
        "!gunzip cc.id.300.vec.gz"
      ],
      "metadata": {
        "id": "9HCNEgmgFzIx",
        "colab": {
          "base_uri": "https://localhost:8080/"
        },
        "outputId": "7277d5ce-4688-4e7d-a6d6-4d60c87100c4"
      },
      "execution_count": null,
      "outputs": [
        {
          "output_type": "stream",
          "name": "stdout",
          "text": [
            "time: 32.2 s (started: 2022-12-12 09:09:14 +00:00)\n"
          ]
        }
      ]
    },
    {
      "cell_type": "code",
      "source": [
        "f = open('/content/cc.id.300.vec', encoding='utf-8')\n",
        "\n",
        "embedding_vectors = {}\n",
        "for row in f:\n",
        "    values = row.split(' ')\n",
        "    word = values[0]\n",
        "    weights = np.asarray([float(val) for val in values[1:]])\n",
        "    embedding_vectors[word] = weights\n",
        "\n",
        "print(f\"Size of vocabulary in FastText: {len(embedding_vectors)}\")"
      ],
      "metadata": {
        "id": "onr9vrk5rutu",
        "colab": {
          "base_uri": "https://localhost:8080/"
        },
        "outputId": "a45cec46-939a-4e8c-d01e-b75fd55a674b"
      },
      "execution_count": null,
      "outputs": [
        {
          "output_type": "stream",
          "name": "stdout",
          "text": [
            "Size of vocabulary in FastText: 2000000\n",
            "time: 2min 26s (started: 2022-12-12 09:09:46 +00:00)\n"
          ]
        }
      ]
    },
    {
      "cell_type": "code",
      "execution_count": null,
      "metadata": {
        "id": "I4ZEAL8CELcv",
        "colab": {
          "base_uri": "https://localhost:8080/",
          "height": 128
        },
        "outputId": "7e9ac913-ab70-41a9-8298-c309fcc1472d"
      },
      "outputs": [
        {
          "output_type": "stream",
          "name": "stderr",
          "text": [
            "Downloading...\n",
            "From: https://drive.google.com/u/0/uc?id=1p6hrwRZfgEOrHSQGPdMyZvdi3rQLHS2p&export=download\n",
            "To: /content/valid-7hoaks.csv\n",
            "100%|██████████| 2.07M/2.07M [00:00<00:00, 128MB/s]\n"
          ]
        },
        {
          "output_type": "execute_result",
          "data": {
            "text/plain": [
              "'valid-7hoaks.csv'"
            ],
            "application/vnd.google.colaboratory.intrinsic+json": {
              "type": "string"
            }
          },
          "metadata": {},
          "execution_count": 6
        },
        {
          "output_type": "stream",
          "name": "stdout",
          "text": [
            "time: 2.92 s (started: 2022-12-12 09:12:13 +00:00)\n"
          ]
        }
      ],
      "source": [
        "url = 'https://drive.google.com/u/0/uc?id=1p6hrwRZfgEOrHSQGPdMyZvdi3rQLHS2p&export=download'\n",
        "gdown.download(url, 'valid-7hoaks.csv', quiet=False)"
      ]
    },
    {
      "cell_type": "code",
      "execution_count": null,
      "metadata": {
        "id": "iCipNeVuZ8qb",
        "colab": {
          "base_uri": "https://localhost:8080/",
          "height": 476
        },
        "outputId": "b2516bb8-4af3-44b7-e4f0-73d91eeaf9af"
      },
      "outputs": [
        {
          "output_type": "execute_result",
          "data": {
            "text/plain": [
              "                  kategori  \\\n",
              "0  Konten Yang Menyesatkan   \n",
              "1        Konten Yang Salah   \n",
              "2  Konten Yang Menyesatkan   \n",
              "3  Konten Yang Menyesatkan   \n",
              "4  Konten Yang Menyesatkan   \n",
              "\n",
              "                                                                         judul  \\\n",
              "0  buaya meter terbesar di dunia ditemukan di danau kota maine amerika serikat   \n",
              "1       demo memprotes kecurangan hasil pemilihan umum di brazil pada november   \n",
              "2                                          warga bogor meninggal hidup kembali   \n",
              "3                                dari fauci akui vaksin tidak melindungi covid   \n",
              "4                             set top box dapat mendeteksi orang yang divaksin   \n",
              "\n",
              "      tanggal  \\\n",
              "0  26/11/2022   \n",
              "1  25/11/2022   \n",
              "2  25/11/2022   \n",
              "3  25/11/2022   \n",
              "4  25/11/2022   \n",
              "\n",
              "                                                                                                                                          narasi  \n",
              "0                                                                          buaya meter terbesar dunia ditemukan danau kota maine amerika serikat  \n",
              "1                                                                                 demo memprotes kecurangan hasil pemilihan umum brazil november  \n",
              "2                                                                                                                    warga bogor meninggal hidup  \n",
              "3                                                                                                             fauci akui vaksin melindungi covid  \n",
              "4  vaksin gratis set box punah gratis ternyata ternyata dalamnya rangkaian bluetooth low energy device membaca data orang orang yg divaksin aduh  "
            ],
            "text/html": [
              "\n",
              "  <div id=\"df-6aa5aecd-07cb-4a6f-8662-73b8d05a1206\">\n",
              "    <div class=\"colab-df-container\">\n",
              "      <div>\n",
              "<style scoped>\n",
              "    .dataframe tbody tr th:only-of-type {\n",
              "        vertical-align: middle;\n",
              "    }\n",
              "\n",
              "    .dataframe tbody tr th {\n",
              "        vertical-align: top;\n",
              "    }\n",
              "\n",
              "    .dataframe thead th {\n",
              "        text-align: right;\n",
              "    }\n",
              "</style>\n",
              "<table border=\"1\" class=\"dataframe\">\n",
              "  <thead>\n",
              "    <tr style=\"text-align: right;\">\n",
              "      <th></th>\n",
              "      <th>kategori</th>\n",
              "      <th>judul</th>\n",
              "      <th>tanggal</th>\n",
              "      <th>narasi</th>\n",
              "    </tr>\n",
              "  </thead>\n",
              "  <tbody>\n",
              "    <tr>\n",
              "      <th>0</th>\n",
              "      <td>Konten Yang Menyesatkan</td>\n",
              "      <td>buaya meter terbesar di dunia ditemukan di danau kota maine amerika serikat</td>\n",
              "      <td>26/11/2022</td>\n",
              "      <td>buaya meter terbesar dunia ditemukan danau kota maine amerika serikat</td>\n",
              "    </tr>\n",
              "    <tr>\n",
              "      <th>1</th>\n",
              "      <td>Konten Yang Salah</td>\n",
              "      <td>demo memprotes kecurangan hasil pemilihan umum di brazil pada november</td>\n",
              "      <td>25/11/2022</td>\n",
              "      <td>demo memprotes kecurangan hasil pemilihan umum brazil november</td>\n",
              "    </tr>\n",
              "    <tr>\n",
              "      <th>2</th>\n",
              "      <td>Konten Yang Menyesatkan</td>\n",
              "      <td>warga bogor meninggal hidup kembali</td>\n",
              "      <td>25/11/2022</td>\n",
              "      <td>warga bogor meninggal hidup</td>\n",
              "    </tr>\n",
              "    <tr>\n",
              "      <th>3</th>\n",
              "      <td>Konten Yang Menyesatkan</td>\n",
              "      <td>dari fauci akui vaksin tidak melindungi covid</td>\n",
              "      <td>25/11/2022</td>\n",
              "      <td>fauci akui vaksin melindungi covid</td>\n",
              "    </tr>\n",
              "    <tr>\n",
              "      <th>4</th>\n",
              "      <td>Konten Yang Menyesatkan</td>\n",
              "      <td>set top box dapat mendeteksi orang yang divaksin</td>\n",
              "      <td>25/11/2022</td>\n",
              "      <td>vaksin gratis set box punah gratis ternyata ternyata dalamnya rangkaian bluetooth low energy device membaca data orang orang yg divaksin aduh</td>\n",
              "    </tr>\n",
              "  </tbody>\n",
              "</table>\n",
              "</div>\n",
              "      <button class=\"colab-df-convert\" onclick=\"convertToInteractive('df-6aa5aecd-07cb-4a6f-8662-73b8d05a1206')\"\n",
              "              title=\"Convert this dataframe to an interactive table.\"\n",
              "              style=\"display:none;\">\n",
              "        \n",
              "  <svg xmlns=\"http://www.w3.org/2000/svg\" height=\"24px\"viewBox=\"0 0 24 24\"\n",
              "       width=\"24px\">\n",
              "    <path d=\"M0 0h24v24H0V0z\" fill=\"none\"/>\n",
              "    <path d=\"M18.56 5.44l.94 2.06.94-2.06 2.06-.94-2.06-.94-.94-2.06-.94 2.06-2.06.94zm-11 1L8.5 8.5l.94-2.06 2.06-.94-2.06-.94L8.5 2.5l-.94 2.06-2.06.94zm10 10l.94 2.06.94-2.06 2.06-.94-2.06-.94-.94-2.06-.94 2.06-2.06.94z\"/><path d=\"M17.41 7.96l-1.37-1.37c-.4-.4-.92-.59-1.43-.59-.52 0-1.04.2-1.43.59L10.3 9.45l-7.72 7.72c-.78.78-.78 2.05 0 2.83L4 21.41c.39.39.9.59 1.41.59.51 0 1.02-.2 1.41-.59l7.78-7.78 2.81-2.81c.8-.78.8-2.07 0-2.86zM5.41 20L4 18.59l7.72-7.72 1.47 1.35L5.41 20z\"/>\n",
              "  </svg>\n",
              "      </button>\n",
              "      \n",
              "  <style>\n",
              "    .colab-df-container {\n",
              "      display:flex;\n",
              "      flex-wrap:wrap;\n",
              "      gap: 12px;\n",
              "    }\n",
              "\n",
              "    .colab-df-convert {\n",
              "      background-color: #E8F0FE;\n",
              "      border: none;\n",
              "      border-radius: 50%;\n",
              "      cursor: pointer;\n",
              "      display: none;\n",
              "      fill: #1967D2;\n",
              "      height: 32px;\n",
              "      padding: 0 0 0 0;\n",
              "      width: 32px;\n",
              "    }\n",
              "\n",
              "    .colab-df-convert:hover {\n",
              "      background-color: #E2EBFA;\n",
              "      box-shadow: 0px 1px 2px rgba(60, 64, 67, 0.3), 0px 1px 3px 1px rgba(60, 64, 67, 0.15);\n",
              "      fill: #174EA6;\n",
              "    }\n",
              "\n",
              "    [theme=dark] .colab-df-convert {\n",
              "      background-color: #3B4455;\n",
              "      fill: #D2E3FC;\n",
              "    }\n",
              "\n",
              "    [theme=dark] .colab-df-convert:hover {\n",
              "      background-color: #434B5C;\n",
              "      box-shadow: 0px 1px 3px 1px rgba(0, 0, 0, 0.15);\n",
              "      filter: drop-shadow(0px 1px 2px rgba(0, 0, 0, 0.3));\n",
              "      fill: #FFFFFF;\n",
              "    }\n",
              "  </style>\n",
              "\n",
              "      <script>\n",
              "        const buttonEl =\n",
              "          document.querySelector('#df-6aa5aecd-07cb-4a6f-8662-73b8d05a1206 button.colab-df-convert');\n",
              "        buttonEl.style.display =\n",
              "          google.colab.kernel.accessAllowed ? 'block' : 'none';\n",
              "\n",
              "        async function convertToInteractive(key) {\n",
              "          const element = document.querySelector('#df-6aa5aecd-07cb-4a6f-8662-73b8d05a1206');\n",
              "          const dataTable =\n",
              "            await google.colab.kernel.invokeFunction('convertToInteractive',\n",
              "                                                     [key], {});\n",
              "          if (!dataTable) return;\n",
              "\n",
              "          const docLinkHtml = 'Like what you see? Visit the ' +\n",
              "            '<a target=\"_blank\" href=https://colab.research.google.com/notebooks/data_table.ipynb>data table notebook</a>'\n",
              "            + ' to learn more about interactive tables.';\n",
              "          element.innerHTML = '';\n",
              "          dataTable['output_type'] = 'display_data';\n",
              "          await google.colab.output.renderOutput(dataTable, element);\n",
              "          const docLink = document.createElement('div');\n",
              "          docLink.innerHTML = docLinkHtml;\n",
              "          element.appendChild(docLink);\n",
              "        }\n",
              "      </script>\n",
              "    </div>\n",
              "  </div>\n",
              "  "
            ]
          },
          "metadata": {},
          "execution_count": 7
        },
        {
          "output_type": "stream",
          "name": "stdout",
          "text": [
            "time: 94.9 ms (started: 2022-12-12 09:12:16 +00:00)\n"
          ]
        }
      ],
      "source": [
        "main_data = pd.read_csv('/content/valid-7hoaks.csv')\n",
        "pd.set_option('max_colwidth', 400)\n",
        "main_data.head()"
      ]
    },
    {
      "cell_type": "code",
      "execution_count": null,
      "metadata": {
        "id": "sSOTr3p4aIfB",
        "colab": {
          "base_uri": "https://localhost:8080/"
        },
        "outputId": "a61cebc3-5f32-4c8b-9a5e-82b46e547ada"
      },
      "outputs": [
        {
          "output_type": "stream",
          "name": "stdout",
          "text": [
            "Shape of data (rows, cols)=> (7530, 4)\n",
            "time: 526 µs (started: 2022-12-12 09:12:16 +00:00)\n"
          ]
        }
      ],
      "source": [
        "print(\"Shape of data (rows, cols)=>\", main_data.shape)"
      ]
    },
    {
      "cell_type": "code",
      "execution_count": null,
      "metadata": {
        "id": "_5XQg4wUkTqv",
        "colab": {
          "base_uri": "https://localhost:8080/"
        },
        "outputId": "d6334834-3eee-4687-9173-1bce3c9a607d"
      },
      "outputs": [
        {
          "output_type": "execute_result",
          "data": {
            "text/plain": [
              "kategori    0\n",
              "judul       0\n",
              "tanggal     0\n",
              "narasi      0\n",
              "dtype: int64"
            ]
          },
          "metadata": {},
          "execution_count": 9
        },
        {
          "output_type": "stream",
          "name": "stdout",
          "text": [
            "time: 5.86 ms (started: 2022-12-12 09:12:16 +00:00)\n"
          ]
        }
      ],
      "source": [
        "main_data.isnull().sum()"
      ]
    },
    {
      "cell_type": "code",
      "execution_count": null,
      "metadata": {
        "id": "LaY1lfhOauVe",
        "colab": {
          "base_uri": "https://localhost:8080/",
          "height": 254
        },
        "outputId": "3de77ce2-8a57-45f8-e69d-4d7226da8c5d"
      },
      "outputs": [
        {
          "output_type": "execute_result",
          "data": {
            "text/plain": [
              "       kategori  \\\n",
              "count      7530   \n",
              "unique        8   \n",
              "top       Valid   \n",
              "freq       2350   \n",
              "\n",
              "                                                                              judul  \\\n",
              "count                                                                          7530   \n",
              "unique                                                                         7530   \n",
              "top     buaya meter terbesar di dunia ditemukan di danau kota maine amerika serikat   \n",
              "freq                                                                              1   \n",
              "\n",
              "           tanggal                                  narasi  \n",
              "count         7530                                    7530  \n",
              "unique        1317                                    7528  \n",
              "top     17/10/2022  foto badai petir terlihat luar angkasa  \n",
              "freq            87                                       2  "
            ],
            "text/html": [
              "\n",
              "  <div id=\"df-fdcc38bc-4a6e-487a-b4d9-e783d99cfff2\">\n",
              "    <div class=\"colab-df-container\">\n",
              "      <div>\n",
              "<style scoped>\n",
              "    .dataframe tbody tr th:only-of-type {\n",
              "        vertical-align: middle;\n",
              "    }\n",
              "\n",
              "    .dataframe tbody tr th {\n",
              "        vertical-align: top;\n",
              "    }\n",
              "\n",
              "    .dataframe thead th {\n",
              "        text-align: right;\n",
              "    }\n",
              "</style>\n",
              "<table border=\"1\" class=\"dataframe\">\n",
              "  <thead>\n",
              "    <tr style=\"text-align: right;\">\n",
              "      <th></th>\n",
              "      <th>kategori</th>\n",
              "      <th>judul</th>\n",
              "      <th>tanggal</th>\n",
              "      <th>narasi</th>\n",
              "    </tr>\n",
              "  </thead>\n",
              "  <tbody>\n",
              "    <tr>\n",
              "      <th>count</th>\n",
              "      <td>7530</td>\n",
              "      <td>7530</td>\n",
              "      <td>7530</td>\n",
              "      <td>7530</td>\n",
              "    </tr>\n",
              "    <tr>\n",
              "      <th>unique</th>\n",
              "      <td>8</td>\n",
              "      <td>7530</td>\n",
              "      <td>1317</td>\n",
              "      <td>7528</td>\n",
              "    </tr>\n",
              "    <tr>\n",
              "      <th>top</th>\n",
              "      <td>Valid</td>\n",
              "      <td>buaya meter terbesar di dunia ditemukan di danau kota maine amerika serikat</td>\n",
              "      <td>17/10/2022</td>\n",
              "      <td>foto badai petir terlihat luar angkasa</td>\n",
              "    </tr>\n",
              "    <tr>\n",
              "      <th>freq</th>\n",
              "      <td>2350</td>\n",
              "      <td>1</td>\n",
              "      <td>87</td>\n",
              "      <td>2</td>\n",
              "    </tr>\n",
              "  </tbody>\n",
              "</table>\n",
              "</div>\n",
              "      <button class=\"colab-df-convert\" onclick=\"convertToInteractive('df-fdcc38bc-4a6e-487a-b4d9-e783d99cfff2')\"\n",
              "              title=\"Convert this dataframe to an interactive table.\"\n",
              "              style=\"display:none;\">\n",
              "        \n",
              "  <svg xmlns=\"http://www.w3.org/2000/svg\" height=\"24px\"viewBox=\"0 0 24 24\"\n",
              "       width=\"24px\">\n",
              "    <path d=\"M0 0h24v24H0V0z\" fill=\"none\"/>\n",
              "    <path d=\"M18.56 5.44l.94 2.06.94-2.06 2.06-.94-2.06-.94-.94-2.06-.94 2.06-2.06.94zm-11 1L8.5 8.5l.94-2.06 2.06-.94-2.06-.94L8.5 2.5l-.94 2.06-2.06.94zm10 10l.94 2.06.94-2.06 2.06-.94-2.06-.94-.94-2.06-.94 2.06-2.06.94z\"/><path d=\"M17.41 7.96l-1.37-1.37c-.4-.4-.92-.59-1.43-.59-.52 0-1.04.2-1.43.59L10.3 9.45l-7.72 7.72c-.78.78-.78 2.05 0 2.83L4 21.41c.39.39.9.59 1.41.59.51 0 1.02-.2 1.41-.59l7.78-7.78 2.81-2.81c.8-.78.8-2.07 0-2.86zM5.41 20L4 18.59l7.72-7.72 1.47 1.35L5.41 20z\"/>\n",
              "  </svg>\n",
              "      </button>\n",
              "      \n",
              "  <style>\n",
              "    .colab-df-container {\n",
              "      display:flex;\n",
              "      flex-wrap:wrap;\n",
              "      gap: 12px;\n",
              "    }\n",
              "\n",
              "    .colab-df-convert {\n",
              "      background-color: #E8F0FE;\n",
              "      border: none;\n",
              "      border-radius: 50%;\n",
              "      cursor: pointer;\n",
              "      display: none;\n",
              "      fill: #1967D2;\n",
              "      height: 32px;\n",
              "      padding: 0 0 0 0;\n",
              "      width: 32px;\n",
              "    }\n",
              "\n",
              "    .colab-df-convert:hover {\n",
              "      background-color: #E2EBFA;\n",
              "      box-shadow: 0px 1px 2px rgba(60, 64, 67, 0.3), 0px 1px 3px 1px rgba(60, 64, 67, 0.15);\n",
              "      fill: #174EA6;\n",
              "    }\n",
              "\n",
              "    [theme=dark] .colab-df-convert {\n",
              "      background-color: #3B4455;\n",
              "      fill: #D2E3FC;\n",
              "    }\n",
              "\n",
              "    [theme=dark] .colab-df-convert:hover {\n",
              "      background-color: #434B5C;\n",
              "      box-shadow: 0px 1px 3px 1px rgba(0, 0, 0, 0.15);\n",
              "      filter: drop-shadow(0px 1px 2px rgba(0, 0, 0, 0.3));\n",
              "      fill: #FFFFFF;\n",
              "    }\n",
              "  </style>\n",
              "\n",
              "      <script>\n",
              "        const buttonEl =\n",
              "          document.querySelector('#df-fdcc38bc-4a6e-487a-b4d9-e783d99cfff2 button.colab-df-convert');\n",
              "        buttonEl.style.display =\n",
              "          google.colab.kernel.accessAllowed ? 'block' : 'none';\n",
              "\n",
              "        async function convertToInteractive(key) {\n",
              "          const element = document.querySelector('#df-fdcc38bc-4a6e-487a-b4d9-e783d99cfff2');\n",
              "          const dataTable =\n",
              "            await google.colab.kernel.invokeFunction('convertToInteractive',\n",
              "                                                     [key], {});\n",
              "          if (!dataTable) return;\n",
              "\n",
              "          const docLinkHtml = 'Like what you see? Visit the ' +\n",
              "            '<a target=\"_blank\" href=https://colab.research.google.com/notebooks/data_table.ipynb>data table notebook</a>'\n",
              "            + ' to learn more about interactive tables.';\n",
              "          element.innerHTML = '';\n",
              "          dataTable['output_type'] = 'display_data';\n",
              "          await google.colab.output.renderOutput(dataTable, element);\n",
              "          const docLink = document.createElement('div');\n",
              "          docLink.innerHTML = docLinkHtml;\n",
              "          element.appendChild(docLink);\n",
              "        }\n",
              "      </script>\n",
              "    </div>\n",
              "  </div>\n",
              "  "
            ]
          },
          "metadata": {},
          "execution_count": 10
        },
        {
          "output_type": "stream",
          "name": "stdout",
          "text": [
            "time: 22.7 ms (started: 2022-12-12 09:12:16 +00:00)\n"
          ]
        }
      ],
      "source": [
        "main_data.describe(include='all')"
      ]
    },
    {
      "cell_type": "code",
      "execution_count": null,
      "metadata": {
        "id": "jamSe8DbazRI",
        "colab": {
          "base_uri": "https://localhost:8080/"
        },
        "outputId": "1727c9ba-f66c-406d-e0f0-eca9146db4ee"
      },
      "outputs": [
        {
          "output_type": "execute_result",
          "data": {
            "text/plain": [
              "False    7528\n",
              "True        2\n",
              "Name: narasi, dtype: int64"
            ]
          },
          "metadata": {},
          "execution_count": 11
        },
        {
          "output_type": "stream",
          "name": "stdout",
          "text": [
            "time: 4.47 ms (started: 2022-12-12 09:12:16 +00:00)\n"
          ]
        }
      ],
      "source": [
        "main_data.narasi.duplicated(keep=\"first\").value_counts()"
      ]
    },
    {
      "cell_type": "code",
      "execution_count": null,
      "metadata": {
        "id": "UFqYW38ha7rA",
        "colab": {
          "base_uri": "https://localhost:8080/"
        },
        "outputId": "37ac0c47-6d6d-4e60-c99c-a05649250831"
      },
      "outputs": [
        {
          "output_type": "execute_result",
          "data": {
            "text/plain": [
              "False    7528\n",
              "Name: narasi, dtype: int64"
            ]
          },
          "metadata": {},
          "execution_count": 12
        },
        {
          "output_type": "stream",
          "name": "stdout",
          "text": [
            "time: 14.4 ms (started: 2022-12-12 09:12:16 +00:00)\n"
          ]
        }
      ],
      "source": [
        "main_data.drop_duplicates(subset=\"narasi\", keep=\"first\", inplace=True)\n",
        "main_data.reset_index(drop=True, inplace=True)\n",
        "main_data.narasi.duplicated(keep=\"first\").value_counts()"
      ]
    },
    {
      "cell_type": "code",
      "execution_count": null,
      "metadata": {
        "id": "l8CaqT5bbGcO",
        "colab": {
          "base_uri": "https://localhost:8080/"
        },
        "outputId": "95823c0e-c2cf-4f79-b06a-2a98c590f5cc"
      },
      "outputs": [
        {
          "output_type": "stream",
          "name": "stdout",
          "text": [
            "Categories:\n",
            " ['Konten Yang Menyesatkan' 'Konten Yang Salah' 'Satire/Parodi'\n",
            " 'Konten Palsu' 'Konten Yang Dimanipulasi' 'Konten Tiruan'\n",
            " 'Koneksi Yang Salah' 'Valid']\n",
            "time: 1.66 ms (started: 2022-12-12 09:12:16 +00:00)\n"
          ]
        }
      ],
      "source": [
        "categories = main_data.kategori.unique()\n",
        "print(\"Categories:\\n\", categories)"
      ]
    },
    {
      "cell_type": "code",
      "execution_count": null,
      "metadata": {
        "id": "bFeg5EXhY27p",
        "colab": {
          "base_uri": "https://localhost:8080/"
        },
        "outputId": "b0eb392f-efe6-4e66-883b-064e11d2aa90"
      },
      "outputs": [
        {
          "output_type": "execute_result",
          "data": {
            "text/plain": [
              "Valid                       2349\n",
              "Konten Yang Menyesatkan     1882\n",
              "Konten Yang Salah           1313\n",
              "Konten Palsu                 768\n",
              "Konten Yang Dimanipulasi     643\n",
              "Konten Tiruan                360\n",
              "Satire/Parodi                125\n",
              "Koneksi Yang Salah            88\n",
              "Name: kategori, dtype: int64"
            ]
          },
          "metadata": {},
          "execution_count": 14
        },
        {
          "output_type": "stream",
          "name": "stdout",
          "text": [
            "time: 4.04 ms (started: 2022-12-12 09:12:16 +00:00)\n"
          ]
        }
      ],
      "source": [
        "main_data.kategori.value_counts()"
      ]
    },
    {
      "cell_type": "code",
      "execution_count": null,
      "metadata": {
        "id": "ro4nIgg9H7Sg",
        "colab": {
          "base_uri": "https://localhost:8080/"
        },
        "outputId": "2cfad8d4-6e44-4d73-90aa-24d36df4bdba"
      },
      "outputs": [
        {
          "output_type": "execute_result",
          "data": {
            "text/plain": [
              "Misleading Content/False Context/Manipulated Content    3838\n",
              "Valid                                                   2349\n",
              "Fabricated Content/Imposter Content                     1128\n",
              "Name: kategori, dtype: int64"
            ]
          },
          "metadata": {},
          "execution_count": 15
        },
        {
          "output_type": "stream",
          "name": "stdout",
          "text": [
            "time: 13.8 ms (started: 2022-12-12 09:12:16 +00:00)\n"
          ]
        }
      ],
      "source": [
        "main_data.loc[main_data['kategori'] == 'Konten Yang Salah', 'kategori'] = 'Misleading Content/False Context/Manipulated Content'\n",
        "main_data.loc[main_data['kategori'] == 'Konten Yang Menyesatkan', 'kategori'] = 'Misleading Content/False Context/Manipulated Content'\n",
        "main_data.loc[main_data['kategori'] == 'Konten Yang Dimanipulasi', 'kategori'] = 'Misleading Content/False Context/Manipulated Content'\n",
        "\n",
        "main_data.loc[main_data['kategori'] == 'Konten Palsu', 'kategori'] = 'Fabricated Content/Imposter Content'\n",
        "main_data.loc[main_data['kategori'] == 'Konten Tiruan', 'kategori'] = 'Fabricated Content/Imposter Content'\n",
        "\n",
        "main_data = main_data[main_data['kategori'] != 'Koneksi Yang Salah']\n",
        "main_data = main_data[main_data['kategori'] != 'Satire/Parodi']\n",
        "\n",
        "main_data.reset_index(drop=True, inplace=True)\n",
        "main_data.kategori.value_counts()"
      ]
    },
    {
      "cell_type": "code",
      "source": [
        "XVal, YVal = list(main_data['narasi']), list(main_data['kategori'])"
      ],
      "metadata": {
        "id": "i7xGca_YyJAQ",
        "colab": {
          "base_uri": "https://localhost:8080/"
        },
        "outputId": "b9cc7a05-8b28-461d-c74a-bffad4eecf1e"
      },
      "execution_count": null,
      "outputs": [
        {
          "output_type": "stream",
          "name": "stdout",
          "text": [
            "time: 1.64 ms (started: 2022-12-12 09:12:16 +00:00)\n"
          ]
        }
      ]
    },
    {
      "cell_type": "code",
      "source": [
        "data = main_data"
      ],
      "metadata": {
        "id": "5h0preQLxHzu",
        "colab": {
          "base_uri": "https://localhost:8080/"
        },
        "outputId": "cb4720f4-143a-4f6e-f190-8ee250184320"
      },
      "execution_count": null,
      "outputs": [
        {
          "output_type": "stream",
          "name": "stdout",
          "text": [
            "time: 349 µs (started: 2022-12-12 09:12:16 +00:00)\n"
          ]
        }
      ]
    },
    {
      "cell_type": "code",
      "execution_count": null,
      "metadata": {
        "id": "cXgYsVRmcfCG",
        "colab": {
          "base_uri": "https://localhost:8080/"
        },
        "outputId": "b16d7b29-591e-40ed-a069-a847f7be3e03"
      },
      "outputs": [
        {
          "output_type": "stream",
          "name": "stdout",
          "text": [
            "time: 13 ms (started: 2022-12-12 09:12:16 +00:00)\n"
          ]
        }
      ],
      "source": [
        "data['words'] = [len(x.split()) for x in data['narasi'].tolist()]"
      ]
    },
    {
      "cell_type": "code",
      "execution_count": null,
      "metadata": {
        "id": "iDPyzOoYcolt",
        "colab": {
          "base_uri": "https://localhost:8080/",
          "height": 286
        },
        "outputId": "bced635a-63ac-427b-9b5d-3db0af9afced"
      },
      "outputs": [
        {
          "output_type": "execute_result",
          "data": {
            "text/plain": [
              "   words  \\\n",
              "0     10   \n",
              "1      8   \n",
              "2      4   \n",
              "3      5   \n",
              "4     21   \n",
              "\n",
              "                                                                                                                                          narasi  \n",
              "0                                                                          buaya meter terbesar dunia ditemukan danau kota maine amerika serikat  \n",
              "1                                                                                 demo memprotes kecurangan hasil pemilihan umum brazil november  \n",
              "2                                                                                                                    warga bogor meninggal hidup  \n",
              "3                                                                                                             fauci akui vaksin melindungi covid  \n",
              "4  vaksin gratis set box punah gratis ternyata ternyata dalamnya rangkaian bluetooth low energy device membaca data orang orang yg divaksin aduh  "
            ],
            "text/html": [
              "\n",
              "  <div id=\"df-f8eaf080-b976-4da9-a1f1-a3cb2dde2291\">\n",
              "    <div class=\"colab-df-container\">\n",
              "      <div>\n",
              "<style scoped>\n",
              "    .dataframe tbody tr th:only-of-type {\n",
              "        vertical-align: middle;\n",
              "    }\n",
              "\n",
              "    .dataframe tbody tr th {\n",
              "        vertical-align: top;\n",
              "    }\n",
              "\n",
              "    .dataframe thead th {\n",
              "        text-align: right;\n",
              "    }\n",
              "</style>\n",
              "<table border=\"1\" class=\"dataframe\">\n",
              "  <thead>\n",
              "    <tr style=\"text-align: right;\">\n",
              "      <th></th>\n",
              "      <th>words</th>\n",
              "      <th>narasi</th>\n",
              "    </tr>\n",
              "  </thead>\n",
              "  <tbody>\n",
              "    <tr>\n",
              "      <th>0</th>\n",
              "      <td>10</td>\n",
              "      <td>buaya meter terbesar dunia ditemukan danau kota maine amerika serikat</td>\n",
              "    </tr>\n",
              "    <tr>\n",
              "      <th>1</th>\n",
              "      <td>8</td>\n",
              "      <td>demo memprotes kecurangan hasil pemilihan umum brazil november</td>\n",
              "    </tr>\n",
              "    <tr>\n",
              "      <th>2</th>\n",
              "      <td>4</td>\n",
              "      <td>warga bogor meninggal hidup</td>\n",
              "    </tr>\n",
              "    <tr>\n",
              "      <th>3</th>\n",
              "      <td>5</td>\n",
              "      <td>fauci akui vaksin melindungi covid</td>\n",
              "    </tr>\n",
              "    <tr>\n",
              "      <th>4</th>\n",
              "      <td>21</td>\n",
              "      <td>vaksin gratis set box punah gratis ternyata ternyata dalamnya rangkaian bluetooth low energy device membaca data orang orang yg divaksin aduh</td>\n",
              "    </tr>\n",
              "  </tbody>\n",
              "</table>\n",
              "</div>\n",
              "      <button class=\"colab-df-convert\" onclick=\"convertToInteractive('df-f8eaf080-b976-4da9-a1f1-a3cb2dde2291')\"\n",
              "              title=\"Convert this dataframe to an interactive table.\"\n",
              "              style=\"display:none;\">\n",
              "        \n",
              "  <svg xmlns=\"http://www.w3.org/2000/svg\" height=\"24px\"viewBox=\"0 0 24 24\"\n",
              "       width=\"24px\">\n",
              "    <path d=\"M0 0h24v24H0V0z\" fill=\"none\"/>\n",
              "    <path d=\"M18.56 5.44l.94 2.06.94-2.06 2.06-.94-2.06-.94-.94-2.06-.94 2.06-2.06.94zm-11 1L8.5 8.5l.94-2.06 2.06-.94-2.06-.94L8.5 2.5l-.94 2.06-2.06.94zm10 10l.94 2.06.94-2.06 2.06-.94-2.06-.94-.94-2.06-.94 2.06-2.06.94z\"/><path d=\"M17.41 7.96l-1.37-1.37c-.4-.4-.92-.59-1.43-.59-.52 0-1.04.2-1.43.59L10.3 9.45l-7.72 7.72c-.78.78-.78 2.05 0 2.83L4 21.41c.39.39.9.59 1.41.59.51 0 1.02-.2 1.41-.59l7.78-7.78 2.81-2.81c.8-.78.8-2.07 0-2.86zM5.41 20L4 18.59l7.72-7.72 1.47 1.35L5.41 20z\"/>\n",
              "  </svg>\n",
              "      </button>\n",
              "      \n",
              "  <style>\n",
              "    .colab-df-container {\n",
              "      display:flex;\n",
              "      flex-wrap:wrap;\n",
              "      gap: 12px;\n",
              "    }\n",
              "\n",
              "    .colab-df-convert {\n",
              "      background-color: #E8F0FE;\n",
              "      border: none;\n",
              "      border-radius: 50%;\n",
              "      cursor: pointer;\n",
              "      display: none;\n",
              "      fill: #1967D2;\n",
              "      height: 32px;\n",
              "      padding: 0 0 0 0;\n",
              "      width: 32px;\n",
              "    }\n",
              "\n",
              "    .colab-df-convert:hover {\n",
              "      background-color: #E2EBFA;\n",
              "      box-shadow: 0px 1px 2px rgba(60, 64, 67, 0.3), 0px 1px 3px 1px rgba(60, 64, 67, 0.15);\n",
              "      fill: #174EA6;\n",
              "    }\n",
              "\n",
              "    [theme=dark] .colab-df-convert {\n",
              "      background-color: #3B4455;\n",
              "      fill: #D2E3FC;\n",
              "    }\n",
              "\n",
              "    [theme=dark] .colab-df-convert:hover {\n",
              "      background-color: #434B5C;\n",
              "      box-shadow: 0px 1px 3px 1px rgba(0, 0, 0, 0.15);\n",
              "      filter: drop-shadow(0px 1px 2px rgba(0, 0, 0, 0.3));\n",
              "      fill: #FFFFFF;\n",
              "    }\n",
              "  </style>\n",
              "\n",
              "      <script>\n",
              "        const buttonEl =\n",
              "          document.querySelector('#df-f8eaf080-b976-4da9-a1f1-a3cb2dde2291 button.colab-df-convert');\n",
              "        buttonEl.style.display =\n",
              "          google.colab.kernel.accessAllowed ? 'block' : 'none';\n",
              "\n",
              "        async function convertToInteractive(key) {\n",
              "          const element = document.querySelector('#df-f8eaf080-b976-4da9-a1f1-a3cb2dde2291');\n",
              "          const dataTable =\n",
              "            await google.colab.kernel.invokeFunction('convertToInteractive',\n",
              "                                                     [key], {});\n",
              "          if (!dataTable) return;\n",
              "\n",
              "          const docLinkHtml = 'Like what you see? Visit the ' +\n",
              "            '<a target=\"_blank\" href=https://colab.research.google.com/notebooks/data_table.ipynb>data table notebook</a>'\n",
              "            + ' to learn more about interactive tables.';\n",
              "          element.innerHTML = '';\n",
              "          dataTable['output_type'] = 'display_data';\n",
              "          await google.colab.output.renderOutput(dataTable, element);\n",
              "          const docLink = document.createElement('div');\n",
              "          docLink.innerHTML = docLinkHtml;\n",
              "          element.appendChild(docLink);\n",
              "        }\n",
              "      </script>\n",
              "    </div>\n",
              "  </div>\n",
              "  "
            ]
          },
          "metadata": {},
          "execution_count": 19
        },
        {
          "output_type": "stream",
          "name": "stdout",
          "text": [
            "time: 6.26 ms (started: 2022-12-12 09:12:16 +00:00)\n"
          ]
        }
      ],
      "source": [
        "data[['words','narasi']].head()"
      ]
    },
    {
      "cell_type": "code",
      "execution_count": null,
      "metadata": {
        "id": "ujBkLajucvRC",
        "colab": {
          "base_uri": "https://localhost:8080/"
        },
        "outputId": "395156ae-4fe7-4adf-a57c-edabedd1e96c"
      },
      "outputs": [
        {
          "output_type": "execute_result",
          "data": {
            "text/plain": [
              "count    7315.000000\n",
              "mean       24.798770\n",
              "std        34.406444\n",
              "min         2.000000\n",
              "25%        10.000000\n",
              "50%        18.000000\n",
              "75%        27.000000\n",
              "max      1139.000000\n",
              "Name: words, dtype: float64"
            ]
          },
          "metadata": {},
          "execution_count": 20
        },
        {
          "output_type": "stream",
          "name": "stdout",
          "text": [
            "time: 8.17 ms (started: 2022-12-12 09:12:16 +00:00)\n"
          ]
        }
      ],
      "source": [
        "data['words'].describe()"
      ]
    },
    {
      "cell_type": "code",
      "execution_count": null,
      "metadata": {
        "id": "EXo02Sfucz2V",
        "colab": {
          "base_uri": "https://localhost:8080/",
          "height": 272
        },
        "outputId": "529bda2c-5c7a-4aee-d33e-8f2267e0198d"
      },
      "outputs": [
        {
          "output_type": "execute_result",
          "data": {
            "text/plain": [
              "                                                       count       mean  \\\n",
              "kategori                                                                  \n",
              "Fabricated Content/Imposter Content                   1128.0  34.176418   \n",
              "Misleading Content/False Context/Manipulated Content  3838.0  22.686816   \n",
              "Valid                                                 2349.0  23.746275   \n",
              "\n",
              "                                                            std  min   25%  \\\n",
              "kategori                                                                     \n",
              "Fabricated Content/Imposter Content                   49.519877  3.0   9.0   \n",
              "Misleading Content/False Context/Manipulated Content  38.396630  2.0   8.0   \n",
              "Valid                                                  7.115402  8.0  20.0   \n",
              "\n",
              "                                                       50%   75%     max  \n",
              "kategori                                                                  \n",
              "Fabricated Content/Imposter Content                   17.5  41.0   951.0  \n",
              "Misleading Content/False Context/Manipulated Content  11.0  22.0  1139.0  \n",
              "Valid                                                 23.0  27.0   121.0  "
            ],
            "text/html": [
              "\n",
              "  <div id=\"df-49bf0899-98da-42ab-8c4f-26e9a304fb9c\">\n",
              "    <div class=\"colab-df-container\">\n",
              "      <div>\n",
              "<style scoped>\n",
              "    .dataframe tbody tr th:only-of-type {\n",
              "        vertical-align: middle;\n",
              "    }\n",
              "\n",
              "    .dataframe tbody tr th {\n",
              "        vertical-align: top;\n",
              "    }\n",
              "\n",
              "    .dataframe thead th {\n",
              "        text-align: right;\n",
              "    }\n",
              "</style>\n",
              "<table border=\"1\" class=\"dataframe\">\n",
              "  <thead>\n",
              "    <tr style=\"text-align: right;\">\n",
              "      <th></th>\n",
              "      <th>count</th>\n",
              "      <th>mean</th>\n",
              "      <th>std</th>\n",
              "      <th>min</th>\n",
              "      <th>25%</th>\n",
              "      <th>50%</th>\n",
              "      <th>75%</th>\n",
              "      <th>max</th>\n",
              "    </tr>\n",
              "    <tr>\n",
              "      <th>kategori</th>\n",
              "      <th></th>\n",
              "      <th></th>\n",
              "      <th></th>\n",
              "      <th></th>\n",
              "      <th></th>\n",
              "      <th></th>\n",
              "      <th></th>\n",
              "      <th></th>\n",
              "    </tr>\n",
              "  </thead>\n",
              "  <tbody>\n",
              "    <tr>\n",
              "      <th>Fabricated Content/Imposter Content</th>\n",
              "      <td>1128.0</td>\n",
              "      <td>34.176418</td>\n",
              "      <td>49.519877</td>\n",
              "      <td>3.0</td>\n",
              "      <td>9.0</td>\n",
              "      <td>17.5</td>\n",
              "      <td>41.0</td>\n",
              "      <td>951.0</td>\n",
              "    </tr>\n",
              "    <tr>\n",
              "      <th>Misleading Content/False Context/Manipulated Content</th>\n",
              "      <td>3838.0</td>\n",
              "      <td>22.686816</td>\n",
              "      <td>38.396630</td>\n",
              "      <td>2.0</td>\n",
              "      <td>8.0</td>\n",
              "      <td>11.0</td>\n",
              "      <td>22.0</td>\n",
              "      <td>1139.0</td>\n",
              "    </tr>\n",
              "    <tr>\n",
              "      <th>Valid</th>\n",
              "      <td>2349.0</td>\n",
              "      <td>23.746275</td>\n",
              "      <td>7.115402</td>\n",
              "      <td>8.0</td>\n",
              "      <td>20.0</td>\n",
              "      <td>23.0</td>\n",
              "      <td>27.0</td>\n",
              "      <td>121.0</td>\n",
              "    </tr>\n",
              "  </tbody>\n",
              "</table>\n",
              "</div>\n",
              "      <button class=\"colab-df-convert\" onclick=\"convertToInteractive('df-49bf0899-98da-42ab-8c4f-26e9a304fb9c')\"\n",
              "              title=\"Convert this dataframe to an interactive table.\"\n",
              "              style=\"display:none;\">\n",
              "        \n",
              "  <svg xmlns=\"http://www.w3.org/2000/svg\" height=\"24px\"viewBox=\"0 0 24 24\"\n",
              "       width=\"24px\">\n",
              "    <path d=\"M0 0h24v24H0V0z\" fill=\"none\"/>\n",
              "    <path d=\"M18.56 5.44l.94 2.06.94-2.06 2.06-.94-2.06-.94-.94-2.06-.94 2.06-2.06.94zm-11 1L8.5 8.5l.94-2.06 2.06-.94-2.06-.94L8.5 2.5l-.94 2.06-2.06.94zm10 10l.94 2.06.94-2.06 2.06-.94-2.06-.94-.94-2.06-.94 2.06-2.06.94z\"/><path d=\"M17.41 7.96l-1.37-1.37c-.4-.4-.92-.59-1.43-.59-.52 0-1.04.2-1.43.59L10.3 9.45l-7.72 7.72c-.78.78-.78 2.05 0 2.83L4 21.41c.39.39.9.59 1.41.59.51 0 1.02-.2 1.41-.59l7.78-7.78 2.81-2.81c.8-.78.8-2.07 0-2.86zM5.41 20L4 18.59l7.72-7.72 1.47 1.35L5.41 20z\"/>\n",
              "  </svg>\n",
              "      </button>\n",
              "      \n",
              "  <style>\n",
              "    .colab-df-container {\n",
              "      display:flex;\n",
              "      flex-wrap:wrap;\n",
              "      gap: 12px;\n",
              "    }\n",
              "\n",
              "    .colab-df-convert {\n",
              "      background-color: #E8F0FE;\n",
              "      border: none;\n",
              "      border-radius: 50%;\n",
              "      cursor: pointer;\n",
              "      display: none;\n",
              "      fill: #1967D2;\n",
              "      height: 32px;\n",
              "      padding: 0 0 0 0;\n",
              "      width: 32px;\n",
              "    }\n",
              "\n",
              "    .colab-df-convert:hover {\n",
              "      background-color: #E2EBFA;\n",
              "      box-shadow: 0px 1px 2px rgba(60, 64, 67, 0.3), 0px 1px 3px 1px rgba(60, 64, 67, 0.15);\n",
              "      fill: #174EA6;\n",
              "    }\n",
              "\n",
              "    [theme=dark] .colab-df-convert {\n",
              "      background-color: #3B4455;\n",
              "      fill: #D2E3FC;\n",
              "    }\n",
              "\n",
              "    [theme=dark] .colab-df-convert:hover {\n",
              "      background-color: #434B5C;\n",
              "      box-shadow: 0px 1px 3px 1px rgba(0, 0, 0, 0.15);\n",
              "      filter: drop-shadow(0px 1px 2px rgba(0, 0, 0, 0.3));\n",
              "      fill: #FFFFFF;\n",
              "    }\n",
              "  </style>\n",
              "\n",
              "      <script>\n",
              "        const buttonEl =\n",
              "          document.querySelector('#df-49bf0899-98da-42ab-8c4f-26e9a304fb9c button.colab-df-convert');\n",
              "        buttonEl.style.display =\n",
              "          google.colab.kernel.accessAllowed ? 'block' : 'none';\n",
              "\n",
              "        async function convertToInteractive(key) {\n",
              "          const element = document.querySelector('#df-49bf0899-98da-42ab-8c4f-26e9a304fb9c');\n",
              "          const dataTable =\n",
              "            await google.colab.kernel.invokeFunction('convertToInteractive',\n",
              "                                                     [key], {});\n",
              "          if (!dataTable) return;\n",
              "\n",
              "          const docLinkHtml = 'Like what you see? Visit the ' +\n",
              "            '<a target=\"_blank\" href=https://colab.research.google.com/notebooks/data_table.ipynb>data table notebook</a>'\n",
              "            + ' to learn more about interactive tables.';\n",
              "          element.innerHTML = '';\n",
              "          dataTable['output_type'] = 'display_data';\n",
              "          await google.colab.output.renderOutput(dataTable, element);\n",
              "          const docLink = document.createElement('div');\n",
              "          docLink.innerHTML = docLinkHtml;\n",
              "          element.appendChild(docLink);\n",
              "        }\n",
              "      </script>\n",
              "    </div>\n",
              "  </div>\n",
              "  "
            ]
          },
          "metadata": {},
          "execution_count": 21
        },
        {
          "output_type": "stream",
          "name": "stdout",
          "text": [
            "time: 41.8 ms (started: 2022-12-12 09:12:16 +00:00)\n"
          ]
        }
      ],
      "source": [
        "data.groupby(['kategori'])['words'].describe()"
      ]
    },
    {
      "cell_type": "code",
      "execution_count": null,
      "metadata": {
        "id": "bv32oHF8-3uN",
        "colab": {
          "base_uri": "https://localhost:8080/",
          "height": 272
        },
        "outputId": "7be281a9-05c2-443c-ad96-1f95db7b4ade"
      },
      "outputs": [
        {
          "output_type": "execute_result",
          "data": {
            "text/plain": [
              "                                                       count       mean  \\\n",
              "kategori                                                                  \n",
              "Fabricated Content/Imposter Content                   1118.0  31.190519   \n",
              "Misleading Content/False Context/Manipulated Content  3812.0  20.960913   \n",
              "Valid                                                 2349.0  23.746275   \n",
              "\n",
              "                                                            std  min   25%  \\\n",
              "kategori                                                                     \n",
              "Fabricated Content/Imposter Content                   32.714856  3.0   9.0   \n",
              "Misleading Content/False Context/Manipulated Content  26.427491  3.0   8.0   \n",
              "Valid                                                  7.115402  8.0  20.0   \n",
              "\n",
              "                                                       50%    75%    max  \n",
              "kategori                                                                  \n",
              "Fabricated Content/Imposter Content                   17.0  40.75  196.0  \n",
              "Misleading Content/False Context/Manipulated Content  11.0  22.00  196.0  \n",
              "Valid                                                 23.0  27.00  121.0  "
            ],
            "text/html": [
              "\n",
              "  <div id=\"df-151129d3-1b8b-4055-bca9-8fde056ac7f0\">\n",
              "    <div class=\"colab-df-container\">\n",
              "      <div>\n",
              "<style scoped>\n",
              "    .dataframe tbody tr th:only-of-type {\n",
              "        vertical-align: middle;\n",
              "    }\n",
              "\n",
              "    .dataframe tbody tr th {\n",
              "        vertical-align: top;\n",
              "    }\n",
              "\n",
              "    .dataframe thead th {\n",
              "        text-align: right;\n",
              "    }\n",
              "</style>\n",
              "<table border=\"1\" class=\"dataframe\">\n",
              "  <thead>\n",
              "    <tr style=\"text-align: right;\">\n",
              "      <th></th>\n",
              "      <th>count</th>\n",
              "      <th>mean</th>\n",
              "      <th>std</th>\n",
              "      <th>min</th>\n",
              "      <th>25%</th>\n",
              "      <th>50%</th>\n",
              "      <th>75%</th>\n",
              "      <th>max</th>\n",
              "    </tr>\n",
              "    <tr>\n",
              "      <th>kategori</th>\n",
              "      <th></th>\n",
              "      <th></th>\n",
              "      <th></th>\n",
              "      <th></th>\n",
              "      <th></th>\n",
              "      <th></th>\n",
              "      <th></th>\n",
              "      <th></th>\n",
              "    </tr>\n",
              "  </thead>\n",
              "  <tbody>\n",
              "    <tr>\n",
              "      <th>Fabricated Content/Imposter Content</th>\n",
              "      <td>1118.0</td>\n",
              "      <td>31.190519</td>\n",
              "      <td>32.714856</td>\n",
              "      <td>3.0</td>\n",
              "      <td>9.0</td>\n",
              "      <td>17.0</td>\n",
              "      <td>40.75</td>\n",
              "      <td>196.0</td>\n",
              "    </tr>\n",
              "    <tr>\n",
              "      <th>Misleading Content/False Context/Manipulated Content</th>\n",
              "      <td>3812.0</td>\n",
              "      <td>20.960913</td>\n",
              "      <td>26.427491</td>\n",
              "      <td>3.0</td>\n",
              "      <td>8.0</td>\n",
              "      <td>11.0</td>\n",
              "      <td>22.00</td>\n",
              "      <td>196.0</td>\n",
              "    </tr>\n",
              "    <tr>\n",
              "      <th>Valid</th>\n",
              "      <td>2349.0</td>\n",
              "      <td>23.746275</td>\n",
              "      <td>7.115402</td>\n",
              "      <td>8.0</td>\n",
              "      <td>20.0</td>\n",
              "      <td>23.0</td>\n",
              "      <td>27.00</td>\n",
              "      <td>121.0</td>\n",
              "    </tr>\n",
              "  </tbody>\n",
              "</table>\n",
              "</div>\n",
              "      <button class=\"colab-df-convert\" onclick=\"convertToInteractive('df-151129d3-1b8b-4055-bca9-8fde056ac7f0')\"\n",
              "              title=\"Convert this dataframe to an interactive table.\"\n",
              "              style=\"display:none;\">\n",
              "        \n",
              "  <svg xmlns=\"http://www.w3.org/2000/svg\" height=\"24px\"viewBox=\"0 0 24 24\"\n",
              "       width=\"24px\">\n",
              "    <path d=\"M0 0h24v24H0V0z\" fill=\"none\"/>\n",
              "    <path d=\"M18.56 5.44l.94 2.06.94-2.06 2.06-.94-2.06-.94-.94-2.06-.94 2.06-2.06.94zm-11 1L8.5 8.5l.94-2.06 2.06-.94-2.06-.94L8.5 2.5l-.94 2.06-2.06.94zm10 10l.94 2.06.94-2.06 2.06-.94-2.06-.94-.94-2.06-.94 2.06-2.06.94z\"/><path d=\"M17.41 7.96l-1.37-1.37c-.4-.4-.92-.59-1.43-.59-.52 0-1.04.2-1.43.59L10.3 9.45l-7.72 7.72c-.78.78-.78 2.05 0 2.83L4 21.41c.39.39.9.59 1.41.59.51 0 1.02-.2 1.41-.59l7.78-7.78 2.81-2.81c.8-.78.8-2.07 0-2.86zM5.41 20L4 18.59l7.72-7.72 1.47 1.35L5.41 20z\"/>\n",
              "  </svg>\n",
              "      </button>\n",
              "      \n",
              "  <style>\n",
              "    .colab-df-container {\n",
              "      display:flex;\n",
              "      flex-wrap:wrap;\n",
              "      gap: 12px;\n",
              "    }\n",
              "\n",
              "    .colab-df-convert {\n",
              "      background-color: #E8F0FE;\n",
              "      border: none;\n",
              "      border-radius: 50%;\n",
              "      cursor: pointer;\n",
              "      display: none;\n",
              "      fill: #1967D2;\n",
              "      height: 32px;\n",
              "      padding: 0 0 0 0;\n",
              "      width: 32px;\n",
              "    }\n",
              "\n",
              "    .colab-df-convert:hover {\n",
              "      background-color: #E2EBFA;\n",
              "      box-shadow: 0px 1px 2px rgba(60, 64, 67, 0.3), 0px 1px 3px 1px rgba(60, 64, 67, 0.15);\n",
              "      fill: #174EA6;\n",
              "    }\n",
              "\n",
              "    [theme=dark] .colab-df-convert {\n",
              "      background-color: #3B4455;\n",
              "      fill: #D2E3FC;\n",
              "    }\n",
              "\n",
              "    [theme=dark] .colab-df-convert:hover {\n",
              "      background-color: #434B5C;\n",
              "      box-shadow: 0px 1px 3px 1px rgba(0, 0, 0, 0.15);\n",
              "      filter: drop-shadow(0px 1px 2px rgba(0, 0, 0, 0.3));\n",
              "      fill: #FFFFFF;\n",
              "    }\n",
              "  </style>\n",
              "\n",
              "      <script>\n",
              "        const buttonEl =\n",
              "          document.querySelector('#df-151129d3-1b8b-4055-bca9-8fde056ac7f0 button.colab-df-convert');\n",
              "        buttonEl.style.display =\n",
              "          google.colab.kernel.accessAllowed ? 'block' : 'none';\n",
              "\n",
              "        async function convertToInteractive(key) {\n",
              "          const element = document.querySelector('#df-151129d3-1b8b-4055-bca9-8fde056ac7f0');\n",
              "          const dataTable =\n",
              "            await google.colab.kernel.invokeFunction('convertToInteractive',\n",
              "                                                     [key], {});\n",
              "          if (!dataTable) return;\n",
              "\n",
              "          const docLinkHtml = 'Like what you see? Visit the ' +\n",
              "            '<a target=\"_blank\" href=https://colab.research.google.com/notebooks/data_table.ipynb>data table notebook</a>'\n",
              "            + ' to learn more about interactive tables.';\n",
              "          element.innerHTML = '';\n",
              "          dataTable['output_type'] = 'display_data';\n",
              "          await google.colab.output.renderOutput(dataTable, element);\n",
              "          const docLink = document.createElement('div');\n",
              "          docLink.innerHTML = docLinkHtml;\n",
              "          element.appendChild(docLink);\n",
              "        }\n",
              "      </script>\n",
              "    </div>\n",
              "  </div>\n",
              "  "
            ]
          },
          "metadata": {},
          "execution_count": 22
        },
        {
          "output_type": "stream",
          "name": "stdout",
          "text": [
            "time: 19.6 ms (started: 2022-12-12 09:12:16 +00:00)\n"
          ]
        }
      ],
      "source": [
        "data = data[data['words']<=200]\n",
        "data = data[data['words']>=3]\n",
        "data.groupby(['kategori'])['words'].describe()"
      ]
    },
    {
      "cell_type": "code",
      "execution_count": null,
      "metadata": {
        "id": "1ObiXX15T1At",
        "colab": {
          "base_uri": "https://localhost:8080/",
          "height": 272
        },
        "outputId": "dd829fe1-ff1f-4e94-bec4-5e8b5b135cf6"
      },
      "outputs": [
        {
          "output_type": "execute_result",
          "data": {
            "text/plain": [
              "                                                       count       mean  \\\n",
              "kategori                                                                  \n",
              "Fabricated Content/Imposter Content                   1118.0  31.190519   \n",
              "Misleading Content/False Context/Manipulated Content  1118.0  24.962433   \n",
              "Valid                                                 1118.0  24.450805   \n",
              "\n",
              "                                                            std   min   25%  \\\n",
              "kategori                                                                      \n",
              "Fabricated Content/Imposter Content                   32.714856   3.0   9.0   \n",
              "Misleading Content/False Context/Manipulated Content  30.107245   3.0   8.0   \n",
              "Valid                                                  7.682183  11.0  20.0   \n",
              "\n",
              "                                                       50%    75%    max  \n",
              "kategori                                                                  \n",
              "Fabricated Content/Imposter Content                   17.0  40.75  196.0  \n",
              "Misleading Content/False Context/Manipulated Content  13.0  28.00  194.0  \n",
              "Valid                                                 23.0  27.00  121.0  "
            ],
            "text/html": [
              "\n",
              "  <div id=\"df-5c4a57ca-179c-4ff4-8112-63c1c8ade79f\">\n",
              "    <div class=\"colab-df-container\">\n",
              "      <div>\n",
              "<style scoped>\n",
              "    .dataframe tbody tr th:only-of-type {\n",
              "        vertical-align: middle;\n",
              "    }\n",
              "\n",
              "    .dataframe tbody tr th {\n",
              "        vertical-align: top;\n",
              "    }\n",
              "\n",
              "    .dataframe thead th {\n",
              "        text-align: right;\n",
              "    }\n",
              "</style>\n",
              "<table border=\"1\" class=\"dataframe\">\n",
              "  <thead>\n",
              "    <tr style=\"text-align: right;\">\n",
              "      <th></th>\n",
              "      <th>count</th>\n",
              "      <th>mean</th>\n",
              "      <th>std</th>\n",
              "      <th>min</th>\n",
              "      <th>25%</th>\n",
              "      <th>50%</th>\n",
              "      <th>75%</th>\n",
              "      <th>max</th>\n",
              "    </tr>\n",
              "    <tr>\n",
              "      <th>kategori</th>\n",
              "      <th></th>\n",
              "      <th></th>\n",
              "      <th></th>\n",
              "      <th></th>\n",
              "      <th></th>\n",
              "      <th></th>\n",
              "      <th></th>\n",
              "      <th></th>\n",
              "    </tr>\n",
              "  </thead>\n",
              "  <tbody>\n",
              "    <tr>\n",
              "      <th>Fabricated Content/Imposter Content</th>\n",
              "      <td>1118.0</td>\n",
              "      <td>31.190519</td>\n",
              "      <td>32.714856</td>\n",
              "      <td>3.0</td>\n",
              "      <td>9.0</td>\n",
              "      <td>17.0</td>\n",
              "      <td>40.75</td>\n",
              "      <td>196.0</td>\n",
              "    </tr>\n",
              "    <tr>\n",
              "      <th>Misleading Content/False Context/Manipulated Content</th>\n",
              "      <td>1118.0</td>\n",
              "      <td>24.962433</td>\n",
              "      <td>30.107245</td>\n",
              "      <td>3.0</td>\n",
              "      <td>8.0</td>\n",
              "      <td>13.0</td>\n",
              "      <td>28.00</td>\n",
              "      <td>194.0</td>\n",
              "    </tr>\n",
              "    <tr>\n",
              "      <th>Valid</th>\n",
              "      <td>1118.0</td>\n",
              "      <td>24.450805</td>\n",
              "      <td>7.682183</td>\n",
              "      <td>11.0</td>\n",
              "      <td>20.0</td>\n",
              "      <td>23.0</td>\n",
              "      <td>27.00</td>\n",
              "      <td>121.0</td>\n",
              "    </tr>\n",
              "  </tbody>\n",
              "</table>\n",
              "</div>\n",
              "      <button class=\"colab-df-convert\" onclick=\"convertToInteractive('df-5c4a57ca-179c-4ff4-8112-63c1c8ade79f')\"\n",
              "              title=\"Convert this dataframe to an interactive table.\"\n",
              "              style=\"display:none;\">\n",
              "        \n",
              "  <svg xmlns=\"http://www.w3.org/2000/svg\" height=\"24px\"viewBox=\"0 0 24 24\"\n",
              "       width=\"24px\">\n",
              "    <path d=\"M0 0h24v24H0V0z\" fill=\"none\"/>\n",
              "    <path d=\"M18.56 5.44l.94 2.06.94-2.06 2.06-.94-2.06-.94-.94-2.06-.94 2.06-2.06.94zm-11 1L8.5 8.5l.94-2.06 2.06-.94-2.06-.94L8.5 2.5l-.94 2.06-2.06.94zm10 10l.94 2.06.94-2.06 2.06-.94-2.06-.94-.94-2.06-.94 2.06-2.06.94z\"/><path d=\"M17.41 7.96l-1.37-1.37c-.4-.4-.92-.59-1.43-.59-.52 0-1.04.2-1.43.59L10.3 9.45l-7.72 7.72c-.78.78-.78 2.05 0 2.83L4 21.41c.39.39.9.59 1.41.59.51 0 1.02-.2 1.41-.59l7.78-7.78 2.81-2.81c.8-.78.8-2.07 0-2.86zM5.41 20L4 18.59l7.72-7.72 1.47 1.35L5.41 20z\"/>\n",
              "  </svg>\n",
              "      </button>\n",
              "      \n",
              "  <style>\n",
              "    .colab-df-container {\n",
              "      display:flex;\n",
              "      flex-wrap:wrap;\n",
              "      gap: 12px;\n",
              "    }\n",
              "\n",
              "    .colab-df-convert {\n",
              "      background-color: #E8F0FE;\n",
              "      border: none;\n",
              "      border-radius: 50%;\n",
              "      cursor: pointer;\n",
              "      display: none;\n",
              "      fill: #1967D2;\n",
              "      height: 32px;\n",
              "      padding: 0 0 0 0;\n",
              "      width: 32px;\n",
              "    }\n",
              "\n",
              "    .colab-df-convert:hover {\n",
              "      background-color: #E2EBFA;\n",
              "      box-shadow: 0px 1px 2px rgba(60, 64, 67, 0.3), 0px 1px 3px 1px rgba(60, 64, 67, 0.15);\n",
              "      fill: #174EA6;\n",
              "    }\n",
              "\n",
              "    [theme=dark] .colab-df-convert {\n",
              "      background-color: #3B4455;\n",
              "      fill: #D2E3FC;\n",
              "    }\n",
              "\n",
              "    [theme=dark] .colab-df-convert:hover {\n",
              "      background-color: #434B5C;\n",
              "      box-shadow: 0px 1px 3px 1px rgba(0, 0, 0, 0.15);\n",
              "      filter: drop-shadow(0px 1px 2px rgba(0, 0, 0, 0.3));\n",
              "      fill: #FFFFFF;\n",
              "    }\n",
              "  </style>\n",
              "\n",
              "      <script>\n",
              "        const buttonEl =\n",
              "          document.querySelector('#df-5c4a57ca-179c-4ff4-8112-63c1c8ade79f button.colab-df-convert');\n",
              "        buttonEl.style.display =\n",
              "          google.colab.kernel.accessAllowed ? 'block' : 'none';\n",
              "\n",
              "        async function convertToInteractive(key) {\n",
              "          const element = document.querySelector('#df-5c4a57ca-179c-4ff4-8112-63c1c8ade79f');\n",
              "          const dataTable =\n",
              "            await google.colab.kernel.invokeFunction('convertToInteractive',\n",
              "                                                     [key], {});\n",
              "          if (!dataTable) return;\n",
              "\n",
              "          const docLinkHtml = 'Like what you see? Visit the ' +\n",
              "            '<a target=\"_blank\" href=https://colab.research.google.com/notebooks/data_table.ipynb>data table notebook</a>'\n",
              "            + ' to learn more about interactive tables.';\n",
              "          element.innerHTML = '';\n",
              "          dataTable['output_type'] = 'display_data';\n",
              "          await google.colab.output.renderOutput(dataTable, element);\n",
              "          const docLink = document.createElement('div');\n",
              "          docLink.innerHTML = docLinkHtml;\n",
              "          element.appendChild(docLink);\n",
              "        }\n",
              "      </script>\n",
              "    </div>\n",
              "  </div>\n",
              "  "
            ]
          },
          "metadata": {},
          "execution_count": 23
        },
        {
          "output_type": "stream",
          "name": "stdout",
          "text": [
            "time: 32.1 ms (started: 2022-12-12 09:12:16 +00:00)\n"
          ]
        }
      ],
      "source": [
        "data[data['kategori']=='Valid'] = data[data['kategori']=='Valid'][1000:2118]\n",
        "data[data['kategori']=='Misleading Content/False Context/Manipulated Content'] = data[data['kategori']=='Misleading Content/False Context/Manipulated Content'][1000:2118]\n",
        "\n",
        "data = data.dropna()\n",
        "data.reset_index(drop=True, inplace=True)\n",
        "data.groupby(['kategori'])['words'].describe()"
      ]
    },
    {
      "cell_type": "code",
      "execution_count": null,
      "metadata": {
        "id": "2SUUY3GDXJa6",
        "colab": {
          "base_uri": "https://localhost:8080/"
        },
        "outputId": "3c19a14b-e719-4dfb-a794-4143c901fc03"
      },
      "outputs": [
        {
          "output_type": "stream",
          "name": "stdout",
          "text": [
            "time: 112 ms (started: 2022-12-12 09:12:16 +00:00)\n"
          ]
        }
      ],
      "source": [
        "word_freq = data['narasi'].str.split(expand=True).stack().value_counts()\n",
        "word_freq = word_freq.reset_index(name='freq').rename(columns={'index': 'word'})"
      ]
    },
    {
      "cell_type": "code",
      "execution_count": null,
      "metadata": {
        "id": "3fMIhh63uAJE",
        "colab": {
          "base_uri": "https://localhost:8080/",
          "height": 381
        },
        "outputId": "a32f9ec6-1185-41b8-9510-1b0b17cf1295"
      },
      "outputs": [
        {
          "output_type": "execute_result",
          "data": {
            "text/plain": [
              "        word  freq\n",
              "0  indonesia   686\n",
              "1      orang   486\n",
              "2      tahun   366\n",
              "3     negara   319\n",
              "4      covid   316\n",
              "5       hari   296\n",
              "6    jakarta   293\n",
              "7   tersebut   290\n",
              "8      yosua   290\n",
              "9      video   256"
            ],
            "text/html": [
              "\n",
              "  <div id=\"df-60e34526-932d-4da0-960d-94b008358b6f\">\n",
              "    <div class=\"colab-df-container\">\n",
              "      <div>\n",
              "<style scoped>\n",
              "    .dataframe tbody tr th:only-of-type {\n",
              "        vertical-align: middle;\n",
              "    }\n",
              "\n",
              "    .dataframe tbody tr th {\n",
              "        vertical-align: top;\n",
              "    }\n",
              "\n",
              "    .dataframe thead th {\n",
              "        text-align: right;\n",
              "    }\n",
              "</style>\n",
              "<table border=\"1\" class=\"dataframe\">\n",
              "  <thead>\n",
              "    <tr style=\"text-align: right;\">\n",
              "      <th></th>\n",
              "      <th>word</th>\n",
              "      <th>freq</th>\n",
              "    </tr>\n",
              "  </thead>\n",
              "  <tbody>\n",
              "    <tr>\n",
              "      <th>0</th>\n",
              "      <td>indonesia</td>\n",
              "      <td>686</td>\n",
              "    </tr>\n",
              "    <tr>\n",
              "      <th>1</th>\n",
              "      <td>orang</td>\n",
              "      <td>486</td>\n",
              "    </tr>\n",
              "    <tr>\n",
              "      <th>2</th>\n",
              "      <td>tahun</td>\n",
              "      <td>366</td>\n",
              "    </tr>\n",
              "    <tr>\n",
              "      <th>3</th>\n",
              "      <td>negara</td>\n",
              "      <td>319</td>\n",
              "    </tr>\n",
              "    <tr>\n",
              "      <th>4</th>\n",
              "      <td>covid</td>\n",
              "      <td>316</td>\n",
              "    </tr>\n",
              "    <tr>\n",
              "      <th>5</th>\n",
              "      <td>hari</td>\n",
              "      <td>296</td>\n",
              "    </tr>\n",
              "    <tr>\n",
              "      <th>6</th>\n",
              "      <td>jakarta</td>\n",
              "      <td>293</td>\n",
              "    </tr>\n",
              "    <tr>\n",
              "      <th>7</th>\n",
              "      <td>tersebut</td>\n",
              "      <td>290</td>\n",
              "    </tr>\n",
              "    <tr>\n",
              "      <th>8</th>\n",
              "      <td>yosua</td>\n",
              "      <td>290</td>\n",
              "    </tr>\n",
              "    <tr>\n",
              "      <th>9</th>\n",
              "      <td>video</td>\n",
              "      <td>256</td>\n",
              "    </tr>\n",
              "  </tbody>\n",
              "</table>\n",
              "</div>\n",
              "      <button class=\"colab-df-convert\" onclick=\"convertToInteractive('df-60e34526-932d-4da0-960d-94b008358b6f')\"\n",
              "              title=\"Convert this dataframe to an interactive table.\"\n",
              "              style=\"display:none;\">\n",
              "        \n",
              "  <svg xmlns=\"http://www.w3.org/2000/svg\" height=\"24px\"viewBox=\"0 0 24 24\"\n",
              "       width=\"24px\">\n",
              "    <path d=\"M0 0h24v24H0V0z\" fill=\"none\"/>\n",
              "    <path d=\"M18.56 5.44l.94 2.06.94-2.06 2.06-.94-2.06-.94-.94-2.06-.94 2.06-2.06.94zm-11 1L8.5 8.5l.94-2.06 2.06-.94-2.06-.94L8.5 2.5l-.94 2.06-2.06.94zm10 10l.94 2.06.94-2.06 2.06-.94-2.06-.94-.94-2.06-.94 2.06-2.06.94z\"/><path d=\"M17.41 7.96l-1.37-1.37c-.4-.4-.92-.59-1.43-.59-.52 0-1.04.2-1.43.59L10.3 9.45l-7.72 7.72c-.78.78-.78 2.05 0 2.83L4 21.41c.39.39.9.59 1.41.59.51 0 1.02-.2 1.41-.59l7.78-7.78 2.81-2.81c.8-.78.8-2.07 0-2.86zM5.41 20L4 18.59l7.72-7.72 1.47 1.35L5.41 20z\"/>\n",
              "  </svg>\n",
              "      </button>\n",
              "      \n",
              "  <style>\n",
              "    .colab-df-container {\n",
              "      display:flex;\n",
              "      flex-wrap:wrap;\n",
              "      gap: 12px;\n",
              "    }\n",
              "\n",
              "    .colab-df-convert {\n",
              "      background-color: #E8F0FE;\n",
              "      border: none;\n",
              "      border-radius: 50%;\n",
              "      cursor: pointer;\n",
              "      display: none;\n",
              "      fill: #1967D2;\n",
              "      height: 32px;\n",
              "      padding: 0 0 0 0;\n",
              "      width: 32px;\n",
              "    }\n",
              "\n",
              "    .colab-df-convert:hover {\n",
              "      background-color: #E2EBFA;\n",
              "      box-shadow: 0px 1px 2px rgba(60, 64, 67, 0.3), 0px 1px 3px 1px rgba(60, 64, 67, 0.15);\n",
              "      fill: #174EA6;\n",
              "    }\n",
              "\n",
              "    [theme=dark] .colab-df-convert {\n",
              "      background-color: #3B4455;\n",
              "      fill: #D2E3FC;\n",
              "    }\n",
              "\n",
              "    [theme=dark] .colab-df-convert:hover {\n",
              "      background-color: #434B5C;\n",
              "      box-shadow: 0px 1px 3px 1px rgba(0, 0, 0, 0.15);\n",
              "      filter: drop-shadow(0px 1px 2px rgba(0, 0, 0, 0.3));\n",
              "      fill: #FFFFFF;\n",
              "    }\n",
              "  </style>\n",
              "\n",
              "      <script>\n",
              "        const buttonEl =\n",
              "          document.querySelector('#df-60e34526-932d-4da0-960d-94b008358b6f button.colab-df-convert');\n",
              "        buttonEl.style.display =\n",
              "          google.colab.kernel.accessAllowed ? 'block' : 'none';\n",
              "\n",
              "        async function convertToInteractive(key) {\n",
              "          const element = document.querySelector('#df-60e34526-932d-4da0-960d-94b008358b6f');\n",
              "          const dataTable =\n",
              "            await google.colab.kernel.invokeFunction('convertToInteractive',\n",
              "                                                     [key], {});\n",
              "          if (!dataTable) return;\n",
              "\n",
              "          const docLinkHtml = 'Like what you see? Visit the ' +\n",
              "            '<a target=\"_blank\" href=https://colab.research.google.com/notebooks/data_table.ipynb>data table notebook</a>'\n",
              "            + ' to learn more about interactive tables.';\n",
              "          element.innerHTML = '';\n",
              "          dataTable['output_type'] = 'display_data';\n",
              "          await google.colab.output.renderOutput(dataTable, element);\n",
              "          const docLink = document.createElement('div');\n",
              "          docLink.innerHTML = docLinkHtml;\n",
              "          element.appendChild(docLink);\n",
              "        }\n",
              "      </script>\n",
              "    </div>\n",
              "  </div>\n",
              "  "
            ]
          },
          "metadata": {},
          "execution_count": 25
        },
        {
          "output_type": "stream",
          "name": "stdout",
          "text": [
            "time: 6.74 ms (started: 2022-12-12 09:12:16 +00:00)\n"
          ]
        }
      ],
      "source": [
        "word_freq.head(10)"
      ]
    },
    {
      "cell_type": "code",
      "execution_count": null,
      "metadata": {
        "id": "8JGMjafHWlvp",
        "colab": {
          "base_uri": "https://localhost:8080/"
        },
        "outputId": "5d74bf0b-c141-4c74-f3f4-18301f0fb454"
      },
      "outputs": [
        {
          "output_type": "stream",
          "name": "stdout",
          "text": [
            "Number of distinct words in raw data:  13513\n",
            "time: 2.57 ms (started: 2022-12-12 09:12:16 +00:00)\n"
          ]
        }
      ],
      "source": [
        "print(\"Number of distinct words in raw data: \", len(list(word_freq['word'])))"
      ]
    },
    {
      "cell_type": "code",
      "execution_count": null,
      "metadata": {
        "id": "d9Qme0pMXpQL",
        "colab": {
          "base_uri": "https://localhost:8080/"
        },
        "outputId": "0762175e-ed15-4faa-a60e-d6fbf53b0ca9"
      },
      "outputs": [
        {
          "output_type": "stream",
          "name": "stdout",
          "text": [
            "13513\n",
            "196\n",
            "time: 3 ms (started: 2022-12-12 09:12:16 +00:00)\n"
          ]
        }
      ],
      "source": [
        "max_words = len(list(word_freq['word']))\n",
        "# max_words = len(list(word_freq[word_freq['freq']>=2]['word']))\n",
        "max_len = int(data['words'].max())\n",
        "\n",
        "print(max_words)\n",
        "print(max_len)"
      ]
    },
    {
      "cell_type": "code",
      "execution_count": null,
      "metadata": {
        "id": "hwnhFQlSZXaQ",
        "colab": {
          "base_uri": "https://localhost:8080/"
        },
        "outputId": "4ee0040c-2aa7-4433-a832-64614dd34320"
      },
      "outputs": [
        {
          "output_type": "stream",
          "name": "stdout",
          "text": [
            "time: 1.98 ms (started: 2022-12-12 09:12:16 +00:00)\n"
          ]
        }
      ],
      "source": [
        "data = data.sample(frac=1)"
      ]
    },
    {
      "cell_type": "code",
      "execution_count": null,
      "metadata": {
        "id": "RR2IrBv7Zryi",
        "colab": {
          "base_uri": "https://localhost:8080/"
        },
        "outputId": "04246f3e-552d-4042-c489-233c9842e1ee"
      },
      "outputs": [
        {
          "output_type": "stream",
          "name": "stdout",
          "text": [
            "(3354, 3)\n",
            "['Fabricated Content/Imposter Content'\n",
            " 'Misleading Content/False Context/Manipulated Content' 'Valid']\n",
            "time: 5.07 ms (started: 2022-12-12 09:12:16 +00:00)\n"
          ]
        }
      ],
      "source": [
        "X, Y = list(data['narasi']), list(data['kategori'])\n",
        "\n",
        "encoder = LabelEncoder()\n",
        "Y = to_categorical(encoder.fit_transform(Y), dtype='uint8')\n",
        "\n",
        "print(Y.shape)\n",
        "print(encoder.classes_)"
      ]
    },
    {
      "cell_type": "code",
      "execution_count": null,
      "metadata": {
        "id": "dsI2pyMQRAjc",
        "colab": {
          "base_uri": "https://localhost:8080/"
        },
        "outputId": "9257f0bd-71ff-41e0-bdf8-4f9d16bfa476"
      },
      "outputs": [
        {
          "output_type": "stream",
          "name": "stdout",
          "text": [
            "[2 2 2 ... 2 2 1]\n",
            "time: 1.1 ms (started: 2022-12-12 09:12:16 +00:00)\n"
          ]
        }
      ],
      "source": [
        "print(np.argmax(Y, axis=1))"
      ]
    },
    {
      "cell_type": "code",
      "execution_count": null,
      "metadata": {
        "id": "rt3dCohqH5Zb",
        "colab": {
          "base_uri": "https://localhost:8080/"
        },
        "outputId": "89b6a616-5d7a-414f-e843-1b9062aa3a6b"
      },
      "outputs": [
        {
          "output_type": "stream",
          "name": "stdout",
          "text": [
            "time: 2.98 ms (started: 2022-12-12 09:12:17 +00:00)\n"
          ]
        }
      ],
      "source": [
        "def define_report(prediction, test):\n",
        "  y_pred_class = np.argmax(prediction, axis=1)\n",
        "  y_class = np.argmax(test, axis=1)\n",
        "  precision, recall, fscore, support = prfs(y_class, y_pred_class)\n",
        "  report = cr(y_class, y_pred_class, target_names = encoder.classes_)\n",
        "  return recall, report\n",
        "\n",
        "def define_confusion(prediction, test):\n",
        "  y_pred_class = np.argmax(prediction, axis=1)\n",
        "  y_class = np.argmax(test, axis=1)\n",
        "  con_mat = cm(labels=y_class, predictions=y_pred_class).numpy()\n",
        "  con_mat_norm = np.around(con_mat.astype('float') / con_mat.sum(axis=1)[:, np.newaxis], decimals=3)\n",
        "  con_mat_df = pd.DataFrame(con_mat_norm, index = encoder.classes_, columns = encoder.classes_)\n",
        "  figure = plt.figure(figsize=(13, 10))\n",
        "  sns.heatmap(con_mat_df, annot=True, fmt='.1%', cmap=plt.cm.Blues)\n",
        "  plt.tight_layout()\n",
        "  plt.ylabel('True label')\n",
        "  plt.xlabel('Predicted label')\n",
        "  plt.show()\n",
        "\n",
        "def define_plot(name, param):\n",
        "  plt.figure(figsize=(15, 7))\n",
        "  plt.title(name)\n",
        "  plt.plot(param.history[name], label='train')\n",
        "  plt.plot(param.history[f'val_{name}'], label='test')\n",
        "  plt.legend()\n",
        "  plt.show();"
      ]
    },
    {
      "cell_type": "markdown",
      "metadata": {
        "id": "SWvGpE2mGuOH"
      },
      "source": [
        "# **Embedding Static Fasttext**"
      ]
    },
    {
      "cell_type": "code",
      "source": [
        "emb_dim = 300\n",
        "def define_embed(vocabSize, wordId):\n",
        "  embedding_matrix = np.zeros((vocabSize, emb_dim))\n",
        "  oov_count = 0\n",
        "  oov_words = []\n",
        "  for word, idx in wordId.items():\n",
        "    if idx < vocabSize:\n",
        "      embedding_vector = embedding_vectors.get(word)\n",
        "      if embedding_vector is not None:\n",
        "        embedding_matrix[idx] = embedding_vector\n",
        "      else:\n",
        "        oov_count += 1 \n",
        "        oov_words.append(word)\n",
        "  return embedding_matrix"
      ],
      "metadata": {
        "id": "mOAK8GRxqNr-",
        "colab": {
          "base_uri": "https://localhost:8080/"
        },
        "outputId": "a7290826-66c7-4905-e642-0a39a21903ac"
      },
      "execution_count": null,
      "outputs": [
        {
          "output_type": "stream",
          "name": "stdout",
          "text": [
            "time: 1.08 ms (started: 2022-12-12 09:12:17 +00:00)\n"
          ]
        }
      ]
    },
    {
      "cell_type": "code",
      "execution_count": null,
      "metadata": {
        "id": "V-GCD9YWGtnK",
        "colab": {
          "base_uri": "https://localhost:8080/"
        },
        "outputId": "625675f4-884a-4c13-9803-a554a01249ac"
      },
      "outputs": [
        {
          "output_type": "stream",
          "name": "stdout",
          "text": [
            "time: 2.21 ms (started: 2022-12-12 09:12:17 +00:00)\n"
          ]
        }
      ],
      "source": [
        "def define_model(kernel_size, activation, optimizer, input_dim, max_length, output_dim = 300, emb_matrix = None ):\n",
        "    \n",
        "    inp = Input( shape=(max_length,))\n",
        "    x = Embedding(input_dim=input_dim, output_dim=output_dim, input_length=max_length,\n",
        "                  # Assign the embedding weight with fasttext embedding matrix\n",
        "                  weights = [emb_matrix],\n",
        "                  # Set the weight to be trainable (dynamic)\n",
        "                  trainable = True\n",
        "                  )(inp)\n",
        "    x = SpatialDropout1D(0.1)(x)\n",
        "    \n",
        "    x = Bidirectional(TCN(64, kernel_size=kernel_size, dilations = [1, 2], return_sequences=True, activation = activation, name = 'tcn1'))(x)\n",
        "    \n",
        "    avg_pool = GlobalAveragePooling1D()(x)\n",
        "    max_pool = GlobalMaxPooling1D()(x)\n",
        "    \n",
        "    conc = concatenate([avg_pool, max_pool])\n",
        "    conc = Dropout(0.5)(conc)\n",
        "    outp = Dense(Y.shape[1], activation=\"softmax\")(conc)   \n",
        "\n",
        "    model = Model(inputs=inp, outputs=outp)\n",
        "    model.compile( loss = 'categorical_crossentropy', optimizer = optimizer, metrics = ['accuracy'])\n",
        "    \n",
        "    return model"
      ]
    },
    {
      "cell_type": "code",
      "execution_count": null,
      "metadata": {
        "id": "LPhRLUCXHbnb",
        "colab": {
          "base_uri": "https://localhost:8080/"
        },
        "outputId": "fceb2e9d-ac67-406e-a958-bae431076e11"
      },
      "outputs": [
        {
          "output_type": "stream",
          "name": "stdout",
          "text": [
            "Model: \"model\"\n",
            "__________________________________________________________________________________________________\n",
            " Layer (type)                   Output Shape         Param #     Connected to                     \n",
            "==================================================================================================\n",
            " input_1 (InputLayer)           [(None, 121)]        0           []                               \n",
            "                                                                                                  \n",
            " embedding (Embedding)          (None, 121, 300)     90000       ['input_1[0][0]']                \n",
            "                                                                                                  \n",
            " spatial_dropout1d (SpatialDrop  (None, 121, 300)    0           ['embedding[0][0]']              \n",
            " out1D)                                                                                           \n",
            "                                                                                                  \n",
            " bidirectional (Bidirectional)  (None, 121, 128)     227968      ['spatial_dropout1d[0][0]']      \n",
            "                                                                                                  \n",
            " global_average_pooling1d (Glob  (None, 128)         0           ['bidirectional[0][0]']          \n",
            " alAveragePooling1D)                                                                              \n",
            "                                                                                                  \n",
            " global_max_pooling1d (GlobalMa  (None, 128)         0           ['bidirectional[0][0]']          \n",
            " xPooling1D)                                                                                      \n",
            "                                                                                                  \n",
            " concatenate (Concatenate)      (None, 256)          0           ['global_average_pooling1d[0][0]'\n",
            "                                                                 , 'global_max_pooling1d[0][0]']  \n",
            "                                                                                                  \n",
            " dropout (Dropout)              (None, 256)          0           ['concatenate[0][0]']            \n",
            "                                                                                                  \n",
            " dense (Dense)                  (None, 3)            771         ['dropout[0][0]']                \n",
            "                                                                                                  \n",
            "==================================================================================================\n",
            "Total params: 318,739\n",
            "Trainable params: 318,739\n",
            "Non-trainable params: 0\n",
            "__________________________________________________________________________________________________\n",
            "time: 3.65 s (started: 2022-12-12 09:12:17 +00:00)\n"
          ]
        }
      ],
      "source": [
        "model0_random = define_model(3, 'relu', 'adam', 300, 121, emb_matrix = np.random.rand(300, 300))\n",
        "model0_random.summary()"
      ]
    },
    {
      "cell_type": "code",
      "execution_count": null,
      "metadata": {
        "id": "7sa-ersrJIWh",
        "colab": {
          "base_uri": "https://localhost:8080/"
        },
        "outputId": "1ff23625-a3db-4d6a-f65f-cebe56d0e131"
      },
      "outputs": [
        {
          "output_type": "stream",
          "name": "stdout",
          "text": [
            "time: 778 µs (started: 2022-12-12 09:12:20 +00:00)\n"
          ]
        }
      ],
      "source": [
        "callbacks = EarlyStopping(monitor='val_loss', min_delta=0, patience=4, verbose=2, mode='min', restore_best_weights=True)"
      ]
    },
    {
      "cell_type": "code",
      "execution_count": null,
      "metadata": {
        "id": "26yvgXgFIDme"
      },
      "outputs": [],
      "source": [
        "trunc_type='post'\n",
        "padding_type='post'\n",
        "oov_tok = \"<UNK>\"\n",
        "activations = ['tanh', 'relu', 'elu', 'selu', 'swish']\n",
        "optimizers = ['adamax']\n",
        "kernel_sizes = [2, 3, 4, 5, 6, 7, 8]\n",
        "\n",
        "columns = ['Optimizer', 'Activation', 'Filters', 'acc1', 'acc2', 'acc3', 'acc4', 'acc5', 'accAVG', 'loss1', 'loss2', 'loss3', 'loss4', 'loss5', 'lossAVG']\n",
        "record = pd.DataFrame(columns = columns)\n",
        "kfold = KFold(n_splits=5, shuffle=True)\n",
        "\n",
        "sentences, labels = X, Y\n",
        "\n",
        "clouds = []\n",
        "valid_selected = []\n",
        "false_selected = []\n",
        "imposter_selected = []\n",
        "models = []\n",
        "recalls = []\n",
        "reports = []\n",
        "metas = []\n",
        "exp = 0\n",
        "\n",
        "for optimizer in optimizers:\n",
        "  for activation in activations:\n",
        "    for kernel_size in kernel_sizes:\n",
        "      exp+=1\n",
        "      print('--------------------------------------------------------------')\n",
        "      print('Training {}: {} optimizer, {} activation, {} kernel size.'.format(exp, optimizer, activation, kernel_size))\n",
        "      print('--------------------------------------------------------------')\n",
        "      acc_list = []\n",
        "      loss_list = []\n",
        "      for train, test in kfold.split(sentences):\n",
        "\n",
        "        train_x, test_x = [], []\n",
        "        train_y, test_y = [], []\n",
        "        \n",
        "        for i in train:\n",
        "          train_x.append(sentences[i])\n",
        "          train_y.append(labels[i])\n",
        "        for i in test:\n",
        "          test_x.append(sentences[i])\n",
        "          test_y.append(labels[i])\n",
        "\n",
        "        train_valid = []\n",
        "        train_false = []\n",
        "        train_imposter = []\n",
        "        for i in range(len(train_y)):\n",
        "          label = list(encoder.inverse_transform([np.argmax(train_y[i])]))[0]\n",
        "          if label == 'Valid':\n",
        "            for j in train_x[i].split(): train_valid.append(j)\n",
        "          if label == 'Misleading Content/False Context/Manipulated Content':\n",
        "            for j in train_x[i].split(): train_false.append(j)\n",
        "          if label == 'Fabricated Content/Imposter Content':\n",
        "            for j in train_x[i].split(): train_imposter.append(j)\n",
        "        \n",
        "        valid_res = dict(Counter(train_valid))\n",
        "        false_res = dict(Counter(train_false))\n",
        "        imposter_res = dict(Counter(train_imposter))\n",
        "        \n",
        "        valid_selected.append({k: v for k, v in sorted(valid_res.items(), key=lambda item: item[1], reverse=True)})\n",
        "        false_selected.append({k: v for k, v in sorted(false_res.items(), key=lambda item: item[1], reverse=True)})\n",
        "        imposter_selected.append({k: v for k, v in sorted(imposter_res.items(), key=lambda item: item[1], reverse=True)})\n",
        "        \n",
        "        train_y = np.array(train_y)\n",
        "        test_y = np.array(test_y)\n",
        "\n",
        "        tokenizer = text.Tokenizer(num_words = max_words, oov_token=oov_tok)\n",
        "        tokenizer.fit_on_texts(train_x)\n",
        "        training_sequences = tokenizer.texts_to_sequences(train_x)\n",
        "        test_sequences = tokenizer.texts_to_sequences(test_x)\n",
        "        Xtrain = sequence.pad_sequences(training_sequences, maxlen=max_len, padding=padding_type, truncating=trunc_type)\n",
        "        Xtest = sequence.pad_sequences(test_sequences, maxlen=max_len, padding=padding_type, truncating=trunc_type)\n",
        "\n",
        "        wordIdx = tokenizer.word_index\n",
        "        clouds.append(wordIdx)\n",
        "        vocabSize = len(wordIdx)+1\n",
        "        embedding_matrix = define_embed(vocabSize, wordIdx)\n",
        "\n",
        "        model = define_model(kernel_size, activation, optimizer, input_dim=vocabSize, max_length=max_len, emb_matrix=embedding_matrix)\n",
        "        history = model.fit(Xtrain, train_y, batch_size=50, epochs=100, verbose=0, \n",
        "                  callbacks=[callbacks], validation_data=(Xtest, test_y))\n",
        "        \n",
        "        loss, acc = model.evaluate(Xtest, test_y, verbose=0)\n",
        "        print(f'Loss: {loss} - Accuracy: {acc}\\n')\n",
        "        result = model.predict(Xtest)\n",
        "        recall, report = define_report(result, test_y)\n",
        "        metas.append([Xtest, test_y, result, history])\n",
        "        reports.append(report)\n",
        "        recalls.append(recall)\n",
        "        acc_list.append(acc*100)\n",
        "        loss_list.append(loss)\n",
        "        models.append(model)\n",
        "          \n",
        "      mean_acc = np.array(acc_list).mean()\n",
        "      mean_loss = np.array(loss_list).mean()\n",
        "      parameters = [optimizer, activation, kernel_size]\n",
        "      entries = parameters + acc_list + [mean_acc] + loss_list + [mean_loss]\n",
        "      temp = pd.DataFrame([entries], columns=columns)\n",
        "      record = record.append(temp, ignore_index=True)\n",
        "      print('\\n')"
      ]
    },
    {
      "cell_type": "code",
      "execution_count": null,
      "metadata": {
        "id": "uupGVhSJbHU-",
        "colab": {
          "base_uri": "https://localhost:8080/",
          "height": 1000
        },
        "outputId": "a7034e55-8e51-4c2a-cbfd-35d15804ebb8"
      },
      "outputs": [
        {
          "output_type": "execute_result",
          "data": {
            "text/plain": [
              "   Optimizer Activation Filters       acc1       acc2       acc3       acc4  \\\n",
              "0     adamax       tanh       2  87.630403  85.842025  84.649777  84.649777   \n",
              "1     adamax       tanh       3  87.481374  83.010435  87.332338  85.543966   \n",
              "2     adamax       tanh       4  88.524592  86.140090  84.500748  86.438149   \n",
              "3     adamax       tanh       5  84.351712  86.140090  83.010435  87.928462   \n",
              "4     adamax       tanh       6  84.947836  84.947836  85.842025  85.842025   \n",
              "5     adamax       tanh       7  87.481374  86.140090  87.481374  85.842025   \n",
              "6     adamax       tanh       8  86.289120  89.269745  85.842025  87.928462   \n",
              "7     adamax       relu       2  85.991061  81.967211  85.842025  86.587185   \n",
              "8     adamax       relu       3  85.245901  86.289120  83.010435  87.779433   \n",
              "9     adamax       relu       4  89.269745  86.140090  83.308494  86.289120   \n",
              "10    adamax       relu       5  83.457524  87.332338  87.183309  85.842025   \n",
              "11    adamax       relu       6  86.587185  85.692996  84.649777  85.692996   \n",
              "12    adamax       relu       7  91.207153  83.606559  85.842025  85.394931   \n",
              "13    adamax       relu       8  86.438149  87.481374  87.332338  85.245901   \n",
              "14    adamax        elu       2  84.947836  84.649777  83.308494  84.053653   \n",
              "15    adamax        elu       3  84.202683  85.991061  86.438149  87.481374   \n",
              "16    adamax        elu       4  84.947836  86.289120  86.289120  86.140090   \n",
              "17    adamax        elu       5  84.798807  86.438149  86.736214  86.587185   \n",
              "18    adamax        elu       6  85.543966  86.885244  87.481374  86.885244   \n",
              "19    adamax        elu       7  84.500748  86.736214  88.673621  86.438149   \n",
              "20    adamax        elu       8  86.289120  86.438149  84.947836  86.438149   \n",
              "21    adamax       selu       2  85.096872  87.183309  83.308494  83.308494   \n",
              "22    adamax       selu       3  86.736214  83.010435  85.543966  85.991061   \n",
              "23    adamax       selu       4  84.351712  83.159465  89.269745  86.587185   \n",
              "24    adamax       selu       5  87.630403  86.289120  84.947836  85.842025   \n",
              "25    adamax       selu       6  84.202683  87.183309  86.587185  84.798807   \n",
              "26    adamax       selu       7  84.798807  85.394931  86.885244  85.394931   \n",
              "27    adamax       selu       8  85.394931  86.140090  87.034279  85.692996   \n",
              "28    adamax      swish       2  85.096872  81.073028  85.096872  82.414305   \n",
              "29    adamax      swish       3  85.394931  84.053653  85.991061  83.904618   \n",
              "30    adamax      swish       4  86.587185  82.712370  85.842025  86.438149   \n",
              "31    adamax      swish       5  88.673621  85.394931  85.543966  81.073028   \n",
              "32    adamax      swish       6  84.351712  86.736214  85.692996  85.245901   \n",
              "33    adamax      swish       7  87.928462  87.481374  84.053653  84.649777   \n",
              "34    adamax      swish       8  85.245901  84.351712  87.034279  86.587185   \n",
              "\n",
              "         acc5     accAVG     loss1     loss2     loss3     loss4     loss5  \\\n",
              "0   85.373133  85.629023  0.306095  0.380529  0.385224  0.370197  0.377000   \n",
              "1   85.074627  85.688548  0.335522  0.414521  0.328523  0.360601  0.371083   \n",
              "2   87.462687  86.613253  0.331285  0.361970  0.374571  0.343751  0.335903   \n",
              "3   86.567163  85.599573  0.382800  0.376494  0.393634  0.293436  0.336806   \n",
              "4   84.328359  85.181617  0.368226  0.358930  0.329702  0.367048  0.371980   \n",
              "5   87.164181  86.821809  0.362784  0.348268  0.344468  0.344601  0.333953   \n",
              "6   85.522389  86.970348  0.348366  0.309741  0.346360  0.338553  0.356639   \n",
              "7   84.029853  84.883467  0.362906  0.435213  0.373311  0.344647  0.390472   \n",
              "8   83.731341  85.211246  0.362162  0.342565  0.413954  0.342377  0.397376   \n",
              "9   83.880597  85.777609  0.281724  0.333721  0.449641  0.340565  0.372174   \n",
              "10  85.373133  85.837666  0.391175  0.314454  0.343387  0.346691  0.386326   \n",
              "11  87.014925  85.927576  0.324359  0.358752  0.356842  0.387537  0.361201   \n",
              "12  86.716419  86.553417  0.275551  0.403421  0.358501  0.365024  0.346307   \n",
              "13  86.268657  86.553284  0.333872  0.345203  0.344742  0.391066  0.350533   \n",
              "14  86.567163  84.705385  0.381657  0.392101  0.401863  0.371993  0.360330   \n",
              "15  85.970151  86.016684  0.380810  0.347861  0.349517  0.341599  0.364924   \n",
              "16  86.865669  86.106367  0.358923  0.358189  0.356749  0.368132  0.361179   \n",
              "17  85.074627  85.926996  0.359621  0.334675  0.320765  0.365991  0.379889   \n",
              "18  85.074627  86.374091  0.380108  0.333005  0.364401  0.331579  0.364929   \n",
              "19  87.611938  86.792134  0.347975  0.334435  0.318136  0.382656  0.347287   \n",
              "20  87.910450  86.404741  0.367978  0.325146  0.367526  0.352337  0.335475   \n",
              "21  86.268657  85.033165  0.369217  0.355079  0.394963  0.413063  0.366413   \n",
              "22  85.074627  85.271261  0.373829  0.382604  0.381093  0.371162  0.367941   \n",
              "23  86.268657  85.927353  0.413288  0.416371  0.319288  0.317510  0.341947   \n",
              "24  83.134329  85.568743  0.318916  0.366309  0.366903  0.328583  0.424805   \n",
              "25  86.417907  85.837978  0.392898  0.361713  0.353425  0.345946  0.336425   \n",
              "26  86.716419  85.838066  0.375292  0.361758  0.332304  0.395775  0.295946   \n",
              "27  86.417907  86.136041  0.368928  0.334057  0.331225  0.368798  0.345543   \n",
              "28  83.283579  83.392931  0.363747  0.463192  0.413672  0.428570  0.433169   \n",
              "29  82.985073  84.465867  0.426352  0.428760  0.352397  0.384027  0.450320   \n",
              "30  85.671639  85.450274  0.362986  0.402558  0.419458  0.354989  0.394317   \n",
              "31  86.119401  85.360990  0.335311  0.368461  0.351086  0.460994  0.435875   \n",
              "32  85.074627  85.420290  0.405496  0.318590  0.368731  0.381806  0.390159   \n",
              "33  86.716419  86.165937  0.329947  0.350811  0.410928  0.397128  0.358206   \n",
              "34  87.910450  86.225905  0.386441  0.383258  0.339249  0.376350  0.340801   \n",
              "\n",
              "     lossAVG  \n",
              "0   0.363809  \n",
              "1   0.362050  \n",
              "2   0.349496  \n",
              "3   0.356634  \n",
              "4   0.359177  \n",
              "5   0.346815  \n",
              "6   0.339932  \n",
              "7   0.381310  \n",
              "8   0.371687  \n",
              "9   0.355565  \n",
              "10  0.356407  \n",
              "11  0.357738  \n",
              "12  0.349761  \n",
              "13  0.353083  \n",
              "14  0.381589  \n",
              "15  0.356942  \n",
              "16  0.360634  \n",
              "17  0.352188  \n",
              "18  0.354804  \n",
              "19  0.346098  \n",
              "20  0.349693  \n",
              "21  0.379747  \n",
              "22  0.375326  \n",
              "23  0.361681  \n",
              "24  0.361103  \n",
              "25  0.358082  \n",
              "26  0.352215  \n",
              "27  0.349710  \n",
              "28  0.420470  \n",
              "29  0.408371  \n",
              "30  0.386861  \n",
              "31  0.390345  \n",
              "32  0.372956  \n",
              "33  0.369404  \n",
              "34  0.365220  "
            ],
            "text/html": [
              "\n",
              "  <div id=\"df-3c466380-875b-4720-997f-b7124e9b5721\">\n",
              "    <div class=\"colab-df-container\">\n",
              "      <div>\n",
              "<style scoped>\n",
              "    .dataframe tbody tr th:only-of-type {\n",
              "        vertical-align: middle;\n",
              "    }\n",
              "\n",
              "    .dataframe tbody tr th {\n",
              "        vertical-align: top;\n",
              "    }\n",
              "\n",
              "    .dataframe thead th {\n",
              "        text-align: right;\n",
              "    }\n",
              "</style>\n",
              "<table border=\"1\" class=\"dataframe\">\n",
              "  <thead>\n",
              "    <tr style=\"text-align: right;\">\n",
              "      <th></th>\n",
              "      <th>Optimizer</th>\n",
              "      <th>Activation</th>\n",
              "      <th>Filters</th>\n",
              "      <th>acc1</th>\n",
              "      <th>acc2</th>\n",
              "      <th>acc3</th>\n",
              "      <th>acc4</th>\n",
              "      <th>acc5</th>\n",
              "      <th>accAVG</th>\n",
              "      <th>loss1</th>\n",
              "      <th>loss2</th>\n",
              "      <th>loss3</th>\n",
              "      <th>loss4</th>\n",
              "      <th>loss5</th>\n",
              "      <th>lossAVG</th>\n",
              "    </tr>\n",
              "  </thead>\n",
              "  <tbody>\n",
              "    <tr>\n",
              "      <th>0</th>\n",
              "      <td>adamax</td>\n",
              "      <td>tanh</td>\n",
              "      <td>2</td>\n",
              "      <td>87.630403</td>\n",
              "      <td>85.842025</td>\n",
              "      <td>84.649777</td>\n",
              "      <td>84.649777</td>\n",
              "      <td>85.373133</td>\n",
              "      <td>85.629023</td>\n",
              "      <td>0.306095</td>\n",
              "      <td>0.380529</td>\n",
              "      <td>0.385224</td>\n",
              "      <td>0.370197</td>\n",
              "      <td>0.377000</td>\n",
              "      <td>0.363809</td>\n",
              "    </tr>\n",
              "    <tr>\n",
              "      <th>1</th>\n",
              "      <td>adamax</td>\n",
              "      <td>tanh</td>\n",
              "      <td>3</td>\n",
              "      <td>87.481374</td>\n",
              "      <td>83.010435</td>\n",
              "      <td>87.332338</td>\n",
              "      <td>85.543966</td>\n",
              "      <td>85.074627</td>\n",
              "      <td>85.688548</td>\n",
              "      <td>0.335522</td>\n",
              "      <td>0.414521</td>\n",
              "      <td>0.328523</td>\n",
              "      <td>0.360601</td>\n",
              "      <td>0.371083</td>\n",
              "      <td>0.362050</td>\n",
              "    </tr>\n",
              "    <tr>\n",
              "      <th>2</th>\n",
              "      <td>adamax</td>\n",
              "      <td>tanh</td>\n",
              "      <td>4</td>\n",
              "      <td>88.524592</td>\n",
              "      <td>86.140090</td>\n",
              "      <td>84.500748</td>\n",
              "      <td>86.438149</td>\n",
              "      <td>87.462687</td>\n",
              "      <td>86.613253</td>\n",
              "      <td>0.331285</td>\n",
              "      <td>0.361970</td>\n",
              "      <td>0.374571</td>\n",
              "      <td>0.343751</td>\n",
              "      <td>0.335903</td>\n",
              "      <td>0.349496</td>\n",
              "    </tr>\n",
              "    <tr>\n",
              "      <th>3</th>\n",
              "      <td>adamax</td>\n",
              "      <td>tanh</td>\n",
              "      <td>5</td>\n",
              "      <td>84.351712</td>\n",
              "      <td>86.140090</td>\n",
              "      <td>83.010435</td>\n",
              "      <td>87.928462</td>\n",
              "      <td>86.567163</td>\n",
              "      <td>85.599573</td>\n",
              "      <td>0.382800</td>\n",
              "      <td>0.376494</td>\n",
              "      <td>0.393634</td>\n",
              "      <td>0.293436</td>\n",
              "      <td>0.336806</td>\n",
              "      <td>0.356634</td>\n",
              "    </tr>\n",
              "    <tr>\n",
              "      <th>4</th>\n",
              "      <td>adamax</td>\n",
              "      <td>tanh</td>\n",
              "      <td>6</td>\n",
              "      <td>84.947836</td>\n",
              "      <td>84.947836</td>\n",
              "      <td>85.842025</td>\n",
              "      <td>85.842025</td>\n",
              "      <td>84.328359</td>\n",
              "      <td>85.181617</td>\n",
              "      <td>0.368226</td>\n",
              "      <td>0.358930</td>\n",
              "      <td>0.329702</td>\n",
              "      <td>0.367048</td>\n",
              "      <td>0.371980</td>\n",
              "      <td>0.359177</td>\n",
              "    </tr>\n",
              "    <tr>\n",
              "      <th>5</th>\n",
              "      <td>adamax</td>\n",
              "      <td>tanh</td>\n",
              "      <td>7</td>\n",
              "      <td>87.481374</td>\n",
              "      <td>86.140090</td>\n",
              "      <td>87.481374</td>\n",
              "      <td>85.842025</td>\n",
              "      <td>87.164181</td>\n",
              "      <td>86.821809</td>\n",
              "      <td>0.362784</td>\n",
              "      <td>0.348268</td>\n",
              "      <td>0.344468</td>\n",
              "      <td>0.344601</td>\n",
              "      <td>0.333953</td>\n",
              "      <td>0.346815</td>\n",
              "    </tr>\n",
              "    <tr>\n",
              "      <th>6</th>\n",
              "      <td>adamax</td>\n",
              "      <td>tanh</td>\n",
              "      <td>8</td>\n",
              "      <td>86.289120</td>\n",
              "      <td>89.269745</td>\n",
              "      <td>85.842025</td>\n",
              "      <td>87.928462</td>\n",
              "      <td>85.522389</td>\n",
              "      <td>86.970348</td>\n",
              "      <td>0.348366</td>\n",
              "      <td>0.309741</td>\n",
              "      <td>0.346360</td>\n",
              "      <td>0.338553</td>\n",
              "      <td>0.356639</td>\n",
              "      <td>0.339932</td>\n",
              "    </tr>\n",
              "    <tr>\n",
              "      <th>7</th>\n",
              "      <td>adamax</td>\n",
              "      <td>relu</td>\n",
              "      <td>2</td>\n",
              "      <td>85.991061</td>\n",
              "      <td>81.967211</td>\n",
              "      <td>85.842025</td>\n",
              "      <td>86.587185</td>\n",
              "      <td>84.029853</td>\n",
              "      <td>84.883467</td>\n",
              "      <td>0.362906</td>\n",
              "      <td>0.435213</td>\n",
              "      <td>0.373311</td>\n",
              "      <td>0.344647</td>\n",
              "      <td>0.390472</td>\n",
              "      <td>0.381310</td>\n",
              "    </tr>\n",
              "    <tr>\n",
              "      <th>8</th>\n",
              "      <td>adamax</td>\n",
              "      <td>relu</td>\n",
              "      <td>3</td>\n",
              "      <td>85.245901</td>\n",
              "      <td>86.289120</td>\n",
              "      <td>83.010435</td>\n",
              "      <td>87.779433</td>\n",
              "      <td>83.731341</td>\n",
              "      <td>85.211246</td>\n",
              "      <td>0.362162</td>\n",
              "      <td>0.342565</td>\n",
              "      <td>0.413954</td>\n",
              "      <td>0.342377</td>\n",
              "      <td>0.397376</td>\n",
              "      <td>0.371687</td>\n",
              "    </tr>\n",
              "    <tr>\n",
              "      <th>9</th>\n",
              "      <td>adamax</td>\n",
              "      <td>relu</td>\n",
              "      <td>4</td>\n",
              "      <td>89.269745</td>\n",
              "      <td>86.140090</td>\n",
              "      <td>83.308494</td>\n",
              "      <td>86.289120</td>\n",
              "      <td>83.880597</td>\n",
              "      <td>85.777609</td>\n",
              "      <td>0.281724</td>\n",
              "      <td>0.333721</td>\n",
              "      <td>0.449641</td>\n",
              "      <td>0.340565</td>\n",
              "      <td>0.372174</td>\n",
              "      <td>0.355565</td>\n",
              "    </tr>\n",
              "    <tr>\n",
              "      <th>10</th>\n",
              "      <td>adamax</td>\n",
              "      <td>relu</td>\n",
              "      <td>5</td>\n",
              "      <td>83.457524</td>\n",
              "      <td>87.332338</td>\n",
              "      <td>87.183309</td>\n",
              "      <td>85.842025</td>\n",
              "      <td>85.373133</td>\n",
              "      <td>85.837666</td>\n",
              "      <td>0.391175</td>\n",
              "      <td>0.314454</td>\n",
              "      <td>0.343387</td>\n",
              "      <td>0.346691</td>\n",
              "      <td>0.386326</td>\n",
              "      <td>0.356407</td>\n",
              "    </tr>\n",
              "    <tr>\n",
              "      <th>11</th>\n",
              "      <td>adamax</td>\n",
              "      <td>relu</td>\n",
              "      <td>6</td>\n",
              "      <td>86.587185</td>\n",
              "      <td>85.692996</td>\n",
              "      <td>84.649777</td>\n",
              "      <td>85.692996</td>\n",
              "      <td>87.014925</td>\n",
              "      <td>85.927576</td>\n",
              "      <td>0.324359</td>\n",
              "      <td>0.358752</td>\n",
              "      <td>0.356842</td>\n",
              "      <td>0.387537</td>\n",
              "      <td>0.361201</td>\n",
              "      <td>0.357738</td>\n",
              "    </tr>\n",
              "    <tr>\n",
              "      <th>12</th>\n",
              "      <td>adamax</td>\n",
              "      <td>relu</td>\n",
              "      <td>7</td>\n",
              "      <td>91.207153</td>\n",
              "      <td>83.606559</td>\n",
              "      <td>85.842025</td>\n",
              "      <td>85.394931</td>\n",
              "      <td>86.716419</td>\n",
              "      <td>86.553417</td>\n",
              "      <td>0.275551</td>\n",
              "      <td>0.403421</td>\n",
              "      <td>0.358501</td>\n",
              "      <td>0.365024</td>\n",
              "      <td>0.346307</td>\n",
              "      <td>0.349761</td>\n",
              "    </tr>\n",
              "    <tr>\n",
              "      <th>13</th>\n",
              "      <td>adamax</td>\n",
              "      <td>relu</td>\n",
              "      <td>8</td>\n",
              "      <td>86.438149</td>\n",
              "      <td>87.481374</td>\n",
              "      <td>87.332338</td>\n",
              "      <td>85.245901</td>\n",
              "      <td>86.268657</td>\n",
              "      <td>86.553284</td>\n",
              "      <td>0.333872</td>\n",
              "      <td>0.345203</td>\n",
              "      <td>0.344742</td>\n",
              "      <td>0.391066</td>\n",
              "      <td>0.350533</td>\n",
              "      <td>0.353083</td>\n",
              "    </tr>\n",
              "    <tr>\n",
              "      <th>14</th>\n",
              "      <td>adamax</td>\n",
              "      <td>elu</td>\n",
              "      <td>2</td>\n",
              "      <td>84.947836</td>\n",
              "      <td>84.649777</td>\n",
              "      <td>83.308494</td>\n",
              "      <td>84.053653</td>\n",
              "      <td>86.567163</td>\n",
              "      <td>84.705385</td>\n",
              "      <td>0.381657</td>\n",
              "      <td>0.392101</td>\n",
              "      <td>0.401863</td>\n",
              "      <td>0.371993</td>\n",
              "      <td>0.360330</td>\n",
              "      <td>0.381589</td>\n",
              "    </tr>\n",
              "    <tr>\n",
              "      <th>15</th>\n",
              "      <td>adamax</td>\n",
              "      <td>elu</td>\n",
              "      <td>3</td>\n",
              "      <td>84.202683</td>\n",
              "      <td>85.991061</td>\n",
              "      <td>86.438149</td>\n",
              "      <td>87.481374</td>\n",
              "      <td>85.970151</td>\n",
              "      <td>86.016684</td>\n",
              "      <td>0.380810</td>\n",
              "      <td>0.347861</td>\n",
              "      <td>0.349517</td>\n",
              "      <td>0.341599</td>\n",
              "      <td>0.364924</td>\n",
              "      <td>0.356942</td>\n",
              "    </tr>\n",
              "    <tr>\n",
              "      <th>16</th>\n",
              "      <td>adamax</td>\n",
              "      <td>elu</td>\n",
              "      <td>4</td>\n",
              "      <td>84.947836</td>\n",
              "      <td>86.289120</td>\n",
              "      <td>86.289120</td>\n",
              "      <td>86.140090</td>\n",
              "      <td>86.865669</td>\n",
              "      <td>86.106367</td>\n",
              "      <td>0.358923</td>\n",
              "      <td>0.358189</td>\n",
              "      <td>0.356749</td>\n",
              "      <td>0.368132</td>\n",
              "      <td>0.361179</td>\n",
              "      <td>0.360634</td>\n",
              "    </tr>\n",
              "    <tr>\n",
              "      <th>17</th>\n",
              "      <td>adamax</td>\n",
              "      <td>elu</td>\n",
              "      <td>5</td>\n",
              "      <td>84.798807</td>\n",
              "      <td>86.438149</td>\n",
              "      <td>86.736214</td>\n",
              "      <td>86.587185</td>\n",
              "      <td>85.074627</td>\n",
              "      <td>85.926996</td>\n",
              "      <td>0.359621</td>\n",
              "      <td>0.334675</td>\n",
              "      <td>0.320765</td>\n",
              "      <td>0.365991</td>\n",
              "      <td>0.379889</td>\n",
              "      <td>0.352188</td>\n",
              "    </tr>\n",
              "    <tr>\n",
              "      <th>18</th>\n",
              "      <td>adamax</td>\n",
              "      <td>elu</td>\n",
              "      <td>6</td>\n",
              "      <td>85.543966</td>\n",
              "      <td>86.885244</td>\n",
              "      <td>87.481374</td>\n",
              "      <td>86.885244</td>\n",
              "      <td>85.074627</td>\n",
              "      <td>86.374091</td>\n",
              "      <td>0.380108</td>\n",
              "      <td>0.333005</td>\n",
              "      <td>0.364401</td>\n",
              "      <td>0.331579</td>\n",
              "      <td>0.364929</td>\n",
              "      <td>0.354804</td>\n",
              "    </tr>\n",
              "    <tr>\n",
              "      <th>19</th>\n",
              "      <td>adamax</td>\n",
              "      <td>elu</td>\n",
              "      <td>7</td>\n",
              "      <td>84.500748</td>\n",
              "      <td>86.736214</td>\n",
              "      <td>88.673621</td>\n",
              "      <td>86.438149</td>\n",
              "      <td>87.611938</td>\n",
              "      <td>86.792134</td>\n",
              "      <td>0.347975</td>\n",
              "      <td>0.334435</td>\n",
              "      <td>0.318136</td>\n",
              "      <td>0.382656</td>\n",
              "      <td>0.347287</td>\n",
              "      <td>0.346098</td>\n",
              "    </tr>\n",
              "    <tr>\n",
              "      <th>20</th>\n",
              "      <td>adamax</td>\n",
              "      <td>elu</td>\n",
              "      <td>8</td>\n",
              "      <td>86.289120</td>\n",
              "      <td>86.438149</td>\n",
              "      <td>84.947836</td>\n",
              "      <td>86.438149</td>\n",
              "      <td>87.910450</td>\n",
              "      <td>86.404741</td>\n",
              "      <td>0.367978</td>\n",
              "      <td>0.325146</td>\n",
              "      <td>0.367526</td>\n",
              "      <td>0.352337</td>\n",
              "      <td>0.335475</td>\n",
              "      <td>0.349693</td>\n",
              "    </tr>\n",
              "    <tr>\n",
              "      <th>21</th>\n",
              "      <td>adamax</td>\n",
              "      <td>selu</td>\n",
              "      <td>2</td>\n",
              "      <td>85.096872</td>\n",
              "      <td>87.183309</td>\n",
              "      <td>83.308494</td>\n",
              "      <td>83.308494</td>\n",
              "      <td>86.268657</td>\n",
              "      <td>85.033165</td>\n",
              "      <td>0.369217</td>\n",
              "      <td>0.355079</td>\n",
              "      <td>0.394963</td>\n",
              "      <td>0.413063</td>\n",
              "      <td>0.366413</td>\n",
              "      <td>0.379747</td>\n",
              "    </tr>\n",
              "    <tr>\n",
              "      <th>22</th>\n",
              "      <td>adamax</td>\n",
              "      <td>selu</td>\n",
              "      <td>3</td>\n",
              "      <td>86.736214</td>\n",
              "      <td>83.010435</td>\n",
              "      <td>85.543966</td>\n",
              "      <td>85.991061</td>\n",
              "      <td>85.074627</td>\n",
              "      <td>85.271261</td>\n",
              "      <td>0.373829</td>\n",
              "      <td>0.382604</td>\n",
              "      <td>0.381093</td>\n",
              "      <td>0.371162</td>\n",
              "      <td>0.367941</td>\n",
              "      <td>0.375326</td>\n",
              "    </tr>\n",
              "    <tr>\n",
              "      <th>23</th>\n",
              "      <td>adamax</td>\n",
              "      <td>selu</td>\n",
              "      <td>4</td>\n",
              "      <td>84.351712</td>\n",
              "      <td>83.159465</td>\n",
              "      <td>89.269745</td>\n",
              "      <td>86.587185</td>\n",
              "      <td>86.268657</td>\n",
              "      <td>85.927353</td>\n",
              "      <td>0.413288</td>\n",
              "      <td>0.416371</td>\n",
              "      <td>0.319288</td>\n",
              "      <td>0.317510</td>\n",
              "      <td>0.341947</td>\n",
              "      <td>0.361681</td>\n",
              "    </tr>\n",
              "    <tr>\n",
              "      <th>24</th>\n",
              "      <td>adamax</td>\n",
              "      <td>selu</td>\n",
              "      <td>5</td>\n",
              "      <td>87.630403</td>\n",
              "      <td>86.289120</td>\n",
              "      <td>84.947836</td>\n",
              "      <td>85.842025</td>\n",
              "      <td>83.134329</td>\n",
              "      <td>85.568743</td>\n",
              "      <td>0.318916</td>\n",
              "      <td>0.366309</td>\n",
              "      <td>0.366903</td>\n",
              "      <td>0.328583</td>\n",
              "      <td>0.424805</td>\n",
              "      <td>0.361103</td>\n",
              "    </tr>\n",
              "    <tr>\n",
              "      <th>25</th>\n",
              "      <td>adamax</td>\n",
              "      <td>selu</td>\n",
              "      <td>6</td>\n",
              "      <td>84.202683</td>\n",
              "      <td>87.183309</td>\n",
              "      <td>86.587185</td>\n",
              "      <td>84.798807</td>\n",
              "      <td>86.417907</td>\n",
              "      <td>85.837978</td>\n",
              "      <td>0.392898</td>\n",
              "      <td>0.361713</td>\n",
              "      <td>0.353425</td>\n",
              "      <td>0.345946</td>\n",
              "      <td>0.336425</td>\n",
              "      <td>0.358082</td>\n",
              "    </tr>\n",
              "    <tr>\n",
              "      <th>26</th>\n",
              "      <td>adamax</td>\n",
              "      <td>selu</td>\n",
              "      <td>7</td>\n",
              "      <td>84.798807</td>\n",
              "      <td>85.394931</td>\n",
              "      <td>86.885244</td>\n",
              "      <td>85.394931</td>\n",
              "      <td>86.716419</td>\n",
              "      <td>85.838066</td>\n",
              "      <td>0.375292</td>\n",
              "      <td>0.361758</td>\n",
              "      <td>0.332304</td>\n",
              "      <td>0.395775</td>\n",
              "      <td>0.295946</td>\n",
              "      <td>0.352215</td>\n",
              "    </tr>\n",
              "    <tr>\n",
              "      <th>27</th>\n",
              "      <td>adamax</td>\n",
              "      <td>selu</td>\n",
              "      <td>8</td>\n",
              "      <td>85.394931</td>\n",
              "      <td>86.140090</td>\n",
              "      <td>87.034279</td>\n",
              "      <td>85.692996</td>\n",
              "      <td>86.417907</td>\n",
              "      <td>86.136041</td>\n",
              "      <td>0.368928</td>\n",
              "      <td>0.334057</td>\n",
              "      <td>0.331225</td>\n",
              "      <td>0.368798</td>\n",
              "      <td>0.345543</td>\n",
              "      <td>0.349710</td>\n",
              "    </tr>\n",
              "    <tr>\n",
              "      <th>28</th>\n",
              "      <td>adamax</td>\n",
              "      <td>swish</td>\n",
              "      <td>2</td>\n",
              "      <td>85.096872</td>\n",
              "      <td>81.073028</td>\n",
              "      <td>85.096872</td>\n",
              "      <td>82.414305</td>\n",
              "      <td>83.283579</td>\n",
              "      <td>83.392931</td>\n",
              "      <td>0.363747</td>\n",
              "      <td>0.463192</td>\n",
              "      <td>0.413672</td>\n",
              "      <td>0.428570</td>\n",
              "      <td>0.433169</td>\n",
              "      <td>0.420470</td>\n",
              "    </tr>\n",
              "    <tr>\n",
              "      <th>29</th>\n",
              "      <td>adamax</td>\n",
              "      <td>swish</td>\n",
              "      <td>3</td>\n",
              "      <td>85.394931</td>\n",
              "      <td>84.053653</td>\n",
              "      <td>85.991061</td>\n",
              "      <td>83.904618</td>\n",
              "      <td>82.985073</td>\n",
              "      <td>84.465867</td>\n",
              "      <td>0.426352</td>\n",
              "      <td>0.428760</td>\n",
              "      <td>0.352397</td>\n",
              "      <td>0.384027</td>\n",
              "      <td>0.450320</td>\n",
              "      <td>0.408371</td>\n",
              "    </tr>\n",
              "    <tr>\n",
              "      <th>30</th>\n",
              "      <td>adamax</td>\n",
              "      <td>swish</td>\n",
              "      <td>4</td>\n",
              "      <td>86.587185</td>\n",
              "      <td>82.712370</td>\n",
              "      <td>85.842025</td>\n",
              "      <td>86.438149</td>\n",
              "      <td>85.671639</td>\n",
              "      <td>85.450274</td>\n",
              "      <td>0.362986</td>\n",
              "      <td>0.402558</td>\n",
              "      <td>0.419458</td>\n",
              "      <td>0.354989</td>\n",
              "      <td>0.394317</td>\n",
              "      <td>0.386861</td>\n",
              "    </tr>\n",
              "    <tr>\n",
              "      <th>31</th>\n",
              "      <td>adamax</td>\n",
              "      <td>swish</td>\n",
              "      <td>5</td>\n",
              "      <td>88.673621</td>\n",
              "      <td>85.394931</td>\n",
              "      <td>85.543966</td>\n",
              "      <td>81.073028</td>\n",
              "      <td>86.119401</td>\n",
              "      <td>85.360990</td>\n",
              "      <td>0.335311</td>\n",
              "      <td>0.368461</td>\n",
              "      <td>0.351086</td>\n",
              "      <td>0.460994</td>\n",
              "      <td>0.435875</td>\n",
              "      <td>0.390345</td>\n",
              "    </tr>\n",
              "    <tr>\n",
              "      <th>32</th>\n",
              "      <td>adamax</td>\n",
              "      <td>swish</td>\n",
              "      <td>6</td>\n",
              "      <td>84.351712</td>\n",
              "      <td>86.736214</td>\n",
              "      <td>85.692996</td>\n",
              "      <td>85.245901</td>\n",
              "      <td>85.074627</td>\n",
              "      <td>85.420290</td>\n",
              "      <td>0.405496</td>\n",
              "      <td>0.318590</td>\n",
              "      <td>0.368731</td>\n",
              "      <td>0.381806</td>\n",
              "      <td>0.390159</td>\n",
              "      <td>0.372956</td>\n",
              "    </tr>\n",
              "    <tr>\n",
              "      <th>33</th>\n",
              "      <td>adamax</td>\n",
              "      <td>swish</td>\n",
              "      <td>7</td>\n",
              "      <td>87.928462</td>\n",
              "      <td>87.481374</td>\n",
              "      <td>84.053653</td>\n",
              "      <td>84.649777</td>\n",
              "      <td>86.716419</td>\n",
              "      <td>86.165937</td>\n",
              "      <td>0.329947</td>\n",
              "      <td>0.350811</td>\n",
              "      <td>0.410928</td>\n",
              "      <td>0.397128</td>\n",
              "      <td>0.358206</td>\n",
              "      <td>0.369404</td>\n",
              "    </tr>\n",
              "    <tr>\n",
              "      <th>34</th>\n",
              "      <td>adamax</td>\n",
              "      <td>swish</td>\n",
              "      <td>8</td>\n",
              "      <td>85.245901</td>\n",
              "      <td>84.351712</td>\n",
              "      <td>87.034279</td>\n",
              "      <td>86.587185</td>\n",
              "      <td>87.910450</td>\n",
              "      <td>86.225905</td>\n",
              "      <td>0.386441</td>\n",
              "      <td>0.383258</td>\n",
              "      <td>0.339249</td>\n",
              "      <td>0.376350</td>\n",
              "      <td>0.340801</td>\n",
              "      <td>0.365220</td>\n",
              "    </tr>\n",
              "  </tbody>\n",
              "</table>\n",
              "</div>\n",
              "      <button class=\"colab-df-convert\" onclick=\"convertToInteractive('df-3c466380-875b-4720-997f-b7124e9b5721')\"\n",
              "              title=\"Convert this dataframe to an interactive table.\"\n",
              "              style=\"display:none;\">\n",
              "        \n",
              "  <svg xmlns=\"http://www.w3.org/2000/svg\" height=\"24px\"viewBox=\"0 0 24 24\"\n",
              "       width=\"24px\">\n",
              "    <path d=\"M0 0h24v24H0V0z\" fill=\"none\"/>\n",
              "    <path d=\"M18.56 5.44l.94 2.06.94-2.06 2.06-.94-2.06-.94-.94-2.06-.94 2.06-2.06.94zm-11 1L8.5 8.5l.94-2.06 2.06-.94-2.06-.94L8.5 2.5l-.94 2.06-2.06.94zm10 10l.94 2.06.94-2.06 2.06-.94-2.06-.94-.94-2.06-.94 2.06-2.06.94z\"/><path d=\"M17.41 7.96l-1.37-1.37c-.4-.4-.92-.59-1.43-.59-.52 0-1.04.2-1.43.59L10.3 9.45l-7.72 7.72c-.78.78-.78 2.05 0 2.83L4 21.41c.39.39.9.59 1.41.59.51 0 1.02-.2 1.41-.59l7.78-7.78 2.81-2.81c.8-.78.8-2.07 0-2.86zM5.41 20L4 18.59l7.72-7.72 1.47 1.35L5.41 20z\"/>\n",
              "  </svg>\n",
              "      </button>\n",
              "      \n",
              "  <style>\n",
              "    .colab-df-container {\n",
              "      display:flex;\n",
              "      flex-wrap:wrap;\n",
              "      gap: 12px;\n",
              "    }\n",
              "\n",
              "    .colab-df-convert {\n",
              "      background-color: #E8F0FE;\n",
              "      border: none;\n",
              "      border-radius: 50%;\n",
              "      cursor: pointer;\n",
              "      display: none;\n",
              "      fill: #1967D2;\n",
              "      height: 32px;\n",
              "      padding: 0 0 0 0;\n",
              "      width: 32px;\n",
              "    }\n",
              "\n",
              "    .colab-df-convert:hover {\n",
              "      background-color: #E2EBFA;\n",
              "      box-shadow: 0px 1px 2px rgba(60, 64, 67, 0.3), 0px 1px 3px 1px rgba(60, 64, 67, 0.15);\n",
              "      fill: #174EA6;\n",
              "    }\n",
              "\n",
              "    [theme=dark] .colab-df-convert {\n",
              "      background-color: #3B4455;\n",
              "      fill: #D2E3FC;\n",
              "    }\n",
              "\n",
              "    [theme=dark] .colab-df-convert:hover {\n",
              "      background-color: #434B5C;\n",
              "      box-shadow: 0px 1px 3px 1px rgba(0, 0, 0, 0.15);\n",
              "      filter: drop-shadow(0px 1px 2px rgba(0, 0, 0, 0.3));\n",
              "      fill: #FFFFFF;\n",
              "    }\n",
              "  </style>\n",
              "\n",
              "      <script>\n",
              "        const buttonEl =\n",
              "          document.querySelector('#df-3c466380-875b-4720-997f-b7124e9b5721 button.colab-df-convert');\n",
              "        buttonEl.style.display =\n",
              "          google.colab.kernel.accessAllowed ? 'block' : 'none';\n",
              "\n",
              "        async function convertToInteractive(key) {\n",
              "          const element = document.querySelector('#df-3c466380-875b-4720-997f-b7124e9b5721');\n",
              "          const dataTable =\n",
              "            await google.colab.kernel.invokeFunction('convertToInteractive',\n",
              "                                                     [key], {});\n",
              "          if (!dataTable) return;\n",
              "\n",
              "          const docLinkHtml = 'Like what you see? Visit the ' +\n",
              "            '<a target=\"_blank\" href=https://colab.research.google.com/notebooks/data_table.ipynb>data table notebook</a>'\n",
              "            + ' to learn more about interactive tables.';\n",
              "          element.innerHTML = '';\n",
              "          dataTable['output_type'] = 'display_data';\n",
              "          await google.colab.output.renderOutput(dataTable, element);\n",
              "          const docLink = document.createElement('div');\n",
              "          docLink.innerHTML = docLinkHtml;\n",
              "          element.appendChild(docLink);\n",
              "        }\n",
              "      </script>\n",
              "    </div>\n",
              "  </div>\n",
              "  "
            ]
          },
          "metadata": {},
          "execution_count": 37
        },
        {
          "output_type": "stream",
          "name": "stdout",
          "text": [
            "time: 23 ms (started: 2022-12-12 09:57:02 +00:00)\n"
          ]
        }
      ],
      "source": [
        "record"
      ]
    },
    {
      "cell_type": "code",
      "execution_count": null,
      "metadata": {
        "id": "Pzx9bOkhbtzj",
        "colab": {
          "base_uri": "https://localhost:8080/",
          "height": 256
        },
        "outputId": "09bec8de-f650-461f-e39a-c453516af576"
      },
      "outputs": [
        {
          "output_type": "execute_result",
          "data": {
            "text/plain": [
              "               accAVG\n",
              "Activation           \n",
              "tanh        86.970348\n",
              "elu         86.792134\n",
              "relu        86.553417\n",
              "swish       86.225905\n",
              "selu        86.136041"
            ],
            "text/html": [
              "\n",
              "  <div id=\"df-2c64ae54-dcc7-463b-9194-acd57b4b61fd\">\n",
              "    <div class=\"colab-df-container\">\n",
              "      <div>\n",
              "<style scoped>\n",
              "    .dataframe tbody tr th:only-of-type {\n",
              "        vertical-align: middle;\n",
              "    }\n",
              "\n",
              "    .dataframe tbody tr th {\n",
              "        vertical-align: top;\n",
              "    }\n",
              "\n",
              "    .dataframe thead th {\n",
              "        text-align: right;\n",
              "    }\n",
              "</style>\n",
              "<table border=\"1\" class=\"dataframe\">\n",
              "  <thead>\n",
              "    <tr style=\"text-align: right;\">\n",
              "      <th></th>\n",
              "      <th>accAVG</th>\n",
              "    </tr>\n",
              "    <tr>\n",
              "      <th>Activation</th>\n",
              "      <th></th>\n",
              "    </tr>\n",
              "  </thead>\n",
              "  <tbody>\n",
              "    <tr>\n",
              "      <th>tanh</th>\n",
              "      <td>86.970348</td>\n",
              "    </tr>\n",
              "    <tr>\n",
              "      <th>elu</th>\n",
              "      <td>86.792134</td>\n",
              "    </tr>\n",
              "    <tr>\n",
              "      <th>relu</th>\n",
              "      <td>86.553417</td>\n",
              "    </tr>\n",
              "    <tr>\n",
              "      <th>swish</th>\n",
              "      <td>86.225905</td>\n",
              "    </tr>\n",
              "    <tr>\n",
              "      <th>selu</th>\n",
              "      <td>86.136041</td>\n",
              "    </tr>\n",
              "  </tbody>\n",
              "</table>\n",
              "</div>\n",
              "      <button class=\"colab-df-convert\" onclick=\"convertToInteractive('df-2c64ae54-dcc7-463b-9194-acd57b4b61fd')\"\n",
              "              title=\"Convert this dataframe to an interactive table.\"\n",
              "              style=\"display:none;\">\n",
              "        \n",
              "  <svg xmlns=\"http://www.w3.org/2000/svg\" height=\"24px\"viewBox=\"0 0 24 24\"\n",
              "       width=\"24px\">\n",
              "    <path d=\"M0 0h24v24H0V0z\" fill=\"none\"/>\n",
              "    <path d=\"M18.56 5.44l.94 2.06.94-2.06 2.06-.94-2.06-.94-.94-2.06-.94 2.06-2.06.94zm-11 1L8.5 8.5l.94-2.06 2.06-.94-2.06-.94L8.5 2.5l-.94 2.06-2.06.94zm10 10l.94 2.06.94-2.06 2.06-.94-2.06-.94-.94-2.06-.94 2.06-2.06.94z\"/><path d=\"M17.41 7.96l-1.37-1.37c-.4-.4-.92-.59-1.43-.59-.52 0-1.04.2-1.43.59L10.3 9.45l-7.72 7.72c-.78.78-.78 2.05 0 2.83L4 21.41c.39.39.9.59 1.41.59.51 0 1.02-.2 1.41-.59l7.78-7.78 2.81-2.81c.8-.78.8-2.07 0-2.86zM5.41 20L4 18.59l7.72-7.72 1.47 1.35L5.41 20z\"/>\n",
              "  </svg>\n",
              "      </button>\n",
              "      \n",
              "  <style>\n",
              "    .colab-df-container {\n",
              "      display:flex;\n",
              "      flex-wrap:wrap;\n",
              "      gap: 12px;\n",
              "    }\n",
              "\n",
              "    .colab-df-convert {\n",
              "      background-color: #E8F0FE;\n",
              "      border: none;\n",
              "      border-radius: 50%;\n",
              "      cursor: pointer;\n",
              "      display: none;\n",
              "      fill: #1967D2;\n",
              "      height: 32px;\n",
              "      padding: 0 0 0 0;\n",
              "      width: 32px;\n",
              "    }\n",
              "\n",
              "    .colab-df-convert:hover {\n",
              "      background-color: #E2EBFA;\n",
              "      box-shadow: 0px 1px 2px rgba(60, 64, 67, 0.3), 0px 1px 3px 1px rgba(60, 64, 67, 0.15);\n",
              "      fill: #174EA6;\n",
              "    }\n",
              "\n",
              "    [theme=dark] .colab-df-convert {\n",
              "      background-color: #3B4455;\n",
              "      fill: #D2E3FC;\n",
              "    }\n",
              "\n",
              "    [theme=dark] .colab-df-convert:hover {\n",
              "      background-color: #434B5C;\n",
              "      box-shadow: 0px 1px 3px 1px rgba(0, 0, 0, 0.15);\n",
              "      filter: drop-shadow(0px 1px 2px rgba(0, 0, 0, 0.3));\n",
              "      fill: #FFFFFF;\n",
              "    }\n",
              "  </style>\n",
              "\n",
              "      <script>\n",
              "        const buttonEl =\n",
              "          document.querySelector('#df-2c64ae54-dcc7-463b-9194-acd57b4b61fd button.colab-df-convert');\n",
              "        buttonEl.style.display =\n",
              "          google.colab.kernel.accessAllowed ? 'block' : 'none';\n",
              "\n",
              "        async function convertToInteractive(key) {\n",
              "          const element = document.querySelector('#df-2c64ae54-dcc7-463b-9194-acd57b4b61fd');\n",
              "          const dataTable =\n",
              "            await google.colab.kernel.invokeFunction('convertToInteractive',\n",
              "                                                     [key], {});\n",
              "          if (!dataTable) return;\n",
              "\n",
              "          const docLinkHtml = 'Like what you see? Visit the ' +\n",
              "            '<a target=\"_blank\" href=https://colab.research.google.com/notebooks/data_table.ipynb>data table notebook</a>'\n",
              "            + ' to learn more about interactive tables.';\n",
              "          element.innerHTML = '';\n",
              "          dataTable['output_type'] = 'display_data';\n",
              "          await google.colab.output.renderOutput(dataTable, element);\n",
              "          const docLink = document.createElement('div');\n",
              "          docLink.innerHTML = docLinkHtml;\n",
              "          element.appendChild(docLink);\n",
              "        }\n",
              "      </script>\n",
              "    </div>\n",
              "  </div>\n",
              "  "
            ]
          },
          "metadata": {},
          "execution_count": 38
        },
        {
          "output_type": "stream",
          "name": "stdout",
          "text": [
            "time: 17.9 ms (started: 2022-12-12 09:57:03 +00:00)\n"
          ]
        }
      ],
      "source": [
        "record[['Activation', 'accAVG']].groupby(by='Activation').max().sort_values(by='accAVG', ascending=False)"
      ]
    },
    {
      "cell_type": "code",
      "source": [
        "record[['Activation', 'lossAVG']].groupby(by='Activation').min().sort_values(by='lossAVG', ascending=True)"
      ],
      "metadata": {
        "id": "UwQlmJ_IYgbV",
        "colab": {
          "base_uri": "https://localhost:8080/",
          "height": 256
        },
        "outputId": "4b142a57-f96c-4f8c-b955-8bd5f0d3d536"
      },
      "execution_count": null,
      "outputs": [
        {
          "output_type": "execute_result",
          "data": {
            "text/plain": [
              "             lossAVG\n",
              "Activation          \n",
              "tanh        0.339932\n",
              "elu         0.346098\n",
              "selu        0.349710\n",
              "relu        0.349761\n",
              "swish       0.365220"
            ],
            "text/html": [
              "\n",
              "  <div id=\"df-cfbb5fde-97e5-43f9-88c1-fd3f4d268cb9\">\n",
              "    <div class=\"colab-df-container\">\n",
              "      <div>\n",
              "<style scoped>\n",
              "    .dataframe tbody tr th:only-of-type {\n",
              "        vertical-align: middle;\n",
              "    }\n",
              "\n",
              "    .dataframe tbody tr th {\n",
              "        vertical-align: top;\n",
              "    }\n",
              "\n",
              "    .dataframe thead th {\n",
              "        text-align: right;\n",
              "    }\n",
              "</style>\n",
              "<table border=\"1\" class=\"dataframe\">\n",
              "  <thead>\n",
              "    <tr style=\"text-align: right;\">\n",
              "      <th></th>\n",
              "      <th>lossAVG</th>\n",
              "    </tr>\n",
              "    <tr>\n",
              "      <th>Activation</th>\n",
              "      <th></th>\n",
              "    </tr>\n",
              "  </thead>\n",
              "  <tbody>\n",
              "    <tr>\n",
              "      <th>tanh</th>\n",
              "      <td>0.339932</td>\n",
              "    </tr>\n",
              "    <tr>\n",
              "      <th>elu</th>\n",
              "      <td>0.346098</td>\n",
              "    </tr>\n",
              "    <tr>\n",
              "      <th>selu</th>\n",
              "      <td>0.349710</td>\n",
              "    </tr>\n",
              "    <tr>\n",
              "      <th>relu</th>\n",
              "      <td>0.349761</td>\n",
              "    </tr>\n",
              "    <tr>\n",
              "      <th>swish</th>\n",
              "      <td>0.365220</td>\n",
              "    </tr>\n",
              "  </tbody>\n",
              "</table>\n",
              "</div>\n",
              "      <button class=\"colab-df-convert\" onclick=\"convertToInteractive('df-cfbb5fde-97e5-43f9-88c1-fd3f4d268cb9')\"\n",
              "              title=\"Convert this dataframe to an interactive table.\"\n",
              "              style=\"display:none;\">\n",
              "        \n",
              "  <svg xmlns=\"http://www.w3.org/2000/svg\" height=\"24px\"viewBox=\"0 0 24 24\"\n",
              "       width=\"24px\">\n",
              "    <path d=\"M0 0h24v24H0V0z\" fill=\"none\"/>\n",
              "    <path d=\"M18.56 5.44l.94 2.06.94-2.06 2.06-.94-2.06-.94-.94-2.06-.94 2.06-2.06.94zm-11 1L8.5 8.5l.94-2.06 2.06-.94-2.06-.94L8.5 2.5l-.94 2.06-2.06.94zm10 10l.94 2.06.94-2.06 2.06-.94-2.06-.94-.94-2.06-.94 2.06-2.06.94z\"/><path d=\"M17.41 7.96l-1.37-1.37c-.4-.4-.92-.59-1.43-.59-.52 0-1.04.2-1.43.59L10.3 9.45l-7.72 7.72c-.78.78-.78 2.05 0 2.83L4 21.41c.39.39.9.59 1.41.59.51 0 1.02-.2 1.41-.59l7.78-7.78 2.81-2.81c.8-.78.8-2.07 0-2.86zM5.41 20L4 18.59l7.72-7.72 1.47 1.35L5.41 20z\"/>\n",
              "  </svg>\n",
              "      </button>\n",
              "      \n",
              "  <style>\n",
              "    .colab-df-container {\n",
              "      display:flex;\n",
              "      flex-wrap:wrap;\n",
              "      gap: 12px;\n",
              "    }\n",
              "\n",
              "    .colab-df-convert {\n",
              "      background-color: #E8F0FE;\n",
              "      border: none;\n",
              "      border-radius: 50%;\n",
              "      cursor: pointer;\n",
              "      display: none;\n",
              "      fill: #1967D2;\n",
              "      height: 32px;\n",
              "      padding: 0 0 0 0;\n",
              "      width: 32px;\n",
              "    }\n",
              "\n",
              "    .colab-df-convert:hover {\n",
              "      background-color: #E2EBFA;\n",
              "      box-shadow: 0px 1px 2px rgba(60, 64, 67, 0.3), 0px 1px 3px 1px rgba(60, 64, 67, 0.15);\n",
              "      fill: #174EA6;\n",
              "    }\n",
              "\n",
              "    [theme=dark] .colab-df-convert {\n",
              "      background-color: #3B4455;\n",
              "      fill: #D2E3FC;\n",
              "    }\n",
              "\n",
              "    [theme=dark] .colab-df-convert:hover {\n",
              "      background-color: #434B5C;\n",
              "      box-shadow: 0px 1px 3px 1px rgba(0, 0, 0, 0.15);\n",
              "      filter: drop-shadow(0px 1px 2px rgba(0, 0, 0, 0.3));\n",
              "      fill: #FFFFFF;\n",
              "    }\n",
              "  </style>\n",
              "\n",
              "      <script>\n",
              "        const buttonEl =\n",
              "          document.querySelector('#df-cfbb5fde-97e5-43f9-88c1-fd3f4d268cb9 button.colab-df-convert');\n",
              "        buttonEl.style.display =\n",
              "          google.colab.kernel.accessAllowed ? 'block' : 'none';\n",
              "\n",
              "        async function convertToInteractive(key) {\n",
              "          const element = document.querySelector('#df-cfbb5fde-97e5-43f9-88c1-fd3f4d268cb9');\n",
              "          const dataTable =\n",
              "            await google.colab.kernel.invokeFunction('convertToInteractive',\n",
              "                                                     [key], {});\n",
              "          if (!dataTable) return;\n",
              "\n",
              "          const docLinkHtml = 'Like what you see? Visit the ' +\n",
              "            '<a target=\"_blank\" href=https://colab.research.google.com/notebooks/data_table.ipynb>data table notebook</a>'\n",
              "            + ' to learn more about interactive tables.';\n",
              "          element.innerHTML = '';\n",
              "          dataTable['output_type'] = 'display_data';\n",
              "          await google.colab.output.renderOutput(dataTable, element);\n",
              "          const docLink = document.createElement('div');\n",
              "          docLink.innerHTML = docLinkHtml;\n",
              "          element.appendChild(docLink);\n",
              "        }\n",
              "      </script>\n",
              "    </div>\n",
              "  </div>\n",
              "  "
            ]
          },
          "metadata": {},
          "execution_count": 39
        },
        {
          "output_type": "stream",
          "name": "stdout",
          "text": [
            "time: 7.72 ms (started: 2022-12-12 09:57:03 +00:00)\n"
          ]
        }
      ]
    },
    {
      "cell_type": "code",
      "execution_count": null,
      "metadata": {
        "id": "wBE4fCoQdADY",
        "colab": {
          "base_uri": "https://localhost:8080/"
        },
        "outputId": "1b4c1403-8fbc-463d-d256-97d78cff1943"
      },
      "outputs": [
        {
          "output_type": "stream",
          "name": "stdout",
          "text": [
            "1, 5, 7, 10, 11, 18, 19, 22, 24, 29, 31, 32, 33, 38, 45, 53, 55, 60, 76, 77, 78, 87, 106, 112, 117, 128, 129, 130, 134, 150, 165\n",
            "time: 8.94 ms (started: 2022-12-12 09:58:56 +00:00)\n"
          ]
        }
      ],
      "source": [
        "max_recall_0 = [i[0] for i in recalls]\n",
        "max_recall_0_idx = [i for i in range(len(max_recall_0)) if max_recall_0[i] >= .81]\n",
        "print(*max_recall_0_idx, sep=', ')"
      ]
    },
    {
      "cell_type": "code",
      "execution_count": null,
      "metadata": {
        "id": "xUcPMqKag5uf",
        "colab": {
          "base_uri": "https://localhost:8080/"
        },
        "outputId": "5b515a84-f2f9-4ba2-f902-963cf06a943c"
      },
      "outputs": [
        {
          "output_type": "stream",
          "name": "stdout",
          "text": [
            "[[1, 0.8269230769230769], [7, 0.8405797101449275], [10, 0.8592964824120602], [18, 0.8475336322869955], [19, 0.8229665071770335], [29, 0.8317757009345794], [31, 0.8951965065502183], [33, 0.868421052631579], [45, 0.8583690987124464], [55, 0.84251968503937], [60, 0.8866995073891626], [78, 0.8638297872340426], [87, 0.817258883248731], [106, 0.8853211009174312], [117, 0.8755364806866953], [134, 0.8167330677290837], [165, 0.8508771929824561]]\n",
            "time: 1.02 ms (started: 2022-12-12 09:58:57 +00:00)\n"
          ]
        }
      ],
      "source": [
        "recall_filtered = [m for m in [[i, rec[1]] for i, rec in enumerate(recalls) if i in max_recall_0_idx] if m[1] >= .81]\n",
        "\n",
        "print(recall_filtered)"
      ]
    },
    {
      "cell_type": "code",
      "source": [
        "for i in range(len(recall_filtered)):\n",
        "  print(reports[recall_filtered[i][0]], '\\n\\n')"
      ],
      "metadata": {
        "id": "haKHcJ2P93de",
        "colab": {
          "base_uri": "https://localhost:8080/"
        },
        "outputId": "f5d8d8d9-8e77-433c-c1e7-14338c74dfd0"
      },
      "execution_count": null,
      "outputs": [
        {
          "output_type": "stream",
          "name": "stdout",
          "text": [
            "                                                      precision    recall  f1-score   support\n",
            "\n",
            "                 Fabricated Content/Imposter Content       0.87      0.82      0.84       246\n",
            "Misleading Content/False Context/Manipulated Content       0.77      0.83      0.80       208\n",
            "                                               Valid       0.93      0.94      0.93       217\n",
            "\n",
            "                                            accuracy                           0.86       671\n",
            "                                           macro avg       0.86      0.86      0.86       671\n",
            "                                        weighted avg       0.86      0.86      0.86       671\n",
            " \n",
            "\n",
            "\n",
            "                                                      precision    recall  f1-score   support\n",
            "\n",
            "                 Fabricated Content/Imposter Content       0.85      0.81      0.83       223\n",
            "Misleading Content/False Context/Manipulated Content       0.81      0.84      0.82       207\n",
            "                                               Valid       0.96      0.96      0.96       241\n",
            "\n",
            "                                            accuracy                           0.87       671\n",
            "                                           macro avg       0.87      0.87      0.87       671\n",
            "                                        weighted avg       0.87      0.87      0.87       671\n",
            " \n",
            "\n",
            "\n",
            "                                                      precision    recall  f1-score   support\n",
            "\n",
            "                 Fabricated Content/Imposter Content       0.89      0.82      0.86       240\n",
            "Misleading Content/False Context/Manipulated Content       0.81      0.86      0.84       199\n",
            "                                               Valid       0.95      0.97      0.96       232\n",
            "\n",
            "                                            accuracy                           0.89       671\n",
            "                                           macro avg       0.88      0.88      0.88       671\n",
            "                                        weighted avg       0.89      0.89      0.88       671\n",
            " \n",
            "\n",
            "\n",
            "                                                      precision    recall  f1-score   support\n",
            "\n",
            "                 Fabricated Content/Imposter Content       0.84      0.84      0.84       216\n",
            "Misleading Content/False Context/Manipulated Content       0.84      0.85      0.84       223\n",
            "                                               Valid       0.95      0.95      0.95       232\n",
            "\n",
            "                                            accuracy                           0.88       671\n",
            "                                           macro avg       0.88      0.88      0.88       671\n",
            "                                        weighted avg       0.88      0.88      0.88       671\n",
            " \n",
            "\n",
            "\n",
            "                                                      precision    recall  f1-score   support\n",
            "\n",
            "                 Fabricated Content/Imposter Content       0.85      0.83      0.84       244\n",
            "Misleading Content/False Context/Manipulated Content       0.78      0.82      0.80       209\n",
            "                                               Valid       0.98      0.95      0.96       217\n",
            "\n",
            "                                            accuracy                           0.87       670\n",
            "                                           macro avg       0.87      0.87      0.87       670\n",
            "                                        weighted avg       0.87      0.87      0.87       670\n",
            " \n",
            "\n",
            "\n",
            "                                                      precision    recall  f1-score   support\n",
            "\n",
            "                 Fabricated Content/Imposter Content       0.83      0.82      0.83       222\n",
            "Misleading Content/False Context/Manipulated Content       0.80      0.83      0.82       214\n",
            "                                               Valid       0.97      0.96      0.97       234\n",
            "\n",
            "                                            accuracy                           0.87       670\n",
            "                                           macro avg       0.87      0.87      0.87       670\n",
            "                                        weighted avg       0.87      0.87      0.87       670\n",
            " \n",
            "\n",
            "\n",
            "                                                      precision    recall  f1-score   support\n",
            "\n",
            "                 Fabricated Content/Imposter Content       0.91      0.81      0.86       234\n",
            "Misleading Content/False Context/Manipulated Content       0.84      0.90      0.87       229\n",
            "                                               Valid       0.93      0.98      0.96       208\n",
            "\n",
            "                                            accuracy                           0.89       671\n",
            "                                           macro avg       0.90      0.90      0.89       671\n",
            "                                        weighted avg       0.89      0.89      0.89       671\n",
            " \n",
            "\n",
            "\n",
            "                                                      precision    recall  f1-score   support\n",
            "\n",
            "                 Fabricated Content/Imposter Content       0.86      0.83      0.84       223\n",
            "Misleading Content/False Context/Manipulated Content       0.81      0.87      0.84       228\n",
            "                                               Valid       0.98      0.94      0.96       220\n",
            "\n",
            "                                            accuracy                           0.88       671\n",
            "                                           macro avg       0.88      0.88      0.88       671\n",
            "                                        weighted avg       0.88      0.88      0.88       671\n",
            " \n",
            "\n",
            "\n",
            "                                                      precision    recall  f1-score   support\n",
            "\n",
            "                 Fabricated Content/Imposter Content       0.85      0.84      0.85       210\n",
            "Misleading Content/False Context/Manipulated Content       0.86      0.86      0.86       233\n",
            "                                               Valid       0.96      0.98      0.97       228\n",
            "\n",
            "                                            accuracy                           0.89       671\n",
            "                                           macro avg       0.89      0.89      0.89       671\n",
            "                                        weighted avg       0.89      0.89      0.89       671\n",
            " \n",
            "\n",
            "\n",
            "                                                      precision    recall  f1-score   support\n",
            "\n",
            "                 Fabricated Content/Imposter Content       0.80      0.81      0.81       218\n",
            "Misleading Content/False Context/Manipulated Content       0.84      0.84      0.84       254\n",
            "                                               Valid       0.98      0.95      0.97       199\n",
            "\n",
            "                                            accuracy                           0.87       671\n",
            "                                           macro avg       0.87      0.87      0.87       671\n",
            "                                        weighted avg       0.87      0.87      0.87       671\n",
            " \n",
            "\n",
            "\n",
            "                                                      precision    recall  f1-score   support\n",
            "\n",
            "                 Fabricated Content/Imposter Content       0.89      0.88      0.88       217\n",
            "Misleading Content/False Context/Manipulated Content       0.87      0.89      0.88       203\n",
            "                                               Valid       0.96      0.96      0.96       251\n",
            "\n",
            "                                            accuracy                           0.91       671\n",
            "                                           macro avg       0.91      0.91      0.91       671\n",
            "                                        weighted avg       0.91      0.91      0.91       671\n",
            " \n",
            "\n",
            "\n",
            "                                                      precision    recall  f1-score   support\n",
            "\n",
            "                 Fabricated Content/Imposter Content       0.84      0.81      0.83       225\n",
            "Misleading Content/False Context/Manipulated Content       0.84      0.86      0.85       235\n",
            "                                               Valid       0.95      0.95      0.95       211\n",
            "\n",
            "                                            accuracy                           0.87       671\n",
            "                                           macro avg       0.88      0.88      0.88       671\n",
            "                                        weighted avg       0.87      0.87      0.87       671\n",
            " \n",
            "\n",
            "\n",
            "                                                      precision    recall  f1-score   support\n",
            "\n",
            "                 Fabricated Content/Imposter Content       0.83      0.82      0.83       241\n",
            "Misleading Content/False Context/Manipulated Content       0.79      0.82      0.81       197\n",
            "                                               Valid       0.97      0.96      0.96       233\n",
            "\n",
            "                                            accuracy                           0.87       671\n",
            "                                           macro avg       0.86      0.87      0.86       671\n",
            "                                        weighted avg       0.87      0.87      0.87       671\n",
            " \n",
            "\n",
            "\n",
            "                                                      precision    recall  f1-score   support\n",
            "\n",
            "                 Fabricated Content/Imposter Content       0.87      0.81      0.84       245\n",
            "Misleading Content/False Context/Manipulated Content       0.80      0.89      0.84       218\n",
            "                                               Valid       0.96      0.93      0.94       208\n",
            "\n",
            "                                            accuracy                           0.87       671\n",
            "                                           macro avg       0.88      0.88      0.87       671\n",
            "                                        weighted avg       0.88      0.87      0.87       671\n",
            " \n",
            "\n",
            "\n",
            "                                                      precision    recall  f1-score   support\n",
            "\n",
            "                 Fabricated Content/Imposter Content       0.87      0.83      0.85       220\n",
            "Misleading Content/False Context/Manipulated Content       0.86      0.88      0.87       233\n",
            "                                               Valid       0.95      0.98      0.96       218\n",
            "\n",
            "                                            accuracy                           0.89       671\n",
            "                                           macro avg       0.89      0.89      0.89       671\n",
            "                                        weighted avg       0.89      0.89      0.89       671\n",
            " \n",
            "\n",
            "\n",
            "                                                      precision    recall  f1-score   support\n",
            "\n",
            "                 Fabricated Content/Imposter Content       0.82      0.82      0.82       224\n",
            "Misleading Content/False Context/Manipulated Content       0.85      0.82      0.83       251\n",
            "                                               Valid       0.94      0.99      0.96       195\n",
            "\n",
            "                                            accuracy                           0.87       670\n",
            "                                           macro avg       0.87      0.87      0.87       670\n",
            "                                        weighted avg       0.87      0.87      0.87       670\n",
            " \n",
            "\n",
            "\n",
            "                                                      precision    recall  f1-score   support\n",
            "\n",
            "                 Fabricated Content/Imposter Content       0.84      0.83      0.83       223\n",
            "Misleading Content/False Context/Manipulated Content       0.83      0.85      0.84       228\n",
            "                                               Valid       0.97      0.96      0.97       220\n",
            "\n",
            "                                            accuracy                           0.88       671\n",
            "                                           macro avg       0.88      0.88      0.88       671\n",
            "                                        weighted avg       0.88      0.88      0.88       671\n",
            " \n",
            "\n",
            "\n",
            "time: 1.87 ms (started: 2022-12-12 09:58:57 +00:00)\n"
          ]
        }
      ]
    },
    {
      "cell_type": "code",
      "source": [
        "bests = [i for i in range(len(recall_filtered))]\n",
        "selecteds = [recall_filtered[i][0] for i in bests]"
      ],
      "metadata": {
        "colab": {
          "base_uri": "https://localhost:8080/"
        },
        "id": "wD-NXQ_aO1uu",
        "outputId": "24b777c0-6936-482e-d0ff-04ad39fb700d"
      },
      "execution_count": null,
      "outputs": [
        {
          "output_type": "stream",
          "name": "stdout",
          "text": [
            "time: 790 µs (started: 2022-12-12 10:10:40 +00:00)\n"
          ]
        }
      ]
    },
    {
      "cell_type": "code",
      "source": [
        "def tokenize(text, cloud):\n",
        "  s = text.split()\n",
        "  return [cloud[s[i]] if s[i] in cloud else 1 for i in range(len(s))]\n",
        "\n",
        "def pad_sequence(seq):\n",
        "  return [0 if i < (max_len - len(seq)) else seq[i - (max_len - len(seq))] for i in range(max_len)]"
      ],
      "metadata": {
        "colab": {
          "base_uri": "https://localhost:8080/"
        },
        "id": "BwVwz7LDxyam",
        "outputId": "c87199c8-f1b5-4d11-946e-ed79c699a4ce"
      },
      "execution_count": null,
      "outputs": [
        {
          "output_type": "stream",
          "name": "stdout",
          "text": [
            "time: 1.47 ms (started: 2022-12-12 10:10:41 +00:00)\n"
          ]
        }
      ]
    },
    {
      "cell_type": "code",
      "source": [
        "results = []\n",
        "\n",
        "for j in selecteds:\n",
        "  predict_temp = []\n",
        "  false_temp = []\n",
        "  print(f'model-{j} predict')\n",
        "  for i in range(len(XVal)):\n",
        "    seq = tokenize(XVal[i], clouds[j])\n",
        "    padded = np.array([pad_sequence(seq)])\n",
        "    preds = models[j].predict(padded)\n",
        "    proba = preds[0].tolist()\n",
        "    classes = list(encoder.classes_)\n",
        "    prediction = classes[proba.index(max(preds[0]))]\n",
        "    if prediction == YVal[i]: predict_temp.append(True)\n",
        "    else: false_temp.append(classes.index(YVal[i]))\n",
        "\n",
        "  results.append(f'correct: {len(predict_temp)}/{len(XVal)}: {round(len(predict_temp)/len(XVal) * 100, 3)}%  -  false-i: {false_temp.count(0)}  -  false-m: {false_temp.count(1)}  -  false-v: {false_temp.count(2)}')"
      ],
      "metadata": {
        "id": "BhShuHzCxkIi"
      },
      "execution_count": null,
      "outputs": []
    },
    {
      "cell_type": "code",
      "source": [
        "for i in range(len(selecteds)):\n",
        "  print('model:', selecteds[i], f'\\n{results[i]}')"
      ],
      "metadata": {
        "colab": {
          "base_uri": "https://localhost:8080/"
        },
        "id": "hP2IqRgOv6zp",
        "outputId": "87b1a7c2-e0ff-4090-a1aa-540e6e3a1393"
      },
      "execution_count": null,
      "outputs": [
        {
          "output_type": "stream",
          "name": "stdout",
          "text": [
            "model: 1 \n",
            "correct: 6265/7315: 85.646%  -  false-i: 147  -  false-m: 793  -  false-v: 110\n",
            "model: 7 \n",
            "correct: 6397/7315: 87.45%  -  false-i: 187  -  false-m: 654  -  false-v: 77\n",
            "model: 10 \n",
            "correct: 6203/7315: 84.798%  -  false-i: 188  -  false-m: 867  -  false-v: 57\n",
            "model: 18 \n",
            "correct: 6236/7315: 85.249%  -  false-i: 155  -  false-m: 829  -  false-v: 95\n",
            "model: 19 \n",
            "correct: 6010/7315: 82.16%  -  false-i: 133  -  false-m: 1053  -  false-v: 119\n",
            "model: 29 \n",
            "correct: 6280/7315: 85.851%  -  false-i: 221  -  false-m: 706  -  false-v: 108\n",
            "model: 31 \n",
            "correct: 6310/7315: 86.261%  -  false-i: 203  -  false-m: 699  -  false-v: 103\n",
            "model: 33 \n",
            "correct: 6245/7315: 85.373%  -  false-i: 193  -  false-m: 765  -  false-v: 112\n",
            "model: 45 \n",
            "correct: 6118/7315: 83.636%  -  false-i: 180  -  false-m: 987  -  false-v: 30\n",
            "model: 55 \n",
            "correct: 6286/7315: 85.933%  -  false-i: 208  -  false-m: 748  -  false-v: 73\n",
            "model: 60 \n",
            "correct: 6044/7315: 82.625%  -  false-i: 222  -  false-m: 991  -  false-v: 58\n",
            "model: 78 \n",
            "correct: 6341/7315: 86.685%  -  false-i: 218  -  false-m: 675  -  false-v: 81\n",
            "model: 87 \n",
            "correct: 5326/7315: 72.809%  -  false-i: 112  -  false-m: 1811  -  false-v: 66\n",
            "model: 106 \n",
            "correct: 6375/7315: 87.15%  -  false-i: 125  -  false-m: 710  -  false-v: 105\n",
            "model: 117 \n",
            "correct: 6239/7315: 85.29%  -  false-i: 213  -  false-m: 802  -  false-v: 61\n",
            "model: 134 \n",
            "correct: 6203/7315: 84.798%  -  false-i: 176  -  false-m: 703  -  false-v: 233\n",
            "model: 165 \n",
            "correct: 5954/7315: 81.394%  -  false-i: 150  -  false-m: 1089  -  false-v: 122\n",
            "time: 1.65 ms (started: 2022-12-12 12:09:38 +00:00)\n"
          ]
        }
      ]
    },
    {
      "cell_type": "code",
      "source": [
        "best = [7, 6397]\n",
        "define_confusion(metas[best[0]][2], metas[best[0]][1])\n",
        "print('\\n')\n",
        "define_plot('accuracy', metas[best[0]][3])\n",
        "print('\\n')\n",
        "define_plot('loss', metas[best[0]][3])\n",
        "print('\\n\\n')"
      ],
      "metadata": {
        "colab": {
          "base_uri": "https://localhost:8080/",
          "height": 1000
        },
        "id": "zArSwVYxdsEu",
        "outputId": "7522c214-845b-41dc-bd8d-87776cf11901"
      },
      "execution_count": null,
      "outputs": [
        {
          "output_type": "display_data",
          "data": {
            "text/plain": [
              "<Figure size 936x720 with 2 Axes>"
            ],
            "image/png": "[encoded data removed]"
          },
          "metadata": {
            "needs_background": "light"
          }
        },
        {
          "output_type": "stream",
          "name": "stdout",
          "text": [
            "\n",
            "\n"
          ]
        },
        {
          "output_type": "display_data",
          "data": {
            "text/plain": [
              "<Figure size 1080x504 with 1 Axes>"
            ],
            "image/png": "[encoded data removed]"
          },
          "metadata": {
            "needs_background": "light"
          }
        },
        {
          "output_type": "stream",
          "name": "stdout",
          "text": [
            "\n",
            "\n"
          ]
        },
        {
          "output_type": "display_data",
          "data": {
            "text/plain": [
              "<Figure size 1080x504 with 1 Axes>"
            ],
            "image/png": "[encoded data removed]"
          },
          "metadata": {
            "needs_background": "light"
          }
        },
        {
          "output_type": "stream",
          "name": "stdout",
          "text": [
            "\n",
            "\n",
            "\n",
            "time: 695 ms (started: 2022-12-12 12:13:43 +00:00)\n"
          ]
        }
      ]
    },
    {
      "cell_type": "code",
      "source": [
        "record.to_excel('acc_loss_records.xlsx', index=False, encoding='utf-8')"
      ],
      "metadata": {
        "colab": {
          "base_uri": "https://localhost:8080/"
        },
        "id": "y9BfAXOlSCM9",
        "outputId": "66a53f60-8e31-4a5d-8241-daaa5c471706"
      },
      "execution_count": null,
      "outputs": [
        {
          "output_type": "stream",
          "name": "stdout",
          "text": [
            "time: 263 ms (started: 2022-12-12 12:13:43 +00:00)\n"
          ]
        }
      ]
    },
    {
      "cell_type": "code",
      "source": [
        "def cr_to_excel(report, index, score):\n",
        "    report_data = []\n",
        "    lines = report.split('\\n')\n",
        "    for line in (lines[2:5]+lines[7:9]):\n",
        "        row = {}\n",
        "        row_data = line.split()\n",
        "        row['class'] = ' '.join(row_data[0:-4])\n",
        "        row['precision'] = row_data[-4]\n",
        "        row['recall'] = row_data[-3]\n",
        "        row['f1_score'] = row_data[-2]\n",
        "        row['support'] = row_data[-1]\n",
        "        row['accuracy'] = round(record.iloc[math.ceil((index+0.5)/5) - 1][f'acc{(index%5) + 1}'], 2)\n",
        "        row['loss'] = round(record.iloc[math.ceil((index+0.5)/5) - 1][f'loss{(index%5) + 1}'], 4)\n",
        "        row['activation'] = record.iloc[math.ceil((index+0.5)/5) - 1]['Activation']\n",
        "        row['optimizer'] = record.iloc[math.ceil((index+0.5)/5) - 1]['Optimizer']\n",
        "        row['kernel'] = record.iloc[math.ceil((index+0.5)/5) - 1]['Filters']\n",
        "        row['test_score'] = round(((score-3354)/(7315-3354)*100), 2)\n",
        "        report_data.append(row)\n",
        "    dataframe = pd.DataFrame.from_dict(report_data)\n",
        "    dataframe.to_excel(f'classification_report-{index}.xlsx', index = False)\n",
        "\n",
        "cr_to_excel(reports[best[0]], best[0], best[1])"
      ],
      "metadata": {
        "colab": {
          "base_uri": "https://localhost:8080/"
        },
        "id": "jz0MV6wZiUq8",
        "outputId": "9172294b-8921-4e60-e4d6-f2f9091880cd"
      },
      "execution_count": null,
      "outputs": [
        {
          "output_type": "stream",
          "name": "stdout",
          "text": [
            "time: 19.8 ms (started: 2022-12-12 12:13:44 +00:00)\n"
          ]
        }
      ]
    },
    {
      "cell_type": "code",
      "source": [
        "def clouds_to_json(index):\n",
        "  with open(f'word_dict-{index}.json' , 'w') as file:    \n",
        "    json.dump(clouds[index], file)\n",
        "\n",
        "clouds_to_json(best[0])"
      ],
      "metadata": {
        "colab": {
          "base_uri": "https://localhost:8080/"
        },
        "id": "hrR13HO1SyAH",
        "outputId": "51c6fa82-2f79-4e81-fd5e-2ccf93c055e1"
      },
      "execution_count": null,
      "outputs": [
        {
          "output_type": "stream",
          "name": "stdout",
          "text": [
            "time: 15.4 ms (started: 2022-12-12 12:13:44 +00:00)\n"
          ]
        }
      ]
    },
    {
      "cell_type": "code",
      "source": [
        "def res_to_json(index):\n",
        "  with open(f'residu-{index}.json' , 'w') as file:    \n",
        "    json.dump({'valid': valid_selected[index], 'false': false_selected[index], 'imposter': imposter_selected[index]}, file)\n",
        "\n",
        "res_to_json(best[0])"
      ],
      "metadata": {
        "colab": {
          "base_uri": "https://localhost:8080/"
        },
        "id": "N5U-pd_aUv_u",
        "outputId": "5a47870b-916a-42f4-c526-fcf4fbecd1ff"
      },
      "execution_count": null,
      "outputs": [
        {
          "output_type": "stream",
          "name": "stdout",
          "text": [
            "time: 23.4 ms (started: 2022-12-12 12:13:44 +00:00)\n"
          ]
        }
      ]
    },
    {
      "cell_type": "code",
      "source": [
        "models[best[0]].save(f\"model-{best[0]}.h5\")"
      ],
      "metadata": {
        "colab": {
          "base_uri": "https://localhost:8080/"
        },
        "id": "AE-7_qKDTfZI",
        "outputId": "6246f29c-41f5-44af-fd81-961a97e99fad"
      },
      "execution_count": null,
      "outputs": [
        {
          "output_type": "stream",
          "name": "stdout",
          "text": [
            "time: 173 ms (started: 2022-12-12 12:13:44 +00:00)\n"
          ]
        }
      ]
    },
    {
      "cell_type": "code",
      "source": [
        "files.download('acc_loss_records.xlsx')\n",
        "\n",
        "files.download(f'classification_report-{best[0]}.xlsx')\n",
        "files.download(f'word_dict-{best[0]}.json')\n",
        "files.download(f'residu-{best[0]}.json')\n",
        "files.download(f'model-{best[0]}.h5')"
      ],
      "metadata": {
        "id": "mnxFtY4lWGFC",
        "colab": {
          "base_uri": "https://localhost:8080/",
          "height": 105
        },
        "outputId": "67147d5e-8d03-418d-b628-815ae9ca804b"
      },
      "execution_count": null,
      "outputs": [
        {
          "output_type": "display_data",
          "data": {
            "text/plain": [
              "<IPython.core.display.Javascript object>"
            ],
            "application/javascript": [
              "\n",
              "    async function download(id, filename, size) {\n",
              "      if (!google.colab.kernel.accessAllowed) {\n",
              "        return;\n",
              "      }\n",
              "      const div = document.createElement('div');\n",
              "      const label = document.createElement('label');\n",
              "      label.textContent = `Downloading \"${filename}\": `;\n",
              "      div.appendChild(label);\n",
              "      const progress = document.createElement('progress');\n",
              "      progress.max = size;\n",
              "      div.appendChild(progress);\n",
              "      document.body.appendChild(div);\n",
              "\n",
              "      const buffers = [];\n",
              "      let downloaded = 0;\n",
              "\n",
              "      const channel = await google.colab.kernel.comms.open(id);\n",
              "      // Send a message to notify the kernel that we're ready.\n",
              "      channel.send({})\n",
              "\n",
              "      for await (const message of channel.messages) {\n",
              "        // Send a message to notify the kernel that we're ready.\n",
              "        channel.send({})\n",
              "        if (message.buffers) {\n",
              "          for (const buffer of message.buffers) {\n",
              "            buffers.push(buffer);\n",
              "            downloaded += buffer.byteLength;\n",
              "            progress.value = downloaded;\n",
              "          }\n",
              "        }\n",
              "      }\n",
              "      const blob = new Blob(buffers, {type: 'application/binary'});\n",
              "      const a = document.createElement('a');\n",
              "      a.href = window.URL.createObjectURL(blob);\n",
              "      a.download = filename;\n",
              "      div.appendChild(a);\n",
              "      a.click();\n",
              "      div.remove();\n",
              "    }\n",
              "  "
            ]
          },
          "metadata": {}
        },
        {
          "output_type": "display_data",
          "data": {
            "text/plain": [
              "<IPython.core.display.Javascript object>"
            ],
            "application/javascript": [
              "download(\"download_f58e10d0-102b-4573-82f4-e1a5fa3a8875\", \"acc_loss_records.xlsx\", 10183)"
            ]
          },
          "metadata": {}
        },
        {
          "output_type": "display_data",
          "data": {
            "text/plain": [
              "<IPython.core.display.Javascript object>"
            ],
            "application/javascript": [
              "\n",
              "    async function download(id, filename, size) {\n",
              "      if (!google.colab.kernel.accessAllowed) {\n",
              "        return;\n",
              "      }\n",
              "      const div = document.createElement('div');\n",
              "      const label = document.createElement('label');\n",
              "      label.textContent = `Downloading \"${filename}\": `;\n",
              "      div.appendChild(label);\n",
              "      const progress = document.createElement('progress');\n",
              "      progress.max = size;\n",
              "      div.appendChild(progress);\n",
              "      document.body.appendChild(div);\n",
              "\n",
              "      const buffers = [];\n",
              "      let downloaded = 0;\n",
              "\n",
              "      const channel = await google.colab.kernel.comms.open(id);\n",
              "      // Send a message to notify the kernel that we're ready.\n",
              "      channel.send({})\n",
              "\n",
              "      for await (const message of channel.messages) {\n",
              "        // Send a message to notify the kernel that we're ready.\n",
              "        channel.send({})\n",
              "        if (message.buffers) {\n",
              "          for (const buffer of message.buffers) {\n",
              "            buffers.push(buffer);\n",
              "            downloaded += buffer.byteLength;\n",
              "            progress.value = downloaded;\n",
              "          }\n",
              "        }\n",
              "      }\n",
              "      const blob = new Blob(buffers, {type: 'application/binary'});\n",
              "      const a = document.createElement('a');\n",
              "      a.href = window.URL.createObjectURL(blob);\n",
              "      a.download = filename;\n",
              "      div.appendChild(a);\n",
              "      a.click();\n",
              "      div.remove();\n",
              "    }\n",
              "  "
            ]
          },
          "metadata": {}
        },
        {
          "output_type": "display_data",
          "data": {
            "text/plain": [
              "<IPython.core.display.Javascript object>"
            ],
            "application/javascript": [
              "download(\"download_77ed9b1a-8cb9-4a7b-a825-a2bf8847160d\", \"classification_report-7.xlsx\", 5347)"
            ]
          },
          "metadata": {}
        },
        {
          "output_type": "display_data",
          "data": {
            "text/plain": [
              "<IPython.core.display.Javascript object>"
            ],
            "application/javascript": [
              "\n",
              "    async function download(id, filename, size) {\n",
              "      if (!google.colab.kernel.accessAllowed) {\n",
              "        return;\n",
              "      }\n",
              "      const div = document.createElement('div');\n",
              "      const label = document.createElement('label');\n",
              "      label.textContent = `Downloading \"${filename}\": `;\n",
              "      div.appendChild(label);\n",
              "      const progress = document.createElement('progress');\n",
              "      progress.max = size;\n",
              "      div.appendChild(progress);\n",
              "      document.body.appendChild(div);\n",
              "\n",
              "      const buffers = [];\n",
              "      let downloaded = 0;\n",
              "\n",
              "      const channel = await google.colab.kernel.comms.open(id);\n",
              "      // Send a message to notify the kernel that we're ready.\n",
              "      channel.send({})\n",
              "\n",
              "      for await (const message of channel.messages) {\n",
              "        // Send a message to notify the kernel that we're ready.\n",
              "        channel.send({})\n",
              "        if (message.buffers) {\n",
              "          for (const buffer of message.buffers) {\n",
              "            buffers.push(buffer);\n",
              "            downloaded += buffer.byteLength;\n",
              "            progress.value = downloaded;\n",
              "          }\n",
              "        }\n",
              "      }\n",
              "      const blob = new Blob(buffers, {type: 'application/binary'});\n",
              "      const a = document.createElement('a');\n",
              "      a.href = window.URL.createObjectURL(blob);\n",
              "      a.download = filename;\n",
              "      div.appendChild(a);\n",
              "      a.click();\n",
              "      div.remove();\n",
              "    }\n",
              "  "
            ]
          },
          "metadata": {}
        },
        {
          "output_type": "display_data",
          "data": {
            "text/plain": [
              "<IPython.core.display.Javascript object>"
            ],
            "application/javascript": [
              "download(\"download_e1cd7f7c-a504-4f15-8232-bc31a5ad7fd5\", \"word_dict-7.json\", 209161)"
            ]
          },
          "metadata": {}
        },
        {
          "output_type": "display_data",
          "data": {
            "text/plain": [
              "<IPython.core.display.Javascript object>"
            ],
            "application/javascript": [
              "\n",
              "    async function download(id, filename, size) {\n",
              "      if (!google.colab.kernel.accessAllowed) {\n",
              "        return;\n",
              "      }\n",
              "      const div = document.createElement('div');\n",
              "      const label = document.createElement('label');\n",
              "      label.textContent = `Downloading \"${filename}\": `;\n",
              "      div.appendChild(label);\n",
              "      const progress = document.createElement('progress');\n",
              "      progress.max = size;\n",
              "      div.appendChild(progress);\n",
              "      document.body.appendChild(div);\n",
              "\n",
              "      const buffers = [];\n",
              "      let downloaded = 0;\n",
              "\n",
              "      const channel = await google.colab.kernel.comms.open(id);\n",
              "      // Send a message to notify the kernel that we're ready.\n",
              "      channel.send({})\n",
              "\n",
              "      for await (const message of channel.messages) {\n",
              "        // Send a message to notify the kernel that we're ready.\n",
              "        channel.send({})\n",
              "        if (message.buffers) {\n",
              "          for (const buffer of message.buffers) {\n",
              "            buffers.push(buffer);\n",
              "            downloaded += buffer.byteLength;\n",
              "            progress.value = downloaded;\n",
              "          }\n",
              "        }\n",
              "      }\n",
              "      const blob = new Blob(buffers, {type: 'application/binary'});\n",
              "      const a = document.createElement('a');\n",
              "      a.href = window.URL.createObjectURL(blob);\n",
              "      a.download = filename;\n",
              "      div.appendChild(a);\n",
              "      a.click();\n",
              "      div.remove();\n",
              "    }\n",
              "  "
            ]
          },
          "metadata": {}
        },
        {
          "output_type": "display_data",
          "data": {
            "text/plain": [
              "<IPython.core.display.Javascript object>"
            ],
            "application/javascript": [
              "download(\"download_71005c55-166c-4435-8cc5-526e89da84d7\", \"residu-7.json\", 247345)"
            ]
          },
          "metadata": {}
        },
        {
          "output_type": "display_data",
          "data": {
            "text/plain": [
              "<IPython.core.display.Javascript object>"
            ],
            "application/javascript": [
              "\n",
              "    async function download(id, filename, size) {\n",
              "      if (!google.colab.kernel.accessAllowed) {\n",
              "        return;\n",
              "      }\n",
              "      const div = document.createElement('div');\n",
              "      const label = document.createElement('label');\n",
              "      label.textContent = `Downloading \"${filename}\": `;\n",
              "      div.appendChild(label);\n",
              "      const progress = document.createElement('progress');\n",
              "      progress.max = size;\n",
              "      div.appendChild(progress);\n",
              "      document.body.appendChild(div);\n",
              "\n",
              "      const buffers = [];\n",
              "      let downloaded = 0;\n",
              "\n",
              "      const channel = await google.colab.kernel.comms.open(id);\n",
              "      // Send a message to notify the kernel that we're ready.\n",
              "      channel.send({})\n",
              "\n",
              "      for await (const message of channel.messages) {\n",
              "        // Send a message to notify the kernel that we're ready.\n",
              "        channel.send({})\n",
              "        if (message.buffers) {\n",
              "          for (const buffer of message.buffers) {\n",
              "            buffers.push(buffer);\n",
              "            downloaded += buffer.byteLength;\n",
              "            progress.value = downloaded;\n",
              "          }\n",
              "        }\n",
              "      }\n",
              "      const blob = new Blob(buffers, {type: 'application/binary'});\n",
              "      const a = document.createElement('a');\n",
              "      a.href = window.URL.createObjectURL(blob);\n",
              "      a.download = filename;\n",
              "      div.appendChild(a);\n",
              "      a.click();\n",
              "      div.remove();\n",
              "    }\n",
              "  "
            ]
          },
          "metadata": {}
        },
        {
          "output_type": "display_data",
          "data": {
            "text/plain": [
              "<IPython.core.display.Javascript object>"
            ],
            "application/javascript": [
              "download(\"download_821e049d-6a43-4d96-b797-6eb684cda45e\", \"model-7.h5\", 46682744)"
            ]
          },
          "metadata": {}
        },
        {
          "output_type": "stream",
          "name": "stdout",
          "text": [
            "time: 26.9 ms (started: 2022-12-12 12:13:44 +00:00)\n"
          ]
        }
      ]
    }
  ]
}