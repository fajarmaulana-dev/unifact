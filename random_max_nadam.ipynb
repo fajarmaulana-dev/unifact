{
  "nbformat": 4,
  "nbformat_minor": 0,
  "metadata": {
    "colab": {
      "provenance": [],
      "authorship_tag": "ABX9TyNq2poPZPJECQzwKkWk39kO",
      "include_colab_link": true
    },
    "kernelspec": {
      "name": "python3",
      "display_name": "Python 3"
    },
    "language_info": {
      "name": "python"
    },
    "accelerator": "GPU",
    "gpuClass": "standard"
  },
  "cells": [
    {
      "cell_type": "markdown",
      "metadata": {
        "id": "view-in-github",
        "colab_type": "text"
      },
      "source": [
        "<a href=\"https://colab.research.google.com/github/felkira/unifact.github.io/blob/modeling/random_max_nadam.ipynb\" target=\"_parent\"><img src=\"https://colab.research.google.com/assets/colab-badge.svg\" alt=\"Open In Colab\"/></a>"
      ]
    },
    {
      "cell_type": "code",
      "execution_count": null,
      "metadata": {
        "id": "Mq48DsyGZUVM"
      },
      "outputs": [],
      "source": [
        "# Record Each Cell's Execution Time\n",
        "!pip install keras-tcn\n",
        "!pip install ipython-autotime\n",
        "%load_ext autotime"
      ]
    },
    {
      "cell_type": "code",
      "execution_count": null,
      "metadata": {
        "colab": {
          "base_uri": "https://localhost:8080/"
        },
        "id": "dPtsepq3ZJXM",
        "outputId": "115bb6f5-6572-4eb2-870c-fd44b10de7af"
      },
      "outputs": [
        {
          "output_type": "stream",
          "name": "stdout",
          "text": [
            "time: 2.6 s (started: 2022-12-11 17:29:07 +00:00)\n"
          ]
        }
      ],
      "source": [
        "import numpy as np\n",
        "import pandas as pd \n",
        "import matplotlib.pyplot as plt\n",
        "import seaborn as sns\n",
        "import json, re, string, gdown, math, time\n",
        "from tcn import TCN\n",
        "from keras.layers import Input, Embedding, Dense, Dropout, SpatialDropout1D, concatenate, GlobalAveragePooling1D, GlobalMaxPooling1D, Bidirectional\n",
        "from keras.models import Model\n",
        "from tensorflow.keras.preprocessing import text, sequence\n",
        "from keras.utils import to_categorical\n",
        "from tensorflow.keras.callbacks import EarlyStopping\n",
        "from tensorflow.math import confusion_matrix as cm\n",
        "from sklearn.model_selection import train_test_split\n",
        "from sklearn.preprocessing import LabelEncoder\n",
        "from sklearn.model_selection import KFold\n",
        "from sklearn.metrics import classification_report as cr, precision_recall_fscore_support as prfs\n",
        "from collections import Counter\n",
        "from random import randint\n",
        "from google.colab import files"
      ]
    },
    {
      "cell_type": "code",
      "execution_count": null,
      "metadata": {
        "colab": {
          "base_uri": "https://localhost:8080/",
          "height": 128
        },
        "id": "I4ZEAL8CELcv",
        "outputId": "145ecc6e-e9d6-4e50-90cc-56b7779e3b7f"
      },
      "outputs": [
        {
          "output_type": "stream",
          "name": "stderr",
          "text": [
            "Downloading...\n",
            "From: https://drive.google.com/u/0/uc?id=1p6hrwRZfgEOrHSQGPdMyZvdi3rQLHS2p&export=download\n",
            "To: /content/valid-7hoaks.csv\n",
            "100%|██████████| 2.07M/2.07M [00:00<00:00, 145MB/s]\n"
          ]
        },
        {
          "output_type": "execute_result",
          "data": {
            "text/plain": [
              "'valid-7hoaks.csv'"
            ],
            "application/vnd.google.colaboratory.intrinsic+json": {
              "type": "string"
            }
          },
          "metadata": {},
          "execution_count": 3
        },
        {
          "output_type": "stream",
          "name": "stdout",
          "text": [
            "time: 2.35 s (started: 2022-12-11 17:29:09 +00:00)\n"
          ]
        }
      ],
      "source": [
        "url = 'https://drive.google.com/u/0/uc?id=1p6hrwRZfgEOrHSQGPdMyZvdi3rQLHS2p&export=download'\n",
        "gdown.download(url, 'valid-7hoaks.csv', quiet=False)"
      ]
    },
    {
      "cell_type": "code",
      "execution_count": null,
      "metadata": {
        "colab": {
          "base_uri": "https://localhost:8080/",
          "height": 476
        },
        "id": "iCipNeVuZ8qb",
        "outputId": "5f888f36-f4fd-45dc-94ec-0b8164453cbf"
      },
      "outputs": [
        {
          "output_type": "execute_result",
          "data": {
            "text/plain": [
              "                  kategori  \\\n",
              "0  Konten Yang Menyesatkan   \n",
              "1        Konten Yang Salah   \n",
              "2  Konten Yang Menyesatkan   \n",
              "3  Konten Yang Menyesatkan   \n",
              "4  Konten Yang Menyesatkan   \n",
              "\n",
              "                                                                         judul  \\\n",
              "0  buaya meter terbesar di dunia ditemukan di danau kota maine amerika serikat   \n",
              "1       demo memprotes kecurangan hasil pemilihan umum di brazil pada november   \n",
              "2                                          warga bogor meninggal hidup kembali   \n",
              "3                                dari fauci akui vaksin tidak melindungi covid   \n",
              "4                             set top box dapat mendeteksi orang yang divaksin   \n",
              "\n",
              "      tanggal  \\\n",
              "0  26/11/2022   \n",
              "1  25/11/2022   \n",
              "2  25/11/2022   \n",
              "3  25/11/2022   \n",
              "4  25/11/2022   \n",
              "\n",
              "                                                                                                                                          narasi  \n",
              "0                                                                          buaya meter terbesar dunia ditemukan danau kota maine amerika serikat  \n",
              "1                                                                                 demo memprotes kecurangan hasil pemilihan umum brazil november  \n",
              "2                                                                                                                    warga bogor meninggal hidup  \n",
              "3                                                                                                             fauci akui vaksin melindungi covid  \n",
              "4  vaksin gratis set box punah gratis ternyata ternyata dalamnya rangkaian bluetooth low energy device membaca data orang orang yg divaksin aduh  "
            ],
            "text/html": [
              "\n",
              "  <div id=\"df-880c539a-a305-4c29-90f1-3e3cef3cc4a5\">\n",
              "    <div class=\"colab-df-container\">\n",
              "      <div>\n",
              "<style scoped>\n",
              "    .dataframe tbody tr th:only-of-type {\n",
              "        vertical-align: middle;\n",
              "    }\n",
              "\n",
              "    .dataframe tbody tr th {\n",
              "        vertical-align: top;\n",
              "    }\n",
              "\n",
              "    .dataframe thead th {\n",
              "        text-align: right;\n",
              "    }\n",
              "</style>\n",
              "<table border=\"1\" class=\"dataframe\">\n",
              "  <thead>\n",
              "    <tr style=\"text-align: right;\">\n",
              "      <th></th>\n",
              "      <th>kategori</th>\n",
              "      <th>judul</th>\n",
              "      <th>tanggal</th>\n",
              "      <th>narasi</th>\n",
              "    </tr>\n",
              "  </thead>\n",
              "  <tbody>\n",
              "    <tr>\n",
              "      <th>0</th>\n",
              "      <td>Konten Yang Menyesatkan</td>\n",
              "      <td>buaya meter terbesar di dunia ditemukan di danau kota maine amerika serikat</td>\n",
              "      <td>26/11/2022</td>\n",
              "      <td>buaya meter terbesar dunia ditemukan danau kota maine amerika serikat</td>\n",
              "    </tr>\n",
              "    <tr>\n",
              "      <th>1</th>\n",
              "      <td>Konten Yang Salah</td>\n",
              "      <td>demo memprotes kecurangan hasil pemilihan umum di brazil pada november</td>\n",
              "      <td>25/11/2022</td>\n",
              "      <td>demo memprotes kecurangan hasil pemilihan umum brazil november</td>\n",
              "    </tr>\n",
              "    <tr>\n",
              "      <th>2</th>\n",
              "      <td>Konten Yang Menyesatkan</td>\n",
              "      <td>warga bogor meninggal hidup kembali</td>\n",
              "      <td>25/11/2022</td>\n",
              "      <td>warga bogor meninggal hidup</td>\n",
              "    </tr>\n",
              "    <tr>\n",
              "      <th>3</th>\n",
              "      <td>Konten Yang Menyesatkan</td>\n",
              "      <td>dari fauci akui vaksin tidak melindungi covid</td>\n",
              "      <td>25/11/2022</td>\n",
              "      <td>fauci akui vaksin melindungi covid</td>\n",
              "    </tr>\n",
              "    <tr>\n",
              "      <th>4</th>\n",
              "      <td>Konten Yang Menyesatkan</td>\n",
              "      <td>set top box dapat mendeteksi orang yang divaksin</td>\n",
              "      <td>25/11/2022</td>\n",
              "      <td>vaksin gratis set box punah gratis ternyata ternyata dalamnya rangkaian bluetooth low energy device membaca data orang orang yg divaksin aduh</td>\n",
              "    </tr>\n",
              "  </tbody>\n",
              "</table>\n",
              "</div>\n",
              "      <button class=\"colab-df-convert\" onclick=\"convertToInteractive('df-880c539a-a305-4c29-90f1-3e3cef3cc4a5')\"\n",
              "              title=\"Convert this dataframe to an interactive table.\"\n",
              "              style=\"display:none;\">\n",
              "        \n",
              "  <svg xmlns=\"http://www.w3.org/2000/svg\" height=\"24px\"viewBox=\"0 0 24 24\"\n",
              "       width=\"24px\">\n",
              "    <path d=\"M0 0h24v24H0V0z\" fill=\"none\"/>\n",
              "    <path d=\"M18.56 5.44l.94 2.06.94-2.06 2.06-.94-2.06-.94-.94-2.06-.94 2.06-2.06.94zm-11 1L8.5 8.5l.94-2.06 2.06-.94-2.06-.94L8.5 2.5l-.94 2.06-2.06.94zm10 10l.94 2.06.94-2.06 2.06-.94-2.06-.94-.94-2.06-.94 2.06-2.06.94z\"/><path d=\"M17.41 7.96l-1.37-1.37c-.4-.4-.92-.59-1.43-.59-.52 0-1.04.2-1.43.59L10.3 9.45l-7.72 7.72c-.78.78-.78 2.05 0 2.83L4 21.41c.39.39.9.59 1.41.59.51 0 1.02-.2 1.41-.59l7.78-7.78 2.81-2.81c.8-.78.8-2.07 0-2.86zM5.41 20L4 18.59l7.72-7.72 1.47 1.35L5.41 20z\"/>\n",
              "  </svg>\n",
              "      </button>\n",
              "      \n",
              "  <style>\n",
              "    .colab-df-container {\n",
              "      display:flex;\n",
              "      flex-wrap:wrap;\n",
              "      gap: 12px;\n",
              "    }\n",
              "\n",
              "    .colab-df-convert {\n",
              "      background-color: #E8F0FE;\n",
              "      border: none;\n",
              "      border-radius: 50%;\n",
              "      cursor: pointer;\n",
              "      display: none;\n",
              "      fill: #1967D2;\n",
              "      height: 32px;\n",
              "      padding: 0 0 0 0;\n",
              "      width: 32px;\n",
              "    }\n",
              "\n",
              "    .colab-df-convert:hover {\n",
              "      background-color: #E2EBFA;\n",
              "      box-shadow: 0px 1px 2px rgba(60, 64, 67, 0.3), 0px 1px 3px 1px rgba(60, 64, 67, 0.15);\n",
              "      fill: #174EA6;\n",
              "    }\n",
              "\n",
              "    [theme=dark] .colab-df-convert {\n",
              "      background-color: #3B4455;\n",
              "      fill: #D2E3FC;\n",
              "    }\n",
              "\n",
              "    [theme=dark] .colab-df-convert:hover {\n",
              "      background-color: #434B5C;\n",
              "      box-shadow: 0px 1px 3px 1px rgba(0, 0, 0, 0.15);\n",
              "      filter: drop-shadow(0px 1px 2px rgba(0, 0, 0, 0.3));\n",
              "      fill: #FFFFFF;\n",
              "    }\n",
              "  </style>\n",
              "\n",
              "      <script>\n",
              "        const buttonEl =\n",
              "          document.querySelector('#df-880c539a-a305-4c29-90f1-3e3cef3cc4a5 button.colab-df-convert');\n",
              "        buttonEl.style.display =\n",
              "          google.colab.kernel.accessAllowed ? 'block' : 'none';\n",
              "\n",
              "        async function convertToInteractive(key) {\n",
              "          const element = document.querySelector('#df-880c539a-a305-4c29-90f1-3e3cef3cc4a5');\n",
              "          const dataTable =\n",
              "            await google.colab.kernel.invokeFunction('convertToInteractive',\n",
              "                                                     [key], {});\n",
              "          if (!dataTable) return;\n",
              "\n",
              "          const docLinkHtml = 'Like what you see? Visit the ' +\n",
              "            '<a target=\"_blank\" href=https://colab.research.google.com/notebooks/data_table.ipynb>data table notebook</a>'\n",
              "            + ' to learn more about interactive tables.';\n",
              "          element.innerHTML = '';\n",
              "          dataTable['output_type'] = 'display_data';\n",
              "          await google.colab.output.renderOutput(dataTable, element);\n",
              "          const docLink = document.createElement('div');\n",
              "          docLink.innerHTML = docLinkHtml;\n",
              "          element.appendChild(docLink);\n",
              "        }\n",
              "      </script>\n",
              "    </div>\n",
              "  </div>\n",
              "  "
            ]
          },
          "metadata": {},
          "execution_count": 4
        },
        {
          "output_type": "stream",
          "name": "stdout",
          "text": [
            "time: 38 ms (started: 2022-12-11 17:29:12 +00:00)\n"
          ]
        }
      ],
      "source": [
        "main_data = pd.read_csv('/content/valid-7hoaks.csv')\n",
        "pd.set_option('max_colwidth', 400)\n",
        "main_data.head()"
      ]
    },
    {
      "cell_type": "code",
      "execution_count": null,
      "metadata": {
        "colab": {
          "base_uri": "https://localhost:8080/"
        },
        "id": "sSOTr3p4aIfB",
        "outputId": "e3a7c7f7-4f94-45a8-cba3-10c947da1db2"
      },
      "outputs": [
        {
          "output_type": "stream",
          "name": "stdout",
          "text": [
            "Shape of data (rows, cols)=> (7530, 4)\n",
            "time: 451 µs (started: 2022-12-11 17:29:12 +00:00)\n"
          ]
        }
      ],
      "source": [
        "print(\"Shape of data (rows, cols)=>\", main_data.shape)"
      ]
    },
    {
      "cell_type": "code",
      "execution_count": null,
      "metadata": {
        "colab": {
          "base_uri": "https://localhost:8080/"
        },
        "id": "_5XQg4wUkTqv",
        "outputId": "03835e0b-e194-41f6-eaee-470bd2095ade"
      },
      "outputs": [
        {
          "output_type": "execute_result",
          "data": {
            "text/plain": [
              "kategori    0\n",
              "judul       0\n",
              "tanggal     0\n",
              "narasi      0\n",
              "dtype: int64"
            ]
          },
          "metadata": {},
          "execution_count": 6
        },
        {
          "output_type": "stream",
          "name": "stdout",
          "text": [
            "time: 5.87 ms (started: 2022-12-11 17:29:12 +00:00)\n"
          ]
        }
      ],
      "source": [
        "main_data.isnull().sum()"
      ]
    },
    {
      "cell_type": "code",
      "execution_count": null,
      "metadata": {
        "colab": {
          "base_uri": "https://localhost:8080/",
          "height": 254
        },
        "id": "LaY1lfhOauVe",
        "outputId": "15dc2427-1094-4eb4-947d-e38bedd80992"
      },
      "outputs": [
        {
          "output_type": "execute_result",
          "data": {
            "text/plain": [
              "       kategori  \\\n",
              "count      7530   \n",
              "unique        8   \n",
              "top       Valid   \n",
              "freq       2350   \n",
              "\n",
              "                                                                              judul  \\\n",
              "count                                                                          7530   \n",
              "unique                                                                         7530   \n",
              "top     buaya meter terbesar di dunia ditemukan di danau kota maine amerika serikat   \n",
              "freq                                                                              1   \n",
              "\n",
              "           tanggal                                  narasi  \n",
              "count         7530                                    7530  \n",
              "unique        1317                                    7528  \n",
              "top     17/10/2022  foto badai petir terlihat luar angkasa  \n",
              "freq            87                                       2  "
            ],
            "text/html": [
              "\n",
              "  <div id=\"df-86ea1354-906e-4ff2-8f2c-245fd4221ec0\">\n",
              "    <div class=\"colab-df-container\">\n",
              "      <div>\n",
              "<style scoped>\n",
              "    .dataframe tbody tr th:only-of-type {\n",
              "        vertical-align: middle;\n",
              "    }\n",
              "\n",
              "    .dataframe tbody tr th {\n",
              "        vertical-align: top;\n",
              "    }\n",
              "\n",
              "    .dataframe thead th {\n",
              "        text-align: right;\n",
              "    }\n",
              "</style>\n",
              "<table border=\"1\" class=\"dataframe\">\n",
              "  <thead>\n",
              "    <tr style=\"text-align: right;\">\n",
              "      <th></th>\n",
              "      <th>kategori</th>\n",
              "      <th>judul</th>\n",
              "      <th>tanggal</th>\n",
              "      <th>narasi</th>\n",
              "    </tr>\n",
              "  </thead>\n",
              "  <tbody>\n",
              "    <tr>\n",
              "      <th>count</th>\n",
              "      <td>7530</td>\n",
              "      <td>7530</td>\n",
              "      <td>7530</td>\n",
              "      <td>7530</td>\n",
              "    </tr>\n",
              "    <tr>\n",
              "      <th>unique</th>\n",
              "      <td>8</td>\n",
              "      <td>7530</td>\n",
              "      <td>1317</td>\n",
              "      <td>7528</td>\n",
              "    </tr>\n",
              "    <tr>\n",
              "      <th>top</th>\n",
              "      <td>Valid</td>\n",
              "      <td>buaya meter terbesar di dunia ditemukan di danau kota maine amerika serikat</td>\n",
              "      <td>17/10/2022</td>\n",
              "      <td>foto badai petir terlihat luar angkasa</td>\n",
              "    </tr>\n",
              "    <tr>\n",
              "      <th>freq</th>\n",
              "      <td>2350</td>\n",
              "      <td>1</td>\n",
              "      <td>87</td>\n",
              "      <td>2</td>\n",
              "    </tr>\n",
              "  </tbody>\n",
              "</table>\n",
              "</div>\n",
              "      <button class=\"colab-df-convert\" onclick=\"convertToInteractive('df-86ea1354-906e-4ff2-8f2c-245fd4221ec0')\"\n",
              "              title=\"Convert this dataframe to an interactive table.\"\n",
              "              style=\"display:none;\">\n",
              "        \n",
              "  <svg xmlns=\"http://www.w3.org/2000/svg\" height=\"24px\"viewBox=\"0 0 24 24\"\n",
              "       width=\"24px\">\n",
              "    <path d=\"M0 0h24v24H0V0z\" fill=\"none\"/>\n",
              "    <path d=\"M18.56 5.44l.94 2.06.94-2.06 2.06-.94-2.06-.94-.94-2.06-.94 2.06-2.06.94zm-11 1L8.5 8.5l.94-2.06 2.06-.94-2.06-.94L8.5 2.5l-.94 2.06-2.06.94zm10 10l.94 2.06.94-2.06 2.06-.94-2.06-.94-.94-2.06-.94 2.06-2.06.94z\"/><path d=\"M17.41 7.96l-1.37-1.37c-.4-.4-.92-.59-1.43-.59-.52 0-1.04.2-1.43.59L10.3 9.45l-7.72 7.72c-.78.78-.78 2.05 0 2.83L4 21.41c.39.39.9.59 1.41.59.51 0 1.02-.2 1.41-.59l7.78-7.78 2.81-2.81c.8-.78.8-2.07 0-2.86zM5.41 20L4 18.59l7.72-7.72 1.47 1.35L5.41 20z\"/>\n",
              "  </svg>\n",
              "      </button>\n",
              "      \n",
              "  <style>\n",
              "    .colab-df-container {\n",
              "      display:flex;\n",
              "      flex-wrap:wrap;\n",
              "      gap: 12px;\n",
              "    }\n",
              "\n",
              "    .colab-df-convert {\n",
              "      background-color: #E8F0FE;\n",
              "      border: none;\n",
              "      border-radius: 50%;\n",
              "      cursor: pointer;\n",
              "      display: none;\n",
              "      fill: #1967D2;\n",
              "      height: 32px;\n",
              "      padding: 0 0 0 0;\n",
              "      width: 32px;\n",
              "    }\n",
              "\n",
              "    .colab-df-convert:hover {\n",
              "      background-color: #E2EBFA;\n",
              "      box-shadow: 0px 1px 2px rgba(60, 64, 67, 0.3), 0px 1px 3px 1px rgba(60, 64, 67, 0.15);\n",
              "      fill: #174EA6;\n",
              "    }\n",
              "\n",
              "    [theme=dark] .colab-df-convert {\n",
              "      background-color: #3B4455;\n",
              "      fill: #D2E3FC;\n",
              "    }\n",
              "\n",
              "    [theme=dark] .colab-df-convert:hover {\n",
              "      background-color: #434B5C;\n",
              "      box-shadow: 0px 1px 3px 1px rgba(0, 0, 0, 0.15);\n",
              "      filter: drop-shadow(0px 1px 2px rgba(0, 0, 0, 0.3));\n",
              "      fill: #FFFFFF;\n",
              "    }\n",
              "  </style>\n",
              "\n",
              "      <script>\n",
              "        const buttonEl =\n",
              "          document.querySelector('#df-86ea1354-906e-4ff2-8f2c-245fd4221ec0 button.colab-df-convert');\n",
              "        buttonEl.style.display =\n",
              "          google.colab.kernel.accessAllowed ? 'block' : 'none';\n",
              "\n",
              "        async function convertToInteractive(key) {\n",
              "          const element = document.querySelector('#df-86ea1354-906e-4ff2-8f2c-245fd4221ec0');\n",
              "          const dataTable =\n",
              "            await google.colab.kernel.invokeFunction('convertToInteractive',\n",
              "                                                     [key], {});\n",
              "          if (!dataTable) return;\n",
              "\n",
              "          const docLinkHtml = 'Like what you see? Visit the ' +\n",
              "            '<a target=\"_blank\" href=https://colab.research.google.com/notebooks/data_table.ipynb>data table notebook</a>'\n",
              "            + ' to learn more about interactive tables.';\n",
              "          element.innerHTML = '';\n",
              "          dataTable['output_type'] = 'display_data';\n",
              "          await google.colab.output.renderOutput(dataTable, element);\n",
              "          const docLink = document.createElement('div');\n",
              "          docLink.innerHTML = docLinkHtml;\n",
              "          element.appendChild(docLink);\n",
              "        }\n",
              "      </script>\n",
              "    </div>\n",
              "  </div>\n",
              "  "
            ]
          },
          "metadata": {},
          "execution_count": 7
        },
        {
          "output_type": "stream",
          "name": "stdout",
          "text": [
            "time: 19.4 ms (started: 2022-12-11 17:29:12 +00:00)\n"
          ]
        }
      ],
      "source": [
        "main_data.describe(include='all')"
      ]
    },
    {
      "cell_type": "code",
      "execution_count": null,
      "metadata": {
        "colab": {
          "base_uri": "https://localhost:8080/"
        },
        "id": "jamSe8DbazRI",
        "outputId": "51c756ac-dc17-4287-c44a-1041fdba7c60"
      },
      "outputs": [
        {
          "output_type": "execute_result",
          "data": {
            "text/plain": [
              "False    7528\n",
              "True        2\n",
              "Name: narasi, dtype: int64"
            ]
          },
          "metadata": {},
          "execution_count": 8
        },
        {
          "output_type": "stream",
          "name": "stdout",
          "text": [
            "time: 4.55 ms (started: 2022-12-11 17:29:12 +00:00)\n"
          ]
        }
      ],
      "source": [
        "main_data.narasi.duplicated(keep=\"first\").value_counts()"
      ]
    },
    {
      "cell_type": "code",
      "execution_count": null,
      "metadata": {
        "colab": {
          "base_uri": "https://localhost:8080/"
        },
        "id": "UFqYW38ha7rA",
        "outputId": "0e7075aa-873c-428d-e58d-ecd3ebf89a70"
      },
      "outputs": [
        {
          "output_type": "execute_result",
          "data": {
            "text/plain": [
              "False    7528\n",
              "Name: narasi, dtype: int64"
            ]
          },
          "metadata": {},
          "execution_count": 9
        },
        {
          "output_type": "stream",
          "name": "stdout",
          "text": [
            "time: 8.13 ms (started: 2022-12-11 17:29:12 +00:00)\n"
          ]
        }
      ],
      "source": [
        "main_data.drop_duplicates(subset=\"narasi\", keep=\"first\", inplace=True)\n",
        "main_data.reset_index(drop=True, inplace=True)\n",
        "main_data.narasi.duplicated(keep=\"first\").value_counts()"
      ]
    },
    {
      "cell_type": "code",
      "execution_count": null,
      "metadata": {
        "colab": {
          "base_uri": "https://localhost:8080/"
        },
        "id": "l8CaqT5bbGcO",
        "outputId": "58a7598c-eb09-4ab4-b250-8689051d2f95"
      },
      "outputs": [
        {
          "output_type": "stream",
          "name": "stdout",
          "text": [
            "Categories:\n",
            " ['Konten Yang Menyesatkan' 'Konten Yang Salah' 'Satire/Parodi'\n",
            " 'Konten Palsu' 'Konten Yang Dimanipulasi' 'Konten Tiruan'\n",
            " 'Koneksi Yang Salah' 'Valid']\n",
            "time: 1.34 ms (started: 2022-12-11 17:29:12 +00:00)\n"
          ]
        }
      ],
      "source": [
        "categories = main_data.kategori.unique()\n",
        "print(\"Categories:\\n\", categories)"
      ]
    },
    {
      "cell_type": "code",
      "execution_count": null,
      "metadata": {
        "colab": {
          "base_uri": "https://localhost:8080/"
        },
        "id": "bFeg5EXhY27p",
        "outputId": "f9389513-9260-4183-b4dd-7dfb6baa3514"
      },
      "outputs": [
        {
          "output_type": "execute_result",
          "data": {
            "text/plain": [
              "Valid                       2349\n",
              "Konten Yang Menyesatkan     1882\n",
              "Konten Yang Salah           1313\n",
              "Konten Palsu                 768\n",
              "Konten Yang Dimanipulasi     643\n",
              "Konten Tiruan                360\n",
              "Satire/Parodi                125\n",
              "Koneksi Yang Salah            88\n",
              "Name: kategori, dtype: int64"
            ]
          },
          "metadata": {},
          "execution_count": 11
        },
        {
          "output_type": "stream",
          "name": "stdout",
          "text": [
            "time: 3.95 ms (started: 2022-12-11 17:29:12 +00:00)\n"
          ]
        }
      ],
      "source": [
        "main_data.kategori.value_counts()"
      ]
    },
    {
      "cell_type": "code",
      "execution_count": null,
      "metadata": {
        "colab": {
          "base_uri": "https://localhost:8080/"
        },
        "id": "ro4nIgg9H7Sg",
        "outputId": "ce70605d-10dd-46e6-9c2a-cb138a837397"
      },
      "outputs": [
        {
          "output_type": "execute_result",
          "data": {
            "text/plain": [
              "Misleading Content/False Context/Manipulated Content    3838\n",
              "Valid                                                   2349\n",
              "Fabricated Content/Imposter Content                     1128\n",
              "Name: kategori, dtype: int64"
            ]
          },
          "metadata": {},
          "execution_count": 12
        },
        {
          "output_type": "stream",
          "name": "stdout",
          "text": [
            "time: 12.8 ms (started: 2022-12-11 17:29:12 +00:00)\n"
          ]
        }
      ],
      "source": [
        "main_data.loc[main_data['kategori'] == 'Konten Yang Salah', 'kategori'] = 'Misleading Content/False Context/Manipulated Content'\n",
        "main_data.loc[main_data['kategori'] == 'Konten Yang Menyesatkan', 'kategori'] = 'Misleading Content/False Context/Manipulated Content'\n",
        "main_data.loc[main_data['kategori'] == 'Konten Yang Dimanipulasi', 'kategori'] = 'Misleading Content/False Context/Manipulated Content'\n",
        "\n",
        "main_data.loc[main_data['kategori'] == 'Konten Palsu', 'kategori'] = 'Fabricated Content/Imposter Content'\n",
        "main_data.loc[main_data['kategori'] == 'Konten Tiruan', 'kategori'] = 'Fabricated Content/Imposter Content'\n",
        "\n",
        "main_data = main_data[main_data['kategori'] != 'Koneksi Yang Salah']\n",
        "main_data = main_data[main_data['kategori'] != 'Satire/Parodi']\n",
        "\n",
        "main_data.reset_index(drop=True, inplace=True)\n",
        "main_data.kategori.value_counts()"
      ]
    },
    {
      "cell_type": "code",
      "source": [
        "XVal, YVal = list(main_data['narasi']), list(main_data['kategori'])"
      ],
      "metadata": {
        "colab": {
          "base_uri": "https://localhost:8080/"
        },
        "id": "i7xGca_YyJAQ",
        "outputId": "70b2b8ea-1eb0-459e-8450-7af4a1bb8773"
      },
      "execution_count": null,
      "outputs": [
        {
          "output_type": "stream",
          "name": "stdout",
          "text": [
            "time: 1.61 ms (started: 2022-12-11 17:29:12 +00:00)\n"
          ]
        }
      ]
    },
    {
      "cell_type": "code",
      "source": [
        "data = main_data"
      ],
      "metadata": {
        "colab": {
          "base_uri": "https://localhost:8080/"
        },
        "id": "5h0preQLxHzu",
        "outputId": "9ac7d226-02ce-4c77-9ab7-ae47231d0b2c"
      },
      "execution_count": null,
      "outputs": [
        {
          "output_type": "stream",
          "name": "stdout",
          "text": [
            "time: 442 µs (started: 2022-12-11 17:29:12 +00:00)\n"
          ]
        }
      ]
    },
    {
      "cell_type": "code",
      "execution_count": null,
      "metadata": {
        "colab": {
          "base_uri": "https://localhost:8080/"
        },
        "id": "cXgYsVRmcfCG",
        "outputId": "575c1816-7b23-467e-bc72-c71f7d5f7315"
      },
      "outputs": [
        {
          "output_type": "stream",
          "name": "stdout",
          "text": [
            "time: 11.8 ms (started: 2022-12-11 17:29:12 +00:00)\n"
          ]
        }
      ],
      "source": [
        "data['words'] = [len(x.split()) for x in data['narasi'].tolist()]"
      ]
    },
    {
      "cell_type": "code",
      "execution_count": null,
      "metadata": {
        "colab": {
          "base_uri": "https://localhost:8080/",
          "height": 286
        },
        "id": "iDPyzOoYcolt",
        "outputId": "bd9ed513-eaee-4eb4-a1cf-b543a660b332"
      },
      "outputs": [
        {
          "output_type": "execute_result",
          "data": {
            "text/plain": [
              "   words  \\\n",
              "0     10   \n",
              "1      8   \n",
              "2      4   \n",
              "3      5   \n",
              "4     21   \n",
              "\n",
              "                                                                                                                                          narasi  \n",
              "0                                                                          buaya meter terbesar dunia ditemukan danau kota maine amerika serikat  \n",
              "1                                                                                 demo memprotes kecurangan hasil pemilihan umum brazil november  \n",
              "2                                                                                                                    warga bogor meninggal hidup  \n",
              "3                                                                                                             fauci akui vaksin melindungi covid  \n",
              "4  vaksin gratis set box punah gratis ternyata ternyata dalamnya rangkaian bluetooth low energy device membaca data orang orang yg divaksin aduh  "
            ],
            "text/html": [
              "\n",
              "  <div id=\"df-eba90228-4f53-460b-91c5-619a25ceaee8\">\n",
              "    <div class=\"colab-df-container\">\n",
              "      <div>\n",
              "<style scoped>\n",
              "    .dataframe tbody tr th:only-of-type {\n",
              "        vertical-align: middle;\n",
              "    }\n",
              "\n",
              "    .dataframe tbody tr th {\n",
              "        vertical-align: top;\n",
              "    }\n",
              "\n",
              "    .dataframe thead th {\n",
              "        text-align: right;\n",
              "    }\n",
              "</style>\n",
              "<table border=\"1\" class=\"dataframe\">\n",
              "  <thead>\n",
              "    <tr style=\"text-align: right;\">\n",
              "      <th></th>\n",
              "      <th>words</th>\n",
              "      <th>narasi</th>\n",
              "    </tr>\n",
              "  </thead>\n",
              "  <tbody>\n",
              "    <tr>\n",
              "      <th>0</th>\n",
              "      <td>10</td>\n",
              "      <td>buaya meter terbesar dunia ditemukan danau kota maine amerika serikat</td>\n",
              "    </tr>\n",
              "    <tr>\n",
              "      <th>1</th>\n",
              "      <td>8</td>\n",
              "      <td>demo memprotes kecurangan hasil pemilihan umum brazil november</td>\n",
              "    </tr>\n",
              "    <tr>\n",
              "      <th>2</th>\n",
              "      <td>4</td>\n",
              "      <td>warga bogor meninggal hidup</td>\n",
              "    </tr>\n",
              "    <tr>\n",
              "      <th>3</th>\n",
              "      <td>5</td>\n",
              "      <td>fauci akui vaksin melindungi covid</td>\n",
              "    </tr>\n",
              "    <tr>\n",
              "      <th>4</th>\n",
              "      <td>21</td>\n",
              "      <td>vaksin gratis set box punah gratis ternyata ternyata dalamnya rangkaian bluetooth low energy device membaca data orang orang yg divaksin aduh</td>\n",
              "    </tr>\n",
              "  </tbody>\n",
              "</table>\n",
              "</div>\n",
              "      <button class=\"colab-df-convert\" onclick=\"convertToInteractive('df-eba90228-4f53-460b-91c5-619a25ceaee8')\"\n",
              "              title=\"Convert this dataframe to an interactive table.\"\n",
              "              style=\"display:none;\">\n",
              "        \n",
              "  <svg xmlns=\"http://www.w3.org/2000/svg\" height=\"24px\"viewBox=\"0 0 24 24\"\n",
              "       width=\"24px\">\n",
              "    <path d=\"M0 0h24v24H0V0z\" fill=\"none\"/>\n",
              "    <path d=\"M18.56 5.44l.94 2.06.94-2.06 2.06-.94-2.06-.94-.94-2.06-.94 2.06-2.06.94zm-11 1L8.5 8.5l.94-2.06 2.06-.94-2.06-.94L8.5 2.5l-.94 2.06-2.06.94zm10 10l.94 2.06.94-2.06 2.06-.94-2.06-.94-.94-2.06-.94 2.06-2.06.94z\"/><path d=\"M17.41 7.96l-1.37-1.37c-.4-.4-.92-.59-1.43-.59-.52 0-1.04.2-1.43.59L10.3 9.45l-7.72 7.72c-.78.78-.78 2.05 0 2.83L4 21.41c.39.39.9.59 1.41.59.51 0 1.02-.2 1.41-.59l7.78-7.78 2.81-2.81c.8-.78.8-2.07 0-2.86zM5.41 20L4 18.59l7.72-7.72 1.47 1.35L5.41 20z\"/>\n",
              "  </svg>\n",
              "      </button>\n",
              "      \n",
              "  <style>\n",
              "    .colab-df-container {\n",
              "      display:flex;\n",
              "      flex-wrap:wrap;\n",
              "      gap: 12px;\n",
              "    }\n",
              "\n",
              "    .colab-df-convert {\n",
              "      background-color: #E8F0FE;\n",
              "      border: none;\n",
              "      border-radius: 50%;\n",
              "      cursor: pointer;\n",
              "      display: none;\n",
              "      fill: #1967D2;\n",
              "      height: 32px;\n",
              "      padding: 0 0 0 0;\n",
              "      width: 32px;\n",
              "    }\n",
              "\n",
              "    .colab-df-convert:hover {\n",
              "      background-color: #E2EBFA;\n",
              "      box-shadow: 0px 1px 2px rgba(60, 64, 67, 0.3), 0px 1px 3px 1px rgba(60, 64, 67, 0.15);\n",
              "      fill: #174EA6;\n",
              "    }\n",
              "\n",
              "    [theme=dark] .colab-df-convert {\n",
              "      background-color: #3B4455;\n",
              "      fill: #D2E3FC;\n",
              "    }\n",
              "\n",
              "    [theme=dark] .colab-df-convert:hover {\n",
              "      background-color: #434B5C;\n",
              "      box-shadow: 0px 1px 3px 1px rgba(0, 0, 0, 0.15);\n",
              "      filter: drop-shadow(0px 1px 2px rgba(0, 0, 0, 0.3));\n",
              "      fill: #FFFFFF;\n",
              "    }\n",
              "  </style>\n",
              "\n",
              "      <script>\n",
              "        const buttonEl =\n",
              "          document.querySelector('#df-eba90228-4f53-460b-91c5-619a25ceaee8 button.colab-df-convert');\n",
              "        buttonEl.style.display =\n",
              "          google.colab.kernel.accessAllowed ? 'block' : 'none';\n",
              "\n",
              "        async function convertToInteractive(key) {\n",
              "          const element = document.querySelector('#df-eba90228-4f53-460b-91c5-619a25ceaee8');\n",
              "          const dataTable =\n",
              "            await google.colab.kernel.invokeFunction('convertToInteractive',\n",
              "                                                     [key], {});\n",
              "          if (!dataTable) return;\n",
              "\n",
              "          const docLinkHtml = 'Like what you see? Visit the ' +\n",
              "            '<a target=\"_blank\" href=https://colab.research.google.com/notebooks/data_table.ipynb>data table notebook</a>'\n",
              "            + ' to learn more about interactive tables.';\n",
              "          element.innerHTML = '';\n",
              "          dataTable['output_type'] = 'display_data';\n",
              "          await google.colab.output.renderOutput(dataTable, element);\n",
              "          const docLink = document.createElement('div');\n",
              "          docLink.innerHTML = docLinkHtml;\n",
              "          element.appendChild(docLink);\n",
              "        }\n",
              "      </script>\n",
              "    </div>\n",
              "  </div>\n",
              "  "
            ]
          },
          "metadata": {},
          "execution_count": 16
        },
        {
          "output_type": "stream",
          "name": "stdout",
          "text": [
            "time: 6.04 ms (started: 2022-12-11 17:29:12 +00:00)\n"
          ]
        }
      ],
      "source": [
        "data[['words','narasi']].head()"
      ]
    },
    {
      "cell_type": "code",
      "execution_count": null,
      "metadata": {
        "colab": {
          "base_uri": "https://localhost:8080/"
        },
        "id": "ujBkLajucvRC",
        "outputId": "aed0c195-ab1b-40b9-df46-6bace1927a4c"
      },
      "outputs": [
        {
          "output_type": "execute_result",
          "data": {
            "text/plain": [
              "count    7315.000000\n",
              "mean       24.798770\n",
              "std        34.406444\n",
              "min         2.000000\n",
              "25%        10.000000\n",
              "50%        18.000000\n",
              "75%        27.000000\n",
              "max      1139.000000\n",
              "Name: words, dtype: float64"
            ]
          },
          "metadata": {},
          "execution_count": 17
        },
        {
          "output_type": "stream",
          "name": "stdout",
          "text": [
            "time: 5.97 ms (started: 2022-12-11 17:29:12 +00:00)\n"
          ]
        }
      ],
      "source": [
        "data['words'].describe()"
      ]
    },
    {
      "cell_type": "code",
      "execution_count": null,
      "metadata": {
        "colab": {
          "base_uri": "https://localhost:8080/",
          "height": 272
        },
        "id": "EXo02Sfucz2V",
        "outputId": "12878ca6-243b-4760-d5a8-0d62a6cc05db"
      },
      "outputs": [
        {
          "output_type": "execute_result",
          "data": {
            "text/plain": [
              "                                                       count       mean  \\\n",
              "kategori                                                                  \n",
              "Fabricated Content/Imposter Content                   1128.0  34.176418   \n",
              "Misleading Content/False Context/Manipulated Content  3838.0  22.686816   \n",
              "Valid                                                 2349.0  23.746275   \n",
              "\n",
              "                                                            std  min   25%  \\\n",
              "kategori                                                                     \n",
              "Fabricated Content/Imposter Content                   49.519877  3.0   9.0   \n",
              "Misleading Content/False Context/Manipulated Content  38.396630  2.0   8.0   \n",
              "Valid                                                  7.115402  8.0  20.0   \n",
              "\n",
              "                                                       50%   75%     max  \n",
              "kategori                                                                  \n",
              "Fabricated Content/Imposter Content                   17.5  41.0   951.0  \n",
              "Misleading Content/False Context/Manipulated Content  11.0  22.0  1139.0  \n",
              "Valid                                                 23.0  27.0   121.0  "
            ],
            "text/html": [
              "\n",
              "  <div id=\"df-93779a31-68a7-4968-9885-1fddddca477a\">\n",
              "    <div class=\"colab-df-container\">\n",
              "      <div>\n",
              "<style scoped>\n",
              "    .dataframe tbody tr th:only-of-type {\n",
              "        vertical-align: middle;\n",
              "    }\n",
              "\n",
              "    .dataframe tbody tr th {\n",
              "        vertical-align: top;\n",
              "    }\n",
              "\n",
              "    .dataframe thead th {\n",
              "        text-align: right;\n",
              "    }\n",
              "</style>\n",
              "<table border=\"1\" class=\"dataframe\">\n",
              "  <thead>\n",
              "    <tr style=\"text-align: right;\">\n",
              "      <th></th>\n",
              "      <th>count</th>\n",
              "      <th>mean</th>\n",
              "      <th>std</th>\n",
              "      <th>min</th>\n",
              "      <th>25%</th>\n",
              "      <th>50%</th>\n",
              "      <th>75%</th>\n",
              "      <th>max</th>\n",
              "    </tr>\n",
              "    <tr>\n",
              "      <th>kategori</th>\n",
              "      <th></th>\n",
              "      <th></th>\n",
              "      <th></th>\n",
              "      <th></th>\n",
              "      <th></th>\n",
              "      <th></th>\n",
              "      <th></th>\n",
              "      <th></th>\n",
              "    </tr>\n",
              "  </thead>\n",
              "  <tbody>\n",
              "    <tr>\n",
              "      <th>Fabricated Content/Imposter Content</th>\n",
              "      <td>1128.0</td>\n",
              "      <td>34.176418</td>\n",
              "      <td>49.519877</td>\n",
              "      <td>3.0</td>\n",
              "      <td>9.0</td>\n",
              "      <td>17.5</td>\n",
              "      <td>41.0</td>\n",
              "      <td>951.0</td>\n",
              "    </tr>\n",
              "    <tr>\n",
              "      <th>Misleading Content/False Context/Manipulated Content</th>\n",
              "      <td>3838.0</td>\n",
              "      <td>22.686816</td>\n",
              "      <td>38.396630</td>\n",
              "      <td>2.0</td>\n",
              "      <td>8.0</td>\n",
              "      <td>11.0</td>\n",
              "      <td>22.0</td>\n",
              "      <td>1139.0</td>\n",
              "    </tr>\n",
              "    <tr>\n",
              "      <th>Valid</th>\n",
              "      <td>2349.0</td>\n",
              "      <td>23.746275</td>\n",
              "      <td>7.115402</td>\n",
              "      <td>8.0</td>\n",
              "      <td>20.0</td>\n",
              "      <td>23.0</td>\n",
              "      <td>27.0</td>\n",
              "      <td>121.0</td>\n",
              "    </tr>\n",
              "  </tbody>\n",
              "</table>\n",
              "</div>\n",
              "      <button class=\"colab-df-convert\" onclick=\"convertToInteractive('df-93779a31-68a7-4968-9885-1fddddca477a')\"\n",
              "              title=\"Convert this dataframe to an interactive table.\"\n",
              "              style=\"display:none;\">\n",
              "        \n",
              "  <svg xmlns=\"http://www.w3.org/2000/svg\" height=\"24px\"viewBox=\"0 0 24 24\"\n",
              "       width=\"24px\">\n",
              "    <path d=\"M0 0h24v24H0V0z\" fill=\"none\"/>\n",
              "    <path d=\"M18.56 5.44l.94 2.06.94-2.06 2.06-.94-2.06-.94-.94-2.06-.94 2.06-2.06.94zm-11 1L8.5 8.5l.94-2.06 2.06-.94-2.06-.94L8.5 2.5l-.94 2.06-2.06.94zm10 10l.94 2.06.94-2.06 2.06-.94-2.06-.94-.94-2.06-.94 2.06-2.06.94z\"/><path d=\"M17.41 7.96l-1.37-1.37c-.4-.4-.92-.59-1.43-.59-.52 0-1.04.2-1.43.59L10.3 9.45l-7.72 7.72c-.78.78-.78 2.05 0 2.83L4 21.41c.39.39.9.59 1.41.59.51 0 1.02-.2 1.41-.59l7.78-7.78 2.81-2.81c.8-.78.8-2.07 0-2.86zM5.41 20L4 18.59l7.72-7.72 1.47 1.35L5.41 20z\"/>\n",
              "  </svg>\n",
              "      </button>\n",
              "      \n",
              "  <style>\n",
              "    .colab-df-container {\n",
              "      display:flex;\n",
              "      flex-wrap:wrap;\n",
              "      gap: 12px;\n",
              "    }\n",
              "\n",
              "    .colab-df-convert {\n",
              "      background-color: #E8F0FE;\n",
              "      border: none;\n",
              "      border-radius: 50%;\n",
              "      cursor: pointer;\n",
              "      display: none;\n",
              "      fill: #1967D2;\n",
              "      height: 32px;\n",
              "      padding: 0 0 0 0;\n",
              "      width: 32px;\n",
              "    }\n",
              "\n",
              "    .colab-df-convert:hover {\n",
              "      background-color: #E2EBFA;\n",
              "      box-shadow: 0px 1px 2px rgba(60, 64, 67, 0.3), 0px 1px 3px 1px rgba(60, 64, 67, 0.15);\n",
              "      fill: #174EA6;\n",
              "    }\n",
              "\n",
              "    [theme=dark] .colab-df-convert {\n",
              "      background-color: #3B4455;\n",
              "      fill: #D2E3FC;\n",
              "    }\n",
              "\n",
              "    [theme=dark] .colab-df-convert:hover {\n",
              "      background-color: #434B5C;\n",
              "      box-shadow: 0px 1px 3px 1px rgba(0, 0, 0, 0.15);\n",
              "      filter: drop-shadow(0px 1px 2px rgba(0, 0, 0, 0.3));\n",
              "      fill: #FFFFFF;\n",
              "    }\n",
              "  </style>\n",
              "\n",
              "      <script>\n",
              "        const buttonEl =\n",
              "          document.querySelector('#df-93779a31-68a7-4968-9885-1fddddca477a button.colab-df-convert');\n",
              "        buttonEl.style.display =\n",
              "          google.colab.kernel.accessAllowed ? 'block' : 'none';\n",
              "\n",
              "        async function convertToInteractive(key) {\n",
              "          const element = document.querySelector('#df-93779a31-68a7-4968-9885-1fddddca477a');\n",
              "          const dataTable =\n",
              "            await google.colab.kernel.invokeFunction('convertToInteractive',\n",
              "                                                     [key], {});\n",
              "          if (!dataTable) return;\n",
              "\n",
              "          const docLinkHtml = 'Like what you see? Visit the ' +\n",
              "            '<a target=\"_blank\" href=https://colab.research.google.com/notebooks/data_table.ipynb>data table notebook</a>'\n",
              "            + ' to learn more about interactive tables.';\n",
              "          element.innerHTML = '';\n",
              "          dataTable['output_type'] = 'display_data';\n",
              "          await google.colab.output.renderOutput(dataTable, element);\n",
              "          const docLink = document.createElement('div');\n",
              "          docLink.innerHTML = docLinkHtml;\n",
              "          element.appendChild(docLink);\n",
              "        }\n",
              "      </script>\n",
              "    </div>\n",
              "  </div>\n",
              "  "
            ]
          },
          "metadata": {},
          "execution_count": 18
        },
        {
          "output_type": "stream",
          "name": "stdout",
          "text": [
            "time: 17.6 ms (started: 2022-12-11 17:29:12 +00:00)\n"
          ]
        }
      ],
      "source": [
        "data.groupby(['kategori'])['words'].describe()"
      ]
    },
    {
      "cell_type": "code",
      "execution_count": null,
      "metadata": {
        "colab": {
          "base_uri": "https://localhost:8080/",
          "height": 272
        },
        "id": "bv32oHF8-3uN",
        "outputId": "8a7e94ed-eb57-41f5-8f81-80461d084ccf"
      },
      "outputs": [
        {
          "output_type": "execute_result",
          "data": {
            "text/plain": [
              "                                                       count       mean  \\\n",
              "kategori                                                                  \n",
              "Fabricated Content/Imposter Content                   1118.0  31.190519   \n",
              "Misleading Content/False Context/Manipulated Content  3812.0  20.960913   \n",
              "Valid                                                 2349.0  23.746275   \n",
              "\n",
              "                                                            std  min   25%  \\\n",
              "kategori                                                                     \n",
              "Fabricated Content/Imposter Content                   32.714856  3.0   9.0   \n",
              "Misleading Content/False Context/Manipulated Content  26.427491  3.0   8.0   \n",
              "Valid                                                  7.115402  8.0  20.0   \n",
              "\n",
              "                                                       50%    75%    max  \n",
              "kategori                                                                  \n",
              "Fabricated Content/Imposter Content                   17.0  40.75  196.0  \n",
              "Misleading Content/False Context/Manipulated Content  11.0  22.00  196.0  \n",
              "Valid                                                 23.0  27.00  121.0  "
            ],
            "text/html": [
              "\n",
              "  <div id=\"df-bd3efd9f-504a-445d-94dd-4f16434f47dc\">\n",
              "    <div class=\"colab-df-container\">\n",
              "      <div>\n",
              "<style scoped>\n",
              "    .dataframe tbody tr th:only-of-type {\n",
              "        vertical-align: middle;\n",
              "    }\n",
              "\n",
              "    .dataframe tbody tr th {\n",
              "        vertical-align: top;\n",
              "    }\n",
              "\n",
              "    .dataframe thead th {\n",
              "        text-align: right;\n",
              "    }\n",
              "</style>\n",
              "<table border=\"1\" class=\"dataframe\">\n",
              "  <thead>\n",
              "    <tr style=\"text-align: right;\">\n",
              "      <th></th>\n",
              "      <th>count</th>\n",
              "      <th>mean</th>\n",
              "      <th>std</th>\n",
              "      <th>min</th>\n",
              "      <th>25%</th>\n",
              "      <th>50%</th>\n",
              "      <th>75%</th>\n",
              "      <th>max</th>\n",
              "    </tr>\n",
              "    <tr>\n",
              "      <th>kategori</th>\n",
              "      <th></th>\n",
              "      <th></th>\n",
              "      <th></th>\n",
              "      <th></th>\n",
              "      <th></th>\n",
              "      <th></th>\n",
              "      <th></th>\n",
              "      <th></th>\n",
              "    </tr>\n",
              "  </thead>\n",
              "  <tbody>\n",
              "    <tr>\n",
              "      <th>Fabricated Content/Imposter Content</th>\n",
              "      <td>1118.0</td>\n",
              "      <td>31.190519</td>\n",
              "      <td>32.714856</td>\n",
              "      <td>3.0</td>\n",
              "      <td>9.0</td>\n",
              "      <td>17.0</td>\n",
              "      <td>40.75</td>\n",
              "      <td>196.0</td>\n",
              "    </tr>\n",
              "    <tr>\n",
              "      <th>Misleading Content/False Context/Manipulated Content</th>\n",
              "      <td>3812.0</td>\n",
              "      <td>20.960913</td>\n",
              "      <td>26.427491</td>\n",
              "      <td>3.0</td>\n",
              "      <td>8.0</td>\n",
              "      <td>11.0</td>\n",
              "      <td>22.00</td>\n",
              "      <td>196.0</td>\n",
              "    </tr>\n",
              "    <tr>\n",
              "      <th>Valid</th>\n",
              "      <td>2349.0</td>\n",
              "      <td>23.746275</td>\n",
              "      <td>7.115402</td>\n",
              "      <td>8.0</td>\n",
              "      <td>20.0</td>\n",
              "      <td>23.0</td>\n",
              "      <td>27.00</td>\n",
              "      <td>121.0</td>\n",
              "    </tr>\n",
              "  </tbody>\n",
              "</table>\n",
              "</div>\n",
              "      <button class=\"colab-df-convert\" onclick=\"convertToInteractive('df-bd3efd9f-504a-445d-94dd-4f16434f47dc')\"\n",
              "              title=\"Convert this dataframe to an interactive table.\"\n",
              "              style=\"display:none;\">\n",
              "        \n",
              "  <svg xmlns=\"http://www.w3.org/2000/svg\" height=\"24px\"viewBox=\"0 0 24 24\"\n",
              "       width=\"24px\">\n",
              "    <path d=\"M0 0h24v24H0V0z\" fill=\"none\"/>\n",
              "    <path d=\"M18.56 5.44l.94 2.06.94-2.06 2.06-.94-2.06-.94-.94-2.06-.94 2.06-2.06.94zm-11 1L8.5 8.5l.94-2.06 2.06-.94-2.06-.94L8.5 2.5l-.94 2.06-2.06.94zm10 10l.94 2.06.94-2.06 2.06-.94-2.06-.94-.94-2.06-.94 2.06-2.06.94z\"/><path d=\"M17.41 7.96l-1.37-1.37c-.4-.4-.92-.59-1.43-.59-.52 0-1.04.2-1.43.59L10.3 9.45l-7.72 7.72c-.78.78-.78 2.05 0 2.83L4 21.41c.39.39.9.59 1.41.59.51 0 1.02-.2 1.41-.59l7.78-7.78 2.81-2.81c.8-.78.8-2.07 0-2.86zM5.41 20L4 18.59l7.72-7.72 1.47 1.35L5.41 20z\"/>\n",
              "  </svg>\n",
              "      </button>\n",
              "      \n",
              "  <style>\n",
              "    .colab-df-container {\n",
              "      display:flex;\n",
              "      flex-wrap:wrap;\n",
              "      gap: 12px;\n",
              "    }\n",
              "\n",
              "    .colab-df-convert {\n",
              "      background-color: #E8F0FE;\n",
              "      border: none;\n",
              "      border-radius: 50%;\n",
              "      cursor: pointer;\n",
              "      display: none;\n",
              "      fill: #1967D2;\n",
              "      height: 32px;\n",
              "      padding: 0 0 0 0;\n",
              "      width: 32px;\n",
              "    }\n",
              "\n",
              "    .colab-df-convert:hover {\n",
              "      background-color: #E2EBFA;\n",
              "      box-shadow: 0px 1px 2px rgba(60, 64, 67, 0.3), 0px 1px 3px 1px rgba(60, 64, 67, 0.15);\n",
              "      fill: #174EA6;\n",
              "    }\n",
              "\n",
              "    [theme=dark] .colab-df-convert {\n",
              "      background-color: #3B4455;\n",
              "      fill: #D2E3FC;\n",
              "    }\n",
              "\n",
              "    [theme=dark] .colab-df-convert:hover {\n",
              "      background-color: #434B5C;\n",
              "      box-shadow: 0px 1px 3px 1px rgba(0, 0, 0, 0.15);\n",
              "      filter: drop-shadow(0px 1px 2px rgba(0, 0, 0, 0.3));\n",
              "      fill: #FFFFFF;\n",
              "    }\n",
              "  </style>\n",
              "\n",
              "      <script>\n",
              "        const buttonEl =\n",
              "          document.querySelector('#df-bd3efd9f-504a-445d-94dd-4f16434f47dc button.colab-df-convert');\n",
              "        buttonEl.style.display =\n",
              "          google.colab.kernel.accessAllowed ? 'block' : 'none';\n",
              "\n",
              "        async function convertToInteractive(key) {\n",
              "          const element = document.querySelector('#df-bd3efd9f-504a-445d-94dd-4f16434f47dc');\n",
              "          const dataTable =\n",
              "            await google.colab.kernel.invokeFunction('convertToInteractive',\n",
              "                                                     [key], {});\n",
              "          if (!dataTable) return;\n",
              "\n",
              "          const docLinkHtml = 'Like what you see? Visit the ' +\n",
              "            '<a target=\"_blank\" href=https://colab.research.google.com/notebooks/data_table.ipynb>data table notebook</a>'\n",
              "            + ' to learn more about interactive tables.';\n",
              "          element.innerHTML = '';\n",
              "          dataTable['output_type'] = 'display_data';\n",
              "          await google.colab.output.renderOutput(dataTable, element);\n",
              "          const docLink = document.createElement('div');\n",
              "          docLink.innerHTML = docLinkHtml;\n",
              "          element.appendChild(docLink);\n",
              "        }\n",
              "      </script>\n",
              "    </div>\n",
              "  </div>\n",
              "  "
            ]
          },
          "metadata": {},
          "execution_count": 19
        },
        {
          "output_type": "stream",
          "name": "stdout",
          "text": [
            "time: 18.5 ms (started: 2022-12-11 17:29:12 +00:00)\n"
          ]
        }
      ],
      "source": [
        "data = data[data['words']<=200]\n",
        "data = data[data['words']>=3]\n",
        "data.groupby(['kategori'])['words'].describe()"
      ]
    },
    {
      "cell_type": "code",
      "execution_count": null,
      "metadata": {
        "colab": {
          "base_uri": "https://localhost:8080/",
          "height": 272
        },
        "id": "1ObiXX15T1At",
        "outputId": "c0fabd43-80a1-4d3c-acbc-85b08d063950"
      },
      "outputs": [
        {
          "output_type": "execute_result",
          "data": {
            "text/plain": [
              "                                                       count       mean  \\\n",
              "kategori                                                                  \n",
              "Fabricated Content/Imposter Content                   1118.0  31.190519   \n",
              "Misleading Content/False Context/Manipulated Content  1118.0  24.962433   \n",
              "Valid                                                 1118.0  24.450805   \n",
              "\n",
              "                                                            std   min   25%  \\\n",
              "kategori                                                                      \n",
              "Fabricated Content/Imposter Content                   32.714856   3.0   9.0   \n",
              "Misleading Content/False Context/Manipulated Content  30.107245   3.0   8.0   \n",
              "Valid                                                  7.682183  11.0  20.0   \n",
              "\n",
              "                                                       50%    75%    max  \n",
              "kategori                                                                  \n",
              "Fabricated Content/Imposter Content                   17.0  40.75  196.0  \n",
              "Misleading Content/False Context/Manipulated Content  13.0  28.00  194.0  \n",
              "Valid                                                 23.0  27.00  121.0  "
            ],
            "text/html": [
              "\n",
              "  <div id=\"df-ca77b211-4c04-4a83-a6e8-67f90f408b8b\">\n",
              "    <div class=\"colab-df-container\">\n",
              "      <div>\n",
              "<style scoped>\n",
              "    .dataframe tbody tr th:only-of-type {\n",
              "        vertical-align: middle;\n",
              "    }\n",
              "\n",
              "    .dataframe tbody tr th {\n",
              "        vertical-align: top;\n",
              "    }\n",
              "\n",
              "    .dataframe thead th {\n",
              "        text-align: right;\n",
              "    }\n",
              "</style>\n",
              "<table border=\"1\" class=\"dataframe\">\n",
              "  <thead>\n",
              "    <tr style=\"text-align: right;\">\n",
              "      <th></th>\n",
              "      <th>count</th>\n",
              "      <th>mean</th>\n",
              "      <th>std</th>\n",
              "      <th>min</th>\n",
              "      <th>25%</th>\n",
              "      <th>50%</th>\n",
              "      <th>75%</th>\n",
              "      <th>max</th>\n",
              "    </tr>\n",
              "    <tr>\n",
              "      <th>kategori</th>\n",
              "      <th></th>\n",
              "      <th></th>\n",
              "      <th></th>\n",
              "      <th></th>\n",
              "      <th></th>\n",
              "      <th></th>\n",
              "      <th></th>\n",
              "      <th></th>\n",
              "    </tr>\n",
              "  </thead>\n",
              "  <tbody>\n",
              "    <tr>\n",
              "      <th>Fabricated Content/Imposter Content</th>\n",
              "      <td>1118.0</td>\n",
              "      <td>31.190519</td>\n",
              "      <td>32.714856</td>\n",
              "      <td>3.0</td>\n",
              "      <td>9.0</td>\n",
              "      <td>17.0</td>\n",
              "      <td>40.75</td>\n",
              "      <td>196.0</td>\n",
              "    </tr>\n",
              "    <tr>\n",
              "      <th>Misleading Content/False Context/Manipulated Content</th>\n",
              "      <td>1118.0</td>\n",
              "      <td>24.962433</td>\n",
              "      <td>30.107245</td>\n",
              "      <td>3.0</td>\n",
              "      <td>8.0</td>\n",
              "      <td>13.0</td>\n",
              "      <td>28.00</td>\n",
              "      <td>194.0</td>\n",
              "    </tr>\n",
              "    <tr>\n",
              "      <th>Valid</th>\n",
              "      <td>1118.0</td>\n",
              "      <td>24.450805</td>\n",
              "      <td>7.682183</td>\n",
              "      <td>11.0</td>\n",
              "      <td>20.0</td>\n",
              "      <td>23.0</td>\n",
              "      <td>27.00</td>\n",
              "      <td>121.0</td>\n",
              "    </tr>\n",
              "  </tbody>\n",
              "</table>\n",
              "</div>\n",
              "      <button class=\"colab-df-convert\" onclick=\"convertToInteractive('df-ca77b211-4c04-4a83-a6e8-67f90f408b8b')\"\n",
              "              title=\"Convert this dataframe to an interactive table.\"\n",
              "              style=\"display:none;\">\n",
              "        \n",
              "  <svg xmlns=\"http://www.w3.org/2000/svg\" height=\"24px\"viewBox=\"0 0 24 24\"\n",
              "       width=\"24px\">\n",
              "    <path d=\"M0 0h24v24H0V0z\" fill=\"none\"/>\n",
              "    <path d=\"M18.56 5.44l.94 2.06.94-2.06 2.06-.94-2.06-.94-.94-2.06-.94 2.06-2.06.94zm-11 1L8.5 8.5l.94-2.06 2.06-.94-2.06-.94L8.5 2.5l-.94 2.06-2.06.94zm10 10l.94 2.06.94-2.06 2.06-.94-2.06-.94-.94-2.06-.94 2.06-2.06.94z\"/><path d=\"M17.41 7.96l-1.37-1.37c-.4-.4-.92-.59-1.43-.59-.52 0-1.04.2-1.43.59L10.3 9.45l-7.72 7.72c-.78.78-.78 2.05 0 2.83L4 21.41c.39.39.9.59 1.41.59.51 0 1.02-.2 1.41-.59l7.78-7.78 2.81-2.81c.8-.78.8-2.07 0-2.86zM5.41 20L4 18.59l7.72-7.72 1.47 1.35L5.41 20z\"/>\n",
              "  </svg>\n",
              "      </button>\n",
              "      \n",
              "  <style>\n",
              "    .colab-df-container {\n",
              "      display:flex;\n",
              "      flex-wrap:wrap;\n",
              "      gap: 12px;\n",
              "    }\n",
              "\n",
              "    .colab-df-convert {\n",
              "      background-color: #E8F0FE;\n",
              "      border: none;\n",
              "      border-radius: 50%;\n",
              "      cursor: pointer;\n",
              "      display: none;\n",
              "      fill: #1967D2;\n",
              "      height: 32px;\n",
              "      padding: 0 0 0 0;\n",
              "      width: 32px;\n",
              "    }\n",
              "\n",
              "    .colab-df-convert:hover {\n",
              "      background-color: #E2EBFA;\n",
              "      box-shadow: 0px 1px 2px rgba(60, 64, 67, 0.3), 0px 1px 3px 1px rgba(60, 64, 67, 0.15);\n",
              "      fill: #174EA6;\n",
              "    }\n",
              "\n",
              "    [theme=dark] .colab-df-convert {\n",
              "      background-color: #3B4455;\n",
              "      fill: #D2E3FC;\n",
              "    }\n",
              "\n",
              "    [theme=dark] .colab-df-convert:hover {\n",
              "      background-color: #434B5C;\n",
              "      box-shadow: 0px 1px 3px 1px rgba(0, 0, 0, 0.15);\n",
              "      filter: drop-shadow(0px 1px 2px rgba(0, 0, 0, 0.3));\n",
              "      fill: #FFFFFF;\n",
              "    }\n",
              "  </style>\n",
              "\n",
              "      <script>\n",
              "        const buttonEl =\n",
              "          document.querySelector('#df-ca77b211-4c04-4a83-a6e8-67f90f408b8b button.colab-df-convert');\n",
              "        buttonEl.style.display =\n",
              "          google.colab.kernel.accessAllowed ? 'block' : 'none';\n",
              "\n",
              "        async function convertToInteractive(key) {\n",
              "          const element = document.querySelector('#df-ca77b211-4c04-4a83-a6e8-67f90f408b8b');\n",
              "          const dataTable =\n",
              "            await google.colab.kernel.invokeFunction('convertToInteractive',\n",
              "                                                     [key], {});\n",
              "          if (!dataTable) return;\n",
              "\n",
              "          const docLinkHtml = 'Like what you see? Visit the ' +\n",
              "            '<a target=\"_blank\" href=https://colab.research.google.com/notebooks/data_table.ipynb>data table notebook</a>'\n",
              "            + ' to learn more about interactive tables.';\n",
              "          element.innerHTML = '';\n",
              "          dataTable['output_type'] = 'display_data';\n",
              "          await google.colab.output.renderOutput(dataTable, element);\n",
              "          const docLink = document.createElement('div');\n",
              "          docLink.innerHTML = docLinkHtml;\n",
              "          element.appendChild(docLink);\n",
              "        }\n",
              "      </script>\n",
              "    </div>\n",
              "  </div>\n",
              "  "
            ]
          },
          "metadata": {},
          "execution_count": 20
        },
        {
          "output_type": "stream",
          "name": "stdout",
          "text": [
            "time: 26.9 ms (started: 2022-12-11 17:29:12 +00:00)\n"
          ]
        }
      ],
      "source": [
        "data[data['kategori']=='Valid'] = data[data['kategori']=='Valid'][1000:2118]\n",
        "data[data['kategori']=='Misleading Content/False Context/Manipulated Content'] = data[data['kategori']=='Misleading Content/False Context/Manipulated Content'][1000:2118]\n",
        "\n",
        "data = data.dropna()\n",
        "data.reset_index(drop=True, inplace=True)\n",
        "data.groupby(['kategori'])['words'].describe()"
      ]
    },
    {
      "cell_type": "code",
      "execution_count": null,
      "metadata": {
        "colab": {
          "base_uri": "https://localhost:8080/"
        },
        "id": "2SUUY3GDXJa6",
        "outputId": "a2c06f25-5c18-4d14-ef8e-e9b72cea89ed"
      },
      "outputs": [
        {
          "output_type": "stream",
          "name": "stdout",
          "text": [
            "time: 82.3 ms (started: 2022-12-11 17:29:12 +00:00)\n"
          ]
        }
      ],
      "source": [
        "word_freq = data['narasi'].str.split(expand=True).stack().value_counts()\n",
        "word_freq = word_freq.reset_index(name='freq').rename(columns={'index': 'word'})"
      ]
    },
    {
      "cell_type": "code",
      "execution_count": null,
      "metadata": {
        "colab": {
          "base_uri": "https://localhost:8080/",
          "height": 381
        },
        "id": "3fMIhh63uAJE",
        "outputId": "a6d437c4-9d29-4dd0-cbdf-61c86e11550d"
      },
      "outputs": [
        {
          "output_type": "execute_result",
          "data": {
            "text/plain": [
              "        word  freq\n",
              "0  indonesia   686\n",
              "1      orang   486\n",
              "2      tahun   366\n",
              "3     negara   319\n",
              "4      covid   316\n",
              "5       hari   296\n",
              "6    jakarta   293\n",
              "7   tersebut   290\n",
              "8      yosua   290\n",
              "9      video   256"
            ],
            "text/html": [
              "\n",
              "  <div id=\"df-261abc4e-3121-4e23-a758-8e120b6a220d\">\n",
              "    <div class=\"colab-df-container\">\n",
              "      <div>\n",
              "<style scoped>\n",
              "    .dataframe tbody tr th:only-of-type {\n",
              "        vertical-align: middle;\n",
              "    }\n",
              "\n",
              "    .dataframe tbody tr th {\n",
              "        vertical-align: top;\n",
              "    }\n",
              "\n",
              "    .dataframe thead th {\n",
              "        text-align: right;\n",
              "    }\n",
              "</style>\n",
              "<table border=\"1\" class=\"dataframe\">\n",
              "  <thead>\n",
              "    <tr style=\"text-align: right;\">\n",
              "      <th></th>\n",
              "      <th>word</th>\n",
              "      <th>freq</th>\n",
              "    </tr>\n",
              "  </thead>\n",
              "  <tbody>\n",
              "    <tr>\n",
              "      <th>0</th>\n",
              "      <td>indonesia</td>\n",
              "      <td>686</td>\n",
              "    </tr>\n",
              "    <tr>\n",
              "      <th>1</th>\n",
              "      <td>orang</td>\n",
              "      <td>486</td>\n",
              "    </tr>\n",
              "    <tr>\n",
              "      <th>2</th>\n",
              "      <td>tahun</td>\n",
              "      <td>366</td>\n",
              "    </tr>\n",
              "    <tr>\n",
              "      <th>3</th>\n",
              "      <td>negara</td>\n",
              "      <td>319</td>\n",
              "    </tr>\n",
              "    <tr>\n",
              "      <th>4</th>\n",
              "      <td>covid</td>\n",
              "      <td>316</td>\n",
              "    </tr>\n",
              "    <tr>\n",
              "      <th>5</th>\n",
              "      <td>hari</td>\n",
              "      <td>296</td>\n",
              "    </tr>\n",
              "    <tr>\n",
              "      <th>6</th>\n",
              "      <td>jakarta</td>\n",
              "      <td>293</td>\n",
              "    </tr>\n",
              "    <tr>\n",
              "      <th>7</th>\n",
              "      <td>tersebut</td>\n",
              "      <td>290</td>\n",
              "    </tr>\n",
              "    <tr>\n",
              "      <th>8</th>\n",
              "      <td>yosua</td>\n",
              "      <td>290</td>\n",
              "    </tr>\n",
              "    <tr>\n",
              "      <th>9</th>\n",
              "      <td>video</td>\n",
              "      <td>256</td>\n",
              "    </tr>\n",
              "  </tbody>\n",
              "</table>\n",
              "</div>\n",
              "      <button class=\"colab-df-convert\" onclick=\"convertToInteractive('df-261abc4e-3121-4e23-a758-8e120b6a220d')\"\n",
              "              title=\"Convert this dataframe to an interactive table.\"\n",
              "              style=\"display:none;\">\n",
              "        \n",
              "  <svg xmlns=\"http://www.w3.org/2000/svg\" height=\"24px\"viewBox=\"0 0 24 24\"\n",
              "       width=\"24px\">\n",
              "    <path d=\"M0 0h24v24H0V0z\" fill=\"none\"/>\n",
              "    <path d=\"M18.56 5.44l.94 2.06.94-2.06 2.06-.94-2.06-.94-.94-2.06-.94 2.06-2.06.94zm-11 1L8.5 8.5l.94-2.06 2.06-.94-2.06-.94L8.5 2.5l-.94 2.06-2.06.94zm10 10l.94 2.06.94-2.06 2.06-.94-2.06-.94-.94-2.06-.94 2.06-2.06.94z\"/><path d=\"M17.41 7.96l-1.37-1.37c-.4-.4-.92-.59-1.43-.59-.52 0-1.04.2-1.43.59L10.3 9.45l-7.72 7.72c-.78.78-.78 2.05 0 2.83L4 21.41c.39.39.9.59 1.41.59.51 0 1.02-.2 1.41-.59l7.78-7.78 2.81-2.81c.8-.78.8-2.07 0-2.86zM5.41 20L4 18.59l7.72-7.72 1.47 1.35L5.41 20z\"/>\n",
              "  </svg>\n",
              "      </button>\n",
              "      \n",
              "  <style>\n",
              "    .colab-df-container {\n",
              "      display:flex;\n",
              "      flex-wrap:wrap;\n",
              "      gap: 12px;\n",
              "    }\n",
              "\n",
              "    .colab-df-convert {\n",
              "      background-color: #E8F0FE;\n",
              "      border: none;\n",
              "      border-radius: 50%;\n",
              "      cursor: pointer;\n",
              "      display: none;\n",
              "      fill: #1967D2;\n",
              "      height: 32px;\n",
              "      padding: 0 0 0 0;\n",
              "      width: 32px;\n",
              "    }\n",
              "\n",
              "    .colab-df-convert:hover {\n",
              "      background-color: #E2EBFA;\n",
              "      box-shadow: 0px 1px 2px rgba(60, 64, 67, 0.3), 0px 1px 3px 1px rgba(60, 64, 67, 0.15);\n",
              "      fill: #174EA6;\n",
              "    }\n",
              "\n",
              "    [theme=dark] .colab-df-convert {\n",
              "      background-color: #3B4455;\n",
              "      fill: #D2E3FC;\n",
              "    }\n",
              "\n",
              "    [theme=dark] .colab-df-convert:hover {\n",
              "      background-color: #434B5C;\n",
              "      box-shadow: 0px 1px 3px 1px rgba(0, 0, 0, 0.15);\n",
              "      filter: drop-shadow(0px 1px 2px rgba(0, 0, 0, 0.3));\n",
              "      fill: #FFFFFF;\n",
              "    }\n",
              "  </style>\n",
              "\n",
              "      <script>\n",
              "        const buttonEl =\n",
              "          document.querySelector('#df-261abc4e-3121-4e23-a758-8e120b6a220d button.colab-df-convert');\n",
              "        buttonEl.style.display =\n",
              "          google.colab.kernel.accessAllowed ? 'block' : 'none';\n",
              "\n",
              "        async function convertToInteractive(key) {\n",
              "          const element = document.querySelector('#df-261abc4e-3121-4e23-a758-8e120b6a220d');\n",
              "          const dataTable =\n",
              "            await google.colab.kernel.invokeFunction('convertToInteractive',\n",
              "                                                     [key], {});\n",
              "          if (!dataTable) return;\n",
              "\n",
              "          const docLinkHtml = 'Like what you see? Visit the ' +\n",
              "            '<a target=\"_blank\" href=https://colab.research.google.com/notebooks/data_table.ipynb>data table notebook</a>'\n",
              "            + ' to learn more about interactive tables.';\n",
              "          element.innerHTML = '';\n",
              "          dataTable['output_type'] = 'display_data';\n",
              "          await google.colab.output.renderOutput(dataTable, element);\n",
              "          const docLink = document.createElement('div');\n",
              "          docLink.innerHTML = docLinkHtml;\n",
              "          element.appendChild(docLink);\n",
              "        }\n",
              "      </script>\n",
              "    </div>\n",
              "  </div>\n",
              "  "
            ]
          },
          "metadata": {},
          "execution_count": 22
        },
        {
          "output_type": "stream",
          "name": "stdout",
          "text": [
            "time: 5.59 ms (started: 2022-12-11 17:29:12 +00:00)\n"
          ]
        }
      ],
      "source": [
        "word_freq.head(10)"
      ]
    },
    {
      "cell_type": "code",
      "execution_count": null,
      "metadata": {
        "colab": {
          "base_uri": "https://localhost:8080/"
        },
        "id": "8JGMjafHWlvp",
        "outputId": "54b03e48-b0d2-42aa-c180-b69e9cea1abc"
      },
      "outputs": [
        {
          "output_type": "stream",
          "name": "stdout",
          "text": [
            "Number of distinct words in raw data:  13513\n",
            "time: 1.95 ms (started: 2022-12-11 17:29:12 +00:00)\n"
          ]
        }
      ],
      "source": [
        "print(\"Number of distinct words in raw data: \", len(list(word_freq['word'])))"
      ]
    },
    {
      "cell_type": "code",
      "execution_count": null,
      "metadata": {
        "colab": {
          "base_uri": "https://localhost:8080/"
        },
        "id": "d9Qme0pMXpQL",
        "outputId": "37b99ba4-83d1-4f2f-d35d-a887c905d18a"
      },
      "outputs": [
        {
          "output_type": "stream",
          "name": "stdout",
          "text": [
            "13513\n",
            "196\n",
            "time: 2.27 ms (started: 2022-12-11 17:29:12 +00:00)\n"
          ]
        }
      ],
      "source": [
        "max_words = len(list(word_freq['word']))\n",
        "# max_words = len(list(word_freq[word_freq['freq']>=2]['word']))\n",
        "max_len = int(data['words'].max())\n",
        "\n",
        "print(max_words)\n",
        "print(max_len)"
      ]
    },
    {
      "cell_type": "code",
      "execution_count": null,
      "metadata": {
        "colab": {
          "base_uri": "https://localhost:8080/"
        },
        "id": "hwnhFQlSZXaQ",
        "outputId": "002e5e47-f41f-4062-a79e-f549ad11ce92"
      },
      "outputs": [
        {
          "output_type": "stream",
          "name": "stdout",
          "text": [
            "time: 1.58 ms (started: 2022-12-11 17:29:12 +00:00)\n"
          ]
        }
      ],
      "source": [
        "data = data.sample(frac=1)"
      ]
    },
    {
      "cell_type": "code",
      "execution_count": null,
      "metadata": {
        "colab": {
          "base_uri": "https://localhost:8080/"
        },
        "id": "RR2IrBv7Zryi",
        "outputId": "5d6f2b11-7d8a-42c5-d042-b02d5c54433c"
      },
      "outputs": [
        {
          "output_type": "stream",
          "name": "stdout",
          "text": [
            "(3354, 3)\n",
            "['Fabricated Content/Imposter Content'\n",
            " 'Misleading Content/False Context/Manipulated Content' 'Valid']\n",
            "time: 4.66 ms (started: 2022-12-11 17:29:12 +00:00)\n"
          ]
        }
      ],
      "source": [
        "X, Y = list(data['narasi']), list(data['kategori'])\n",
        "\n",
        "encoder = LabelEncoder()\n",
        "Y = to_categorical(encoder.fit_transform(Y), dtype='uint8')\n",
        "\n",
        "print(Y.shape)\n",
        "print(encoder.classes_)"
      ]
    },
    {
      "cell_type": "code",
      "execution_count": null,
      "metadata": {
        "colab": {
          "base_uri": "https://localhost:8080/"
        },
        "id": "dsI2pyMQRAjc",
        "outputId": "dafb27ec-794f-41e7-e176-ba8e37be1598"
      },
      "outputs": [
        {
          "output_type": "stream",
          "name": "stdout",
          "text": [
            "[2 1 0 ... 2 2 0]\n",
            "time: 1.04 ms (started: 2022-12-11 17:29:12 +00:00)\n"
          ]
        }
      ],
      "source": [
        "print(np.argmax(Y, axis=1))"
      ]
    },
    {
      "cell_type": "code",
      "execution_count": null,
      "metadata": {
        "colab": {
          "base_uri": "https://localhost:8080/"
        },
        "id": "rt3dCohqH5Zb",
        "outputId": "72e9e905-22ad-4953-9f57-9472eb1f0c3b"
      },
      "outputs": [
        {
          "output_type": "stream",
          "name": "stdout",
          "text": [
            "time: 2.33 ms (started: 2022-12-11 17:29:12 +00:00)\n"
          ]
        }
      ],
      "source": [
        "def define_report(prediction, test):\n",
        "  y_pred_class = np.argmax(prediction, axis=1)\n",
        "  y_class = np.argmax(test, axis=1)\n",
        "  precision, recall, fscore, support = prfs(y_class, y_pred_class)\n",
        "  report = cr(y_class, y_pred_class, target_names = encoder.classes_)\n",
        "  return recall, report\n",
        "\n",
        "def define_confusion(prediction, test):\n",
        "  y_pred_class = np.argmax(prediction, axis=1)\n",
        "  y_class = np.argmax(test, axis=1)\n",
        "  con_mat = cm(labels=y_class, predictions=y_pred_class).numpy()\n",
        "  con_mat_norm = np.around(con_mat.astype('float') / con_mat.sum(axis=1)[:, np.newaxis], decimals=3)\n",
        "  con_mat_df = pd.DataFrame(con_mat_norm, index = encoder.classes_, columns = encoder.classes_)\n",
        "  figure = plt.figure(figsize=(13, 10))\n",
        "  sns.heatmap(con_mat_df, annot=True, fmt='.1%', cmap=plt.cm.Blues)\n",
        "  plt.tight_layout()\n",
        "  plt.ylabel('True label')\n",
        "  plt.xlabel('Predicted label')\n",
        "  plt.show()\n",
        "\n",
        "def define_plot(name, param):\n",
        "  plt.figure(figsize=(15, 7))\n",
        "  plt.title(name)\n",
        "  plt.plot(param.history[name], label='train')\n",
        "  plt.plot(param.history[f'val_{name}'], label='test')\n",
        "  plt.legend()\n",
        "  plt.show();"
      ]
    },
    {
      "cell_type": "markdown",
      "metadata": {
        "id": "SWvGpE2mGuOH"
      },
      "source": [
        "# **Embedding Random**"
      ]
    },
    {
      "cell_type": "code",
      "execution_count": null,
      "metadata": {
        "colab": {
          "base_uri": "https://localhost:8080/"
        },
        "id": "V-GCD9YWGtnK",
        "outputId": "488ac859-59f8-484a-c7a6-e725657290f1"
      },
      "outputs": [
        {
          "output_type": "stream",
          "name": "stdout",
          "text": [
            "time: 1.34 ms (started: 2022-12-11 17:29:12 +00:00)\n"
          ]
        }
      ],
      "source": [
        "def define_model(kernel_size, activation, optimizer, input_dim, max_length, output_dim = 300 ):\n",
        "    \n",
        "    inp = Input( shape=(max_length,))\n",
        "    x = Embedding(input_dim=input_dim, output_dim=output_dim, input_length=max_length)(inp)\n",
        "    x = SpatialDropout1D(0.1)(x)\n",
        "    \n",
        "    x = Bidirectional(TCN(64, kernel_size=kernel_size, dilations = [1, 2], return_sequences=True, activation = activation, name = 'tcn1'))(x)\n",
        "    \n",
        "    avg_pool = GlobalAveragePooling1D()(x)\n",
        "    max_pool = GlobalMaxPooling1D()(x)\n",
        "    \n",
        "    conc = concatenate([avg_pool, max_pool])\n",
        "    conc = Dropout(0.5)(conc)\n",
        "    outp = Dense(Y.shape[1], activation=\"softmax\")(conc)   \n",
        "\n",
        "    model = Model(inputs=inp, outputs=outp)\n",
        "    model.compile( loss = 'categorical_crossentropy', optimizer = optimizer, metrics = ['accuracy'])\n",
        "    \n",
        "    return model"
      ]
    },
    {
      "cell_type": "code",
      "execution_count": null,
      "metadata": {
        "colab": {
          "base_uri": "https://localhost:8080/"
        },
        "id": "LPhRLUCXHbnb",
        "outputId": "96e40851-8668-41b4-f380-446e0490cce1"
      },
      "outputs": [
        {
          "output_type": "stream",
          "name": "stdout",
          "text": [
            "Model: \"model\"\n",
            "__________________________________________________________________________________________________\n",
            " Layer (type)                   Output Shape         Param #     Connected to                     \n",
            "==================================================================================================\n",
            " input_1 (InputLayer)           [(None, 121)]        0           []                               \n",
            "                                                                                                  \n",
            " embedding (Embedding)          (None, 121, 300)     90000       ['input_1[0][0]']                \n",
            "                                                                                                  \n",
            " spatial_dropout1d (SpatialDrop  (None, 121, 300)    0           ['embedding[0][0]']              \n",
            " out1D)                                                                                           \n",
            "                                                                                                  \n",
            " bidirectional (Bidirectional)  (None, 121, 128)     227968      ['spatial_dropout1d[0][0]']      \n",
            "                                                                                                  \n",
            " global_average_pooling1d (Glob  (None, 128)         0           ['bidirectional[0][0]']          \n",
            " alAveragePooling1D)                                                                              \n",
            "                                                                                                  \n",
            " global_max_pooling1d (GlobalMa  (None, 128)         0           ['bidirectional[0][0]']          \n",
            " xPooling1D)                                                                                      \n",
            "                                                                                                  \n",
            " concatenate (Concatenate)      (None, 256)          0           ['global_average_pooling1d[0][0]'\n",
            "                                                                 , 'global_max_pooling1d[0][0]']  \n",
            "                                                                                                  \n",
            " dropout (Dropout)              (None, 256)          0           ['concatenate[0][0]']            \n",
            "                                                                                                  \n",
            " dense (Dense)                  (None, 3)            771         ['dropout[0][0]']                \n",
            "                                                                                                  \n",
            "==================================================================================================\n",
            "Total params: 318,739\n",
            "Trainable params: 318,739\n",
            "Non-trainable params: 0\n",
            "__________________________________________________________________________________________________\n",
            "time: 2.01 s (started: 2022-12-11 17:29:12 +00:00)\n"
          ]
        }
      ],
      "source": [
        "model0_random = define_model(3, 'relu', 'adam', 300, 121)\n",
        "model0_random.summary()"
      ]
    },
    {
      "cell_type": "code",
      "execution_count": null,
      "metadata": {
        "colab": {
          "base_uri": "https://localhost:8080/"
        },
        "id": "7sa-ersrJIWh",
        "outputId": "e1853c7e-73f5-4ab0-cdd2-f1df54708c6a"
      },
      "outputs": [
        {
          "output_type": "stream",
          "name": "stdout",
          "text": [
            "time: 814 µs (started: 2022-12-11 17:29:14 +00:00)\n"
          ]
        }
      ],
      "source": [
        "callbacks = EarlyStopping(monitor='val_loss', min_delta=0, patience=4, verbose=2, mode='min', restore_best_weights=True)"
      ]
    },
    {
      "cell_type": "code",
      "execution_count": null,
      "metadata": {
        "id": "26yvgXgFIDme"
      },
      "outputs": [],
      "source": [
        "trunc_type='post'\n",
        "padding_type='post'\n",
        "oov_tok = \"<UNK>\"\n",
        "activations = ['tanh', 'relu', 'elu', 'selu', 'swish']\n",
        "optimizers = ['nadam']\n",
        "kernel_sizes = [2, 3, 4, 5, 6, 7, 8]\n",
        "\n",
        "columns = ['Optimizer', 'Activation', 'Filters', 'acc1', 'acc2', 'acc3', 'acc4', 'acc5', 'accAVG', 'loss1', 'loss2', 'loss3', 'loss4', 'loss5', 'lossAVG']\n",
        "record = pd.DataFrame(columns = columns)\n",
        "kfold = KFold(n_splits=5, shuffle=True)\n",
        "\n",
        "sentences, labels = X, Y\n",
        "\n",
        "clouds = []\n",
        "valid_selected = []\n",
        "false_selected = []\n",
        "imposter_selected = []\n",
        "models = []\n",
        "recalls = []\n",
        "reports = []\n",
        "metas = []\n",
        "exp = 0\n",
        "\n",
        "for optimizer in optimizers:\n",
        "  for activation in activations:\n",
        "    for kernel_size in kernel_sizes:\n",
        "      exp+=1\n",
        "      print('--------------------------------------------------------------')\n",
        "      print('Training {}: {} optimizer, {} activation, {} kernel size.'.format(exp, optimizer, activation, kernel_size))\n",
        "      print('--------------------------------------------------------------')\n",
        "      acc_list = []\n",
        "      loss_list = []\n",
        "      for train, test in kfold.split(sentences):\n",
        "\n",
        "        train_x, test_x = [], []\n",
        "        train_y, test_y = [], []\n",
        "        \n",
        "        for i in train:\n",
        "          train_x.append(sentences[i])\n",
        "          train_y.append(labels[i])\n",
        "        for i in test:\n",
        "          test_x.append(sentences[i])\n",
        "          test_y.append(labels[i])\n",
        "\n",
        "        train_valid = []\n",
        "        train_false = []\n",
        "        train_imposter = []\n",
        "        for i in range(len(train_y)):\n",
        "          label = list(encoder.inverse_transform([np.argmax(train_y[i])]))[0]\n",
        "          if label == 'Valid':\n",
        "            for j in train_x[i].split(): train_valid.append(j)\n",
        "          if label == 'Misleading Content/False Context/Manipulated Content':\n",
        "            for j in train_x[i].split(): train_false.append(j)\n",
        "          if label == 'Fabricated Content/Imposter Content':\n",
        "            for j in train_x[i].split(): train_imposter.append(j)\n",
        "        \n",
        "        valid_res = dict(Counter(train_valid))\n",
        "        false_res = dict(Counter(train_false))\n",
        "        imposter_res = dict(Counter(train_imposter))\n",
        "        \n",
        "        valid_selected.append({k: v for k, v in sorted(valid_res.items(), key=lambda item: item[1], reverse=True)})\n",
        "        false_selected.append({k: v for k, v in sorted(false_res.items(), key=lambda item: item[1], reverse=True)})\n",
        "        imposter_selected.append({k: v for k, v in sorted(imposter_res.items(), key=lambda item: item[1], reverse=True)})\n",
        "        \n",
        "        train_y = np.array(train_y)\n",
        "        test_y = np.array(test_y)\n",
        "\n",
        "        tokenizer = text.Tokenizer(num_words = max_words, oov_token=oov_tok)\n",
        "        tokenizer.fit_on_texts(train_x)\n",
        "        training_sequences = tokenizer.texts_to_sequences(train_x)\n",
        "        test_sequences = tokenizer.texts_to_sequences(test_x)\n",
        "        Xtrain = sequence.pad_sequences(training_sequences, maxlen=max_len, padding=padding_type, truncating=trunc_type)\n",
        "        Xtest = sequence.pad_sequences(test_sequences, maxlen=max_len, padding=padding_type, truncating=trunc_type)\n",
        "\n",
        "        wordIdx = tokenizer.word_index\n",
        "        clouds.append(wordIdx)\n",
        "        vocabSize = len(wordIdx)+1\n",
        "\n",
        "        model = define_model(kernel_size, activation, optimizer, input_dim=vocabSize, max_length=max_len)\n",
        "        history = model.fit(Xtrain, train_y, batch_size=50, epochs=16, verbose=0, \n",
        "                  callbacks=[callbacks], validation_data=(Xtest, test_y))\n",
        "        \n",
        "        loss, acc = model.evaluate(Xtest, test_y, verbose=0)\n",
        "        print(f'Loss: {loss} - Accuracy: {acc}\\n')\n",
        "        result = model.predict(Xtest)\n",
        "        recall, report = define_report(result, test_y)\n",
        "        metas.append([Xtest, test_y, result, history])\n",
        "        reports.append(report)\n",
        "        recalls.append(recall)\n",
        "        acc_list.append(acc*100)\n",
        "        loss_list.append(loss)\n",
        "        models.append(model)\n",
        "          \n",
        "      mean_acc = np.array(acc_list).mean()\n",
        "      mean_loss = np.array(loss_list).mean()\n",
        "      parameters = [optimizer, activation, kernel_size]\n",
        "      entries = parameters + acc_list + [mean_acc] + loss_list + [mean_loss]\n",
        "      temp = pd.DataFrame([entries], columns=columns)\n",
        "      record = record.append(temp, ignore_index=True)\n",
        "      print('\\n')"
      ]
    },
    {
      "cell_type": "code",
      "execution_count": null,
      "metadata": {
        "id": "uupGVhSJbHU-",
        "colab": {
          "base_uri": "https://localhost:8080/",
          "height": 1000
        },
        "outputId": "9ff262f9-11e3-48db-90a6-a2d800e53b23"
      },
      "outputs": [
        {
          "output_type": "execute_result",
          "data": {
            "text/plain": [
              "   Optimizer Activation Filters       acc1       acc2       acc3       acc4  \\\n",
              "0      nadam       tanh       2  81.222057  83.904618  86.140090  81.222057   \n",
              "1      nadam       tanh       3  83.308494  84.202683  83.606559  83.755589   \n",
              "2      nadam       tanh       4  84.500748  85.245901  84.947836  83.308494   \n",
              "3      nadam       tanh       5  84.202683  86.885244  84.500748  84.202683   \n",
              "4      nadam       tanh       6  84.202683  85.543966  83.159465  85.394931   \n",
              "5      nadam       tanh       7  85.394931  83.457524  83.755589  83.904618   \n",
              "6      nadam       tanh       8  84.649777  84.351712  83.457524  84.053653   \n",
              "7      nadam       relu       2  81.967211  85.692996  82.563341  81.371087   \n",
              "8      nadam       relu       3  80.923992  84.649777  84.649777  83.308494   \n",
              "9      nadam       relu       4  83.159465  83.606559  83.159465  84.500748   \n",
              "10     nadam       relu       5  84.351712  82.712370  83.457524  85.096872   \n",
              "11     nadam       relu       6  81.371087  81.967211  81.818181  84.351712   \n",
              "12     nadam       relu       7  82.861400  87.034279  83.904618  85.096872   \n",
              "13     nadam       relu       8  82.563341  84.798807  82.116246  86.736214   \n",
              "14     nadam        elu       2  83.755589  85.394931  83.159465  84.351712   \n",
              "15     nadam        elu       3  82.116246  83.755589  82.563341  87.332338   \n",
              "16     nadam        elu       4  83.457524  85.096872  86.289120  82.265276   \n",
              "17     nadam        elu       5  85.394931  84.351712  81.818181  85.692996   \n",
              "18     nadam        elu       6  85.991061  85.991061  84.798807  83.159465   \n",
              "19     nadam        elu       7  83.755589  84.202683  83.904618  85.991061   \n",
              "20     nadam        elu       8  83.159465  85.096872  87.928462  83.159465   \n",
              "21     nadam       selu       2  84.649777  84.798807  83.606559  84.202683   \n",
              "22     nadam       selu       3  84.202683  84.798807  83.308494  84.202683   \n",
              "23     nadam       selu       4  82.116246  83.159465  83.308494  84.053653   \n",
              "24     nadam       selu       5  83.606559  84.351712  83.606559  82.265276   \n",
              "25     nadam       selu       6  83.457524  87.183309  85.096872  76.005960   \n",
              "26     nadam       selu       7  85.543966  80.625933  83.606559  84.202683   \n",
              "27     nadam       selu       8  82.712370  81.669152  82.861400  83.904618   \n",
              "28     nadam      swish       2  82.712370  83.159465  82.414305  81.073028   \n",
              "29     nadam      swish       3  84.202683  83.904618  81.818181  80.625933   \n",
              "30     nadam      swish       4  83.308494  83.606559  84.351712  82.861400   \n",
              "31     nadam      swish       5  87.183309  83.159465  85.543966  83.159465   \n",
              "32     nadam      swish       6  79.731745  84.947836  84.798807  81.222057   \n",
              "33     nadam      swish       7  80.923992  85.543966  86.140090  82.712370   \n",
              "34     nadam      swish       8  84.649777  82.712370  82.712370  83.457524   \n",
              "\n",
              "         acc5     accAVG     loss1     loss2     loss3     loss4     loss5  \\\n",
              "0   84.179103  83.333585  0.446564  0.396711  0.364063  0.446869  0.404172   \n",
              "1   84.179103  83.810486  0.385900  0.406967  0.392106  0.386923  0.406347   \n",
              "2   84.179103  84.436417  0.392792  0.357001  0.367562  0.405734  0.405259   \n",
              "3   85.820895  85.122451  0.396582  0.365962  0.370353  0.399354  0.349130   \n",
              "4   84.029853  84.466180  0.398594  0.400060  0.377688  0.371905  0.395223   \n",
              "5   83.432835  83.989099  0.363403  0.390976  0.363854  0.371483  0.393458   \n",
              "6   86.716419  84.645817  0.367336  0.386599  0.403723  0.386954  0.347790   \n",
              "7   81.343281  82.587583  0.462175  0.341919  0.438363  0.462149  0.400354   \n",
              "8   83.731341  83.452677  0.431938  0.395889  0.375772  0.427312  0.398883   \n",
              "9   82.835823  83.452412  0.393498  0.418224  0.393893  0.397588  0.424006   \n",
              "10  84.925371  84.108770  0.380758  0.419454  0.402298  0.366708  0.381235   \n",
              "11  84.179103  82.737459  0.410890  0.458665  0.396229  0.380978  0.403586   \n",
              "12  82.537311  84.286896  0.393433  0.326908  0.391555  0.358751  0.503992   \n",
              "13  86.119401  84.466802  0.367070  0.383749  0.410741  0.352973  0.332704   \n",
              "14  84.328359  84.198011  0.430916  0.382932  0.384226  0.402198  0.387685   \n",
              "15  85.223883  84.198279  0.440011  0.402143  0.394288  0.355738  0.381207   \n",
              "16  82.089549  83.839668  0.371243  0.358816  0.349222  0.439630  0.430680   \n",
              "17  85.223883  84.496341  0.366954  0.374758  0.393896  0.388740  0.366682   \n",
              "18  84.477609  84.883600  0.357531  0.369050  0.387520  0.406987  0.355690   \n",
              "19  83.582091  84.287208  0.388363  0.358253  0.485390  0.390516  0.386495   \n",
              "20  82.089549  84.286762  0.387032  0.407134  0.314899  0.397572  0.421068   \n",
              "21  82.388061  83.929178  0.380846  0.400265  0.422450  0.410778  0.459136   \n",
              "22  82.686567  83.839847  0.376026  0.399881  0.388752  0.382515  0.418552   \n",
              "23  81.343281  82.796228  0.471374  0.436743  0.446402  0.425159  0.432278   \n",
              "24  78.805971  82.527215  0.361493  0.420586  0.419940  0.470846  0.447094   \n",
              "25  83.880597  83.124852  0.414434  0.397421  0.427121  0.510232  0.424950   \n",
              "26  79.552239  82.706276  0.320884  0.455037  0.407144  0.399996  0.431453   \n",
              "27  86.417907  83.513089  0.421808  0.462263  0.443096  0.425158  0.389475   \n",
              "28  82.089549  82.289743  0.508561  0.405957  0.440374  0.448764  0.480005   \n",
              "29  82.089549  82.528193  0.433879  0.416314  0.451566  0.486597  0.449399   \n",
              "30  80.895525  83.004738  0.445576  0.459847  0.396927  0.437208  0.439879   \n",
              "31  84.477609  84.704763  0.351776  0.421090  0.387909  0.412541  0.385166   \n",
              "32  85.223883  83.184866  0.452402  0.371122  0.407530  0.462427  0.362845   \n",
              "33  83.731341  83.810352  0.473128  0.364781  0.368817  0.438134  0.396137   \n",
              "34  83.731341  83.452677  0.432927  0.402460  0.404114  0.548945  0.448319   \n",
              "\n",
              "     lossAVG  \n",
              "0   0.411676  \n",
              "1   0.395649  \n",
              "2   0.385669  \n",
              "3   0.376276  \n",
              "4   0.388694  \n",
              "5   0.376635  \n",
              "6   0.378480  \n",
              "7   0.420992  \n",
              "8   0.405959  \n",
              "9   0.405442  \n",
              "10  0.390091  \n",
              "11  0.410070  \n",
              "12  0.394928  \n",
              "13  0.369447  \n",
              "14  0.397591  \n",
              "15  0.394677  \n",
              "16  0.389918  \n",
              "17  0.378206  \n",
              "18  0.375355  \n",
              "19  0.401803  \n",
              "20  0.385541  \n",
              "21  0.414695  \n",
              "22  0.393145  \n",
              "23  0.442391  \n",
              "24  0.423992  \n",
              "25  0.434832  \n",
              "26  0.402903  \n",
              "27  0.428360  \n",
              "28  0.456732  \n",
              "29  0.447551  \n",
              "30  0.435887  \n",
              "31  0.391696  \n",
              "32  0.411265  \n",
              "33  0.408199  \n",
              "34  0.447353  "
            ],
            "text/html": [
              "\n",
              "  <div id=\"df-4f7f3279-d076-47e7-927e-67fd35c30d31\">\n",
              "    <div class=\"colab-df-container\">\n",
              "      <div>\n",
              "<style scoped>\n",
              "    .dataframe tbody tr th:only-of-type {\n",
              "        vertical-align: middle;\n",
              "    }\n",
              "\n",
              "    .dataframe tbody tr th {\n",
              "        vertical-align: top;\n",
              "    }\n",
              "\n",
              "    .dataframe thead th {\n",
              "        text-align: right;\n",
              "    }\n",
              "</style>\n",
              "<table border=\"1\" class=\"dataframe\">\n",
              "  <thead>\n",
              "    <tr style=\"text-align: right;\">\n",
              "      <th></th>\n",
              "      <th>Optimizer</th>\n",
              "      <th>Activation</th>\n",
              "      <th>Filters</th>\n",
              "      <th>acc1</th>\n",
              "      <th>acc2</th>\n",
              "      <th>acc3</th>\n",
              "      <th>acc4</th>\n",
              "      <th>acc5</th>\n",
              "      <th>accAVG</th>\n",
              "      <th>loss1</th>\n",
              "      <th>loss2</th>\n",
              "      <th>loss3</th>\n",
              "      <th>loss4</th>\n",
              "      <th>loss5</th>\n",
              "      <th>lossAVG</th>\n",
              "    </tr>\n",
              "  </thead>\n",
              "  <tbody>\n",
              "    <tr>\n",
              "      <th>0</th>\n",
              "      <td>nadam</td>\n",
              "      <td>tanh</td>\n",
              "      <td>2</td>\n",
              "      <td>81.222057</td>\n",
              "      <td>83.904618</td>\n",
              "      <td>86.140090</td>\n",
              "      <td>81.222057</td>\n",
              "      <td>84.179103</td>\n",
              "      <td>83.333585</td>\n",
              "      <td>0.446564</td>\n",
              "      <td>0.396711</td>\n",
              "      <td>0.364063</td>\n",
              "      <td>0.446869</td>\n",
              "      <td>0.404172</td>\n",
              "      <td>0.411676</td>\n",
              "    </tr>\n",
              "    <tr>\n",
              "      <th>1</th>\n",
              "      <td>nadam</td>\n",
              "      <td>tanh</td>\n",
              "      <td>3</td>\n",
              "      <td>83.308494</td>\n",
              "      <td>84.202683</td>\n",
              "      <td>83.606559</td>\n",
              "      <td>83.755589</td>\n",
              "      <td>84.179103</td>\n",
              "      <td>83.810486</td>\n",
              "      <td>0.385900</td>\n",
              "      <td>0.406967</td>\n",
              "      <td>0.392106</td>\n",
              "      <td>0.386923</td>\n",
              "      <td>0.406347</td>\n",
              "      <td>0.395649</td>\n",
              "    </tr>\n",
              "    <tr>\n",
              "      <th>2</th>\n",
              "      <td>nadam</td>\n",
              "      <td>tanh</td>\n",
              "      <td>4</td>\n",
              "      <td>84.500748</td>\n",
              "      <td>85.245901</td>\n",
              "      <td>84.947836</td>\n",
              "      <td>83.308494</td>\n",
              "      <td>84.179103</td>\n",
              "      <td>84.436417</td>\n",
              "      <td>0.392792</td>\n",
              "      <td>0.357001</td>\n",
              "      <td>0.367562</td>\n",
              "      <td>0.405734</td>\n",
              "      <td>0.405259</td>\n",
              "      <td>0.385669</td>\n",
              "    </tr>\n",
              "    <tr>\n",
              "      <th>3</th>\n",
              "      <td>nadam</td>\n",
              "      <td>tanh</td>\n",
              "      <td>5</td>\n",
              "      <td>84.202683</td>\n",
              "      <td>86.885244</td>\n",
              "      <td>84.500748</td>\n",
              "      <td>84.202683</td>\n",
              "      <td>85.820895</td>\n",
              "      <td>85.122451</td>\n",
              "      <td>0.396582</td>\n",
              "      <td>0.365962</td>\n",
              "      <td>0.370353</td>\n",
              "      <td>0.399354</td>\n",
              "      <td>0.349130</td>\n",
              "      <td>0.376276</td>\n",
              "    </tr>\n",
              "    <tr>\n",
              "      <th>4</th>\n",
              "      <td>nadam</td>\n",
              "      <td>tanh</td>\n",
              "      <td>6</td>\n",
              "      <td>84.202683</td>\n",
              "      <td>85.543966</td>\n",
              "      <td>83.159465</td>\n",
              "      <td>85.394931</td>\n",
              "      <td>84.029853</td>\n",
              "      <td>84.466180</td>\n",
              "      <td>0.398594</td>\n",
              "      <td>0.400060</td>\n",
              "      <td>0.377688</td>\n",
              "      <td>0.371905</td>\n",
              "      <td>0.395223</td>\n",
              "      <td>0.388694</td>\n",
              "    </tr>\n",
              "    <tr>\n",
              "      <th>5</th>\n",
              "      <td>nadam</td>\n",
              "      <td>tanh</td>\n",
              "      <td>7</td>\n",
              "      <td>85.394931</td>\n",
              "      <td>83.457524</td>\n",
              "      <td>83.755589</td>\n",
              "      <td>83.904618</td>\n",
              "      <td>83.432835</td>\n",
              "      <td>83.989099</td>\n",
              "      <td>0.363403</td>\n",
              "      <td>0.390976</td>\n",
              "      <td>0.363854</td>\n",
              "      <td>0.371483</td>\n",
              "      <td>0.393458</td>\n",
              "      <td>0.376635</td>\n",
              "    </tr>\n",
              "    <tr>\n",
              "      <th>6</th>\n",
              "      <td>nadam</td>\n",
              "      <td>tanh</td>\n",
              "      <td>8</td>\n",
              "      <td>84.649777</td>\n",
              "      <td>84.351712</td>\n",
              "      <td>83.457524</td>\n",
              "      <td>84.053653</td>\n",
              "      <td>86.716419</td>\n",
              "      <td>84.645817</td>\n",
              "      <td>0.367336</td>\n",
              "      <td>0.386599</td>\n",
              "      <td>0.403723</td>\n",
              "      <td>0.386954</td>\n",
              "      <td>0.347790</td>\n",
              "      <td>0.378480</td>\n",
              "    </tr>\n",
              "    <tr>\n",
              "      <th>7</th>\n",
              "      <td>nadam</td>\n",
              "      <td>relu</td>\n",
              "      <td>2</td>\n",
              "      <td>81.967211</td>\n",
              "      <td>85.692996</td>\n",
              "      <td>82.563341</td>\n",
              "      <td>81.371087</td>\n",
              "      <td>81.343281</td>\n",
              "      <td>82.587583</td>\n",
              "      <td>0.462175</td>\n",
              "      <td>0.341919</td>\n",
              "      <td>0.438363</td>\n",
              "      <td>0.462149</td>\n",
              "      <td>0.400354</td>\n",
              "      <td>0.420992</td>\n",
              "    </tr>\n",
              "    <tr>\n",
              "      <th>8</th>\n",
              "      <td>nadam</td>\n",
              "      <td>relu</td>\n",
              "      <td>3</td>\n",
              "      <td>80.923992</td>\n",
              "      <td>84.649777</td>\n",
              "      <td>84.649777</td>\n",
              "      <td>83.308494</td>\n",
              "      <td>83.731341</td>\n",
              "      <td>83.452677</td>\n",
              "      <td>0.431938</td>\n",
              "      <td>0.395889</td>\n",
              "      <td>0.375772</td>\n",
              "      <td>0.427312</td>\n",
              "      <td>0.398883</td>\n",
              "      <td>0.405959</td>\n",
              "    </tr>\n",
              "    <tr>\n",
              "      <th>9</th>\n",
              "      <td>nadam</td>\n",
              "      <td>relu</td>\n",
              "      <td>4</td>\n",
              "      <td>83.159465</td>\n",
              "      <td>83.606559</td>\n",
              "      <td>83.159465</td>\n",
              "      <td>84.500748</td>\n",
              "      <td>82.835823</td>\n",
              "      <td>83.452412</td>\n",
              "      <td>0.393498</td>\n",
              "      <td>0.418224</td>\n",
              "      <td>0.393893</td>\n",
              "      <td>0.397588</td>\n",
              "      <td>0.424006</td>\n",
              "      <td>0.405442</td>\n",
              "    </tr>\n",
              "    <tr>\n",
              "      <th>10</th>\n",
              "      <td>nadam</td>\n",
              "      <td>relu</td>\n",
              "      <td>5</td>\n",
              "      <td>84.351712</td>\n",
              "      <td>82.712370</td>\n",
              "      <td>83.457524</td>\n",
              "      <td>85.096872</td>\n",
              "      <td>84.925371</td>\n",
              "      <td>84.108770</td>\n",
              "      <td>0.380758</td>\n",
              "      <td>0.419454</td>\n",
              "      <td>0.402298</td>\n",
              "      <td>0.366708</td>\n",
              "      <td>0.381235</td>\n",
              "      <td>0.390091</td>\n",
              "    </tr>\n",
              "    <tr>\n",
              "      <th>11</th>\n",
              "      <td>nadam</td>\n",
              "      <td>relu</td>\n",
              "      <td>6</td>\n",
              "      <td>81.371087</td>\n",
              "      <td>81.967211</td>\n",
              "      <td>81.818181</td>\n",
              "      <td>84.351712</td>\n",
              "      <td>84.179103</td>\n",
              "      <td>82.737459</td>\n",
              "      <td>0.410890</td>\n",
              "      <td>0.458665</td>\n",
              "      <td>0.396229</td>\n",
              "      <td>0.380978</td>\n",
              "      <td>0.403586</td>\n",
              "      <td>0.410070</td>\n",
              "    </tr>\n",
              "    <tr>\n",
              "      <th>12</th>\n",
              "      <td>nadam</td>\n",
              "      <td>relu</td>\n",
              "      <td>7</td>\n",
              "      <td>82.861400</td>\n",
              "      <td>87.034279</td>\n",
              "      <td>83.904618</td>\n",
              "      <td>85.096872</td>\n",
              "      <td>82.537311</td>\n",
              "      <td>84.286896</td>\n",
              "      <td>0.393433</td>\n",
              "      <td>0.326908</td>\n",
              "      <td>0.391555</td>\n",
              "      <td>0.358751</td>\n",
              "      <td>0.503992</td>\n",
              "      <td>0.394928</td>\n",
              "    </tr>\n",
              "    <tr>\n",
              "      <th>13</th>\n",
              "      <td>nadam</td>\n",
              "      <td>relu</td>\n",
              "      <td>8</td>\n",
              "      <td>82.563341</td>\n",
              "      <td>84.798807</td>\n",
              "      <td>82.116246</td>\n",
              "      <td>86.736214</td>\n",
              "      <td>86.119401</td>\n",
              "      <td>84.466802</td>\n",
              "      <td>0.367070</td>\n",
              "      <td>0.383749</td>\n",
              "      <td>0.410741</td>\n",
              "      <td>0.352973</td>\n",
              "      <td>0.332704</td>\n",
              "      <td>0.369447</td>\n",
              "    </tr>\n",
              "    <tr>\n",
              "      <th>14</th>\n",
              "      <td>nadam</td>\n",
              "      <td>elu</td>\n",
              "      <td>2</td>\n",
              "      <td>83.755589</td>\n",
              "      <td>85.394931</td>\n",
              "      <td>83.159465</td>\n",
              "      <td>84.351712</td>\n",
              "      <td>84.328359</td>\n",
              "      <td>84.198011</td>\n",
              "      <td>0.430916</td>\n",
              "      <td>0.382932</td>\n",
              "      <td>0.384226</td>\n",
              "      <td>0.402198</td>\n",
              "      <td>0.387685</td>\n",
              "      <td>0.397591</td>\n",
              "    </tr>\n",
              "    <tr>\n",
              "      <th>15</th>\n",
              "      <td>nadam</td>\n",
              "      <td>elu</td>\n",
              "      <td>3</td>\n",
              "      <td>82.116246</td>\n",
              "      <td>83.755589</td>\n",
              "      <td>82.563341</td>\n",
              "      <td>87.332338</td>\n",
              "      <td>85.223883</td>\n",
              "      <td>84.198279</td>\n",
              "      <td>0.440011</td>\n",
              "      <td>0.402143</td>\n",
              "      <td>0.394288</td>\n",
              "      <td>0.355738</td>\n",
              "      <td>0.381207</td>\n",
              "      <td>0.394677</td>\n",
              "    </tr>\n",
              "    <tr>\n",
              "      <th>16</th>\n",
              "      <td>nadam</td>\n",
              "      <td>elu</td>\n",
              "      <td>4</td>\n",
              "      <td>83.457524</td>\n",
              "      <td>85.096872</td>\n",
              "      <td>86.289120</td>\n",
              "      <td>82.265276</td>\n",
              "      <td>82.089549</td>\n",
              "      <td>83.839668</td>\n",
              "      <td>0.371243</td>\n",
              "      <td>0.358816</td>\n",
              "      <td>0.349222</td>\n",
              "      <td>0.439630</td>\n",
              "      <td>0.430680</td>\n",
              "      <td>0.389918</td>\n",
              "    </tr>\n",
              "    <tr>\n",
              "      <th>17</th>\n",
              "      <td>nadam</td>\n",
              "      <td>elu</td>\n",
              "      <td>5</td>\n",
              "      <td>85.394931</td>\n",
              "      <td>84.351712</td>\n",
              "      <td>81.818181</td>\n",
              "      <td>85.692996</td>\n",
              "      <td>85.223883</td>\n",
              "      <td>84.496341</td>\n",
              "      <td>0.366954</td>\n",
              "      <td>0.374758</td>\n",
              "      <td>0.393896</td>\n",
              "      <td>0.388740</td>\n",
              "      <td>0.366682</td>\n",
              "      <td>0.378206</td>\n",
              "    </tr>\n",
              "    <tr>\n",
              "      <th>18</th>\n",
              "      <td>nadam</td>\n",
              "      <td>elu</td>\n",
              "      <td>6</td>\n",
              "      <td>85.991061</td>\n",
              "      <td>85.991061</td>\n",
              "      <td>84.798807</td>\n",
              "      <td>83.159465</td>\n",
              "      <td>84.477609</td>\n",
              "      <td>84.883600</td>\n",
              "      <td>0.357531</td>\n",
              "      <td>0.369050</td>\n",
              "      <td>0.387520</td>\n",
              "      <td>0.406987</td>\n",
              "      <td>0.355690</td>\n",
              "      <td>0.375355</td>\n",
              "    </tr>\n",
              "    <tr>\n",
              "      <th>19</th>\n",
              "      <td>nadam</td>\n",
              "      <td>elu</td>\n",
              "      <td>7</td>\n",
              "      <td>83.755589</td>\n",
              "      <td>84.202683</td>\n",
              "      <td>83.904618</td>\n",
              "      <td>85.991061</td>\n",
              "      <td>83.582091</td>\n",
              "      <td>84.287208</td>\n",
              "      <td>0.388363</td>\n",
              "      <td>0.358253</td>\n",
              "      <td>0.485390</td>\n",
              "      <td>0.390516</td>\n",
              "      <td>0.386495</td>\n",
              "      <td>0.401803</td>\n",
              "    </tr>\n",
              "    <tr>\n",
              "      <th>20</th>\n",
              "      <td>nadam</td>\n",
              "      <td>elu</td>\n",
              "      <td>8</td>\n",
              "      <td>83.159465</td>\n",
              "      <td>85.096872</td>\n",
              "      <td>87.928462</td>\n",
              "      <td>83.159465</td>\n",
              "      <td>82.089549</td>\n",
              "      <td>84.286762</td>\n",
              "      <td>0.387032</td>\n",
              "      <td>0.407134</td>\n",
              "      <td>0.314899</td>\n",
              "      <td>0.397572</td>\n",
              "      <td>0.421068</td>\n",
              "      <td>0.385541</td>\n",
              "    </tr>\n",
              "    <tr>\n",
              "      <th>21</th>\n",
              "      <td>nadam</td>\n",
              "      <td>selu</td>\n",
              "      <td>2</td>\n",
              "      <td>84.649777</td>\n",
              "      <td>84.798807</td>\n",
              "      <td>83.606559</td>\n",
              "      <td>84.202683</td>\n",
              "      <td>82.388061</td>\n",
              "      <td>83.929178</td>\n",
              "      <td>0.380846</td>\n",
              "      <td>0.400265</td>\n",
              "      <td>0.422450</td>\n",
              "      <td>0.410778</td>\n",
              "      <td>0.459136</td>\n",
              "      <td>0.414695</td>\n",
              "    </tr>\n",
              "    <tr>\n",
              "      <th>22</th>\n",
              "      <td>nadam</td>\n",
              "      <td>selu</td>\n",
              "      <td>3</td>\n",
              "      <td>84.202683</td>\n",
              "      <td>84.798807</td>\n",
              "      <td>83.308494</td>\n",
              "      <td>84.202683</td>\n",
              "      <td>82.686567</td>\n",
              "      <td>83.839847</td>\n",
              "      <td>0.376026</td>\n",
              "      <td>0.399881</td>\n",
              "      <td>0.388752</td>\n",
              "      <td>0.382515</td>\n",
              "      <td>0.418552</td>\n",
              "      <td>0.393145</td>\n",
              "    </tr>\n",
              "    <tr>\n",
              "      <th>23</th>\n",
              "      <td>nadam</td>\n",
              "      <td>selu</td>\n",
              "      <td>4</td>\n",
              "      <td>82.116246</td>\n",
              "      <td>83.159465</td>\n",
              "      <td>83.308494</td>\n",
              "      <td>84.053653</td>\n",
              "      <td>81.343281</td>\n",
              "      <td>82.796228</td>\n",
              "      <td>0.471374</td>\n",
              "      <td>0.436743</td>\n",
              "      <td>0.446402</td>\n",
              "      <td>0.425159</td>\n",
              "      <td>0.432278</td>\n",
              "      <td>0.442391</td>\n",
              "    </tr>\n",
              "    <tr>\n",
              "      <th>24</th>\n",
              "      <td>nadam</td>\n",
              "      <td>selu</td>\n",
              "      <td>5</td>\n",
              "      <td>83.606559</td>\n",
              "      <td>84.351712</td>\n",
              "      <td>83.606559</td>\n",
              "      <td>82.265276</td>\n",
              "      <td>78.805971</td>\n",
              "      <td>82.527215</td>\n",
              "      <td>0.361493</td>\n",
              "      <td>0.420586</td>\n",
              "      <td>0.419940</td>\n",
              "      <td>0.470846</td>\n",
              "      <td>0.447094</td>\n",
              "      <td>0.423992</td>\n",
              "    </tr>\n",
              "    <tr>\n",
              "      <th>25</th>\n",
              "      <td>nadam</td>\n",
              "      <td>selu</td>\n",
              "      <td>6</td>\n",
              "      <td>83.457524</td>\n",
              "      <td>87.183309</td>\n",
              "      <td>85.096872</td>\n",
              "      <td>76.005960</td>\n",
              "      <td>83.880597</td>\n",
              "      <td>83.124852</td>\n",
              "      <td>0.414434</td>\n",
              "      <td>0.397421</td>\n",
              "      <td>0.427121</td>\n",
              "      <td>0.510232</td>\n",
              "      <td>0.424950</td>\n",
              "      <td>0.434832</td>\n",
              "    </tr>\n",
              "    <tr>\n",
              "      <th>26</th>\n",
              "      <td>nadam</td>\n",
              "      <td>selu</td>\n",
              "      <td>7</td>\n",
              "      <td>85.543966</td>\n",
              "      <td>80.625933</td>\n",
              "      <td>83.606559</td>\n",
              "      <td>84.202683</td>\n",
              "      <td>79.552239</td>\n",
              "      <td>82.706276</td>\n",
              "      <td>0.320884</td>\n",
              "      <td>0.455037</td>\n",
              "      <td>0.407144</td>\n",
              "      <td>0.399996</td>\n",
              "      <td>0.431453</td>\n",
              "      <td>0.402903</td>\n",
              "    </tr>\n",
              "    <tr>\n",
              "      <th>27</th>\n",
              "      <td>nadam</td>\n",
              "      <td>selu</td>\n",
              "      <td>8</td>\n",
              "      <td>82.712370</td>\n",
              "      <td>81.669152</td>\n",
              "      <td>82.861400</td>\n",
              "      <td>83.904618</td>\n",
              "      <td>86.417907</td>\n",
              "      <td>83.513089</td>\n",
              "      <td>0.421808</td>\n",
              "      <td>0.462263</td>\n",
              "      <td>0.443096</td>\n",
              "      <td>0.425158</td>\n",
              "      <td>0.389475</td>\n",
              "      <td>0.428360</td>\n",
              "    </tr>\n",
              "    <tr>\n",
              "      <th>28</th>\n",
              "      <td>nadam</td>\n",
              "      <td>swish</td>\n",
              "      <td>2</td>\n",
              "      <td>82.712370</td>\n",
              "      <td>83.159465</td>\n",
              "      <td>82.414305</td>\n",
              "      <td>81.073028</td>\n",
              "      <td>82.089549</td>\n",
              "      <td>82.289743</td>\n",
              "      <td>0.508561</td>\n",
              "      <td>0.405957</td>\n",
              "      <td>0.440374</td>\n",
              "      <td>0.448764</td>\n",
              "      <td>0.480005</td>\n",
              "      <td>0.456732</td>\n",
              "    </tr>\n",
              "    <tr>\n",
              "      <th>29</th>\n",
              "      <td>nadam</td>\n",
              "      <td>swish</td>\n",
              "      <td>3</td>\n",
              "      <td>84.202683</td>\n",
              "      <td>83.904618</td>\n",
              "      <td>81.818181</td>\n",
              "      <td>80.625933</td>\n",
              "      <td>82.089549</td>\n",
              "      <td>82.528193</td>\n",
              "      <td>0.433879</td>\n",
              "      <td>0.416314</td>\n",
              "      <td>0.451566</td>\n",
              "      <td>0.486597</td>\n",
              "      <td>0.449399</td>\n",
              "      <td>0.447551</td>\n",
              "    </tr>\n",
              "    <tr>\n",
              "      <th>30</th>\n",
              "      <td>nadam</td>\n",
              "      <td>swish</td>\n",
              "      <td>4</td>\n",
              "      <td>83.308494</td>\n",
              "      <td>83.606559</td>\n",
              "      <td>84.351712</td>\n",
              "      <td>82.861400</td>\n",
              "      <td>80.895525</td>\n",
              "      <td>83.004738</td>\n",
              "      <td>0.445576</td>\n",
              "      <td>0.459847</td>\n",
              "      <td>0.396927</td>\n",
              "      <td>0.437208</td>\n",
              "      <td>0.439879</td>\n",
              "      <td>0.435887</td>\n",
              "    </tr>\n",
              "    <tr>\n",
              "      <th>31</th>\n",
              "      <td>nadam</td>\n",
              "      <td>swish</td>\n",
              "      <td>5</td>\n",
              "      <td>87.183309</td>\n",
              "      <td>83.159465</td>\n",
              "      <td>85.543966</td>\n",
              "      <td>83.159465</td>\n",
              "      <td>84.477609</td>\n",
              "      <td>84.704763</td>\n",
              "      <td>0.351776</td>\n",
              "      <td>0.421090</td>\n",
              "      <td>0.387909</td>\n",
              "      <td>0.412541</td>\n",
              "      <td>0.385166</td>\n",
              "      <td>0.391696</td>\n",
              "    </tr>\n",
              "    <tr>\n",
              "      <th>32</th>\n",
              "      <td>nadam</td>\n",
              "      <td>swish</td>\n",
              "      <td>6</td>\n",
              "      <td>79.731745</td>\n",
              "      <td>84.947836</td>\n",
              "      <td>84.798807</td>\n",
              "      <td>81.222057</td>\n",
              "      <td>85.223883</td>\n",
              "      <td>83.184866</td>\n",
              "      <td>0.452402</td>\n",
              "      <td>0.371122</td>\n",
              "      <td>0.407530</td>\n",
              "      <td>0.462427</td>\n",
              "      <td>0.362845</td>\n",
              "      <td>0.411265</td>\n",
              "    </tr>\n",
              "    <tr>\n",
              "      <th>33</th>\n",
              "      <td>nadam</td>\n",
              "      <td>swish</td>\n",
              "      <td>7</td>\n",
              "      <td>80.923992</td>\n",
              "      <td>85.543966</td>\n",
              "      <td>86.140090</td>\n",
              "      <td>82.712370</td>\n",
              "      <td>83.731341</td>\n",
              "      <td>83.810352</td>\n",
              "      <td>0.473128</td>\n",
              "      <td>0.364781</td>\n",
              "      <td>0.368817</td>\n",
              "      <td>0.438134</td>\n",
              "      <td>0.396137</td>\n",
              "      <td>0.408199</td>\n",
              "    </tr>\n",
              "    <tr>\n",
              "      <th>34</th>\n",
              "      <td>nadam</td>\n",
              "      <td>swish</td>\n",
              "      <td>8</td>\n",
              "      <td>84.649777</td>\n",
              "      <td>82.712370</td>\n",
              "      <td>82.712370</td>\n",
              "      <td>83.457524</td>\n",
              "      <td>83.731341</td>\n",
              "      <td>83.452677</td>\n",
              "      <td>0.432927</td>\n",
              "      <td>0.402460</td>\n",
              "      <td>0.404114</td>\n",
              "      <td>0.548945</td>\n",
              "      <td>0.448319</td>\n",
              "      <td>0.447353</td>\n",
              "    </tr>\n",
              "  </tbody>\n",
              "</table>\n",
              "</div>\n",
              "      <button class=\"colab-df-convert\" onclick=\"convertToInteractive('df-4f7f3279-d076-47e7-927e-67fd35c30d31')\"\n",
              "              title=\"Convert this dataframe to an interactive table.\"\n",
              "              style=\"display:none;\">\n",
              "        \n",
              "  <svg xmlns=\"http://www.w3.org/2000/svg\" height=\"24px\"viewBox=\"0 0 24 24\"\n",
              "       width=\"24px\">\n",
              "    <path d=\"M0 0h24v24H0V0z\" fill=\"none\"/>\n",
              "    <path d=\"M18.56 5.44l.94 2.06.94-2.06 2.06-.94-2.06-.94-.94-2.06-.94 2.06-2.06.94zm-11 1L8.5 8.5l.94-2.06 2.06-.94-2.06-.94L8.5 2.5l-.94 2.06-2.06.94zm10 10l.94 2.06.94-2.06 2.06-.94-2.06-.94-.94-2.06-.94 2.06-2.06.94z\"/><path d=\"M17.41 7.96l-1.37-1.37c-.4-.4-.92-.59-1.43-.59-.52 0-1.04.2-1.43.59L10.3 9.45l-7.72 7.72c-.78.78-.78 2.05 0 2.83L4 21.41c.39.39.9.59 1.41.59.51 0 1.02-.2 1.41-.59l7.78-7.78 2.81-2.81c.8-.78.8-2.07 0-2.86zM5.41 20L4 18.59l7.72-7.72 1.47 1.35L5.41 20z\"/>\n",
              "  </svg>\n",
              "      </button>\n",
              "      \n",
              "  <style>\n",
              "    .colab-df-container {\n",
              "      display:flex;\n",
              "      flex-wrap:wrap;\n",
              "      gap: 12px;\n",
              "    }\n",
              "\n",
              "    .colab-df-convert {\n",
              "      background-color: #E8F0FE;\n",
              "      border: none;\n",
              "      border-radius: 50%;\n",
              "      cursor: pointer;\n",
              "      display: none;\n",
              "      fill: #1967D2;\n",
              "      height: 32px;\n",
              "      padding: 0 0 0 0;\n",
              "      width: 32px;\n",
              "    }\n",
              "\n",
              "    .colab-df-convert:hover {\n",
              "      background-color: #E2EBFA;\n",
              "      box-shadow: 0px 1px 2px rgba(60, 64, 67, 0.3), 0px 1px 3px 1px rgba(60, 64, 67, 0.15);\n",
              "      fill: #174EA6;\n",
              "    }\n",
              "\n",
              "    [theme=dark] .colab-df-convert {\n",
              "      background-color: #3B4455;\n",
              "      fill: #D2E3FC;\n",
              "    }\n",
              "\n",
              "    [theme=dark] .colab-df-convert:hover {\n",
              "      background-color: #434B5C;\n",
              "      box-shadow: 0px 1px 3px 1px rgba(0, 0, 0, 0.15);\n",
              "      filter: drop-shadow(0px 1px 2px rgba(0, 0, 0, 0.3));\n",
              "      fill: #FFFFFF;\n",
              "    }\n",
              "  </style>\n",
              "\n",
              "      <script>\n",
              "        const buttonEl =\n",
              "          document.querySelector('#df-4f7f3279-d076-47e7-927e-67fd35c30d31 button.colab-df-convert');\n",
              "        buttonEl.style.display =\n",
              "          google.colab.kernel.accessAllowed ? 'block' : 'none';\n",
              "\n",
              "        async function convertToInteractive(key) {\n",
              "          const element = document.querySelector('#df-4f7f3279-d076-47e7-927e-67fd35c30d31');\n",
              "          const dataTable =\n",
              "            await google.colab.kernel.invokeFunction('convertToInteractive',\n",
              "                                                     [key], {});\n",
              "          if (!dataTable) return;\n",
              "\n",
              "          const docLinkHtml = 'Like what you see? Visit the ' +\n",
              "            '<a target=\"_blank\" href=https://colab.research.google.com/notebooks/data_table.ipynb>data table notebook</a>'\n",
              "            + ' to learn more about interactive tables.';\n",
              "          element.innerHTML = '';\n",
              "          dataTable['output_type'] = 'display_data';\n",
              "          await google.colab.output.renderOutput(dataTable, element);\n",
              "          const docLink = document.createElement('div');\n",
              "          docLink.innerHTML = docLinkHtml;\n",
              "          element.appendChild(docLink);\n",
              "        }\n",
              "      </script>\n",
              "    </div>\n",
              "  </div>\n",
              "  "
            ]
          },
          "metadata": {},
          "execution_count": 33
        },
        {
          "output_type": "stream",
          "name": "stdout",
          "text": [
            "time: 21.8 ms (started: 2022-12-11 18:04:36 +00:00)\n"
          ]
        }
      ],
      "source": [
        "record"
      ]
    },
    {
      "cell_type": "code",
      "execution_count": null,
      "metadata": {
        "id": "Pzx9bOkhbtzj",
        "colab": {
          "base_uri": "https://localhost:8080/",
          "height": 256
        },
        "outputId": "4ac6e077-38e3-48d8-84c9-07bf0e00b635"
      },
      "outputs": [
        {
          "output_type": "execute_result",
          "data": {
            "text/plain": [
              "               accAVG\n",
              "Activation           \n",
              "tanh        85.122451\n",
              "elu         84.883600\n",
              "swish       84.704763\n",
              "relu        84.466802\n",
              "selu        83.929178"
            ],
            "text/html": [
              "\n",
              "  <div id=\"df-2d8ee4bd-e5f4-4597-925d-8ebd7d177c87\">\n",
              "    <div class=\"colab-df-container\">\n",
              "      <div>\n",
              "<style scoped>\n",
              "    .dataframe tbody tr th:only-of-type {\n",
              "        vertical-align: middle;\n",
              "    }\n",
              "\n",
              "    .dataframe tbody tr th {\n",
              "        vertical-align: top;\n",
              "    }\n",
              "\n",
              "    .dataframe thead th {\n",
              "        text-align: right;\n",
              "    }\n",
              "</style>\n",
              "<table border=\"1\" class=\"dataframe\">\n",
              "  <thead>\n",
              "    <tr style=\"text-align: right;\">\n",
              "      <th></th>\n",
              "      <th>accAVG</th>\n",
              "    </tr>\n",
              "    <tr>\n",
              "      <th>Activation</th>\n",
              "      <th></th>\n",
              "    </tr>\n",
              "  </thead>\n",
              "  <tbody>\n",
              "    <tr>\n",
              "      <th>tanh</th>\n",
              "      <td>85.122451</td>\n",
              "    </tr>\n",
              "    <tr>\n",
              "      <th>elu</th>\n",
              "      <td>84.883600</td>\n",
              "    </tr>\n",
              "    <tr>\n",
              "      <th>swish</th>\n",
              "      <td>84.704763</td>\n",
              "    </tr>\n",
              "    <tr>\n",
              "      <th>relu</th>\n",
              "      <td>84.466802</td>\n",
              "    </tr>\n",
              "    <tr>\n",
              "      <th>selu</th>\n",
              "      <td>83.929178</td>\n",
              "    </tr>\n",
              "  </tbody>\n",
              "</table>\n",
              "</div>\n",
              "      <button class=\"colab-df-convert\" onclick=\"convertToInteractive('df-2d8ee4bd-e5f4-4597-925d-8ebd7d177c87')\"\n",
              "              title=\"Convert this dataframe to an interactive table.\"\n",
              "              style=\"display:none;\">\n",
              "        \n",
              "  <svg xmlns=\"http://www.w3.org/2000/svg\" height=\"24px\"viewBox=\"0 0 24 24\"\n",
              "       width=\"24px\">\n",
              "    <path d=\"M0 0h24v24H0V0z\" fill=\"none\"/>\n",
              "    <path d=\"M18.56 5.44l.94 2.06.94-2.06 2.06-.94-2.06-.94-.94-2.06-.94 2.06-2.06.94zm-11 1L8.5 8.5l.94-2.06 2.06-.94-2.06-.94L8.5 2.5l-.94 2.06-2.06.94zm10 10l.94 2.06.94-2.06 2.06-.94-2.06-.94-.94-2.06-.94 2.06-2.06.94z\"/><path d=\"M17.41 7.96l-1.37-1.37c-.4-.4-.92-.59-1.43-.59-.52 0-1.04.2-1.43.59L10.3 9.45l-7.72 7.72c-.78.78-.78 2.05 0 2.83L4 21.41c.39.39.9.59 1.41.59.51 0 1.02-.2 1.41-.59l7.78-7.78 2.81-2.81c.8-.78.8-2.07 0-2.86zM5.41 20L4 18.59l7.72-7.72 1.47 1.35L5.41 20z\"/>\n",
              "  </svg>\n",
              "      </button>\n",
              "      \n",
              "  <style>\n",
              "    .colab-df-container {\n",
              "      display:flex;\n",
              "      flex-wrap:wrap;\n",
              "      gap: 12px;\n",
              "    }\n",
              "\n",
              "    .colab-df-convert {\n",
              "      background-color: #E8F0FE;\n",
              "      border: none;\n",
              "      border-radius: 50%;\n",
              "      cursor: pointer;\n",
              "      display: none;\n",
              "      fill: #1967D2;\n",
              "      height: 32px;\n",
              "      padding: 0 0 0 0;\n",
              "      width: 32px;\n",
              "    }\n",
              "\n",
              "    .colab-df-convert:hover {\n",
              "      background-color: #E2EBFA;\n",
              "      box-shadow: 0px 1px 2px rgba(60, 64, 67, 0.3), 0px 1px 3px 1px rgba(60, 64, 67, 0.15);\n",
              "      fill: #174EA6;\n",
              "    }\n",
              "\n",
              "    [theme=dark] .colab-df-convert {\n",
              "      background-color: #3B4455;\n",
              "      fill: #D2E3FC;\n",
              "    }\n",
              "\n",
              "    [theme=dark] .colab-df-convert:hover {\n",
              "      background-color: #434B5C;\n",
              "      box-shadow: 0px 1px 3px 1px rgba(0, 0, 0, 0.15);\n",
              "      filter: drop-shadow(0px 1px 2px rgba(0, 0, 0, 0.3));\n",
              "      fill: #FFFFFF;\n",
              "    }\n",
              "  </style>\n",
              "\n",
              "      <script>\n",
              "        const buttonEl =\n",
              "          document.querySelector('#df-2d8ee4bd-e5f4-4597-925d-8ebd7d177c87 button.colab-df-convert');\n",
              "        buttonEl.style.display =\n",
              "          google.colab.kernel.accessAllowed ? 'block' : 'none';\n",
              "\n",
              "        async function convertToInteractive(key) {\n",
              "          const element = document.querySelector('#df-2d8ee4bd-e5f4-4597-925d-8ebd7d177c87');\n",
              "          const dataTable =\n",
              "            await google.colab.kernel.invokeFunction('convertToInteractive',\n",
              "                                                     [key], {});\n",
              "          if (!dataTable) return;\n",
              "\n",
              "          const docLinkHtml = 'Like what you see? Visit the ' +\n",
              "            '<a target=\"_blank\" href=https://colab.research.google.com/notebooks/data_table.ipynb>data table notebook</a>'\n",
              "            + ' to learn more about interactive tables.';\n",
              "          element.innerHTML = '';\n",
              "          dataTable['output_type'] = 'display_data';\n",
              "          await google.colab.output.renderOutput(dataTable, element);\n",
              "          const docLink = document.createElement('div');\n",
              "          docLink.innerHTML = docLinkHtml;\n",
              "          element.appendChild(docLink);\n",
              "        }\n",
              "      </script>\n",
              "    </div>\n",
              "  </div>\n",
              "  "
            ]
          },
          "metadata": {},
          "execution_count": 34
        },
        {
          "output_type": "stream",
          "name": "stdout",
          "text": [
            "time: 8.78 ms (started: 2022-12-11 18:04:36 +00:00)\n"
          ]
        }
      ],
      "source": [
        "record[['Activation', 'accAVG']].groupby(by='Activation').max().sort_values(by='accAVG', ascending=False)"
      ]
    },
    {
      "cell_type": "code",
      "source": [
        "record[['Activation', 'lossAVG']].groupby(by='Activation').min().sort_values(by='lossAVG', ascending=True)"
      ],
      "metadata": {
        "id": "UwQlmJ_IYgbV",
        "colab": {
          "base_uri": "https://localhost:8080/",
          "height": 256
        },
        "outputId": "eeccbcbf-51db-4e9e-f6a7-07a0217899ef"
      },
      "execution_count": null,
      "outputs": [
        {
          "output_type": "execute_result",
          "data": {
            "text/plain": [
              "             lossAVG\n",
              "Activation          \n",
              "relu        0.369447\n",
              "elu         0.375355\n",
              "tanh        0.376276\n",
              "swish       0.391696\n",
              "selu        0.393145"
            ],
            "text/html": [
              "\n",
              "  <div id=\"df-fb9f021d-ffb2-4f4a-878a-0a8cb095bf55\">\n",
              "    <div class=\"colab-df-container\">\n",
              "      <div>\n",
              "<style scoped>\n",
              "    .dataframe tbody tr th:only-of-type {\n",
              "        vertical-align: middle;\n",
              "    }\n",
              "\n",
              "    .dataframe tbody tr th {\n",
              "        vertical-align: top;\n",
              "    }\n",
              "\n",
              "    .dataframe thead th {\n",
              "        text-align: right;\n",
              "    }\n",
              "</style>\n",
              "<table border=\"1\" class=\"dataframe\">\n",
              "  <thead>\n",
              "    <tr style=\"text-align: right;\">\n",
              "      <th></th>\n",
              "      <th>lossAVG</th>\n",
              "    </tr>\n",
              "    <tr>\n",
              "      <th>Activation</th>\n",
              "      <th></th>\n",
              "    </tr>\n",
              "  </thead>\n",
              "  <tbody>\n",
              "    <tr>\n",
              "      <th>relu</th>\n",
              "      <td>0.369447</td>\n",
              "    </tr>\n",
              "    <tr>\n",
              "      <th>elu</th>\n",
              "      <td>0.375355</td>\n",
              "    </tr>\n",
              "    <tr>\n",
              "      <th>tanh</th>\n",
              "      <td>0.376276</td>\n",
              "    </tr>\n",
              "    <tr>\n",
              "      <th>swish</th>\n",
              "      <td>0.391696</td>\n",
              "    </tr>\n",
              "    <tr>\n",
              "      <th>selu</th>\n",
              "      <td>0.393145</td>\n",
              "    </tr>\n",
              "  </tbody>\n",
              "</table>\n",
              "</div>\n",
              "      <button class=\"colab-df-convert\" onclick=\"convertToInteractive('df-fb9f021d-ffb2-4f4a-878a-0a8cb095bf55')\"\n",
              "              title=\"Convert this dataframe to an interactive table.\"\n",
              "              style=\"display:none;\">\n",
              "        \n",
              "  <svg xmlns=\"http://www.w3.org/2000/svg\" height=\"24px\"viewBox=\"0 0 24 24\"\n",
              "       width=\"24px\">\n",
              "    <path d=\"M0 0h24v24H0V0z\" fill=\"none\"/>\n",
              "    <path d=\"M18.56 5.44l.94 2.06.94-2.06 2.06-.94-2.06-.94-.94-2.06-.94 2.06-2.06.94zm-11 1L8.5 8.5l.94-2.06 2.06-.94-2.06-.94L8.5 2.5l-.94 2.06-2.06.94zm10 10l.94 2.06.94-2.06 2.06-.94-2.06-.94-.94-2.06-.94 2.06-2.06.94z\"/><path d=\"M17.41 7.96l-1.37-1.37c-.4-.4-.92-.59-1.43-.59-.52 0-1.04.2-1.43.59L10.3 9.45l-7.72 7.72c-.78.78-.78 2.05 0 2.83L4 21.41c.39.39.9.59 1.41.59.51 0 1.02-.2 1.41-.59l7.78-7.78 2.81-2.81c.8-.78.8-2.07 0-2.86zM5.41 20L4 18.59l7.72-7.72 1.47 1.35L5.41 20z\"/>\n",
              "  </svg>\n",
              "      </button>\n",
              "      \n",
              "  <style>\n",
              "    .colab-df-container {\n",
              "      display:flex;\n",
              "      flex-wrap:wrap;\n",
              "      gap: 12px;\n",
              "    }\n",
              "\n",
              "    .colab-df-convert {\n",
              "      background-color: #E8F0FE;\n",
              "      border: none;\n",
              "      border-radius: 50%;\n",
              "      cursor: pointer;\n",
              "      display: none;\n",
              "      fill: #1967D2;\n",
              "      height: 32px;\n",
              "      padding: 0 0 0 0;\n",
              "      width: 32px;\n",
              "    }\n",
              "\n",
              "    .colab-df-convert:hover {\n",
              "      background-color: #E2EBFA;\n",
              "      box-shadow: 0px 1px 2px rgba(60, 64, 67, 0.3), 0px 1px 3px 1px rgba(60, 64, 67, 0.15);\n",
              "      fill: #174EA6;\n",
              "    }\n",
              "\n",
              "    [theme=dark] .colab-df-convert {\n",
              "      background-color: #3B4455;\n",
              "      fill: #D2E3FC;\n",
              "    }\n",
              "\n",
              "    [theme=dark] .colab-df-convert:hover {\n",
              "      background-color: #434B5C;\n",
              "      box-shadow: 0px 1px 3px 1px rgba(0, 0, 0, 0.15);\n",
              "      filter: drop-shadow(0px 1px 2px rgba(0, 0, 0, 0.3));\n",
              "      fill: #FFFFFF;\n",
              "    }\n",
              "  </style>\n",
              "\n",
              "      <script>\n",
              "        const buttonEl =\n",
              "          document.querySelector('#df-fb9f021d-ffb2-4f4a-878a-0a8cb095bf55 button.colab-df-convert');\n",
              "        buttonEl.style.display =\n",
              "          google.colab.kernel.accessAllowed ? 'block' : 'none';\n",
              "\n",
              "        async function convertToInteractive(key) {\n",
              "          const element = document.querySelector('#df-fb9f021d-ffb2-4f4a-878a-0a8cb095bf55');\n",
              "          const dataTable =\n",
              "            await google.colab.kernel.invokeFunction('convertToInteractive',\n",
              "                                                     [key], {});\n",
              "          if (!dataTable) return;\n",
              "\n",
              "          const docLinkHtml = 'Like what you see? Visit the ' +\n",
              "            '<a target=\"_blank\" href=https://colab.research.google.com/notebooks/data_table.ipynb>data table notebook</a>'\n",
              "            + ' to learn more about interactive tables.';\n",
              "          element.innerHTML = '';\n",
              "          dataTable['output_type'] = 'display_data';\n",
              "          await google.colab.output.renderOutput(dataTable, element);\n",
              "          const docLink = document.createElement('div');\n",
              "          docLink.innerHTML = docLinkHtml;\n",
              "          element.appendChild(docLink);\n",
              "        }\n",
              "      </script>\n",
              "    </div>\n",
              "  </div>\n",
              "  "
            ]
          },
          "metadata": {},
          "execution_count": 35
        },
        {
          "output_type": "stream",
          "name": "stdout",
          "text": [
            "time: 7.73 ms (started: 2022-12-11 18:04:36 +00:00)\n"
          ]
        }
      ]
    },
    {
      "cell_type": "code",
      "execution_count": null,
      "metadata": {
        "id": "wBE4fCoQdADY",
        "colab": {
          "base_uri": "https://localhost:8080/"
        },
        "outputId": "8e266abd-ca7f-46d0-849f-f1431bf60044"
      },
      "outputs": [
        {
          "output_type": "stream",
          "name": "stdout",
          "text": [
            "0, 8, 12, 19, 25, 36, 47, 59, 72, 73, 78, 80, 87, 90, 93, 102, 103, 104, 106, 112, 118, 124, 128, 132, 134\n",
            "time: 2.1 ms (started: 2022-12-11 18:04:36 +00:00)\n"
          ]
        }
      ],
      "source": [
        "max_recall_0 = [i[0] for i in recalls]\n",
        "max_recall_0_idx = [i for i in range(len(max_recall_0)) if max_recall_0[i] >= .8]\n",
        "print(*max_recall_0_idx, sep=', ')"
      ]
    },
    {
      "cell_type": "code",
      "execution_count": null,
      "metadata": {
        "id": "xUcPMqKag5uf",
        "colab": {
          "base_uri": "https://localhost:8080/"
        },
        "outputId": "29b35572-3884-4a2e-f600-c8d5e08f2f0c"
      },
      "outputs": [
        {
          "output_type": "stream",
          "name": "stdout",
          "text": [
            "[[25, 0.8136363636363636], [78, 0.8502202643171806], [90, 0.821917808219178], [102, 0.8529411764705882]]\n",
            "time: 1.25 ms (started: 2022-12-11 18:04:36 +00:00)\n"
          ]
        }
      ],
      "source": [
        "recall_filtered = [m for m in [[i, rec[1]] for i, rec in enumerate(recalls) if i in max_recall_0_idx] if m[1] >= .8]\n",
        "\n",
        "print(recall_filtered)"
      ]
    },
    {
      "cell_type": "code",
      "source": [
        "for i in range(len(recall_filtered)):\n",
        "  print(reports[recall_filtered[i][0]], '\\n\\n')"
      ],
      "metadata": {
        "id": "haKHcJ2P93de",
        "colab": {
          "base_uri": "https://localhost:8080/"
        },
        "outputId": "45044bdf-c3ff-48bf-afd0-45c308390104"
      },
      "execution_count": null,
      "outputs": [
        {
          "output_type": "stream",
          "name": "stdout",
          "text": [
            "                                                      precision    recall  f1-score   support\n",
            "\n",
            "                 Fabricated Content/Imposter Content       0.78      0.82      0.80       223\n",
            "Misleading Content/False Context/Manipulated Content       0.81      0.81      0.81       220\n",
            "                                               Valid       0.98      0.93      0.95       228\n",
            "\n",
            "                                            accuracy                           0.85       671\n",
            "                                           macro avg       0.86      0.85      0.85       671\n",
            "                                        weighted avg       0.86      0.85      0.86       671\n",
            " \n",
            "\n",
            "\n",
            "                                                      precision    recall  f1-score   support\n",
            "\n",
            "                 Fabricated Content/Imposter Content       0.85      0.83      0.84       215\n",
            "Misleading Content/False Context/Manipulated Content       0.82      0.85      0.83       227\n",
            "                                               Valid       0.96      0.93      0.94       229\n",
            "\n",
            "                                            accuracy                           0.87       671\n",
            "                                           macro avg       0.87      0.87      0.87       671\n",
            "                                        weighted avg       0.87      0.87      0.87       671\n",
            " \n",
            "\n",
            "\n",
            "                                                      precision    recall  f1-score   support\n",
            "\n",
            "                 Fabricated Content/Imposter Content       0.80      0.81      0.81       216\n",
            "Misleading Content/False Context/Manipulated Content       0.80      0.82      0.81       219\n",
            "                                               Valid       0.97      0.94      0.95       236\n",
            "\n",
            "                                            accuracy                           0.86       671\n",
            "                                           macro avg       0.86      0.86      0.86       671\n",
            "                                        weighted avg       0.86      0.86      0.86       671\n",
            " \n",
            "\n",
            "\n",
            "                                                      precision    recall  f1-score   support\n",
            "\n",
            "                 Fabricated Content/Imposter Content       0.87      0.83      0.85       242\n",
            "Misleading Content/False Context/Manipulated Content       0.78      0.85      0.82       204\n",
            "                                               Valid       0.98      0.96      0.97       225\n",
            "\n",
            "                                            accuracy                           0.88       671\n",
            "                                           macro avg       0.88      0.88      0.88       671\n",
            "                                        weighted avg       0.88      0.88      0.88       671\n",
            " \n",
            "\n",
            "\n",
            "time: 870 µs (started: 2022-12-11 18:04:36 +00:00)\n"
          ]
        }
      ]
    },
    {
      "cell_type": "code",
      "source": [
        "bests = [1, 3]\n",
        "selecteds = [recall_filtered[i][0] for i in bests]"
      ],
      "metadata": {
        "colab": {
          "base_uri": "https://localhost:8080/"
        },
        "id": "wD-NXQ_aO1uu",
        "outputId": "7d8f9583-cbb8-4362-c3dc-ceea602c147b"
      },
      "execution_count": null,
      "outputs": [
        {
          "output_type": "stream",
          "name": "stdout",
          "text": [
            "time: 796 µs (started: 2022-12-11 18:05:26 +00:00)\n"
          ]
        }
      ]
    },
    {
      "cell_type": "code",
      "source": [
        "def tokenize(text, cloud):\n",
        "  s = text.split()\n",
        "  return [cloud[s[i]] if s[i] in cloud else 1 for i in range(len(s))]\n",
        "\n",
        "def pad_sequence(seq):\n",
        "  return [0 if i < (max_len - len(seq)) else seq[i - (max_len - len(seq))] for i in range(max_len)]"
      ],
      "metadata": {
        "colab": {
          "base_uri": "https://localhost:8080/"
        },
        "id": "BwVwz7LDxyam",
        "outputId": "f214ce58-b779-45cc-f9c4-dc737f58cbdb"
      },
      "execution_count": null,
      "outputs": [
        {
          "output_type": "stream",
          "name": "stdout",
          "text": [
            "time: 958 µs (started: 2022-12-11 18:05:26 +00:00)\n"
          ]
        }
      ]
    },
    {
      "cell_type": "code",
      "source": [
        "results = []\n",
        "\n",
        "for j in selecteds:\n",
        "  predict_temp = []\n",
        "  false_temp = []\n",
        "  print(f'model-{j} predict')\n",
        "  for i in range(len(XVal)):\n",
        "    seq = tokenize(XVal[i], clouds[j])\n",
        "    padded = np.array([pad_sequence(seq)])\n",
        "    preds = models[j].predict(padded)\n",
        "    proba = preds[0].tolist()\n",
        "    classes = list(encoder.classes_)\n",
        "    prediction = classes[proba.index(max(preds[0]))]\n",
        "    if prediction == YVal[i]: predict_temp.append(True)\n",
        "    else: false_temp.append(classes.index(YVal[i]))\n",
        "\n",
        "  results.append(f'correct: {len(predict_temp)}/{len(XVal)}: {round(len(predict_temp)/len(XVal) * 100, 3)}%  -  false-i: {false_temp.count(0)}  -  false-m: {false_temp.count(1)}  -  false-v: {false_temp.count(2)}')"
      ],
      "metadata": {
        "id": "BhShuHzCxkIi"
      },
      "execution_count": null,
      "outputs": []
    },
    {
      "cell_type": "code",
      "source": [
        "for i in range(len(selecteds)):\n",
        "  print('model:', selecteds[i], f'\\n{results[i]}')"
      ],
      "metadata": {
        "colab": {
          "base_uri": "https://localhost:8080/"
        },
        "id": "hP2IqRgOv6zp",
        "outputId": "b1524272-fd8d-4f34-afce-2ccbdee803b1"
      },
      "execution_count": null,
      "outputs": [
        {
          "output_type": "stream",
          "name": "stdout",
          "text": [
            "model: 78 \n",
            "correct: 6029/7315: 82.42%  -  false-i: 77  -  false-m: 1068  -  false-v: 141\n",
            "model: 102 \n",
            "correct: 5159/7315: 70.526%  -  false-i: 188  -  false-m: 624  -  false-v: 1344\n",
            "time: 928 µs (started: 2022-12-11 18:18:39 +00:00)\n"
          ]
        }
      ]
    },
    {
      "cell_type": "code",
      "source": [
        "best = [78, 6029]\n",
        "define_confusion(metas[best[0]][2], metas[best[0]][1])\n",
        "print('\\n')\n",
        "define_plot('accuracy', metas[best[0]][3])\n",
        "print('\\n')\n",
        "define_plot('loss', metas[best[0]][3])\n",
        "print('\\n\\n')"
      ],
      "metadata": {
        "colab": {
          "base_uri": "https://localhost:8080/",
          "height": 1000
        },
        "id": "zArSwVYxdsEu",
        "outputId": "ec41ca5b-f4ec-4d98-d0f5-4194fe4dac40"
      },
      "execution_count": null,
      "outputs": [
        {
          "output_type": "display_data",
          "data": {
            "text/plain": [
              "<Figure size 936x720 with 2 Axes>"
            ],
            "image/png": "[encoded data removed]"
          },
          "metadata": {
            "needs_background": "light"
          }
        },
        {
          "output_type": "stream",
          "name": "stdout",
          "text": [
            "\n",
            "\n"
          ]
        },
        {
          "output_type": "display_data",
          "data": {
            "text/plain": [
              "<Figure size 1080x504 with 1 Axes>"
            ],
            "image/png": "[encoded data removed]"
          },
          "metadata": {
            "needs_background": "light"
          }
        },
        {
          "output_type": "stream",
          "name": "stdout",
          "text": [
            "\n",
            "\n"
          ]
        },
        {
          "output_type": "display_data",
          "data": {
            "text/plain": [
              "<Figure size 1080x504 with 1 Axes>"
            ],
            "image/png": "[encoded data removed]"
          },
          "metadata": {
            "needs_background": "light"
          }
        },
        {
          "output_type": "stream",
          "name": "stdout",
          "text": [
            "\n",
            "\n",
            "\n",
            "time: 646 ms (started: 2022-12-11 18:22:44 +00:00)\n"
          ]
        }
      ]
    },
    {
      "cell_type": "code",
      "source": [
        "record.to_excel('acc_loss_records.xlsx', index=False, encoding='utf-8')"
      ],
      "metadata": {
        "colab": {
          "base_uri": "https://localhost:8080/"
        },
        "id": "y9BfAXOlSCM9",
        "outputId": "bc382912-1323-4f69-be35-0de8d5a40cc4"
      },
      "execution_count": null,
      "outputs": [
        {
          "output_type": "stream",
          "name": "stdout",
          "text": [
            "time: 228 ms (started: 2022-12-11 18:22:45 +00:00)\n"
          ]
        }
      ]
    },
    {
      "cell_type": "code",
      "source": [
        "def cr_to_excel(report, index, score):\n",
        "    report_data = []\n",
        "    lines = report.split('\\n')\n",
        "    for line in (lines[2:5]+lines[7:9]):\n",
        "        row = {}\n",
        "        row_data = line.split()\n",
        "        row['class'] = ' '.join(row_data[0:-4])\n",
        "        row['precision'] = row_data[-4]\n",
        "        row['recall'] = row_data[-3]\n",
        "        row['f1_score'] = row_data[-2]\n",
        "        row['support'] = row_data[-1]\n",
        "        row['accuracy'] = round(record.iloc[math.ceil((index+0.5)/5) - 1][f'acc{(index%5) + 1}'], 2)\n",
        "        row['loss'] = round(record.iloc[math.ceil((index+0.5)/5) - 1][f'loss{(index%5) + 1}'], 4)\n",
        "        row['activation'] = record.iloc[math.ceil((index+0.5)/5) - 1]['Activation']\n",
        "        row['optimizer'] = record.iloc[math.ceil((index+0.5)/5) - 1]['Optimizer']\n",
        "        row['kernel'] = record.iloc[math.ceil((index+0.5)/5) - 1]['Filters']\n",
        "        row['test_score'] = round(((score-3354)/(7315-3354)*100), 2)\n",
        "        report_data.append(row)\n",
        "    dataframe = pd.DataFrame.from_dict(report_data)\n",
        "    dataframe.to_excel(f'classification_report-{index}.xlsx', index = False)\n",
        "\n",
        "cr_to_excel(reports[best[0]], best[0], best[1])"
      ],
      "metadata": {
        "colab": {
          "base_uri": "https://localhost:8080/"
        },
        "id": "jz0MV6wZiUq8",
        "outputId": "b87abb76-1472-4df3-9254-fb9d4e583804"
      },
      "execution_count": null,
      "outputs": [
        {
          "output_type": "stream",
          "name": "stdout",
          "text": [
            "time: 17.3 ms (started: 2022-12-11 18:22:45 +00:00)\n"
          ]
        }
      ]
    },
    {
      "cell_type": "code",
      "source": [
        "def clouds_to_json(index):\n",
        "  with open(f'word_dict-{index}.json' , 'w') as file:    \n",
        "    json.dump(clouds[index], file)\n",
        "\n",
        "clouds_to_json(best[0])"
      ],
      "metadata": {
        "colab": {
          "base_uri": "https://localhost:8080/"
        },
        "id": "hrR13HO1SyAH",
        "outputId": "67022204-6a1c-495d-9e53-0408c1f3831e"
      },
      "execution_count": null,
      "outputs": [
        {
          "output_type": "stream",
          "name": "stdout",
          "text": [
            "time: 15 ms (started: 2022-12-11 18:22:45 +00:00)\n"
          ]
        }
      ]
    },
    {
      "cell_type": "code",
      "source": [
        "def res_to_json(index):\n",
        "  with open(f'residu-{index}.json' , 'w') as file:    \n",
        "    json.dump({'valid': valid_selected[index], 'false': false_selected[index], 'imposter': imposter_selected[index]}, file)\n",
        "\n",
        "res_to_json(best[0])"
      ],
      "metadata": {
        "colab": {
          "base_uri": "https://localhost:8080/"
        },
        "id": "N5U-pd_aUv_u",
        "outputId": "7b346a73-2570-4db4-bcd5-cb30cd9609cb"
      },
      "execution_count": null,
      "outputs": [
        {
          "output_type": "stream",
          "name": "stdout",
          "text": [
            "time: 21 ms (started: 2022-12-11 18:22:45 +00:00)\n"
          ]
        }
      ]
    },
    {
      "cell_type": "code",
      "source": [
        "models[best[0]].save(f\"model-{best[0]}.h5\")"
      ],
      "metadata": {
        "colab": {
          "base_uri": "https://localhost:8080/"
        },
        "id": "AE-7_qKDTfZI",
        "outputId": "70a449cb-78f5-433c-ed20-0c4af9bacd7a"
      },
      "execution_count": null,
      "outputs": [
        {
          "output_type": "stream",
          "name": "stdout",
          "text": [
            "time: 131 ms (started: 2022-12-11 18:22:45 +00:00)\n"
          ]
        }
      ]
    },
    {
      "cell_type": "code",
      "source": [
        "files.download('acc_loss_records.xlsx')\n",
        "\n",
        "files.download(f'classification_report-{best[0]}.xlsx')\n",
        "files.download(f'word_dict-{best[0]}.json')\n",
        "files.download(f'residu-{best[0]}.json')\n",
        "files.download(f'model-{best[0]}.h5')"
      ],
      "metadata": {
        "id": "mnxFtY4lWGFC",
        "colab": {
          "base_uri": "https://localhost:8080/",
          "height": 53
        },
        "outputId": "b1e94c7e-d7d3-4b07-e660-e3c114ace3da"
      },
      "execution_count": null,
      "outputs": [
        {
          "output_type": "display_data",
          "data": {
            "text/plain": [
              "<IPython.core.display.Javascript object>"
            ],
            "application/javascript": [
              "\n",
              "    async function download(id, filename, size) {\n",
              "      if (!google.colab.kernel.accessAllowed) {\n",
              "        return;\n",
              "      }\n",
              "      const div = document.createElement('div');\n",
              "      const label = document.createElement('label');\n",
              "      label.textContent = `Downloading \"${filename}\": `;\n",
              "      div.appendChild(label);\n",
              "      const progress = document.createElement('progress');\n",
              "      progress.max = size;\n",
              "      div.appendChild(progress);\n",
              "      document.body.appendChild(div);\n",
              "\n",
              "      const buffers = [];\n",
              "      let downloaded = 0;\n",
              "\n",
              "      const channel = await google.colab.kernel.comms.open(id);\n",
              "      // Send a message to notify the kernel that we're ready.\n",
              "      channel.send({})\n",
              "\n",
              "      for await (const message of channel.messages) {\n",
              "        // Send a message to notify the kernel that we're ready.\n",
              "        channel.send({})\n",
              "        if (message.buffers) {\n",
              "          for (const buffer of message.buffers) {\n",
              "            buffers.push(buffer);\n",
              "            downloaded += buffer.byteLength;\n",
              "            progress.value = downloaded;\n",
              "          }\n",
              "        }\n",
              "      }\n",
              "      const blob = new Blob(buffers, {type: 'application/binary'});\n",
              "      const a = document.createElement('a');\n",
              "      a.href = window.URL.createObjectURL(blob);\n",
              "      a.download = filename;\n",
              "      div.appendChild(a);\n",
              "      a.click();\n",
              "      div.remove();\n",
              "    }\n",
              "  "
            ]
          },
          "metadata": {}
        },
        {
          "output_type": "display_data",
          "data": {
            "text/plain": [
              "<IPython.core.display.Javascript object>"
            ],
            "application/javascript": [
              "download(\"download_4d7c2183-d0dc-41ef-a172-f9468a5a824d\", \"acc_loss_records.xlsx\", 10194)"
            ]
          },
          "metadata": {}
        },
        {
          "output_type": "display_data",
          "data": {
            "text/plain": [
              "<IPython.core.display.Javascript object>"
            ],
            "application/javascript": [
              "\n",
              "    async function download(id, filename, size) {\n",
              "      if (!google.colab.kernel.accessAllowed) {\n",
              "        return;\n",
              "      }\n",
              "      const div = document.createElement('div');\n",
              "      const label = document.createElement('label');\n",
              "      label.textContent = `Downloading \"${filename}\": `;\n",
              "      div.appendChild(label);\n",
              "      const progress = document.createElement('progress');\n",
              "      progress.max = size;\n",
              "      div.appendChild(progress);\n",
              "      document.body.appendChild(div);\n",
              "\n",
              "      const buffers = [];\n",
              "      let downloaded = 0;\n",
              "\n",
              "      const channel = await google.colab.kernel.comms.open(id);\n",
              "      // Send a message to notify the kernel that we're ready.\n",
              "      channel.send({})\n",
              "\n",
              "      for await (const message of channel.messages) {\n",
              "        // Send a message to notify the kernel that we're ready.\n",
              "        channel.send({})\n",
              "        if (message.buffers) {\n",
              "          for (const buffer of message.buffers) {\n",
              "            buffers.push(buffer);\n",
              "            downloaded += buffer.byteLength;\n",
              "            progress.value = downloaded;\n",
              "          }\n",
              "        }\n",
              "      }\n",
              "      const blob = new Blob(buffers, {type: 'application/binary'});\n",
              "      const a = document.createElement('a');\n",
              "      a.href = window.URL.createObjectURL(blob);\n",
              "      a.download = filename;\n",
              "      div.appendChild(a);\n",
              "      a.click();\n",
              "      div.remove();\n",
              "    }\n",
              "  "
            ]
          },
          "metadata": {}
        },
        {
          "output_type": "display_data",
          "data": {
            "text/plain": [
              "<IPython.core.display.Javascript object>"
            ],
            "application/javascript": [
              "download(\"download_3feb99e7-f23f-4b93-8573-66ca66958424\", \"classification_report-78.xlsx\", 5350)"
            ]
          },
          "metadata": {}
        },
        {
          "output_type": "display_data",
          "data": {
            "text/plain": [
              "<IPython.core.display.Javascript object>"
            ],
            "application/javascript": [
              "\n",
              "    async function download(id, filename, size) {\n",
              "      if (!google.colab.kernel.accessAllowed) {\n",
              "        return;\n",
              "      }\n",
              "      const div = document.createElement('div');\n",
              "      const label = document.createElement('label');\n",
              "      label.textContent = `Downloading \"${filename}\": `;\n",
              "      div.appendChild(label);\n",
              "      const progress = document.createElement('progress');\n",
              "      progress.max = size;\n",
              "      div.appendChild(progress);\n",
              "      document.body.appendChild(div);\n",
              "\n",
              "      const buffers = [];\n",
              "      let downloaded = 0;\n",
              "\n",
              "      const channel = await google.colab.kernel.comms.open(id);\n",
              "      // Send a message to notify the kernel that we're ready.\n",
              "      channel.send({})\n",
              "\n",
              "      for await (const message of channel.messages) {\n",
              "        // Send a message to notify the kernel that we're ready.\n",
              "        channel.send({})\n",
              "        if (message.buffers) {\n",
              "          for (const buffer of message.buffers) {\n",
              "            buffers.push(buffer);\n",
              "            downloaded += buffer.byteLength;\n",
              "            progress.value = downloaded;\n",
              "          }\n",
              "        }\n",
              "      }\n",
              "      const blob = new Blob(buffers, {type: 'application/binary'});\n",
              "      const a = document.createElement('a');\n",
              "      a.href = window.URL.createObjectURL(blob);\n",
              "      a.download = filename;\n",
              "      div.appendChild(a);\n",
              "      a.click();\n",
              "      div.remove();\n",
              "    }\n",
              "  "
            ]
          },
          "metadata": {}
        },
        {
          "output_type": "display_data",
          "data": {
            "text/plain": [
              "<IPython.core.display.Javascript object>"
            ],
            "application/javascript": [
              "download(\"download_6667ac83-fd90-4bd2-b868-ff4182cfed28\", \"word_dict-78.json\", 206426)"
            ]
          },
          "metadata": {}
        },
        {
          "output_type": "display_data",
          "data": {
            "text/plain": [
              "<IPython.core.display.Javascript object>"
            ],
            "application/javascript": [
              "\n",
              "    async function download(id, filename, size) {\n",
              "      if (!google.colab.kernel.accessAllowed) {\n",
              "        return;\n",
              "      }\n",
              "      const div = document.createElement('div');\n",
              "      const label = document.createElement('label');\n",
              "      label.textContent = `Downloading \"${filename}\": `;\n",
              "      div.appendChild(label);\n",
              "      const progress = document.createElement('progress');\n",
              "      progress.max = size;\n",
              "      div.appendChild(progress);\n",
              "      document.body.appendChild(div);\n",
              "\n",
              "      const buffers = [];\n",
              "      let downloaded = 0;\n",
              "\n",
              "      const channel = await google.colab.kernel.comms.open(id);\n",
              "      // Send a message to notify the kernel that we're ready.\n",
              "      channel.send({})\n",
              "\n",
              "      for await (const message of channel.messages) {\n",
              "        // Send a message to notify the kernel that we're ready.\n",
              "        channel.send({})\n",
              "        if (message.buffers) {\n",
              "          for (const buffer of message.buffers) {\n",
              "            buffers.push(buffer);\n",
              "            downloaded += buffer.byteLength;\n",
              "            progress.value = downloaded;\n",
              "          }\n",
              "        }\n",
              "      }\n",
              "      const blob = new Blob(buffers, {type: 'application/binary'});\n",
              "      const a = document.createElement('a');\n",
              "      a.href = window.URL.createObjectURL(blob);\n",
              "      a.download = filename;\n",
              "      div.appendChild(a);\n",
              "      a.click();\n",
              "      div.remove();\n",
              "    }\n",
              "  "
            ]
          },
          "metadata": {}
        },
        {
          "output_type": "display_data",
          "data": {
            "text/plain": [
              "<IPython.core.display.Javascript object>"
            ],
            "application/javascript": [
              "download(\"download_d82bd34d-a2d8-42f6-9de9-3d680d8f843e\", \"residu-78.json\", 243608)"
            ]
          },
          "metadata": {}
        },
        {
          "output_type": "display_data",
          "data": {
            "text/plain": [
              "<IPython.core.display.Javascript object>"
            ],
            "application/javascript": [
              "\n",
              "    async function download(id, filename, size) {\n",
              "      if (!google.colab.kernel.accessAllowed) {\n",
              "        return;\n",
              "      }\n",
              "      const div = document.createElement('div');\n",
              "      const label = document.createElement('label');\n",
              "      label.textContent = `Downloading \"${filename}\": `;\n",
              "      div.appendChild(label);\n",
              "      const progress = document.createElement('progress');\n",
              "      progress.max = size;\n",
              "      div.appendChild(progress);\n",
              "      document.body.appendChild(div);\n",
              "\n",
              "      const buffers = [];\n",
              "      let downloaded = 0;\n",
              "\n",
              "      const channel = await google.colab.kernel.comms.open(id);\n",
              "      // Send a message to notify the kernel that we're ready.\n",
              "      channel.send({})\n",
              "\n",
              "      for await (const message of channel.messages) {\n",
              "        // Send a message to notify the kernel that we're ready.\n",
              "        channel.send({})\n",
              "        if (message.buffers) {\n",
              "          for (const buffer of message.buffers) {\n",
              "            buffers.push(buffer);\n",
              "            downloaded += buffer.byteLength;\n",
              "            progress.value = downloaded;\n",
              "          }\n",
              "        }\n",
              "      }\n",
              "      const blob = new Blob(buffers, {type: 'application/binary'});\n",
              "      const a = document.createElement('a');\n",
              "      a.href = window.URL.createObjectURL(blob);\n",
              "      a.download = filename;\n",
              "      div.appendChild(a);\n",
              "      a.click();\n",
              "      div.remove();\n",
              "    }\n",
              "  "
            ]
          },
          "metadata": {}
        },
        {
          "output_type": "display_data",
          "data": {
            "text/plain": [
              "<IPython.core.display.Javascript object>"
            ],
            "application/javascript": [
              "download(\"download_01accd63-8158-4e30-960f-eb8f506e54b5\", \"model-78.h5\", 46132328)"
            ]
          },
          "metadata": {}
        },
        {
          "output_type": "stream",
          "name": "stdout",
          "text": [
            "time: 21.4 ms (started: 2022-12-11 18:22:45 +00:00)\n"
          ]
        }
      ]
    }
  ]
}